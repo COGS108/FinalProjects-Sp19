{
 "cells": [
  {
   "cell_type": "markdown",
   "metadata": {},
   "source": [
    "# COGS 108 - Final Project "
   ]
  },
  {
   "cell_type": "markdown",
   "metadata": {},
   "source": [
    "# Overview"
   ]
  },
  {
   "cell_type": "markdown",
   "metadata": {},
   "source": [
    "Our project aims to investigate the relationship between different factors that relate to a state's wellbeing (such as GDP, insurance rates, and teen birth rates) and the state's suicide rate. We believe that low GDP and high teen prenancy rates will be associated with higher suicide rates. However, even if we find such associations, it will be hard to find a clear cause and effect. In order to futher tease apart the relationship between these factors, we will also run some multi-variable regression to see which factors have the most predictive power. "
   ]
  },
  {
   "cell_type": "markdown",
   "metadata": {},
   "source": [
    "# Names\n",
    "\n",
    "- Shane Nielsen\n",
    "- Stephen Cheung\n",
    "- Humza Ali\n",
    "- Ye Lin\n",
    "- Chufan Yang"
   ]
  },
  {
   "cell_type": "markdown",
   "metadata": {},
   "source": [
    "#### Group Members IDs\n",
    "\n",
    "- A14749485\n",
    "- A15692431\n",
    "- A11868836\n",
    "- A15349617\n",
    "- A14733456"
   ]
  },
  {
   "cell_type": "markdown",
   "metadata": {},
   "source": [
    "# Research Question"
   ]
  },
  {
   "cell_type": "markdown",
   "metadata": {},
   "source": [
    "Is there a relationship between teen birth rates, state GDP, and insurance rates of a state and suicide rates?"
   ]
  },
  {
   "cell_type": "markdown",
   "metadata": {},
   "source": [
    "## Background and Prior Work"
   ]
  },
  {
   "cell_type": "markdown",
   "metadata": {},
   "source": [
    "Our interest in this question stemmed from an awareness of the growing issue of mental health on college campuses. We were interested in studying something that would be relevant to us and our society at large. We came upon some data regarding suicide rates for countries, and initially wanted to compare country GDP to country suicide rates to see if there was a relationship. However, due to the lack of data that could be found. We eventually settled on comparing US states' suicide rates against the factors that have been listed above. \n",
    "\n",
    "We were only able to find studies that compared countries GDP and their suicide rates, but not any that compared states by their GDP and suicide rates (1). We found some studies that found a relationship between mental health care access and suicide rates, while others did not, (2) so it doesn't seem like there is a clear answer. However, we are still interested in seeing which variables have the biggest impact for our analysis. Overall, we are excited to see which factors will have the highest link to suicide rates, so we are using multivariable regression to see which factors might be confounding variables. \n",
    "\n",
    "We think this is important because it will help tease apart the different relationships between a variety of factors to see how they lead to an increase in suicide rates. Any way to further our understanding of the different factors at play, (causally linked or not) will help us deal with our current mental health care crisis. \n",
    "\n",
    "References (include links):\n",
    "- 1) https://bmjopen.bmj.com/content/2/3/e000785\n",
    "- 2) https://www.rand.org/research/gun-policy/analysis/essays/mental-health-access-and-suicide.html"
   ]
  },
  {
   "cell_type": "markdown",
   "metadata": {},
   "source": [
    "# Hypothesis\n"
   ]
  },
  {
   "cell_type": "markdown",
   "metadata": {},
   "source": [
    "Our hypothesis is that lower GDP, higher uninsured rates, and higher teen birth rates will be associated with higher suicide rates. "
   ]
  },
  {
   "cell_type": "markdown",
   "metadata": {},
   "source": [
    "# Dataset(s)"
   ]
  },
  {
   "cell_type": "markdown",
   "metadata": {},
   "source": [
    "- Dataset Name: GDP per capita in US states\n",
    "- Link to the dataset: https://www.kaggle.com/solorzano/gdp-per-capita-in-us-states/downloads/gdp-per-capita-in-us-states.zip/1\n",
    "- Number of observations: 60\n",
    "\n",
    "The Real GDP Per Capita in chained 2009 dollars per state for 2013 to 2017. Real GDP per capita is a measurement of the total economic output of a country divided by the number of people and adjusted for inflation. It's used to compare the standard of living between countries and over time.\n",
    "\n",
    "\n",
    "- Dataset Name: Suicide Mortality Rate per State for 2014-2016\n",
    "- Link to the dataset: https://www.cdc.gov/nchs/pressroom/sosmap/suicide-mortality/suicide_mortality.csv\n",
    "- Number of observations: 250 \n",
    "\n",
    "The number of suicide deaths per 100,000 total population per state. It is age adjusted for age-distribution and population size. It has data for 2005, 2014, 2015 and 2016 for US states excluding US territories.\n",
    "\n",
    "\n",
    "- Dataset Name: Uninsured Percentage Rate per State for 2014-2016\n",
    "- Link to the dataset: https://www.cdc.gov/nchs/pressroom/sosmap/nhis_insured/nhis_insured.csv\n",
    "- Number of observations: 250\n",
    "\n",
    "An estimated percentage of uninsured people per state for all ages. It has data for 2005, 2014, 2015 and 2016 for US states excluding US territories.\n",
    "\n",
    "- Dataset Name: Teen Birth Rate per State for 2014-2016\n",
    "- Link to the dataset: https://www.cdc.gov/nchs/pressroom/sosmap/teen-births/teen_births.csv\n",
    "- Number of observations: 250\n",
    "\n",
    "The number of live births per 1000 females aged 15-19 for US states excluding US territories. It has data for 2005, 2014, 2015 and 2016."
   ]
  },
  {
   "cell_type": "markdown",
   "metadata": {},
   "source": [
    "# Setup\n",
    "\n",
    "Importing libraries and importing data."
   ]
  },
  {
   "cell_type": "code",
   "execution_count": 1,
   "metadata": {},
   "outputs": [
    {
     "name": "stderr",
     "output_type": "stream",
     "text": [
      "/opt/conda/lib/python3.6/site-packages/statsmodels/compat/pandas.py:56: FutureWarning: The pandas.core.datetools module is deprecated and will be removed in a future version. Please use the pandas.tseries module instead.\n",
      "  from pandas.core import datetools\n"
     ]
    }
   ],
   "source": [
    "import pandas as pd\n",
    "import matplotlib.pyplot as plt\n",
    "import numpy as np\n",
    "\n",
    "import patsy\n",
    "import statsmodels.api as sm\n",
    "import scipy.stats as stats\n",
    "\n",
    "# https://www.kaggle.com/solorzano/gdp-per-capita-in-us-states\n",
    "# GDP per state\n",
    "\n",
    "df_gdp = pd.read_csv('bea-gdp-by-state.csv')\n",
    "\n",
    "df_gun_ownership = pd.read_csv('raw-thoughtco-guns-by-state.txt', sep='\\t')\n",
    "\n",
    "df_suicide_rates = pd.read_csv('suicide_mortality.csv')\n",
    "\n",
    "df_teen_births = pd.read_csv('teen_births.csv', sep=',')\n",
    "\n",
    "df_uninsured_rates = pd.read_csv('nhis_insured.csv', sep=',')\n"
   ]
  },
  {
   "cell_type": "markdown",
   "metadata": {},
   "source": [
    "# Data Cleaning"
   ]
  },
  {
   "cell_type": "markdown",
   "metadata": {},
   "source": [
    "For data cleaning our data does not have any identifiers listed by the Safe Harbor Method. We mainly need to combine all of our data and remove any unnecessary data.\n",
    "\n",
    "1. The bea-gdp-by-state.csv has states and extra regions in it's area column. We only want data concerning states only. I created a nullifyNonStateArea function which returns null if the string passed to it is not a state. By applying this function to the gdp dataframe, I can change all the data that we don't need to None. Then we can drop all those data.\n",
    "\n",
    "2. The suicide_mortality.csv, teen_births.csv and nhis_insured.csv had extra unnecessary columns such as URL and an Unnamed Column because of how the csv file had a trailing comma at the end of each line. We can just drop the columns.\n",
    "\n",
    "3. The nhis_insured.csv also has a missing row for wyoming 2016. We added a row to the dataframe with NaN uninsured rate, so the data lines up.\n",
    "\n",
    "4. Next we just have to rename columns to make them more descriptive and merge each dataframe by state and year. However, one problem was that the gdp dataframe columns and rows were reversed, so we had to use pd.melt to convert the year columns to rows.\n",
    "\n",
    "5. Another issue was that the gdp dataframe year column had a different datatype than the merged dataframe, so that had to be converted in order to merge them together.\n",
    "\n",
    "6. At the end, we decided to removed the state and year that have any NaN values because we cannot perform regressions on those values and we do not want to just set them to 0 because it may skew the predictory lines. Also during the merging of dataframes, District of Columbia was also removed because of not all data files included District of Columbia.\n"
   ]
  },
  {
   "cell_type": "code",
   "execution_count": 2,
   "metadata": {},
   "outputs": [],
   "source": [
    "def abbreviationToState(abbreviation):\n",
    "    states = {\n",
    "        'AK': 'Alaska',\n",
    "        'AL': 'Alabama',\n",
    "        'AR': 'Arkansas',\n",
    "        'AS': 'American Samoa',\n",
    "        'AZ': 'Arizona',\n",
    "        'CA': 'California',\n",
    "        'CO': 'Colorado',\n",
    "        'CT': 'Connecticut',\n",
    "        'DE': 'Delaware',\n",
    "        'FL': 'Florida',\n",
    "        'GA': 'Georgia',\n",
    "        'GU': 'Guam',\n",
    "        'HI': 'Hawaii',\n",
    "        'IA': 'Iowa',\n",
    "        'ID': 'Idaho',\n",
    "        'IL': 'Illinois',\n",
    "        'IN': 'Indiana',\n",
    "        'KS': 'Kansas',\n",
    "        'KY': 'Kentucky',\n",
    "        'LA': 'Louisiana',\n",
    "        'MA': 'Massachusetts',\n",
    "        'MD': 'Maryland',\n",
    "        'ME': 'Maine',\n",
    "        'MI': 'Michigan',\n",
    "        'MN': 'Minnesota',\n",
    "        'MO': 'Missouri',\n",
    "        'MP': 'Northern Mariana Islands',\n",
    "        'MS': 'Mississippi',\n",
    "        'MT': 'Montana',\n",
    "        'NA': 'National',\n",
    "        'NC': 'North Carolina',\n",
    "        'ND': 'North Dakota',\n",
    "        'NE': 'Nebraska',\n",
    "        'NH': 'New Hampshire',\n",
    "        'NJ': 'New Jersey',\n",
    "        'NM': 'New Mexico',\n",
    "        'NV': 'Nevada',\n",
    "        'NY': 'New York',\n",
    "        'OH': 'Ohio',\n",
    "        'OK': 'Oklahoma',\n",
    "        'OR': 'Oregon',\n",
    "        'PA': 'Pennsylvania',\n",
    "        'PR': 'Puerto Rico',\n",
    "        'RI': 'Rhode Island',\n",
    "        'SC': 'South Carolina',\n",
    "        'SD': 'South Dakota',\n",
    "        'TN': 'Tennessee',\n",
    "        'TX': 'Texas',\n",
    "        'UT': 'Utah',\n",
    "        'VA': 'Virginia',\n",
    "        'VI': 'Virgin Islands',\n",
    "        'VT': 'Vermont',\n",
    "        'WA': 'Washington',\n",
    "        'WI': 'Wisconsin',\n",
    "        'WV': 'West Virginia',\n",
    "        'WY': 'Wyoming'\n",
    "    }\n",
    "    \n",
    "    if abbreviation in states:\n",
    "        return states[abbreviation]\n",
    "    else:\n",
    "        return abbreviation\n",
    "\n",
    "def nullifyNonStateArea(area):\n",
    "    states = {\n",
    "        'Alabama': 'AL',\n",
    "        'Alaska': 'AK',\n",
    "        'Arizona': 'AZ',\n",
    "        'Arkansas': 'AR',\n",
    "        'California': 'CA',\n",
    "        'Colorado': 'CO',\n",
    "        'Connecticut': 'CT',\n",
    "        'Delaware': 'DE',\n",
    "        'Florida': 'FL',\n",
    "        'Georgia': 'GA',\n",
    "        'Hawaii': 'HI',\n",
    "        'Idaho': 'ID',\n",
    "        'Illinois': 'IL',\n",
    "        'Indiana': 'IN',\n",
    "        'Iowa': 'IA',\n",
    "        'Kansas': 'KS',\n",
    "        'Kentucky': 'KY',\n",
    "        'Louisiana': 'LA',\n",
    "        'Maine': 'ME',\n",
    "        'Maryland': 'MD',\n",
    "        'Massachusetts': 'MA',\n",
    "        'Michigan': 'MI',\n",
    "        'Minnesota': 'MN',\n",
    "        'Mississippi': 'MS',\n",
    "        'Missouri': 'MO',\n",
    "        'Montana': 'MT',\n",
    "        'Nebraska': 'NE',\n",
    "        'Nevada': 'NV',\n",
    "        'New Hampshire': 'NH',\n",
    "        'New Jersey': 'NJ',\n",
    "        'New Mexico': 'NM',\n",
    "        'New York': 'NY',\n",
    "        'North Carolina': 'NC',\n",
    "        'North Dakota': 'ND',\n",
    "        'Ohio': 'OH',\n",
    "        'Oklahoma': 'OK',\n",
    "        'Oregon': 'OR',\n",
    "        'Pennsylvania': 'PA',\n",
    "        'Rhode Island': 'RI',\n",
    "        'South Carolina': 'SC',\n",
    "        'South Dakota': 'SD',\n",
    "        'Tennessee': 'TN',\n",
    "        'Texas': 'TX',\n",
    "        'Utah': 'UT',\n",
    "        'Vermont': 'VT',\n",
    "        'Virginia': 'VA',\n",
    "        'Washington': 'WA',\n",
    "        'West Virginia': 'WV',\n",
    "        'Wisconsin': 'WI',\n",
    "        'Wyoming': 'WY',\n",
    "    }\n",
    "    \n",
    "    if area in states:\n",
    "        return area\n",
    "    else:\n",
    "        return None\n",
    "\n",
    "#Removing unneccesary data\n",
    "\n",
    "#removing Areas that are not states\n",
    "df_gdp[\"STATE_NAME\"]= df_gdp['Area'].apply(nullifyNonStateArea)\n",
    "df_gdp = df_gdp.dropna()\n",
    "df_gdp = df_gdp.drop(['Area'], axis=1)\n",
    "\n",
    "#removing District of Columbia, since we want to make it consistent among all data\n",
    "df_gun_ownership[\"STATE_NAME\"] = df_gun_ownership['State'].apply(nullifyNonStateArea)\n",
    "df_gun_ownership = df_gun_ownership.dropna()\n",
    "df_gun_ownership = df_gun_ownership.drop(['Rank', 'State'], axis=1)\n",
    "\n",
    "#removing URL and Unnamed Column\n",
    "df_teen_births = df_teen_births.drop(['URL', 'Unnamed: 4'], axis=1)\n",
    "df_uninsured_rates = df_uninsured_rates.drop(['URL', 'Unnamed: 4'], axis=1)\n",
    "df_suicide_rates = df_suicide_rates.drop(['URL'], axis=1)\n",
    "\n",
    "#The insured rate datasource is missing Wyoming, so adding a NaN Insured Rate\n",
    "df_uninsured_rates = df_uninsured_rates.append({\"YEAR\": 2016, \"STATE\": \"WY\"}, ignore_index = True)\n",
    "\n",
    "#Merging mulitple data sets together by STATE and YEAR\n",
    "df = pd.merge(df_uninsured_rates,\n",
    "              df_teen_births[['STATE', 'YEAR', 'RATE']],\n",
    "              on=['STATE', 'YEAR'])\n",
    "\n",
    "df = pd.merge(df,\n",
    "              df_suicide_rates[['STATE', 'YEAR', 'RATE']],\n",
    "              on=['STATE', 'YEAR'])\n",
    "\n",
    "#Renaming columns for easier description\n",
    "df = df.rename(index=str, columns={\"RATE_x\": \"UNINSURED_RATE\", \"RATE_y\": \"TEEN_BIRTH_RATE\", \"RATE\": \"SUICIDE_RATE\"})\n",
    "\n",
    "#Creating STATE_NAME Column by converting STATE Abbreviations\n",
    "df[\"STATE_NAME\"] = df[\"STATE\"].apply(abbreviationToState)\n",
    "\n",
    "#Converts columns to rows, for easier merging of datasets\n",
    "df_gdp = pd.melt(df_gdp, id_vars =['STATE_NAME'], value_vars =['2014', '2015', '2016'])\n",
    "\n",
    "#Renaming columns so easier description\n",
    "df_gdp = df_gdp.rename(index=str, columns={\"variable\": \"YEAR\", \"value\": \"GDP\"})\n",
    "\n",
    "#Need this because cannot merge on different types\n",
    "df_gdp['YEAR'] = df_gdp['YEAR'].astype(int)\n",
    "\n",
    "#Merging base dataframe and gdp dataframe by STATE and YEAR\n",
    "df = pd.merge(df,\n",
    "              df_gdp[['STATE_NAME', 'YEAR', 'GDP']],\n",
    "              on=['STATE_NAME', 'YEAR'])\n",
    "\n",
    "df = df.dropna(how='any')\n"
   ]
  },
  {
   "cell_type": "markdown",
   "metadata": {},
   "source": [
    "# Data Analysis & Results"
   ]
  },
  {
   "cell_type": "code",
   "execution_count": 3,
   "metadata": {},
   "outputs": [
    {
     "name": "stdout",
     "output_type": "stream",
     "text": [
      "                            OLS Regression Results                            \n",
      "==============================================================================\n",
      "Dep. Variable:           SUICIDE_RATE   R-squared:                       0.181\n",
      "Model:                            OLS   Adj. R-squared:                  0.175\n",
      "Method:                 Least Squares   F-statistic:                     31.64\n",
      "Date:                Wed, 12 Jun 2019   Prob (F-statistic):           9.44e-08\n",
      "Time:                        18:14:08   Log-Likelihood:                -397.93\n",
      "No. Observations:                 145   AIC:                             799.9\n",
      "Df Residuals:                     143   BIC:                             805.8\n",
      "Df Model:                           1                                         \n",
      "Covariance Type:            nonrobust                                         \n",
      "===================================================================================\n",
      "                      coef    std err          t      P>|t|      [0.025      0.975]\n",
      "-----------------------------------------------------------------------------------\n",
      "Intercept           9.9275      1.002      9.909      0.000       7.947      11.908\n",
      "TEEN_BIRTH_RATE     0.2364      0.042      5.625      0.000       0.153       0.319\n",
      "==============================================================================\n",
      "Omnibus:                       12.326   Durbin-Watson:                   2.374\n",
      "Prob(Omnibus):                  0.002   Jarque-Bera (JB):               13.320\n",
      "Skew:                           0.739   Prob(JB):                      0.00128\n",
      "Kurtosis:                       3.141   Cond. No.                         76.0\n",
      "==============================================================================\n",
      "\n",
      "Warnings:\n",
      "[1] Standard Errors assume that the covariance matrix of the errors is correctly specified.\n"
     ]
    },
    {
     "data": {
      "image/png": "[encoded data removed]",
      "text/plain": [
       "<Figure size 1080x720 with 1 Axes>"
      ]
     },
     "metadata": {
      "needs_background": "light"
     },
     "output_type": "display_data"
    }
   ],
   "source": [
    "#Get sucide rate and teen birth rate\n",
    "df_suicide = df['SUICIDE_RATE']\n",
    "df_teen = df['TEEN_BIRTH_RATE']\n",
    "\n",
    "#fit the single variable model using OLS regression\n",
    "(outcome_1,predictors_1) = patsy.dmatrices(\"SUICIDE_RATE ~ TEEN_BIRTH_RATE\",df)\n",
    "mod_1 = sm.OLS(outcome_1,predictors_1)\n",
    "res_1 = mod_1.fit()\n",
    "print(res_1.summary())\n",
    "\n",
    "#plot scatter plot for teen birth rate vs suicide rate\n",
    "fig, ax = plt.subplots(figsize=(15, 10))\n",
    "ax.scatter(df_teen, df_suicide, alpha=0.5, color='C0')\n",
    "\n",
    "#plot prediction line using the model\n",
    "x_pred = np.linspace(df_teen.min(), df_teen.max(), 50)\n",
    "x_pred2 = sm.add_constant(x_pred)\n",
    "y_pred = res_1.predict(x_pred2)\n",
    "ax.plot(x_pred, y_pred, '-', color='red', linewidth=2)\n",
    "\n",
    "plt.title('TEEN BIRTH RATE vs SUICIDE RATE')\n",
    "plt.ylabel('SUICIDE RATE')\n",
    "plt.xlabel('TEEN_BIRTH RATE')\n",
    "plt.legend();\n"
   ]
  },
  {
   "cell_type": "markdown",
   "metadata": {},
   "source": [
    "In our initial analysis, we ran a regression on the teen birth rate data. In our regression, the p value was below 0.05, so we reject the null hypothesis and we conclude that there is a significant correlation between teen birth rates and suicide. However, the R^2 value is low, so this indicates that teen birth rate is not a very strong predictor. This can also been visually by inspecting the graph above, where all of the points are spread out along the line, indicating a high level of variability. "
   ]
  },
  {
   "cell_type": "code",
   "execution_count": 4,
   "metadata": {},
   "outputs": [
    {
     "name": "stdout",
     "output_type": "stream",
     "text": [
      "                            OLS Regression Results                            \n",
      "==============================================================================\n",
      "Dep. Variable:           SUICIDE_RATE   R-squared:                       0.120\n",
      "Model:                            OLS   Adj. R-squared:                  0.113\n",
      "Method:                 Least Squares   F-statistic:                     19.43\n",
      "Date:                Wed, 12 Jun 2019   Prob (F-statistic):           2.04e-05\n",
      "Time:                        18:14:09   Log-Likelihood:                -403.19\n",
      "No. Observations:                 145   AIC:                             810.4\n",
      "Df Residuals:                     143   BIC:                             816.3\n",
      "Df Model:                           1                                         \n",
      "Covariance Type:            nonrobust                                         \n",
      "==================================================================================\n",
      "                     coef    std err          t      P>|t|      [0.025      0.975]\n",
      "----------------------------------------------------------------------------------\n",
      "Intercept         11.6911      0.877     13.333      0.000       9.958      13.424\n",
      "UNINSURED_RATE     0.3942      0.089      4.407      0.000       0.217       0.571\n",
      "==============================================================================\n",
      "Omnibus:                        4.382   Durbin-Watson:                   2.416\n",
      "Prob(Omnibus):                  0.112   Jarque-Bera (JB):                4.283\n",
      "Skew:                           0.420   Prob(JB):                        0.117\n",
      "Kurtosis:                       2.955   Cond. No.                         26.6\n",
      "==============================================================================\n",
      "\n",
      "Warnings:\n",
      "[1] Standard Errors assume that the covariance matrix of the errors is correctly specified.\n"
     ]
    },
    {
     "data": {
      "image/png": "[encoded data removed]",
      "text/plain": [
       "<Figure size 1080x720 with 1 Axes>"
      ]
     },
     "metadata": {
      "needs_background": "light"
     },
     "output_type": "display_data"
    }
   ],
   "source": [
    "#Get uninsured rate\n",
    "df_uninsured = df['UNINSURED_RATE']\n",
    "\n",
    "#fit the single variable model using OLS regression\n",
    "(outcome_2,predictors_2) = patsy.dmatrices(\"SUICIDE_RATE ~ UNINSURED_RATE\",df)\n",
    "mod_2 = sm.OLS(outcome_2,predictors_2)\n",
    "res_2 = mod_2.fit()\n",
    "print(res_2.summary())\n",
    "\n",
    "#plot scatter plot for uninsured rate vs suicide rate\n",
    "fig, ax = plt.subplots(figsize=(15, 10))\n",
    "ax.scatter(df_uninsured, df_suicide, alpha=0.5, color='C0')\n",
    "\n",
    "#plot prediction line using the model\n",
    "x_pred = np.linspace(df_uninsured.min(), df_uninsured.max(), 50)\n",
    "x_pred2 = sm.add_constant(x_pred)\n",
    "y_pred = res_2.predict(x_pred2)\n",
    "ax.plot(x_pred, y_pred, '-', color='red', linewidth=2)\n",
    "\n",
    "plt.title('UNINSURED RATE vs SUICIDE RATE')\n",
    "plt.ylabel('SUICIDE RATE')\n",
    "plt.xlabel('UNINSURED_RATE')\n",
    "plt.legend();\n"
   ]
  },
  {
   "cell_type": "markdown",
   "metadata": {},
   "source": [
    "In our next analysis, we ran a regression on the uninsured rate. In our regression, the p value was again below 0.05, so we reject the null hypothesis and we conclude that there is a  correlation between insurance rates and suicide. However, the R^2 value is low, so this indicates that the insured rate is a not a strong predictor either. "
   ]
  },
  {
   "cell_type": "code",
   "execution_count": 5,
   "metadata": {},
   "outputs": [
    {
     "name": "stdout",
     "output_type": "stream",
     "text": [
      "                            OLS Regression Results                            \n",
      "==============================================================================\n",
      "Dep. Variable:           SUICIDE_RATE   R-squared:                       0.126\n",
      "Model:                            OLS   Adj. R-squared:                  0.120\n",
      "Method:                 Least Squares   F-statistic:                     20.56\n",
      "Date:                Wed, 12 Jun 2019   Prob (F-statistic):           1.21e-05\n",
      "Time:                        18:14:10   Log-Likelihood:                -402.69\n",
      "No. Observations:                 145   AIC:                             809.4\n",
      "Df Residuals:                     143   BIC:                             815.3\n",
      "Df Model:                           1                                         \n",
      "Covariance Type:            nonrobust                                         \n",
      "==============================================================================\n",
      "                 coef    std err          t      P>|t|      [0.025      0.975]\n",
      "------------------------------------------------------------------------------\n",
      "Intercept     23.3685      1.814     12.883      0.000      19.783      26.954\n",
      "GDP           -0.0002   3.72e-05     -4.534      0.000      -0.000   -9.51e-05\n",
      "==============================================================================\n",
      "Omnibus:                       33.366   Durbin-Watson:                   2.290\n",
      "Prob(Omnibus):                  0.000   Jarque-Bera (JB):               51.385\n",
      "Skew:                           1.172   Prob(JB):                     6.95e-12\n",
      "Kurtosis:                       4.736   Cond. No.                     2.72e+05\n",
      "==============================================================================\n",
      "\n",
      "Warnings:\n",
      "[1] Standard Errors assume that the covariance matrix of the errors is correctly specified.\n",
      "[2] The condition number is large, 2.72e+05. This might indicate that there are\n",
      "strong multicollinearity or other numerical problems.\n"
     ]
    },
    {
     "data": {
      "image/png": "[encoded data removed]",
      "text/plain": [
       "<Figure size 1080x720 with 1 Axes>"
      ]
     },
     "metadata": {
      "needs_background": "light"
     },
     "output_type": "display_data"
    }
   ],
   "source": [
    "#Get GDP\n",
    "df_GDP = df['GDP']\n",
    "\n",
    "#fit the single variable model using OLS regression\n",
    "(outcome_3,predictors_3) = patsy.dmatrices(\"SUICIDE_RATE ~ GDP \",df)\n",
    "mod_3 = sm.OLS(outcome_3,predictors_3)\n",
    "res_3 = mod_3.fit()\n",
    "print(res_3.summary())\n",
    "\n",
    "#plot scatter plot for GDP vs suicide rate\n",
    "fig, ax = plt.subplots(figsize=(15, 10))\n",
    "ax.scatter(df_GDP, df_suicide, alpha=0.5, color='C0')\n",
    "\n",
    "#plot prediction line using the model\n",
    "x_pred = np.linspace(df_GDP.min(), df_GDP.max(), 50)\n",
    "x_pred2 = sm.add_constant(x_pred)\n",
    "y_pred = res_3.predict(x_pred2)\n",
    "ax.plot(x_pred, y_pred, '-', color='red', linewidth=2)\n",
    "\n",
    "plt.title('GDP vs SUICIDE RATE')\n",
    "plt.xlabel('SUICIDE RATE')\n",
    "plt.ylabel('GDP')\n",
    "plt.legend();"
   ]
  },
  {
   "cell_type": "markdown",
   "metadata": {},
   "source": [
    "In our final regression, we compared the suicide rates to the GDP for each state, and we found again that the p value was below .05, but the R^2 value is very low, so there is a correlation, but it should not be considered a strong predictor. "
   ]
  },
  {
   "cell_type": "code",
   "execution_count": 6,
   "metadata": {},
   "outputs": [
    {
     "name": "stdout",
     "output_type": "stream",
     "text": [
      "                            OLS Regression Results                            \n",
      "==============================================================================\n",
      "Dep. Variable:           SUICIDE_RATE   R-squared:                       0.216\n",
      "Model:                            OLS   Adj. R-squared:                  0.200\n",
      "Method:                 Least Squares   F-statistic:                     12.98\n",
      "Date:                Wed, 12 Jun 2019   Prob (F-statistic):           1.55e-07\n",
      "Time:                        18:14:10   Log-Likelihood:                -394.75\n",
      "No. Observations:                 145   AIC:                             797.5\n",
      "Df Residuals:                     141   BIC:                             809.4\n",
      "Df Model:                           3                                         \n",
      "Covariance Type:            nonrobust                                         \n",
      "===================================================================================\n",
      "                      coef    std err          t      P>|t|      [0.025      0.975]\n",
      "-----------------------------------------------------------------------------------\n",
      "Intercept          14.9086      2.742      5.438      0.000       9.489      20.329\n",
      "TEEN_BIRTH_RATE     0.1414      0.058      2.448      0.016       0.027       0.256\n",
      "UNINSURED_RATE      0.1441      0.108      1.330      0.186      -0.070       0.358\n",
      "GDP             -8.629e-05   4.13e-05     -2.092      0.038      -0.000   -4.73e-06\n",
      "==============================================================================\n",
      "Omnibus:                       16.045   Durbin-Watson:                   2.365\n",
      "Prob(Omnibus):                  0.000   Jarque-Bera (JB):               17.775\n",
      "Skew:                           0.812   Prob(JB):                     0.000138\n",
      "Kurtosis:                       3.555   Cond. No.                     4.31e+05\n",
      "==============================================================================\n",
      "\n",
      "Warnings:\n",
      "[1] Standard Errors assume that the covariance matrix of the errors is correctly specified.\n",
      "[2] The condition number is large, 4.31e+05. This might indicate that there are\n",
      "strong multicollinearity or other numerical problems.\n"
     ]
    }
   ],
   "source": [
    "#fit the multi variable model using OLS regression\n",
    "(outcome_4,predictors_4) = patsy.dmatrices(\"SUICIDE_RATE ~ TEEN_BIRTH_RATE \\\n",
    "                                           + UNINSURED_RATE + GDP \",df)\n",
    "mod_4 = sm.OLS(outcome_4,predictors_4)\n",
    "res_4 = mod_4.fit()\n",
    "print(res_4.summary())"
   ]
  },
  {
   "cell_type": "markdown",
   "metadata": {},
   "source": [
    "\n",
    "In our multivariate regression, we can understand why the R^2 value was so low for each individual factor. Here we have different p values for each one, with low ones for teen birth rate and GDP, which indicates that those two variables both have a relationship to the overall suicide rate. GDP has a negative coefficient, which means that the lower the GDP is, the higher the suicide rate is, which indicates that poor states actually have higher suicide rates, which is what we predicted. The teen birth rate and uninsured rate has positive influence on the overall suicide rate, which indicates that they are positive correlated with high suicide rates, althought the effect is not too strong. Overall, we can conclude that GDP is the strongest factor out of the ones that we analyzed, followed by teen birth rate, and then in last place is the uninsured rate.\n"
   ]
  },
  {
   "cell_type": "markdown",
   "metadata": {},
   "source": [
    "# Ethics & Privacy"
   ]
  },
  {
   "cell_type": "markdown",
   "metadata": {},
   "source": [
    "There are a variety of ethical and privacy issues that surround our topic of choice. The first glaring issue is that suicide rates have varying levels of accuracy, as some suicides are not reported as suicides, while other cases might involve what seems like suicide but it could be due to some other issue. Different states have different guidelines regarding what is considered \"suicide\", so directly comparing data from different states could be comparing vastly different statistics and the results might not be very accurate. Also, some populations, like illegal immigrants or marginalized individuals in society might not always report suicides to the government or other institutions, so their data might not be included in our data set.\n",
    "\n",
    "Regarding permissions, the suicide data was released by different state governments and compiled by a team on kaggle, so it seems to be safe to use.\n",
    "\n",
    "An interesting ethical issue regarding suicide rate data is that none of the individuals were able to consent to their data being released, as suicide data is captured by governmental organizations after someone already commits suicide. In this case there is no way to get their consent, as they have already passed away. Luckily, our data does not have any personally identifiable information, other than state and year of death, so it would be hard to use the data to figure out who the individuals in the data really are.\n",
    "\n",
    "Another ethical issue is that the results of our data could be spuriously used to imply casusation between factors that might not be accurate. Someone nefarious could use the results of our work to push certain policies or agendas of their own. This would be very unfortunate. Any relationships we find between different variables and suicide rates does not imply any sort of direct casual link between the two factors, but in our modern day news cycle, length studies and analysis of data are boiled down to a few key sentences that are then spread as talking points for the entire news media. Any confounding variable that we did not factor into our analysis could cause fake relationships to show up.\n",
    "\n",
    "Another issue that arises when studying suicide is that \"certain types of news coverage can increase the liklihood of suicide in vulnerable individuals\" (https://www.nami.org/Blogs/NAMI-Blog/June-2018/Why-Suicide-Reporting-Guidelines-Matter). This means that the simple reporting of the results of our data could lead to people committing suicide, if the media reports are not careful in what they say.\n",
    "\n",
    "For most of these issues, we do not have a clear cut solution. The issues with suicide data are not things we can easily overcome with our resources, so the best we can do is be very cautious in our analysis and not allow any random correlation convince us that there is a clear cut relationship between the two factors."
   ]
  },
  {
   "cell_type": "markdown",
   "metadata": {},
   "source": [
    "# Conclusion & Discussion"
   ]
  },
  {
   "cell_type": "markdown",
   "metadata": {},
   "source": [
    "Our project investigated how suicide rates relate to the residents' well-being of each state, in order to figure out what factors cause higher suicide rate of a state. The factors that we are studying are teen birth rates, state GDP, and insurance rates of each state in the US. We believe that lower GDP, higher uninsured rates, and higher teen birth rates will be associated with higher suicide rates. According to our result and analysis, it shows the same as what we expected, and we also concluded that GDP is the strongest factor out of the ones that we analyzed, followed by teen birth rate, and in last place is uninsured rate.\n",
    "\n",
    "In conclusion, GDP seems to have the most significant effect on suicide rates. However, we think that our analysis should examine more factors in order to get a bigger picture understanding of all of the different forces at play when it comes to a state's suicide rate. As the number of factors increases, the power of our multivariable regression to tease apart the different factors will increase, so we can get a better model that takes into account all of the complicated forces in our modern day world. In our limited analysis, we were able to compare the influences of a few different factors, but we hope to follow this up with a larger scale study someday. Our current results do not mean that much, as we outlined in the ethics and privacy section all of the pitfalls associated with our current approach. "
   ]
  },
  {
   "cell_type": "code",
   "execution_count": null,
   "metadata": {},
   "outputs": [],
   "source": []
  }
 ],
 "metadata": {
  "kernelspec": {
   "display_name": "Python 3",
   "language": "python",
   "name": "python3"
  },
  "language_info": {
   "codemirror_mode": {
    "name": "ipython",
    "version": 3
   },
   "file_extension": ".py",
   "mimetype": "text/x-python",
   "name": "python",
   "nbconvert_exporter": "python",
   "pygments_lexer": "ipython3",
   "version": "3.6.7"
  }
 },
 "nbformat": 4,
 "nbformat_minor": 2
}
