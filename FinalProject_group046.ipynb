{
 "cells": [
  {
   "cell_type": "markdown",
   "metadata": {
    "colab_type": "text",
    "id": "2WdpPLpIa_4X"
   },
   "source": [
    "# COGS 108 - YouTube 'How To & Style' Analysis"
   ]
  },
  {
   "cell_type": "markdown",
   "metadata": {
    "colab_type": "text",
    "id": "tIfGncZKboNb"
   },
   "source": [
    "# Overview - Group #46\n",
    "\n",
    "For our project, we decided to explore four different areas revolving around the \"How To & Style\" category for YouTube videos. In these four different areas, we explored four properties of a video and tried to answer our research question. We explored the the quantity of tags used, popular tags used, title sentiment, and upload date of each trending YouTube videos.\n",
    "\n",
    "These four different sections are named as \n",
    "1.   Quantity of Tags vs Views\n",
    "2.   Usage of Popular Tags vs Views\n",
    "3.   Title Sentiment vs Views\n",
    "4.   Upload Date vs Time to Trending \n",
    "\n"
   ]
  },
  {
   "cell_type": "markdown",
   "metadata": {
    "colab_type": "text",
    "id": "pjdzQ0xOfMX1"
   },
   "source": [
    "# Names and IDs\n",
    "\n",
    "## Names\n",
    "* Dat Nguyen \n",
    "\n",
    "* Tianheng Ma \n",
    "\n",
    "* Justin Nguyen \n",
    "\n",
    "* Kasidech Tantipanichaphan \n",
    "\n",
    "* Samuel Lim \n"
   ]
  },
  {
   "cell_type": "markdown",
   "metadata": {
    "colab_type": "text",
    "id": "-K2V4LxFgNAx"
   },
   "source": [
    "# Research Question\n",
    "\n",
    "- What combination of number of tags, usage of popular tags, method of phrasing titles, and upload dates should How-to and Style content creators employ to maximize views and minimize time to reach trending?\n",
    "\n",
    "## Sub Research Questions\n",
    "1.   Quantity of Tags vs Views: How does the quantity of tags used in a video affect its number of views?\n",
    "2.   Usage of Popular Tags vs Views: How does the usage  of popular tags used in a trending video affect its number of views?\n",
    "3.   Title Sentiment vs Views: How does the title sentiment of a video affect its number of views?\n",
    "4.   Upload Date vs Time to Trending: How does the upload date of a video affect its time to be on trending? \n"
   ]
  },
  {
   "cell_type": "markdown",
   "metadata": {
    "colab_type": "text",
    "id": "h5V_ZuuJugJ4"
   },
   "source": [
    "# Background and Prior Work\n",
    "* Where did we find the dataset\n",
    " * We found the dataset off of Kaggle, we were perusing through their already published datasets.\n",
    " \n",
    "* Why do we choose to use YouTube datasets\n",
    " * We chose to use YouTube datasets because everyone today uses YouTube. For those that want to delve into the world of content creation, specifically into How-to and Style content, making great content that balance revenue and growth would be of paramount priority. \n",
    " * There’s a lot of data to use.\n",
    " \n",
    "* Why did we choose to use How To & Style category \n",
    " * There were many factors that we put into selecting this category. As we were sifting through the many categories with many observations in our dataset(1000+), we found that a lot of them were just uninteresting (News and Politics) or required a certain amount of prestige (Entertainment, in the case of it being filled with movie trailers). Therefore, we narrowed it down into How To & Style because it revolved around the creativity of the content creator (what kind of nifty tools they could make out of household products, etc). As such, this category would require certain levels of creativity and skill to thrive, but will clickbait offset this?\n",
    " \n",
    "* What we currently know about the topic\n",
    " * We don't really know much, other than recreational use of YouTube. We aren't content creators nor exposed to this type of content.\n",
    " \n",
    "## Previous Work (include links):\n",
    "1) https://www.kaggle.com/donyoe/exploring-youtube-trending-statistics-eda/report\n",
    " * Observed a high correlation between views and likes\n",
    " * Made word clouds of titles and tags of youtube videos. Found that titles and tags related to “music”, “new”, “iphone”, and “episode” showed up consistently in popular videos\n",
    " * Includes visualizations to depict trends in: views vs likes, likes vs comments, analysis of sentimentality in video descriptions. Notices positive correlations between views, likes, and comments. Sentimentality in descriptions tends to be positive in majority\n",
    " \n",
    "2) https://towardsdatascience.com/strategies-to-be-a-successful-youtuber-extensive-youtube-exploratory-analysis-part-2-2-6862cd4f40be\n",
    " * Observed how to be a successful youtuber. Found out that making models per topic would be better. \n"
   ]
  },
  {
   "cell_type": "markdown",
   "metadata": {
    "colab_type": "text",
    "id": "PEqfuhk-vNKG"
   },
   "source": [
    "# Hypothesis\n",
    "* Hypothesis: Titles that have positive sentiment will induce more interaction, thus yielding more views. Additionally, videos that are uploaded in the weekends are faster to reach trending. Furthermore, we hypothesize that the more number of tags there are and more popular tags are used, the more views as well.\n",
    "\n",
    "\n",
    "## Reasons:\n",
    "For titles that have positive sentiment, we believe that titles with more amicable words will tend to have more views (so as to not give off a negative connotation before the viewer even views the video). To us, this makes sense because videos with negative sentiment are generally looked down upon.\n",
    "\n",
    "For videos that are uploaded in the weekends, people tend to have more free time, thus more people are going to watch them so they will reach trending quicker.\n",
    "\n",
    "For videos that have more tags labelled, we believe they will be recommended to more viewers, thus they will get more views.\n",
    "\n",
    "For popular tags used, we believe that under the How-to and Style section, a lot of makeup gurus tend to publish their videos under this category. With that style of video being the most popular, we expect a great number of videos to represent that tag. Additionally, food creation videos (recipe videos) are also very popular. Thus, food tags, in a similar fashion to make up tags, will be highly represented."
   ]
  },
  {
   "cell_type": "markdown",
   "metadata": {
    "colab_type": "text",
    "id": "h5X3sV-tvRZs"
   },
   "source": [
    "# Dataset(s)\n",
    "\n",
    "* Dataset Name: Trending Youtube Video Statistics\n",
    "* Variables Included : Tags, Publish Date, Trending Date, Views, Titles\n",
    "* Link to the dataset: https://www.kaggle.com/datasnaek/youtube-new/version/114\n",
    "* Number of observations: 4,000 (specific to the How-to & Style category)\n"
   ]
  },
  {
   "cell_type": "markdown",
   "metadata": {
    "colab_type": "text",
    "id": "GLRs-zGZG0AA"
   },
   "source": [
    "# Setup"
   ]
  },
  {
   "cell_type": "markdown",
   "metadata": {
    "colab_type": "text",
    "id": "tYc-qlkXasZH"
   },
   "source": [
    "These are the step for general set-up across all of the analyses we have done. It allows for use of our general dataset, in addition to using np/pd/matplotlib."
   ]
  },
  {
   "cell_type": "code",
   "execution_count": 1,
   "metadata": {
    "colab": {},
    "colab_type": "code",
    "id": "Xg-V3NnHG1jM"
   },
   "outputs": [],
   "source": [
    "import numpy as np\n",
    "import matplotlib.pyplot as plt\n",
    "import pandas as pd"
   ]
  },
  {
   "cell_type": "markdown",
   "metadata": {
    "colab_type": "text",
    "id": "j2nqomNR6u0q"
   },
   "source": [
    "**We have 4 different sections throughout this notebook. Each section pertains to a different topic that we worked on. For that reason, we have 4 different set-ups, 4 different data cleaning sections, and 4 different data analysis sections. **"
   ]
  },
  {
   "cell_type": "markdown",
   "metadata": {
    "colab_type": "text",
    "id": "3m1AJVmbbWqp"
   },
   "source": [
    "### Create a General Dataframe Called \"youtube\"\n",
    "\n",
    "We will only keep the columns 'title', 'tags', 'views', 'trending_date', and 'publish_time'. We also drop any rows with null values.\n",
    "\n",
    "Note : We clean the data here because the other set-ups rely on 'youtube'"
   ]
  },
  {
   "cell_type": "code",
   "execution_count": 2,
   "metadata": {
    "colab": {
     "base_uri": "https://localhost:8080/",
     "height": 195
    },
    "colab_type": "code",
    "id": "u3w9O1AH_XZ_",
    "outputId": "cc9ce636-d94d-4a70-c717-e2322ffcaebe"
   },
   "outputs": [
    {
     "data": {
      "text/html": [
       "<div>\n",
       "<style scoped>\n",
       "    .dataframe tbody tr th:only-of-type {\n",
       "        vertical-align: middle;\n",
       "    }\n",
       "\n",
       "    .dataframe tbody tr th {\n",
       "        vertical-align: top;\n",
       "    }\n",
       "\n",
       "    .dataframe thead th {\n",
       "        text-align: right;\n",
       "    }\n",
       "</style>\n",
       "<table border=\"1\" class=\"dataframe\">\n",
       "  <thead>\n",
       "    <tr style=\"text-align: right;\">\n",
       "      <th></th>\n",
       "      <th>title</th>\n",
       "      <th>tags</th>\n",
       "      <th>views</th>\n",
       "      <th>trending_date</th>\n",
       "      <th>publish_time</th>\n",
       "    </tr>\n",
       "  </thead>\n",
       "  <tbody>\n",
       "    <tr>\n",
       "      <th>0</th>\n",
       "      <td>What $4,800 Will Get You In NYC | Sweet Digs H...</td>\n",
       "      <td>refinery29|\"refinery 29\"|\"r29\"|\"r29 video\"|\"vi...</td>\n",
       "      <td>145921</td>\n",
       "      <td>17.14.11</td>\n",
       "      <td>2017-11-12T16:00:01.000Z</td>\n",
       "    </tr>\n",
       "    <tr>\n",
       "      <th>1</th>\n",
       "      <td>A Smart... MUG?! - Take apart a Heated Thermos!</td>\n",
       "      <td>Smart mug|\"Heated thermos\"|\"tech\"|\"gift idea\"|...</td>\n",
       "      <td>120727</td>\n",
       "      <td>17.14.11</td>\n",
       "      <td>2017-11-13T16:00:03.000Z</td>\n",
       "    </tr>\n",
       "    <tr>\n",
       "      <th>2</th>\n",
       "      <td>iPhone X vs Makeup Transformation (Face ID TEST)</td>\n",
       "      <td>iphone x|\"iphonex makeup\"|\"iphonex test\"|\"new ...</td>\n",
       "      <td>1456472</td>\n",
       "      <td>17.14.11</td>\n",
       "      <td>2017-11-12T00:45:54.000Z</td>\n",
       "    </tr>\n",
       "    <tr>\n",
       "      <th>3</th>\n",
       "      <td>John Lewis Christmas Ad 2017 - #MozTheMonster</td>\n",
       "      <td>christmas|\"john lewis christmas\"|\"john lewis\"|...</td>\n",
       "      <td>7224515</td>\n",
       "      <td>17.14.11</td>\n",
       "      <td>2017-11-10T07:38:29.000Z</td>\n",
       "    </tr>\n",
       "    <tr>\n",
       "      <th>4</th>\n",
       "      <td>A VERY #EXTRA EBAY SHOPPING HAUL!</td>\n",
       "      <td>ebay|\"haul\"|\"cheap\"|\"challenge\"|\"extra\"|\"amber...</td>\n",
       "      <td>484185</td>\n",
       "      <td>17.14.11</td>\n",
       "      <td>2017-11-11T02:42:23.000Z</td>\n",
       "    </tr>\n",
       "  </tbody>\n",
       "</table>\n",
       "</div>"
      ],
      "text/plain": [
       "                                               title  \\\n",
       "0  What $4,800 Will Get You In NYC | Sweet Digs H...   \n",
       "1    A Smart... MUG?! - Take apart a Heated Thermos!   \n",
       "2   iPhone X vs Makeup Transformation (Face ID TEST)   \n",
       "3      John Lewis Christmas Ad 2017 - #MozTheMonster   \n",
       "4                  A VERY #EXTRA EBAY SHOPPING HAUL!   \n",
       "\n",
       "                                                tags    views trending_date  \\\n",
       "0  refinery29|\"refinery 29\"|\"r29\"|\"r29 video\"|\"vi...   145921      17.14.11   \n",
       "1  Smart mug|\"Heated thermos\"|\"tech\"|\"gift idea\"|...   120727      17.14.11   \n",
       "2  iphone x|\"iphonex makeup\"|\"iphonex test\"|\"new ...  1456472      17.14.11   \n",
       "3  christmas|\"john lewis christmas\"|\"john lewis\"|...  7224515      17.14.11   \n",
       "4  ebay|\"haul\"|\"cheap\"|\"challenge\"|\"extra\"|\"amber...   484185      17.14.11   \n",
       "\n",
       "               publish_time  \n",
       "0  2017-11-12T16:00:01.000Z  \n",
       "1  2017-11-13T16:00:03.000Z  \n",
       "2  2017-11-12T00:45:54.000Z  \n",
       "3  2017-11-10T07:38:29.000Z  \n",
       "4  2017-11-11T02:42:23.000Z  "
      ]
     },
     "execution_count": 2,
     "metadata": {},
     "output_type": "execute_result"
    }
   ],
   "source": [
    "#take in csv file and set category to How-to and Style\n",
    "youtube = pd.read_csv(\"USvideos.csv\")\n",
    "youtube = youtube[youtube['category_id']==26]\n",
    "\n",
    "# clean out columns that aren't relevant and drop nulls\n",
    "youtube = youtube[['title','tags','views','trending_date','publish_time']]\n",
    "youtube.reset_index(drop=True, inplace=True)\n",
    "youtube = youtube.dropna()\n",
    "youtube.head()"
   ]
  },
  {
   "cell_type": "markdown",
   "metadata": {
    "colab_type": "text",
    "id": "sKTpDR_V0yGJ"
   },
   "source": [
    "## Quantity of Tags vs Views Set-up"
   ]
  },
  {
   "cell_type": "markdown",
   "metadata": {
    "colab_type": "text",
    "id": "BzEmA7rnWNRW"
   },
   "source": [
    "### Process Tags Into Our Dataframe\n",
    "\n",
    "We store tags of each video in a list, which we keep in the variable 'new_tags'.\n",
    "\n",
    "We store the number of tags of each video in a list, which we keep in the variable 'count_tags'\n",
    "\n",
    "Finally, we add the number of each tag into youtube['count_tags'] and update the string of tags with the list of tags in youtube['tags']"
   ]
  },
  {
   "cell_type": "code",
   "execution_count": 3,
   "metadata": {
    "colab": {
     "base_uri": "https://localhost:8080/",
     "height": 511
    },
    "colab_type": "code",
    "id": "DXq7rAsgWMPG",
    "outputId": "4462e17b-b55a-452a-f087-6817d7e63bf4"
   },
   "outputs": [
    {
     "data": {
      "text/html": [
       "<div>\n",
       "<style scoped>\n",
       "    .dataframe tbody tr th:only-of-type {\n",
       "        vertical-align: middle;\n",
       "    }\n",
       "\n",
       "    .dataframe tbody tr th {\n",
       "        vertical-align: top;\n",
       "    }\n",
       "\n",
       "    .dataframe thead th {\n",
       "        text-align: right;\n",
       "    }\n",
       "</style>\n",
       "<table border=\"1\" class=\"dataframe\">\n",
       "  <thead>\n",
       "    <tr style=\"text-align: right;\">\n",
       "      <th></th>\n",
       "      <th>title</th>\n",
       "      <th>tags</th>\n",
       "      <th>views</th>\n",
       "      <th>trending_date</th>\n",
       "      <th>publish_time</th>\n",
       "      <th>count_tags</th>\n",
       "    </tr>\n",
       "  </thead>\n",
       "  <tbody>\n",
       "    <tr>\n",
       "      <th>0</th>\n",
       "      <td>What $4,800 Will Get You In NYC | Sweet Digs H...</td>\n",
       "      <td>[refinery29, \"refinery 29\", \"r29\", \"r29 video\"...</td>\n",
       "      <td>145921</td>\n",
       "      <td>17.14.11</td>\n",
       "      <td>2017-11-12T16:00:01.000Z</td>\n",
       "      <td>35</td>\n",
       "    </tr>\n",
       "    <tr>\n",
       "      <th>1</th>\n",
       "      <td>A Smart... MUG?! - Take apart a Heated Thermos!</td>\n",
       "      <td>[Smart mug, \"Heated thermos\", \"tech\", \"gift id...</td>\n",
       "      <td>120727</td>\n",
       "      <td>17.14.11</td>\n",
       "      <td>2017-11-13T16:00:03.000Z</td>\n",
       "      <td>18</td>\n",
       "    </tr>\n",
       "    <tr>\n",
       "      <th>2</th>\n",
       "      <td>iPhone X vs Makeup Transformation (Face ID TEST)</td>\n",
       "      <td>[iphone x, \"iphonex makeup\", \"iphonex test\", \"...</td>\n",
       "      <td>1456472</td>\n",
       "      <td>17.14.11</td>\n",
       "      <td>2017-11-12T00:45:54.000Z</td>\n",
       "      <td>17</td>\n",
       "    </tr>\n",
       "    <tr>\n",
       "      <th>3</th>\n",
       "      <td>John Lewis Christmas Ad 2017 - #MozTheMonster</td>\n",
       "      <td>[christmas, \"john lewis christmas\", \"john lewi...</td>\n",
       "      <td>7224515</td>\n",
       "      <td>17.14.11</td>\n",
       "      <td>2017-11-10T07:38:29.000Z</td>\n",
       "      <td>9</td>\n",
       "    </tr>\n",
       "    <tr>\n",
       "      <th>4</th>\n",
       "      <td>A VERY #EXTRA EBAY SHOPPING HAUL!</td>\n",
       "      <td>[ebay, \"haul\", \"cheap\", \"challenge\", \"extra\", ...</td>\n",
       "      <td>484185</td>\n",
       "      <td>17.14.11</td>\n",
       "      <td>2017-11-11T02:42:23.000Z</td>\n",
       "      <td>12</td>\n",
       "    </tr>\n",
       "    <tr>\n",
       "      <th>5</th>\n",
       "      <td>EXTREME GOLDEN TAN TRANSFORMATION</td>\n",
       "      <td>[Extreme Tan, \"Tanning\", \"Tanning Bed\", \"How t...</td>\n",
       "      <td>300617</td>\n",
       "      <td>17.14.11</td>\n",
       "      <td>2017-11-10T20:40:44.000Z</td>\n",
       "      <td>13</td>\n",
       "    </tr>\n",
       "    <tr>\n",
       "      <th>6</th>\n",
       "      <td>Inside the Cheese-Aging Caves 30 Feet Under Br...</td>\n",
       "      <td>[cave, \"cheese\", \"goat\", \"rind\", \"sheep's milk...</td>\n",
       "      <td>92523</td>\n",
       "      <td>17.14.11</td>\n",
       "      <td>2017-11-10T16:01:04.000Z</td>\n",
       "      <td>28</td>\n",
       "    </tr>\n",
       "    <tr>\n",
       "      <th>7</th>\n",
       "      <td>ICE PRIMER? DOES IT WORK?!</td>\n",
       "      <td>[ice primer, \"beauty hack\", \"weird beauty hack...</td>\n",
       "      <td>103927</td>\n",
       "      <td>17.14.11</td>\n",
       "      <td>2017-11-11T05:23:36.000Z</td>\n",
       "      <td>5</td>\n",
       "    </tr>\n",
       "    <tr>\n",
       "      <th>8</th>\n",
       "      <td>How To Dry a Shirt in 30 Seconds</td>\n",
       "      <td>[how to dry a shirt in 30 seconds, \"how to dry...</td>\n",
       "      <td>2063667</td>\n",
       "      <td>17.14.11</td>\n",
       "      <td>2017-11-09T18:36:48.000Z</td>\n",
       "      <td>9</td>\n",
       "    </tr>\n",
       "    <tr>\n",
       "      <th>9</th>\n",
       "      <td>Surprise After Surprise | October Vlog</td>\n",
       "      <td>[jenn im, \"jenn im vlog\", \"imjennim\", \"october...</td>\n",
       "      <td>247319</td>\n",
       "      <td>17.14.11</td>\n",
       "      <td>2017-11-10T18:42:55.000Z</td>\n",
       "      <td>9</td>\n",
       "    </tr>\n",
       "  </tbody>\n",
       "</table>\n",
       "</div>"
      ],
      "text/plain": [
       "                                               title  \\\n",
       "0  What $4,800 Will Get You In NYC | Sweet Digs H...   \n",
       "1    A Smart... MUG?! - Take apart a Heated Thermos!   \n",
       "2   iPhone X vs Makeup Transformation (Face ID TEST)   \n",
       "3      John Lewis Christmas Ad 2017 - #MozTheMonster   \n",
       "4                  A VERY #EXTRA EBAY SHOPPING HAUL!   \n",
       "5                  EXTREME GOLDEN TAN TRANSFORMATION   \n",
       "6  Inside the Cheese-Aging Caves 30 Feet Under Br...   \n",
       "7                         ICE PRIMER? DOES IT WORK?!   \n",
       "8                   How To Dry a Shirt in 30 Seconds   \n",
       "9             Surprise After Surprise | October Vlog   \n",
       "\n",
       "                                                tags    views trending_date  \\\n",
       "0  [refinery29, \"refinery 29\", \"r29\", \"r29 video\"...   145921      17.14.11   \n",
       "1  [Smart mug, \"Heated thermos\", \"tech\", \"gift id...   120727      17.14.11   \n",
       "2  [iphone x, \"iphonex makeup\", \"iphonex test\", \"...  1456472      17.14.11   \n",
       "3  [christmas, \"john lewis christmas\", \"john lewi...  7224515      17.14.11   \n",
       "4  [ebay, \"haul\", \"cheap\", \"challenge\", \"extra\", ...   484185      17.14.11   \n",
       "5  [Extreme Tan, \"Tanning\", \"Tanning Bed\", \"How t...   300617      17.14.11   \n",
       "6  [cave, \"cheese\", \"goat\", \"rind\", \"sheep's milk...    92523      17.14.11   \n",
       "7  [ice primer, \"beauty hack\", \"weird beauty hack...   103927      17.14.11   \n",
       "8  [how to dry a shirt in 30 seconds, \"how to dry...  2063667      17.14.11   \n",
       "9  [jenn im, \"jenn im vlog\", \"imjennim\", \"october...   247319      17.14.11   \n",
       "\n",
       "               publish_time  count_tags  \n",
       "0  2017-11-12T16:00:01.000Z          35  \n",
       "1  2017-11-13T16:00:03.000Z          18  \n",
       "2  2017-11-12T00:45:54.000Z          17  \n",
       "3  2017-11-10T07:38:29.000Z           9  \n",
       "4  2017-11-11T02:42:23.000Z          12  \n",
       "5  2017-11-10T20:40:44.000Z          13  \n",
       "6  2017-11-10T16:01:04.000Z          28  \n",
       "7  2017-11-11T05:23:36.000Z           5  \n",
       "8  2017-11-09T18:36:48.000Z           9  \n",
       "9  2017-11-10T18:42:55.000Z           9  "
      ]
     },
     "execution_count": 3,
     "metadata": {},
     "output_type": "execute_result"
    }
   ],
   "source": [
    "\n",
    "quantTagsDF = youtube.copy()\n",
    "\n",
    "countTagsSeries = quantTagsDF['tags']\n",
    "tags_new = list(countTagsSeries)\n",
    "\n",
    "new_tags = []\n",
    "count_tags = []\n",
    "\n",
    "# Split words in tags into a list of tags\n",
    "for s in tags_new:\n",
    "    s = s.split('|')\n",
    "    new_tags.append(s)\n",
    "\n",
    "# Make list of how many tags are in each video\n",
    "for i in new_tags:\n",
    "    count_tags.append(len(i))\n",
    "\n",
    "# Prepare count_tags to be added into dataframe\n",
    "count_tag = np.array(count_tags, dtype=np.int64)\n",
    "count_tag = pd.Series(count_tag)\n",
    "\n",
    "# Add count_tag to dataframe\n",
    "quantTagsDF['count_tags'] = count_tag.values\n",
    "quantTagsDF['tags'] = new_tags\n",
    "\n",
    "quantTagsDF.head(10)"
   ]
  },
  {
   "cell_type": "markdown",
   "metadata": {
    "colab_type": "text",
    "id": "kheYTKVG0y_e"
   },
   "source": [
    "## Usage of Popular Tags vs Views Set-up"
   ]
  },
  {
   "cell_type": "markdown",
   "metadata": {
    "colab_type": "text",
    "id": "vsXJJV-_XThp"
   },
   "source": [
    "### To get the 10 most popular tags.\n",
    "\n",
    "We use value_counts method to count the number of mentioning tags and put it in dataframe (this step is done later in the data cleaning section)."
   ]
  },
  {
   "cell_type": "code",
   "execution_count": 4,
   "metadata": {
    "colab": {},
    "colab_type": "code",
    "id": "hFlBGmO5XCsd"
   },
   "outputs": [],
   "source": [
    "usePopTagsDF = youtube.copy()\n",
    "\n",
    "tags = usePopTagsDF['tags'].apply(pd.Series).stack()\n",
    "tags_df = usePopTagsDF['tags'].apply(pd.Series).stack()\n",
    "pop_tags = usePopTagsDF['tags'].apply(tuple).value_counts()"
   ]
  },
  {
   "cell_type": "markdown",
   "metadata": {
    "colab_type": "text",
    "id": "IiWRqO3d02CG"
   },
   "source": [
    "## Title Sentiment vs Views Set-up\n"
   ]
  },
  {
   "cell_type": "markdown",
   "metadata": {
    "colab_type": "text",
    "id": "dCHWtjKSYoAY"
   },
   "source": [
    "Here we are performing a sentiment analysis on the titles of all the videos on our data set in order to determine if there is a relationship between the amount of views and its overall sentiment score. We used the Vader Lexicon from the NLTK package."
   ]
  },
  {
   "cell_type": "code",
   "execution_count": 5,
   "metadata": {
    "colab": {
     "base_uri": "https://localhost:8080/",
     "height": 52
    },
    "colab_type": "code",
    "id": "EilxZfrSYp9T",
    "outputId": "92562826-c096-40ad-ea03-11fea2d1351e"
   },
   "outputs": [
    {
     "name": "stdout",
     "output_type": "stream",
     "text": [
      "[nltk_data] Downloading package vader_lexicon to\n",
      "[nltk_data]     /Users/tma2017/nltk_data...\n",
      "[nltk_data]   Package vader_lexicon is already up-to-date!\n"
     ]
    },
    {
     "name": "stderr",
     "output_type": "stream",
     "text": [
      "/Users/tma2017/anaconda3/lib/python3.6/site-packages/nltk/twitter/__init__.py:20: UserWarning: The twython library has not been installed. Some functionality from the twitter package will not be available.\n",
      "  warnings.warn(\"The twython library has not been installed. \"\n"
     ]
    }
   ],
   "source": [
    "\n",
    "import nltk\n",
    "from nltk.sentiment.vader import SentimentIntensityAnalyzer\n",
    "\n",
    "titleSentDF = youtube.copy()\n",
    "\n",
    "nltk.download('vader_lexicon')\n",
    "analyser = SentimentIntensityAnalyzer()"
   ]
  },
  {
   "cell_type": "markdown",
   "metadata": {
    "colab_type": "text",
    "id": "pNVB0xr9Ytnz"
   },
   "source": [
    "\n",
    "We write a function in order to allow us to view different subsets of our Youtube video dataframe. This will be helpful when we compare extremely viral videos versus the rest of the dataframe."
   ]
  },
  {
   "cell_type": "code",
   "execution_count": 6,
   "metadata": {
    "colab": {},
    "colab_type": "code",
    "id": "J5ZbiILWYu-c"
   },
   "outputs": [],
   "source": [
    "def title_sentiments(df):\n",
    "    title_sentiment = []\n",
    "    title_sentiment_ind = []\n",
    "\n",
    "    titles = df['title']\n",
    "\n",
    "    zero_sentiment = 0\n",
    "\n",
    "    # Add only non-zero sentiment analysis of titles into 'title_sentiment'\n",
    "    for i, title in zip(range(len(titles)), titles):\n",
    "        sentiment = analyser.polarity_scores(title)\n",
    "        \n",
    "        if sentiment['compound'] != 0:\n",
    "            title_sentiment.append(sentiment['compound'])\n",
    "            title_sentiment_ind.append(i)\n",
    "        if sentiment['compound'] == 0:\n",
    "            zero_sentiment += 1\n",
    "            \n",
    "    return title_sentiment, title_sentiment_ind, zero_sentiment"
   ]
  },
  {
   "cell_type": "markdown",
   "metadata": {
    "colab_type": "text",
    "id": "6JURUCgc05Su"
   },
   "source": [
    "## Upload Date vs Time to Trending Set-up"
   ]
  },
  {
   "cell_type": "markdown",
   "metadata": {
    "colab_type": "text",
    "id": "OiwL1672ep7Q"
   },
   "source": [
    "In this section, we are performing an analysis on the correlation of upload dates and trending dates and see how an average of how long it would take a content creator to get onto trending."
   ]
  },
  {
   "cell_type": "code",
   "execution_count": 7,
   "metadata": {
    "colab": {
     "base_uri": "https://localhost:8080/",
     "height": 326
    },
    "colab_type": "code",
    "id": "XMOPF0_qclqG",
    "outputId": "4e1e1803-a10b-48a3-cfdc-9e6db30a342e"
   },
   "outputs": [],
   "source": [
    "import datetime\n",
    "import researchpy as rp"
   ]
  },
  {
   "cell_type": "code",
   "execution_count": 8,
   "metadata": {
    "colab": {},
    "colab_type": "code",
    "id": "mPuxlAS0a4Ks"
   },
   "outputs": [],
   "source": [
    "uploadDF = youtube.copy() #We just wanted a simple way to copy over the DF without ruining the original one."
   ]
  },
  {
   "cell_type": "markdown",
   "metadata": {
    "colab_type": "text",
    "id": "0i2jQZSWB2RO"
   },
   "source": [
    "# Data Cleaning\n",
    "\n",
    "\"What methods did you use to analyze your data? Briefly explain what steps you had to take before you were able to use the datasets you chose to answer your question of interest.\"\n",
    "\n",
    "- Taking averages and t-testing. OLS regression and sentiment analysis.\n",
    "\n",
    "\"How clean is the data?\"\n",
    "\n",
    "- The data had extraneous columns beforehand\n",
    "\n",
    "\"What did you have to do to get the data into a usable format?\"\n",
    "\n",
    "- It was already 'usable' but just to make it neater and more concise, we eliminated some columns\n",
    "\n",
    "\"What pre-processing steps were required for your methods (for example checking data distributions and performing any transformations that may be required)\"\n",
    "\n",
    "- We didn't have to really make any transformations. To check data distributions, we printed out certain intervals or criteria so that we can see discrepancies."
   ]
  },
  {
   "cell_type": "markdown",
   "metadata": {
    "colab_type": "text",
    "id": "TaP76OTo0-aX"
   },
   "source": [
    "## Quantity of Tags vs Views Data Cleaning"
   ]
  },
  {
   "cell_type": "markdown",
   "metadata": {
    "colab_type": "text",
    "id": "g_fZst0cI9RZ"
   },
   "source": [
    "We only retain the columns of title, tag, views, and count_tags because they are the only ones relevant to this section.\n",
    "We drop duplicates by keeping only the last one. We do this because we do not want the same video to have the same tags double-counted. We get the last one because we want the video with the most views.\n"
   ]
  },
  {
   "cell_type": "code",
   "execution_count": 9,
   "metadata": {
    "colab": {},
    "colab_type": "code",
    "id": "oOnFPxA47mbk"
   },
   "outputs": [
    {
     "data": {
      "text/html": [
       "<div>\n",
       "<style scoped>\n",
       "    .dataframe tbody tr th:only-of-type {\n",
       "        vertical-align: middle;\n",
       "    }\n",
       "\n",
       "    .dataframe tbody tr th {\n",
       "        vertical-align: top;\n",
       "    }\n",
       "\n",
       "    .dataframe thead th {\n",
       "        text-align: right;\n",
       "    }\n",
       "</style>\n",
       "<table border=\"1\" class=\"dataframe\">\n",
       "  <thead>\n",
       "    <tr style=\"text-align: right;\">\n",
       "      <th></th>\n",
       "      <th>title</th>\n",
       "      <th>tags</th>\n",
       "      <th>views</th>\n",
       "      <th>count_tags</th>\n",
       "    </tr>\n",
       "  </thead>\n",
       "  <tbody>\n",
       "    <tr>\n",
       "      <th>12</th>\n",
       "      <td>Three meals that cost me $1.50 each</td>\n",
       "      <td>[brothers green eats, \"budget cooking\", \"cooki...</td>\n",
       "      <td>77630</td>\n",
       "      <td>19</td>\n",
       "    </tr>\n",
       "    <tr>\n",
       "      <th>13</th>\n",
       "      <td>Chapter 28: I Love My Baby But, I Miss My Dad</td>\n",
       "      <td>[Whitney Port, \"I Love My Baby But\", \"Grief\", ...</td>\n",
       "      <td>55398</td>\n",
       "      <td>6</td>\n",
       "    </tr>\n",
       "    <tr>\n",
       "      <th>14</th>\n",
       "      <td>FACE SURGERY WITH MAKEUP</td>\n",
       "      <td>[makeup, \"makeup tutorial\", \"surgery\", \"transf...</td>\n",
       "      <td>471266</td>\n",
       "      <td>28</td>\n",
       "    </tr>\n",
       "    <tr>\n",
       "      <th>15</th>\n",
       "      <td>Chocolate Orange Autumn Cupcakes | Cupcake Jemma</td>\n",
       "      <td>[cupcakes, \"cupcake\", \"cup cake\", \"cake\", \"cak...</td>\n",
       "      <td>122669</td>\n",
       "      <td>36</td>\n",
       "    </tr>\n",
       "    <tr>\n",
       "      <th>16</th>\n",
       "      <td>My Every Day Autumn Makeup | Zoella</td>\n",
       "      <td>[zoe sugg, \"zoe\", \"sugg\", \"zoella\", \"beauty\", ...</td>\n",
       "      <td>1390440</td>\n",
       "      <td>22</td>\n",
       "    </tr>\n",
       "  </tbody>\n",
       "</table>\n",
       "</div>"
      ],
      "text/plain": [
       "                                               title  \\\n",
       "12               Three meals that cost me $1.50 each   \n",
       "13     Chapter 28: I Love My Baby But, I Miss My Dad   \n",
       "14                          FACE SURGERY WITH MAKEUP   \n",
       "15  Chocolate Orange Autumn Cupcakes | Cupcake Jemma   \n",
       "16               My Every Day Autumn Makeup | Zoella   \n",
       "\n",
       "                                                 tags    views  count_tags  \n",
       "12  [brothers green eats, \"budget cooking\", \"cooki...    77630          19  \n",
       "13  [Whitney Port, \"I Love My Baby But\", \"Grief\", ...    55398           6  \n",
       "14  [makeup, \"makeup tutorial\", \"surgery\", \"transf...   471266          28  \n",
       "15  [cupcakes, \"cupcake\", \"cup cake\", \"cake\", \"cak...   122669          36  \n",
       "16  [zoe sugg, \"zoe\", \"sugg\", \"zoella\", \"beauty\", ...  1390440          22  "
      ]
     },
     "execution_count": 9,
     "metadata": {},
     "output_type": "execute_result"
    }
   ],
   "source": [
    "quantTagsDF = quantTagsDF[['title','tags','views','count_tags']]\n",
    "quantTagsDF = quantTagsDF.dropna()\n",
    "quantTagsDF.drop_duplicates(subset = 'title', keep = 'last',inplace = True)\n",
    "quantTagsDF.head()"
   ]
  },
  {
   "cell_type": "markdown",
   "metadata": {
    "colab_type": "text",
    "id": "WiYJnpfH0-aa"
   },
   "source": [
    "## Usage of Popular Tags vs Views Data Cleaning"
   ]
  },
  {
   "cell_type": "markdown",
   "metadata": {
    "colab_type": "text",
    "id": "pfnAvUi4H8bc"
   },
   "source": [
    "For popular tags, we drop the duplicates of the counts subset. \n",
    "\n"
   ]
  },
  {
   "cell_type": "code",
   "execution_count": 10,
   "metadata": {
    "colab": {},
    "colab_type": "code",
    "id": "qL_1cCPs4Qkb"
   },
   "outputs": [
    {
     "data": {
      "text/html": [
       "<div>\n",
       "<style scoped>\n",
       "    .dataframe tbody tr th:only-of-type {\n",
       "        vertical-align: middle;\n",
       "    }\n",
       "\n",
       "    .dataframe tbody tr th {\n",
       "        vertical-align: top;\n",
       "    }\n",
       "\n",
       "    .dataframe thead th {\n",
       "        text-align: right;\n",
       "    }\n",
       "</style>\n",
       "<table border=\"1\" class=\"dataframe\">\n",
       "  <thead>\n",
       "    <tr style=\"text-align: right;\">\n",
       "      <th></th>\n",
       "      <th>counts</th>\n",
       "      <th>tags</th>\n",
       "    </tr>\n",
       "  </thead>\n",
       "  <tbody>\n",
       "    <tr>\n",
       "      <th>0</th>\n",
       "      <td>31</td>\n",
       "      <td>(c, u, p, c, a, k, e, s, |, \", h, o, w,  , t, ...</td>\n",
       "    </tr>\n",
       "    <tr>\n",
       "      <th>2</th>\n",
       "      <td>27</td>\n",
       "      <td>(t, h, e,  , g, r, e, e, n,  , m, a, k, e, u, ...</td>\n",
       "    </tr>\n",
       "    <tr>\n",
       "      <th>4</th>\n",
       "      <td>25</td>\n",
       "      <td>([, n, o, n, e, ])</td>\n",
       "    </tr>\n",
       "    <tr>\n",
       "      <th>7</th>\n",
       "      <td>23</td>\n",
       "      <td>(o, l, i, v, i, a,  , j, a, d, e, |, \", o, l, ...</td>\n",
       "    </tr>\n",
       "    <tr>\n",
       "      <th>8</th>\n",
       "      <td>21</td>\n",
       "      <td>(j, a, c, l, y, n, h, i, l, l, 1, |, \", j, a, ...</td>\n",
       "    </tr>\n",
       "  </tbody>\n",
       "</table>\n",
       "</div>"
      ],
      "text/plain": [
       "   counts                                               tags\n",
       "0      31  (c, u, p, c, a, k, e, s, |, \", h, o, w,  , t, ...\n",
       "2      27  (t, h, e,  , g, r, e, e, n,  , m, a, k, e, u, ...\n",
       "4      25                                 ([, n, o, n, e, ])\n",
       "7      23  (o, l, i, v, i, a,  , j, a, d, e, |, \", o, l, ...\n",
       "8      21  (j, a, c, l, y, n, h, i, l, l, 1, |, \", j, a, ..."
      ]
     },
     "execution_count": 10,
     "metadata": {},
     "output_type": "execute_result"
    }
   ],
   "source": [
    "pop_tagsDF = pd.DataFrame({'tags':pop_tags.index, 'counts':pop_tags.values})\n",
    "pop_tagsDF = pop_tagsDF.drop_duplicates(subset=['counts']) #Drop duplicates\n",
    "pop_tagsDF.head()"
   ]
  },
  {
   "cell_type": "markdown",
   "metadata": {
    "colab_type": "text",
    "id": "tnrm177V0-ab"
   },
   "source": [
    "## Title Sentiment vs Views Data Cleaning\n"
   ]
  },
  {
   "cell_type": "markdown",
   "metadata": {
    "colab_type": "text",
    "id": "3UdQnW1zY1sj"
   },
   "source": [
    "We make sure to drop any duplicate rows that are a result of a video that trends for multiple days. While this information may be helpful when examining how long it takes for a video to become popular after being published, for the purposes of sentiment analysis it only adds more noise to the data.\n",
    "\n",
    "We also print out the first 50 titles that return non-zero sentiments using NLTK vader."
   ]
  },
  {
   "cell_type": "code",
   "execution_count": 11,
   "metadata": {
    "colab": {},
    "colab_type": "code",
    "id": "yYIjbhjQY45F"
   },
   "outputs": [
    {
     "name": "stdout",
     "output_type": "stream",
     "text": [
      "Sentiment score of first 50 titles with non-zero sentiment scores:\n",
      "[0.5574, -0.7088, 0.4939, 0.4588, 0.2342, -0.2732, 0.7964, 0.0516, 0.2263, -0.3612, 0.4588, -0.4404, -0.1779, 0.4926, 0.7579, -0.128, 0.5106, 0.5859, -0.4619, 0.8225, 0.6239, 0.3818, 0.7096, -0.4767, 0.4728, 0.5719, 0.4019, 0.658, 0.2584, 0.4215, -0.34, 0.4019, 0.5859, -0.3612, 0.2023, -0.4215, 0.5106, 0.4939, 0.5719, 0.4278, 0.4404, 0.3182, 0.6739, -0.7604, 0.5859, 0.0989, 0.4404, 0.5859, 0.508, 0.6037]\n",
      "\n",
      "Index of the first 50 non-zero sentiment titles\n",
      "[1, 5, 7, 11, 23, 24, 25, 26, 27, 30, 32, 33, 34, 35, 38, 40, 45, 47, 51, 54, 56, 57, 58, 62, 63, 64, 65, 67, 69, 73, 74, 77, 80, 81, 82, 83, 84, 86, 87, 88, 89, 90, 91, 94, 95, 97, 103, 105, 106, 107]\n",
      "\n",
      "Number of sentiment videos: 280\n",
      "Number of Zero sentiment videos: 322\n"
     ]
    }
   ],
   "source": [
    "# Drop duplicate titles, we are only interested in the last title that was trending\n",
    "titleSentDF.drop_duplicates(subset='title', keep='last',inplace=True)\n",
    "\n",
    "title_sentiment, title_sentiment_ind, zero_sentiment = title_sentiments(titleSentDF)\n",
    "\n",
    "# Print out test results\n",
    "print('Sentiment score of first 50 titles with non-zero sentiment scores:')\n",
    "print(title_sentiment[:50])\n",
    "print('\\nIndex of the first 50 non-zero sentiment titles')\n",
    "print(title_sentiment_ind[:50])\n",
    "print('\\nNumber of sentiment videos: ' + str(len(title_sentiment_ind)))\n",
    "print(\"Number of Zero sentiment videos: \" + str(zero_sentiment))"
   ]
  },
  {
   "cell_type": "markdown",
   "metadata": {
    "colab_type": "text",
    "id": "XnWb2Rlb0-ad"
   },
   "source": [
    "## Upload Date vs Time to Trending Data Cleaning"
   ]
  },
  {
   "cell_type": "markdown",
   "metadata": {},
   "source": [
    "To clean this data, we want to make sure our columns are in the same format. Therefore, we rewrite our strings so that they're following the same format."
   ]
  },
  {
   "cell_type": "code",
   "execution_count": 12,
   "metadata": {
    "colab": {},
    "colab_type": "code",
    "id": "rfc_Hq6bbiNB"
   },
   "outputs": [
    {
     "data": {
      "text/html": [
       "<div>\n",
       "<style scoped>\n",
       "    .dataframe tbody tr th:only-of-type {\n",
       "        vertical-align: middle;\n",
       "    }\n",
       "\n",
       "    .dataframe tbody tr th {\n",
       "        vertical-align: top;\n",
       "    }\n",
       "\n",
       "    .dataframe thead th {\n",
       "        text-align: right;\n",
       "    }\n",
       "</style>\n",
       "<table border=\"1\" class=\"dataframe\">\n",
       "  <thead>\n",
       "    <tr style=\"text-align: right;\">\n",
       "      <th></th>\n",
       "      <th>publish_time</th>\n",
       "      <th>publish_to_trending</th>\n",
       "    </tr>\n",
       "  </thead>\n",
       "  <tbody>\n",
       "    <tr>\n",
       "      <th>0</th>\n",
       "      <td>2017-11-12</td>\n",
       "      <td>2 days</td>\n",
       "    </tr>\n",
       "    <tr>\n",
       "      <th>1</th>\n",
       "      <td>2017-11-13</td>\n",
       "      <td>1 days</td>\n",
       "    </tr>\n",
       "    <tr>\n",
       "      <th>2</th>\n",
       "      <td>2017-11-12</td>\n",
       "      <td>2 days</td>\n",
       "    </tr>\n",
       "    <tr>\n",
       "      <th>3</th>\n",
       "      <td>2017-11-10</td>\n",
       "      <td>4 days</td>\n",
       "    </tr>\n",
       "    <tr>\n",
       "      <th>4</th>\n",
       "      <td>2017-11-11</td>\n",
       "      <td>3 days</td>\n",
       "    </tr>\n",
       "    <tr>\n",
       "      <th>5</th>\n",
       "      <td>2017-11-10</td>\n",
       "      <td>4 days</td>\n",
       "    </tr>\n",
       "    <tr>\n",
       "      <th>6</th>\n",
       "      <td>2017-11-10</td>\n",
       "      <td>4 days</td>\n",
       "    </tr>\n",
       "    <tr>\n",
       "      <th>7</th>\n",
       "      <td>2017-11-11</td>\n",
       "      <td>3 days</td>\n",
       "    </tr>\n",
       "    <tr>\n",
       "      <th>8</th>\n",
       "      <td>2017-11-09</td>\n",
       "      <td>5 days</td>\n",
       "    </tr>\n",
       "    <tr>\n",
       "      <th>9</th>\n",
       "      <td>2017-11-10</td>\n",
       "      <td>4 days</td>\n",
       "    </tr>\n",
       "  </tbody>\n",
       "</table>\n",
       "</div>"
      ],
      "text/plain": [
       "  publish_time publish_to_trending\n",
       "0   2017-11-12              2 days\n",
       "1   2017-11-13              1 days\n",
       "2   2017-11-12              2 days\n",
       "3   2017-11-10              4 days\n",
       "4   2017-11-11              3 days\n",
       "5   2017-11-10              4 days\n",
       "6   2017-11-10              4 days\n",
       "7   2017-11-11              3 days\n",
       "8   2017-11-09              5 days\n",
       "9   2017-11-10              4 days"
      ]
     },
     "execution_count": 12,
     "metadata": {},
     "output_type": "execute_result"
    }
   ],
   "source": [
    "uploadDF = uploadDF[['publish_time', 'trending_date']] #for this analysis, these are the only two relevant columns\n",
    "\n",
    "uploadDF['publish_time'] = uploadDF['publish_time'].str[:10].astype(str) # to better parse our data, we convert them to str\n",
    "\n",
    "uploadDF['trending_date'] = '20' + uploadDF['trending_date'] # modify trending_date so it is in the same format as publish_time\n",
    "uploadDF['trending_date'] = uploadDF['trending_date'].str.replace('.','-')\n",
    "\n",
    "uploadDF['trending_date'] = uploadDF['trending_date'].str[0:4]+uploadDF['trending_date'].str[7:10]+uploadDF['trending_date'].str[4:7]\n",
    "uploadDF.head()\n",
    "\n",
    "uploadDF['trending_date'] = pd.to_datetime(uploadDF['trending_date']) #convert both of the columns to 'datetimes'\n",
    "uploadDF['publish_time'] = pd.to_datetime(uploadDF['publish_time'])\n",
    "\n",
    "uploadDF['publish_to_trending'] = uploadDF['trending_date'] - uploadDF['publish_time'] #subtract the two times to get the amt to get to trending\n",
    "\n",
    "uploadDF = uploadDF.drop(columns=[\"trending_date\"]) #just drop trending date, irrelevant to us now\n",
    "\n",
    "uploadDF.head(10)"
   ]
  },
  {
   "cell_type": "markdown",
   "metadata": {
    "colab_type": "text",
    "id": "Nd0j5JU3-KW8"
   },
   "source": [
    "# Data Analysis and Results\n",
    "\n",
    "\n"
   ]
  },
  {
   "cell_type": "markdown",
   "metadata": {
    "colab_type": "text",
    "id": "k_Kdppoz1FM6"
   },
   "source": [
    "## Quantity of Tags vs Views Data Analysis and Results"
   ]
  },
  {
   "cell_type": "markdown",
   "metadata": {},
   "source": [
    "In this section, we focus on investigating whether the __total number of tags__ used in a video will affect the number of __views__ it get.\n",
    "\n",
    "In order to better see how the __count_tags__ column correlates with the __views__ column, we decided to graph the data in a scatter plot"
   ]
  },
  {
   "cell_type": "code",
   "execution_count": 13,
   "metadata": {
    "colab": {},
    "colab_type": "code",
    "id": "FVH_LhJ_1QwX"
   },
   "outputs": [
    {
     "data": {
      "text/plain": [
       "Text(0,0.5,'num_views')"
      ]
     },
     "execution_count": 13,
     "metadata": {},
     "output_type": "execute_result"
    },
    {
     "data": {
      "image/png": "[encoded data removed]",
      "text/plain": [
       "<matplotlib.figure.Figure at 0x1a14b38860>"
      ]
     },
     "metadata": {},
     "output_type": "display_data"
    }
   ],
   "source": [
    "# get the counts of the tags for each video\n",
    "counts = list(quantTagsDF['count_tags'])\n",
    "num_views = list(quantTagsDF['views'])\n",
    "\n",
    "plt.scatter(counts,num_views)\n",
    "plt.xlabel(\"counts\")\n",
    "plt.ylabel(\"num_views\")"
   ]
  },
  {
   "cell_type": "markdown",
   "metadata": {},
   "source": [
    "Here we can see that there are two extremely large value, which indicates two videos that have extremely large views. Since these two datapoints are too far away from the rest of the datapoints, they do not represent the overall correlation between __count_tags__ and __views__ column. \n",
    "\n",
    "Therefore, to better to picture the the overall correlation between these two columns, we will remove the outliers from the datasets by removing all datapoints that are above 10 million views"
   ]
  },
  {
   "cell_type": "code",
   "execution_count": 36,
   "metadata": {},
   "outputs": [
    {
     "data": {
      "text/plain": [
       "Text(0,0.5,'Views')"
      ]
     },
     "execution_count": 36,
     "metadata": {},
     "output_type": "execute_result"
    },
    {
     "data": {
      "image/png": "[encoded data removed]",
      "text/plain": [
       "<matplotlib.figure.Figure at 0x1c1f061ef0>"
      ]
     },
     "metadata": {},
     "output_type": "display_data"
    }
   ],
   "source": [
    "# Creating a new dataframe that only includes datapoints that have less or equal to 10 million views\n",
    "youtube_10m = quantTagsDF[quantTagsDF['views']<=10000000]\n",
    "counts = list(youtube_10m['count_tags'])\n",
    "num_views = list(youtube_10m['views'])\n",
    "\n",
    "# Plot again\n",
    "plt.scatter(counts,num_views)\n",
    "plt.xlabel(\"Number of Tags\")\n",
    "plt.ylabel(\"Views\")\n"
   ]
  },
  {
   "cell_type": "markdown",
   "metadata": {},
   "source": [
    "It's difficult to see any trend from this scatter plot. Therefore, we will build a linear model to try to predict our result. \n",
    "\n",
    "According to our hypothesis, we believed that the number of views is positively correlated with the number of tags, since videos with more tags are likely to see by more people. If our model shows that the two values are negatively correlated or not correlated, then it will prove our hypothesis is false. \n",
    "\n",
    "In the following graph, we will plot our prediction on top of our scatter plot to visualize see how well the model fits the data \n"
   ]
  },
  {
   "cell_type": "code",
   "execution_count": 37,
   "metadata": {},
   "outputs": [
    {
     "data": {
      "text/plain": [
       "[<matplotlib.lines.Line2D at 0x1c1f061ac8>]"
      ]
     },
     "execution_count": 37,
     "metadata": {},
     "output_type": "execute_result"
    },
    {
     "data": {
      "image/png": "[encoded data removed]",
      "text/plain": [
       "<matplotlib.figure.Figure at 0x1c1f061a20>"
      ]
     },
     "metadata": {},
     "output_type": "display_data"
    }
   ],
   "source": [
    "# Plot the scatter plot again\n",
    "plt.scatter(counts,num_views)\n",
    "plt.xlabel(\"Number of Tags\")\n",
    "plt.ylabel(\"Views\")\n",
    "\n",
    "# Use ployfit to get the best fit line, and show it in the graph\n",
    "a1, b1 = np.polyfit(youtube_10m['count_tags'], youtube_10m['views'], 1)\n",
    "count_tags_range = np.arange(0., 70.)\n",
    "pred_views = a1 * count_tags_range + b1\n",
    "plt.plot(count_tags_range, pred_views, c  ='r')"
   ]
  },
  {
   "cell_type": "markdown",
   "metadata": {},
   "source": [
    "As we can see from the graph, there doesn't seem to be like a strong correlation between the number of tags and views. To check if our intuition is correct, we will use scipy's linegress method to get the r value, which indicates how well are the two correlated. \n",
    "\n",
    "The r value ranges from -1 to 1. If the r value is -1, it means our data shows a perfectly negative relationship; if the r value is is 1, it means our data shows a perfectly postive relationship; if the r value is is 0, it means our data shows no relationship."
   ]
  },
  {
   "cell_type": "code",
   "execution_count": 38,
   "metadata": {},
   "outputs": [
    {
     "name": "stdout",
     "output_type": "stream",
     "text": [
      "r value is:  -0.0012811657995536235\n"
     ]
    }
   ],
   "source": [
    "import scipy.stats\n",
    "from scipy.stats import linregress\n",
    "\n",
    "slope, intercept, r_value, p_value, std_err = scipy.stats.linregress(youtube_10m['count_tags'], youtube_10m['views'])\n",
    "\n",
    "print(\"r value is: \",r_value)"
   ]
  },
  {
   "cell_type": "markdown",
   "metadata": {},
   "source": [
    "From the result, we can see that the r value is close to 0, which indicates that there is not a clear relationship between the number of tags used and the views of a video. \n",
    "\n",
    "Therefore, our hypothesis regarding the relationship between the number of tags used and the views is proven to be false"
   ]
  },
  {
   "cell_type": "markdown",
   "metadata": {
    "colab_type": "text",
    "id": "VSEYytP11FM_"
   },
   "source": [
    "## Usage of Popular Tags vs Views Data Analysis and Results"
   ]
  },
  {
   "cell_type": "markdown",
   "metadata": {
    "colab_type": "text",
    "id": "UnVq6r3rJlXd"
   },
   "source": [
    "For the popular tags, we create the top 10 counts from the dataframe. Then, we collerated it to the number of views of each tags. "
   ]
  },
  {
   "cell_type": "code",
   "execution_count": 14,
   "metadata": {
    "colab": {},
    "colab_type": "code",
    "id": "ZCO0leLJ1Ktd"
   },
   "outputs": [
    {
     "data": {
      "text/plain": [
       "{'[': 41588638,\n",
       " 'c': 3903763073,\n",
       " 'f': 3515759998,\n",
       " 'j': 1545645901,\n",
       " 'k': 3741729499,\n",
       " 'l': 4002388036,\n",
       " 'o': 4048073780,\n",
       " 's': 4022986226,\n",
       " 't': 3994705928,\n",
       " 'z': 1380854589}"
      ]
     },
     "execution_count": 14,
     "metadata": {},
     "output_type": "execute_result"
    }
   ],
   "source": [
    "pop_tagsDF = pop_tagsDF.head(10)\n",
    "\n",
    "dict_popTags = {}\n",
    "for elem,count in zip(pop_tagsDF['tags'], pop_tagsDF['counts']) : #zip the tags and count of how many videos they're in\n",
    "    \n",
    "    dict_popTags[elem[0]] = count\n",
    "\n",
    "list_popTags = list(dict_popTags.keys()) #only extract the tags\n",
    "\n",
    "dict_popViews = {}\n",
    "\n",
    "for popTag in list_popTags:\n",
    "    \n",
    "    currViews = 0\n",
    "    for tags,views in zip(usePopTagsDF['tags'],usePopTagsDF['views']):\n",
    "        if(popTag in tags):\n",
    "            currViews = currViews + views #accumulate the views\n",
    "    \n",
    "    dict_popViews[popTag] = currViews\n",
    "    \n",
    "dict_popViews "
   ]
  },
  {
   "cell_type": "markdown",
   "metadata": {
    "colab_type": "text",
    "id": "BSWxm8KcYALm"
   },
   "source": [
    "Here, we calculate the mean of the views for the 10 most popular tags. We plan to use this to plot it against the views we get for each popular tag, and see if using a more popular tag will nececessarily mean that it garners more views.\n"
   ]
  },
  {
   "cell_type": "code",
   "execution_count": 15,
   "metadata": {
    "colab": {},
    "colab_type": "code",
    "id": "a4lyAZOA4iha"
   },
   "outputs": [
    {
     "data": {
      "text/plain": [
       "{'[': 1663545.52,\n",
       " 'c': 125927841.06451613,\n",
       " 'f': 219734999.875,\n",
       " 'j': 73602185.76190476,\n",
       " 'k': 207873861.05555555,\n",
       " 'l': 210652001.89473686,\n",
       " 'o': 176003207.82608697,\n",
       " 's': 201149311.3,\n",
       " 't': 147952071.4074074,\n",
       " 'z': 81226740.52941176}"
      ]
     },
     "execution_count": 15,
     "metadata": {},
     "output_type": "execute_result"
    }
   ],
   "source": [
    "dict_popMeans = {}\n",
    "for tag in dict_popViews:\n",
    "    dict_popMeans[tag] = dict_popViews[tag] / dict_popTags[tag]\n",
    "\n",
    "    \n",
    "dict_popMeans "
   ]
  },
  {
   "cell_type": "markdown",
   "metadata": {
    "colab_type": "text",
    "id": "xDgT4C3LYZZS"
   },
   "source": [
    "Next, we plot the tags versus the mean views. The y-axis resembles the mean views, while the x-axis were the top 10 tags. Out of those tags, the most popular one is beauty."
   ]
  },
  {
   "cell_type": "code",
   "execution_count": 42,
   "metadata": {
    "colab": {},
    "colab_type": "code",
    "id": "P3wbCK_L4k4w"
   },
   "outputs": [
    {
     "data": {
      "image/png": "[encoded data removed]",
      "text/plain": [
       "<matplotlib.figure.Figure at 0x1c1f4f7b00>"
      ]
     },
     "metadata": {},
     "output_type": "display_data"
    }
   ],
   "source": [
    "data = [['beauty', 5539308.064516129], ['Business Insider', 3573679.111111111], ['ysac', 620388.0], ['olivia jade', 523903.82608695654], ['DIY', 1071556.0], ['spongebob', 784910.3], ['lifestyle', 2926548.947368421], ['kim kardashian', 2576792.777777778], ['kinetic sand', 1193684.8823529412], ['cook', 577825.5]]\n",
    "df_pop = pd.DataFrame(data, columns = ['Tags', 'Mean Views'])\n",
    "ax = df_pop.plot.bar(x='Tags', y='Mean Views', rot=90) #plot\n",
    "\n"
   ]
  },
  {
   "cell_type": "markdown",
   "metadata": {
    "colab_type": "text",
    "id": "_YFVYgqt1FNC"
   },
   "source": [
    "## Title Sentiment vs Views Data Analysis and Results\n"
   ]
  },
  {
   "cell_type": "markdown",
   "metadata": {
    "colab_type": "text",
    "id": "ljKx8KceZAqO"
   },
   "source": [
    "First, we graph all of the video titles that returned a non-zero sentiment (i.e. the NLTK toolkit was able to return a sentiment score) against its number of views."
   ]
  },
  {
   "cell_type": "code",
   "execution_count": 17,
   "metadata": {
    "colab": {},
    "colab_type": "code",
    "id": "QUg0LsbSY-0W"
   },
   "outputs": [
    {
     "data": {
      "text/plain": [
       "Text(0,0.5,'Number of views')"
      ]
     },
     "execution_count": 17,
     "metadata": {},
     "output_type": "execute_result"
    },
    {
     "data": {
      "image/png": "[encoded data removed]",
      "text/plain": [
       "<matplotlib.figure.Figure at 0x110f9aeb8>"
      ]
     },
     "metadata": {},
     "output_type": "display_data"
    }
   ],
   "source": [
    "views = list(titleSentDF['views'])\n",
    "views_sent = []\n",
    "\n",
    "for i in title_sentiment_ind:\n",
    "    views_sent.append(views[i])\n",
    "\n",
    "a_views, b_views = np.polyfit(title_sentiment, views_sent,1 )  \n",
    "sentiment_range = np.linspace(-1, 1, 10)\n",
    "pred_views = a_views*sentiment_range + b_views\n",
    "\n",
    "plt.scatter(title_sentiment, views_sent, s=5)\n",
    "plt.plot(sentiment_range, pred_views, c = 'red')\n",
    "plt.xlabel('Sentiment')\n",
    "plt.ylabel('Number of views')"
   ]
  },
  {
   "cell_type": "code",
   "execution_count": 18,
   "metadata": {
    "colab": {},
    "colab_type": "code",
    "id": "rvqfxmS5ZEj9"
   },
   "outputs": [
    {
     "data": {
      "text/plain": [
       "Text(0,0.5,'Frequency')"
      ]
     },
     "execution_count": 18,
     "metadata": {},
     "output_type": "execute_result"
    },
    {
     "data": {
      "image/png": "[encoded data removed]",
      "text/plain": [
       "<matplotlib.figure.Figure at 0x110f63358>"
      ]
     },
     "metadata": {},
     "output_type": "display_data"
    }
   ],
   "source": [
    "plt.hist(title_sentiment, bins=20)\n",
    "plt.xlabel('Sentiment')\n",
    "plt.ylabel('Frequency')"
   ]
  },
  {
   "cell_type": "markdown",
   "metadata": {
    "colab_type": "text",
    "id": "F8SPF2QIZHEk"
   },
   "source": [
    "Looking at the above two graphs, by inspection we have a feeling that there is not a strong correlation between sentiment and number of views. Representing the sentiment with a histogram, we see how the title sentiments are bimodal. More videos tend to populate the -0.50 and 0.50 areas of sentimentality. We also notice that there are some videos with large numbers of views (i.e. > 5,000,000 views).\n",
    "\n",
    "Next, we are going to run an OLS regression model to calculate some statistics and run statistical tests."
   ]
  },
  {
   "cell_type": "code",
   "execution_count": 19,
   "metadata": {
    "colab": {},
    "colab_type": "code",
    "id": "rpiGB4ndZJnB"
   },
   "outputs": [
    {
     "name": "stderr",
     "output_type": "stream",
     "text": [
      "/Users/tma2017/anaconda3/lib/python3.6/site-packages/statsmodels/compat/pandas.py:56: FutureWarning: The pandas.core.datetools module is deprecated and will be removed in a future version. Please use the pandas.tseries module instead.\n",
      "  from pandas.core import datetools\n"
     ]
    },
    {
     "name": "stdout",
     "output_type": "stream",
     "text": [
      "                            OLS Regression Results                            \n",
      "==============================================================================\n",
      "Dep. Variable:        title_sentiment   R-squared:                       0.002\n",
      "Model:                            OLS   Adj. R-squared:                 -0.001\n",
      "Method:                 Least Squares   F-statistic:                    0.6447\n",
      "Date:                Tue, 11 Jun 2019   Prob (F-statistic):              0.423\n",
      "Time:                        18:16:20   Log-Likelihood:                -168.26\n",
      "No. Observations:                 280   AIC:                             340.5\n",
      "Df Residuals:                     278   BIC:                             347.8\n",
      "Df Model:                           1                                         \n",
      "Covariance Type:            nonrobust                                         \n",
      "==============================================================================\n",
      "                 coef    std err          t      P>|t|      [0.025      0.975]\n",
      "------------------------------------------------------------------------------\n",
      "Intercept      0.2278      0.028      8.229      0.000       0.173       0.282\n",
      "views_sent -5.871e-09   7.31e-09     -0.803      0.423   -2.03e-08    8.52e-09\n",
      "==============================================================================\n",
      "Omnibus:                       38.681   Durbin-Watson:                   2.081\n",
      "Prob(Omnibus):                  0.000   Jarque-Bera (JB):               27.234\n",
      "Skew:                          -0.648   Prob(JB):                     1.22e-06\n",
      "Kurtosis:                       2.192   Cond. No.                     3.96e+06\n",
      "==============================================================================\n",
      "\n",
      "Warnings:\n",
      "[1] Standard Errors assume that the covariance matrix of the errors is correctly specified.\n",
      "[2] The condition number is large, 3.96e+06. This might indicate that there are\n",
      "strong multicollinearity or other numerical problems.\n"
     ]
    }
   ],
   "source": [
    "import patsy\n",
    "import statsmodels.api as sm\n",
    "\n",
    "data = {'title_sentiment': title_sentiment, 'views_sent': views_sent}\n",
    "sentiment_df = pd.DataFrame(data=data)\n",
    "\n",
    "outcome_1, predictors_1 = patsy.dmatrices('title_sentiment ~ views_sent', data=sentiment_df)\n",
    "mod_1 = sm.OLS(outcome_1, predictors_1)\n",
    "res_1 = mod_1.fit()\n",
    "\n",
    "print(res_1.summary())"
   ]
  },
  {
   "cell_type": "markdown",
   "metadata": {
    "colab_type": "text",
    "id": "lttiw4HhZNep"
   },
   "source": [
    "\n",
    "From the above result, using an alpha of 0.01, we conclude that we don't have statistically significant evidence (i.e. Prob(F-stat) >> 0.01) that a youtube video's title sentiment is correlated with its number of views.\n",
    "\n",
    "However, what if this is due to those 'viral' videos (i.e. views > 5,000,000) that we mentioned above? In the next part we run seperate tests on videos with >5,000,000 views and <5,000,000 views."
   ]
  },
  {
   "cell_type": "code",
   "execution_count": 20,
   "metadata": {
    "colab": {},
    "colab_type": "code",
    "id": "W4FyYF-VZSPw"
   },
   "outputs": [
    {
     "data": {
      "text/plain": [
       "Text(0,0.5,'Number of Views')"
      ]
     },
     "execution_count": 20,
     "metadata": {},
     "output_type": "execute_result"
    },
    {
     "data": {
      "image/png": "[encoded data removed]",
      "text/plain": [
       "<matplotlib.figure.Figure at 0x1c1e6128d0>"
      ]
     },
     "metadata": {},
     "output_type": "display_data"
    }
   ],
   "source": [
    "views_sent_norm = []\n",
    "\n",
    "youtube_norm = titleSentDF[titleSentDF['views'] < 5_000_000]\n",
    "\n",
    "views = list(youtube_norm['views'])\n",
    "\n",
    "title_sentiment_norm, title_sentiment_ind_norm, zero_sentiment_norm = title_sentiments(youtube_norm)\n",
    "\n",
    "for i in title_sentiment_ind_norm:\n",
    "    views_sent_norm.append(views[i])\n",
    "    \n",
    "a_norm, b_norm = np.polyfit(title_sentiment_norm, views_sent_norm, 1)\n",
    "sent_norm_range = np.linspace(-1, 1, 10)\n",
    "views_norm_pred = a_norm*sent_norm_range + b_norm\n",
    "\n",
    "\n",
    "plt.scatter(title_sentiment_norm, views_sent_norm, s=5, c='g')\n",
    "plt.plot(sent_norm_range, views_norm_pred, c = 'red')\n",
    "plt.xlabel('Sentiment')\n",
    "plt.ylabel('Number of Views')"
   ]
  },
  {
   "cell_type": "code",
   "execution_count": 21,
   "metadata": {
    "colab": {},
    "colab_type": "code",
    "id": "65DZ5PePZVZT"
   },
   "outputs": [
    {
     "data": {
      "text/plain": [
       "Text(0,0.5,'Frequency')"
      ]
     },
     "execution_count": 21,
     "metadata": {},
     "output_type": "execute_result"
    },
    {
     "data": {
      "image/png": "[encoded data removed]",
      "text/plain": [
       "<matplotlib.figure.Figure at 0x110f9a518>"
      ]
     },
     "metadata": {},
     "output_type": "display_data"
    }
   ],
   "source": [
    "plt.hist(title_sentiment_norm, bins=20, color='green')\n",
    "plt.xlabel('Sentiment')\n",
    "plt.ylabel('Frequency')"
   ]
  },
  {
   "cell_type": "markdown",
   "metadata": {
    "colab_type": "text",
    "id": "eFPqI6oyZWMr"
   },
   "source": [
    "In this scatterplot, the videos whose view counts exceed 5,000,000 are left out in order to observe the data clusters in better detail. When we fit a linear model, we observe a negative correlation between title sentiment and number of views, which is unexpected. Next we will see if this fit is statistically significant."
   ]
  },
  {
   "cell_type": "code",
   "execution_count": 22,
   "metadata": {
    "colab": {},
    "colab_type": "code",
    "id": "VOeGKse9ZY9T"
   },
   "outputs": [
    {
     "name": "stdout",
     "output_type": "stream",
     "text": [
      "                            OLS Regression Results                            \n",
      "==============================================================================\n",
      "Dep. Variable:        title_sentiment   R-squared:                       0.016\n",
      "Model:                            OLS   Adj. R-squared:                  0.012\n",
      "Method:                 Least Squares   F-statistic:                     4.367\n",
      "Date:                Tue, 11 Jun 2019   Prob (F-statistic):             0.0376\n",
      "Time:                        18:16:21   Log-Likelihood:                -157.72\n",
      "No. Observations:                 271   AIC:                             319.4\n",
      "Df Residuals:                     269   BIC:                             326.6\n",
      "Df Model:                           1                                         \n",
      "Covariance Type:            nonrobust                                         \n",
      "==============================================================================\n",
      "                 coef    std err          t      P>|t|      [0.025      0.975]\n",
      "------------------------------------------------------------------------------\n",
      "Intercept      0.2796      0.034      8.146      0.000       0.212       0.347\n",
      "views_sent -6.543e-08   3.13e-08     -2.090      0.038   -1.27e-07   -3.79e-09\n",
      "==============================================================================\n",
      "Omnibus:                       31.229   Durbin-Watson:                   2.092\n",
      "Prob(Omnibus):                  0.000   Jarque-Bera (JB):               27.305\n",
      "Skew:                          -0.695   Prob(JB):                     1.18e-06\n",
      "Kurtosis:                       2.304   Cond. No.                     1.43e+06\n",
      "==============================================================================\n",
      "\n",
      "Warnings:\n",
      "[1] Standard Errors assume that the covariance matrix of the errors is correctly specified.\n",
      "[2] The condition number is large, 1.43e+06. This might indicate that there are\n",
      "strong multicollinearity or other numerical problems.\n"
     ]
    }
   ],
   "source": [
    "data = {'title_sentiment': title_sentiment_norm, 'views_sent': views_sent_norm}\n",
    "sentiment_df_norm = pd.DataFrame(data=data)\n",
    "\n",
    "outcome_1, predictors_1 = patsy.dmatrices('title_sentiment ~ views_sent', data=sentiment_df_norm)\n",
    "mod_1 = sm.OLS(outcome_1, predictors_1)\n",
    "res_1 = mod_1.fit()\n",
    "\n",
    "print(res_1.summary())"
   ]
  },
  {
   "cell_type": "markdown",
   "metadata": {
    "colab_type": "text",
    "id": "jbmQ2dJ9ZdMa"
   },
   "source": [
    "Once again, even when we exclude 'viral' videos we don't have statistically significant evidence that sentiment is correlated with the number of views a video gets.\n",
    "\n",
    "Lastly, let's see if there is a correlation between sentiment and number of views in 'viral' videos."
   ]
  },
  {
   "cell_type": "code",
   "execution_count": 23,
   "metadata": {
    "colab": {},
    "colab_type": "code",
    "id": "k-plHQOGZf-L"
   },
   "outputs": [
    {
     "data": {
      "text/plain": [
       "Text(0,0.5,'Number of Views')"
      ]
     },
     "execution_count": 23,
     "metadata": {},
     "output_type": "execute_result"
    },
    {
     "data": {
      "image/png": "[encoded data removed]",
      "text/plain": [
       "<matplotlib.figure.Figure at 0x1107ab208>"
      ]
     },
     "metadata": {},
     "output_type": "display_data"
    }
   ],
   "source": [
    "views_sent_viral = []\n",
    "\n",
    "youtube_viral = titleSentDF[titleSentDF['views'] > 5_000_000]\n",
    "\n",
    "views = list(youtube_viral['views'])\n",
    "\n",
    "title_sentiment_viral, title_sentiment_ind_viral, zero_sentiment_viral = title_sentiments(youtube_viral)\n",
    "\n",
    "for i in title_sentiment_ind_viral:\n",
    "    views_sent_viral.append(views[i])\n",
    "\n",
    "a_views_viral, b_views_viral = np.polyfit(title_sentiment_viral, views_sent_viral, 1)\n",
    "title_sent_viral_range = np.linspace(-1, 1, 10)\n",
    "views_viral_pred = a_views_viral*title_sent_viral_range + b_views_viral\n",
    "\n",
    "plt.scatter(title_sentiment_viral, views_sent_viral, s=5, c='r')\n",
    "plt.plot(title_sent_viral_range, views_viral_pred, c = 'r')\n",
    "plt.xlabel('Sentiment')\n",
    "plt.ylabel('Number of Views')"
   ]
  },
  {
   "cell_type": "code",
   "execution_count": 24,
   "metadata": {
    "colab": {},
    "colab_type": "code",
    "id": "ewK1JPfyZiV7"
   },
   "outputs": [
    {
     "data": {
      "text/plain": [
       "Text(0,0.5,'Frequency')"
      ]
     },
     "execution_count": 24,
     "metadata": {},
     "output_type": "execute_result"
    },
    {
     "data": {
      "image/png": "[encoded data removed]",
      "text/plain": [
       "<matplotlib.figure.Figure at 0x1c1e69df60>"
      ]
     },
     "metadata": {},
     "output_type": "display_data"
    }
   ],
   "source": [
    "plt.hist(title_sentiment_viral, bins=20, color='red')\n",
    "plt.xlabel('Sentiment')\n",
    "plt.ylabel('Frequency')"
   ]
  },
  {
   "cell_type": "markdown",
   "metadata": {
    "colab_type": "text",
    "id": "thsyU75ECxri"
   },
   "source": [
    "Now we observe a positive correlation when we fit a linear model on the data of just the 'viral' videos. Next we will run another test to see if this correlation is statistically significant."
   ]
  },
  {
   "cell_type": "code",
   "execution_count": 25,
   "metadata": {
    "colab": {},
    "colab_type": "code",
    "id": "tnyqYlVGZkgl"
   },
   "outputs": [
    {
     "name": "stdout",
     "output_type": "stream",
     "text": [
      "                            OLS Regression Results                            \n",
      "==============================================================================\n",
      "Dep. Variable:        title_sentiment   R-squared:                       0.328\n",
      "Model:                            OLS   Adj. R-squared:                  0.232\n",
      "Method:                 Least Squares   F-statistic:                     3.422\n",
      "Date:                Tue, 11 Jun 2019   Prob (F-statistic):              0.107\n",
      "Time:                        18:16:22   Log-Likelihood:                -3.4625\n",
      "No. Observations:                   9   AIC:                             10.93\n",
      "Df Residuals:                       7   BIC:                             11.32\n",
      "Df Model:                           1                                         \n",
      "Covariance Type:            nonrobust                                         \n",
      "==============================================================================\n",
      "                 coef    std err          t      P>|t|      [0.025      0.975]\n",
      "------------------------------------------------------------------------------\n",
      "Intercept     -0.3742      0.179     -2.092      0.075      -0.797       0.049\n",
      "views_sent  1.635e-08   8.84e-09      1.850      0.107   -4.55e-09    3.72e-08\n",
      "==============================================================================\n",
      "Omnibus:                        4.692   Durbin-Watson:                   3.127\n",
      "Prob(Omnibus):                  0.096   Jarque-Bera (JB):                1.609\n",
      "Skew:                           1.018   Prob(JB):                        0.447\n",
      "Kurtosis:                       3.381   Cond. No.                     2.69e+07\n",
      "==============================================================================\n",
      "\n",
      "Warnings:\n",
      "[1] Standard Errors assume that the covariance matrix of the errors is correctly specified.\n",
      "[2] The condition number is large, 2.69e+07. This might indicate that there are\n",
      "strong multicollinearity or other numerical problems.\n"
     ]
    },
    {
     "name": "stderr",
     "output_type": "stream",
     "text": [
      "/Users/tma2017/anaconda3/lib/python3.6/site-packages/scipy/stats/stats.py:1390: UserWarning: kurtosistest only valid for n>=20 ... continuing anyway, n=9\n",
      "  \"anyway, n=%i\" % int(n))\n"
     ]
    }
   ],
   "source": [
    "data = {'title_sentiment': title_sentiment_viral, 'views_sent': views_sent_viral}\n",
    "sentiment_df_viral = pd.DataFrame(data=data)\n",
    "\n",
    "outcome_1, predictors_1 = patsy.dmatrices('title_sentiment ~ views_sent', data=sentiment_df_viral)\n",
    "mod_1 = sm.OLS(outcome_1, predictors_1)\n",
    "res_1 = mod_1.fit()\n",
    "\n",
    "print(res_1.summary())"
   ]
  },
  {
   "cell_type": "markdown",
   "metadata": {
    "colab_type": "text",
    "id": "8nfIOcbRZnQO"
   },
   "source": [
    "At this point, even amongst 'viral' videos it is no surprise that there is no correlation between sentiment and number of views."
   ]
  },
  {
   "cell_type": "code",
   "execution_count": 26,
   "metadata": {
    "colab": {},
    "colab_type": "code",
    "id": "la1zenyVZn12"
   },
   "outputs": [
    {
     "data": {
      "text/plain": [
       "Text(0,0.5,'Number of Views')"
      ]
     },
     "execution_count": 26,
     "metadata": {},
     "output_type": "execute_result"
    },
    {
     "data": {
      "image/png": "[encoded data removed]",
      "text/plain": [
       "<matplotlib.figure.Figure at 0x110f9aa58>"
      ]
     },
     "metadata": {},
     "output_type": "display_data"
    }
   ],
   "source": [
    "plt.scatter(title_sentiment_norm, views_sent_norm, s=5, c='g')\n",
    "plt.scatter(title_sentiment_viral, views_sent_viral, s=5, c='r')\n",
    "plt.xlabel('Sentiment')\n",
    "plt.ylabel('Number of Views')"
   ]
  },
  {
   "cell_type": "code",
   "execution_count": 27,
   "metadata": {
    "colab": {},
    "colab_type": "code",
    "id": "RvrH8KtZZqI1"
   },
   "outputs": [
    {
     "data": {
      "text/plain": [
       "Text(0,0.5,'Frequency')"
      ]
     },
     "execution_count": 27,
     "metadata": {},
     "output_type": "execute_result"
    },
    {
     "data": {
      "image/png": "[encoded data removed]",
      "text/plain": [
       "<matplotlib.figure.Figure at 0x1c1eb606a0>"
      ]
     },
     "metadata": {},
     "output_type": "display_data"
    }
   ],
   "source": [
    "plt.hist(title_sentiment_norm, bins=20, color='green')\n",
    "plt.hist(title_sentiment_viral, bins=20, color='red')\n",
    "plt.xlabel('Sentiment')\n",
    "plt.ylabel('Frequency')"
   ]
  },
  {
   "cell_type": "markdown",
   "metadata": {
    "colab_type": "text",
    "id": "Z491SADR1FNF"
   },
   "source": [
    "## Upload Date vs Time to Trending Data Analysis and Results"
   ]
  },
  {
   "cell_type": "markdown",
   "metadata": {
    "colab_type": "text",
    "id": "m4k9LqlJdABO"
   },
   "source": [
    "In this section, our goal was to find out how can the upload date of the video affect its time to reach trending on YouTube. Specifically, we wish to explore whether uploading a video on a weekend or a weekday made a difference in terms of minimizing its time to reach trending.\n",
    "\n",
    "First, we split the dataframe into two parts based on whether the upload time of the video is a weekend or not. "
   ]
  },
  {
   "cell_type": "code",
   "execution_count": 28,
   "metadata": {
    "colab": {},
    "colab_type": "code",
    "id": "zbLxKfwEdLrM"
   },
   "outputs": [],
   "source": [
    "# uploadDF_weekends contains all the videos that have upload time in the weekends\n",
    "uploadDF_weekends = uploadDF[uploadDF['publish_time'].dt.dayofweek >= 5] \n",
    "# uploadDF_weekdays contains all the videos that have upload time in the weekdays\n",
    "uploadDF_weekdays = uploadDF[uploadDF['publish_time'].dt.dayofweek < 5]"
   ]
  },
  {
   "cell_type": "markdown",
   "metadata": {
    "colab_type": "text",
    "id": "Dxq-IwqLdgBR"
   },
   "source": [
    "Now, we wanted to find the average amount of days it would take for a video to reach trending from both the weekend and weekdays."
   ]
  },
  {
   "cell_type": "code",
   "execution_count": 29,
   "metadata": {
    "colab": {},
    "colab_type": "code",
    "id": "0u0_be8Edkdo"
   },
   "outputs": [
    {
     "name": "stdout",
     "output_type": "stream",
     "text": [
      "Average time to trending\n",
      "weekends:  6 days 13:30:17.070600\n",
      "weekdays:  8 days 07:32:40.462934\n",
      "\n",
      "\n",
      "Standard Deviations\n",
      "weekends:  4 days 15:17:34.906387\n",
      "weekdays:  31 days 22:07:38.284176\n"
     ]
    }
   ],
   "source": [
    "mean_weekends= uploadDF_weekends[\"publish_to_trending\"].mean()\n",
    "mean_weekdays = uploadDF_weekdays[\"publish_to_trending\"].mean()\n",
    "print('Average time to trending')\n",
    "print(\"weekends: \",mean_weekends)\n",
    "print(\"weekdays: \",mean_weekdays)\n",
    "\n",
    "print('\\n')\n",
    "\n",
    "sd_weekends = uploadDF_weekends[\"publish_to_trending\"].std()\n",
    "sd_weekdays = uploadDF_weekdays[\"publish_to_trending\"].std()\n",
    "print(\"Standard Deviations\")\n",
    "print(\"weekends: \",sd_weekends)\n",
    "print(\"weekdays: \",sd_weekdays)"
   ]
  },
  {
   "cell_type": "markdown",
   "metadata": {
    "colab_type": "text",
    "id": "49eWgyvtPLBF"
   },
   "source": [
    "To visualize our findings, we graphed the data in a bar chart"
   ]
  },
  {
   "cell_type": "code",
   "execution_count": 30,
   "metadata": {
    "colab": {},
    "colab_type": "code",
    "id": "1xlvtiOgPO4R"
   },
   "outputs": [
    {
     "data": {
      "image/png": "[encoded data removed]",
      "text/plain": [
       "<matplotlib.figure.Figure at 0x1c1ed2e278>"
      ]
     },
     "metadata": {},
     "output_type": "display_data"
    }
   ],
   "source": [
    "# Visualizing the result\n",
    "objects = ('Weekends', 'Weekdays')\n",
    "y_pos = np.arange(len(objects))\n",
    "performance = [6,8]\n",
    "\n",
    "plt.bar(y_pos, performance, align='center', alpha=0.5)\n",
    "plt.xticks(y_pos, objects)\n",
    "plt.ylabel('Days')\n",
    "plt.title('Average Time to go from publish to trending')\n",
    "\n",
    "plt.show()"
   ]
  },
  {
   "cell_type": "markdown",
   "metadata": {
    "colab_type": "text",
    "id": "AIqTzQpXPURp"
   },
   "source": [
    "From the result above, we hypothesize that the average time to reach trending when uploading in weekends is shorter than that in weekdays. To further check our hypothesis, we wanted to apply a t-test to make sure that our results make sense."
   ]
  },
  {
   "cell_type": "code",
   "execution_count": 31,
   "metadata": {
    "colab": {},
    "colab_type": "code",
    "id": "BdrXQDZ0d0cl"
   },
   "outputs": [
    {
     "name": "stderr",
     "output_type": "stream",
     "text": [
      "/Users/tma2017/anaconda3/lib/python3.6/site-packages/ipykernel_launcher.py:1: SettingWithCopyWarning: \n",
      "A value is trying to be set on a copy of a slice from a DataFrame.\n",
      "Try using .loc[row_indexer,col_indexer] = value instead\n",
      "\n",
      "See the caveats in the documentation: http://pandas.pydata.org/pandas-docs/stable/indexing.html#indexing-view-versus-copy\n",
      "  \"\"\"Entry point for launching an IPython kernel.\n",
      "/Users/tma2017/anaconda3/lib/python3.6/site-packages/ipykernel_launcher.py:2: SettingWithCopyWarning: \n",
      "A value is trying to be set on a copy of a slice from a DataFrame.\n",
      "Try using .loc[row_indexer,col_indexer] = value instead\n",
      "\n",
      "See the caveats in the documentation: http://pandas.pydata.org/pandas-docs/stable/indexing.html#indexing-view-versus-copy\n",
      "  \n"
     ]
    },
    {
     "data": {
      "text/html": [
       "<div>\n",
       "<style scoped>\n",
       "    .dataframe tbody tr th:only-of-type {\n",
       "        vertical-align: middle;\n",
       "    }\n",
       "\n",
       "    .dataframe tbody tr th {\n",
       "        vertical-align: top;\n",
       "    }\n",
       "\n",
       "    .dataframe thead th {\n",
       "        text-align: right;\n",
       "    }\n",
       "</style>\n",
       "<table border=\"1\" class=\"dataframe\">\n",
       "  <thead>\n",
       "    <tr style=\"text-align: right;\">\n",
       "      <th></th>\n",
       "      <th>Independent t-test</th>\n",
       "      <th>results</th>\n",
       "    </tr>\n",
       "  </thead>\n",
       "  <tbody>\n",
       "    <tr>\n",
       "      <th>0</th>\n",
       "      <td>Difference (weekends_ptt - weekdays_ptt) =</td>\n",
       "      <td>-1.7517</td>\n",
       "    </tr>\n",
       "    <tr>\n",
       "      <th>1</th>\n",
       "      <td>Degrees of freedom =</td>\n",
       "      <td>4144.0000</td>\n",
       "    </tr>\n",
       "    <tr>\n",
       "      <th>2</th>\n",
       "      <td>t =</td>\n",
       "      <td>-1.6850</td>\n",
       "    </tr>\n",
       "    <tr>\n",
       "      <th>3</th>\n",
       "      <td>Two side test p value =</td>\n",
       "      <td>0.0921</td>\n",
       "    </tr>\n",
       "    <tr>\n",
       "      <th>4</th>\n",
       "      <td>Mean of weekends_ptt &gt; mean of weekdays_ptt p ...</td>\n",
       "      <td>0.0460</td>\n",
       "    </tr>\n",
       "    <tr>\n",
       "      <th>5</th>\n",
       "      <td>Mean of weekends_ptt &lt; mean of weekdays_ptt p ...</td>\n",
       "      <td>0.9540</td>\n",
       "    </tr>\n",
       "    <tr>\n",
       "      <th>6</th>\n",
       "      <td>Cohen's d =</td>\n",
       "      <td>-0.0623</td>\n",
       "    </tr>\n",
       "    <tr>\n",
       "      <th>7</th>\n",
       "      <td>Hedge's g =</td>\n",
       "      <td>-0.0623</td>\n",
       "    </tr>\n",
       "    <tr>\n",
       "      <th>8</th>\n",
       "      <td>Glass's delta =</td>\n",
       "      <td>-0.3777</td>\n",
       "    </tr>\n",
       "    <tr>\n",
       "      <th>9</th>\n",
       "      <td>r =</td>\n",
       "      <td>0.0262</td>\n",
       "    </tr>\n",
       "  </tbody>\n",
       "</table>\n",
       "</div>"
      ],
      "text/plain": [
       "                                  Independent t-test    results\n",
       "0        Difference (weekends_ptt - weekdays_ptt) =     -1.7517\n",
       "1                              Degrees of freedom =   4144.0000\n",
       "2                                               t =     -1.6850\n",
       "3                           Two side test p value =      0.0921\n",
       "4  Mean of weekends_ptt > mean of weekdays_ptt p ...     0.0460\n",
       "5  Mean of weekends_ptt < mean of weekdays_ptt p ...     0.9540\n",
       "6                                       Cohen's d =     -0.0623\n",
       "7                                       Hedge's g =     -0.0623\n",
       "8                                   Glass's delta =     -0.3777\n",
       "9                                               r =      0.0262"
      ]
     },
     "execution_count": 31,
     "metadata": {},
     "output_type": "execute_result"
    }
   ],
   "source": [
    "uploadDF_weekends[\"weekends_ptt\"] = uploadDF_weekends[\"publish_to_trending\"].dt.days\n",
    "uploadDF_weekdays[\"weekdays_ptt\"] = uploadDF_weekdays[\"publish_to_trending\"].dt.days\n",
    "\n",
    "descriptives, results = rp.ttest(uploadDF_weekends[\"weekends_ptt\"],uploadDF_weekdays[\"weekdays_ptt\"])\n",
    "results"
   ]
  },
  {
   "cell_type": "markdown",
   "metadata": {
    "colab_type": "text",
    "id": "0w3fYTEnd-BH"
   },
   "source": [
    "From the t-test above, we can see that the probability that our hypothesis is true is calculated to be 95.4%, which confirms our hypothesis. \n",
    "\n",
    "For a more specific analysis, we wanted to take a look at each individual day and see if it was any different from the data we got from generalizing the days of the weeks into two categories."
   ]
  },
  {
   "cell_type": "code",
   "execution_count": 33,
   "metadata": {
    "colab": {},
    "colab_type": "code",
    "id": "Ckw288J3eSpL"
   },
   "outputs": [
    {
     "name": "stdout",
     "output_type": "stream",
     "text": [
      "Average time to reach trending\n",
      "Mon:  6 days 22:06:42.484472\n",
      "Tue:  8 days 21:10:56.859971\n",
      "Wed:  10 days 04:56:35.121951\n",
      "Thu:  7 days 14:59:13.911806\n",
      "Fri:  7 days 04:24:35.618374\n",
      "Sat:  5 days 23:26:03.064833\n",
      "Sun:  7 days 05:46:54.545454\n"
     ]
    }
   ],
   "source": [
    "uploadDF_mon = uploadDF[uploadDF['publish_time'].dt.dayofweek ==0]\n",
    "uploadDF_tue = uploadDF[uploadDF['publish_time'].dt.dayofweek ==1]\n",
    "uploadDF_wed = uploadDF[uploadDF['publish_time'].dt.dayofweek ==2]\n",
    "uploadDF_thu = uploadDF[uploadDF['publish_time'].dt.dayofweek ==3]\n",
    "uploadDF_fri = uploadDF[uploadDF['publish_time'].dt.dayofweek ==4]\n",
    "uploadDF_sat = uploadDF[uploadDF['publish_time'].dt.dayofweek ==5]\n",
    "uploadDF_sun = uploadDF[uploadDF['publish_time'].dt.dayofweek ==6]\n",
    "\n",
    "mean_mon = uploadDF_mon[\"publish_to_trending\"].mean()\n",
    "mean_tue = uploadDF_tue[\"publish_to_trending\"].mean()\n",
    "mean_wed = uploadDF_wed[\"publish_to_trending\"].mean()\n",
    "mean_thu = uploadDF_thu[\"publish_to_trending\"].mean()\n",
    "mean_fri = uploadDF_fri[\"publish_to_trending\"].mean()\n",
    "mean_sat = uploadDF_sat[\"publish_to_trending\"].mean()\n",
    "mean_sun = uploadDF_sun[\"publish_to_trending\"].mean()\n",
    "\n",
    "print(\"Average time to reach trending\")\n",
    "print(\"Mon: \",mean_mon)\n",
    "print(\"Tue: \",mean_tue)\n",
    "print(\"Wed: \",mean_wed)\n",
    "print(\"Thu: \",mean_thu)\n",
    "print(\"Fri: \",mean_fri)\n",
    "print(\"Sat: \",mean_sat)\n",
    "print(\"Sun: \",mean_sun)"
   ]
  },
  {
   "cell_type": "markdown",
   "metadata": {
    "colab_type": "text",
    "id": "6VPUSKc3Pe3h"
   },
   "source": [
    "To visualize our findings, we graphed the data in a bar chart"
   ]
  },
  {
   "cell_type": "code",
   "execution_count": 34,
   "metadata": {
    "colab": {},
    "colab_type": "code",
    "id": "4TOs5PRuGeF9"
   },
   "outputs": [
    {
     "data": {
      "image/png": "[encoded data removed]",
      "text/plain": [
       "<matplotlib.figure.Figure at 0x1c1f06f2e8>"
      ]
     },
     "metadata": {},
     "output_type": "display_data"
    }
   ],
   "source": [
    "objects = ('Mon', 'Tue', 'Wed','Thu','Fri','Sat','Sun')\n",
    "y_pos = np.arange(len(objects))\n",
    "performance = [6,8,10,7,7,5,7]\n",
    "\n",
    "plt.bar(y_pos, performance, align='center', alpha=0.5)\n",
    "plt.xticks(y_pos, objects)\n",
    "plt.ylabel('Days')\n",
    "plt.title('Average Time to go from publish to trending')\n",
    "\n",
    "plt.show()"
   ]
  },
  {
   "cell_type": "markdown",
   "metadata": {},
   "source": [
    "From the result above, we can see that uploading on Wednesday would help the video reach trending the quickest"
   ]
  },
  {
   "cell_type": "markdown",
   "metadata": {
    "colab_type": "text",
    "id": "bq1ScUHY8y6C"
   },
   "source": [
    "# Ethical Considerations and Privacy \n",
    "\n",
    "In general, because the dataset is viewable among the public on Kaggle, therefore it doesn't really violate the personal information of any individual. We didn't include any private video information to perform our analysis.\n",
    "\n",
    "The person who is negatively affected by your finding could be the owners. Even though they wouldn't mind sharing their videos, however, we are using their privacy informations regarding their video to perform our analysis, without their permission. The content that we observe such as how to & style. Our findings could negatively affect the variability of content found in the How To & Style category.  \n",
    "\n",
    "People who could make money off of our findings include potential content creators and companies that sponsor YouTube / these content creators. It is not necessarily an exploiting way to generate money, but some content can be deemed immoral (by viewers and other content creators.) But no personal information is going to be leaked because there is no such thing in our dataset.\n",
    "\n",
    "Also, the dataset could contain some biases that could create results that are unrepresentative of actual Youtube trends. Currently, we found that there is no specific group that is the most successful in this genre. Nevertheless, it is hard to see that this dataset is biased, as it seems that it was created using automated processes. Upon further research, the dataset has no mention of race, gender, occupation, or religious preference. Though, this does not change the fact that the creator may have altered their dataset. Therefore, the data that we've reported could be biased.\n"
   ]
  },
  {
   "cell_type": "markdown",
   "metadata": {
    "colab_type": "text",
    "id": "JZ1xz8CFCFOt"
   },
   "source": [
    "# Conclusion and Discussion \n",
    "\n",
    "As a reminder, our hypothesis was : \"Titles that have positive sentiment will induce more interaction, thus yielding more views. Additionally, popular videos are more likely to be uploads that are on the weekends. Furthermore, we hypothesize that the more number of tags there are, the more views as well, in addition to using more popular tags.\"\n",
    "\n",
    "In the end, we discovered that for the date of upload, our hypothesis was correct. The upload date played a role in views attained because the average days to trending were lower on the weekends rather than the weekdays. As a result, it was faster to reach trending if one were to upload on a weekend and thus reap more views. We took this approach because we believed that people had more free time on the weekends to spend leisurely on YouTube. As a result, more leisure time would be correlated with more YouTube usage. Thus, more binge-watching videos on the weekends.\n",
    "\n",
    "\n",
    "The number of tags was also a similar concept. Since some content creators had more tags than other, they gained more exposure thanks to people exploring those tags. Therefore, the more exposure their video got via crossing with other tags increased their viewership. \n",
    "\n",
    "To further elaborate on the tags, we found out that the top ten popular tags were beauty, business insider, ysac, olivia jade, DIY, spongebob, lifesttyle, kim kardashian, kinetic sand, and cook from this dataset. With the most popular tag related to beauty. And the least popular tag related to cook. This is based on the number of views of those tags.\n",
    "\n",
    "Finally, for the sentiment analysis, in general, there tended to be more videos with positive sentiments than negative ones. However, based on our findings in this section, we conclude that there is no strong, univariate correlation between a youtube video's sentiment score (based on the NLTK vader's sentiment analysis) and its number of views. We did notice that videos tend to be bimodal around the +0.50 and -0.50 sentiment marks, although this has nothing to do with the popularity of the videos themselves. Additionally, there also was a tendency for viral videos (videos with over 5,000,000 views) to lean towards the negative sentiment side, although this could be due to a low viral video population.\n",
    "\n",
    "In general, one limitation of our project is that our study only inlcudes 4000 videos, whereas there are millions of trending on YouTube. This dataset only includes the videos in 2017-2018, which does not represent the YouTube throughout the years. If we have more observations, we could have a more powerful analysis. "
   ]
  }
 ],
 "metadata": {
  "colab": {
   "collapsed_sections": [],
   "name": "Final Project",
   "provenance": [],
   "toc_visible": true,
   "version": "0.3.2"
  },
  "kernelspec": {
   "display_name": "Python 3",
   "language": "python",
   "name": "python3"
  },
  "language_info": {
   "codemirror_mode": {
    "name": "ipython",
    "version": 3
   },
   "file_extension": ".py",
   "mimetype": "text/x-python",
   "name": "python",
   "nbconvert_exporter": "python",
   "pygments_lexer": "ipython3",
   "version": "3.6.8"
  }
 },
 "nbformat": 4,
 "nbformat_minor": 1
}
