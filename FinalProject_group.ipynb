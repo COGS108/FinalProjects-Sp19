{
 "cells": [
  {
   "cell_type": "markdown",
   "metadata": {},
   "source": [
    "# COGS 108 - Final Project "
   ]
  },
  {
   "cell_type": "markdown",
   "metadata": {},
   "source": [
    "# Overview"
   ]
  },
  {
   "cell_type": "markdown",
   "metadata": {},
   "source": [
    "Many people are familiar with the phrase \"women and children first\" from the James Cameron film, Titanic. To confirm whether this trope actually existed in real life, available passenger data from the Titanic was cleaned and analyzed. The chi-square test was then used to determine the effect of sex and age on the survivability of passengers. The following statistical analysis revealed that both women and children were significantly more likely to obtain a spot on a lifeboat and thus survive."
   ]
  },
  {
   "cell_type": "markdown",
   "metadata": {},
   "source": [
    "# Names\n",
    "\n",
    "- Sean Wong"
   ]
  },
  {
   "cell_type": "markdown",
   "metadata": {},
   "source": [
    "# Group Members IDs\n",
    "\n",
    "- A12849342"
   ]
  },
  {
   "cell_type": "markdown",
   "metadata": {},
   "source": [
    "# Research Question"
   ]
  },
  {
   "cell_type": "markdown",
   "metadata": {},
   "source": [
    "Did women and children get priority over men in terms of getting on a lifeboat during the Titanic disaster?"
   ]
  },
  {
   "cell_type": "markdown",
   "metadata": {},
   "source": [
    "## Background and Prior Work"
   ]
  },
  {
   "cell_type": "markdown",
   "metadata": {},
   "source": [
    "A famous saying regarding the tragedy of the Titanic is \"women and children first\". However, this saying came almost sixty years before the sinking of the Titanic. In fact, \"women and children first\" was an order that came from the captain of the HMS Birkenhead when disaster struck and the HMS Birkenhead crashed into rocks [1]. British society at the time was built upon chivalry, which lead to men either sacrificing themselves to maintain their honor or living in shame for the rest of their lives. This attitude that men had lasted well into the twentieth century where we can find the sinking of the Titanic. A famous example of this is J. Bruce Ismay, whose company had built the Titanic and who survived the sinking of the Titanic by boarding a lifeboat. As a survivor and builder of the Titanic, Ismay was detested because society felt that he should have risked his life to save others [2]. Due to the nature of the Titanic as a cultural phenomena, there are many studies that have analyzed the survival rate of a passenger based on certain qualities of the passenger. One study in particular linked lower social class to a lower survival rate [3]."
   ]
  },
  {
   "cell_type": "markdown",
   "metadata": {},
   "source": [
    "# Hypothesis\n"
   ]
  },
  {
   "cell_type": "markdown",
   "metadata": {},
   "source": [
    "Female passengers and and child passengers boarding the vessel known as the RMS Titanic were more likely to survive the sinking of the ship than their adult male counterparts. The reason this correlation could be the case is due to the chivalric behavior expected from the men of this time period. This expectation would cause men to sacrifice themselves to save women and children, allowing them to retain their honor in death."
   ]
  },
  {
   "cell_type": "markdown",
   "metadata": {},
   "source": [
    "# Dataset(s)"
   ]
  },
  {
   "cell_type": "markdown",
   "metadata": {},
   "source": [
    "- Dataset Name: titanic.csv\n",
    "- Link to the dataset: https://github.com/mwaskom/seaborn-data/blob/master/titanic.csv (can also be loaded from the seaborn module)\n",
    "- Number of observations: 892\n",
    "\n",
    "The titanic dataset contains 892 passengers of the 2224 passengers who boarded the Titanic. The dataset contains information about passengers such as age, sex, and ticket class."
   ]
  },
  {
   "cell_type": "markdown",
   "metadata": {},
   "source": [
    "# Setup"
   ]
  },
  {
   "cell_type": "code",
   "execution_count": 91,
   "metadata": {},
   "outputs": [],
   "source": [
    "import pandas as pd\n",
    "import seaborn as sb\n",
    "import matplotlib.pyplot as plt\n",
    "from scipy import stats\n",
    "\n",
    "#load in the dataset\n",
    "df = sb.load_dataset(\"titanic\")"
   ]
  },
  {
   "cell_type": "markdown",
   "metadata": {},
   "source": [
    "# Data Cleaning"
   ]
  },
  {
   "cell_type": "markdown",
   "metadata": {},
   "source": [
    "Some passengers within the titanic dataset were missing key data. Key data were those data that were necessary for analysis, such as the passenger's sex or age. If passengers were missing such data, their data were excluded from analysis."
   ]
  },
  {
   "cell_type": "code",
   "execution_count": 43,
   "metadata": {},
   "outputs": [],
   "source": [
    "#drop rows that are missing key data\n",
    "df = df.dropna(subset=['survived','pclass','sex','age'])"
   ]
  },
  {
   "cell_type": "markdown",
   "metadata": {},
   "source": [
    "# Data Analysis & Results"
   ]
  },
  {
   "cell_type": "markdown",
   "metadata": {},
   "source": [
    "Include cells that describe the steps in your data analysis."
   ]
  },
  {
   "cell_type": "code",
   "execution_count": 44,
   "metadata": {},
   "outputs": [],
   "source": [
    "#total number of valid passengers\n",
    "nTotal = df.shape[0]\n",
    "\n",
    "#population that is either female or male\n",
    "nMale = sum(df['sex'] == 'male')\n",
    "nFemale = sum(df['sex'] == 'female')\n",
    "pFemale = nFemale / nTotal\n",
    "pMale = nMale / nTotal\n",
    "\n",
    "#population that is either first, second, or third class\n",
    "nFirst = sum(df['pclass'] == 1)\n",
    "nSecond = sum(df['pclass'] == 2)\n",
    "nThird = sum(df['pclass'] == 3)\n",
    "pFirst = nFirst / nTotal\n",
    "pSecond = nSecond / nTotal\n",
    "pThird = nThird / nTotal\n",
    "\n",
    "#number of children versus adults\n",
    "#legal age of an adult in Britain, where Titanic set sail, \n",
    "#in 1912, when Titanic set sail\n",
    "child = 16\n",
    "\n",
    "#population that are either adults or children\n",
    "nChildren = sum(df['age'] < 16)\n",
    "nAdult = nTotal - nChildren\n",
    "pChildren = nChildren / nTotal\n",
    "pAdult = nAdult / nTotal"
   ]
  },
  {
   "cell_type": "code",
   "execution_count": 87,
   "metadata": {},
   "outputs": [
    {
     "data": {
      "text/plain": [
       "Text(0, 0.5, 'Number')"
      ]
     },
     "execution_count": 87,
     "metadata": {},
     "output_type": "execute_result"
    },
    {
     "data": {
      "image/png": "[encoded data removed]",
      "text/plain": [
       "<Figure size 432x288 with 1 Axes>"
      ]
     },
     "metadata": {
      "needs_background": "light"
     },
     "output_type": "display_data"
    }
   ],
   "source": [
    "plt.bar(x = [\"Female\", \"Male\"], height = [nFemale, nMale])\n",
    "plt.title(\"Figure 1: Number of Females and Males\")\n",
    "plt.xlabel(\"Sex\")\n",
    "plt.ylabel(\"Number\")"
   ]
  },
  {
   "cell_type": "markdown",
   "metadata": {},
   "source": [
    "Figure 1 above is a graphical representation of the available Titanic population that were either female or male. As shown, males comprise a majority of the Titanic population compared to females. This disparity will need to be accounted for in the analysis."
   ]
  },
  {
   "cell_type": "code",
   "execution_count": 88,
   "metadata": {},
   "outputs": [
    {
     "data": {
      "text/plain": [
       "Text(3.8, 0.5, 'Ticket cost')"
      ]
     },
     "execution_count": 88,
     "metadata": {},
     "output_type": "execute_result"
    },
    {
     "data": {
      "image/png": "[encoded data removed]",
      "text/plain": [
       "<Figure size 360x360 with 1 Axes>"
      ]
     },
     "metadata": {
      "needs_background": "light"
     },
     "output_type": "display_data"
    }
   ],
   "source": [
    "sb.catplot(\"class\", \"fare\", data=df)\n",
    "plt.title(\"Figure 2: Ticket costs\")\n",
    "plt.xlabel(\"Class\")\n",
    "plt.ylabel(\"Ticket cost\")"
   ]
  },
  {
   "cell_type": "markdown",
   "metadata": {},
   "source": [
    "Figure 2 above shows the cost for first, second, and third class tickets. Second class tickets are slightly more expensive than third class tickets. First class tickets are several times more expensive than either second or third class tickets."
   ]
  },
  {
   "cell_type": "code",
   "execution_count": 89,
   "metadata": {},
   "outputs": [
    {
     "data": {
      "image/png": "[encoded data removed]",
      "text/plain": [
       "<Figure size 432x288 with 1 Axes>"
      ]
     },
     "metadata": {
      "needs_background": "light"
     },
     "output_type": "display_data"
    }
   ],
   "source": [
    "firstFemale = sum((df['sex'] == 'female') & (df['survived'] == 1)\n",
    "                  & (df['class'] == 'First'))/sum((df['sex'] ==\n",
    "                    'female') & (df['class'] == 'First'))\n",
    "secondFemale = sum((df['sex'] == 'female') & (df['survived'] == 1)\n",
    "                   & (df['class'] == 'Second'))/sum((df['sex'] ==\n",
    "                    'female') & (df['class'] == 'Second'))\n",
    "thirdFemale = sum((df['sex'] == 'female') & (df['survived'] == 1)\n",
    "                  & (df['class'] == 'Third'))/sum((df['sex'] ==\n",
    "                    'female') & (df['class'] == 'Third'))\n",
    "\n",
    "firstMale = sum((df['sex'] == 'male') & (df['survived'] == 1)\n",
    "                & (df['class'] == 'First'))/sum((df['sex'] ==\n",
    "                    'male') & (df['class'] == 'First'))\n",
    "secondMale = sum((df['sex'] == 'male') & (df['survived'] == 1)\n",
    "                 & (df['class'] == 'Second'))/sum((df['sex'] ==\n",
    "                    'male') & (df['class'] == 'Second'))\n",
    "thirdMale = sum((df['sex'] == 'male') & (df['survived'] == 1)\n",
    "                & (df['class'] == 'Third'))/sum((df['sex'] ==\n",
    "                    'male') & (df['class'] == 'Third'))\n",
    "\n",
    "firstChild = sum((df['age'] < 16) & (df['survived'] == 1)\n",
    "                 & (df['class'] == 'First'))/sum((df['age']\n",
    "                    < 16) & (df['class'] == 'First'))\n",
    "secondChild = sum((df['age'] < 16) & (df['survived'] == 1)\n",
    "                  & (df['class'] == 'Second'))/sum((df['age']\n",
    "                    < 16) & (df['class'] == 'Second'))\n",
    "thirdChild = sum((df['age'] < 16) & (df['survived'] == 1)\n",
    "                 & (df['class'] == 'Third'))/sum((df['age']\n",
    "                    < 16) & (df['class'] == 'Third'))\n",
    "\n",
    "femaleData = [firstFemale, secondFemale, thirdFemale]\n",
    "maleData = [firstMale, secondMale, thirdMale]\n",
    "childData = [firstChild, secondChild, thirdChild]\n",
    "classes = [\"First\", \"Second\", \"Third\"]\n",
    "\n",
    "fig, ax = plt.subplots()\n",
    "plt.title(\"Figure 3: Survivability based on class\")\n",
    "plt.xlabel(\"Classes\")\n",
    "plt.ylabel(\"Percent survival\")\n",
    "ax.plot(classes, femaleData, label=\"female\")\n",
    "ax.plot(classes, childData, label=\"child\")\n",
    "ax.plot(classes, maleData, label=\"male\")\n",
    "ax.legend()\n",
    "\n",
    "plt.show()"
   ]
  },
  {
   "cell_type": "markdown",
   "metadata": {},
   "source": [
    "Figure 3 shows the survival rates of females, children, and males based on what class they were in. Men had the worst survival rate even when compared to children and women in third class. There is also a decline in survivability from first to third class observed in women and men."
   ]
  },
  {
   "cell_type": "markdown",
   "metadata": {},
   "source": [
    "Both lines of code below utilize the \"chisquare\" function from the scipy module. The chi square test is a statistical test that determines whether two groups are statistically different. Because I want to answer the question of whether women and children got priority over men, I first total the number of women, men, and children who have not survived the titanic. The number of women, men, and children who died are the observed values. Next, I calculate the expected values by summing up the total number of dead and multiplying by the proportion of the population that were either women, men, or children. The reason for this is that if neither sex or age is a factor, then the number of women and men or children and men that are dead should be the same once normalized for the number of women, men, or children. Then, using the chi square test, I compare the number of women dead to the number of men dead and the number of children dead to the number of men dead."
   ]
  },
  {
   "cell_type": "code",
   "execution_count": 126,
   "metadata": {},
   "outputs": [],
   "source": [
    "#1\n",
    "fDead = sum((df['sex'] == 'female') & (df['survived'] == 0))\n",
    "mDead = sum((df['sex'] == 'male') & (df['survived'] == 0))\n",
    "cDead = sum((df['age'] < 16) & (df['survived'] == 0))\n",
    "\n",
    "#2\n",
    "nTotalDead = sum(df['survived'] == 0)\n",
    "fNull = nTotalDead*pFemale\n",
    "mNull = nTotalDead*pMale\n",
    "cNull = nTotalDead*pChildren\n",
    "\n",
    "#3\n",
    "x1, p1 = stats.chisquare([fDead, mDead], [fNull, mNull])\n",
    "x2, p2 = stats.chisquare([cDead, mDead], [cNull, mNull])"
   ]
  },
  {
   "cell_type": "code",
   "execution_count": 130,
   "metadata": {},
   "outputs": [
    {
     "name": "stdout",
     "output_type": "stream",
     "text": [
      "The p-value for sex is 2.77252373883949e-26\n",
      "--------------------------------------------\n",
      "The p-value for age is 1.1702563580769577e-13\n"
     ]
    }
   ],
   "source": [
    "print(\"The p-value for sex is {}\".format(p1))\n",
    "print(\"--------------------------------------------\")\n",
    "print(\"The p-value for age is {}\".format(p2))"
   ]
  },
  {
   "cell_type": "markdown",
   "metadata": {},
   "source": [
    "Because the p-values for both sex and age are smaller than the threshold of 0.05, the sex and age of the passengers had a significant effect on whether the passenger would not survive."
   ]
  },
  {
   "cell_type": "markdown",
   "metadata": {},
   "source": [
    "# Ethics & Privacy"
   ]
  },
  {
   "cell_type": "markdown",
   "metadata": {},
   "source": [
    "In terms of privacy, I think that there are no issues. The reason for this is due to the public availability of Titanic passenger data due to multiple revisions and publications of the data provided by White Star Line, the company that built the Titanic. Even so, the dataset utilized in this project does not include the names of the passengers, which can obfuscate the connection between an individual and the data from the dataset. Although this project was an interesting look into British society of the 1910s, I think serious ethical questions have also popped up as a result. First and foremost is the value of a human life. There were three variables that played a role in survivability: class, gender, and age (Figure 3). It turns out that being female, young, or rich had a significant impact on whether a person was able to get into a lifeboat or not. Without enough lifeboats for everyone, it was shown clearly that certain people were more valuable than others. In fact, many arguments sprung up stating that \"women are more valuable to humanity than men\" and that \"women need protection because they are naturally weak\" [4]. As a response to the situation, nations signed an international maritime treaty called the International Convention for the Safety of Life at Sea (SOLAS) convention. In chapter III of the SOLAS convention, titled \"Life-Saving Appliances\", there are several sections that dictate certain policies about ships and lifeboats to prevent another Titanic situation from occuring. Paritcularly important are regulations eight and nine, which respectively state, \"number of motor lifeboats to be carried\" and \"specifications of motor lifeboats\" [5]."
   ]
  },
  {
   "cell_type": "markdown",
   "metadata": {},
   "source": [
    "# Conclusion & Discussion"
   ]
  },
  {
   "cell_type": "markdown",
   "metadata": {},
   "source": [
    "Indeed women and children were given priority over men in getting a spot on a lifeboat. Statistically speaking, since the p-value for sex is smaller than that for age, sex had a greater effect on survivability than age. While it appears that the famous saying has been confirmed, in fact, there are some holes in this analysis. The total number of passengers on the RMS Titanic is recorded at 2229 passengers [6]. Due to loss of information over a century, this number is 1377 less than the number of rows in the Titanic dataset. This could have affected analysis because the dataset may not be representative of all 2229 passengers, meaning that there could be more female and children survivors due to chance."
   ]
  },
  {
   "cell_type": "markdown",
   "metadata": {},
   "source": [
    "# References"
   ]
  },
  {
   "cell_type": "markdown",
   "metadata": {},
   "source": [
    "- 1) https://www.historic-uk.com/CultureUK/Women-Children-First/\n",
    "- 2) How to Survive the Titanic: The Sinking of J. Bruce Ismay (ISBN-10: 0062094556)\n",
    "- 3) https://doi.org/10.1016/0277-9536(86)90041-9\n",
    "- 4) Iconic Events: Media, Politics, and Power in Retelling History (ISBN-10: 0739115200)\n",
    "- 5) https://www.ifrc.org/docs/idrl/I456EN.pdf\n",
    "- 6) https://www.historyonthenet.com/how-many-people-were-on-the-titanic"
   ]
  }
 ],
 "metadata": {
  "kernelspec": {
   "display_name": "Python 3",
   "language": "python",
   "name": "python3"
  },
  "language_info": {
   "codemirror_mode": {
    "name": "ipython",
    "version": 3
   },
   "file_extension": ".py",
   "mimetype": "text/x-python",
   "name": "python",
   "nbconvert_exporter": "python",
   "pygments_lexer": "ipython3",
   "version": "3.6.7"
  }
 },
 "nbformat": 4,
 "nbformat_minor": 2
}
