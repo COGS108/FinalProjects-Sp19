{
 "cells": [
  {
   "cell_type": "markdown",
   "metadata": {},
   "source": [
    "# COGS 108 - Final Project"
   ]
  },
  {
   "cell_type": "markdown",
   "metadata": {},
   "source": [
    "# Overview\n",
    "We started by cleaning our data set from Kaggle about Youtube’s trending video data from 2010-2018 by dropping unnecessary rows of information we didn’t utilize in our project, we also made sure that all the different countries had the same amount of categories. After we cleaned the data we began to describe the numerical data like, views, likes and dislikes. For the analysis, we began by analyzing how long after a video is published does it become trending, analyzed the titles across categories to see if there were any “hot” topics being discussed, found what categories were the most popular in each country and then compared to see what videos were present on multiple countries’ trending lists."
   ]
  },
  {
   "cell_type": "markdown",
   "metadata": {},
   "source": [
    "# Names"
   ]
  },
  {
   "cell_type": "markdown",
   "metadata": {},
   "source": [
    "- Anirudh Perubotla\n",
    "- Junyu Lai\n",
    "- Tina Vu\n",
    "- Simon Li\n",
    "- John Ooi"
   ]
  },
  {
   "cell_type": "markdown",
   "metadata": {},
   "source": [
    "# Group Members IDs\n",
    "Removed"
   ]
  },
  {
   "cell_type": "markdown",
   "metadata": {},
   "source": [
    "# Research Question\n",
    "What are the most popular categories of Youtube videos across different countries and what factors make a video go viral? Are there certain factors that are shared to make videos \"universally\" popular or even unappealing?"
   ]
  },
  {
   "cell_type": "markdown",
   "metadata": {},
   "source": [
    "## Background and Prior Work\n",
    "Our dataset contains trending video data from several different countries along with information about the video: including title, thumbnail, creator, and category. Some information we found on the topic of “viral videos” or YouTube Trending is that there are certain qualities present that make a video more likely to be popular. For example, in a Forbes article by Ilya Pozin, he discusses 6 qualities a video should have. 4e) These being 1) keep it short, 2) be positive, 3) keep up with current events, 4) be engaging, 5) be informative, and 6) be inspiring. Another analysis done by Brian Dean analyzed over a million YouTube videos to see just how their algorithm worked.  He discovered that the amount of comments, views, and shares strongly correlates to a video's popularity, and unlike Pozin’s conclusion, longer videos are actually better. Surprisingly, the average video on the front page has a length of around 14 minutes. YouTube has actually confirmed that how long a person spends watching a video plays in its ranking, so naturally, longer videos will have better rankings. He also found that keywords and rich descriptions also don’t help with popularity, even though keywords in the past used to increase engagement and discovery. This is because as YouTube’s algorithms are getting more intelligent, it actually “listens” for the dialogue in a video and categorizes it that way, eliminating the need for metadata like tags. A project shared on Kaggle, “DEEP ANALYSIS of on YouTube Trending Videos - EDA”, was found to be very similar to our research question. This person analyzed data of YouTube videos to find out the most popular categories across several countries: the US, Canada, UK, France, and Germany. He found a strong correlation of trending videos appearing in each of the countries lists, and that the top category is usually entertainment. This person also did a sentiment analysis on the tags of these videos to see which categories usually have a positive vs negative sentiment, with Politics being the most negative and Pets and Animals having the most positive. To end the analysis, he analyzed the tags yet again to find the most popular tags in each category illustrated with a word map. \n",
    "\n",
    "In contrast to the Kaggle project mentioned above, our group has access to a data set with many more countries listed. The above project mainly focused on similar western and highly industrialized countries, so it will be interesting to see what the outcome will be like once our group introduces other countries with very different cultures. It’s analysis also relied heavily on tags, which Dean concluded as uncorrelated to a video's popularity. Using that project as inspiration, we hope to find out more data by comparing these different values and seeing how it affects the popularity of videos. Through our analysis, we can also see if the factors Pozin and Dean presented are indeed true. Hopefully, by the end of our project, we can see what people of different countries lean towards more when searching for things to watch in their spend their free time and what they value most. We could also supplement our findings with research about current events in the country and see if there is a strong correlation/explanation since Pozin concluded that the most viral videos are linked to current events.\n",
    "\n",
    "References:\n",
    " - 1) https://www.forbes.com/sites/ilyapozin/2014/08/07/6-qualities-to-make-your-videos-go-viral/#7edf8fc815\n",
    " - 2) https://backlinko.com/youtube-ranking-factors\n",
    " - 3) https://www.kaggle.com/hoonkeng/deep-analysis-on-youtube-trending-videos-eda"
   ]
  },
  {
   "cell_type": "markdown",
   "metadata": {},
   "source": [
    "# Hypothesis\n",
    "As the culture in each country is different, we expect there to be some differences in their most popular videos. However, we expect these videos to still share common traits, with title patterns or common themes. We predict that titles with positive “hot topic\" words will be the most popular across all countries because of how quickly news gets out and spread with social media. As Ilya Pozin said in his article, content that evokes strong emotions in the consumer are more shared, and from these positive or upbeat sentiments being the strongest. People like to be on trend and have knowledge on the hottest topics as well, to keep up with social media. For example, a trailer for Detective Pikachu we would predict to be popular because it would get a lot of notoriety on social media and therefore more views on Youtube, along with the fact that Pokemon is a generally positive topic. We also predict entertainment to be a popular category, if not, the most popular category amongst all countries because Youtube is used as a way to unwind and people will watch what’s the most convenient and easy to consume, no matter their ethnicity. We also predict that similar countries will have similar tastes in videos, for example the US and Canada vs Japan and Korea, because these countries share similar cultural values and tastes. Another prediction we have is that higher user engagement, as in likes, views and comments, will give rise to a trending video. We hypothesize this because we think this is how Youtube’s trending algorithm works as they have more data to track and compare to other videos to see what is more popular.\n",
    "\n"
   ]
  },
  {
   "cell_type": "markdown",
   "metadata": {},
   "source": [
    "# Dataset(s)"
   ]
  },
  {
   "cell_type": "markdown",
   "metadata": {},
   "source": [
    "There are 20 files in the dataset which contains 10 CSV files and 10 JSON files, each CSV file contains statistical data from YouTube for one country, and there is a corresponding JSON file contains video categories with a unique id. In the CSV files, there are 16 variables in each row and each contains corresponding data, below is a chart showing variable name and the explanations.\n",
    "\n",
    "| Variable Name | Explanation |\n",
    "| --- | --- |\n",
    "| video_id | Unique id of a video |\n",
    "| trending_data | The date when the video became trending in yyyy/dd/mm format |\n",
    "| title | The title of the video |\n",
    "| channel_title | The title of the channel |\n",
    "| category_id | Unique id of a category the video belongs to |\n",
    "| publish_time | The data of the video published in yyyy-mm-dd format |\n",
    "| tags | Tags information of a video |\n",
    "| views | How many people viewed this video |\n",
    "| dislikes | How many people don't like the video |\n",
    "| comment_count | How many comments people made \n",
    "| thumbnail_link | Links to the thumbnail picture |\n",
    "| comments_disabled | Are people allowed to make comments on the video |\n",
    "| ratings_disabled | Are people allowed to rate the video |\n",
    "| video_error_or_removed | Did the video get removed or have an error playing |\n",
    "| description | Description of the video |\n",
    "\n",
    "In the JSON file, there are three variables in each row, which contains kind, etag, and items. Below is the table of each variable.\n",
    "\n",
    "| Variable Name | Explanation |\n",
    "| --- | --- |\n",
    "| kind | What kind of data it is |\n",
    "| etag | Tag for the data |\n",
    "| items | Contains information of categories |\n",
    "\n",
    "\n",
    "- Dataset Name: “Trending YouTube Video Statistics”\n",
    "- Link to the dataset: https://www.kaggle.com/datasnaek/youtube-new\n",
    "- Number of observations:  20522 - 40949\n",
    "\n",
    "Description: The dataset we will use in the project is from Kaggle called “Trending YouTube Video Statistics” which is provided by Mitchell J. We are finding what are the most popular categories of YouTube videos in different countries, so we are using the data in the dataset for instance, likes, dislikes, or views to determine what kinds of videos are popular and why they are popular. "
   ]
  },
  {
   "cell_type": "markdown",
   "metadata": {},
   "source": [
    "# Setup"
   ]
  },
  {
   "cell_type": "code",
   "execution_count": 1,
   "metadata": {},
   "outputs": [
    {
     "name": "stdout",
     "output_type": "stream",
     "text": [
      "[nltk_data] Downloading package stopwords to\n",
      "[nltk_data]     /Users/Kingsley_Lai/nltk_data...\n",
      "[nltk_data]   Package stopwords is already up-to-date!\n"
     ]
    },
    {
     "data": {
      "text/plain": [
       "True"
      ]
     },
     "execution_count": 1,
     "metadata": {},
     "output_type": "execute_result"
    }
   ],
   "source": [
    "#import module\n",
    "import numpy as np\n",
    "import pandas as pd\n",
    "import matplotlib.pyplot as plt\n",
    "import seaborn as sns\n",
    "from nltk.tokenize import word_tokenize\n",
    "from nltk.corpus import stopwords\n",
    "from nltk.stem import PorterStemmer\n",
    "from nltk.probability import FreqDist\n",
    "import string\n",
    "import nltk\n",
    "nltk.download(\"stopwords\")"
   ]
  },
  {
   "cell_type": "markdown",
   "metadata": {},
   "source": [
    "# Data Cleaning"
   ]
  },
  {
   "cell_type": "markdown",
   "metadata": {},
   "source": [
    "### Step 1\n",
    "- Step 1.1: Fix different languages encoding problem\n",
    "\n",
    "The dataset from Kaggle had inconsistent encoding problems causing the Pandas module to not be able to read whole CSV file for somelanguages such as Japanese. Therefore, the description columns were dropped because they caused these unexpected encoding problems. \n",
    "By taking the description columns down, the Pandas module can read the CSV file using different encoding. \n",
    "This step should not be run after the first step because the following code will overwrite the orignal CSV files using utf_8_sig encoding."
   ]
  },
  {
   "cell_type": "code",
   "execution_count": 2,
   "metadata": {},
   "outputs": [],
   "source": [
    "# #reading CSV files\n",
    "# #DO NOT RUN THIS PART OF THE CODE\n",
    "# df_CA = pd.read_csv('youtube-new/CAvideos.csv',encoding='utf-8')\n",
    "# df_DE = pd.read_csv('youtube-new/DEvideos.csv',encoding='utf-8')\n",
    "# df_FR = pd.read_csv('youtube-new/FRvideos.csv',encoding='utf-8')\n",
    "# df_GB = pd.read_csv('youtube-new/GBvideos.csv',encoding='utf-8')\n",
    "# df_IN = pd.read_csv('youtube-new/INvideos.csv',encoding='utf-8')\n",
    "# df_JP = pd.read_csv('youtube-new/JPvideos.csv',encoding='utf-8')\n",
    "# df_KR = pd.read_csv('youtube-new/KRvideos.csv',encoding='utf-8')\n",
    "# df_MX = pd.read_csv('youtube-new/MXvideos.csv',encoding='latin-1')\n",
    "# df_RU = pd.read_csv('youtube-new/RUvideos.csv',encoding='iso8859_5')\n",
    "# df_US = pd.read_csv('youtube-new/USvideos.csv',encoding='utf-8')"
   ]
  },
  {
   "cell_type": "code",
   "execution_count": 3,
   "metadata": {},
   "outputs": [],
   "source": [
    "# # change encoding for everyfile\n",
    "# #DO NOT RUN THIS PART OF THE CODE\n",
    "# df_CA.to_csv(r'youtube-new/CAvideos.csv',encoding='utf_8_sig',index=False)\n",
    "# df_DE.to_csv(r'youtube-new/DEvideos.csv',encoding='utf_8_sig',index=False)\n",
    "# df_FR.to_csv(r'youtube-new/FRvideos.csv',encoding='utf_8_sig',index=False)\n",
    "# df_GB.to_csv(r'youtube-new/GBvideos.csv',encoding='utf_8_sig',index=False)\n",
    "# df_IN.to_csv(r'youtube-new/INvideos.csv',encoding='utf_8_sig',index=False)\n",
    "# df_JP.to_csv(r'youtube-new/JPvideos.csv',encoding='utf_8_sig',index=False)\n",
    "# df_KR.to_csv(r'youtube-new/KRvideos.csv',encoding='utf_8_sig',index=False)\n",
    "# df_MX.to_csv(r'youtube-new/MXvideos.csv',encoding='utf_8_sig',index=False)\n",
    "# df_RU.to_csv(r'youtube-new/RUvideos.csv',encoding='utf_8_sig',index=False)\n",
    "# df_US.to_csv(r'youtube-new/USvideos.csv',encoding='utf_8_sig',index=False)"
   ]
  },
  {
   "cell_type": "markdown",
   "metadata": {},
   "source": [
    "- Step 1.2: Read in data"
   ]
  },
  {
   "cell_type": "code",
   "execution_count": 4,
   "metadata": {},
   "outputs": [],
   "source": [
    "#CSV\n",
    "df_CA = pd.read_csv('youtube-new/CAvideos.csv',encoding='utf_8_sig')\n",
    "df_DE = pd.read_csv('youtube-new/DEvideos.csv',encoding='utf_8_sig')\n",
    "df_FR = pd.read_csv('youtube-new/FRvideos.csv',encoding='utf_8_sig')\n",
    "df_GB = pd.read_csv('youtube-new/GBvideos.csv',encoding='utf_8_sig')\n",
    "df_IN = pd.read_csv('youtube-new/INvideos.csv',encoding='utf_8_sig')\n",
    "df_JP = pd.read_csv('youtube-new/JPvideos.csv',encoding='utf_8_sig')\n",
    "df_KR = pd.read_csv('youtube-new/KRvideos.csv',encoding='utf_8_sig')\n",
    "df_MX = pd.read_csv('youtube-new/MXvideos.csv',encoding='utf_8_sig')\n",
    "df_RU = pd.read_csv('youtube-new/RUvideos.csv',encoding='utf_8_sig')\n",
    "df_US = pd.read_csv('youtube-new/USvideos.csv',encoding='utf_8_sig')"
   ]
  },
  {
   "cell_type": "code",
   "execution_count": 5,
   "metadata": {},
   "outputs": [],
   "source": [
    "#JSON\n",
    "df_CA_category = pd.read_json('youtube-new/CA_category_id.json')\n",
    "df_DE_category = pd.read_json('youtube-new/DE_category_id.json')\n",
    "df_FR_category = pd.read_json('youtube-new/FR_category_id.json')\n",
    "df_GB_category = pd.read_json('youtube-new/GB_category_id.json')\n",
    "df_IN_category = pd.read_json('youtube-new/IN_category_id.json')\n",
    "df_JP_category = pd.read_json('youtube-new/JP_category_id.json')\n",
    "df_KR_category = pd.read_json('youtube-new/KR_category_id.json')\n",
    "df_MX_category = pd.read_json('youtube-new/MX_category_id.json')\n",
    "df_RU_category = pd.read_json('youtube-new/RU_category_id.json')\n",
    "df_US_category = pd.read_json('youtube-new/US_category_id.json')"
   ]
  },
  {
   "cell_type": "code",
   "execution_count": 6,
   "metadata": {},
   "outputs": [],
   "source": [
    "#Create two dicts to store dataframes for convenient check\n",
    "df_dict = {'CA':df_CA, 'DE': df_DE, 'FR': df_FR, 'GB': df_GB, 'IN':df_IN, 'JP':df_JP,'KR':df_KR,'MX':df_MX,\n",
    "           'RU':df_RU,'US':df_US}\n",
    "df_category_dict = {'CA':df_CA_category,'DE':df_DE_category,'FR':df_FR_category,'GB':df_GB_category,\n",
    "                    'IN':df_IN_category,'JP':df_JP_category,'KR':df_KR_category,'MX':df_MX_category,\n",
    "                    'RU':df_RU_category,'US':df_US_category}"
   ]
  },
  {
   "cell_type": "markdown",
   "metadata": {},
   "source": [
    "- Step 1.3: Showing the shape of the data, and data description in code form"
   ]
  },
  {
   "cell_type": "code",
   "execution_count": 7,
   "metadata": {},
   "outputs": [
    {
     "name": "stdout",
     "output_type": "stream",
     "text": [
      "CA shape: (40881, 15)\n",
      "DE shape: (40840, 15)\n",
      "FR shape: (40724, 15)\n",
      "GB shape: (38916, 15)\n",
      "IN shape: (37352, 15)\n",
      "JP shape: (20522, 15)\n",
      "KR shape: (34567, 15)\n",
      "MX shape: (40451, 15)\n",
      "RU shape: (40739, 15)\n",
      "US shape: (40949, 15)\n",
      "CA category shape: (31, 3)\n",
      "DE category shape: (31, 3)\n",
      "FR category shape: (31, 3)\n",
      "GB category shape: (31, 3)\n",
      "IN category shape: (31, 3)\n",
      "JP category shape: (31, 3)\n",
      "KR category shape: (31, 3)\n",
      "MX category shape: (31, 3)\n",
      "RU category shape: (31, 3)\n",
      "US category shape: (32, 3)\n"
     ]
    }
   ],
   "source": [
    "for (k,v) in df_dict.items():\n",
    "    print (k +' shape: ' + str(v.shape))\n",
    "    \n",
    "for (k,v) in df_category_dict.items():\n",
    "    print (k +' category shape: ' + str(v.shape))\n",
    "    "
   ]
  },
  {
   "cell_type": "code",
   "execution_count": 8,
   "metadata": {},
   "outputs": [
    {
     "data": {
      "text/plain": [
       "Index(['video_id', 'trending_date', 'title', 'channel_title', 'category_id',\n",
       "       'publish_time', 'tags', 'views', 'likes', 'dislikes', 'comment_count',\n",
       "       'thumbnail_link', 'comments_disabled', 'ratings_disabled',\n",
       "       'video_error_or_removed'],\n",
       "      dtype='object')"
      ]
     },
     "execution_count": 8,
     "metadata": {},
     "output_type": "execute_result"
    }
   ],
   "source": [
    "#Show video data columns' name\n",
    "df_CA.columns"
   ]
  },
  {
   "cell_type": "code",
   "execution_count": 9,
   "metadata": {},
   "outputs": [
    {
     "data": {
      "text/plain": [
       "video_id                  object\n",
       "trending_date             object\n",
       "title                     object\n",
       "channel_title             object\n",
       "category_id                int64\n",
       "publish_time              object\n",
       "tags                      object\n",
       "views                      int64\n",
       "likes                      int64\n",
       "dislikes                   int64\n",
       "comment_count              int64\n",
       "thumbnail_link            object\n",
       "comments_disabled           bool\n",
       "ratings_disabled            bool\n",
       "video_error_or_removed      bool\n",
       "dtype: object"
      ]
     },
     "execution_count": 9,
     "metadata": {},
     "output_type": "execute_result"
    }
   ],
   "source": [
    "#Show video data type's in dataframe\n",
    "df_CA.dtypes"
   ]
  },
  {
   "cell_type": "code",
   "execution_count": 10,
   "metadata": {
    "scrolled": true
   },
   "outputs": [
    {
     "name": "stdout",
     "output_type": "stream",
     "text": [
      "CA\n",
      "video_id                  True\n",
      "trending_date             True\n",
      "title                     True\n",
      "channel_title             True\n",
      "category_id               True\n",
      "publish_time              True\n",
      "tags                      True\n",
      "views                     True\n",
      "likes                     True\n",
      "dislikes                  True\n",
      "comment_count             True\n",
      "thumbnail_link            True\n",
      "comments_disabled         True\n",
      "ratings_disabled          True\n",
      "video_error_or_removed    True\n",
      "dtype: bool\n",
      "\n",
      "DE\n",
      "video_id                  True\n",
      "trending_date             True\n",
      "title                     True\n",
      "channel_title             True\n",
      "category_id               True\n",
      "publish_time              True\n",
      "tags                      True\n",
      "views                     True\n",
      "likes                     True\n",
      "dislikes                  True\n",
      "comment_count             True\n",
      "thumbnail_link            True\n",
      "comments_disabled         True\n",
      "ratings_disabled          True\n",
      "video_error_or_removed    True\n",
      "dtype: bool\n",
      "\n",
      "FR\n",
      "video_id                  True\n",
      "trending_date             True\n",
      "title                     True\n",
      "channel_title             True\n",
      "category_id               True\n",
      "publish_time              True\n",
      "tags                      True\n",
      "views                     True\n",
      "likes                     True\n",
      "dislikes                  True\n",
      "comment_count             True\n",
      "thumbnail_link            True\n",
      "comments_disabled         True\n",
      "ratings_disabled          True\n",
      "video_error_or_removed    True\n",
      "dtype: bool\n",
      "\n",
      "GB\n",
      "video_id                  True\n",
      "trending_date             True\n",
      "title                     True\n",
      "channel_title             True\n",
      "category_id               True\n",
      "publish_time              True\n",
      "tags                      True\n",
      "views                     True\n",
      "likes                     True\n",
      "dislikes                  True\n",
      "comment_count             True\n",
      "thumbnail_link            True\n",
      "comments_disabled         True\n",
      "ratings_disabled          True\n",
      "video_error_or_removed    True\n",
      "dtype: bool\n",
      "\n",
      "IN\n",
      "video_id                  True\n",
      "trending_date             True\n",
      "title                     True\n",
      "channel_title             True\n",
      "category_id               True\n",
      "publish_time              True\n",
      "tags                      True\n",
      "views                     True\n",
      "likes                     True\n",
      "dislikes                  True\n",
      "comment_count             True\n",
      "thumbnail_link            True\n",
      "comments_disabled         True\n",
      "ratings_disabled          True\n",
      "video_error_or_removed    True\n",
      "dtype: bool\n",
      "\n",
      "JP\n",
      "video_id                  True\n",
      "trending_date             True\n",
      "title                     True\n",
      "channel_title             True\n",
      "category_id               True\n",
      "publish_time              True\n",
      "tags                      True\n",
      "views                     True\n",
      "likes                     True\n",
      "dislikes                  True\n",
      "comment_count             True\n",
      "thumbnail_link            True\n",
      "comments_disabled         True\n",
      "ratings_disabled          True\n",
      "video_error_or_removed    True\n",
      "dtype: bool\n",
      "\n",
      "KR\n",
      "video_id                  True\n",
      "trending_date             True\n",
      "title                     True\n",
      "channel_title             True\n",
      "category_id               True\n",
      "publish_time              True\n",
      "tags                      True\n",
      "views                     True\n",
      "likes                     True\n",
      "dislikes                  True\n",
      "comment_count             True\n",
      "thumbnail_link            True\n",
      "comments_disabled         True\n",
      "ratings_disabled          True\n",
      "video_error_or_removed    True\n",
      "dtype: bool\n",
      "\n",
      "MX\n",
      "video_id                  True\n",
      "trending_date             True\n",
      "title                     True\n",
      "channel_title             True\n",
      "category_id               True\n",
      "publish_time              True\n",
      "tags                      True\n",
      "views                     True\n",
      "likes                     True\n",
      "dislikes                  True\n",
      "comment_count             True\n",
      "thumbnail_link            True\n",
      "comments_disabled         True\n",
      "ratings_disabled          True\n",
      "video_error_or_removed    True\n",
      "dtype: bool\n",
      "\n",
      "RU\n",
      "video_id                  True\n",
      "trending_date             True\n",
      "title                     True\n",
      "channel_title             True\n",
      "category_id               True\n",
      "publish_time              True\n",
      "tags                      True\n",
      "views                     True\n",
      "likes                     True\n",
      "dislikes                  True\n",
      "comment_count             True\n",
      "thumbnail_link            True\n",
      "comments_disabled         True\n",
      "ratings_disabled          True\n",
      "video_error_or_removed    True\n",
      "dtype: bool\n",
      "\n",
      "US\n",
      "video_id                  True\n",
      "trending_date             True\n",
      "title                     True\n",
      "channel_title             True\n",
      "category_id               True\n",
      "publish_time              True\n",
      "tags                      True\n",
      "views                     True\n",
      "likes                     True\n",
      "dislikes                  True\n",
      "comment_count             True\n",
      "thumbnail_link            True\n",
      "comments_disabled         True\n",
      "ratings_disabled          True\n",
      "video_error_or_removed    True\n",
      "dtype: bool\n",
      "\n"
     ]
    }
   ],
   "source": [
    "#checking all video data dataframe has same type for every columns\n",
    "for (k,v) in df_dict.items():\n",
    "    print(k)\n",
    "    print(v.dtypes == df_CA.dtypes)\n",
    "    print()"
   ]
  },
  {
   "cell_type": "code",
   "execution_count": 11,
   "metadata": {},
   "outputs": [
    {
     "data": {
      "text/plain": [
       "Index(['kind', 'etag', 'items'], dtype='object')"
      ]
     },
     "execution_count": 11,
     "metadata": {},
     "output_type": "execute_result"
    }
   ],
   "source": [
    "#Show category data columns' name\n",
    "df_CA_category.columns"
   ]
  },
  {
   "cell_type": "code",
   "execution_count": 12,
   "metadata": {},
   "outputs": [
    {
     "data": {
      "text/plain": [
       "kind     object\n",
       "etag     object\n",
       "items    object\n",
       "dtype: object"
      ]
     },
     "execution_count": 12,
     "metadata": {},
     "output_type": "execute_result"
    }
   ],
   "source": [
    "#Show category data type's in dataframe\n",
    "df_CA_category.dtypes"
   ]
  },
  {
   "cell_type": "markdown",
   "metadata": {},
   "source": [
    "### Step 2: Data Cleaning\n",
    "- Step 2.1: drop ununuseful columns\n",
    "Since our analysis is about categories and the reasons why they are popular, we won't use title, channel_title, thunmbnail_link, comments_disabled, ratings_disabled to work on the analysis."
   ]
  },
  {
   "cell_type": "code",
   "execution_count": 13,
   "metadata": {},
   "outputs": [],
   "source": [
    "columns_to_drop = ['channel_title', 'thumbnail_link', 'comments_disabled', 'ratings_disabled']\n",
    "\n",
    "\n",
    "for (k,v) in df_dict.items():\n",
    "    v.drop(labels=columns_to_drop,axis=1,inplace=True)"
   ]
  },
  {
   "cell_type": "markdown",
   "metadata": {},
   "source": [
    "Checking shape after dropping unuseful columns"
   ]
  },
  {
   "cell_type": "code",
   "execution_count": 14,
   "metadata": {},
   "outputs": [
    {
     "name": "stdout",
     "output_type": "stream",
     "text": [
      "CA shape: (40881, 11)\n",
      "DE shape: (40840, 11)\n",
      "FR shape: (40724, 11)\n",
      "GB shape: (38916, 11)\n",
      "IN shape: (37352, 11)\n",
      "JP shape: (20522, 11)\n",
      "KR shape: (34567, 11)\n",
      "MX shape: (40451, 11)\n",
      "RU shape: (40739, 11)\n",
      "US shape: (40949, 11)\n"
     ]
    }
   ],
   "source": [
    "for (k,v) in df_dict.items():\n",
    "    print (k +' shape: ' + str(v.shape))"
   ]
  },
  {
   "cell_type": "markdown",
   "metadata": {},
   "source": [
    "- Step 2.2: Check and drop nan values"
   ]
  },
  {
   "cell_type": "code",
   "execution_count": 15,
   "metadata": {},
   "outputs": [
    {
     "name": "stdout",
     "output_type": "stream",
     "text": [
      "Number of nans in all CSV: 0\n",
      "\n",
      "Number of nans in all JSON: 0\n"
     ]
    }
   ],
   "source": [
    "#null or nan value check, remove from df if nan\n",
    "nan_count = 0\n",
    "for (k,v) in df_dict.items():\n",
    "    for c in v.columns:\n",
    "        temp = sum(v[c].isnull())\n",
    "        if temp != 0:\n",
    "            print (k + ' '+ c + str(temp))\n",
    "        if v[c].hasnans:\n",
    "            nan_count += 1\n",
    "            \n",
    "print (\"Number of nans in all CSV: \" + str(nan_count))\n",
    "print()\n",
    "nan_count = 0\n",
    "for (k,v) in df_category_dict.items():\n",
    "    for c in v.columns:\n",
    "        if v[c].hasnans:\n",
    "            nan_count += 1\n",
    "        temp = sum(v[c].isnull())\n",
    "        if temp != 0:\n",
    "            print (k + ' '+ c + str(temp))\n",
    "            \n",
    "print (\"Number of nans in all JSON: \" + str(nan_count))"
   ]
  },
  {
   "cell_type": "markdown",
   "metadata": {},
   "source": [
    "No nan values"
   ]
  },
  {
   "cell_type": "markdown",
   "metadata": {},
   "source": [
    "- Step 2.3: Remove error or removed videos"
   ]
  },
  {
   "cell_type": "code",
   "execution_count": 16,
   "metadata": {},
   "outputs": [],
   "source": [
    "for (k,v) in df_dict.items():\n",
    "    v = v[v['video_error_or_removed'] == False]\n",
    "        "
   ]
  },
  {
   "cell_type": "code",
   "execution_count": 17,
   "metadata": {},
   "outputs": [
    {
     "name": "stdout",
     "output_type": "stream",
     "text": [
      "CA shape: (40881, 11)\n",
      "DE shape: (40840, 11)\n",
      "FR shape: (40724, 11)\n",
      "GB shape: (38916, 11)\n",
      "IN shape: (37352, 11)\n",
      "JP shape: (20522, 11)\n",
      "KR shape: (34567, 11)\n",
      "MX shape: (40451, 11)\n",
      "RU shape: (40739, 11)\n",
      "US shape: (40949, 11)\n"
     ]
    }
   ],
   "source": [
    "for (k,v) in df_dict.items():\n",
    "    print (k +' shape: ' + str(v.shape))"
   ]
  },
  {
   "cell_type": "markdown",
   "metadata": {},
   "source": [
    "- Step 2.4: Extract data from category dataframe to form a dict for every country because this dataframe has a lot of unuseful data. Also check if categories are the same for each country."
   ]
  },
  {
   "cell_type": "code",
   "execution_count": 18,
   "metadata": {},
   "outputs": [],
   "source": [
    "df_category_dict_t = {'CA':dict(),'DE':dict(),'FR':dict(),'GB':dict(),\n",
    "                    'IN':dict(),'JP':dict(),'KR':dict(),'MX':dict(),\n",
    "                    'RU':dict(),'US':dict()}\n",
    "for (k,v) in df_category_dict.items():\n",
    "    for each in v['items']:\n",
    "        df_category_dict_t[k][each['id']] = each['snippet']['title']"
   ]
  },
  {
   "cell_type": "code",
   "execution_count": 19,
   "metadata": {},
   "outputs": [],
   "source": [
    "#reassign variable\n",
    "df_category_dict = df_category_dict_t"
   ]
  },
  {
   "cell_type": "code",
   "execution_count": 20,
   "metadata": {},
   "outputs": [
    {
     "data": {
      "text/plain": [
       "{'1': 'Film & Animation',\n",
       " '2': 'Autos & Vehicles',\n",
       " '10': 'Music',\n",
       " '15': 'Pets & Animals',\n",
       " '17': 'Sports',\n",
       " '18': 'Short Movies',\n",
       " '19': 'Travel & Events',\n",
       " '20': 'Gaming',\n",
       " '21': 'Videoblogging',\n",
       " '22': 'People & Blogs',\n",
       " '23': 'Comedy',\n",
       " '24': 'Entertainment',\n",
       " '25': 'News & Politics',\n",
       " '26': 'Howto & Style',\n",
       " '27': 'Education',\n",
       " '28': 'Science & Technology',\n",
       " '30': 'Movies',\n",
       " '31': 'Anime/Animation',\n",
       " '32': 'Action/Adventure',\n",
       " '33': 'Classics',\n",
       " '34': 'Comedy',\n",
       " '35': 'Documentary',\n",
       " '36': 'Drama',\n",
       " '37': 'Family',\n",
       " '38': 'Foreign',\n",
       " '39': 'Horror',\n",
       " '40': 'Sci-Fi/Fantasy',\n",
       " '41': 'Thriller',\n",
       " '42': 'Shorts',\n",
       " '43': 'Shows',\n",
       " '44': 'Trailers'}"
      ]
     },
     "execution_count": 20,
     "metadata": {},
     "output_type": "execute_result"
    }
   ],
   "source": [
    "#example of Canada's category data\n",
    "df_category_dict['CA'] "
   ]
  },
  {
   "cell_type": "code",
   "execution_count": 21,
   "metadata": {},
   "outputs": [
    {
     "name": "stdout",
     "output_type": "stream",
     "text": [
      "US is not the same\n"
     ]
    }
   ],
   "source": [
    "for each in df_category_dict:\n",
    "    if(df_category_dict[each] != df_category_dict['CA']):\n",
    "        print (each + \" is not the same\")"
   ]
  },
  {
   "cell_type": "code",
   "execution_count": 22,
   "metadata": {},
   "outputs": [
    {
     "name": "stdout",
     "output_type": "stream",
     "text": [
      "29 Nonprofits & Activism is not in other country\n"
     ]
    }
   ],
   "source": [
    "for (k,v) in df_category_dict['US'].items():\n",
    "    if k not in df_category_dict['CA']:\n",
    "        print (k + \" \" + v + \" is not in other country\")"
   ]
  },
  {
   "cell_type": "markdown",
   "metadata": {},
   "source": [
    "Each country has same amount of categories and they are the same except for the US. The US has an extra category called Nonprofits & Activism in each country's XX_category.csv"
   ]
  },
  {
   "cell_type": "markdown",
   "metadata": {},
   "source": [
    "- Step 2.5: Make sure all other countries have the category_id 29 video"
   ]
  },
  {
   "cell_type": "code",
   "execution_count": 23,
   "metadata": {},
   "outputs": [
    {
     "name": "stdout",
     "output_type": "stream",
     "text": [
      "dataset in CA has video category 29\n",
      "dataset in DE has video category 29\n",
      "dataset in FR has video category 29\n",
      "dataset in GB has video category 29\n",
      "dataset in IN has video category 29\n",
      "dataset in JP has video category 29\n",
      "dataset in KR has video category 29\n",
      "dataset in MX has video category 29\n",
      "dataset in RU has video category 29\n"
     ]
    }
   ],
   "source": [
    "for k,v in df_dict.items():\n",
    "    if k!= \"US\":\n",
    "        temp = v.groupby([\"category_id\"])\n",
    "        for (k2,v2) in temp:\n",
    "            if int(k2) == 29:\n",
    "                print (\"dataset in \" + k + \" has video category 29\")\n",
    "                break"
   ]
  },
  {
   "cell_type": "markdown",
   "metadata": {},
   "source": [
    " We found a problem, the category_id in dataset for videos doesn't match the the data inside dataset of cateogry, we need to add category_id 29 back to the category"
   ]
  },
  {
   "cell_type": "code",
   "execution_count": 24,
   "metadata": {},
   "outputs": [],
   "source": [
    "for k,v in df_category_dict.items():\n",
    "    if \"29\" not in df_category_dict[k]:\n",
    "        df_category_dict[k][\"29\"] = \"Nonprofits & Activism\""
   ]
  },
  {
   "cell_type": "markdown",
   "metadata": {},
   "source": [
    "Done with data wrangling and cleaning"
   ]
  },
  {
   "cell_type": "markdown",
   "metadata": {},
   "source": [
    "# Data Analysis & Results"
   ]
  },
  {
   "cell_type": "markdown",
   "metadata": {},
   "source": [
    "## Data Overview"
   ]
  },
  {
   "cell_type": "markdown",
   "metadata": {},
   "source": [
    "- Describe the numerical video data."
   ]
  },
  {
   "cell_type": "code",
   "execution_count": 25,
   "metadata": {},
   "outputs": [
    {
     "name": "stdout",
     "output_type": "stream",
     "text": [
      "CA\n",
      "        category_id         views         likes      dislikes  comment_count\n",
      "count  40881.000000  4.088100e+04  4.088100e+04  4.088100e+04   4.088100e+04\n",
      "mean      20.795553  1.147036e+06  3.958269e+04  2.009195e+03   5.042975e+03\n",
      "std        6.775054  3.390913e+06  1.326895e+05  1.900837e+04   2.157902e+04\n",
      "min        1.000000  7.330000e+02  0.000000e+00  0.000000e+00   0.000000e+00\n",
      "25%       20.000000  1.439020e+05  2.191000e+03  9.900000e+01   4.170000e+02\n",
      "50%       24.000000  3.712040e+05  8.780000e+03  3.030000e+02   1.301000e+03\n",
      "75%       24.000000  9.633020e+05  2.871700e+04  9.500000e+02   3.713000e+03\n",
      "max       43.000000  1.378431e+08  5.053338e+06  1.602383e+06   1.114800e+06\n",
      "\n",
      "DE\n",
      "        category_id         views         likes      dislikes  comment_count\n",
      "count  40840.000000  4.084000e+04  4.084000e+04  4.084000e+04   4.084000e+04\n",
      "mean      20.705828  6.034553e+05  2.187550e+04  1.397136e+03   2.785857e+03\n",
      "std        6.975813  2.348963e+06  1.018000e+05  1.457738e+04   1.745803e+04\n",
      "min        1.000000  5.180000e+02  0.000000e+00  0.000000e+00   0.000000e+00\n",
      "25%       20.000000  2.706875e+04  5.330000e+02  2.900000e+01   7.900000e+01\n",
      "50%       24.000000  1.192770e+05  2.699000e+03  1.340000e+02   3.760000e+02\n",
      "75%       24.000000  4.431015e+05  1.179625e+04  5.320000e+02   1.376000e+03\n",
      "max       44.000000  1.138762e+08  4.924056e+06  1.470386e+06   1.084435e+06\n",
      "\n",
      "FR\n",
      "        category_id         views         likes      dislikes  comment_count\n",
      "count  40724.000000  4.072400e+04  4.072400e+04  4.072400e+04   4.072400e+04\n",
      "mean      20.123809  4.199219e+05  1.738886e+04  8.149624e+02   1.832453e+03\n",
      "std        6.984422  1.772130e+06  8.720509e+04  1.139219e+04   1.404321e+04\n",
      "min        1.000000  2.230000e+02  0.000000e+00  0.000000e+00   0.000000e+00\n",
      "25%       17.000000  1.697450e+04  3.380000e+02  1.800000e+01   5.600000e+01\n",
      "50%       23.000000  7.372100e+04  1.892500e+03  8.300000e+01   2.350000e+02\n",
      "75%       24.000000  2.708088e+05  7.969500e+03  3.350000e+02   8.410000e+02\n",
      "max       44.000000  1.009116e+08  4.750254e+06  1.353661e+06   1.040912e+06\n",
      "\n",
      "GB\n",
      "        category_id         views         likes      dislikes  comment_count\n",
      "count  38916.000000  3.891600e+04  3.891600e+04  3.891600e+04   3.891600e+04\n",
      "mean      16.827937  5.911944e+06  1.345196e+05  7.612560e+03   1.308835e+04\n",
      "std        7.752728  1.900121e+07  3.499893e+05  5.095683e+04   5.066740e+04\n",
      "min        1.000000  8.510000e+02  0.000000e+00  0.000000e+00   0.000000e+00\n",
      "25%       10.000000  2.515272e+05  5.897000e+03  2.000000e+02   6.790000e+02\n",
      "50%       20.000000  9.818890e+05  2.518250e+04  8.210000e+02   2.478000e+03\n",
      "75%       24.000000  3.683628e+06  1.140892e+05  3.357500e+03   9.241500e+03\n",
      "max       43.000000  4.245389e+08  5.613827e+06  1.944971e+06   1.626501e+06\n",
      "\n",
      "IN\n",
      "        category_id         views         likes      dislikes  comment_count\n",
      "count  37352.000000  3.735200e+04  3.735200e+04  3.735200e+04    37352.00000\n",
      "mean      21.576596  1.060478e+06  2.708272e+04  1.665082e+03     2676.99743\n",
      "std        6.556593  3.184932e+06  9.714510e+04  1.607617e+04    14868.31713\n",
      "min        1.000000  4.024000e+03  0.000000e+00  0.000000e+00        0.00000\n",
      "25%       23.000000  1.239155e+05  8.640000e+02  1.080000e+02       81.00000\n",
      "50%       24.000000  3.045860e+05  3.069000e+03  3.260000e+02      329.00000\n",
      "75%       24.000000  7.992912e+05  1.377425e+04  1.019250e+03     1285.00000\n",
      "max       43.000000  1.254322e+08  2.912710e+06  1.545017e+06   827755.00000\n",
      "\n",
      "JP\n",
      "        category_id         views         likes       dislikes  comment_count\n",
      "count  20522.000000  2.052200e+04  2.052200e+04   20522.000000   20522.000000\n",
      "mean      19.808449  2.620338e+05  8.059978e+03     366.841146    1196.135805\n",
      "std        6.654762  1.294969e+06  8.385039e+04    2658.662131   14943.970100\n",
      "min        1.000000  7.980000e+02  0.000000e+00       0.000000       0.000000\n",
      "25%       17.000000  1.710400e+04  1.210000e+02       9.000000      19.000000\n",
      "50%       22.000000  6.408850e+04  6.480000e+02      43.000000     133.000000\n",
      "75%       24.000000  1.833670e+05  2.303000e+03     178.000000     488.000000\n",
      "max       29.000000  6.279639e+07  4.470923e+06  119053.000000  905925.000000\n",
      "\n",
      "KR\n",
      "        category_id         views         likes      dislikes  comment_count\n",
      "count  34567.000000  3.456700e+04  3.456700e+04  3.456700e+04   3.456700e+04\n",
      "mean      21.137675  4.249473e+05  1.218642e+04  5.390980e+02   2.025383e+03\n",
      "std        6.675455  2.430637e+06  1.170531e+05  1.370852e+04   2.150677e+04\n",
      "min        1.000000  2.050000e+03  0.000000e+00  0.000000e+00   0.000000e+00\n",
      "25%       22.000000  4.776850e+04  4.120000e+02  2.100000e+01   1.050000e+02\n",
      "50%       24.000000  1.114960e+05  1.389000e+03  6.500000e+01   3.450000e+02\n",
      "75%       25.000000  2.788665e+05  3.704500e+03  1.750000e+02   9.290000e+02\n",
      "max       44.000000  1.138762e+08  5.150839e+06  1.470388e+06   1.142274e+06\n",
      "\n",
      "MX\n",
      "        category_id         views         likes      dislikes  comment_count\n",
      "count  40451.000000  4.045100e+04  4.045100e+04  4.045100e+04   40451.000000\n",
      "mean      21.003140  3.423820e+05  1.586184e+04  7.471604e+02    2039.660008\n",
      "std        5.878995  1.714691e+06  8.108987e+04  1.095358e+04   13938.031797\n",
      "min        1.000000  1.570000e+02  0.000000e+00  0.000000e+00       0.000000\n",
      "25%       20.000000  1.681300e+04  2.990000e+02  1.700000e+01      42.000000\n",
      "50%       24.000000  5.697300e+04  1.246000e+03  6.300000e+01     196.000000\n",
      "75%       24.000000  2.068940e+05  7.226000e+03  2.670000e+02     885.000000\n",
      "max       43.000000  1.009124e+08  4.470923e+06  1.353667e+06  905925.000000\n",
      "\n",
      "RU\n",
      "        category_id         views         likes       dislikes  comment_count\n",
      "count  40739.000000  4.073900e+04  4.073900e+04   40739.000000   40739.000000\n",
      "mean      20.261936  2.407152e+05  1.243522e+04    1475.199612    1775.231179\n",
      "std        7.890955  9.345111e+05  6.038280e+04    8582.480809   11275.028305\n",
      "min        1.000000  1.170000e+02  0.000000e+00       0.000000       0.000000\n",
      "25%       20.000000  2.258750e+04  4.025000e+02      31.000000      73.000000\n",
      "50%       22.000000  6.631600e+04  1.880000e+03     128.000000     309.000000\n",
      "75%       25.000000  1.951310e+05  7.791000e+03     586.000000    1107.000000\n",
      "max       43.000000  6.279639e+07  4.470923e+06  884967.000000  905925.000000\n",
      "\n",
      "US\n",
      "        category_id         views         likes      dislikes  comment_count\n",
      "count  40949.000000  4.094900e+04  4.094900e+04  4.094900e+04   4.094900e+04\n",
      "mean      19.972429  2.360785e+06  7.426670e+04  3.711401e+03   8.446804e+03\n",
      "std        7.568327  7.394114e+06  2.288853e+05  2.902971e+04   3.743049e+04\n",
      "min        1.000000  5.490000e+02  0.000000e+00  0.000000e+00   0.000000e+00\n",
      "25%       17.000000  2.423290e+05  5.424000e+03  2.020000e+02   6.140000e+02\n",
      "50%       24.000000  6.818610e+05  1.809100e+04  6.310000e+02   1.856000e+03\n",
      "75%       25.000000  1.823157e+06  5.541700e+04  1.938000e+03   5.755000e+03\n",
      "max       43.000000  2.252119e+08  5.613827e+06  1.674420e+06   1.361580e+06\n",
      "\n"
     ]
    }
   ],
   "source": [
    "for (k,v) in df_dict.items():\n",
    "    print (k)\n",
    "    print(v.describe())\n",
    "    print()"
   ]
  },
  {
   "cell_type": "markdown",
   "metadata": {},
   "source": [
    "- Showing the statistics for 'views', 'likes', 'dislikes', and 'comments_count' for each country."
   ]
  },
  {
   "cell_type": "code",
   "execution_count": 26,
   "metadata": {},
   "outputs": [
    {
     "name": "stdout",
     "output_type": "stream",
     "text": [
      "CA\n",
      "views mean: 1147035.9107898534\n",
      "likes mean: 39582.68824148137\n",
      "dislikes mean: 2009.1954453168953\n",
      "comment_count mean: 5042.974707076637\n",
      "\n",
      "DE\n",
      "views mean: 603455.3184378061\n",
      "likes mean: 21875.50288932419\n",
      "dislikes mean: 1397.1359206660138\n",
      "comment_count mean: 2785.856513222331\n",
      "\n",
      "FR\n",
      "views mean: 419921.8506040664\n",
      "likes mean: 17388.863814949415\n",
      "dislikes mean: 814.9623809056085\n",
      "comment_count mean: 1832.4527060210196\n",
      "\n",
      "GB\n",
      "views mean: 5911943.62663172\n",
      "likes mean: 134519.55349984582\n",
      "dislikes mean: 7612.559975331483\n",
      "comment_count mean: 13088.353145235893\n",
      "\n",
      "IN\n",
      "views mean: 1060477.645882416\n",
      "likes mean: 27082.71765902763\n",
      "dislikes mean: 1665.0819768687086\n",
      "comment_count mean: 2676.9974298565003\n",
      "\n",
      "JP\n",
      "views mean: 262033.8148815905\n",
      "likes mean: 8059.978315953611\n",
      "dislikes mean: 366.841146087126\n",
      "comment_count mean: 1196.135805477049\n",
      "\n",
      "KR\n",
      "views mean: 424947.27089420543\n",
      "likes mean: 12186.41802875575\n",
      "dislikes mean: 539.097954696676\n",
      "comment_count mean: 2025.3825035438424\n",
      "\n",
      "MX\n",
      "views mean: 342381.9681590072\n",
      "likes mean: 15861.837432943561\n",
      "dislikes mean: 747.1603915848805\n",
      "comment_count mean: 2039.660008405231\n",
      "\n",
      "RU\n",
      "views mean: 240715.15071553056\n",
      "likes mean: 12435.221556739243\n",
      "dislikes mean: 1475.1996121652471\n",
      "comment_count mean: 1775.231178968556\n",
      "\n",
      "US\n",
      "views mean: 2360784.6382573447\n",
      "likes mean: 74266.7024347359\n",
      "dislikes mean: 3711.400888910596\n",
      "comment_count mean: 8446.803682629612\n",
      "\n"
     ]
    }
   ],
   "source": [
    "temp = ['views','likes','dislikes', 'comment_count']\n",
    "for (k,v) in df_dict.items():\n",
    "    print (k)\n",
    "    for c in v.columns:\n",
    "        if c in temp:\n",
    "            print (c + \" mean: \" + str(v[c].mean()))\n",
    "    print()"
   ]
  },
  {
   "cell_type": "markdown",
   "metadata": {},
   "source": [
    "## Data Analysis 1: How long after a video is published does it become trending?"
   ]
  },
  {
   "cell_type": "markdown",
   "metadata": {},
   "source": [
    "In our experience, most trending videos are published within the last day. Occasionally, we see trending videos that are a few days old. We want to see the distribution of the difference between trending date and publish date."
   ]
  },
  {
   "cell_type": "code",
   "execution_count": 27,
   "metadata": {
    "scrolled": false
   },
   "outputs": [
    {
     "data": {
      "image/png": "[encoded data removed]",
      "text/plain": [
       "<Figure size 432x288 with 1 Axes>"
      ]
     },
     "metadata": {
      "needs_background": "light"
     },
     "output_type": "display_data"
    }
   ],
   "source": [
    "import datetime\n",
    "\n",
    "def standardize_trending_date(string):\n",
    "    dt = datetime.datetime.strptime(string, \"%y.%d.%m\")\n",
    "    return dt.timestamp()\n",
    "\n",
    "def standardize_publish_time(string):\n",
    "    dt = datetime.datetime.strptime(string, \"%Y-%m-%dT%H:%M:%S.%fZ\")\n",
    "    return dt.timestamp()\n",
    "\n",
    "df = pd.concat([df_CA, df_DE, df_FR, df_GB, df_IN, df_JP, df_KR, df_MX, df_RU, df_US])\n",
    "trending_dates = df[\"trending_date\"].apply(standardize_trending_date)\n",
    "publish_times = df[\"publish_time\"].apply(standardize_publish_time)\n",
    "\n",
    "diffs = trending_dates - publish_times\n",
    "\n",
    "# because we only have the trending date but the publish time, we need\n",
    "# to normalize our data so difference starts at 0\n",
    "diffs = diffs + np.min(diffs)\n",
    "\n",
    "# convert seconds to days\n",
    "diffs = diffs / 60 / 60 / 24\n",
    "\n",
    "plt.hist(diffs, bins=50, range=(0, 10))\n",
    "plt.title(\"Difference in trending date and publish date\")\n",
    "plt.xlabel(\"Difference in days\")\n",
    "plt.ylabel(\"Frequency\")\n",
    "plt.show()"
   ]
  },
  {
   "cell_type": "markdown",
   "metadata": {},
   "source": [
    "According to the graph, most trending videos are published within the last day. We also see that the distribution has a long tail, which means that occasionally older videos appear on trending as well. We also observe a cyclic pattern in the distribution. We suspect this is caused by the day night cycle or when YouTube updates trending videos."
   ]
  },
  {
   "cell_type": "markdown",
   "metadata": {},
   "source": [
    "## Data Analysis 2: What are the most common key words of each category?"
   ]
  },
  {
   "cell_type": "markdown",
   "metadata": {},
   "source": [
    "- Step 1: Create DataFrame for each category and with titles as data"
   ]
  },
  {
   "cell_type": "code",
   "execution_count": 28,
   "metadata": {},
   "outputs": [],
   "source": [
    "category_title_dict ={}\n",
    "for k,v in df_dict.items():\n",
    "    temp = v.groupby([\"category_id\"])\n",
    "    for k2,v2 in temp:\n",
    "        if df_category_dict[k][str(k2)] in category_title_dict:\n",
    "            temp2 = pd.DataFrame()\n",
    "            temp2[\"title\"] = v2[\"title\"]\n",
    "            category_title_dict[df_category_dict[k][str(k2)]] = pd.concat([category_title_dict[df_category_dict[k][str(k2)]],temp2])\n",
    "        else:\n",
    "            category_title_dict[df_category_dict[k][str(k2)]] = pd.DataFrame()\n",
    "            category_title_dict[df_category_dict[k][str(k2)]][\"title\"] = v2[\"title\"]"
   ]
  },
  {
   "cell_type": "code",
   "execution_count": 29,
   "metadata": {},
   "outputs": [
    {
     "data": {
      "text/html": [
       "<div>\n",
       "<style scoped>\n",
       "    .dataframe tbody tr th:only-of-type {\n",
       "        vertical-align: middle;\n",
       "    }\n",
       "\n",
       "    .dataframe tbody tr th {\n",
       "        vertical-align: top;\n",
       "    }\n",
       "\n",
       "    .dataframe thead th {\n",
       "        text-align: right;\n",
       "    }\n",
       "</style>\n",
       "<table border=\"1\" class=\"dataframe\">\n",
       "  <thead>\n",
       "    <tr style=\"text-align: right;\">\n",
       "      <th></th>\n",
       "      <th>title</th>\n",
       "    </tr>\n",
       "  </thead>\n",
       "  <tbody>\n",
       "    <tr>\n",
       "      <th>0</th>\n",
       "      <td>Eminem - Walk On Water (Audio) ft. Beyoncé</td>\n",
       "    </tr>\n",
       "    <tr>\n",
       "      <th>4</th>\n",
       "      <td>Ed Sheeran - Perfect (Official Music Video)</td>\n",
       "    </tr>\n",
       "    <tr>\n",
       "      <th>10</th>\n",
       "      <td>21 Savage - Bank Account (Official Music Video)</td>\n",
       "    </tr>\n",
       "    <tr>\n",
       "      <th>13</th>\n",
       "      <td>Daang ( Full Video ) | Mankirt Aulakh | Sukh S...</td>\n",
       "    </tr>\n",
       "    <tr>\n",
       "      <th>29</th>\n",
       "      <td>Telefoon || Babbu Maan || Promo || Full Song 1...</td>\n",
       "    </tr>\n",
       "  </tbody>\n",
       "</table>\n",
       "</div>"
      ],
      "text/plain": [
       "                                                title\n",
       "0          Eminem - Walk On Water (Audio) ft. Beyoncé\n",
       "4         Ed Sheeran - Perfect (Official Music Video)\n",
       "10    21 Savage - Bank Account (Official Music Video)\n",
       "13  Daang ( Full Video ) | Mankirt Aulakh | Sukh S...\n",
       "29  Telefoon || Babbu Maan || Promo || Full Song 1..."
      ]
     },
     "execution_count": 29,
     "metadata": {},
     "output_type": "execute_result"
    }
   ],
   "source": [
    "category_title_dict['Music'].head()"
   ]
  },
  {
   "cell_type": "markdown",
   "metadata": {},
   "source": [
    "- Step 2: Tokenize title, remove stopwords, and stemming"
   ]
  },
  {
   "cell_type": "code",
   "execution_count": 30,
   "metadata": {},
   "outputs": [],
   "source": [
    "# Get the set of the stopwords from nltk supported languages \n",
    "stop_words = set (stopwords.words('english') + stopwords.words('german') + stopwords.words('french')\n",
    "                  + stopwords.words('spanish') + stopwords.words('russian') + stopwords.words('arabic'))\n",
    "ps = PorterStemmer()\n",
    "for k,v in category_title_dict.items():\n",
    "    v[\"title\"] = v[\"title\"].apply(word_tokenize)\n",
    "    v[\"title\"] = v[\"title\"].apply(lambda x: [item for item in x if item.lower() not in stop_words])\n",
    "    v[\"title\"] = v[\"title\"].apply(lambda x: [ps.stem(y) for y in x])"
   ]
  },
  {
   "cell_type": "code",
   "execution_count": 31,
   "metadata": {},
   "outputs": [
    {
     "data": {
      "text/html": [
       "<div>\n",
       "<style scoped>\n",
       "    .dataframe tbody tr th:only-of-type {\n",
       "        vertical-align: middle;\n",
       "    }\n",
       "\n",
       "    .dataframe tbody tr th {\n",
       "        vertical-align: top;\n",
       "    }\n",
       "\n",
       "    .dataframe thead th {\n",
       "        text-align: right;\n",
       "    }\n",
       "</style>\n",
       "<table border=\"1\" class=\"dataframe\">\n",
       "  <thead>\n",
       "    <tr style=\"text-align: right;\">\n",
       "      <th></th>\n",
       "      <th>title</th>\n",
       "    </tr>\n",
       "  </thead>\n",
       "  <tbody>\n",
       "    <tr>\n",
       "      <th>0</th>\n",
       "      <td>[eminem, -, walk, water, (, audio, ), ft., bey...</td>\n",
       "    </tr>\n",
       "    <tr>\n",
       "      <th>4</th>\n",
       "      <td>[Ed, sheeran, -, perfect, (, offici, music, vi...</td>\n",
       "    </tr>\n",
       "    <tr>\n",
       "      <th>10</th>\n",
       "      <td>[21, savag, -, bank, account, (, offici, music...</td>\n",
       "    </tr>\n",
       "    <tr>\n",
       "      <th>13</th>\n",
       "      <td>[daang, (, full, video, ), |, mankirt, aulakh,...</td>\n",
       "    </tr>\n",
       "    <tr>\n",
       "      <th>29</th>\n",
       "      <td>[telefoon, ||, babbu, maan, ||, promo, ||, ful...</td>\n",
       "    </tr>\n",
       "  </tbody>\n",
       "</table>\n",
       "</div>"
      ],
      "text/plain": [
       "                                                title\n",
       "0   [eminem, -, walk, water, (, audio, ), ft., bey...\n",
       "4   [Ed, sheeran, -, perfect, (, offici, music, vi...\n",
       "10  [21, savag, -, bank, account, (, offici, music...\n",
       "13  [daang, (, full, video, ), |, mankirt, aulakh,...\n",
       "29  [telefoon, ||, babbu, maan, ||, promo, ||, ful..."
      ]
     },
     "execution_count": 31,
     "metadata": {},
     "output_type": "execute_result"
    }
   ],
   "source": [
    "category_title_dict[\"Music\"].head()"
   ]
  },
  {
   "cell_type": "markdown",
   "metadata": {},
   "source": [
    "- Step 3: Get the frequency distribution"
   ]
  },
  {
   "cell_type": "code",
   "execution_count": 32,
   "metadata": {},
   "outputs": [],
   "source": [
    "most_category_dict = {}\n",
    "for k,v in category_title_dict.items():\n",
    "    most_category_dict[k] = category_title_dict[k][\"title\"].apply(pd.Series).stack()"
   ]
  },
  {
   "cell_type": "code",
   "execution_count": 33,
   "metadata": {},
   "outputs": [],
   "source": [
    "for k,v in most_category_dict.items():\n",
    "    most_category_dict[k] = FreqDist(most_category_dict[k])\n",
    "    for punc in string.punctuation:\n",
    "        del most_category_dict[k][punc]"
   ]
  },
  {
   "cell_type": "code",
   "execution_count": 34,
   "metadata": {},
   "outputs": [
    {
     "name": "stdout",
     "output_type": "stream",
     "text": [
      "Category: Film & Animation\n"
     ]
    },
    {
     "data": {
      "image/png": "[encoded data removed]",
      "text/plain": [
       "<Figure size 432x288 with 1 Axes>"
      ]
     },
     "metadata": {
      "needs_background": "light"
     },
     "output_type": "display_data"
    },
    {
     "name": "stdout",
     "output_type": "stream",
     "text": [
      "Category: Autos & Vehicles\n"
     ]
    },
    {
     "data": {
      "image/png": "[encoded data removed]",
      "text/plain": [
       "<Figure size 432x288 with 1 Axes>"
      ]
     },
     "metadata": {
      "needs_background": "light"
     },
     "output_type": "display_data"
    },
    {
     "name": "stdout",
     "output_type": "stream",
     "text": [
      "Category: Music\n"
     ]
    },
    {
     "data": {
      "image/png": "[encoded data removed]",
      "text/plain": [
       "<Figure size 432x288 with 1 Axes>"
      ]
     },
     "metadata": {
      "needs_background": "light"
     },
     "output_type": "display_data"
    },
    {
     "name": "stdout",
     "output_type": "stream",
     "text": [
      "Category: Pets & Animals\n"
     ]
    },
    {
     "data": {
      "image/png": "[encoded data removed]",
      "text/plain": [
       "<Figure size 432x288 with 1 Axes>"
      ]
     },
     "metadata": {
      "needs_background": "light"
     },
     "output_type": "display_data"
    },
    {
     "name": "stdout",
     "output_type": "stream",
     "text": [
      "Category: Sports\n"
     ]
    },
    {
     "data": {
      "image/png": "[encoded data removed]",
      "text/plain": [
       "<Figure size 432x288 with 1 Axes>"
      ]
     },
     "metadata": {
      "needs_background": "light"
     },
     "output_type": "display_data"
    },
    {
     "name": "stdout",
     "output_type": "stream",
     "text": [
      "Category: Travel & Events\n"
     ]
    },
    {
     "data": {
      "image/png": "[encoded data removed]",
      "text/plain": [
       "<Figure size 432x288 with 1 Axes>"
      ]
     },
     "metadata": {
      "needs_background": "light"
     },
     "output_type": "display_data"
    },
    {
     "name": "stdout",
     "output_type": "stream",
     "text": [
      "Category: Gaming\n"
     ]
    },
    {
     "data": {
      "image/png": "[encoded data removed]",
      "text/plain": [
       "<Figure size 432x288 with 1 Axes>"
      ]
     },
     "metadata": {
      "needs_background": "light"
     },
     "output_type": "display_data"
    },
    {
     "name": "stdout",
     "output_type": "stream",
     "text": [
      "Category: People & Blogs\n"
     ]
    },
    {
     "data": {
      "image/png": "[encoded data removed]",
      "text/plain": [
       "<Figure size 432x288 with 1 Axes>"
      ]
     },
     "metadata": {
      "needs_background": "light"
     },
     "output_type": "display_data"
    },
    {
     "name": "stdout",
     "output_type": "stream",
     "text": [
      "Category: Comedy\n"
     ]
    },
    {
     "data": {
      "image/png": "[encoded data removed]",
      "text/plain": [
       "<Figure size 432x288 with 1 Axes>"
      ]
     },
     "metadata": {
      "needs_background": "light"
     },
     "output_type": "display_data"
    },
    {
     "name": "stdout",
     "output_type": "stream",
     "text": [
      "Category: Entertainment\n"
     ]
    },
    {
     "data": {
      "image/png": "[encoded data removed]",
      "text/plain": [
       "<Figure size 432x288 with 1 Axes>"
      ]
     },
     "metadata": {
      "needs_background": "light"
     },
     "output_type": "display_data"
    },
    {
     "name": "stdout",
     "output_type": "stream",
     "text": [
      "Category: News & Politics\n"
     ]
    },
    {
     "data": {
      "image/png": "[encoded data removed]",
      "text/plain": [
       "<Figure size 432x288 with 1 Axes>"
      ]
     },
     "metadata": {
      "needs_background": "light"
     },
     "output_type": "display_data"
    },
    {
     "name": "stdout",
     "output_type": "stream",
     "text": [
      "Category: Howto & Style\n"
     ]
    },
    {
     "data": {
      "image/png": "[encoded data removed]",
      "text/plain": [
       "<Figure size 432x288 with 1 Axes>"
      ]
     },
     "metadata": {
      "needs_background": "light"
     },
     "output_type": "display_data"
    },
    {
     "name": "stdout",
     "output_type": "stream",
     "text": [
      "Category: Education\n"
     ]
    },
    {
     "data": {
      "image/png": "[encoded data removed]",
      "text/plain": [
       "<Figure size 432x288 with 1 Axes>"
      ]
     },
     "metadata": {
      "needs_background": "light"
     },
     "output_type": "display_data"
    },
    {
     "name": "stdout",
     "output_type": "stream",
     "text": [
      "Category: Science & Technology\n"
     ]
    },
    {
     "data": {
      "image/png": "[encoded data removed]",
      "text/plain": [
       "<Figure size 432x288 with 1 Axes>"
      ]
     },
     "metadata": {
      "needs_background": "light"
     },
     "output_type": "display_data"
    },
    {
     "name": "stdout",
     "output_type": "stream",
     "text": [
      "Category: Nonprofits & Activism\n"
     ]
    },
    {
     "data": {
      "image/png": "[encoded data removed]",
      "text/plain": [
       "<Figure size 432x288 with 1 Axes>"
      ]
     },
     "metadata": {
      "needs_background": "light"
     },
     "output_type": "display_data"
    },
    {
     "name": "stdout",
     "output_type": "stream",
     "text": [
      "Category: Movies\n"
     ]
    },
    {
     "data": {
      "image/png": "[encoded data removed]",
      "text/plain": [
       "<Figure size 432x288 with 1 Axes>"
      ]
     },
     "metadata": {
      "needs_background": "light"
     },
     "output_type": "display_data"
    },
    {
     "name": "stdout",
     "output_type": "stream",
     "text": [
      "Category: Shows\n"
     ]
    },
    {
     "data": {
      "image/png": "[encoded data removed]",
      "text/plain": [
       "<Figure size 432x288 with 1 Axes>"
      ]
     },
     "metadata": {
      "needs_background": "light"
     },
     "output_type": "display_data"
    },
    {
     "name": "stdout",
     "output_type": "stream",
     "text": [
      "Category: Trailers\n"
     ]
    },
    {
     "data": {
      "image/png": "[encoded data removed]",
      "text/plain": [
       "<Figure size 432x288 with 1 Axes>"
      ]
     },
     "metadata": {
      "needs_background": "light"
     },
     "output_type": "display_data"
    }
   ],
   "source": [
    "for k,v in most_category_dict.items():\n",
    "    print (\"Category: \" + k)\n",
    "    v.plot(20,cumulative=False)"
   ]
  },
  {
   "cell_type": "markdown",
   "metadata": {},
   "source": [
    "From the above word frequency diagrams, we acknowledge that the most common word for each category is:\n",
    "- Film & Animation: trailer\n",
    "- Autos & Vehicles: 2018\n",
    "- Music: video\n",
    "- Pets & Animals: cat\n",
    "- Sports: vs\n",
    "- Travel & Events: food\n",
    "- Gaming: fortnite\n",
    "- People & Blogs: 2018\n",
    "- Comedy: 2018\n",
    "- Entertainment: 2018\n",
    "- News & Politics: 2018\n",
    "- Howto & Style: makeup\n",
    "- Education: 2018\n",
    "- Science & Technology: test\n",
    "- Nonprofits & Activism: 2018\n",
    "- Movies: movie\n",
    "- Shows:  episode\n",
    "- Trailers: trailer\n",
    "\n",
    "As we can see here, the word “2018” appears in different categories as the most common word in the title, the reason why this happen might be people love to use the year in their video’s title to show them they are the newest one. And we can observe in the diagram that the category with “2018” as the most common word in the title will also have “2017” in it but with less frequent. \n",
    "\n",
    "For other categories like Trailers and Film & Animation, the most common word is trailer and this might be caused by the same film or animation will have different versions of the trailers. As for the Pet & Animals category, we observe that the amount of the word “cat”  is much higher than “dog”, which implies that there might be more videos about cats than dogs. From the data of Howto & Style category, we can see that people are love to upload or watch videos on youtube about makeup to improve their makeup skill. And for the Travel & Events category, people use the word “food” a lot in their video tiles, this is because food is an exciting part to talk about during traveling, so there might be a lot of videos that introduce foods in the travel category. \n",
    "\n",
    "Next, for the Gaming category, we see the most common word in it is “fortnite” which is because this game released in July 2017 and it did attract a lot of players. So people who play this game will put their gaming videos and use the word “fortnite” to categorize their videos. Then for the Music part, since song will have a different name so it's hard to have a very common based on the song name, but the common things they have are MV. When people upload videos for music, they might name it “xxx official video of song XXX” so it will make the word “video” to be the most common word. After that, for the category Show, since most of the videos are in series, they will use the word “episode” to for videos are in the same series, which make sense why “episode” is the most common word in the show.\n",
    "\n",
    "Finally, for the Sports category, the reason why the word “vs” is the most common one might be people will use A team vs B team to categorize the videos to indicate which teams or people are involved in this video. And for the Science & Technology category, people might make a lot of videos of testing a product and give their own review of the products. And it is not surprising that the Movie category will have the word “movie” as the most common word because it could be used to distinguish the full movie or trailer."
   ]
  },
  {
   "cell_type": "markdown",
   "metadata": {},
   "source": [
    "## Data Analysis 3: Which categories are the most popular in each country?"
   ]
  },
  {
   "cell_type": "markdown",
   "metadata": {},
   "source": [
    "- Step 1: Find out each country's most popular category id, and convert them into the corresponding category name."
   ]
  },
  {
   "cell_type": "code",
   "execution_count": 35,
   "metadata": {},
   "outputs": [],
   "source": [
    "country_name_dict = {'CA':'Canada','DE':'Germany','FR':'France','GB':'Greate Britain','IN':'India',\n",
    "                     'JP':'Japan','KR':'South Korea','MX':'Mexico','RU':'Russia','US':'United States'}\n",
    "\n",
    "d = {'country':[],'category_id':[]}\n",
    "## Loop through each country's dataframe and find the max count of categories in each country\n",
    "for k,v in df_dict.items():\n",
    "    temp = v.groupby(['category_id'])\n",
    "    maxLen = 0\n",
    "    maxCategory = 1\n",
    "    for k2,v2 in temp.groups.items():\n",
    "        if len(v2) > maxLen:\n",
    "            maxLen = len(v2)\n",
    "            maxCategory = str(k2)\n",
    "    d['country'].append(country_name_dict[k])\n",
    "    d['category_id'].append(df_category_dict[k][str(maxCategory)])\n",
    "    \n",
    "most_popular_category_df = pd.DataFrame(data=d)"
   ]
  },
  {
   "cell_type": "markdown",
   "metadata": {},
   "source": [
    "- Step 2: Check each country's most popular category"
   ]
  },
  {
   "cell_type": "code",
   "execution_count": 36,
   "metadata": {},
   "outputs": [
    {
     "data": {
      "text/html": [
       "<div>\n",
       "<style scoped>\n",
       "    .dataframe tbody tr th:only-of-type {\n",
       "        vertical-align: middle;\n",
       "    }\n",
       "\n",
       "    .dataframe tbody tr th {\n",
       "        vertical-align: top;\n",
       "    }\n",
       "\n",
       "    .dataframe thead th {\n",
       "        text-align: right;\n",
       "    }\n",
       "</style>\n",
       "<table border=\"1\" class=\"dataframe\">\n",
       "  <thead>\n",
       "    <tr style=\"text-align: right;\">\n",
       "      <th></th>\n",
       "      <th>country</th>\n",
       "      <th>category_id</th>\n",
       "    </tr>\n",
       "  </thead>\n",
       "  <tbody>\n",
       "    <tr>\n",
       "      <th>0</th>\n",
       "      <td>Canada</td>\n",
       "      <td>Entertainment</td>\n",
       "    </tr>\n",
       "    <tr>\n",
       "      <th>1</th>\n",
       "      <td>Germany</td>\n",
       "      <td>Entertainment</td>\n",
       "    </tr>\n",
       "    <tr>\n",
       "      <th>2</th>\n",
       "      <td>France</td>\n",
       "      <td>Entertainment</td>\n",
       "    </tr>\n",
       "    <tr>\n",
       "      <th>3</th>\n",
       "      <td>Greate Britain</td>\n",
       "      <td>Music</td>\n",
       "    </tr>\n",
       "    <tr>\n",
       "      <th>4</th>\n",
       "      <td>India</td>\n",
       "      <td>Entertainment</td>\n",
       "    </tr>\n",
       "    <tr>\n",
       "      <th>5</th>\n",
       "      <td>Japan</td>\n",
       "      <td>Entertainment</td>\n",
       "    </tr>\n",
       "    <tr>\n",
       "      <th>6</th>\n",
       "      <td>South Korea</td>\n",
       "      <td>Entertainment</td>\n",
       "    </tr>\n",
       "    <tr>\n",
       "      <th>7</th>\n",
       "      <td>Mexico</td>\n",
       "      <td>Entertainment</td>\n",
       "    </tr>\n",
       "    <tr>\n",
       "      <th>8</th>\n",
       "      <td>Russia</td>\n",
       "      <td>People &amp; Blogs</td>\n",
       "    </tr>\n",
       "    <tr>\n",
       "      <th>9</th>\n",
       "      <td>United States</td>\n",
       "      <td>Entertainment</td>\n",
       "    </tr>\n",
       "  </tbody>\n",
       "</table>\n",
       "</div>"
      ],
      "text/plain": [
       "          country     category_id\n",
       "0          Canada   Entertainment\n",
       "1         Germany   Entertainment\n",
       "2          France   Entertainment\n",
       "3  Greate Britain           Music\n",
       "4           India   Entertainment\n",
       "5           Japan   Entertainment\n",
       "6     South Korea   Entertainment\n",
       "7          Mexico   Entertainment\n",
       "8          Russia  People & Blogs\n",
       "9   United States   Entertainment"
      ]
     },
     "execution_count": 36,
     "metadata": {},
     "output_type": "execute_result"
    }
   ],
   "source": [
    "most_popular_category_df"
   ]
  },
  {
   "cell_type": "markdown",
   "metadata": {},
   "source": [
    "    From the above analysis, we find out that in Canada, Germany, France, India, Japan, South Korea, Mexico, and the United States are having the same most popular cateogry which is \"Entertainment\", Great Britain has \"Music\" and Russia has \"People & Blogs\" as their most popular cateogry"
   ]
  },
  {
   "cell_type": "markdown",
   "metadata": {},
   "source": [
    "![title](images/Most_Popular_Video_Category.png)"
   ]
  },
  {
   "cell_type": "markdown",
   "metadata": {},
   "source": [
    "## Data Analysis 4: What countries share the same trending videos?"
   ]
  },
  {
   "cell_type": "markdown",
   "metadata": {},
   "source": [
    "The same video can be trending in multiple countries. We want to know which pair of countries have high proportion of the same trending videos. We hypothesize that countries that speak the same language and countries that are geographily close have higher proprotions of shared trending videos."
   ]
  },
  {
   "cell_type": "code",
   "execution_count": 37,
   "metadata": {
    "scrolled": false
   },
   "outputs": [
    {
     "data": {
      "image/png": "[encoded data removed]",
      "text/plain": [
       "<Figure size 432x288 with 2 Axes>"
      ]
     },
     "metadata": {
      "needs_background": "light"
     },
     "output_type": "display_data"
    }
   ],
   "source": [
    "# get the video ids of each country and put them in sets so we can use intersection to find common videos\n",
    "ids = list(map(lambda df: set(df[\"video_id\"]), df_dict.values()))\n",
    "\n",
    "# for each pair of countries, calculate the proportion of common trending videos\n",
    "mat = np.zeros([len(ids), len(ids)])\n",
    "\n",
    "for i in range(len(ids)):\n",
    "    for j in range(i + 1, len(ids)):\n",
    "        # we divide the intersection of the set by the union of the set to find the proportion\n",
    "        mat[j, i] = len(ids[i] & ids[j]) / len(ids[i] | ids[j])\n",
    "\n",
    "# we mask the top right triangle as we are only interested in the bottom left\n",
    "mask = np.zeros_like(mat, dtype=np.bool)\n",
    "mask[np.triu_indices_from(mask)] = True\n",
    "\n",
    "cmap = sns.light_palette(\"#3498db\", as_cmap=True)\n",
    "\n",
    "sns.heatmap(mat, xticklabels=df_dict.keys(), yticklabels=df_dict.keys(), cmap=cmap, mask=mask)\n",
    "\n",
    "plt.title(\"Proportion of common trending videos in different countries\")\n",
    "plt.show()"
   ]
  },
  {
   "cell_type": "markdown",
   "metadata": {},
   "source": [
    "Looking at the graph, you can see that most country pairs have low proportions of common trending videos. The few countries with high proportions include (US, GB), (US, CA), (DE, CA), (FR, CA), (FR, DE). Most of these pairs of countries are either geographically close, such as (FR, DE) or have the same language, such as (US, GB), or both (US, CA). As one can see, our hypothesis that at countries that speak the same language and countries that are geographily close have higher proprotions of shared trending videos is supported by our analysis."
   ]
  },
  {
   "cell_type": "markdown",
   "metadata": {},
   "source": [
    "## Data Analysis 5: What are the most well recieved and most controversial categories?"
   ]
  },
  {
   "cell_type": "markdown",
   "metadata": {},
   "source": [
    "Using the like to dislike ratio, we can find the most well recieved and the most controversials categories by comparing the likes to dislikes. The higher likes to dislikes, the more generally well recieved the video it is. The lower the ratio, the more contested that category is."
   ]
  },
  {
   "cell_type": "markdown",
   "metadata": {},
   "source": [
    "- Step 1: Count like and dislikes of each category across all the countries.\n",
    "We can sum the likes and dislikes of each category to find the ratio"
   ]
  },
  {
   "cell_type": "code",
   "execution_count": 38,
   "metadata": {},
   "outputs": [],
   "source": [
    "like_dict = {}\n",
    "unlike_dict = {}\n",
    "for k,v in df_dict.items():\n",
    "    temp = v.groupby(['category_id'])\n",
    "    for k2,v2 in temp:\n",
    "        if k2 not in like_dict:\n",
    "            like_dict[df_category_dict[k][str(k2)]] = sum(v2['likes'])\n",
    "            unlike_dict[df_category_dict[k][str(k2)]] = sum(v2['dislikes'])\n",
    "        else:\n",
    "            like_dict[df_category_dict[k][str(k2)]] += sum(v2['likes'])\n",
    "            unlike_dict[df_category_dict[k][str(k2)]] += sum(v2['dislikes'])"
   ]
  },
  {
   "cell_type": "markdown",
   "metadata": {},
   "source": [
    "- Step 2: Create a dataframe to store the likes and dislikes"
   ]
  },
  {
   "cell_type": "code",
   "execution_count": 39,
   "metadata": {},
   "outputs": [],
   "source": [
    "likes = pd.DataFrame.from_dict({\"category\": [l for l in like_dict.keys()],\"likes\":[v for k,v in like_dict.items()]})\n",
    "dislikes = pd.DataFrame.from_dict({\"category\": [l for l in like_dict.keys()],\"dislikes\":[v for k,v in unlike_dict.items()]})"
   ]
  },
  {
   "cell_type": "code",
   "execution_count": 40,
   "metadata": {},
   "outputs": [
    {
     "data": {
      "text/html": [
       "<div>\n",
       "<style scoped>\n",
       "    .dataframe tbody tr th:only-of-type {\n",
       "        vertical-align: middle;\n",
       "    }\n",
       "\n",
       "    .dataframe tbody tr th {\n",
       "        vertical-align: top;\n",
       "    }\n",
       "\n",
       "    .dataframe thead th {\n",
       "        text-align: right;\n",
       "    }\n",
       "</style>\n",
       "<table border=\"1\" class=\"dataframe\">\n",
       "  <thead>\n",
       "    <tr style=\"text-align: right;\">\n",
       "      <th></th>\n",
       "      <th>category</th>\n",
       "      <th>likes</th>\n",
       "    </tr>\n",
       "  </thead>\n",
       "  <tbody>\n",
       "    <tr>\n",
       "      <th>0</th>\n",
       "      <td>Film &amp; Animation</td>\n",
       "      <td>165997476</td>\n",
       "    </tr>\n",
       "    <tr>\n",
       "      <th>1</th>\n",
       "      <td>Autos &amp; Vehicles</td>\n",
       "      <td>4245656</td>\n",
       "    </tr>\n",
       "    <tr>\n",
       "      <th>2</th>\n",
       "      <td>Music</td>\n",
       "      <td>1416838584</td>\n",
       "    </tr>\n",
       "    <tr>\n",
       "      <th>3</th>\n",
       "      <td>Pets &amp; Animals</td>\n",
       "      <td>19370702</td>\n",
       "    </tr>\n",
       "    <tr>\n",
       "      <th>4</th>\n",
       "      <td>Sports</td>\n",
       "      <td>98621211</td>\n",
       "    </tr>\n",
       "    <tr>\n",
       "      <th>5</th>\n",
       "      <td>Travel &amp; Events</td>\n",
       "      <td>4836246</td>\n",
       "    </tr>\n",
       "    <tr>\n",
       "      <th>6</th>\n",
       "      <td>Gaming</td>\n",
       "      <td>69038284</td>\n",
       "    </tr>\n",
       "    <tr>\n",
       "      <th>7</th>\n",
       "      <td>People &amp; Blogs</td>\n",
       "      <td>186615999</td>\n",
       "    </tr>\n",
       "    <tr>\n",
       "      <th>8</th>\n",
       "      <td>Comedy</td>\n",
       "      <td>216346746</td>\n",
       "    </tr>\n",
       "    <tr>\n",
       "      <th>9</th>\n",
       "      <td>Entertainment</td>\n",
       "      <td>530516491</td>\n",
       "    </tr>\n",
       "    <tr>\n",
       "      <th>10</th>\n",
       "      <td>News &amp; Politics</td>\n",
       "      <td>18151033</td>\n",
       "    </tr>\n",
       "    <tr>\n",
       "      <th>11</th>\n",
       "      <td>Howto &amp; Style</td>\n",
       "      <td>162880075</td>\n",
       "    </tr>\n",
       "    <tr>\n",
       "      <th>12</th>\n",
       "      <td>Education</td>\n",
       "      <td>49257772</td>\n",
       "    </tr>\n",
       "    <tr>\n",
       "      <th>13</th>\n",
       "      <td>Science &amp; Technology</td>\n",
       "      <td>82532638</td>\n",
       "    </tr>\n",
       "    <tr>\n",
       "      <th>14</th>\n",
       "      <td>Nonprofits &amp; Activism</td>\n",
       "      <td>14815646</td>\n",
       "    </tr>\n",
       "    <tr>\n",
       "      <th>15</th>\n",
       "      <td>Movies</td>\n",
       "      <td>1732</td>\n",
       "    </tr>\n",
       "    <tr>\n",
       "      <th>16</th>\n",
       "      <td>Shows</td>\n",
       "      <td>1082639</td>\n",
       "    </tr>\n",
       "    <tr>\n",
       "      <th>17</th>\n",
       "      <td>Trailers</td>\n",
       "      <td>6</td>\n",
       "    </tr>\n",
       "  </tbody>\n",
       "</table>\n",
       "</div>"
      ],
      "text/plain": [
       "                 category       likes\n",
       "0        Film & Animation   165997476\n",
       "1        Autos & Vehicles     4245656\n",
       "2                   Music  1416838584\n",
       "3          Pets & Animals    19370702\n",
       "4                  Sports    98621211\n",
       "5         Travel & Events     4836246\n",
       "6                  Gaming    69038284\n",
       "7          People & Blogs   186615999\n",
       "8                  Comedy   216346746\n",
       "9           Entertainment   530516491\n",
       "10        News & Politics    18151033\n",
       "11          Howto & Style   162880075\n",
       "12              Education    49257772\n",
       "13   Science & Technology    82532638\n",
       "14  Nonprofits & Activism    14815646\n",
       "15                 Movies        1732\n",
       "16                  Shows     1082639\n",
       "17               Trailers           6"
      ]
     },
     "execution_count": 40,
     "metadata": {},
     "output_type": "execute_result"
    }
   ],
   "source": [
    "likes.head(18)"
   ]
  },
  {
   "cell_type": "code",
   "execution_count": 41,
   "metadata": {},
   "outputs": [
    {
     "data": {
      "text/html": [
       "<div>\n",
       "<style scoped>\n",
       "    .dataframe tbody tr th:only-of-type {\n",
       "        vertical-align: middle;\n",
       "    }\n",
       "\n",
       "    .dataframe tbody tr th {\n",
       "        vertical-align: top;\n",
       "    }\n",
       "\n",
       "    .dataframe thead th {\n",
       "        text-align: right;\n",
       "    }\n",
       "</style>\n",
       "<table border=\"1\" class=\"dataframe\">\n",
       "  <thead>\n",
       "    <tr style=\"text-align: right;\">\n",
       "      <th></th>\n",
       "      <th>category</th>\n",
       "      <th>dislikes</th>\n",
       "    </tr>\n",
       "  </thead>\n",
       "  <tbody>\n",
       "    <tr>\n",
       "      <th>0</th>\n",
       "      <td>Film &amp; Animation</td>\n",
       "      <td>6075148</td>\n",
       "    </tr>\n",
       "    <tr>\n",
       "      <th>1</th>\n",
       "      <td>Autos &amp; Vehicles</td>\n",
       "      <td>243010</td>\n",
       "    </tr>\n",
       "    <tr>\n",
       "      <th>2</th>\n",
       "      <td>Music</td>\n",
       "      <td>51179008</td>\n",
       "    </tr>\n",
       "    <tr>\n",
       "      <th>3</th>\n",
       "      <td>Pets &amp; Animals</td>\n",
       "      <td>527379</td>\n",
       "    </tr>\n",
       "    <tr>\n",
       "      <th>4</th>\n",
       "      <td>Sports</td>\n",
       "      <td>5133551</td>\n",
       "    </tr>\n",
       "    <tr>\n",
       "      <th>5</th>\n",
       "      <td>Travel &amp; Events</td>\n",
       "      <td>340427</td>\n",
       "    </tr>\n",
       "    <tr>\n",
       "      <th>6</th>\n",
       "      <td>Gaming</td>\n",
       "      <td>9184466</td>\n",
       "    </tr>\n",
       "    <tr>\n",
       "      <th>7</th>\n",
       "      <td>People &amp; Blogs</td>\n",
       "      <td>10187901</td>\n",
       "    </tr>\n",
       "    <tr>\n",
       "      <th>8</th>\n",
       "      <td>Comedy</td>\n",
       "      <td>7230391</td>\n",
       "    </tr>\n",
       "    <tr>\n",
       "      <th>9</th>\n",
       "      <td>Entertainment</td>\n",
       "      <td>42987663</td>\n",
       "    </tr>\n",
       "    <tr>\n",
       "      <th>10</th>\n",
       "      <td>News &amp; Politics</td>\n",
       "      <td>4180049</td>\n",
       "    </tr>\n",
       "    <tr>\n",
       "      <th>11</th>\n",
       "      <td>Howto &amp; Style</td>\n",
       "      <td>5473899</td>\n",
       "    </tr>\n",
       "    <tr>\n",
       "      <th>12</th>\n",
       "      <td>Education</td>\n",
       "      <td>1351972</td>\n",
       "    </tr>\n",
       "    <tr>\n",
       "      <th>13</th>\n",
       "      <td>Science &amp; Technology</td>\n",
       "      <td>4548402</td>\n",
       "    </tr>\n",
       "    <tr>\n",
       "      <th>14</th>\n",
       "      <td>Nonprofits &amp; Activism</td>\n",
       "      <td>3310381</td>\n",
       "    </tr>\n",
       "    <tr>\n",
       "      <th>15</th>\n",
       "      <td>Movies</td>\n",
       "      <td>138</td>\n",
       "    </tr>\n",
       "    <tr>\n",
       "      <th>16</th>\n",
       "      <td>Shows</td>\n",
       "      <td>24508</td>\n",
       "    </tr>\n",
       "    <tr>\n",
       "      <th>17</th>\n",
       "      <td>Trailers</td>\n",
       "      <td>0</td>\n",
       "    </tr>\n",
       "  </tbody>\n",
       "</table>\n",
       "</div>"
      ],
      "text/plain": [
       "                 category  dislikes\n",
       "0        Film & Animation   6075148\n",
       "1        Autos & Vehicles    243010\n",
       "2                   Music  51179008\n",
       "3          Pets & Animals    527379\n",
       "4                  Sports   5133551\n",
       "5         Travel & Events    340427\n",
       "6                  Gaming   9184466\n",
       "7          People & Blogs  10187901\n",
       "8                  Comedy   7230391\n",
       "9           Entertainment  42987663\n",
       "10        News & Politics   4180049\n",
       "11          Howto & Style   5473899\n",
       "12              Education   1351972\n",
       "13   Science & Technology   4548402\n",
       "14  Nonprofits & Activism   3310381\n",
       "15                 Movies       138\n",
       "16                  Shows     24508\n",
       "17               Trailers         0"
      ]
     },
     "execution_count": 41,
     "metadata": {},
     "output_type": "execute_result"
    }
   ],
   "source": [
    "dislikes.head(18)"
   ]
  },
  {
   "cell_type": "markdown",
   "metadata": {},
   "source": [
    "- Step 3: Merge dataframes on category id"
   ]
  },
  {
   "cell_type": "code",
   "execution_count": 42,
   "metadata": {},
   "outputs": [],
   "source": [
    "c = likes.merge(dislikes,on=\"category\")"
   ]
  },
  {
   "cell_type": "code",
   "execution_count": 43,
   "metadata": {
    "scrolled": true
   },
   "outputs": [
    {
     "data": {
      "text/html": [
       "<div>\n",
       "<style scoped>\n",
       "    .dataframe tbody tr th:only-of-type {\n",
       "        vertical-align: middle;\n",
       "    }\n",
       "\n",
       "    .dataframe tbody tr th {\n",
       "        vertical-align: top;\n",
       "    }\n",
       "\n",
       "    .dataframe thead th {\n",
       "        text-align: right;\n",
       "    }\n",
       "</style>\n",
       "<table border=\"1\" class=\"dataframe\">\n",
       "  <thead>\n",
       "    <tr style=\"text-align: right;\">\n",
       "      <th></th>\n",
       "      <th>category</th>\n",
       "      <th>likes</th>\n",
       "      <th>dislikes</th>\n",
       "    </tr>\n",
       "  </thead>\n",
       "  <tbody>\n",
       "    <tr>\n",
       "      <th>0</th>\n",
       "      <td>Film &amp; Animation</td>\n",
       "      <td>165997476</td>\n",
       "      <td>6075148</td>\n",
       "    </tr>\n",
       "    <tr>\n",
       "      <th>1</th>\n",
       "      <td>Autos &amp; Vehicles</td>\n",
       "      <td>4245656</td>\n",
       "      <td>243010</td>\n",
       "    </tr>\n",
       "    <tr>\n",
       "      <th>2</th>\n",
       "      <td>Music</td>\n",
       "      <td>1416838584</td>\n",
       "      <td>51179008</td>\n",
       "    </tr>\n",
       "    <tr>\n",
       "      <th>3</th>\n",
       "      <td>Pets &amp; Animals</td>\n",
       "      <td>19370702</td>\n",
       "      <td>527379</td>\n",
       "    </tr>\n",
       "    <tr>\n",
       "      <th>4</th>\n",
       "      <td>Sports</td>\n",
       "      <td>98621211</td>\n",
       "      <td>5133551</td>\n",
       "    </tr>\n",
       "    <tr>\n",
       "      <th>5</th>\n",
       "      <td>Travel &amp; Events</td>\n",
       "      <td>4836246</td>\n",
       "      <td>340427</td>\n",
       "    </tr>\n",
       "    <tr>\n",
       "      <th>6</th>\n",
       "      <td>Gaming</td>\n",
       "      <td>69038284</td>\n",
       "      <td>9184466</td>\n",
       "    </tr>\n",
       "    <tr>\n",
       "      <th>7</th>\n",
       "      <td>People &amp; Blogs</td>\n",
       "      <td>186615999</td>\n",
       "      <td>10187901</td>\n",
       "    </tr>\n",
       "    <tr>\n",
       "      <th>8</th>\n",
       "      <td>Comedy</td>\n",
       "      <td>216346746</td>\n",
       "      <td>7230391</td>\n",
       "    </tr>\n",
       "    <tr>\n",
       "      <th>9</th>\n",
       "      <td>Entertainment</td>\n",
       "      <td>530516491</td>\n",
       "      <td>42987663</td>\n",
       "    </tr>\n",
       "  </tbody>\n",
       "</table>\n",
       "</div>"
      ],
      "text/plain": [
       "           category       likes  dislikes\n",
       "0  Film & Animation   165997476   6075148\n",
       "1  Autos & Vehicles     4245656    243010\n",
       "2             Music  1416838584  51179008\n",
       "3    Pets & Animals    19370702    527379\n",
       "4            Sports    98621211   5133551\n",
       "5   Travel & Events     4836246    340427\n",
       "6            Gaming    69038284   9184466\n",
       "7    People & Blogs   186615999  10187901\n",
       "8            Comedy   216346746   7230391\n",
       "9     Entertainment   530516491  42987663"
      ]
     },
     "execution_count": 43,
     "metadata": {},
     "output_type": "execute_result"
    }
   ],
   "source": [
    "c.head(10)"
   ]
  },
  {
   "cell_type": "markdown",
   "metadata": {},
   "source": [
    "- Step 4: Create the ratio column for like and dislike"
   ]
  },
  {
   "cell_type": "code",
   "execution_count": 44,
   "metadata": {},
   "outputs": [],
   "source": [
    "def find_ratio(like,dislike):\n",
    "    if dislike != 0:\n",
    "        return like/dislike\n",
    "    else:\n",
    "        return like\n",
    "    \n",
    "c[\"ratio\"] = c.apply(lambda row: find_ratio(row[\"likes\"],row[\"dislikes\"]), axis=1)"
   ]
  },
  {
   "cell_type": "code",
   "execution_count": 45,
   "metadata": {},
   "outputs": [
    {
     "data": {
      "text/html": [
       "<div>\n",
       "<style scoped>\n",
       "    .dataframe tbody tr th:only-of-type {\n",
       "        vertical-align: middle;\n",
       "    }\n",
       "\n",
       "    .dataframe tbody tr th {\n",
       "        vertical-align: top;\n",
       "    }\n",
       "\n",
       "    .dataframe thead th {\n",
       "        text-align: right;\n",
       "    }\n",
       "</style>\n",
       "<table border=\"1\" class=\"dataframe\">\n",
       "  <thead>\n",
       "    <tr style=\"text-align: right;\">\n",
       "      <th></th>\n",
       "      <th>category</th>\n",
       "      <th>likes</th>\n",
       "      <th>dislikes</th>\n",
       "      <th>ratio</th>\n",
       "    </tr>\n",
       "  </thead>\n",
       "  <tbody>\n",
       "    <tr>\n",
       "      <th>0</th>\n",
       "      <td>Film &amp; Animation</td>\n",
       "      <td>165997476</td>\n",
       "      <td>6075148</td>\n",
       "      <td>27.324022</td>\n",
       "    </tr>\n",
       "    <tr>\n",
       "      <th>1</th>\n",
       "      <td>Autos &amp; Vehicles</td>\n",
       "      <td>4245656</td>\n",
       "      <td>243010</td>\n",
       "      <td>17.471116</td>\n",
       "    </tr>\n",
       "    <tr>\n",
       "      <th>2</th>\n",
       "      <td>Music</td>\n",
       "      <td>1416838584</td>\n",
       "      <td>51179008</td>\n",
       "      <td>27.683979</td>\n",
       "    </tr>\n",
       "    <tr>\n",
       "      <th>3</th>\n",
       "      <td>Pets &amp; Animals</td>\n",
       "      <td>19370702</td>\n",
       "      <td>527379</td>\n",
       "      <td>36.730135</td>\n",
       "    </tr>\n",
       "    <tr>\n",
       "      <th>4</th>\n",
       "      <td>Sports</td>\n",
       "      <td>98621211</td>\n",
       "      <td>5133551</td>\n",
       "      <td>19.211110</td>\n",
       "    </tr>\n",
       "    <tr>\n",
       "      <th>5</th>\n",
       "      <td>Travel &amp; Events</td>\n",
       "      <td>4836246</td>\n",
       "      <td>340427</td>\n",
       "      <td>14.206411</td>\n",
       "    </tr>\n",
       "    <tr>\n",
       "      <th>6</th>\n",
       "      <td>Gaming</td>\n",
       "      <td>69038284</td>\n",
       "      <td>9184466</td>\n",
       "      <td>7.516853</td>\n",
       "    </tr>\n",
       "    <tr>\n",
       "      <th>7</th>\n",
       "      <td>People &amp; Blogs</td>\n",
       "      <td>186615999</td>\n",
       "      <td>10187901</td>\n",
       "      <td>18.317414</td>\n",
       "    </tr>\n",
       "    <tr>\n",
       "      <th>8</th>\n",
       "      <td>Comedy</td>\n",
       "      <td>216346746</td>\n",
       "      <td>7230391</td>\n",
       "      <td>29.921860</td>\n",
       "    </tr>\n",
       "    <tr>\n",
       "      <th>9</th>\n",
       "      <td>Entertainment</td>\n",
       "      <td>530516491</td>\n",
       "      <td>42987663</td>\n",
       "      <td>12.341134</td>\n",
       "    </tr>\n",
       "    <tr>\n",
       "      <th>10</th>\n",
       "      <td>News &amp; Politics</td>\n",
       "      <td>18151033</td>\n",
       "      <td>4180049</td>\n",
       "      <td>4.342301</td>\n",
       "    </tr>\n",
       "    <tr>\n",
       "      <th>11</th>\n",
       "      <td>Howto &amp; Style</td>\n",
       "      <td>162880075</td>\n",
       "      <td>5473899</td>\n",
       "      <td>29.755769</td>\n",
       "    </tr>\n",
       "    <tr>\n",
       "      <th>12</th>\n",
       "      <td>Education</td>\n",
       "      <td>49257772</td>\n",
       "      <td>1351972</td>\n",
       "      <td>36.434018</td>\n",
       "    </tr>\n",
       "    <tr>\n",
       "      <th>13</th>\n",
       "      <td>Science &amp; Technology</td>\n",
       "      <td>82532638</td>\n",
       "      <td>4548402</td>\n",
       "      <td>18.145414</td>\n",
       "    </tr>\n",
       "    <tr>\n",
       "      <th>14</th>\n",
       "      <td>Nonprofits &amp; Activism</td>\n",
       "      <td>14815646</td>\n",
       "      <td>3310381</td>\n",
       "      <td>4.475511</td>\n",
       "    </tr>\n",
       "    <tr>\n",
       "      <th>15</th>\n",
       "      <td>Movies</td>\n",
       "      <td>1732</td>\n",
       "      <td>138</td>\n",
       "      <td>12.550725</td>\n",
       "    </tr>\n",
       "    <tr>\n",
       "      <th>16</th>\n",
       "      <td>Shows</td>\n",
       "      <td>1082639</td>\n",
       "      <td>24508</td>\n",
       "      <td>44.174922</td>\n",
       "    </tr>\n",
       "    <tr>\n",
       "      <th>17</th>\n",
       "      <td>Trailers</td>\n",
       "      <td>6</td>\n",
       "      <td>0</td>\n",
       "      <td>6.000000</td>\n",
       "    </tr>\n",
       "  </tbody>\n",
       "</table>\n",
       "</div>"
      ],
      "text/plain": [
       "                 category       likes  dislikes      ratio\n",
       "0        Film & Animation   165997476   6075148  27.324022\n",
       "1        Autos & Vehicles     4245656    243010  17.471116\n",
       "2                   Music  1416838584  51179008  27.683979\n",
       "3          Pets & Animals    19370702    527379  36.730135\n",
       "4                  Sports    98621211   5133551  19.211110\n",
       "5         Travel & Events     4836246    340427  14.206411\n",
       "6                  Gaming    69038284   9184466   7.516853\n",
       "7          People & Blogs   186615999  10187901  18.317414\n",
       "8                  Comedy   216346746   7230391  29.921860\n",
       "9           Entertainment   530516491  42987663  12.341134\n",
       "10        News & Politics    18151033   4180049   4.342301\n",
       "11          Howto & Style   162880075   5473899  29.755769\n",
       "12              Education    49257772   1351972  36.434018\n",
       "13   Science & Technology    82532638   4548402  18.145414\n",
       "14  Nonprofits & Activism    14815646   3310381   4.475511\n",
       "15                 Movies        1732       138  12.550725\n",
       "16                  Shows     1082639     24508  44.174922\n",
       "17               Trailers           6         0   6.000000"
      ]
     },
     "execution_count": 45,
     "metadata": {},
     "output_type": "execute_result"
    }
   ],
   "source": [
    "c"
   ]
  },
  {
   "cell_type": "markdown",
   "metadata": {},
   "source": [
    "The most well received categories with the largest likes/dislikes ratio are: \n",
    "- 1) Shows with 44.17 likes to dislikes. \n",
    "- 2) Pets and Animals with 36.73 likes to dislikes.\n",
    "- 3) Education with 36.43 likes to dislikes.\n",
    "\n",
    "The most controversial categories with the lowest likes/dislikes ratio are:\n",
    "- 1) News & Politics withs 4.34 likes to dislikes.\n",
    "- 2) Nonprofits & Activism with 4.48 likes to dislikes.\n",
    "- 3) Gaming with 7.51 likes to dislikes. \n",
    "\n",
    "(We ommitted trailers since there were only 6 likes in total, vastly different from the other categories.)"
   ]
  },
  {
   "cell_type": "markdown",
   "metadata": {},
   "source": [
    "# Ethics & Privacy"
   ]
  },
  {
   "cell_type": "markdown",
   "metadata": {},
   "source": [
    "The data collected about trending video statistics is an existing dataset which has been legally collected and available on Kaggle. In addition, since the videos are public there is no explicit privacy issue to the creators. Also, individual comments and profiles will not be considered for the analysis of data. A privacy issue to consider is who can profit from this. While there is no direct way to profit from our project, using our analysis and finding the factors that lead to making videos popular may result in YouTube creators to use these factors to boost their views and likes creating more attention for their videos. Through this and the monetary system of YouTube, creators can make more money which is an issue to consider. In addition, an ethical issue to consider is the assumptions that can be made about society.  For example, finding a popular category of YouTube videos in a certain country may lead to making assumptions about the people and the country itself, as not all people are the same and enjoy watching the same things. We are assuming the most popular videos means that the whole country enjoys the same content. The same holds true for the factors aspect of the project. The factors we find may not adhere to different cultures leading to unethical assumptions. Since these assumptions must not be made, our project has made it clear that the data analyzed provides an insight into the popularity of videos, but should not necessarily be used as the grounds for findings, but rather a foundation for further research and exploration.\n"
   ]
  },
  {
   "cell_type": "markdown",
   "metadata": {},
   "source": [
    "# Conclusion & Discussion"
   ]
  },
  {
   "cell_type": "markdown",
   "metadata": {},
   "source": [
    "In this project, we used data of trending videos in 10 countries to investigate the trends and patterns in trending videos, and compare and contrast them across different countries. \n",
    "\n",
    "Because our data contains many different types of information about the trending videos, we conducted the analysis in many parts. First we checked the engagement level of videos in each country and we saw that it appears to be higher in larger countries. We then looked at the distribution of the time between a video is published and it becomes trending. We concluded that most videos become trending within a day of being published, but there is a long tail of videos that become trending several days after it is published. We also looked at the most common words in video titles across categories, and we found words that make sense for their category. We then looked at the most popular trending categories in each country, and we found that “Entertainment” is the most popular in most countries, with the exception of “Music” in Great Britain and “People and Blogs” in Russia. We then looked at countries that share a high proportion of trending videos, and we found that countries that speak the same language and countries that are geographically close have higher proportions of shared trending videos. Lastly, we looked at the like/dislike ratio of different categories of videos, and we found like categories like “Shows” and “Pets and Animals” have high like/dislike ratios, whereas categories like “News & Politics” and “Nonprofits & Activism” have low like/dislike ratios.\n",
    "\n",
    "Our project has some limitations. First, while the dataset has many categories of information available for trending videos, a lot more information is available on the YouTube API. Additionally, an important component of trending videos that is missing from our dataset is the ranking. The YouTube platform contains so much data that we could have had more interesting analysis. In terms of impact on society, we believe that this project demonstrated the various ways that further research could be conducted so that creators could make more trending videos, but more importantly, by comparing and contrasting data from different countries as well as how trends change over time, we may be able to gain important insight about our culture. \n"
   ]
  }
 ],
 "metadata": {
  "kernelspec": {
   "display_name": "Python 3",
   "language": "python",
   "name": "python3"
  },
  "language_info": {
   "codemirror_mode": {
    "name": "ipython",
    "version": 3
   },
   "file_extension": ".py",
   "mimetype": "text/x-python",
   "name": "python",
   "nbconvert_exporter": "python",
   "pygments_lexer": "ipython3",
   "version": "3.7.0"
  }
 },
 "nbformat": 4,
 "nbformat_minor": 2
}
