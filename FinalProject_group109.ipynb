{
 "cells": [
  {
   "cell_type": "markdown",
   "metadata": {
    "colab_type": "text",
    "id": "gkMvgbZmAps-"
   },
   "source": [
    "# COGS 108 - Final Project: Mental Health & Gun Violence\n"
   ]
  },
  {
   "cell_type": "markdown",
   "metadata": {
    "colab_type": "text",
    "id": "fTXvFha8Aps-"
   },
   "source": [
    "# Overview"
   ]
  },
  {
   "cell_type": "markdown",
   "metadata": {
    "colab_type": "text",
    "id": "3LvfJRiFAps_"
   },
   "source": [
    "There have been 22,680 incidents of gun violence, and counting, in 2019 alone (Gun Violence Archive), and gun control is heavily debated in the United States, especially with the number of mass shootings rising. Even President Trump chimed into this issue in one of his famous tweets after the November 2018 Thousand Oaks shooting: “It’s a mental health problem.” Trump routinely engages in a popular narrative that is held by many Americans today — that individuals with mental health issues are more prone to starting violent events. \n",
    "\n",
    "This project will explore the relationship between mental health and gun violence to evaluate the truth behind these statements. "
   ]
  },
  {
   "cell_type": "markdown",
   "metadata": {
    "colab_type": "text",
    "id": "MjDzJQBlAps_"
   },
   "source": [
    "# Names (Group 109)\n",
    "\n",
    "- Xiangyu Wei\n",
    "\n",
    "- Tara Patwardhan\n",
    "\n",
    "- Amy Le\n",
    "\n",
    "- Annika Olives\n",
    "\n",
    "- Tejas Bhakta\n",
    "\n",
    "- Yuqing Yang"
   ]
  },
  {
   "cell_type": "markdown",
   "metadata": {
    "colab_type": "text",
    "id": "70b-l0NFAptA"
   },
   "source": [
    "# Research Questions"
   ]
  },
  {
   "cell_type": "markdown",
   "metadata": {
    "colab_type": "text",
    "id": "b8LcQeIKAptB"
   },
   "source": [
    "\n",
    "\n",
    "1.   Is there a relationship between mental health occurences (within a state) and gun violence instances? \n",
    "2.   Is there a relationship between the proximity of mental health facilities and elevated occurrences of gun violence incidents in the United States?\n",
    "3. Does a larger number of mental health treatment facilities correlate with a decrease in gun violence rates?\n",
    "\n",
    "\n",
    "\n"
   ]
  },
  {
   "cell_type": "markdown",
   "metadata": {
    "colab_type": "text",
    "id": "JhsFQ89XAptB"
   },
   "source": [
    "# Background and Prior Work"
   ]
  },
  {
   "cell_type": "markdown",
   "metadata": {
    "colab_type": "text",
    "id": "IH5yfc0rAptC"
   },
   "source": [
    "According to Grant Duwe, who has studied mass public shootings for years as the director of research at the Minnesota Department of Corrections, “about 60 percent of mass shooters have a history of serious mental disorders and two-thirds had never been seen by a mental health professional.” Following the Sandy Hook shooting in 2012, 46% of American survey respondents agreed that people with serious mental illness were more dangerous than the general population, and a majority also supported increasing government spending on mental health screening and treatment as a way to reduce gun violence (Barry, McGinty, Vernick, & Webster, 2013). However, the link between mental illness and violence could simply be perpetuated by heavy media coverage of mass shootings and violent events (Swanson, McGinty, Fazel, & Mays, 2015), bringing up the question of whether the link really exists. \n",
    "\n",
    "For policymakers to effectively prevent more gun-related tragedies in the future, analyzing possible causes of these events is vital to the safety and security of our communities. The National Alliance on Mental Illness recognizes that “acts of violence by people with mental illness are usually the result of lack of needed mental health services.” Therefore, mental health itself may not be a predictor of gun violence, but the lack of effective resources available could influence the possibility of violence. Thus, this project explores the relationship between the locality and services provided by mental health resources and instances of gun violence in an attempt to determine if mental health and gun violence are related, and if the accessibility to mental health services impacts the number of gun violence incidents. \n",
    "\n",
    "References \n",
    "1. https://khn.org/news/gun-control-vs-mental-health-care-debate-after-mass-shootings-obscures-murky-reality/\n",
    "2. \n",
    "https://www.ncfr.org/ncfr-report/winter-2018/intersection-mental-illness-and-gun-violence\n"
   ]
  },
  {
   "cell_type": "markdown",
   "metadata": {
    "colab_type": "text",
    "id": "jO7VejqQAptC"
   },
   "source": [
    "# Hypothesis\n"
   ]
  },
  {
   "cell_type": "markdown",
   "metadata": {
    "colab_type": "text",
    "id": "4IFmQMYKAptD"
   },
   "source": [
    "We hypothesize that states with more reported mental health occurences will have increased gun violence rate. This is due to the speculative idea that people with mental health illnesses are more likely to participate in violent acts. We hypothesize that there is a relationship between the two variables.\n",
    "\n",
    "Additionally, we also hypothesize that there will be lower gun violence incidents in locations that are in closer proximity to mental health facilities.\n",
    "\n",
    "Lastly, we hypothesize that states with more mental health facilities will have decreased gun violence rates. This is due to similar reasoning as before, where if people with mental health illnesses who do not have access to needed resources they are more likely  to participate in violent acts, so in states with more mental health facilities the opposite should hold as well. \n",
    "\n",
    "We believe that these hypotheses hold true based on our background research of the promise that mental health facilities hold with regards to preventing violent gun incidents. \n",
    "\n",
    "References\n",
    " 1.  https://www.hsph.harvard.edu/means-matter/gun-shop-project/ \n"
   ]
  },
  {
   "cell_type": "markdown",
   "metadata": {
    "colab_type": "text",
    "id": "PwKLfU9lAptD"
   },
   "source": [
    "# Dataset(s)"
   ]
  },
  {
   "cell_type": "markdown",
   "metadata": {
    "colab_type": "text",
    "id": "vKvW6CDGAptE"
   },
   "source": [
    "1. Dataset Name: Gun Violence Data\n",
    "-- Link to the dataset: https://www.kaggle.com/jameslko/gun-violence-data\n",
    "-- Number of observations: 239,677\n",
    "\n",
    "This dataset, provided by the Gun Violence Archive, contains several observations about gun-related violence in the United States, including the state, city, and exact location of the incident, as well as the number of people killed, the number of people injured, and the participant's ages. \n",
    "\n",
    "\n",
    "2. Dataset Name: Facility Locations\n",
    "-- Link to the dataset: https://findtreatment.samhsa.gov/locator\n",
    "-- Number of observations: 9685\n",
    "\n",
    "This dataset provides us with the name, address, website, and exact location of every mental health facility in the US. \n",
    "\n",
    "3. Dataset Name: State Population Data\n",
    "-- Link to the dataset: https://www.census.gov/data/tables/time-series/demo/popest/2010s-state-total.html?fbclid=IwAR1DkUqKesAlkjUVkGBQzVudeYnJTQgaxgxrp2KClqQt4esA17yiGbdpr6c \n",
    "-- Number of observations: 528\n",
    "\n",
    "This data set provides us with the population of all 50 states as well as Washington, D.C. and Puerto Rico from 2010 to 2018. It also provides us with population by geographic area (northeast, midwest, south, and west)\n",
    "\n",
    "4. Dataset Name: Drug Use, Perceptions of Great Risk, Past Year Substance Use Disorder and Treatment, and Past Year Mental Health Measures\n",
    "-- Link to the dataset: https://datafiles.samhsa.gov/study-dataset/national-mental-health-services-survey-2017-n-mhss-2017-ds0001-nid18462\n",
    "-- Number of observations: 10,230\n",
    "\n",
    "This data set provides us with mental health data by population, as well as mental mealth data by percentage of the population. it contains data for substance abuse and treatment options as well.\n",
    "\n",
    "Since we are using multiple data sets, we are going to merge the data from gun violence incidents and mental health facilities in order to calculate the distance between incidents and facilities. We are also using the state populations from 2010-2018 in order to measure the rate if incidents per capita in the United States."
   ]
  },
  {
   "cell_type": "markdown",
   "metadata": {
    "colab_type": "text",
    "id": "3ILgpRK3AptE"
   },
   "source": [
    "# Setup"
   ]
  },
  {
   "cell_type": "code",
   "execution_count": 20,
   "metadata": {
    "colab": {
     "base_uri": "https://localhost:8080/",
     "height": 71
    },
    "colab_type": "code",
    "id": "YQG96qgTg9Wa",
    "outputId": "095b3f17-7165-4248-b639-e3758e202343"
   },
   "outputs": [
    {
     "name": "stdout",
     "output_type": "stream",
     "text": [
      "\u001b[33mThe directory '/home/jovyan/.cache/pip/http' or its parent directory is not owned by the current user and the cache has been disabled. Please check the permissions and owner of that directory. If executing pip with sudo, you may want sudo's -H flag.\u001b[0m\n",
      "\u001b[33mThe directory '/home/jovyan/.cache/pip' or its parent directory is not owned by the current user and caching wheels has been disabled. check the permissions and owner of that directory. If executing pip with sudo, you may want sudo's -H flag.\u001b[0m\n",
      "Collecting scipy==1.2\n",
      "\u001b[?25l  Downloading https://files.pythonhosted.org/packages/67/e6/6d4edaceee6a110ecf6f318482f5229792f143e468b34a631f5a0899f56d/scipy-1.2.0-cp36-cp36m-manylinux1_x86_64.whl (26.6MB)\n",
      "\u001b[K    100% |████████████████████████████████| 26.6MB 1.5MB/s eta 0:00:01  6% |██                              | 1.7MB 18.9MB/s eta 0:00:02    16% |█████▍                          | 4.5MB 17.4MB/s eta 0:00:02a 0:00:01    79% |█████████████████████████▋      | 21.3MB 18.7MB/s eta 0:00:01    90% |█████████████████████████████▏  | 24.2MB 18.3MB/s eta 0:00:01    98% |███████████████████████████████▌| 26.2MB 18.3MB/s eta 0:00:01\n",
      "\u001b[?25hRequirement already satisfied, skipping upgrade: numpy>=1.8.2 in /opt/conda/lib/python3.6/site-packages (from scipy==1.2) (1.12.1)\n",
      "Installing collected packages: scipy\n",
      "  Found existing installation: scipy 0.19.0\n",
      "    Uninstalling scipy-0.19.0:\n",
      "\u001b[31mCould not install packages due to an EnvironmentError: [Errno 13] Permission denied: 'BENTO_BUILD.txt'\n",
      "Consider using the `--user` option or check the permissions.\n",
      "\u001b[0m\n"
     ]
    }
   ],
   "source": [
    "!pip install scipy==1.2 --upgrade"
   ]
  },
  {
   "cell_type": "code",
   "execution_count": 21,
   "metadata": {},
   "outputs": [
    {
     "name": "stdout",
     "output_type": "stream",
     "text": [
      "\u001b[33mThe directory '/home/jovyan/.cache/pip/http' or its parent directory is not owned by the current user and the cache has been disabled. Please check the permissions and owner of that directory. If executing pip with sudo, you may want sudo's -H flag.\u001b[0m\n",
      "\u001b[33mThe directory '/home/jovyan/.cache/pip' or its parent directory is not owned by the current user and caching wheels has been disabled. check the permissions and owner of that directory. If executing pip with sudo, you may want sudo's -H flag.\u001b[0m\n",
      "Collecting plotly\n",
      "\u001b[?25l  Downloading https://files.pythonhosted.org/packages/ff/75/3982bac5076d0ce6d23103c03840fcaec90c533409f9d82c19f54512a38a/plotly-3.10.0-py2.py3-none-any.whl (41.5MB)\n",
      "\u001b[K    100% |████████████████████████████████| 41.5MB 1.2MB/s eta 0:00:01  9% |███▏                            | 4.0MB 18.1MB/s eta 0:00:03    21% |██████▉                         | 8.9MB 18.7MB/s eta 0:00:02    39% |████████████▊                   | 16.5MB 18.9MB/s eta 0:00:02    41% |█████████████▍                  | 17.4MB 17.6MB/s eta 0:00:02    46% |██████████████▉                 | 19.3MB 16.8MB/s eta 0:00:02MB/s eta 0:00:01    71% |███████████████████████         | 29.8MB 18.1MB/s eta 0:00:01    83% |██████████████████████████▊     | 34.6MB 18.7MB/s eta 0:00:01\n",
      "\u001b[?25hRequirement already satisfied, skipping upgrade: six in /opt/conda/lib/python3.6/site-packages (from plotly) (1.12.0)\n",
      "Requirement already satisfied, skipping upgrade: decorator>=4.0.6 in /opt/conda/lib/python3.6/site-packages (from plotly) (4.3.0)\n",
      "Requirement already satisfied, skipping upgrade: nbformat>=4.2 in /opt/conda/lib/python3.6/site-packages (from plotly) (4.4.0)\n",
      "Requirement already satisfied, skipping upgrade: requests in /opt/conda/lib/python3.6/site-packages (from plotly) (2.12.4)\n",
      "Requirement already satisfied, skipping upgrade: pytz in /opt/conda/lib/python3.6/site-packages (from plotly) (2018.7)\n",
      "Collecting retrying>=1.3.3 (from plotly)\n",
      "  Downloading https://files.pythonhosted.org/packages/44/ef/beae4b4ef80902f22e3af073397f079c96969c69b2c7d52a57ea9ae61c9d/retrying-1.3.3.tar.gz\n",
      "Requirement already satisfied, skipping upgrade: ipython_genutils in /opt/conda/lib/python3.6/site-packages (from nbformat>=4.2->plotly) (0.2.0)\n",
      "Requirement already satisfied, skipping upgrade: traitlets>=4.1 in /opt/conda/lib/python3.6/site-packages (from nbformat>=4.2->plotly) (4.3.2)\n",
      "Requirement already satisfied, skipping upgrade: jsonschema!=2.5.0,>=2.4 in /opt/conda/lib/python3.6/site-packages (from nbformat>=4.2->plotly) (3.0.0a3)\n",
      "Requirement already satisfied, skipping upgrade: jupyter_core in /opt/conda/lib/python3.6/site-packages (from nbformat>=4.2->plotly) (4.4.0)\n",
      "Requirement already satisfied, skipping upgrade: attrs>=17.4.0 in /opt/conda/lib/python3.6/site-packages (from jsonschema!=2.5.0,>=2.4->nbformat>=4.2->plotly) (18.2.0)\n",
      "Requirement already satisfied, skipping upgrade: pyrsistent>=0.14.0 in /opt/conda/lib/python3.6/site-packages (from jsonschema!=2.5.0,>=2.4->nbformat>=4.2->plotly) (0.14.8)\n",
      "Installing collected packages: retrying, plotly\n",
      "  Running setup.py install for retrying ... \u001b[?25lerror\n",
      "    Complete output from command /opt/conda/bin/python -u -c \"import setuptools, tokenize;__file__='/tmp/pip-install-y0ab9sr5/retrying/setup.py';f=getattr(tokenize, 'open', open)(__file__);code=f.read().replace('\\r\\n', '\\n');f.close();exec(compile(code, __file__, 'exec'))\" install --record /tmp/pip-record-m2lrdvda/install-record.txt --single-version-externally-managed --compile:\n",
      "    running install\n",
      "    running build\n",
      "    running build_py\n",
      "    creating build\n",
      "    creating build/lib\n",
      "    copying retrying.py -> build/lib\n",
      "    running install_lib\n",
      "    copying build/lib/retrying.py -> /opt/conda/lib/python3.6/site-packages\n",
      "    error: could not create '/opt/conda/lib/python3.6/site-packages/retrying.py': Permission denied\n",
      "    \n",
      "    ----------------------------------------\n",
      "\u001b[31mCommand \"/opt/conda/bin/python -u -c \"import setuptools, tokenize;__file__='/tmp/pip-install-y0ab9sr5/retrying/setup.py';f=getattr(tokenize, 'open', open)(__file__);code=f.read().replace('\\r\\n', '\\n');f.close();exec(compile(code, __file__, 'exec'))\" install --record /tmp/pip-record-m2lrdvda/install-record.txt --single-version-externally-managed --compile\" failed with error code 1 in /tmp/pip-install-y0ab9sr5/retrying/\u001b[0m\n",
      "\u001b[?25h"
     ]
    }
   ],
   "source": [
    "!pip install plotly --upgrade"
   ]
  },
  {
   "cell_type": "code",
   "execution_count": 22,
   "metadata": {
    "colab": {},
    "colab_type": "code",
    "id": "U10mmfs-AptF"
   },
   "outputs": [
    {
     "ename": "ModuleNotFoundError",
     "evalue": "No module named 'plotly'",
     "output_type": "error",
     "traceback": [
      "\u001b[0;31m---------------------------------------------------------------------------\u001b[0m",
      "\u001b[0;31mModuleNotFoundError\u001b[0m                       Traceback (most recent call last)",
      "\u001b[0;32m<ipython-input-22-9a042fb65ed4>\u001b[0m in \u001b[0;36m<module>\u001b[0;34m()\u001b[0m\n\u001b[1;32m      5\u001b[0m \u001b[0;32mimport\u001b[0m \u001b[0mbs4\u001b[0m\u001b[0;34m\u001b[0m\u001b[0;34m\u001b[0m\u001b[0m\n\u001b[1;32m      6\u001b[0m \u001b[0;32mfrom\u001b[0m \u001b[0mbs4\u001b[0m \u001b[0;32mimport\u001b[0m \u001b[0mBeautifulSoup\u001b[0m\u001b[0;34m\u001b[0m\u001b[0;34m\u001b[0m\u001b[0m\n\u001b[0;32m----> 7\u001b[0;31m \u001b[0;32mimport\u001b[0m \u001b[0mplotly\u001b[0m\u001b[0;34m\u001b[0m\u001b[0;34m\u001b[0m\u001b[0m\n\u001b[0m\u001b[1;32m      8\u001b[0m \u001b[0;32mimport\u001b[0m \u001b[0mplotly\u001b[0m\u001b[0;34m.\u001b[0m\u001b[0mplotly\u001b[0m \u001b[0;32mas\u001b[0m \u001b[0mpy\u001b[0m\u001b[0;34m\u001b[0m\u001b[0;34m\u001b[0m\u001b[0m\n\u001b[1;32m      9\u001b[0m \u001b[0;32mimport\u001b[0m \u001b[0mos\u001b[0m\u001b[0;34m\u001b[0m\u001b[0;34m\u001b[0m\u001b[0m\n",
      "\u001b[0;31mModuleNotFoundError\u001b[0m: No module named 'plotly'"
     ]
    }
   ],
   "source": [
    "import math\n",
    "import numpy as np\n",
    "import pandas as pd\n",
    "import requests\n",
    "import bs4\n",
    "from bs4 import BeautifulSoup\n",
    "import plotly\n",
    "import plotly.plotly as py\n",
    "import os\n",
    "import re\n",
    "import locale\n",
    "from locale import atof\n",
    "import matplotlib.pyplot as plt\n",
    "import patsy\n",
    "import seaborn as sns\n",
    "import scipy.stats as stats\n",
    "from scipy.stats import ttest_ind, chisquare, normaltest\n",
    "import statsmodels.api as sm"
   ]
  },
  {
   "cell_type": "code",
   "execution_count": 15,
   "metadata": {
    "colab": {
     "base_uri": "https://localhost:8080/",
     "height": 88
    },
    "colab_type": "code",
    "id": "DaWNCRyHuL37",
    "outputId": "6727cd2e-58ba-4759-b425-849022ffe99a"
   },
   "outputs": [
    {
     "name": "stdout",
     "output_type": "stream",
     "text": [
      "\n",
      "The following command must be run outside of the IPython shell:\n",
      "\n",
      "    $ pip install patsy==0.5.1 --upgrade\n",
      "\n",
      "The Python package manager (pip) can only be used from outside of IPython.\n",
      "Please reissue the `pip` command in a separate terminal or command prompt.\n",
      "\n",
      "See the Python documentation for more informations on how to install packages:\n",
      "\n",
      "    https://docs.python.org/3/installing/\n"
     ]
    }
   ],
   "source": [
    "pip install patsy==0.5.1 --upgrade"
   ]
  },
  {
   "cell_type": "markdown",
   "metadata": {
    "colab_type": "text",
    "id": "KfEE7IpwAptH"
   },
   "source": [
    "# Data Cleaning"
   ]
  },
  {
   "cell_type": "markdown",
   "metadata": {
    "colab_type": "text",
    "id": "4oFGPuHDAptH"
   },
   "source": [
    "First, we will import the data files that we will be using into dataframes."
   ]
  },
  {
   "cell_type": "code",
   "execution_count": 24,
   "metadata": {
    "colab": {},
    "colab_type": "code",
    "id": "Fko6n8igAptI",
    "scrolled": true
   },
   "outputs": [
    {
     "ename": "KeyboardInterrupt",
     "evalue": "",
     "output_type": "error",
     "traceback": [
      "\u001b[0;31m---------------------------------------------------------------------------\u001b[0m",
      "\u001b[0;31mKeyboardInterrupt\u001b[0m                         Traceback (most recent call last)",
      "\u001b[0;32m<ipython-input-24-da79f4a3a15b>\u001b[0m in \u001b[0;36m<module>\u001b[0;34m()\u001b[0m\n\u001b[1;32m      8\u001b[0m \u001b[0;34m\u001b[0m\u001b[0m\n\u001b[1;32m      9\u001b[0m \u001b[0mgun_df\u001b[0m \u001b[0;34m=\u001b[0m \u001b[0mpd\u001b[0m\u001b[0;34m.\u001b[0m\u001b[0mread_csv\u001b[0m\u001b[0;34m(\u001b[0m\u001b[0;34m'GunViolenceData2013_2018.csv'\u001b[0m\u001b[0;34m)\u001b[0m\u001b[0;34m\u001b[0m\u001b[0;34m\u001b[0m\u001b[0m\n\u001b[0;32m---> 10\u001b[0;31m \u001b[0mfacilities_df\u001b[0m \u001b[0;34m=\u001b[0m \u001b[0mpd\u001b[0m\u001b[0;34m.\u001b[0m\u001b[0mread_excel\u001b[0m\u001b[0;34m(\u001b[0m\u001b[0;34m'FacilityLocations.xlsx'\u001b[0m\u001b[0;34m)\u001b[0m\u001b[0;34m\u001b[0m\u001b[0;34m\u001b[0m\u001b[0m\n\u001b[0m\u001b[1;32m     11\u001b[0m \u001b[0mpop_df\u001b[0m \u001b[0;34m=\u001b[0m \u001b[0mpd\u001b[0m\u001b[0;34m.\u001b[0m\u001b[0mread_excel\u001b[0m\u001b[0;34m(\u001b[0m\u001b[0;34m'StatePopulationData2010-2018.xlsx'\u001b[0m\u001b[0;34m)\u001b[0m\u001b[0;34m\u001b[0m\u001b[0;34m\u001b[0m\u001b[0m\n",
      "\u001b[0;32m/opt/conda/lib/python3.6/site-packages/pandas/util/_decorators.py\u001b[0m in \u001b[0;36mwrapper\u001b[0;34m(*args, **kwargs)\u001b[0m\n\u001b[1;32m    176\u001b[0m                 \u001b[0;32melse\u001b[0m\u001b[0;34m:\u001b[0m\u001b[0;34m\u001b[0m\u001b[0;34m\u001b[0m\u001b[0m\n\u001b[1;32m    177\u001b[0m                     \u001b[0mkwargs\u001b[0m\u001b[0;34m[\u001b[0m\u001b[0mnew_arg_name\u001b[0m\u001b[0;34m]\u001b[0m \u001b[0;34m=\u001b[0m \u001b[0mnew_arg_value\u001b[0m\u001b[0;34m\u001b[0m\u001b[0;34m\u001b[0m\u001b[0m\n\u001b[0;32m--> 178\u001b[0;31m             \u001b[0;32mreturn\u001b[0m \u001b[0mfunc\u001b[0m\u001b[0;34m(\u001b[0m\u001b[0;34m*\u001b[0m\u001b[0margs\u001b[0m\u001b[0;34m,\u001b[0m \u001b[0;34m**\u001b[0m\u001b[0mkwargs\u001b[0m\u001b[0;34m)\u001b[0m\u001b[0;34m\u001b[0m\u001b[0;34m\u001b[0m\u001b[0m\n\u001b[0m\u001b[1;32m    179\u001b[0m         \u001b[0;32mreturn\u001b[0m \u001b[0mwrapper\u001b[0m\u001b[0;34m\u001b[0m\u001b[0;34m\u001b[0m\u001b[0m\n\u001b[1;32m    180\u001b[0m     \u001b[0;32mreturn\u001b[0m \u001b[0m_deprecate_kwarg\u001b[0m\u001b[0;34m\u001b[0m\u001b[0;34m\u001b[0m\u001b[0m\n",
      "\u001b[0;32m/opt/conda/lib/python3.6/site-packages/pandas/util/_decorators.py\u001b[0m in \u001b[0;36mwrapper\u001b[0;34m(*args, **kwargs)\u001b[0m\n\u001b[1;32m    176\u001b[0m                 \u001b[0;32melse\u001b[0m\u001b[0;34m:\u001b[0m\u001b[0;34m\u001b[0m\u001b[0;34m\u001b[0m\u001b[0m\n\u001b[1;32m    177\u001b[0m                     \u001b[0mkwargs\u001b[0m\u001b[0;34m[\u001b[0m\u001b[0mnew_arg_name\u001b[0m\u001b[0;34m]\u001b[0m \u001b[0;34m=\u001b[0m \u001b[0mnew_arg_value\u001b[0m\u001b[0;34m\u001b[0m\u001b[0;34m\u001b[0m\u001b[0m\n\u001b[0;32m--> 178\u001b[0;31m             \u001b[0;32mreturn\u001b[0m \u001b[0mfunc\u001b[0m\u001b[0;34m(\u001b[0m\u001b[0;34m*\u001b[0m\u001b[0margs\u001b[0m\u001b[0;34m,\u001b[0m \u001b[0;34m**\u001b[0m\u001b[0mkwargs\u001b[0m\u001b[0;34m)\u001b[0m\u001b[0;34m\u001b[0m\u001b[0;34m\u001b[0m\u001b[0m\n\u001b[0m\u001b[1;32m    179\u001b[0m         \u001b[0;32mreturn\u001b[0m \u001b[0mwrapper\u001b[0m\u001b[0;34m\u001b[0m\u001b[0;34m\u001b[0m\u001b[0m\n\u001b[1;32m    180\u001b[0m     \u001b[0;32mreturn\u001b[0m \u001b[0m_deprecate_kwarg\u001b[0m\u001b[0;34m\u001b[0m\u001b[0;34m\u001b[0m\u001b[0m\n",
      "\u001b[0;32m/opt/conda/lib/python3.6/site-packages/pandas/io/excel.py\u001b[0m in \u001b[0;36mread_excel\u001b[0;34m(io, sheet_name, header, names, index_col, usecols, squeeze, dtype, engine, converters, true_values, false_values, skiprows, nrows, na_values, parse_dates, date_parser, thousands, comment, skipfooter, convert_float, **kwds)\u001b[0m\n\u001b[1;32m    305\u001b[0m \u001b[0;34m\u001b[0m\u001b[0m\n\u001b[1;32m    306\u001b[0m     \u001b[0;32mif\u001b[0m \u001b[0;32mnot\u001b[0m \u001b[0misinstance\u001b[0m\u001b[0;34m(\u001b[0m\u001b[0mio\u001b[0m\u001b[0;34m,\u001b[0m \u001b[0mExcelFile\u001b[0m\u001b[0;34m)\u001b[0m\u001b[0;34m:\u001b[0m\u001b[0;34m\u001b[0m\u001b[0;34m\u001b[0m\u001b[0m\n\u001b[0;32m--> 307\u001b[0;31m         \u001b[0mio\u001b[0m \u001b[0;34m=\u001b[0m \u001b[0mExcelFile\u001b[0m\u001b[0;34m(\u001b[0m\u001b[0mio\u001b[0m\u001b[0;34m,\u001b[0m \u001b[0mengine\u001b[0m\u001b[0;34m=\u001b[0m\u001b[0mengine\u001b[0m\u001b[0;34m)\u001b[0m\u001b[0;34m\u001b[0m\u001b[0;34m\u001b[0m\u001b[0m\n\u001b[0m\u001b[1;32m    308\u001b[0m \u001b[0;34m\u001b[0m\u001b[0m\n\u001b[1;32m    309\u001b[0m     return io.parse(\n",
      "\u001b[0;32m/opt/conda/lib/python3.6/site-packages/pandas/io/excel.py\u001b[0m in \u001b[0;36m__init__\u001b[0;34m(self, io, **kwds)\u001b[0m\n\u001b[1;32m    392\u001b[0m             \u001b[0mself\u001b[0m\u001b[0;34m.\u001b[0m\u001b[0mbook\u001b[0m \u001b[0;34m=\u001b[0m \u001b[0mxlrd\u001b[0m\u001b[0;34m.\u001b[0m\u001b[0mopen_workbook\u001b[0m\u001b[0;34m(\u001b[0m\u001b[0mfile_contents\u001b[0m\u001b[0;34m=\u001b[0m\u001b[0mdata\u001b[0m\u001b[0;34m)\u001b[0m\u001b[0;34m\u001b[0m\u001b[0;34m\u001b[0m\u001b[0m\n\u001b[1;32m    393\u001b[0m         \u001b[0;32melif\u001b[0m \u001b[0misinstance\u001b[0m\u001b[0;34m(\u001b[0m\u001b[0mself\u001b[0m\u001b[0;34m.\u001b[0m\u001b[0m_io\u001b[0m\u001b[0;34m,\u001b[0m \u001b[0mcompat\u001b[0m\u001b[0;34m.\u001b[0m\u001b[0mstring_types\u001b[0m\u001b[0;34m)\u001b[0m\u001b[0;34m:\u001b[0m\u001b[0;34m\u001b[0m\u001b[0;34m\u001b[0m\u001b[0m\n\u001b[0;32m--> 394\u001b[0;31m             \u001b[0mself\u001b[0m\u001b[0;34m.\u001b[0m\u001b[0mbook\u001b[0m \u001b[0;34m=\u001b[0m \u001b[0mxlrd\u001b[0m\u001b[0;34m.\u001b[0m\u001b[0mopen_workbook\u001b[0m\u001b[0;34m(\u001b[0m\u001b[0mself\u001b[0m\u001b[0;34m.\u001b[0m\u001b[0m_io\u001b[0m\u001b[0;34m)\u001b[0m\u001b[0;34m\u001b[0m\u001b[0;34m\u001b[0m\u001b[0m\n\u001b[0m\u001b[1;32m    395\u001b[0m         \u001b[0;32melse\u001b[0m\u001b[0;34m:\u001b[0m\u001b[0;34m\u001b[0m\u001b[0;34m\u001b[0m\u001b[0m\n\u001b[1;32m    396\u001b[0m             raise ValueError('Must explicitly set engine if not passing in'\n",
      "\u001b[0;32m/opt/conda/lib/python3.6/site-packages/xlrd/__init__.py\u001b[0m in \u001b[0;36mopen_workbook\u001b[0;34m(filename, logfile, verbosity, use_mmap, file_contents, encoding_override, formatting_info, on_demand, ragged_rows)\u001b[0m\n\u001b[1;32m    136\u001b[0m                 \u001b[0mformatting_info\u001b[0m\u001b[0;34m=\u001b[0m\u001b[0mformatting_info\u001b[0m\u001b[0;34m,\u001b[0m\u001b[0;34m\u001b[0m\u001b[0;34m\u001b[0m\u001b[0m\n\u001b[1;32m    137\u001b[0m                 \u001b[0mon_demand\u001b[0m\u001b[0;34m=\u001b[0m\u001b[0mon_demand\u001b[0m\u001b[0;34m,\u001b[0m\u001b[0;34m\u001b[0m\u001b[0;34m\u001b[0m\u001b[0m\n\u001b[0;32m--> 138\u001b[0;31m                 \u001b[0mragged_rows\u001b[0m\u001b[0;34m=\u001b[0m\u001b[0mragged_rows\u001b[0m\u001b[0;34m,\u001b[0m\u001b[0;34m\u001b[0m\u001b[0;34m\u001b[0m\u001b[0m\n\u001b[0m\u001b[1;32m    139\u001b[0m             )\n\u001b[1;32m    140\u001b[0m             \u001b[0;32mreturn\u001b[0m \u001b[0mbk\u001b[0m\u001b[0;34m\u001b[0m\u001b[0;34m\u001b[0m\u001b[0m\n",
      "\u001b[0;32m/opt/conda/lib/python3.6/site-packages/xlrd/xlsx.py\u001b[0m in \u001b[0;36mopen_workbook_2007_xml\u001b[0;34m(zf, component_names, logfile, verbosity, use_mmap, formatting_info, on_demand, ragged_rows)\u001b[0m\n\u001b[1;32m    839\u001b[0m         \u001b[0mx12sheet\u001b[0m \u001b[0;34m=\u001b[0m \u001b[0mX12Sheet\u001b[0m\u001b[0;34m(\u001b[0m\u001b[0msheet\u001b[0m\u001b[0;34m,\u001b[0m \u001b[0mlogfile\u001b[0m\u001b[0;34m,\u001b[0m \u001b[0mverbosity\u001b[0m\u001b[0;34m)\u001b[0m\u001b[0;34m\u001b[0m\u001b[0;34m\u001b[0m\u001b[0m\n\u001b[1;32m    840\u001b[0m         \u001b[0mheading\u001b[0m \u001b[0;34m=\u001b[0m \u001b[0;34m\"Sheet %r (sheetx=%d) from %r\"\u001b[0m \u001b[0;34m%\u001b[0m \u001b[0;34m(\u001b[0m\u001b[0msheet\u001b[0m\u001b[0;34m.\u001b[0m\u001b[0mname\u001b[0m\u001b[0;34m,\u001b[0m \u001b[0msheetx\u001b[0m\u001b[0;34m,\u001b[0m \u001b[0mfname\u001b[0m\u001b[0;34m)\u001b[0m\u001b[0;34m\u001b[0m\u001b[0;34m\u001b[0m\u001b[0m\n\u001b[0;32m--> 841\u001b[0;31m         \u001b[0mx12sheet\u001b[0m\u001b[0;34m.\u001b[0m\u001b[0mprocess_stream\u001b[0m\u001b[0;34m(\u001b[0m\u001b[0mzflo\u001b[0m\u001b[0;34m,\u001b[0m \u001b[0mheading\u001b[0m\u001b[0;34m)\u001b[0m\u001b[0;34m\u001b[0m\u001b[0;34m\u001b[0m\u001b[0m\n\u001b[0m\u001b[1;32m    842\u001b[0m         \u001b[0;32mdel\u001b[0m \u001b[0mzflo\u001b[0m\u001b[0;34m\u001b[0m\u001b[0;34m\u001b[0m\u001b[0m\n\u001b[1;32m    843\u001b[0m \u001b[0;34m\u001b[0m\u001b[0m\n",
      "\u001b[0;32m/opt/conda/lib/python3.6/site-packages/xlrd/xlsx.py\u001b[0m in \u001b[0;36mown_process_stream\u001b[0;34m(self, stream, heading)\u001b[0m\n\u001b[1;32m    548\u001b[0m         \u001b[0;32mfor\u001b[0m \u001b[0mevent\u001b[0m\u001b[0;34m,\u001b[0m \u001b[0melem\u001b[0m \u001b[0;32min\u001b[0m \u001b[0mET\u001b[0m\u001b[0;34m.\u001b[0m\u001b[0miterparse\u001b[0m\u001b[0;34m(\u001b[0m\u001b[0mstream\u001b[0m\u001b[0;34m)\u001b[0m\u001b[0;34m:\u001b[0m\u001b[0;34m\u001b[0m\u001b[0;34m\u001b[0m\u001b[0m\n\u001b[1;32m    549\u001b[0m             \u001b[0;32mif\u001b[0m \u001b[0melem\u001b[0m\u001b[0;34m.\u001b[0m\u001b[0mtag\u001b[0m \u001b[0;34m==\u001b[0m \u001b[0mrow_tag\u001b[0m\u001b[0;34m:\u001b[0m\u001b[0;34m\u001b[0m\u001b[0;34m\u001b[0m\u001b[0m\n\u001b[0;32m--> 550\u001b[0;31m                 \u001b[0mself_do_row\u001b[0m\u001b[0;34m(\u001b[0m\u001b[0melem\u001b[0m\u001b[0;34m)\u001b[0m\u001b[0;34m\u001b[0m\u001b[0;34m\u001b[0m\u001b[0m\n\u001b[0m\u001b[1;32m    551\u001b[0m                 \u001b[0melem\u001b[0m\u001b[0;34m.\u001b[0m\u001b[0mclear\u001b[0m\u001b[0;34m(\u001b[0m\u001b[0;34m)\u001b[0m \u001b[0;31m# destroy all child elements (cells)\u001b[0m\u001b[0;34m\u001b[0m\u001b[0;34m\u001b[0m\u001b[0m\n\u001b[1;32m    552\u001b[0m             \u001b[0;32melif\u001b[0m \u001b[0melem\u001b[0m\u001b[0;34m.\u001b[0m\u001b[0mtag\u001b[0m \u001b[0;34m==\u001b[0m \u001b[0mU_SSML12\u001b[0m \u001b[0;34m+\u001b[0m \u001b[0;34m\"dimension\"\u001b[0m\u001b[0;34m:\u001b[0m\u001b[0;34m\u001b[0m\u001b[0;34m\u001b[0m\u001b[0m\n",
      "\u001b[0;32m/opt/conda/lib/python3.6/site-packages/xlrd/xlsx.py\u001b[0m in \u001b[0;36mdo_row\u001b[0;34m(self, row_elem)\u001b[0m\n\u001b[1;32m    759\u001b[0m                 \u001b[0;31m# without having to build a shared string table\u001b[0m\u001b[0;34m\u001b[0m\u001b[0;34m\u001b[0m\u001b[0;34m\u001b[0m\u001b[0m\n\u001b[1;32m    760\u001b[0m                 \u001b[0;32mfor\u001b[0m \u001b[0mchild\u001b[0m \u001b[0;32min\u001b[0m \u001b[0mcell_elem\u001b[0m\u001b[0;34m:\u001b[0m\u001b[0;34m\u001b[0m\u001b[0;34m\u001b[0m\u001b[0m\n\u001b[0;32m--> 761\u001b[0;31m                     \u001b[0mchild_tag\u001b[0m \u001b[0;34m=\u001b[0m \u001b[0mchild\u001b[0m\u001b[0;34m.\u001b[0m\u001b[0mtag\u001b[0m\u001b[0;34m\u001b[0m\u001b[0;34m\u001b[0m\u001b[0m\n\u001b[0m\u001b[1;32m    762\u001b[0m                     \u001b[0;32mif\u001b[0m \u001b[0mchild_tag\u001b[0m \u001b[0;34m==\u001b[0m \u001b[0mIS_TAG\u001b[0m\u001b[0;34m:\u001b[0m\u001b[0;34m\u001b[0m\u001b[0;34m\u001b[0m\u001b[0m\n\u001b[1;32m    763\u001b[0m                         \u001b[0mtvalue\u001b[0m \u001b[0;34m=\u001b[0m \u001b[0mget_text_from_si_or_is\u001b[0m\u001b[0;34m(\u001b[0m\u001b[0mself\u001b[0m\u001b[0;34m,\u001b[0m \u001b[0mchild\u001b[0m\u001b[0;34m)\u001b[0m\u001b[0;34m\u001b[0m\u001b[0;34m\u001b[0m\u001b[0m\n",
      "\u001b[0;31mKeyboardInterrupt\u001b[0m: "
     ]
    }
   ],
   "source": [
    "## GunViolenceData2013_2018.csv is the Kaggle data containing gun violence data from 2013 - 2018 saved into gun_df\n",
    "## FacilityLocations.xlsx is taken from the nmhss website with the location data for mental health services in the US saved into facilities_df\n",
    "## StatePopulationData2010-2018 is taken from the US Census and is saved into pop_df\n",
    "\n",
    "## NOTE: please download dataset #1 separately or use this google drive link \n",
    "## https://drive.google.com/a/ucsd.edu/file/d/1AYcLFQbKSOTXW7AH7GrRxQ6ouyFk633Q/view?usp=sharing\n",
    "## this file was too large to upload to github sadly\n",
    "\n",
    "gun_df = pd.read_csv('GunViolenceData2013_2018.csv')\n",
    "facilities_df = pd.read_excel('FacilityLocations.xlsx')\n",
    "pop_df = pd.read_excel('StatePopulationData2010-2018.xlsx')\n"
   ]
  },
  {
   "cell_type": "markdown",
   "metadata": {
    "colab_type": "text",
    "id": "jHCXu2SqiBjv"
   },
   "source": [
    "Before we start the data cleaning, let's write a helper function that will help convert state names into their two-letter abbreviations. This will come in handy later for our datasets. "
   ]
  },
  {
   "cell_type": "code",
   "execution_count": 0,
   "metadata": {
    "colab": {},
    "colab_type": "code",
    "id": "zKbW1UPNiBjx"
   },
   "outputs": [],
   "source": [
    "# convert state to abbreviation\n",
    "# state-abbreviation corresponding dictionary\n",
    "state_abbrev_dic = {\n",
    "    'Alabama': 'AL',\n",
    "    'Alaska': 'AK',\n",
    "    'Arizona': 'AZ',\n",
    "    'Arkansas': 'AR',\n",
    "    'California': 'CA',\n",
    "    'Colorado': 'CO',\n",
    "    'Connecticut': 'CT',\n",
    "    'Delaware': 'DE',\n",
    "    'District of Columbia': 'DC',\n",
    "    'Florida': 'FL',\n",
    "    'Georgia': 'GA',\n",
    "    'Hawaii': 'HI',\n",
    "    'Idaho': 'ID',\n",
    "    'Illinois': 'IL',\n",
    "    'Indiana': 'IN',\n",
    "    'Iowa': 'IA',\n",
    "    'Kansas': 'KS',\n",
    "    'Kentucky': 'KY',\n",
    "    'Louisiana': 'LA',\n",
    "    'Maine': 'ME',\n",
    "    'Maryland': 'MD',\n",
    "    'Massachusetts': 'MA',\n",
    "    'Michigan': 'MI',\n",
    "    'Minnesota': 'MN',\n",
    "    'Mississippi': 'MS',\n",
    "    'Missouri': 'MO',\n",
    "    'Montana': 'MT',\n",
    "    'Nebraska': 'NE',\n",
    "    'Nevada': 'NV',\n",
    "    'New Hampshire': 'NH',\n",
    "    'New Jersey': 'NJ',\n",
    "    'New Mexico': 'NM',\n",
    "    'New York': 'NY',\n",
    "    'North Carolina': 'NC',\n",
    "    'North Dakota': 'ND',\n",
    "    'Ohio': 'OH',\n",
    "    'Oklahoma': 'OK',\n",
    "    'Oregon': 'OR',\n",
    "    'Pennsylvania': 'PA',\n",
    "    'Rhode Island': 'RI',\n",
    "    'South Carolina': 'SC',\n",
    "    'South Dakota': 'SD',\n",
    "    'Tennessee': 'TN',\n",
    "    'Texas': 'TX',\n",
    "    'Utah': 'UT',\n",
    "    'Vermont': 'VT',\n",
    "    'Virginia': 'VA',\n",
    "    'Washington': 'WA',\n",
    "    'West Virginia': 'WV',\n",
    "    'Wisconsin': 'WI',\n",
    "    'Wyoming': 'WY',\n",
    "}\n",
    "\n",
    "# convert state data\n",
    "# change state into two-letter abbreviation\n",
    "def state_to_abbrev(state):\n",
    "    if state in state_abbrev_dic.keys():\n",
    "        return state_abbrev_dic[state]\n",
    "    else:\n",
    "        return np.nan\n",
    "    \n",
    "# convert string int with comma to int\n",
    "def string_to_int(s):\n",
    "    return int(s.replace(',',\"\"))"
   ]
  },
  {
   "cell_type": "markdown",
   "metadata": {
    "colab_type": "text",
    "id": "YO5qkl1niBj2"
   },
   "source": [
    "One of our data sources needs to be scraped. By scraping the data off the SAMHSA website,  we can grab the data on mental health occurences by state. SAMHSA gives us two types of data, one that is mental health data by population (given to us by thousands) and another that is mental health data by percentage of the population. Thus, by scraping the website and returning both types of data, we will create separate dataframes to be used for their respective analyses.\n",
    "\n",
    "Note: \"Serious mental illness\" is defined as \"adults with any mental disorder that resulted in serious functional impairment.\""
   ]
  },
  {
   "cell_type": "code",
   "execution_count": 0,
   "metadata": {
    "colab": {},
    "colab_type": "code",
    "id": "lBG9rvFiiBj3"
   },
   "outputs": [],
   "source": [
    "link = \"https://www.samhsa.gov/data/sites/default/files/NSDUHsaeSpecificStates2016A/NSDUHsaeSpecificStates2016.htm?fbclid=IwAR1G3975SvsvwH19LsdqrYp4PUkMg-LyciPQW0OKgFuR6YPJTXJDgsPXyDY\"\n",
    "page = requests.get(link)\n",
    "soup = BeautifulSoup(page.text)\n",
    "tables = soup.findAll(\"table\")"
   ]
  },
  {
   "cell_type": "code",
   "execution_count": 0,
   "metadata": {
    "colab": {},
    "colab_type": "code",
    "id": "kyNVZKdYiBj9"
   },
   "outputs": [],
   "source": [
    "# below is a function that goes through each state and finds the table data that corresponds with that state\n",
    "# this function will return two dataframes in a tuple, one with data by the thousands and the other using percentages\n",
    "def findStateTables(tables):\n",
    "    # i is our counter, if i is even then we are dealing with a population table, if i is odd then its percentages\n",
    "    i = 0 \n",
    "    stateMHPop_df = pd.DataFrame()\n",
    "    stateMHPercent_df = pd.DataFrame()\n",
    "    states = []\n",
    "    \n",
    "    # arrays for the population by numbers data\n",
    "    serious1217, serious18 = [], []\n",
    "    anymh1217, anymh18 = [], []\n",
    "    received1217, received18 = [], [] \n",
    "    suicide1217, suicide18 = [], []\n",
    "    depression1217, depression18 = [], []\n",
    "    \n",
    "    # arrays for the percentage data\n",
    "    serious1217p, serious18p = [], []\n",
    "    anymh1217p, anymh18p = [], []\n",
    "    received1217p, received18p = [], [] \n",
    "    suicide1217p, suicide18p = [], []\n",
    "    depression1217p, depression18p = [], []\n",
    "    \n",
    "    for t in tables:\n",
    "        # for scraping number (by thousands) data\n",
    "        if i % 2 == 0:\n",
    "            # we dont want duplicate states so only add states for even i counts\n",
    "            states.append(t.find('span').text)\n",
    "            rows = t.findAll('tr')\n",
    "            # the data we need for mental health appears for the 38th 'th' (i counted) so we want to scrape from there\n",
    "            \n",
    "            # serious mental health issues\n",
    "            serious = rows[33].findAll('td')\n",
    "            # any mental health issues \n",
    "            anymh = rows[34].findAll('td')\n",
    "            # received mental health services \n",
    "            received = rows[35].findAll('td')\n",
    "            # had serious thoughts of suicide\n",
    "            suicide = rows[36].findAll('td')\n",
    "            # major depressive episode\n",
    "            depression = rows[37].findAll('td')\n",
    "            \n",
    "            # the stats we care about are for ages 12-17 and 18+ and those will be indexes 1 and 4 \n",
    "            serious1217.append(serious[1].text)\n",
    "            serious18.append(serious[4].text)\n",
    "            anymh1217.append(anymh[1].text)\n",
    "            anymh18.append(anymh[4].text)\n",
    "            received1217.append(received[1].text)\n",
    "            received18.append(received[4].text)\n",
    "            suicide1217.append(suicide[1].text)\n",
    "            suicide18.append(suicide[4].text)\n",
    "            depression1217.append(depression[1].text)\n",
    "            depression18.append(depression[4].text)\n",
    "            \n",
    "            i = i + 1\n",
    "            \n",
    "        ## for scraping percentage data\n",
    "        else:\n",
    "            rows = t.findAll('tr')\n",
    "            # the data we need for mental health appears for the 38th 'th' (i counted) so we want to scrape from there\n",
    "            \n",
    "            # serious mental health issues\n",
    "            serious = rows[33].findAll('td')\n",
    "            # any mental health issues \n",
    "            anymh = rows[34].findAll('td')\n",
    "            # received mental health services \n",
    "            received = rows[35].findAll('td')\n",
    "            # had serious thoughts of suicide\n",
    "            suicide = rows[36].findAll('td')\n",
    "            # major depressive episode\n",
    "            depression = rows[37].findAll('td')\n",
    "            \n",
    "            # the stats we care about are for ages 12-17 and 18+ and those will be indexes 1 and 4 \n",
    "            serious1217p.append(serious[1].text)\n",
    "            serious18p.append(serious[4].text)\n",
    "            anymh1217p.append(anymh[1].text)\n",
    "            anymh18p.append(anymh[4].text)\n",
    "            received1217p.append(received[1].text)\n",
    "            received18p.append(received[4].text)\n",
    "            suicide1217p.append(suicide[1].text)\n",
    "            suicide18p.append(suicide[4].text)\n",
    "            depression1217p.append(depression[1].text)\n",
    "            depression18p.append(depression[4].text)\n",
    "            i = i + 1\n",
    "    \n",
    "    # setting up columns for the population dataframe\n",
    "    stateMHPop_df['state'] = states\n",
    "    stateMHPop_df['state code'] = stateMHPop_df['state'].apply(state_to_abbrev)\n",
    "    stateMHPop_df['serious 12-17'] = serious1217\n",
    "    stateMHPop_df['serious 18+'] = serious18\n",
    "    stateMHPop_df['any 12-17'] = anymh1217\n",
    "    stateMHPop_df['any 18+'] = anymh18\n",
    "    stateMHPop_df['received 12-17'] = received1217\n",
    "    stateMHPop_df['received 18+'] = received18\n",
    "    stateMHPop_df['suicide 12-17'] = suicide1217\n",
    "    stateMHPop_df['suicide 18+'] = suicide18\n",
    "    stateMHPop_df['depression 12-17'] = depression1217\n",
    "    stateMHPop_df['depression 18+'] = depression18\n",
    "    stateMHPop_df.set_index('state', inplace=True)\n",
    "    \n",
    "    # setting up columns for the percentage dataframe\n",
    "    stateMHPercent_df['state'] = states\n",
    "    stateMHPercent_df['state code'] = stateMHPercent_df['state'].apply(state_to_abbrev)\n",
    "    stateMHPercent_df['serious 12-17'] = serious1217p\n",
    "    stateMHPercent_df['%serious 18+'] = serious18p\n",
    "    stateMHPercent_df['any 12-17'] = anymh1217p\n",
    "    stateMHPercent_df['%any 18+'] = anymh18p\n",
    "    stateMHPercent_df['received 12-17'] = received1217p\n",
    "    stateMHPercent_df['%received 18+'] = received18p\n",
    "    stateMHPercent_df['suicide 12-17'] = suicide1217p\n",
    "    stateMHPercent_df['%suicide 18+'] = suicide18p\n",
    "    stateMHPercent_df['depression 12-17'] = depression1217p\n",
    "    stateMHPercent_df['%depression 18+'] = depression18p\n",
    "    stateMHPercent_df.set_index('state', inplace=True)\n",
    "    \n",
    "    return (stateMHPop_df, stateMHPercent_df)"
   ]
  },
  {
   "cell_type": "code",
   "execution_count": 0,
   "metadata": {
    "colab": {},
    "colab_type": "code",
    "id": "gKTaNuQniBkD"
   },
   "outputs": [],
   "source": [
    "# stateMHPop_df is the dataframe with information of mental health occurences in a state by the thousands\n",
    "# stateMHPercent_df is the dataframe with information of mental health occurences in a state by percent\n",
    "stateMHPop_df, stateMHPercent_df = findStateTables(tables)\n",
    "\n",
    "# for entries with no numbers reported they currently show up as -- so we want to go through both of these\n",
    "# dataframes and convert then to NaN\n",
    "stateMHPop_df = stateMHPop_df.replace('--', np.nan)\n",
    "stateMHPercent_df = stateMHPercent_df.replace('--', np.nan)\n",
    "\n",
    "# we also want to convert the columns from their string representations to ints\n",
    "# we did not include children/teen aged from 12-17 because most of the values are Nan\n",
    "stateMHPop_df['serious 18+'] = stateMHPop_df['serious 18+'].apply(string_to_int)\n",
    "stateMHPop_df['any 18+'] = stateMHPop_df['any 18+'].apply(string_to_int)\n",
    "stateMHPop_df['received 18+'] = stateMHPop_df['received 18+'].apply(string_to_int)\n",
    "stateMHPop_df['suicide 18+'] = stateMHPop_df['suicide 18+'].apply(string_to_int)\n",
    "stateMHPop_df['depression 18+'] = stateMHPop_df['depression 18+'].apply(string_to_int)\n",
    "\n"
   ]
  },
  {
   "cell_type": "markdown",
   "metadata": {
    "colab_type": "text",
    "id": "7rfAj8gliBkI"
   },
   "source": [
    "Now that we have mental health occurences by state (for the year 2016 at least) in their respective dataframes, we will clean the state population data. Therefore, we want the population data for just 2016 for the mental health occurences analyses. We will also consolidate all of the state names into just the state codes.  "
   ]
  },
  {
   "cell_type": "code",
   "execution_count": 0,
   "metadata": {
    "colab": {
     "base_uri": "https://localhost:8080/",
     "height": 204
    },
    "colab_type": "code",
    "id": "hfR3cGjtiBkI",
    "outputId": "9d0e1083-d9ba-4185-92bd-062ee39254ee"
   },
   "outputs": [
    {
     "data": {
      "text/html": [
       "<div>\n",
       "<style scoped>\n",
       "    .dataframe tbody tr th:only-of-type {\n",
       "        vertical-align: middle;\n",
       "    }\n",
       "\n",
       "    .dataframe tbody tr th {\n",
       "        vertical-align: top;\n",
       "    }\n",
       "\n",
       "    .dataframe thead th {\n",
       "        text-align: right;\n",
       "    }\n",
       "</style>\n",
       "<table border=\"1\" class=\"dataframe\">\n",
       "  <thead>\n",
       "    <tr style=\"text-align: right;\">\n",
       "      <th></th>\n",
       "      <th>state</th>\n",
       "      <th>population 2016</th>\n",
       "      <th>state code</th>\n",
       "    </tr>\n",
       "  </thead>\n",
       "  <tbody>\n",
       "    <tr>\n",
       "      <th>0</th>\n",
       "      <td>Alabama</td>\n",
       "      <td>4864745</td>\n",
       "      <td>AL</td>\n",
       "    </tr>\n",
       "    <tr>\n",
       "      <th>1</th>\n",
       "      <td>Alaska</td>\n",
       "      <td>741504</td>\n",
       "      <td>AK</td>\n",
       "    </tr>\n",
       "    <tr>\n",
       "      <th>2</th>\n",
       "      <td>Arizona</td>\n",
       "      <td>6945452</td>\n",
       "      <td>AZ</td>\n",
       "    </tr>\n",
       "    <tr>\n",
       "      <th>3</th>\n",
       "      <td>Arkansas</td>\n",
       "      <td>2990410</td>\n",
       "      <td>AR</td>\n",
       "    </tr>\n",
       "    <tr>\n",
       "      <th>4</th>\n",
       "      <td>California</td>\n",
       "      <td>39209127</td>\n",
       "      <td>CA</td>\n",
       "    </tr>\n",
       "  </tbody>\n",
       "</table>\n",
       "</div>"
      ],
      "text/plain": [
       "        state  population 2016 state code\n",
       "0     Alabama          4864745         AL\n",
       "1      Alaska           741504         AK\n",
       "2     Arizona          6945452         AZ\n",
       "3    Arkansas          2990410         AR\n",
       "4  California         39209127         CA"
      ]
     },
     "execution_count": 39,
     "metadata": {
      "tags": []
     },
     "output_type": "execute_result"
    }
   ],
   "source": [
    "# extract and clean 2016 state population\n",
    "pop_years_df = pop_df.iloc[8:59, [0, 9]]\n",
    "pop_years_df = pop_years_df.reset_index(drop=True)\n",
    "pop_years_df.columns = [\"state\", \"population 2016\"]\n",
    "\n",
    "# clean state\n",
    "pop_years_df[\"state\"] = pop_years_df[\"state\"].apply(lambda state: state[1:])\n",
    "pop_years_df[\"population 2016\"] = pop_years_df[\"population 2016\"].apply(int)\n",
    "\n",
    "pop_years_df[\"state code\"] = pop_years_df[\"state\"].apply(state_to_abbrev)\n",
    "\n",
    "# this dataframe will contain just the population of 2016\n",
    "pop_2016_df = pop_years_df\n",
    "\n",
    "pop_years_df.head()"
   ]
  },
  {
   "cell_type": "markdown",
   "metadata": {
    "colab_type": "text",
    "id": "K9fGlWyliBkQ"
   },
   "source": [
    "Next, we will clean the mental health facilities data. We only need the state the facility is located in, as well as, the latitude and longitude of each facility's location so those are the columns we will be keeping in our dataframe. We will also add in a state code column as well."
   ]
  },
  {
   "cell_type": "code",
   "execution_count": 0,
   "metadata": {
    "colab": {
     "base_uri": "https://localhost:8080/",
     "height": 204
    },
    "colab_type": "code",
    "id": "W52MyQCkiBkT",
    "outputId": "4a8b2bdd-8341-4015-de73-9c46451c9cad"
   },
   "outputs": [
    {
     "data": {
      "text/html": [
       "<div>\n",
       "<style scoped>\n",
       "    .dataframe tbody tr th:only-of-type {\n",
       "        vertical-align: middle;\n",
       "    }\n",
       "\n",
       "    .dataframe tbody tr th {\n",
       "        vertical-align: top;\n",
       "    }\n",
       "\n",
       "    .dataframe thead th {\n",
       "        text-align: right;\n",
       "    }\n",
       "</style>\n",
       "<table border=\"1\" class=\"dataframe\">\n",
       "  <thead>\n",
       "    <tr style=\"text-align: right;\">\n",
       "      <th></th>\n",
       "      <th>state code</th>\n",
       "      <th>MHFacilities</th>\n",
       "      <th>latitude</th>\n",
       "      <th>longitude</th>\n",
       "    </tr>\n",
       "  </thead>\n",
       "  <tbody>\n",
       "    <tr>\n",
       "      <th>0</th>\n",
       "      <td>OK</td>\n",
       "      <td>Jane Phillips Medical Center</td>\n",
       "      <td>36.752716</td>\n",
       "      <td>-95.938683</td>\n",
       "    </tr>\n",
       "    <tr>\n",
       "      <th>1</th>\n",
       "      <td>OK</td>\n",
       "      <td>Grand Lake Mental Health Center Inc</td>\n",
       "      <td>36.701457</td>\n",
       "      <td>-95.638160</td>\n",
       "    </tr>\n",
       "    <tr>\n",
       "      <th>2</th>\n",
       "      <td>OK</td>\n",
       "      <td>Grand Lake Mental Health Center Inc</td>\n",
       "      <td>36.746978</td>\n",
       "      <td>-95.990274</td>\n",
       "    </tr>\n",
       "    <tr>\n",
       "      <th>3</th>\n",
       "      <td>KS</td>\n",
       "      <td>Labette Center for</td>\n",
       "      <td>37.338636</td>\n",
       "      <td>-95.261333</td>\n",
       "    </tr>\n",
       "    <tr>\n",
       "      <th>4</th>\n",
       "      <td>KS</td>\n",
       "      <td>Fredonia Regional Hospital</td>\n",
       "      <td>37.533772</td>\n",
       "      <td>-95.814758</td>\n",
       "    </tr>\n",
       "  </tbody>\n",
       "</table>\n",
       "</div>"
      ],
      "text/plain": [
       "  state code                         MHFacilities   latitude  longitude\n",
       "0         OK         Jane Phillips Medical Center  36.752716 -95.938683\n",
       "1         OK  Grand Lake Mental Health Center Inc  36.701457 -95.638160\n",
       "2         OK  Grand Lake Mental Health Center Inc  36.746978 -95.990274\n",
       "3         KS                   Labette Center for  37.338636 -95.261333\n",
       "4         KS           Fredonia Regional Hospital  37.533772 -95.814758"
      ]
     },
     "execution_count": 40,
     "metadata": {
      "tags": []
     },
     "output_type": "execute_result"
    }
   ],
   "source": [
    "facilities_df = facilities_df[[\"state\", \"    name1\", \"latitude\", \"longitude\"]]\n",
    "facilities_df = facilities_df.rename(columns={\"state\": \"state code\", \"    name1\": \"MHFacilities\"})\n",
    "facilities_df.head()"
   ]
  },
  {
   "cell_type": "markdown",
   "metadata": {
    "colab_type": "text",
    "id": "o9RSyXD0iBkZ"
   },
   "source": [
    "We also want a separate dataframe for the number of mental health facilities in each state so we will use the data cleaned in facilities_df to create a seperate dataframe called facilities_count_df that contains each state and the number of facilities in that state."
   ]
  },
  {
   "cell_type": "code",
   "execution_count": 0,
   "metadata": {
    "colab": {
     "base_uri": "https://localhost:8080/",
     "height": 204
    },
    "colab_type": "code",
    "id": "4I-rf0zhiBkb",
    "outputId": "97eb9bab-62d4-4723-defd-e71936b182e0"
   },
   "outputs": [
    {
     "data": {
      "text/html": [
       "<div>\n",
       "<style scoped>\n",
       "    .dataframe tbody tr th:only-of-type {\n",
       "        vertical-align: middle;\n",
       "    }\n",
       "\n",
       "    .dataframe tbody tr th {\n",
       "        vertical-align: top;\n",
       "    }\n",
       "\n",
       "    .dataframe thead th {\n",
       "        text-align: right;\n",
       "    }\n",
       "</style>\n",
       "<table border=\"1\" class=\"dataframe\">\n",
       "  <thead>\n",
       "    <tr style=\"text-align: right;\">\n",
       "      <th></th>\n",
       "      <th>state code</th>\n",
       "      <th>MHFacilities</th>\n",
       "    </tr>\n",
       "  </thead>\n",
       "  <tbody>\n",
       "    <tr>\n",
       "      <th>0</th>\n",
       "      <td>AK</td>\n",
       "      <td>82</td>\n",
       "    </tr>\n",
       "    <tr>\n",
       "      <th>1</th>\n",
       "      <td>AL</td>\n",
       "      <td>133</td>\n",
       "    </tr>\n",
       "    <tr>\n",
       "      <th>2</th>\n",
       "      <td>AR</td>\n",
       "      <td>190</td>\n",
       "    </tr>\n",
       "    <tr>\n",
       "      <th>3</th>\n",
       "      <td>AZ</td>\n",
       "      <td>299</td>\n",
       "    </tr>\n",
       "    <tr>\n",
       "      <th>4</th>\n",
       "      <td>CA</td>\n",
       "      <td>634</td>\n",
       "    </tr>\n",
       "  </tbody>\n",
       "</table>\n",
       "</div>"
      ],
      "text/plain": [
       "  state code  MHFacilities\n",
       "0         AK            82\n",
       "1         AL           133\n",
       "2         AR           190\n",
       "3         AZ           299\n",
       "4         CA           634"
      ]
     },
     "execution_count": 41,
     "metadata": {
      "tags": []
     },
     "output_type": "execute_result"
    }
   ],
   "source": [
    "# group by state\n",
    "facilities_count_df = facilities_df.groupby(\"state code\").count()\n",
    "# drop AS (American Samoa), GU (Guam), VI (Virgin Islands) because not included in the population data\n",
    "facilities_count_df = facilities_count_df.drop([\"AS\", \"GU\", \"VI\"]).reset_index()\n",
    "facilities_count_df = facilities_count_df[[\"state code\", \"MHFacilities\"]]\n",
    "facilities_count_df.head()"
   ]
  },
  {
   "cell_type": "markdown",
   "metadata": {
    "colab_type": "text",
    "id": "g9LlAWeyiBkj"
   },
   "source": [
    "We will merge the facility count data and the population data into one dataframe. Also, we will calculate the mental health facilities per capita in each state, then place those values into a separate column. This new combined dataframe will be called mental_state_df."
   ]
  },
  {
   "cell_type": "code",
   "execution_count": 0,
   "metadata": {
    "colab": {
     "base_uri": "https://localhost:8080/",
     "height": 1630
    },
    "colab_type": "code",
    "id": "Xpm0yQ3eiBkj",
    "outputId": "b0d2a2f4-25c5-45e8-d2f0-6507a388a5d1"
   },
   "outputs": [
    {
     "data": {
      "text/html": [
       "<div>\n",
       "<style scoped>\n",
       "    .dataframe tbody tr th:only-of-type {\n",
       "        vertical-align: middle;\n",
       "    }\n",
       "\n",
       "    .dataframe tbody tr th {\n",
       "        vertical-align: top;\n",
       "    }\n",
       "\n",
       "    .dataframe thead th {\n",
       "        text-align: right;\n",
       "    }\n",
       "</style>\n",
       "<table border=\"1\" class=\"dataframe\">\n",
       "  <thead>\n",
       "    <tr style=\"text-align: right;\">\n",
       "      <th></th>\n",
       "      <th>state code</th>\n",
       "      <th>MHFacilities</th>\n",
       "      <th>state</th>\n",
       "      <th>population 2016</th>\n",
       "      <th>MH per capita</th>\n",
       "    </tr>\n",
       "  </thead>\n",
       "  <tbody>\n",
       "    <tr>\n",
       "      <th>0</th>\n",
       "      <td>AK</td>\n",
       "      <td>82</td>\n",
       "      <td>Alaska</td>\n",
       "      <td>741504</td>\n",
       "      <td>0.000111</td>\n",
       "    </tr>\n",
       "    <tr>\n",
       "      <th>1</th>\n",
       "      <td>AL</td>\n",
       "      <td>133</td>\n",
       "      <td>Alabama</td>\n",
       "      <td>4864745</td>\n",
       "      <td>0.000027</td>\n",
       "    </tr>\n",
       "    <tr>\n",
       "      <th>2</th>\n",
       "      <td>AR</td>\n",
       "      <td>190</td>\n",
       "      <td>Arkansas</td>\n",
       "      <td>2990410</td>\n",
       "      <td>0.000064</td>\n",
       "    </tr>\n",
       "    <tr>\n",
       "      <th>3</th>\n",
       "      <td>AZ</td>\n",
       "      <td>299</td>\n",
       "      <td>Arizona</td>\n",
       "      <td>6945452</td>\n",
       "      <td>0.000043</td>\n",
       "    </tr>\n",
       "    <tr>\n",
       "      <th>4</th>\n",
       "      <td>CA</td>\n",
       "      <td>634</td>\n",
       "      <td>California</td>\n",
       "      <td>39209127</td>\n",
       "      <td>0.000016</td>\n",
       "    </tr>\n",
       "    <tr>\n",
       "      <th>5</th>\n",
       "      <td>CO</td>\n",
       "      <td>150</td>\n",
       "      <td>Colorado</td>\n",
       "      <td>5540921</td>\n",
       "      <td>0.000027</td>\n",
       "    </tr>\n",
       "    <tr>\n",
       "      <th>6</th>\n",
       "      <td>CT</td>\n",
       "      <td>197</td>\n",
       "      <td>Connecticut</td>\n",
       "      <td>3578674</td>\n",
       "      <td>0.000055</td>\n",
       "    </tr>\n",
       "    <tr>\n",
       "      <th>7</th>\n",
       "      <td>DC</td>\n",
       "      <td>29</td>\n",
       "      <td>District of Columbia</td>\n",
       "      <td>686575</td>\n",
       "      <td>0.000042</td>\n",
       "    </tr>\n",
       "    <tr>\n",
       "      <th>8</th>\n",
       "      <td>DE</td>\n",
       "      <td>30</td>\n",
       "      <td>Delaware</td>\n",
       "      <td>949216</td>\n",
       "      <td>0.000032</td>\n",
       "    </tr>\n",
       "    <tr>\n",
       "      <th>9</th>\n",
       "      <td>FL</td>\n",
       "      <td>383</td>\n",
       "      <td>Florida</td>\n",
       "      <td>20629982</td>\n",
       "      <td>0.000019</td>\n",
       "    </tr>\n",
       "    <tr>\n",
       "      <th>10</th>\n",
       "      <td>GA</td>\n",
       "      <td>185</td>\n",
       "      <td>Georgia</td>\n",
       "      <td>10304763</td>\n",
       "      <td>0.000018</td>\n",
       "    </tr>\n",
       "    <tr>\n",
       "      <th>11</th>\n",
       "      <td>HI</td>\n",
       "      <td>29</td>\n",
       "      <td>Hawaii</td>\n",
       "      <td>1428105</td>\n",
       "      <td>0.000020</td>\n",
       "    </tr>\n",
       "    <tr>\n",
       "      <th>12</th>\n",
       "      <td>IA</td>\n",
       "      <td>123</td>\n",
       "      <td>Iowa</td>\n",
       "      <td>3131785</td>\n",
       "      <td>0.000039</td>\n",
       "    </tr>\n",
       "    <tr>\n",
       "      <th>13</th>\n",
       "      <td>ID</td>\n",
       "      <td>121</td>\n",
       "      <td>Idaho</td>\n",
       "      <td>1682930</td>\n",
       "      <td>0.000072</td>\n",
       "    </tr>\n",
       "    <tr>\n",
       "      <th>14</th>\n",
       "      <td>IL</td>\n",
       "      <td>313</td>\n",
       "      <td>Illinois</td>\n",
       "      <td>12826895</td>\n",
       "      <td>0.000024</td>\n",
       "    </tr>\n",
       "    <tr>\n",
       "      <th>15</th>\n",
       "      <td>IN</td>\n",
       "      <td>250</td>\n",
       "      <td>Indiana</td>\n",
       "      <td>6633344</td>\n",
       "      <td>0.000038</td>\n",
       "    </tr>\n",
       "    <tr>\n",
       "      <th>16</th>\n",
       "      <td>KS</td>\n",
       "      <td>103</td>\n",
       "      <td>Kansas</td>\n",
       "      <td>2911263</td>\n",
       "      <td>0.000035</td>\n",
       "    </tr>\n",
       "    <tr>\n",
       "      <th>17</th>\n",
       "      <td>KY</td>\n",
       "      <td>195</td>\n",
       "      <td>Kentucky</td>\n",
       "      <td>4438229</td>\n",
       "      <td>0.000044</td>\n",
       "    </tr>\n",
       "    <tr>\n",
       "      <th>18</th>\n",
       "      <td>LA</td>\n",
       "      <td>156</td>\n",
       "      <td>Louisiana</td>\n",
       "      <td>4678215</td>\n",
       "      <td>0.000033</td>\n",
       "    </tr>\n",
       "    <tr>\n",
       "      <th>19</th>\n",
       "      <td>MA</td>\n",
       "      <td>229</td>\n",
       "      <td>Massachusetts</td>\n",
       "      <td>6826022</td>\n",
       "      <td>0.000034</td>\n",
       "    </tr>\n",
       "    <tr>\n",
       "      <th>20</th>\n",
       "      <td>MD</td>\n",
       "      <td>204</td>\n",
       "      <td>Maryland</td>\n",
       "      <td>6004692</td>\n",
       "      <td>0.000034</td>\n",
       "    </tr>\n",
       "    <tr>\n",
       "      <th>21</th>\n",
       "      <td>ME</td>\n",
       "      <td>139</td>\n",
       "      <td>Maine</td>\n",
       "      <td>1331370</td>\n",
       "      <td>0.000104</td>\n",
       "    </tr>\n",
       "    <tr>\n",
       "      <th>22</th>\n",
       "      <td>MI</td>\n",
       "      <td>295</td>\n",
       "      <td>Michigan</td>\n",
       "      <td>9951890</td>\n",
       "      <td>0.000030</td>\n",
       "    </tr>\n",
       "    <tr>\n",
       "      <th>23</th>\n",
       "      <td>MN</td>\n",
       "      <td>204</td>\n",
       "      <td>Minnesota</td>\n",
       "      <td>5523409</td>\n",
       "      <td>0.000037</td>\n",
       "    </tr>\n",
       "    <tr>\n",
       "      <th>24</th>\n",
       "      <td>MO</td>\n",
       "      <td>187</td>\n",
       "      <td>Missouri</td>\n",
       "      <td>6087203</td>\n",
       "      <td>0.000031</td>\n",
       "    </tr>\n",
       "    <tr>\n",
       "      <th>25</th>\n",
       "      <td>MS</td>\n",
       "      <td>136</td>\n",
       "      <td>Mississippi</td>\n",
       "      <td>2988298</td>\n",
       "      <td>0.000046</td>\n",
       "    </tr>\n",
       "    <tr>\n",
       "      <th>26</th>\n",
       "      <td>MT</td>\n",
       "      <td>68</td>\n",
       "      <td>Montana</td>\n",
       "      <td>1040863</td>\n",
       "      <td>0.000065</td>\n",
       "    </tr>\n",
       "    <tr>\n",
       "      <th>27</th>\n",
       "      <td>NC</td>\n",
       "      <td>231</td>\n",
       "      <td>North Carolina</td>\n",
       "      <td>10156679</td>\n",
       "      <td>0.000023</td>\n",
       "    </tr>\n",
       "    <tr>\n",
       "      <th>28</th>\n",
       "      <td>ND</td>\n",
       "      <td>32</td>\n",
       "      <td>North Dakota</td>\n",
       "      <td>754353</td>\n",
       "      <td>0.000042</td>\n",
       "    </tr>\n",
       "    <tr>\n",
       "      <th>29</th>\n",
       "      <td>NE</td>\n",
       "      <td>127</td>\n",
       "      <td>Nebraska</td>\n",
       "      <td>1905924</td>\n",
       "      <td>0.000067</td>\n",
       "    </tr>\n",
       "    <tr>\n",
       "      <th>30</th>\n",
       "      <td>NH</td>\n",
       "      <td>47</td>\n",
       "      <td>New Hampshire</td>\n",
       "      <td>1342373</td>\n",
       "      <td>0.000035</td>\n",
       "    </tr>\n",
       "    <tr>\n",
       "      <th>31</th>\n",
       "      <td>NJ</td>\n",
       "      <td>245</td>\n",
       "      <td>New Jersey</td>\n",
       "      <td>8874516</td>\n",
       "      <td>0.000028</td>\n",
       "    </tr>\n",
       "    <tr>\n",
       "      <th>32</th>\n",
       "      <td>NM</td>\n",
       "      <td>54</td>\n",
       "      <td>New Mexico</td>\n",
       "      <td>2092789</td>\n",
       "      <td>0.000026</td>\n",
       "    </tr>\n",
       "    <tr>\n",
       "      <th>33</th>\n",
       "      <td>NV</td>\n",
       "      <td>44</td>\n",
       "      <td>Nevada</td>\n",
       "      <td>2919772</td>\n",
       "      <td>0.000015</td>\n",
       "    </tr>\n",
       "    <tr>\n",
       "      <th>34</th>\n",
       "      <td>NY</td>\n",
       "      <td>670</td>\n",
       "      <td>New York</td>\n",
       "      <td>19641589</td>\n",
       "      <td>0.000034</td>\n",
       "    </tr>\n",
       "    <tr>\n",
       "      <th>35</th>\n",
       "      <td>OH</td>\n",
       "      <td>502</td>\n",
       "      <td>Ohio</td>\n",
       "      <td>11635003</td>\n",
       "      <td>0.000043</td>\n",
       "    </tr>\n",
       "    <tr>\n",
       "      <th>36</th>\n",
       "      <td>OK</td>\n",
       "      <td>123</td>\n",
       "      <td>Oklahoma</td>\n",
       "      <td>3926769</td>\n",
       "      <td>0.000031</td>\n",
       "    </tr>\n",
       "    <tr>\n",
       "      <th>37</th>\n",
       "      <td>OR</td>\n",
       "      <td>108</td>\n",
       "      <td>Oregon</td>\n",
       "      <td>4091404</td>\n",
       "      <td>0.000026</td>\n",
       "    </tr>\n",
       "    <tr>\n",
       "      <th>38</th>\n",
       "      <td>PA</td>\n",
       "      <td>489</td>\n",
       "      <td>Pennsylvania</td>\n",
       "      <td>12783538</td>\n",
       "      <td>0.000038</td>\n",
       "    </tr>\n",
       "    <tr>\n",
       "      <th>39</th>\n",
       "      <td>RI</td>\n",
       "      <td>42</td>\n",
       "      <td>Rhode Island</td>\n",
       "      <td>1057063</td>\n",
       "      <td>0.000040</td>\n",
       "    </tr>\n",
       "    <tr>\n",
       "      <th>40</th>\n",
       "      <td>SC</td>\n",
       "      <td>84</td>\n",
       "      <td>South Carolina</td>\n",
       "      <td>4958235</td>\n",
       "      <td>0.000017</td>\n",
       "    </tr>\n",
       "    <tr>\n",
       "      <th>41</th>\n",
       "      <td>SD</td>\n",
       "      <td>44</td>\n",
       "      <td>South Dakota</td>\n",
       "      <td>862890</td>\n",
       "      <td>0.000051</td>\n",
       "    </tr>\n",
       "    <tr>\n",
       "      <th>42</th>\n",
       "      <td>TN</td>\n",
       "      <td>230</td>\n",
       "      <td>Tennessee</td>\n",
       "      <td>6645011</td>\n",
       "      <td>0.000035</td>\n",
       "    </tr>\n",
       "    <tr>\n",
       "      <th>43</th>\n",
       "      <td>TX</td>\n",
       "      <td>278</td>\n",
       "      <td>Texas</td>\n",
       "      <td>27937492</td>\n",
       "      <td>0.000010</td>\n",
       "    </tr>\n",
       "    <tr>\n",
       "      <th>44</th>\n",
       "      <td>UT</td>\n",
       "      <td>129</td>\n",
       "      <td>Utah</td>\n",
       "      <td>3042613</td>\n",
       "      <td>0.000042</td>\n",
       "    </tr>\n",
       "    <tr>\n",
       "      <th>45</th>\n",
       "      <td>VA</td>\n",
       "      <td>201</td>\n",
       "      <td>Virginia</td>\n",
       "      <td>8410946</td>\n",
       "      <td>0.000024</td>\n",
       "    </tr>\n",
       "    <tr>\n",
       "      <th>46</th>\n",
       "      <td>VT</td>\n",
       "      <td>52</td>\n",
       "      <td>Vermont</td>\n",
       "      <td>623644</td>\n",
       "      <td>0.000083</td>\n",
       "    </tr>\n",
       "    <tr>\n",
       "      <th>47</th>\n",
       "      <td>WA</td>\n",
       "      <td>303</td>\n",
       "      <td>Washington</td>\n",
       "      <td>7294680</td>\n",
       "      <td>0.000042</td>\n",
       "    </tr>\n",
       "    <tr>\n",
       "      <th>48</th>\n",
       "      <td>WI</td>\n",
       "      <td>356</td>\n",
       "      <td>Wisconsin</td>\n",
       "      <td>5772958</td>\n",
       "      <td>0.000062</td>\n",
       "    </tr>\n",
       "    <tr>\n",
       "      <th>49</th>\n",
       "      <td>WV</td>\n",
       "      <td>113</td>\n",
       "      <td>West Virginia</td>\n",
       "      <td>1830929</td>\n",
       "      <td>0.000062</td>\n",
       "    </tr>\n",
       "    <tr>\n",
       "      <th>50</th>\n",
       "      <td>WY</td>\n",
       "      <td>46</td>\n",
       "      <td>Wyoming</td>\n",
       "      <td>584290</td>\n",
       "      <td>0.000079</td>\n",
       "    </tr>\n",
       "  </tbody>\n",
       "</table>\n",
       "</div>"
      ],
      "text/plain": [
       "   state code  MHFacilities  ... population 2016  MH per capita\n",
       "0          AK            82  ...          741504       0.000111\n",
       "1          AL           133  ...         4864745       0.000027\n",
       "2          AR           190  ...         2990410       0.000064\n",
       "3          AZ           299  ...         6945452       0.000043\n",
       "4          CA           634  ...        39209127       0.000016\n",
       "5          CO           150  ...         5540921       0.000027\n",
       "6          CT           197  ...         3578674       0.000055\n",
       "7          DC            29  ...          686575       0.000042\n",
       "8          DE            30  ...          949216       0.000032\n",
       "9          FL           383  ...        20629982       0.000019\n",
       "10         GA           185  ...        10304763       0.000018\n",
       "11         HI            29  ...         1428105       0.000020\n",
       "12         IA           123  ...         3131785       0.000039\n",
       "13         ID           121  ...         1682930       0.000072\n",
       "14         IL           313  ...        12826895       0.000024\n",
       "15         IN           250  ...         6633344       0.000038\n",
       "16         KS           103  ...         2911263       0.000035\n",
       "17         KY           195  ...         4438229       0.000044\n",
       "18         LA           156  ...         4678215       0.000033\n",
       "19         MA           229  ...         6826022       0.000034\n",
       "20         MD           204  ...         6004692       0.000034\n",
       "21         ME           139  ...         1331370       0.000104\n",
       "22         MI           295  ...         9951890       0.000030\n",
       "23         MN           204  ...         5523409       0.000037\n",
       "24         MO           187  ...         6087203       0.000031\n",
       "25         MS           136  ...         2988298       0.000046\n",
       "26         MT            68  ...         1040863       0.000065\n",
       "27         NC           231  ...        10156679       0.000023\n",
       "28         ND            32  ...          754353       0.000042\n",
       "29         NE           127  ...         1905924       0.000067\n",
       "30         NH            47  ...         1342373       0.000035\n",
       "31         NJ           245  ...         8874516       0.000028\n",
       "32         NM            54  ...         2092789       0.000026\n",
       "33         NV            44  ...         2919772       0.000015\n",
       "34         NY           670  ...        19641589       0.000034\n",
       "35         OH           502  ...        11635003       0.000043\n",
       "36         OK           123  ...         3926769       0.000031\n",
       "37         OR           108  ...         4091404       0.000026\n",
       "38         PA           489  ...        12783538       0.000038\n",
       "39         RI            42  ...         1057063       0.000040\n",
       "40         SC            84  ...         4958235       0.000017\n",
       "41         SD            44  ...          862890       0.000051\n",
       "42         TN           230  ...         6645011       0.000035\n",
       "43         TX           278  ...        27937492       0.000010\n",
       "44         UT           129  ...         3042613       0.000042\n",
       "45         VA           201  ...         8410946       0.000024\n",
       "46         VT            52  ...          623644       0.000083\n",
       "47         WA           303  ...         7294680       0.000042\n",
       "48         WI           356  ...         5772958       0.000062\n",
       "49         WV           113  ...         1830929       0.000062\n",
       "50         WY            46  ...          584290       0.000079\n",
       "\n",
       "[51 rows x 5 columns]"
      ]
     },
     "execution_count": 42,
     "metadata": {
      "tags": []
     },
     "output_type": "execute_result"
    }
   ],
   "source": [
    "# merge population and mental health data set\n",
    "mental_state_df = pd.merge(facilities_count_df, pop_years_df, on=\"state code\")\n",
    "mental_state_df[\"MH per capita\"] = mental_state_df[\"MHFacilities\"] / mental_state_df[\"population 2016\"]\n",
    "mental_state_df"
   ]
  },
  {
   "cell_type": "markdown",
   "metadata": {
    "colab_type": "text",
    "id": "1y2aSKLLiBkq"
   },
   "source": [
    "Now, most of the data concerning mental health and states have been cleaned. \n",
    "\n",
    "Let's move onto the gun violence data. For this dataframe, we are given an abundance of data on each incident but the columns that we will focus on include date, state, number killed (n_killed), number injured (n_injured), number of guns involved (n_guns_involved), latitude, and longitude. Therfore, these will be the columns that we will keep. Additionally, we are only curious about the data concerning adults (18+) that were involved in a gun violence incident. We will clean the data to include this in columns and add a state codes column into the gun_df dataframe."
   ]
  },
  {
   "cell_type": "code",
   "execution_count": 0,
   "metadata": {
    "colab": {},
    "colab_type": "code",
    "id": "xmlRz0CjiBkr"
   },
   "outputs": [],
   "source": [
    "# add new abbreviation for state column\n",
    "gun_df[\"state code\"] = gun_df[\"state\"].apply(state_to_abbrev)\n",
    "\n",
    "## putting together our dataframe with the cleaned data\n",
    "gun_df = gun_df[[\"date\", \"state\", \"state code\", \"n_killed\", \"n_injured\", \"latitude\", \"longitude\"]]"
   ]
  },
  {
   "cell_type": "markdown",
   "metadata": {
    "colab_type": "text",
    "id": "ZEC6snJNiBkx"
   },
   "source": [
    "Because our mental health occurences data is from 2016, we also want to perform an analyses of gun violence incidents that occurred in 2016.  Additionally, we are curious about whether the distance between gun violence and mental health facilities are related so we will also calculate the minimum distance betwen each gun violence incident and the closest mental health facility within a state."
   ]
  },
  {
   "cell_type": "code",
   "execution_count": 17,
   "metadata": {
    "colab": {},
    "colab_type": "code",
    "id": "0U033HoTiBky"
   },
   "outputs": [],
   "source": [
    "# Below: the average distance of (average distance of MH to violence location) within state for 2016\n",
    "# 2016 gun violence incidence\n",
    "gun_2016_df = gun_df[gun_df[\"date\"].str.contains(\"2016\", regex=False)].reset_index(drop=True)\n",
    "\n",
    "# drop columns that does not have logitude/latitude value\n",
    "facilities_df = facilities_df.dropna(subset=[\"latitude\", \"longitude\"])\n",
    "gun_2016_df = gun_2016_df.dropna(subset=[\"latitude\", \"longitude\"])\n",
    "\n",
    "# calculate distance between two location\n",
    "def location_to_miles(mh_lat, mh_lon, gun_lat, gun_lon):\n",
    "    earth_R = 3961 # Radius of earth in miles\n",
    "    d_lat = gun_lat * math.pi / 180 - mh_lat * math.pi / 180 # distance for latitude \n",
    "    d_lon = gun_lon * math.pi / 180 - mh_lon * math.pi / 180 # distance for longtitude\n",
    "    # convert\n",
    "    a = math.pow(math.sin(d_lat/2), 2) + math.cos(mh_lat * math.pi / 180) * math.cos(gun_lat * math.pi / 180) * math.pow(math.sin(d_lon/2), 2)\n",
    "    d = 2 * math.atan2(math.sqrt(a), math.sqrt(1-a))\n",
    "    return earth_R * d\n",
    "\n",
    "# calculate the minimum distance of all mental health facilities within gun violence incident per state\n",
    "def min_d_within_state(gun_incident):\n",
    "    distance_list = []\n",
    "    gun_lat, gun_lon = gun_incident[\"latitude\"], gun_incident[\"longitude\"] # get latitude and longitude of incident\n",
    "    mh_in_state = facilities_df[facilities_df[\"state code\"] == gun_incident[\"state code\"]] # get mental health facilities of interest\n",
    "    for index, row in mh_in_state.iterrows():\n",
    "        mh_lat, mh_lon = row[\"latitude\"], row[\"longitude\"] # get latitude and longitude of mental health\n",
    "        distance_list.append(location_to_miles(mh_lat, mh_lon, gun_lat, gun_lon))\n",
    "    return min(distance_list)\n",
    "\n",
    "# calculate  the minimum distance of MH to gun violence location within each state, the next two lines took\n",
    "# a long time to calculate so we exported it into a csv for faster computation!\n",
    "\n",
    "# gun_2016_df[\"distance\"] = gun_2016_df.apply(min_d_within_state, axis=1) # apply function to create distance\n",
    "# gun_2016_df.to_csv(\"GunWithMinDistance_2016.csv\", index=False) # read it to a csv file for faster access\n",
    "\n",
    "gun_2016_df = pd.read_csv('GunWithMinDistance_2016.csv')"
   ]
  },
  {
   "cell_type": "code",
   "execution_count": 0,
   "metadata": {
    "colab": {
     "base_uri": "https://localhost:8080/",
     "height": 1599
    },
    "colab_type": "code",
    "id": "FQFwTC1ViBk5",
    "outputId": "9a7b7b23-282d-488b-8f72-0c8eb5e46f1a"
   },
   "outputs": [
    {
     "data": {
      "text/html": [
       "<div>\n",
       "<style scoped>\n",
       "    .dataframe tbody tr th:only-of-type {\n",
       "        vertical-align: middle;\n",
       "    }\n",
       "\n",
       "    .dataframe tbody tr th {\n",
       "        vertical-align: top;\n",
       "    }\n",
       "\n",
       "    .dataframe thead th {\n",
       "        text-align: right;\n",
       "    }\n",
       "</style>\n",
       "<table border=\"1\" class=\"dataframe\">\n",
       "  <thead>\n",
       "    <tr style=\"text-align: right;\">\n",
       "      <th></th>\n",
       "      <th>index</th>\n",
       "      <th>state code</th>\n",
       "      <th>n_incidents</th>\n",
       "      <th>n_killed</th>\n",
       "      <th>n_injured</th>\n",
       "      <th>distance</th>\n",
       "    </tr>\n",
       "  </thead>\n",
       "  <tbody>\n",
       "    <tr>\n",
       "      <th>0</th>\n",
       "      <td>0</td>\n",
       "      <td>AK</td>\n",
       "      <td>418</td>\n",
       "      <td>77</td>\n",
       "      <td>95</td>\n",
       "      <td>12.720841</td>\n",
       "    </tr>\n",
       "    <tr>\n",
       "      <th>1</th>\n",
       "      <td>1</td>\n",
       "      <td>AL</td>\n",
       "      <td>1247</td>\n",
       "      <td>442</td>\n",
       "      <td>730</td>\n",
       "      <td>5.102425</td>\n",
       "    </tr>\n",
       "    <tr>\n",
       "      <th>2</th>\n",
       "      <td>2</td>\n",
       "      <td>AR</td>\n",
       "      <td>664</td>\n",
       "      <td>159</td>\n",
       "      <td>316</td>\n",
       "      <td>3.157390</td>\n",
       "    </tr>\n",
       "    <tr>\n",
       "      <th>3</th>\n",
       "      <td>3</td>\n",
       "      <td>AZ</td>\n",
       "      <td>524</td>\n",
       "      <td>261</td>\n",
       "      <td>270</td>\n",
       "      <td>2.399487</td>\n",
       "    </tr>\n",
       "    <tr>\n",
       "      <th>4</th>\n",
       "      <td>4</td>\n",
       "      <td>CA</td>\n",
       "      <td>3523</td>\n",
       "      <td>1197</td>\n",
       "      <td>1854</td>\n",
       "      <td>2.763329</td>\n",
       "    </tr>\n",
       "    <tr>\n",
       "      <th>5</th>\n",
       "      <td>5</td>\n",
       "      <td>CO</td>\n",
       "      <td>742</td>\n",
       "      <td>169</td>\n",
       "      <td>268</td>\n",
       "      <td>2.849355</td>\n",
       "    </tr>\n",
       "    <tr>\n",
       "      <th>6</th>\n",
       "      <td>6</td>\n",
       "      <td>CT</td>\n",
       "      <td>772</td>\n",
       "      <td>59</td>\n",
       "      <td>341</td>\n",
       "      <td>1.076874</td>\n",
       "    </tr>\n",
       "    <tr>\n",
       "      <th>7</th>\n",
       "      <td>8</td>\n",
       "      <td>DE</td>\n",
       "      <td>316</td>\n",
       "      <td>39</td>\n",
       "      <td>182</td>\n",
       "      <td>1.512354</td>\n",
       "    </tr>\n",
       "    <tr>\n",
       "      <th>8</th>\n",
       "      <td>9</td>\n",
       "      <td>FL</td>\n",
       "      <td>3983</td>\n",
       "      <td>893</td>\n",
       "      <td>1716</td>\n",
       "      <td>3.606324</td>\n",
       "    </tr>\n",
       "    <tr>\n",
       "      <th>9</th>\n",
       "      <td>10</td>\n",
       "      <td>GA</td>\n",
       "      <td>1585</td>\n",
       "      <td>471</td>\n",
       "      <td>801</td>\n",
       "      <td>4.250845</td>\n",
       "    </tr>\n",
       "    <tr>\n",
       "      <th>10</th>\n",
       "      <td>11</td>\n",
       "      <td>HI</td>\n",
       "      <td>76</td>\n",
       "      <td>30</td>\n",
       "      <td>17</td>\n",
       "      <td>4.733558</td>\n",
       "    </tr>\n",
       "    <tr>\n",
       "      <th>11</th>\n",
       "      <td>12</td>\n",
       "      <td>IA</td>\n",
       "      <td>621</td>\n",
       "      <td>54</td>\n",
       "      <td>183</td>\n",
       "      <td>3.005170</td>\n",
       "    </tr>\n",
       "    <tr>\n",
       "      <th>12</th>\n",
       "      <td>13</td>\n",
       "      <td>ID</td>\n",
       "      <td>140</td>\n",
       "      <td>30</td>\n",
       "      <td>35</td>\n",
       "      <td>3.771590</td>\n",
       "    </tr>\n",
       "    <tr>\n",
       "      <th>13</th>\n",
       "      <td>14</td>\n",
       "      <td>IL</td>\n",
       "      <td>4725</td>\n",
       "      <td>755</td>\n",
       "      <td>3966</td>\n",
       "      <td>1.381556</td>\n",
       "    </tr>\n",
       "    <tr>\n",
       "      <th>14</th>\n",
       "      <td>15</td>\n",
       "      <td>IN</td>\n",
       "      <td>1356</td>\n",
       "      <td>340</td>\n",
       "      <td>687</td>\n",
       "      <td>2.242748</td>\n",
       "    </tr>\n",
       "    <tr>\n",
       "      <th>15</th>\n",
       "      <td>16</td>\n",
       "      <td>KS</td>\n",
       "      <td>529</td>\n",
       "      <td>103</td>\n",
       "      <td>236</td>\n",
       "      <td>2.984782</td>\n",
       "    </tr>\n",
       "    <tr>\n",
       "      <th>16</th>\n",
       "      <td>17</td>\n",
       "      <td>KY</td>\n",
       "      <td>900</td>\n",
       "      <td>252</td>\n",
       "      <td>430</td>\n",
       "      <td>2.662688</td>\n",
       "    </tr>\n",
       "    <tr>\n",
       "      <th>17</th>\n",
       "      <td>18</td>\n",
       "      <td>LA</td>\n",
       "      <td>1865</td>\n",
       "      <td>431</td>\n",
       "      <td>998</td>\n",
       "      <td>2.691681</td>\n",
       "    </tr>\n",
       "    <tr>\n",
       "      <th>18</th>\n",
       "      <td>19</td>\n",
       "      <td>MA</td>\n",
       "      <td>1438</td>\n",
       "      <td>85</td>\n",
       "      <td>425</td>\n",
       "      <td>1.189467</td>\n",
       "    </tr>\n",
       "    <tr>\n",
       "      <th>19</th>\n",
       "      <td>20</td>\n",
       "      <td>MD</td>\n",
       "      <td>1236</td>\n",
       "      <td>385</td>\n",
       "      <td>722</td>\n",
       "      <td>1.028769</td>\n",
       "    </tr>\n",
       "    <tr>\n",
       "      <th>20</th>\n",
       "      <td>21</td>\n",
       "      <td>ME</td>\n",
       "      <td>231</td>\n",
       "      <td>18</td>\n",
       "      <td>37</td>\n",
       "      <td>5.097356</td>\n",
       "    </tr>\n",
       "    <tr>\n",
       "      <th>21</th>\n",
       "      <td>22</td>\n",
       "      <td>MI</td>\n",
       "      <td>1185</td>\n",
       "      <td>328</td>\n",
       "      <td>629</td>\n",
       "      <td>2.418565</td>\n",
       "    </tr>\n",
       "    <tr>\n",
       "      <th>22</th>\n",
       "      <td>23</td>\n",
       "      <td>MN</td>\n",
       "      <td>414</td>\n",
       "      <td>79</td>\n",
       "      <td>196</td>\n",
       "      <td>4.487808</td>\n",
       "    </tr>\n",
       "    <tr>\n",
       "      <th>23</th>\n",
       "      <td>24</td>\n",
       "      <td>MO</td>\n",
       "      <td>1462</td>\n",
       "      <td>470</td>\n",
       "      <td>791</td>\n",
       "      <td>2.760953</td>\n",
       "    </tr>\n",
       "    <tr>\n",
       "      <th>24</th>\n",
       "      <td>25</td>\n",
       "      <td>MS</td>\n",
       "      <td>813</td>\n",
       "      <td>267</td>\n",
       "      <td>472</td>\n",
       "      <td>3.924985</td>\n",
       "    </tr>\n",
       "    <tr>\n",
       "      <th>25</th>\n",
       "      <td>26</td>\n",
       "      <td>MT</td>\n",
       "      <td>154</td>\n",
       "      <td>38</td>\n",
       "      <td>21</td>\n",
       "      <td>6.794517</td>\n",
       "    </tr>\n",
       "    <tr>\n",
       "      <th>26</th>\n",
       "      <td>27</td>\n",
       "      <td>NC</td>\n",
       "      <td>1931</td>\n",
       "      <td>490</td>\n",
       "      <td>1114</td>\n",
       "      <td>3.885921</td>\n",
       "    </tr>\n",
       "    <tr>\n",
       "      <th>27</th>\n",
       "      <td>28</td>\n",
       "      <td>ND</td>\n",
       "      <td>137</td>\n",
       "      <td>14</td>\n",
       "      <td>30</td>\n",
       "      <td>14.137990</td>\n",
       "    </tr>\n",
       "    <tr>\n",
       "      <th>28</th>\n",
       "      <td>29</td>\n",
       "      <td>NE</td>\n",
       "      <td>361</td>\n",
       "      <td>51</td>\n",
       "      <td>153</td>\n",
       "      <td>1.884907</td>\n",
       "    </tr>\n",
       "    <tr>\n",
       "      <th>29</th>\n",
       "      <td>30</td>\n",
       "      <td>NH</td>\n",
       "      <td>252</td>\n",
       "      <td>17</td>\n",
       "      <td>36</td>\n",
       "      <td>3.072934</td>\n",
       "    </tr>\n",
       "    <tr>\n",
       "      <th>30</th>\n",
       "      <td>31</td>\n",
       "      <td>NJ</td>\n",
       "      <td>1151</td>\n",
       "      <td>262</td>\n",
       "      <td>619</td>\n",
       "      <td>1.296190</td>\n",
       "    </tr>\n",
       "    <tr>\n",
       "      <th>31</th>\n",
       "      <td>32</td>\n",
       "      <td>NM</td>\n",
       "      <td>373</td>\n",
       "      <td>110</td>\n",
       "      <td>122</td>\n",
       "      <td>4.581570</td>\n",
       "    </tr>\n",
       "    <tr>\n",
       "      <th>32</th>\n",
       "      <td>33</td>\n",
       "      <td>NV</td>\n",
       "      <td>488</td>\n",
       "      <td>173</td>\n",
       "      <td>264</td>\n",
       "      <td>2.690622</td>\n",
       "    </tr>\n",
       "    <tr>\n",
       "      <th>33</th>\n",
       "      <td>34</td>\n",
       "      <td>NY</td>\n",
       "      <td>2418</td>\n",
       "      <td>383</td>\n",
       "      <td>1208</td>\n",
       "      <td>1.602063</td>\n",
       "    </tr>\n",
       "    <tr>\n",
       "      <th>34</th>\n",
       "      <td>35</td>\n",
       "      <td>OH</td>\n",
       "      <td>2224</td>\n",
       "      <td>513</td>\n",
       "      <td>1320</td>\n",
       "      <td>1.632064</td>\n",
       "    </tr>\n",
       "    <tr>\n",
       "      <th>35</th>\n",
       "      <td>36</td>\n",
       "      <td>OK</td>\n",
       "      <td>827</td>\n",
       "      <td>198</td>\n",
       "      <td>383</td>\n",
       "      <td>3.787499</td>\n",
       "    </tr>\n",
       "    <tr>\n",
       "      <th>36</th>\n",
       "      <td>37</td>\n",
       "      <td>OR</td>\n",
       "      <td>517</td>\n",
       "      <td>76</td>\n",
       "      <td>156</td>\n",
       "      <td>3.772921</td>\n",
       "    </tr>\n",
       "    <tr>\n",
       "      <th>37</th>\n",
       "      <td>38</td>\n",
       "      <td>PA</td>\n",
       "      <td>2000</td>\n",
       "      <td>478</td>\n",
       "      <td>1115</td>\n",
       "      <td>1.691517</td>\n",
       "    </tr>\n",
       "    <tr>\n",
       "      <th>38</th>\n",
       "      <td>39</td>\n",
       "      <td>RI</td>\n",
       "      <td>222</td>\n",
       "      <td>9</td>\n",
       "      <td>78</td>\n",
       "      <td>1.153872</td>\n",
       "    </tr>\n",
       "    <tr>\n",
       "      <th>39</th>\n",
       "      <td>40</td>\n",
       "      <td>SC</td>\n",
       "      <td>1400</td>\n",
       "      <td>328</td>\n",
       "      <td>681</td>\n",
       "      <td>5.729312</td>\n",
       "    </tr>\n",
       "    <tr>\n",
       "      <th>40</th>\n",
       "      <td>41</td>\n",
       "      <td>SD</td>\n",
       "      <td>130</td>\n",
       "      <td>18</td>\n",
       "      <td>28</td>\n",
       "      <td>9.488099</td>\n",
       "    </tr>\n",
       "    <tr>\n",
       "      <th>41</th>\n",
       "      <td>42</td>\n",
       "      <td>TN</td>\n",
       "      <td>1819</td>\n",
       "      <td>384</td>\n",
       "      <td>1043</td>\n",
       "      <td>2.645806</td>\n",
       "    </tr>\n",
       "    <tr>\n",
       "      <th>42</th>\n",
       "      <td>43</td>\n",
       "      <td>TX</td>\n",
       "      <td>3250</td>\n",
       "      <td>1100</td>\n",
       "      <td>1401</td>\n",
       "      <td>6.100191</td>\n",
       "    </tr>\n",
       "    <tr>\n",
       "      <th>43</th>\n",
       "      <td>44</td>\n",
       "      <td>UT</td>\n",
       "      <td>222</td>\n",
       "      <td>56</td>\n",
       "      <td>69</td>\n",
       "      <td>2.592018</td>\n",
       "    </tr>\n",
       "    <tr>\n",
       "      <th>44</th>\n",
       "      <td>45</td>\n",
       "      <td>VA</td>\n",
       "      <td>1362</td>\n",
       "      <td>311</td>\n",
       "      <td>892</td>\n",
       "      <td>2.612481</td>\n",
       "    </tr>\n",
       "    <tr>\n",
       "      <th>45</th>\n",
       "      <td>46</td>\n",
       "      <td>VT</td>\n",
       "      <td>85</td>\n",
       "      <td>9</td>\n",
       "      <td>8</td>\n",
       "      <td>4.781668</td>\n",
       "    </tr>\n",
       "    <tr>\n",
       "      <th>46</th>\n",
       "      <td>47</td>\n",
       "      <td>WA</td>\n",
       "      <td>701</td>\n",
       "      <td>146</td>\n",
       "      <td>274</td>\n",
       "      <td>2.451734</td>\n",
       "    </tr>\n",
       "    <tr>\n",
       "      <th>47</th>\n",
       "      <td>48</td>\n",
       "      <td>WI</td>\n",
       "      <td>807</td>\n",
       "      <td>194</td>\n",
       "      <td>423</td>\n",
       "      <td>1.544004</td>\n",
       "    </tr>\n",
       "    <tr>\n",
       "      <th>48</th>\n",
       "      <td>49</td>\n",
       "      <td>WV</td>\n",
       "      <td>348</td>\n",
       "      <td>82</td>\n",
       "      <td>148</td>\n",
       "      <td>3.517225</td>\n",
       "    </tr>\n",
       "    <tr>\n",
       "      <th>49</th>\n",
       "      <td>50</td>\n",
       "      <td>WY</td>\n",
       "      <td>124</td>\n",
       "      <td>17</td>\n",
       "      <td>12</td>\n",
       "      <td>5.323317</td>\n",
       "    </tr>\n",
       "  </tbody>\n",
       "</table>\n",
       "</div>"
      ],
      "text/plain": [
       "    index state code  n_incidents  n_killed  n_injured   distance\n",
       "0       0         AK          418        77         95  12.720841\n",
       "1       1         AL         1247       442        730   5.102425\n",
       "2       2         AR          664       159        316   3.157390\n",
       "3       3         AZ          524       261        270   2.399487\n",
       "4       4         CA         3523      1197       1854   2.763329\n",
       "5       5         CO          742       169        268   2.849355\n",
       "6       6         CT          772        59        341   1.076874\n",
       "7       8         DE          316        39        182   1.512354\n",
       "8       9         FL         3983       893       1716   3.606324\n",
       "9      10         GA         1585       471        801   4.250845\n",
       "10     11         HI           76        30         17   4.733558\n",
       "11     12         IA          621        54        183   3.005170\n",
       "12     13         ID          140        30         35   3.771590\n",
       "13     14         IL         4725       755       3966   1.381556\n",
       "14     15         IN         1356       340        687   2.242748\n",
       "15     16         KS          529       103        236   2.984782\n",
       "16     17         KY          900       252        430   2.662688\n",
       "17     18         LA         1865       431        998   2.691681\n",
       "18     19         MA         1438        85        425   1.189467\n",
       "19     20         MD         1236       385        722   1.028769\n",
       "20     21         ME          231        18         37   5.097356\n",
       "21     22         MI         1185       328        629   2.418565\n",
       "22     23         MN          414        79        196   4.487808\n",
       "23     24         MO         1462       470        791   2.760953\n",
       "24     25         MS          813       267        472   3.924985\n",
       "25     26         MT          154        38         21   6.794517\n",
       "26     27         NC         1931       490       1114   3.885921\n",
       "27     28         ND          137        14         30  14.137990\n",
       "28     29         NE          361        51        153   1.884907\n",
       "29     30         NH          252        17         36   3.072934\n",
       "30     31         NJ         1151       262        619   1.296190\n",
       "31     32         NM          373       110        122   4.581570\n",
       "32     33         NV          488       173        264   2.690622\n",
       "33     34         NY         2418       383       1208   1.602063\n",
       "34     35         OH         2224       513       1320   1.632064\n",
       "35     36         OK          827       198        383   3.787499\n",
       "36     37         OR          517        76        156   3.772921\n",
       "37     38         PA         2000       478       1115   1.691517\n",
       "38     39         RI          222         9         78   1.153872\n",
       "39     40         SC         1400       328        681   5.729312\n",
       "40     41         SD          130        18         28   9.488099\n",
       "41     42         TN         1819       384       1043   2.645806\n",
       "42     43         TX         3250      1100       1401   6.100191\n",
       "43     44         UT          222        56         69   2.592018\n",
       "44     45         VA         1362       311        892   2.612481\n",
       "45     46         VT           85         9          8   4.781668\n",
       "46     47         WA          701       146        274   2.451734\n",
       "47     48         WI          807       194        423   1.544004\n",
       "48     49         WV          348        82        148   3.517225\n",
       "49     50         WY          124        17         12   5.323317"
      ]
     },
     "execution_count": 45,
     "metadata": {
      "tags": []
     },
     "output_type": "execute_result"
    }
   ],
   "source": [
    "gun_state_2016_df = gun_2016_df.groupby(\"state code\").sum().reset_index() # group gun incidents by state in 2016\n",
    "gun_state_2016_df[\"n_incidents\"] = gun_2016_df.groupby(\"state code\").count().reset_index()[\"date\"] # count number of incidents\n",
    "# calculate the minimum distance\n",
    "gun_state_2016_df[\"distance\"] = gun_2016_df.groupby(\"state code\").mean().reset_index()[\"min distance (mi) of MH per state\"]\n",
    "gun_state_2016_df = gun_state_2016_df[[\"state code\", \"n_incidents\", \"n_killed\", \"n_injured\", \"distance\"]] # select column\n",
    "gun_state_2016_df = gun_state_2016_df[gun_state_2016_df[\"state code\"] != \"DC\"].reset_index()\n",
    "gun_state_2016_df"
   ]
  },
  {
   "cell_type": "markdown",
   "metadata": {
    "colab_type": "text",
    "id": "v8wqSetIiBk9"
   },
   "source": [
    "Most of our analysis will be state-based, so we went through the gun data and calculated the number of gun violence incidents per state, along with the number of people killed and the number of people injured for each state as well."
   ]
  },
  {
   "cell_type": "code",
   "execution_count": 0,
   "metadata": {
    "colab": {
     "base_uri": "https://localhost:8080/",
     "height": 204
    },
    "colab_type": "code",
    "id": "IZtmwb2hiBk-",
    "outputId": "00c72582-8d5b-4bda-8b00-7af132d899e2"
   },
   "outputs": [
    {
     "data": {
      "text/html": [
       "<div>\n",
       "<style scoped>\n",
       "    .dataframe tbody tr th:only-of-type {\n",
       "        vertical-align: middle;\n",
       "    }\n",
       "\n",
       "    .dataframe tbody tr th {\n",
       "        vertical-align: top;\n",
       "    }\n",
       "\n",
       "    .dataframe thead th {\n",
       "        text-align: right;\n",
       "    }\n",
       "</style>\n",
       "<table border=\"1\" class=\"dataframe\">\n",
       "  <thead>\n",
       "    <tr style=\"text-align: right;\">\n",
       "      <th></th>\n",
       "      <th>state code</th>\n",
       "      <th>n_incidents</th>\n",
       "      <th>n_killed</th>\n",
       "      <th>n_injured</th>\n",
       "    </tr>\n",
       "  </thead>\n",
       "  <tbody>\n",
       "    <tr>\n",
       "      <th>0</th>\n",
       "      <td>AK</td>\n",
       "      <td>1349</td>\n",
       "      <td>267</td>\n",
       "      <td>325</td>\n",
       "    </tr>\n",
       "    <tr>\n",
       "      <th>1</th>\n",
       "      <td>AL</td>\n",
       "      <td>5471</td>\n",
       "      <td>1880</td>\n",
       "      <td>2998</td>\n",
       "    </tr>\n",
       "    <tr>\n",
       "      <th>2</th>\n",
       "      <td>AR</td>\n",
       "      <td>2842</td>\n",
       "      <td>773</td>\n",
       "      <td>1347</td>\n",
       "    </tr>\n",
       "    <tr>\n",
       "      <th>3</th>\n",
       "      <td>AZ</td>\n",
       "      <td>2328</td>\n",
       "      <td>1094</td>\n",
       "      <td>1096</td>\n",
       "    </tr>\n",
       "    <tr>\n",
       "      <th>4</th>\n",
       "      <td>CA</td>\n",
       "      <td>16306</td>\n",
       "      <td>5562</td>\n",
       "      <td>7644</td>\n",
       "    </tr>\n",
       "  </tbody>\n",
       "</table>\n",
       "</div>"
      ],
      "text/plain": [
       "  state code  n_incidents  n_killed  n_injured\n",
       "0         AK         1349       267        325\n",
       "1         AL         5471      1880       2998\n",
       "2         AR         2842       773       1347\n",
       "3         AZ         2328      1094       1096\n",
       "4         CA        16306      5562       7644"
      ]
     },
     "execution_count": 46,
     "metadata": {
      "tags": []
     },
     "output_type": "execute_result"
    }
   ],
   "source": [
    "gun_state_df = gun_df.groupby(\"state code\").sum().reset_index() \n",
    "gun_state_df[\"n_incidents\"] = gun_df.groupby(\"state code\").count().reset_index()[\"date\"] # count number of incidents\n",
    "gun_state_df = gun_state_df[[\"state code\", \"n_incidents\", \"n_killed\", \"n_injured\"]] # select column\n",
    "gun_state_df.head()"
   ]
  },
  {
   "cell_type": "markdown",
   "metadata": {
    "colab_type": "text",
    "id": "RFDW3MAlwbtA"
   },
   "source": [
    "Since we are curious about the relationship between these incidents and the number of mental health facilities, we will merge the gun_state_df with the mental_state_df that we created earlier.\n",
    "\n",
    "We will also drop adolescents (children under 17 years old) from the dataframe as we are only interested in adult data. "
   ]
  },
  {
   "cell_type": "code",
   "execution_count": 0,
   "metadata": {
    "colab": {
     "base_uri": "https://localhost:8080/",
     "height": 221
    },
    "colab_type": "code",
    "id": "ydt9DRLgj_Tu",
    "outputId": "b280629b-f336-48c5-ad05-90a2c80a2421"
   },
   "outputs": [
    {
     "data": {
      "text/html": [
       "<div>\n",
       "<style scoped>\n",
       "    .dataframe tbody tr th:only-of-type {\n",
       "        vertical-align: middle;\n",
       "    }\n",
       "\n",
       "    .dataframe tbody tr th {\n",
       "        vertical-align: top;\n",
       "    }\n",
       "\n",
       "    .dataframe thead th {\n",
       "        text-align: right;\n",
       "    }\n",
       "</style>\n",
       "<table border=\"1\" class=\"dataframe\">\n",
       "  <thead>\n",
       "    <tr style=\"text-align: right;\">\n",
       "      <th></th>\n",
       "      <th>state code</th>\n",
       "      <th>%serious 18+</th>\n",
       "      <th>%any 18+</th>\n",
       "      <th>%received 18+</th>\n",
       "      <th>MHFacilities</th>\n",
       "      <th>population 2016</th>\n",
       "      <th>MH per capita</th>\n",
       "      <th>n_incidents</th>\n",
       "      <th>n_killed</th>\n",
       "      <th>n_injured</th>\n",
       "      <th>n_incident_capita_2016</th>\n",
       "    </tr>\n",
       "  </thead>\n",
       "  <tbody>\n",
       "    <tr>\n",
       "      <th>0</th>\n",
       "      <td>AL</td>\n",
       "      <td>4.23</td>\n",
       "      <td>18.47</td>\n",
       "      <td>12.98</td>\n",
       "      <td>133</td>\n",
       "      <td>4864745</td>\n",
       "      <td>0.000027</td>\n",
       "      <td>5471</td>\n",
       "      <td>1880</td>\n",
       "      <td>2998</td>\n",
       "      <td>0.001125</td>\n",
       "    </tr>\n",
       "    <tr>\n",
       "      <th>1</th>\n",
       "      <td>AK</td>\n",
       "      <td>4.53</td>\n",
       "      <td>20.01</td>\n",
       "      <td>13.54</td>\n",
       "      <td>82</td>\n",
       "      <td>741504</td>\n",
       "      <td>0.000111</td>\n",
       "      <td>1349</td>\n",
       "      <td>267</td>\n",
       "      <td>325</td>\n",
       "      <td>0.001819</td>\n",
       "    </tr>\n",
       "    <tr>\n",
       "      <th>2</th>\n",
       "      <td>AZ</td>\n",
       "      <td>4.04</td>\n",
       "      <td>17.52</td>\n",
       "      <td>11.87</td>\n",
       "      <td>299</td>\n",
       "      <td>6945452</td>\n",
       "      <td>0.000043</td>\n",
       "      <td>2328</td>\n",
       "      <td>1094</td>\n",
       "      <td>1096</td>\n",
       "      <td>0.000335</td>\n",
       "    </tr>\n",
       "    <tr>\n",
       "      <th>3</th>\n",
       "      <td>AR</td>\n",
       "      <td>5.45</td>\n",
       "      <td>21.02</td>\n",
       "      <td>15.54</td>\n",
       "      <td>190</td>\n",
       "      <td>2990410</td>\n",
       "      <td>0.000064</td>\n",
       "      <td>2842</td>\n",
       "      <td>773</td>\n",
       "      <td>1347</td>\n",
       "      <td>0.000950</td>\n",
       "    </tr>\n",
       "    <tr>\n",
       "      <th>4</th>\n",
       "      <td>CA</td>\n",
       "      <td>3.61</td>\n",
       "      <td>17.15</td>\n",
       "      <td>11.59</td>\n",
       "      <td>634</td>\n",
       "      <td>39209127</td>\n",
       "      <td>0.000016</td>\n",
       "      <td>16306</td>\n",
       "      <td>5562</td>\n",
       "      <td>7644</td>\n",
       "      <td>0.000416</td>\n",
       "    </tr>\n",
       "  </tbody>\n",
       "</table>\n",
       "</div>"
      ],
      "text/plain": [
       "  state code  %serious 18+  ...  n_injured  n_incident_capita_2016\n",
       "0         AL          4.23  ...       2998                0.001125\n",
       "1         AK          4.53  ...        325                0.001819\n",
       "2         AZ          4.04  ...       1096                0.000335\n",
       "3         AR          5.45  ...       1347                0.000950\n",
       "4         CA          3.61  ...       7644                0.000416\n",
       "\n",
       "[5 rows x 11 columns]"
      ]
     },
     "execution_count": 60,
     "metadata": {
      "tags": []
     },
     "output_type": "execute_result"
    }
   ],
   "source": [
    "\n",
    "\n",
    "# a dataframe that has aggregated data for mental health facilities/ gun violence incidents for 2013-2018\n",
    "aggregate_df = pd.merge(mental_state_df, gun_state_df, on=\"state code\")\n",
    "\n",
    "# calculate number of mental health facilities per capita\n",
    "aggregate_df[\"n_incident_capita_2016\"] = aggregate_df[\"n_incidents\"] / aggregate_df[\"population 2016\"]\n",
    "\n",
    "aggregate_df = pd.merge(stateMHPercent_df, aggregate_df, on=\"state code\")\n",
    "\n",
    "# drop any adolescents from mental health data\n",
    "aggregate_df = aggregate_df.drop(['serious 12-17', 'any 12-17', 'received 12-17', 'suicide 12-17', 'depression 12-17'], axis=1)\n",
    "\n",
    "# drop redundant columns from dataframe\n",
    "# suicide and depression is a subset of mental health illness\n",
    "aggregate_df = aggregate_df.drop(['state', '%suicide 18+', '%depression 18+'], axis=1)\n",
    "\n",
    "\n",
    "aggregate_df = aggregate_df.drop(aggregate_df.index[7]) # dropping Washington DC\n",
    "aggregate_df.index = range(len(aggregate_df)) #reindex\n",
    "aggregate_df = aggregate_df.apply(pd.to_numeric, errors='ignore')\n",
    "aggregate_df.head()"
   ]
  },
  {
   "cell_type": "code",
   "execution_count": 0,
   "metadata": {
    "colab": {
     "base_uri": "https://localhost:8080/",
     "height": 1636
    },
    "colab_type": "code",
    "id": "SOWM-GqbiBlC",
    "outputId": "132d8875-2bf6-42af-b126-e21bfacfebb9"
   },
   "outputs": [
    {
     "data": {
      "text/html": [
       "<div>\n",
       "<style scoped>\n",
       "    .dataframe tbody tr th:only-of-type {\n",
       "        vertical-align: middle;\n",
       "    }\n",
       "\n",
       "    .dataframe tbody tr th {\n",
       "        vertical-align: top;\n",
       "    }\n",
       "\n",
       "    .dataframe thead th {\n",
       "        text-align: right;\n",
       "    }\n",
       "</style>\n",
       "<table border=\"1\" class=\"dataframe\">\n",
       "  <thead>\n",
       "    <tr style=\"text-align: right;\">\n",
       "      <th></th>\n",
       "      <th>state code</th>\n",
       "      <th>%serious 18+</th>\n",
       "      <th>%any 18+</th>\n",
       "      <th>%received 18+</th>\n",
       "      <th>population 2016</th>\n",
       "      <th>MH per capita</th>\n",
       "      <th>index</th>\n",
       "      <th>n_incidents</th>\n",
       "      <th>n_killed</th>\n",
       "      <th>n_injured</th>\n",
       "      <th>n_incident_capita_2016</th>\n",
       "      <th>n_killed_capita_2016</th>\n",
       "    </tr>\n",
       "  </thead>\n",
       "  <tbody>\n",
       "    <tr>\n",
       "      <th>0</th>\n",
       "      <td>AL</td>\n",
       "      <td>4.23</td>\n",
       "      <td>18.47</td>\n",
       "      <td>12.98</td>\n",
       "      <td>4864745</td>\n",
       "      <td>0.000027</td>\n",
       "      <td>1</td>\n",
       "      <td>1247</td>\n",
       "      <td>442</td>\n",
       "      <td>730</td>\n",
       "      <td>0.000256</td>\n",
       "      <td>0.000091</td>\n",
       "    </tr>\n",
       "    <tr>\n",
       "      <th>1</th>\n",
       "      <td>AK</td>\n",
       "      <td>4.53</td>\n",
       "      <td>20.01</td>\n",
       "      <td>13.54</td>\n",
       "      <td>741504</td>\n",
       "      <td>0.000111</td>\n",
       "      <td>0</td>\n",
       "      <td>418</td>\n",
       "      <td>77</td>\n",
       "      <td>95</td>\n",
       "      <td>0.000564</td>\n",
       "      <td>0.000104</td>\n",
       "    </tr>\n",
       "    <tr>\n",
       "      <th>2</th>\n",
       "      <td>AZ</td>\n",
       "      <td>4.04</td>\n",
       "      <td>17.52</td>\n",
       "      <td>11.87</td>\n",
       "      <td>6945452</td>\n",
       "      <td>0.000043</td>\n",
       "      <td>3</td>\n",
       "      <td>524</td>\n",
       "      <td>261</td>\n",
       "      <td>270</td>\n",
       "      <td>0.000075</td>\n",
       "      <td>0.000038</td>\n",
       "    </tr>\n",
       "    <tr>\n",
       "      <th>3</th>\n",
       "      <td>AR</td>\n",
       "      <td>5.45</td>\n",
       "      <td>21.02</td>\n",
       "      <td>15.54</td>\n",
       "      <td>2990410</td>\n",
       "      <td>0.000064</td>\n",
       "      <td>2</td>\n",
       "      <td>664</td>\n",
       "      <td>159</td>\n",
       "      <td>316</td>\n",
       "      <td>0.000222</td>\n",
       "      <td>0.000053</td>\n",
       "    </tr>\n",
       "    <tr>\n",
       "      <th>4</th>\n",
       "      <td>CA</td>\n",
       "      <td>3.61</td>\n",
       "      <td>17.15</td>\n",
       "      <td>11.59</td>\n",
       "      <td>39209127</td>\n",
       "      <td>0.000016</td>\n",
       "      <td>4</td>\n",
       "      <td>3523</td>\n",
       "      <td>1197</td>\n",
       "      <td>1854</td>\n",
       "      <td>0.000090</td>\n",
       "      <td>0.000031</td>\n",
       "    </tr>\n",
       "    <tr>\n",
       "      <th>5</th>\n",
       "      <td>CO</td>\n",
       "      <td>4.61</td>\n",
       "      <td>20.05</td>\n",
       "      <td>15.86</td>\n",
       "      <td>5540921</td>\n",
       "      <td>0.000027</td>\n",
       "      <td>5</td>\n",
       "      <td>742</td>\n",
       "      <td>169</td>\n",
       "      <td>268</td>\n",
       "      <td>0.000134</td>\n",
       "      <td>0.000031</td>\n",
       "    </tr>\n",
       "    <tr>\n",
       "      <th>6</th>\n",
       "      <td>CT</td>\n",
       "      <td>3.59</td>\n",
       "      <td>18.00</td>\n",
       "      <td>17.05</td>\n",
       "      <td>3578674</td>\n",
       "      <td>0.000055</td>\n",
       "      <td>6</td>\n",
       "      <td>772</td>\n",
       "      <td>59</td>\n",
       "      <td>341</td>\n",
       "      <td>0.000216</td>\n",
       "      <td>0.000016</td>\n",
       "    </tr>\n",
       "    <tr>\n",
       "      <th>7</th>\n",
       "      <td>DE</td>\n",
       "      <td>4.23</td>\n",
       "      <td>17.71</td>\n",
       "      <td>15.06</td>\n",
       "      <td>949216</td>\n",
       "      <td>0.000032</td>\n",
       "      <td>8</td>\n",
       "      <td>316</td>\n",
       "      <td>39</td>\n",
       "      <td>182</td>\n",
       "      <td>0.000333</td>\n",
       "      <td>0.000041</td>\n",
       "    </tr>\n",
       "    <tr>\n",
       "      <th>8</th>\n",
       "      <td>FL</td>\n",
       "      <td>3.56</td>\n",
       "      <td>17.30</td>\n",
       "      <td>12.75</td>\n",
       "      <td>20629982</td>\n",
       "      <td>0.000019</td>\n",
       "      <td>9</td>\n",
       "      <td>3983</td>\n",
       "      <td>893</td>\n",
       "      <td>1716</td>\n",
       "      <td>0.000193</td>\n",
       "      <td>0.000043</td>\n",
       "    </tr>\n",
       "    <tr>\n",
       "      <th>9</th>\n",
       "      <td>GA</td>\n",
       "      <td>4.17</td>\n",
       "      <td>17.74</td>\n",
       "      <td>12.03</td>\n",
       "      <td>10304763</td>\n",
       "      <td>0.000018</td>\n",
       "      <td>10</td>\n",
       "      <td>1585</td>\n",
       "      <td>471</td>\n",
       "      <td>801</td>\n",
       "      <td>0.000154</td>\n",
       "      <td>0.000046</td>\n",
       "    </tr>\n",
       "    <tr>\n",
       "      <th>10</th>\n",
       "      <td>HI</td>\n",
       "      <td>3.18</td>\n",
       "      <td>15.55</td>\n",
       "      <td>9.03</td>\n",
       "      <td>1428105</td>\n",
       "      <td>0.000020</td>\n",
       "      <td>11</td>\n",
       "      <td>76</td>\n",
       "      <td>30</td>\n",
       "      <td>17</td>\n",
       "      <td>0.000053</td>\n",
       "      <td>0.000021</td>\n",
       "    </tr>\n",
       "    <tr>\n",
       "      <th>11</th>\n",
       "      <td>ID</td>\n",
       "      <td>4.98</td>\n",
       "      <td>21.62</td>\n",
       "      <td>16.64</td>\n",
       "      <td>1682930</td>\n",
       "      <td>0.000072</td>\n",
       "      <td>13</td>\n",
       "      <td>140</td>\n",
       "      <td>30</td>\n",
       "      <td>35</td>\n",
       "      <td>0.000083</td>\n",
       "      <td>0.000018</td>\n",
       "    </tr>\n",
       "    <tr>\n",
       "      <th>12</th>\n",
       "      <td>IL</td>\n",
       "      <td>3.74</td>\n",
       "      <td>15.73</td>\n",
       "      <td>13.64</td>\n",
       "      <td>12826895</td>\n",
       "      <td>0.000024</td>\n",
       "      <td>14</td>\n",
       "      <td>4725</td>\n",
       "      <td>755</td>\n",
       "      <td>3966</td>\n",
       "      <td>0.000368</td>\n",
       "      <td>0.000059</td>\n",
       "    </tr>\n",
       "    <tr>\n",
       "      <th>13</th>\n",
       "      <td>IN</td>\n",
       "      <td>4.93</td>\n",
       "      <td>19.95</td>\n",
       "      <td>15.36</td>\n",
       "      <td>6633344</td>\n",
       "      <td>0.000038</td>\n",
       "      <td>15</td>\n",
       "      <td>1356</td>\n",
       "      <td>340</td>\n",
       "      <td>687</td>\n",
       "      <td>0.000204</td>\n",
       "      <td>0.000051</td>\n",
       "    </tr>\n",
       "    <tr>\n",
       "      <th>14</th>\n",
       "      <td>IA</td>\n",
       "      <td>3.93</td>\n",
       "      <td>17.72</td>\n",
       "      <td>16.75</td>\n",
       "      <td>3131785</td>\n",
       "      <td>0.000039</td>\n",
       "      <td>12</td>\n",
       "      <td>621</td>\n",
       "      <td>54</td>\n",
       "      <td>183</td>\n",
       "      <td>0.000198</td>\n",
       "      <td>0.000017</td>\n",
       "    </tr>\n",
       "    <tr>\n",
       "      <th>15</th>\n",
       "      <td>KS</td>\n",
       "      <td>4.37</td>\n",
       "      <td>18.17</td>\n",
       "      <td>14.20</td>\n",
       "      <td>2911263</td>\n",
       "      <td>0.000035</td>\n",
       "      <td>16</td>\n",
       "      <td>529</td>\n",
       "      <td>103</td>\n",
       "      <td>236</td>\n",
       "      <td>0.000182</td>\n",
       "      <td>0.000035</td>\n",
       "    </tr>\n",
       "    <tr>\n",
       "      <th>16</th>\n",
       "      <td>KY</td>\n",
       "      <td>5.25</td>\n",
       "      <td>22.08</td>\n",
       "      <td>17.94</td>\n",
       "      <td>4438229</td>\n",
       "      <td>0.000044</td>\n",
       "      <td>17</td>\n",
       "      <td>900</td>\n",
       "      <td>252</td>\n",
       "      <td>430</td>\n",
       "      <td>0.000203</td>\n",
       "      <td>0.000057</td>\n",
       "    </tr>\n",
       "    <tr>\n",
       "      <th>17</th>\n",
       "      <td>LA</td>\n",
       "      <td>4.53</td>\n",
       "      <td>17.31</td>\n",
       "      <td>13.35</td>\n",
       "      <td>4678215</td>\n",
       "      <td>0.000033</td>\n",
       "      <td>18</td>\n",
       "      <td>1865</td>\n",
       "      <td>431</td>\n",
       "      <td>998</td>\n",
       "      <td>0.000399</td>\n",
       "      <td>0.000092</td>\n",
       "    </tr>\n",
       "    <tr>\n",
       "      <th>18</th>\n",
       "      <td>ME</td>\n",
       "      <td>4.35</td>\n",
       "      <td>17.62</td>\n",
       "      <td>19.37</td>\n",
       "      <td>1331370</td>\n",
       "      <td>0.000104</td>\n",
       "      <td>21</td>\n",
       "      <td>231</td>\n",
       "      <td>18</td>\n",
       "      <td>37</td>\n",
       "      <td>0.000174</td>\n",
       "      <td>0.000014</td>\n",
       "    </tr>\n",
       "    <tr>\n",
       "      <th>19</th>\n",
       "      <td>MD</td>\n",
       "      <td>3.41</td>\n",
       "      <td>16.59</td>\n",
       "      <td>13.66</td>\n",
       "      <td>6004692</td>\n",
       "      <td>0.000034</td>\n",
       "      <td>20</td>\n",
       "      <td>1236</td>\n",
       "      <td>385</td>\n",
       "      <td>722</td>\n",
       "      <td>0.000206</td>\n",
       "      <td>0.000064</td>\n",
       "    </tr>\n",
       "    <tr>\n",
       "      <th>20</th>\n",
       "      <td>MA</td>\n",
       "      <td>4.32</td>\n",
       "      <td>19.34</td>\n",
       "      <td>18.86</td>\n",
       "      <td>6826022</td>\n",
       "      <td>0.000034</td>\n",
       "      <td>19</td>\n",
       "      <td>1438</td>\n",
       "      <td>85</td>\n",
       "      <td>425</td>\n",
       "      <td>0.000211</td>\n",
       "      <td>0.000012</td>\n",
       "    </tr>\n",
       "    <tr>\n",
       "      <th>21</th>\n",
       "      <td>MI</td>\n",
       "      <td>4.44</td>\n",
       "      <td>17.33</td>\n",
       "      <td>16.12</td>\n",
       "      <td>9951890</td>\n",
       "      <td>0.000030</td>\n",
       "      <td>22</td>\n",
       "      <td>1185</td>\n",
       "      <td>328</td>\n",
       "      <td>629</td>\n",
       "      <td>0.000119</td>\n",
       "      <td>0.000033</td>\n",
       "    </tr>\n",
       "    <tr>\n",
       "      <th>22</th>\n",
       "      <td>MN</td>\n",
       "      <td>4.25</td>\n",
       "      <td>18.24</td>\n",
       "      <td>19.08</td>\n",
       "      <td>5523409</td>\n",
       "      <td>0.000037</td>\n",
       "      <td>23</td>\n",
       "      <td>414</td>\n",
       "      <td>79</td>\n",
       "      <td>196</td>\n",
       "      <td>0.000075</td>\n",
       "      <td>0.000014</td>\n",
       "    </tr>\n",
       "    <tr>\n",
       "      <th>23</th>\n",
       "      <td>MS</td>\n",
       "      <td>3.92</td>\n",
       "      <td>17.49</td>\n",
       "      <td>11.98</td>\n",
       "      <td>2988298</td>\n",
       "      <td>0.000046</td>\n",
       "      <td>25</td>\n",
       "      <td>813</td>\n",
       "      <td>267</td>\n",
       "      <td>472</td>\n",
       "      <td>0.000272</td>\n",
       "      <td>0.000089</td>\n",
       "    </tr>\n",
       "    <tr>\n",
       "      <th>24</th>\n",
       "      <td>MO</td>\n",
       "      <td>4.17</td>\n",
       "      <td>18.03</td>\n",
       "      <td>15.70</td>\n",
       "      <td>6087203</td>\n",
       "      <td>0.000031</td>\n",
       "      <td>24</td>\n",
       "      <td>1462</td>\n",
       "      <td>470</td>\n",
       "      <td>791</td>\n",
       "      <td>0.000240</td>\n",
       "      <td>0.000077</td>\n",
       "    </tr>\n",
       "    <tr>\n",
       "      <th>25</th>\n",
       "      <td>MT</td>\n",
       "      <td>5.34</td>\n",
       "      <td>20.57</td>\n",
       "      <td>16.48</td>\n",
       "      <td>1040863</td>\n",
       "      <td>0.000065</td>\n",
       "      <td>26</td>\n",
       "      <td>154</td>\n",
       "      <td>38</td>\n",
       "      <td>21</td>\n",
       "      <td>0.000148</td>\n",
       "      <td>0.000037</td>\n",
       "    </tr>\n",
       "    <tr>\n",
       "      <th>26</th>\n",
       "      <td>NE</td>\n",
       "      <td>4.17</td>\n",
       "      <td>18.39</td>\n",
       "      <td>15.93</td>\n",
       "      <td>1905924</td>\n",
       "      <td>0.000067</td>\n",
       "      <td>29</td>\n",
       "      <td>361</td>\n",
       "      <td>51</td>\n",
       "      <td>153</td>\n",
       "      <td>0.000189</td>\n",
       "      <td>0.000027</td>\n",
       "    </tr>\n",
       "    <tr>\n",
       "      <th>27</th>\n",
       "      <td>NV</td>\n",
       "      <td>4.21</td>\n",
       "      <td>18.33</td>\n",
       "      <td>11.63</td>\n",
       "      <td>2919772</td>\n",
       "      <td>0.000015</td>\n",
       "      <td>33</td>\n",
       "      <td>488</td>\n",
       "      <td>173</td>\n",
       "      <td>264</td>\n",
       "      <td>0.000167</td>\n",
       "      <td>0.000059</td>\n",
       "    </tr>\n",
       "    <tr>\n",
       "      <th>28</th>\n",
       "      <td>NH</td>\n",
       "      <td>5.07</td>\n",
       "      <td>19.36</td>\n",
       "      <td>20.72</td>\n",
       "      <td>1342373</td>\n",
       "      <td>0.000035</td>\n",
       "      <td>30</td>\n",
       "      <td>252</td>\n",
       "      <td>17</td>\n",
       "      <td>36</td>\n",
       "      <td>0.000188</td>\n",
       "      <td>0.000013</td>\n",
       "    </tr>\n",
       "    <tr>\n",
       "      <th>29</th>\n",
       "      <td>NJ</td>\n",
       "      <td>3.57</td>\n",
       "      <td>15.50</td>\n",
       "      <td>12.67</td>\n",
       "      <td>8874516</td>\n",
       "      <td>0.000028</td>\n",
       "      <td>31</td>\n",
       "      <td>1151</td>\n",
       "      <td>262</td>\n",
       "      <td>619</td>\n",
       "      <td>0.000130</td>\n",
       "      <td>0.000030</td>\n",
       "    </tr>\n",
       "    <tr>\n",
       "      <th>30</th>\n",
       "      <td>NM</td>\n",
       "      <td>4.43</td>\n",
       "      <td>19.19</td>\n",
       "      <td>12.95</td>\n",
       "      <td>2092789</td>\n",
       "      <td>0.000026</td>\n",
       "      <td>32</td>\n",
       "      <td>373</td>\n",
       "      <td>110</td>\n",
       "      <td>122</td>\n",
       "      <td>0.000178</td>\n",
       "      <td>0.000053</td>\n",
       "    </tr>\n",
       "    <tr>\n",
       "      <th>31</th>\n",
       "      <td>NY</td>\n",
       "      <td>4.08</td>\n",
       "      <td>17.54</td>\n",
       "      <td>14.47</td>\n",
       "      <td>19641589</td>\n",
       "      <td>0.000034</td>\n",
       "      <td>34</td>\n",
       "      <td>2418</td>\n",
       "      <td>383</td>\n",
       "      <td>1208</td>\n",
       "      <td>0.000123</td>\n",
       "      <td>0.000019</td>\n",
       "    </tr>\n",
       "    <tr>\n",
       "      <th>32</th>\n",
       "      <td>NC</td>\n",
       "      <td>4.72</td>\n",
       "      <td>18.98</td>\n",
       "      <td>16.01</td>\n",
       "      <td>10156679</td>\n",
       "      <td>0.000023</td>\n",
       "      <td>27</td>\n",
       "      <td>1931</td>\n",
       "      <td>490</td>\n",
       "      <td>1114</td>\n",
       "      <td>0.000190</td>\n",
       "      <td>0.000048</td>\n",
       "    </tr>\n",
       "    <tr>\n",
       "      <th>33</th>\n",
       "      <td>ND</td>\n",
       "      <td>4.03</td>\n",
       "      <td>17.06</td>\n",
       "      <td>14.48</td>\n",
       "      <td>754353</td>\n",
       "      <td>0.000042</td>\n",
       "      <td>28</td>\n",
       "      <td>137</td>\n",
       "      <td>14</td>\n",
       "      <td>30</td>\n",
       "      <td>0.000182</td>\n",
       "      <td>0.000019</td>\n",
       "    </tr>\n",
       "    <tr>\n",
       "      <th>34</th>\n",
       "      <td>OH</td>\n",
       "      <td>5.13</td>\n",
       "      <td>19.72</td>\n",
       "      <td>16.50</td>\n",
       "      <td>11635003</td>\n",
       "      <td>0.000043</td>\n",
       "      <td>35</td>\n",
       "      <td>2224</td>\n",
       "      <td>513</td>\n",
       "      <td>1320</td>\n",
       "      <td>0.000191</td>\n",
       "      <td>0.000044</td>\n",
       "    </tr>\n",
       "    <tr>\n",
       "      <th>35</th>\n",
       "      <td>OK</td>\n",
       "      <td>4.60</td>\n",
       "      <td>18.93</td>\n",
       "      <td>15.13</td>\n",
       "      <td>3926769</td>\n",
       "      <td>0.000031</td>\n",
       "      <td>36</td>\n",
       "      <td>827</td>\n",
       "      <td>198</td>\n",
       "      <td>383</td>\n",
       "      <td>0.000211</td>\n",
       "      <td>0.000050</td>\n",
       "    </tr>\n",
       "    <tr>\n",
       "      <th>36</th>\n",
       "      <td>OR</td>\n",
       "      <td>5.19</td>\n",
       "      <td>22.61</td>\n",
       "      <td>17.52</td>\n",
       "      <td>4091404</td>\n",
       "      <td>0.000026</td>\n",
       "      <td>37</td>\n",
       "      <td>517</td>\n",
       "      <td>76</td>\n",
       "      <td>156</td>\n",
       "      <td>0.000126</td>\n",
       "      <td>0.000019</td>\n",
       "    </tr>\n",
       "    <tr>\n",
       "      <th>37</th>\n",
       "      <td>PA</td>\n",
       "      <td>4.20</td>\n",
       "      <td>18.76</td>\n",
       "      <td>16.35</td>\n",
       "      <td>12783538</td>\n",
       "      <td>0.000038</td>\n",
       "      <td>38</td>\n",
       "      <td>2000</td>\n",
       "      <td>478</td>\n",
       "      <td>1115</td>\n",
       "      <td>0.000156</td>\n",
       "      <td>0.000037</td>\n",
       "    </tr>\n",
       "    <tr>\n",
       "      <th>38</th>\n",
       "      <td>RI</td>\n",
       "      <td>4.24</td>\n",
       "      <td>19.23</td>\n",
       "      <td>18.96</td>\n",
       "      <td>1057063</td>\n",
       "      <td>0.000040</td>\n",
       "      <td>39</td>\n",
       "      <td>222</td>\n",
       "      <td>9</td>\n",
       "      <td>78</td>\n",
       "      <td>0.000210</td>\n",
       "      <td>0.000009</td>\n",
       "    </tr>\n",
       "    <tr>\n",
       "      <th>39</th>\n",
       "      <td>SC</td>\n",
       "      <td>3.98</td>\n",
       "      <td>18.12</td>\n",
       "      <td>14.42</td>\n",
       "      <td>4958235</td>\n",
       "      <td>0.000017</td>\n",
       "      <td>40</td>\n",
       "      <td>1400</td>\n",
       "      <td>328</td>\n",
       "      <td>681</td>\n",
       "      <td>0.000282</td>\n",
       "      <td>0.000066</td>\n",
       "    </tr>\n",
       "    <tr>\n",
       "      <th>40</th>\n",
       "      <td>SD</td>\n",
       "      <td>4.12</td>\n",
       "      <td>17.83</td>\n",
       "      <td>14.95</td>\n",
       "      <td>862890</td>\n",
       "      <td>0.000051</td>\n",
       "      <td>41</td>\n",
       "      <td>130</td>\n",
       "      <td>18</td>\n",
       "      <td>28</td>\n",
       "      <td>0.000151</td>\n",
       "      <td>0.000021</td>\n",
       "    </tr>\n",
       "    <tr>\n",
       "      <th>41</th>\n",
       "      <td>TN</td>\n",
       "      <td>4.98</td>\n",
       "      <td>19.63</td>\n",
       "      <td>15.10</td>\n",
       "      <td>6645011</td>\n",
       "      <td>0.000035</td>\n",
       "      <td>42</td>\n",
       "      <td>1819</td>\n",
       "      <td>384</td>\n",
       "      <td>1043</td>\n",
       "      <td>0.000274</td>\n",
       "      <td>0.000058</td>\n",
       "    </tr>\n",
       "    <tr>\n",
       "      <th>42</th>\n",
       "      <td>TX</td>\n",
       "      <td>3.26</td>\n",
       "      <td>16.04</td>\n",
       "      <td>10.97</td>\n",
       "      <td>27937492</td>\n",
       "      <td>0.000010</td>\n",
       "      <td>43</td>\n",
       "      <td>3250</td>\n",
       "      <td>1100</td>\n",
       "      <td>1401</td>\n",
       "      <td>0.000116</td>\n",
       "      <td>0.000039</td>\n",
       "    </tr>\n",
       "    <tr>\n",
       "      <th>43</th>\n",
       "      <td>UT</td>\n",
       "      <td>5.20</td>\n",
       "      <td>22.27</td>\n",
       "      <td>15.72</td>\n",
       "      <td>3042613</td>\n",
       "      <td>0.000042</td>\n",
       "      <td>44</td>\n",
       "      <td>222</td>\n",
       "      <td>56</td>\n",
       "      <td>69</td>\n",
       "      <td>0.000073</td>\n",
       "      <td>0.000018</td>\n",
       "    </tr>\n",
       "    <tr>\n",
       "      <th>44</th>\n",
       "      <td>VT</td>\n",
       "      <td>5.32</td>\n",
       "      <td>20.85</td>\n",
       "      <td>20.39</td>\n",
       "      <td>623644</td>\n",
       "      <td>0.000083</td>\n",
       "      <td>46</td>\n",
       "      <td>85</td>\n",
       "      <td>9</td>\n",
       "      <td>8</td>\n",
       "      <td>0.000136</td>\n",
       "      <td>0.000014</td>\n",
       "    </tr>\n",
       "    <tr>\n",
       "      <th>45</th>\n",
       "      <td>VA</td>\n",
       "      <td>4.60</td>\n",
       "      <td>19.96</td>\n",
       "      <td>16.54</td>\n",
       "      <td>8410946</td>\n",
       "      <td>0.000024</td>\n",
       "      <td>45</td>\n",
       "      <td>1362</td>\n",
       "      <td>311</td>\n",
       "      <td>892</td>\n",
       "      <td>0.000162</td>\n",
       "      <td>0.000037</td>\n",
       "    </tr>\n",
       "    <tr>\n",
       "      <th>46</th>\n",
       "      <td>WA</td>\n",
       "      <td>4.80</td>\n",
       "      <td>20.72</td>\n",
       "      <td>16.37</td>\n",
       "      <td>7294680</td>\n",
       "      <td>0.000042</td>\n",
       "      <td>47</td>\n",
       "      <td>701</td>\n",
       "      <td>146</td>\n",
       "      <td>274</td>\n",
       "      <td>0.000096</td>\n",
       "      <td>0.000020</td>\n",
       "    </tr>\n",
       "    <tr>\n",
       "      <th>47</th>\n",
       "      <td>WV</td>\n",
       "      <td>5.18</td>\n",
       "      <td>20.90</td>\n",
       "      <td>17.01</td>\n",
       "      <td>1830929</td>\n",
       "      <td>0.000062</td>\n",
       "      <td>49</td>\n",
       "      <td>348</td>\n",
       "      <td>82</td>\n",
       "      <td>148</td>\n",
       "      <td>0.000190</td>\n",
       "      <td>0.000045</td>\n",
       "    </tr>\n",
       "    <tr>\n",
       "      <th>48</th>\n",
       "      <td>WI</td>\n",
       "      <td>4.24</td>\n",
       "      <td>18.51</td>\n",
       "      <td>16.07</td>\n",
       "      <td>5772958</td>\n",
       "      <td>0.000062</td>\n",
       "      <td>48</td>\n",
       "      <td>807</td>\n",
       "      <td>194</td>\n",
       "      <td>423</td>\n",
       "      <td>0.000140</td>\n",
       "      <td>0.000034</td>\n",
       "    </tr>\n",
       "    <tr>\n",
       "      <th>49</th>\n",
       "      <td>WY</td>\n",
       "      <td>4.62</td>\n",
       "      <td>19.46</td>\n",
       "      <td>13.98</td>\n",
       "      <td>584290</td>\n",
       "      <td>0.000079</td>\n",
       "      <td>50</td>\n",
       "      <td>124</td>\n",
       "      <td>17</td>\n",
       "      <td>12</td>\n",
       "      <td>0.000212</td>\n",
       "      <td>0.000029</td>\n",
       "    </tr>\n",
       "  </tbody>\n",
       "</table>\n",
       "</div>"
      ],
      "text/plain": [
       "   state code  %serious 18+  ...  n_incident_capita_2016  n_killed_capita_2016\n",
       "0          AL          4.23  ...                0.000256              0.000091\n",
       "1          AK          4.53  ...                0.000564              0.000104\n",
       "2          AZ          4.04  ...                0.000075              0.000038\n",
       "3          AR          5.45  ...                0.000222              0.000053\n",
       "4          CA          3.61  ...                0.000090              0.000031\n",
       "5          CO          4.61  ...                0.000134              0.000031\n",
       "6          CT          3.59  ...                0.000216              0.000016\n",
       "7          DE          4.23  ...                0.000333              0.000041\n",
       "8          FL          3.56  ...                0.000193              0.000043\n",
       "9          GA          4.17  ...                0.000154              0.000046\n",
       "10         HI          3.18  ...                0.000053              0.000021\n",
       "11         ID          4.98  ...                0.000083              0.000018\n",
       "12         IL          3.74  ...                0.000368              0.000059\n",
       "13         IN          4.93  ...                0.000204              0.000051\n",
       "14         IA          3.93  ...                0.000198              0.000017\n",
       "15         KS          4.37  ...                0.000182              0.000035\n",
       "16         KY          5.25  ...                0.000203              0.000057\n",
       "17         LA          4.53  ...                0.000399              0.000092\n",
       "18         ME          4.35  ...                0.000174              0.000014\n",
       "19         MD          3.41  ...                0.000206              0.000064\n",
       "20         MA          4.32  ...                0.000211              0.000012\n",
       "21         MI          4.44  ...                0.000119              0.000033\n",
       "22         MN          4.25  ...                0.000075              0.000014\n",
       "23         MS          3.92  ...                0.000272              0.000089\n",
       "24         MO          4.17  ...                0.000240              0.000077\n",
       "25         MT          5.34  ...                0.000148              0.000037\n",
       "26         NE          4.17  ...                0.000189              0.000027\n",
       "27         NV          4.21  ...                0.000167              0.000059\n",
       "28         NH          5.07  ...                0.000188              0.000013\n",
       "29         NJ          3.57  ...                0.000130              0.000030\n",
       "30         NM          4.43  ...                0.000178              0.000053\n",
       "31         NY          4.08  ...                0.000123              0.000019\n",
       "32         NC          4.72  ...                0.000190              0.000048\n",
       "33         ND          4.03  ...                0.000182              0.000019\n",
       "34         OH          5.13  ...                0.000191              0.000044\n",
       "35         OK          4.60  ...                0.000211              0.000050\n",
       "36         OR          5.19  ...                0.000126              0.000019\n",
       "37         PA          4.20  ...                0.000156              0.000037\n",
       "38         RI          4.24  ...                0.000210              0.000009\n",
       "39         SC          3.98  ...                0.000282              0.000066\n",
       "40         SD          4.12  ...                0.000151              0.000021\n",
       "41         TN          4.98  ...                0.000274              0.000058\n",
       "42         TX          3.26  ...                0.000116              0.000039\n",
       "43         UT          5.20  ...                0.000073              0.000018\n",
       "44         VT          5.32  ...                0.000136              0.000014\n",
       "45         VA          4.60  ...                0.000162              0.000037\n",
       "46         WA          4.80  ...                0.000096              0.000020\n",
       "47         WV          5.18  ...                0.000190              0.000045\n",
       "48         WI          4.24  ...                0.000140              0.000034\n",
       "49         WY          4.62  ...                0.000212              0.000029\n",
       "\n",
       "[50 rows x 12 columns]"
      ]
     },
     "execution_count": 61,
     "metadata": {
      "tags": []
     },
     "output_type": "execute_result"
    }
   ],
   "source": [
    "# a dataframe that has aggregated data for mental health occurences (in thousands)\n",
    "# and gun violence incidents but only for 2016\n",
    "aggregate_2016_df = pd.merge(stateMHPercent_df, pop_2016_df, on=\"state code\")\n",
    "aggregate_2016_df = pd.merge(aggregate_2016_df, mental_state_df[['state code', \"MH per capita\"]], on=\"state code\")\n",
    "aggregate_2016_df.set_index('state', inplace=True)\n",
    "\n",
    "# drop any adolescents from mental health data\n",
    "# only interested in adults \n",
    "aggregate_2016_df = aggregate_2016_df.drop(['serious 12-17', 'any 12-17', 'received 12-17', 'suicide 12-17', 'depression 12-17'], axis=1)\n",
    "\n",
    "# drop redundant columns from dataframe \n",
    "# suicide and depression is a subset of mental health illness\n",
    "aggregate_2016_df = aggregate_2016_df.drop(['%suicide 18+', '%depression 18+'], axis=1)\n",
    "\n",
    "aggregate_2016_df = pd.merge(aggregate_2016_df, gun_state_2016_df, on=\"state code\")\n",
    "aggregate_2016_df = aggregate_2016_df.drop('distance', axis=1)\n",
    "aggregate_2016_df.index = range(len(aggregate_2016_df)) #reindex\n",
    "\n",
    "\n",
    "# calculate number of gun violence incidents per capita in 2016\n",
    "aggregate_2016_df[\"n_incident_capita_2016\"] = aggregate_2016_df[\"n_incidents\"] / aggregate_2016_df[\"population 2016\"]\n",
    "\n",
    "# calculate number of individual killed from a gun violence incident per capita in 2016\n",
    "aggregate_2016_df[\"n_killed_capita_2016\"] = aggregate_2016_df[\"n_killed\"] / aggregate_2016_df[\"population 2016\"]\n",
    "\n",
    "aggregate_2016_df=aggregate_2016_df.apply(pd.to_numeric, errors='ignore')\n",
    "aggregate_2016_df\n"
   ]
  },
  {
   "cell_type": "markdown",
   "metadata": {
    "colab_type": "text",
    "id": "XSsqOCbQAptJ"
   },
   "source": [
    "# Data Visualizations"
   ]
  },
  {
   "cell_type": "markdown",
   "metadata": {
    "colab_type": "text",
    "id": "uxE1jdgqdGAL"
   },
   "source": [
    "Here, we define a function called heatPlot that will setup the preferences for our heatmap, and plot using plotly."
   ]
  },
  {
   "cell_type": "code",
   "execution_count": 0,
   "metadata": {
    "colab": {},
    "colab_type": "code",
    "id": "JCT-V3MMdDcP"
   },
   "outputs": [],
   "source": [
    "def heatPlot(df, item):\n",
    "    '''\n",
    "    Generate a heatmap over the American map by using module plotly. The function plotly.plotly.iplot in plotly \n",
    "    can identify the abbreviation (called 'code' in the data) of each state in America, so it is used to assign \n",
    "    values of item to corresponding states.\n",
    "    \n",
    "    :@ df: pandas.core.frame.DataFrame, input data.\n",
    "    :@ item: string, the column of the data that need to be plot.\n",
    "    :@ returns  res: plotly.tools.PlotlyDisplay, the heatmap.\n",
    "    '''\n",
    "    import pandas\n",
    "    \n",
    "    assert isinstance(df, pandas.core.frame.DataFrame), 'The input data is not a DataFrame.'\n",
    "    assert isinstance(item, str), 'The input item is not a string.'\n",
    "    \n",
    "    \n",
    "    for col in df.columns:\n",
    "        df[col] = df[col].astype(str)\n",
    "    \n",
    "    ### color scale\n",
    "    scl = [[0.0, 'rgb(242,240,247)'],[0.2, 'rgb(218,218,235)'],[0.4, 'rgb(188,189,220)'],\\\n",
    "                [0.6, 'rgb(158,154,200)'],[0.8, 'rgb(117,107,177)'],[1.0, 'rgb(84,39,143)']]\n",
    "\n",
    "    try:\n",
    "        data = [ dict(\n",
    "                type='choropleth',\n",
    "                colorscale = scl, ### setting color scale\n",
    "                autocolorscale = False,\n",
    "                locations = df['state code'], ### locate the rows to corresponding states\n",
    "                z = df[item].astype(float), ### determine the item we wanna plot\n",
    "                locationmode = 'USA-states', ### chose the map model\n",
    "                marker = dict(line = dict ( color = 'rgb(255,255,255)',\n",
    "                                            width = 2 ) ) ) \n",
    "               ]\n",
    "    except:\n",
    "        raise ValueError('Cannot convert the data in required column.')\n",
    "\n",
    "    layout = dict(\n",
    "            title = '2016 US {}'.format(item),\n",
    "            geo = dict(\n",
    "                scope='usa',\n",
    "                projection=dict( type='albers usa' ),\n",
    "                showlakes = True,\n",
    "                lakecolor = 'rgb(255, 255, 255)'),\n",
    "                 )\n",
    "\n",
    "    fig = dict( data=data, layout=layout )\n",
    "    res = py.iplot( fig, filename='d3-cloropleth-map' )\n",
    "    \n",
    "    assert isinstance(res,plotly.tools.PlotlyDisplay)\n",
    "    \n",
    "    return res"
   ]
  },
  {
   "cell_type": "markdown",
   "metadata": {
    "colab_type": "text",
    "id": "gePT0a0pfAnq"
   },
   "source": [
    "The following heatmaps are interactive and will not show unless ran. "
   ]
  },
  {
   "cell_type": "markdown",
   "metadata": {
    "colab_type": "text",
    "id": "hHGfF0v1fRtX"
   },
   "source": [
    "The data is not normalized, so these visualizations below do not take into account the population bias that may occur. "
   ]
  },
  {
   "cell_type": "markdown",
   "metadata": {
    "colab_type": "text",
    "id": "Kf-3o5JehE5F"
   },
   "source": [
    "**Percentage of Mental Illness in Each State**\n",
    "\n"
   ]
  },
  {
   "cell_type": "code",
   "execution_count": 0,
   "metadata": {
    "colab": {},
    "colab_type": "code",
    "id": "Roa9qRP0Tqhe"
   },
   "outputs": [],
   "source": [
    "plotly.tools.set_credentials_file(username='tybhakta', api_key='VNUJhrn2aaoUwpMuQInl')"
   ]
  },
  {
   "cell_type": "code",
   "execution_count": 0,
   "metadata": {
    "colab": {
     "base_uri": "https://localhost:8080/",
     "height": 583
    },
    "colab_type": "code",
    "id": "VbuMMuOVbKHB",
    "outputId": "46587bf2-4a39-426d-d00b-93ef54c37a4e"
   },
   "outputs": [
    {
     "name": "stdout",
     "output_type": "stream",
     "text": [
      "High five! You successfully sent some data to your account on plotly. View your plot in your browser at https://plot.ly/~tybhakta/0 or inside your plot.ly account where it is named 'd3-cloropleth-map'\n"
     ]
    },
    {
     "data": {
      "text/html": [
       "<iframe id=\"igraph\" scrolling=\"no\" style=\"border:none;\" seamless=\"seamless\" src=\"https://plot.ly/~tybhakta/0.embed\" height=\"525px\" width=\"100%\"></iframe>"
      ],
      "text/plain": [
       "<plotly.tools.PlotlyDisplay object>"
      ]
     },
     "execution_count": 81,
     "metadata": {
      "tags": []
     },
     "output_type": "execute_result"
    }
   ],
   "source": [
    "#This is an interactive heatmap of the number of any type of Mental Illness by percentage per state.\n",
    "heatmap_any18 = heatPlot(stateMHPercent_df, '%any 18+')\n",
    "heatmap_any18"
   ]
  },
  {
   "cell_type": "markdown",
   "metadata": {
    "colab_type": "text",
    "id": "HiUrD2BWVUwX"
   },
   "source": [
    "This heatmap displays the number of individuals with mental illness in each state. Oregon has the highest percentage of mental illness with 22.61%, followed by Utah with 22.27%, then Kentucky with 22.08%. The states with the lowest rates of mental illness are New Jersey (15.5%), Hawaii (15.55%), and Illinois (15.73%)."
   ]
  },
  {
   "cell_type": "markdown",
   "metadata": {
    "colab_type": "text",
    "id": "peFNN3_p1Fd3"
   },
   "source": [
    "**Percentage of Gun Incidents per Capita in 2016**"
   ]
  },
  {
   "cell_type": "code",
   "execution_count": 0,
   "metadata": {
    "colab": {
     "base_uri": "https://localhost:8080/",
     "height": 583
    },
    "colab_type": "code",
    "id": "WRHTNU6kX3Y5",
    "outputId": "784d3196-0c1f-4fea-e5fe-a89eca7f499d"
   },
   "outputs": [
    {
     "name": "stdout",
     "output_type": "stream",
     "text": [
      "High five! You successfully sent some data to your account on plotly. View your plot in your browser at https://plot.ly/~tybhakta/0 or inside your plot.ly account where it is named 'd3-cloropleth-map'\n"
     ]
    },
    {
     "data": {
      "text/html": [
       "<iframe id=\"igraph\" scrolling=\"no\" style=\"border:none;\" seamless=\"seamless\" src=\"https://plot.ly/~tybhakta/0.embed\" height=\"525px\" width=\"100%\"></iframe>"
      ],
      "text/plain": [
       "<plotly.tools.PlotlyDisplay object>"
      ]
     },
     "execution_count": 57,
     "metadata": {
      "tags": []
     },
     "output_type": "execute_result"
    }
   ],
   "source": [
    "gun_incident_percapita = heatPlot(aggregate_2016_df,\"n_incident_capita_2016\")\n",
    "gun_incident_percapita"
   ]
  },
  {
   "cell_type": "markdown",
   "metadata": {
    "colab_type": "text",
    "id": "wyshqlrSgyGn"
   },
   "source": [
    "This heatmap displays the number of gun incidents per capita in each state. Alaska, Louisiana, and Illinois have the highest rates of gun-related incidents per capita. "
   ]
  },
  {
   "cell_type": "markdown",
   "metadata": {
    "colab_type": "text",
    "id": "GZgW_hwI1j7K"
   },
   "source": [
    "**Percent of Individuals Who Have Recieved Treatment**"
   ]
  },
  {
   "cell_type": "code",
   "execution_count": 0,
   "metadata": {
    "colab": {
     "base_uri": "https://localhost:8080/",
     "height": 583
    },
    "colab_type": "code",
    "id": "Pe_2au9_NCMO",
    "outputId": "9e1070d4-2e84-4dcd-fea4-ee221375f362"
   },
   "outputs": [
    {
     "name": "stdout",
     "output_type": "stream",
     "text": [
      "High five! You successfully sent some data to your account on plotly. View your plot in your browser at https://plot.ly/~tybhakta/0 or inside your plot.ly account where it is named 'd3-cloropleth-map'\n"
     ]
    },
    {
     "data": {
      "text/html": [
       "<iframe id=\"igraph\" scrolling=\"no\" style=\"border:none;\" seamless=\"seamless\" src=\"https://plot.ly/~tybhakta/0.embed\" height=\"525px\" width=\"100%\"></iframe>"
      ],
      "text/plain": [
       "<plotly.tools.PlotlyDisplay object>"
      ]
     },
     "execution_count": 82,
     "metadata": {
      "tags": []
     },
     "output_type": "execute_result"
    }
   ],
   "source": [
    "gun_treatment = heatPlot(aggregate_2016_df,\"%received 18+\")\n",
    "gun_treatment"
   ]
  },
  {
   "cell_type": "markdown",
   "metadata": {
    "colab_type": "text",
    "id": "fcEaJXLd2FgS"
   },
   "source": [
    "**Individuals Who Have Been Killed from Gun Violence**"
   ]
  },
  {
   "cell_type": "code",
   "execution_count": 0,
   "metadata": {
    "colab": {
     "base_uri": "https://localhost:8080/",
     "height": 583
    },
    "colab_type": "code",
    "id": "c4oNKvplNnf9",
    "outputId": "11f67800-e7a7-4867-86ae-983e8cd1c7b2"
   },
   "outputs": [
    {
     "name": "stdout",
     "output_type": "stream",
     "text": [
      "High five! You successfully sent some data to your account on plotly. View your plot in your browser at https://plot.ly/~tybhakta/0 or inside your plot.ly account where it is named 'd3-cloropleth-map'\n"
     ]
    },
    {
     "data": {
      "text/html": [
       "<iframe id=\"igraph\" scrolling=\"no\" style=\"border:none;\" seamless=\"seamless\" src=\"https://plot.ly/~tybhakta/0.embed\" height=\"525px\" width=\"100%\"></iframe>"
      ],
      "text/plain": [
       "<plotly.tools.PlotlyDisplay object>"
      ]
     },
     "execution_count": 83,
     "metadata": {
      "tags": []
     },
     "output_type": "execute_result"
    }
   ],
   "source": [
    "gun_killed = heatPlot(aggregate_2016_df,\"n_killed_capita_2016\")\n",
    "gun_killed"
   ]
  },
  {
   "cell_type": "markdown",
   "metadata": {
    "colab_type": "text",
    "id": "X-Ly_udMQdbv"
   },
   "source": [
    "The last two heatmaps, Percent of Individuals Who Have Recieved Treatment and Individuals Who Have Been Killed from Gun Violence, appear to be inverses of each other, especially in the Northeast and Southeast regions. We will explore this relationship in the data analysis section. "
   ]
  },
  {
   "cell_type": "markdown",
   "metadata": {
    "colab_type": "text",
    "id": "E-6zve7JMSwn"
   },
   "source": [
    "#Data Analysis\n"
   ]
  },
  {
   "cell_type": "markdown",
   "metadata": {
    "colab_type": "text",
    "id": "ORDcKBDgkFpk"
   },
   "source": [
    "First, we are creating scatterplots and a correlation matrix from our 2016 dataset to get a better feel for our data. "
   ]
  },
  {
   "cell_type": "code",
   "execution_count": 0,
   "metadata": {
    "colab": {
     "base_uri": "https://localhost:8080/",
     "height": 2009
    },
    "colab_type": "code",
    "id": "Smf8L9kiiBlM",
    "outputId": "f1cf1003-0dbd-43b3-b266-6a2b6f187e86"
   },
   "outputs": [
    {
     "data": {
      "image/png": "[encoded data removed]",
      "text/plain": [
       "<Figure size 1980x1980 with 132 Axes>"
      ]
     },
     "metadata": {
      "tags": []
     },
     "output_type": "display_data"
    }
   ],
   "source": [
    "fig2 = sns.pairplot(aggregate_2016_df)"
   ]
  },
  {
   "cell_type": "code",
   "execution_count": 0,
   "metadata": {
    "colab": {
     "base_uri": "https://localhost:8080/",
     "height": 394
    },
    "colab_type": "code",
    "id": "-J2YFGEViBlR",
    "outputId": "e9310329-cc5a-4f2f-bfc7-4bed14938e84"
   },
   "outputs": [
    {
     "data": {
      "text/plain": [
       "<matplotlib.axes._subplots.AxesSubplot at 0x7f3c0c7572e8>"
      ]
     },
     "execution_count": 63,
     "metadata": {
      "tags": []
     },
     "output_type": "execute_result"
    },
    {
     "data": {
      "image/png": "[encoded data removed]",
      "text/plain": [
       "<Figure size 432x288 with 2 Axes>"
      ]
     },
     "metadata": {
      "tags": []
     },
     "output_type": "display_data"
    }
   ],
   "source": [
    "# create  correlation matrix\n",
    "corr1 = aggregate_2016_df.corr()\n",
    "\n",
    "sns.heatmap(corr1, xticklabels=corr1.columns, yticklabels=corr1.columns, cmap=\"Spectral\")\n"
   ]
  },
  {
   "cell_type": "markdown",
   "metadata": {
    "colab_type": "text",
    "id": "WXhUJiZmh3R1"
   },
   "source": [
    "Notice that the correlation between percentage of serious mental illness in states (%serious 18+) and number of incidents (n_incidents) and percentage of any mental illness in states (%any 18+) and number of incidents (n_incidents) are very close to 0. This means that there is little correlation between the number of reported mental health occurences within a state and the number of gun related incidents.\n",
    "\n",
    "Here are some interesting findings that we noticed:\n",
    "\n",
    "* There is a slight positive correlation between the percentage of people with mental health illnesses and the number of mental health facilities in each state. \n",
    "* There appears to be no correlation between the number of mental health facilities per capita and the number of gun incidents per capita.\n",
    "* There is a slight negative correlation between the number of people killed in gun violence incidents and the number of people who recieved mental health treatment. \n",
    "* There is a moderate negative correlation between the number of mental health facilities per capita and the number of gun-related incidents, number of people killed, and the number of injuries.  \n",
    "\n",
    "We will explore some of these findings in the following analyses."
   ]
  },
  {
   "cell_type": "markdown",
   "metadata": {
    "colab_type": "text",
    "id": "RTMrr2c3jDQX"
   },
   "source": [
    "##Analysis for treatment and number of individuals killed from a gun violence incident per capita"
   ]
  },
  {
   "cell_type": "markdown",
   "metadata": {
    "colab_type": "text",
    "id": "lU91FQ2SOc-0"
   },
   "source": []
  },
  {
   "cell_type": "markdown",
   "metadata": {
    "colab_type": "text",
    "id": "kLapBYzg3IHg"
   },
   "source": [
    "**Normalization Plots**"
   ]
  },
  {
   "cell_type": "markdown",
   "metadata": {
    "colab_type": "text",
    "id": "6asdiLGCpXNU"
   },
   "source": [
    "First, we normalized this data because data that is done by count rather than by percentage is likely not normal. When the outliers are removed from the set, it passes the p-value test, which means that we can assume approximate normality. \n",
    "\n",
    "We wanted to check normalization before further analyzing the data. "
   ]
  },
  {
   "cell_type": "code",
   "execution_count": 0,
   "metadata": {
    "colab": {
     "base_uri": "https://localhost:8080/",
     "height": 286
    },
    "colab_type": "code",
    "id": "5QuoKv08iBln",
    "outputId": "39234126-df31-405c-c4ea-c44079e7e692"
   },
   "outputs": [
    {
     "name": "stdout",
     "output_type": "stream",
     "text": [
      "30.841463115994358 2.0084516321745028e-07\n"
     ]
    },
    {
     "data": {
      "image/png": "[encoded data removed]",
      "text/plain": [
       "<Figure size 432x288 with 1 Axes>"
      ]
     },
     "metadata": {
      "tags": []
     },
     "output_type": "display_data"
    }
   ],
   "source": [
    "# check if it is normalized\n",
    "n_incident = aggregate_2016_df[\"n_incident_capita_2016\"].astype(float)\n",
    "n_incident.plot.hist()\n",
    "st_n_in, p_n_in = normaltest(n_incident)\n",
    "print(st_n_in, p_n_in) # not normalized because p < 0.01 = reject null hypothesis"
   ]
  },
  {
   "cell_type": "code",
   "execution_count": 0,
   "metadata": {
    "colab": {
     "base_uri": "https://localhost:8080/",
     "height": 286
    },
    "colab_type": "code",
    "id": "uuJsNfvzk57t",
    "outputId": "d1138e2d-2db5-47ad-a312-c69d80b88a5f"
   },
   "outputs": [
    {
     "name": "stdout",
     "output_type": "stream",
     "text": [
      "0.2883974154055702 0.8657157065874673\n"
     ]
    },
    {
     "data": {
      "image/png": "[encoded data removed]",
      "text/plain": [
       "<Figure size 432x288 with 1 Axes>"
      ]
     },
     "metadata": {
      "tags": []
     },
     "output_type": "display_data"
    }
   ],
   "source": [
    "# check if treatment % by state is normalized\n",
    "treatment = stateMHPercent_df[\"%received 18+\"].astype(float)\n",
    "treatment.plot.hist()\n",
    "st_n_in, p_n_in = normaltest(treatment)\n",
    "print(st_n_in, p_n_in)  # normalized because p > 0.01"
   ]
  },
  {
   "cell_type": "code",
   "execution_count": 0,
   "metadata": {
    "colab": {
     "base_uri": "https://localhost:8080/",
     "height": 286
    },
    "colab_type": "code",
    "id": "Y10Vcz5wnScV",
    "outputId": "55a67ed4-0331-43cc-c159-81a502330af0"
   },
   "outputs": [
    {
     "name": "stdout",
     "output_type": "stream",
     "text": [
      "1.8753469564056713 0.39153769752874645\n"
     ]
    },
    {
     "data": {
      "image/png": "[encoded data removed]",
      "text/plain": [
       "<Figure size 432x288 with 1 Axes>"
      ]
     },
     "metadata": {
      "tags": []
     },
     "output_type": "display_data"
    }
   ],
   "source": [
    "# check if it is normalized for % of any mental illness\n",
    "\n",
    "mh_any = stateMHPercent_df[\"%any 18+\"].astype(float)\n",
    "mh_any.plot.hist()\n",
    "st_n_in, p_n_in = normaltest(mh_any)\n",
    "print(st_n_in, p_n_in)  # normalized because p > 0.01"
   ]
  },
  {
   "cell_type": "code",
   "execution_count": 0,
   "metadata": {
    "colab": {
     "base_uri": "https://localhost:8080/",
     "height": 286
    },
    "colab_type": "code",
    "id": "rkjNP9xbpR7D",
    "outputId": "82326761-a8c1-4ab9-d82d-05210e449271"
   },
   "outputs": [
    {
     "name": "stdout",
     "output_type": "stream",
     "text": [
      "0.6454885779599001 0.7241590061323696\n"
     ]
    },
    {
     "data": {
      "image/png": "[encoded data removed]",
      "text/plain": [
       "<Figure size 432x288 with 1 Axes>"
      ]
     },
     "metadata": {
      "tags": []
     },
     "output_type": "display_data"
    }
   ],
   "source": [
    "# check if it is normalized for % of serious mental illness\n",
    "\n",
    "mh_serious = stateMHPercent_df[\"%serious 18+\"].astype(float)\n",
    "mh_serious.plot.hist()\n",
    "st_n_in, p_n_in = normaltest(mh_serious)\n",
    "print(st_n_in, p_n_in)  # normalized because p > 0.01"
   ]
  },
  {
   "cell_type": "markdown",
   "metadata": {
    "colab_type": "text",
    "id": "di1uowTq3fGH"
   },
   "source": [
    "**OLS Regression**"
   ]
  },
  {
   "cell_type": "code",
   "execution_count": 0,
   "metadata": {
    "colab": {
     "base_uri": "https://localhost:8080/",
     "height": 425
    },
    "colab_type": "code",
    "id": "NQBgp7bsCeR4",
    "outputId": "4d4e483e-5637-4975-f73b-7b5a18e6e4d2"
   },
   "outputs": [
    {
     "name": "stdout",
     "output_type": "stream",
     "text": [
      "                             OLS Regression Results                             \n",
      "================================================================================\n",
      "Dep. Variable:     n_killed_capita_2016   R-squared:                       0.671\n",
      "Model:                              OLS   Adj. R-squared:                  0.664\n",
      "Method:                   Least Squares   F-statistic:                     99.80\n",
      "Date:                  Thu, 13 Jun 2019   Prob (F-statistic):           2.08e-13\n",
      "Time:                          01:54:21   Log-Likelihood:                 456.22\n",
      "No. Observations:                    50   AIC:                            -910.4\n",
      "Df Residuals:                        49   BIC:                            -908.5\n",
      "Df Model:                             1                                         \n",
      "Covariance Type:              nonrobust                                         \n",
      "=================================================================================\n",
      "                    coef    std err          t      P>|t|      [0.025      0.975]\n",
      "---------------------------------------------------------------------------------\n",
      "%received 18+   2.44e-06   2.44e-07      9.990      0.000    1.95e-06    2.93e-06\n",
      "==============================================================================\n",
      "Omnibus:                        3.941   Durbin-Watson:                   1.974\n",
      "Prob(Omnibus):                  0.139   Jarque-Bera (JB):                3.311\n",
      "Skew:                           0.629   Prob(JB):                        0.191\n",
      "Kurtosis:                       3.074   Cond. No.                         1.00\n",
      "==============================================================================\n",
      "\n",
      "Warnings:\n",
      "[1] Standard Errors assume that the covariance matrix of the errors is correctly specified.\n"
     ]
    }
   ],
   "source": [
    "# analysis x='%received 18+',y='n_killed_capita_2016\n",
    "aggregate_2016_df=aggregate_2016_df.apply(pd.to_numeric, errors='ignore')\n",
    "#outcome_1, predictors_1 = patsy.dmatrices(\"Q('%received 18+') ~ n_killed_capita_2016\", aggregate_2016_df)\n",
    "mod_1 = sm.OLS(aggregate_2016_df['n_killed_capita_2016'], aggregate_2016_df['%received 18+'])\n",
    "res_1 = mod_1.fit()\n",
    "print(res_1.summary())"
   ]
  },
  {
   "cell_type": "markdown",
   "metadata": {
    "colab_type": "text",
    "id": "so4wFaTMix7-"
   },
   "source": [
    "This is an OLS Regression test on the number of people killed per capita and the percentage of people who received mental health treatment. Because the p-value of 5.09e-13 is much smaller than 0.05, this relationship is statistically significant and we can reject the null hypothesis (null hypothesis suggests there is no relationship between number of people killed and mental health treatment)."
   ]
  },
  {
   "cell_type": "markdown",
   "metadata": {
    "colab_type": "text",
    "id": "jaUt0epl30m2"
   },
   "source": [
    "**Regression Plot**"
   ]
  },
  {
   "cell_type": "code",
   "execution_count": 0,
   "metadata": {
    "colab": {
     "base_uri": "https://localhost:8080/",
     "height": 1038
    },
    "colab_type": "code",
    "id": "oCoNVru7iBli",
    "outputId": "a1ea8186-a511-4aec-d95e-6ae42c5b7c60"
   },
   "outputs": [
    {
     "ename": "TypeError",
     "evalue": "ignored",
     "output_type": "error",
     "traceback": [
      "\u001b[0;31m---------------------------------------------------------------------------\u001b[0m",
      "\u001b[0;31mValueError\u001b[0m                                Traceback (most recent call last)",
      "\u001b[0;32m/usr/local/lib/python3.6/dist-packages/pandas/core/nanops.py\u001b[0m in \u001b[0;36m_ensure_numeric\u001b[0;34m(x)\u001b[0m\n\u001b[1;32m   1163\u001b[0m         \u001b[0;32mtry\u001b[0m\u001b[0;34m:\u001b[0m\u001b[0;34m\u001b[0m\u001b[0;34m\u001b[0m\u001b[0m\n\u001b[0;32m-> 1164\u001b[0;31m             \u001b[0mx\u001b[0m \u001b[0;34m=\u001b[0m \u001b[0mfloat\u001b[0m\u001b[0;34m(\u001b[0m\u001b[0mx\u001b[0m\u001b[0;34m)\u001b[0m\u001b[0;34m\u001b[0m\u001b[0;34m\u001b[0m\u001b[0m\n\u001b[0m\u001b[1;32m   1165\u001b[0m         \u001b[0;32mexcept\u001b[0m \u001b[0mException\u001b[0m\u001b[0;34m:\u001b[0m\u001b[0;34m\u001b[0m\u001b[0;34m\u001b[0m\u001b[0m\n",
      "\u001b[0;31mValueError\u001b[0m: could not convert string to float: '12.9813.5411.8715.5411.5915.8617.0515.0612.7512.039.0316.6413.6415.3616.7514.217.9413.3519.3713.6618.8616.1219.0811.9815.716.4815.9311.6320.7212.6712.9514.4716.0114.4816.515.1317.5216.3518.9614.4214.9515.110.9715.7220.3916.5416.3717.0116.0713.98'",
      "\nDuring handling of the above exception, another exception occurred:\n",
      "\u001b[0;31mValueError\u001b[0m                                Traceback (most recent call last)",
      "\u001b[0;32m/usr/local/lib/python3.6/dist-packages/pandas/core/nanops.py\u001b[0m in \u001b[0;36m_ensure_numeric\u001b[0;34m(x)\u001b[0m\n\u001b[1;32m   1166\u001b[0m             \u001b[0;32mtry\u001b[0m\u001b[0;34m:\u001b[0m\u001b[0;34m\u001b[0m\u001b[0;34m\u001b[0m\u001b[0m\n\u001b[0;32m-> 1167\u001b[0;31m                 \u001b[0mx\u001b[0m \u001b[0;34m=\u001b[0m \u001b[0mcomplex\u001b[0m\u001b[0;34m(\u001b[0m\u001b[0mx\u001b[0m\u001b[0;34m)\u001b[0m\u001b[0;34m\u001b[0m\u001b[0;34m\u001b[0m\u001b[0m\n\u001b[0m\u001b[1;32m   1168\u001b[0m             \u001b[0;32mexcept\u001b[0m \u001b[0mException\u001b[0m\u001b[0;34m:\u001b[0m\u001b[0;34m\u001b[0m\u001b[0;34m\u001b[0m\u001b[0m\n",
      "\u001b[0;31mValueError\u001b[0m: complex() arg is a malformed string",
      "\nDuring handling of the above exception, another exception occurred:\n",
      "\u001b[0;31mTypeError\u001b[0m                                 Traceback (most recent call last)",
      "\u001b[0;32m/usr/local/lib/python3.6/dist-packages/pandas/core/nanops.py\u001b[0m in \u001b[0;36mf\u001b[0;34m(values, axis, skipna, **kwds)\u001b[0m\n\u001b[1;32m    126\u001b[0m                 \u001b[0;32melse\u001b[0m\u001b[0;34m:\u001b[0m\u001b[0;34m\u001b[0m\u001b[0;34m\u001b[0m\u001b[0m\n\u001b[0;32m--> 127\u001b[0;31m                     \u001b[0mresult\u001b[0m \u001b[0;34m=\u001b[0m \u001b[0malt\u001b[0m\u001b[0;34m(\u001b[0m\u001b[0mvalues\u001b[0m\u001b[0;34m,\u001b[0m \u001b[0maxis\u001b[0m\u001b[0;34m=\u001b[0m\u001b[0maxis\u001b[0m\u001b[0;34m,\u001b[0m \u001b[0mskipna\u001b[0m\u001b[0;34m=\u001b[0m\u001b[0mskipna\u001b[0m\u001b[0;34m,\u001b[0m \u001b[0;34m**\u001b[0m\u001b[0mkwds\u001b[0m\u001b[0;34m)\u001b[0m\u001b[0;34m\u001b[0m\u001b[0;34m\u001b[0m\u001b[0m\n\u001b[0m\u001b[1;32m    128\u001b[0m             \u001b[0;32mexcept\u001b[0m \u001b[0mException\u001b[0m\u001b[0;34m:\u001b[0m\u001b[0;34m\u001b[0m\u001b[0;34m\u001b[0m\u001b[0m\n",
      "\u001b[0;32m/usr/local/lib/python3.6/dist-packages/pandas/core/nanops.py\u001b[0m in \u001b[0;36mnanmean\u001b[0;34m(values, axis, skipna, mask)\u001b[0m\n\u001b[1;32m    478\u001b[0m     \u001b[0mcount\u001b[0m \u001b[0;34m=\u001b[0m \u001b[0m_get_counts\u001b[0m\u001b[0;34m(\u001b[0m\u001b[0mmask\u001b[0m\u001b[0;34m,\u001b[0m \u001b[0maxis\u001b[0m\u001b[0;34m,\u001b[0m \u001b[0mdtype\u001b[0m\u001b[0;34m=\u001b[0m\u001b[0mdtype_count\u001b[0m\u001b[0;34m)\u001b[0m\u001b[0;34m\u001b[0m\u001b[0;34m\u001b[0m\u001b[0m\n\u001b[0;32m--> 479\u001b[0;31m     \u001b[0mthe_sum\u001b[0m \u001b[0;34m=\u001b[0m \u001b[0m_ensure_numeric\u001b[0m\u001b[0;34m(\u001b[0m\u001b[0mvalues\u001b[0m\u001b[0;34m.\u001b[0m\u001b[0msum\u001b[0m\u001b[0;34m(\u001b[0m\u001b[0maxis\u001b[0m\u001b[0;34m,\u001b[0m \u001b[0mdtype\u001b[0m\u001b[0;34m=\u001b[0m\u001b[0mdtype_sum\u001b[0m\u001b[0;34m)\u001b[0m\u001b[0;34m)\u001b[0m\u001b[0;34m\u001b[0m\u001b[0;34m\u001b[0m\u001b[0m\n\u001b[0m\u001b[1;32m    480\u001b[0m \u001b[0;34m\u001b[0m\u001b[0m\n",
      "\u001b[0;32m/usr/local/lib/python3.6/dist-packages/pandas/core/nanops.py\u001b[0m in \u001b[0;36m_ensure_numeric\u001b[0;34m(x)\u001b[0m\n\u001b[1;32m   1169\u001b[0m                 raise TypeError('Could not convert {value!s} to numeric'\n\u001b[0;32m-> 1170\u001b[0;31m                                 .format(value=x))\n\u001b[0m\u001b[1;32m   1171\u001b[0m     \u001b[0;32mreturn\u001b[0m \u001b[0mx\u001b[0m\u001b[0;34m\u001b[0m\u001b[0;34m\u001b[0m\u001b[0m\n",
      "\u001b[0;31mTypeError\u001b[0m: Could not convert 12.9813.5411.8715.5411.5915.8617.0515.0612.7512.039.0316.6413.6415.3616.7514.217.9413.3519.3713.6618.8616.1219.0811.9815.716.4815.9311.6320.7212.6712.9514.4716.0114.4816.515.1317.5216.3518.9614.4214.9515.110.9715.7220.3916.5416.3717.0116.0713.98 to numeric",
      "\nDuring handling of the above exception, another exception occurred:\n",
      "\u001b[0;31mValueError\u001b[0m                                Traceback (most recent call last)",
      "\u001b[0;32m/usr/local/lib/python3.6/dist-packages/pandas/core/nanops.py\u001b[0m in \u001b[0;36m_ensure_numeric\u001b[0;34m(x)\u001b[0m\n\u001b[1;32m   1163\u001b[0m         \u001b[0;32mtry\u001b[0m\u001b[0;34m:\u001b[0m\u001b[0;34m\u001b[0m\u001b[0;34m\u001b[0m\u001b[0m\n\u001b[0;32m-> 1164\u001b[0;31m             \u001b[0mx\u001b[0m \u001b[0;34m=\u001b[0m \u001b[0mfloat\u001b[0m\u001b[0;34m(\u001b[0m\u001b[0mx\u001b[0m\u001b[0;34m)\u001b[0m\u001b[0;34m\u001b[0m\u001b[0;34m\u001b[0m\u001b[0m\n\u001b[0m\u001b[1;32m   1165\u001b[0m         \u001b[0;32mexcept\u001b[0m \u001b[0mException\u001b[0m\u001b[0;34m:\u001b[0m\u001b[0;34m\u001b[0m\u001b[0;34m\u001b[0m\u001b[0m\n",
      "\u001b[0;31mValueError\u001b[0m: could not convert string to float: '12.9813.5411.8715.5411.5915.8617.0515.0612.7512.039.0316.6413.6415.3616.7514.217.9413.3519.3713.6618.8616.1219.0811.9815.716.4815.9311.6320.7212.6712.9514.4716.0114.4816.515.1317.5216.3518.9614.4214.9515.110.9715.7220.3916.5416.3717.0116.0713.98'",
      "\nDuring handling of the above exception, another exception occurred:\n",
      "\u001b[0;31mValueError\u001b[0m                                Traceback (most recent call last)",
      "\u001b[0;32m/usr/local/lib/python3.6/dist-packages/pandas/core/nanops.py\u001b[0m in \u001b[0;36m_ensure_numeric\u001b[0;34m(x)\u001b[0m\n\u001b[1;32m   1166\u001b[0m             \u001b[0;32mtry\u001b[0m\u001b[0;34m:\u001b[0m\u001b[0;34m\u001b[0m\u001b[0;34m\u001b[0m\u001b[0m\n\u001b[0;32m-> 1167\u001b[0;31m                 \u001b[0mx\u001b[0m \u001b[0;34m=\u001b[0m \u001b[0mcomplex\u001b[0m\u001b[0;34m(\u001b[0m\u001b[0mx\u001b[0m\u001b[0;34m)\u001b[0m\u001b[0;34m\u001b[0m\u001b[0;34m\u001b[0m\u001b[0m\n\u001b[0m\u001b[1;32m   1168\u001b[0m             \u001b[0;32mexcept\u001b[0m \u001b[0mException\u001b[0m\u001b[0;34m:\u001b[0m\u001b[0;34m\u001b[0m\u001b[0;34m\u001b[0m\u001b[0m\n",
      "\u001b[0;31mValueError\u001b[0m: complex() arg is a malformed string",
      "\nDuring handling of the above exception, another exception occurred:\n",
      "\u001b[0;31mTypeError\u001b[0m                                 Traceback (most recent call last)",
      "\u001b[0;32m<ipython-input-89-7a339b64268b>\u001b[0m in \u001b[0;36m<module>\u001b[0;34m()\u001b[0m\n\u001b[0;32m----> 1\u001b[0;31m \u001b[0msns\u001b[0m\u001b[0;34m.\u001b[0m\u001b[0mregplot\u001b[0m\u001b[0;34m(\u001b[0m\u001b[0mx\u001b[0m\u001b[0;34m=\u001b[0m\u001b[0;34m'%received 18+'\u001b[0m\u001b[0;34m,\u001b[0m\u001b[0my\u001b[0m\u001b[0;34m=\u001b[0m\u001b[0;34m'n_killed_capita_2016'\u001b[0m\u001b[0;34m,\u001b[0m\u001b[0mdata\u001b[0m\u001b[0;34m=\u001b[0m\u001b[0maggregate_2016_df\u001b[0m\u001b[0;34m,\u001b[0m\u001b[0mfit_reg\u001b[0m\u001b[0;34m=\u001b[0m\u001b[0;32mTrue\u001b[0m\u001b[0;34m,\u001b[0m \u001b[0mline_kws\u001b[0m\u001b[0;34m=\u001b[0m\u001b[0;34m{\u001b[0m\u001b[0;34m\"color\"\u001b[0m\u001b[0;34m:\u001b[0m \u001b[0;34m\"red\"\u001b[0m\u001b[0;34m}\u001b[0m\u001b[0;34m)\u001b[0m\u001b[0;34m\u001b[0m\u001b[0;34m\u001b[0m\u001b[0m\n\u001b[0m\u001b[1;32m      2\u001b[0m \u001b[0mplt\u001b[0m\u001b[0;34m.\u001b[0m\u001b[0mtitle\u001b[0m\u001b[0;34m(\u001b[0m\u001b[0;34m\"Treatment vs. Killings\"\u001b[0m\u001b[0;34m)\u001b[0m\u001b[0;34m\u001b[0m\u001b[0;34m\u001b[0m\u001b[0m\n\u001b[1;32m      3\u001b[0m \u001b[0mplt\u001b[0m\u001b[0;34m.\u001b[0m\u001b[0mxlabel\u001b[0m\u001b[0;34m(\u001b[0m\u001b[0;34m\"percentage of people who received mental health treatment\"\u001b[0m\u001b[0;34m)\u001b[0m\u001b[0;34m\u001b[0m\u001b[0;34m\u001b[0m\u001b[0m\n\u001b[1;32m      4\u001b[0m \u001b[0mplt\u001b[0m\u001b[0;34m.\u001b[0m\u001b[0mylabel\u001b[0m\u001b[0;34m(\u001b[0m\u001b[0;34m\"killings in a gun violence incident per capita\"\u001b[0m\u001b[0;34m)\u001b[0m\u001b[0;34m\u001b[0m\u001b[0;34m\u001b[0m\u001b[0m\n",
      "\u001b[0;32m/usr/local/lib/python3.6/dist-packages/seaborn/regression.py\u001b[0m in \u001b[0;36mregplot\u001b[0;34m(x, y, data, x_estimator, x_bins, x_ci, scatter, fit_reg, ci, n_boot, units, order, logistic, lowess, robust, logx, x_partial, y_partial, truncate, dropna, x_jitter, y_jitter, label, color, marker, scatter_kws, line_kws, ax)\u001b[0m\n\u001b[1;32m    787\u001b[0m     \u001b[0mscatter_kws\u001b[0m\u001b[0;34m[\u001b[0m\u001b[0;34m\"marker\"\u001b[0m\u001b[0;34m]\u001b[0m \u001b[0;34m=\u001b[0m \u001b[0mmarker\u001b[0m\u001b[0;34m\u001b[0m\u001b[0;34m\u001b[0m\u001b[0m\n\u001b[1;32m    788\u001b[0m     \u001b[0mline_kws\u001b[0m \u001b[0;34m=\u001b[0m \u001b[0;34m{\u001b[0m\u001b[0;34m}\u001b[0m \u001b[0;32mif\u001b[0m \u001b[0mline_kws\u001b[0m \u001b[0;32mis\u001b[0m \u001b[0;32mNone\u001b[0m \u001b[0;32melse\u001b[0m \u001b[0mcopy\u001b[0m\u001b[0;34m.\u001b[0m\u001b[0mcopy\u001b[0m\u001b[0;34m(\u001b[0m\u001b[0mline_kws\u001b[0m\u001b[0;34m)\u001b[0m\u001b[0;34m\u001b[0m\u001b[0;34m\u001b[0m\u001b[0m\n\u001b[0;32m--> 789\u001b[0;31m     \u001b[0mplotter\u001b[0m\u001b[0;34m.\u001b[0m\u001b[0mplot\u001b[0m\u001b[0;34m(\u001b[0m\u001b[0max\u001b[0m\u001b[0;34m,\u001b[0m \u001b[0mscatter_kws\u001b[0m\u001b[0;34m,\u001b[0m \u001b[0mline_kws\u001b[0m\u001b[0;34m)\u001b[0m\u001b[0;34m\u001b[0m\u001b[0;34m\u001b[0m\u001b[0m\n\u001b[0m\u001b[1;32m    790\u001b[0m     \u001b[0;32mreturn\u001b[0m \u001b[0max\u001b[0m\u001b[0;34m\u001b[0m\u001b[0;34m\u001b[0m\u001b[0m\n\u001b[1;32m    791\u001b[0m \u001b[0;34m\u001b[0m\u001b[0m\n",
      "\u001b[0;32m/usr/local/lib/python3.6/dist-packages/seaborn/regression.py\u001b[0m in \u001b[0;36mplot\u001b[0;34m(self, ax, scatter_kws, line_kws)\u001b[0m\n\u001b[1;32m    325\u001b[0m         \u001b[0;31m# Use the current color cycle state as a default\u001b[0m\u001b[0;34m\u001b[0m\u001b[0;34m\u001b[0m\u001b[0;34m\u001b[0m\u001b[0m\n\u001b[1;32m    326\u001b[0m         \u001b[0;32mif\u001b[0m \u001b[0mself\u001b[0m\u001b[0;34m.\u001b[0m\u001b[0mcolor\u001b[0m \u001b[0;32mis\u001b[0m \u001b[0;32mNone\u001b[0m\u001b[0;34m:\u001b[0m\u001b[0;34m\u001b[0m\u001b[0;34m\u001b[0m\u001b[0m\n\u001b[0;32m--> 327\u001b[0;31m             \u001b[0mlines\u001b[0m\u001b[0;34m,\u001b[0m \u001b[0;34m=\u001b[0m \u001b[0mplt\u001b[0m\u001b[0;34m.\u001b[0m\u001b[0mplot\u001b[0m\u001b[0;34m(\u001b[0m\u001b[0mself\u001b[0m\u001b[0;34m.\u001b[0m\u001b[0mx\u001b[0m\u001b[0;34m.\u001b[0m\u001b[0mmean\u001b[0m\u001b[0;34m(\u001b[0m\u001b[0;34m)\u001b[0m\u001b[0;34m,\u001b[0m \u001b[0mself\u001b[0m\u001b[0;34m.\u001b[0m\u001b[0my\u001b[0m\u001b[0;34m.\u001b[0m\u001b[0mmean\u001b[0m\u001b[0;34m(\u001b[0m\u001b[0;34m)\u001b[0m\u001b[0;34m)\u001b[0m\u001b[0;34m\u001b[0m\u001b[0;34m\u001b[0m\u001b[0m\n\u001b[0m\u001b[1;32m    328\u001b[0m             \u001b[0mcolor\u001b[0m \u001b[0;34m=\u001b[0m \u001b[0mlines\u001b[0m\u001b[0;34m.\u001b[0m\u001b[0mget_color\u001b[0m\u001b[0;34m(\u001b[0m\u001b[0;34m)\u001b[0m\u001b[0;34m\u001b[0m\u001b[0;34m\u001b[0m\u001b[0m\n\u001b[1;32m    329\u001b[0m             \u001b[0mlines\u001b[0m\u001b[0;34m.\u001b[0m\u001b[0mremove\u001b[0m\u001b[0;34m(\u001b[0m\u001b[0;34m)\u001b[0m\u001b[0;34m\u001b[0m\u001b[0;34m\u001b[0m\u001b[0m\n",
      "\u001b[0;32m/usr/local/lib/python3.6/dist-packages/pandas/core/generic.py\u001b[0m in \u001b[0;36mstat_func\u001b[0;34m(self, axis, skipna, level, numeric_only, **kwargs)\u001b[0m\n\u001b[1;32m  10954\u001b[0m                                       skipna=skipna)\n\u001b[1;32m  10955\u001b[0m         return self._reduce(f, name, axis=axis, skipna=skipna,\n\u001b[0;32m> 10956\u001b[0;31m                             numeric_only=numeric_only)\n\u001b[0m\u001b[1;32m  10957\u001b[0m \u001b[0;34m\u001b[0m\u001b[0m\n\u001b[1;32m  10958\u001b[0m     \u001b[0;32mreturn\u001b[0m \u001b[0mset_function_name\u001b[0m\u001b[0;34m(\u001b[0m\u001b[0mstat_func\u001b[0m\u001b[0;34m,\u001b[0m \u001b[0mname\u001b[0m\u001b[0;34m,\u001b[0m \u001b[0mcls\u001b[0m\u001b[0;34m)\u001b[0m\u001b[0;34m\u001b[0m\u001b[0;34m\u001b[0m\u001b[0m\n",
      "\u001b[0;32m/usr/local/lib/python3.6/dist-packages/pandas/core/series.py\u001b[0m in \u001b[0;36m_reduce\u001b[0;34m(self, op, name, axis, skipna, numeric_only, filter_type, **kwds)\u001b[0m\n\u001b[1;32m   3628\u001b[0m                                           'numeric_only.'.format(name))\n\u001b[1;32m   3629\u001b[0m             \u001b[0;32mwith\u001b[0m \u001b[0mnp\u001b[0m\u001b[0;34m.\u001b[0m\u001b[0merrstate\u001b[0m\u001b[0;34m(\u001b[0m\u001b[0mall\u001b[0m\u001b[0;34m=\u001b[0m\u001b[0;34m'ignore'\u001b[0m\u001b[0;34m)\u001b[0m\u001b[0;34m:\u001b[0m\u001b[0;34m\u001b[0m\u001b[0;34m\u001b[0m\u001b[0m\n\u001b[0;32m-> 3630\u001b[0;31m                 \u001b[0;32mreturn\u001b[0m \u001b[0mop\u001b[0m\u001b[0;34m(\u001b[0m\u001b[0mdelegate\u001b[0m\u001b[0;34m,\u001b[0m \u001b[0mskipna\u001b[0m\u001b[0;34m=\u001b[0m\u001b[0mskipna\u001b[0m\u001b[0;34m,\u001b[0m \u001b[0;34m**\u001b[0m\u001b[0mkwds\u001b[0m\u001b[0;34m)\u001b[0m\u001b[0;34m\u001b[0m\u001b[0;34m\u001b[0m\u001b[0m\n\u001b[0m\u001b[1;32m   3631\u001b[0m \u001b[0;34m\u001b[0m\u001b[0m\n\u001b[1;32m   3632\u001b[0m         \u001b[0;31m# TODO(EA) dispatch to Index\u001b[0m\u001b[0;34m\u001b[0m\u001b[0;34m\u001b[0m\u001b[0;34m\u001b[0m\u001b[0m\n",
      "\u001b[0;32m/usr/local/lib/python3.6/dist-packages/pandas/core/nanops.py\u001b[0m in \u001b[0;36m_f\u001b[0;34m(*args, **kwargs)\u001b[0m\n\u001b[1;32m     74\u001b[0m             \u001b[0;32mtry\u001b[0m\u001b[0;34m:\u001b[0m\u001b[0;34m\u001b[0m\u001b[0;34m\u001b[0m\u001b[0m\n\u001b[1;32m     75\u001b[0m                 \u001b[0;32mwith\u001b[0m \u001b[0mnp\u001b[0m\u001b[0;34m.\u001b[0m\u001b[0merrstate\u001b[0m\u001b[0;34m(\u001b[0m\u001b[0minvalid\u001b[0m\u001b[0;34m=\u001b[0m\u001b[0;34m'ignore'\u001b[0m\u001b[0;34m)\u001b[0m\u001b[0;34m:\u001b[0m\u001b[0;34m\u001b[0m\u001b[0;34m\u001b[0m\u001b[0m\n\u001b[0;32m---> 76\u001b[0;31m                     \u001b[0;32mreturn\u001b[0m \u001b[0mf\u001b[0m\u001b[0;34m(\u001b[0m\u001b[0;34m*\u001b[0m\u001b[0margs\u001b[0m\u001b[0;34m,\u001b[0m \u001b[0;34m**\u001b[0m\u001b[0mkwargs\u001b[0m\u001b[0;34m)\u001b[0m\u001b[0;34m\u001b[0m\u001b[0;34m\u001b[0m\u001b[0m\n\u001b[0m\u001b[1;32m     77\u001b[0m             \u001b[0;32mexcept\u001b[0m \u001b[0mValueError\u001b[0m \u001b[0;32mas\u001b[0m \u001b[0me\u001b[0m\u001b[0;34m:\u001b[0m\u001b[0;34m\u001b[0m\u001b[0;34m\u001b[0m\u001b[0m\n\u001b[1;32m     78\u001b[0m                 \u001b[0;31m# we want to transform an object array\u001b[0m\u001b[0;34m\u001b[0m\u001b[0;34m\u001b[0m\u001b[0;34m\u001b[0m\u001b[0m\n",
      "\u001b[0;32m/usr/local/lib/python3.6/dist-packages/pandas/core/nanops.py\u001b[0m in \u001b[0;36mf\u001b[0;34m(values, axis, skipna, **kwds)\u001b[0m\n\u001b[1;32m    128\u001b[0m             \u001b[0;32mexcept\u001b[0m \u001b[0mException\u001b[0m\u001b[0;34m:\u001b[0m\u001b[0;34m\u001b[0m\u001b[0;34m\u001b[0m\u001b[0m\n\u001b[1;32m    129\u001b[0m                 \u001b[0;32mtry\u001b[0m\u001b[0;34m:\u001b[0m\u001b[0;34m\u001b[0m\u001b[0;34m\u001b[0m\u001b[0m\n\u001b[0;32m--> 130\u001b[0;31m                     \u001b[0mresult\u001b[0m \u001b[0;34m=\u001b[0m \u001b[0malt\u001b[0m\u001b[0;34m(\u001b[0m\u001b[0mvalues\u001b[0m\u001b[0;34m,\u001b[0m \u001b[0maxis\u001b[0m\u001b[0;34m=\u001b[0m\u001b[0maxis\u001b[0m\u001b[0;34m,\u001b[0m \u001b[0mskipna\u001b[0m\u001b[0;34m=\u001b[0m\u001b[0mskipna\u001b[0m\u001b[0;34m,\u001b[0m \u001b[0;34m**\u001b[0m\u001b[0mkwds\u001b[0m\u001b[0;34m)\u001b[0m\u001b[0;34m\u001b[0m\u001b[0;34m\u001b[0m\u001b[0m\n\u001b[0m\u001b[1;32m    131\u001b[0m                 \u001b[0;32mexcept\u001b[0m \u001b[0mValueError\u001b[0m \u001b[0;32mas\u001b[0m \u001b[0me\u001b[0m\u001b[0;34m:\u001b[0m\u001b[0;34m\u001b[0m\u001b[0;34m\u001b[0m\u001b[0m\n\u001b[1;32m    132\u001b[0m                     \u001b[0;31m# we want to transform an object array\u001b[0m\u001b[0;34m\u001b[0m\u001b[0;34m\u001b[0m\u001b[0;34m\u001b[0m\u001b[0m\n",
      "\u001b[0;32m/usr/local/lib/python3.6/dist-packages/pandas/core/nanops.py\u001b[0m in \u001b[0;36mnanmean\u001b[0;34m(values, axis, skipna, mask)\u001b[0m\n\u001b[1;32m    477\u001b[0m         \u001b[0mdtype_count\u001b[0m \u001b[0;34m=\u001b[0m \u001b[0mdtype\u001b[0m\u001b[0;34m\u001b[0m\u001b[0;34m\u001b[0m\u001b[0m\n\u001b[1;32m    478\u001b[0m     \u001b[0mcount\u001b[0m \u001b[0;34m=\u001b[0m \u001b[0m_get_counts\u001b[0m\u001b[0;34m(\u001b[0m\u001b[0mmask\u001b[0m\u001b[0;34m,\u001b[0m \u001b[0maxis\u001b[0m\u001b[0;34m,\u001b[0m \u001b[0mdtype\u001b[0m\u001b[0;34m=\u001b[0m\u001b[0mdtype_count\u001b[0m\u001b[0;34m)\u001b[0m\u001b[0;34m\u001b[0m\u001b[0;34m\u001b[0m\u001b[0m\n\u001b[0;32m--> 479\u001b[0;31m     \u001b[0mthe_sum\u001b[0m \u001b[0;34m=\u001b[0m \u001b[0m_ensure_numeric\u001b[0m\u001b[0;34m(\u001b[0m\u001b[0mvalues\u001b[0m\u001b[0;34m.\u001b[0m\u001b[0msum\u001b[0m\u001b[0;34m(\u001b[0m\u001b[0maxis\u001b[0m\u001b[0;34m,\u001b[0m \u001b[0mdtype\u001b[0m\u001b[0;34m=\u001b[0m\u001b[0mdtype_sum\u001b[0m\u001b[0;34m)\u001b[0m\u001b[0;34m)\u001b[0m\u001b[0;34m\u001b[0m\u001b[0;34m\u001b[0m\u001b[0m\n\u001b[0m\u001b[1;32m    480\u001b[0m \u001b[0;34m\u001b[0m\u001b[0m\n\u001b[1;32m    481\u001b[0m     \u001b[0;32mif\u001b[0m \u001b[0maxis\u001b[0m \u001b[0;32mis\u001b[0m \u001b[0;32mnot\u001b[0m \u001b[0;32mNone\u001b[0m \u001b[0;32mand\u001b[0m \u001b[0mgetattr\u001b[0m\u001b[0;34m(\u001b[0m\u001b[0mthe_sum\u001b[0m\u001b[0;34m,\u001b[0m \u001b[0;34m'ndim'\u001b[0m\u001b[0;34m,\u001b[0m \u001b[0;32mFalse\u001b[0m\u001b[0;34m)\u001b[0m\u001b[0;34m:\u001b[0m\u001b[0;34m\u001b[0m\u001b[0;34m\u001b[0m\u001b[0m\n",
      "\u001b[0;32m/usr/local/lib/python3.6/dist-packages/pandas/core/nanops.py\u001b[0m in \u001b[0;36m_ensure_numeric\u001b[0;34m(x)\u001b[0m\n\u001b[1;32m   1168\u001b[0m             \u001b[0;32mexcept\u001b[0m \u001b[0mException\u001b[0m\u001b[0;34m:\u001b[0m\u001b[0;34m\u001b[0m\u001b[0;34m\u001b[0m\u001b[0m\n\u001b[1;32m   1169\u001b[0m                 raise TypeError('Could not convert {value!s} to numeric'\n\u001b[0;32m-> 1170\u001b[0;31m                                 .format(value=x))\n\u001b[0m\u001b[1;32m   1171\u001b[0m     \u001b[0;32mreturn\u001b[0m \u001b[0mx\u001b[0m\u001b[0;34m\u001b[0m\u001b[0;34m\u001b[0m\u001b[0m\n\u001b[1;32m   1172\u001b[0m \u001b[0;34m\u001b[0m\u001b[0m\n",
      "\u001b[0;31mTypeError\u001b[0m: Could not convert 12.9813.5411.8715.5411.5915.8617.0515.0612.7512.039.0316.6413.6415.3616.7514.217.9413.3519.3713.6618.8616.1219.0811.9815.716.4815.9311.6320.7212.6712.9514.4716.0114.4816.515.1317.5216.3518.9614.4214.9515.110.9715.7220.3916.5416.3717.0116.0713.98 to numeric"
     ]
    },
    {
     "data": {
      "image/png": "[encoded data removed]",
      "text/plain": [
       "<Figure size 432x288 with 1 Axes>"
      ]
     },
     "metadata": {
      "tags": []
     },
     "output_type": "display_data"
    }
   ],
   "source": [
    "# create regression plot for number of people killed per capita in 2016 in relation to \n",
    "# the percent of treatment received\n",
    "sns.regplot(x='%received 18+',y='n_killed_capita_2016',data=aggregate_2016_df,fit_reg=True, line_kws={\"color\": \"red\"}) \n",
    "plt.title(\"Treatment vs. Killings\")\n",
    "plt.xlabel(\"percentage of people who received mental health treatment\")\n",
    "plt.ylabel(\"killings in a gun violence incident per capita\")"
   ]
  },
  {
   "cell_type": "markdown",
   "metadata": {
    "colab_type": "text",
    "id": "-7whYYHPii1J"
   },
   "source": [
    "This regression plot suggests that as the percentage of people receiving mental health treatment increases, the number of killings in a gun-related incident decreases. "
   ]
  },
  {
   "cell_type": "markdown",
   "metadata": {
    "colab_type": "text",
    "id": "JfGGpfU0Zltx"
   },
   "source": [
    "## Analysis for Distance and Number of Gun Incidents per Capita "
   ]
  },
  {
   "cell_type": "markdown",
   "metadata": {
    "colab_type": "text",
    "id": "PDDBEXk74LHI"
   },
   "source": [
    "**Normalization Plot**"
   ]
  },
  {
   "cell_type": "markdown",
   "metadata": {
    "colab_type": "text",
    "id": "X76P2c2a4PSB"
   },
   "source": [
    "Once again, we wanted to prove that our data is normalized."
   ]
  },
  {
   "cell_type": "code",
   "execution_count": 0,
   "metadata": {
    "colab": {
     "base_uri": "https://localhost:8080/",
     "height": 286
    },
    "colab_type": "code",
    "id": "fENJxY8riBl8",
    "outputId": "155d5e7c-6188-42a9-83dd-712eea783a3d"
   },
   "outputs": [
    {
     "name": "stdout",
     "output_type": "stream",
     "text": [
      "30.841463115994358 2.0084516321745028e-07\n"
     ]
    },
    {
     "data": {
      "image/png": "[encoded data removed]",
      "text/plain": [
       "<Figure size 432x288 with 1 Axes>"
      ]
     },
     "metadata": {
      "tags": []
     },
     "output_type": "display_data"
    }
   ],
   "source": [
    "# plot the incident data & check if it is normalized\n",
    "incident1 = aggregate_2016_df[\"n_incident_capita_2016\"].astype(float)\n",
    "gun_state_2016_df[\"n_incident_capita_2016\"] = incident1\n",
    "incident1.plot.hist()\n",
    "st_in, p_in = normaltest(incident1)\n",
    "print(st_in, p_in) # not normalized because p < 0.01 = reject null hypothesis"
   ]
  },
  {
   "cell_type": "code",
   "execution_count": 0,
   "metadata": {
    "colab": {
     "base_uri": "https://localhost:8080/",
     "height": 286
    },
    "colab_type": "code",
    "id": "qRd8OrqUc3sy",
    "outputId": "2d4eccd2-6350-410c-8685-a8a1903b3d61"
   },
   "outputs": [
    {
     "name": "stdout",
     "output_type": "stream",
     "text": [
      "41.245719832485726 1.1056196208949758e-09\n"
     ]
    },
    {
     "data": {
      "image/png": "[encoded data removed]",
      "text/plain": [
       "<Figure size 432x288 with 1 Axes>"
      ]
     },
     "metadata": {
      "tags": []
     },
     "output_type": "display_data"
    }
   ],
   "source": [
    "# check if it is normalized for distance\n",
    "\n",
    "d = gun_state_2016_df[\"distance\"].astype(float)\n",
    "d.plot.hist()\n",
    "st_d, p_d = normaltest(d)\n",
    "print(st_d, p_d)  # normalized because p > 0.01 = not reject null hypothesis"
   ]
  },
  {
   "cell_type": "markdown",
   "metadata": {
    "colab_type": "text",
    "id": "ej6gssPg4ddZ"
   },
   "source": [
    "**OLS Regression**"
   ]
  },
  {
   "cell_type": "code",
   "execution_count": 0,
   "metadata": {
    "colab": {
     "base_uri": "https://localhost:8080/",
     "height": 442
    },
    "colab_type": "code",
    "id": "Qm7K3XNkiBmB",
    "outputId": "0f346e6b-444d-4395-9311-649e1eb345f4"
   },
   "outputs": [
    {
     "name": "stdout",
     "output_type": "stream",
     "text": [
      "                              OLS Regression Results                              \n",
      "==================================================================================\n",
      "Dep. Variable:     n_incident_capita_2016   R-squared:                       0.000\n",
      "Model:                                OLS   Adj. R-squared:                 -0.020\n",
      "Method:                     Least Squares   F-statistic:                   0.01626\n",
      "Date:                    Thu, 13 Jun 2019   Prob (F-statistic):              0.899\n",
      "Time:                            01:56:11   Log-Likelihood:                 395.38\n",
      "No. Observations:                      50   AIC:                            -786.8\n",
      "Df Residuals:                          48   BIC:                            -782.9\n",
      "Df Model:                               1                                         \n",
      "Covariance Type:                nonrobust                                         \n",
      "==============================================================================\n",
      "                 coef    std err          t      P>|t|      [0.025      0.975]\n",
      "------------------------------------------------------------------------------\n",
      "Intercept      0.0002   2.22e-05      8.397      0.000       0.000       0.000\n",
      "distance    6.332e-07   4.96e-06      0.128      0.899   -9.35e-06    1.06e-05\n",
      "==============================================================================\n",
      "Omnibus:                       30.633   Durbin-Watson:                   2.035\n",
      "Prob(Omnibus):                  0.000   Jarque-Bera (JB):               72.398\n",
      "Skew:                           1.723   Prob(JB):                     1.90e-16\n",
      "Kurtosis:                       7.783   Cond. No.                         8.00\n",
      "==============================================================================\n",
      "\n",
      "Warnings:\n",
      "[1] Standard Errors assume that the covariance matrix of the errors is correctly specified.\n"
     ]
    }
   ],
   "source": [
    "# analysis\n",
    "outcome_2, predictors_2 = patsy.dmatrices(\"n_incident_capita_2016 ~ distance\", gun_state_2016_df)\n",
    "mod_2 = sm.OLS(outcome_2, predictors_2)\n",
    "res_2 = mod_2.fit()\n",
    "print(res_2.summary())"
   ]
  },
  {
   "cell_type": "markdown",
   "metadata": {
    "colab_type": "text",
    "id": "EKVSuJlVp8zc"
   },
   "source": [
    "This is an OLS Regression test for the the number of gun violence incidents per capita and the distance from that incident to the closest mental health facility. Because the p-value of this is larger than 0.05, we do not reject the null hypothesis and assume that there is no relationship between the location of the incident and the location of the closest mental health facility."
   ]
  },
  {
   "cell_type": "markdown",
   "metadata": {
    "colab_type": "text",
    "id": "bra3KiSk4CCo"
   },
   "source": [
    "**Regression Plot**"
   ]
  },
  {
   "cell_type": "code",
   "execution_count": 0,
   "metadata": {
    "colab": {
     "base_uri": "https://localhost:8080/",
     "height": 312
    },
    "colab_type": "code",
    "id": "Ckxz1qpziBl1",
    "outputId": "053d33a3-92e1-4dfa-8fda-f83a87170b3d"
   },
   "outputs": [
    {
     "data": {
      "text/plain": [
       "Text(0.5, 0, 'Minimum distance to a mental health facility')"
      ]
     },
     "execution_count": 84,
     "metadata": {
      "tags": []
     },
     "output_type": "execute_result"
    },
    {
     "data": {
      "image/png": "[encoded data removed]",
      "text/plain": [
       "<Figure size 432x288 with 1 Axes>"
      ]
     },
     "metadata": {
      "tags": []
     },
     "output_type": "display_data"
    }
   ],
   "source": [
    "gun_state_2016_df[\"n_incident_capita_2016\"] = gun_state_2016_df['n_incidents'] / aggregate_df[\"population 2016\"]\n",
    "gun_state_2016_df=gun_state_2016_df.apply(pd.to_numeric, errors='ignore')\n",
    "sns.regplot(x='distance',y='n_incident_capita_2016',data=gun_state_2016_df,fit_reg=True, line_kws={\"color\": \"red\"})\n",
    "\n",
    "plt.title(\"Distance vs. Incidents\")\n",
    "plt.ylabel('Number of gun-related incidents per capita')\n",
    "plt.xlabel(\"Minimum distance to a mental health facility\")\n"
   ]
  },
  {
   "cell_type": "markdown",
   "metadata": {
    "colab_type": "text",
    "id": "oURdOA1Z5QEh"
   },
   "source": [
    "We hypothesized that as the minimum distance between a gun-related incident and a menth facility decreased, the number of gun-related incidents would also decrease.\n",
    "\n",
    "This regression plot suggests that as the distance between a mental health facility and a gun violence incident increases, the number of gun violence incidents per capita in 2016 decreases, suggesting our hypothesis was not correct. \n",
    "\n",
    "However, because the distance data did not look normal, we will normalize it and see how that affects the correlation. "
   ]
  },
  {
   "cell_type": "markdown",
   "metadata": {
    "colab_type": "text",
    "id": "Vny47_HsAbz4"
   },
   "source": [
    "**Regressions with normalized distance**"
   ]
  },
  {
   "cell_type": "code",
   "execution_count": 0,
   "metadata": {
    "colab": {
     "base_uri": "https://localhost:8080/",
     "height": 286
    },
    "colab_type": "code",
    "id": "lopq_TBOAGwB",
    "outputId": "5792413c-8221-433d-8ca1-f8d0b741ef31"
   },
   "outputs": [
    {
     "name": "stdout",
     "output_type": "stream",
     "text": [
      "1.4172460680168297 0.49232164110221854\n"
     ]
    },
    {
     "data": {
      "image/png": "[encoded data removed]",
      "text/plain": [
       "<Figure size 432x288 with 1 Axes>"
      ]
     },
     "metadata": {
      "tags": []
     },
     "output_type": "display_data"
    }
   ],
   "source": [
    "# normalize distance data\n",
    "gun_state_2016_df[\"logd\"] = d.apply(lambda x: math.log(x, 10))\n",
    "logd = gun_state_2016_df[\"logd\"]\n",
    "logd.plot.hist()\n",
    "st_lgd, p_lgd = normaltest(logd)\n",
    "print(st_lgd, p_lgd)  # normalized because p > 0.01 = not reject null hypothesis"
   ]
  },
  {
   "cell_type": "code",
   "execution_count": 0,
   "metadata": {
    "colab": {
     "base_uri": "https://localhost:8080/",
     "height": 442
    },
    "colab_type": "code",
    "id": "dH5f294OApjJ",
    "outputId": "c3890323-dd57-4fe2-f42d-62fd9c5d3e9e"
   },
   "outputs": [
    {
     "name": "stdout",
     "output_type": "stream",
     "text": [
      "                              OLS Regression Results                              \n",
      "==================================================================================\n",
      "Dep. Variable:     n_incident_capita_2016   R-squared:                       0.061\n",
      "Model:                                OLS   Adj. R-squared:                  0.041\n",
      "Method:                     Least Squares   F-statistic:                     3.092\n",
      "Date:                    Thu, 13 Jun 2019   Prob (F-statistic):             0.0850\n",
      "Time:                            04:05:27   Log-Likelihood:                 303.79\n",
      "No. Observations:                      50   AIC:                            -603.6\n",
      "Df Residuals:                          48   BIC:                            -599.8\n",
      "Df Model:                               1                                         \n",
      "Covariance Type:                nonrobust                                         \n",
      "==============================================================================\n",
      "                 coef    std err          t      P>|t|      [0.025      0.975]\n",
      "------------------------------------------------------------------------------\n",
      "Intercept      0.0006      0.000      3.645      0.001       0.000       0.001\n",
      "logd          -0.0006      0.000     -1.758      0.085      -0.001    7.91e-05\n",
      "==============================================================================\n",
      "Omnibus:                       60.304   Durbin-Watson:                   2.283\n",
      "Prob(Omnibus):                  0.000   Jarque-Bera (JB):              351.604\n",
      "Skew:                           3.283   Prob(JB):                     4.47e-77\n",
      "Kurtosis:                      14.210   Cond. No.                         4.87\n",
      "==============================================================================\n",
      "\n",
      "Warnings:\n",
      "[1] Standard Errors assume that the covariance matrix of the errors is correctly specified.\n"
     ]
    }
   ],
   "source": [
    "# analysis\n",
    "outcome_3, predictors_3 = patsy.dmatrices(\"n_incident_capita_2016 ~ logd\", gun_state_2016_df)\n",
    "mod_3 = sm.OLS(outcome_3, predictors_3)\n",
    "res_3 = mod_3.fit()\n",
    "print(res_3.summary())"
   ]
  },
  {
   "cell_type": "markdown",
   "metadata": {
    "colab_type": "text",
    "id": "n1HfX20sA1Nq"
   },
   "source": [
    "This is an OLS Regession for number of gun-related incidents and minimum distance from a mental health facility (normalized). While the p-value is smaller than when the distance is not normalized, it is still not smaller than 0.05, so we are unable to reject our null hypothesis. This means that the relationship between the number of gun-related incidents and distance from a mental health facility is not statistically significant. "
   ]
  },
  {
   "cell_type": "code",
   "execution_count": 0,
   "metadata": {
    "colab": {
     "base_uri": "https://localhost:8080/",
     "height": 300
    },
    "colab_type": "code",
    "id": "6tJ7l32TV-fB",
    "outputId": "d2971691-6303-4b78-95c6-ce82d48b1362"
   },
   "outputs": [
    {
     "data": {
      "text/plain": [
       "<matplotlib.legend.Legend at 0x7f3c078bf828>"
      ]
     },
     "execution_count": 78,
     "metadata": {
      "tags": []
     },
     "output_type": "execute_result"
    },
    {
     "data": {
      "image/png": "[encoded data removed]",
      "text/plain": [
       "<Figure size 432x288 with 1 Axes>"
      ]
     },
     "metadata": {
      "tags": []
     },
     "output_type": "display_data"
    }
   ],
   "source": [
    "plt.scatter(gun_state_2016_df['distance'], gun_state_2016_df['n_incident_capita_2016'], alpha=0.3, label='Data', s=50, color='b')\n",
    "plt.ylim([0, 0.0005])\n",
    "plt.yticks(np.arange(0, 0.0005, 0.0001))\n",
    "\n",
    "xs = np.arange(gun_state_2016_df['distance'].min(), gun_state_2016_df['distance'].max())\n",
    "ys = 6.332e-07 * xs + 0.0002\n",
    "plt.plot(xs, ys, '--k', linewidth=3, label='Model')\n",
    "\n",
    "plt.xlabel('Log distance')\n",
    "plt.ylabel('Number of incident per capita in 2016')\n",
    "plt.legend()"
   ]
  },
  {
   "cell_type": "markdown",
   "metadata": {
    "colab_type": "text",
    "id": "_xLTaSepAptM"
   },
   "source": [
    "# Ethics & Privacy"
   ]
  },
  {
   "cell_type": "markdown",
   "metadata": {
    "colab_type": "text",
    "id": "0hG-WKqcAptM"
   },
   "source": [
    "When considering the question of the relationship between gun violence and the availability of mental health resources, we are aware that this may pose some ethical dilemmas that we will need to keep in mind. Firstly, the privacy of the victims of these gun-related fatalities and injuries would need to be protected. In terms of data, we plan to use data scraped from the gun violence archive, which is a non-profit organization that serves to provide data about gun-related violence and incidents in the US. This source does not include any private information about the victims and/or their families. In terms of biases, our dataset includes incidents where there are 0 fatalities, meaning there was still an act of violence that occurred even though no one died. In addition, our dataset also includes records of suicides with a gun, which can also lead to the immediate assumption that the suicide victim suffered from mental illness. Therefore, we further analyzed the suicide data to hopefully better understand these circumstances. \n",
    "\n",
    "\n",
    "Additionally, we understand that dealing with claims about mental health is always a complex issue. We do not attempt to insinuate that all individuals that suffer from mental illnesses will instigate gun violence, or that all perpetrators of gun violence are affected by mental health. We are looking at mental health resources and gun violence incidents to better understand the relationship between these two situations, in order to better understand trends and find solutions for the future"
   ]
  },
  {
   "cell_type": "markdown",
   "metadata": {
    "colab_type": "text",
    "id": "HpfUznW2AptN"
   },
   "source": [
    "# Conclusion & Discussion"
   ]
  },
  {
   "cell_type": "markdown",
   "metadata": {
    "colab_type": "text",
    "id": "0mWcQb9BAptO"
   },
   "source": [
    "Based on our findings, we can conclude that there is little correlation between the number of mental health occurences (both serious and any mental health illnesses) with the number of gun related incidents within a state. This means that our first hypothesis was incorrect, since we assumed that there would be a correlation between these two areas. Additionally, we can conclude that there is a moderate negative correlation between the number of mental health facilities per capita and the number of gun violence incidents, number of people killed, and number of people injured which means that our initial hypothesis was kind of correct. The correlation is not super strong so we cannot say conclusively that states with more mental health facilities have decreased gun violence rates. We also found that there is no relationship between number of incidents and distance to a mental health facility; this means that there is no correlation between the number of gun-related incidents and the average minimum distance to a mental health facility for each state. This means that our hypothesis was also wrong for this claim as well, we thought that there would be lower gun violence incidents in places that are in closer proximity to mental health facilities, but we could not find a statistically important result which means that this is probably not the case and there may be other factors at play.\n",
    "\n",
    "Since we hypothesized that states with more mental health facilities will have a decreased rate of gun violence, our process consisted of finding the distance between the gun violence incidents and the closest mental health facility, and most importantly, normalizing it so that it would be relevant per capita. Because we had to normalize the data, this shows that population may be a confounding varaible. For example, in larger metropolitan areas with larger populations, it means that there would be more mental health facilities, as well as more gun violence incidents. Also, a higher population in general means that there will probably be more mental health facilities available for that area, along with more mental health occurences, and even more gun violence incidents as well. So population is something that we have to also consider when drawing conclusions from our analyses. \n",
    "\n",
    "\n",
    "What is interesting about our findings is that while there was little correlation between mental health occurences and gun violence incidents, but there was a more significant relationship between number of people receiving treatement and a decrease in violent gun violence. So even though mental health occurences may not be correlated with gun violence, this goes to show how important mental health treatment may be in helping combat gun violence. However, it is important to note about our data: it does not necessarily mean that having more mental health facilities automatically results in lower gun violence rates. The problem is far more complex than just painting it in black and white, and while a portion of mass shooters do have mental health disorders, \"the one-third who did get help 'carried out an attack anyway,\" according to Grant Duwe. This suggests that mental health treatment may not be the most effective form of reducing gun violence. \n",
    "\n",
    "For future evaluations of gun violence instances, it may be more constructive in this discourse to compare each state's gun laws in relation to gun violence incidents. Additionally, in relation to mental health facilities, it would be helpful to analyze how these laws affect the accessibility of buying guns in the first place, which would probably provide more information for how we can combat the issue of gun violence in the United States."
   ]
  }
 ],
 "metadata": {
  "accelerator": "GPU",
  "colab": {
   "collapsed_sections": [],
   "name": "FinalProject.ipynb",
   "provenance": [],
   "version": "0.3.2"
  },
  "kernelspec": {
   "display_name": "Python 3",
   "language": "python",
   "name": "python3"
  },
  "language_info": {
   "codemirror_mode": {
    "name": "ipython",
    "version": 3
   },
   "file_extension": ".py",
   "mimetype": "text/x-python",
   "name": "python",
   "nbconvert_exporter": "python",
   "pygments_lexer": "ipython3",
   "version": "3.6.8"
  }
 },
 "nbformat": 4,
 "nbformat_minor": 1
}
