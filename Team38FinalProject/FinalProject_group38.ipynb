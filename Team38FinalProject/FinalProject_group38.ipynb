{
 "cells": [
  {
   "cell_type": "markdown",
   "metadata": {},
   "source": [
    "# Final Project\n",
    "Imported libraries. The dataset we're using is OSMI 2016 Mental Health Tech Survey."
   ]
  },
  {
   "cell_type": "markdown",
   "metadata": {},
   "source": [
    "## Names\n",
    "- A14996574 Caroline Hogan\n",
    "- A13572112 Adriana Ramirez\n",
    "- A13956816 Gabriela Gutierrez\n",
    "- A13613392 Abhiram Iyer\n",
    "- A14029279 Cang Le"
   ]
  },
  {
   "cell_type": "markdown",
   "metadata": {},
   "source": [
    "## Introduction and Background \n",
    "\n",
    "Many [tech entrepreneurs have realized that mental health](https://www.statnews.com/2018/07/20/tech-developers-tackle-mental-health/) is becoming a more relevant issue in the tech industry, as it’s a high-pressure environment and often unreasonable work hours negatively impact the health of many employees. As a result, many companies and startups are now focusing on addressing these problems, with new technologies like chatbots that help provide assistance to those who need it. However, as many have realized, a technological solution to solving this specific problem might be counterintuitive - forcing many to use apps or similar solutions to helping relieve anxiety might only spur greater agitation. Thus, while many startups are trying to conquer the “mental health space” with new ideas, not many attempts to understand the root causes and reasons for tech-related mental health issues. We hope to find and analyze some of these fundamental causes ourselves so we can draw meaningful conclusions ourselves.\n",
    "\n",
    "The dataset we are working with attempts to describe various employees’ reactions and attitudes towards mental health in the tech workplace. Specifically, each employee discusses how they believe their company prioritizes mental health, and the general attitude and environment in the workplace regarding mental health. The dataset covers “tangible” features that the employees responded to, like whether their employer provides mental health benefits or not (e.g. a concrete question without much room for subjectivity). The dataset also covers more subjective questions, like whether the employee would feel comfortable raising mental health related topics with their manager or supervisor. We can correlate the objective and subjective viewpoints provided by each employee’s survey, and then be able to extrapolate some specific trends.\n",
    "\n",
    "Our greater inquiry we are attempting to investigate is how certain qualities of tech companies affect the mental health of their employees. Due to largely subjective nature of the data on this topic, we’ve decided to center our data analysis around two quantitative variables of each response, their company size (number of employees) and the participant's age. This will allow us to find correlation between our other variables, which are largely yes or no questions, and objective variables with more variation. These two variables may also shed light on how size and bureaucracy affects employee well-being and how the industry experience is changing for the newest generation of tech employees.\n",
    "\n",
    "The dataset is procured courtesy of OSMI (Open Source Mental Illness), and their datasets can be found here: https://osmihelp.org/research. The organization attempts to study mental health in the tech workplace every year and is considered a pioneer in this field. Similar proposals and research have never attempted to collect data on the matter, but have instead tried to propose solutions to raise awareness about mental health. For example, [Prompt](https://mhprompt.org) is a project that attempts to raise awareness about mental health in the tech workplace specifically, and even tries to distribute resources/help to those who need it. Prompt also tries to organize public sessions and talks regarding mental health in the tech industry in order to destigmatize the topic. \n"
   ]
  },
  {
   "cell_type": "markdown",
   "metadata": {},
   "source": [
    "## Research Question\n",
    "\n",
    "Is there a correlation between the size of tech companies and the number of their employees who face mental health issues? How is their experience in their workplace correlated with employee beliefs on how mental health is addressed in their workplace?"
   ]
  },
  {
   "cell_type": "markdown",
   "metadata": {},
   "source": [
    "## Hypothesis\n",
    "\n",
    "We expect that their will be a negative correlation between company size and representations of good mental health. Such representations may include low occurrence of mental illness, high awareness of available mental health resources, and beliefs that mental illness will not inhibit their professional growth.\n"
   ]
  },
  {
   "cell_type": "markdown",
   "metadata": {},
   "source": [
    "## Dataset(s)\n",
    "The [2016 OSMI Mental Health in Tech survey](https://www.kaggle.com/osmi/mental-health-in-tech-2016) contains responses from 1,580 individuals. It has 60 variables, which are a mix of quantitative (i.e. age, location, company size) and qualitative (i.e. attitudes/beliefs about their employer/workplace) questions related to their personal history and experience in their workplace. The main variables we’ll be working with are company size and age as they relate to the yes-or-no evaluations such as “Have you heard of or observed negative consequences for co-workers who have been open about mental health issues in your workplace?” and “Have you been diagnosed with a mental health condition by a medical professional?”."
   ]
  },
  {
   "cell_type": "code",
   "execution_count": 1,
   "metadata": {},
   "outputs": [],
   "source": [
    "import pandas as pd\n",
    "import numpy as np\n",
    "import matplotlib.pyplot as plt\n",
    "import seaborn as sns\n",
    "import statistics as stats\n",
    "import matplotlib.patches as mpatches"
   ]
  },
  {
   "cell_type": "code",
   "execution_count": 2,
   "metadata": {},
   "outputs": [],
   "source": [
    "# Data wrangling\n",
    "\n",
    "data = pd.read_csv('2016_survey.csv')"
   ]
  },
  {
   "cell_type": "markdown",
   "metadata": {},
   "source": [
    "## Data Cleaning\n",
    "There is a function to turn yes/no into numerical values. We renamed the columns into much shorter names and removing columns with data that we don't want to include. We removed all survey entries that are not tech employees, people outside of the age range of 18 or 70, and creating a categorical columns of age ranges in age ranges of 7."
   ]
  },
  {
   "cell_type": "code",
   "execution_count": 3,
   "metadata": {},
   "outputs": [],
   "source": [
    "def convert(label):\n",
    "# YOUR CODE HERE\n",
    "    if label == 'Yes':\n",
    "        return 1.0\n",
    "    elif label == 'No':\n",
    "        return -1.0\n",
    "    else:\n",
    "        return 0.0"
   ]
  },
  {
   "cell_type": "code",
   "execution_count": 4,
   "metadata": {
    "scrolled": false
   },
   "outputs": [],
   "source": [
    "# DATA CLEANING\n",
    "\n",
    "# rename important columns\n",
    "data = data.rename(columns={\"How many employees does your company or organization have?\" : \"company_size\",\n",
    "                     \"Is your employer primarily a tech company/organization?\" : \"is_tech\",\n",
    "                     \"Does your employer provide mental health benefits as part of healthcare coverage?\" : \"mental_health_care\",\n",
    "                     \"Has your employer ever formally discussed mental health (for example, as part of a wellness campaign or other official communication)?\" : \"formal_discussion\",\n",
    "                     \"Does your employer offer resources to learn more about mental health concerns and options for seeking help?\" : \"resources_provided\",\n",
    "                     \"Is your anonymity protected if you choose to take advantage of mental health or substance abuse treatment resources provided by your employer?\" : \"anonymity_protected\",\n",
    "                     \"If a mental health issue prompted you to request a medical leave from work, asking for that leave would be:\" : \"ease_of_leave\",\n",
    "                     \"Do you think that discussing a mental health disorder with your employer would have negative consequences?\" : \"mental_discussion_negative\",\n",
    "                     \"Do you think that discussing a physical health issue with your employer would have negative consequences?\" : \"physical_discussion_negative\",\n",
    "                     \"Would you feel comfortable discussing a mental health disorder with your coworkers?\" : \"coworker_safe_space\",\n",
    "                     \"Would you feel comfortable discussing a mental health disorder with your direct supervisor(s)?\" : \"boss_safe_space\",\n",
    "                     \"Do you feel that your employer takes mental health as seriously as physical health?\" : \"mental_as_serious_as_physical\",\n",
    "                     \"Have you heard of or observed negative consequences for co-workers who have been open about mental health issues in your workplace?\" : \"observed_negative_consequences\",\n",
    "                     \"Would you bring up a mental health issue with a potential employer in an interview?\" : \"discuss_mental_health_interview\",\n",
    "                     \"Why or why not?.1\" : \"interview_why\",\n",
    "                     \"Do you feel that being identified as a person with a mental health issue would hurt your career?\" : \"mental_health_hurt_career\",\n",
    "                     \"Do you think that team members/co-workers would view you more negatively if they knew you suffered from a mental health issue?\" : \"negative_coworker_perception\",\n",
    "                     \"How willing would you be to share with friends and family that you have a mental illness?\" : \"family_openess\",\n",
    "                     \"Have you observed or experienced an unsupportive or badly handled response to a mental health issue in your current or previous workplace?\" : \"bad_environment\",\n",
    "                     \"Do you have a family history of mental illness?\" : \"family_history\",\n",
    "                     \"Have you had a mental health disorder in the past?\" : \"mental_disorder_past\",\n",
    "                     \"Have you been diagnosed with a mental health condition by a medical professional?\" : \"mental_disorder\",\n",
    "                     \"If so, what condition(s) were you diagnosed with?\" : \"condition\",\n",
    "                     \"Have you ever sought treatment for a mental health issue from a mental health professional?\" : \"sought_treatment\",\n",
    "                     \"If you have a mental health issue, do you feel that it interferes with your work when being treated effectively?\" : \"interferes_when_treated\",\n",
    "                     \"If you have a mental health issue, do you feel that it interferes with your work when NOT being treated effectively?\" : \"interferes_when_not_treated\",\n",
    "                     \"What is your age?\" : \"age\",\n",
    "                     \"What is your gender?\" : \"gender\",\n",
    "                     \"What country do you work in?\" : \"working_country\",\n",
    "                     \"Do you work remotely?\" : \"work_remotely\"}, inplace=False)\n",
    "\n",
    "# delete unimportant columns\n",
    "data = data.drop(data.columns.difference([\"company_size\", \"is_tech\", \"mental_health_care\", \n",
    "                                        \"formal_discussion\", \"resources_provided\", \"anonymity_protected\", \n",
    "                                        \"ease_of_leave\", \"mental_discussion_negative\", \"physical_discussion_negative\",\n",
    "                                        \"coworker_safe_space\", \"boss_safe_space\", \"mental_as_serious_as_physical\",\n",
    "                                        \"observed_negative_consequences\", \"discuss_mental_health_interview\",\n",
    "                                        \"interview_why\", \"mental_health_hurt_career\", \"negative_coworker_perception\",\n",
    "                                        \"family_openess\", \"bad_environment\", \"family_history\", \"mental_disorder_past\", \n",
    "                                        \"mental_disorder\", \"condition\", \"sought_treatment\", \"interferes_when_treated\",\n",
    "                                        \"interferes_when_not_treated\", \"age\", \"gender\", \"working_country\", \n",
    "                                        \"work_remotely\"]), 1)\n",
    "\n",
    "# only look at tech companies and valid ages\n",
    "data = data[data.is_tech == 1]\n",
    "data = data[data['age'] > 18]\n",
    "data = data[data['age'] < 70]\n",
    "data['age_range'] = pd.cut(data['age'], [18, 25, 32, 39, 46, 53, 60, 67])"
   ]
  },
  {
   "cell_type": "markdown",
   "metadata": {},
   "source": [
    "We now look at the dataset and what the data set looks like, whether variables are categorical, boolean or numerical. Most of this dataset seems to be categorical and boolean which would make predictive variables harder."
   ]
  },
  {
   "cell_type": "code",
   "execution_count": 5,
   "metadata": {
    "scrolled": false
   },
   "outputs": [
    {
     "data": {
      "text/html": [
       "<div>\n",
       "<style scoped>\n",
       "    .dataframe tbody tr th:only-of-type {\n",
       "        vertical-align: middle;\n",
       "    }\n",
       "\n",
       "    .dataframe tbody tr th {\n",
       "        vertical-align: top;\n",
       "    }\n",
       "\n",
       "    .dataframe thead th {\n",
       "        text-align: right;\n",
       "    }\n",
       "</style>\n",
       "<table border=\"1\" class=\"dataframe\">\n",
       "  <thead>\n",
       "    <tr style=\"text-align: right;\">\n",
       "      <th></th>\n",
       "      <th>company_size</th>\n",
       "      <th>is_tech</th>\n",
       "      <th>mental_health_care</th>\n",
       "      <th>formal_discussion</th>\n",
       "      <th>resources_provided</th>\n",
       "      <th>anonymity_protected</th>\n",
       "      <th>ease_of_leave</th>\n",
       "      <th>mental_discussion_negative</th>\n",
       "      <th>physical_discussion_negative</th>\n",
       "      <th>coworker_safe_space</th>\n",
       "      <th>...</th>\n",
       "      <th>mental_disorder</th>\n",
       "      <th>condition</th>\n",
       "      <th>sought_treatment</th>\n",
       "      <th>interferes_when_treated</th>\n",
       "      <th>interferes_when_not_treated</th>\n",
       "      <th>age</th>\n",
       "      <th>gender</th>\n",
       "      <th>working_country</th>\n",
       "      <th>work_remotely</th>\n",
       "      <th>age_range</th>\n",
       "    </tr>\n",
       "  </thead>\n",
       "  <tbody>\n",
       "    <tr>\n",
       "      <th>0</th>\n",
       "      <td>26-100</td>\n",
       "      <td>1.0</td>\n",
       "      <td>Not eligible for coverage / N/A</td>\n",
       "      <td>No</td>\n",
       "      <td>No</td>\n",
       "      <td>I don't know</td>\n",
       "      <td>Very easy</td>\n",
       "      <td>No</td>\n",
       "      <td>No</td>\n",
       "      <td>Maybe</td>\n",
       "      <td>...</td>\n",
       "      <td>Yes</td>\n",
       "      <td>Anxiety Disorder (Generalized, Social, Phobia,...</td>\n",
       "      <td>0</td>\n",
       "      <td>Not applicable to me</td>\n",
       "      <td>Not applicable to me</td>\n",
       "      <td>39</td>\n",
       "      <td>Male</td>\n",
       "      <td>United Kingdom</td>\n",
       "      <td>Sometimes</td>\n",
       "      <td>(32, 39]</td>\n",
       "    </tr>\n",
       "    <tr>\n",
       "      <th>1</th>\n",
       "      <td>6-25</td>\n",
       "      <td>1.0</td>\n",
       "      <td>No</td>\n",
       "      <td>Yes</td>\n",
       "      <td>Yes</td>\n",
       "      <td>Yes</td>\n",
       "      <td>Somewhat easy</td>\n",
       "      <td>No</td>\n",
       "      <td>No</td>\n",
       "      <td>Maybe</td>\n",
       "      <td>...</td>\n",
       "      <td>Yes</td>\n",
       "      <td>Anxiety Disorder (Generalized, Social, Phobia,...</td>\n",
       "      <td>1</td>\n",
       "      <td>Rarely</td>\n",
       "      <td>Sometimes</td>\n",
       "      <td>29</td>\n",
       "      <td>male</td>\n",
       "      <td>United States of America</td>\n",
       "      <td>Never</td>\n",
       "      <td>(25, 32]</td>\n",
       "    </tr>\n",
       "    <tr>\n",
       "      <th>2</th>\n",
       "      <td>6-25</td>\n",
       "      <td>1.0</td>\n",
       "      <td>No</td>\n",
       "      <td>No</td>\n",
       "      <td>No</td>\n",
       "      <td>I don't know</td>\n",
       "      <td>Neither easy nor difficult</td>\n",
       "      <td>Maybe</td>\n",
       "      <td>No</td>\n",
       "      <td>Maybe</td>\n",
       "      <td>...</td>\n",
       "      <td>No</td>\n",
       "      <td>NaN</td>\n",
       "      <td>1</td>\n",
       "      <td>Not applicable to me</td>\n",
       "      <td>Not applicable to me</td>\n",
       "      <td>38</td>\n",
       "      <td>Male</td>\n",
       "      <td>United Kingdom</td>\n",
       "      <td>Always</td>\n",
       "      <td>(32, 39]</td>\n",
       "    </tr>\n",
       "  </tbody>\n",
       "</table>\n",
       "<p>3 rows × 31 columns</p>\n",
       "</div>"
      ],
      "text/plain": [
       "  company_size  is_tech               mental_health_care formal_discussion  \\\n",
       "0       26-100      1.0  Not eligible for coverage / N/A                No   \n",
       "1         6-25      1.0                               No               Yes   \n",
       "2         6-25      1.0                               No                No   \n",
       "\n",
       "  resources_provided anonymity_protected               ease_of_leave  \\\n",
       "0                 No        I don't know                   Very easy   \n",
       "1                Yes                 Yes               Somewhat easy   \n",
       "2                 No        I don't know  Neither easy nor difficult   \n",
       "\n",
       "  mental_discussion_negative physical_discussion_negative coworker_safe_space  \\\n",
       "0                         No                           No               Maybe   \n",
       "1                         No                           No               Maybe   \n",
       "2                      Maybe                           No               Maybe   \n",
       "\n",
       "     ...    mental_disorder  \\\n",
       "0    ...                Yes   \n",
       "1    ...                Yes   \n",
       "2    ...                 No   \n",
       "\n",
       "                                           condition sought_treatment  \\\n",
       "0  Anxiety Disorder (Generalized, Social, Phobia,...                0   \n",
       "1  Anxiety Disorder (Generalized, Social, Phobia,...                1   \n",
       "2                                                NaN                1   \n",
       "\n",
       "  interferes_when_treated interferes_when_not_treated age gender  \\\n",
       "0    Not applicable to me        Not applicable to me  39   Male   \n",
       "1                  Rarely                   Sometimes  29   male   \n",
       "2    Not applicable to me        Not applicable to me  38  Male    \n",
       "\n",
       "            working_country work_remotely age_range  \n",
       "0            United Kingdom     Sometimes  (32, 39]  \n",
       "1  United States of America         Never  (25, 32]  \n",
       "2            United Kingdom        Always  (32, 39]  \n",
       "\n",
       "[3 rows x 31 columns]"
      ]
     },
     "execution_count": 5,
     "metadata": {},
     "output_type": "execute_result"
    }
   ],
   "source": [
    "data.head(3)"
   ]
  },
  {
   "cell_type": "code",
   "execution_count": 6,
   "metadata": {
    "scrolled": false
   },
   "outputs": [
    {
     "data": {
      "text/plain": [
       "26-100            245\n",
       "100-500           206\n",
       "6-25              180\n",
       "More than 1000    133\n",
       "500-1000           62\n",
       "1-5                52\n",
       "Name: company_size, dtype: int64"
      ]
     },
     "execution_count": 6,
     "metadata": {},
     "output_type": "execute_result"
    }
   ],
   "source": [
    "data['company_size'].value_counts()"
   ]
  },
  {
   "cell_type": "code",
   "execution_count": 7,
   "metadata": {
    "scrolled": true
   },
   "outputs": [
    {
     "data": {
      "text/plain": [
       "Mood Disorder (Depression, Bipolar Disorder, etc)                                                                                                                                                                                             118\n",
       "Anxiety Disorder (Generalized, Social, Phobia, etc)|Mood Disorder (Depression, Bipolar Disorder, etc)                                                                                                                                          93\n",
       "Anxiety Disorder (Generalized, Social, Phobia, etc)                                                                                                                                                                                            36\n",
       "Mood Disorder (Depression, Bipolar Disorder, etc)|Attention Deficit Hyperactivity Disorder                                                                                                                                                     21\n",
       "Anxiety Disorder (Generalized, Social, Phobia, etc)|Mood Disorder (Depression, Bipolar Disorder, etc)|Attention Deficit Hyperactivity Disorder                                                                                                 17\n",
       "Attention Deficit Hyperactivity Disorder                                                                                                                                                                                                       13\n",
       "Anxiety Disorder (Generalized, Social, Phobia, etc)|Attention Deficit Hyperactivity Disorder                                                                                                                                                   12\n",
       "Anxiety Disorder (Generalized, Social, Phobia, etc)|Mood Disorder (Depression, Bipolar Disorder, etc)|Post-traumatic Stress Disorder                                                                                                           11\n",
       "Anxiety Disorder (Generalized, Social, Phobia, etc)|Mood Disorder (Depression, Bipolar Disorder, etc)|Obsessive-Compulsive Disorder                                                                                                            10\n",
       "Mood Disorder (Depression, Bipolar Disorder, etc)|Stress Response Syndromes                                                                                                                                                                     5\n",
       "Stress Response Syndromes                                                                                                                                                                                                                       5\n",
       "Anxiety Disorder (Generalized, Social, Phobia, etc)|Mood Disorder (Depression, Bipolar Disorder, etc)|Personality Disorder (Borderline, Antisocial, Paranoid, etc)                                                                              3\n",
       "Anxiety Disorder (Generalized, Social, Phobia, etc)|Obsessive-Compulsive Disorder                                                                                                                                                               3\n",
       "Psychotic Disorder (Schizophrenia, Schizoaffective, etc)                                                                                                                                                                                        3\n",
       "Anxiety Disorder (Generalized, Social, Phobia, etc)|Post-traumatic Stress Disorder                                                                                                                                                              3\n",
       "Anxiety Disorder (Generalized, Social, Phobia, etc)|Mood Disorder (Depression, Bipolar Disorder, etc)|Obsessive-Compulsive Disorder|Post-traumatic Stress Disorder                                                                              2\n",
       "Anxiety Disorder (Generalized, Social, Phobia, etc)|Stress Response Syndromes                                                                                                                                                                   2\n",
       "Post-traumatic Stress Disorder                                                                                                                                                                                                                  2\n",
       "Anxiety Disorder (Generalized, Social, Phobia, etc)|Mood Disorder (Depression, Bipolar Disorder, etc)|Stress Response Syndromes                                                                                                                 2\n",
       "Mood Disorder (Depression, Bipolar Disorder, etc)|Anxiety Disorder (Generalized, Social, Phobia, etc)                                                                                                                                           2\n",
       "Anxiety Disorder (Generalized, Social, Phobia, etc)|Mood Disorder (Depression, Bipolar Disorder, etc)|Personality Disorder (Borderline, Antisocial, Paranoid, etc)|Stress Response Syndromes                                                    2\n",
       "Mood Disorder (Depression, Bipolar Disorder, etc)|Attention Deficit Hyperactivity Disorder|Post-traumatic Stress Disorder                                                                                                                       2\n",
       "Anxiety Disorder (Generalized, Social, Phobia, etc)|Mood Disorder (Depression, Bipolar Disorder, etc)|Eating Disorder (Anorexia, Bulimia, etc)                                                                                                  2\n",
       "Mood Disorder (Depression, Bipolar Disorder, etc)|Personality Disorder (Borderline, Antisocial, Paranoid, etc)                                                                                                                                  2\n",
       "Substance Use Disorder                                                                                                                                                                                                                          2\n",
       "Anxiety Disorder (Generalized, Social, Phobia, etc)|Mood Disorder (Depression, Bipolar Disorder, etc)|Post-traumatic Stress Disorder|Dissociative Disorder                                                                                      1\n",
       "Autism - while not a \"mental illness\", still greatly affects how I handle anxiety                                                                                                                                                               1\n",
       "Attention Deficit Hyperactivity Disorder|PDD-NOS (see above)                                                                                                                                                                                    1\n",
       "Anxiety Disorder (Generalized, Social, Phobia, etc)|Mood Disorder (Depression, Bipolar Disorder, etc)|Personality Disorder (Borderline, Antisocial, Paranoid, etc)|Post-traumatic Stress Disorder                                               1\n",
       "Anxiety Disorder (Generalized, Social, Phobia, etc)|Mood Disorder (Depression, Bipolar Disorder, etc)|Dissociative Disorder                                                                                                                     1\n",
       "                                                                                                                                                                                                                                             ... \n",
       "Substance Use Disorder|Addictive Disorder                                                                                                                                                                                                       1\n",
       "Anxiety Disorder (Generalized, Social, Phobia, etc)|Attention Deficit Hyperactivity Disorder|Post-traumatic Stress Disorder                                                                                                                     1\n",
       "Anxiety Disorder (Generalized, Social, Phobia, etc)|Personality Disorder (Borderline, Antisocial, Paranoid, etc)                                                                                                                                1\n",
       "Eating Disorder (Anorexia, Bulimia, etc)|Attention Deficit Hyperactivity Disorder|Post-traumatic Stress Disorder|Substance Use Disorder|Addictive Disorder                                                                                      1\n",
       "Mood Disorder (Depression, Bipolar Disorder, etc)|Eating Disorder (Anorexia, Bulimia, etc)|Attention Deficit Hyperactivity Disorder|Personality Disorder (Borderline, Antisocial, Paranoid, etc)                                                1\n",
       "Post-traumatic Stress Disorder|Dissociative Disorder                                                                                                                                                                                            1\n",
       "Anxiety Disorder (Generalized, Social, Phobia, etc)|Mood Disorder (Depression, Bipolar Disorder, etc)|Eating Disorder (Anorexia, Bulimia, etc)|Personality Disorder (Borderline, Antisocial, Paranoid, etc)|Post-traumatic Stress Disorder      1\n",
       "Anxiety Disorder (Generalized, Social, Phobia, etc)|Mood Disorder (Depression, Bipolar Disorder, etc)|Attention Deficit Hyperactivity Disorder|Personality Disorder (Borderline, Antisocial, Paranoid, etc)                                     1\n",
       "Anxiety Disorder (Generalized, Social, Phobia, etc)|Substance Use Disorder                                                                                                                                                                      1\n",
       "Anxiety Disorder (Generalized, Social, Phobia, etc)|Mood Disorder (Depression, Bipolar Disorder, etc)|Attention Deficit Hyperactivity Disorder|Post-traumatic Stress Disorder                                                                   1\n",
       "Anxiety Disorder (Generalized, Social, Phobia, etc)|Eating Disorder (Anorexia, Bulimia, etc)|posttraumatic stress disourder                                                                                                                     1\n",
       "Anxiety Disorder (Generalized, Social, Phobia, etc)|Mood Disorder (Depression, Bipolar Disorder, etc)|Attention Deficit Hyperactivity Disorder|Obsessive-Compulsive Disorder                                                                    1\n",
       "Anxiety Disorder (Generalized, Social, Phobia, etc)|Mood Disorder (Depression, Bipolar Disorder, etc)|Substance Use Disorder|Addictive Disorder                                                                                                 1\n",
       "Mood Disorder (Depression, Bipolar Disorder, etc)|Attention Deficit Disorder                                                                                                                                                                    1\n",
       "Anxiety Disorder (Generalized, Social, Phobia, etc)|Eating Disorder (Anorexia, Bulimia, etc)                                                                                                                                                    1\n",
       "Attention Deficit Hyperactivity Disorder|Obsessive-Compulsive Disorder|Stress Response Syndromes                                                                                                                                                1\n",
       "Mood Disorder (Depression, Bipolar Disorder, etc)|Eating Disorder (Anorexia, Bulimia, etc)|Attention Deficit Hyperactivity Disorder|Personality Disorder (Borderline, Antisocial, Paranoid, etc)|Dissociative Disorder                          1\n",
       "Anxiety Disorder (Generalized, Social, Phobia, etc)|Mood Disorder (Depression, Bipolar Disorder, etc)|Obsessive-Compulsive Disorder|Post-traumatic Stress Disorder|Stress Response Syndromes                                                    1\n",
       "Anxiety Disorder (Generalized, Social, Phobia, etc)|Mood Disorder (Depression, Bipolar Disorder, etc)|Attention Deficit Hyperactivity Disorder|Obsessive-Compulsive Disorder|Post-traumatic Stress Disorder                                     1\n",
       "Mood Disorder (Depression, Bipolar Disorder, etc)|Eating Disorder (Anorexia, Bulimia, etc)|Obsessive-Compulsive Disorder                                                                                                                        1\n",
       "Mood Disorder (Depression, Bipolar Disorder, etc)|Eating Disorder (Anorexia, Bulimia, etc)                                                                                                                                                      1\n",
       "Schizotypal Personality Disorder                                                                                                                                                                                                                1\n",
       "Asperger Syndrome                                                                                                                                                                                                                               1\n",
       "Anxiety Disorder (Generalized, Social, Phobia, etc)|Mood Disorder (Depression, Bipolar Disorder, etc)|Personality Disorder (Borderline, Antisocial, Paranoid, etc)|Obsessive-Compulsive Disorder                                                1\n",
       "autism spectrum disorder                                                                                                                                                                                                                        1\n",
       "Anxiety Disorder (Generalized, Social, Phobia, etc)|Mood Disorder (Depression, Bipolar Disorder, etc)|Attention Deficit Hyperactivity Disorder|Post-traumatic Stress Disorder|Substance Use Disorder                                            1\n",
       "Seasonal Affective Disorder                                                                                                                                                                                                                     1\n",
       "Mood Disorder (Depression, Bipolar Disorder, etc)|Attention Deficit Hyperactivity Disorder|Obsessive-Compulsive Disorder                                                                                                                        1\n",
       "Mood Disorder (Depression, Bipolar Disorder, etc)|Addictive Disorder                                                                                                                                                                            1\n",
       "Anxiety Disorder (Generalized, Social, Phobia, etc)|Mood Disorder (Depression, Bipolar Disorder, etc)|Substance Use Disorder                                                                                                                    1\n",
       "Name: condition, Length: 81, dtype: int64"
      ]
     },
     "execution_count": 7,
     "metadata": {},
     "output_type": "execute_result"
    }
   ],
   "source": [
    "data['condition'].value_counts()"
   ]
  },
  {
   "cell_type": "code",
   "execution_count": 8,
   "metadata": {
    "scrolled": true
   },
   "outputs": [
    {
     "data": {
      "text/plain": [
       "Yes                                404\n",
       "I don't know                       240\n",
       "No                                 169\n",
       "Not eligible for coverage / N/A     65\n",
       "Name: mental_health_care, dtype: int64"
      ]
     },
     "execution_count": 8,
     "metadata": {},
     "output_type": "execute_result"
    }
   ],
   "source": [
    "data['mental_health_care'].value_counts()"
   ]
  },
  {
   "cell_type": "markdown",
   "metadata": {},
   "source": [
    "## Change the company size into fewer categorical options.\n",
    "We change the options for company size into 'Small, Medium and Large'. 'Small' companies are companies with sizes from 1-5 and 6-25. 'Medium' companies are companies with sizes from 26-100 and 100-500. 'Large' companies are companies with sizes from 500-1000 and More than 1000."
   ]
  },
  {
   "cell_type": "code",
   "execution_count": 9,
   "metadata": {},
   "outputs": [],
   "source": [
    "#Rename company size to small, medium and large.\n",
    "for comp in data['company_size']:\n",
    "    if comp == \"1-5\":\n",
    "        a = data.loc[data['company_size'] == comp, ['company_size']]\n",
    "        b = data.loc[data['company_size'] == comp, ['mental_disorder']]\n",
    "        a['company_size'] = 'Small'\n",
    "        \n",
    "    elif comp == \"6-25\":\n",
    "        c = data.loc[data['company_size'] == comp, ['company_size']]\n",
    "        d = data.loc[data['company_size'] == comp, ['mental_disorder']]\n",
    "        c['company_size'] = 'Small'\n",
    "        \n",
    "    elif comp == \"26-100\":\n",
    "        e = data.loc[data['company_size'] == comp, ['company_size']]\n",
    "        f = data.loc[data['company_size'] == comp, ['mental_disorder']]\n",
    "        e['company_size'] = 'Medium'\n",
    "        \n",
    "    elif comp == \"100-500\":\n",
    "        g = data.loc[data['company_size'] == comp, ['company_size']]\n",
    "        h = data.loc[data['company_size'] == comp, ['mental_disorder']]\n",
    "        g['company_size'] = 'Medium'\n",
    "        \n",
    "    elif comp == \"500-1000\":\n",
    "        i = data.loc[data['company_size'] == comp, ['company_size']]\n",
    "        j = data.loc[data['company_size'] == comp, ['mental_disorder']]\n",
    "        i['company_size'] = 'Large'\n",
    "        \n",
    "    elif comp == \"More than 1000\":\n",
    "        k = data.loc[data['company_size'] == comp, ['company_size']]\n",
    "        l = data.loc[data['company_size'] == comp, ['mental_disorder']]\n",
    "        k['company_size'] = 'Large'"
   ]
  },
  {
   "cell_type": "markdown",
   "metadata": {},
   "source": [
    "Creates a single dataframe with companies seperated to small, medium and large then move the dataframe into the original data frame and we check to see if it was added propery."
   ]
  },
  {
   "cell_type": "code",
   "execution_count": 10,
   "metadata": {},
   "outputs": [],
   "source": [
    "\n",
    "one = a.join(b)\n",
    "six = c.join(d)\n",
    "comp_sze = one.append(six)\n",
    "twtysix = e.join(f)\n",
    "comp_sze = comp_sze.append(twtysix)\n",
    "onehun = g.join(h)\n",
    "comp_sze = comp_sze.append(onehun)\n",
    "fvehun = i.join(j)\n",
    "comp_sze = comp_sze.append(fvehun)\n",
    "thou = k.join(l)\n",
    "comp_sze = comp_sze.append(thou)\n",
    "data['comp_sze'] = comp_sze['company_size']"
   ]
  },
  {
   "cell_type": "code",
   "execution_count": 11,
   "metadata": {},
   "outputs": [
    {
     "data": {
      "text/html": [
       "<div>\n",
       "<style scoped>\n",
       "    .dataframe tbody tr th:only-of-type {\n",
       "        vertical-align: middle;\n",
       "    }\n",
       "\n",
       "    .dataframe tbody tr th {\n",
       "        vertical-align: top;\n",
       "    }\n",
       "\n",
       "    .dataframe thead th {\n",
       "        text-align: right;\n",
       "    }\n",
       "</style>\n",
       "<table border=\"1\" class=\"dataframe\">\n",
       "  <thead>\n",
       "    <tr style=\"text-align: right;\">\n",
       "      <th></th>\n",
       "      <th>company_size</th>\n",
       "      <th>is_tech</th>\n",
       "      <th>mental_health_care</th>\n",
       "      <th>formal_discussion</th>\n",
       "      <th>resources_provided</th>\n",
       "      <th>anonymity_protected</th>\n",
       "      <th>ease_of_leave</th>\n",
       "      <th>mental_discussion_negative</th>\n",
       "      <th>physical_discussion_negative</th>\n",
       "      <th>coworker_safe_space</th>\n",
       "      <th>...</th>\n",
       "      <th>condition</th>\n",
       "      <th>sought_treatment</th>\n",
       "      <th>interferes_when_treated</th>\n",
       "      <th>interferes_when_not_treated</th>\n",
       "      <th>age</th>\n",
       "      <th>gender</th>\n",
       "      <th>working_country</th>\n",
       "      <th>work_remotely</th>\n",
       "      <th>age_range</th>\n",
       "      <th>comp_sze</th>\n",
       "    </tr>\n",
       "  </thead>\n",
       "  <tbody>\n",
       "    <tr>\n",
       "      <th>0</th>\n",
       "      <td>26-100</td>\n",
       "      <td>1.0</td>\n",
       "      <td>Not eligible for coverage / N/A</td>\n",
       "      <td>No</td>\n",
       "      <td>No</td>\n",
       "      <td>I don't know</td>\n",
       "      <td>Very easy</td>\n",
       "      <td>No</td>\n",
       "      <td>No</td>\n",
       "      <td>Maybe</td>\n",
       "      <td>...</td>\n",
       "      <td>Anxiety Disorder (Generalized, Social, Phobia,...</td>\n",
       "      <td>0</td>\n",
       "      <td>Not applicable to me</td>\n",
       "      <td>Not applicable to me</td>\n",
       "      <td>39</td>\n",
       "      <td>Male</td>\n",
       "      <td>United Kingdom</td>\n",
       "      <td>Sometimes</td>\n",
       "      <td>(32, 39]</td>\n",
       "      <td>Medium</td>\n",
       "    </tr>\n",
       "    <tr>\n",
       "      <th>1</th>\n",
       "      <td>6-25</td>\n",
       "      <td>1.0</td>\n",
       "      <td>No</td>\n",
       "      <td>Yes</td>\n",
       "      <td>Yes</td>\n",
       "      <td>Yes</td>\n",
       "      <td>Somewhat easy</td>\n",
       "      <td>No</td>\n",
       "      <td>No</td>\n",
       "      <td>Maybe</td>\n",
       "      <td>...</td>\n",
       "      <td>Anxiety Disorder (Generalized, Social, Phobia,...</td>\n",
       "      <td>1</td>\n",
       "      <td>Rarely</td>\n",
       "      <td>Sometimes</td>\n",
       "      <td>29</td>\n",
       "      <td>male</td>\n",
       "      <td>United States of America</td>\n",
       "      <td>Never</td>\n",
       "      <td>(25, 32]</td>\n",
       "      <td>Small</td>\n",
       "    </tr>\n",
       "    <tr>\n",
       "      <th>2</th>\n",
       "      <td>6-25</td>\n",
       "      <td>1.0</td>\n",
       "      <td>No</td>\n",
       "      <td>No</td>\n",
       "      <td>No</td>\n",
       "      <td>I don't know</td>\n",
       "      <td>Neither easy nor difficult</td>\n",
       "      <td>Maybe</td>\n",
       "      <td>No</td>\n",
       "      <td>Maybe</td>\n",
       "      <td>...</td>\n",
       "      <td>NaN</td>\n",
       "      <td>1</td>\n",
       "      <td>Not applicable to me</td>\n",
       "      <td>Not applicable to me</td>\n",
       "      <td>38</td>\n",
       "      <td>Male</td>\n",
       "      <td>United Kingdom</td>\n",
       "      <td>Always</td>\n",
       "      <td>(32, 39]</td>\n",
       "      <td>Small</td>\n",
       "    </tr>\n",
       "  </tbody>\n",
       "</table>\n",
       "<p>3 rows × 32 columns</p>\n",
       "</div>"
      ],
      "text/plain": [
       "  company_size  is_tech               mental_health_care formal_discussion  \\\n",
       "0       26-100      1.0  Not eligible for coverage / N/A                No   \n",
       "1         6-25      1.0                               No               Yes   \n",
       "2         6-25      1.0                               No                No   \n",
       "\n",
       "  resources_provided anonymity_protected               ease_of_leave  \\\n",
       "0                 No        I don't know                   Very easy   \n",
       "1                Yes                 Yes               Somewhat easy   \n",
       "2                 No        I don't know  Neither easy nor difficult   \n",
       "\n",
       "  mental_discussion_negative physical_discussion_negative coworker_safe_space  \\\n",
       "0                         No                           No               Maybe   \n",
       "1                         No                           No               Maybe   \n",
       "2                      Maybe                           No               Maybe   \n",
       "\n",
       "    ...                                             condition  \\\n",
       "0   ...     Anxiety Disorder (Generalized, Social, Phobia,...   \n",
       "1   ...     Anxiety Disorder (Generalized, Social, Phobia,...   \n",
       "2   ...                                                   NaN   \n",
       "\n",
       "  sought_treatment interferes_when_treated interferes_when_not_treated age  \\\n",
       "0                0    Not applicable to me        Not applicable to me  39   \n",
       "1                1                  Rarely                   Sometimes  29   \n",
       "2                1    Not applicable to me        Not applicable to me  38   \n",
       "\n",
       "  gender           working_country work_remotely age_range comp_sze  \n",
       "0   Male            United Kingdom     Sometimes  (32, 39]   Medium  \n",
       "1   male  United States of America         Never  (25, 32]    Small  \n",
       "2  Male             United Kingdom        Always  (32, 39]    Small  \n",
       "\n",
       "[3 rows x 32 columns]"
      ]
     },
     "execution_count": 11,
     "metadata": {},
     "output_type": "execute_result"
    }
   ],
   "source": [
    "data.head(3)"
   ]
  },
  {
   "cell_type": "markdown",
   "metadata": {},
   "source": [
    "Creates dummy variables to create three seperate dataframes by company size."
   ]
  },
  {
   "cell_type": "code",
   "execution_count": 12,
   "metadata": {},
   "outputs": [],
   "source": [
    "just_dummies = pd.get_dummies(data['comp_sze'])\n",
    "data['Small'] = just_dummies['Small']\n",
    "data['Medium'] = just_dummies['Medium']\n",
    "data['Large'] = just_dummies['Large']\n",
    "s_data = data[data['Small'] == 1]\n",
    "m_data = data[data['Medium'] == 1]\n",
    "l_data = data[data['Large'] == 1]"
   ]
  },
  {
   "cell_type": "markdown",
   "metadata": {},
   "source": [
    "# Data Analysis & Results"
   ]
  },
  {
   "cell_type": "markdown",
   "metadata": {},
   "source": [
    "### Company Size vs Diagnosed Mental Disorder\n",
    "People more likely to say they have been diagnosed with a mental health disorder if they work at larger companies. There is a trend shown below, mental disorder increase as company size increase. This could have many reasons such as:\n",
    "- larger companies don't give the time/resources to help individuals\n",
    "- don't improve the workplace for people who have mental health issues\n",
    "- working in a system that large may create mental illness from low sense of purpose"
   ]
  },
  {
   "cell_type": "code",
   "execution_count": 13,
   "metadata": {},
   "outputs": [
    {
     "data": {
      "text/plain": [
       "Text(0,0.5,'Count')"
      ]
     },
     "execution_count": 13,
     "metadata": {},
     "output_type": "execute_result"
    },
    {
     "data": {
      "image/png": "[encoded data removed]",
      "text/plain": [
       "<Figure size 432x288 with 1 Axes>"
      ]
     },
     "metadata": {},
     "output_type": "display_data"
    }
   ],
   "source": [
    "ax = sns.countplot(x = 'comp_sze', hue = 'mental_disorder', data = data, order = ['Small', 'Medium', 'Large'])\n",
    "plt.title('Company Size vs Diagnosed Mental Disorder')\n",
    "plt.xlabel('Company Size')\n",
    "plt.ylabel('Count')"
   ]
  },
  {
   "cell_type": "markdown",
   "metadata": {},
   "source": [
    "### Company Size vs Age Range\n",
    "The graph below shows that as that the average age increase as the company size increase."
   ]
  },
  {
   "cell_type": "code",
   "execution_count": 14,
   "metadata": {},
   "outputs": [
    {
     "data": {
      "text/plain": [
       "Text(0,0.5,'Count')"
      ]
     },
     "execution_count": 14,
     "metadata": {},
     "output_type": "execute_result"
    },
    {
     "data": {
      "image/png": "[encoded data removed]",
      "text/plain": [
       "<Figure size 432x288 with 1 Axes>"
      ]
     },
     "metadata": {},
     "output_type": "display_data"
    }
   ],
   "source": [
    "ax = sns.countplot(x = 'comp_sze', hue = 'age_range', data = data, order = ['Small', 'Medium', 'Large'])\n",
    "plt.title('Company Size vs Age')\n",
    "plt.xlabel('Company Size')\n",
    "plt.ylabel('Count')"
   ]
  },
  {
   "cell_type": "code",
   "execution_count": 15,
   "metadata": {},
   "outputs": [
    {
     "name": "stdout",
     "output_type": "stream",
     "text": [
      "Small company mean age is: 31.724137931034484\n",
      "Medium company mean age is: 32.69179600886918\n",
      "Large company mean age is: 34.11794871794872\n"
     ]
    }
   ],
   "source": [
    "print('Small company mean age is:', stats.mean(s_data['age']))\n",
    "print('Medium company mean age is:', stats.mean(m_data['age']))\n",
    "print('Large company mean age is:', stats.mean(l_data['age']))"
   ]
  },
  {
   "cell_type": "markdown",
   "metadata": {},
   "source": [
    "### Age Range vs Mental Disorder (all company sizes)\n",
    "There is a clear increase in the rate of mental disorder as employees age and a confounding variable may be due purely to people becoming more susceptible to mental illness as they age."
   ]
  },
  {
   "cell_type": "code",
   "execution_count": 16,
   "metadata": {},
   "outputs": [
    {
     "data": {
      "text/plain": [
       "Text(0,0.5,'Count')"
      ]
     },
     "execution_count": 16,
     "metadata": {},
     "output_type": "execute_result"
    },
    {
     "data": {
      "image/png": "[encoded data removed]",
      "text/plain": [
       "<Figure size 432x288 with 1 Axes>"
      ]
     },
     "metadata": {},
     "output_type": "display_data"
    }
   ],
   "source": [
    "ax = sns.countplot(x = 'age_range', hue = 'mental_disorder', data = data)\n",
    "plt.title('Age Range vs Mental Disorder')\n",
    "plt.xlabel('Company Size')\n",
    "plt.ylabel('Count')"
   ]
  },
  {
   "cell_type": "markdown",
   "metadata": {},
   "source": [
    "### Age Range vs Mental Disorder (small, medium and large company size)\n",
    "\n",
    "The trend persist through company size there is a consistent steady increase the older people are."
   ]
  },
  {
   "cell_type": "code",
   "execution_count": 17,
   "metadata": {},
   "outputs": [
    {
     "data": {
      "text/plain": [
       "Text(0,0.5,'Count')"
      ]
     },
     "execution_count": 17,
     "metadata": {},
     "output_type": "execute_result"
    },
    {
     "data": {
      "image/png": "[encoded data removed]",
      "text/plain": [
       "<Figure size 432x288 with 1 Axes>"
      ]
     },
     "metadata": {},
     "output_type": "display_data"
    }
   ],
   "source": [
    "ax = sns.countplot(x = 'age_range', hue = 'mental_disorder', data = s_data)\n",
    "plt.title('Age Range vs Mental Disorder (Small)')\n",
    "plt.xlabel('Age Range')\n",
    "plt.ylabel('Count')"
   ]
  },
  {
   "cell_type": "code",
   "execution_count": 18,
   "metadata": {},
   "outputs": [
    {
     "data": {
      "text/plain": [
       "Text(0,0.5,'Count')"
      ]
     },
     "execution_count": 18,
     "metadata": {},
     "output_type": "execute_result"
    },
    {
     "data": {
      "image/png": "[encoded data removed]",
      "text/plain": [
       "<Figure size 432x288 with 1 Axes>"
      ]
     },
     "metadata": {},
     "output_type": "display_data"
    }
   ],
   "source": [
    "ax = sns.countplot(x = 'age_range', hue = 'mental_disorder', data = m_data)\n",
    "plt.title('Age Range vs Mental Disorder (Medium)')\n",
    "plt.xlabel('Age Range')\n",
    "plt.ylabel('Count')"
   ]
  },
  {
   "cell_type": "code",
   "execution_count": 19,
   "metadata": {},
   "outputs": [
    {
     "data": {
      "text/plain": [
       "Text(0,0.5,'Count')"
      ]
     },
     "execution_count": 19,
     "metadata": {},
     "output_type": "execute_result"
    },
    {
     "data": {
      "image/png": "[encoded data removed]",
      "text/plain": [
       "<Figure size 432x288 with 1 Axes>"
      ]
     },
     "metadata": {},
     "output_type": "display_data"
    }
   ],
   "source": [
    "ax = sns.countplot(x = 'age_range', hue = 'mental_disorder', data = l_data, hue_order = ['Yes', 'No'])\n",
    "plt.title('Age Range vs Mental Disorder (Large)')\n",
    "plt.xlabel('Age Range')\n",
    "plt.ylabel('Count')"
   ]
  },
  {
   "cell_type": "markdown",
   "metadata": {},
   "source": [
    "### Mental Disorder vs Observed Negative Consequences\n",
    "People believe that their mental health with affect their career more likely if they have a mental illness. This may due to knowing the severity of mental disorders and self bias they have against themselves for being mentally ill."
   ]
  },
  {
   "cell_type": "code",
   "execution_count": 20,
   "metadata": {},
   "outputs": [
    {
     "data": {
      "text/plain": [
       "Text(0,0.5,'Count')"
      ]
     },
     "execution_count": 20,
     "metadata": {},
     "output_type": "execute_result"
    },
    {
     "data": {
      "image/png": "[encoded data removed]",
      "text/plain": [
       "<Figure size 432x288 with 1 Axes>"
      ]
     },
     "metadata": {},
     "output_type": "display_data"
    }
   ],
   "source": [
    "ax = sns.countplot(x = 'mental_disorder', hue = 'observed_negative_consequences',\n",
    "                   data = data, hue_order = ['Yes', 'No'], order = ['Yes', 'No'])\n",
    "plt.title('Mental Disorder vs Observed Negative Consequences')\n",
    "plt.xlabel('Mental Disorder')\n",
    "plt.ylabel('Count')"
   ]
  },
  {
   "cell_type": "markdown",
   "metadata": {},
   "source": [
    "## Observed Consequences vs Mental Disorder vs Believing Mental Health Will Hurt Career\n",
    "We will be seeing if observing negative consequences in the workplace effects the chance that the employee will believe their mental health with hurt their career. \n",
    "We lined this up with whether they have a diagnosed mental disorder. We saw a large positive correlation with having mental disorder and believing it will hurt their career stated previously. We also compared the company size between each other."
   ]
  },
  {
   "cell_type": "markdown",
   "metadata": {},
   "source": [
    "### Observed Negative Consequences At Work\n",
    "Graphs below will be the Mental Disorder vs Belief Mental Health Hurt Career for the employee that observed negative consequences at work."
   ]
  },
  {
   "cell_type": "code",
   "execution_count": 21,
   "metadata": {
    "scrolled": true
   },
   "outputs": [
    {
     "data": {
      "text/plain": [
       "Text(0,0.5,'Count')"
      ]
     },
     "execution_count": 21,
     "metadata": {},
     "output_type": "execute_result"
    },
    {
     "data": {
      "image/png": "[encoded data removed]",
      "text/plain": [
       "<Figure size 432x288 with 1 Axes>"
      ]
     },
     "metadata": {},
     "output_type": "display_data"
    }
   ],
   "source": [
    "# it is more likely that I think mental health will hurt my career\n",
    "\n",
    "col = [\"Yes\" if \"Yes\" in each else \"No\" for each in data['mental_health_hurt_career']]\n",
    "temp = data\n",
    "temp['mental_health_hurt_career'] = col\n",
    "\n",
    "temp = temp[temp['observed_negative_consequences'] == \"Yes\"]\n",
    "\n",
    "ax = sns.countplot(x = 'mental_disorder', hue = 'mental_health_hurt_career',\n",
    "                   data = temp, order = ['Yes', 'No']) \n",
    "plt.title('(OBS CONSEQUENCES: YES) Mental Disorder vs Mental Health Will Hurt Career')\n",
    "plt.xlabel('Mental Disorder')\n",
    "plt.ylabel('Count')"
   ]
  },
  {
   "cell_type": "markdown",
   "metadata": {},
   "source": [
    "For small companies with observed negative consequences, there is not much of a difference between believing that mental health will hurt their career. There is a large majority that mental health issues will hurt their career"
   ]
  },
  {
   "cell_type": "code",
   "execution_count": 22,
   "metadata": {},
   "outputs": [
    {
     "name": "stderr",
     "output_type": "stream",
     "text": [
      "C:\\Users\\Cang\\Anaconda3\\lib\\site-packages\\ipykernel_launcher.py:3: SettingWithCopyWarning: \n",
      "A value is trying to be set on a copy of a slice from a DataFrame.\n",
      "Try using .loc[row_indexer,col_indexer] = value instead\n",
      "\n",
      "See the caveats in the documentation: http://pandas.pydata.org/pandas-docs/stable/indexing.html#indexing-view-versus-copy\n",
      "  This is separate from the ipykernel package so we can avoid doing imports until\n"
     ]
    },
    {
     "data": {
      "text/plain": [
       "Text(0,0.5,'Count')"
      ]
     },
     "execution_count": 22,
     "metadata": {},
     "output_type": "execute_result"
    },
    {
     "data": {
      "image/png": "[encoded data removed]",
      "text/plain": [
       "<Figure size 432x288 with 1 Axes>"
      ]
     },
     "metadata": {},
     "output_type": "display_data"
    }
   ],
   "source": [
    "col = [\"Yes\" if \"Yes\" in each else \"No\" for each in s_data['mental_health_hurt_career']]\n",
    "temp = s_data\n",
    "temp['mental_health_hurt_career'] = col\n",
    "\n",
    "temp = temp[temp['observed_negative_consequences'] == \"Yes\"]\n",
    "\n",
    "ax = sns.countplot(x = 'mental_disorder', hue = 'mental_health_hurt_career',\n",
    "                   data = temp, hue_order = ['Yes', 'No'], order = ['Yes', 'No']) \n",
    "plt.title('(OBS CONSEQUENCES: YES) Mental Disorder vs Mental Health Will Hurt Career (sm)')\n",
    "plt.xlabel('Mental Disorder')\n",
    "plt.ylabel('Count')"
   ]
  },
  {
   "cell_type": "markdown",
   "metadata": {},
   "source": [
    "There is a large difference between the believe that mental health will hurt their career between the diagnosed and the mental disorder free. The belief that having mental health issues is extremely high compared for the diagnosed if there are observed negative consequences in the workplace."
   ]
  },
  {
   "cell_type": "code",
   "execution_count": 23,
   "metadata": {},
   "outputs": [
    {
     "name": "stderr",
     "output_type": "stream",
     "text": [
      "C:\\Users\\Cang\\Anaconda3\\lib\\site-packages\\ipykernel_launcher.py:3: SettingWithCopyWarning: \n",
      "A value is trying to be set on a copy of a slice from a DataFrame.\n",
      "Try using .loc[row_indexer,col_indexer] = value instead\n",
      "\n",
      "See the caveats in the documentation: http://pandas.pydata.org/pandas-docs/stable/indexing.html#indexing-view-versus-copy\n",
      "  This is separate from the ipykernel package so we can avoid doing imports until\n"
     ]
    },
    {
     "data": {
      "text/plain": [
       "Text(0,0.5,'Count')"
      ]
     },
     "execution_count": 23,
     "metadata": {},
     "output_type": "execute_result"
    },
    {
     "data": {
      "image/png": "[encoded data removed]",
      "text/plain": [
       "<Figure size 432x288 with 1 Axes>"
      ]
     },
     "metadata": {},
     "output_type": "display_data"
    }
   ],
   "source": [
    "col = [\"Yes\" if \"Yes\" in each else \"No\" for each in m_data['mental_health_hurt_career']]\n",
    "temp = m_data\n",
    "temp['mental_health_hurt_career'] = col\n",
    "\n",
    "temp = temp[temp['observed_negative_consequences'] == \"Yes\"]\n",
    "\n",
    "ax = sns.countplot(x = 'mental_disorder', hue = 'mental_health_hurt_career',\n",
    "                   data = temp, order = ['Yes', 'No'])\n",
    "plt.title('(OBS CONSEQUENCES: YES) Mental Disorder vs Mental Health Will Hurt Career (med)')\n",
    "plt.xlabel('Mental Disorder')\n",
    "plt.ylabel('Count')"
   ]
  },
  {
   "cell_type": "markdown",
   "metadata": {},
   "source": [
    "There is interesting change between medium and large companies. Large companies  has a much higher ratios for believieng mental health will hurt their career for those with no mental disorder."
   ]
  },
  {
   "cell_type": "code",
   "execution_count": 24,
   "metadata": {},
   "outputs": [
    {
     "name": "stderr",
     "output_type": "stream",
     "text": [
      "C:\\Users\\Cang\\Anaconda3\\lib\\site-packages\\ipykernel_launcher.py:3: SettingWithCopyWarning: \n",
      "A value is trying to be set on a copy of a slice from a DataFrame.\n",
      "Try using .loc[row_indexer,col_indexer] = value instead\n",
      "\n",
      "See the caveats in the documentation: http://pandas.pydata.org/pandas-docs/stable/indexing.html#indexing-view-versus-copy\n",
      "  This is separate from the ipykernel package so we can avoid doing imports until\n"
     ]
    },
    {
     "data": {
      "text/plain": [
       "Text(0,0.5,'Count')"
      ]
     },
     "execution_count": 24,
     "metadata": {},
     "output_type": "execute_result"
    },
    {
     "data": {
      "image/png": "[encoded data removed]",
      "text/plain": [
       "<Figure size 432x288 with 1 Axes>"
      ]
     },
     "metadata": {},
     "output_type": "display_data"
    }
   ],
   "source": [
    "col = [\"Yes\" if \"Yes\" in each else \"No\" for each in l_data['mental_health_hurt_career']]\n",
    "temp = l_data\n",
    "temp['mental_health_hurt_career'] = col\n",
    "\n",
    "temp = temp[temp['observed_negative_consequences'] == \"Yes\"]\n",
    "\n",
    "ax = sns.countplot(x = 'mental_disorder', hue = 'mental_health_hurt_career',\n",
    "                   data = temp, order = ['Yes', 'No'])\n",
    "plt.title('(OBS CONSEQUENCES: YES) Mental Disorder vs Mental Health Will Hurt Career (lg)')\n",
    "plt.xlabel('Mental Disorder')\n",
    "plt.ylabel('Count')"
   ]
  },
  {
   "cell_type": "markdown",
   "metadata": {},
   "source": [
    "### No Observed Negative Consequences At Work\n",
    "Graph below show Mental Disorder vs Belief Mental Health Will Hurt Career for those that did not see observe negative consequences."
   ]
  },
  {
   "cell_type": "markdown",
   "metadata": {},
   "source": [
    "For all company sizes, those without mental disorder believe that have one will hurt their career much less likely then those with mental disorders."
   ]
  },
  {
   "cell_type": "code",
   "execution_count": 25,
   "metadata": {},
   "outputs": [
    {
     "data": {
      "text/plain": [
       "Text(0,0.5,'Count')"
      ]
     },
     "execution_count": 25,
     "metadata": {},
     "output_type": "execute_result"
    },
    {
     "data": {
      "image/png": "[encoded data removed]",
      "text/plain": [
       "<Figure size 432x288 with 1 Axes>"
      ]
     },
     "metadata": {},
     "output_type": "display_data"
    }
   ],
   "source": [
    "# it is more likely that I think mental health will hurt my career\n",
    "\n",
    "col = [\"Yes\" if \"Yes\" in each else \"No\" for each in data['mental_health_hurt_career']]\n",
    "temp = data\n",
    "temp['mental_health_hurt_career'] = col\n",
    "\n",
    "temp = temp[temp['observed_negative_consequences'] == \"No\"]\n",
    "\n",
    "ax = sns.countplot(x = 'mental_disorder', hue = 'mental_health_hurt_career',\n",
    "                   hue_order = ['Yes', 'No'], data = temp) \n",
    "plt.title('(OBS CONSEQUENCES: NO) Mental Disorder vs Mental Health Will Hurt Career')\n",
    "plt.xlabel('Mental Disorder')\n",
    "plt.ylabel('Count')"
   ]
  },
  {
   "cell_type": "markdown",
   "metadata": {},
   "source": [
    "For small companies, the belief that mental health will hurt their career is much higher in ratio for those with mental illnesses."
   ]
  },
  {
   "cell_type": "code",
   "execution_count": 26,
   "metadata": {},
   "outputs": [
    {
     "name": "stderr",
     "output_type": "stream",
     "text": [
      "C:\\Users\\Cang\\Anaconda3\\lib\\site-packages\\ipykernel_launcher.py:3: SettingWithCopyWarning: \n",
      "A value is trying to be set on a copy of a slice from a DataFrame.\n",
      "Try using .loc[row_indexer,col_indexer] = value instead\n",
      "\n",
      "See the caveats in the documentation: http://pandas.pydata.org/pandas-docs/stable/indexing.html#indexing-view-versus-copy\n",
      "  This is separate from the ipykernel package so we can avoid doing imports until\n"
     ]
    },
    {
     "data": {
      "text/plain": [
       "Text(0,0.5,'Count')"
      ]
     },
     "execution_count": 26,
     "metadata": {},
     "output_type": "execute_result"
    },
    {
     "data": {
      "image/png": "[encoded data removed]",
      "text/plain": [
       "<Figure size 432x288 with 1 Axes>"
      ]
     },
     "metadata": {},
     "output_type": "display_data"
    }
   ],
   "source": [
    "col = [\"Yes\" if \"Yes\" in each else \"No\" for each in s_data['mental_health_hurt_career']]\n",
    "temp = s_data\n",
    "temp['mental_health_hurt_career'] = col\n",
    "\n",
    "temp = temp[temp['observed_negative_consequences'] == \"No\"]\n",
    "\n",
    "ax = sns.countplot(x = 'mental_disorder', hue = 'mental_health_hurt_career',\n",
    "                   data = temp, hue_order = ['Yes', 'No'], order = ['Yes', 'No']) \n",
    "plt.title('(OBS CONSEQUENCES: NO) Mental Disorder vs Mental Health Will Hurt Career (sm)')\n",
    "plt.xlabel('Mental Disorder')\n",
    "plt.ylabel('Count')"
   ]
  },
  {
   "cell_type": "markdown",
   "metadata": {},
   "source": [
    "With or without a mental disorder, it is about even with the belief that mental health will hurt their career."
   ]
  },
  {
   "cell_type": "code",
   "execution_count": 27,
   "metadata": {},
   "outputs": [
    {
     "name": "stderr",
     "output_type": "stream",
     "text": [
      "C:\\Users\\Cang\\Anaconda3\\lib\\site-packages\\ipykernel_launcher.py:3: SettingWithCopyWarning: \n",
      "A value is trying to be set on a copy of a slice from a DataFrame.\n",
      "Try using .loc[row_indexer,col_indexer] = value instead\n",
      "\n",
      "See the caveats in the documentation: http://pandas.pydata.org/pandas-docs/stable/indexing.html#indexing-view-versus-copy\n",
      "  This is separate from the ipykernel package so we can avoid doing imports until\n"
     ]
    },
    {
     "data": {
      "text/plain": [
       "Text(0,0.5,'Count')"
      ]
     },
     "execution_count": 27,
     "metadata": {},
     "output_type": "execute_result"
    },
    {
     "data": {
      "image/png": "[encoded data removed]",
      "text/plain": [
       "<Figure size 432x288 with 1 Axes>"
      ]
     },
     "metadata": {},
     "output_type": "display_data"
    }
   ],
   "source": [
    "col = [\"Yes\" if \"Yes\" in each else \"No\" for each in m_data['mental_health_hurt_career']]\n",
    "temp = m_data\n",
    "temp['mental_health_hurt_career'] = col\n",
    "\n",
    "temp = temp[temp['observed_negative_consequences'] == \"No\"]\n",
    "\n",
    "ax = sns.countplot(x = 'mental_disorder', hue = 'mental_health_hurt_career',\n",
    "                   data = temp, hue_order = ['Yes', 'No'], order = ['Yes', 'No']) \n",
    "plt.title('(OBS CONSEQUENCES: NO) Mental Disorder vs Mental Health Will Hurt Career (med)')\n",
    "plt.xlabel('Mental Disorder')\n",
    "plt.ylabel('Count')"
   ]
  },
  {
   "cell_type": "markdown",
   "metadata": {},
   "source": [
    "For large companies, having mental disorders will make the employee believe that having a believe if having a mental disorder will hurt your career."
   ]
  },
  {
   "cell_type": "code",
   "execution_count": 28,
   "metadata": {},
   "outputs": [
    {
     "name": "stderr",
     "output_type": "stream",
     "text": [
      "C:\\Users\\Cang\\Anaconda3\\lib\\site-packages\\ipykernel_launcher.py:3: SettingWithCopyWarning: \n",
      "A value is trying to be set on a copy of a slice from a DataFrame.\n",
      "Try using .loc[row_indexer,col_indexer] = value instead\n",
      "\n",
      "See the caveats in the documentation: http://pandas.pydata.org/pandas-docs/stable/indexing.html#indexing-view-versus-copy\n",
      "  This is separate from the ipykernel package so we can avoid doing imports until\n"
     ]
    },
    {
     "data": {
      "text/plain": [
       "Text(0,0.5,'Count')"
      ]
     },
     "execution_count": 28,
     "metadata": {},
     "output_type": "execute_result"
    },
    {
     "data": {
      "image/png": "[encoded data removed]",
      "text/plain": [
       "<Figure size 432x288 with 1 Axes>"
      ]
     },
     "metadata": {},
     "output_type": "display_data"
    }
   ],
   "source": [
    "col = [\"Yes\" if \"Yes\" in each else \"No\" for each in l_data['mental_health_hurt_career']]\n",
    "temp = l_data\n",
    "temp['mental_health_hurt_career'] = col\n",
    "\n",
    "temp = temp[temp['observed_negative_consequences'] == \"No\"]\n",
    "\n",
    "ax = sns.countplot(x = 'mental_disorder', hue = 'mental_health_hurt_career',\n",
    "                   data = temp, hue_order = ['Yes', 'No'], order = ['Yes', 'No']) \n",
    "plt.title('(OBS CONSEQUENCES: NO) Mental Disorder vs Mental Health Will Hurt Career (lg)')\n",
    "plt.xlabel('Mental Disorder')\n",
    "plt.ylabel('Count')"
   ]
  },
  {
   "cell_type": "markdown",
   "metadata": {},
   "source": [
    "Overall and throughout company size and seeing negative consequences or not, having a mental disorder will make one believe that it will affect their career more than those without one."
   ]
  },
  {
   "cell_type": "markdown",
   "metadata": {},
   "source": [
    "## Mental Discussion Negative vs Mental Disorder\n",
    "This graph shows if those with and without mental illness and believe that there will be a negative effect speaking to their boss about mental illness. More believe that there won't be a negative effect. Those with mental disorder did believe in the negative effect more often than those without."
   ]
  },
  {
   "cell_type": "code",
   "execution_count": 29,
   "metadata": {},
   "outputs": [
    {
     "data": {
      "text/plain": [
       "Text(0,0.5,'Count')"
      ]
     },
     "execution_count": 29,
     "metadata": {},
     "output_type": "execute_result"
    },
    {
     "data": {
      "image/png": "[encoded data removed]",
      "text/plain": [
       "<Figure size 432x288 with 1 Axes>"
      ]
     },
     "metadata": {},
     "output_type": "display_data"
    }
   ],
   "source": [
    "mental_discussion_negative_boss = pd.DataFrame(data['mental_discussion_negative'])\n",
    "mental_discussion_negative_boss['mental_disorder'] = data['mental_disorder']\n",
    "\n",
    "ax = sns.countplot(x = 'mental_discussion_negative', hue = 'mental_disorder',\n",
    "                   data = mental_discussion_negative_boss, order = ['Yes', 'Maybe', 'No']) \n",
    "plt.title('Mental Discussion Negative vs Mental Disorder')\n",
    "plt.xlabel('Mental Discussion Negative')\n",
    "plt.ylabel('Count')"
   ]
  },
  {
   "cell_type": "markdown",
   "metadata": {},
   "source": [
    "## Convert the booleans to number.\n",
    "We turned 'Yes' into 1.0, 'No' to -1.0 and neutral answers like 'I don't know, N/A, Maybe' into 0.0."
   ]
  },
  {
   "cell_type": "code",
   "execution_count": 30,
   "metadata": {},
   "outputs": [
    {
     "data": {
      "text/html": [
       "<div>\n",
       "<style scoped>\n",
       "    .dataframe tbody tr th:only-of-type {\n",
       "        vertical-align: middle;\n",
       "    }\n",
       "\n",
       "    .dataframe tbody tr th {\n",
       "        vertical-align: top;\n",
       "    }\n",
       "\n",
       "    .dataframe thead th {\n",
       "        text-align: right;\n",
       "    }\n",
       "</style>\n",
       "<table border=\"1\" class=\"dataframe\">\n",
       "  <thead>\n",
       "    <tr style=\"text-align: right;\">\n",
       "      <th></th>\n",
       "      <th>is_tech</th>\n",
       "      <th>mental_health_care</th>\n",
       "      <th>formal_discussion</th>\n",
       "      <th>resources_provided</th>\n",
       "      <th>mental_discussion_negative</th>\n",
       "      <th>coworker_safe_space</th>\n",
       "      <th>mental_disorder_past</th>\n",
       "      <th>mental_disorder</th>\n",
       "      <th>sought_treatment</th>\n",
       "      <th>age</th>\n",
       "      <th>Small</th>\n",
       "      <th>Medium</th>\n",
       "      <th>Large</th>\n",
       "    </tr>\n",
       "  </thead>\n",
       "  <tbody>\n",
       "    <tr>\n",
       "      <th>count</th>\n",
       "      <td>878.0</td>\n",
       "      <td>878.000000</td>\n",
       "      <td>878.000000</td>\n",
       "      <td>878.000000</td>\n",
       "      <td>878.000000</td>\n",
       "      <td>878.000000</td>\n",
       "      <td>878.000000</td>\n",
       "      <td>878.000000</td>\n",
       "      <td>878.000000</td>\n",
       "      <td>878.000000</td>\n",
       "      <td>878.000000</td>\n",
       "      <td>878.000000</td>\n",
       "      <td>878.000000</td>\n",
       "    </tr>\n",
       "    <tr>\n",
       "      <th>mean</th>\n",
       "      <td>1.0</td>\n",
       "      <td>0.267654</td>\n",
       "      <td>-0.556948</td>\n",
       "      <td>-0.257403</td>\n",
       "      <td>-0.226651</td>\n",
       "      <td>-0.062642</td>\n",
       "      <td>0.185649</td>\n",
       "      <td>-0.018223</td>\n",
       "      <td>0.572893</td>\n",
       "      <td>32.752847</td>\n",
       "      <td>0.264237</td>\n",
       "      <td>0.513667</td>\n",
       "      <td>0.222096</td>\n",
       "    </tr>\n",
       "    <tr>\n",
       "      <th>std</th>\n",
       "      <td>0.0</td>\n",
       "      <td>0.762656</td>\n",
       "      <td>0.774930</td>\n",
       "      <td>0.794671</td>\n",
       "      <td>0.730424</td>\n",
       "      <td>0.748663</td>\n",
       "      <td>0.896426</td>\n",
       "      <td>1.000404</td>\n",
       "      <td>0.494940</td>\n",
       "      <td>7.114904</td>\n",
       "      <td>0.441177</td>\n",
       "      <td>0.500098</td>\n",
       "      <td>0.415892</td>\n",
       "    </tr>\n",
       "    <tr>\n",
       "      <th>min</th>\n",
       "      <td>1.0</td>\n",
       "      <td>-1.000000</td>\n",
       "      <td>-1.000000</td>\n",
       "      <td>-1.000000</td>\n",
       "      <td>-1.000000</td>\n",
       "      <td>-1.000000</td>\n",
       "      <td>-1.000000</td>\n",
       "      <td>-1.000000</td>\n",
       "      <td>0.000000</td>\n",
       "      <td>19.000000</td>\n",
       "      <td>0.000000</td>\n",
       "      <td>0.000000</td>\n",
       "      <td>0.000000</td>\n",
       "    </tr>\n",
       "    <tr>\n",
       "      <th>25%</th>\n",
       "      <td>1.0</td>\n",
       "      <td>0.000000</td>\n",
       "      <td>-1.000000</td>\n",
       "      <td>-1.000000</td>\n",
       "      <td>-1.000000</td>\n",
       "      <td>-1.000000</td>\n",
       "      <td>-1.000000</td>\n",
       "      <td>-1.000000</td>\n",
       "      <td>0.000000</td>\n",
       "      <td>28.000000</td>\n",
       "      <td>0.000000</td>\n",
       "      <td>0.000000</td>\n",
       "      <td>0.000000</td>\n",
       "    </tr>\n",
       "    <tr>\n",
       "      <th>50%</th>\n",
       "      <td>1.0</td>\n",
       "      <td>0.000000</td>\n",
       "      <td>-1.000000</td>\n",
       "      <td>0.000000</td>\n",
       "      <td>0.000000</td>\n",
       "      <td>0.000000</td>\n",
       "      <td>1.000000</td>\n",
       "      <td>-1.000000</td>\n",
       "      <td>1.000000</td>\n",
       "      <td>32.000000</td>\n",
       "      <td>0.000000</td>\n",
       "      <td>1.000000</td>\n",
       "      <td>0.000000</td>\n",
       "    </tr>\n",
       "    <tr>\n",
       "      <th>75%</th>\n",
       "      <td>1.0</td>\n",
       "      <td>1.000000</td>\n",
       "      <td>0.000000</td>\n",
       "      <td>0.000000</td>\n",
       "      <td>0.000000</td>\n",
       "      <td>0.750000</td>\n",
       "      <td>1.000000</td>\n",
       "      <td>1.000000</td>\n",
       "      <td>1.000000</td>\n",
       "      <td>37.000000</td>\n",
       "      <td>1.000000</td>\n",
       "      <td>1.000000</td>\n",
       "      <td>0.000000</td>\n",
       "    </tr>\n",
       "    <tr>\n",
       "      <th>max</th>\n",
       "      <td>1.0</td>\n",
       "      <td>1.000000</td>\n",
       "      <td>1.000000</td>\n",
       "      <td>1.000000</td>\n",
       "      <td>1.000000</td>\n",
       "      <td>1.000000</td>\n",
       "      <td>1.000000</td>\n",
       "      <td>1.000000</td>\n",
       "      <td>1.000000</td>\n",
       "      <td>63.000000</td>\n",
       "      <td>1.000000</td>\n",
       "      <td>1.000000</td>\n",
       "      <td>1.000000</td>\n",
       "    </tr>\n",
       "  </tbody>\n",
       "</table>\n",
       "</div>"
      ],
      "text/plain": [
       "       is_tech  mental_health_care  formal_discussion  resources_provided  \\\n",
       "count    878.0          878.000000         878.000000          878.000000   \n",
       "mean       1.0            0.267654          -0.556948           -0.257403   \n",
       "std        0.0            0.762656           0.774930            0.794671   \n",
       "min        1.0           -1.000000          -1.000000           -1.000000   \n",
       "25%        1.0            0.000000          -1.000000           -1.000000   \n",
       "50%        1.0            0.000000          -1.000000            0.000000   \n",
       "75%        1.0            1.000000           0.000000            0.000000   \n",
       "max        1.0            1.000000           1.000000            1.000000   \n",
       "\n",
       "       mental_discussion_negative  coworker_safe_space  mental_disorder_past  \\\n",
       "count                  878.000000           878.000000            878.000000   \n",
       "mean                    -0.226651            -0.062642              0.185649   \n",
       "std                      0.730424             0.748663              0.896426   \n",
       "min                     -1.000000            -1.000000             -1.000000   \n",
       "25%                     -1.000000            -1.000000             -1.000000   \n",
       "50%                      0.000000             0.000000              1.000000   \n",
       "75%                      0.000000             0.750000              1.000000   \n",
       "max                      1.000000             1.000000              1.000000   \n",
       "\n",
       "       mental_disorder  sought_treatment         age       Small      Medium  \\\n",
       "count       878.000000        878.000000  878.000000  878.000000  878.000000   \n",
       "mean         -0.018223          0.572893   32.752847    0.264237    0.513667   \n",
       "std           1.000404          0.494940    7.114904    0.441177    0.500098   \n",
       "min          -1.000000          0.000000   19.000000    0.000000    0.000000   \n",
       "25%          -1.000000          0.000000   28.000000    0.000000    0.000000   \n",
       "50%          -1.000000          1.000000   32.000000    0.000000    1.000000   \n",
       "75%           1.000000          1.000000   37.000000    1.000000    1.000000   \n",
       "max           1.000000          1.000000   63.000000    1.000000    1.000000   \n",
       "\n",
       "            Large  \n",
       "count  878.000000  \n",
       "mean     0.222096  \n",
       "std      0.415892  \n",
       "min      0.000000  \n",
       "25%      0.000000  \n",
       "50%      0.000000  \n",
       "75%      0.000000  \n",
       "max      1.000000  "
      ]
     },
     "execution_count": 30,
     "metadata": {},
     "output_type": "execute_result"
    }
   ],
   "source": [
    "data['mental_disorder'] = data['mental_disorder'].apply(convert)\n",
    "data['mental_health_care'] = data['mental_health_care'].apply(convert)\n",
    "data['formal_discussion'] = data['formal_discussion'].apply(convert)\n",
    "data['mental_discussion_negative'] = data['mental_discussion_negative'].apply(convert)\n",
    "data['mental_disorder_past'] = data['mental_disorder_past'].apply(convert)\n",
    "data['coworker_safe_space'] = data['coworker_safe_space'].apply(convert)\n",
    "data['resources_provided'] = data['resources_provided'].apply(convert)\n",
    "data.describe()"
   ]
  },
  {
   "cell_type": "code",
   "execution_count": 31,
   "metadata": {},
   "outputs": [
    {
     "name": "stderr",
     "output_type": "stream",
     "text": [
      "C:\\Users\\Cang\\Anaconda3\\lib\\site-packages\\ipykernel_launcher.py:1: SettingWithCopyWarning: \n",
      "A value is trying to be set on a copy of a slice from a DataFrame.\n",
      "Try using .loc[row_indexer,col_indexer] = value instead\n",
      "\n",
      "See the caveats in the documentation: http://pandas.pydata.org/pandas-docs/stable/indexing.html#indexing-view-versus-copy\n",
      "  \"\"\"Entry point for launching an IPython kernel.\n",
      "C:\\Users\\Cang\\Anaconda3\\lib\\site-packages\\ipykernel_launcher.py:2: SettingWithCopyWarning: \n",
      "A value is trying to be set on a copy of a slice from a DataFrame.\n",
      "Try using .loc[row_indexer,col_indexer] = value instead\n",
      "\n",
      "See the caveats in the documentation: http://pandas.pydata.org/pandas-docs/stable/indexing.html#indexing-view-versus-copy\n",
      "  \n",
      "C:\\Users\\Cang\\Anaconda3\\lib\\site-packages\\ipykernel_launcher.py:3: SettingWithCopyWarning: \n",
      "A value is trying to be set on a copy of a slice from a DataFrame.\n",
      "Try using .loc[row_indexer,col_indexer] = value instead\n",
      "\n",
      "See the caveats in the documentation: http://pandas.pydata.org/pandas-docs/stable/indexing.html#indexing-view-versus-copy\n",
      "  This is separate from the ipykernel package so we can avoid doing imports until\n",
      "C:\\Users\\Cang\\Anaconda3\\lib\\site-packages\\ipykernel_launcher.py:4: SettingWithCopyWarning: \n",
      "A value is trying to be set on a copy of a slice from a DataFrame.\n",
      "Try using .loc[row_indexer,col_indexer] = value instead\n",
      "\n",
      "See the caveats in the documentation: http://pandas.pydata.org/pandas-docs/stable/indexing.html#indexing-view-versus-copy\n",
      "  after removing the cwd from sys.path.\n",
      "C:\\Users\\Cang\\Anaconda3\\lib\\site-packages\\ipykernel_launcher.py:5: SettingWithCopyWarning: \n",
      "A value is trying to be set on a copy of a slice from a DataFrame.\n",
      "Try using .loc[row_indexer,col_indexer] = value instead\n",
      "\n",
      "See the caveats in the documentation: http://pandas.pydata.org/pandas-docs/stable/indexing.html#indexing-view-versus-copy\n",
      "  \"\"\"\n",
      "C:\\Users\\Cang\\Anaconda3\\lib\\site-packages\\ipykernel_launcher.py:6: SettingWithCopyWarning: \n",
      "A value is trying to be set on a copy of a slice from a DataFrame.\n",
      "Try using .loc[row_indexer,col_indexer] = value instead\n",
      "\n",
      "See the caveats in the documentation: http://pandas.pydata.org/pandas-docs/stable/indexing.html#indexing-view-versus-copy\n",
      "  \n",
      "C:\\Users\\Cang\\Anaconda3\\lib\\site-packages\\ipykernel_launcher.py:7: SettingWithCopyWarning: \n",
      "A value is trying to be set on a copy of a slice from a DataFrame.\n",
      "Try using .loc[row_indexer,col_indexer] = value instead\n",
      "\n",
      "See the caveats in the documentation: http://pandas.pydata.org/pandas-docs/stable/indexing.html#indexing-view-versus-copy\n",
      "  import sys\n"
     ]
    },
    {
     "data": {
      "text/html": [
       "<div>\n",
       "<style scoped>\n",
       "    .dataframe tbody tr th:only-of-type {\n",
       "        vertical-align: middle;\n",
       "    }\n",
       "\n",
       "    .dataframe tbody tr th {\n",
       "        vertical-align: top;\n",
       "    }\n",
       "\n",
       "    .dataframe thead th {\n",
       "        text-align: right;\n",
       "    }\n",
       "</style>\n",
       "<table border=\"1\" class=\"dataframe\">\n",
       "  <thead>\n",
       "    <tr style=\"text-align: right;\">\n",
       "      <th></th>\n",
       "      <th>is_tech</th>\n",
       "      <th>mental_health_care</th>\n",
       "      <th>formal_discussion</th>\n",
       "      <th>resources_provided</th>\n",
       "      <th>mental_discussion_negative</th>\n",
       "      <th>coworker_safe_space</th>\n",
       "      <th>mental_disorder_past</th>\n",
       "      <th>mental_disorder</th>\n",
       "      <th>sought_treatment</th>\n",
       "      <th>age</th>\n",
       "      <th>Small</th>\n",
       "      <th>Medium</th>\n",
       "      <th>Large</th>\n",
       "    </tr>\n",
       "  </thead>\n",
       "  <tbody>\n",
       "    <tr>\n",
       "      <th>count</th>\n",
       "      <td>232.0</td>\n",
       "      <td>232.000000</td>\n",
       "      <td>232.000000</td>\n",
       "      <td>232.000000</td>\n",
       "      <td>232.000000</td>\n",
       "      <td>232.000000</td>\n",
       "      <td>232.000000</td>\n",
       "      <td>232.000000</td>\n",
       "      <td>232.000000</td>\n",
       "      <td>232.000000</td>\n",
       "      <td>232.0</td>\n",
       "      <td>232.0</td>\n",
       "      <td>232.0</td>\n",
       "    </tr>\n",
       "    <tr>\n",
       "      <th>mean</th>\n",
       "      <td>1.0</td>\n",
       "      <td>-0.103448</td>\n",
       "      <td>-0.672414</td>\n",
       "      <td>-0.564655</td>\n",
       "      <td>-0.271552</td>\n",
       "      <td>-0.043103</td>\n",
       "      <td>0.129310</td>\n",
       "      <td>-0.129310</td>\n",
       "      <td>0.530172</td>\n",
       "      <td>31.724138</td>\n",
       "      <td>1.0</td>\n",
       "      <td>0.0</td>\n",
       "      <td>0.0</td>\n",
       "    </tr>\n",
       "    <tr>\n",
       "      <th>std</th>\n",
       "      <td>0.0</td>\n",
       "      <td>0.771565</td>\n",
       "      <td>0.705892</td>\n",
       "      <td>0.687017</td>\n",
       "      <td>0.766993</td>\n",
       "      <td>0.782849</td>\n",
       "      <td>0.907212</td>\n",
       "      <td>0.993748</td>\n",
       "      <td>0.500168</td>\n",
       "      <td>7.917963</td>\n",
       "      <td>0.0</td>\n",
       "      <td>0.0</td>\n",
       "      <td>0.0</td>\n",
       "    </tr>\n",
       "    <tr>\n",
       "      <th>min</th>\n",
       "      <td>1.0</td>\n",
       "      <td>-1.000000</td>\n",
       "      <td>-1.000000</td>\n",
       "      <td>-1.000000</td>\n",
       "      <td>-1.000000</td>\n",
       "      <td>-1.000000</td>\n",
       "      <td>-1.000000</td>\n",
       "      <td>-1.000000</td>\n",
       "      <td>0.000000</td>\n",
       "      <td>19.000000</td>\n",
       "      <td>1.0</td>\n",
       "      <td>0.0</td>\n",
       "      <td>0.0</td>\n",
       "    </tr>\n",
       "    <tr>\n",
       "      <th>25%</th>\n",
       "      <td>1.0</td>\n",
       "      <td>-1.000000</td>\n",
       "      <td>-1.000000</td>\n",
       "      <td>-1.000000</td>\n",
       "      <td>-1.000000</td>\n",
       "      <td>-1.000000</td>\n",
       "      <td>-1.000000</td>\n",
       "      <td>-1.000000</td>\n",
       "      <td>0.000000</td>\n",
       "      <td>26.000000</td>\n",
       "      <td>1.0</td>\n",
       "      <td>0.0</td>\n",
       "      <td>0.0</td>\n",
       "    </tr>\n",
       "    <tr>\n",
       "      <th>50%</th>\n",
       "      <td>1.0</td>\n",
       "      <td>0.000000</td>\n",
       "      <td>-1.000000</td>\n",
       "      <td>-1.000000</td>\n",
       "      <td>0.000000</td>\n",
       "      <td>0.000000</td>\n",
       "      <td>0.000000</td>\n",
       "      <td>-1.000000</td>\n",
       "      <td>1.000000</td>\n",
       "      <td>30.000000</td>\n",
       "      <td>1.0</td>\n",
       "      <td>0.0</td>\n",
       "      <td>0.0</td>\n",
       "    </tr>\n",
       "    <tr>\n",
       "      <th>75%</th>\n",
       "      <td>1.0</td>\n",
       "      <td>0.250000</td>\n",
       "      <td>-1.000000</td>\n",
       "      <td>0.000000</td>\n",
       "      <td>0.000000</td>\n",
       "      <td>1.000000</td>\n",
       "      <td>1.000000</td>\n",
       "      <td>1.000000</td>\n",
       "      <td>1.000000</td>\n",
       "      <td>36.000000</td>\n",
       "      <td>1.0</td>\n",
       "      <td>0.0</td>\n",
       "      <td>0.0</td>\n",
       "    </tr>\n",
       "    <tr>\n",
       "      <th>max</th>\n",
       "      <td>1.0</td>\n",
       "      <td>1.000000</td>\n",
       "      <td>1.000000</td>\n",
       "      <td>1.000000</td>\n",
       "      <td>1.000000</td>\n",
       "      <td>1.000000</td>\n",
       "      <td>1.000000</td>\n",
       "      <td>1.000000</td>\n",
       "      <td>1.000000</td>\n",
       "      <td>61.000000</td>\n",
       "      <td>1.0</td>\n",
       "      <td>0.0</td>\n",
       "      <td>0.0</td>\n",
       "    </tr>\n",
       "  </tbody>\n",
       "</table>\n",
       "</div>"
      ],
      "text/plain": [
       "       is_tech  mental_health_care  formal_discussion  resources_provided  \\\n",
       "count    232.0          232.000000         232.000000          232.000000   \n",
       "mean       1.0           -0.103448          -0.672414           -0.564655   \n",
       "std        0.0            0.771565           0.705892            0.687017   \n",
       "min        1.0           -1.000000          -1.000000           -1.000000   \n",
       "25%        1.0           -1.000000          -1.000000           -1.000000   \n",
       "50%        1.0            0.000000          -1.000000           -1.000000   \n",
       "75%        1.0            0.250000          -1.000000            0.000000   \n",
       "max        1.0            1.000000           1.000000            1.000000   \n",
       "\n",
       "       mental_discussion_negative  coworker_safe_space  mental_disorder_past  \\\n",
       "count                  232.000000           232.000000            232.000000   \n",
       "mean                    -0.271552            -0.043103              0.129310   \n",
       "std                      0.766993             0.782849              0.907212   \n",
       "min                     -1.000000            -1.000000             -1.000000   \n",
       "25%                     -1.000000            -1.000000             -1.000000   \n",
       "50%                      0.000000             0.000000              0.000000   \n",
       "75%                      0.000000             1.000000              1.000000   \n",
       "max                      1.000000             1.000000              1.000000   \n",
       "\n",
       "       mental_disorder  sought_treatment         age  Small  Medium  Large  \n",
       "count       232.000000        232.000000  232.000000  232.0   232.0  232.0  \n",
       "mean         -0.129310          0.530172   31.724138    1.0     0.0    0.0  \n",
       "std           0.993748          0.500168    7.917963    0.0     0.0    0.0  \n",
       "min          -1.000000          0.000000   19.000000    1.0     0.0    0.0  \n",
       "25%          -1.000000          0.000000   26.000000    1.0     0.0    0.0  \n",
       "50%          -1.000000          1.000000   30.000000    1.0     0.0    0.0  \n",
       "75%           1.000000          1.000000   36.000000    1.0     0.0    0.0  \n",
       "max           1.000000          1.000000   61.000000    1.0     0.0    0.0  "
      ]
     },
     "execution_count": 31,
     "metadata": {},
     "output_type": "execute_result"
    }
   ],
   "source": [
    "s_data['mental_disorder'] = s_data['mental_disorder'].apply(convert)\n",
    "s_data['mental_health_care'] = s_data['mental_health_care'].apply(convert)\n",
    "s_data['formal_discussion'] = s_data['formal_discussion'].apply(convert)\n",
    "s_data['mental_discussion_negative'] = s_data['mental_discussion_negative'].apply(convert)\n",
    "s_data['mental_disorder_past'] = s_data['mental_disorder_past'].apply(convert)\n",
    "s_data['coworker_safe_space'] = s_data['coworker_safe_space'].apply(convert)\n",
    "s_data['resources_provided'] = s_data['resources_provided'].apply(convert)\n",
    "s_data.describe()"
   ]
  },
  {
   "cell_type": "code",
   "execution_count": 32,
   "metadata": {},
   "outputs": [
    {
     "name": "stderr",
     "output_type": "stream",
     "text": [
      "C:\\Users\\Cang\\Anaconda3\\lib\\site-packages\\ipykernel_launcher.py:1: SettingWithCopyWarning: \n",
      "A value is trying to be set on a copy of a slice from a DataFrame.\n",
      "Try using .loc[row_indexer,col_indexer] = value instead\n",
      "\n",
      "See the caveats in the documentation: http://pandas.pydata.org/pandas-docs/stable/indexing.html#indexing-view-versus-copy\n",
      "  \"\"\"Entry point for launching an IPython kernel.\n",
      "C:\\Users\\Cang\\Anaconda3\\lib\\site-packages\\ipykernel_launcher.py:2: SettingWithCopyWarning: \n",
      "A value is trying to be set on a copy of a slice from a DataFrame.\n",
      "Try using .loc[row_indexer,col_indexer] = value instead\n",
      "\n",
      "See the caveats in the documentation: http://pandas.pydata.org/pandas-docs/stable/indexing.html#indexing-view-versus-copy\n",
      "  \n",
      "C:\\Users\\Cang\\Anaconda3\\lib\\site-packages\\ipykernel_launcher.py:3: SettingWithCopyWarning: \n",
      "A value is trying to be set on a copy of a slice from a DataFrame.\n",
      "Try using .loc[row_indexer,col_indexer] = value instead\n",
      "\n",
      "See the caveats in the documentation: http://pandas.pydata.org/pandas-docs/stable/indexing.html#indexing-view-versus-copy\n",
      "  This is separate from the ipykernel package so we can avoid doing imports until\n",
      "C:\\Users\\Cang\\Anaconda3\\lib\\site-packages\\ipykernel_launcher.py:4: SettingWithCopyWarning: \n",
      "A value is trying to be set on a copy of a slice from a DataFrame.\n",
      "Try using .loc[row_indexer,col_indexer] = value instead\n",
      "\n",
      "See the caveats in the documentation: http://pandas.pydata.org/pandas-docs/stable/indexing.html#indexing-view-versus-copy\n",
      "  after removing the cwd from sys.path.\n",
      "C:\\Users\\Cang\\Anaconda3\\lib\\site-packages\\ipykernel_launcher.py:5: SettingWithCopyWarning: \n",
      "A value is trying to be set on a copy of a slice from a DataFrame.\n",
      "Try using .loc[row_indexer,col_indexer] = value instead\n",
      "\n",
      "See the caveats in the documentation: http://pandas.pydata.org/pandas-docs/stable/indexing.html#indexing-view-versus-copy\n",
      "  \"\"\"\n",
      "C:\\Users\\Cang\\Anaconda3\\lib\\site-packages\\ipykernel_launcher.py:6: SettingWithCopyWarning: \n",
      "A value is trying to be set on a copy of a slice from a DataFrame.\n",
      "Try using .loc[row_indexer,col_indexer] = value instead\n",
      "\n",
      "See the caveats in the documentation: http://pandas.pydata.org/pandas-docs/stable/indexing.html#indexing-view-versus-copy\n",
      "  \n",
      "C:\\Users\\Cang\\Anaconda3\\lib\\site-packages\\ipykernel_launcher.py:7: SettingWithCopyWarning: \n",
      "A value is trying to be set on a copy of a slice from a DataFrame.\n",
      "Try using .loc[row_indexer,col_indexer] = value instead\n",
      "\n",
      "See the caveats in the documentation: http://pandas.pydata.org/pandas-docs/stable/indexing.html#indexing-view-versus-copy\n",
      "  import sys\n"
     ]
    },
    {
     "data": {
      "text/html": [
       "<div>\n",
       "<style scoped>\n",
       "    .dataframe tbody tr th:only-of-type {\n",
       "        vertical-align: middle;\n",
       "    }\n",
       "\n",
       "    .dataframe tbody tr th {\n",
       "        vertical-align: top;\n",
       "    }\n",
       "\n",
       "    .dataframe thead th {\n",
       "        text-align: right;\n",
       "    }\n",
       "</style>\n",
       "<table border=\"1\" class=\"dataframe\">\n",
       "  <thead>\n",
       "    <tr style=\"text-align: right;\">\n",
       "      <th></th>\n",
       "      <th>is_tech</th>\n",
       "      <th>mental_health_care</th>\n",
       "      <th>formal_discussion</th>\n",
       "      <th>resources_provided</th>\n",
       "      <th>mental_discussion_negative</th>\n",
       "      <th>coworker_safe_space</th>\n",
       "      <th>mental_disorder_past</th>\n",
       "      <th>mental_disorder</th>\n",
       "      <th>sought_treatment</th>\n",
       "      <th>age</th>\n",
       "      <th>Small</th>\n",
       "      <th>Medium</th>\n",
       "      <th>Large</th>\n",
       "    </tr>\n",
       "  </thead>\n",
       "  <tbody>\n",
       "    <tr>\n",
       "      <th>count</th>\n",
       "      <td>451.0</td>\n",
       "      <td>451.000000</td>\n",
       "      <td>451.000000</td>\n",
       "      <td>451.000000</td>\n",
       "      <td>451.000000</td>\n",
       "      <td>451.000000</td>\n",
       "      <td>451.000000</td>\n",
       "      <td>451.000000</td>\n",
       "      <td>451.000000</td>\n",
       "      <td>451.000000</td>\n",
       "      <td>451.0</td>\n",
       "      <td>451.0</td>\n",
       "      <td>451.0</td>\n",
       "    </tr>\n",
       "    <tr>\n",
       "      <th>mean</th>\n",
       "      <td>1.0</td>\n",
       "      <td>0.356984</td>\n",
       "      <td>-0.589800</td>\n",
       "      <td>-0.266075</td>\n",
       "      <td>-0.248337</td>\n",
       "      <td>-0.055432</td>\n",
       "      <td>0.190687</td>\n",
       "      <td>-0.015521</td>\n",
       "      <td>0.569845</td>\n",
       "      <td>32.691796</td>\n",
       "      <td>0.0</td>\n",
       "      <td>1.0</td>\n",
       "      <td>0.0</td>\n",
       "    </tr>\n",
       "    <tr>\n",
       "      <th>std</th>\n",
       "      <td>0.0</td>\n",
       "      <td>0.720379</td>\n",
       "      <td>0.755885</td>\n",
       "      <td>0.780414</td>\n",
       "      <td>0.718310</td>\n",
       "      <td>0.720516</td>\n",
       "      <td>0.893931</td>\n",
       "      <td>1.000990</td>\n",
       "      <td>0.495647</td>\n",
       "      <td>6.305934</td>\n",
       "      <td>0.0</td>\n",
       "      <td>0.0</td>\n",
       "      <td>0.0</td>\n",
       "    </tr>\n",
       "    <tr>\n",
       "      <th>min</th>\n",
       "      <td>1.0</td>\n",
       "      <td>-1.000000</td>\n",
       "      <td>-1.000000</td>\n",
       "      <td>-1.000000</td>\n",
       "      <td>-1.000000</td>\n",
       "      <td>-1.000000</td>\n",
       "      <td>-1.000000</td>\n",
       "      <td>-1.000000</td>\n",
       "      <td>0.000000</td>\n",
       "      <td>21.000000</td>\n",
       "      <td>0.0</td>\n",
       "      <td>1.0</td>\n",
       "      <td>0.0</td>\n",
       "    </tr>\n",
       "    <tr>\n",
       "      <th>25%</th>\n",
       "      <td>1.0</td>\n",
       "      <td>0.000000</td>\n",
       "      <td>-1.000000</td>\n",
       "      <td>-1.000000</td>\n",
       "      <td>-1.000000</td>\n",
       "      <td>-1.000000</td>\n",
       "      <td>-1.000000</td>\n",
       "      <td>-1.000000</td>\n",
       "      <td>0.000000</td>\n",
       "      <td>28.000000</td>\n",
       "      <td>0.0</td>\n",
       "      <td>1.0</td>\n",
       "      <td>0.0</td>\n",
       "    </tr>\n",
       "    <tr>\n",
       "      <th>50%</th>\n",
       "      <td>1.0</td>\n",
       "      <td>1.000000</td>\n",
       "      <td>-1.000000</td>\n",
       "      <td>0.000000</td>\n",
       "      <td>0.000000</td>\n",
       "      <td>0.000000</td>\n",
       "      <td>1.000000</td>\n",
       "      <td>-1.000000</td>\n",
       "      <td>1.000000</td>\n",
       "      <td>32.000000</td>\n",
       "      <td>0.0</td>\n",
       "      <td>1.0</td>\n",
       "      <td>0.0</td>\n",
       "    </tr>\n",
       "    <tr>\n",
       "      <th>75%</th>\n",
       "      <td>1.0</td>\n",
       "      <td>1.000000</td>\n",
       "      <td>-1.000000</td>\n",
       "      <td>0.000000</td>\n",
       "      <td>0.000000</td>\n",
       "      <td>0.000000</td>\n",
       "      <td>1.000000</td>\n",
       "      <td>1.000000</td>\n",
       "      <td>1.000000</td>\n",
       "      <td>36.000000</td>\n",
       "      <td>0.0</td>\n",
       "      <td>1.0</td>\n",
       "      <td>0.0</td>\n",
       "    </tr>\n",
       "    <tr>\n",
       "      <th>max</th>\n",
       "      <td>1.0</td>\n",
       "      <td>1.000000</td>\n",
       "      <td>1.000000</td>\n",
       "      <td>1.000000</td>\n",
       "      <td>1.000000</td>\n",
       "      <td>1.000000</td>\n",
       "      <td>1.000000</td>\n",
       "      <td>1.000000</td>\n",
       "      <td>1.000000</td>\n",
       "      <td>58.000000</td>\n",
       "      <td>0.0</td>\n",
       "      <td>1.0</td>\n",
       "      <td>0.0</td>\n",
       "    </tr>\n",
       "  </tbody>\n",
       "</table>\n",
       "</div>"
      ],
      "text/plain": [
       "       is_tech  mental_health_care  formal_discussion  resources_provided  \\\n",
       "count    451.0          451.000000         451.000000          451.000000   \n",
       "mean       1.0            0.356984          -0.589800           -0.266075   \n",
       "std        0.0            0.720379           0.755885            0.780414   \n",
       "min        1.0           -1.000000          -1.000000           -1.000000   \n",
       "25%        1.0            0.000000          -1.000000           -1.000000   \n",
       "50%        1.0            1.000000          -1.000000            0.000000   \n",
       "75%        1.0            1.000000          -1.000000            0.000000   \n",
       "max        1.0            1.000000           1.000000            1.000000   \n",
       "\n",
       "       mental_discussion_negative  coworker_safe_space  mental_disorder_past  \\\n",
       "count                  451.000000           451.000000            451.000000   \n",
       "mean                    -0.248337            -0.055432              0.190687   \n",
       "std                      0.718310             0.720516              0.893931   \n",
       "min                     -1.000000            -1.000000             -1.000000   \n",
       "25%                     -1.000000            -1.000000             -1.000000   \n",
       "50%                      0.000000             0.000000              1.000000   \n",
       "75%                      0.000000             0.000000              1.000000   \n",
       "max                      1.000000             1.000000              1.000000   \n",
       "\n",
       "       mental_disorder  sought_treatment         age  Small  Medium  Large  \n",
       "count       451.000000        451.000000  451.000000  451.0   451.0  451.0  \n",
       "mean         -0.015521          0.569845   32.691796    0.0     1.0    0.0  \n",
       "std           1.000990          0.495647    6.305934    0.0     0.0    0.0  \n",
       "min          -1.000000          0.000000   21.000000    0.0     1.0    0.0  \n",
       "25%          -1.000000          0.000000   28.000000    0.0     1.0    0.0  \n",
       "50%          -1.000000          1.000000   32.000000    0.0     1.0    0.0  \n",
       "75%           1.000000          1.000000   36.000000    0.0     1.0    0.0  \n",
       "max           1.000000          1.000000   58.000000    0.0     1.0    0.0  "
      ]
     },
     "execution_count": 32,
     "metadata": {},
     "output_type": "execute_result"
    }
   ],
   "source": [
    "m_data['mental_disorder'] = m_data['mental_disorder'].apply(convert)\n",
    "m_data['mental_health_care'] = m_data['mental_health_care'].apply(convert)\n",
    "m_data['formal_discussion'] = m_data['formal_discussion'].apply(convert)\n",
    "m_data['mental_discussion_negative'] = m_data['mental_discussion_negative'].apply(convert)\n",
    "m_data['mental_disorder_past'] = m_data['mental_disorder_past'].apply(convert)\n",
    "m_data['coworker_safe_space'] = m_data['coworker_safe_space'].apply(convert)\n",
    "m_data['resources_provided'] = m_data['resources_provided'].apply(convert)\n",
    "m_data.describe()"
   ]
  },
  {
   "cell_type": "code",
   "execution_count": 33,
   "metadata": {},
   "outputs": [
    {
     "name": "stderr",
     "output_type": "stream",
     "text": [
      "C:\\Users\\Cang\\Anaconda3\\lib\\site-packages\\ipykernel_launcher.py:1: SettingWithCopyWarning: \n",
      "A value is trying to be set on a copy of a slice from a DataFrame.\n",
      "Try using .loc[row_indexer,col_indexer] = value instead\n",
      "\n",
      "See the caveats in the documentation: http://pandas.pydata.org/pandas-docs/stable/indexing.html#indexing-view-versus-copy\n",
      "  \"\"\"Entry point for launching an IPython kernel.\n",
      "C:\\Users\\Cang\\Anaconda3\\lib\\site-packages\\ipykernel_launcher.py:2: SettingWithCopyWarning: \n",
      "A value is trying to be set on a copy of a slice from a DataFrame.\n",
      "Try using .loc[row_indexer,col_indexer] = value instead\n",
      "\n",
      "See the caveats in the documentation: http://pandas.pydata.org/pandas-docs/stable/indexing.html#indexing-view-versus-copy\n",
      "  \n",
      "C:\\Users\\Cang\\Anaconda3\\lib\\site-packages\\ipykernel_launcher.py:3: SettingWithCopyWarning: \n",
      "A value is trying to be set on a copy of a slice from a DataFrame.\n",
      "Try using .loc[row_indexer,col_indexer] = value instead\n",
      "\n",
      "See the caveats in the documentation: http://pandas.pydata.org/pandas-docs/stable/indexing.html#indexing-view-versus-copy\n",
      "  This is separate from the ipykernel package so we can avoid doing imports until\n",
      "C:\\Users\\Cang\\Anaconda3\\lib\\site-packages\\ipykernel_launcher.py:4: SettingWithCopyWarning: \n",
      "A value is trying to be set on a copy of a slice from a DataFrame.\n",
      "Try using .loc[row_indexer,col_indexer] = value instead\n",
      "\n",
      "See the caveats in the documentation: http://pandas.pydata.org/pandas-docs/stable/indexing.html#indexing-view-versus-copy\n",
      "  after removing the cwd from sys.path.\n",
      "C:\\Users\\Cang\\Anaconda3\\lib\\site-packages\\ipykernel_launcher.py:5: SettingWithCopyWarning: \n",
      "A value is trying to be set on a copy of a slice from a DataFrame.\n",
      "Try using .loc[row_indexer,col_indexer] = value instead\n",
      "\n",
      "See the caveats in the documentation: http://pandas.pydata.org/pandas-docs/stable/indexing.html#indexing-view-versus-copy\n",
      "  \"\"\"\n",
      "C:\\Users\\Cang\\Anaconda3\\lib\\site-packages\\ipykernel_launcher.py:6: SettingWithCopyWarning: \n",
      "A value is trying to be set on a copy of a slice from a DataFrame.\n",
      "Try using .loc[row_indexer,col_indexer] = value instead\n",
      "\n",
      "See the caveats in the documentation: http://pandas.pydata.org/pandas-docs/stable/indexing.html#indexing-view-versus-copy\n",
      "  \n",
      "C:\\Users\\Cang\\Anaconda3\\lib\\site-packages\\ipykernel_launcher.py:7: SettingWithCopyWarning: \n",
      "A value is trying to be set on a copy of a slice from a DataFrame.\n",
      "Try using .loc[row_indexer,col_indexer] = value instead\n",
      "\n",
      "See the caveats in the documentation: http://pandas.pydata.org/pandas-docs/stable/indexing.html#indexing-view-versus-copy\n",
      "  import sys\n"
     ]
    },
    {
     "data": {
      "text/html": [
       "<div>\n",
       "<style scoped>\n",
       "    .dataframe tbody tr th:only-of-type {\n",
       "        vertical-align: middle;\n",
       "    }\n",
       "\n",
       "    .dataframe tbody tr th {\n",
       "        vertical-align: top;\n",
       "    }\n",
       "\n",
       "    .dataframe thead th {\n",
       "        text-align: right;\n",
       "    }\n",
       "</style>\n",
       "<table border=\"1\" class=\"dataframe\">\n",
       "  <thead>\n",
       "    <tr style=\"text-align: right;\">\n",
       "      <th></th>\n",
       "      <th>is_tech</th>\n",
       "      <th>mental_health_care</th>\n",
       "      <th>formal_discussion</th>\n",
       "      <th>resources_provided</th>\n",
       "      <th>mental_discussion_negative</th>\n",
       "      <th>coworker_safe_space</th>\n",
       "      <th>mental_disorder_past</th>\n",
       "      <th>mental_disorder</th>\n",
       "      <th>sought_treatment</th>\n",
       "      <th>age</th>\n",
       "      <th>Small</th>\n",
       "      <th>Medium</th>\n",
       "      <th>Large</th>\n",
       "    </tr>\n",
       "  </thead>\n",
       "  <tbody>\n",
       "    <tr>\n",
       "      <th>count</th>\n",
       "      <td>195.0</td>\n",
       "      <td>195.000000</td>\n",
       "      <td>195.000000</td>\n",
       "      <td>195.000000</td>\n",
       "      <td>195.000000</td>\n",
       "      <td>195.000000</td>\n",
       "      <td>195.000000</td>\n",
       "      <td>195.000000</td>\n",
       "      <td>195.000000</td>\n",
       "      <td>195.000000</td>\n",
       "      <td>195.0</td>\n",
       "      <td>195.0</td>\n",
       "      <td>195.0</td>\n",
       "    </tr>\n",
       "    <tr>\n",
       "      <th>mean</th>\n",
       "      <td>1.0</td>\n",
       "      <td>0.502564</td>\n",
       "      <td>-0.343590</td>\n",
       "      <td>0.128205</td>\n",
       "      <td>-0.123077</td>\n",
       "      <td>-0.102564</td>\n",
       "      <td>0.241026</td>\n",
       "      <td>0.107692</td>\n",
       "      <td>0.630769</td>\n",
       "      <td>34.117949</td>\n",
       "      <td>0.0</td>\n",
       "      <td>0.0</td>\n",
       "      <td>1.0</td>\n",
       "    </tr>\n",
       "    <tr>\n",
       "      <th>std</th>\n",
       "      <td>0.0</td>\n",
       "      <td>0.691438</td>\n",
       "      <td>0.855484</td>\n",
       "      <td>0.785811</td>\n",
       "      <td>0.707275</td>\n",
       "      <td>0.773094</td>\n",
       "      <td>0.890013</td>\n",
       "      <td>0.996743</td>\n",
       "      <td>0.483839</td>\n",
       "      <td>7.668481</td>\n",
       "      <td>0.0</td>\n",
       "      <td>0.0</td>\n",
       "      <td>0.0</td>\n",
       "    </tr>\n",
       "    <tr>\n",
       "      <th>min</th>\n",
       "      <td>1.0</td>\n",
       "      <td>-1.000000</td>\n",
       "      <td>-1.000000</td>\n",
       "      <td>-1.000000</td>\n",
       "      <td>-1.000000</td>\n",
       "      <td>-1.000000</td>\n",
       "      <td>-1.000000</td>\n",
       "      <td>-1.000000</td>\n",
       "      <td>0.000000</td>\n",
       "      <td>20.000000</td>\n",
       "      <td>0.0</td>\n",
       "      <td>0.0</td>\n",
       "      <td>1.0</td>\n",
       "    </tr>\n",
       "    <tr>\n",
       "      <th>25%</th>\n",
       "      <td>1.0</td>\n",
       "      <td>0.000000</td>\n",
       "      <td>-1.000000</td>\n",
       "      <td>-0.500000</td>\n",
       "      <td>-1.000000</td>\n",
       "      <td>-1.000000</td>\n",
       "      <td>-1.000000</td>\n",
       "      <td>-1.000000</td>\n",
       "      <td>0.000000</td>\n",
       "      <td>29.000000</td>\n",
       "      <td>0.0</td>\n",
       "      <td>0.0</td>\n",
       "      <td>1.0</td>\n",
       "    </tr>\n",
       "    <tr>\n",
       "      <th>50%</th>\n",
       "      <td>1.0</td>\n",
       "      <td>1.000000</td>\n",
       "      <td>-1.000000</td>\n",
       "      <td>0.000000</td>\n",
       "      <td>0.000000</td>\n",
       "      <td>0.000000</td>\n",
       "      <td>1.000000</td>\n",
       "      <td>1.000000</td>\n",
       "      <td>1.000000</td>\n",
       "      <td>32.000000</td>\n",
       "      <td>0.0</td>\n",
       "      <td>0.0</td>\n",
       "      <td>1.0</td>\n",
       "    </tr>\n",
       "    <tr>\n",
       "      <th>75%</th>\n",
       "      <td>1.0</td>\n",
       "      <td>1.000000</td>\n",
       "      <td>0.500000</td>\n",
       "      <td>1.000000</td>\n",
       "      <td>0.000000</td>\n",
       "      <td>0.500000</td>\n",
       "      <td>1.000000</td>\n",
       "      <td>1.000000</td>\n",
       "      <td>1.000000</td>\n",
       "      <td>39.000000</td>\n",
       "      <td>0.0</td>\n",
       "      <td>0.0</td>\n",
       "      <td>1.0</td>\n",
       "    </tr>\n",
       "    <tr>\n",
       "      <th>max</th>\n",
       "      <td>1.0</td>\n",
       "      <td>1.000000</td>\n",
       "      <td>1.000000</td>\n",
       "      <td>1.000000</td>\n",
       "      <td>1.000000</td>\n",
       "      <td>1.000000</td>\n",
       "      <td>1.000000</td>\n",
       "      <td>1.000000</td>\n",
       "      <td>1.000000</td>\n",
       "      <td>63.000000</td>\n",
       "      <td>0.0</td>\n",
       "      <td>0.0</td>\n",
       "      <td>1.0</td>\n",
       "    </tr>\n",
       "  </tbody>\n",
       "</table>\n",
       "</div>"
      ],
      "text/plain": [
       "       is_tech  mental_health_care  formal_discussion  resources_provided  \\\n",
       "count    195.0          195.000000         195.000000          195.000000   \n",
       "mean       1.0            0.502564          -0.343590            0.128205   \n",
       "std        0.0            0.691438           0.855484            0.785811   \n",
       "min        1.0           -1.000000          -1.000000           -1.000000   \n",
       "25%        1.0            0.000000          -1.000000           -0.500000   \n",
       "50%        1.0            1.000000          -1.000000            0.000000   \n",
       "75%        1.0            1.000000           0.500000            1.000000   \n",
       "max        1.0            1.000000           1.000000            1.000000   \n",
       "\n",
       "       mental_discussion_negative  coworker_safe_space  mental_disorder_past  \\\n",
       "count                  195.000000           195.000000            195.000000   \n",
       "mean                    -0.123077            -0.102564              0.241026   \n",
       "std                      0.707275             0.773094              0.890013   \n",
       "min                     -1.000000            -1.000000             -1.000000   \n",
       "25%                     -1.000000            -1.000000             -1.000000   \n",
       "50%                      0.000000             0.000000              1.000000   \n",
       "75%                      0.000000             0.500000              1.000000   \n",
       "max                      1.000000             1.000000              1.000000   \n",
       "\n",
       "       mental_disorder  sought_treatment         age  Small  Medium  Large  \n",
       "count       195.000000        195.000000  195.000000  195.0   195.0  195.0  \n",
       "mean          0.107692          0.630769   34.117949    0.0     0.0    1.0  \n",
       "std           0.996743          0.483839    7.668481    0.0     0.0    0.0  \n",
       "min          -1.000000          0.000000   20.000000    0.0     0.0    1.0  \n",
       "25%          -1.000000          0.000000   29.000000    0.0     0.0    1.0  \n",
       "50%           1.000000          1.000000   32.000000    0.0     0.0    1.0  \n",
       "75%           1.000000          1.000000   39.000000    0.0     0.0    1.0  \n",
       "max           1.000000          1.000000   63.000000    0.0     0.0    1.0  "
      ]
     },
     "execution_count": 33,
     "metadata": {},
     "output_type": "execute_result"
    }
   ],
   "source": [
    "l_data['mental_disorder'] = l_data['mental_disorder'].apply(convert)\n",
    "l_data['mental_health_care'] = l_data['mental_health_care'].apply(convert)\n",
    "l_data['formal_discussion'] = l_data['formal_discussion'].apply(convert)\n",
    "l_data['mental_discussion_negative'] = l_data['mental_discussion_negative'].apply(convert)\n",
    "l_data['mental_disorder_past'] = l_data['mental_disorder_past'].apply(convert)\n",
    "l_data['coworker_safe_space'] = l_data['coworker_safe_space'].apply(convert)\n",
    "l_data['resources_provided'] = l_data['resources_provided'].apply(convert)\n",
    "l_data.describe()"
   ]
  },
  {
   "cell_type": "markdown",
   "metadata": {},
   "source": [
    "### Company Size vs Believing Mental Health Issues Will Hurt Career\n",
    "\n",
    "The trend is not extremely clear but the large company size has the highest ratios of Yes. We hypothesize that because the company is large, people in the company believe for themselves to be easily replacable and not important that is also the reason that causes higher mental disorder rates in large companies."
   ]
  },
  {
   "cell_type": "code",
   "execution_count": 34,
   "metadata": {},
   "outputs": [
    {
     "data": {
      "text/plain": [
       "Text(0,0.5,'Count')"
      ]
     },
     "execution_count": 34,
     "metadata": {},
     "output_type": "execute_result"
    },
    {
     "data": {
      "image/png": "[encoded data removed]",
      "text/plain": [
       "<Figure size 432x288 with 1 Axes>"
      ]
     },
     "metadata": {},
     "output_type": "display_data"
    }
   ],
   "source": [
    "ax = sns.countplot(x = 'comp_sze', hue = 'mental_health_hurt_career', data = data,\n",
    "                order = ['Small', 'Medium', 'Large'], hue_order = ['Yes', 'No'])\n",
    "plt.title('Company Size vs Believing Mental Health Issues Will Hurt Career')\n",
    "plt.xlabel('Company Size')\n",
    "plt.ylabel('Count')"
   ]
  },
  {
   "cell_type": "markdown",
   "metadata": {},
   "source": [
    "## Mental diagnoses\n",
    "Since the mental diagnosis was the multiple choice and surveytakers were allowed to choose multiple answers, we recorded each instance of each mental illness. Mood disorders, such as depression, and anxiety disorder for all company sizes which made sense from the fact the the two previously mentioned are the most prevalent illnesses."
   ]
  },
  {
   "cell_type": "code",
   "execution_count": 35,
   "metadata": {},
   "outputs": [
    {
     "data": {
      "text/html": [
       "<div>\n",
       "<style scoped>\n",
       "    .dataframe tbody tr th:only-of-type {\n",
       "        vertical-align: middle;\n",
       "    }\n",
       "\n",
       "    .dataframe tbody tr th {\n",
       "        vertical-align: top;\n",
       "    }\n",
       "\n",
       "    .dataframe thead th {\n",
       "        text-align: right;\n",
       "    }\n",
       "</style>\n",
       "<table border=\"1\" class=\"dataframe\">\n",
       "  <thead>\n",
       "    <tr style=\"text-align: right;\">\n",
       "      <th></th>\n",
       "      <th>Count</th>\n",
       "    </tr>\n",
       "  </thead>\n",
       "  <tbody>\n",
       "    <tr>\n",
       "      <th>Mood</th>\n",
       "      <td>322</td>\n",
       "    </tr>\n",
       "    <tr>\n",
       "      <th>Anxiety</th>\n",
       "      <td>225</td>\n",
       "    </tr>\n",
       "    <tr>\n",
       "      <th>ADD</th>\n",
       "      <td>80</td>\n",
       "    </tr>\n",
       "    <tr>\n",
       "      <th>PTSD</th>\n",
       "      <td>39</td>\n",
       "    </tr>\n",
       "    <tr>\n",
       "      <th>OCD</th>\n",
       "      <td>28</td>\n",
       "    </tr>\n",
       "    <tr>\n",
       "      <th>Stress Response</th>\n",
       "      <td>19</td>\n",
       "    </tr>\n",
       "    <tr>\n",
       "      <th>Personality</th>\n",
       "      <td>19</td>\n",
       "    </tr>\n",
       "    <tr>\n",
       "      <th>Substance Abuse</th>\n",
       "      <td>13</td>\n",
       "    </tr>\n",
       "    <tr>\n",
       "      <th>Eating</th>\n",
       "      <td>12</td>\n",
       "    </tr>\n",
       "    <tr>\n",
       "      <th>Addiction</th>\n",
       "      <td>9</td>\n",
       "    </tr>\n",
       "    <tr>\n",
       "      <th>Psychotic</th>\n",
       "      <td>4</td>\n",
       "    </tr>\n",
       "    <tr>\n",
       "      <th>Seasonal Affective</th>\n",
       "      <td>1</td>\n",
       "    </tr>\n",
       "  </tbody>\n",
       "</table>\n",
       "</div>"
      ],
      "text/plain": [
       "                    Count\n",
       "Mood                  322\n",
       "Anxiety               225\n",
       "ADD                    80\n",
       "PTSD                   39\n",
       "OCD                    28\n",
       "Stress Response        19\n",
       "Personality            19\n",
       "Substance Abuse        13\n",
       "Eating                 12\n",
       "Addiction               9\n",
       "Psychotic               4\n",
       "Seasonal Affective      1"
      ]
     },
     "execution_count": 35,
     "metadata": {},
     "output_type": "execute_result"
    }
   ],
   "source": [
    "mood = 0\n",
    "anx = 0\n",
    "att = 0\n",
    "stress = 0\n",
    "ptsd = 0\n",
    "psych = 0\n",
    "ocd = 0\n",
    "pers = 0\n",
    "eat = 0\n",
    "sub = 0\n",
    "addict = 0\n",
    "seas = 0\n",
    "for cond in data['condition']:\n",
    "    if type(cond) is str:\n",
    "        if 'Mood' in cond:\n",
    "            mood = mood + 1\n",
    "        if 'Anxiety' in cond:\n",
    "                anx = anx + 1\n",
    "        if 'Attention' in cond:\n",
    "            att = att + 1\n",
    "        if 'Stress Response' in cond:\n",
    "            stress = stress + 1\n",
    "        if 'Post-traumatic' in cond:\n",
    "            ptsd = ptsd + 1\n",
    "        if 'Psychotic' in cond:\n",
    "            psych = psych + 1\n",
    "        if 'Obsessive' in cond:\n",
    "            ocd = ocd + 1\n",
    "        if 'Personality' in cond:\n",
    "            pers = pers + 1\n",
    "        if 'Eating' in cond:\n",
    "            eat = eat + 1\n",
    "        if 'Substance Use' in cond:\n",
    "            sub = sub + 1\n",
    "        if 'Addictive' in cond:\n",
    "            addict = addict + 1\n",
    "        if 'Seasonal' in cond:\n",
    "            seas = seas + 1\n",
    "            \n",
    "condition = pd.DataFrame([mood,anx,att,ptsd,ocd,stress,pers,sub,eat,addict,psych,seas], \n",
    "['Mood', 'Anxiety', 'ADD', 'PTSD', 'OCD', 'Stress Response', 'Personality', 'Substance Abuse', 'Eating', 'Addiction', 'Psychotic', 'Seasonal Affective'], columns = ['Count'])\n",
    "condition"
   ]
  },
  {
   "cell_type": "code",
   "execution_count": 36,
   "metadata": {},
   "outputs": [
    {
     "data": {
      "text/plain": [
       "Text(0,0.5,'Count')"
      ]
     },
     "execution_count": 36,
     "metadata": {},
     "output_type": "execute_result"
    },
    {
     "data": {
      "image/png": "[encoded data removed]",
      "text/plain": [
       "<Figure size 432x288 with 1 Axes>"
      ]
     },
     "metadata": {},
     "output_type": "display_data"
    }
   ],
   "source": [
    "condition['Count'].plot(kind='bar');\n",
    "plt.title('Mental Disorder Counts (all)')\n",
    "plt.xlabel('Mental Disorder')\n",
    "plt.ylabel('Count')"
   ]
  },
  {
   "cell_type": "code",
   "execution_count": 37,
   "metadata": {},
   "outputs": [
    {
     "data": {
      "text/html": [
       "<div>\n",
       "<style scoped>\n",
       "    .dataframe tbody tr th:only-of-type {\n",
       "        vertical-align: middle;\n",
       "    }\n",
       "\n",
       "    .dataframe tbody tr th {\n",
       "        vertical-align: top;\n",
       "    }\n",
       "\n",
       "    .dataframe thead th {\n",
       "        text-align: right;\n",
       "    }\n",
       "</style>\n",
       "<table border=\"1\" class=\"dataframe\">\n",
       "  <thead>\n",
       "    <tr style=\"text-align: right;\">\n",
       "      <th></th>\n",
       "      <th>Count</th>\n",
       "    </tr>\n",
       "  </thead>\n",
       "  <tbody>\n",
       "    <tr>\n",
       "      <th>Mood</th>\n",
       "      <td>74</td>\n",
       "    </tr>\n",
       "    <tr>\n",
       "      <th>Anxiety</th>\n",
       "      <td>50</td>\n",
       "    </tr>\n",
       "    <tr>\n",
       "      <th>ADD</th>\n",
       "      <td>11</td>\n",
       "    </tr>\n",
       "    <tr>\n",
       "      <th>PTSD</th>\n",
       "      <td>7</td>\n",
       "    </tr>\n",
       "    <tr>\n",
       "      <th>OCD</th>\n",
       "      <td>7</td>\n",
       "    </tr>\n",
       "    <tr>\n",
       "      <th>Stress Response</th>\n",
       "      <td>7</td>\n",
       "    </tr>\n",
       "    <tr>\n",
       "      <th>Personality</th>\n",
       "      <td>10</td>\n",
       "    </tr>\n",
       "    <tr>\n",
       "      <th>Substance Abuse</th>\n",
       "      <td>2</td>\n",
       "    </tr>\n",
       "    <tr>\n",
       "      <th>Eating</th>\n",
       "      <td>3</td>\n",
       "    </tr>\n",
       "    <tr>\n",
       "      <th>Addiction</th>\n",
       "      <td>4</td>\n",
       "    </tr>\n",
       "    <tr>\n",
       "      <th>Psychotic</th>\n",
       "      <td>1</td>\n",
       "    </tr>\n",
       "    <tr>\n",
       "      <th>Seasonal Affective</th>\n",
       "      <td>0</td>\n",
       "    </tr>\n",
       "  </tbody>\n",
       "</table>\n",
       "</div>"
      ],
      "text/plain": [
       "                    Count\n",
       "Mood                   74\n",
       "Anxiety                50\n",
       "ADD                    11\n",
       "PTSD                    7\n",
       "OCD                     7\n",
       "Stress Response         7\n",
       "Personality            10\n",
       "Substance Abuse         2\n",
       "Eating                  3\n",
       "Addiction               4\n",
       "Psychotic               1\n",
       "Seasonal Affective      0"
      ]
     },
     "execution_count": 37,
     "metadata": {},
     "output_type": "execute_result"
    }
   ],
   "source": [
    "mood = 0\n",
    "anx = 0\n",
    "att = 0\n",
    "stress = 0\n",
    "ptsd = 0\n",
    "psych = 0\n",
    "ocd = 0\n",
    "pers = 0\n",
    "eat = 0\n",
    "sub = 0\n",
    "addict = 0\n",
    "seas = 0\n",
    "for cond in s_data['condition']:\n",
    "    if type(cond) is str:\n",
    "        if 'Mood' in cond:\n",
    "            mood = mood + 1\n",
    "        if 'Anxiety' in cond:\n",
    "                anx = anx + 1\n",
    "        if 'Attention' in cond:\n",
    "            att = att + 1\n",
    "        if 'Stress Response' in cond:\n",
    "            stress = stress + 1\n",
    "        if 'Post-traumatic' in cond:\n",
    "            ptsd = ptsd + 1\n",
    "        if 'Psychotic' in cond:\n",
    "            psych = psych + 1\n",
    "        if 'Obsessive' in cond:\n",
    "            ocd = ocd + 1\n",
    "        if 'Personality' in cond:\n",
    "            pers = pers + 1\n",
    "        if 'Eating' in cond:\n",
    "            eat = eat + 1\n",
    "        if 'Substance Use' in cond:\n",
    "            sub = sub + 1\n",
    "        if 'Addictive' in cond:\n",
    "            addict = addict + 1\n",
    "        if 'Seasonal' in cond:\n",
    "            seas = seas + 1\n",
    "            \n",
    "condition = pd.DataFrame([mood,anx,att,ptsd,ocd,stress,pers,sub,eat,addict,psych,seas], \n",
    "['Mood', 'Anxiety', 'ADD', 'PTSD', 'OCD', 'Stress Response', 'Personality', 'Substance Abuse', 'Eating', 'Addiction', 'Psychotic', 'Seasonal Affective'], columns = ['Count'])\n",
    "condition"
   ]
  },
  {
   "cell_type": "code",
   "execution_count": 38,
   "metadata": {},
   "outputs": [
    {
     "data": {
      "text/plain": [
       "Text(0,0.5,'Count')"
      ]
     },
     "execution_count": 38,
     "metadata": {},
     "output_type": "execute_result"
    },
    {
     "data": {
      "image/png": "[encoded data removed]",
      "text/plain": [
       "<Figure size 432x288 with 1 Axes>"
      ]
     },
     "metadata": {},
     "output_type": "display_data"
    }
   ],
   "source": [
    "condition['Count'].plot(kind='bar');\n",
    "plt.title('Mental Disorder Counts (sm)')\n",
    "plt.xlabel('Mental Disorder')\n",
    "plt.ylabel('Count')"
   ]
  },
  {
   "cell_type": "code",
   "execution_count": 39,
   "metadata": {},
   "outputs": [
    {
     "data": {
      "text/html": [
       "<div>\n",
       "<style scoped>\n",
       "    .dataframe tbody tr th:only-of-type {\n",
       "        vertical-align: middle;\n",
       "    }\n",
       "\n",
       "    .dataframe tbody tr th {\n",
       "        vertical-align: top;\n",
       "    }\n",
       "\n",
       "    .dataframe thead th {\n",
       "        text-align: right;\n",
       "    }\n",
       "</style>\n",
       "<table border=\"1\" class=\"dataframe\">\n",
       "  <thead>\n",
       "    <tr style=\"text-align: right;\">\n",
       "      <th></th>\n",
       "      <th>Count</th>\n",
       "    </tr>\n",
       "  </thead>\n",
       "  <tbody>\n",
       "    <tr>\n",
       "      <th>Mood</th>\n",
       "      <td>163</td>\n",
       "    </tr>\n",
       "    <tr>\n",
       "      <th>Anxiety</th>\n",
       "      <td>121</td>\n",
       "    </tr>\n",
       "    <tr>\n",
       "      <th>ADD</th>\n",
       "      <td>46</td>\n",
       "    </tr>\n",
       "    <tr>\n",
       "      <th>PTSD</th>\n",
       "      <td>20</td>\n",
       "    </tr>\n",
       "    <tr>\n",
       "      <th>OCD</th>\n",
       "      <td>16</td>\n",
       "    </tr>\n",
       "    <tr>\n",
       "      <th>Stress Response</th>\n",
       "      <td>9</td>\n",
       "    </tr>\n",
       "    <tr>\n",
       "      <th>Personality</th>\n",
       "      <td>6</td>\n",
       "    </tr>\n",
       "    <tr>\n",
       "      <th>Substance Abuse</th>\n",
       "      <td>7</td>\n",
       "    </tr>\n",
       "    <tr>\n",
       "      <th>Eating</th>\n",
       "      <td>4</td>\n",
       "    </tr>\n",
       "    <tr>\n",
       "      <th>Addiction</th>\n",
       "      <td>3</td>\n",
       "    </tr>\n",
       "    <tr>\n",
       "      <th>Psychotic</th>\n",
       "      <td>2</td>\n",
       "    </tr>\n",
       "    <tr>\n",
       "      <th>Seasonal Affective</th>\n",
       "      <td>0</td>\n",
       "    </tr>\n",
       "  </tbody>\n",
       "</table>\n",
       "</div>"
      ],
      "text/plain": [
       "                    Count\n",
       "Mood                  163\n",
       "Anxiety               121\n",
       "ADD                    46\n",
       "PTSD                   20\n",
       "OCD                    16\n",
       "Stress Response         9\n",
       "Personality             6\n",
       "Substance Abuse         7\n",
       "Eating                  4\n",
       "Addiction               3\n",
       "Psychotic               2\n",
       "Seasonal Affective      0"
      ]
     },
     "execution_count": 39,
     "metadata": {},
     "output_type": "execute_result"
    }
   ],
   "source": [
    "mood = 0\n",
    "anx = 0\n",
    "att = 0\n",
    "stress = 0\n",
    "ptsd = 0\n",
    "psych = 0\n",
    "ocd = 0\n",
    "pers = 0\n",
    "eat = 0\n",
    "sub = 0\n",
    "addict = 0\n",
    "seas = 0\n",
    "for cond in m_data['condition']:\n",
    "    if type(cond) is str:\n",
    "        if 'Mood' in cond:\n",
    "            mood = mood + 1\n",
    "        if 'Anxiety' in cond:\n",
    "                anx = anx + 1\n",
    "        if 'Attention' in cond:\n",
    "            att = att + 1\n",
    "        if 'Stress Response' in cond:\n",
    "            stress = stress + 1\n",
    "        if 'Post-traumatic' in cond:\n",
    "            ptsd = ptsd + 1\n",
    "        if 'Psychotic' in cond:\n",
    "            psych = psych + 1\n",
    "        if 'Obsessive' in cond:\n",
    "            ocd = ocd + 1\n",
    "        if 'Personality' in cond:\n",
    "            pers = pers + 1\n",
    "        if 'Eating' in cond:\n",
    "            eat = eat + 1\n",
    "        if 'Substance Use' in cond:\n",
    "            sub = sub + 1\n",
    "        if 'Addictive' in cond:\n",
    "            addict = addict + 1\n",
    "        if 'Seasonal' in cond:\n",
    "            seas = seas + 1\n",
    "            \n",
    "condition = pd.DataFrame([mood,anx,att,ptsd,ocd,stress,pers,sub,eat,addict,psych,seas], \n",
    "['Mood', 'Anxiety', 'ADD', 'PTSD', 'OCD', 'Stress Response', 'Personality', 'Substance Abuse', 'Eating', 'Addiction', 'Psychotic', 'Seasonal Affective'], columns = ['Count'])\n",
    "condition"
   ]
  },
  {
   "cell_type": "code",
   "execution_count": 40,
   "metadata": {},
   "outputs": [
    {
     "data": {
      "text/plain": [
       "Text(0,0.5,'Count')"
      ]
     },
     "execution_count": 40,
     "metadata": {},
     "output_type": "execute_result"
    },
    {
     "data": {
      "image/png": "[encoded data removed]",
      "text/plain": [
       "<Figure size 432x288 with 1 Axes>"
      ]
     },
     "metadata": {},
     "output_type": "display_data"
    }
   ],
   "source": [
    "condition['Count'].plot(kind='bar');\n",
    "plt.title('Mental Disorder Counts (med)')\n",
    "plt.xlabel('Mental Disorder')\n",
    "plt.ylabel('Count')"
   ]
  },
  {
   "cell_type": "code",
   "execution_count": 41,
   "metadata": {},
   "outputs": [
    {
     "data": {
      "text/html": [
       "<div>\n",
       "<style scoped>\n",
       "    .dataframe tbody tr th:only-of-type {\n",
       "        vertical-align: middle;\n",
       "    }\n",
       "\n",
       "    .dataframe tbody tr th {\n",
       "        vertical-align: top;\n",
       "    }\n",
       "\n",
       "    .dataframe thead th {\n",
       "        text-align: right;\n",
       "    }\n",
       "</style>\n",
       "<table border=\"1\" class=\"dataframe\">\n",
       "  <thead>\n",
       "    <tr style=\"text-align: right;\">\n",
       "      <th></th>\n",
       "      <th>Count</th>\n",
       "    </tr>\n",
       "  </thead>\n",
       "  <tbody>\n",
       "    <tr>\n",
       "      <th>Mood</th>\n",
       "      <td>85</td>\n",
       "    </tr>\n",
       "    <tr>\n",
       "      <th>Anxiety</th>\n",
       "      <td>54</td>\n",
       "    </tr>\n",
       "    <tr>\n",
       "      <th>ADD</th>\n",
       "      <td>23</td>\n",
       "    </tr>\n",
       "    <tr>\n",
       "      <th>PTSD</th>\n",
       "      <td>12</td>\n",
       "    </tr>\n",
       "    <tr>\n",
       "      <th>OCD</th>\n",
       "      <td>5</td>\n",
       "    </tr>\n",
       "    <tr>\n",
       "      <th>Stress Response</th>\n",
       "      <td>3</td>\n",
       "    </tr>\n",
       "    <tr>\n",
       "      <th>Personality</th>\n",
       "      <td>3</td>\n",
       "    </tr>\n",
       "    <tr>\n",
       "      <th>Substance Abuse</th>\n",
       "      <td>4</td>\n",
       "    </tr>\n",
       "    <tr>\n",
       "      <th>Eating</th>\n",
       "      <td>5</td>\n",
       "    </tr>\n",
       "    <tr>\n",
       "      <th>Addiction</th>\n",
       "      <td>2</td>\n",
       "    </tr>\n",
       "    <tr>\n",
       "      <th>Psychotic</th>\n",
       "      <td>1</td>\n",
       "    </tr>\n",
       "    <tr>\n",
       "      <th>Seasonal Affective</th>\n",
       "      <td>1</td>\n",
       "    </tr>\n",
       "  </tbody>\n",
       "</table>\n",
       "</div>"
      ],
      "text/plain": [
       "                    Count\n",
       "Mood                   85\n",
       "Anxiety                54\n",
       "ADD                    23\n",
       "PTSD                   12\n",
       "OCD                     5\n",
       "Stress Response         3\n",
       "Personality             3\n",
       "Substance Abuse         4\n",
       "Eating                  5\n",
       "Addiction               2\n",
       "Psychotic               1\n",
       "Seasonal Affective      1"
      ]
     },
     "execution_count": 41,
     "metadata": {},
     "output_type": "execute_result"
    }
   ],
   "source": [
    "mood = 0\n",
    "anx = 0\n",
    "att = 0\n",
    "stress = 0\n",
    "ptsd = 0\n",
    "psych = 0\n",
    "ocd = 0\n",
    "pers = 0\n",
    "eat = 0\n",
    "sub = 0\n",
    "addict = 0\n",
    "seas = 0\n",
    "for cond in l_data['condition']:\n",
    "    if type(cond) is str:\n",
    "        if 'Mood' in cond:\n",
    "            mood = mood + 1\n",
    "        if 'Anxiety' in cond:\n",
    "                anx = anx + 1\n",
    "        if 'Attention' in cond:\n",
    "            att = att + 1\n",
    "        if 'Stress Response' in cond:\n",
    "            stress = stress + 1\n",
    "        if 'Post-traumatic' in cond:\n",
    "            ptsd = ptsd + 1\n",
    "        if 'Psychotic' in cond:\n",
    "            psych = psych + 1\n",
    "        if 'Obsessive' in cond:\n",
    "            ocd = ocd + 1\n",
    "        if 'Personality' in cond:\n",
    "            pers = pers + 1\n",
    "        if 'Eating' in cond:\n",
    "            eat = eat + 1\n",
    "        if 'Substance Use' in cond:\n",
    "            sub = sub + 1\n",
    "        if 'Addictive' in cond:\n",
    "            addict = addict + 1\n",
    "        if 'Seasonal' in cond:\n",
    "            seas = seas + 1\n",
    "            \n",
    "condition = pd.DataFrame([mood,anx,att,ptsd,ocd,stress,pers,sub,eat,addict,psych,seas], \n",
    "['Mood', 'Anxiety', 'ADD', 'PTSD', 'OCD', 'Stress Response', 'Personality', 'Substance Abuse', 'Eating', 'Addiction', 'Psychotic', 'Seasonal Affective'], columns = ['Count'])\n",
    "condition"
   ]
  },
  {
   "cell_type": "code",
   "execution_count": 42,
   "metadata": {},
   "outputs": [
    {
     "data": {
      "text/plain": [
       "Text(0,0.5,'Count')"
      ]
     },
     "execution_count": 42,
     "metadata": {},
     "output_type": "execute_result"
    },
    {
     "data": {
      "image/png": "[encoded data removed]",
      "text/plain": [
       "<Figure size 432x288 with 1 Axes>"
      ]
     },
     "metadata": {},
     "output_type": "display_data"
    }
   ],
   "source": [
    "condition['Count'].plot(kind='bar');\n",
    "plt.title('Mental Disorder Counts (lg)')\n",
    "plt.xlabel('Mental Disorder')\n",
    "plt.ylabel('Count')"
   ]
  },
  {
   "cell_type": "markdown",
   "metadata": {},
   "source": [
    "## Linear Regression: Age Vs Mental Healthcare\n",
    "There is a clear and strong postive correlation from the graphs below. The most outstanding graph was the graph of the large company size data with strongest and clearest trend of the three company sizes."
   ]
  },
  {
   "cell_type": "code",
   "execution_count": 43,
   "metadata": {},
   "outputs": [
    {
     "data": {
      "text/plain": [
       "Text(0,0.5,'Mental Healthcare')"
      ]
     },
     "execution_count": 43,
     "metadata": {},
     "output_type": "execute_result"
    },
    {
     "data": {
      "image/png": "[encoded data removed]",
      "text/plain": [
       "<Figure size 432x288 with 1 Axes>"
      ]
     },
     "metadata": {},
     "output_type": "display_data"
    }
   ],
   "source": [
    "from sklearn.linear_model import LinearRegression\n",
    "\n",
    "x = np.array(data['age'])\n",
    "X = []\n",
    "for i, each in enumerate(x):\n",
    "    X.append([i, each])\n",
    "X = np.array(X)\n",
    "\n",
    "y = np.array(data['mental_health_care'])\n",
    "Y = []\n",
    "for i, each in enumerate(y):\n",
    "    Y.append([i, each])\n",
    "Y = np.array(Y)\n",
    "\n",
    "reg = LinearRegression().fit(X, Y)\n",
    "plt.scatter(x, reg.predict(X)[:, 1])\n",
    "plt.title('Linear Regression: Age Vs Mental Health Care')\n",
    "plt.xlabel('Age')\n",
    "plt.ylabel('Mental Healthcare')"
   ]
  },
  {
   "cell_type": "code",
   "execution_count": 44,
   "metadata": {},
   "outputs": [
    {
     "data": {
      "text/plain": [
       "Text(0,0.5,'Mental Healthcare')"
      ]
     },
     "execution_count": 44,
     "metadata": {},
     "output_type": "execute_result"
    },
    {
     "data": {
      "image/png": "[encoded data removed]",
      "text/plain": [
       "<Figure size 432x288 with 1 Axes>"
      ]
     },
     "metadata": {},
     "output_type": "display_data"
    }
   ],
   "source": [
    "from sklearn.linear_model import LinearRegression\n",
    "\n",
    "xs = np.array(s_data['age'])\n",
    "Xs = []\n",
    "for i, each in enumerate(xs):\n",
    "    Xs.append([i, each])\n",
    "Xs = np.array(Xs)\n",
    "\n",
    "ys = np.array(s_data['mental_health_care'])\n",
    "Ys = []\n",
    "for i, each in enumerate(ys):\n",
    "    Ys.append([i, each])\n",
    "Ys = np.array(Ys)\n",
    "\n",
    "regs = LinearRegression().fit(Xs, Ys)\n",
    "plt.scatter(xs, regs.predict(Xs)[:, 1])\n",
    "plt.title('Linear Regression: Age Vs Mental Health Care (sm)')\n",
    "plt.xlabel('Age')\n",
    "plt.ylabel('Mental Healthcare')"
   ]
  },
  {
   "cell_type": "code",
   "execution_count": 45,
   "metadata": {},
   "outputs": [
    {
     "data": {
      "text/plain": [
       "Text(0,0.5,'Mental Healthcare')"
      ]
     },
     "execution_count": 45,
     "metadata": {},
     "output_type": "execute_result"
    },
    {
     "data": {
      "image/png": "[encoded data removed]",
      "text/plain": [
       "<Figure size 432x288 with 1 Axes>"
      ]
     },
     "metadata": {},
     "output_type": "display_data"
    }
   ],
   "source": [
    "from sklearn.linear_model import LinearRegression\n",
    "\n",
    "xm = np.array(m_data['age'])\n",
    "Xm = []\n",
    "for i, each in enumerate(xm):\n",
    "    Xm.append([i, each])\n",
    "Xm = np.array(Xm)\n",
    "\n",
    "ym = np.array(m_data['mental_health_care'])\n",
    "Ym = []\n",
    "for i, each in enumerate(ym):\n",
    "    Ym.append([i, each])\n",
    "Ym = np.array(Ym)\n",
    "\n",
    "regm = LinearRegression().fit(Xm, Ym)\n",
    "plt.scatter(xm, regm.predict(Xm)[:, 1])\n",
    "plt.title('Linear Regression: Age Vs Mental Health Care (med)')\n",
    "plt.xlabel('Age')\n",
    "plt.ylabel('Mental Healthcare')"
   ]
  },
  {
   "cell_type": "code",
   "execution_count": 46,
   "metadata": {},
   "outputs": [
    {
     "data": {
      "text/plain": [
       "Text(0,0.5,'Mental Healthcare')"
      ]
     },
     "execution_count": 46,
     "metadata": {},
     "output_type": "execute_result"
    },
    {
     "data": {
      "image/png": "[encoded data removed]",
      "text/plain": [
       "<Figure size 432x288 with 1 Axes>"
      ]
     },
     "metadata": {},
     "output_type": "display_data"
    }
   ],
   "source": [
    "from sklearn.linear_model import LinearRegression\n",
    "\n",
    "xl = np.array(l_data['age'])\n",
    "Xl = []\n",
    "for i, each in enumerate(xl):\n",
    "    Xl.append([i, each])\n",
    "Xl = np.array(Xl)\n",
    "\n",
    "yl = np.array(l_data['mental_health_care'])\n",
    "Yl = []\n",
    "for i, each in enumerate(yl):\n",
    "    Yl.append([i, each])\n",
    "Yl = np.array(Yl)\n",
    "\n",
    "regl = LinearRegression().fit(Xl, Yl)\n",
    "plt.scatter(xl, regl.predict(Xl)[:, 1])\n",
    "plt.title('Linear Regression: Age Vs Mental Health Care (lg)')\n",
    "plt.xlabel('Age')\n",
    "plt.ylabel('Mental Healthcare')"
   ]
  },
  {
   "cell_type": "markdown",
   "metadata": {},
   "source": [
    "## Linear Regression: Age Vs Mental Discussion Negative\n",
    "There is a unclear and week postive correlation from the graphs below. The most outstanding graph was the graph of the large company size data with strongest and clearest trend of the three company sizes. The belief that self mental disorder discussion with the boss does not increase much with age."
   ]
  },
  {
   "cell_type": "code",
   "execution_count": 47,
   "metadata": {},
   "outputs": [
    {
     "data": {
      "text/plain": [
       "Text(0,0.5,'Mental Health Discussion Negative Effect')"
      ]
     },
     "execution_count": 47,
     "metadata": {},
     "output_type": "execute_result"
    },
    {
     "data": {
      "image/png": "[encoded data removed]",
      "text/plain": [
       "<Figure size 432x288 with 1 Axes>"
      ]
     },
     "metadata": {},
     "output_type": "display_data"
    }
   ],
   "source": [
    "y2 = np.array(data['mental_discussion_negative'])\n",
    "Y2 = []\n",
    "for i, each in enumerate(y2):\n",
    "    Y2.append([i, each])\n",
    "Y2 = np.array(Y2)\n",
    "\n",
    "reg2 = LinearRegression().fit(X, Y2)\n",
    "\n",
    "plt.scatter(x, reg2.predict(X)[:, 1])\n",
    "plt.title('Linear Regression: Age Vs Mental Health Discussion Negative Effect (all)')\n",
    "plt.xlabel('Age')\n",
    "plt.ylabel('Mental Health Discussion Negative Effect')\n",
    "# the younger you are, the MORE likely you are to say that having a discussion with your boss about\n",
    "# mental health issues will NOT have negative consequences\n",
    "# if you are older, you are MORE likely to say that having such a discussion with your boss \n",
    "# will result in negative consequences"
   ]
  },
  {
   "cell_type": "code",
   "execution_count": 48,
   "metadata": {},
   "outputs": [
    {
     "data": {
      "text/plain": [
       "Text(0,0.5,'Mental Health Discussion Negative Effect')"
      ]
     },
     "execution_count": 48,
     "metadata": {},
     "output_type": "execute_result"
    },
    {
     "data": {
      "image/png": "[encoded data removed]",
      "text/plain": [
       "<Figure size 432x288 with 1 Axes>"
      ]
     },
     "metadata": {},
     "output_type": "display_data"
    }
   ],
   "source": [
    "ys2 = np.array(s_data['mental_discussion_negative'])\n",
    "Ys2 = []\n",
    "for i, each in enumerate(ys2):\n",
    "    Ys2.append([i, each])\n",
    "Ys2 = np.array(Ys2)\n",
    "\n",
    "regs2 = LinearRegression().fit(Xs, Ys2)\n",
    "\n",
    "plt.scatter(xs, regs2.predict(Xs)[:, 1])\n",
    "plt.title('Linear Regression: Age Vs Mental Health Discussion Negative Effect (sm)')\n",
    "plt.xlabel('Age')\n",
    "plt.ylabel('Mental Health Discussion Negative Effect')"
   ]
  },
  {
   "cell_type": "code",
   "execution_count": 49,
   "metadata": {},
   "outputs": [
    {
     "data": {
      "text/plain": [
       "Text(0,0.5,'Mental Health Discussion Negative Effect')"
      ]
     },
     "execution_count": 49,
     "metadata": {},
     "output_type": "execute_result"
    },
    {
     "data": {
      "image/png": "[encoded data removed]",
      "text/plain": [
       "<Figure size 432x288 with 1 Axes>"
      ]
     },
     "metadata": {},
     "output_type": "display_data"
    }
   ],
   "source": [
    "ym2 = np.array(m_data['mental_discussion_negative'])\n",
    "Ym2 = []\n",
    "for i, each in enumerate(ym2):\n",
    "    Ym2.append([i, each])\n",
    "Ym2 = np.array(Ym2)\n",
    "\n",
    "regm2 = LinearRegression().fit(Xm, Ym2)\n",
    "\n",
    "plt.scatter(xm, regm2.predict(Xm)[:, 1])\n",
    "plt.title('Linear Regression: Age Vs Mental Health Discussion Negative Effect (md)')\n",
    "plt.xlabel('Age')\n",
    "plt.ylabel('Mental Health Discussion Negative Effect')"
   ]
  },
  {
   "cell_type": "code",
   "execution_count": 50,
   "metadata": {},
   "outputs": [
    {
     "data": {
      "text/plain": [
       "Text(0,0.5,'Mental Health Discussion Negative Effect')"
      ]
     },
     "execution_count": 50,
     "metadata": {},
     "output_type": "execute_result"
    },
    {
     "data": {
      "image/png": "[encoded data removed]",
      "text/plain": [
       "<Figure size 432x288 with 1 Axes>"
      ]
     },
     "metadata": {},
     "output_type": "display_data"
    }
   ],
   "source": [
    "yl2 = np.array(l_data['mental_discussion_negative'])\n",
    "Yl2 = []\n",
    "for i, each in enumerate(yl2):\n",
    "    Yl2.append([i, each])\n",
    "Yl2 = np.array(Yl2)\n",
    "\n",
    "regl2 = LinearRegression().fit(Xl, Yl2)\n",
    "\n",
    "plt.scatter(xl, regl2.predict(Xl)[:, 1])\n",
    "plt.title('Linear Regression: Age Vs Mental Health Discussion Negative Effect (lg)')\n",
    "plt.xlabel('Age')\n",
    "plt.ylabel('Mental Health Discussion Negative Effect')"
   ]
  },
  {
   "cell_type": "markdown",
   "metadata": {},
   "source": [
    "## Linear Regression: Age Vs Mental Disorder\n",
    "There is a clear and moderate postive correlation from the graphs below. The most outstanding graph was the graph of the large company size data with strongest and clearest trend of the three company sizes. This follows our theory that people are more susceptible to metal illness with age."
   ]
  },
  {
   "cell_type": "code",
   "execution_count": 51,
   "metadata": {},
   "outputs": [
    {
     "data": {
      "text/plain": [
       "Text(0,0.5,'Mental Disorder')"
      ]
     },
     "execution_count": 51,
     "metadata": {},
     "output_type": "execute_result"
    },
    {
     "data": {
      "image/png": "[encoded data removed]",
      "text/plain": [
       "<Figure size 432x288 with 1 Axes>"
      ]
     },
     "metadata": {},
     "output_type": "display_data"
    }
   ],
   "source": [
    "y3 = np.array(data['mental_disorder'])\n",
    "Y3 = []\n",
    "for i, each in enumerate(y3):\n",
    "    Y3.append([i, each])\n",
    "Y3 = np.array(Y3)\n",
    "\n",
    "reg3 = LinearRegression().fit(X, Y3)\n",
    "\n",
    "plt.scatter(x, reg3.predict(X)[:, 1])\n",
    "plt.title('Linear Regression: Age Vs Mental Disorder (all)')\n",
    "plt.xlabel('Age')\n",
    "plt.ylabel('Mental Disorder')"
   ]
  },
  {
   "cell_type": "code",
   "execution_count": 52,
   "metadata": {
    "scrolled": true
   },
   "outputs": [
    {
     "data": {
      "text/plain": [
       "Text(0,0.5,'Mental Disorder')"
      ]
     },
     "execution_count": 52,
     "metadata": {},
     "output_type": "execute_result"
    },
    {
     "data": {
      "image/png": "[encoded data removed]",
      "text/plain": [
       "<Figure size 432x288 with 1 Axes>"
      ]
     },
     "metadata": {},
     "output_type": "display_data"
    }
   ],
   "source": [
    "ys3 = np.array(s_data['mental_disorder'])\n",
    "Ys3 = []\n",
    "for i, each in enumerate(ys3):\n",
    "    Ys3.append([i, each])\n",
    "Ys3 = np.array(Ys3)\n",
    "\n",
    "regs3 = LinearRegression().fit(Xs, Ys3)\n",
    "\n",
    "plt.scatter(xs, regs3.predict(Xs)[:, 1])\n",
    "plt.title('Linear Regression: Age Vs Mental Disorder (sm)')\n",
    "plt.xlabel('Age')\n",
    "plt.ylabel('Mental Disorder')"
   ]
  },
  {
   "cell_type": "code",
   "execution_count": 53,
   "metadata": {},
   "outputs": [
    {
     "data": {
      "text/plain": [
       "Text(0,0.5,'Mental Disorder')"
      ]
     },
     "execution_count": 53,
     "metadata": {},
     "output_type": "execute_result"
    },
    {
     "data": {
      "image/png": "[encoded data removed]",
      "text/plain": [
       "<Figure size 432x288 with 1 Axes>"
      ]
     },
     "metadata": {},
     "output_type": "display_data"
    }
   ],
   "source": [
    "ym3 = np.array(m_data['mental_disorder'])\n",
    "Ym3 = []\n",
    "for i, each in enumerate(ym3):\n",
    "    Ym3.append([i, each])\n",
    "Ym3 = np.array(Ym3)\n",
    "\n",
    "regm3 = LinearRegression().fit(Xm, Ym3)\n",
    "\n",
    "plt.scatter(xm, regm3.predict(Xm)[:, 1])\n",
    "plt.title('Linear Regression: Age Vs Mental Disorder (md)')\n",
    "plt.xlabel('Age')\n",
    "plt.ylabel('Mental Disorder')"
   ]
  },
  {
   "cell_type": "code",
   "execution_count": 54,
   "metadata": {},
   "outputs": [
    {
     "data": {
      "text/plain": [
       "Text(0,0.5,'Mental Disorder')"
      ]
     },
     "execution_count": 54,
     "metadata": {},
     "output_type": "execute_result"
    },
    {
     "data": {
      "image/png": "[encoded data removed]",
      "text/plain": [
       "<Figure size 432x288 with 1 Axes>"
      ]
     },
     "metadata": {},
     "output_type": "display_data"
    }
   ],
   "source": [
    "yl3 = np.array(l_data['mental_disorder'])\n",
    "Yl3 = []\n",
    "for i, each in enumerate(yl3):\n",
    "    Yl3.append([i, each])\n",
    "Yl3 = np.array(Yl3)\n",
    "\n",
    "regl3 = LinearRegression().fit(Xl, Yl3)\n",
    "\n",
    "plt.scatter(xl, regl3.predict(Xl)[:, 1])\n",
    "plt.title('Linear Regression: Age Vs Mental Disorder (lg)')\n",
    "plt.xlabel('Age')\n",
    "plt.ylabel('Mental Disorder')"
   ]
  },
  {
   "cell_type": "markdown",
   "metadata": {},
   "source": [
    "## Ethics & Privacy\n",
    "\n",
    "While we attempt to draw conclusions, we will be working with personal information of various employees’ age, gender, family mental health, ect. taken from the 2016 Open Sourcing Mental Illness (OSMI) Mental Health Tech Survey. It is important to note that the data we are using has been released to the public under a Creative Commons Attribution - ShareAlike 4.0 International License. This license allows anyone to redistribute, “transform, and build upon the material for any purpose, even commercially” (as described on the [Creative Commons website](https://creativecommons.org/licenses/by-sa/4.0/)). This license gives us permission to use the data for this project. \n",
    "\n",
    "Prior to completing the survey, OSMI informed the participants that “all responses are anonymous, and (that) no identifying information will be collected or stored.” This is true, by the definition of identifiers provided by the Safe Harbour Method, since none of those variables are present within the dataset to start with. The only possible variable that would violate this method would be age, since some participants reported to be over 90 years old. To fully protect the anonymity of the participants in our analysis, any response whose age was outside the range of (18,65) was removed during the data-cleaning process.Also, as mentioned before, the Creative Commons License allows us to modify the dataset in such a way that is needed to reach a conclusion. \n",
    "\n",
    "All the data was ethically procured, since participants elected to take the survey knowing that it was anonymous and with the knowledge that the information collected could be distributed publicly. While the sample size of those who did complete the survey is sufficient to analyze, it cannot necessarily be extrapolated as a reliable sample of the tech industry as a whole due to the fact that there might be some bias. Because the survey was voluntary, there was no means of randomization or random sampling that would reduce the responses at any extreme. For example, someone with the mental illness may be more prone to find the OSMI survey or more inclined to take it, as they would be more affected in raising awareness for mental illness in their industry. This may lead to bias in the data.\n"
   ]
  },
  {
   "cell_type": "markdown",
   "metadata": {},
   "source": [
    "## Conclusion & Discussion\n",
    "Based on our analysis, we’ve concluded that company size has a strong correlation with both frequency of mental disorder diagnosis in employees as well as negative beliefs about how mental health is addressed in their workplace. There is a clear correlation between company size and the ratio with and without mental disorders. As the size of the company grows, the employees were more likely to have a mental disorder. In our regression of mental disorder and age, the large size companies had the strongest positive correlation along with all the linear regression graphs. From our bar plot with age range and mental disorder, we say that age may be a confounding variable to the correlation we found. Mental disorder increased through age, regardless of company size. Peaking in growth around the 32-39 age group which is said to be around the middle aged crisis. Another reason for this increase in mental disorder as people age may be due to the fact that there is a strong positive linear relationship between age and having mental health care. It could be that the reason rates in get higher as people age is due to having better coverage and the ability to be diagnosed. The larger amount of mental disorders in larger company may also be due to the fact that the average age of an employee in a company increase with size. Small, medium and large company average ages are 31.7, 32.7 and 34.1 respectively. There is a clear indication that the average age may take partial effect for the negative effect on mental health and increase in mental disorders as company sizes increase. Age has a clear cut effect on mental illness and that has a confounding effect on our claim though there is a seen effect of company size on the mental health of employees.\n",
    "\n",
    "Our other hypothesis effect that larger companies have a more negative environment of mental health due to the fact that purely by size, a single individual does not feel important and replaceable in the system. Their sense of purpose and self worth would be diminished by the stark environment without much meaningful connection to those they spend most of their day with. This was not as clear so we chose not to reject the null hypothesis that larger companies have a more negative environment. The clearer trend we saw from the analysis of negative environment had to do with the perceived effect of having a mental disorder in the workplace would cause. In large companies, those who do not have mental illness will determine their believe of whether mental health issue can hurt their career based on the observed negative consequences. While those with a diagnosed mental disorder will have less of a change in their belief that mental health issues will hurt their career with observing negative consequences at work or not. If there are observed negative consequences at work, those with mental disorders or not have about the same rate with those affected by mental disorder being a little higher of believing that mental health issues will hurt their career at around 65-75% believing yes. On the other hand, in the circumstance of no observed negative consequences, those with mental disorder believed that having mental health issues will negatively affect their career is around 45% while those without mental disorders were 35%. Those with mental disorders still feel the stigma around having one and seem more reluctant to share which can be more detrimental to their mental health in the long run.\n"
   ]
  },
  {
   "cell_type": "code",
   "execution_count": null,
   "metadata": {},
   "outputs": [],
   "source": []
  }
 ],
 "metadata": {
  "kernelspec": {
   "display_name": "Python 3",
   "language": "python",
   "name": "python3"
  },
  "language_info": {
   "codemirror_mode": {
    "name": "ipython",
    "version": 3
   },
   "file_extension": ".py",
   "mimetype": "text/x-python",
   "name": "python",
   "nbconvert_exporter": "python",
   "pygments_lexer": "ipython3",
   "version": "3.6.5"
  }
 },
 "nbformat": 4,
 "nbformat_minor": 2
}
