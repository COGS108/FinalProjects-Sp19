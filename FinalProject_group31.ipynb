{
 "cells": [
  {
   "cell_type": "markdown",
   "metadata": {},
   "source": [
    "# COGS 108 - TRITON DRUNK"
   ]
  },
  {
   "cell_type": "markdown",
   "metadata": {},
   "source": [
    "# Overview\n",
    "People love beers for different reasons. Some drink beers because beers contain two sleep-promoting \n",
    "B vitamins, making them terrific natural sleep aids while some just love the smell and taste of beer.\n",
    "Beers in the market vary in smell, taste, color, style, and ABV ( Alcohol by Volume). \n",
    "This project focus on how those properties influence their overall rating.\n",
    "\n",
    "We use the datasets from Beer Ratings - Predict the rating of a beer from user reviews (https://www.kaggle.com/c/beer-ratings/) to present the correlation between\n",
    "beer's properties and beer's overall rating. We also utilize python tool to draw some diagram so we can visualize the correlations.\n",
    "\n",
    "There is also an ethical problem involved in beer drinking. In many societies, drinking alcohol is forbidden because it causes serious problems, e.g. DUI (Driving under the influence), crime, etc. \n",
    "For that reason, in the second part of the project we will also focus on the correlation between alcohol and driving deaths.\n",
    "We will use data from Occupant and Alcohol-Impaired Driving Deaths in States (https://healthdata.gov/dataset/occupant-and-alcohol-impaired-driving-deaths-states-2005-2014)\n",
    "to present such correlation."
   ]
  },
  {
   "cell_type": "markdown",
   "metadata": {},
   "source": [
    "# Group Members\n",
    "* Toan Bui                  (A13599266)\n",
    "* Hongru Yu                 (A13324346)\n",
    "* Xiaokang (Paul) Lin       (A14694178)\n",
    "* Haorong Chen              (A13616222)\n",
    "* Niklas Sprute             (A15105073)\n",
    "* Cong (Charlie) Li         (A15340342)"
   ]
  },
  {
   "cell_type": "markdown",
   "metadata": {},
   "source": [
    "# Research Questions\n",
    "\n",
    "* Main Question: \n",
    "    * How do different properties of beer (i.e: taste, palate, aroma and appearance) affect its overall rating? In other words, which property contributes the most to the overall rating of a beer. Additionally, given user reviews, can we determine the sentiment of each review to predict the overall rating for a particular type of beer using NLP/Sentiment analysis?\n",
    "\n",
    "\n",
    "* Ethical Consideration:\n",
    "   *  Is there a correlation between the level of alcohol consumption and the number of DUI deaths within a particular state? In other words, if we were to assign to each state a 'State Alcohol-Addiction Index' (which signifies the level of alcohol dependency among the state population), then does a higher index correspond to a higher percentage of DUI deaths compared to all driving deaths? "
   ]
  },
  {
   "cell_type": "markdown",
   "metadata": {},
   "source": [
    "# Background and Prior Work\n",
    "\n",
    "Whenever someone goes to a restaurant, they may struggle to order themselves the right type of beer. Because the process of making beer is very complex, every beer has its own unique taste. In order to analyze how different properties of beer shape its overall impression, an extensive beer survey has been conducted by consumer websites for advertisement purposes (https://www.kaggle.com/c/beer-ratings/). \n",
    "\n",
    "We decided to use this beer-ratings data to determine how each property (taste, palate, aroma and appearance) contributes to the overall rating of beer and how those correlations change among different beer types. At the end of our study, we aim to better inform consumers to choose the right beer or at least, when deciding which beer to drink, they can at least take into consideration specific characteristics of beers to guide them toward the best beer choice. \n",
    "\n",
    "However, due to our ethical considerations, the second part of our study aims to explore the possible correlation between alcohol consumption and DUI rates in different states. We obtained data from the Behavioral Risk Factor Surveillance System (BRFSS) which is the nation’s premier system of health-related telephone surveys that collect state data about U.S. residents regarding their health-related risk behaviors, chronic health conditions, and use of preventive services. \n",
    "\n",
    "There exists no prior research utilizing the specific beer-ratings dataset that was chosen for our analysis. \n",
    "\n",
    "The online survey data conducted by BRFSS will be used to produce an alcohol consumption rating on each state (which we called \"State Alcohol-Addiction Index\"). We will then explore the possible correlation between the consumption and DUI. With this part of our study, we aim to warn people about the danger of excessive drinking and what it can lead to afterwards.\n"
   ]
  },
  {
   "cell_type": "markdown",
   "metadata": {},
   "source": [
    "# Hypothesis\n",
    "\n",
    "People tend to enjoy a beverage for its taste instead of how it looks or smells. Take Coke for example: even though Coke has a dark color (instead of being colorful) and it also does not have much smell, people still enjoy drink Coke for its refreshing taste. \n",
    "\n",
    "Like Coke, beer is a type of beverage, and hence it is likely that people will also enjoy beer for its taste instead of its aroma or appearance. Hence, we predict that taste will be the feature that contributes the most to the overall rating of beer. \n",
    "\n",
    "To verify our hypothesis, we will take into consideration different properties of beer, from appearance, aroma, palate and taste to determine which feature correlates the most to the overall rating of beer. \n"
   ]
  },
  {
   "cell_type": "markdown",
   "metadata": {},
   "source": [
    "# Dataset(s)\n",
    "\n",
    "* DATASET 1: Beer Ratings - Predict the rating of a beer from user reviews.\n",
    "    - Link: https://www.kaggle.com/c/beer-ratings/\n",
    "    \n",
    "    - For this dataset, we will use the data from appearance, aroma, overall, palate, taste to analyze the correlation between beer's characteristics and its overall rating. We will also use the review/text column to perform NLP analysis and predict beer rating from user's text reviews. \n",
    "    \n",
    "\n",
    "* DATASET 2: BRFSS Table of Alcohol Consumption\n",
    "    - Link: https://chronicdata.cdc.gov/Behavioral-Risk-Factors/BRFSS-Table-of-Alcohol-Consumption/dts9-xy2f\n",
    "    - For this dataset, we have the alcohol consumption data categorized by state, year and age. The data is obtained by random phone calls in the designated states asking questions to evaluate the degree of alcohol dependency of each individual, which is then categorized into 3 degrees (regular alcohol consumption, binge drinking and heavy drinking) The geographic location of the calls are also included. \n",
    "\n",
    "\n",
    "* DATASET 3: Occupant and Alcohol-Impaired Driving Deaths in States, 2005-2014\n",
    "\n",
    "    - Link: https://healthdata.gov/dataset/occupant-and-alcohol-impaired-driving-deaths-states-2005-2014\n",
    "    - This dataset contains data about all persons killed in crashes involving a driver with BAC >= .08 g/dL in different states. from 2005 to 2014\n",
    "    - We will use the Driving Deaths and Occupant Deaths columns to evaluate how DUI deaths contribute to total driving death (accidents)  \n"
   ]
  },
  {
   "cell_type": "markdown",
   "metadata": {},
   "source": [
    "# Setup\n"
   ]
  },
  {
   "cell_type": "code",
   "execution_count": 1,
   "metadata": {},
   "outputs": [],
   "source": [
    "# Imports - these provided for you. Do not import any other packages\n",
    "import pandas as pd\n",
    "import numpy as np\n",
    "import matplotlib.pyplot as plt\n",
    "import seaborn as sns\n",
    "from sklearn.metrics import mean_squared_error"
   ]
  },
  {
   "cell_type": "markdown",
   "metadata": {},
   "source": [
    "# Data Cleaning"
   ]
  },
  {
   "cell_type": "code",
   "execution_count": 2,
   "metadata": {
    "scrolled": true
   },
   "outputs": [
    {
     "name": "stderr",
     "output_type": "stream",
     "text": [
      "/Users/khanhtoanbui/anaconda3/lib/python3.7/site-packages/IPython/core/interactiveshell.py:3020: DtypeWarning: Columns (13) have mixed types. Specify dtype option on import or set low_memory=False.\n",
      "  interactivity=interactivity, compiler=compiler, result=result)\n"
     ]
    }
   ],
   "source": [
    "alc_consump_dat = pd.read_csv('data/BRFSS__Table_of_Alcohol_Consumption.csv')\n",
    "dui_dat = pd.read_csv('data/Occupant_and_Alcohol-Impaired_Driving_Deaths_in_States__2005-2014.csv')\n",
    "beer_dat = pd.read_csv('data/train.csv')\n",
    "beer_dat_NLP = pd.read_csv('data/train.csv')\n",
    "\n",
    "alc_consump_dat.drop(columns=['BreakoutID','LocationID','Break_Out_Category','GeoLocation','Locationdesc',\n",
    "                              'Class','ClassId','TopicId','Data_Value_Footnote_Symbol','DataSource',\n",
    "                              'Data_Value_Footnote','ResponseID', 'QuestionID', 'BreakOutCategoryID'], inplace=True)\n",
    "alc_consump_dat = alc_consump_dat.dropna()\n",
    "\n",
    "dui_dat.drop(columns = ['Location'],inplace=True)\n",
    "dui_dat = dui_dat.dropna()\n",
    "dui_dat.columns = dui_dat.columns.str.strip()\n",
    "\n",
    "beer_dat_NLP = beer_dat.drop(columns=['beer/ABV','beer/beerId','beer/brewerId','beer/name','index',\n",
    "                                      'user/ageInSeconds','user/gender','user/profileName','user/birthdayUnix',\n",
    "                                      'user/birthdayRaw','review/timeUnix', 'review/timeStruct']).dropna()\n",
    "beer_dat = beer_dat_NLP.drop(columns=['review/text'])"
   ]
  },
  {
   "cell_type": "markdown",
   "metadata": {},
   "source": [
    "# Data Analysis and Results\n",
    "\n",
    "## Part 1: Analyzing the Correlation between Beer Characteristics and its Overall Rating"
   ]
  },
  {
   "cell_type": "code",
   "execution_count": 3,
   "metadata": {},
   "outputs": [
    {
     "name": "stdout",
     "output_type": "stream",
     "text": [
      "The beer-review dataset contains 95 unique types of beer\n",
      "\n",
      "However, we will only consider the 5 most-reviewed types of beer: \n"
     ]
    },
    {
     "data": {
      "text/html": [
       "<div>\n",
       "<style scoped>\n",
       "    .dataframe tbody tr th:only-of-type {\n",
       "        vertical-align: middle;\n",
       "    }\n",
       "\n",
       "    .dataframe tbody tr th {\n",
       "        vertical-align: top;\n",
       "    }\n",
       "\n",
       "    .dataframe thead th {\n",
       "        text-align: right;\n",
       "    }\n",
       "</style>\n",
       "<table border=\"1\" class=\"dataframe\">\n",
       "  <thead>\n",
       "    <tr style=\"text-align: right;\">\n",
       "      <th></th>\n",
       "      <th>NUMBER OF REVIEWS</th>\n",
       "    </tr>\n",
       "  </thead>\n",
       "  <tbody>\n",
       "    <tr>\n",
       "      <th>American Double / Imperial Stout</th>\n",
       "      <td>4493</td>\n",
       "    </tr>\n",
       "    <tr>\n",
       "      <th>American IPA</th>\n",
       "      <td>3048</td>\n",
       "    </tr>\n",
       "    <tr>\n",
       "      <th>American Double / Imperial IPA</th>\n",
       "      <td>2871</td>\n",
       "    </tr>\n",
       "    <tr>\n",
       "      <th>Scotch Ale / Wee Heavy</th>\n",
       "      <td>2133</td>\n",
       "    </tr>\n",
       "    <tr>\n",
       "      <th>Russian Imperial Stout</th>\n",
       "      <td>2030</td>\n",
       "    </tr>\n",
       "  </tbody>\n",
       "</table>\n",
       "</div>"
      ],
      "text/plain": [
       "                                   NUMBER OF REVIEWS\n",
       "American Double / Imperial Stout                4493\n",
       "American IPA                                    3048\n",
       "American Double / Imperial IPA                  2871\n",
       "Scotch Ale / Wee Heavy                          2133\n",
       "Russian Imperial Stout                          2030"
      ]
     },
     "execution_count": 3,
     "metadata": {},
     "output_type": "execute_result"
    }
   ],
   "source": [
    "print(\"The beer-review dataset contains \" + str(len(beer_dat['beer/style'].unique())) + \" unique types of beer\\n\")\n",
    "print(\"However, we will only consider the 5 most-reviewed types of beer: \")\n",
    "\n",
    "top_5_beer = beer_dat['beer/style'].value_counts().head(5).to_frame()\n",
    "top_5_beer.columns = [' NUMBER OF REVIEWS']\n",
    "top_5_beer"
   ]
  },
  {
   "cell_type": "code",
   "execution_count": 4,
   "metadata": {},
   "outputs": [],
   "source": [
    "to_contain = 'American Double / Imperial Stout|American IPA|American Double / Imperial IPA|Scotch Ale / Wee Heavy|Russian Imperial Stout'\n",
    "#|American Pale Ale (APA)|American Porter|Rauchbier|Rye Beer|Czech Pilsener'\n",
    "df_top_5 = beer_dat[beer_dat['beer/style'].str.contains(to_contain , na=False)]"
   ]
  },
  {
   "cell_type": "code",
   "execution_count": 5,
   "metadata": {
    "scrolled": true
   },
   "outputs": [],
   "source": [
    "df_top_5 = df_top_5.sort_values(by=['beer/style'])\n",
    "df_top_5 = df_top_5.reset_index()\n",
    "df_top_5.drop('index', axis=1, inplace=True)"
   ]
  },
  {
   "cell_type": "code",
   "execution_count": 6,
   "metadata": {},
   "outputs": [],
   "source": [
    "beer_styles = ['American Double / Imperial Stout', 'American IPA', 'American Double / Imperial IPA','Scotch Ale / Wee Heavy','Russian Imperial Stout']\n",
    "beer_ratings = [0,0,0,0,0]\n",
    "\n",
    "appearance_rating_dict = dict(zip(beer_styles,beer_ratings))\n",
    "palate_rating_dict = dict(zip(beer_styles,beer_ratings))\n",
    "aroma_rating_dict = dict(zip(beer_styles,beer_ratings))\n",
    "taste_rating_dict = dict(zip(beer_styles,beer_ratings))\n",
    "overall_rating_dict = dict(zip(beer_styles,beer_ratings))\n",
    "                 \n",
    "for style in beer_styles:\n",
    "    appearance_rating_dict[style] = round(df_top_5[df_top_5['beer/style'] == style]['review/appearance'].mean(),2)\n",
    "    palate_rating_dict[style] = round(df_top_5[df_top_5['beer/style'] == style]['review/palate'].mean(),2)\n",
    "    aroma_rating_dict[style] = round(df_top_5[df_top_5['beer/style'] == style]['review/aroma'].mean(),2)\n",
    "    taste_rating_dict[style] = round(df_top_5[df_top_5['beer/style'] == style]['review/taste'].mean(),2)\n",
    "    overall_rating_dict[style] = round(df_top_5[df_top_5['beer/style'] == style]['review/overall'].mean(),2)\n",
    "\n",
    "appearance_rating_df = pd.Series(appearance_rating_dict).to_frame()\n",
    "palate_rating_df = pd.Series(palate_rating_dict).to_frame()\n",
    "aroma_rating_df = pd.Series(aroma_rating_dict).to_frame()\n",
    "taste_rating_df = pd.Series(taste_rating_dict).to_frame()\n",
    "overall_rating_df = pd.Series(overall_rating_dict).to_frame()"
   ]
  },
  {
   "cell_type": "markdown",
   "metadata": {},
   "source": [
    "### Average Rating for each Individual Feature of the 5 Most-Reviewed Beer Styles"
   ]
  },
  {
   "cell_type": "code",
   "execution_count": 7,
   "metadata": {},
   "outputs": [
    {
     "name": "stdout",
     "output_type": "stream",
     "text": [
      "\n",
      "An Overview of the Ratings for the 5 Most-reviewed Beer Types\n"
     ]
    },
    {
     "data": {
      "text/html": [
       "<div>\n",
       "<style scoped>\n",
       "    .dataframe tbody tr th:only-of-type {\n",
       "        vertical-align: middle;\n",
       "    }\n",
       "\n",
       "    .dataframe tbody tr th {\n",
       "        vertical-align: top;\n",
       "    }\n",
       "\n",
       "    .dataframe thead th {\n",
       "        text-align: right;\n",
       "    }\n",
       "</style>\n",
       "<table border=\"1\" class=\"dataframe\">\n",
       "  <thead>\n",
       "    <tr style=\"text-align: right;\">\n",
       "      <th></th>\n",
       "      <th>Appearance Rating</th>\n",
       "      <th>Palate Rating</th>\n",
       "      <th>Aroma Rating</th>\n",
       "      <th>Taste Rating</th>\n",
       "      <th>Overall Rating</th>\n",
       "    </tr>\n",
       "  </thead>\n",
       "  <tbody>\n",
       "    <tr>\n",
       "      <th>American Double / Imperial Stout</th>\n",
       "      <td>4.32</td>\n",
       "      <td>4.35</td>\n",
       "      <td>4.40</td>\n",
       "      <td>4.48</td>\n",
       "      <td>4.33</td>\n",
       "    </tr>\n",
       "    <tr>\n",
       "      <th>American IPA</th>\n",
       "      <td>3.97</td>\n",
       "      <td>3.92</td>\n",
       "      <td>3.97</td>\n",
       "      <td>4.01</td>\n",
       "      <td>4.04</td>\n",
       "    </tr>\n",
       "    <tr>\n",
       "      <th>American Double / Imperial IPA</th>\n",
       "      <td>3.99</td>\n",
       "      <td>3.98</td>\n",
       "      <td>4.07</td>\n",
       "      <td>4.03</td>\n",
       "      <td>3.87</td>\n",
       "    </tr>\n",
       "    <tr>\n",
       "      <th>Scotch Ale / Wee Heavy</th>\n",
       "      <td>3.92</td>\n",
       "      <td>3.96</td>\n",
       "      <td>3.99</td>\n",
       "      <td>4.08</td>\n",
       "      <td>3.92</td>\n",
       "    </tr>\n",
       "    <tr>\n",
       "      <th>Russian Imperial Stout</th>\n",
       "      <td>4.21</td>\n",
       "      <td>4.30</td>\n",
       "      <td>4.17</td>\n",
       "      <td>4.31</td>\n",
       "      <td>4.17</td>\n",
       "    </tr>\n",
       "  </tbody>\n",
       "</table>\n",
       "</div>"
      ],
      "text/plain": [
       "                                  Appearance Rating  Palate Rating  \\\n",
       "American Double / Imperial Stout               4.32           4.35   \n",
       "American IPA                                   3.97           3.92   \n",
       "American Double / Imperial IPA                 3.99           3.98   \n",
       "Scotch Ale / Wee Heavy                         3.92           3.96   \n",
       "Russian Imperial Stout                         4.21           4.30   \n",
       "\n",
       "                                  Aroma Rating  Taste Rating  Overall Rating  \n",
       "American Double / Imperial Stout          4.40          4.48            4.33  \n",
       "American IPA                              3.97          4.01            4.04  \n",
       "American Double / Imperial IPA            4.07          4.03            3.87  \n",
       "Scotch Ale / Wee Heavy                    3.99          4.08            3.92  \n",
       "Russian Imperial Stout                    4.17          4.31            4.17  "
      ]
     },
     "execution_count": 7,
     "metadata": {},
     "output_type": "execute_result"
    }
   ],
   "source": [
    "appearance_rating_df.columns = ['Appearance Rating']\n",
    "palate_rating_df.columns = ['Palate Rating']\n",
    "aroma_rating_df.columns = ['Aroma Rating']\n",
    "taste_rating_df.columns = ['Taste Rating']\n",
    "overall_rating_df.columns = ['Overall Rating']\n",
    "\n",
    "ratings_df = pd.concat([appearance_rating_df, palate_rating_df], axis=1, join='inner')\n",
    "ratings_df = pd.concat([ratings_df, aroma_rating_df], axis=1, join='inner')\n",
    "ratings_df = pd.concat([ratings_df, taste_rating_df], axis=1, join='inner')\n",
    "ratings_df = pd.concat([ratings_df, overall_rating_df], axis=1, join='inner')\n",
    "\n",
    "print(\"\\nAn Overview of the Ratings for the 5 Most-reviewed Beer Types\")\n",
    "\n",
    "#The dataframe that contains all the individual ratings\n",
    "ratings_df ## THIS CONTAINS THE AVERAGE RATINGS"
   ]
  },
  {
   "cell_type": "code",
   "execution_count": 8,
   "metadata": {},
   "outputs": [
    {
     "data": {
      "image/png": "[encoded data removed]",
      "text/plain": [
       "<Figure size 864x576 with 1 Axes>"
      ]
     },
     "metadata": {
      "needs_background": "light"
     },
     "output_type": "display_data"
    }
   ],
   "source": [
    "ratings_df.plot.bar(title = 'Overview of the Ratings for the 5 Most-reviewed Beer Types',figsize= (12,8))\n",
    "labels = [3.5, 4.0, 4.5, 5.0]\n",
    "plt.yticks(labels)\n",
    "plt.ylim(3.5,5)\n",
    "plt.xticks(rotation = 35)\n",
    "plt.xlabel(\"Beer Type\")\n",
    "plt.ylabel(\"Rating\")\n",
    "plt.show()"
   ]
  },
  {
   "cell_type": "markdown",
   "metadata": {},
   "source": [
    "### Observation:\n",
    "From the bar chart above, we can see that \"American Double/Imperial Stout\" is the beer type that receives the highest review in all categories (appearance, palate, aroma, taste and overall)"
   ]
  },
  {
   "cell_type": "markdown",
   "metadata": {},
   "source": [
    "### Bar Chart Representing the Distribution of Overall Beer Rating (of the 5 Most-Reviewed Beer Types)\n",
    "\n"
   ]
  },
  {
   "cell_type": "code",
   "execution_count": 9,
   "metadata": {},
   "outputs": [
    {
     "data": {
      "image/png": "[encoded data removed]",
      "text/plain": [
       "<Figure size 720x576 with 1 Axes>"
      ]
     },
     "metadata": {
      "needs_background": "light"
     },
     "output_type": "display_data"
    }
   ],
   "source": [
    "df_top_5['review/overall'].value_counts().sort_index().plot('bar',title = 'Overall Rating Distribution',figsize= (10,8))\n",
    "plt.xticks(rotation = 0)\n",
    "plt.xlabel(\"Overall Rating\")\n",
    "plt.ylabel(\"Count\")\n",
    "plt.show()"
   ]
  },
  {
   "cell_type": "markdown",
   "metadata": {},
   "source": [
    "### Observation:\n",
    "From the bar chart above, we can see that people tend to give an overall rating of 4.0 for the 5 most-popular beer styles. This means that the most-reviewed beers also tend to receive a relatively high overall rating."
   ]
  },
  {
   "cell_type": "code",
   "execution_count": 10,
   "metadata": {},
   "outputs": [],
   "source": [
    "df_top_5.columns = ['Style', 'Appearance', 'Aroma', 'OVERALL', 'Palate', 'Taste']\n",
    "df_top_5 = df_top_5[['Style', 'Appearance', 'Aroma','Palate', 'Taste', 'OVERALL', ]]\n",
    "data = df_top_5.sample(frac=1)  ## random shuffle the dataframe ( not in place)"
   ]
  },
  {
   "cell_type": "markdown",
   "metadata": {},
   "source": [
    "## Correlation Between Individual Beer Characteristics and the Overall Rating\n",
    "\n",
    "Correlation Matrix: the darker the cell signifies that two attributes are more correlated. We want to investigate how each atrribute is correlated with the overall rating. We found strong positive correlation between overall rating and taste, which supports our hypothesis. "
   ]
  },
  {
   "cell_type": "code",
   "execution_count": 11,
   "metadata": {},
   "outputs": [
    {
     "data": {
      "image/png": "[encoded data removed]",
      "text/plain": [
       "<Figure size 720x720 with 2 Axes>"
      ]
     },
     "metadata": {
      "needs_background": "light"
     },
     "output_type": "display_data"
    }
   ],
   "source": [
    "#Using Pearson Correlation\n",
    "plt.figure(figsize=(10,10))\n",
    "cor = data.corr()\n",
    "ax = sns.heatmap(cor, annot=True, cmap=plt.cm.Reds)\n",
    "ax.xaxis.set_ticks_position('top')\n",
    "loc, labels = plt.yticks()\n",
    "ax.set_yticklabels(labels, rotation=0)\n",
    "plt.show()"
   ]
  },
  {
   "cell_type": "markdown",
   "metadata": {},
   "source": [
    "### OBSERVATION:\n",
    "\n",
    "* Based on the correlation matrix above, we can see that taste correlates the most (corr = 0.72) with the overall beer rating.\n",
    "* This supports our initial hypothesis, which predicted that taste is the most important feature of a beer.\n",
    "\n"
   ]
  },
  {
   "cell_type": "markdown",
   "metadata": {},
   "source": [
    "## Predicting Overall Beer Rating from Taste, Appearance, Aroma and Palate Ratings  \n",
    "\n",
    "* In this section, we are splitting the rating data into train and test set (with a 80:20 ratio)\n",
    "* Given the ratings for the 4 features (taste, appearance, aroma and palate), we will use linear regression to predict the overall rating for each beer style."
   ]
  },
  {
   "cell_type": "code",
   "execution_count": 12,
   "metadata": {},
   "outputs": [],
   "source": [
    "def pick_feature(datum): \n",
    "    feat=[]\n",
    "    feat.append( datum['Taste'])\n",
    "    feat.append( datum['Appearance'])\n",
    "    feat.append( datum['Aroma'])\n",
    "    feat.append( datum['Palate']) \n",
    "    ##feat.append(datum['review/overall'])\n",
    "    return feat"
   ]
  },
  {
   "cell_type": "code",
   "execution_count": 13,
   "metadata": {},
   "outputs": [],
   "source": [
    "x = []\n",
    "y = []\n",
    "for index, row in data.iterrows():\n",
    "    x.append(pick_feature(row))\n",
    "    y.append(row['OVERALL'])"
   ]
  },
  {
   "cell_type": "code",
   "execution_count": 14,
   "metadata": {},
   "outputs": [],
   "source": [
    "#SPLITTING INTO TRAIN/TEST SET\n",
    "train_size = int(len(x)*float(0.8))\n",
    "test_size =int(len(x)*float(0.2))\n",
    "\n",
    "trainX = x[ :train_size]\n",
    "trainY = y[ :train_size]\n",
    "testX = x[-test_size:]\n",
    "testY = y[-test_size:]"
   ]
  },
  {
   "cell_type": "code",
   "execution_count": 15,
   "metadata": {},
   "outputs": [
    {
     "name": "stderr",
     "output_type": "stream",
     "text": [
      "/Users/khanhtoanbui/anaconda3/lib/python3.7/site-packages/ipykernel_launcher.py:2: FutureWarning: `rcond` parameter will change to the default of machine precision times ``max(M, N)`` where M and N are the input matrix dimensions.\n",
      "To use the future default and silence this warning we advise to pass `rcond=None`, to keep using the old, explicitly pass `rcond=-1`.\n",
      "  \n"
     ]
    }
   ],
   "source": [
    "## train a linear regression model\n",
    "theta1,residuals1,rank1,s1 = np.linalg.lstsq(trainX ,trainY)"
   ]
  },
  {
   "cell_type": "code",
   "execution_count": 16,
   "metadata": {
    "scrolled": true
   },
   "outputs": [],
   "source": [
    "trainX = np.matrix(trainX)  # convert list to matrix\n",
    "theta1 = theta1.reshape(4,1) #transpose\n",
    "testX = np.matrix(testX)\n",
    "expY = testX*theta1 # experiment value\n",
    "actY = np.matrix(testY)\n",
    "expY=expY.reshape(expY.shape[1],expY.shape[0])"
   ]
  },
  {
   "cell_type": "markdown",
   "metadata": {},
   "source": [
    "## Mean Squared Error on the Prediction\n",
    "\n",
    "* We predicted the overall rating for each beer, given their individual ratings on each of the 4 features (taste, appearance, aroma and palate). \n",
    "* The MSE for our linear regression prediction model is below 0.17, which is respectable given that the rating ranges from 0.0 to 5.0."
   ]
  },
  {
   "cell_type": "code",
   "execution_count": 17,
   "metadata": {},
   "outputs": [
    {
     "data": {
      "text/plain": [
       "0.15719546579470547"
      ]
     },
     "execution_count": 17,
     "metadata": {},
     "output_type": "execute_result"
    }
   ],
   "source": [
    "test_MSE = mean_squared_error(expY, actY)\n",
    "test_MSE"
   ]
  },
  {
   "cell_type": "markdown",
   "metadata": {},
   "source": [
    "# Sentiment/NLP Analysis From User Review Text\n",
    "\n",
    "* Model Definition:\n",
    "    - TFIDF Vectorizer\n",
    "        - Exclude >0.9, <0.001 most frequent document-freq words\n",
    "        - Binary mode\n",
    "        - 1-gram + 2-gram\n",
    "    - Logistic Regressor\n",
    "        - L1 norm\n",
    "\n",
    "* Output:\n",
    "    - Performance of log regression\n",
    "    - Top 150 most positive / most negative coefficient n-grams"
   ]
  },
  {
   "cell_type": "code",
   "execution_count": 18,
   "metadata": {},
   "outputs": [],
   "source": [
    "from sklearn import metrics, preprocessing\n",
    "from sklearn.linear_model import LogisticRegression, LogisticRegressionCV\n",
    "from sklearn.feature_extraction.text import TfidfVectorizer\n",
    "\n",
    "import re\n",
    "from nltk.stem.snowball import SnowballStemmer\n",
    "class CustomTokenizer(object):\n",
    "    def __init__(self):\n",
    "        self.stemmer = SnowballStemmer(\"english\")\n",
    "        self.tokenize = re.compile(r\"(?u)\\b\\w\\w+\\b\")\n",
    "    def __call__(self, articles):\n",
    "        return [self.stemmer.stem(t) for t in self.tokenize.findall(articles)]\n",
    "\n",
    "def define_model():\n",
    "    # [Sentences/Terms, ...] <-> [Feature vectors, ...]\n",
    "    X_vectorizer = TfidfVectorizer(\n",
    "        binary=True,\n",
    "        max_df=0.9,\n",
    "        min_df=0.001,\n",
    "        ngram_range=(1, 2),\n",
    "        #tokenizer=CustomTokenizer() #takes a while\n",
    "    )\n",
    "\n",
    "    # {\"NEGATIVE\", POSITIVE\"} <-> {0, 1}\n",
    "    y_encoder = preprocessing.LabelEncoder()\n",
    "\n",
    "    # [Feature vectors, ...] -> [{0,1}, ...]\n",
    "    clf = LogisticRegression(\n",
    "        penalty='l1',   # Intuitively more likely for certain words to signal\n",
    "                        # positive/negative rating. L1 regularization causes\n",
    "                        # the model coeffs to tend towards sparsity.\n",
    "        solver='liblinear', # liblinear works well for L1-reg on small dataset\n",
    "        multi_class='ovr',\n",
    "        random_state=None,\n",
    "        #cv=5,\n",
    "        #n_jobs=3,\n",
    "        max_iter=10000\n",
    "    )\n",
    "\n",
    "    return X_vectorizer, y_encoder, clf\n",
    "\n",
    "def evaluate(clf, data):\n",
    "    y_pred = clf.predict(data.X)\n",
    "    acc = metrics.accuracy_score(data.y, y_pred)\n",
    "    print(f\"Accuracy on {data.name}  is: {acc}\\n\")\n",
    "    return acc"
   ]
  },
  {
   "cell_type": "code",
   "execution_count": 19,
   "metadata": {},
   "outputs": [],
   "source": [
    "class Data:\n",
    "    def __init__(self, name, raw_X, raw_y, X, y):\n",
    "        self.name = name\n",
    "        self.raw_X = raw_X\n",
    "        self.raw_y = raw_y\n",
    "        self.X = X\n",
    "        self.y = y\n",
    "\n",
    "def read_files(X_vectorizer, y_encoder, train_fname, dev_fname):\n",
    "    def read_labeled(fname):\n",
    "        with open(fname, 'r') as file:\n",
    "            raw_X = []\n",
    "            raw_y = []\n",
    "            for line in file:\n",
    "                label, text = line.strip().split('\\t')\n",
    "                raw_X.append(text)\n",
    "                raw_y.append(label)\n",
    "        return raw_X, raw_y\n",
    "\n",
    "    fnf = \"%s set file not found. File name must end in \\\"%s\\\"\"\n",
    "    if train_fname is None:\n",
    "        raise Exception(fnf % ('train', 'train.tsv'))\n",
    "    if dev_fname is None:\n",
    "        raise Exception(fnf % ('dev', 'dev.tsv'))\n",
    "    train_raw_X, train_raw_y = read_labeled(train_fname)\n",
    "    dev_raw_X, dev_raw_y = read_labeled(dev_fname)\n",
    "\n",
    "    train_X = X_vectorizer.fit_transform(train_raw_X)\n",
    "    train_y = y_encoder.fit_transform(train_raw_y)\n",
    "\n",
    "    dev_X   = X_vectorizer.transform(dev_raw_X)\n",
    "    dev_y   = y_encoder.transform(dev_raw_y)\n",
    "\n",
    "    train_data = Data('train', train_raw_X, train_raw_y, train_X, train_y)\n",
    "    dev_data = Data('dev', dev_raw_X, dev_raw_y, dev_X, dev_y)\n",
    "\n",
    "    return train_data, dev_data"
   ]
  },
  {
   "cell_type": "code",
   "execution_count": 20,
   "metadata": {},
   "outputs": [],
   "source": [
    "train_size = int(0.95 * len(beer_dat_NLP))\n",
    "train_dat = beer_dat_NLP[:train_size]\n",
    "with open('data/train.tsv', 'w') as train:\n",
    "    for score, text in zip(train_dat['review/overall'], train_dat['review/text']):\n",
    "        label = ('POSITIVE', 'NEGATIVE')[score < 4]\n",
    "        text = text.replace('\\t', ' ')\n",
    "        train.write(f\"{label}\\t{text}\\n\")\n",
    "dev_dat = beer_dat_NLP[train_size:]\n",
    "with open('data/dev.tsv', 'w') as dev:\n",
    "    for score, text in zip(dev_dat['review/overall'], dev_dat['review/text']):\n",
    "        label = ('POSITIVE', 'NEGATIVE')[score < 4]\n",
    "        text = text.replace('\\t', ' ')\n",
    "        dev.write(f\"{label}\\t{text}\\n\")"
   ]
  },
  {
   "cell_type": "code",
   "execution_count": 21,
   "metadata": {},
   "outputs": [
    {
     "name": "stdout",
     "output_type": "stream",
     "text": [
      "Accuracy on train  is: 0.8296785062473677\n",
      "\n",
      "Accuracy on dev  is: 0.8138666666666666\n",
      "\n",
      "150 most positive grams:\n",
      "['nice', 'indeed', 'this is', 'full', 'good', 'up', 'solid', 'very nice', 'with this', 'oil', 'black', 'chocolate', 'molasses', 'tasty', 'wonderful', 'refreshing', 'oak', 'very solid', 'nicely', 'balanced', 'quaffable', 'creamy', 'well', 'right', 'rich', 'rounded', 'very well', 'today', 'lovely', 'easy', 'love', 'damn', 'delicious', 'drinkable', 'ipa', 'perfect', 'fine', 'smooth', 'very smooth', 'coffee', 'complex', 'kbs', 'well done', 'yet', 'founders', 'pleasant', 'session', 'great', 'of flavor', 'very pleasant', 'very drinkable', 'not too', 'not overpowering', 'very easy', 'citrus', 'crisp', 'pleasantly', 'but not', 'easy to', 'wonderfully', 'really nice', 'is good', 'disappoint', 'beautiful', 'amazing', 'helles', 'mocha', 'the coffee', 'bad thing', 'fresh', 'quite good', 'easily', 'nicely done', 'summer', 'sessionable', 'perfectly', 'raspberries', 'raspberry', 'is great', 'great beer', 'and slight', 'grapefruit', 'silky', '16', 'flavorful', 'smoky', 'brown head', 'pineapple', 'fantastic', 'my favorite', 'coffee flavors', 'is high', 'awesome', 'dangerous', 'up there', 'the rye', 'could drink', 'this all', 'all night', 'the best', 'and well', 'year', 'wait', 'low abv', 'highly', 'espresso', 'goodness', 'than the', 'let it', 'must try', 'growler', 'maple', 'scent of', 'decent lacing', 'very refreshing', 'case', 'job', 'lighter', 'really good', 'quite drinkable', 'well worth', 'very good', 'excellent', 'enjoyable', 'very enjoyable', 'release', 'incredible', 'exceptional', 'recommend', 'and one', 'already', 'really enjoyed', 'treat', 'recommended', 'winner', 'beautifully', 'very clean', 'an imperial', 'very balanced', 'just enough', 'german', 'cbs', 'highly recommend', 'superb', 'thick with', 'extremely drinkable', 'yummy', 'highly drinkable', 'perfection', 'notch']\n",
      "\n",
      "150 most negative grams:\n",
      "['odd', 'aftertaste', 'bottle', 'but', 'weird', 'not', 'bad', 'very sweet', 'bad but', 'skunk', 'couldn', 'to finish', 'bland', 'lacking', 'for me', 'average', 'interesting', 'though', 'sour', 'awful', 'novelty', 'lacks', 'fades quickly', 'but little', 'unfortunately', 'nothing', 'perfect pint', 'some roasted', 'not very', 'ok', 'cloying', 'beer but', 'too', 'too much', 'watery', 'faint', 'astringent', 'hot', 'alcohol and', 'not sure', 'just not', 'try', 'decent', 'brews', 'else', 'good but', 'tastes more', 'kind', 'water', 'least', 'detracts', 'sipper', 'not great', 'harsh', 'flat', 'extract', 'very dry', 'clarity', 'high carbonation', 'drink but', 'not something', 'more than', 'than one', 'for my', 'my taste', 'wouldn', 'just too', 'drinkable but', 'not session', 'more hops', 'disappointing', 'brew but', 'strange', 'metallic', 'little too', 'boring', 'not really', 'colour', 'caramel with', 'bit too', 'needs', 'hard time', 'revisit', 'don think', 'worth try', 'and alcohol', 'not my', 'imo', 'bubbles that', 'fairly easy', 'cheap', 'hoping', 'terrible', 'not one', 'not impressed', 'decent enough', 'corn', 'weak', 'cut', 'euro', 'alright', 'okay', 'with pretty', 'unbalanced', 'medicinal', 'sweet for', 'tasty but', 'rough', 'dull', 'putting', 'dr', 'trafalgar', 'but one', 'not good', 'difficult', 'try but', 'fusel', 'common', 'unpleasant', 'move', 'way too', 'great summer', 'worse', 'tough', 'just didn', 'would not', 'fairly drinkable', 'and done', 'potential', 'disappointment', 'horrible', 'light beer', 'that disappears', 'cardboard', 'unremarkable', 'great but', 'that great', 'worst', 'the worst', 'unless', 'just don', 'infected', 'attempt', 'meh', 'thin bodied', 'are too', 'suffers', 'drinkability suffers', 'drain', 'sub']\n"
     ]
    }
   ],
   "source": [
    "X_vectorizer, y_encoder, clf = define_model()\n",
    "\n",
    "train_data, dev_data = read_files(X_vectorizer, y_encoder, \"data/train.tsv\", \"data/dev.tsv\")\n",
    "\n",
    "clf.fit(train_data.X, train_data.y)\n",
    "\n",
    "evaluate(clf, train_data)\n",
    "evaluate(clf, dev_data)\n",
    "\n",
    "N = 150\n",
    "print(f\"{N} most positive grams:\")\n",
    "w = []\n",
    "indices = np.argpartition(clf.coef_, -N)[0][-N:]\n",
    "for k, v in X_vectorizer.vocabulary_.items():\n",
    "    for i in indices:\n",
    "        if v == i:\n",
    "            w.append(k)\n",
    "print(w)\n",
    "\n",
    "print(f\"\\n{N} most negative grams:\")\n",
    "w = []\n",
    "indices = np.argpartition(-clf.coef_, -N)[0][-N:]\n",
    "for k, v in X_vectorizer.vocabulary_.items():\n",
    "    for i in indices:\n",
    "        if v == i:\n",
    "            w.append(k)\n",
    "print(w)"
   ]
  },
  {
   "cell_type": "markdown",
   "metadata": {},
   "source": [
    "### Observation\n",
    "* The Accuracy of our prediction model is reasonably high at 83%.\n",
    "* some of interesting positive traits are \"chocolate\", \"molasses\", \"balanced\", \"rounded\", \"decent lacing\", \"maple\", \"german\".\n",
    "* some of interesting negative traits are \"bland\", \"water\", \"sour\", \"strange\", \"fade quickly\", \"cheap\"."
   ]
  },
  {
   "cell_type": "markdown",
   "metadata": {},
   "source": [
    "# Part 2: ETHICS (How Alcohol Consumption Contributes to Driving Deaths)\n",
    "\n",
    "In many societies, drinking alcohol is forbidden because it causes serious problems, e.g. DUI (Driving under the influence), crime, etc. \n",
    "\n",
    "For that reason, in this part of the project, we will also focus on the correlation between alcohol consumption and driving deaths.\n",
    "\n",
    "We will use data from Occupant and Alcohol-Impaired Driving Deaths in States (https://healthdata.gov/dataset/occupant-and-alcohol-impaired-driving-deaths-states-2005-2014) as well as BRFSS Table of Alcohol Consumption (https://chronicdata.cdc.gov/Behavioral-Risk-Factors/BRFSS-Table-of-Alcohol-Consumption/dts9-xy2f) to present such a correlation."
   ]
  },
  {
   "cell_type": "code",
   "execution_count": 22,
   "metadata": {},
   "outputs": [],
   "source": [
    "# Only keeping years before 2014 since our DUI data is from 2005-2014\n",
    "# The overall evaluation is selected and we only care about people who response yes in the survey data\n",
    "alc_dat_overall = alc_consump_dat[alc_consump_dat['Year'] <= 2014]\n",
    "alc_dat_overall = alc_dat_overall[alc_dat_overall['Break_Out'] == 'Overall']\n",
    "alc_dat_overall = alc_dat_overall[alc_dat_overall['Response'] == 'Yes']"
   ]
  },
  {
   "cell_type": "code",
   "execution_count": 23,
   "metadata": {},
   "outputs": [],
   "source": [
    "alc_dat_overall.drop(columns = ['Question','Response', 'Confidence_limit_Low', 'Confidence_limit_High', \n",
    "                                'Display_order', 'Data_value_unit','Data_value_type', \n",
    "                                'Break_Out', 'Sample_Size'], inplace = True)\n",
    "alc_dat_overall.reset_index(drop = True, inplace = True)"
   ]
  },
  {
   "cell_type": "markdown",
   "metadata": {},
   "source": [
    "### We will assign weights for different types of alcohol consumption based on addiction level:\n",
    "* Regular Alcohol Consumption is the least serious type of addiction, with an addiction index of 1\n",
    "* Binge Drinking has an addiction index of 2\n",
    "* Heavy Drinking has an addiction index of 3 "
   ]
  },
  {
   "cell_type": "code",
   "execution_count": 24,
   "metadata": {},
   "outputs": [],
   "source": [
    "#create a function that quantifies drinking level\n",
    "def quantify_topic(drinking_level):\n",
    "    return_val = 0\n",
    "    if 'Alcohol Consumption' in drinking_level:\n",
    "        return_val = 1\n",
    "    elif 'Binge Drinking' in drinking_level:\n",
    "        return_val = 2\n",
    "    elif 'Heavy Drinking' in drinking_level:\n",
    "        return_val = 3\n",
    "    return return_val"
   ]
  },
  {
   "cell_type": "code",
   "execution_count": 25,
   "metadata": {},
   "outputs": [],
   "source": [
    "alc_dat_overall['Topic'] =alc_dat_overall['Topic'].apply(quantify_topic)"
   ]
  },
  {
   "cell_type": "code",
   "execution_count": 26,
   "metadata": {
    "scrolled": true
   },
   "outputs": [
    {
     "name": "stdout",
     "output_type": "stream",
     "text": [
      "\n"
     ]
    }
   ],
   "source": [
    "alc_dat_overall['multi'] = alc_dat_overall['Topic'] * alc_dat_overall['Data_value']\n",
    "alc_dat_overall.sort_values('Locationabbr')\n",
    "print()"
   ]
  },
  {
   "cell_type": "code",
   "execution_count": 27,
   "metadata": {
    "scrolled": true
   },
   "outputs": [],
   "source": [
    "# generate an alcholic rating list of states\n",
    "result = {}\n",
    "for loc in alc_dat_overall['Locationabbr'].unique():\n",
    "    df = alc_dat_overall[alc_dat_overall['Locationabbr']==loc].copy()\n",
    "    df['val'] = df['Topic']*df['Data_value']\n",
    "    average = int(df['val'].sum(axis=0) / 4)\n",
    "    result.setdefault(loc, average)\n",
    "final = pd.DataFrame(columns=['State', 'Alcoholic Rating'])\n",
    "final['State'] = alc_dat_overall['Locationabbr'].unique()\n",
    "final['Alcoholic Rating'] = final['State'].map(result)"
   ]
  },
  {
   "cell_type": "code",
   "execution_count": 28,
   "metadata": {},
   "outputs": [],
   "source": [
    "#calculating percentage death caused by DUI\n",
    "hold = []\n",
    "i = 0\n",
    "while i < dui_dat.shape[0]:\n",
    "    hold.append(dui_dat.iloc[i]['Alcohol-Impaired Driving Deaths']/dui_dat.iloc[i]['Occupant Deaths']*100)\n",
    "    i+=1\n",
    "dui_dat['% Death Caused by DUI'] = hold"
   ]
  },
  {
   "cell_type": "code",
   "execution_count": 29,
   "metadata": {},
   "outputs": [
    {
     "data": {
      "text/html": [
       "<div>\n",
       "<style scoped>\n",
       "    .dataframe tbody tr th:only-of-type {\n",
       "        vertical-align: middle;\n",
       "    }\n",
       "\n",
       "    .dataframe tbody tr th {\n",
       "        vertical-align: top;\n",
       "    }\n",
       "\n",
       "    .dataframe thead th {\n",
       "        text-align: right;\n",
       "    }\n",
       "</style>\n",
       "<table border=\"1\" class=\"dataframe\">\n",
       "  <thead>\n",
       "    <tr style=\"text-align: right;\">\n",
       "      <th></th>\n",
       "      <th>State</th>\n",
       "      <th>Alcohol-Impaired Driving Deaths</th>\n",
       "      <th>Occupant Deaths</th>\n",
       "      <th>% Death Caused by DUI</th>\n",
       "    </tr>\n",
       "  </thead>\n",
       "  <tbody>\n",
       "    <tr>\n",
       "      <th>0</th>\n",
       "      <td>HI</td>\n",
       "      <td>453</td>\n",
       "      <td>587</td>\n",
       "      <td>77.17</td>\n",
       "    </tr>\n",
       "    <tr>\n",
       "      <th>1</th>\n",
       "      <td>DC</td>\n",
       "      <td>96</td>\n",
       "      <td>130</td>\n",
       "      <td>73.85</td>\n",
       "    </tr>\n",
       "    <tr>\n",
       "      <th>2</th>\n",
       "      <td>RI</td>\n",
       "      <td>265</td>\n",
       "      <td>429</td>\n",
       "      <td>61.77</td>\n",
       "    </tr>\n",
       "    <tr>\n",
       "      <th>3</th>\n",
       "      <td>CT</td>\n",
       "      <td>1049</td>\n",
       "      <td>1806</td>\n",
       "      <td>58.08</td>\n",
       "    </tr>\n",
       "    <tr>\n",
       "      <th>4</th>\n",
       "      <td>DE</td>\n",
       "      <td>430</td>\n",
       "      <td>767</td>\n",
       "      <td>56.06</td>\n",
       "    </tr>\n",
       "  </tbody>\n",
       "</table>\n",
       "</div>"
      ],
      "text/plain": [
       "  State  Alcohol-Impaired Driving Deaths  Occupant Deaths  \\\n",
       "0    HI                              453              587   \n",
       "1    DC                               96              130   \n",
       "2    RI                              265              429   \n",
       "3    CT                             1049             1806   \n",
       "4    DE                              430              767   \n",
       "\n",
       "   % Death Caused by DUI  \n",
       "0                  77.17  \n",
       "1                  73.85  \n",
       "2                  61.77  \n",
       "3                  58.08  \n",
       "4                  56.06  "
      ]
     },
     "execution_count": 29,
     "metadata": {},
     "output_type": "execute_result"
    }
   ],
   "source": [
    "dui_dat['% Death Caused by DUI'] = dui_dat['% Death Caused by DUI'].round(2)\n",
    "dui_dat.sort_values(by = ['% Death Caused by DUI'], inplace = True, ascending=False)\n",
    "dui_dat.reset_index(drop = True, inplace = True)\n",
    "dui_dat.head()"
   ]
  },
  {
   "cell_type": "code",
   "execution_count": 30,
   "metadata": {},
   "outputs": [
    {
     "data": {
      "image/png": "[encoded data removed]",
      "text/plain": [
       "<Figure size 1080x720 with 1 Axes>"
      ]
     },
     "metadata": {
      "needs_background": "light"
     },
     "output_type": "display_data"
    }
   ],
   "source": [
    "# a bar graph to show general information about %Death caused by DUI\n",
    "\n",
    "dui_dat.plot('State', '% Death Caused by DUI', kind = 'bar', figsize = (15, 10))\n",
    "plt.title(\"% Death Caused by DUI by States\")\n",
    "plt.xlabel(\"States\")\n",
    "plt.ylabel(\"Percentage\")\n",
    "plt.legend(\"\")\n",
    "\n",
    "labels = [20, 30,40,50, 60,70,80]\n",
    "plt.yticks(labels)\n",
    "plt.ylim(20,80)\n",
    "\n",
    "plt.show()"
   ]
  },
  {
   "cell_type": "markdown",
   "metadata": {},
   "source": [
    "### Observation:\n",
    "* From the plot above, we can see that Rhode Island is the state with the highest percentage of driving death due to DUI (61.77%)\n",
    "\n",
    "\n",
    "* Even though it may seems that Hawaii and DC are the states with the highest percentage of driving death due to DUI, it turns out that these two states are outliers. This is pointed out in the box plots below. We believe this is due to the fact that Hawaii and DC are small states with low population, meaning that there will be less traffic. Hence, people are less likely to be involved in traffic accidents unless they are driving under influence.\n"
   ]
  },
  {
   "cell_type": "markdown",
   "metadata": {},
   "source": [
    "### BOX PLOTS SHOWING THE SPREAD OF THE DATA "
   ]
  },
  {
   "cell_type": "code",
   "execution_count": 31,
   "metadata": {},
   "outputs": [
    {
     "data": {
      "text/plain": [
       "<matplotlib.axes._subplots.AxesSubplot at 0x1a23cb89e8>"
      ]
     },
     "execution_count": 31,
     "metadata": {},
     "output_type": "execute_result"
    },
    {
     "data": {
      "image/png": "[encoded data removed]",
      "text/plain": [
       "<Figure size 432x288 with 1 Axes>"
      ]
     },
     "metadata": {
      "needs_background": "light"
     },
     "output_type": "display_data"
    }
   ],
   "source": [
    "# check if there are outliers\n",
    "dui_dat.boxplot(column = ['% Death Caused by DUI'])"
   ]
  },
  {
   "cell_type": "markdown",
   "metadata": {},
   "source": [
    "    It appears that 2 states/regions are outliers in our dataset. They are Hawaii and DC."
   ]
  },
  {
   "cell_type": "code",
   "execution_count": 32,
   "metadata": {},
   "outputs": [
    {
     "data": {
      "text/plain": [
       "<matplotlib.axes._subplots.AxesSubplot at 0x1a241f60f0>"
      ]
     },
     "execution_count": 32,
     "metadata": {},
     "output_type": "execute_result"
    },
    {
     "data": {
      "image/png": "[encoded data removed]",
      "text/plain": [
       "<Figure size 432x288 with 1 Axes>"
      ]
     },
     "metadata": {
      "needs_background": "light"
     },
     "output_type": "display_data"
    }
   ],
   "source": [
    "# remove outliers\n",
    "dui_dat.drop([0, 1], inplace = True)\n",
    "dui_dat.reset_index(drop = True)\n",
    "dui_dat.boxplot(column = ['% Death Caused by DUI'])\n"
   ]
  },
  {
   "cell_type": "markdown",
   "metadata": {},
   "source": [
    "### OBSERVATION: \n",
    "Out of 49 observations, the mean is 43% with lower quartile 38% and upper quartile at 49%."
   ]
  },
  {
   "cell_type": "markdown",
   "metadata": {},
   "source": [
    "### Bar Chart Representing the Percentage of DUI Deaths by States (With Outliers Removed)"
   ]
  },
  {
   "cell_type": "code",
   "execution_count": 33,
   "metadata": {},
   "outputs": [
    {
     "data": {
      "image/png": "[encoded data removed]",
      "text/plain": [
       "<Figure size 1080x720 with 1 Axes>"
      ]
     },
     "metadata": {
      "needs_background": "light"
     },
     "output_type": "display_data"
    }
   ],
   "source": [
    "dui_dat.plot('State', '% Death Caused by DUI', kind = 'bar', figsize = (15, 10))\n",
    "plt.title(\"% Death Caused by DUI by States\")\n",
    "plt.xlabel(\"States\")\n",
    "plt.ylabel(\"Percentage\")\n",
    "plt.legend(\"\")\n",
    "\n",
    "labels = [20, 30,40,50, 60, 70]\n",
    "plt.yticks(labels)\n",
    "plt.ylim(20,70)\n",
    "\n",
    "plt.show()"
   ]
  },
  {
   "cell_type": "markdown",
   "metadata": {},
   "source": [
    "### Observation: \n",
    "\n",
    "* After removing the outliers (Hawaii and DC), it is clear that Rhode Island is the state with the highest percentage of driving death due to DUI (61.77%)"
   ]
  },
  {
   "cell_type": "code",
   "execution_count": 34,
   "metadata": {},
   "outputs": [
    {
     "data": {
      "text/plain": [
       "count    49.00\n",
       "mean     43.44\n",
       "std       7.75\n",
       "min      24.23\n",
       "25%      37.74\n",
       "50%      42.15\n",
       "75%      49.34\n",
       "max      61.77\n",
       "Name: % Death Caused by DUI, dtype: float64"
      ]
     },
     "execution_count": 34,
     "metadata": {},
     "output_type": "execute_result"
    }
   ],
   "source": [
    "dui_dat['% Death Caused by DUI'].describe().round(2)"
   ]
  },
  {
   "cell_type": "code",
   "execution_count": 35,
   "metadata": {
    "scrolled": true
   },
   "outputs": [],
   "source": [
    "merged_final = final.merge(dui_dat, how='inner', on=['State'])"
   ]
  },
  {
   "cell_type": "code",
   "execution_count": 37,
   "metadata": {},
   "outputs": [
    {
     "data": {
      "image/png": "[encoded data removed]",
      "text/plain": [
       "<Figure size 864x576 with 1 Axes>"
      ]
     },
     "metadata": {
      "needs_background": "light"
     },
     "output_type": "display_data"
    }
   ],
   "source": [
    "merged_final.plot.scatter(x='Alcoholic Rating',y='% Death Caused by DUI', figsize=(12,8))\n",
    "sns.regplot(x='Alcoholic Rating',y='% Death Caused by DUI', data=merged_final, fit_reg=True)\n",
    "plt.show()"
   ]
  },
  {
   "cell_type": "markdown",
   "metadata": {},
   "source": [
    "### OBSERVATION: \n",
    "* We define \"State Alcohol-Addiction Index\" as higher index means having more people with alcohol addiction\n",
    "* There exists a positive correlation between State Alcohol-Addiction Index and % death caused by DUI"
   ]
  },
  {
   "cell_type": "markdown",
   "metadata": {},
   "source": [
    "# Ethics and Privacy\n",
    "\n",
    "\n",
    "### Maintain Data Anonymously:\n",
    "\n",
    "\n",
    "- Data Collection:\n",
    "    The DUI and Alcohol Consumption data were both collected by BRFSS, a national phone survey program certified by the CDC. Random sampling was used to collect data. We have scrambled out geographic of the phone locations. The alcohol ratings data is made publicly available by Kaggle, a trusted data science website. The online ID for each user review is dropped. The specific collection method is unknown but it is trusted.\n",
    "    \n",
    "\n",
    "- Data Storage: Since all data used is publicly available, there is no concern of protect and secure the data. After the project submission, we plan to scramble all data immediately.\n",
    "\n",
    "\n",
    "- For analysis and modeling, we follow the basic guidelines of fairness, explainability and bias. The code is attached for specific examinations\n",
    "\n",
    "     * The beer-rating data is taken from Kaggle.com. The dataset contains private information such as username, age and birthday. However, we followed the safety-harbor method to safely remove such information to protect user privacy. We expect little bias in this dataset since it is simply an online survey of beer ratings. However, it is possible that non-drinkers are likely to give a lower rating. We minimized such bias by only focusing on the 5 most-popular beer types, thus ignoring outliers. \n",
    "     \n",
    "     * The BRFSS: Table of Alcohol Consumption dataset contains sensitive information such as gender, age, income group and GeoLocation. Again, we followed the safety-harbor method to safely remove such information to protect user privacy. We expect no bias in this dataset since it covers all gender, age and income groups among all states in America. \n",
    "     \n",
    "     * The Occupant and Alcohol-Impaired Driving Deaths in States, 2005-2014 dataset contains GeoLocation information, which we removed to protect user privacy. We expect no bias in this dataset since it covers DUI data from all states in America.\n",
    " \n",
    "\n",
    "### Ethical Considerations:\n",
    "This study will not be used to advocate alcohol usage among underage students\n",
    "Although the result may show preference and guidance of reviewing beers, any consequence of binge drinking is not the intention of our study.\n",
    "To prevent the negative consequences that the study will bring, we included an additional part where we explore the correlation between alcohol consumption and DUI rates\n"
   ]
  },
  {
   "cell_type": "markdown",
   "metadata": {},
   "source": [
    "# Conclusion"
   ]
  },
  {
   "cell_type": "markdown",
   "metadata": {},
   "source": [
    "In the first part of our study about beer ratings, we found out that the most popular beer styles among American drinkers are \"American Double/Imperial Stout\", \"American IPA\", \"American Double/Imperial IPA\", \"Scotch Ale/Wee Heavy\", \"Russian Imperial Stout\". And among all beer characteristics, \"taste\" and \"palate\" are the ones that have most impact on a person's overall rating of beer. This suggests that beer consumers mainly value how beer tastes rather than fancy packaging on the visual level.\n",
    "\n",
    "We created two prediction models for different purposes: \n",
    "* In first model, we are able to predict a user's subjective overall rating from their ratings in \"taste\", \"palate\", \"aroma\" and \"appearance\". And the result is reasonably accurate with MSE less than 1.7 (each individual rating ranges from 0.0 to 5.0). \n",
    "* In the second model, we were able to extract some of the positive and negative traits of a good beer as presented earlier. These are the traits the beer manufacturers can consider and put more emphasis on in future production of beer.\n",
    "\n",
    "In the second part of our study about DUI, we have a solid conclusion that driving under influences are very deadly, as it makes up for 43% of total driving deaths on average. And, as the percentage of people consuming alcohols increases, the percentage of death under DUI also increases, which indicates a strong positive correlation. This implies that the region with stronger drinking culture are more likely to ignore DUI laws, which often results in more deaths due to DUI. We believe that this study about DUI will help the society recognize the seriousness of driving under influence as it is the most direct cause of driving deaths."
   ]
  }
 ],
 "metadata": {
  "kernelspec": {
   "display_name": "Python 3",
   "language": "python",
   "name": "python3"
  },
  "language_info": {
   "codemirror_mode": {
    "name": "ipython",
    "version": 3
   },
   "file_extension": ".py",
   "mimetype": "text/x-python",
   "name": "python",
   "nbconvert_exporter": "python",
   "pygments_lexer": "ipython3",
   "version": "3.7.1"
  }
 },
 "nbformat": 4,
 "nbformat_minor": 2
}
