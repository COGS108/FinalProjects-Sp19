{
 "cells": [
  {
   "cell_type": "markdown",
   "metadata": {},
   "source": [
    "## Group Members and Contributions\n",
    "\n",
    "- __Kenta Asai (A13784889)__\n",
    "    - Data Analysis\n",
    "    - Parking Meter Visualizations\n",
    "- __Riley Froehlich (A13795579)__\n",
    "    - Data Cleaning/Wrangling\n",
    "    - Extracting Latitudes/Longitudes from Geocoding API\n",
    "- __Aniket Ghatnekar (A14688625)__\n",
    "    - Data Analysis, Correlations & Stats\n",
    "    - Heatmap Visualizations\n",
    "- __Stephanie Shon (A13811108)__\n",
    "    - Data Cleaning/Wrangling\n",
    "    - Descriptives & Ethics Considerations\n",
    "- __Haimei Yang (A13519498)__\n",
    "    - Data Analysis & Meters Visualizations\n",
    "    - Limitations & Ethics Considerations\n",
    "- __Jeffrey Yao (A14354925)__\n",
    "    - Data Analysis\n",
    "    - Data Frame Merging"
   ]
  },
  {
   "cell_type": "markdown",
   "metadata": {},
   "source": [
    "## Introduction\n",
    "\n",
    " __OVERVIEW:__\n",
    " \n",
    " This data analysis focuses on finding geographical patterns and correlations between collision frequency and related  factors in the city of San Diego, using government recorded traffic datasets. All results found are tested for temporal validity and discussed in context of general applicability.\n",
    "\n",
    " __DATA SCIENCE QUESTION(S) & HYPOTHESIS:__\n",
    "\n",
    "- Proposed Question\n",
    "    - How does the frequency of traffic collisions change based on street properties, parking meter locations and what geographical patterns do collision data follow in the city of San Diego?\n",
    "\n",
    "- Hypothesis\n",
    "    - We hypothesize that traffic collisions in San Diego will correlate with street width, number of parking meters on streets, and will follow a similar geographical pattern of higher frequencies in areas with known higher traffic,  and will exhibit temporal validity.\n",
    "\n",
    "We think this topic has ample scope to explore a very important civil and social safety issue. By analysing how traffic collisions vary based on a variety of factors in our own city of San Diego, we plan to find possible patterns established through the data. Although this is a specific analysis in only one city, we hope that highly correlational variables can be recognized with global applicability, at least to some degree.\n",
    "\n",
    "### Background\n",
    "\n",
    "Safety is the number one priority when driving. Unfortunately, traffic collisions and rule breaking happen regularly and can range from minor incidents to severe injuries and even death. The number of traffic collisions in San Diego increase every year, and this could potentially affect UCSD students and faculty as many people use cars to commute to and from school. As students of UCSD, we want to find out if San Diego traffic collisions are affected by factors such as street quality, traffic density and the number of parking meters in an effort to gain a better understanding of which areas are most prone to collisions.\n",
    "\n",
    "There has been a multitude of prior research that has studied the relationship between traffic collisions and different factors such as parking and driver behavior, in an attempt to improve road safety.\n",
    "\n",
    "For starters, it is important to note that in Miller’s (2016) article, he recognizes that “while pedestrian-related collisions made up a very small share of priority corridor collisions, they comprised over two-thirds (67%) of the fatal collisions on those roadways.” Considering the statistics on the amount of accidents that include pedestrians, there is a big concern that the collisions on the road may affect those who aren’t in a vehicle. This increases the awareness of how deadly these collisions can be, and will continue to be, if there aren’t preventative measures taken for both the pedestrian and driver. In addition, there has been a study by NYU that determined a “71% correlation between risky driving behavior and traffic accidents and concluded that safer driving habits would help to prevent future traffic accidents” (Bousquet, 2017).  The percentage of parking-related midblock accidents increase as the size of streets decrease from a highway to a local street (Jack B. Humphreys & Donald J. Wheeler 1979). Highways do not have parking, but smaller local roads have parking spaces and meters by the sidewalk. \n",
    "\n",
    "Although these studies have found that these behaviors seem to play a big factor in road accidents, our team wants to research the cause of collisions from a different perspective. With the pressing issue of the increase in traffic collisions every year, we wanted to find more data on whether the OCI (Overall Condition Index), street dimensions, the number of parking meters and/or spaces have played a role in the road accidents, including analysis of larger patterns of collisions, in hopes that future preventative measures can be made.\n",
    "\n",
    "__References:__\n",
    "- (Humphreys & Wheeler, 1979) : http://onlinepubs.trb.org/Onlinepubs/trr/1979/722/722-004.pdf\n",
    "- (Miller, 2016): https://datasmart.ash.harvard.edu/news/article/san-jose-tackles-traffic-with-data-802)\n",
    "- (Bousquet, 2017): https://datasmart.ash.harvard.edu/news/article/can-better-data-make-zero-traffic-deaths-a-reality-1138)"
   ]
  },
  {
   "cell_type": "markdown",
   "metadata": {},
   "source": [
    "## Data\n",
    "\n",
    "The following are links to the datasets to be used in this project:\n",
    "\n",
    "- Traffic Collisions dataset: https://data.sandiego.gov/datasets/police-collisions/\n",
    "- Street quality datasets:https://data.sandiego.gov/datasets/streets-overall-condition-index/\n",
    "- Parking meter dataset: https://data.sandiego.gov/datasets/parking-meters-locations/\n",
    "\n",
    "\n",
    "The traffic collisions dataset includes all kinds of unlawful acts caught by the local police, such as taking illegal turns, stop requirements, and hit and runs. There are a total of 22,862 observations and with each observation, there is an indicated date, time, street number, street name, street type, violation type, and the number of people injured or killed.\n",
    "\n",
    "The street quality datasets contains two sets of data measuring the quality of streets in San Diego based on an Overall Condition Index (OCI). One data set is from 2011 and contains 28,098 observations whereas the other data set is from 2015 and contains 30,712 observations. Each observation has an overall condition index, street name, segment length, segment width, the square footage of the segment, what type of street and pavement it is, and a description on whether it is good, fair or poor. \n",
    "\n",
    "The parking meter dataset contains the location of parking meters in San Diego. There are a total of 4668 observations and each observation has a zone, an area, a sub-area and the meter’s longitude and latitude.  \n",
    "\n",
    "All the datasets cover records over the past couple years, hence giving a large enough combined dataset to work with. We plan to extract the features our project is concerned with, and combine them sensibly into one dataset for ease of analysis.\n",
    "\n",
    "Cleaning the data will be required as many entries under some columns are not filled. Fortunately, since these are mostly names of streets we do not need them (we will use the street locations and codes instead)."
   ]
  },
  {
   "cell_type": "markdown",
   "metadata": {},
   "source": [
    "## Imports and Display Preparation"
   ]
  },
  {
   "cell_type": "markdown",
   "metadata": {},
   "source": [
    "To start off, import all necessary libraries required for anaylsis. "
   ]
  },
  {
   "cell_type": "code",
   "execution_count": 1,
   "metadata": {},
   "outputs": [],
   "source": [
    "import numpy as np\n",
    "import pandas as pd\n",
    "import folium\n",
    "from folium import plugins\n",
    "import matplotlib.pyplot as plt\n",
    "%matplotlib inline\n",
    "from matplotlib.font_manager import FontProperties\n",
    "import seaborn as sns\n",
    "from IPython.display import display_html\n",
    "from scipy.stats.stats import pearsonr\n",
    "from scipy import stats\n",
    "import csv\n",
    "import branca.colormap as cm"
   ]
  },
  {
   "cell_type": "markdown",
   "metadata": {},
   "source": [
    "Now we define a function that lets you see multiple dataframes together."
   ]
  },
  {
   "cell_type": "code",
   "execution_count": 2,
   "metadata": {},
   "outputs": [],
   "source": [
    "# method to display all df heads\n",
    "def multiple_df_display(*arg):\n",
    "    html_str=''\n",
    "    for df in arg:\n",
    "        html_str+=df.to_html()\n",
    "    display_html(html_str.replace('table','table style=\"display:inline\"'),raw=True)"
   ]
  },
  {
   "cell_type": "markdown",
   "metadata": {},
   "source": [
    "## Data Cleaning"
   ]
  },
  {
   "cell_type": "markdown",
   "metadata": {},
   "source": [
    "For the cleaning process, we start by removing all columns in the four major dataframes, which will give no correlation, based on logic and common sense. These columns include numbering systems and id's which do not have any meaning inherently, for the purpose of our analyses. Otherwise, they are features which deviate from our question and hypothesis."
   ]
  },
  {
   "cell_type": "code",
   "execution_count": 3,
   "metadata": {},
   "outputs": [
    {
     "data": {
      "text/html": [
       "<table style=\"display:inline\" border=\"1\" class=\"dataframe\">\n",
       "  <thead>\n",
       "    <tr style=\"text-align: right;\">\n",
       "      <th></th>\n",
       "      <th>oci</th>\n",
       "      <th>street</th>\n",
       "      <th>street width (ft)</th>\n",
       "      <th>area (sq ft)</th>\n",
       "      <th>oci_desc</th>\n",
       "    </tr>\n",
       "  </thead>\n",
       "  <tbody>\n",
       "    <tr>\n",
       "      <th>0</th>\n",
       "      <td>65.14</td>\n",
       "      <td>ALLEY</td>\n",
       "      <td>30.0</td>\n",
       "      <td>23181.774</td>\n",
       "      <td>Fair</td>\n",
       "    </tr>\n",
       "    <tr>\n",
       "      <th>1</th>\n",
       "      <td>67.45</td>\n",
       "      <td>ALLEY</td>\n",
       "      <td>30.0</td>\n",
       "      <td>5880.075</td>\n",
       "      <td>Fair</td>\n",
       "    </tr>\n",
       "    <tr>\n",
       "      <th>2</th>\n",
       "      <td>70.88</td>\n",
       "      <td>ALLEY</td>\n",
       "      <td>30.0</td>\n",
       "      <td>11850.147</td>\n",
       "      <td>Good</td>\n",
       "    </tr>\n",
       "    <tr>\n",
       "      <th>3</th>\n",
       "      <td>84.00</td>\n",
       "      <td>ALLEY</td>\n",
       "      <td>30.0</td>\n",
       "      <td>5760.075</td>\n",
       "      <td>Good</td>\n",
       "    </tr>\n",
       "    <tr>\n",
       "      <th>4</th>\n",
       "      <td>79.24</td>\n",
       "      <td>ALLEY</td>\n",
       "      <td>30.0</td>\n",
       "      <td>7552.620</td>\n",
       "      <td>Good</td>\n",
       "    </tr>\n",
       "  </tbody>\n",
       "</table style=\"display:inline\"><table style=\"display:inline\" border=\"1\" class=\"dataframe\">\n",
       "  <thead>\n",
       "    <tr style=\"text-align: right;\">\n",
       "      <th></th>\n",
       "      <th>date_time</th>\n",
       "      <th>street_no</th>\n",
       "      <th>street</th>\n",
       "    </tr>\n",
       "  </thead>\n",
       "  <tbody>\n",
       "    <tr>\n",
       "      <th>0</th>\n",
       "      <td>2017-01-01 00:01:00</td>\n",
       "      <td>8300</td>\n",
       "      <td>CAM DEL ORO</td>\n",
       "    </tr>\n",
       "    <tr>\n",
       "      <th>1</th>\n",
       "      <td>2017-01-01 00:01:00</td>\n",
       "      <td>6400</td>\n",
       "      <td>CRAWFORD STREET</td>\n",
       "    </tr>\n",
       "    <tr>\n",
       "      <th>2</th>\n",
       "      <td>2017-01-01 00:01:00</td>\n",
       "      <td>8100</td>\n",
       "      <td>ROYAL GORGE DRIVE</td>\n",
       "    </tr>\n",
       "    <tr>\n",
       "      <th>3</th>\n",
       "      <td>2017-01-01 00:01:00</td>\n",
       "      <td>5500</td>\n",
       "      <td>VALERIO TRAIL</td>\n",
       "    </tr>\n",
       "    <tr>\n",
       "      <th>4</th>\n",
       "      <td>2017-01-01 01:00:00</td>\n",
       "      <td>1000</td>\n",
       "      <td>11TH AVENUE</td>\n",
       "    </tr>\n",
       "  </tbody>\n",
       "</table style=\"display:inline\"><table style=\"display:inline\" border=\"1\" class=\"dataframe\">\n",
       "  <thead>\n",
       "    <tr style=\"text-align: right;\">\n",
       "      <th></th>\n",
       "      <th>zone</th>\n",
       "      <th>area</th>\n",
       "      <th>longitude</th>\n",
       "      <th>latitude</th>\n",
       "    </tr>\n",
       "  </thead>\n",
       "  <tbody>\n",
       "    <tr>\n",
       "      <th>0</th>\n",
       "      <td>City</td>\n",
       "      <td>1000 CESAR CHAVEZ WAY</td>\n",
       "      <td>-117.145178</td>\n",
       "      <td>32.700353</td>\n",
       "    </tr>\n",
       "    <tr>\n",
       "      <th>1</th>\n",
       "      <td>City</td>\n",
       "      <td>1000 CESAR CHAVEZ WAY</td>\n",
       "      <td>-117.145178</td>\n",
       "      <td>32.700352</td>\n",
       "    </tr>\n",
       "    <tr>\n",
       "      <th>2</th>\n",
       "      <td>City</td>\n",
       "      <td>1000 CESAR CHAVEZ WAY</td>\n",
       "      <td>-117.145349</td>\n",
       "      <td>32.700155</td>\n",
       "    </tr>\n",
       "    <tr>\n",
       "      <th>3</th>\n",
       "      <td>City</td>\n",
       "      <td>1000 CESAR CHAVEZ WAY</td>\n",
       "      <td>-117.145405</td>\n",
       "      <td>32.700107</td>\n",
       "    </tr>\n",
       "    <tr>\n",
       "      <th>4</th>\n",
       "      <td>City</td>\n",
       "      <td>1000 CESAR CHAVEZ WAY</td>\n",
       "      <td>-117.145539</td>\n",
       "      <td>32.699987</td>\n",
       "    </tr>\n",
       "  </tbody>\n",
       "</table style=\"display:inline\">"
      ]
     },
     "metadata": {},
     "output_type": "display_data"
    }
   ],
   "source": [
    "# read in datasets from csv files taken from -   https://data.sandiego.gov/datasets/\n",
    "df_index = pd.read_csv(\"oci_2015_datasd.csv\")\n",
    "df_collisions = pd.read_csv(\"pd_collisions_datasd.csv\")\n",
    "df_meters = pd.read_csv(\"treas_parking_meters_loc_datasd.csv\")\n",
    "\n",
    "# drop OCI columns\n",
    "df_index.drop( columns = [\"seg_id\", \"seg_length_ft\", \"street_from\",\n",
    "                          \"street_to\", \"oci_wt\", \"pvm_class\", \n",
    "                          \"func_class\"], inplace = True )\n",
    "\n",
    "# drop collision columns\n",
    "df_collisions.drop(columns = [\"police_beat\", \"report_id\", \"cross_st_name\", \n",
    "                              \"cross_st_type\", \"street_dir\", \"cross_st_dir\", \n",
    "                              \"violation_section\", \"violation_type\", \n",
    "                              \"charge_desc\", \"injured\", \"killed\", \n",
    "                              \"hit_run_lvl\"], inplace = True)\n",
    "\n",
    "# combine street name and street type\n",
    "df_collisions['street'] = (df_collisions['street_name'].map(str) + ' '\n",
    "                          + df_collisions['street_type'])\n",
    "df_collisions.drop( columns = [\"street_name\", \"street_type\"], inplace = True )\n",
    "df_collisions.dropna( inplace = True )\n",
    "\n",
    "# drop parking meter columns\n",
    "df_meters.drop( columns = [\"area\", \"pole\", \"config_id\", \n",
    "                           \"config_name\"], inplace = True )\n",
    "df_meters.dropna( inplace = True )\n",
    "\n",
    "#rename columns with complex names\n",
    "df_index.rename( columns = { 'seg_width_ft' : 'street width (ft)', \n",
    "                            'area_sq_ft': 'area (sq ft)' }, inplace = True)\n",
    "df_meters.rename( columns = { 'sub_area': 'area' }, inplace = True )\n",
    "\n",
    "multiple_df_display(df_index[0:5], df_collisions[0:5], df_meters[0:5])"
   ]
  },
  {
   "cell_type": "markdown",
   "metadata": {},
   "source": [
    "The second step is to create a standardization for all datasets and then combine street descriptor columns from the oci dataset and the collisions dataset for our first analysis."
   ]
  },
  {
   "cell_type": "code",
   "execution_count": 17,
   "metadata": {},
   "outputs": [
    {
     "data": {
      "text/html": [
       "<div>\n",
       "<style scoped>\n",
       "    .dataframe tbody tr th:only-of-type {\n",
       "        vertical-align: middle;\n",
       "    }\n",
       "\n",
       "    .dataframe tbody tr th {\n",
       "        vertical-align: top;\n",
       "    }\n",
       "\n",
       "    .dataframe thead th {\n",
       "        text-align: right;\n",
       "    }\n",
       "</style>\n",
       "<table border=\"1\" class=\"dataframe\">\n",
       "  <thead>\n",
       "    <tr style=\"text-align: right;\">\n",
       "      <th></th>\n",
       "      <th>street</th>\n",
       "      <th>street width (ft)</th>\n",
       "      <th>area (sq ft)</th>\n",
       "      <th>collisions</th>\n",
       "    </tr>\n",
       "  </thead>\n",
       "  <tbody>\n",
       "    <tr>\n",
       "      <th>2053</th>\n",
       "      <td>44TH ST</td>\n",
       "      <td>20.0</td>\n",
       "      <td>11322.960</td>\n",
       "      <td>20</td>\n",
       "    </tr>\n",
       "    <tr>\n",
       "      <th>2055</th>\n",
       "      <td>01ST AV</td>\n",
       "      <td>30.0</td>\n",
       "      <td>7295.655</td>\n",
       "      <td>85</td>\n",
       "    </tr>\n",
       "    <tr>\n",
       "      <th>2056</th>\n",
       "      <td>01ST AV</td>\n",
       "      <td>40.0</td>\n",
       "      <td>14080.000</td>\n",
       "      <td>85</td>\n",
       "    </tr>\n",
       "    <tr>\n",
       "      <th>2057</th>\n",
       "      <td>01ST AV</td>\n",
       "      <td>40.0</td>\n",
       "      <td>14280.000</td>\n",
       "      <td>85</td>\n",
       "    </tr>\n",
       "    <tr>\n",
       "      <th>2058</th>\n",
       "      <td>01ST AV</td>\n",
       "      <td>42.0</td>\n",
       "      <td>30156.000</td>\n",
       "      <td>85</td>\n",
       "    </tr>\n",
       "  </tbody>\n",
       "</table>\n",
       "</div>"
      ],
      "text/plain": [
       "       street  street width (ft)  area (sq ft)  collisions\n",
       "2053  44TH ST               20.0     11322.960          20\n",
       "2055  01ST AV               30.0      7295.655          85\n",
       "2056  01ST AV               40.0     14080.000          85\n",
       "2057  01ST AV               40.0     14280.000          85\n",
       "2058  01ST AV               42.0     30156.000          85"
      ]
     },
     "execution_count": 17,
     "metadata": {},
     "output_type": "execute_result"
    }
   ],
   "source": [
    "# initializing dictionary of collisions and street names\n",
    "num_collisions = {}\n",
    "\n",
    "# converting street types to standard short forms used in maps\n",
    "conversion = {\"STREET\" : \"ST\", \"AVENUE\": \"AV\", \"CIRCLE\": \"CR\", \"WAY\":\" WY\", \n",
    "              \"ROAD\": \"RD\", \"COURT\" : \"CT\", \"DRIVE\" : \"DR\", \"LANE\": \"LN\", \n",
    "              \"PLACE\": \"PL\", }\n",
    "\n",
    "# loop through collisions dataframe\n",
    "for index, row in df_collisions.iterrows():\n",
    "    # split the street type from name\n",
    "    street_type = str(row['street']).split(' ')[-1]\n",
    "    \n",
    "    # convert the street-type to short-hand\n",
    "    if conversion.get(street_type) != None:\n",
    "        street_type = conversion[street_type]\n",
    "        \n",
    "    # re-attach the street type to the name\n",
    "    street_name = (' '.join(str(row['street']).split(' ')[0:-1]) \n",
    "                    + \" \" + street_type)\n",
    "        \n",
    "    # add new streets to dictionary and add to old ones\n",
    "    if num_collisions.get(street_name) == None:\n",
    "        num_collisions[street_name] = 0;\n",
    "    num_collisions[street_name]+=1;\n",
    "\n",
    "# creating new column in df_index\n",
    "df_index['collisions'] = 0\n",
    "\n",
    "# filling the collisions column\n",
    "for index, row in df_index.iterrows():\n",
    "    street = str(row['street'])\n",
    "    if num_collisions.get(street) != None:\n",
    "        df_index.loc[index, 'collisions'] = num_collisions[street]\n",
    "\n",
    "# ignore empty collisions because df_index.size > num_collisions.size\n",
    "df_index_collisions = df_index[df_index.collisions != 0]\n",
    "# drop columns which contain data subject to change, such as street quality\n",
    "df_index_collisions.drop(columns=['oci','oci_desc'], inplace=True)\n",
    "df_index_collisions[0:5]"
   ]
  },
  {
   "cell_type": "markdown",
   "metadata": {},
   "source": [
    "Since basic dimensions of streets do not change much in a time span of 3-4 years, we first analyze street width. "
   ]
  },
  {
   "cell_type": "markdown",
   "metadata": {},
   "source": [
    "## Descriptive Analysis"
   ]
  },
  {
   "cell_type": "markdown",
   "metadata": {},
   "source": [
    "We will now take a look at a few variables and their central tendencies before conducting exploratory analysis on them and finding possible correlations"
   ]
  },
  {
   "cell_type": "code",
   "execution_count": 5,
   "metadata": {},
   "outputs": [
    {
     "name": "stdout",
     "output_type": "stream",
     "text": [
      "Mean width of streets with at least one collision: 42.884\n",
      "Median width of streets with at least one collision: 40.000\n",
      "Standard Deviation of widths of streets with at least one collision: 13.513\n",
      "Width Inter-Quartile Range of streets with at least one collision: 15.000\n"
     ]
    }
   ],
   "source": [
    "# Calculate basic stats of central tendency for street width\n",
    "street_width_mean = df_index_collisions['street width (ft)'].mean()\n",
    "street_width_median = df_index_collisions['street width (ft)'].median()\n",
    "street_width_std = df_index_collisions['street width (ft)'].std()\n",
    "q75, q25 = np.percentile(df_index_collisions['street width (ft)'], [75 ,25])\n",
    "street_width_iqr = q75 - q25\n",
    "\n",
    "print(\"Mean width of streets with at least one collision: \" + \n",
    "      format(street_width_mean, '.3f'))\n",
    "print(\"Median width of streets with at least one collision: \" + \n",
    "      format(street_width_median, '.3f'))\n",
    "print(\"Standard Deviation of widths of streets with at least one collision: \" + \n",
    "      format(street_width_std, '.3f'))\n",
    "print(\"Width Inter-Quartile Range of streets with at least one collision: \" + \n",
    "      format(street_width_iqr, '.3f'))"
   ]
  },
  {
   "cell_type": "markdown",
   "metadata": {},
   "source": [
    "Since the mean of the street width is greater than the median street width, the dataset distribution will be slightly skewed right, possibly due to outliers. Since the difference between the mean is quite small, it is safe to infer that the distribution is relatively symmetrical."
   ]
  },
  {
   "cell_type": "markdown",
   "metadata": {},
   "source": [
    "Now, the collisions dataset will be separated into 2 subsets for descriptive analysis - 2017 data & 2018 data (2019 not taken because complete year data is not available as of yet). For these 2 subsets we only care about counts, as that is all we will use for descriptive analysis. To visualize presence of outliers, we will use boxplots."
   ]
  },
  {
   "cell_type": "code",
   "execution_count": 6,
   "metadata": {},
   "outputs": [],
   "source": [
    "collisions_2017 = (df_collisions[df_collisions['date_time'].\n",
    "    str.contains(\"2017\")].copy())\n",
    "collisions_2018 = (df_collisions[df_collisions['date_time'].\n",
    "    str.contains(\"2018\")].copy())\n",
    "collisions_2017.drop(columns = 'street_no',inplace=True)\n",
    "collisions_2018.drop(columns = 'street_no',inplace=True)\n",
    "collisions_2017.rename(\n",
    "    columns = {'date_time':'Collision Counts (2017)'}, inplace=True)\n",
    "collisions_2018.rename(\n",
    "    columns = {'date_time':'Collision Counts (2018)'}, inplace=True)"
   ]
  },
  {
   "cell_type": "code",
   "execution_count": 7,
   "metadata": {},
   "outputs": [
    {
     "name": "stdout",
     "output_type": "stream",
     "text": [
      "2017 subset shape:\n",
      "(10238, 2)\n",
      "2018 subset shape:\n",
      "(9897, 2)\n"
     ]
    },
    {
     "data": {
      "text/plain": [
       "<matplotlib.axes._subplots.AxesSubplot at 0x1a1a4ef358>"
      ]
     },
     "execution_count": 7,
     "metadata": {},
     "output_type": "execute_result"
    },
    {
     "data": {
      "image/png": "[encoded data removed]",
      "text/plain": [
       "<Figure size 432x288 with 2 Axes>"
      ]
     },
     "metadata": {
      "needs_background": "light"
     },
     "output_type": "display_data"
    }
   ],
   "source": [
    "# get shape of two subsets\n",
    "print(\"2017 subset shape:\")\n",
    "print(collisions_2017.shape)\n",
    "print(\"2018 subset shape:\")\n",
    "print(collisions_2018.shape)\n",
    "\n",
    "# group by streets\n",
    "counts_2017 = collisions_2017.groupby(['street'], as_index = False).count()[0:9]\n",
    "counts_2018 = collisions_2018.groupby(['street'], as_index = False).count()[0:9]\n",
    "\n",
    "# Plot\n",
    "fig, ax = plt.subplots(1,2)\n",
    "sns.boxplot('Collision Counts (2017)', data = counts_2017, ax = ax[0])\n",
    "sns.boxplot('Collision Counts (2018)', data = counts_2018, ax = ax[1])"
   ]
  },
  {
   "cell_type": "markdown",
   "metadata": {},
   "source": [
    "The dataset sizes are roughly of the same order. As seen in the boxplots, the median collision frequency is 13.0, for both 2017 and 2018. No outliers are seen."
   ]
  },
  {
   "cell_type": "code",
   "execution_count": 8,
   "metadata": {},
   "outputs": [
    {
     "name": "stdout",
     "output_type": "stream",
     "text": [
      "Per street collision mean (2017):\n",
      "19.11111111111111\n",
      "Per street collision mean (2018):\n",
      "27.444444444444443\n"
     ]
    }
   ],
   "source": [
    "# Since no outliers, find mean\n",
    "print('Per street collision mean (2017):')\n",
    "print(counts_2017['Collision Counts (2017)'].mean());\n",
    "print('Per street collision mean (2018):')\n",
    "print(counts_2018['Collision Counts (2018)'].mean())"
   ]
  },
  {
   "cell_type": "markdown",
   "metadata": {},
   "source": [
    "Number of collisions: mean > median, in both years. There is a significant difference, and it is safe to infer that the histograms would be considerably skewed to the right."
   ]
  },
  {
   "cell_type": "markdown",
   "metadata": {},
   "source": [
    "## Exploratory Analysis"
   ]
  },
  {
   "cell_type": "markdown",
   "metadata": {},
   "source": [
    "Taking street dimensions into consideration came after analyzing street quality (OCI) first. No proper analysis could be made for the latter because of the restricted temporal applicability of OCI, prompting us to analyze something more objective and permanent such as street dimensions. We searched for correlation between street dimensions and collision frequency, covering all years in the collision dataset. The only analysis worth pursuing was correlation with street width. Length did not seem to matter (intuitively as well), and hence area did not give interesting results. To show correlation we create a scatter plot and draw a best-fit line to summarize the correlation."
   ]
  },
  {
   "cell_type": "code",
   "execution_count": 9,
   "metadata": {},
   "outputs": [
    {
     "data": {
      "text/plain": [
       "<matplotlib.legend.Legend at 0x1a1a9c5358>"
      ]
     },
     "execution_count": 9,
     "metadata": {},
     "output_type": "execute_result"
    },
    {
     "data": {
      "image/png": "[encoded data removed]",
      "text/plain": [
       "<Figure size 432x288 with 1 Axes>"
      ]
     },
     "metadata": {
      "needs_background": "light"
     },
     "output_type": "display_data"
    }
   ],
   "source": [
    "# best fit line over scatter plot\n",
    "a, b = np.polyfit(df_index_collisions['collisions'], \n",
    "                  df_index_collisions['street width (ft)'], 1)\n",
    "# start and end for line\n",
    "in_oci = np.arange(0, max(df_index_collisions['collisions']) + 1)\n",
    "# apply prediction formula for best fit\n",
    "pred_oci = a * in_oci + b\n",
    "\n",
    "# create scatter plot with x-axis as collisions over 3 years, \n",
    "# and y-axis as the road segment width\n",
    "\n",
    "plt.scatter(df_index_collisions['collisions'], \n",
    "            df_index_collisions['street width (ft)'])\n",
    "plt.xlabel('COLLISIONS', fontsize = 16)\n",
    "plt.ylabel('STREET WIDTH (FT)', fontsize = 16)\n",
    "plt.plot(in_oci, pred_oci, color = \"red\", label='w/outliers')\n",
    "\n",
    "# copy of the dataframe from which we will remove outliers\n",
    "df_index_collisions_no_outliers = df_index_collisions\n",
    "# best fit line over scatter plot with outliers removed\n",
    "df_index_collisions_no_outliers = (\n",
    "    df_index_collisions_no_outliers[(np.abs(stats.zscore(\n",
    "        df_index_collisions_no_outliers['collisions'])) < 3)])\n",
    "\n",
    "df_index_collisions_no_outliers = (\n",
    "    df_index_collisions_no_outliers[(np.abs(stats.zscore(\n",
    "        df_index_collisions_no_outliers['street width (ft)'])) < 3)])\n",
    "\n",
    "a, b = np.polyfit(df_index_collisions_no_outliers['collisions'], \n",
    "                  df_index_collisions_no_outliers['street width (ft)'], 1)\n",
    "# start and end for line\n",
    "in_oci = np.arange(0, max(df_index_collisions['collisions']) + 1)\n",
    "# apply prediction formula for best fit\n",
    "pred_oci = a * in_oci + b\n",
    "plt.plot(in_oci, pred_oci, color = \"black\", label='w/o outliers')\n",
    "\n",
    "fontP = FontProperties()\n",
    "fontP.set_size('small')\n",
    "# legend for plot\n",
    "plt.legend(loc='lower right',shadow=True, prop=fontP)"
   ]
  },
  {
   "cell_type": "markdown",
   "metadata": {},
   "source": [
    "As seen above there is a positive correlation. Note that the data spans from January 2017 to May 2019, and the collisions frequencies are mostly in hundreds because they are summations of instances, instead of single occurrences (we can use summation since street width remains relatively the same).\n",
    "\n",
    "Immediately, the outliers over the 600 frequency mark raise a question as to why they are so far apart from the rest of the data. We came up with the explanation to this by looking which street this related to, and we found it to be University Avenue, which is very long, consists of several segments, and starts less than a mile from San Diego State University. This provides a logical explanation to the abnormally high frequency, possibly due to reckless driving by students. That being said, because of the high number of datapoints, another visualization will be necessary, in which log of collisions will be used to negate the effect of spread of data in the above visualization. "
   ]
  },
  {
   "cell_type": "code",
   "execution_count": 10,
   "metadata": {},
   "outputs": [
    {
     "data": {
      "image/png": "[encoded data removed]",
      "text/plain": [
       "<Figure size 432x432 with 4 Axes>"
      ]
     },
     "metadata": {},
     "output_type": "display_data"
    },
    {
     "name": "stdout",
     "output_type": "stream",
     "text": [
      "\n",
      "LOG COLLISION DATA\n",
      "\n",
      "Pearson correlation coefficient r, p-value:\n",
      "(0.4839159802555559, 0.0)\n",
      "\n",
      "~Outliers Exluded~ Pearson correlation coefficient r, p-value:\n",
      "(0.4407386112651605, 0.0)\n",
      "\n",
      "ORIGINAL (W/O LOG) COLLISION DATA\n",
      "\n",
      "Pearson correlation coefficient r, p-value:\n",
      "(0.40231195103438105, 0.0)\n",
      "\n",
      "~Outliers Exluded~ Pearson correlation coefficient r, p-value:\n",
      "(0.4408528486729633, 0.0)\n"
     ]
    }
   ],
   "source": [
    "df_index_collisions_copy = df_index_collisions.copy()\n",
    "df_index_collisions_no_outliers_copy = df_index_collisions_no_outliers.copy()\n",
    "\n",
    "# take log of collisions column\n",
    "df_index_collisions_copy['collisions (log)'] = (np.log\n",
    "    (df_index_collisions_copy['collisions']))\n",
    "    \n",
    "df_index_collisions_no_outliers_copy['collisions (log)'] = (np.log\n",
    "    (df_index_collisions_no_outliers_copy['collisions']))\n",
    "\n",
    "# create hex plot for log data\n",
    "sns.set(font_scale=1.5)\n",
    "sns.set_style(\"darkgrid\")\n",
    "hexplot = sns.jointplot(x=\"collisions (log)\", y=\"street width (ft)\", \n",
    "                        data=df_index_collisions_copy, kind=\"hex\",\n",
    "                        color = \"blue\")\n",
    "\n",
    "plt.subplots_adjust(left=0.2, right=0.8, top=0.8, bottom=0.2)\n",
    "cbar_ax = hexplot.fig.add_axes([.85, .25, .05, .4])\n",
    "plt.colorbar(cax=cbar_ax)\n",
    "plt.show()\n",
    "\n",
    "# Find correlation coefficient and significance for both log and original data\n",
    "print('\\n'+ 'LOG COLLISION DATA' + '\\n')\n",
    "print(\"Pearson correlation coefficient r, p-value:\")\n",
    "print(pearsonr(list(df_index_collisions_copy['collisions (log)']), \n",
    "               list(df_index_collisions_copy['street width (ft)'])))\n",
    "print('\\n'+ \"~Outliers Exluded~ Pearson correlation coefficient r, p-value:\")\n",
    "print(pearsonr(list(df_index_collisions_no_outliers_copy['collisions (log)']), \n",
    "               list(df_index_collisions_no_outliers_copy['street width (ft)'])))\n",
    "\n",
    "print('\\n'+ 'ORIGINAL (W/O LOG) COLLISION DATA' + '\\n')\n",
    "print(\"Pearson correlation coefficient r, p-value:\")\n",
    "print(pearsonr(list(df_index_collisions['collisions']),\n",
    "               list(df_index_collisions['street width (ft)'])))\n",
    "print('\\n'+ \"~Outliers Exluded~ Pearson correlation coefficient r, p-value:\")\n",
    "print(pearsonr(list(df_index_collisions_no_outliers['collisions']),\n",
    "               list(df_index_collisions_no_outliers['street width (ft)'])))"
   ]
  },
  {
   "cell_type": "markdown",
   "metadata": {},
   "source": [
    "Clearly, a positive correlation between street width and number of collisions (log) is seen in the hex plot. The correlation coefficient suggest moderately strong positive correlation between the two, and the p-value suggests that it is highly significant and not due to chance (for both outliers included and excluded). The difference between log data and original (without log) data is pronounced in our outlier-inclusive data, though the difference is only in the order of second decimal place, and the correlation remains significant."
   ]
  },
  {
   "cell_type": "markdown",
   "metadata": {},
   "source": [
    "# Parking Meters vs Collisions"
   ]
  },
  {
   "cell_type": "markdown",
   "metadata": {},
   "source": [
    "Now we will look for a potential relationship between number of parking meters and number of collisions on a street. Before conducting analysis, our hypothesis was that the more the number of parking meters on the street, the less street width available for moving cars, and hence the street might have higher collision frequency. Note: Descriptives for parking meters not available since the data are geographical and selective."
   ]
  },
  {
   "cell_type": "code",
   "execution_count": 11,
   "metadata": {},
   "outputs": [],
   "source": [
    "# map streets to number of parking meters\n",
    "num_meters = {}\n",
    "\n",
    "# loop through each parking meter entry and add up based on street\n",
    "for index, row in df_meters.iterrows():\n",
    "    # remove the street #\n",
    "    street_name = \" \".join(str(row[\"area\"]).split(\" \")[1:])\n",
    "    \n",
    "    # add to dictionary\n",
    "    if num_meters.get(street_name) == None:\n",
    "        num_meters[street_name] = 0\n",
    "    num_meters[street_name]+=1"
   ]
  },
  {
   "cell_type": "code",
   "execution_count": 12,
   "metadata": {},
   "outputs": [
    {
     "data": {
      "text/html": [
       "<div>\n",
       "<style scoped>\n",
       "    .dataframe tbody tr th:only-of-type {\n",
       "        vertical-align: middle;\n",
       "    }\n",
       "\n",
       "    .dataframe tbody tr th {\n",
       "        vertical-align: top;\n",
       "    }\n",
       "\n",
       "    .dataframe thead th {\n",
       "        text-align: right;\n",
       "    }\n",
       "</style>\n",
       "<table border=\"1\" class=\"dataframe\">\n",
       "  <thead>\n",
       "    <tr style=\"text-align: right;\">\n",
       "      <th></th>\n",
       "      <th>street_name</th>\n",
       "      <th>collisions</th>\n",
       "      <th>parking_meters</th>\n",
       "    </tr>\n",
       "  </thead>\n",
       "  <tbody>\n",
       "    <tr>\n",
       "      <th>48</th>\n",
       "      <td>UPAS ST</td>\n",
       "      <td>18</td>\n",
       "      <td>21</td>\n",
       "    </tr>\n",
       "    <tr>\n",
       "      <th>49</th>\n",
       "      <td>LINDO PASEO</td>\n",
       "      <td>3</td>\n",
       "      <td>5</td>\n",
       "    </tr>\n",
       "    <tr>\n",
       "      <th>50</th>\n",
       "      <td>OLIVE ST</td>\n",
       "      <td>3</td>\n",
       "      <td>8</td>\n",
       "    </tr>\n",
       "    <tr>\n",
       "      <th>51</th>\n",
       "      <td>ELM ST</td>\n",
       "      <td>11</td>\n",
       "      <td>20</td>\n",
       "    </tr>\n",
       "    <tr>\n",
       "      <th>52</th>\n",
       "      <td>QUINCE ST</td>\n",
       "      <td>1</td>\n",
       "      <td>11</td>\n",
       "    </tr>\n",
       "  </tbody>\n",
       "</table>\n",
       "</div>"
      ],
      "text/plain": [
       "    street_name  collisions  parking_meters\n",
       "48      UPAS ST          18              21\n",
       "49  LINDO PASEO           3               5\n",
       "50     OLIVE ST           3               8\n",
       "51       ELM ST          11              20\n",
       "52    QUINCE ST           1              11"
      ]
     },
     "execution_count": 12,
     "metadata": {},
     "output_type": "execute_result"
    }
   ],
   "source": [
    "# new datafram with collisions and parking meters for streets that have at least 1 collision\n",
    "df_pmcollisions = pd.DataFrame()\n",
    "df_pmcollisions[\"street_name\"] = num_collisions.keys()\n",
    "df_pmcollisions[\"collisions\"] = num_collisions.values()\n",
    "df_pmcollisions[\"parking_meters\"] = 0\n",
    "\n",
    "# loop through and add # of parking meters based on our dictionary\n",
    "for index, rows in df_pmcollisions.iterrows():\n",
    "    street_name = rows[\"street_name\"]\n",
    "    \n",
    "    if num_meters.get(street_name) != None:\n",
    "        df_pmcollisions.loc[index, \"parking_meters\"] = num_meters[street_name]\n",
    "\n",
    "    # drop rows for which no parking meter information is available\n",
    "    if df_pmcollisions['parking_meters'][index] == 0:\n",
    "        df_pmcollisions.drop(index, inplace=True)\n",
    "        \n",
    "df_pmcollisions = df_pmcollisions.reset_index()\n",
    "df_pmcollisions.drop('index', inplace=True, axis=1)\n",
    "df_pmcollisions.tail()"
   ]
  },
  {
   "cell_type": "markdown",
   "metadata": {},
   "source": [
    "We now have 53 streets worth of data for both parking meters and collisions."
   ]
  },
  {
   "cell_type": "code",
   "execution_count": 13,
   "metadata": {},
   "outputs": [
    {
     "data": {
      "text/plain": [
       "Text(0.5, 0, 'Number of Parking Meters')"
      ]
     },
     "execution_count": 13,
     "metadata": {},
     "output_type": "execute_result"
    },
    {
     "data": {
      "image/png": "[encoded data removed]",
      "text/plain": [
       "<Figure size 432x288 with 1 Axes>"
      ]
     },
     "metadata": {},
     "output_type": "display_data"
    }
   ],
   "source": [
    "# plot scatter lot between collisions and \n",
    "# number of parking meters on that street\n",
    "\n",
    "plt.scatter(df_pmcollisions['collisions'], df_pmcollisions['parking_meters'])\n",
    "\n",
    "# best fit line over scatter plot including outliers\n",
    "a, b = np.polyfit(df_pmcollisions['collisions'], \n",
    "                  df_pmcollisions['parking_meters'], 1)\n",
    "# start and end for line\n",
    "in_oci = np.arange(0, max(df_pmcollisions['collisions']) + 1)\n",
    "# apply prediction formula for best fit\n",
    "pred_oci = a * in_oci + b\n",
    "plt.plot(in_oci, pred_oci, color = \"red\", label='w/outliers')\n",
    "\n",
    "# copy of the dataframe from which we will remove outliers\n",
    "df_pmcollisions_no_outliers = df_pmcollisions\n",
    "# best fit line over scatter plot with outliers removed\n",
    "df_pmcollisions_no_outliers = (\n",
    "    df_pmcollisions_no_outliers[(np.abs(\n",
    "        stats.zscore(df_pmcollisions_no_outliers['collisions'])) < 3)])\n",
    "\n",
    "df_pmcollisions_no_outliers = (\n",
    "    df_pmcollisions_no_outliers[(np.abs(\n",
    "        stats.zscore(df_pmcollisions_no_outliers['parking_meters'])) < 3)])\n",
    "\n",
    "a, b = np.polyfit(df_pmcollisions_no_outliers['collisions'], \n",
    "                  df_pmcollisions_no_outliers['parking_meters'], 1)\n",
    "\n",
    "# start and end for line\n",
    "in_oci = np.arange(0, max(df_pmcollisions['collisions']) + 1)\n",
    "# apply prediction formula for best fit\n",
    "pred_oci = a * in_oci + b\n",
    "plt.plot(in_oci, pred_oci, color = \"black\", label='w/o outliers')\n",
    "\n",
    "# create legend for plot\n",
    "plt.legend(loc='upper right', prop=fontP, shadow=True)\n",
    "\n",
    "plt.ylabel(\"Number of Collisions\", fontsize = 16)\n",
    "plt.xlabel(\"Number of Parking Meters\", fontsize = 16)"
   ]
  },
  {
   "cell_type": "code",
   "execution_count": 14,
   "metadata": {},
   "outputs": [
    {
     "name": "stdout",
     "output_type": "stream",
     "text": [
      "Pearson correlation coefficient r, p-value:\n",
      "(0.4820041539545567, 0.0002576800522596902)\n",
      "\n",
      "~Outliers Exluded~ Pearson correlation coefficient r, p-value:\n",
      "(0.29498370597530926, 0.03756068135329193)\n"
     ]
    }
   ],
   "source": [
    "print(\"Pearson correlation coefficient r, p-value:\")\n",
    "print(pearsonr(list(df_pmcollisions['collisions']),\n",
    "               list(df_pmcollisions['parking_meters'])))\n",
    "print('\\n'+ \"~Outliers Exluded~ Pearson correlation coefficient r, p-value:\")\n",
    "print(pearsonr(list(df_pmcollisions_no_outliers['collisions']),\n",
    "               list(df_pmcollisions_no_outliers['parking_meters'])))"
   ]
  },
  {
   "cell_type": "markdown",
   "metadata": {},
   "source": [
    "Verfying the result seen in the scatter plot, the correlation coefficient shows moderate and significant positive correlation between number of parking meters on a street and number of collisions on the street. When outliers are excluded, weak positive correlation is seen, though it is still significant with p-value < (α = 0.05)."
   ]
  },
  {
   "cell_type": "markdown",
   "metadata": {},
   "source": [
    "It is important to note that this correlation may be pointing to a third variable, such as average traffic on the street, as streets with more number of parking meters are often the ones with higher daily traffic. Since this analysis cannot point to causality, we cannot rule out the third variable problem."
   ]
  },
  {
   "cell_type": "markdown",
   "metadata": {},
   "source": [
    "# Geographical Heatmap Analysis"
   ]
  },
  {
   "cell_type": "markdown",
   "metadata": {},
   "source": [
    "Obtaining latitude and longitude coordinates from street names: We converted geocodes in a separate file to prevent from overcalling the openmapquest API. This also helps keep the API key private, which can be important for public files. Geo-coding used follows:"
   ]
  },
  {
   "cell_type": "markdown",
   "metadata": {},
   "source": [
    "First we create new dataframes holding collision data from 2017 till date, and obtain latitudes and longitudes of the streets on which the collisions occured."
   ]
  },
  {
   "cell_type": "markdown",
   "metadata": {},
   "source": [
    "\n",
    "```\n",
    "    #get_geocode is a function that calls the openmapquest api for coordinates\n",
    "    #If the request fails, None will be returned\n",
    "        def get_geocode( address ):\n",
    "            \n",
    "            #format the api key and address into the url\n",
    "            to_request = url.format( api_key, address )\n",
    "            \n",
    "            #request the geocode, converting what is returned to text\n",
    "            ret_json = requests.get( to_request ).text\n",
    "            \n",
    "            #replace all instance of \\\\ with raw values for \\\\\n",
    "            #because python automatically discards \\\\\n",
    "            ret_json = ret_json.replace( '\\\\' , r'\\\\')\n",
    "            \n",
    "            #if the get statement was good, load the json\n",
    "            if ret_json != 0:\n",
    "                data = json.loads( ret_json )\n",
    "                \n",
    "                #if the json found a location for an address\n",
    "                #return lat and long coordinates\n",
    "                if data[ 'results' ] != None:\n",
    "                    return data['results'][0]['locations'][0]['latLng']\n",
    "                    \n",
    "            #otherwise return none\n",
    "            return None\n",
    "\n",
    "    #loads the dataframe from the main program and updates the dataframe with\n",
    "    #latitude and longitude coordinates\n",
    "\n",
    "        df_tc = pd.read_csv( 'df_traffic_collisions.csv', index_col=0)\n",
    "        df_tc['lat'] = ''\n",
    "        df_tc['lng'] = ''\n",
    "\n",
    "        for index, row in df_tc.iterrows():\n",
    "            latLng = get_geocode(row['street_name'] + str( ', San Diego, CA' ))    \n",
    "            if latLng != None:\n",
    "                df_tc[ 'lat' ][index] = latLng['lat']\n",
    "                df_tc[ 'lng' ][index] = latLng['lng']\n",
    "\n",
    "    #save the updated dataframe for use in the main program\n",
    "        df_tc.to_csv( 'df_geo.csv' )\n",
    "```"
   ]
  },
  {
   "cell_type": "markdown",
   "metadata": {},
   "source": [
    "Separating the updated list of street names based on the year the data was collected:"
   ]
  },
  {
   "cell_type": "code",
   "execution_count": 15,
   "metadata": {},
   "outputs": [
    {
     "name": "stdout",
     "output_type": "stream",
     "text": [
      "Data for 2017, 2018, 2019 as 3 separate dataframes:\n",
      "\n"
     ]
    },
    {
     "data": {
      "text/html": [
       "<table style=\"display:inline\" border=\"1\" class=\"dataframe\">\n",
       "  <thead>\n",
       "    <tr style=\"text-align: right;\">\n",
       "      <th></th>\n",
       "      <th>date_time</th>\n",
       "      <th>street_name</th>\n",
       "      <th>lat</th>\n",
       "      <th>lng</th>\n",
       "    </tr>\n",
       "  </thead>\n",
       "  <tbody>\n",
       "    <tr>\n",
       "      <th>0</th>\n",
       "      <td>2017-01-01 00:01:00</td>\n",
       "      <td>8300 CAM DEL ORO</td>\n",
       "      <td>39.783730</td>\n",
       "      <td>-100.445882</td>\n",
       "    </tr>\n",
       "    <tr>\n",
       "      <th>1</th>\n",
       "      <td>2017-01-01 00:01:00</td>\n",
       "      <td>6400 CRAWFORD STREET</td>\n",
       "      <td>32.789800</td>\n",
       "      <td>-117.093874</td>\n",
       "    </tr>\n",
       "    <tr>\n",
       "      <th>2</th>\n",
       "      <td>2017-01-01 00:01:00</td>\n",
       "      <td>8100 ROYAL GORGE DRIVE</td>\n",
       "      <td>32.815968</td>\n",
       "      <td>-117.052010</td>\n",
       "    </tr>\n",
       "    <tr>\n",
       "      <th>3</th>\n",
       "      <td>2017-01-01 00:01:00</td>\n",
       "      <td>5500 VALERIO TRAIL</td>\n",
       "      <td>32.962291</td>\n",
       "      <td>-117.202294</td>\n",
       "    </tr>\n",
       "  </tbody>\n",
       "</table style=\"display:inline\"><table style=\"display:inline\" border=\"1\" class=\"dataframe\">\n",
       "  <thead>\n",
       "    <tr style=\"text-align: right;\">\n",
       "      <th></th>\n",
       "      <th>date_time</th>\n",
       "      <th>street_name</th>\n",
       "      <th>lat</th>\n",
       "      <th>lng</th>\n",
       "    </tr>\n",
       "  </thead>\n",
       "  <tbody>\n",
       "    <tr>\n",
       "      <th>10238</th>\n",
       "      <td>2018-01-01 00:30:00</td>\n",
       "      <td>6500 EL CAMINO DE TEATRO</td>\n",
       "      <td>39.783730</td>\n",
       "      <td>-100.445882</td>\n",
       "    </tr>\n",
       "    <tr>\n",
       "      <th>10239</th>\n",
       "      <td>2018-01-01 01:00:00</td>\n",
       "      <td>500 ROSECRANS STREET</td>\n",
       "      <td>32.743800</td>\n",
       "      <td>-117.213018</td>\n",
       "    </tr>\n",
       "    <tr>\n",
       "      <th>10240</th>\n",
       "      <td>2018-01-01 01:26:00</td>\n",
       "      <td>0 PALM AVENUE</td>\n",
       "      <td>32.683661</td>\n",
       "      <td>-117.091815</td>\n",
       "    </tr>\n",
       "    <tr>\n",
       "      <th>10241</th>\n",
       "      <td>2018-01-01 02:05:00</td>\n",
       "      <td>3100 LOGAN AVENUE</td>\n",
       "      <td>32.696842</td>\n",
       "      <td>-117.099701</td>\n",
       "    </tr>\n",
       "  </tbody>\n",
       "</table style=\"display:inline\"><table style=\"display:inline\" border=\"1\" class=\"dataframe\">\n",
       "  <thead>\n",
       "    <tr style=\"text-align: right;\">\n",
       "      <th></th>\n",
       "      <th>date_time</th>\n",
       "      <th>street_name</th>\n",
       "      <th>lat</th>\n",
       "      <th>lng</th>\n",
       "    </tr>\n",
       "  </thead>\n",
       "  <tbody>\n",
       "    <tr>\n",
       "      <th>20135</th>\n",
       "      <td>2019-01-01 00:01:00</td>\n",
       "      <td>3400 LUNA AVENUE</td>\n",
       "      <td>32.831245</td>\n",
       "      <td>-117.216232</td>\n",
       "    </tr>\n",
       "    <tr>\n",
       "      <th>20136</th>\n",
       "      <td>2019-01-01 00:01:00</td>\n",
       "      <td>7400 ENGINEER ROAD</td>\n",
       "      <td>32.827157</td>\n",
       "      <td>-117.160547</td>\n",
       "    </tr>\n",
       "    <tr>\n",
       "      <th>20137</th>\n",
       "      <td>2019-01-01 00:25:00</td>\n",
       "      <td>4400 EUCLID AVENUE</td>\n",
       "      <td>32.748447</td>\n",
       "      <td>-117.092293</td>\n",
       "    </tr>\n",
       "    <tr>\n",
       "      <th>20138</th>\n",
       "      <td>2019-01-01 00:38:00</td>\n",
       "      <td>5000 TRIANA STREET</td>\n",
       "      <td>32.829437</td>\n",
       "      <td>-117.180458</td>\n",
       "    </tr>\n",
       "  </tbody>\n",
       "</table style=\"display:inline\">"
      ]
     },
     "metadata": {},
     "output_type": "display_data"
    }
   ],
   "source": [
    "#read data file and drop index column\n",
    "df_geo = pd.read_csv( 'df_geo_data.csv' )\n",
    "df_geo.drop( columns = 'Unnamed: 0', inplace = True )\n",
    "\n",
    "#sort the data based on the date\n",
    "df_geo.sort_values( 'date_time', inplace = True )\n",
    "\n",
    "#based on a substring of the date_time column create a \n",
    "#boolean series that compares the last two digits of the year\n",
    "mask_17 = df_geo.date_time.str[ 2:4 ] == '17' \n",
    "mask_18 = df_geo.date_time.str[ 2:4 ] == '18'\n",
    "mask_19 = df_geo.date_time.str[ 2:4 ] == '19' \n",
    "\n",
    "#placing the boolean series back into the dataframe\n",
    "#creates split dataframes based on the series\n",
    "geo_17 = df_geo[ mask_17 ]\n",
    "geo_18 = df_geo [ mask_18 ]\n",
    "geo_19 = df_geo[ mask_19 ]\n",
    "\n",
    "#print all dataframes\n",
    "print( \"Data for 2017, 2018, 2019 as 3 separate dataframes:\" + '\\n' )\n",
    "multiple_df_display( geo_17[0:4], geo_18[0:4], geo_19[0:4] )"
   ]
  },
  {
   "cell_type": "markdown",
   "metadata": {},
   "source": [
    "Compare geographical heatmaps of the past 3 years' collision data\n",
    "\n",
    "```\n",
    "\n",
    "# Creating a central location we would like to initialize the focus on. \n",
    "# Parameters: Lattitude, Longitude, Zoom\n",
    "gmap_17 = folium.Map([32.875, -117.162498], zoom_start = 10)\n",
    "gmap_18 = folium.Map([32.875, -117.162498], zoom_start = 10)\n",
    "gmap_19 = folium.Map([32.875, -117.162498], zoom_start = 10)\n",
    "    \n",
    "# convert to (n, 2) nd-array format for heatmap\n",
    "heatmap_arr_17 = geo_17[['lat', 'lng']].as_matrix()\n",
    "heatmap_arr_18 = geo_18[['lat', 'lng']].as_matrix()\n",
    "heatmap_arr_19 = geo_19[['lat', 'lng']].as_matrix()\n",
    "\n",
    "# plot heatmap\n",
    "gmap_17.add_child(plugins.HeatMap(heatmap_arr_17, radius=14))\n",
    "gmap_18.add_child(plugins.HeatMap(heatmap_arr_18, radius=14))\n",
    "gmap_19.add_child(plugins.HeatMap(heatmap_arr_19, radius=14))\n",
    "\n",
    "```"
   ]
  },
  {
   "cell_type": "markdown",
   "metadata": {},
   "source": [
    "We now plot the collision data onto the San Diego map."
   ]
  },
  {
   "cell_type": "markdown",
   "metadata": {},
   "source": [
    "Upper-Left: 2017\n",
    "\n",
    "Upper-Right: 2018\n",
    "\n",
    "Bottom: 2019; note: this year's data not complete\n",
    "\n",
    "<img src=\"geo_heatmap.png\">\n",
    "\n",
    "\n",
    "LOW COLLISION FREQUENCY - - - - - - - - - - -  HIGH COLLISION FREQUENCY\n",
    "<img src=\"folium_colormap.png\" align=\"left\" style=\"width: 500px;\"/>"
   ]
  },
  {
   "cell_type": "markdown",
   "metadata": {},
   "source": [
    "Looking at the two heatmaps with complete data available (2018 & 2019), a geographical pattern of collisions is seen. Streets around Downtown San Diego, the airport area, San Diego State University, and areas around UCSD are identified with higher number of collisions."
   ]
  },
  {
   "cell_type": "markdown",
   "metadata": {},
   "source": [
    "# Privacy and Ethics Consideration"
   ]
  },
  {
   "cell_type": "markdown",
   "metadata": {},
   "source": [
    "Data privacy and ethical usage of data have become increasingly important in tech as data becomes more readily available and easier to extract. Therefore, we want to ensure that we responsibly collected and analyzed the data for this proposed project. The data we collected can be found on the official City of San Diego website, meaning that it is publicly available, license free and non-proprietary. According to the Open Government Data law (OGD), government data is made public in order to promote transparency and accountability of public institutions. Therefore, using this public data for the intended analysis does not pose any breach of data privacy or ethical concerns. Also, no names or personal information has been used in the datasets to protect the privacy of citizens. In addition, all data published publicly on government websites are required to satisfy a set of guidelines. These data sets are also used to help decide public laws and policies and therefore, are required to be of utmost granularity, meaning the datasets are highly detail oriented. Therefore, we can conclude that the data we are working with is unbiased and accurate. However, we cannot rule out the possibility of our analysis having potential confirmation bias or presence of third variables in correlations. Other important variables such as instantaneous traffic could act as third variables in the correlations we saw."
   ]
  },
  {
   "cell_type": "markdown",
   "metadata": {},
   "source": [
    "# Discussion"
   ]
  },
  {
   "cell_type": "markdown",
   "metadata": {},
   "source": [
    "Through the analysis carried out, we identified the effects of variables noted as possible contributing factors to collision frequency in our hypothesis. We also identified clear geographical patterns that maintained temporal validity - another important sub-part of our question and hypothesis. We propose keeping these findings in consideration to reduce traffic collisions in San Diego, though this can mostly be done through government efforts, as the factors analyzed are not in the control of the public.\n",
    "\n",
    "In summary, the relationship between street width and number of collisions showed a moderate positive correlation between the two. The comparison between the number of parking meters and number of collisions showed moderate positive correlation as well, with weak but still significant correlation when outliers were removed from the dataset. Geographical mapping of collision data on heat maps (2017 to date) showed higher collision numbers in areas near UCSD, SDSU, and the international airport, primarily. The observed patterns were temporally similar."
   ]
  },
  {
   "cell_type": "markdown",
   "metadata": {},
   "source": [
    "# Limitations"
   ]
  },
  {
   "cell_type": "markdown",
   "metadata": {},
   "source": [
    "Certain limitations we encountered while analyzing our data must be noted for interpretation purposes. When we conducted our analysis on parking meter data, we found out that this dataset only contained information for 53 unique streets. This limited our analysis as there were many more streets recorded in the collisions dataset. Smaller sample sizes can cause results to have a higher possibility of effect overestimation. Although we were able to find a positive correlation between the number of parking meters and the number of collisions on a street, the reduced sample size lowers the external validity of our results. \n",
    "\n",
    "We also wanted to make an analysis between the number of traffic collisions and the volume of traffic on a certain street (as traffic and collisions often go hand in hand). However, during our analysis we realized that the latter dataset recorded traffic volume at a standard time (mostly 00:00:00 on each date). In contrast, in the Traffic Collisions dataset, collisions were recorded at different times (when they actually occurred). If we had known the traffic volume around the time of the traffic collision on a specific street, a more accurate analysis could have been derived. As a result, we decided not to include the traffic volume dataset in our analysis, to avoid inaccurate misrepresentation of data."
   ]
  },
  {
   "cell_type": "markdown",
   "metadata": {},
   "source": [
    "# Continuation of Analysis & Ideas for Future Research"
   ]
  },
  {
   "cell_type": "markdown",
   "metadata": {},
   "source": [
    "A possible misinterpretation concerning our results could occur if people started taking different streets or routes because of our analysis. Areas that haven’t been as affected by collisions as of date might end up with higher traffic volume, which might lead to an increase in traffic collisions in newer areas.\n",
    "\n",
    "To solve this, one solution could be to have continued analysis of new data collected. If necessary, further research can be done to inform the public of the up-to-date corrections in order to prevent harm. Further research could also improve any shortcomings in our analysis by looking through other variables that could affect collision data significantly, and offer concrete suggestions for avoiding collisions."
   ]
  }
 ],
 "metadata": {
  "kernelspec": {
   "display_name": "Python 3",
   "language": "python",
   "name": "python3"
  },
  "language_info": {
   "codemirror_mode": {
    "name": "ipython",
    "version": 3
   },
   "file_extension": ".py",
   "mimetype": "text/x-python",
   "name": "python",
   "nbconvert_exporter": "python",
   "pygments_lexer": "ipython3",
   "version": "3.7.3"
  }
 },
 "nbformat": 4,
 "nbformat_minor": 2
}
