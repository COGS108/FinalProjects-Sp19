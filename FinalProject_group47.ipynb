{
 "cells": [
  {
   "cell_type": "markdown",
   "metadata": {},
   "source": [
    "# COGS 108 - Final Project "
   ]
  },
  {
   "cell_type": "markdown",
   "metadata": {},
   "source": [
    "# Overview"
   ]
  },
  {
   "cell_type": "markdown",
   "metadata": {},
   "source": [
    "We were curious about the rating system in the Google Play Store works, since smartphones take up a big chunk of most people’s time. We decided to see if more downloads of an app correlates with the rating that the app gets. After cleaning and analyzing our dataset, we concluded that there is not necessarily a positive correlation between the popularity(number of installs) of an application and its rating. This project did lead to the fact that more downloads leads to a more accurate rating of an application, since more people have rated it.\n"
   ]
  },
  {
   "cell_type": "markdown",
   "metadata": {},
   "source": [
    "# Names\n",
    "\n",
    "- Akshay Rao\n",
    "- David Zheng\n",
    "- Hao Luo\n",
    "- Kevin Wu\n",
    "- Nikita Hegde\n",
    "- Tianhui hu"
   ]
  },
  {
   "cell_type": "markdown",
   "metadata": {},
   "source": [
    "# Group Members IDs\n",
    "\n",
    "- A12170395\n",
    "- A13424042\n",
    "- A14896221\n",
    "- A12830930\n",
    "- A12890202\n",
    "- A92108202"
   ]
  },
  {
   "cell_type": "markdown",
   "metadata": {},
   "source": [
    "# Research Question"
   ]
  },
  {
   "cell_type": "markdown",
   "metadata": {},
   "source": [
    "Does popularity of Android applications have a positive correlation to higher ratings in Google Play Store? Popularity of apps is measured by the total amount of downloads since the app was released."
   ]
  },
  {
   "cell_type": "markdown",
   "metadata": {},
   "source": [
    "## Background and Prior Work"
   ]
  },
  {
   "cell_type": "markdown",
   "metadata": {},
   "source": [
    "Why is this question of interest to your group?\n",
    "If we step back from our daily routine and take time to audit where we spend most of our attention, it’s arguably on our smartphones. The medium of the smartphone is applications. Due to this increasing demand, app creators are pressured to preserve high ratings, as higher ratings means more downloads, which in turn leads to more money in their pockets. As we were discussing it and seeing as how most of us were intrigued by it, we decided to do a data science project exploring the correlation between number of downloads and the rating of the application.\n",
    "What background information led to your hypothesis?\n",
    "Mostly common sense went into our hypothesis. To break it down in graphic specificity we thought that since more people install the application, it is an application that benefits many people. The fact that it benefits people means that they regard it in a positive light, since it offers some sort of value to them. Since they perceive value in the application they are more likely to rate it higher on the Google Play Store.\n",
    "Why is this important?\n",
    "This question is important because people who are app developers are going to want to know certain data on ratings of apps and the correlation of that with downloads.\n",
    "How do references relate to our project?\n",
    "The first reference is an article that explains how App Store ratings impact downloads. This would be an important study to do after we do our project because it explores the opposite of our project. In addition, there is causality involved in this article, and that is different than ours. We chose to focus on correlation, which doesn’t imply causation.\n",
    "\n",
    "References (include links):\n",
    "1) How App Store Ratings Impact Downloads (Infographic)\n",
    "https://www.adweek.com/digital/how-app-store-ratings-impact-downloads-infographic/\n"
   ]
  },
  {
   "cell_type": "markdown",
   "metadata": {},
   "source": [
    "# Hypothesis\n"
   ]
  },
  {
   "cell_type": "markdown",
   "metadata": {},
   "source": [
    "We hypothesize that there is a positive correlation between average rating and the total number of installations for Android Applications. We predict that the more downloads there are, the higher the ratings would be because people may have a biased attitude toward already popular apps."
   ]
  },
  {
   "cell_type": "markdown",
   "metadata": {},
   "source": [
    "# Dataset(s)"
   ]
  },
  {
   "cell_type": "markdown",
   "metadata": {},
   "source": [
    "Link to the dataset: https://www.kaggle.com/lava18/google-play-store-apps?fbclid=IwAR0ynkTjJl92etJH3FiytTpChyziBCN92xNtqqyDeq2LD7cPNh-KC6a1fWg\n",
    "Number of observations: 10.8k\n",
    "\n",
    "Description: \n",
    "The data set is Web scraped data of 10k Play Store apps for analysing the Android market. The data set contains 10.8k observations, and each entry contains the following 13 features of a particular app:\n",
    "\n",
    "App: Application name\n",
    "\n",
    "Category: Category the app belongs to\n",
    "\n",
    "Rating: Overall user rating of the app (as when scraped)\n",
    "\n",
    "Reviews: Number of user reviews for the app (as when scraped)\n",
    "\n",
    "Size: Size of the app (as when scraped)\n",
    "\n",
    "Installs: Number of user downloads/installs for the app (as when scraped)\n",
    "\n",
    "Type: Paid or Free\n",
    "\n",
    "Price: Price of the app (as when scraped)\n",
    "\n",
    "Content Rating: Age group the app is targeted at - Children / Mature 21+ / Adult\n",
    "\n",
    "Genres: An app can belong to multiple genres (apart from its main category). For eg, a musical family game will belong to Music, Game, Family genres.\n",
    "\n",
    "Last Updated: Date when the app was last updated on Play Store (as when scraped)\n",
    "\n",
    "Current Ver: Current version of the app available on Play Store (as when scraped)\n",
    "\n",
    "Android Ver: Min required Android version (as when scraped)\n"
   ]
  },
  {
   "cell_type": "markdown",
   "metadata": {},
   "source": [
    "# Setup"
   ]
  },
  {
   "cell_type": "code",
   "execution_count": 73,
   "metadata": {},
   "outputs": [],
   "source": [
    "# Imports \n",
    "%matplotlib inline\n",
    "\n",
    "import numpy as np\n",
    "import pandas as pd\n",
    "import matplotlib.pyplot as plt\n",
    "\n",
    "import patsy\n",
    "import statsmodels.api as sm\n",
    "import scipy.stats as stats\n",
    "import warnings\n",
    "from scipy.stats import ttest_ind, chisquare, normaltest\n",
    "from sklearn.preprocessing import LabelEncoder\n",
    "from sklearn.impute import SimpleImputer\n",
    "from sklearn.ensemble import RandomForestRegressor\n",
    "from sklearn.metrics import mean_absolute_error \n",
    "from sklearn.metrics import accuracy_score, mean_squared_error\n",
    "from sklearn.model_selection import train_test_split\n"
   ]
  },
  {
   "cell_type": "markdown",
   "metadata": {},
   "source": [
    "# Data Cleaning"
   ]
  },
  {
   "cell_type": "markdown",
   "metadata": {},
   "source": [
    "Describe your data cleaning steps here:\n",
    "\n",
    "We first read data from cvs file to data frame. Then we drop unrelevent info and null values. "
   ]
  },
  {
   "cell_type": "code",
   "execution_count": 74,
   "metadata": {},
   "outputs": [
    {
     "data": {
      "text/html": [
       "<div>\n",
       "<style scoped>\n",
       "    .dataframe tbody tr th:only-of-type {\n",
       "        vertical-align: middle;\n",
       "    }\n",
       "\n",
       "    .dataframe tbody tr th {\n",
       "        vertical-align: top;\n",
       "    }\n",
       "\n",
       "    .dataframe thead th {\n",
       "        text-align: right;\n",
       "    }\n",
       "</style>\n",
       "<table border=\"1\" class=\"dataframe\">\n",
       "  <thead>\n",
       "    <tr style=\"text-align: right;\">\n",
       "      <th></th>\n",
       "      <th>App</th>\n",
       "      <th>Category</th>\n",
       "      <th>Rating</th>\n",
       "      <th>Reviews</th>\n",
       "      <th>Size</th>\n",
       "      <th>Installs</th>\n",
       "      <th>Type</th>\n",
       "      <th>Price</th>\n",
       "      <th>Content Rating</th>\n",
       "      <th>Genres</th>\n",
       "      <th>Last Updated</th>\n",
       "    </tr>\n",
       "  </thead>\n",
       "  <tbody>\n",
       "    <tr>\n",
       "      <th>0</th>\n",
       "      <td>Photo Editor &amp; Candy Camera &amp; Grid &amp; ScrapBook</td>\n",
       "      <td>ART_AND_DESIGN</td>\n",
       "      <td>4.1</td>\n",
       "      <td>159</td>\n",
       "      <td>19M</td>\n",
       "      <td>10,000+</td>\n",
       "      <td>Free</td>\n",
       "      <td>0</td>\n",
       "      <td>Everyone</td>\n",
       "      <td>Art &amp; Design</td>\n",
       "      <td>January 7, 2018</td>\n",
       "    </tr>\n",
       "    <tr>\n",
       "      <th>1</th>\n",
       "      <td>Coloring book moana</td>\n",
       "      <td>ART_AND_DESIGN</td>\n",
       "      <td>3.9</td>\n",
       "      <td>967</td>\n",
       "      <td>14M</td>\n",
       "      <td>500,000+</td>\n",
       "      <td>Free</td>\n",
       "      <td>0</td>\n",
       "      <td>Everyone</td>\n",
       "      <td>Art &amp; Design;Pretend Play</td>\n",
       "      <td>January 15, 2018</td>\n",
       "    </tr>\n",
       "    <tr>\n",
       "      <th>2</th>\n",
       "      <td>U Launcher Lite – FREE Live Cool Themes, Hide ...</td>\n",
       "      <td>ART_AND_DESIGN</td>\n",
       "      <td>4.7</td>\n",
       "      <td>87510</td>\n",
       "      <td>8.7M</td>\n",
       "      <td>5,000,000+</td>\n",
       "      <td>Free</td>\n",
       "      <td>0</td>\n",
       "      <td>Everyone</td>\n",
       "      <td>Art &amp; Design</td>\n",
       "      <td>August 1, 2018</td>\n",
       "    </tr>\n",
       "    <tr>\n",
       "      <th>3</th>\n",
       "      <td>Sketch - Draw &amp; Paint</td>\n",
       "      <td>ART_AND_DESIGN</td>\n",
       "      <td>4.5</td>\n",
       "      <td>215644</td>\n",
       "      <td>25M</td>\n",
       "      <td>50,000,000+</td>\n",
       "      <td>Free</td>\n",
       "      <td>0</td>\n",
       "      <td>Teen</td>\n",
       "      <td>Art &amp; Design</td>\n",
       "      <td>June 8, 2018</td>\n",
       "    </tr>\n",
       "    <tr>\n",
       "      <th>4</th>\n",
       "      <td>Pixel Draw - Number Art Coloring Book</td>\n",
       "      <td>ART_AND_DESIGN</td>\n",
       "      <td>4.3</td>\n",
       "      <td>967</td>\n",
       "      <td>2.8M</td>\n",
       "      <td>100,000+</td>\n",
       "      <td>Free</td>\n",
       "      <td>0</td>\n",
       "      <td>Everyone</td>\n",
       "      <td>Art &amp; Design;Creativity</td>\n",
       "      <td>June 20, 2018</td>\n",
       "    </tr>\n",
       "  </tbody>\n",
       "</table>\n",
       "</div>"
      ],
      "text/plain": [
       "                                                 App        Category  Rating  \\\n",
       "0     Photo Editor & Candy Camera & Grid & ScrapBook  ART_AND_DESIGN     4.1   \n",
       "1                                Coloring book moana  ART_AND_DESIGN     3.9   \n",
       "2  U Launcher Lite – FREE Live Cool Themes, Hide ...  ART_AND_DESIGN     4.7   \n",
       "3                              Sketch - Draw & Paint  ART_AND_DESIGN     4.5   \n",
       "4              Pixel Draw - Number Art Coloring Book  ART_AND_DESIGN     4.3   \n",
       "\n",
       "  Reviews  Size     Installs  Type Price Content Rating  \\\n",
       "0     159   19M      10,000+  Free     0       Everyone   \n",
       "1     967   14M     500,000+  Free     0       Everyone   \n",
       "2   87510  8.7M   5,000,000+  Free     0       Everyone   \n",
       "3  215644   25M  50,000,000+  Free     0           Teen   \n",
       "4     967  2.8M     100,000+  Free     0       Everyone   \n",
       "\n",
       "                      Genres      Last Updated  \n",
       "0               Art & Design   January 7, 2018  \n",
       "1  Art & Design;Pretend Play  January 15, 2018  \n",
       "2               Art & Design    August 1, 2018  \n",
       "3               Art & Design      June 8, 2018  \n",
       "4    Art & Design;Creativity     June 20, 2018  "
      ]
     },
     "execution_count": 74,
     "metadata": {},
     "output_type": "execute_result"
    }
   ],
   "source": [
    "# Read data from the cvs file\n",
    "df = pd.read_csv( 'googleplaystore.csv' )\n",
    "\n",
    "df = df.drop(columns=\"Current Ver\")\n",
    "df = df.drop(columns=\"Android Ver\")\n",
    "df.dropna(inplace=True)\n",
    "\n",
    "df.head()"
   ]
  },
  {
   "cell_type": "markdown",
   "metadata": {},
   "source": [
    "We filter by \"Content Rating\" column and keeps applications that are available to everyone. "
   ]
  },
  {
   "cell_type": "code",
   "execution_count": 75,
   "metadata": {},
   "outputs": [],
   "source": [
    "df = df[(df['Content Rating'] == \"Everyone\")].copy()"
   ]
  },
  {
   "cell_type": "markdown",
   "metadata": {},
   "source": [
    "Function to pre-process last updated date column. Convert the string to integers, which represent last updated year."
   ]
  },
  {
   "cell_type": "code",
   "execution_count": 76,
   "metadata": {},
   "outputs": [],
   "source": [
    "def standardize_last_updated_year(string):\n",
    "    \n",
    "    string = string.strip()\n",
    "    \n",
    "    if \"2018\" in string:\n",
    "        output = 2018\n",
    "    elif \"2017\" in string:\n",
    "        output = 2017\n",
    "    elif \"2016\" in string:\n",
    "        output = 2016\n",
    "    elif \"2015\" in string:\n",
    "        output = 2015\n",
    "    elif \"2014\" in string:\n",
    "        output = 2014\n",
    "    elif \"2013\" in string:\n",
    "        output = 2013\n",
    "    elif \"2012\" in string:\n",
    "        output = 2012\n",
    "    elif \"2011\" in string:\n",
    "        output = 2011\n",
    "    elif \"2010\" in string:\n",
    "        output = 2010\n",
    "    # Otherwise, if uncaught - write 0\n",
    "    else:\n",
    "        output = string\n",
    "    \n",
    "    return output"
   ]
  },
  {
   "cell_type": "code",
   "execution_count": 77,
   "metadata": {},
   "outputs": [],
   "source": [
    "df[\"Last Updated\"] = df[\"Last Updated\"].apply(standardize_last_updated_year)"
   ]
  },
  {
   "cell_type": "markdown",
   "metadata": {},
   "source": [
    "Convert review column to integers for future regression tests."
   ]
  },
  {
   "cell_type": "code",
   "execution_count": 78,
   "metadata": {},
   "outputs": [],
   "source": [
    "df['Reviews'] = df['Reviews'].astype(np.int64)"
   ]
  },
  {
   "cell_type": "code",
   "execution_count": 79,
   "metadata": {},
   "outputs": [],
   "source": [
    "# Converts Mb and kb values to bytes and removes the unit of memory\n",
    "def standardize_size(str_in):\n",
    "    if 'k' in str_in:\n",
    "        try:\n",
    "            output = round(float(str_in[:-1]) * 1000)\n",
    "        except:\n",
    "            output = 0.0\n",
    "            \n",
    "    elif 'M' in str_in:\n",
    "        try:\n",
    "            output = round(float(str_in[:-1]) * 1000000)\n",
    "        except:\n",
    "            output =  0.0\n",
    "            \n",
    "    else:\n",
    "            output = 0.0\n",
    "            \n",
    "    return output"
   ]
  },
  {
   "cell_type": "code",
   "execution_count": 80,
   "metadata": {},
   "outputs": [],
   "source": [
    "df['Size'] = df['Size'].apply(standardize_size)"
   ]
  },
  {
   "cell_type": "markdown",
   "metadata": {},
   "source": [
    "Convert install column from string to int for future regression tests."
   ]
  },
  {
   "cell_type": "code",
   "execution_count": 81,
   "metadata": {},
   "outputs": [],
   "source": [
    "# Remove '+' and ',' symbols from Intalls and cast to int\n",
    "def standardize_installs(str_in):\n",
    "    output = int(str_in.replace('+' ,'').replace(',',''))\n",
    "    return output"
   ]
  },
  {
   "cell_type": "code",
   "execution_count": 82,
   "metadata": {},
   "outputs": [],
   "source": [
    "df['Installs'] = df['Installs'].apply(standardize_installs)"
   ]
  },
  {
   "cell_type": "code",
   "execution_count": 83,
   "metadata": {},
   "outputs": [],
   "source": [
    "# Cast Price as a float without the '$'\n",
    "def standardize_price(str_in):\n",
    "    output = float(str_in.replace('$', ''))\n",
    "    return output"
   ]
  },
  {
   "cell_type": "code",
   "execution_count": 84,
   "metadata": {},
   "outputs": [],
   "source": [
    "df['Price'] = df['Price'].apply(standardize_price)"
   ]
  },
  {
   "cell_type": "markdown",
   "metadata": {},
   "source": [
    "Display cleaned dataframe"
   ]
  },
  {
   "cell_type": "code",
   "execution_count": 85,
   "metadata": {},
   "outputs": [
    {
     "data": {
      "text/html": [
       "<div>\n",
       "<style scoped>\n",
       "    .dataframe tbody tr th:only-of-type {\n",
       "        vertical-align: middle;\n",
       "    }\n",
       "\n",
       "    .dataframe tbody tr th {\n",
       "        vertical-align: top;\n",
       "    }\n",
       "\n",
       "    .dataframe thead th {\n",
       "        text-align: right;\n",
       "    }\n",
       "</style>\n",
       "<table border=\"1\" class=\"dataframe\">\n",
       "  <thead>\n",
       "    <tr style=\"text-align: right;\">\n",
       "      <th></th>\n",
       "      <th>App</th>\n",
       "      <th>Category</th>\n",
       "      <th>Rating</th>\n",
       "      <th>Reviews</th>\n",
       "      <th>Size</th>\n",
       "      <th>Installs</th>\n",
       "      <th>Type</th>\n",
       "      <th>Price</th>\n",
       "      <th>Content Rating</th>\n",
       "      <th>Genres</th>\n",
       "      <th>Last Updated</th>\n",
       "    </tr>\n",
       "  </thead>\n",
       "  <tbody>\n",
       "    <tr>\n",
       "      <th>0</th>\n",
       "      <td>Photo Editor &amp; Candy Camera &amp; Grid &amp; ScrapBook</td>\n",
       "      <td>ART_AND_DESIGN</td>\n",
       "      <td>4.1</td>\n",
       "      <td>159</td>\n",
       "      <td>19000000.0</td>\n",
       "      <td>10000</td>\n",
       "      <td>Free</td>\n",
       "      <td>0.0</td>\n",
       "      <td>Everyone</td>\n",
       "      <td>Art &amp; Design</td>\n",
       "      <td>2018</td>\n",
       "    </tr>\n",
       "    <tr>\n",
       "      <th>1</th>\n",
       "      <td>Coloring book moana</td>\n",
       "      <td>ART_AND_DESIGN</td>\n",
       "      <td>3.9</td>\n",
       "      <td>967</td>\n",
       "      <td>14000000.0</td>\n",
       "      <td>500000</td>\n",
       "      <td>Free</td>\n",
       "      <td>0.0</td>\n",
       "      <td>Everyone</td>\n",
       "      <td>Art &amp; Design;Pretend Play</td>\n",
       "      <td>2018</td>\n",
       "    </tr>\n",
       "    <tr>\n",
       "      <th>2</th>\n",
       "      <td>U Launcher Lite – FREE Live Cool Themes, Hide ...</td>\n",
       "      <td>ART_AND_DESIGN</td>\n",
       "      <td>4.7</td>\n",
       "      <td>87510</td>\n",
       "      <td>8700000.0</td>\n",
       "      <td>5000000</td>\n",
       "      <td>Free</td>\n",
       "      <td>0.0</td>\n",
       "      <td>Everyone</td>\n",
       "      <td>Art &amp; Design</td>\n",
       "      <td>2018</td>\n",
       "    </tr>\n",
       "    <tr>\n",
       "      <th>4</th>\n",
       "      <td>Pixel Draw - Number Art Coloring Book</td>\n",
       "      <td>ART_AND_DESIGN</td>\n",
       "      <td>4.3</td>\n",
       "      <td>967</td>\n",
       "      <td>2800000.0</td>\n",
       "      <td>100000</td>\n",
       "      <td>Free</td>\n",
       "      <td>0.0</td>\n",
       "      <td>Everyone</td>\n",
       "      <td>Art &amp; Design;Creativity</td>\n",
       "      <td>2018</td>\n",
       "    </tr>\n",
       "    <tr>\n",
       "      <th>5</th>\n",
       "      <td>Paper flowers instructions</td>\n",
       "      <td>ART_AND_DESIGN</td>\n",
       "      <td>4.4</td>\n",
       "      <td>167</td>\n",
       "      <td>5600000.0</td>\n",
       "      <td>50000</td>\n",
       "      <td>Free</td>\n",
       "      <td>0.0</td>\n",
       "      <td>Everyone</td>\n",
       "      <td>Art &amp; Design</td>\n",
       "      <td>2017</td>\n",
       "    </tr>\n",
       "  </tbody>\n",
       "</table>\n",
       "</div>"
      ],
      "text/plain": [
       "                                                 App        Category  Rating  \\\n",
       "0     Photo Editor & Candy Camera & Grid & ScrapBook  ART_AND_DESIGN     4.1   \n",
       "1                                Coloring book moana  ART_AND_DESIGN     3.9   \n",
       "2  U Launcher Lite – FREE Live Cool Themes, Hide ...  ART_AND_DESIGN     4.7   \n",
       "4              Pixel Draw - Number Art Coloring Book  ART_AND_DESIGN     4.3   \n",
       "5                         Paper flowers instructions  ART_AND_DESIGN     4.4   \n",
       "\n",
       "   Reviews        Size  Installs  Type  Price Content Rating  \\\n",
       "0      159  19000000.0     10000  Free    0.0       Everyone   \n",
       "1      967  14000000.0    500000  Free    0.0       Everyone   \n",
       "2    87510   8700000.0   5000000  Free    0.0       Everyone   \n",
       "4      967   2800000.0    100000  Free    0.0       Everyone   \n",
       "5      167   5600000.0     50000  Free    0.0       Everyone   \n",
       "\n",
       "                      Genres  Last Updated  \n",
       "0               Art & Design          2018  \n",
       "1  Art & Design;Pretend Play          2018  \n",
       "2               Art & Design          2018  \n",
       "4    Art & Design;Creativity          2018  \n",
       "5               Art & Design          2017  "
      ]
     },
     "execution_count": 85,
     "metadata": {},
     "output_type": "execute_result"
    }
   ],
   "source": [
    "df.head(5)"
   ]
  },
  {
   "cell_type": "markdown",
   "metadata": {},
   "source": [
    "# Data Analysis & Results"
   ]
  },
  {
   "cell_type": "markdown",
   "metadata": {},
   "source": [
    "To get a general over view the data set, we get the max, min, average, and media of the rating. "
   ]
  },
  {
   "cell_type": "code",
   "execution_count": 86,
   "metadata": {},
   "outputs": [
    {
     "data": {
      "text/plain": [
       "5.0"
      ]
     },
     "execution_count": 86,
     "metadata": {},
     "output_type": "execute_result"
    }
   ],
   "source": [
    "## Overview of the data \n",
    "df[\"Rating\"].max()"
   ]
  },
  {
   "cell_type": "code",
   "execution_count": 87,
   "metadata": {},
   "outputs": [
    {
     "data": {
      "text/plain": [
       "1.0"
      ]
     },
     "execution_count": 87,
     "metadata": {},
     "output_type": "execute_result"
    }
   ],
   "source": [
    "df[\"Rating\"].min()"
   ]
  },
  {
   "cell_type": "code",
   "execution_count": 88,
   "metadata": {},
   "outputs": [
    {
     "data": {
      "text/plain": [
       "4.186374663072782"
      ]
     },
     "execution_count": 88,
     "metadata": {},
     "output_type": "execute_result"
    }
   ],
   "source": [
    "df[\"Rating\"].mean()"
   ]
  },
  {
   "cell_type": "code",
   "execution_count": 89,
   "metadata": {},
   "outputs": [
    {
     "data": {
      "text/plain": [
       "4.3"
      ]
     },
     "execution_count": 89,
     "metadata": {},
     "output_type": "execute_result"
    }
   ],
   "source": [
    "df[\"Rating\"].median()"
   ]
  },
  {
   "cell_type": "markdown",
   "metadata": {},
   "source": [
    "Check for normality of data"
   ]
  },
  {
   "cell_type": "code",
   "execution_count": 90,
   "metadata": {},
   "outputs": [],
   "source": [
    "def check_p_val(p_val, alpha):\n",
    "    if p_val < alpha:\n",
    "        print('We have evidence to reject the null hypothesis.')\n",
    "        print('The data is not normally distributed.')\n",
    "    else:\n",
    "        print('We do not have evidence to reject the null hypothesis.')\n",
    "        print('The data is normally distributed.')"
   ]
  },
  {
   "cell_type": "code",
   "execution_count": 91,
   "metadata": {},
   "outputs": [
    {
     "name": "stdout",
     "output_type": "stream",
     "text": [
      "test statistic: 2871.7869107159167 p-value: 0.0\n",
      "We have evidence to reject the null hypothesis.\n",
      "The data is not normally distributed.\n"
     ]
    }
   ],
   "source": [
    "ratings = df['Rating'].values\n",
    "st_ratings, p_ratings = normaltest(ratings)\n",
    "print(\"test statistic:\", st_ratings, \"p-value:\", p_ratings)\n",
    "check_p_val(p_ratings, 0.01)"
   ]
  },
  {
   "cell_type": "code",
   "execution_count": 92,
   "metadata": {},
   "outputs": [
    {
     "data": {
      "image/png": "[encoded data removed]",
      "text/plain": [
       "<Figure size 432x288 with 1 Axes>"
      ]
     },
     "metadata": {
      "needs_background": "light"
     },
     "output_type": "display_data"
    }
   ],
   "source": [
    "xs = np.arange(ratings.min(), ratings.max(), 0.1)\n",
    "fit = stats.norm.pdf(xs, np.mean(ratings), np.std(ratings))\n",
    "plt.plot(xs, fit, label='Normal Dist.', lw=4)\n",
    "plt.hist(ratings, 30,  density=True, label='Actual Data');\n",
    "plt.title('Rating Data')\n",
    "plt.legend();"
   ]
  },
  {
   "cell_type": "code",
   "execution_count": 93,
   "metadata": {},
   "outputs": [
    {
     "name": "stdout",
     "output_type": "stream",
     "text": [
      "test statistic: 15584.97433551716 p-value: 0.0\n",
      "We have evidence to reject the null hypothesis.\n",
      "The data is not normally distributed.\n"
     ]
    }
   ],
   "source": [
    "reviews = df['Reviews'].values\n",
    "st_reviews, p_reviews = normaltest(reviews)\n",
    "print(\"test statistic:\", st_reviews, \"p-value:\", p_reviews)\n",
    "check_p_val(p_reviews, 0.01)"
   ]
  },
  {
   "cell_type": "code",
   "execution_count": 94,
   "metadata": {},
   "outputs": [
    {
     "data": {
      "image/png": "[encoded data removed]",
      "text/plain": [
       "<Figure size 432x288 with 1 Axes>"
      ]
     },
     "metadata": {
      "needs_background": "light"
     },
     "output_type": "display_data"
    }
   ],
   "source": [
    "plt.hist(df['Reviews'].values, bins=100, range=(0, 800))\n",
    "plt.show()"
   ]
  },
  {
   "cell_type": "code",
   "execution_count": 95,
   "metadata": {},
   "outputs": [
    {
     "name": "stdout",
     "output_type": "stream",
     "text": [
      "test statistic: 2871.7869107159167 p-value: 0.0\n",
      "We have evidence to reject the null hypothesis.\n",
      "The data is not normally distributed.\n"
     ]
    }
   ],
   "source": [
    "intalls = df['Installs'].values\n",
    "st_installs, p_installs = normaltest(ratings)\n",
    "print(\"test statistic:\", st_installs, \"p-value:\", p_installs)\n",
    "check_p_val(p_installs, 0.01)"
   ]
  },
  {
   "cell_type": "markdown",
   "metadata": {},
   "source": [
    "It is clear that the data for ratings, reviews and installs are all not normal so tests that assume normally distributed data will not be accurate."
   ]
  },
  {
   "cell_type": "markdown",
   "metadata": {},
   "source": [
    "### Visualization"
   ]
  },
  {
   "cell_type": "markdown",
   "metadata": {},
   "source": [
    "First by using the scatter_matrx method, we plotting the whole dataframe.\n",
    "Since every attributes have multiple valules, we choose the scatter plot to show the relations."
   ]
  },
  {
   "cell_type": "code",
   "execution_count": 96,
   "metadata": {},
   "outputs": [
    {
     "data": {
      "image/png": "[encoded data removed]",
      "text/plain": [
       "<Figure size 504x504 with 36 Axes>"
      ]
     },
     "metadata": {
      "needs_background": "light"
     },
     "output_type": "display_data"
    }
   ],
   "source": [
    "fig =  pd.plotting.scatter_matrix(df, figsize = (7,7), diagonal='kde')"
   ]
  },
  {
   "cell_type": "markdown",
   "metadata": {},
   "source": [
    "From the plot above, we can see there is a positive correlation between rating and installs. According to it the more installs the higher the rating will be .\n",
    "We can get a feel from the plot, last updated time, size and reviews have impacts on ratings. A larger app can often get a higher rating while apps that haven't been updated for a while are unlikely to get a lower ratings.\n",
    "\n",
    "And there are also some other correlations, such as, the later the apps updated the bigger size of the apps will be."
   ]
  },
  {
   "cell_type": "code",
   "execution_count": 97,
   "metadata": {},
   "outputs": [
    {
     "data": {
      "text/plain": [
       "Text(0, 0.5, 'Installs(1000000)')"
      ]
     },
     "execution_count": 97,
     "metadata": {},
     "output_type": "execute_result"
    },
    {
     "data": {
      "image/png": "[encoded data removed]",
      "text/plain": [
       "<Figure size 432x288 with 1 Axes>"
      ]
     },
     "metadata": {
      "needs_background": "light"
     },
     "output_type": "display_data"
    }
   ],
   "source": [
    "plt.scatter(df['Rating'], df['Installs'])\n",
    "plt.xlabel('Rating')\n",
    "plt.ylabel('Installs(1000000)')"
   ]
  },
  {
   "cell_type": "code",
   "execution_count": 98,
   "metadata": {},
   "outputs": [
    {
     "data": {
      "text/plain": [
       "Text(0, 0.5, 'Last Updated(year)')"
      ]
     },
     "execution_count": 98,
     "metadata": {},
     "output_type": "execute_result"
    },
    {
     "data": {
      "image/png": "[encoded data removed]",
      "text/plain": [
       "<Figure size 432x288 with 1 Axes>"
      ]
     },
     "metadata": {
      "needs_background": "light"
     },
     "output_type": "display_data"
    }
   ],
   "source": [
    "plt.scatter(df['Rating'], df['Last Updated'])\n",
    "plt.xlabel('Rating')\n",
    "plt.ylabel('Last Updated(year)')"
   ]
  },
  {
   "cell_type": "markdown",
   "metadata": {},
   "source": [
    "As shown in the plot, the higher the rating is the higher the installations will be. However the positive correlation seems not clear enough when comparing to other factors. "
   ]
  },
  {
   "cell_type": "markdown",
   "metadata": {},
   "source": [
    "### Linear model"
   ]
  },
  {
   "cell_type": "code",
   "execution_count": 99,
   "metadata": {},
   "outputs": [
    {
     "name": "stdout",
     "output_type": "stream",
     "text": [
      "                            OLS Regression Results                            \n",
      "==============================================================================\n",
      "Dep. Variable:                 Rating   R-squared:                       0.003\n",
      "Model:                            OLS   Adj. R-squared:                  0.002\n",
      "Method:                 Least Squares   F-statistic:                     19.53\n",
      "Date:                Wed, 12 Jun 2019   Prob (F-statistic):           1.00e-05\n",
      "Time:                        17:20:50   Log-Likelihood:                -5910.0\n",
      "No. Observations:                7420   AIC:                         1.182e+04\n",
      "Df Residuals:                    7418   BIC:                         1.184e+04\n",
      "Df Model:                           1                                         \n",
      "Covariance Type:            nonrobust                                         \n",
      "==============================================================================\n",
      "                 coef    std err          t      P>|t|      [0.025      0.975]\n",
      "------------------------------------------------------------------------------\n",
      "Intercept      4.1812      0.006    659.570      0.000       4.169       4.194\n",
      "Installs    3.357e-10    7.6e-11      4.419      0.000    1.87e-10    4.85e-10\n",
      "==============================================================================\n",
      "Omnibus:                     2848.285   Durbin-Watson:                   1.748\n",
      "Prob(Omnibus):                  0.000   Jarque-Bera (JB):            13299.863\n",
      "Skew:                          -1.826   Prob(JB):                         0.00\n",
      "Kurtosis:                       8.448   Cond. No.                     8.49e+07\n",
      "==============================================================================\n",
      "\n",
      "Warnings:\n",
      "[1] Standard Errors assume that the covariance matrix of the errors is correctly specified.\n",
      "[2] The condition number is large, 8.49e+07. This might indicate that there are\n",
      "strong multicollinearity or other numerical problems.\n"
     ]
    }
   ],
   "source": [
    "\n",
    "outcome_1, predictors_1 = patsy.dmatrices(\"Rating ~ Installs\", df)\n",
    "mod_1 = sm.OLS(outcome_1, predictors_1)\n",
    "res_1 = mod_1.fit()\n",
    "print(res_1.summary())\n"
   ]
  },
  {
   "cell_type": "markdown",
   "metadata": {},
   "source": [
    "Above we have created a linear model to predict rating from installs (using df as data).\n",
    "We used patsy.dmatrices to create the design matrices, calling the outputs outcome_1, predictors_1.\n",
    "We then created an OLS model (sm.OLS) using outcome_1 and predictors_1. Call it mod_1.\n",
    "Finally we fitted the model, assigning it to res_1.\n",
    "Based on the R-squared (using alpha value of 0.01), we can safely conclude that installs do have a positive correlation to the rating of the phone apps."
   ]
  },
  {
   "cell_type": "code",
   "execution_count": 100,
   "metadata": {},
   "outputs": [
    {
     "data": {
      "text/html": [
       "<div>\n",
       "<style scoped>\n",
       "    .dataframe tbody tr th:only-of-type {\n",
       "        vertical-align: middle;\n",
       "    }\n",
       "\n",
       "    .dataframe tbody tr th {\n",
       "        vertical-align: top;\n",
       "    }\n",
       "\n",
       "    .dataframe thead th {\n",
       "        text-align: right;\n",
       "    }\n",
       "</style>\n",
       "<table border=\"1\" class=\"dataframe\">\n",
       "  <thead>\n",
       "    <tr style=\"text-align: right;\">\n",
       "      <th></th>\n",
       "      <th></th>\n",
       "      <th>Rating</th>\n",
       "    </tr>\n",
       "    <tr>\n",
       "      <th>Installs</th>\n",
       "      <th>Reviews</th>\n",
       "      <th></th>\n",
       "    </tr>\n",
       "  </thead>\n",
       "  <tbody>\n",
       "    <tr>\n",
       "      <th rowspan=\"2\" valign=\"top\">1</th>\n",
       "      <th>2</th>\n",
       "      <td>5.000000</td>\n",
       "    </tr>\n",
       "    <tr>\n",
       "      <th>4</th>\n",
       "      <td>5.000000</td>\n",
       "    </tr>\n",
       "    <tr>\n",
       "      <th rowspan=\"5\" valign=\"top\">5</th>\n",
       "      <th>1</th>\n",
       "      <td>5.000000</td>\n",
       "    </tr>\n",
       "    <tr>\n",
       "      <th>2</th>\n",
       "      <td>4.125000</td>\n",
       "    </tr>\n",
       "    <tr>\n",
       "      <th>4</th>\n",
       "      <td>5.000000</td>\n",
       "    </tr>\n",
       "    <tr>\n",
       "      <th>5</th>\n",
       "      <td>5.000000</td>\n",
       "    </tr>\n",
       "    <tr>\n",
       "      <th>7</th>\n",
       "      <td>5.000000</td>\n",
       "    </tr>\n",
       "    <tr>\n",
       "      <th rowspan=\"11\" valign=\"top\">10</th>\n",
       "      <th>1</th>\n",
       "      <td>4.678571</td>\n",
       "    </tr>\n",
       "    <tr>\n",
       "      <th>2</th>\n",
       "      <td>4.500000</td>\n",
       "    </tr>\n",
       "    <tr>\n",
       "      <th>3</th>\n",
       "      <td>4.733333</td>\n",
       "    </tr>\n",
       "    <tr>\n",
       "      <th>4</th>\n",
       "      <td>4.233333</td>\n",
       "    </tr>\n",
       "    <tr>\n",
       "      <th>5</th>\n",
       "      <td>4.900000</td>\n",
       "    </tr>\n",
       "    <tr>\n",
       "      <th>6</th>\n",
       "      <td>4.800000</td>\n",
       "    </tr>\n",
       "    <tr>\n",
       "      <th>7</th>\n",
       "      <td>5.000000</td>\n",
       "    </tr>\n",
       "    <tr>\n",
       "      <th>8</th>\n",
       "      <td>4.250000</td>\n",
       "    </tr>\n",
       "    <tr>\n",
       "      <th>9</th>\n",
       "      <td>5.000000</td>\n",
       "    </tr>\n",
       "    <tr>\n",
       "      <th>10</th>\n",
       "      <td>4.800000</td>\n",
       "    </tr>\n",
       "    <tr>\n",
       "      <th>11</th>\n",
       "      <td>5.000000</td>\n",
       "    </tr>\n",
       "    <tr>\n",
       "      <th rowspan=\"12\" valign=\"top\">50</th>\n",
       "      <th>1</th>\n",
       "      <td>3.125000</td>\n",
       "    </tr>\n",
       "    <tr>\n",
       "      <th>2</th>\n",
       "      <td>4.444444</td>\n",
       "    </tr>\n",
       "    <tr>\n",
       "      <th>3</th>\n",
       "      <td>4.740000</td>\n",
       "    </tr>\n",
       "    <tr>\n",
       "      <th>4</th>\n",
       "      <td>4.900000</td>\n",
       "    </tr>\n",
       "    <tr>\n",
       "      <th>5</th>\n",
       "      <td>4.244444</td>\n",
       "    </tr>\n",
       "    <tr>\n",
       "      <th>6</th>\n",
       "      <td>4.566667</td>\n",
       "    </tr>\n",
       "    <tr>\n",
       "      <th>7</th>\n",
       "      <td>5.000000</td>\n",
       "    </tr>\n",
       "    <tr>\n",
       "      <th>8</th>\n",
       "      <td>5.000000</td>\n",
       "    </tr>\n",
       "    <tr>\n",
       "      <th>9</th>\n",
       "      <td>4.700000</td>\n",
       "    </tr>\n",
       "    <tr>\n",
       "      <th>12</th>\n",
       "      <td>4.600000</td>\n",
       "    </tr>\n",
       "    <tr>\n",
       "      <th>14</th>\n",
       "      <td>5.000000</td>\n",
       "    </tr>\n",
       "    <tr>\n",
       "      <th>15</th>\n",
       "      <td>4.800000</td>\n",
       "    </tr>\n",
       "    <tr>\n",
       "      <th>...</th>\n",
       "      <th>...</th>\n",
       "      <td>...</td>\n",
       "    </tr>\n",
       "    <tr>\n",
       "      <th rowspan=\"2\" valign=\"top\">500000000</th>\n",
       "      <th>24900999</th>\n",
       "      <td>4.700000</td>\n",
       "    </tr>\n",
       "    <tr>\n",
       "      <th>42916526</th>\n",
       "      <td>4.700000</td>\n",
       "    </tr>\n",
       "    <tr>\n",
       "      <th rowspan=\"28\" valign=\"top\">1000000000</th>\n",
       "      <th>2129689</th>\n",
       "      <td>4.200000</td>\n",
       "    </tr>\n",
       "    <tr>\n",
       "      <th>2129707</th>\n",
       "      <td>4.200000</td>\n",
       "    </tr>\n",
       "    <tr>\n",
       "      <th>2728941</th>\n",
       "      <td>4.400000</td>\n",
       "    </tr>\n",
       "    <tr>\n",
       "      <th>2731171</th>\n",
       "      <td>4.400000</td>\n",
       "    </tr>\n",
       "    <tr>\n",
       "      <th>2731211</th>\n",
       "      <td>4.400000</td>\n",
       "    </tr>\n",
       "    <tr>\n",
       "      <th>3419249</th>\n",
       "      <td>4.000000</td>\n",
       "    </tr>\n",
       "    <tr>\n",
       "      <th>3419433</th>\n",
       "      <td>4.000000</td>\n",
       "    </tr>\n",
       "    <tr>\n",
       "      <th>3419464</th>\n",
       "      <td>4.000000</td>\n",
       "    </tr>\n",
       "    <tr>\n",
       "      <th>3419513</th>\n",
       "      <td>4.000000</td>\n",
       "    </tr>\n",
       "    <tr>\n",
       "      <th>4604324</th>\n",
       "      <td>4.300000</td>\n",
       "    </tr>\n",
       "    <tr>\n",
       "      <th>4604483</th>\n",
       "      <td>4.300000</td>\n",
       "    </tr>\n",
       "    <tr>\n",
       "      <th>8021623</th>\n",
       "      <td>4.400000</td>\n",
       "    </tr>\n",
       "    <tr>\n",
       "      <th>8033493</th>\n",
       "      <td>4.400000</td>\n",
       "    </tr>\n",
       "    <tr>\n",
       "      <th>9231613</th>\n",
       "      <td>4.300000</td>\n",
       "    </tr>\n",
       "    <tr>\n",
       "      <th>9235155</th>\n",
       "      <td>4.300000</td>\n",
       "    </tr>\n",
       "    <tr>\n",
       "      <th>9235373</th>\n",
       "      <td>4.300000</td>\n",
       "    </tr>\n",
       "    <tr>\n",
       "      <th>9642112</th>\n",
       "      <td>4.300000</td>\n",
       "    </tr>\n",
       "    <tr>\n",
       "      <th>9642995</th>\n",
       "      <td>4.300000</td>\n",
       "    </tr>\n",
       "    <tr>\n",
       "      <th>9643041</th>\n",
       "      <td>4.300000</td>\n",
       "    </tr>\n",
       "    <tr>\n",
       "      <th>10484169</th>\n",
       "      <td>4.100000</td>\n",
       "    </tr>\n",
       "    <tr>\n",
       "      <th>10847682</th>\n",
       "      <td>4.500000</td>\n",
       "    </tr>\n",
       "    <tr>\n",
       "      <th>10858538</th>\n",
       "      <td>4.500000</td>\n",
       "    </tr>\n",
       "    <tr>\n",
       "      <th>10858556</th>\n",
       "      <td>4.500000</td>\n",
       "    </tr>\n",
       "    <tr>\n",
       "      <th>10859051</th>\n",
       "      <td>4.500000</td>\n",
       "    </tr>\n",
       "    <tr>\n",
       "      <th>56642847</th>\n",
       "      <td>4.000000</td>\n",
       "    </tr>\n",
       "    <tr>\n",
       "      <th>56646578</th>\n",
       "      <td>4.000000</td>\n",
       "    </tr>\n",
       "    <tr>\n",
       "      <th>69109672</th>\n",
       "      <td>4.400000</td>\n",
       "    </tr>\n",
       "    <tr>\n",
       "      <th>69119316</th>\n",
       "      <td>4.400000</td>\n",
       "    </tr>\n",
       "  </tbody>\n",
       "</table>\n",
       "<p>5359 rows × 1 columns</p>\n",
       "</div>"
      ],
      "text/plain": [
       "                       Rating\n",
       "Installs   Reviews           \n",
       "1          2         5.000000\n",
       "           4         5.000000\n",
       "5          1         5.000000\n",
       "           2         4.125000\n",
       "           4         5.000000\n",
       "           5         5.000000\n",
       "           7         5.000000\n",
       "10         1         4.678571\n",
       "           2         4.500000\n",
       "           3         4.733333\n",
       "           4         4.233333\n",
       "           5         4.900000\n",
       "           6         4.800000\n",
       "           7         5.000000\n",
       "           8         4.250000\n",
       "           9         5.000000\n",
       "           10        4.800000\n",
       "           11        5.000000\n",
       "50         1         3.125000\n",
       "           2         4.444444\n",
       "           3         4.740000\n",
       "           4         4.900000\n",
       "           5         4.244444\n",
       "           6         4.566667\n",
       "           7         5.000000\n",
       "           8         5.000000\n",
       "           9         4.700000\n",
       "           12        4.600000\n",
       "           14        5.000000\n",
       "           15        4.800000\n",
       "...                       ...\n",
       "500000000  24900999  4.700000\n",
       "           42916526  4.700000\n",
       "1000000000 2129689   4.200000\n",
       "           2129707   4.200000\n",
       "           2728941   4.400000\n",
       "           2731171   4.400000\n",
       "           2731211   4.400000\n",
       "           3419249   4.000000\n",
       "           3419433   4.000000\n",
       "           3419464   4.000000\n",
       "           3419513   4.000000\n",
       "           4604324   4.300000\n",
       "           4604483   4.300000\n",
       "           8021623   4.400000\n",
       "           8033493   4.400000\n",
       "           9231613   4.300000\n",
       "           9235155   4.300000\n",
       "           9235373   4.300000\n",
       "           9642112   4.300000\n",
       "           9642995   4.300000\n",
       "           9643041   4.300000\n",
       "           10484169  4.100000\n",
       "           10847682  4.500000\n",
       "           10858538  4.500000\n",
       "           10858556  4.500000\n",
       "           10859051  4.500000\n",
       "           56642847  4.000000\n",
       "           56646578  4.000000\n",
       "           69109672  4.400000\n",
       "           69119316  4.400000\n",
       "\n",
       "[5359 rows x 1 columns]"
      ]
     },
     "execution_count": 100,
     "metadata": {},
     "output_type": "execute_result"
    }
   ],
   "source": [
    "pv = pd.pivot_table(df, values='Rating', index=['Installs', 'Reviews'])\n",
    "pv"
   ]
  },
  {
   "cell_type": "markdown",
   "metadata": {},
   "source": [
    "### Multivariate regression: \n",
    "\n",
    "In order to eliminate the impact of number of reviews, we use Multivariable regression with three variables Installs, Reviews, and Ratings. \n",
    "\n",
    "We create a linear model to predict ratings from both Installs and Reviews: \n",
    "\n",
    "We use `patsy.dmatrices` to create the design matrices, calling the outputs `outcome_2`, `predictors_2`\n",
    "\n",
    "We create an OLS model (`sm.OLS`) using `outcome_2` and `predictors_2`, and call it as `mod_2`.\n",
    "\n",
    "We fit the model, by assigning it to `res_2`.\n"
   ]
  },
  {
   "cell_type": "code",
   "execution_count": 101,
   "metadata": {},
   "outputs": [],
   "source": [
    "outcome_2, predictors_2 = patsy.dmatrices( 'Rating ~ Installs+ Reviews', df )\n",
    "mod_2 = sm.OLS(outcome_2, predictors_2)\n",
    "res_2 = mod_2.fit()"
   ]
  },
  {
   "cell_type": "markdown",
   "metadata": {},
   "source": [
    "Assertion statement to make sure the model is built successfully. "
   ]
  },
  {
   "cell_type": "code",
   "execution_count": 102,
   "metadata": {},
   "outputs": [],
   "source": [
    "assert isinstance(outcome_2, patsy.design_info.DesignMatrix)\n",
    "assert isinstance(predictors_2, patsy.design_info.DesignMatrix)\n",
    "assert isinstance(mod_2, sm.regression.linear_model.OLS)\n",
    "assert isinstance(res_2, sm.regression.linear_model.RegressionResultsWrapper)"
   ]
  },
  {
   "cell_type": "markdown",
   "metadata": {},
   "source": [
    "Print the result from regression tests. "
   ]
  },
  {
   "cell_type": "code",
   "execution_count": 103,
   "metadata": {},
   "outputs": [
    {
     "name": "stdout",
     "output_type": "stream",
     "text": [
      "                            OLS Regression Results                            \n",
      "==============================================================================\n",
      "Dep. Variable:                 Rating   R-squared:                       0.004\n",
      "Model:                            OLS   Adj. R-squared:                  0.004\n",
      "Method:                 Least Squares   F-statistic:                     15.11\n",
      "Date:                Wed, 12 Jun 2019   Prob (F-statistic):           2.82e-07\n",
      "Time:                        17:20:57   Log-Likelihood:                -5904.7\n",
      "No. Observations:                7420   AIC:                         1.182e+04\n",
      "Df Residuals:                    7417   BIC:                         1.184e+04\n",
      "Df Model:                           2                                         \n",
      "Covariance Type:            nonrobust                                         \n",
      "==============================================================================\n",
      "                 coef    std err          t      P>|t|      [0.025      0.975]\n",
      "------------------------------------------------------------------------------\n",
      "Intercept      4.1802      0.006    658.970      0.000       4.168       4.193\n",
      "Installs    1.303e-10   9.86e-11      1.321      0.186    -6.3e-11    3.23e-10\n",
      "Reviews     1.117e-08   3.42e-09      3.266      0.001    4.47e-09    1.79e-08\n",
      "==============================================================================\n",
      "Omnibus:                     2852.043   Durbin-Watson:                   1.750\n",
      "Prob(Omnibus):                  0.000   Jarque-Bera (JB):            13347.137\n",
      "Skew:                          -1.828   Prob(JB):                         0.00\n",
      "Kurtosis:                       8.460   Cond. No.                     8.50e+07\n",
      "==============================================================================\n",
      "\n",
      "Warnings:\n",
      "[1] Standard Errors assume that the covariance matrix of the errors is correctly specified.\n",
      "[2] The condition number is large, 8.5e+07. This might indicate that there are\n",
      "strong multicollinearity or other numerical problems.\n"
     ]
    }
   ],
   "source": [
    "# Print out the results \n",
    "print(res_2.summary())"
   ]
  },
  {
   "cell_type": "markdown",
   "metadata": {},
   "source": [
    "Based on the model you we above (using alpha value of 0.01), we exame the p-values. \n",
    "\n",
    "According the OLS Regression Results above. The p-value associated with Installs is 0.186, while the p-value associtaed with Reviews is 0.001. \n",
    "\n",
    "We can safely conclude that Reviews do have a positive correlation to the rating of the phone apps, while Installs do not."
   ]
  },
  {
   "cell_type": "markdown",
   "metadata": {},
   "source": [
    "### Regression Model"
   ]
  },
  {
   "cell_type": "markdown",
   "metadata": {},
   "source": [
    "- A Random Forest is an ensemble technique capable of performing both regression and classification tasks with the use of multiple decision trees and a technique called Bootstrap Aggregation\n",
    "- We used Skit-Learn's RandomForestRegressor as our model because of its high accuracy \n",
    "- Before using the model we must ensure all the data is in numerical format"
   ]
  },
  {
   "cell_type": "code",
   "execution_count": 104,
   "metadata": {},
   "outputs": [],
   "source": [
    "#before using regression model convert strings to numbers\n",
    "warnings.filterwarnings('ignore')\n",
    "encoder = LabelEncoder()\n",
    "df[\"Content RatingNum\"] = encoder.fit_transform(df[\"Content Rating\"])\n",
    "df['App'] = encoder.fit_transform(df['App'])\n",
    "df['Genres'] = encoder.fit_transform(df['Genres'])\n",
    "df['Type'] = pd.get_dummies(df['Type'])\n",
    "df[\"CategoryNum\"] = encoder.fit_transform(df[\"Category\"])\n",
    "df['Reviews'] = pd.to_numeric(df['Reviews'])\n",
    "df['Price'] = pd.to_numeric(df['Price'])\n",
    "df['Installs'] = pd.to_numeric(df['Installs'])\n",
    "df = df[pd.notnull(df['Last Updated'])]"
   ]
  },
  {
   "cell_type": "code",
   "execution_count": 105,
   "metadata": {},
   "outputs": [
    {
     "data": {
      "text/html": [
       "<div>\n",
       "<style scoped>\n",
       "    .dataframe tbody tr th:only-of-type {\n",
       "        vertical-align: middle;\n",
       "    }\n",
       "\n",
       "    .dataframe tbody tr th {\n",
       "        vertical-align: top;\n",
       "    }\n",
       "\n",
       "    .dataframe thead th {\n",
       "        text-align: right;\n",
       "    }\n",
       "</style>\n",
       "<table border=\"1\" class=\"dataframe\">\n",
       "  <thead>\n",
       "    <tr style=\"text-align: right;\">\n",
       "      <th></th>\n",
       "      <th>App</th>\n",
       "      <th>Category</th>\n",
       "      <th>Rating</th>\n",
       "      <th>Reviews</th>\n",
       "      <th>Size</th>\n",
       "      <th>Installs</th>\n",
       "      <th>Type</th>\n",
       "      <th>Price</th>\n",
       "      <th>Content Rating</th>\n",
       "      <th>Genres</th>\n",
       "      <th>Last Updated</th>\n",
       "      <th>Content RatingNum</th>\n",
       "      <th>CategoryNum</th>\n",
       "    </tr>\n",
       "  </thead>\n",
       "  <tbody>\n",
       "    <tr>\n",
       "      <th>0</th>\n",
       "      <td>4720</td>\n",
       "      <td>ART_AND_DESIGN</td>\n",
       "      <td>4.1</td>\n",
       "      <td>159</td>\n",
       "      <td>19000000.0</td>\n",
       "      <td>10000</td>\n",
       "      <td>1</td>\n",
       "      <td>0.0</td>\n",
       "      <td>Everyone</td>\n",
       "      <td>9</td>\n",
       "      <td>2018</td>\n",
       "      <td>0</td>\n",
       "      <td>0</td>\n",
       "    </tr>\n",
       "    <tr>\n",
       "      <th>1</th>\n",
       "      <td>1799</td>\n",
       "      <td>ART_AND_DESIGN</td>\n",
       "      <td>3.9</td>\n",
       "      <td>967</td>\n",
       "      <td>14000000.0</td>\n",
       "      <td>500000</td>\n",
       "      <td>1</td>\n",
       "      <td>0.0</td>\n",
       "      <td>Everyone</td>\n",
       "      <td>11</td>\n",
       "      <td>2018</td>\n",
       "      <td>0</td>\n",
       "      <td>0</td>\n",
       "    </tr>\n",
       "    <tr>\n",
       "      <th>2</th>\n",
       "      <td>5916</td>\n",
       "      <td>ART_AND_DESIGN</td>\n",
       "      <td>4.7</td>\n",
       "      <td>87510</td>\n",
       "      <td>8700000.0</td>\n",
       "      <td>5000000</td>\n",
       "      <td>1</td>\n",
       "      <td>0.0</td>\n",
       "      <td>Everyone</td>\n",
       "      <td>9</td>\n",
       "      <td>2018</td>\n",
       "      <td>0</td>\n",
       "      <td>0</td>\n",
       "    </tr>\n",
       "    <tr>\n",
       "      <th>4</th>\n",
       "      <td>4773</td>\n",
       "      <td>ART_AND_DESIGN</td>\n",
       "      <td>4.3</td>\n",
       "      <td>967</td>\n",
       "      <td>2800000.0</td>\n",
       "      <td>100000</td>\n",
       "      <td>1</td>\n",
       "      <td>0.0</td>\n",
       "      <td>Everyone</td>\n",
       "      <td>10</td>\n",
       "      <td>2018</td>\n",
       "      <td>0</td>\n",
       "      <td>0</td>\n",
       "    </tr>\n",
       "    <tr>\n",
       "      <th>5</th>\n",
       "      <td>4658</td>\n",
       "      <td>ART_AND_DESIGN</td>\n",
       "      <td>4.4</td>\n",
       "      <td>167</td>\n",
       "      <td>5600000.0</td>\n",
       "      <td>50000</td>\n",
       "      <td>1</td>\n",
       "      <td>0.0</td>\n",
       "      <td>Everyone</td>\n",
       "      <td>9</td>\n",
       "      <td>2017</td>\n",
       "      <td>0</td>\n",
       "      <td>0</td>\n",
       "    </tr>\n",
       "  </tbody>\n",
       "</table>\n",
       "</div>"
      ],
      "text/plain": [
       "    App        Category  Rating  Reviews        Size  Installs  Type  Price  \\\n",
       "0  4720  ART_AND_DESIGN     4.1      159  19000000.0     10000     1    0.0   \n",
       "1  1799  ART_AND_DESIGN     3.9      967  14000000.0    500000     1    0.0   \n",
       "2  5916  ART_AND_DESIGN     4.7    87510   8700000.0   5000000     1    0.0   \n",
       "4  4773  ART_AND_DESIGN     4.3      967   2800000.0    100000     1    0.0   \n",
       "5  4658  ART_AND_DESIGN     4.4      167   5600000.0     50000     1    0.0   \n",
       "\n",
       "  Content Rating  Genres  Last Updated  Content RatingNum  CategoryNum  \n",
       "0       Everyone       9          2018                  0            0  \n",
       "1       Everyone      11          2018                  0            0  \n",
       "2       Everyone       9          2018                  0            0  \n",
       "4       Everyone      10          2018                  0            0  \n",
       "5       Everyone       9          2017                  0            0  "
      ]
     },
     "execution_count": 105,
     "metadata": {},
     "output_type": "execute_result"
    }
   ],
   "source": [
    "df.head()"
   ]
  },
  {
   "cell_type": "markdown",
   "metadata": {},
   "source": [
    "- We will select the depedent variables that will predict the variable Rating\n",
    "- Following the 80/20 rule split the data into a training set(80% of the data) and test set(20% of the data)"
   ]
  },
  {
   "cell_type": "code",
   "execution_count": 106,
   "metadata": {},
   "outputs": [],
   "source": [
    "#select features used in model \n",
    "features = ['CategoryNum','Reviews', 'Size', 'Installs', 'Type', 'Price', 'Content RatingNum']\n",
    "X = df[features]\n",
    "Y = df['Rating']\n",
    "X_train, X_test, Y_train, Y_test = train_test_split(X, Y, test_size=0.20)"
   ]
  },
  {
   "cell_type": "markdown",
   "metadata": {},
   "source": [
    "- The most important parameter of the RandomForestRegressor class is the n_estimators parameter. This parameter defines the number of trees in the random forest.\n",
    "- We create many RandomForestRegressors and evaluate their performance using mean squared error between the predicted and actual values."
   ]
  },
  {
   "cell_type": "code",
   "execution_count": 107,
   "metadata": {},
   "outputs": [],
   "source": [
    "#create model using a range of different estimators \n",
    "model = RandomForestRegressor(n_jobs=-1)\n",
    "num = [300,320,330,350,370,390,410,430,450,470,490]\n",
    "trainScore= []\n",
    "testScore = []\n",
    "for i in num:\n",
    "    model.set_params(n_estimators = i)\n",
    "    model.fit(X_train, Y_train)\n",
    "    y_train_pred= model.predict(X_train)\n",
    "    y_test_pred = model.predict(X_test)\n",
    "    trainScore.append(mean_squared_error(Y_train, y_train_pred))\n",
    "    testScore.append(mean_squared_error(Y_test, y_test_pred))"
   ]
  },
  {
   "cell_type": "code",
   "execution_count": 108,
   "metadata": {},
   "outputs": [
    {
     "data": {
      "text/plain": [
       "[<matplotlib.lines.Line2D at 0x1c3e1934a8>]"
      ]
     },
     "execution_count": 108,
     "metadata": {},
     "output_type": "execute_result"
    },
    {
     "data": {
      "image/png": "[encoded data removed]",
      "text/plain": [
       "<Figure size 432x288 with 1 Axes>"
      ]
     },
     "metadata": {
      "needs_background": "light"
     },
     "output_type": "display_data"
    }
   ],
   "source": [
    "#plot the effect of the estimators based on the model mean squared error\n",
    "plt.title(\"Effect of Estimators\")\n",
    "plt.xlabel(\"no. estimator\")\n",
    "plt.ylabel(\"Mean Squared Error\")\n",
    "plt.plot(num, testScore)"
   ]
  },
  {
   "cell_type": "markdown",
   "metadata": {},
   "source": [
    "- Given the above graph the mean squared error ranges from about 0.2550 to 0.2580\n",
    "- The mean squared error measures how close the predicted values are to the actual values \n",
    "- The smaller the means squared error, the closer we are to finding the line of best fit. "
   ]
  },
  {
   "cell_type": "markdown",
   "metadata": {},
   "source": [
    "- We now create a final RandomForestRegressor with the n_estimators set to 415"
   ]
  },
  {
   "cell_type": "code",
   "execution_count": 109,
   "metadata": {},
   "outputs": [],
   "source": [
    "model2 = RandomForestRegressor(n_jobs=-1,n_estimators = 415, oob_score=True)\n",
    "model2.fit(X_train, Y_train)\n",
    "y_pred = model2.predict(X_test)"
   ]
  },
  {
   "cell_type": "markdown",
   "metadata": {},
   "source": [
    "- The out of bag score, which measures the prediction error, is quite low indicating that the features chosen may not be the best features to predict the rating of an app "
   ]
  },
  {
   "cell_type": "code",
   "execution_count": 110,
   "metadata": {},
   "outputs": [
    {
     "data": {
      "text/plain": [
       "0.0907201219114585"
      ]
     },
     "execution_count": 110,
     "metadata": {},
     "output_type": "execute_result"
    }
   ],
   "source": [
    "model2.oob_score_"
   ]
  },
  {
   "cell_type": "markdown",
   "metadata": {},
   "source": [
    "- Even though our model may not be the most accurate we can use the feature importance of the model to discover which variables are the most relevant in predicting the target variable 'Rating'"
   ]
  },
  {
   "cell_type": "code",
   "execution_count": 111,
   "metadata": {},
   "outputs": [
    {
     "data": {
      "text/plain": [
       "array([0.16950663, 0.38627276, 0.29155913, 0.11191764, 0.00584621,\n",
       "       0.03489764, 0.        ])"
      ]
     },
     "execution_count": 111,
     "metadata": {},
     "output_type": "execute_result"
    }
   ],
   "source": [
    "feature_importances = model2.feature_importances_\n",
    "feature_importances"
   ]
  },
  {
   "cell_type": "code",
   "execution_count": 112,
   "metadata": {},
   "outputs": [
    {
     "data": {
      "text/plain": [
       "<BarContainer object of 7 artists>"
      ]
     },
     "execution_count": 112,
     "metadata": {},
     "output_type": "execute_result"
    },
    {
     "data": {
      "image/png": "[encoded data removed]",
      "text/plain": [
       "<Figure size 432x288 with 1 Axes>"
      ]
     },
     "metadata": {
      "needs_background": "light"
     },
     "output_type": "display_data"
    }
   ],
   "source": [
    "#plot the feature importance\n",
    "featureName = ['Category','Reviews', 'Size', 'Installs', 'Type', 'Price', 'Content Rating']\n",
    "plt.bar(featureName, feature_importances,.15)"
   ]
  },
  {
   "cell_type": "markdown",
   "metadata": {},
   "source": [
    "- Given the graph above we can see that 'Reviews' and not 'Installs' is the most relevant variable out of the ones we have in predicting the app Rating. This is consistent with our earlier results from the multivaritate regression that Reviews are more important than Installs to determine the Rating."
   ]
  },
  {
   "cell_type": "code",
   "execution_count": 113,
   "metadata": {},
   "outputs": [
    {
     "data": {
      "text/html": [
       "<div>\n",
       "<style scoped>\n",
       "    .dataframe tbody tr th:only-of-type {\n",
       "        vertical-align: middle;\n",
       "    }\n",
       "\n",
       "    .dataframe tbody tr th {\n",
       "        vertical-align: top;\n",
       "    }\n",
       "\n",
       "    .dataframe thead th {\n",
       "        text-align: right;\n",
       "    }\n",
       "</style>\n",
       "<table border=\"1\" class=\"dataframe\">\n",
       "  <thead>\n",
       "    <tr style=\"text-align: right;\">\n",
       "      <th></th>\n",
       "      <th>actual</th>\n",
       "      <th>predicted</th>\n",
       "      <th>difference</th>\n",
       "    </tr>\n",
       "  </thead>\n",
       "  <tbody>\n",
       "    <tr>\n",
       "      <th>0</th>\n",
       "      <td>4.7</td>\n",
       "      <td>4.430816</td>\n",
       "      <td>0.269184</td>\n",
       "    </tr>\n",
       "    <tr>\n",
       "      <th>1</th>\n",
       "      <td>4.3</td>\n",
       "      <td>4.409796</td>\n",
       "      <td>-0.109796</td>\n",
       "    </tr>\n",
       "    <tr>\n",
       "      <th>2</th>\n",
       "      <td>3.8</td>\n",
       "      <td>4.064490</td>\n",
       "      <td>-0.264490</td>\n",
       "    </tr>\n",
       "    <tr>\n",
       "      <th>3</th>\n",
       "      <td>4.4</td>\n",
       "      <td>4.667347</td>\n",
       "      <td>-0.267347</td>\n",
       "    </tr>\n",
       "    <tr>\n",
       "      <th>4</th>\n",
       "      <td>4.5</td>\n",
       "      <td>4.478163</td>\n",
       "      <td>0.021837</td>\n",
       "    </tr>\n",
       "    <tr>\n",
       "      <th>5</th>\n",
       "      <td>4.4</td>\n",
       "      <td>4.147143</td>\n",
       "      <td>0.252857</td>\n",
       "    </tr>\n",
       "    <tr>\n",
       "      <th>6</th>\n",
       "      <td>4.3</td>\n",
       "      <td>4.199898</td>\n",
       "      <td>0.100102</td>\n",
       "    </tr>\n",
       "    <tr>\n",
       "      <th>7</th>\n",
       "      <td>4.2</td>\n",
       "      <td>4.048776</td>\n",
       "      <td>0.151224</td>\n",
       "    </tr>\n",
       "    <tr>\n",
       "      <th>8</th>\n",
       "      <td>3.5</td>\n",
       "      <td>4.460000</td>\n",
       "      <td>-0.960000</td>\n",
       "    </tr>\n",
       "    <tr>\n",
       "      <th>9</th>\n",
       "      <td>3.7</td>\n",
       "      <td>3.952245</td>\n",
       "      <td>-0.252245</td>\n",
       "    </tr>\n",
       "    <tr>\n",
       "      <th>10</th>\n",
       "      <td>4.1</td>\n",
       "      <td>4.002653</td>\n",
       "      <td>0.097347</td>\n",
       "    </tr>\n",
       "    <tr>\n",
       "      <th>11</th>\n",
       "      <td>4.0</td>\n",
       "      <td>4.033878</td>\n",
       "      <td>-0.033878</td>\n",
       "    </tr>\n",
       "    <tr>\n",
       "      <th>12</th>\n",
       "      <td>4.3</td>\n",
       "      <td>4.457755</td>\n",
       "      <td>-0.157755</td>\n",
       "    </tr>\n",
       "    <tr>\n",
       "      <th>13</th>\n",
       "      <td>3.1</td>\n",
       "      <td>3.983265</td>\n",
       "      <td>-0.883265</td>\n",
       "    </tr>\n",
       "    <tr>\n",
       "      <th>14</th>\n",
       "      <td>4.4</td>\n",
       "      <td>4.369184</td>\n",
       "      <td>0.030816</td>\n",
       "    </tr>\n",
       "    <tr>\n",
       "      <th>15</th>\n",
       "      <td>4.2</td>\n",
       "      <td>4.384490</td>\n",
       "      <td>-0.184490</td>\n",
       "    </tr>\n",
       "    <tr>\n",
       "      <th>16</th>\n",
       "      <td>4.2</td>\n",
       "      <td>4.018776</td>\n",
       "      <td>0.181224</td>\n",
       "    </tr>\n",
       "    <tr>\n",
       "      <th>17</th>\n",
       "      <td>4.0</td>\n",
       "      <td>3.825306</td>\n",
       "      <td>0.174694</td>\n",
       "    </tr>\n",
       "    <tr>\n",
       "      <th>18</th>\n",
       "      <td>4.5</td>\n",
       "      <td>4.195714</td>\n",
       "      <td>0.304286</td>\n",
       "    </tr>\n",
       "    <tr>\n",
       "      <th>19</th>\n",
       "      <td>4.3</td>\n",
       "      <td>4.206735</td>\n",
       "      <td>0.093265</td>\n",
       "    </tr>\n",
       "  </tbody>\n",
       "</table>\n",
       "</div>"
      ],
      "text/plain": [
       "    actual  predicted  difference\n",
       "0      4.7   4.430816    0.269184\n",
       "1      4.3   4.409796   -0.109796\n",
       "2      3.8   4.064490   -0.264490\n",
       "3      4.4   4.667347   -0.267347\n",
       "4      4.5   4.478163    0.021837\n",
       "5      4.4   4.147143    0.252857\n",
       "6      4.3   4.199898    0.100102\n",
       "7      4.2   4.048776    0.151224\n",
       "8      3.5   4.460000   -0.960000\n",
       "9      3.7   3.952245   -0.252245\n",
       "10     4.1   4.002653    0.097347\n",
       "11     4.0   4.033878   -0.033878\n",
       "12     4.3   4.457755   -0.157755\n",
       "13     3.1   3.983265   -0.883265\n",
       "14     4.4   4.369184    0.030816\n",
       "15     4.2   4.384490   -0.184490\n",
       "16     4.2   4.018776    0.181224\n",
       "17     4.0   3.825306    0.174694\n",
       "18     4.5   4.195714    0.304286\n",
       "19     4.3   4.206735    0.093265"
      ]
     },
     "execution_count": 113,
     "metadata": {},
     "output_type": "execute_result"
    }
   ],
   "source": [
    "diff = Y_test - y_test_pred\n",
    "predicted = pd.DataFrame(np.c_[ Y_test, y_test_pred,diff])\n",
    "predicted.columns = ['actual','predicted','difference']\n",
    "predicted[0:20]"
   ]
  },
  {
   "cell_type": "markdown",
   "metadata": {},
   "source": [
    "- As expected given our low model score, our predicted values differ significantly from the actual values."
   ]
  },
  {
   "cell_type": "markdown",
   "metadata": {},
   "source": [
    "# Ethics & Privacy"
   ]
  },
  {
   "cell_type": "markdown",
   "metadata": {},
   "source": [
    "We found this data set on Kaggle https://www.kaggle.com/datasets, a open source data set website. We read through the terms and condition and made sure that we have permission to use this data for this purpose.Since this data does not involve individuals’ data, there is not much concern regarding the privacy of the datasets we are dealing with. One privacy concern is that app creators may not want others knowing the amount of downloads or ratings their app has. We will not release all name of app that have a low average rating, in order to avoid potential negative impacts on those applications. \n",
    "\n",
    "There are biases in our Dataset. For example, there are 10k apps used in our dataset. There may be a host of other apps that if we chose to analyze would give us a different conclusion. Maybe in another dataset of 10k apps, more downloads correlates with a higher rating.The issue with our data set is that it only contain 10k entries. It does not contain all the apps in Google Play Store. \n",
    "\n",
    "We handle this issue by acknowledge the facts that it does not contain every app in Google Play Store. Those sample we have may not represent all the application. With the potential bias in mind, we are more careful about drawing a conclusion. All the analysis and conclusion we have might not suitable for the all the apps. \n"
   ]
  },
  {
   "cell_type": "markdown",
   "metadata": {},
   "source": [
    "# Conclusion & Discussion"
   ]
  },
  {
   "cell_type": "markdown",
   "metadata": {},
   "source": [
    "In order to perform data analysis on the data set, some preprocessing and data cleaning was required. However, some of this preprocessing could have affected our findings and results of our analysis. Dropping NaN values from the dataset could have skewed the dataset. In addition, while the number of reviews in the data was simply an integer value, the number of installs was an estimate with different cutoff thresholds which meant that it was not as specific in comparison to app ratings or number of reviews. \n",
    "In terms of normality, it is clear for our analysis that both the distribution of ratings as well as the distribution of reviews and installs were non normal and could therefore affect the accuracy of inference as a result. \n"
   ]
  },
  {
   "cell_type": "markdown",
   "metadata": {},
   "source": [
    "The dataset we got is all paired numerical data. And the dependent variable has multiple values for each value of an independent variable. Therefore we chose the scatter plot to show the relations among all the attributes. After showing the scatter plots, it turns out that, there is a positive correlation between rating and installs. However, a positive correlation is not very clear. Additionally, according to the plots between rating and other attributes, we can tell size, last updated time and reviews all have impacts on ratings. Although the number of installation alone is not enough to determine the rating, consider other factors together can lead to a better prediction.\n"
   ]
  },
  {
   "cell_type": "markdown",
   "metadata": {},
   "source": [
    "Above we have also created a linear OLS model to predict rating from installs (using df as data). We have a total sample of 7420 different apps so it’s sufficient. We used patsy.dmatrices to create the design matrices, calling the outputs outcome_1, predictors_1. We then created an OLS model (sm.OLS) using outcome_1 and predictors_1. Call it mod_1. Finally, we fitted the model, assigning it to res_1.  Based on the model, F-statistic is 24.69, Prob (F-statistic) is 1.78e-80 and Log-Likelihood is -5703.4. Based on the R-squared value 0.057 (using alpha value of 0.01) and adjusted R-squared value 0.054, we can safely conclude that installs do have a positive correlation to the rating of the phone apps.\n"
   ]
  },
  {
   "cell_type": "markdown",
   "metadata": {},
   "source": [
    "Even though, from the Linear Model Based on the R-squared (using alpha value of 0.01), we can safely conclude that installs do have a positive correlation to the rating of the phone apps. The conclusion is somewhat biased because we only consider the two factors \"Installs\" and \"Rating\". However, the correlation might come from some other factors like \"Reviews\". Therefore, we conducted Multivariable Regression Test to verify. From the Multivariable Regression Tests Results, and analyzing the p-values, we safely arrived the conclusion that Reviews do have a positive correlation to the rating of the phone apps, while Installs do not. From the different test results from different regression tests, we learned that to arrive a more well-rounded conclusion, we should take multiple factors into consideration. "
   ]
  },
  {
   "cell_type": "markdown",
   "metadata": {},
   "source": [
    "One of the pitfalls of our hypothesis that was evident after looking at the dataset was that even though more downloads may not lead to a higher rating, it leads to a more impactful rating. For example, if an app has 1 download and that person gives it a 5 star rating, it is less trustworthy than if 500,000 people have downloaded it and given it a 4.5 rating. Even though the rating is less for the more downloaded app, it is more trustworthy. Also, we probably should have focused more on causality than correlation, since we cannot derive causation from correlation. For example, if we asked “does more downloads lead to higher ratings on the Google Play Store,” we may have gotten more relevant information out of this project."
   ]
  },
  {
   "cell_type": "markdown",
   "metadata": {},
   "source": [
    "There are still some potential improvements to be made.  Given the low out of the bag score after applying the Random Forest algorithm, it is likely we do not have a complete picture of what contributes to the average rating of an app. In the future to accurately predict the rating of an app, additional steps such as feature engineering to gather more relevant features is necessary."
   ]
  }
 ],
 "metadata": {
  "kernelspec": {
   "display_name": "Python 3",
   "language": "python",
   "name": "python3"
  },
  "language_info": {
   "codemirror_mode": {
    "name": "ipython",
    "version": 3
   },
   "file_extension": ".py",
   "mimetype": "text/x-python",
   "name": "python",
   "nbconvert_exporter": "python",
   "pygments_lexer": "ipython3",
   "version": "3.7.1"
  }
 },
 "nbformat": 4,
 "nbformat_minor": 2
}
