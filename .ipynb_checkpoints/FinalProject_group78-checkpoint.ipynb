{
 "cells": [
  {
   "cell_type": "markdown",
   "metadata": {},
   "source": [
    "# COGS 108 Final Project"
   ]
  },
  {
   "cell_type": "markdown",
   "metadata": {},
   "source": [
    "# Overview"
   ]
  },
  {
   "cell_type": "markdown",
   "metadata": {},
   "source": [
    "For our project, we decided to see if we could predict the quality of wine given its ingredients. Since wine is so easily and heavily influenced by a number of factors that we can’t control for (i.e humidity, grape quality, etc), we wanted to focus on its internal workings. We hypothesized that the volume of certain features, namely alcohol percentage, volatile acidity and citric acid, were crucial in determining a wine’s quality rating. Using two datasets to test our prediction, we found that these, as well as the other characteristics, had no individual effect on overall rating, but rather, the rating was derived from a combination of different features. \n"
   ]
  },
  {
   "cell_type": "markdown",
   "metadata": {},
   "source": [
    "# Names \n",
    "\n",
    "- Alysha Ali\n",
    "- Tsai-Ying Ying Chuang\n",
    "- Zheng Zeng\n",
    "- Melody Yu\n",
    "- Ai-Ting Hsieh"
   ]
  },
  {
   "cell_type": "markdown",
   "metadata": {},
   "source": [
    "# Group Members IDs\n",
    "\n",
    "- A15345048\n",
    "- A15215376\n",
    "- A14679117\n",
    "- A14599481\n",
    "- A13595395"
   ]
  },
  {
   "cell_type": "markdown",
   "metadata": {},
   "source": [
    "# Research Question "
   ]
  },
  {
   "cell_type": "markdown",
   "metadata": {},
   "source": [
    "Can we predict the quality of a wine given a list of its physicochemical features?\n"
   ]
  },
  {
   "cell_type": "markdown",
   "metadata": {},
   "source": [
    "# Background and Prior Work "
   ]
  },
  {
   "cell_type": "markdown",
   "metadata": {},
   "source": [
    "Since its creation 6000 years ago, wine has been adapted widely — from an instrument for religious ceremonies to a bargaining tool between countries (https://vinepair.com/wine-colonized-world-wine-history/#5). Despite the variety in usage, wine has constantly been regarded as a social device and has only risen in popularity (https://www.svb.com/globalassets/library/images/svb-2018-wine-report.pdf). That’s why, with the combination of the quickly-approaching legal drinking age for several of our group members and its increasing appearance in social media(https://www.ncbi.nlm.nih.gov/pmc/articles/PMC4432862/), we thought it was important to determine how the quality of a wine is determined. Specifically, we aim to discover exactly what ingredients are crucial in deriving a wine’s quality rating.\n",
    "\n",
    "\n",
    "We came to our hypothesis by first researching wine characteristics (https://winefolly.com/review/wine-characteristics/). From there, we saw that certain elements, like citric acid content and volatile acidity, directly influenced a wine’s sweetness. From there, we looked at ranges and eliminated factors like water density, which only ranged from 0.99 to 1.00 and therefore could not have as large an impact on quality as other factors, like total sulfur dioxide for example, which had a range of over 200. \n",
    "\n",
    "This information is important for all consumers, from pre-teens getting their first sip of wine to experienced connoisseurs and businesses. With this data analysis, instead of spending hours trying to choose a wine everyone will love, party hosts and other entertainers will know what the most favored wine features are and be able to buy a delicious spirit in a snap. For instance, knowing what chemicals make a wine popular will reduce how much time winemakers spend in perfecting their formula and ultimately maximize efficiency and increase profit in the long run. Thus, this information can affect more than just consumers.\n",
    "\n",
    "Since these datasets were previously the subject of a competition hosted by the University of California, Irvine, there have been several other projects that have analyzed similar questions and/or have used the same datasets. Most notably, is another study that also attempted to predict the quality of wine (https://www.kaggle.com/vishalyo990/prediction-of-quality-of-wine). However, they differed in their methods used and the overall accuracy of their machine learning model. "
   ]
  },
  {
   "cell_type": "markdown",
   "metadata": {},
   "source": [
    "# Hypothesis "
   ]
  },
  {
   "cell_type": "markdown",
   "metadata": {},
   "source": [
    "We hypothesize that we can predict the quality of the wine by its individual features. Especially, we predict that the lower volatile acidity, medium alcohol percentage, and higher citric acid will create the best quality of the wine.\n"
   ]
  },
  {
   "cell_type": "markdown",
   "metadata": {},
   "source": [
    "# Dataset(s)"
   ]
  },
  {
   "cell_type": "markdown",
   "metadata": {},
   "source": [
    "To answer our question, we will be using two datasets:  one on red wines and one on white wines (source: https://archive.ics.uci.edu/ml/datasets/wine+quality ). The red wine dataset had 1601 observations, while the white wine dataset had 4900. These datasets are identical in the features they analyze, namely a list of physiochemical ingredients in wine: \n",
    "\n",
    "\n",
    "\n",
    "- fixed acidity - most acids involved with wine or fixed or nonvolatile (do not evaporate readily)\n",
    "\n",
    "- volatile acidity - the amount of acetic acid in wine, which at too high of levels can lead to an unpleasant, vinegar taste\n",
    "\n",
    "- citric acid - found in small quantities, citric acid can add 'freshness' and flavor to wines\n",
    "\n",
    "- residual sugar - the amount of sugar remaining after fermentation stops, it's rare to find wines with less than 1 gram/liter and wines with greater than 45 grams/liter are considered sweet\n",
    "\n",
    "- chlorides - the amount of salt in the wine\n",
    "\n",
    "- free sulfur dioxide - the free form of SO2 exists in equilibrium between molecular SO2 (as a dissolved gas) and bisulfite ion; it prevents microbial growth and the oxidation of wine\n",
    "\n",
    "- total sulfur dioxide - amount of free and bound forms of S02; in low concentrations, SO2 is mostly undetectable in wine, but at free SO2 concentrations over 50 ppm, SO2 becomes evident in the nose and taste of wine\n",
    "\n",
    "- density - the density of water is close to that of water depending on the percent alcohol and sugar content\n",
    "\n",
    "- pH - describes how acidic or basic a wine is on a scale from 0 (very acidic) to 14 (very basic); most wines are between 3-4 on the pH scale\n",
    "\n",
    "- sulphates - a wine additive which can contribute to sulfur dioxide gas (S02) levels, wich acts as an antimicrobial and antioxidant\n",
    "\n",
    "- alcohol - the percent alcohol content of the wine\n",
    "\n",
    "- quality - output variable (based on sensory data, score between 0 and 10)\n",
    "\n",
    "\n",
    "\n",
    "We combined the two in several ways during our process. For instance, in one part, we began by graphing the individual features together in order to see a comparison between white and red wines. In another part, we used random samples from both datasets in order to train and test our algorithm. \n",
    "\n"
   ]
  },
  {
   "cell_type": "markdown",
   "metadata": {},
   "source": [
    "# Setup "
   ]
  },
  {
   "cell_type": "code",
   "execution_count": 4,
   "metadata": {
    "colab": {},
    "colab_type": "code",
    "id": "j-PTljkcWhMi"
   },
   "outputs": [],
   "source": [
    "import pandas as pd\n",
    "import numpy as np\n",
    "import pylab\n",
    "import requests\n",
    "import bs4\n",
    "from bs4 import BeautifulSoup\n",
    "import matplotlib.pyplot as plt\n",
    "from sklearn.neighbors import KDTree\n",
    "from sklearn.utils import shuffle\n",
    "from pandas.plotting import scatter_matrix"
   ]
  },
  {
   "cell_type": "code",
   "execution_count": 5,
   "metadata": {
    "colab": {
     "base_uri": "https://localhost:8080/",
     "height": 68
    },
    "colab_type": "code",
    "id": "25ul82YEWhMq",
    "outputId": "f8f25407-d579-472a-d43f-d207a6c04daf"
   },
   "outputs": [
    {
     "name": "stdout",
     "output_type": "stream",
     "text": [
      "['Unnamed: 0' 'fixed.acidity' 'volatile.acidity' 'citric.acid'\n",
      " 'residual.sugar' 'chlorides' 'free.sulfur.dioxide' 'total.sulfur.dioxide'\n",
      " 'density' 'pH' 'sulphates' 'alcohol' 'quality']\n"
     ]
    }
   ],
   "source": [
    "#Here we import the two datasets that we will be usiing in our final project\n",
    "df_red = pd.read_csv('wineQualityReds.csv')\n",
    "df_white = pd.read_csv('wineQualityWhites.csv')\n",
    "\n",
    "# print out the column names\n",
    "print(df_red.columns.values)"
   ]
  },
  {
   "cell_type": "markdown",
   "metadata": {},
   "source": [
    "# Data Cleaning "
   ]
  },
  {
   "cell_type": "markdown",
   "metadata": {},
   "source": [
    "Here, we will clean up our data before we start analyzing. We will remove rows with missing data, and delete columns that are not useful. More explanation will be included as we clean up the data."
   ]
  },
  {
   "cell_type": "code",
   "execution_count": 6,
   "metadata": {},
   "outputs": [
    {
     "data": {
      "text/html": [
       "<div>\n",
       "<style scoped>\n",
       "    .dataframe tbody tr th:only-of-type {\n",
       "        vertical-align: middle;\n",
       "    }\n",
       "\n",
       "    .dataframe tbody tr th {\n",
       "        vertical-align: top;\n",
       "    }\n",
       "\n",
       "    .dataframe thead th {\n",
       "        text-align: right;\n",
       "    }\n",
       "</style>\n",
       "<table border=\"1\" class=\"dataframe\">\n",
       "  <thead>\n",
       "    <tr style=\"text-align: right;\">\n",
       "      <th></th>\n",
       "      <th>Unnamed: 0</th>\n",
       "      <th>fixed.acidity</th>\n",
       "      <th>volatile.acidity</th>\n",
       "      <th>citric.acid</th>\n",
       "      <th>residual.sugar</th>\n",
       "      <th>chlorides</th>\n",
       "      <th>free.sulfur.dioxide</th>\n",
       "      <th>total.sulfur.dioxide</th>\n",
       "      <th>density</th>\n",
       "      <th>pH</th>\n",
       "      <th>sulphates</th>\n",
       "      <th>alcohol</th>\n",
       "      <th>quality</th>\n",
       "    </tr>\n",
       "  </thead>\n",
       "  <tbody>\n",
       "    <tr>\n",
       "      <th>0</th>\n",
       "      <td>1</td>\n",
       "      <td>7.4</td>\n",
       "      <td>0.70</td>\n",
       "      <td>0.00</td>\n",
       "      <td>1.9</td>\n",
       "      <td>0.076</td>\n",
       "      <td>11.0</td>\n",
       "      <td>34.0</td>\n",
       "      <td>0.9978</td>\n",
       "      <td>3.51</td>\n",
       "      <td>0.56</td>\n",
       "      <td>9.4</td>\n",
       "      <td>5</td>\n",
       "    </tr>\n",
       "    <tr>\n",
       "      <th>1</th>\n",
       "      <td>2</td>\n",
       "      <td>7.8</td>\n",
       "      <td>0.88</td>\n",
       "      <td>0.00</td>\n",
       "      <td>2.6</td>\n",
       "      <td>0.098</td>\n",
       "      <td>25.0</td>\n",
       "      <td>67.0</td>\n",
       "      <td>0.9968</td>\n",
       "      <td>3.20</td>\n",
       "      <td>0.68</td>\n",
       "      <td>9.8</td>\n",
       "      <td>5</td>\n",
       "    </tr>\n",
       "    <tr>\n",
       "      <th>2</th>\n",
       "      <td>3</td>\n",
       "      <td>7.8</td>\n",
       "      <td>0.76</td>\n",
       "      <td>0.04</td>\n",
       "      <td>2.3</td>\n",
       "      <td>0.092</td>\n",
       "      <td>15.0</td>\n",
       "      <td>54.0</td>\n",
       "      <td>0.9970</td>\n",
       "      <td>3.26</td>\n",
       "      <td>0.65</td>\n",
       "      <td>9.8</td>\n",
       "      <td>5</td>\n",
       "    </tr>\n",
       "    <tr>\n",
       "      <th>3</th>\n",
       "      <td>4</td>\n",
       "      <td>11.2</td>\n",
       "      <td>0.28</td>\n",
       "      <td>0.56</td>\n",
       "      <td>1.9</td>\n",
       "      <td>0.075</td>\n",
       "      <td>17.0</td>\n",
       "      <td>60.0</td>\n",
       "      <td>0.9980</td>\n",
       "      <td>3.16</td>\n",
       "      <td>0.58</td>\n",
       "      <td>9.8</td>\n",
       "      <td>6</td>\n",
       "    </tr>\n",
       "    <tr>\n",
       "      <th>4</th>\n",
       "      <td>5</td>\n",
       "      <td>7.4</td>\n",
       "      <td>0.70</td>\n",
       "      <td>0.00</td>\n",
       "      <td>1.9</td>\n",
       "      <td>0.076</td>\n",
       "      <td>11.0</td>\n",
       "      <td>34.0</td>\n",
       "      <td>0.9978</td>\n",
       "      <td>3.51</td>\n",
       "      <td>0.56</td>\n",
       "      <td>9.4</td>\n",
       "      <td>5</td>\n",
       "    </tr>\n",
       "  </tbody>\n",
       "</table>\n",
       "</div>"
      ],
      "text/plain": [
       "   Unnamed: 0  fixed.acidity  volatile.acidity  citric.acid  residual.sugar  \\\n",
       "0           1            7.4              0.70         0.00             1.9   \n",
       "1           2            7.8              0.88         0.00             2.6   \n",
       "2           3            7.8              0.76         0.04             2.3   \n",
       "3           4           11.2              0.28         0.56             1.9   \n",
       "4           5            7.4              0.70         0.00             1.9   \n",
       "\n",
       "   chlorides  free.sulfur.dioxide  total.sulfur.dioxide  density    pH  \\\n",
       "0      0.076                 11.0                  34.0   0.9978  3.51   \n",
       "1      0.098                 25.0                  67.0   0.9968  3.20   \n",
       "2      0.092                 15.0                  54.0   0.9970  3.26   \n",
       "3      0.075                 17.0                  60.0   0.9980  3.16   \n",
       "4      0.076                 11.0                  34.0   0.9978  3.51   \n",
       "\n",
       "   sulphates  alcohol  quality  \n",
       "0       0.56      9.4        5  \n",
       "1       0.68      9.8        5  \n",
       "2       0.65      9.8        5  \n",
       "3       0.58      9.8        6  \n",
       "4       0.56      9.4        5  "
      ]
     },
     "execution_count": 6,
     "metadata": {},
     "output_type": "execute_result"
    }
   ],
   "source": [
    "df_red[:5]"
   ]
  },
  {
   "cell_type": "code",
   "execution_count": 7,
   "metadata": {},
   "outputs": [
    {
     "data": {
      "text/plain": [
       "(1599, 13)"
      ]
     },
     "execution_count": 7,
     "metadata": {},
     "output_type": "execute_result"
    }
   ],
   "source": [
    "df_red.shape"
   ]
  },
  {
   "cell_type": "markdown",
   "metadata": {},
   "source": [
    "Drop any row with missing values"
   ]
  },
  {
   "cell_type": "code",
   "execution_count": 8,
   "metadata": {},
   "outputs": [],
   "source": [
    "df_red = df_red.dropna()"
   ]
  },
  {
   "cell_type": "markdown",
   "metadata": {},
   "source": [
    "Drop the column labeled \"Unnamed: 0\""
   ]
  },
  {
   "cell_type": "code",
   "execution_count": 9,
   "metadata": {},
   "outputs": [],
   "source": [
    "df_red = df_red.drop(['Unnamed: 0'], axis=1)"
   ]
  },
  {
   "cell_type": "code",
   "execution_count": 10,
   "metadata": {},
   "outputs": [
    {
     "data": {
      "text/plain": [
       "(1599, 12)"
      ]
     },
     "execution_count": 10,
     "metadata": {},
     "output_type": "execute_result"
    }
   ],
   "source": [
    "df_red.shape"
   ]
  },
  {
   "cell_type": "code",
   "execution_count": 11,
   "metadata": {},
   "outputs": [
    {
     "data": {
      "text/html": [
       "<div>\n",
       "<style scoped>\n",
       "    .dataframe tbody tr th:only-of-type {\n",
       "        vertical-align: middle;\n",
       "    }\n",
       "\n",
       "    .dataframe tbody tr th {\n",
       "        vertical-align: top;\n",
       "    }\n",
       "\n",
       "    .dataframe thead th {\n",
       "        text-align: right;\n",
       "    }\n",
       "</style>\n",
       "<table border=\"1\" class=\"dataframe\">\n",
       "  <thead>\n",
       "    <tr style=\"text-align: right;\">\n",
       "      <th></th>\n",
       "      <th>fixed.acidity</th>\n",
       "      <th>volatile.acidity</th>\n",
       "      <th>citric.acid</th>\n",
       "      <th>residual.sugar</th>\n",
       "      <th>chlorides</th>\n",
       "      <th>free.sulfur.dioxide</th>\n",
       "      <th>total.sulfur.dioxide</th>\n",
       "      <th>density</th>\n",
       "      <th>pH</th>\n",
       "      <th>sulphates</th>\n",
       "      <th>alcohol</th>\n",
       "      <th>quality</th>\n",
       "    </tr>\n",
       "  </thead>\n",
       "  <tbody>\n",
       "    <tr>\n",
       "      <th>0</th>\n",
       "      <td>7.4</td>\n",
       "      <td>0.70</td>\n",
       "      <td>0.00</td>\n",
       "      <td>1.9</td>\n",
       "      <td>0.076</td>\n",
       "      <td>11.0</td>\n",
       "      <td>34.0</td>\n",
       "      <td>0.9978</td>\n",
       "      <td>3.51</td>\n",
       "      <td>0.56</td>\n",
       "      <td>9.4</td>\n",
       "      <td>5</td>\n",
       "    </tr>\n",
       "    <tr>\n",
       "      <th>1</th>\n",
       "      <td>7.8</td>\n",
       "      <td>0.88</td>\n",
       "      <td>0.00</td>\n",
       "      <td>2.6</td>\n",
       "      <td>0.098</td>\n",
       "      <td>25.0</td>\n",
       "      <td>67.0</td>\n",
       "      <td>0.9968</td>\n",
       "      <td>3.20</td>\n",
       "      <td>0.68</td>\n",
       "      <td>9.8</td>\n",
       "      <td>5</td>\n",
       "    </tr>\n",
       "    <tr>\n",
       "      <th>2</th>\n",
       "      <td>7.8</td>\n",
       "      <td>0.76</td>\n",
       "      <td>0.04</td>\n",
       "      <td>2.3</td>\n",
       "      <td>0.092</td>\n",
       "      <td>15.0</td>\n",
       "      <td>54.0</td>\n",
       "      <td>0.9970</td>\n",
       "      <td>3.26</td>\n",
       "      <td>0.65</td>\n",
       "      <td>9.8</td>\n",
       "      <td>5</td>\n",
       "    </tr>\n",
       "    <tr>\n",
       "      <th>3</th>\n",
       "      <td>11.2</td>\n",
       "      <td>0.28</td>\n",
       "      <td>0.56</td>\n",
       "      <td>1.9</td>\n",
       "      <td>0.075</td>\n",
       "      <td>17.0</td>\n",
       "      <td>60.0</td>\n",
       "      <td>0.9980</td>\n",
       "      <td>3.16</td>\n",
       "      <td>0.58</td>\n",
       "      <td>9.8</td>\n",
       "      <td>6</td>\n",
       "    </tr>\n",
       "    <tr>\n",
       "      <th>4</th>\n",
       "      <td>7.4</td>\n",
       "      <td>0.70</td>\n",
       "      <td>0.00</td>\n",
       "      <td>1.9</td>\n",
       "      <td>0.076</td>\n",
       "      <td>11.0</td>\n",
       "      <td>34.0</td>\n",
       "      <td>0.9978</td>\n",
       "      <td>3.51</td>\n",
       "      <td>0.56</td>\n",
       "      <td>9.4</td>\n",
       "      <td>5</td>\n",
       "    </tr>\n",
       "  </tbody>\n",
       "</table>\n",
       "</div>"
      ],
      "text/plain": [
       "   fixed.acidity  volatile.acidity  citric.acid  residual.sugar  chlorides  \\\n",
       "0            7.4              0.70         0.00             1.9      0.076   \n",
       "1            7.8              0.88         0.00             2.6      0.098   \n",
       "2            7.8              0.76         0.04             2.3      0.092   \n",
       "3           11.2              0.28         0.56             1.9      0.075   \n",
       "4            7.4              0.70         0.00             1.9      0.076   \n",
       "\n",
       "   free.sulfur.dioxide  total.sulfur.dioxide  density    pH  sulphates  \\\n",
       "0                 11.0                  34.0   0.9978  3.51       0.56   \n",
       "1                 25.0                  67.0   0.9968  3.20       0.68   \n",
       "2                 15.0                  54.0   0.9970  3.26       0.65   \n",
       "3                 17.0                  60.0   0.9980  3.16       0.58   \n",
       "4                 11.0                  34.0   0.9978  3.51       0.56   \n",
       "\n",
       "   alcohol  quality  \n",
       "0      9.4        5  \n",
       "1      9.8        5  \n",
       "2      9.8        5  \n",
       "3      9.8        6  \n",
       "4      9.4        5  "
      ]
     },
     "execution_count": 11,
     "metadata": {},
     "output_type": "execute_result"
    }
   ],
   "source": [
    "df_red[:5]"
   ]
  },
  {
   "cell_type": "code",
   "execution_count": 12,
   "metadata": {},
   "outputs": [
    {
     "data": {
      "text/html": [
       "<div>\n",
       "<style scoped>\n",
       "    .dataframe tbody tr th:only-of-type {\n",
       "        vertical-align: middle;\n",
       "    }\n",
       "\n",
       "    .dataframe tbody tr th {\n",
       "        vertical-align: top;\n",
       "    }\n",
       "\n",
       "    .dataframe thead th {\n",
       "        text-align: right;\n",
       "    }\n",
       "</style>\n",
       "<table border=\"1\" class=\"dataframe\">\n",
       "  <thead>\n",
       "    <tr style=\"text-align: right;\">\n",
       "      <th></th>\n",
       "      <th>Unnamed: 0</th>\n",
       "      <th>fixed.acidity</th>\n",
       "      <th>volatile.acidity</th>\n",
       "      <th>citric.acid</th>\n",
       "      <th>residual.sugar</th>\n",
       "      <th>chlorides</th>\n",
       "      <th>free.sulfur.dioxide</th>\n",
       "      <th>total.sulfur.dioxide</th>\n",
       "      <th>density</th>\n",
       "      <th>pH</th>\n",
       "      <th>sulphates</th>\n",
       "      <th>alcohol</th>\n",
       "      <th>quality</th>\n",
       "    </tr>\n",
       "  </thead>\n",
       "  <tbody>\n",
       "    <tr>\n",
       "      <th>0</th>\n",
       "      <td>1</td>\n",
       "      <td>7.0</td>\n",
       "      <td>0.27</td>\n",
       "      <td>0.36</td>\n",
       "      <td>20.7</td>\n",
       "      <td>0.045</td>\n",
       "      <td>45.0</td>\n",
       "      <td>170.0</td>\n",
       "      <td>1.0010</td>\n",
       "      <td>3.00</td>\n",
       "      <td>0.45</td>\n",
       "      <td>8.8</td>\n",
       "      <td>6</td>\n",
       "    </tr>\n",
       "    <tr>\n",
       "      <th>1</th>\n",
       "      <td>2</td>\n",
       "      <td>6.3</td>\n",
       "      <td>0.30</td>\n",
       "      <td>0.34</td>\n",
       "      <td>1.6</td>\n",
       "      <td>0.049</td>\n",
       "      <td>14.0</td>\n",
       "      <td>132.0</td>\n",
       "      <td>0.9940</td>\n",
       "      <td>3.30</td>\n",
       "      <td>0.49</td>\n",
       "      <td>9.5</td>\n",
       "      <td>6</td>\n",
       "    </tr>\n",
       "    <tr>\n",
       "      <th>2</th>\n",
       "      <td>3</td>\n",
       "      <td>8.1</td>\n",
       "      <td>0.28</td>\n",
       "      <td>0.40</td>\n",
       "      <td>6.9</td>\n",
       "      <td>0.050</td>\n",
       "      <td>30.0</td>\n",
       "      <td>97.0</td>\n",
       "      <td>0.9951</td>\n",
       "      <td>3.26</td>\n",
       "      <td>0.44</td>\n",
       "      <td>10.1</td>\n",
       "      <td>6</td>\n",
       "    </tr>\n",
       "    <tr>\n",
       "      <th>3</th>\n",
       "      <td>4</td>\n",
       "      <td>7.2</td>\n",
       "      <td>0.23</td>\n",
       "      <td>0.32</td>\n",
       "      <td>8.5</td>\n",
       "      <td>0.058</td>\n",
       "      <td>47.0</td>\n",
       "      <td>186.0</td>\n",
       "      <td>0.9956</td>\n",
       "      <td>3.19</td>\n",
       "      <td>0.40</td>\n",
       "      <td>9.9</td>\n",
       "      <td>6</td>\n",
       "    </tr>\n",
       "    <tr>\n",
       "      <th>4</th>\n",
       "      <td>5</td>\n",
       "      <td>7.2</td>\n",
       "      <td>0.23</td>\n",
       "      <td>0.32</td>\n",
       "      <td>8.5</td>\n",
       "      <td>0.058</td>\n",
       "      <td>47.0</td>\n",
       "      <td>186.0</td>\n",
       "      <td>0.9956</td>\n",
       "      <td>3.19</td>\n",
       "      <td>0.40</td>\n",
       "      <td>9.9</td>\n",
       "      <td>6</td>\n",
       "    </tr>\n",
       "  </tbody>\n",
       "</table>\n",
       "</div>"
      ],
      "text/plain": [
       "   Unnamed: 0  fixed.acidity  volatile.acidity  citric.acid  residual.sugar  \\\n",
       "0           1            7.0              0.27         0.36            20.7   \n",
       "1           2            6.3              0.30         0.34             1.6   \n",
       "2           3            8.1              0.28         0.40             6.9   \n",
       "3           4            7.2              0.23         0.32             8.5   \n",
       "4           5            7.2              0.23         0.32             8.5   \n",
       "\n",
       "   chlorides  free.sulfur.dioxide  total.sulfur.dioxide  density    pH  \\\n",
       "0      0.045                 45.0                 170.0   1.0010  3.00   \n",
       "1      0.049                 14.0                 132.0   0.9940  3.30   \n",
       "2      0.050                 30.0                  97.0   0.9951  3.26   \n",
       "3      0.058                 47.0                 186.0   0.9956  3.19   \n",
       "4      0.058                 47.0                 186.0   0.9956  3.19   \n",
       "\n",
       "   sulphates  alcohol  quality  \n",
       "0       0.45      8.8        6  \n",
       "1       0.49      9.5        6  \n",
       "2       0.44     10.1        6  \n",
       "3       0.40      9.9        6  \n",
       "4       0.40      9.9        6  "
      ]
     },
     "execution_count": 12,
     "metadata": {},
     "output_type": "execute_result"
    }
   ],
   "source": [
    "df_white[:5]"
   ]
  },
  {
   "cell_type": "code",
   "execution_count": 13,
   "metadata": {},
   "outputs": [
    {
     "data": {
      "text/plain": [
       "(4898, 13)"
      ]
     },
     "execution_count": 13,
     "metadata": {},
     "output_type": "execute_result"
    }
   ],
   "source": [
    "df_white.shape"
   ]
  },
  {
   "cell_type": "markdown",
   "metadata": {},
   "source": [
    "Drop any rows with missing values"
   ]
  },
  {
   "cell_type": "code",
   "execution_count": 14,
   "metadata": {},
   "outputs": [],
   "source": [
    "df_white = df_white.dropna()"
   ]
  },
  {
   "cell_type": "markdown",
   "metadata": {},
   "source": [
    "Drop the column labeled as \"Unnamed: 0\""
   ]
  },
  {
   "cell_type": "code",
   "execution_count": 15,
   "metadata": {},
   "outputs": [],
   "source": [
    "df_white = df_white.drop(['Unnamed: 0'], axis=1)"
   ]
  },
  {
   "cell_type": "code",
   "execution_count": 16,
   "metadata": {},
   "outputs": [
    {
     "data": {
      "text/plain": [
       "(4898, 12)"
      ]
     },
     "execution_count": 16,
     "metadata": {},
     "output_type": "execute_result"
    }
   ],
   "source": [
    "df_white.shape"
   ]
  },
  {
   "cell_type": "code",
   "execution_count": 17,
   "metadata": {
    "scrolled": true
   },
   "outputs": [
    {
     "data": {
      "text/html": [
       "<div>\n",
       "<style scoped>\n",
       "    .dataframe tbody tr th:only-of-type {\n",
       "        vertical-align: middle;\n",
       "    }\n",
       "\n",
       "    .dataframe tbody tr th {\n",
       "        vertical-align: top;\n",
       "    }\n",
       "\n",
       "    .dataframe thead th {\n",
       "        text-align: right;\n",
       "    }\n",
       "</style>\n",
       "<table border=\"1\" class=\"dataframe\">\n",
       "  <thead>\n",
       "    <tr style=\"text-align: right;\">\n",
       "      <th></th>\n",
       "      <th>fixed.acidity</th>\n",
       "      <th>volatile.acidity</th>\n",
       "      <th>citric.acid</th>\n",
       "      <th>residual.sugar</th>\n",
       "      <th>chlorides</th>\n",
       "      <th>free.sulfur.dioxide</th>\n",
       "      <th>total.sulfur.dioxide</th>\n",
       "      <th>density</th>\n",
       "      <th>pH</th>\n",
       "      <th>sulphates</th>\n",
       "      <th>alcohol</th>\n",
       "      <th>quality</th>\n",
       "    </tr>\n",
       "  </thead>\n",
       "  <tbody>\n",
       "    <tr>\n",
       "      <th>0</th>\n",
       "      <td>7.0</td>\n",
       "      <td>0.27</td>\n",
       "      <td>0.36</td>\n",
       "      <td>20.7</td>\n",
       "      <td>0.045</td>\n",
       "      <td>45.0</td>\n",
       "      <td>170.0</td>\n",
       "      <td>1.0010</td>\n",
       "      <td>3.00</td>\n",
       "      <td>0.45</td>\n",
       "      <td>8.8</td>\n",
       "      <td>6</td>\n",
       "    </tr>\n",
       "    <tr>\n",
       "      <th>1</th>\n",
       "      <td>6.3</td>\n",
       "      <td>0.30</td>\n",
       "      <td>0.34</td>\n",
       "      <td>1.6</td>\n",
       "      <td>0.049</td>\n",
       "      <td>14.0</td>\n",
       "      <td>132.0</td>\n",
       "      <td>0.9940</td>\n",
       "      <td>3.30</td>\n",
       "      <td>0.49</td>\n",
       "      <td>9.5</td>\n",
       "      <td>6</td>\n",
       "    </tr>\n",
       "    <tr>\n",
       "      <th>2</th>\n",
       "      <td>8.1</td>\n",
       "      <td>0.28</td>\n",
       "      <td>0.40</td>\n",
       "      <td>6.9</td>\n",
       "      <td>0.050</td>\n",
       "      <td>30.0</td>\n",
       "      <td>97.0</td>\n",
       "      <td>0.9951</td>\n",
       "      <td>3.26</td>\n",
       "      <td>0.44</td>\n",
       "      <td>10.1</td>\n",
       "      <td>6</td>\n",
       "    </tr>\n",
       "    <tr>\n",
       "      <th>3</th>\n",
       "      <td>7.2</td>\n",
       "      <td>0.23</td>\n",
       "      <td>0.32</td>\n",
       "      <td>8.5</td>\n",
       "      <td>0.058</td>\n",
       "      <td>47.0</td>\n",
       "      <td>186.0</td>\n",
       "      <td>0.9956</td>\n",
       "      <td>3.19</td>\n",
       "      <td>0.40</td>\n",
       "      <td>9.9</td>\n",
       "      <td>6</td>\n",
       "    </tr>\n",
       "    <tr>\n",
       "      <th>4</th>\n",
       "      <td>7.2</td>\n",
       "      <td>0.23</td>\n",
       "      <td>0.32</td>\n",
       "      <td>8.5</td>\n",
       "      <td>0.058</td>\n",
       "      <td>47.0</td>\n",
       "      <td>186.0</td>\n",
       "      <td>0.9956</td>\n",
       "      <td>3.19</td>\n",
       "      <td>0.40</td>\n",
       "      <td>9.9</td>\n",
       "      <td>6</td>\n",
       "    </tr>\n",
       "  </tbody>\n",
       "</table>\n",
       "</div>"
      ],
      "text/plain": [
       "   fixed.acidity  volatile.acidity  citric.acid  residual.sugar  chlorides  \\\n",
       "0            7.0              0.27         0.36            20.7      0.045   \n",
       "1            6.3              0.30         0.34             1.6      0.049   \n",
       "2            8.1              0.28         0.40             6.9      0.050   \n",
       "3            7.2              0.23         0.32             8.5      0.058   \n",
       "4            7.2              0.23         0.32             8.5      0.058   \n",
       "\n",
       "   free.sulfur.dioxide  total.sulfur.dioxide  density    pH  sulphates  \\\n",
       "0                 45.0                 170.0   1.0010  3.00       0.45   \n",
       "1                 14.0                 132.0   0.9940  3.30       0.49   \n",
       "2                 30.0                  97.0   0.9951  3.26       0.44   \n",
       "3                 47.0                 186.0   0.9956  3.19       0.40   \n",
       "4                 47.0                 186.0   0.9956  3.19       0.40   \n",
       "\n",
       "   alcohol  quality  \n",
       "0      8.8        6  \n",
       "1      9.5        6  \n",
       "2     10.1        6  \n",
       "3      9.9        6  \n",
       "4      9.9        6  "
      ]
     },
     "execution_count": 17,
     "metadata": {},
     "output_type": "execute_result"
    }
   ],
   "source": [
    "df_white[:5]"
   ]
  },
  {
   "cell_type": "markdown",
   "metadata": {},
   "source": [
    "We want to predict wine quality based on their ingredients therefore the information we need for each wine instance is the list of ingredient values and the quality. In the above cells, we first dropped any rows with missing values to ensure that we are using a dataset that contains exactly what we need. Since this is already a very clean dataset, none of the rows were dropped. The column labeled \"Unnamed: 0\" does not seem to be useful at all since we also have the index of each row. Therefore, we dropped the entire column. Now, the resulting dataframe only contains information we need."
   ]
  },
  {
   "cell_type": "markdown",
   "metadata": {},
   "source": [
    "Since the white wine dataset contains more instances, we will only take 1599 instances from it randomly to match the number of instances of red wine. "
   ]
  },
  {
   "cell_type": "code",
   "execution_count": 18,
   "metadata": {},
   "outputs": [],
   "source": [
    "df_white = shuffle(df_white).reset_index(drop = True)\n",
    "\n",
    "df_white = df_white[:1599]"
   ]
  },
  {
   "cell_type": "markdown",
   "metadata": {},
   "source": [
    "Here we will combine two wine sets."
   ]
  },
  {
   "cell_type": "code",
   "execution_count": 19,
   "metadata": {
    "colab": {
     "base_uri": "https://localhost:8080/",
     "height": 359
    },
    "colab_type": "code",
    "id": "ERA4bt5QWhM6",
    "outputId": "69d61570-ef82-4e34-f75f-1e68462e74a0"
   },
   "outputs": [
    {
     "data": {
      "text/plain": [
       "(3198, 12)"
      ]
     },
     "execution_count": 19,
     "metadata": {},
     "output_type": "execute_result"
    }
   ],
   "source": [
    "# appending datasets of both white wine and red wine \n",
    "df_combined = df_red.append(df_white, ignore_index =True)\n",
    "df_combined = shuffle(df_combined)\n",
    "df_combined = df_combined.reset_index(drop=True)\n",
    "\n",
    "df_combined.shape"
   ]
  },
  {
   "cell_type": "code",
   "execution_count": 20,
   "metadata": {},
   "outputs": [
    {
     "data": {
      "text/html": [
       "<div>\n",
       "<style scoped>\n",
       "    .dataframe tbody tr th:only-of-type {\n",
       "        vertical-align: middle;\n",
       "    }\n",
       "\n",
       "    .dataframe tbody tr th {\n",
       "        vertical-align: top;\n",
       "    }\n",
       "\n",
       "    .dataframe thead th {\n",
       "        text-align: right;\n",
       "    }\n",
       "</style>\n",
       "<table border=\"1\" class=\"dataframe\">\n",
       "  <thead>\n",
       "    <tr style=\"text-align: right;\">\n",
       "      <th></th>\n",
       "      <th>fixed.acidity</th>\n",
       "      <th>volatile.acidity</th>\n",
       "      <th>citric.acid</th>\n",
       "      <th>residual.sugar</th>\n",
       "      <th>chlorides</th>\n",
       "      <th>free.sulfur.dioxide</th>\n",
       "      <th>total.sulfur.dioxide</th>\n",
       "      <th>density</th>\n",
       "      <th>pH</th>\n",
       "      <th>sulphates</th>\n",
       "      <th>alcohol</th>\n",
       "      <th>quality</th>\n",
       "    </tr>\n",
       "  </thead>\n",
       "  <tbody>\n",
       "    <tr>\n",
       "      <th>count</th>\n",
       "      <td>3198.000000</td>\n",
       "      <td>3198.000000</td>\n",
       "      <td>3198.000000</td>\n",
       "      <td>3198.000000</td>\n",
       "      <td>3198.000000</td>\n",
       "      <td>3198.000000</td>\n",
       "      <td>3198.000000</td>\n",
       "      <td>3198.000000</td>\n",
       "      <td>3198.000000</td>\n",
       "      <td>3198.000000</td>\n",
       "      <td>3198.000000</td>\n",
       "      <td>3198.000000</td>\n",
       "    </tr>\n",
       "    <tr>\n",
       "      <th>mean</th>\n",
       "      <td>7.593340</td>\n",
       "      <td>0.403094</td>\n",
       "      <td>0.302489</td>\n",
       "      <td>4.489290</td>\n",
       "      <td>0.066540</td>\n",
       "      <td>25.200281</td>\n",
       "      <td>91.969669</td>\n",
       "      <td>0.995411</td>\n",
       "      <td>3.249912</td>\n",
       "      <td>0.572745</td>\n",
       "      <td>10.461024</td>\n",
       "      <td>5.761101</td>\n",
       "    </tr>\n",
       "    <tr>\n",
       "      <th>std</th>\n",
       "      <td>1.549998</td>\n",
       "      <td>0.192557</td>\n",
       "      <td>0.164095</td>\n",
       "      <td>4.192491</td>\n",
       "      <td>0.042143</td>\n",
       "      <td>16.418179</td>\n",
       "      <td>59.627286</td>\n",
       "      <td>0.002819</td>\n",
       "      <td>0.163454</td>\n",
       "      <td>0.167567</td>\n",
       "      <td>1.151039</td>\n",
       "      <td>0.851406</td>\n",
       "    </tr>\n",
       "    <tr>\n",
       "      <th>min</th>\n",
       "      <td>4.200000</td>\n",
       "      <td>0.080000</td>\n",
       "      <td>0.000000</td>\n",
       "      <td>0.600000</td>\n",
       "      <td>0.012000</td>\n",
       "      <td>1.000000</td>\n",
       "      <td>6.000000</td>\n",
       "      <td>0.987420</td>\n",
       "      <td>2.720000</td>\n",
       "      <td>0.230000</td>\n",
       "      <td>8.000000</td>\n",
       "      <td>3.000000</td>\n",
       "    </tr>\n",
       "    <tr>\n",
       "      <th>25%</th>\n",
       "      <td>6.600000</td>\n",
       "      <td>0.250000</td>\n",
       "      <td>0.210000</td>\n",
       "      <td>1.900000</td>\n",
       "      <td>0.043000</td>\n",
       "      <td>12.000000</td>\n",
       "      <td>37.000000</td>\n",
       "      <td>0.993443</td>\n",
       "      <td>3.140000</td>\n",
       "      <td>0.460000</td>\n",
       "      <td>9.500000</td>\n",
       "      <td>5.000000</td>\n",
       "    </tr>\n",
       "    <tr>\n",
       "      <th>50%</th>\n",
       "      <td>7.200000</td>\n",
       "      <td>0.360000</td>\n",
       "      <td>0.300000</td>\n",
       "      <td>2.400000</td>\n",
       "      <td>0.059000</td>\n",
       "      <td>22.000000</td>\n",
       "      <td>88.000000</td>\n",
       "      <td>0.995800</td>\n",
       "      <td>3.240000</td>\n",
       "      <td>0.550000</td>\n",
       "      <td>10.200000</td>\n",
       "      <td>6.000000</td>\n",
       "    </tr>\n",
       "    <tr>\n",
       "      <th>75%</th>\n",
       "      <td>8.200000</td>\n",
       "      <td>0.530000</td>\n",
       "      <td>0.400000</td>\n",
       "      <td>6.000000</td>\n",
       "      <td>0.080000</td>\n",
       "      <td>35.000000</td>\n",
       "      <td>136.000000</td>\n",
       "      <td>0.997400</td>\n",
       "      <td>3.360000</td>\n",
       "      <td>0.650000</td>\n",
       "      <td>11.200000</td>\n",
       "      <td>6.000000</td>\n",
       "    </tr>\n",
       "    <tr>\n",
       "      <th>max</th>\n",
       "      <td>15.900000</td>\n",
       "      <td>1.580000</td>\n",
       "      <td>1.000000</td>\n",
       "      <td>31.600000</td>\n",
       "      <td>0.611000</td>\n",
       "      <td>112.000000</td>\n",
       "      <td>366.500000</td>\n",
       "      <td>1.010300</td>\n",
       "      <td>4.010000</td>\n",
       "      <td>2.000000</td>\n",
       "      <td>14.900000</td>\n",
       "      <td>8.000000</td>\n",
       "    </tr>\n",
       "  </tbody>\n",
       "</table>\n",
       "</div>"
      ],
      "text/plain": [
       "       fixed.acidity  volatile.acidity  citric.acid  residual.sugar  \\\n",
       "count    3198.000000       3198.000000  3198.000000     3198.000000   \n",
       "mean        7.593340          0.403094     0.302489        4.489290   \n",
       "std         1.549998          0.192557     0.164095        4.192491   \n",
       "min         4.200000          0.080000     0.000000        0.600000   \n",
       "25%         6.600000          0.250000     0.210000        1.900000   \n",
       "50%         7.200000          0.360000     0.300000        2.400000   \n",
       "75%         8.200000          0.530000     0.400000        6.000000   \n",
       "max        15.900000          1.580000     1.000000       31.600000   \n",
       "\n",
       "         chlorides  free.sulfur.dioxide  total.sulfur.dioxide      density  \\\n",
       "count  3198.000000          3198.000000           3198.000000  3198.000000   \n",
       "mean      0.066540            25.200281             91.969669     0.995411   \n",
       "std       0.042143            16.418179             59.627286     0.002819   \n",
       "min       0.012000             1.000000              6.000000     0.987420   \n",
       "25%       0.043000            12.000000             37.000000     0.993443   \n",
       "50%       0.059000            22.000000             88.000000     0.995800   \n",
       "75%       0.080000            35.000000            136.000000     0.997400   \n",
       "max       0.611000           112.000000            366.500000     1.010300   \n",
       "\n",
       "                pH    sulphates      alcohol      quality  \n",
       "count  3198.000000  3198.000000  3198.000000  3198.000000  \n",
       "mean      3.249912     0.572745    10.461024     5.761101  \n",
       "std       0.163454     0.167567     1.151039     0.851406  \n",
       "min       2.720000     0.230000     8.000000     3.000000  \n",
       "25%       3.140000     0.460000     9.500000     5.000000  \n",
       "50%       3.240000     0.550000    10.200000     6.000000  \n",
       "75%       3.360000     0.650000    11.200000     6.000000  \n",
       "max       4.010000     2.000000    14.900000     8.000000  "
      ]
     },
     "execution_count": 20,
     "metadata": {},
     "output_type": "execute_result"
    }
   ],
   "source": [
    "desc = df_combined.describe()\n",
    "desc"
   ]
  },
  {
   "cell_type": "code",
   "execution_count": 21,
   "metadata": {},
   "outputs": [
    {
     "data": {
      "text/html": [
       "<div>\n",
       "<style scoped>\n",
       "    .dataframe tbody tr th:only-of-type {\n",
       "        vertical-align: middle;\n",
       "    }\n",
       "\n",
       "    .dataframe tbody tr th {\n",
       "        vertical-align: top;\n",
       "    }\n",
       "\n",
       "    .dataframe thead th {\n",
       "        text-align: right;\n",
       "    }\n",
       "</style>\n",
       "<table border=\"1\" class=\"dataframe\">\n",
       "  <thead>\n",
       "    <tr style=\"text-align: right;\">\n",
       "      <th></th>\n",
       "      <th>fixed.acidity</th>\n",
       "      <th>volatile.acidity</th>\n",
       "      <th>citric.acid</th>\n",
       "      <th>residual.sugar</th>\n",
       "      <th>chlorides</th>\n",
       "      <th>free.sulfur.dioxide</th>\n",
       "      <th>total.sulfur.dioxide</th>\n",
       "      <th>density</th>\n",
       "      <th>pH</th>\n",
       "      <th>sulphates</th>\n",
       "      <th>alcohol</th>\n",
       "      <th>quality</th>\n",
       "    </tr>\n",
       "  </thead>\n",
       "  <tbody>\n",
       "    <tr>\n",
       "      <th>fixed.acidity</th>\n",
       "      <td>1.000000</td>\n",
       "      <td>0.171727</td>\n",
       "      <td>0.407795</td>\n",
       "      <td>-0.164296</td>\n",
       "      <td>0.296037</td>\n",
       "      <td>-0.334627</td>\n",
       "      <td>-0.372436</td>\n",
       "      <td>0.556108</td>\n",
       "      <td>-0.292510</td>\n",
       "      <td>0.345303</td>\n",
       "      <td>-0.090773</td>\n",
       "      <td>-0.043420</td>\n",
       "    </tr>\n",
       "    <tr>\n",
       "      <th>volatile.acidity</th>\n",
       "      <td>0.171727</td>\n",
       "      <td>1.000000</td>\n",
       "      <td>-0.458312</td>\n",
       "      <td>-0.281011</td>\n",
       "      <td>0.361918</td>\n",
       "      <td>-0.397302</td>\n",
       "      <td>-0.454174</td>\n",
       "      <td>0.324357</td>\n",
       "      <td>0.331062</td>\n",
       "      <td>0.200511</td>\n",
       "      <td>-0.095184</td>\n",
       "      <td>-0.333890</td>\n",
       "    </tr>\n",
       "    <tr>\n",
       "      <th>citric.acid</th>\n",
       "      <td>0.407795</td>\n",
       "      <td>-0.458312</td>\n",
       "      <td>1.000000</td>\n",
       "      <td>0.164973</td>\n",
       "      <td>0.059043</td>\n",
       "      <td>0.132845</td>\n",
       "      <td>0.197656</td>\n",
       "      <td>0.111073</td>\n",
       "      <td>-0.424707</td>\n",
       "      <td>0.113168</td>\n",
       "      <td>0.034802</td>\n",
       "      <td>0.158044</td>\n",
       "    </tr>\n",
       "    <tr>\n",
       "      <th>residual.sugar</th>\n",
       "      <td>-0.164296</td>\n",
       "      <td>-0.281011</td>\n",
       "      <td>0.164973</td>\n",
       "      <td>1.000000</td>\n",
       "      <td>-0.195536</td>\n",
       "      <td>0.489241</td>\n",
       "      <td>0.555424</td>\n",
       "      <td>0.349580</td>\n",
       "      <td>-0.293666</td>\n",
       "      <td>-0.236341</td>\n",
       "      <td>-0.280145</td>\n",
       "      <td>0.023986</td>\n",
       "    </tr>\n",
       "    <tr>\n",
       "      <th>chlorides</th>\n",
       "      <td>0.296037</td>\n",
       "      <td>0.361918</td>\n",
       "      <td>0.059043</td>\n",
       "      <td>-0.195536</td>\n",
       "      <td>1.000000</td>\n",
       "      <td>-0.257042</td>\n",
       "      <td>-0.326883</td>\n",
       "      <td>0.376899</td>\n",
       "      <td>0.018465</td>\n",
       "      <td>0.462941</td>\n",
       "      <td>-0.227448</td>\n",
       "      <td>-0.193329</td>\n",
       "    </tr>\n",
       "    <tr>\n",
       "      <th>free.sulfur.dioxide</th>\n",
       "      <td>-0.334627</td>\n",
       "      <td>-0.397302</td>\n",
       "      <td>0.132845</td>\n",
       "      <td>0.489241</td>\n",
       "      <td>-0.257042</td>\n",
       "      <td>1.000000</td>\n",
       "      <td>0.768073</td>\n",
       "      <td>-0.092566</td>\n",
       "      <td>-0.180862</td>\n",
       "      <td>-0.243341</td>\n",
       "      <td>-0.152875</td>\n",
       "      <td>0.090369</td>\n",
       "    </tr>\n",
       "    <tr>\n",
       "      <th>total.sulfur.dioxide</th>\n",
       "      <td>-0.372436</td>\n",
       "      <td>-0.454174</td>\n",
       "      <td>0.197656</td>\n",
       "      <td>0.555424</td>\n",
       "      <td>-0.326883</td>\n",
       "      <td>0.768073</td>\n",
       "      <td>1.000000</td>\n",
       "      <td>-0.136670</td>\n",
       "      <td>-0.296915</td>\n",
       "      <td>-0.333072</td>\n",
       "      <td>-0.202789</td>\n",
       "      <td>0.007226</td>\n",
       "    </tr>\n",
       "    <tr>\n",
       "      <th>density</th>\n",
       "      <td>0.556108</td>\n",
       "      <td>0.324357</td>\n",
       "      <td>0.111073</td>\n",
       "      <td>0.349580</td>\n",
       "      <td>0.376899</td>\n",
       "      <td>-0.092566</td>\n",
       "      <td>-0.136670</td>\n",
       "      <td>1.000000</td>\n",
       "      <td>0.022438</td>\n",
       "      <td>0.326821</td>\n",
       "      <td>-0.618483</td>\n",
       "      <td>-0.282348</td>\n",
       "    </tr>\n",
       "    <tr>\n",
       "      <th>pH</th>\n",
       "      <td>-0.292510</td>\n",
       "      <td>0.331062</td>\n",
       "      <td>-0.424707</td>\n",
       "      <td>-0.293666</td>\n",
       "      <td>0.018465</td>\n",
       "      <td>-0.180862</td>\n",
       "      <td>-0.296915</td>\n",
       "      <td>0.022438</td>\n",
       "      <td>1.000000</td>\n",
       "      <td>0.139735</td>\n",
       "      <td>0.144421</td>\n",
       "      <td>-0.014176</td>\n",
       "    </tr>\n",
       "    <tr>\n",
       "      <th>sulphates</th>\n",
       "      <td>0.345303</td>\n",
       "      <td>0.200511</td>\n",
       "      <td>0.113168</td>\n",
       "      <td>-0.236341</td>\n",
       "      <td>0.462941</td>\n",
       "      <td>-0.243341</td>\n",
       "      <td>-0.333072</td>\n",
       "      <td>0.326821</td>\n",
       "      <td>0.139735</td>\n",
       "      <td>1.000000</td>\n",
       "      <td>0.017505</td>\n",
       "      <td>0.066996</td>\n",
       "    </tr>\n",
       "    <tr>\n",
       "      <th>alcohol</th>\n",
       "      <td>-0.090773</td>\n",
       "      <td>-0.095184</td>\n",
       "      <td>0.034802</td>\n",
       "      <td>-0.280145</td>\n",
       "      <td>-0.227448</td>\n",
       "      <td>-0.152875</td>\n",
       "      <td>-0.202789</td>\n",
       "      <td>-0.618483</td>\n",
       "      <td>0.144421</td>\n",
       "      <td>0.017505</td>\n",
       "      <td>1.000000</td>\n",
       "      <td>0.439750</td>\n",
       "    </tr>\n",
       "    <tr>\n",
       "      <th>quality</th>\n",
       "      <td>-0.043420</td>\n",
       "      <td>-0.333890</td>\n",
       "      <td>0.158044</td>\n",
       "      <td>0.023986</td>\n",
       "      <td>-0.193329</td>\n",
       "      <td>0.090369</td>\n",
       "      <td>0.007226</td>\n",
       "      <td>-0.282348</td>\n",
       "      <td>-0.014176</td>\n",
       "      <td>0.066996</td>\n",
       "      <td>0.439750</td>\n",
       "      <td>1.000000</td>\n",
       "    </tr>\n",
       "  </tbody>\n",
       "</table>\n",
       "</div>"
      ],
      "text/plain": [
       "                      fixed.acidity  volatile.acidity  citric.acid  \\\n",
       "fixed.acidity              1.000000          0.171727     0.407795   \n",
       "volatile.acidity           0.171727          1.000000    -0.458312   \n",
       "citric.acid                0.407795         -0.458312     1.000000   \n",
       "residual.sugar            -0.164296         -0.281011     0.164973   \n",
       "chlorides                  0.296037          0.361918     0.059043   \n",
       "free.sulfur.dioxide       -0.334627         -0.397302     0.132845   \n",
       "total.sulfur.dioxide      -0.372436         -0.454174     0.197656   \n",
       "density                    0.556108          0.324357     0.111073   \n",
       "pH                        -0.292510          0.331062    -0.424707   \n",
       "sulphates                  0.345303          0.200511     0.113168   \n",
       "alcohol                   -0.090773         -0.095184     0.034802   \n",
       "quality                   -0.043420         -0.333890     0.158044   \n",
       "\n",
       "                      residual.sugar  chlorides  free.sulfur.dioxide  \\\n",
       "fixed.acidity              -0.164296   0.296037            -0.334627   \n",
       "volatile.acidity           -0.281011   0.361918            -0.397302   \n",
       "citric.acid                 0.164973   0.059043             0.132845   \n",
       "residual.sugar              1.000000  -0.195536             0.489241   \n",
       "chlorides                  -0.195536   1.000000            -0.257042   \n",
       "free.sulfur.dioxide         0.489241  -0.257042             1.000000   \n",
       "total.sulfur.dioxide        0.555424  -0.326883             0.768073   \n",
       "density                     0.349580   0.376899            -0.092566   \n",
       "pH                         -0.293666   0.018465            -0.180862   \n",
       "sulphates                  -0.236341   0.462941            -0.243341   \n",
       "alcohol                    -0.280145  -0.227448            -0.152875   \n",
       "quality                     0.023986  -0.193329             0.090369   \n",
       "\n",
       "                      total.sulfur.dioxide   density        pH  sulphates  \\\n",
       "fixed.acidity                    -0.372436  0.556108 -0.292510   0.345303   \n",
       "volatile.acidity                 -0.454174  0.324357  0.331062   0.200511   \n",
       "citric.acid                       0.197656  0.111073 -0.424707   0.113168   \n",
       "residual.sugar                    0.555424  0.349580 -0.293666  -0.236341   \n",
       "chlorides                        -0.326883  0.376899  0.018465   0.462941   \n",
       "free.sulfur.dioxide               0.768073 -0.092566 -0.180862  -0.243341   \n",
       "total.sulfur.dioxide              1.000000 -0.136670 -0.296915  -0.333072   \n",
       "density                          -0.136670  1.000000  0.022438   0.326821   \n",
       "pH                               -0.296915  0.022438  1.000000   0.139735   \n",
       "sulphates                        -0.333072  0.326821  0.139735   1.000000   \n",
       "alcohol                          -0.202789 -0.618483  0.144421   0.017505   \n",
       "quality                           0.007226 -0.282348 -0.014176   0.066996   \n",
       "\n",
       "                       alcohol   quality  \n",
       "fixed.acidity        -0.090773 -0.043420  \n",
       "volatile.acidity     -0.095184 -0.333890  \n",
       "citric.acid           0.034802  0.158044  \n",
       "residual.sugar       -0.280145  0.023986  \n",
       "chlorides            -0.227448 -0.193329  \n",
       "free.sulfur.dioxide  -0.152875  0.090369  \n",
       "total.sulfur.dioxide -0.202789  0.007226  \n",
       "density              -0.618483 -0.282348  \n",
       "pH                    0.144421 -0.014176  \n",
       "sulphates             0.017505  0.066996  \n",
       "alcohol               1.000000  0.439750  \n",
       "quality               0.439750  1.000000  "
      ]
     },
     "execution_count": 21,
     "metadata": {},
     "output_type": "execute_result"
    }
   ],
   "source": [
    "corrs = df_combined.corr()\n",
    "corrs"
   ]
  },
  {
   "cell_type": "markdown",
   "metadata": {},
   "source": [
    "By reading the above correlation table, it seems like none of the feature correlates with the wine's quality, we will plot out some matrices to see if that really is the case."
   ]
  },
  {
   "cell_type": "code",
   "execution_count": 22,
   "metadata": {},
   "outputs": [
    {
     "data": {
      "image/png": "[encoded data removed]",
      "text/plain": [
       "<Figure size 432x288 with 4 Axes>"
      ]
     },
     "metadata": {},
     "output_type": "display_data"
    }
   ],
   "source": [
    "scatter_matrix(df_combined[['fixed.acidity','quality']])\n",
    "\n",
    "f4 = plt.gcf()"
   ]
  },
  {
   "cell_type": "code",
   "execution_count": 23,
   "metadata": {},
   "outputs": [
    {
     "data": {
      "image/png": "[encoded data removed]",
      "text/plain": [
       "<Figure size 432x288 with 4 Axes>"
      ]
     },
     "metadata": {},
     "output_type": "display_data"
    }
   ],
   "source": [
    "scatter_matrix(df_combined[['volatile.acidity','quality']])\n",
    "\n",
    "f4 = plt.gcf()"
   ]
  },
  {
   "cell_type": "code",
   "execution_count": 24,
   "metadata": {},
   "outputs": [
    {
     "data": {
      "image/png": "[encoded data removed]",
      "text/plain": [
       "<Figure size 432x288 with 4 Axes>"
      ]
     },
     "metadata": {},
     "output_type": "display_data"
    }
   ],
   "source": [
    "scatter_matrix(df_combined[['citric.acid','quality']])\n",
    "\n",
    "f4 = plt.gcf()"
   ]
  },
  {
   "cell_type": "code",
   "execution_count": 25,
   "metadata": {},
   "outputs": [
    {
     "data": {
      "image/png": "[encoded data removed]",
      "text/plain": [
       "<Figure size 432x288 with 4 Axes>"
      ]
     },
     "metadata": {},
     "output_type": "display_data"
    }
   ],
   "source": [
    "scatter_matrix(df_combined[['residual.sugar','quality']])\n",
    "\n",
    "f4 = plt.gcf()"
   ]
  },
  {
   "cell_type": "code",
   "execution_count": 26,
   "metadata": {},
   "outputs": [
    {
     "data": {
      "image/png": "[encoded data removed]",
      "text/plain": [
       "<Figure size 432x288 with 4 Axes>"
      ]
     },
     "metadata": {},
     "output_type": "display_data"
    }
   ],
   "source": [
    "scatter_matrix(df_combined[['chlorides','quality']])\n",
    "\n",
    "f4 = plt.gcf()"
   ]
  },
  {
   "cell_type": "code",
   "execution_count": 27,
   "metadata": {},
   "outputs": [
    {
     "data": {
      "image/png": "[encoded data removed]",
      "text/plain": [
       "<Figure size 432x288 with 4 Axes>"
      ]
     },
     "metadata": {},
     "output_type": "display_data"
    }
   ],
   "source": [
    "scatter_matrix(df_combined[['free.sulfur.dioxide','quality']])\n",
    "\n",
    "f4 = plt.gcf()"
   ]
  },
  {
   "cell_type": "code",
   "execution_count": 28,
   "metadata": {
    "scrolled": true
   },
   "outputs": [
    {
     "data": {
      "image/png": "[encoded data removed]",
      "text/plain": [
       "<Figure size 432x288 with 4 Axes>"
      ]
     },
     "metadata": {},
     "output_type": "display_data"
    }
   ],
   "source": [
    "scatter_matrix(df_combined[['total.sulfur.dioxide','quality']])\n",
    "\n",
    "f4 = plt.gcf()"
   ]
  },
  {
   "cell_type": "code",
   "execution_count": 29,
   "metadata": {},
   "outputs": [
    {
     "data": {
      "image/png": "[encoded data removed]",
      "text/plain": [
       "<Figure size 432x288 with 4 Axes>"
      ]
     },
     "metadata": {},
     "output_type": "display_data"
    }
   ],
   "source": [
    "scatter_matrix(df_combined[['density','quality']])\n",
    "\n",
    "f4 = plt.gcf()"
   ]
  },
  {
   "cell_type": "code",
   "execution_count": 30,
   "metadata": {},
   "outputs": [
    {
     "data": {
      "image/png": "[encoded data removed]",
      "text/plain": [
       "<Figure size 432x288 with 4 Axes>"
      ]
     },
     "metadata": {},
     "output_type": "display_data"
    }
   ],
   "source": [
    "scatter_matrix(df_combined[['pH','quality']])\n",
    "\n",
    "f4 = plt.gcf()"
   ]
  },
  {
   "cell_type": "code",
   "execution_count": 31,
   "metadata": {},
   "outputs": [
    {
     "data": {
      "image/png": "[encoded data removed]",
      "text/plain": [
       "<Figure size 432x288 with 4 Axes>"
      ]
     },
     "metadata": {},
     "output_type": "display_data"
    }
   ],
   "source": [
    "scatter_matrix(df_combined[['sulphates','quality']])\n",
    "\n",
    "f4 = plt.gcf()"
   ]
  },
  {
   "cell_type": "code",
   "execution_count": 32,
   "metadata": {},
   "outputs": [
    {
     "data": {
      "image/png": "[encoded data removed]",
      "text/plain": [
       "<Figure size 432x288 with 4 Axes>"
      ]
     },
     "metadata": {},
     "output_type": "display_data"
    }
   ],
   "source": [
    "scatter_matrix(df_combined[['alcohol','quality']])\n",
    "\n",
    "f4 = plt.gcf()"
   ]
  },
  {
   "cell_type": "markdown",
   "metadata": {},
   "source": [
    "Since none of the feature seems to be highly correlated to the quality, \n",
    "we want to combine them all and see if doing so would allow us to predict the wine rating more accurately"
   ]
  },
  {
   "cell_type": "code",
   "execution_count": 33,
   "metadata": {},
   "outputs": [
    {
     "data": {
      "text/plain": [
       "(3198, 12)"
      ]
     },
     "execution_count": 33,
     "metadata": {},
     "output_type": "execute_result"
    }
   ],
   "source": [
    "df_combined.shape"
   ]
  },
  {
   "cell_type": "markdown",
   "metadata": {},
   "source": [
    "Similar to A5, we will split our dataset into training set (80% of total) and testing set (20% of total). "
   ]
  },
  {
   "cell_type": "code",
   "execution_count": 34,
   "metadata": {},
   "outputs": [
    {
     "data": {
      "text/plain": [
       "2558"
      ]
     },
     "execution_count": 34,
     "metadata": {},
     "output_type": "execute_result"
    }
   ],
   "source": [
    "num_training = int(3198*.8)\n",
    "num_training"
   ]
  },
  {
   "cell_type": "code",
   "execution_count": 35,
   "metadata": {},
   "outputs": [],
   "source": [
    "df_training = df_combined[:num_training]\n",
    "df_testing = df_combined[num_training:]"
   ]
  },
  {
   "cell_type": "markdown",
   "metadata": {},
   "source": [
    "The following show what out training set looks like if we ignore the kind of the wine."
   ]
  },
  {
   "cell_type": "code",
   "execution_count": 36,
   "metadata": {},
   "outputs": [
    {
     "data": {
      "text/html": [
       "<div>\n",
       "<style scoped>\n",
       "    .dataframe tbody tr th:only-of-type {\n",
       "        vertical-align: middle;\n",
       "    }\n",
       "\n",
       "    .dataframe tbody tr th {\n",
       "        vertical-align: top;\n",
       "    }\n",
       "\n",
       "    .dataframe thead th {\n",
       "        text-align: right;\n",
       "    }\n",
       "</style>\n",
       "<table border=\"1\" class=\"dataframe\">\n",
       "  <thead>\n",
       "    <tr style=\"text-align: right;\">\n",
       "      <th></th>\n",
       "      <th>fixed.acidity</th>\n",
       "      <th>volatile.acidity</th>\n",
       "      <th>citric.acid</th>\n",
       "      <th>residual.sugar</th>\n",
       "      <th>chlorides</th>\n",
       "      <th>free.sulfur.dioxide</th>\n",
       "      <th>total.sulfur.dioxide</th>\n",
       "      <th>density</th>\n",
       "      <th>pH</th>\n",
       "      <th>sulphates</th>\n",
       "      <th>alcohol</th>\n",
       "      <th>quality</th>\n",
       "    </tr>\n",
       "  </thead>\n",
       "  <tbody>\n",
       "    <tr>\n",
       "      <th>0</th>\n",
       "      <td>6.5</td>\n",
       "      <td>0.28</td>\n",
       "      <td>0.33</td>\n",
       "      <td>15.7</td>\n",
       "      <td>0.053</td>\n",
       "      <td>51.0</td>\n",
       "      <td>190.0</td>\n",
       "      <td>0.99780</td>\n",
       "      <td>3.22</td>\n",
       "      <td>0.51</td>\n",
       "      <td>9.7</td>\n",
       "      <td>6</td>\n",
       "    </tr>\n",
       "    <tr>\n",
       "      <th>1</th>\n",
       "      <td>8.3</td>\n",
       "      <td>0.31</td>\n",
       "      <td>0.39</td>\n",
       "      <td>2.4</td>\n",
       "      <td>0.078</td>\n",
       "      <td>17.0</td>\n",
       "      <td>43.0</td>\n",
       "      <td>0.99444</td>\n",
       "      <td>3.31</td>\n",
       "      <td>0.77</td>\n",
       "      <td>12.5</td>\n",
       "      <td>7</td>\n",
       "    </tr>\n",
       "    <tr>\n",
       "      <th>2</th>\n",
       "      <td>6.8</td>\n",
       "      <td>0.18</td>\n",
       "      <td>0.37</td>\n",
       "      <td>1.6</td>\n",
       "      <td>0.055</td>\n",
       "      <td>47.0</td>\n",
       "      <td>154.0</td>\n",
       "      <td>0.99340</td>\n",
       "      <td>3.08</td>\n",
       "      <td>0.45</td>\n",
       "      <td>9.1</td>\n",
       "      <td>5</td>\n",
       "    </tr>\n",
       "    <tr>\n",
       "      <th>3</th>\n",
       "      <td>6.4</td>\n",
       "      <td>0.30</td>\n",
       "      <td>0.33</td>\n",
       "      <td>5.2</td>\n",
       "      <td>0.050</td>\n",
       "      <td>30.0</td>\n",
       "      <td>137.0</td>\n",
       "      <td>0.99304</td>\n",
       "      <td>3.26</td>\n",
       "      <td>0.58</td>\n",
       "      <td>11.1</td>\n",
       "      <td>5</td>\n",
       "    </tr>\n",
       "    <tr>\n",
       "      <th>4</th>\n",
       "      <td>9.1</td>\n",
       "      <td>0.28</td>\n",
       "      <td>0.48</td>\n",
       "      <td>1.8</td>\n",
       "      <td>0.067</td>\n",
       "      <td>26.0</td>\n",
       "      <td>46.0</td>\n",
       "      <td>0.99670</td>\n",
       "      <td>3.32</td>\n",
       "      <td>1.04</td>\n",
       "      <td>10.6</td>\n",
       "      <td>6</td>\n",
       "    </tr>\n",
       "  </tbody>\n",
       "</table>\n",
       "</div>"
      ],
      "text/plain": [
       "   fixed.acidity  volatile.acidity  citric.acid  residual.sugar  chlorides  \\\n",
       "0            6.5              0.28         0.33            15.7      0.053   \n",
       "1            8.3              0.31         0.39             2.4      0.078   \n",
       "2            6.8              0.18         0.37             1.6      0.055   \n",
       "3            6.4              0.30         0.33             5.2      0.050   \n",
       "4            9.1              0.28         0.48             1.8      0.067   \n",
       "\n",
       "   free.sulfur.dioxide  total.sulfur.dioxide  density    pH  sulphates  \\\n",
       "0                 51.0                 190.0  0.99780  3.22       0.51   \n",
       "1                 17.0                  43.0  0.99444  3.31       0.77   \n",
       "2                 47.0                 154.0  0.99340  3.08       0.45   \n",
       "3                 30.0                 137.0  0.99304  3.26       0.58   \n",
       "4                 26.0                  46.0  0.99670  3.32       1.04   \n",
       "\n",
       "   alcohol  quality  \n",
       "0      9.7        6  \n",
       "1     12.5        7  \n",
       "2      9.1        5  \n",
       "3     11.1        5  \n",
       "4     10.6        6  "
      ]
     },
     "execution_count": 36,
     "metadata": {},
     "output_type": "execute_result"
    }
   ],
   "source": [
    "df_training[:5]"
   ]
  },
  {
   "cell_type": "markdown",
   "metadata": {
    "colab": {
     "base_uri": "https://localhost:8080/",
     "height": 68
    },
    "colab_type": "code",
    "id": "XmpWKZljWhM_",
    "outputId": "ab41ba35-33df-4d59-e106-5ef13ea87749"
   },
   "source": [
    "Now, we will include some functions that can be useful later."
   ]
  },
  {
   "cell_type": "code",
   "execution_count": 37,
   "metadata": {
    "colab": {},
    "colab_type": "code",
    "id": "2iE6kHObWhNK"
   },
   "outputs": [],
   "source": [
    "#takes in a dataframe and a list of list of indices, \n",
    "#and return the predicted rate(quality) for each whine in the dataframe\n",
    "#based on the list of corresponding indices\n",
    "def predict_rate(df, inds):\n",
    "    rate_predict = []\n",
    "    for i in inds:\n",
    "        rateMap = {}\n",
    "        rate_mode = 0\n",
    "        for j in i:\n",
    "            curr = df.loc[j, 'quality']\n",
    "            if curr in rateMap.keys():\n",
    "                rateMap[curr]+=1\n",
    "            else: \n",
    "                rateMap[curr] = 1\n",
    "            if rateMap[curr] > rate_mode:\n",
    "                rate_mode = curr\n",
    "        rate_predict.append(rate_mode)\n",
    "    return rate_predict"
   ]
  },
  {
   "cell_type": "code",
   "execution_count": 38,
   "metadata": {
    "colab": {},
    "colab_type": "code",
    "id": "H_38ADM7WhNO"
   },
   "outputs": [],
   "source": [
    "#takes in a dataframe with an column containing the predicted wine quality\n",
    "#and returns the error rate\n",
    "def validation(df_after_prediction):\n",
    "    error = 0\n",
    "    num_row = 0\n",
    "    # iterate through each row in df\n",
    "    for idx, row in df_after_prediction.iterrows():\n",
    "        num_row = num_row+1\n",
    "        if not row['quality'] == row['predicted quality']:\n",
    "            error = error+1\n",
    "    errorPercent = error/num_row\n",
    "    #print(errorPercent)\n",
    "    return errorPercent"
   ]
  },
  {
   "cell_type": "code",
   "execution_count": 39,
   "metadata": {
    "colab": {},
    "colab_type": "code",
    "id": "bSxPHme2WhNB"
   },
   "outputs": [],
   "source": [
    "#takes in a dataframe\n",
    "#and return a list of rows in the dataframe without the quality column\n",
    "def get_row_list(df):\n",
    "    rows_list=[]\n",
    "    for idx, row in df.iterrows():\n",
    "        curr_row = [row['fixed.acidity'], row['volatile.acidity'], row['citric.acid'], \n",
    "                    row['residual.sugar'], row['chlorides'], row['free.sulfur.dioxide'], \n",
    "                    row['total.sulfur.dioxide'], row['density'], row['pH'], row['sulphates'],\n",
    "                    row['alcohol']]\n",
    "        rows_list.append(curr_row) \n",
    "    return rows_list"
   ]
  },
  {
   "cell_type": "code",
   "execution_count": 40,
   "metadata": {},
   "outputs": [],
   "source": [
    "#takes in the training dataframe, the testing dataframe, the k value, the testing dataframe's row list, and a kd-tree, \n",
    "#and returns the result of validation\n",
    "def getErrorPercent(df_training, df_testing, k_value, rows_list, tree):\n",
    "    inds = tree.query(rows_list, k=k_value, return_distance = False)\n",
    "    df_col_pred = predict_rate(df_training, inds)\n",
    "    df_testing['predicted quality'] = df_col_pred\n",
    "    return validation(df_testing)"
   ]
  },
  {
   "cell_type": "markdown",
   "metadata": {},
   "source": [
    "We want to use the KD-tree in the sklearn library to predict the quality of a wine given its list of features(ingredients). A K-Dimensional tree is a tree data structure for organizing sample points in a k dimensional space. In out project, we have 11 dimensions as there are 11 features for each wine. A KDT will store our sample points (the rows of wine) according to all their features. Therefore, by querying the closest \"neighbors\" of a wine from the KDT, we get a list of other wines in the KDT positioned the closest to the query point. Since we have information about those wines' quality, we can then predict the query wine's quality by taking the quality with the highest occurence among the nearest neighbors. "
   ]
  },
  {
   "cell_type": "markdown",
   "metadata": {},
   "source": [
    "Now, we will build the KDT using the training dataset."
   ]
  },
  {
   "cell_type": "code",
   "execution_count": 41,
   "metadata": {
    "colab": {
     "base_uri": "https://localhost:8080/",
     "height": 215
    },
    "colab_type": "code",
    "id": "hH350PTSWhNF",
    "outputId": "fa0fe7f2-92ac-48fd-fdf8-b8f00b67c671"
   },
   "outputs": [],
   "source": [
    "#list of rows of the training dataframe\n",
    "rows_list_training = get_row_list(df_training)\n",
    "\n",
    "#the KD Tree that stores all the wines in the training set\n",
    "tree = KDTree(rows_list_training)"
   ]
  },
  {
   "cell_type": "markdown",
   "metadata": {
    "colab": {},
    "colab_type": "code",
    "id": "ZexUO6aSWhNQ"
   },
   "source": [
    "After building the KD tree, we want to know how many numbers of neighbors we should query from it in order to get the most accurate prediction. Out initial guess is 5, but we want to actually go through more possible values to make sure we choose a best k value."
   ]
  },
  {
   "cell_type": "code",
   "execution_count": null,
   "metadata": {
    "colab": {},
    "colab_type": "code",
    "id": "F3uaHQEiWhNQ"
   },
   "outputs": [],
   "source": [
    "#going through possible k values [1,40]\n",
    "k_val = np.arange(1, 41, 1)\n",
    "err_val=[]\n",
    "for i in k_val:\n",
    "    df_training_cpy = df_training.copy()\n",
    "    err_val.append(getErrorPercent(df_training, df_training_cpy, i ,rows_list_training, tree))\n",
    "df_err = pd.DataFrame()\n",
    "df_err['k value'] = k_val\n",
    "df_err['error'] = err_val"
   ]
  },
  {
   "cell_type": "code",
   "execution_count": null,
   "metadata": {},
   "outputs": [],
   "source": [
    "df_err[:10]"
   ]
  },
  {
   "cell_type": "code",
   "execution_count": null,
   "metadata": {},
   "outputs": [],
   "source": [
    "df_err\n",
    "df_err.plot.scatter(x='k value', y='error')"
   ]
  },
  {
   "cell_type": "markdown",
   "metadata": {},
   "source": [
    "After checking through a set of k value candidates, we decide that k=5 would  be the best choice. Because it gives us a very low error. Although k values less than 5 seem to have even lower error rates, there are a few reasons why we did not choose them:\n",
    "\n",
    "1) We do not want to choose an even k value becuase we will then need to worry about having a tie. \n",
    "\n",
    "2) k=1 and k=3 are odd numbers, but still not nice choices as they are too small."
   ]
  },
  {
   "cell_type": "markdown",
   "metadata": {},
   "source": [
    "We will now query 5 nearest neighbors for each wine instance in our training data set, predict the quality, and add to the dataframe."
   ]
  },
  {
   "cell_type": "code",
   "execution_count": null,
   "metadata": {},
   "outputs": [],
   "source": [
    "#the list of rows of the training dataset\n",
    "rows_list_training = get_row_list(df_training)\n",
    "\n",
    "#the list of lists of nearest neighbor indices\n",
    "inds_k_5_training = tree.query(rows_list_training, k=5, return_distance = False)\n",
    "\n",
    "#the list of predicted quality of each wine\n",
    "df_training['predicted quality'] = predict_rate(df_training, inds_k_5_training)\n"
   ]
  },
  {
   "cell_type": "code",
   "execution_count": null,
   "metadata": {},
   "outputs": [],
   "source": [
    "df_training[:5]"
   ]
  },
  {
   "cell_type": "markdown",
   "metadata": {},
   "source": [
    "We will compute the error percentage of our prediction."
   ]
  },
  {
   "cell_type": "code",
   "execution_count": null,
   "metadata": {
    "scrolled": true
   },
   "outputs": [],
   "source": [
    "error_training = getErrorPercent(df_training, df_training, 5, rows_list_training,tree)\n",
    "error_training"
   ]
  },
  {
   "cell_type": "markdown",
   "metadata": {},
   "source": [
    "Now that our model is ready, we will go ahead and start predicting the quality of wines in the testing dataset. "
   ]
  },
  {
   "cell_type": "code",
   "execution_count": null,
   "metadata": {},
   "outputs": [],
   "source": [
    "#the list of rows in the testing set\n",
    "rows_list_testing = get_row_list(df_testing)\n",
    "\n",
    "#the list of lists of nearest neighbor indices\n",
    "inds_k_5_testing = tree.query(rows_list_testing, k=5, return_distance = False)\n",
    "\n",
    "#the list of predicted quality of each wine\n",
    "df_testing['predicted quality'] = predict_rate(df_training, inds_k_5_testing)"
   ]
  },
  {
   "cell_type": "code",
   "execution_count": null,
   "metadata": {},
   "outputs": [],
   "source": [
    "# err_testing = getErrorPercent(df_training, df_testing, 5, rows_list_testing)\n",
    "err_testing = validation(df_testing)\n",
    "err_testing"
   ]
  },
  {
   "cell_type": "markdown",
   "metadata": {},
   "source": [
    "# Data Analysis / Results"
   ]
  },
  {
   "cell_type": "markdown",
   "metadata": {},
   "source": [
    "It turned out that the error percentage is pretty big, oppposite from what we were expecting. Therefore, now we want to see how in accurate our prediction is. "
   ]
  },
  {
   "cell_type": "code",
   "execution_count": null,
   "metadata": {},
   "outputs": [],
   "source": [
    "df_testing[:10]"
   ]
  },
  {
   "cell_type": "markdown",
   "metadata": {},
   "source": [
    "It looks like some wines have the same predicted and actual quality while some others don't. We will need to do some more work to see how our algorithm performs."
   ]
  },
  {
   "cell_type": "code",
   "execution_count": null,
   "metadata": {},
   "outputs": [],
   "source": [
    "import matplotlib.pyplot as plt\n",
    "\n",
    "fig = plt.figure()\n",
    "fig.set_size_inches(18.5, 10.5)\n",
    "ax1 = fig.add_subplot(111)\n",
    "\n",
    "ax1.scatter(df_testing.index, df_testing['predicted quality'], s=10, c='b', marker=\"s\", label='predicted quality')\n",
    "ax1.scatter(df_testing.index, df_testing['quality'], s=10, c='r', marker=\"o\", label='real quality')\n",
    "plt.legend(loc='upper left')\n",
    "plt.show()"
   ]
  },
  {
   "cell_type": "markdown",
   "metadata": {},
   "source": [
    "The scatter plot above does not look so nice and we cannot really tell much about our prediction by looking at it. Thus, we will calculate the root mean sqaure error we got and store the value in our dataframe.  "
   ]
  },
  {
   "cell_type": "code",
   "execution_count": null,
   "metadata": {
    "scrolled": true
   },
   "outputs": [],
   "source": [
    "#takes in two values and calculautes their root mean square difference\n",
    "#and then returns that result\n",
    "def rmse(pred, tar):\n",
    "    diff = pred - tar                       \n",
    "    diff_sq = diff ** 2                    \n",
    "    mean_diff_sq = diff_sq.mean()  \n",
    "    rmse_val = np.sqrt(mean_diff_sq)          \n",
    "    return rmse_val*1.0"
   ]
  },
  {
   "cell_type": "code",
   "execution_count": null,
   "metadata": {},
   "outputs": [],
   "source": [
    "df_testing['rms']=0.0\n",
    "for i in df_testing.index:\n",
    "        df_testing.at[i,'rms'] = rmse(df_testing.at[i,'predicted quality'], df_testing.at[i,'quality'])"
   ]
  },
  {
   "cell_type": "code",
   "execution_count": null,
   "metadata": {},
   "outputs": [],
   "source": [
    "df_testing[:10]"
   ]
  },
  {
   "cell_type": "code",
   "execution_count": null,
   "metadata": {},
   "outputs": [],
   "source": [
    "df_testing['rms'].plot.hist()"
   ]
  },
  {
   "cell_type": "markdown",
   "metadata": {},
   "source": [
    "We can see that the error we get is actually very small. The predicted quality is in the most case actual quality ± 1, with a few ones having a more inaccurate result. So after all, our prediction is still not bad."
   ]
  },
  {
   "cell_type": "markdown",
   "metadata": {},
   "source": [
    "# Ethics and Privacy "
   ]
  },
  {
   "cell_type": "markdown",
   "metadata": {},
   "source": [
    "In our ventures in trying to determine what predicts wine quality, it is important to consider who and what may be negatively impacted by the results we obtain. Our results may reveal that certain qualities in wine are more favorable than others, affecting the business of companies that may be known to have more or less of a favorable quality. For example, if it is found that a wine with a higher sugar content is less favorable, companies and vineyards known for sweeter wines may find their businesses negatively impacted. Additionally, if a certain company claims the key to quality is one specific physicochemical property and we find their information to be false, that company may also find their business to be negatively impacted. With more awareness as to what makes a quality wine, perceived high quality wine price could drop and perceived low quality price could increase, if our results dispute their perception. \n",
    "\n",
    "Additionally, it is important to consider that our data is limited, biased, and skewed. We cannot be sure that the data was collected in a way that is accurate, precise, and equitable. Since all our data is from one wine company, we are sure that all variations of wine in the world and that all physicochemical properties affecting taste are not represented in our dataset. With this in mind, if our results grow in popularity, it can lead to positive or negative business for the company who provided this data, depending on results. Lastly, we know that wine quality is subjective and the “rating” portion of our data is biased. With biased ratings, it is also likely that the results are skewed, with more ratings at extreme ends than close to a median. With all this in mind, we also consider that our results cannot be fully used to defend a hypothesis, and that outside evidence is necessary for full confirmation.\n"
   ]
  },
  {
   "cell_type": "markdown",
   "metadata": {},
   "source": [
    "# Conclusion & Discussion "
   ]
  },
  {
   "cell_type": "markdown",
   "metadata": {},
   "source": [
    "In conclusion, we found that though we are able to somewhat predict wine quality, it is still not fine tuned enough to use ethically. Our prediction is generally on par, sometimes slightly off, than the real quality, within 2 at most. In relation to our hypothesis, all our factors of physicochemical features combine to create different optimal wines, meaning that all of our factors are involved in creating the proper flavor profile. Our original hypothesis predicts that lower volatile acidity, medium alcohol percentage, and higher citric acid would create the best quality, and we did not necessarily find that to be true. Interestingly, though we are already working with 12 variables, there are still contributors to wine quality that are missing. With each of the 12, we were unable to find one that stood out or a few that stood out together in making a quality wine. They all needed to combine with one another in a grand way to make a high quality wine.\n",
    "\n",
    "A possible confound is in variables that cannot directly be measured from the wine itself. Many experts cite the climate and soil at the vineyard in which the wine originated, something that was not taken into account with our data. This may account for part of the inaccuracy we faced. Limitations in our data may also account for inaccuracy. As stated before, we cannot be sure of the precision with which the data was collected. Additionally, all of the wine in our dataset came from the same vineyard, limiting our scope. Our dataset also lacked wine at the extreme ends of high and low quality, limiting our training, thus leading to inaccuracy. A few confounds are inevitable, but it may have done us well to try to alleviate some of their effects.\n",
    "\n",
    "If we were to continue this project, it may help to look deeper in to advanced data science techniques for tackling problems like this. In our pursuit to predict what makes a high quality wine, we found and learned about KD Tree, which made sense of our data when we could not. There may be more techniques out there that would’ve better our predictions and help us properly pinpoint the best wine. Additionally, the addition of more data may have helped us better find the correlations we were looking for. Despite our attempts, the one true perfect wine is still somewhat of a mystery, but we are sure data scientists will tackle it better than we could.\n"
   ]
  },
  {
   "cell_type": "code",
   "execution_count": null,
   "metadata": {},
   "outputs": [],
   "source": []
  }
 ],
 "metadata": {
  "colab": {
   "name": "FinalProject.ipynb",
   "provenance": [],
   "version": "0.3.2"
  },
  "kernelspec": {
   "display_name": "Python 3",
   "language": "python",
   "name": "python3"
  },
  "language_info": {
   "codemirror_mode": {
    "name": "ipython",
    "version": 3
   },
   "file_extension": ".py",
   "mimetype": "text/x-python",
   "name": "python",
   "nbconvert_exporter": "python",
   "pygments_lexer": "ipython3",
   "version": "3.6.5"
  }
 },
 "nbformat": 4,
 "nbformat_minor": 1
}
