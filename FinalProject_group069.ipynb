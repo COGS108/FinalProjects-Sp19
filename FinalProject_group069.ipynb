{
 "cells": [
  {
   "cell_type": "markdown",
   "metadata": {},
   "source": [
    "# COGS 108 - Final Project "
   ]
  },
  {
   "cell_type": "markdown",
   "metadata": {},
   "source": [
    "# Overview"
   ]
  },
  {
   "cell_type": "markdown",
   "metadata": {},
   "source": [
    "In the following notebook, we explore the Yelp dataset. Specifically, we analyze the data for restuarants on the app by comparing the average \"stars\" rating of restaurants in different categories and with different attributes. We seek to find if any of these categories or attributes affect the rating of their restaurants."
   ]
  },
  {
   "cell_type": "markdown",
   "metadata": {},
   "source": [
    "# Names\n",
    "\n",
    "- Ethan Bull-Vulpe\n",
    "- Cheuk Wah Chim\n",
    "- Qingyu Shen\n",
    "- Rongxin Zhu\n",
    "- Tong Shen\n"
   ]
  },
  {
   "cell_type": "markdown",
   "metadata": {},
   "source": [
    "# Research Question"
   ]
  },
  {
   "cell_type": "markdown",
   "metadata": {},
   "source": [
    "Our broad question is: what features lead to the high rating of a restaurant on Yelp?\n",
    "\n",
    "In our project, we seek to determine what makes a restaurant \"successful\" on Yelp. For our purposes, we say a restaurant is successful if it has a high average \"stars\" rating. Using this definition, we will work to find what features lead to a restaurant being successful. Some features we believe may influence average rating include: hours of operation, genre of food, cost, and other attributes. We will investigate some of these categories and others. Ultimately, we hope to see what factors affect the rating of a restaurant. However, we must limit our investigation to a realistic task, so we will not investigate all of these factors.\n",
    "\n",
    "Specifically, we will investigate: What categories and attributes affect the rating of restaurants on the Yelp app? Here, category refers to type of food (ie: \"American\", \"Japanese\", etc.) and attribute refers to a restaurant bell and wistle (ie: \"Wi-Fi\", \"Outdoor Seating\", etc)."
   ]
  },
  {
   "cell_type": "markdown",
   "metadata": {},
   "source": [
    "## Background and Prior Work"
   ]
  },
  {
   "cell_type": "markdown",
   "metadata": {},
   "source": [
    "\n",
    "References (include links): \"Key Elements of a Successful Restaurant\" by Chris Milksen (https://smallbusiness.chron.com/key-elements-successful-restaurant-25545.html)\n",
    "\n",
    "- Food is a part of everyone's daily lives. It affects many industries from \n",
    "  consumer and business perspectives. We want to analyze the Yelp dataset to \n",
    "  better understand the features that make a successful business in the food \n",
    "  industry. In this way, we hope to find correlations and relationships \n",
    "  between restaurant success to the restaurant's rating.\n",
    "- The Yelp dataset is from the Yelp Dataset Challenge intended for student \n",
    "  use in order to research various things Yelp has suggested in challenges on \n",
    "  their webiste. We will mainly be focusing on restaurant businesses from\n",
    "  Yelp dataset and use that to answer our question and hypothesis.\n",
    "- According to \"Key Elements of a Successful Restaurant\", all successful \n",
    "  restaurants have the following attributes:\n",
    "    - Food quality - The food quality of a restaurant plays an important role\n",
    "      in determining the success of a restaurant as this is the foundational\n",
    "      service that restaurants provide. Furthermore, different \n",
    "      types of restaurant have different kinds of expectation on their food. \n",
    "      For example, an expensive Italian restaurant with a rating of 5-stars is \n",
    "      expected to serve food that is excellent wholistically (eg. good taste,\n",
    "      apetiziing appearance, and healthy). On the other hand, \n",
    "      at a fast food restaurant, people may not expect to be served as high \n",
    "      a quality of food, and may give more weight to factors such as taste over\n",
    "      health and appearance.\n",
    "    - Environment or atmosphere of the restaurant is another big aspect of whether \n",
    "      a restaurant can be successful. It is natural that a customer who \n",
    "      walks into a restaurant and sees a dirty floor and unclean dinner table \n",
    "      would walk out or rate with less stars, so it is important to have the environment \n",
    "      clean to be successful. Furthermore, a restaurant should always have its \n",
    "      restaurant's mood set up for its type of food. For example, an Itlian \n",
    "      restaurant would have dimmer lighting to produce a relaxing environment that makes \n",
    "      the customer feel a comfortable mood while enjoying their food.\n",
    "    - Customer Service and Staff attitude - This is also a significant factor for successful \n",
    "      restaurants. Restaurants with better staff attitude or better customer \n",
    "      service would have a better success rate than those that don't. This is \n",
    "      when considering that when customers walk into a sit-down restaurant, they are not only \n",
    "      buying food, but also buying service from the restaurant. Therefore, it is \n",
    "      important that the restaurant have patient staff that can explain the \n",
    "      menu to the customer and show that they do care about the customer.\n",
    "    - Cost - There are many costs of a restaurant, but there are \n",
    "      only a few that can be controlled. The utilities cost of a restaurant \n",
    "      can't be controlled, but the cost of labor and food can always be \n",
    "      controlled. Controlling the cost of labor and food is not suggesting \n",
    "      cutting corners on food quality, but instead controlling the amount of \n",
    "      food appropriately whether in portions or amounts of stock to keep. Also, \n",
    "      by controlling the cost of labor, it is suggesting making accommodations \n",
    "      according to the amount of customers expected to have. For example, if \n",
    "      not many customers are showing up, it might be better to send some of the \n",
    "      staff home earlier to minimize the cost of labor."
   ]
  },
  {
   "cell_type": "markdown",
   "metadata": {},
   "source": [
    "# Hypothesis\n"
   ]
  },
  {
   "cell_type": "markdown",
   "metadata": {},
   "source": [
    "We hypothesize that certain factors, such as hours of operation, category of food, and attributes of the restaurant will influence the \"stars\" rating to a statistically significant degree. We believe that longer weekly hours would lead to higher rating, because people like when restaurants are open more often. We predict that some categories will be higher rated than others, because it is reasonable to assume that some genres of food are more popular than others, but do not attempt to predict which ones will be the highest rated. We also predict that restaurants with better features will have higher rating than other restaurants. For example, those that have parking lots will beat those that do not. Those that offer take out will beat those that do not. However, we think that genre of food will affect the distribution of ratings much more than these attributes because most people that go out to dine are looking for a specific type of food, with special bells and whistles only being a secondary consideration."
   ]
  },
  {
   "cell_type": "markdown",
   "metadata": {},
   "source": [
    "# Dataset(s)"
   ]
  },
  {
   "cell_type": "markdown",
   "metadata": {},
   "source": [
    "- Dataset Name: Yelp Open Dataset\n",
    "- Link to the dataset: https://www.yelp.com/dataset\n",
    "- Number of observations: 192,609 businesses\n",
    "\n",
    "For our project, we will use Yelp's public dataset. The dataset is very large (over 7 GB of data!) and has lots of information about a huge number of businesses including location, type of food, miscellaneous tags, list of reviews, and many other fields. However, we will only be investigating a subset of it, as explained in our Data Cleaning section.\n",
    "\n",
    "The dataset contains information about all businesses on Yelp in a select few cities that Yelp has released the data for. It includes all information available in the app, such as hours of operation, business type, even the text of the reviews and photos of the restaurant. However we will only be looking at a bit of this information."
   ]
  },
  {
   "cell_type": "markdown",
   "metadata": {},
   "source": [
    "# Setup"
   ]
  },
  {
   "cell_type": "markdown",
   "metadata": {},
   "source": [
    "These are all the libraries we will need to perform our data cleaning and analysis"
   ]
  },
  {
   "cell_type": "code",
   "execution_count": 1,
   "metadata": {},
   "outputs": [],
   "source": [
    "import pandas as pd\n",
    "import matplotlib.pyplot as plt\n",
    "import numpy as np\n",
    "from scipy.stats import normaltest, mannwhitneyu\n",
    "import scipy.stats as stats\n",
    "import statistics"
   ]
  },
  {
   "cell_type": "markdown",
   "metadata": {},
   "source": [
    "# Data Cleaning"
   ]
  },
  {
   "cell_type": "markdown",
   "metadata": {},
   "source": [
    "## Part 0: Seperating Las Vegas data and basic setup"
   ]
  },
  {
   "cell_type": "markdown",
   "metadata": {},
   "source": [
    "The Yelp dataset is very large, we chose to work with a smaller subset of it for a few reasons:\n",
    " * The full dataset is so large that it would take a long time to perform simple operations.\n",
    " * By only using the data from a specific city we can draw more specific conclusions.\n",
    " \n",
    "For these reasons, we will only be looking at restaurants whose city is marked in the dataset as Las Vegas.\n",
    "\n",
    "We seperated this part of the dataset into a smaller .json file so that we don't have to parse the entire dataset every time we run this notebook."
   ]
  },
  {
   "cell_type": "markdown",
   "metadata": {},
   "source": [
    "Before we can do any cleaning, we must read the json data into a pandas dataframe."
   ]
  },
  {
   "cell_type": "code",
   "execution_count": 2,
   "metadata": {},
   "outputs": [],
   "source": [
    "las_vegas = pd.read_json(\"las_vegas_res.json\")"
   ]
  },
  {
   "cell_type": "markdown",
   "metadata": {},
   "source": [
    "Now, lets take a peak at the top of the dataframe."
   ]
  },
  {
   "cell_type": "code",
   "execution_count": 3,
   "metadata": {},
   "outputs": [
    {
     "data": {
      "text/html": [
       "<div>\n",
       "<style scoped>\n",
       "    .dataframe tbody tr th:only-of-type {\n",
       "        vertical-align: middle;\n",
       "    }\n",
       "\n",
       "    .dataframe tbody tr th {\n",
       "        vertical-align: top;\n",
       "    }\n",
       "\n",
       "    .dataframe thead th {\n",
       "        text-align: right;\n",
       "    }\n",
       "</style>\n",
       "<table border=\"1\" class=\"dataframe\">\n",
       "  <thead>\n",
       "    <tr style=\"text-align: right;\">\n",
       "      <th></th>\n",
       "      <th>address</th>\n",
       "      <th>attributes</th>\n",
       "      <th>business_id</th>\n",
       "      <th>categories</th>\n",
       "      <th>city</th>\n",
       "      <th>hours</th>\n",
       "      <th>is_open</th>\n",
       "      <th>latitude</th>\n",
       "      <th>longitude</th>\n",
       "      <th>name</th>\n",
       "      <th>postal_code</th>\n",
       "      <th>review_count</th>\n",
       "      <th>stars</th>\n",
       "      <th>state</th>\n",
       "    </tr>\n",
       "  </thead>\n",
       "  <tbody>\n",
       "    <tr>\n",
       "      <th>100018</th>\n",
       "      <td>4640 S Paradise Rd</td>\n",
       "      <td>{'RestaurantsGoodForGroups': 'True', 'Restaura...</td>\n",
       "      <td>JGM-SxW_vayu0fBch-U2FQ</td>\n",
       "      <td>Italian, Pizza, Restaurants, Food, Food Delive...</td>\n",
       "      <td>Las Vegas</td>\n",
       "      <td>{'Monday': '16:0-0:0', 'Tuesday': '16:0-0:0', ...</td>\n",
       "      <td>0</td>\n",
       "      <td>36.105416</td>\n",
       "      <td>-115.150459</td>\n",
       "      <td>Pizza Bella</td>\n",
       "      <td>89169</td>\n",
       "      <td>22</td>\n",
       "      <td>2.0</td>\n",
       "      <td>NV</td>\n",
       "    </tr>\n",
       "    <tr>\n",
       "      <th>100048</th>\n",
       "      <td>5115 Spring Mountain Rd, Unit 234</td>\n",
       "      <td>{'OutdoorSeating': 'False', 'RestaurantsReserv...</td>\n",
       "      <td>5O7qB4gNmr3NgdYAuYbP4Q</td>\n",
       "      <td>Indian, Pakistani, Halal, Himalayan/Nepalese, ...</td>\n",
       "      <td>Las Vegas</td>\n",
       "      <td>{'Monday': '17:0-22:30', 'Tuesday': '17:0-22:3...</td>\n",
       "      <td>0</td>\n",
       "      <td>36.125693</td>\n",
       "      <td>-115.211278</td>\n",
       "      <td>Indian Curry House</td>\n",
       "      <td>89146</td>\n",
       "      <td>79</td>\n",
       "      <td>4.0</td>\n",
       "      <td>NV</td>\n",
       "    </tr>\n",
       "    <tr>\n",
       "      <th>100104</th>\n",
       "      <td>5300 Spring Mountain Rd, Ste 107</td>\n",
       "      <td>{'Alcohol': 'u'full_bar'', 'Caters': 'True', '...</td>\n",
       "      <td>vtkJXE_Vdz27rWm6mfAw6Q</td>\n",
       "      <td>Cantonese, Asian Fusion, Restaurants, Dim Sum,...</td>\n",
       "      <td>Las Vegas</td>\n",
       "      <td>{'Monday': '9:0-1:0', 'Tuesday': '9:0-1:0', 'W...</td>\n",
       "      <td>0</td>\n",
       "      <td>36.126710</td>\n",
       "      <td>-115.213915</td>\n",
       "      <td>Cathay House Restaurant</td>\n",
       "      <td>89146</td>\n",
       "      <td>233</td>\n",
       "      <td>3.0</td>\n",
       "      <td>NV</td>\n",
       "    </tr>\n",
       "    <tr>\n",
       "      <th>100149</th>\n",
       "      <td>The Palazzo, 3325 Las Vegas Blvd S</td>\n",
       "      <td>{'BusinessParking': '{'garage': True, 'street'...</td>\n",
       "      <td>liGn7sPOvUuy3kcwbhRkbA</td>\n",
       "      <td>Chinese, Restaurants, Dim Sum</td>\n",
       "      <td>Las Vegas</td>\n",
       "      <td>{'Monday': '11:0-1:0', 'Tuesday': '11:0-1:0', ...</td>\n",
       "      <td>0</td>\n",
       "      <td>36.124755</td>\n",
       "      <td>-115.168501</td>\n",
       "      <td>Zine Noodles Dim Sum</td>\n",
       "      <td>89109</td>\n",
       "      <td>238</td>\n",
       "      <td>3.0</td>\n",
       "      <td>NV</td>\n",
       "    </tr>\n",
       "    <tr>\n",
       "      <th>100164</th>\n",
       "      <td>4820 S Eastern Ave</td>\n",
       "      <td>{'RestaurantsReservations': 'False', 'Restaura...</td>\n",
       "      <td>v0oHkLaA7cI9os6VZu6NZQ</td>\n",
       "      <td>Restaurants, Mexican</td>\n",
       "      <td>Las Vegas</td>\n",
       "      <td>{'Monday': '12:0-0:0', 'Tuesday': '12:0-0:0', ...</td>\n",
       "      <td>1</td>\n",
       "      <td>36.101732</td>\n",
       "      <td>-115.118541</td>\n",
       "      <td>Don Tortaco Mexican Grill</td>\n",
       "      <td>89119</td>\n",
       "      <td>11</td>\n",
       "      <td>3.0</td>\n",
       "      <td>NV</td>\n",
       "    </tr>\n",
       "  </tbody>\n",
       "</table>\n",
       "</div>"
      ],
      "text/plain": [
       "                                   address  \\\n",
       "100018                  4640 S Paradise Rd   \n",
       "100048   5115 Spring Mountain Rd, Unit 234   \n",
       "100104    5300 Spring Mountain Rd, Ste 107   \n",
       "100149  The Palazzo, 3325 Las Vegas Blvd S   \n",
       "100164                  4820 S Eastern Ave   \n",
       "\n",
       "                                               attributes  \\\n",
       "100018  {'RestaurantsGoodForGroups': 'True', 'Restaura...   \n",
       "100048  {'OutdoorSeating': 'False', 'RestaurantsReserv...   \n",
       "100104  {'Alcohol': 'u'full_bar'', 'Caters': 'True', '...   \n",
       "100149  {'BusinessParking': '{'garage': True, 'street'...   \n",
       "100164  {'RestaurantsReservations': 'False', 'Restaura...   \n",
       "\n",
       "                   business_id  \\\n",
       "100018  JGM-SxW_vayu0fBch-U2FQ   \n",
       "100048  5O7qB4gNmr3NgdYAuYbP4Q   \n",
       "100104  vtkJXE_Vdz27rWm6mfAw6Q   \n",
       "100149  liGn7sPOvUuy3kcwbhRkbA   \n",
       "100164  v0oHkLaA7cI9os6VZu6NZQ   \n",
       "\n",
       "                                               categories       city  \\\n",
       "100018  Italian, Pizza, Restaurants, Food, Food Delive...  Las Vegas   \n",
       "100048  Indian, Pakistani, Halal, Himalayan/Nepalese, ...  Las Vegas   \n",
       "100104  Cantonese, Asian Fusion, Restaurants, Dim Sum,...  Las Vegas   \n",
       "100149                      Chinese, Restaurants, Dim Sum  Las Vegas   \n",
       "100164                               Restaurants, Mexican  Las Vegas   \n",
       "\n",
       "                                                    hours  is_open   latitude  \\\n",
       "100018  {'Monday': '16:0-0:0', 'Tuesday': '16:0-0:0', ...        0  36.105416   \n",
       "100048  {'Monday': '17:0-22:30', 'Tuesday': '17:0-22:3...        0  36.125693   \n",
       "100104  {'Monday': '9:0-1:0', 'Tuesday': '9:0-1:0', 'W...        0  36.126710   \n",
       "100149  {'Monday': '11:0-1:0', 'Tuesday': '11:0-1:0', ...        0  36.124755   \n",
       "100164  {'Monday': '12:0-0:0', 'Tuesday': '12:0-0:0', ...        1  36.101732   \n",
       "\n",
       "         longitude                       name postal_code  review_count  \\\n",
       "100018 -115.150459                Pizza Bella       89169            22   \n",
       "100048 -115.211278         Indian Curry House       89146            79   \n",
       "100104 -115.213915    Cathay House Restaurant       89146           233   \n",
       "100149 -115.168501       Zine Noodles Dim Sum       89109           238   \n",
       "100164 -115.118541  Don Tortaco Mexican Grill       89119            11   \n",
       "\n",
       "        stars state  \n",
       "100018    2.0    NV  \n",
       "100048    4.0    NV  \n",
       "100104    3.0    NV  \n",
       "100149    3.0    NV  \n",
       "100164    3.0    NV  "
      ]
     },
     "execution_count": 3,
     "metadata": {},
     "output_type": "execute_result"
    }
   ],
   "source": [
    "las_vegas.head()"
   ]
  },
  {
   "cell_type": "markdown",
   "metadata": {},
   "source": [
    "Then, lets remove the `address`, `business_id`, `is_open`, `latitude`, `longitude`, `name`, `postal_code`, and `state` columns, as they will not be used in our analysis. We keep the `categories`, `attributes`, `hours`, and `stars` columns because we will use them in our analysis."
   ]
  },
  {
   "cell_type": "code",
   "execution_count": 4,
   "metadata": {},
   "outputs": [],
   "source": [
    "las_vegas.drop(columns = [\"address\", \"business_id\", \"is_open\", \"latitude\", \"longitude\",\n",
    "                          \"name\", \"postal_code\", \"state\"], inplace = True)"
   ]
  },
  {
   "cell_type": "markdown",
   "metadata": {},
   "source": [
    "Now, because we want to create a model for `stars` we should try to remove outliers and unreliable data from our dataset. We shall remove all rows with `review_count` less than 50. In order to justify this, lets compare the percent of restaurants with less than 50 reviews that are 5 stars vs. those with 50 or more reviews."
   ]
  },
  {
   "cell_type": "code",
   "execution_count": 5,
   "metadata": {},
   "outputs": [
    {
     "name": "stdout",
     "output_type": "stream",
     "text": [
      "Less than 50 reviews 5 star percent: 0.055591467356173235\n",
      "More than 50 reviews 5 star percent: 0.00834326579261025\n"
     ]
    }
   ],
   "source": [
    "las_vegas_less_than_fifty = las_vegas[las_vegas[\"review_count\"] < 50]\n",
    "las_vegas_more_than_fifty = las_vegas[las_vegas[\"review_count\"] >= 50]\n",
    "percent_five_stars_less_than = (\n",
    "    len(las_vegas_less_than_fifty[las_vegas_less_than_fifty[\"stars\"] == 5]\n",
    "    ) / len(las_vegas_less_than_fifty)\n",
    ")\n",
    "print(\"Less than 50 reviews 5 star percent:\", percent_five_stars_less_than)\n",
    "percent_five_stars_more_than = (\n",
    "    len(las_vegas_more_than_fifty[las_vegas_more_than_fifty[\"stars\"] == 5]\n",
    "    ) / len(las_vegas_more_than_fifty)\n",
    ")\n",
    "print(\"More than 50 reviews 5 star percent:\", percent_five_stars_more_than)"
   ]
  },
  {
   "cell_type": "markdown",
   "metadata": {},
   "source": [
    "As you can see, restaurants with less than 50 reviews are more than 5 times as likely to have 5 stars. We believe this is because their star rating does not have a large enough sample size and may not have stablized. This could result in a poor model! Now, to fix this, lets drop all rows where `review_count` is less than 50. "
   ]
  },
  {
   "cell_type": "code",
   "execution_count": 6,
   "metadata": {},
   "outputs": [],
   "source": [
    "las_vegas = las_vegas[las_vegas[\"review_count\"] >= 50]"
   ]
  },
  {
   "cell_type": "markdown",
   "metadata": {},
   "source": [
    "## Part 1: Weekly Hours."
   ]
  },
  {
   "cell_type": "markdown",
   "metadata": {},
   "source": [
    "For the first part of our analysis, we will want to analyse how the number of hours a restaurant is open per week affects its `stars` rating. However, the `hours` data in the dataframe is saved in a dictionary that tells how many hours the restaurant is open per day. Lets parse the `hours` column into a new column `weekly_hours` that will make our analysis later easier.\n",
    "First we define sum_time, a function which takes in the dictionary from the `hours` column of the dataframe and outputs the total number of hours that restaurant is open in a week. If the restaurant does not have its hours specified, we will put -1 in the `weekly_hours` column."
   ]
  },
  {
   "cell_type": "code",
   "execution_count": 7,
   "metadata": {},
   "outputs": [],
   "source": [
    "def sum_time(hours):\n",
    "    total_time = 0\n",
    "    if hours is None:\n",
    "        return -1\n",
    "    for time in hours.values():\n",
    "        start_time = time[:time.index('-')]\n",
    "        end_time = time[time.index('-') + 1:]\n",
    "        start_hour = int(start_time[:start_time.index(':')])\n",
    "        start_min = int(start_time[start_time.index(':') + 1:])\n",
    "        end_hour = int(end_time[:end_time.index(':')])\n",
    "        end_min = int(end_time[end_time.index(':') + 1:])\n",
    "        start = start_hour + start_min / 60\n",
    "        end = end_hour + end_min / 60\n",
    "        if end < start:\n",
    "            end += 24\n",
    "        total_time += end - start\n",
    "    return total_time"
   ]
  },
  {
   "cell_type": "markdown",
   "metadata": {},
   "source": [
    "Now, we use that function to add a new column to our dataframe by iterating over each row."
   ]
  },
  {
   "cell_type": "code",
   "execution_count": 8,
   "metadata": {},
   "outputs": [],
   "source": [
    "las_vegas[\"weekly_hours\"] = [sum_time(i) for i in las_vegas[\"hours\"]]"
   ]
  },
  {
   "cell_type": "markdown",
   "metadata": {},
   "source": [
    "## Part 2: Categories"
   ]
  },
  {
   "cell_type": "markdown",
   "metadata": {},
   "source": [
    "For the second part of our analysis, we want to see if the distribution of `stars` differs for restaurants in different categories. Each restaurant in the dataset is labeled with one or more food categories. These categories describe the type or origin of the food. Examples inlcude \"Burgers\" or \"Japanese\"."
   ]
  },
  {
   "cell_type": "markdown",
   "metadata": {},
   "source": [
    "Now, lets try to find the most common food categories. We will do this by making a dictionary that maps the name of the category to the number of restaurants in that category."
   ]
  },
  {
   "cell_type": "code",
   "execution_count": 9,
   "metadata": {},
   "outputs": [],
   "source": [
    "cat_dict = {}\n",
    "for categories_string in las_vegas[\"categories\"]:\n",
    "    categories = categories_string.replace(\" \", \"\").split(\",\")\n",
    "    for category in categories:\n",
    "        try:\n",
    "            cat_dict[category] += 1\n",
    "        except KeyError:\n",
    "            cat_dict[category] = 1\n"
   ]
  },
  {
   "cell_type": "markdown",
   "metadata": {},
   "source": [
    "Now lets take a look at the 10 most populous."
   ]
  },
  {
   "cell_type": "code",
   "execution_count": 10,
   "metadata": {},
   "outputs": [
    {
     "name": "stdout",
     "output_type": "stream",
     "text": [
      "Burgers 334\n",
      "Sandwiches 366\n",
      "Mexican 375\n",
      "Breakfast&Brunch 417\n",
      "American(New) 460\n",
      "American(Traditional) 583\n",
      "Bars 602\n",
      "Nightlife 628\n",
      "Food 948\n",
      "Restaurants 3356\n"
     ]
    }
   ],
   "source": [
    "cat_top_10 = sorted(cat_dict.items(), key = lambda pair: pair[1])[-10:]\n",
    "for category, count in cat_top_10:\n",
    "    print(category, count)"
   ]
  },
  {
   "cell_type": "markdown",
   "metadata": {},
   "source": [
    "If we want to compare categories of restaurant, we should remove vague categories like 'Restaurants' and 'Food'. We do this because these categories don't point towards a specific food type, so are not interesting in our investigation."
   ]
  },
  {
   "cell_type": "code",
   "execution_count": 11,
   "metadata": {
    "scrolled": true
   },
   "outputs": [
    {
     "data": {
      "text/plain": [
       "948"
      ]
     },
     "execution_count": 11,
     "metadata": {},
     "output_type": "execute_result"
    }
   ],
   "source": [
    "cat_dict.pop(\"Restaurants\", None)\n",
    "cat_dict.pop(\"Food\", None)"
   ]
  },
  {
   "cell_type": "markdown",
   "metadata": {},
   "source": [
    "Now lets get the top 10 categories again."
   ]
  },
  {
   "cell_type": "code",
   "execution_count": 12,
   "metadata": {},
   "outputs": [
    {
     "name": "stdout",
     "output_type": "stream",
     "text": [
      "FastFood 318\n",
      "Pizza 334\n",
      "Burgers 334\n",
      "Sandwiches 366\n",
      "Mexican 375\n",
      "Breakfast&Brunch 417\n",
      "American(New) 460\n",
      "American(Traditional) 583\n",
      "Bars 602\n",
      "Nightlife 628\n"
     ]
    }
   ],
   "source": [
    "cat_top_10 = sorted(cat_dict.items(), key = lambda pair: pair[1])[-10:]\n",
    "for category, count in cat_top_10:\n",
    "    print(category, count)"
   ]
  },
  {
   "cell_type": "markdown",
   "metadata": {},
   "source": [
    "Ok, this is much better, but lets do some more data cleaning. Some of these categories are redundant, lets further improve our dataset by combining similar categories. We must reconstruct cat_dict, because if we just combined \"American(New)\" and \"American(Traditional)\" we could count a restaurant twice if it was labeled in both of those categories.\n",
    "\n",
    "We will combine any category with \"american\" as a substring into the \"American\" category.\n",
    "We will combine any category with \"nightlife\" or \"bar\" into the \"Nightlife\" category because these restaurants are likely similar.\n",
    "We will combine any category with \"burgers\" or \"fastfood\" into the \"FastFood\" category because burgers are commonly fastfood."
   ]
  },
  {
   "cell_type": "code",
   "execution_count": 13,
   "metadata": {},
   "outputs": [
    {
     "data": {
      "text/plain": [
       "948"
      ]
     },
     "execution_count": 13,
     "metadata": {},
     "output_type": "execute_result"
    }
   ],
   "source": [
    "cat_dict = {}\n",
    "for categories_string in las_vegas[\"categories\"]:\n",
    "    categories = categories_string.replace(\" \", \"\").split(\",\")\n",
    "    \n",
    "    is_american = False\n",
    "    is_nightlife = False\n",
    "    is_fastfood = False\n",
    "    \n",
    "    for category in list(categories):\n",
    "        if \"american\" in category.lower():\n",
    "            is_american = True\n",
    "            categories.remove(category)\n",
    "        if \"nightlife\" in category.lower() or \"bar\" in category.lower():\n",
    "            is_nightlife = True\n",
    "            categories.remove(category)\n",
    "        if \"burgers\" in category.lower() or \"fastfood\" in category.lower():\n",
    "            is_fastfood = True\n",
    "            categories.remove(category)\n",
    "    \n",
    "    if is_american:\n",
    "        categories.append(\"American\")\n",
    "    if is_nightlife:\n",
    "        categories.append(\"Nightlife\")\n",
    "    if is_fastfood:\n",
    "        categories.append(\"FastFood\")\n",
    "            \n",
    "    for category in categories:\n",
    "        try:\n",
    "            cat_dict[category] += 1\n",
    "        except KeyError:\n",
    "            cat_dict[category] = 1\n",
    "\n",
    "cat_dict.pop(\"Restaurants\", None)\n",
    "cat_dict.pop(\"Food\", None)"
   ]
  },
  {
   "cell_type": "markdown",
   "metadata": {},
   "source": [
    "Now lets get the top 10 one last time."
   ]
  },
  {
   "cell_type": "code",
   "execution_count": 14,
   "metadata": {},
   "outputs": [
    {
     "name": "stdout",
     "output_type": "stream",
     "text": [
      "Seafood 284\n",
      "Japanese 285\n",
      "Italian 293\n",
      "Pizza 334\n",
      "Sandwiches 366\n",
      "Mexican 375\n",
      "Breakfast&Brunch 417\n",
      "FastFood 553\n",
      "American 909\n",
      "Nightlife 1066\n"
     ]
    }
   ],
   "source": [
    "cat_top_10 = sorted(cat_dict.items(), key = lambda pair: pair[1])[-10:]\n",
    "for category, count in cat_top_10:\n",
    "    print(category, count)"
   ]
  },
  {
   "cell_type": "markdown",
   "metadata": {},
   "source": [
    "Excelent, these are a good 10 categories. Now, lets add all of these categories as columns to the las_vegas dataframe. Setting True or False in each row depending if that row's restaurant has that category."
   ]
  },
  {
   "cell_type": "code",
   "execution_count": 15,
   "metadata": {},
   "outputs": [],
   "source": [
    "for column_category, count in cat_top_10:\n",
    "    column = []\n",
    "    for categories_string in las_vegas[\"categories\"]:\n",
    "        categories = categories_string.replace(\" \", \"\").split(\",\")\n",
    "\n",
    "        is_american = False\n",
    "        is_nightlife = False\n",
    "        is_fastfood = False\n",
    "\n",
    "        for category in list(categories):\n",
    "            if \"american\" in category.lower():\n",
    "                is_american = True\n",
    "                categories.remove(category)\n",
    "            if \"nightlife\" in category.lower() or \"bar\" in category.lower():\n",
    "                is_nightlife = True\n",
    "                categories.remove(category)\n",
    "            if \"burgers\" in category.lower() or \"fastfood\" in category.lower():\n",
    "                is_fastfood = True\n",
    "                categories.remove(category)\n",
    "\n",
    "        if is_american:\n",
    "            categories.append(\"American\")\n",
    "        if is_nightlife:\n",
    "            categories.append(\"Nightlife\")\n",
    "        if is_fastfood:\n",
    "            categories.append(\"FastFood\")\n",
    "            \n",
    "        if column_category in categories:\n",
    "            column.append(True)\n",
    "        else:\n",
    "            column.append(False)\n",
    "            \n",
    "    las_vegas[column_category] = column"
   ]
  },
  {
   "cell_type": "markdown",
   "metadata": {},
   "source": [
    "## Part 3: Attributes"
   ]
  },
  {
   "cell_type": "markdown",
   "metadata": {},
   "source": [
    "For this part of our data cleaning, we want to look at how different attributes contribute to the difference of `stars` distribution among restaurants. Every restaurant has something listed under their attribute column, we want to take out 5 most common attributes that are listed under the `attribute` column. We will do this by creating a dictionary, mapping the name of the attribute to the number of how many restaurants have that attribute listed under their `attribute` column."
   ]
  },
  {
   "cell_type": "code",
   "execution_count": 16,
   "metadata": {
    "scrolled": true
   },
   "outputs": [
    {
     "name": "stdout",
     "output_type": "stream",
     "text": [
      "GoodForKids 3261\n",
      "BusinessParking 3291\n",
      "RestaurantsTakeOut 3297\n",
      "RestaurantsPriceRange2 3320\n",
      "BusinessAcceptsCreditCards 3333\n"
     ]
    }
   ],
   "source": [
    "att_dict = {}\n",
    "for key, value in las_vegas[\"attributes\"].items() or []:\n",
    "        for x in value or []:\n",
    "            try:\n",
    "                att_dict[x] += 1\n",
    "            except KeyError:\n",
    "                att_dict[x] = 1\n",
    "att_top_5 = sorted(att_dict.items(), key = lambda pair: pair[1])[-5:]\n",
    "for category, count in att_top_5:\n",
    "    print(category, count)"
   ]
  },
  {
   "cell_type": "markdown",
   "metadata": {},
   "source": [
    "We can see that the 5 most popular attributes listed under attribute column from every restaurants are GoodForKids, BusinessParking, RestaurantsTakeOut, RestaurantsPriceRange2, and BusinessAcceptsCreditCards. Four of these categories are self explanatory, but for clarity, the fifth \"RestaurantsPriceRange2\", means the restaurant as two `$$` or fewer on Yelp, out of up to four `$$$$`. These will be the attributes we'll be mainly looking at in order to see if attributes contribute to differences in `stars` rating. Next, we will add the 5 most popular attributes as columns in our dataframe with a value of True or False. True meaning that restaurant does have that attributes, False meaning the opposite."
   ]
  },
  {
   "cell_type": "code",
   "execution_count": 17,
   "metadata": {},
   "outputs": [],
   "source": [
    "att_column_kid = []\n",
    "att_column_park = []\n",
    "att_column_takeout = []\n",
    "att_column_price = []\n",
    "att_column_card = []\n",
    "temp_dict = las_vegas[\"attributes\"]\n",
    "for key, value in temp_dict.items():\n",
    "    if value is not None:\n",
    "        if \"GoodForKids\" not in value:\n",
    "            att_column_kid.append(False)\n",
    "        if \"BusinessParking\" not in value:\n",
    "            att_column_park.append(False)\n",
    "        if \"RestaurantsTakeOut\" not in value:\n",
    "            att_column_takeout.append(False)\n",
    "        if \"RestaurantsPriceRange2\" not in value:\n",
    "            att_column_price.append(False)\n",
    "        if \"BusinessAcceptsCreditCards\" not in value:\n",
    "            att_column_card.append(False)\n",
    "        for i, j in value.items():\n",
    "            if i == \"GoodForKids\":\n",
    "                if j.lower() == \"true\":\n",
    "                    att_column_kid.append(True)\n",
    "                else:\n",
    "                    att_column_kid.append(False)\n",
    "            if i == \"BusinessParking\":\n",
    "                if \"true\" in j.lower():\n",
    "                    att_column_park.append(True)\n",
    "                else:\n",
    "                    att_column_park.append(False)\n",
    "            if i == \"RestaurantsTakeOut\":\n",
    "                if j.lower() == \"true\":\n",
    "                    att_column_takeout.append(True)\n",
    "                else:\n",
    "                    att_column_takeout.append(False)\n",
    "            if i == \"RestaurantsPriceRange2\":\n",
    "                if j == \"2\" or j == \"1\":\n",
    "                    att_column_price.append(True)\n",
    "                else:\n",
    "                    att_column_price.append(False)\n",
    "            if i == \"BusinessAcceptsCreditCards\":\n",
    "                if j.lower() == \"true\":\n",
    "                    att_column_card.append(True)\n",
    "                else:\n",
    "                    att_column_card.append(False)\n",
    "    else:\n",
    "        att_column_kid.append(False)\n",
    "        att_column_park.append(False)\n",
    "        att_column_takeout.append(False)\n",
    "        att_column_price.append(False)\n",
    "        att_column_card.append(False)\n",
    "las_vegas[\"GoodForKids\"] = att_column_kid\n",
    "las_vegas[\"BusinessParking\"] = att_column_park\n",
    "las_vegas[\"RestaurantsTakeOut\"] = att_column_takeout\n",
    "las_vegas[\"RestaurantsPriceRange2\"] = att_column_price\n",
    "las_vegas[\"BusinessAcceptsCreditCards\"] = att_column_card\n"
   ]
  },
  {
   "cell_type": "markdown",
   "metadata": {},
   "source": [
    "# Data Analysis & Results"
   ]
  },
  {
   "cell_type": "markdown",
   "metadata": {},
   "source": [
    "## Part 1: Weekly Hours"
   ]
  },
  {
   "cell_type": "markdown",
   "metadata": {},
   "source": [
    "In this first part of the Analysis, we are going to see if hours open has any impact on the number of stars a restaurant has.\n",
    "\n",
    "In order to do this, we must remove all restaurants that did not provide any weekly hours data. This includes those with a -1 in the `weekly_hours` column because those are the rows that had `None` for their operating hours and those with a 0 because these restuarants are either closed, or had no operating hours entered by mistake."
   ]
  },
  {
   "cell_type": "code",
   "execution_count": 18,
   "metadata": {},
   "outputs": [],
   "source": [
    "las_vegas_weekly_hours = (\n",
    "    las_vegas[(las_vegas[\"weekly_hours\"] != -1) & (las_vegas[\"weekly_hours\"] != 0)]\n",
    ")"
   ]
  },
  {
   "cell_type": "markdown",
   "metadata": {},
   "source": [
    "Excellent, now that we have a dataframe with only those restaurants with weekly hours specified, lets graph the relationship."
   ]
  },
  {
   "cell_type": "code",
   "execution_count": 19,
   "metadata": {
    "scrolled": true
   },
   "outputs": [
    {
     "data": {
      "text/plain": [
       "<matplotlib.axes._subplots.AxesSubplot at 0x7f17184c9198>"
      ]
     },
     "execution_count": 19,
     "metadata": {},
     "output_type": "execute_result"
    },
    {
     "data": {
      "image/png": "[encoded data removed]",
      "text/plain": [
       "<Figure size 432x288 with 1 Axes>"
      ]
     },
     "metadata": {
      "needs_background": "light"
     },
     "output_type": "display_data"
    }
   ],
   "source": [
    "las_vegas_weekly_hours.plot(kind = \"scatter\", x = \"weekly_hours\", y = \"stars\",\n",
    "    title = \"Weekly Hours versus stars rating of Restaurants.\")"
   ]
  },
  {
   "cell_type": "markdown",
   "metadata": {},
   "source": [
    "Hmmmm, it really looks like theres no obvious relationship here. There are somethings we can notice, such as how 5 star restaurants are less likely to have many opearting hours. Or how there are no 24 hour restaurants with 4.5 or 5 stars. This could lead to an interesting conclusion about the operating hours of 5 star restaurants or the quality of 24-hour restaurants. But we decided not to pursue this analysis further for a few reasons:\n",
    " * The sample size of 5 star restaurants is too small.\n",
    " * The sample size of 24 hour restaurants is too small.\n",
    " * The correlation between `weekly_hours` and `stars` does not look to be large."
   ]
  },
  {
   "cell_type": "markdown",
   "metadata": {},
   "source": [
    "## Part 2: Categories"
   ]
  },
  {
   "cell_type": "markdown",
   "metadata": {},
   "source": [
    "In part 2 of our analysis, we will pursue a different angle: How do different food categories affect `stars`? Here we will use the extra columns we created during our data cleaning in order to analyse how the top 10 most common food categories affect rating."
   ]
  },
  {
   "cell_type": "markdown",
   "metadata": {},
   "source": [
    "To start, lets graph histograms of the `stars` distribution for each of the different categories we plan to investigate. We'll do that with a quick loop."
   ]
  },
  {
   "cell_type": "code",
   "execution_count": 20,
   "metadata": {},
   "outputs": [
    {
     "data": {
      "image/png": "[encoded data removed]",
      "text/plain": [
       "<Figure size 432x288 with 1 Axes>"
      ]
     },
     "metadata": {
      "needs_background": "light"
     },
     "output_type": "display_data"
    },
    {
     "data": {
      "image/png": "[encoded data removed]",
      "text/plain": [
       "<Figure size 432x288 with 1 Axes>"
      ]
     },
     "metadata": {
      "needs_background": "light"
     },
     "output_type": "display_data"
    },
    {
     "data": {
      "image/png": "[encoded data removed]",
      "text/plain": [
       "<Figure size 432x288 with 1 Axes>"
      ]
     },
     "metadata": {
      "needs_background": "light"
     },
     "output_type": "display_data"
    },
    {
     "data": {
      "image/png": "[encoded data removed]",
      "text/plain": [
       "<Figure size 432x288 with 1 Axes>"
      ]
     },
     "metadata": {
      "needs_background": "light"
     },
     "output_type": "display_data"
    },
    {
     "data": {
      "image/png": "[encoded data removed]",
      "text/plain": [
       "<Figure size 432x288 with 1 Axes>"
      ]
     },
     "metadata": {
      "needs_background": "light"
     },
     "output_type": "display_data"
    },
    {
     "data": {
      "image/png": "[encoded data removed]",
      "text/plain": [
       "<Figure size 432x288 with 1 Axes>"
      ]
     },
     "metadata": {
      "needs_background": "light"
     },
     "output_type": "display_data"
    },
    {
     "data": {
      "image/png": "[encoded data removed]",
      "text/plain": [
       "<Figure size 432x288 with 1 Axes>"
      ]
     },
     "metadata": {
      "needs_background": "light"
     },
     "output_type": "display_data"
    },
    {
     "data": {
      "image/png": "[encoded data removed]",
      "text/plain": [
       "<Figure size 432x288 with 1 Axes>"
      ]
     },
     "metadata": {
      "needs_background": "light"
     },
     "output_type": "display_data"
    },
    {
     "data": {
      "image/png": "[encoded data removed]",
      "text/plain": [
       "<Figure size 432x288 with 1 Axes>"
      ]
     },
     "metadata": {
      "needs_background": "light"
     },
     "output_type": "display_data"
    },
    {
     "data": {
      "image/png": "[encoded data removed]",
      "text/plain": [
       "<Figure size 432x288 with 1 Axes>"
      ]
     },
     "metadata": {
      "needs_background": "light"
     },
     "output_type": "display_data"
    }
   ],
   "source": [
    "for category, count in cat_top_10:\n",
    "    cat_df = las_vegas[las_vegas[category] == True]\n",
    "    chart = cat_df.hist(column = \"stars\", bins = [-0.5, 0, 0.5, 1, 1.5, 2, 2.5,\n",
    "                                                  3, 3.5, 4, 4.5, 5, 5.5])\n",
    "    for ax in chart.flatten():\n",
    "        ax.set_xlabel(\"Number of Stars\")\n",
    "        ax.set_ylabel(\"Number of Restaurants\")\n",
    "        ax.set_title(category + \" Restaurants\")"
   ]
  },
  {
   "cell_type": "markdown",
   "metadata": {},
   "source": [
    "As we can see from the above graphs, all of the categories  have their maximum number of restaurants sitting at around 3.5 stars to 4.5 stars. However, it looks to be skewed left. This could cause inconviences for the next step in our analysis. Since these 10 categories are the most populous among all others, we will investigate to see if the distribution of those restaurants in each category is different from those out of each category. "
   ]
  },
  {
   "cell_type": "markdown",
   "metadata": {},
   "source": [
    "Our goal is to see if there is significant difference between the `stars` rating of restaurants in different categories. To do this, we want to use a t-test. But before we can do that, we must see if the data for each category is normally distributed. We will use an alpha value of 0.01. If both the distribution of restaurants in a category and those out of the category have normally distributed ratings, then we will add them to the list `normal_categories`. At the end of this code block, the list will contain all categories of restaurant for which the `stars` rating is normally distributed."
   ]
  },
  {
   "cell_type": "code",
   "execution_count": 21,
   "metadata": {
    "scrolled": true
   },
   "outputs": [
    {
     "name": "stdout",
     "output_type": "stream",
     "text": [
      "Seafood: p for those in category: 0.00167835860485\n",
      "Seafood: p for those out of category: 2.92030501396e-40\n",
      "Japanese: p for those in category: 1.27812580568e-09\n",
      "Japanese: p for those out of category: 6.68673314685e-38\n",
      "Italian: p for those in category: 0.00054779932962\n",
      "Italian: p for those out of category: 1.66641084376e-41\n",
      "Pizza: p for those in category: 1.26653881571e-06\n",
      "Pizza: p for those out of category: 9.62744398723e-41\n",
      "Sandwiches: p for those in category: 4.73492347268e-05\n",
      "Sandwiches: p for those out of category: 1.67800432918e-42\n",
      "Mexican: p for those in category: 0.0026794475926\n",
      "Mexican: p for those out of category: 6.34841144578e-48\n",
      "Breakfast&Brunch: p for those in category: 8.01971489664e-05\n",
      "Breakfast&Brunch: p for those out of category: 8.73367592313e-44\n",
      "FastFood: p for those in category: 3.45911723293e-05\n",
      "FastFood: p for those out of category: 6.98250892332e-33\n",
      "American: p for those in category: 5.24923564013e-07\n",
      "American: p for those out of category: 2.3525534484e-47\n",
      "Nightlife: p for those in category: 1.20406082421e-14\n",
      "Nightlife: p for those out of category: 1.37479391342e-27\n",
      "Normal Categories: []\n"
     ]
    }
   ],
   "source": [
    "p = 0.01\n",
    "normal_categories = []\n",
    "for category, count in cat_top_10:\n",
    "    in_cat = las_vegas[las_vegas[category] == True][\"stars\"].values\n",
    "    out_cat = las_vegas[las_vegas[category] == False][\"stars\"].values\n",
    "    \n",
    "    st_in, p_in = normaltest(in_cat)\n",
    "    st_out, p_out = normaltest(out_cat)\n",
    "    \n",
    "    if p_in >= p and p_out >= p:\n",
    "        normal_categories.append(category)\n",
    "        \n",
    "    print(category + \":\", \"p for those in category:\", p_in)\n",
    "    print(category + \":\", \"p for those out of category:\", p_out)\n",
    "    \n",
    "print(\"Normal Categories:\", normal_categories)\n",
    "    "
   ]
  },
  {
   "cell_type": "markdown",
   "metadata": {},
   "source": [
    "Uh, oh... none of the categories are added to `normal_categories`. This means that when using an alpha value of 0.01, there are no categories for which `stars` is normally distributed for both those restuarants in and out of the category. Lets get a visual for the first few categories comparing the actual distribution of restuarants in those categories with the normal distribution."
   ]
  },
  {
   "cell_type": "code",
   "execution_count": 22,
   "metadata": {
    "scrolled": true
   },
   "outputs": [
    {
     "data": {
      "image/png": "[encoded data removed]",
      "text/plain": [
       "<Figure size 432x288 with 1 Axes>"
      ]
     },
     "metadata": {
      "needs_background": "light"
     },
     "output_type": "display_data"
    },
    {
     "data": {
      "image/png": "[encoded data removed]",
      "text/plain": [
       "<Figure size 432x288 with 1 Axes>"
      ]
     },
     "metadata": {
      "needs_background": "light"
     },
     "output_type": "display_data"
    },
    {
     "data": {
      "image/png": "[encoded data removed]",
      "text/plain": [
       "<Figure size 432x288 with 1 Axes>"
      ]
     },
     "metadata": {
      "needs_background": "light"
     },
     "output_type": "display_data"
    }
   ],
   "source": [
    "p = 0.01\n",
    "for category, count in cat_top_10[-3:]:\n",
    "    in_cat = las_vegas[las_vegas[category] == True][\"stars\"].values\n",
    "    out_cat = las_vegas[las_vegas[category] == False][\"stars\"].values\n",
    "    \n",
    "    fig1, ax1 = plt.subplots()\n",
    "    xs = np.arange(in_cat.min(), in_cat.max(), 0.1)\n",
    "    fit = stats.norm.pdf(xs, np.mean(in_cat), np.std(in_cat))\n",
    "    ax1.plot(xs, fit, label='Normal Dist.', lw=4)\n",
    "    ax1.hist(in_cat, density=True, label='Actual Data', bins = [-0.5, 0, 0.5, 1, 1.5,\n",
    "                                                                2, 2.5,3, 3.5, 4,\n",
    "                                                                4.5,5, 5.5]);\n",
    "    ax1.set_title(category + \" Restaurants\")\n",
    "    ax1.legend();\n"
   ]
  },
  {
   "cell_type": "markdown",
   "metadata": {},
   "source": [
    "As we can see, the data really isn't normal. In fact, its so un-normal that even using an alpha value of 0.001, every single `normal_test()` would fail. One option is to attempt to normalize the data, however we decided against this because there is another good test we can use. Because we have ordinal non normal data, a Mann Whitney U test is our best option to see if the distributions differ. Here, we run a Mann Whittney U test on each pair of in-category/out-category resturaunts. For each category that does have a significant affect on the median rating using an alpha value of 0.01, we will add the name of that category and the difference in median to significant_difference_categories."
   ]
  },
  {
   "cell_type": "code",
   "execution_count": 23,
   "metadata": {},
   "outputs": [
    {
     "name": "stdout",
     "output_type": "stream",
     "text": [
      "Seafood 0.00046379496769\n",
      "Japanese 2.45266863098e-14\n",
      "Italian 0.189030451456\n",
      "Pizza 0.028171909811\n",
      "Sandwiches 0.273150028855\n",
      "Mexican 0.00204388748005\n",
      "Breakfast&Brunch 0.225432045919\n",
      "FastFood 7.60849430223e-33\n",
      "American 4.29191455872e-07\n",
      "Nightlife 1.29226042873e-07\n",
      "\n",
      "Significant difference categories:\n",
      "Seafood 0.5\n",
      "Japanese 0.5\n",
      "Mexican -0.5\n",
      "FastFood -0.5\n",
      "American -0.5\n",
      "Nightlife 0.5\n"
     ]
    }
   ],
   "source": [
    "significant_difference_categories = []\n",
    "\n",
    "for category, count in cat_top_10:\n",
    "    in_cat = las_vegas[las_vegas[category] == True][\"stars\"].values\n",
    "    out_cat = las_vegas[las_vegas[category] == False][\"stars\"].values\n",
    "    \n",
    "    stat, p = mannwhitneyu(in_cat, out_cat)\n",
    "        \n",
    "    print(category, p)\n",
    "    \n",
    "    if p < 0.01:\n",
    "        significant_difference_categories.append(\n",
    "            (category, statistics.median(in_cat) - statistics.median(out_cat))\n",
    "        )\n",
    "\n",
    "print()\n",
    "print(\"Significant difference categories:\")\n",
    "for category, difference in significant_difference_categories:\n",
    "    print(category, difference)"
   ]
  },
  {
   "cell_type": "markdown",
   "metadata": {},
   "source": [
    "So here we see that according to our U-test, Seafood, Japanese, and Nightlife restaurants have a median star rating 0.5 higher than correspondingly, non Seafood, non Japanese, and non Nightlife restaurants. And Mexican, FastFood, and American restuarants have a median star rating 0.5 lower than, correspondingly, non Mexican, Fastfood, and American restuarants. This 0.5 difference may seem small, but considering the scale only goes from 0 to 5, 0.5 is about 1/10th of the entire scale!"
   ]
  },
  {
   "cell_type": "markdown",
   "metadata": {},
   "source": [
    "## Part 3: Attributes"
   ]
  },
  {
   "cell_type": "markdown",
   "metadata": {},
   "source": [
    "For this part of our analysis, we want to look at how attributes affect `stars` rating on restaurants. We will use the 5 columns we added to our dataframe to analyze how these top 5 attributes affect `stars` rating of restaurants."
   ]
  },
  {
   "cell_type": "markdown",
   "metadata": {},
   "source": [
    "We first want to print out the histograms showing the stars distribution of the top 5 attributes to see how it might have effect on `stars` ratings of restaurants."
   ]
  },
  {
   "cell_type": "code",
   "execution_count": 24,
   "metadata": {},
   "outputs": [
    {
     "data": {
      "image/png": "[encoded data removed]",
      "text/plain": [
       "<Figure size 432x288 with 1 Axes>"
      ]
     },
     "metadata": {
      "needs_background": "light"
     },
     "output_type": "display_data"
    },
    {
     "data": {
      "image/png": "[encoded data removed]",
      "text/plain": [
       "<Figure size 432x288 with 1 Axes>"
      ]
     },
     "metadata": {
      "needs_background": "light"
     },
     "output_type": "display_data"
    },
    {
     "data": {
      "image/png": "[encoded data removed]",
      "text/plain": [
       "<Figure size 432x288 with 1 Axes>"
      ]
     },
     "metadata": {
      "needs_background": "light"
     },
     "output_type": "display_data"
    },
    {
     "data": {
      "image/png": "[encoded data removed]",
      "text/plain": [
       "<Figure size 432x288 with 1 Axes>"
      ]
     },
     "metadata": {
      "needs_background": "light"
     },
     "output_type": "display_data"
    },
    {
     "data": {
      "image/png": "[encoded data removed]",
      "text/plain": [
       "<Figure size 432x288 with 1 Axes>"
      ]
     },
     "metadata": {
      "needs_background": "light"
     },
     "output_type": "display_data"
    }
   ],
   "source": [
    "for attribute, count in att_top_5:\n",
    "    att_df = las_vegas[las_vegas[attribute] == True]\n",
    "    att_chart = att_df.hist(column = \"stars\", bins = [-0.5, 0, 0.5, 1, 1.5, 2, 2.5,\n",
    "                                                      3, 3.5, 4, 4.5, 5, 5.5])\n",
    "    for axis in att_chart.flatten():\n",
    "        axis.set_xlabel(\"Number of Stars\")\n",
    "        axis.set_ylabel(\"Number of Restaurants\")\n",
    "        axis.set_title(attribute + \" Restaurants\")"
   ]
  },
  {
   "cell_type": "markdown",
   "metadata": {},
   "source": [
    "As we can see from the attributes graphs above, majority of the restaurants are clustered around 3.5 stars and 4.5 stars possibly indicating that attributes have effect on `stars` rating. Once again, there is a large left skew."
   ]
  },
  {
   "cell_type": "markdown",
   "metadata": {},
   "source": [
    "So we want to see if there is significant difference between restaurants in different attributes. To do this, we want to use a t-test. But before we can do that, we must see if the data for each attribute is normally distributed. We will use an alpha value of 0.01. If both the distribution of restaurants in a attribute and those out of the attribute have normally distributed ratings, then we will add them to the list `normal_attributes`. After performing the below code block, the list will contain all attributes of restaurant for which the `stars` rating is normally distributed."
   ]
  },
  {
   "cell_type": "code",
   "execution_count": 25,
   "metadata": {},
   "outputs": [
    {
     "name": "stdout",
     "output_type": "stream",
     "text": [
      "GoodForKids: p_in 2.06387344892e-36 p_out 2.14562780732e-09\n",
      "BusinessParking: p_in 2.30355005382e-39 p_out 2.78569578008e-07\n",
      "RestaurantsTakeOut: p_in 3.02491017208e-44 p_out 0.00310761264759\n",
      "RestaurantsPriceRange2: p_in 4.71382958481e-37 p_out 2.21748938162e-05\n",
      "BusinessAcceptsCreditCards: p_in 2.887549172e-45 p_out 0.00499278945418\n",
      "Normal Attributes: []\n"
     ]
    }
   ],
   "source": [
    "p = 0.01\n",
    "normal_attributes = []\n",
    "for attribute, count in att_top_5:\n",
    "    in_cat = las_vegas[las_vegas[attribute] == True][\"stars\"].values\n",
    "    out_cat = las_vegas[las_vegas[attribute] == False][\"stars\"].values\n",
    "    \n",
    "    st_in, p_in = normaltest(in_cat)\n",
    "    st_out, p_out = normaltest(out_cat)\n",
    "    \n",
    "    if p_in >= p and p_out >= p:\n",
    "        normal_attributes.append(attribute)\n",
    "        \n",
    "    print(attribute + \":\", \"p_in\", p_in, \"p_out\", p_out)\n",
    "    \n",
    "print(\"Normal Attributes:\", normal_attributes)"
   ]
  },
  {
   "cell_type": "markdown",
   "metadata": {},
   "source": [
    " Since `normal_attributes` is empty, that means no attributes for which `stars` is normally distributed for both restaurants that are in and out of the attribute with an alpha value of 0.01. Now let's graph the normal distribution versus our actual data to better see what is going on for a few of the attributes."
   ]
  },
  {
   "cell_type": "code",
   "execution_count": 26,
   "metadata": {},
   "outputs": [
    {
     "data": {
      "image/png": "[encoded data removed]",
      "text/plain": [
       "<Figure size 432x288 with 1 Axes>"
      ]
     },
     "metadata": {
      "needs_background": "light"
     },
     "output_type": "display_data"
    },
    {
     "data": {
      "image/png": "[encoded data removed]",
      "text/plain": [
       "<Figure size 432x288 with 1 Axes>"
      ]
     },
     "metadata": {
      "needs_background": "light"
     },
     "output_type": "display_data"
    }
   ],
   "source": [
    "p = 0.01\n",
    "for attribute, count in att_top_5[-2:]:\n",
    "    in_cat = las_vegas[las_vegas[attribute] == True][\"stars\"].values\n",
    "    out_cat = las_vegas[las_vegas[attribute] == False][\"stars\"].values\n",
    "    \n",
    "    fig2, ax2 = plt.subplots()\n",
    "    xs = np.arange(in_cat.min(), in_cat.max(), 0.1)\n",
    "    fit = stats.norm.pdf(xs, np.mean(in_cat), np.std(in_cat))\n",
    "    ax2.plot(xs, fit, label='Normal Dist.', lw=4)\n",
    "    ax2.hist(in_cat, density=True, label='Actual Data', bins = [-0.5, 0, 0.5, 1, 1.5,\n",
    "                                                                2, 2.5, 3, 3.5, 4,\n",
    "                                                                4.5, 5, 5.5]);\n",
    "    ax2.set_title(attribute + \" Restaurants\")\n",
    "    ax2.legend();\n"
   ]
  },
  {
   "cell_type": "markdown",
   "metadata": {},
   "source": [
    "As we can see, the data is not normal at all. The data is extremely un-normal that even using an alpha value of 0.001 wouldn't pass the `normal_test()`. Alternative option is to try to normalize the data, however, we decided not to because there is yet another good test we can use. It is because we have ordinal non-normal data, a Mann Whitney U test is one of our best option to see if the distributions differ. We can simply run a Mann Whittney U test on each pair of in-attribute/out-attribute resturaunts. For each attribute that does have a significant affect on the median rating using an alpha value of 0.01, we will add the name of that attribute and the difference in median to significant_difference_attributes."
   ]
  },
  {
   "cell_type": "code",
   "execution_count": 27,
   "metadata": {},
   "outputs": [
    {
     "name": "stdout",
     "output_type": "stream",
     "text": [
      "GoodForKids 0.0172658541586\n",
      "BusinessParking 0.0030522327164\n",
      "RestaurantsTakeOut 0.479905046224\n",
      "RestaurantsPriceRange2 4.3741945257e-08\n",
      "BusinessAcceptsCreditCards 0.00275497329698\n",
      "\n",
      "Significant difference attributes:\n",
      "BusinessParking 0.5\n",
      "RestaurantsPriceRange2 -0.5\n",
      "BusinessAcceptsCreditCards -0.5\n"
     ]
    }
   ],
   "source": [
    "significant_difference_attributes = []\n",
    "\n",
    "for attribute, count in att_top_5:\n",
    "    in_cat = las_vegas[las_vegas[attribute] == True][\"stars\"].values\n",
    "    out_cat = las_vegas[las_vegas[attribute] == False][\"stars\"].values\n",
    "    \n",
    "    stat, p = mannwhitneyu(in_cat, out_cat)\n",
    "        \n",
    "    print(attribute, p)\n",
    "    \n",
    "    if p < 0.01:\n",
    "        significant_difference_attributes.append(\n",
    "            (attribute, statistics.median(in_cat) - statistics.median(out_cat))\n",
    "        )\n",
    "\n",
    "print()\n",
    "print(\"Significant difference attributes:\")\n",
    "for attribute, difference in significant_difference_attributes:\n",
    "    print(attribute, difference)"
   ]
  },
  {
   "cell_type": "markdown",
   "metadata": {},
   "source": [
    "From the result above, we can see in our U-test, BusinessParking restaurants have a median star rating 0.5 higher than non BusinessParking restaurants. RestaurantsPriceRange2 and BusinessAcceptsCreditCards restuarants have a median star rating 0.5 lower than non RestaurantsPriceRange2 and BusinessAcceptsCreditCards restuarants. Again, the 0.5 difference may seem small, but considering the scale only goes from 0 to 5, 0.5 is about 1/10th of the entire scale!"
   ]
  },
  {
   "cell_type": "markdown",
   "metadata": {},
   "source": [
    "It might strike you as odd that Businesses that accept credit cards are rated lower than those that do not. However, there is an explanation for this:"
   ]
  },
  {
   "cell_type": "code",
   "execution_count": 28,
   "metadata": {},
   "outputs": [
    {
     "data": {
      "text/plain": [
       "(53, 22)"
      ]
     },
     "execution_count": 28,
     "metadata": {},
     "output_type": "execute_result"
    }
   ],
   "source": [
    "no_credit = las_vegas[las_vegas[\"BusinessAcceptsCreditCards\"] == False]\n",
    "no_credit.shape"
   ]
  },
  {
   "cell_type": "markdown",
   "metadata": {},
   "source": [
    "There are only 53 restaurants that don't accept credit cards in our dataset. It could be that the observation that Businesses that do not accept credit cards are rated better than those that do was only possible because of the relatively small sample size."
   ]
  },
  {
   "cell_type": "markdown",
   "metadata": {},
   "source": [
    "# Ethics & Privacy"
   ]
  },
  {
   "cell_type": "markdown",
   "metadata": {},
   "source": [
    "Data used for this project was ethically and consensually collected by Yelp and available for public use. While personal information is included in our dataset, such as names, logitude, and latitude of restaurants, meaning it is non-anonymous, this is not ethically damaging because the data in the dataset is public information that is already available on the Yelp app.\n",
    "\n",
    "There are several players who may be interested in our findings, namely the Yelp corporation and businesses which use the app. It is possible that making the facets of a successful Yelp restaurant publicly known could entice business owners or others to fraud - perhaps claiming that their business has attributes it does not because those attributes are correltated with a successful restaurant.\n",
    "\n",
    "Additionally, there are some potential biases in the dataset. Review fraud is possible and some would argue common on websites such as Yelp, as seen in [\"Don't Fall for Fake Reviews: I-Team Uncovers Them on Yelp, Facebook, Google\"](https://www.nbclosangeles.com/investigations/Fake-Reviews-on-Yelp-Facebook-Google-447796103.html) by Joel Grover and Amy Corral and [\"How to Buy Yelp Reviews\"](https://blog.hubspot.com/service/buy-yelp-reviews) by Swetha Amaresan. However, Yelp's official position is that this is not the case. Additionally, our dataset contains all the flaws that exist in any opt-in review dataset. It is possible that pleased customers are less likely to review than displeased customers, or that businesses who let their patrons know they are on Yelp with decals or other paraphernalia will have more or different reviews. Utimately, it is impossible to know exactly how these biases will affect our dataset, so we aknowledge that our conclusions are vulnerable to these faults. This is a shortcoming that many analyses that rely on survey data suffer."
   ]
  },
  {
   "cell_type": "markdown",
   "metadata": {},
   "source": [
    "# Conclusion & Discussion"
   ]
  },
  {
   "cell_type": "markdown",
   "metadata": {},
   "source": [
    "Through our analysis we are able to draw the preliminary conclusions about parts of our hypothesis. We could not confirm that longer weekly hours lead to higher rating, because the relationship between weekly hours and `stars` rating was very weak if existant at all. We confirmed that some categories of restaurant have differently distrubyted `stars` ratings (either better or worse). And we confirmed that restaurants with different attributes have differently distributed `stars` ratings. We predicted that good attributes would be correlated with better rating, this was confirmed in regards to 'BusinessParking' which showed a higher distributed rating, but refuted in regards to 'RestaurantsTakeOut' and 'GoodForKids' which showed no signficant difference in rating.\n",
    "\n",
    "So in summary: We have found that restaurants in the categories Seafood, Japanese, and Nightlife or that have parking show a higher distribution of ratings that those not in those categories or that do not have parking by 0.5 star increase in median. We also found that restaurants in the categories  Mexican, FastFood, and American or that have two `$$` or fewer dollar signs show a low distribution of ratings than those not in those categories or that have three `$$$` or more dolars signs by 0.5 star decrease in median. There were also several categories and attributes we found to not have an effect.\n",
    "\n",
    "However, these results are only preliminary for several reasons.\n",
    " * They look only at a single city, the results could be different for different cities or the population at large.\n",
    " * They are exposed to the biases discused in the ethics and privacy section.\n",
    " * More categories and attributes should be investigated before drawing concrete conclusions.\n",
    " * Location of the restaurants might contribute whether the restaurant is rated higher or lower.\n",
    " * The race of the population might also affect ratings of restaurants, as in how different race have their different preferred \n",
    "   type of food."
   ]
  }
 ],
 "metadata": {
  "kernelspec": {
   "display_name": "Python 3",
   "language": "python",
   "name": "python3"
  },
  "language_info": {
   "codemirror_mode": {
    "name": "ipython",
    "version": 3
   },
   "file_extension": ".py",
   "mimetype": "text/x-python",
   "name": "python",
   "nbconvert_exporter": "python",
   "pygments_lexer": "ipython3",
   "version": "3.6.8"
  }
 },
 "nbformat": 4,
 "nbformat_minor": 2
}
