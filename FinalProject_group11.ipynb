{
 "cells": [
  {
   "cell_type": "markdown",
   "metadata": {},
   "source": [
    "# COGS 108 - Final Project "
   ]
  },
  {
   "cell_type": "markdown",
   "metadata": {},
   "source": [
    "# Introduction"
   ]
  },
  {
   "cell_type": "markdown",
   "metadata": {},
   "source": [
    "As a leading fast food company over the world, McDonald's is known for its popularity and tremendous market power. Nonetheless, it also criticized by its unhealthy products and aggressive marketing strategies. Hence, in this project we focus on the potential influence to US McDonald's revenue from the raw materials prices, and we test some marketing strategies McDonald's may be using. We expect to proof several McDonald's strategies, and thus discuss if they are benign to our society."
   ]
  },
  {
   "cell_type": "markdown",
   "metadata": {},
   "source": [
    "# Overview"
   ]
  },
  {
   "cell_type": "markdown",
   "metadata": {},
   "source": [
    "Our project is framed in a basic economic producer-saler model. In producer side, we use machine learning to find the correlations between McDonald's raw material prices and McDonald's revenues, and also predict McDonald's future revenues. In saler side, we use linear regression model to test the correlations between the number of McDonald's in a state and the population of that state. We also want to find the correlations between the ratings of McDonald's on yelp and the number of McDonald's in that area, yet after data analysis we find that our data doesn't support us to do this analysis."
   ]
  },
  {
   "cell_type": "markdown",
   "metadata": {},
   "source": [
    "# Names\n",
    "\n",
    "- Xiaoquan Jiang\n",
    "- Vidal Montelongo\n",
    "- Ziyuan Wu\n",
    "- Yao Tong"
   ]
  },
  {
   "cell_type": "markdown",
   "metadata": {},
   "source": [
    "# Group Members IDs\n",
    "\n",
    "- A14013665\n",
    "- A15752278\n",
    "- A14910716\n",
    "- A13997064"
   ]
  },
  {
   "cell_type": "markdown",
   "metadata": {},
   "source": [
    "# Research Question\n",
    "\n",
    "Producer side:\n",
    "\n",
    "- How does potato price, beef price, stock price and trading volume affect McDonald's revenues.\n",
    "\n",
    "Saler side:\n",
    "\n",
    "- How does the population in a state and the average ratings of McDonald's affect the number of McDonald's in that state."
   ]
  },
  {
   "cell_type": "markdown",
   "metadata": {},
   "source": [
    "# Part 1: Producer Side"
   ]
  },
  {
   "cell_type": "markdown",
   "metadata": {},
   "source": [
    "# Background and Prior Work"
   ]
  },
  {
   "cell_type": "markdown",
   "metadata": {},
   "source": [
    "We found four papers contributing to our understanding on the factors of McDonald’s revenue. These papers range from 2006-2014, which is correspondant to the time period of our data. The earlier time period of the papers provide us some useful background information and gives us a direction to construct our hypothesis on McDonald’s revenue. "
   ]
  },
  {
   "cell_type": "markdown",
   "metadata": {},
   "source": [
    "Parviz and Samreen’s paper(2012) argues that the switching strategies from promoting high-calorie food to healthy, diet choice brings ‘a record increase of 55% in the net income along with the record increase of 19% in cash from operations’. It provides us confidence to find the correlations between the ingredients and McDonald's revenues.\n",
    "\n",
    "\n",
    "* Parvez and Samreen Azim. (2012)”Impact of Constructive Marketing Strategies on Return (Revenue & Profitability): A Case Study of Mcdonald’s” Asian Economic and Social Society ISSN: 2225-4226 Volume 2 Number 7, July\n",
    "\n",
    "* http://www.aessweb.com/pdf-files/1-50-2(7)2012-JABS-153-169.pdf"
   ]
  },
  {
   "cell_type": "markdown",
   "metadata": {},
   "source": [
    " In the earliest paper(2016), Melanie’s New York Times magazine review, we see that the dollar menu, though consist of high calorie, unhealthy food choice, actually boost the revenue of McDonald’s by 170 percent in the previous 36 months before the articles. Hence, we can suspect that through choosing unhealthy ingredients McDonald's generate more profits.\n",
    "\n",
    "\n",
    "* Melanie Warner. (2006)”Salads or No, Cheap Burgers Revive McDonald's” The New York Times April 19\n",
    "\n",
    "* http://faculty.washington.edu/sundar/MM-BBUS320/Fun-READINGS/McDonalds.pdf"
   ]
  },
  {
   "cell_type": "markdown",
   "metadata": {},
   "source": [
    "# Hypothesis"
   ]
  },
  {
   "cell_type": "markdown",
   "metadata": {},
   "source": [
    "We hypothesize that the potato prices, beef prices, stock prices, and trading volumes can be important factors impacting McDonald’s revenue. We shape this hypothesis according our eomonic intuitions. We expect that the lower the beef prices and potato prices, the higher the stock prices and trading volumes, and the higher the revenues."
   ]
  },
  {
   "cell_type": "markdown",
   "metadata": {},
   "source": [
    "# Dataset(s)"
   ]
  },
  {
   "cell_type": "markdown",
   "metadata": {},
   "source": [
    " In our group, we looked over the internet to find several main datasets to be our main datasource. \n",
    "     \n",
    "- Dataset Name: McDonald’s gross profit\n",
    "- Link to the dataset: https://www.macrotrends.net/stocks/charts/MCD/mcdonalds/gross-profit\n",
    "- Number of observations: 56\n",
    "\n",
    "McDonald's revenue every quarter, the most basic dataset we use to analyze McDonald's revenue trendings over time and train our model to predict revenue from every factor we have come up with.\n",
    "\n",
    "\n",
    "- Dataset Name: Beef price\n",
    "- Link to the dataset: https://www.indexmundi.com/commodities/?commodity=beef&months=60)\n",
    "- Number of observations: 59\n",
    "\n",
    "Beef price in US every month, one factor about McDonald's supply.\n",
    "\n",
    "- Dataset Name: Producer price index for potatoes\n",
    "- Link to the dataset: https://fred.stlouisfed.org/series/WPU024502\n",
    "- Number of observations: 340\n",
    "\n",
    "Potato price in US every month, another factor about McDonald's supply.\n",
    "\n",
    "\n",
    "- Dataset Name: McDonald’s stock price and trading volumes\n",
    "- Link to the dataset: https://www.nasdaq.com/symbol/mcd\n",
    "- Number of observations: 1091\n",
    "\n",
    "McDonald's stock statistics, related to revenue.\n",
    "\n",
    "\n",
    "We combine all datasets into a dataframe by their dates."
   ]
  },
  {
   "cell_type": "markdown",
   "metadata": {},
   "source": [
    "# Setup"
   ]
  },
  {
   "cell_type": "code",
   "execution_count": 111,
   "metadata": {},
   "outputs": [],
   "source": [
    "# imports\n",
    "import pandas as pd\n",
    "import numpy as np\n",
    "from sklearn.linear_model import LinearRegression\n",
    "import matplotlib.pyplot as plot"
   ]
  },
  {
   "cell_type": "code",
   "execution_count": 112,
   "metadata": {},
   "outputs": [
    {
     "data": {
      "text/html": [
       "<div>\n",
       "<style scoped>\n",
       "    .dataframe tbody tr th:only-of-type {\n",
       "        vertical-align: middle;\n",
       "    }\n",
       "\n",
       "    .dataframe tbody tr th {\n",
       "        vertical-align: top;\n",
       "    }\n",
       "\n",
       "    .dataframe thead th {\n",
       "        text-align: right;\n",
       "    }\n",
       "</style>\n",
       "<table border=\"1\" class=\"dataframe\">\n",
       "  <thead>\n",
       "    <tr style=\"text-align: right;\">\n",
       "      <th></th>\n",
       "      <th>_unit_id</th>\n",
       "      <th>_golden</th>\n",
       "      <th>_unit_state</th>\n",
       "      <th>_trusted_judgments</th>\n",
       "      <th>_last_judgment_at</th>\n",
       "      <th>policies_violated</th>\n",
       "      <th>policies_violated:confidence</th>\n",
       "      <th>city</th>\n",
       "      <th>policies_violated_gold</th>\n",
       "      <th>review</th>\n",
       "    </tr>\n",
       "  </thead>\n",
       "  <tbody>\n",
       "    <tr>\n",
       "      <th>0</th>\n",
       "      <td>679455653</td>\n",
       "      <td>False</td>\n",
       "      <td>finalized</td>\n",
       "      <td>3</td>\n",
       "      <td>2/21/15 0:36</td>\n",
       "      <td>RudeService\\rOrderProblem\\rFilthy</td>\n",
       "      <td>1.0\\r0.6667\\r0.6667</td>\n",
       "      <td>Atlanta</td>\n",
       "      <td>NaN</td>\n",
       "      <td>I'm not a huge mcds lover, but I've been to be...</td>\n",
       "    </tr>\n",
       "    <tr>\n",
       "      <th>1</th>\n",
       "      <td>679455654</td>\n",
       "      <td>False</td>\n",
       "      <td>finalized</td>\n",
       "      <td>3</td>\n",
       "      <td>2/21/15 0:27</td>\n",
       "      <td>RudeService</td>\n",
       "      <td>1</td>\n",
       "      <td>Atlanta</td>\n",
       "      <td>NaN</td>\n",
       "      <td>Terrible customer service. Î¾I came in at 9:30...</td>\n",
       "    </tr>\n",
       "    <tr>\n",
       "      <th>2</th>\n",
       "      <td>679455655</td>\n",
       "      <td>False</td>\n",
       "      <td>finalized</td>\n",
       "      <td>3</td>\n",
       "      <td>2/21/15 0:26</td>\n",
       "      <td>SlowService\\rOrderProblem</td>\n",
       "      <td>1.0\\r1.0</td>\n",
       "      <td>Atlanta</td>\n",
       "      <td>NaN</td>\n",
       "      <td>First they \"lost\" my order, actually they gave...</td>\n",
       "    </tr>\n",
       "    <tr>\n",
       "      <th>3</th>\n",
       "      <td>679455656</td>\n",
       "      <td>False</td>\n",
       "      <td>finalized</td>\n",
       "      <td>3</td>\n",
       "      <td>2/21/15 0:27</td>\n",
       "      <td>na</td>\n",
       "      <td>0.6667</td>\n",
       "      <td>Atlanta</td>\n",
       "      <td>NaN</td>\n",
       "      <td>I see I'm not the only one giving 1 star. Only...</td>\n",
       "    </tr>\n",
       "    <tr>\n",
       "      <th>4</th>\n",
       "      <td>679455657</td>\n",
       "      <td>False</td>\n",
       "      <td>finalized</td>\n",
       "      <td>3</td>\n",
       "      <td>2/21/15 0:27</td>\n",
       "      <td>RudeService</td>\n",
       "      <td>1</td>\n",
       "      <td>Atlanta</td>\n",
       "      <td>NaN</td>\n",
       "      <td>Well, it's McDonald's, so you know what the fo...</td>\n",
       "    </tr>\n",
       "  </tbody>\n",
       "</table>\n",
       "</div>"
      ],
      "text/plain": [
       "    _unit_id  _golden _unit_state  _trusted_judgments _last_judgment_at  \\\n",
       "0  679455653    False   finalized                   3      2/21/15 0:36   \n",
       "1  679455654    False   finalized                   3      2/21/15 0:27   \n",
       "2  679455655    False   finalized                   3      2/21/15 0:26   \n",
       "3  679455656    False   finalized                   3      2/21/15 0:27   \n",
       "4  679455657    False   finalized                   3      2/21/15 0:27   \n",
       "\n",
       "                   policies_violated policies_violated:confidence     city  \\\n",
       "0  RudeService\\rOrderProblem\\rFilthy          1.0\\r0.6667\\r0.6667  Atlanta   \n",
       "1                        RudeService                            1  Atlanta   \n",
       "2          SlowService\\rOrderProblem                     1.0\\r1.0  Atlanta   \n",
       "3                                 na                       0.6667  Atlanta   \n",
       "4                        RudeService                            1  Atlanta   \n",
       "\n",
       "   policies_violated_gold                                             review  \n",
       "0                     NaN  I'm not a huge mcds lover, but I've been to be...  \n",
       "1                     NaN  Terrible customer service. Î¾I came in at 9:30...  \n",
       "2                     NaN  First they \"lost\" my order, actually they gave...  \n",
       "3                     NaN  I see I'm not the only one giving 1 star. Only...  \n",
       "4                     NaN  Well, it's McDonald's, so you know what the fo...  "
      ]
     },
     "execution_count": 112,
     "metadata": {},
     "output_type": "execute_result"
    }
   ],
   "source": [
    "df_yelp_mc = pd.read_csv('McDonalds-Yelp-Sentiment-DFE.csv', encoding = \"ISO-8859-1\")\n",
    "df_yelp_mc.head()"
   ]
  },
  {
   "cell_type": "code",
   "execution_count": 113,
   "metadata": {},
   "outputs": [],
   "source": [
    "# read the list from beef price\n",
    "df_list_beef = pd.read_html(\"https://www.indexmundi.com/commodities/?commodity=beef&months=60\")\n",
    "\n",
    "beef_list = pd.read_html(\"https://www.indexmundi.com/commodities/?commodity=beef&months=60\")\n",
    "\n",
    "beef_df = beef_list[1]"
   ]
  },
  {
   "cell_type": "code",
   "execution_count": 114,
   "metadata": {},
   "outputs": [
    {
     "data": {
      "text/html": [
       "<div>\n",
       "<style scoped>\n",
       "    .dataframe tbody tr th:only-of-type {\n",
       "        vertical-align: middle;\n",
       "    }\n",
       "\n",
       "    .dataframe tbody tr th {\n",
       "        vertical-align: top;\n",
       "    }\n",
       "\n",
       "    .dataframe thead th {\n",
       "        text-align: right;\n",
       "    }\n",
       "</style>\n",
       "<table border=\"1\" class=\"dataframe\">\n",
       "  <thead>\n",
       "    <tr style=\"text-align: right;\">\n",
       "      <th></th>\n",
       "      <th>DATE</th>\n",
       "      <th>Price</th>\n",
       "    </tr>\n",
       "  </thead>\n",
       "  <tbody>\n",
       "    <tr>\n",
       "      <th>0</th>\n",
       "      <td>1990-12-01</td>\n",
       "      <td>100.0</td>\n",
       "    </tr>\n",
       "    <tr>\n",
       "      <th>1</th>\n",
       "      <td>1991-01-01</td>\n",
       "      <td>100.8</td>\n",
       "    </tr>\n",
       "    <tr>\n",
       "      <th>2</th>\n",
       "      <td>1991-02-01</td>\n",
       "      <td>100.9</td>\n",
       "    </tr>\n",
       "    <tr>\n",
       "      <th>3</th>\n",
       "      <td>1991-03-01</td>\n",
       "      <td>100.7</td>\n",
       "    </tr>\n",
       "    <tr>\n",
       "      <th>4</th>\n",
       "      <td>1991-04-01</td>\n",
       "      <td>100.6</td>\n",
       "    </tr>\n",
       "  </tbody>\n",
       "</table>\n",
       "</div>"
      ],
      "text/plain": [
       "        DATE  Price\n",
       "0 1990-12-01  100.0\n",
       "1 1991-01-01  100.8\n",
       "2 1991-02-01  100.9\n",
       "3 1991-03-01  100.7\n",
       "4 1991-04-01  100.6"
      ]
     },
     "execution_count": 114,
     "metadata": {},
     "output_type": "execute_result"
    }
   ],
   "source": [
    "# read the monthly potato price from 1990-12-01 to 2019-03-01\n",
    "monthly_potato_price = pd.read_excel(\"Producer Price Index for Potato.xls\")\n",
    "\n",
    "# rename the producer price index\n",
    "monthly_potato_price = monthly_potato_price.rename(index=str, columns={\"WPU024502\": \"Price\"})\n",
    "\n",
    "monthly_potato_price.head()"
   ]
  },
  {
   "cell_type": "code",
   "execution_count": 115,
   "metadata": {},
   "outputs": [
    {
     "data": {
      "text/html": [
       "<div>\n",
       "<style scoped>\n",
       "    .dataframe tbody tr th:only-of-type {\n",
       "        vertical-align: middle;\n",
       "    }\n",
       "\n",
       "    .dataframe tbody tr th {\n",
       "        vertical-align: top;\n",
       "    }\n",
       "\n",
       "    .dataframe thead th {\n",
       "        text-align: right;\n",
       "    }\n",
       "</style>\n",
       "<table border=\"1\" class=\"dataframe\">\n",
       "  <thead>\n",
       "    <tr style=\"text-align: right;\">\n",
       "      <th></th>\n",
       "      <th>Unnamed: 0</th>\n",
       "      <th>Unnamed: 1</th>\n",
       "      <th>Unnamed: 2</th>\n",
       "    </tr>\n",
       "  </thead>\n",
       "  <tbody>\n",
       "    <tr>\n",
       "      <th>0</th>\n",
       "      <td>NaN</td>\n",
       "      <td>NaN</td>\n",
       "      <td>NaN</td>\n",
       "    </tr>\n",
       "    <tr>\n",
       "      <th>1</th>\n",
       "      <td>NaN</td>\n",
       "      <td>Number of establishments in the U.S. fast food...</td>\n",
       "      <td>NaN</td>\n",
       "    </tr>\n",
       "    <tr>\n",
       "      <th>2</th>\n",
       "      <td>NaN</td>\n",
       "      <td>Number of establishments in the United States ...</td>\n",
       "      <td>NaN</td>\n",
       "    </tr>\n",
       "    <tr>\n",
       "      <th>3</th>\n",
       "      <td>NaN</td>\n",
       "      <td>NaN</td>\n",
       "      <td>Number of establishments</td>\n",
       "    </tr>\n",
       "    <tr>\n",
       "      <th>4</th>\n",
       "      <td>NaN</td>\n",
       "      <td>2004</td>\n",
       "      <td>201667</td>\n",
       "    </tr>\n",
       "  </tbody>\n",
       "</table>\n",
       "</div>"
      ],
      "text/plain": [
       "   Unnamed: 0                                         Unnamed: 1  \\\n",
       "0         NaN                                                NaN   \n",
       "1         NaN  Number of establishments in the U.S. fast food...   \n",
       "2         NaN  Number of establishments in the United States ...   \n",
       "3         NaN                                                NaN   \n",
       "4         NaN                                               2004   \n",
       "\n",
       "                 Unnamed: 2  \n",
       "0                       NaN  \n",
       "1                       NaN  \n",
       "2                       NaN  \n",
       "3  Number of establishments  \n",
       "4                    201667  "
      ]
     },
     "execution_count": 115,
     "metadata": {},
     "output_type": "execute_result"
    }
   ],
   "source": [
    "establishments = pd.read_excel(\"Number of establishments in the United States fast food industry.xlsx\")\n",
    "establishments.head()"
   ]
  },
  {
   "cell_type": "code",
   "execution_count": 116,
   "metadata": {},
   "outputs": [],
   "source": [
    "df_stock = pd.read_csv(\"McDonald's Stock.csv\")\n",
    "\n",
    "df_list = pd.read_html(\"https://www.macrotrends.net/stocks/charts/MCD/mcdonalds/revenue\")\n",
    "df_yearly = df_list[0]\n",
    "df_quarterly = df_list[1]"
   ]
  },
  {
   "cell_type": "markdown",
   "metadata": {},
   "source": [
    "# Data Cleaning"
   ]
  },
  {
   "cell_type": "markdown",
   "metadata": {},
   "source": [
    "Logistics\n",
    "        Our process of cleaning and preprocessing can be divided into two parts: set a time range and excluding unrelatable information.\n",
    "         Since we have a lot of different variables, and some of the datasets are as detailed as per day, some are as general as per year, after looking at all the datasets, we find that the time period from September 2014 to March 2018 is a good overlapping time period among all our datasets. \n",
    "        On the other hand, while some of our datasets include global information, or information that is other than McDonald’s(all fast food restaurants), we decide to use McDonald’s data. \n",
    "\n"
   ]
  },
  {
   "cell_type": "markdown",
   "metadata": {},
   "source": [
    "To discuss in detail, we picked only part of crucial features: revenue, beef price, potato price, average stock price, stock volume, and total transaction value. The data found was well formatted, but because it came from multiple sources we had to extract data that overlapped to show the relationship between the information found. The data found was divided into monthly values, but because our analysis was based on quarterly revenue we began by grouping the monthly values into their quarterly relationship. After grouping the data, we removed data that did not overlap. Although we found large amounts of data we had to condense the total points not only by a fraction by three but also had to remove the quarters before 2013 and after early 2018. The data also contained symbols that would not allow us to perform the calculations needed to form predictions for regression so removing unnecessary characters was also a large portion of the cleaning process. To further simplify creating a visualization we combined the multiple data frames created and removed the unnecessary data from each one. \n",
    "\n"
   ]
  },
  {
   "cell_type": "markdown",
   "metadata": {},
   "source": [
    "Load stock data, and pick Volume and Close price as features. Then use quarter as index and calculate average or total value for each quarter."
   ]
  },
  {
   "cell_type": "code",
   "execution_count": 117,
   "metadata": {},
   "outputs": [],
   "source": [
    "df_list = pd.read_html(\"https://www.macrotrends.net/stocks/charts/MCD/mcdonalds/revenue\")\n",
    "df_yearly = df_list[0]\n",
    "df_quarterly = df_list[1]\n",
    "\n",
    "#clean stock\n",
    "df_stock_c = pd.DataFrame(df_stock[['Date', 'Close', 'Volume']])\n",
    "df_stock_c['Value'] = df_stock_c.Close * df_stock_c.Volume\n",
    "#print(df_stock_c)\n",
    "\n",
    "df_stock_c['Quarter'] = np.nan\n",
    "df_stock_c['Count'] = 1\n",
    "for i in range(len(df_stock_c['Date'])):\n",
    "    dates = df_stock_c['Date'][i].split('-')\n",
    "    qt = (int(dates[0])-2013)*4 + int((int(dates[1])-1)/3) - 5\n",
    "    df_stock_c.iloc[i, df_stock_c.columns.get_loc('Quarter')] = qt\n",
    "    \n",
    "df_stock_c.drop(df_stock_c[df_stock_c['Quarter'] < 0].index, inplace = True)\n",
    "df_stk = pd.DataFrame(df_stock_c.groupby('Quarter').sum())\n",
    "df_stk['Avg_Close'] = df_stk.Close / df_stk.Count\n",
    "df_stk = pd.DataFrame(df_stk[['Volume', 'Value', 'Avg_Close']])\n",
    "\n",
    "\n",
    "#stock cleaned, quarter 0 = 2013 Q4"
   ]
  },
  {
   "cell_type": "markdown",
   "metadata": {},
   "source": [
    "Clean revenue data. Pick datapoints from the same time period"
   ]
  },
  {
   "cell_type": "code",
   "execution_count": 118,
   "metadata": {},
   "outputs": [],
   "source": [
    "#clean revenue\n",
    "\n",
    "df_quarterly.columns = ['Date', 'Revenue']\n",
    "df_quarterly['Quarter'] = np.nan\n",
    "for j in range(len(df_quarterly['Date'])):\n",
    "    dates = df_quarterly['Date'][j].split(' ')\n",
    "    q = dates[0]\n",
    "    q = q.replace('Q', '')\n",
    "    qt = int(q) - 7 + ((int(dates[1])-2013) * 4)\n",
    "    df_quarterly.iloc[j, df_quarterly.columns.get_loc('Quarter')] = qt\n",
    "    df_quarterly.iloc[j, df_quarterly.columns.get_loc('Revenue')] = int(df_quarterly.iloc[j, df_quarterly.columns.get_loc('Revenue')].replace(\"$\", '').replace(',', ''))\n",
    "\n",
    "df_quarterly.drop(df_quarterly[df_quarterly['Quarter'] < 0].index, inplace = True)\n",
    "df_quarterly.drop(df_quarterly[df_quarterly['Quarter'] > 14].index, inplace = True)"
   ]
  },
  {
   "cell_type": "markdown",
   "metadata": {},
   "source": [
    "Clean beef price. Leave only price as feature and set quarter as index."
   ]
  },
  {
   "cell_type": "code",
   "execution_count": 119,
   "metadata": {},
   "outputs": [],
   "source": [
    "# clean beef price\n",
    "price_q_df = pd.DataFrame(columns=['Quarter', 'Beef Price', 'Change'])\n",
    "\n",
    "k = 0\n",
    "average_price = 0\n",
    "average_price_list = []\n",
    "for i in beef_df['Price']:\n",
    "    average_price = average_price + float(i)\n",
    "    k = k + 1\n",
    "    if k % 3 == 0:\n",
    "        average_price_list.append(average_price/3)\n",
    "        average_price = 0\n",
    "\n",
    "average_change_list = []\n",
    "average_change = 0\n",
    "k = 0\n",
    "\n",
    "for i in beef_df['Change']:\n",
    "    if i == \"-\":\n",
    "        average_change = 0\n",
    "    else:\n",
    "        if \"-\" in i:\n",
    "            t = i.replace(\"-\", \" \")\n",
    "            temp = t.split(\" \")        \n",
    "            average_change = average_change + ((float(temp[1]) * -1)/3)\n",
    "\n",
    "        else:\n",
    "            temp = i.split(\" \")\n",
    "            average_change = average_change + (float(temp[0])/3)\n",
    "            \n",
    "    k = k + 1\n",
    "    if k % 3 == 0:\n",
    "        average_change_list.append(average_change)\n",
    "        average_change = 0\n",
    "        \n",
    "quarter_list = []\n",
    "for i in range(20):\n",
    "    quarter_list.append(i)\n",
    "    \n",
    "price_q_df['Beef Price'] = average_price_list\n",
    "price_q_df['Change'] = average_change_list\n",
    "price_q_df['Quarter'] = quarter_list\n",
    "\n",
    "price_q_df.drop(price_q_df[price_q_df['Quarter'] > 14].index, inplace = True)"
   ]
  },
  {
   "cell_type": "markdown",
   "metadata": {},
   "source": [
    "Clean potato price, in the same way as beef price"
   ]
  },
  {
   "cell_type": "code",
   "execution_count": 120,
   "metadata": {},
   "outputs": [
    {
     "data": {
      "text/html": [
       "<div>\n",
       "<style scoped>\n",
       "    .dataframe tbody tr th:only-of-type {\n",
       "        vertical-align: middle;\n",
       "    }\n",
       "\n",
       "    .dataframe tbody tr th {\n",
       "        vertical-align: top;\n",
       "    }\n",
       "\n",
       "    .dataframe thead th {\n",
       "        text-align: right;\n",
       "    }\n",
       "</style>\n",
       "<table border=\"1\" class=\"dataframe\">\n",
       "  <thead>\n",
       "    <tr style=\"text-align: right;\">\n",
       "      <th></th>\n",
       "      <th>Revenue</th>\n",
       "      <th>Beef Price</th>\n",
       "      <th>Volume</th>\n",
       "      <th>Value</th>\n",
       "      <th>Avg_Close</th>\n",
       "      <th>Potato Price</th>\n",
       "    </tr>\n",
       "    <tr>\n",
       "      <th>Quarter</th>\n",
       "      <th></th>\n",
       "      <th></th>\n",
       "      <th></th>\n",
       "      <th></th>\n",
       "      <th></th>\n",
       "      <th></th>\n",
       "    </tr>\n",
       "  </thead>\n",
       "  <tbody>\n",
       "    <tr>\n",
       "      <th>0.0</th>\n",
       "      <td>6987</td>\n",
       "      <td>4.570000</td>\n",
       "      <td>288422900.0</td>\n",
       "      <td>2.906975e+10</td>\n",
       "      <td>100.952857</td>\n",
       "      <td>188.433333</td>\n",
       "    </tr>\n",
       "    <tr>\n",
       "      <th>1.0</th>\n",
       "      <td>6572</td>\n",
       "      <td>5.873333</td>\n",
       "      <td>366295834.0</td>\n",
       "      <td>3.483240e+10</td>\n",
       "      <td>95.377656</td>\n",
       "      <td>189.033333</td>\n",
       "    </tr>\n",
       "    <tr>\n",
       "      <th>2.0</th>\n",
       "      <td>5959</td>\n",
       "      <td>5.480000</td>\n",
       "      <td>397954140.0</td>\n",
       "      <td>3.703380e+10</td>\n",
       "      <td>93.611406</td>\n",
       "      <td>189.600000</td>\n",
       "    </tr>\n",
       "    <tr>\n",
       "      <th>3.0</th>\n",
       "      <td>6498</td>\n",
       "      <td>4.806667</td>\n",
       "      <td>458754908.0</td>\n",
       "      <td>4.362340e+10</td>\n",
       "      <td>94.875246</td>\n",
       "      <td>189.233333</td>\n",
       "    </tr>\n",
       "    <tr>\n",
       "      <th>4.0</th>\n",
       "      <td>6615</td>\n",
       "      <td>4.530000</td>\n",
       "      <td>378236499.0</td>\n",
       "      <td>3.663023e+10</td>\n",
       "      <td>96.723492</td>\n",
       "      <td>188.966667</td>\n",
       "    </tr>\n",
       "  </tbody>\n",
       "</table>\n",
       "</div>"
      ],
      "text/plain": [
       "         Revenue  Beef Price       Volume         Value   Avg_Close  \\\n",
       "Quarter                                                               \n",
       "0.0         6987    4.570000  288422900.0  2.906975e+10  100.952857   \n",
       "1.0         6572    5.873333  366295834.0  3.483240e+10   95.377656   \n",
       "2.0         5959    5.480000  397954140.0  3.703380e+10   93.611406   \n",
       "3.0         6498    4.806667  458754908.0  4.362340e+10   94.875246   \n",
       "4.0         6615    4.530000  378236499.0  3.663023e+10   96.723492   \n",
       "\n",
       "         Potato Price  \n",
       "Quarter                \n",
       "0.0        188.433333  \n",
       "1.0        189.033333  \n",
       "2.0        189.600000  \n",
       "3.0        189.233333  \n",
       "4.0        188.966667  "
      ]
     },
     "execution_count": 120,
     "metadata": {},
     "output_type": "execute_result"
    }
   ],
   "source": [
    "# clean potato price\n",
    "\n",
    "df_potato_c = monthly_potato_price\n",
    "df_potato_c['Quarter'] = np.nan\n",
    "df_potato_c['Count'] = 1\n",
    "for i in range(len(df_potato_c['DATE'])):\n",
    "    dates = str(df_potato_c['DATE'][i]).split('-')\n",
    "    qt = (int(dates[0])-2013)*4 + int((int(dates[1])-1)/3) - 5\n",
    "    df_potato_c.iloc[i, df_potato_c.columns.get_loc('Quarter')] = qt\n",
    "\n",
    "df_potato_c.drop(df_potato_c[df_potato_c['Quarter'] < 0].index, inplace = True)\n",
    "df_potato_c.drop(df_potato_c[df_potato_c['Quarter'] > 14].index, inplace = True)\n",
    "\n",
    "df_potato_c = pd.DataFrame(df_potato_c.groupby('Quarter').sum())\n",
    "df_potato_c['Potato Price'] = df_potato_c.Price / df_potato_c.Count\n",
    "df_potato_c = pd.DataFrame(df_potato_c[['Potato Price']])\n",
    "\n",
    "\n",
    "df_quarterly = df_quarterly.sort_values('Quarter', ascending = 1)\n",
    "#for idx in reversed(df_quartley.index):\n",
    "# print(idx, df_quartley.Even[idx], df_quartley.Odd[idx])\n",
    "\n",
    "\n",
    "df_quarterly = df_quarterly.set_index('Quarter')\n",
    "price_q_df = price_q_df.set_index('Quarter')\n",
    "frames = [df_quarterly, price_q_df, df_stk, df_potato_c]\n",
    "#df_stk.set_index('Quarter')\n",
    "result = pd.concat(frames, axis=1)\n",
    "result = result.drop(['Date', 'Change'], axis=1)\n",
    "result.head()"
   ]
  },
  {
   "cell_type": "markdown",
   "metadata": {},
   "source": [
    "Plot data"
   ]
  },
  {
   "cell_type": "code",
   "execution_count": 121,
   "metadata": {},
   "outputs": [
    {
     "data": {
      "text/plain": [
       "<matplotlib.legend.Legend at 0x1c28bbeeb8>"
      ]
     },
     "execution_count": 121,
     "metadata": {},
     "output_type": "execute_result"
    },
    {
     "data": {
      "image/png": "[encoded data removed]",
      "text/plain": [
       "<Figure size 432x288 with 1 Axes>"
      ]
     },
     "metadata": {
      "needs_background": "light"
     },
     "output_type": "display_data"
    }
   ],
   "source": [
    "plot.plot(result.index, result['Revenue']/1000, color = 'blue', label = 'Revenue * 1000')\n",
    "plot.plot(result.index, result['Potato Price']/25, color = 'green', label = 'Potato Price * 25')\n",
    "plot.plot(result.index, result['Beef Price'], color = 'yellow')\n",
    "plot.plot(result.index, result['Avg_Close']/20, color = 'red', label = 'Stock Price * 20')\n",
    "plot.plot(result.index, result['Volume']/50000000, color = 'black', label = 'Stock Volume * 50000000')\n",
    "plot.xlabel('Quarter')\n",
    "plot.legend()"
   ]
  },
  {
   "cell_type": "markdown",
   "metadata": {},
   "source": [
    "This chart above shows the distribution of data points in our five different variables. The x-axis represents the time and the y-axis represent the correlation value. Different lines represent different types of variables."
   ]
  },
  {
   "cell_type": "markdown",
   "metadata": {},
   "source": [
    "# Data Analysis & Results"
   ]
  },
  {
   "cell_type": "markdown",
   "metadata": {},
   "source": [
    "From the six datasets, we are able to extract information and use them to analyze the affecting factors of McDonald’s revenue, the reference of McDonald’s revenue and the business plan of McDonald’s. We have the two datasets which are sources of our affecting factors of McDonald’s revenue(beef price, potato price). We have stock market information as one way to refer to McDonald’s business competitive capacity as well as a reference of its demand side, and we have both number of fast food restaurants change over year and the number of McDonald’s over different states to analyze McDonald’s business decision to benefit its revenue. We would like to construct a model to see if the factors we analyze are actually correlate with each other and affecting McDonald’s business decision.\n",
    "\n"
   ]
  },
  {
   "cell_type": "markdown",
   "metadata": {},
   "source": [
    "We apply a linear regression model to analyze connections between data. The DataFrame cleaned above is used as training set, where y is set to McDonald's quarterly revenue, and X includes 5 dimensions: beef price, potato price, stock price, stock volume, and total stock transaction value."
   ]
  },
  {
   "cell_type": "code",
   "execution_count": 122,
   "metadata": {},
   "outputs": [
    {
     "name": "stdout",
     "output_type": "stream",
     "text": [
      "0.7130419582091905\n",
      "[ 7.22739140e+01 -5.73620268e-06  4.47507757e-08 -1.67816202e+01\n",
      " -6.99996639e+01]\n"
     ]
    }
   ],
   "source": [
    "#Apply Linear regression to see relationships between features\n",
    "\n",
    "\n",
    "y = result['Revenue'].values\n",
    "x = result.drop('Revenue', axis = 1).values\n",
    "model = LinearRegression()\n",
    "model.fit(x,y)\n",
    "sq = model.score(x,y)\n",
    "print(sq)\n",
    "print(model.coef_)"
   ]
  },
  {
   "cell_type": "markdown",
   "metadata": {},
   "source": [
    "Test the prediction model with some data"
   ]
  },
  {
   "cell_type": "code",
   "execution_count": 123,
   "metadata": {},
   "outputs": [
    {
     "name": "stdout",
     "output_type": "stream",
     "text": [
      "7071.895846040818\n",
      "4673.303745123605\n"
     ]
    }
   ],
   "source": [
    "test_x = [[15, 200000000, 30000000000, 100, 200]]\n",
    "current_x = [[4.46, 252960000, 51350880000, 203, 208]]\n",
    "print(model.predict(test_x)[0])\n",
    "print(model.predict(current_x)[0])"
   ]
  },
  {
   "cell_type": "markdown",
   "metadata": {},
   "source": [
    "This chart shows the relationship between revenue and beef prices, and a prediction curve. The x-axis represent the beef price (US dollar per kilogram) and the y-axis represent the McDonald’s revenue(US dollar). These data points are scattered with large deviation and shows a weak positive connection between revenue and beef prices. (Coefficient:7.22739140e+01)\n",
    "\n"
   ]
  },
  {
   "cell_type": "code",
   "execution_count": 124,
   "metadata": {},
   "outputs": [
    {
     "data": {
      "text/plain": [
       "Text(0, 0.5, 'revenue')"
      ]
     },
     "execution_count": 124,
     "metadata": {},
     "output_type": "execute_result"
    },
    {
     "data": {
      "image/png": "[encoded data removed]",
      "text/plain": [
       "<Figure size 432x288 with 1 Axes>"
      ]
     },
     "metadata": {
      "needs_background": "light"
     },
     "output_type": "display_data"
    }
   ],
   "source": [
    "plot.scatter(result['Beef Price'].values ,y,color=\"red\")\n",
    "rg = np.array(range(3,7))\n",
    "yrg = 72.273 * rg + (21470/3.75)\n",
    "plot.plot(rg, yrg, color = 'blue')\n",
    "plot.xlabel('beef price')\n",
    "plot.ylabel('revenue')\n",
    "\n"
   ]
  },
  {
   "cell_type": "markdown",
   "metadata": {},
   "source": [
    "This chart shows the relationship between revenue and potato prices, and a prediction curve. The x-axis represent the potato price (US dollar) and the y-axis represent the McDonald’s revenue(US dollar)The deviation of data points is low, showing a strong linear negative connection between revenue and potato price.(Coefficient: -6.99996639e+01)"
   ]
  },
  {
   "cell_type": "code",
   "execution_count": 125,
   "metadata": {},
   "outputs": [
    {
     "data": {
      "text/plain": [
       "Text(0, 0.5, 'revenue')"
      ]
     },
     "execution_count": 125,
     "metadata": {},
     "output_type": "execute_result"
    },
    {
     "data": {
      "image/png": "[encoded data removed]",
      "text/plain": [
       "<Figure size 432x288 with 1 Axes>"
      ]
     },
     "metadata": {
      "needs_background": "light"
     },
     "output_type": "display_data"
    }
   ],
   "source": [
    "plot.scatter(result['Potato Price'].values ,y,color=\"red\")\n",
    "rg = np.array(range(175,225))\n",
    "yrg = -69.9996639 * rg + (21470/1.1)\n",
    "plot.plot(rg, yrg, color = 'blue')\n",
    "plot.xlabel('potato price')\n",
    "plot.ylabel('revenue')"
   ]
  },
  {
   "cell_type": "markdown",
   "metadata": {},
   "source": [
    "This chart shows the relationship between average McDonald’s stock price and its revenue, and a prediction curve. The x-axis represent the average stock price (US dollar) and the y-axis represent the McDonald’s revenue(US dollar). The data points have intermediate devitation and suggest some negative connections between revenue and stock price. (Coefficient: -1.67816202e+01 )\n",
    "\n"
   ]
  },
  {
   "cell_type": "code",
   "execution_count": 126,
   "metadata": {},
   "outputs": [
    {
     "data": {
      "text/plain": [
       "Text(0, 0.5, 'revenue')"
      ]
     },
     "execution_count": 126,
     "metadata": {},
     "output_type": "execute_result"
    },
    {
     "data": {
      "image/png": "[encoded data removed]",
      "text/plain": [
       "<Figure size 432x288 with 1 Axes>"
      ]
     },
     "metadata": {
      "needs_background": "light"
     },
     "output_type": "display_data"
    }
   ],
   "source": [
    "\n",
    "plot.scatter(result['Avg_Close'].values ,y,color=\"red\")\n",
    "\n",
    "rg = np.array(range(93,170))\n",
    "yrg = -16.7 * rg + (21470/2.65)\n",
    "plot.plot(rg, yrg, color = 'blue')\n",
    "plot.xlabel('Avg Close')\n",
    "plot.ylabel('revenue')"
   ]
  },
  {
   "cell_type": "markdown",
   "metadata": {},
   "source": [
    "This chart shows the relationship between revenue and stock volume, and a prediction curve. The x-axis represent the stock volume and the y-axis represent the McDonald’s revenue(US dollar) The prediction curve does not fit data points well and fails to show connections.(Coefficient: -5.73620268e-06)"
   ]
  },
  {
   "cell_type": "code",
   "execution_count": 127,
   "metadata": {},
   "outputs": [
    {
     "data": {
      "text/plain": [
       "Text(0, 0.5, 'Revenue')"
      ]
     },
     "execution_count": 127,
     "metadata": {},
     "output_type": "execute_result"
    },
    {
     "data": {
      "image/png": "[encoded data removed]",
      "text/plain": [
       "<Figure size 432x288 with 1 Axes>"
      ]
     },
     "metadata": {
      "needs_background": "light"
     },
     "output_type": "display_data"
    }
   ],
   "source": [
    "plot.scatter((result['Volume']/1000000).values ,y,color=\"red\")\n",
    "\n",
    "rg = np.array(range(180,488))\n",
    "#yrg = 0*rg+ 5000\n",
    "yrg = -5.73 * rg + (21470)/2.75\n",
    "plot.plot(rg, yrg, color = 'blue')\n",
    "plot.xlabel('Volume')\n",
    "plot.ylabel('Revenue')"
   ]
  },
  {
   "cell_type": "markdown",
   "metadata": {},
   "source": [
    "In conclusion, potato price and stock price are the most sigficant factors affecting McDonald's revenue, each clearly showing a negative linear connection. On the other hand, stock volume does not seem to relate well to revenue. Although not well fit, the model predicts somewhat positive connection between beef price and revenue.\n",
    "The conlusion about potato price is the only one that matches our hypothesis, while the others suggest the opposite way."
   ]
  },
  {
   "cell_type": "markdown",
   "metadata": {},
   "source": [
    "One possible way to explain the unexpected postivie relationship between the beef prices and McDonald's revenue is the theory of inferior goods. In economic aspect, if the good is considered as inferior, then when the price of the normal goods increses, people will consume more of this goods as substitudes. In our case, other beef meal such as steak might be the normal goods, and McDonald's ground beaf burger might be the inferior goods. When the price of steak increases, people cannot afford that much, so they choose McDonald's as cheaper substitudes. In order to test this assumptions(which also contributes to our analysis in part two), we decide to plot the relationship between the average income of every state and the number of McDonald's to have a sense"
   ]
  },
  {
   "cell_type": "code",
   "execution_count": 128,
   "metadata": {},
   "outputs": [],
   "source": [
    "# Average income data\n",
    "p_m_df = pd.read_html('https://www.csun.edu/~sg4002/research/mcdonalds_by_state.htm')[0]\n",
    "p_m_df.columns = ['st','mc', 'pd', 'more', 'rank','pp','mp','df','rk']\n",
    "P_m_df = pd.DataFrame(p_m_df[['mp']][1:51])\n",
    "\n",
    "\n",
    "in_df = pd.read_html('https://www.infoplease.com/business-finance/poverty-and-income/capita-personal-income-state')[0]\n",
    "In_df = pd.DataFrame(in_df[['2015']])[0:51]\n",
    "In_df['2015'] = In_df['2015'].replace(',','', regex=True)\n",
    "In_df.loc[0,'2015'] = 38965\n",
    "In_df.loc[26,'2015'] = 41280\n",
    "In_df = pd.DataFrame(In_df[In_df['2015']!='71496'])\n"
   ]
  },
  {
   "cell_type": "code",
   "execution_count": 129,
   "metadata": {},
   "outputs": [
    {
     "name": "stderr",
     "output_type": "stream",
     "text": [
      "/Users/stevenwu/anaconda3/lib/python3.7/site-packages/ipykernel_launcher.py:11: MatplotlibDeprecationWarning: Adding an axes using the same arguments as a previous axes currently reuses the earlier instance.  In a future version, a new instance will always be created and returned.  Meanwhile, this warning can be suppressed, and the future behavior ensured, by passing a unique label to each axes instance.\n",
      "  # This is added back by InteractiveShellApp.init_path()\n"
     ]
    },
    {
     "data": {
      "text/plain": [
       "Text(0, 0.5, 'McDonalds per capita')"
      ]
     },
     "execution_count": 129,
     "metadata": {},
     "output_type": "execute_result"
    },
    {
     "data": {
      "image/png": "[encoded data removed]",
      "text/plain": [
       "<Figure size 432x288 with 1 Axes>"
      ]
     },
     "metadata": {
      "needs_background": "light"
     },
     "output_type": "display_data"
    }
   ],
   "source": [
    "y2 = [float(i) for i in P_m_df['mp'].values]\n",
    "x2 = In_df['2015'].values.reshape(-1,1)\n",
    "model2 = LinearRegression()\n",
    "model2.fit(x2,y2)\n",
    "\n",
    "\n",
    "plot.scatter(x2 ,y2,color=\"red\")\n",
    "rg = np.array(range(35000,68000))\n",
    "yrg = -0.00003 * rg + (model2.intercept_ * 1)\n",
    "\n",
    "ax1 = plot.subplot(111)\n",
    "plot.plot(rg, yrg, color = 'blue')\n",
    "plot.xlabel('Average Income')\n",
    "plot.ylabel('McDonalds per capita')"
   ]
  },
  {
   "cell_type": "markdown",
   "metadata": {},
   "source": [
    "This prediction somehow shows a relationship between average income and number of McDonald's per capita, which possibly contributes to our explaination."
   ]
  },
  {
   "cell_type": "markdown",
   "metadata": {},
   "source": [
    "# Part 2: Saler Side"
   ]
  },
  {
   "cell_type": "markdown",
   "metadata": {},
   "source": [
    "# Background and Prior Work"
   ]
  },
  {
   "cell_type": "markdown",
   "metadata": {},
   "source": [
    "After we concluded several factors are correlated with McDonald's revenues, we are now interested in how McDonald's acts as a seller in the fast food market. \n",
    "\n",
    "This published paper interprets the regional advertising strategies of McDonald's and how consumer's awareness can affect McDonald's strategies. It helps us relate consumer sentiments with McDonald's regional strategies. \n",
    "\n",
    "* Gerhardt, Hazen, and Lewis. (2014) “Small Business Marketing    Strategy Based on McDonald’s” Proceedings of ASBBS Volume 21 Number 1,\n",
    "http://asbbs.org/files/ASBBS2014/PDF/G/Gerhardt_Hazen_Lewis(P271-278).pdf\n",
    "\n",
    "This analysis tells us that McDonald's is growing fastly to occupy the market with several strategies. It help us to focus on the distribution of McDonald's.\n",
    "\n",
    "* Gregory, Lawrence. “McDonald's Generic Strategy & Intensive Growth Strategies.” Panmore Institute, 5 Feb. 2017, panmore.com/mcdonalds-generic-strategy-intensive-growth-strategies.\n",
    "http://panmore.com/mcdonalds-generic-strategy-intensive-growth-strategies"
   ]
  },
  {
   "cell_type": "markdown",
   "metadata": {},
   "source": [
    "# Hypothesis"
   ]
  },
  {
   "cell_type": "markdown",
   "metadata": {},
   "source": [
    "In this part of the project, we want to explore the business strategies that McDonald's might have applied. According to our background references, we find that one major strategy McDonald's uses is intensive growth through franchising, joint ventures and corporate ownership. Also, we want to know does consumer's sentiments influence McDonald's strategies. Hence, we have two assumptions for this part:\n",
    "\n",
    "\n",
    "\n",
    "\n",
    "1. McDonald's opens more restaurants in the area of which has higher population in order to occupy the market. (Within the range of America) At this point, we believe that the number of McDonald's in an area and the population of this area are highly correlated, supported by our economical intuitions. \n",
    "\n",
    "2. At the places where McDonald's open more restaurants, consumer's ratings are higher.(Within the range of America) We believe this through the logic that if consumer ratings are high, then it menas that the consumers are more willing to purchase McDonald's, so McDonald's should open more restaurants.\n",
    "\n",
    "We are going to test these two assumptions through our data. "
   ]
  },
  {
   "cell_type": "markdown",
   "metadata": {},
   "source": [
    "# Dataset(s)"
   ]
  },
  {
   "cell_type": "markdown",
   "metadata": {},
   "source": [
    "- Dataset Name: Fast Food Restaurants Across America\n",
    "- Link to the dataset: https://www.kaggle.com/datafiniti/fast-food-restaurants\n",
    "- Number of observations: 10,000 as whole, 1898 for McDonald's\n",
    "\n",
    "This is the data of each individual fast food restaurant across America, with their latitudes, longitudes, states, etc. We want to see the distribution of McDonald's nationwide through it."
   ]
  },
  {
   "cell_type": "markdown",
   "metadata": {},
   "source": [
    "- Dataset Name: \n",
    "Annual Estimates of the Resident Population for the United States, Regions, States, and Puerto Rico: April 1, 2010 to July 1, 2018 (NST-EST2018-01)\t\n",
    "- Link to the dataset: https://www.census.gov/data/tables/time-series/demo/popest/2010s-state-total.html\n",
    "- Number of observations: 50 states\n",
    "\n",
    "This dataset contains the census of America in 2018 for each state. "
   ]
  },
  {
   "cell_type": "markdown",
   "metadata": {},
   "source": [
    "- Dataset Name:Yelp Dataset\n",
    "- Link to the dataset: https://www.kaggle.com/yelp-dataset/yelp-dataset/version/4\n",
    "- Number of observations: 5,200,000 (For the entire dataset, we're going to subtract McDonald's data from it, which is seize of 695)\n",
    "\n",
    "This is the dataset contains the whole yelp reviews for 5,200,000 restaurants. We're going to take McDonald's reviews and do the analysis.\n",
    "\n",
    "We will combine this with other datasets through longitudes and latitudes."
   ]
  },
  {
   "cell_type": "markdown",
   "metadata": {},
   "source": [
    "# Setup"
   ]
  },
  {
   "cell_type": "markdown",
   "metadata": {},
   "source": [
    "First, we import the packages we need to use. "
   ]
  },
  {
   "cell_type": "code",
   "execution_count": 130,
   "metadata": {},
   "outputs": [],
   "source": [
    "import pandas as pd\n",
    "import numpy as np\n",
    "import patsy\n",
    "import statsmodels.api as sm\n",
    "import scipy.stats as stats\n",
    "from scipy.stats import ttest_ind, chisquare, normaltest\n",
    "import matplotlib.pyplot as plt "
   ]
  },
  {
   "cell_type": "markdown",
   "metadata": {},
   "source": [
    "# Data Cleaning"
   ]
  },
  {
   "cell_type": "markdown",
   "metadata": {},
   "source": [
    "We load the data into dataframes"
   ]
  },
  {
   "cell_type": "code",
   "execution_count": 131,
   "metadata": {},
   "outputs": [
    {
     "data": {
      "text/html": [
       "<div>\n",
       "<style scoped>\n",
       "    .dataframe tbody tr th:only-of-type {\n",
       "        vertical-align: middle;\n",
       "    }\n",
       "\n",
       "    .dataframe tbody tr th {\n",
       "        vertical-align: top;\n",
       "    }\n",
       "\n",
       "    .dataframe thead th {\n",
       "        text-align: right;\n",
       "    }\n",
       "</style>\n",
       "<table border=\"1\" class=\"dataframe\">\n",
       "  <thead>\n",
       "    <tr style=\"text-align: right;\">\n",
       "      <th></th>\n",
       "      <th>id</th>\n",
       "      <th>dateAdded</th>\n",
       "      <th>dateUpdated</th>\n",
       "      <th>address</th>\n",
       "      <th>categories</th>\n",
       "      <th>city</th>\n",
       "      <th>country</th>\n",
       "      <th>keys</th>\n",
       "      <th>latitude</th>\n",
       "      <th>longitude</th>\n",
       "      <th>name</th>\n",
       "      <th>postalCode</th>\n",
       "      <th>province</th>\n",
       "      <th>sourceURLs</th>\n",
       "      <th>websites</th>\n",
       "    </tr>\n",
       "  </thead>\n",
       "  <tbody>\n",
       "    <tr>\n",
       "      <th>0</th>\n",
       "      <td>AVwcmSyZIN2L1WUfmxyw</td>\n",
       "      <td>2015-10-19T23:47:58Z</td>\n",
       "      <td>2018-06-26T03:00:14Z</td>\n",
       "      <td>800 N Canal Blvd</td>\n",
       "      <td>American Restaurant and Fast Food Restaurant</td>\n",
       "      <td>Thibodaux</td>\n",
       "      <td>US</td>\n",
       "      <td>us/la/thibodaux/800ncanalblvd/1780593795</td>\n",
       "      <td>29.814697</td>\n",
       "      <td>-90.814742</td>\n",
       "      <td>SONIC Drive In</td>\n",
       "      <td>70301</td>\n",
       "      <td>LA</td>\n",
       "      <td>https://foursquare.com/v/sonic-drive-in/4b7361...</td>\n",
       "      <td>https://locations.sonicdrivein.com/la/thibodau...</td>\n",
       "    </tr>\n",
       "    <tr>\n",
       "      <th>1</th>\n",
       "      <td>AVwcmSyZIN2L1WUfmxyw</td>\n",
       "      <td>2015-10-19T23:47:58Z</td>\n",
       "      <td>2018-06-26T03:00:14Z</td>\n",
       "      <td>800 N Canal Blvd</td>\n",
       "      <td>Fast Food Restaurants</td>\n",
       "      <td>Thibodaux</td>\n",
       "      <td>US</td>\n",
       "      <td>us/la/thibodaux/800ncanalblvd/1780593795</td>\n",
       "      <td>29.814697</td>\n",
       "      <td>-90.814742</td>\n",
       "      <td>SONIC Drive In</td>\n",
       "      <td>70301</td>\n",
       "      <td>LA</td>\n",
       "      <td>https://foursquare.com/v/sonic-drive-in/4b7361...</td>\n",
       "      <td>https://locations.sonicdrivein.com/la/thibodau...</td>\n",
       "    </tr>\n",
       "    <tr>\n",
       "      <th>2</th>\n",
       "      <td>AVwcopQoByjofQCxgfVa</td>\n",
       "      <td>2016-03-29T05:06:36Z</td>\n",
       "      <td>2018-06-26T02:59:52Z</td>\n",
       "      <td>206 Wears Valley Rd</td>\n",
       "      <td>Fast Food Restaurant</td>\n",
       "      <td>Pigeon Forge</td>\n",
       "      <td>US</td>\n",
       "      <td>us/tn/pigeonforge/206wearsvalleyrd/-864103396</td>\n",
       "      <td>35.803788</td>\n",
       "      <td>-83.580553</td>\n",
       "      <td>Taco Bell</td>\n",
       "      <td>37863</td>\n",
       "      <td>TN</td>\n",
       "      <td>https://www.yellowpages.com/pigeon-forge-tn/mi...</td>\n",
       "      <td>http://www.tacobell.com,https://locations.taco...</td>\n",
       "    </tr>\n",
       "    <tr>\n",
       "      <th>3</th>\n",
       "      <td>AVweXN5RByjofQCxxilK</td>\n",
       "      <td>2017-01-03T07:46:11Z</td>\n",
       "      <td>2018-06-26T02:59:51Z</td>\n",
       "      <td>3652 Parkway</td>\n",
       "      <td>Fast Food</td>\n",
       "      <td>Pigeon Forge</td>\n",
       "      <td>US</td>\n",
       "      <td>us/tn/pigeonforge/3652parkway/93075755</td>\n",
       "      <td>35.782339</td>\n",
       "      <td>-83.551408</td>\n",
       "      <td>Arby's</td>\n",
       "      <td>37863</td>\n",
       "      <td>TN</td>\n",
       "      <td>http://www.yellowbook.com/profile/arbys_163389...</td>\n",
       "      <td>http://www.arbys.com,https://locations.arbys.c...</td>\n",
       "    </tr>\n",
       "    <tr>\n",
       "      <th>4</th>\n",
       "      <td>AWQ6MUvo3-Khe5l_j3SG</td>\n",
       "      <td>2018-06-26T02:59:43Z</td>\n",
       "      <td>2018-06-26T02:59:43Z</td>\n",
       "      <td>2118 Mt Zion Parkway</td>\n",
       "      <td>Fast Food Restaurant</td>\n",
       "      <td>Morrow</td>\n",
       "      <td>US</td>\n",
       "      <td>us/ga/morrow/2118mtzionparkway/1305117222</td>\n",
       "      <td>33.562738</td>\n",
       "      <td>-84.321143</td>\n",
       "      <td>Steak 'n Shake</td>\n",
       "      <td>30260</td>\n",
       "      <td>GA</td>\n",
       "      <td>https://foursquare.com/v/steak-n-shake/4bcf77a...</td>\n",
       "      <td>http://www.steaknshake.com/locations/23851-ste...</td>\n",
       "    </tr>\n",
       "  </tbody>\n",
       "</table>\n",
       "</div>"
      ],
      "text/plain": [
       "                     id             dateAdded           dateUpdated  \\\n",
       "0  AVwcmSyZIN2L1WUfmxyw  2015-10-19T23:47:58Z  2018-06-26T03:00:14Z   \n",
       "1  AVwcmSyZIN2L1WUfmxyw  2015-10-19T23:47:58Z  2018-06-26T03:00:14Z   \n",
       "2  AVwcopQoByjofQCxgfVa  2016-03-29T05:06:36Z  2018-06-26T02:59:52Z   \n",
       "3  AVweXN5RByjofQCxxilK  2017-01-03T07:46:11Z  2018-06-26T02:59:51Z   \n",
       "4  AWQ6MUvo3-Khe5l_j3SG  2018-06-26T02:59:43Z  2018-06-26T02:59:43Z   \n",
       "\n",
       "                address                                    categories  \\\n",
       "0      800 N Canal Blvd  American Restaurant and Fast Food Restaurant   \n",
       "1      800 N Canal Blvd                         Fast Food Restaurants   \n",
       "2   206 Wears Valley Rd                          Fast Food Restaurant   \n",
       "3          3652 Parkway                                     Fast Food   \n",
       "4  2118 Mt Zion Parkway                          Fast Food Restaurant   \n",
       "\n",
       "           city country                                           keys  \\\n",
       "0     Thibodaux      US       us/la/thibodaux/800ncanalblvd/1780593795   \n",
       "1     Thibodaux      US       us/la/thibodaux/800ncanalblvd/1780593795   \n",
       "2  Pigeon Forge      US  us/tn/pigeonforge/206wearsvalleyrd/-864103396   \n",
       "3  Pigeon Forge      US         us/tn/pigeonforge/3652parkway/93075755   \n",
       "4        Morrow      US      us/ga/morrow/2118mtzionparkway/1305117222   \n",
       "\n",
       "    latitude  longitude            name postalCode province  \\\n",
       "0  29.814697 -90.814742  SONIC Drive In      70301       LA   \n",
       "1  29.814697 -90.814742  SONIC Drive In      70301       LA   \n",
       "2  35.803788 -83.580553       Taco Bell      37863       TN   \n",
       "3  35.782339 -83.551408          Arby's      37863       TN   \n",
       "4  33.562738 -84.321143  Steak 'n Shake      30260       GA   \n",
       "\n",
       "                                          sourceURLs  \\\n",
       "0  https://foursquare.com/v/sonic-drive-in/4b7361...   \n",
       "1  https://foursquare.com/v/sonic-drive-in/4b7361...   \n",
       "2  https://www.yellowpages.com/pigeon-forge-tn/mi...   \n",
       "3  http://www.yellowbook.com/profile/arbys_163389...   \n",
       "4  https://foursquare.com/v/steak-n-shake/4bcf77a...   \n",
       "\n",
       "                                            websites  \n",
       "0  https://locations.sonicdrivein.com/la/thibodau...  \n",
       "1  https://locations.sonicdrivein.com/la/thibodau...  \n",
       "2  http://www.tacobell.com,https://locations.taco...  \n",
       "3  http://www.arbys.com,https://locations.arbys.c...  \n",
       "4  http://www.steaknshake.com/locations/23851-ste...  "
      ]
     },
     "execution_count": 131,
     "metadata": {},
     "output_type": "execute_result"
    }
   ],
   "source": [
    "# read fast food data\n",
    "df_across = pd.read_csv('Fastfood_across_nation.csv')\n",
    "df_across.head()"
   ]
  },
  {
   "cell_type": "markdown",
   "metadata": {},
   "source": [
    "We drop any null data in our dateframe. In fact, after dropping the null data we still have 10,000 rows, which means that our data doesn't contain any null values. "
   ]
  },
  {
   "cell_type": "code",
   "execution_count": 132,
   "metadata": {},
   "outputs": [],
   "source": [
    "# drop the null data\n",
    "df_across = df_across.dropna()"
   ]
  },
  {
   "cell_type": "markdown",
   "metadata": {},
   "source": [
    "Frome the name, we select McDonald's data from all fast food restaurants."
   ]
  },
  {
   "cell_type": "code",
   "execution_count": 133,
   "metadata": {},
   "outputs": [],
   "source": [
    "# take McDonald's\n",
    "df_across = df_across[(df_across.name == \"McDonald's\")]"
   ]
  },
  {
   "cell_type": "markdown",
   "metadata": {},
   "source": [
    "We drop unnecessary details such as id, dateAdded etc. and only keep latitude, longitude, and province."
   ]
  },
  {
   "cell_type": "code",
   "execution_count": 134,
   "metadata": {},
   "outputs": [],
   "source": [
    "df_across = df_across[['latitude', 'longitude', 'province', 'city']]"
   ]
  },
  {
   "cell_type": "markdown",
   "metadata": {},
   "source": [
    "Let's have a glance of this data. We plot each individual McDonald's restauranbt according to its longitude and latitude."
   ]
  },
  {
   "cell_type": "code",
   "execution_count": 135,
   "metadata": {},
   "outputs": [
    {
     "data": {
      "image/png": "[encoded data removed]",
      "text/plain": [
       "<Figure size 432x288 with 1 Axes>"
      ]
     },
     "metadata": {
      "needs_background": "light"
     },
     "output_type": "display_data"
    }
   ],
   "source": [
    "# plot McDoanld's \n",
    "df_across.plot(kind=\"scatter\", x=\"longitude\", y=\"latitude\", alpha=0.2)\n",
    "plt.show()"
   ]
  },
  {
   "cell_type": "markdown",
   "metadata": {},
   "source": [
    "From the visualization, we've noticed that the graph form the shape of America, which is great since it means that our data probably represents the McDonald's in the whole America. Also, the distribution of the dots are denser in the west coast and east coast, which follows our common senses that the population in these areas are denser. "
   ]
  },
  {
   "cell_type": "markdown",
   "metadata": {},
   "source": [
    "There are several dots outside the mainland of America. We want to know what they are."
   ]
  },
  {
   "cell_type": "code",
   "execution_count": 136,
   "metadata": {},
   "outputs": [
    {
     "data": {
      "text/plain": [
       "array(['Anchorage'], dtype=object)"
      ]
     },
     "execution_count": 136,
     "metadata": {},
     "output_type": "execute_result"
    }
   ],
   "source": [
    "# Alaska\n",
    "df_across[df_across.latitude > 50]['city'].unique()"
   ]
  },
  {
   "cell_type": "markdown",
   "metadata": {},
   "source": [
    "After googling, we know that Anchorage is the largest city in Alaska"
   ]
  },
  {
   "cell_type": "code",
   "execution_count": 137,
   "metadata": {},
   "outputs": [
    {
     "data": {
      "text/plain": [
       "array(['Honolulu', 'Anchorage', 'Makawao', 'Waianae', 'Kahului', 'Hilo'],\n",
       "      dtype=object)"
      ]
     },
     "execution_count": 137,
     "metadata": {},
     "output_type": "execute_result"
    }
   ],
   "source": [
    "# Hawaii and Alaska\n",
    "df_across[df_across.longitude < -140]['city'].unique()"
   ]
  },
  {
   "cell_type": "markdown",
   "metadata": {},
   "source": [
    "We find that ths one dot top above is Alaska, and the several dots bellow is Hawaii islands. We decide to keep these data in our dataframe, since they may represent the relationship between population and number of McDonald's too."
   ]
  },
  {
   "cell_type": "markdown",
   "metadata": {},
   "source": [
    "We also notice that the province is in acronym. In order to join the dataframe with other dataframes later, we add a column of the full names of the states."
   ]
  },
  {
   "cell_type": "code",
   "execution_count": 138,
   "metadata": {},
   "outputs": [
    {
     "name": "stderr",
     "output_type": "stream",
     "text": [
      "/Users/stevenwu/anaconda3/lib/python3.7/site-packages/ipykernel_launcher.py:3: SettingWithCopyWarning: \n",
      "A value is trying to be set on a copy of a slice from a DataFrame.\n",
      "Try using .loc[row_indexer,col_indexer] = value instead\n",
      "\n",
      "See the caveats in the documentation: http://pandas.pydata.org/pandas-docs/stable/indexing.html#indexing-view-versus-copy\n",
      "  This is separate from the ipykernel package so we can avoid doing imports until\n"
     ]
    }
   ],
   "source": [
    "# Data cleaning\n",
    "df_across_2 = df_across[['province', 'city']]\n",
    "df_across_2['city'] = 1\n",
    "df_across_sum = df_across_2.groupby('province').sum()\n",
    "df_across_sum = df_across_sum.rename(index=str, columns={\"province\": \"Ac\"})\n",
    "df_across_sum.index.names = ['Ac']\n",
    "df_across_sum = df_across_sum.rename(index=str, columns={\"city\": \"Count\"})"
   ]
  },
  {
   "cell_type": "markdown",
   "metadata": {},
   "source": [
    "Now we load the population dataset . It seems that this dataset doesn't have any missing value."
   ]
  },
  {
   "cell_type": "code",
   "execution_count": 139,
   "metadata": {},
   "outputs": [
    {
     "data": {
      "text/html": [
       "<div>\n",
       "<style scoped>\n",
       "    .dataframe tbody tr th:only-of-type {\n",
       "        vertical-align: middle;\n",
       "    }\n",
       "\n",
       "    .dataframe tbody tr th {\n",
       "        vertical-align: top;\n",
       "    }\n",
       "\n",
       "    .dataframe thead th {\n",
       "        text-align: right;\n",
       "    }\n",
       "</style>\n",
       "<table border=\"1\" class=\"dataframe\">\n",
       "  <thead>\n",
       "    <tr style=\"text-align: right;\">\n",
       "      <th></th>\n",
       "      <th>STATE</th>\n",
       "      <th>NAME</th>\n",
       "      <th>POPESTIMATE2018</th>\n",
       "      <th>POPEST18PLUS2018</th>\n",
       "      <th>PCNT_POPEST18PLUS</th>\n",
       "    </tr>\n",
       "  </thead>\n",
       "  <tbody>\n",
       "    <tr>\n",
       "      <th>0</th>\n",
       "      <td>1</td>\n",
       "      <td>Alabama</td>\n",
       "      <td>4887871</td>\n",
       "      <td>3798031</td>\n",
       "      <td>77.7</td>\n",
       "    </tr>\n",
       "    <tr>\n",
       "      <th>1</th>\n",
       "      <td>2</td>\n",
       "      <td>Alaska</td>\n",
       "      <td>737438</td>\n",
       "      <td>553622</td>\n",
       "      <td>75.1</td>\n",
       "    </tr>\n",
       "    <tr>\n",
       "      <th>2</th>\n",
       "      <td>4</td>\n",
       "      <td>Arizona</td>\n",
       "      <td>7171646</td>\n",
       "      <td>5528989</td>\n",
       "      <td>77.1</td>\n",
       "    </tr>\n",
       "    <tr>\n",
       "      <th>3</th>\n",
       "      <td>5</td>\n",
       "      <td>Arkansas</td>\n",
       "      <td>3013825</td>\n",
       "      <td>2310645</td>\n",
       "      <td>76.7</td>\n",
       "    </tr>\n",
       "    <tr>\n",
       "      <th>4</th>\n",
       "      <td>6</td>\n",
       "      <td>California</td>\n",
       "      <td>39557045</td>\n",
       "      <td>30567090</td>\n",
       "      <td>77.3</td>\n",
       "    </tr>\n",
       "  </tbody>\n",
       "</table>\n",
       "</div>"
      ],
      "text/plain": [
       "   STATE        NAME  POPESTIMATE2018  POPEST18PLUS2018  PCNT_POPEST18PLUS\n",
       "0      1     Alabama          4887871           3798031               77.7\n",
       "1      2      Alaska           737438            553622               75.1\n",
       "2      4     Arizona          7171646           5528989               77.1\n",
       "3      5    Arkansas          3013825           2310645               76.7\n",
       "4      6  California         39557045          30567090               77.3"
      ]
     },
     "execution_count": 139,
     "metadata": {},
     "output_type": "execute_result"
    }
   ],
   "source": [
    "# Read and clean Population\n",
    "population = pd.read_csv('Population.csv')\n",
    "population.head()"
   ]
  },
  {
   "cell_type": "markdown",
   "metadata": {},
   "source": [
    "We drop the unnecessary columns and rename the titles. Also, we add a list of acronyms for each state."
   ]
  },
  {
   "cell_type": "code",
   "execution_count": 140,
   "metadata": {},
   "outputs": [],
   "source": [
    "# Read us states and acronyms table\n",
    "us_states_list = pd.read_csv('50_us_states.csv')\n",
    "us_states_list = us_states_list.drop(columns=['State_upper', 'Ac2'])\n",
    "states = us_states_list.Ac"
   ]
  },
  {
   "cell_type": "code",
   "execution_count": 141,
   "metadata": {},
   "outputs": [
    {
     "data": {
      "text/html": [
       "<div>\n",
       "<style scoped>\n",
       "    .dataframe tbody tr th:only-of-type {\n",
       "        vertical-align: middle;\n",
       "    }\n",
       "\n",
       "    .dataframe tbody tr th {\n",
       "        vertical-align: top;\n",
       "    }\n",
       "\n",
       "    .dataframe thead th {\n",
       "        text-align: right;\n",
       "    }\n",
       "</style>\n",
       "<table border=\"1\" class=\"dataframe\">\n",
       "  <thead>\n",
       "    <tr style=\"text-align: right;\">\n",
       "      <th></th>\n",
       "      <th>State</th>\n",
       "      <th>Population</th>\n",
       "      <th>Ac</th>\n",
       "    </tr>\n",
       "  </thead>\n",
       "  <tbody>\n",
       "    <tr>\n",
       "      <th>0</th>\n",
       "      <td>Alabama</td>\n",
       "      <td>4887871</td>\n",
       "      <td>AL</td>\n",
       "    </tr>\n",
       "    <tr>\n",
       "      <th>1</th>\n",
       "      <td>Alaska</td>\n",
       "      <td>737438</td>\n",
       "      <td>AK</td>\n",
       "    </tr>\n",
       "    <tr>\n",
       "      <th>2</th>\n",
       "      <td>Arizona</td>\n",
       "      <td>7171646</td>\n",
       "      <td>AZ</td>\n",
       "    </tr>\n",
       "    <tr>\n",
       "      <th>3</th>\n",
       "      <td>Arkansas</td>\n",
       "      <td>3013825</td>\n",
       "      <td>AR</td>\n",
       "    </tr>\n",
       "    <tr>\n",
       "      <th>4</th>\n",
       "      <td>California</td>\n",
       "      <td>39557045</td>\n",
       "      <td>CA</td>\n",
       "    </tr>\n",
       "  </tbody>\n",
       "</table>\n",
       "</div>"
      ],
      "text/plain": [
       "        State  Population  Ac\n",
       "0     Alabama     4887871  AL\n",
       "1      Alaska      737438  AK\n",
       "2     Arizona     7171646  AZ\n",
       "3    Arkansas     3013825  AR\n",
       "4  California    39557045  CA"
      ]
     },
     "execution_count": 141,
     "metadata": {},
     "output_type": "execute_result"
    }
   ],
   "source": [
    "population = population.drop(columns=['STATE', 'POPEST18PLUS2018', 'PCNT_POPEST18PLUS'])\n",
    "population = population.rename(index=str, columns={\"NAME\": \"State\", \"POPESTIMATE2018\":\"Population\"})\n",
    "population = pd.merge(population, us_states_list, on='State')\n",
    "population.head()"
   ]
  },
  {
   "cell_type": "markdown",
   "metadata": {},
   "source": [
    "We combine the McDonald's distribution dataframe with Population dataframe. In this table, Count represents how many McDonald's are in that state according to our data."
   ]
  },
  {
   "cell_type": "code",
   "execution_count": 142,
   "metadata": {},
   "outputs": [
    {
     "data": {
      "text/html": [
       "<div>\n",
       "<style scoped>\n",
       "    .dataframe tbody tr th:only-of-type {\n",
       "        vertical-align: middle;\n",
       "    }\n",
       "\n",
       "    .dataframe tbody tr th {\n",
       "        vertical-align: top;\n",
       "    }\n",
       "\n",
       "    .dataframe thead th {\n",
       "        text-align: right;\n",
       "    }\n",
       "</style>\n",
       "<table border=\"1\" class=\"dataframe\">\n",
       "  <thead>\n",
       "    <tr style=\"text-align: right;\">\n",
       "      <th></th>\n",
       "      <th>State</th>\n",
       "      <th>Population</th>\n",
       "      <th>Ac</th>\n",
       "      <th>Count</th>\n",
       "    </tr>\n",
       "  </thead>\n",
       "  <tbody>\n",
       "    <tr>\n",
       "      <th>0</th>\n",
       "      <td>Alaska</td>\n",
       "      <td>737438</td>\n",
       "      <td>AK</td>\n",
       "      <td>1</td>\n",
       "    </tr>\n",
       "    <tr>\n",
       "      <th>1</th>\n",
       "      <td>Arizona</td>\n",
       "      <td>7171646</td>\n",
       "      <td>AZ</td>\n",
       "      <td>58</td>\n",
       "    </tr>\n",
       "    <tr>\n",
       "      <th>2</th>\n",
       "      <td>Arkansas</td>\n",
       "      <td>3013825</td>\n",
       "      <td>AR</td>\n",
       "      <td>18</td>\n",
       "    </tr>\n",
       "    <tr>\n",
       "      <th>3</th>\n",
       "      <td>California</td>\n",
       "      <td>39557045</td>\n",
       "      <td>CA</td>\n",
       "      <td>155</td>\n",
       "    </tr>\n",
       "    <tr>\n",
       "      <th>4</th>\n",
       "      <td>Colorado</td>\n",
       "      <td>5695564</td>\n",
       "      <td>CO</td>\n",
       "      <td>7</td>\n",
       "    </tr>\n",
       "  </tbody>\n",
       "</table>\n",
       "</div>"
      ],
      "text/plain": [
       "        State  Population  Ac  Count\n",
       "0      Alaska      737438  AK      1\n",
       "1     Arizona     7171646  AZ     58\n",
       "2    Arkansas     3013825  AR     18\n",
       "3  California    39557045  CA    155\n",
       "4    Colorado     5695564  CO      7"
      ]
     },
     "execution_count": 142,
     "metadata": {},
     "output_type": "execute_result"
    }
   ],
   "source": [
    "# Combine two tables and plot the graph\n",
    "summary_table = pd.merge(population, df_across_sum, on='Ac')\n",
    "summary_table.head()"
   ]
  },
  {
   "cell_type": "code",
   "execution_count": 143,
   "metadata": {},
   "outputs": [
    {
     "data": {
      "text/plain": [
       "<matplotlib.axes._subplots.AxesSubplot at 0x1c52662f98>"
      ]
     },
     "execution_count": 143,
     "metadata": {},
     "output_type": "execute_result"
    },
    {
     "data": {
      "image/png": "[encoded data removed]",
      "text/plain": [
       "<Figure size 432x288 with 1 Axes>"
      ]
     },
     "metadata": {
      "needs_background": "light"
     },
     "output_type": "display_data"
    }
   ],
   "source": [
    "summary_table[['Ac', 'Count']].sort_values('Count', ascending=False).plot.bar('Ac')"
   ]
  },
  {
   "cell_type": "markdown",
   "metadata": {},
   "source": [
    "We can see that California has the most McDonald's, and Alaska has the least McDonald's"
   ]
  },
  {
   "cell_type": "code",
   "execution_count": 144,
   "metadata": {},
   "outputs": [
    {
     "data": {
      "text/plain": [
       "<matplotlib.axes._subplots.AxesSubplot at 0x1c51e10630>"
      ]
     },
     "execution_count": 144,
     "metadata": {},
     "output_type": "execute_result"
    },
    {
     "data": {
      "image/png": "[encoded data removed]",
      "text/plain": [
       "<Figure size 432x288 with 1 Axes>"
      ]
     },
     "metadata": {
      "needs_background": "light"
     },
     "output_type": "display_data"
    }
   ],
   "source": [
    "summary_table[['Ac', 'Population']].sort_values('Population', ascending=False).plot.bar('Ac')"
   ]
  },
  {
   "cell_type": "markdown",
   "metadata": {},
   "source": [
    "We can see that CA has the most population, and WY has the least."
   ]
  },
  {
   "cell_type": "markdown",
   "metadata": {},
   "source": [
    "Finally, sine we also want to test our hypothesis that at the places where McDonald's open more restaurants, consumer's ratings are higher. Hence, we load out yelp data into dataframe."
   ]
  },
  {
   "cell_type": "code",
   "execution_count": 145,
   "metadata": {},
   "outputs": [
    {
     "data": {
      "text/html": [
       "<div>\n",
       "<style scoped>\n",
       "    .dataframe tbody tr th:only-of-type {\n",
       "        vertical-align: middle;\n",
       "    }\n",
       "\n",
       "    .dataframe tbody tr th {\n",
       "        vertical-align: top;\n",
       "    }\n",
       "\n",
       "    .dataframe thead th {\n",
       "        text-align: right;\n",
       "    }\n",
       "</style>\n",
       "<table border=\"1\" class=\"dataframe\">\n",
       "  <thead>\n",
       "    <tr style=\"text-align: right;\">\n",
       "      <th></th>\n",
       "      <th>business_id</th>\n",
       "      <th>name</th>\n",
       "      <th>neighborhood</th>\n",
       "      <th>address</th>\n",
       "      <th>city</th>\n",
       "      <th>state</th>\n",
       "      <th>postal_code</th>\n",
       "      <th>latitude</th>\n",
       "      <th>longitude</th>\n",
       "      <th>stars</th>\n",
       "      <th>review_count</th>\n",
       "      <th>is_open</th>\n",
       "      <th>categories</th>\n",
       "    </tr>\n",
       "  </thead>\n",
       "  <tbody>\n",
       "    <tr>\n",
       "      <th>0</th>\n",
       "      <td>FYWN1wneV18bWNgQjJ2GNg</td>\n",
       "      <td>\"Dental by Design\"</td>\n",
       "      <td>NaN</td>\n",
       "      <td>\"4855 E Warner Rd, Ste B9\"</td>\n",
       "      <td>Ahwatukee</td>\n",
       "      <td>AZ</td>\n",
       "      <td>85044</td>\n",
       "      <td>33.330690</td>\n",
       "      <td>-111.978599</td>\n",
       "      <td>4.0</td>\n",
       "      <td>22</td>\n",
       "      <td>1</td>\n",
       "      <td>Dentists;General Dentistry;Health &amp; Medical;Or...</td>\n",
       "    </tr>\n",
       "    <tr>\n",
       "      <th>1</th>\n",
       "      <td>He-G7vWjzVUysIKrfNbPUQ</td>\n",
       "      <td>\"Stephen Szabo Salon\"</td>\n",
       "      <td>NaN</td>\n",
       "      <td>\"3101 Washington Rd\"</td>\n",
       "      <td>McMurray</td>\n",
       "      <td>PA</td>\n",
       "      <td>15317</td>\n",
       "      <td>40.291685</td>\n",
       "      <td>-80.104900</td>\n",
       "      <td>3.0</td>\n",
       "      <td>11</td>\n",
       "      <td>1</td>\n",
       "      <td>Hair Stylists;Hair Salons;Men's Hair Salons;Bl...</td>\n",
       "    </tr>\n",
       "    <tr>\n",
       "      <th>2</th>\n",
       "      <td>KQPW8lFf1y5BT2MxiSZ3QA</td>\n",
       "      <td>\"Western Motor Vehicle\"</td>\n",
       "      <td>NaN</td>\n",
       "      <td>\"6025 N 27th Ave, Ste 1\"</td>\n",
       "      <td>Phoenix</td>\n",
       "      <td>AZ</td>\n",
       "      <td>85017</td>\n",
       "      <td>33.524903</td>\n",
       "      <td>-112.115310</td>\n",
       "      <td>1.5</td>\n",
       "      <td>18</td>\n",
       "      <td>1</td>\n",
       "      <td>Departments of Motor Vehicles;Public Services ...</td>\n",
       "    </tr>\n",
       "    <tr>\n",
       "      <th>3</th>\n",
       "      <td>8DShNS-LuFqpEWIp0HxijA</td>\n",
       "      <td>\"Sports Authority\"</td>\n",
       "      <td>NaN</td>\n",
       "      <td>\"5000 Arizona Mills Cr, Ste 435\"</td>\n",
       "      <td>Tempe</td>\n",
       "      <td>AZ</td>\n",
       "      <td>85282</td>\n",
       "      <td>33.383147</td>\n",
       "      <td>-111.964725</td>\n",
       "      <td>3.0</td>\n",
       "      <td>9</td>\n",
       "      <td>0</td>\n",
       "      <td>Sporting Goods;Shopping</td>\n",
       "    </tr>\n",
       "    <tr>\n",
       "      <th>4</th>\n",
       "      <td>PfOCPjBrlQAnz__NXj9h_w</td>\n",
       "      <td>\"Brick House Tavern + Tap\"</td>\n",
       "      <td>NaN</td>\n",
       "      <td>\"581 Howe Ave\"</td>\n",
       "      <td>Cuyahoga Falls</td>\n",
       "      <td>OH</td>\n",
       "      <td>44221</td>\n",
       "      <td>41.119535</td>\n",
       "      <td>-81.475690</td>\n",
       "      <td>3.5</td>\n",
       "      <td>116</td>\n",
       "      <td>1</td>\n",
       "      <td>American (New);Nightlife;Bars;Sandwiches;Ameri...</td>\n",
       "    </tr>\n",
       "  </tbody>\n",
       "</table>\n",
       "</div>"
      ],
      "text/plain": [
       "              business_id                        name neighborhood  \\\n",
       "0  FYWN1wneV18bWNgQjJ2GNg          \"Dental by Design\"          NaN   \n",
       "1  He-G7vWjzVUysIKrfNbPUQ       \"Stephen Szabo Salon\"          NaN   \n",
       "2  KQPW8lFf1y5BT2MxiSZ3QA     \"Western Motor Vehicle\"          NaN   \n",
       "3  8DShNS-LuFqpEWIp0HxijA          \"Sports Authority\"          NaN   \n",
       "4  PfOCPjBrlQAnz__NXj9h_w  \"Brick House Tavern + Tap\"          NaN   \n",
       "\n",
       "                            address            city state postal_code  \\\n",
       "0        \"4855 E Warner Rd, Ste B9\"       Ahwatukee    AZ       85044   \n",
       "1              \"3101 Washington Rd\"        McMurray    PA       15317   \n",
       "2          \"6025 N 27th Ave, Ste 1\"         Phoenix    AZ       85017   \n",
       "3  \"5000 Arizona Mills Cr, Ste 435\"           Tempe    AZ       85282   \n",
       "4                    \"581 Howe Ave\"  Cuyahoga Falls    OH       44221   \n",
       "\n",
       "    latitude   longitude  stars  review_count  is_open  \\\n",
       "0  33.330690 -111.978599    4.0            22        1   \n",
       "1  40.291685  -80.104900    3.0            11        1   \n",
       "2  33.524903 -112.115310    1.5            18        1   \n",
       "3  33.383147 -111.964725    3.0             9        0   \n",
       "4  41.119535  -81.475690    3.5           116        1   \n",
       "\n",
       "                                          categories  \n",
       "0  Dentists;General Dentistry;Health & Medical;Or...  \n",
       "1  Hair Stylists;Hair Salons;Men's Hair Salons;Bl...  \n",
       "2  Departments of Motor Vehicles;Public Services ...  \n",
       "3                            Sporting Goods;Shopping  \n",
       "4  American (New);Nightlife;Bars;Sandwiches;Ameri...  "
      ]
     },
     "execution_count": 145,
     "metadata": {},
     "output_type": "execute_result"
    }
   ],
   "source": [
    "# read yelp data\n",
    "df_yelp = pd.read_csv('yelp_business.csv')\n",
    "df_yelp.head()"
   ]
  },
  {
   "cell_type": "markdown",
   "metadata": {},
   "source": [
    "We remove the null data and remove the quotation marks in our data"
   ]
  },
  {
   "cell_type": "code",
   "execution_count": 146,
   "metadata": {},
   "outputs": [],
   "source": [
    "df_yelp = df_yelp.dropna()"
   ]
  },
  {
   "cell_type": "code",
   "execution_count": 147,
   "metadata": {},
   "outputs": [],
   "source": [
    "# remove quotation mark\n",
    "df_yelp['name'] = df_yelp['name'].str.replace('\"', '')"
   ]
  },
  {
   "cell_type": "markdown",
   "metadata": {},
   "source": [
    "We take the McDonald's data from them"
   ]
  },
  {
   "cell_type": "code",
   "execution_count": 148,
   "metadata": {},
   "outputs": [],
   "source": [
    "# take McDonald's data\n",
    "df_MD_rate = df_yelp[(df_yelp.name == \"McDonald's\")]"
   ]
  },
  {
   "cell_type": "markdown",
   "metadata": {},
   "source": [
    "We've noticed that the data is worldwide. This is not in our expectations, since we believed that Yelp is an American compnay and only contains American data. Hence, we want to select US data from them."
   ]
  },
  {
   "cell_type": "code",
   "execution_count": 149,
   "metadata": {},
   "outputs": [],
   "source": [
    "# slect us data from rating\n",
    "us_df_MD__rate = df_MD_rate[df_MD_rate['state'].isin(states)]"
   ]
  },
  {
   "cell_type": "markdown",
   "metadata": {},
   "source": [
    "We plot each McDonald's in our data to take a look. It seems like our data has some problem. We're going to discuss it in our data analysis part"
   ]
  },
  {
   "cell_type": "code",
   "execution_count": 150,
   "metadata": {},
   "outputs": [
    {
     "data": {
      "image/png": "[encoded data removed]",
      "text/plain": [
       "<Figure size 432x288 with 1 Axes>"
      ]
     },
     "metadata": {
      "needs_background": "light"
     },
     "output_type": "display_data"
    }
   ],
   "source": [
    "# plot US rating data\n",
    "us_df_MD__rate.plot(kind=\"scatter\", x=\"longitude\", y=\"latitude\", alpha=0.1, xlim=[-160, -70], ylim=[15, 60])\n",
    "plt.show()"
   ]
  },
  {
   "cell_type": "markdown",
   "metadata": {},
   "source": [
    "# Data Analysis & Results"
   ]
  },
  {
   "cell_type": "markdown",
   "metadata": {},
   "source": [
    "## Part I"
   ]
  },
  {
   "cell_type": "markdown",
   "metadata": {},
   "source": [
    "First of all, we're going to test our hypothesis 1 that McDonald's opens more restaurants in the area of which has higher population in order to occupy the market. Let's first plot the scatter plot."
   ]
  },
  {
   "cell_type": "code",
   "execution_count": 151,
   "metadata": {},
   "outputs": [
    {
     "data": {
      "text/plain": [
       "<matplotlib.axes._subplots.AxesSubplot at 0x1c51cec748>"
      ]
     },
     "execution_count": 151,
     "metadata": {},
     "output_type": "execute_result"
    },
    {
     "data": {
      "image/png": "[encoded data removed]",
      "text/plain": [
       "<Figure size 432x288 with 1 Axes>"
      ]
     },
     "metadata": {
      "needs_background": "light"
     },
     "output_type": "display_data"
    }
   ],
   "source": [
    "summary_table.plot.scatter('Population', 'Count')"
   ]
  },
  {
   "cell_type": "markdown",
   "metadata": {},
   "source": [
    "We can see that there's a general pattern between Count of Mcdonald's in a state and the Population of that state. In order to test how strong the correlation is, we're going to fit the linear regression model to it and perform a standard hypthoesis test.\n",
    "\n",
    "- Null hypothesis: There is no relationship between the Count of McDonald's in a state and the Population of that state.\n",
    "\n",
    "\n",
    "- Alternative hypothesis:There is a relationship between the Count of McDonald's in a state and the Population of that state."
   ]
  },
  {
   "cell_type": "markdown",
   "metadata": {},
   "source": [
    "We use the OLS model to perform linear regression:"
   ]
  },
  {
   "cell_type": "code",
   "execution_count": 152,
   "metadata": {},
   "outputs": [],
   "source": [
    "outcome_1, predictors_1 = patsy.dmatrices('Count ~ Population',summary_table)\n",
    "mod_1 = sm.OLS(outcome_1, predictors_1)\n",
    "res_1 = mod_1.fit()"
   ]
  },
  {
   "cell_type": "code",
   "execution_count": 153,
   "metadata": {},
   "outputs": [
    {
     "name": "stdout",
     "output_type": "stream",
     "text": [
      "                            OLS Regression Results                            \n",
      "==============================================================================\n",
      "Dep. Variable:                  Count   R-squared:                       0.790\n",
      "Model:                            OLS   Adj. R-squared:                  0.785\n",
      "Method:                 Least Squares   F-statistic:                     173.1\n",
      "Date:                Wed, 12 Jun 2019   Prob (F-statistic):           3.36e-17\n",
      "Time:                        18:59:03   Log-Likelihood:                -206.90\n",
      "No. Observations:                  48   AIC:                             417.8\n",
      "Df Residuals:                      46   BIC:                             421.5\n",
      "Df Model:                           1                                         \n",
      "Covariance Type:            nonrobust                                         \n",
      "==============================================================================\n",
      "                 coef    std err          t      P>|t|      [0.025      0.975]\n",
      "------------------------------------------------------------------------------\n",
      "Intercept      8.0041      3.579      2.237      0.030       0.801      15.207\n",
      "Population  4.723e-06   3.59e-07     13.156      0.000       4e-06    5.45e-06\n",
      "==============================================================================\n",
      "Omnibus:                        0.535   Durbin-Watson:                   1.616\n",
      "Prob(Omnibus):                  0.765   Jarque-Bera (JB):                0.176\n",
      "Skew:                           0.140   Prob(JB):                        0.916\n",
      "Kurtosis:                       3.100   Cond. No.                     1.34e+07\n",
      "==============================================================================\n",
      "\n",
      "Warnings:\n",
      "[1] Standard Errors assume that the covariance matrix of the errors is correctly specified.\n",
      "[2] The condition number is large, 1.34e+07. This might indicate that there are\n",
      "strong multicollinearity or other numerical problems.\n"
     ]
    }
   ],
   "source": [
    "print(res_1.summary())"
   ]
  },
  {
   "cell_type": "markdown",
   "metadata": {},
   "source": [
    "We plot the regression line on our graph"
   ]
  },
  {
   "cell_type": "code",
   "execution_count": 154,
   "metadata": {},
   "outputs": [
    {
     "data": {
      "text/plain": [
       "[<matplotlib.lines.Line2D at 0x1c530e47b8>]"
      ]
     },
     "execution_count": 154,
     "metadata": {},
     "output_type": "execute_result"
    },
    {
     "data": {
      "image/png": "[encoded data removed]",
      "text/plain": [
       "<Figure size 432x288 with 1 Axes>"
      ]
     },
     "metadata": {
      "needs_background": "light"
     },
     "output_type": "display_data"
    }
   ],
   "source": [
    "# plot the regression line\n",
    "summary_table.plot.scatter('Population', 'Count')\n",
    "slope = 4.723e-06\n",
    "intercept = 8.0041\n",
    "xs = np.arange(summary_table['Population'].min(), summary_table['Population'].max())\n",
    "ys = slope * xs + intercept\n",
    "plt.plot(xs, ys, '--k')"
   ]
  },
  {
   "cell_type": "markdown",
   "metadata": {},
   "source": [
    "From the summary, we can see that the intercept is 8.0041 amd the slope is 4.723e-06. It has R-squared 0.790. The 95% confidence interval doesn't contain 0. The p-value is smaller than 0.05. Hence, under the 95% confidence level we reject the null hypothesis. We are statistically confident to say that there is a  relationship between the Count of McDonald's in a state and the Population of that state."
   ]
  },
  {
   "cell_type": "markdown",
   "metadata": {},
   "source": [
    "We successfuly confirm our hypothesis. In fact, we wanted to do Multiple Linear Regression for this part, yet we failed to find other numerical data such as the regional profits of McDonald's. These data will be helpful to see which factor influence the numerber of McDonald's in a region."
   ]
  },
  {
   "cell_type": "markdown",
   "metadata": {},
   "source": [
    "## Part II"
   ]
  },
  {
   "cell_type": "markdown",
   "metadata": {},
   "source": [
    "In our second goal of this part, we want to test the assumption thatAt the places where McDonald's open more restaurants, consumer's ratings are higher. Nevertheless, from the visulization part above, we found that there are some problems in our data. "
   ]
  },
  {
   "cell_type": "code",
   "execution_count": 155,
   "metadata": {},
   "outputs": [
    {
     "data": {
      "image/png": "[encoded data removed]",
      "text/plain": [
       "<Figure size 432x288 with 1 Axes>"
      ]
     },
     "metadata": {
      "needs_background": "light"
     },
     "output_type": "display_data"
    }
   ],
   "source": [
    "# plot US rating data\n",
    "us_df_MD__rate.plot(kind=\"scatter\", x=\"longitude\", y=\"latitude\", alpha=0.1, xlim=[-160, -70], ylim=[15, 60])\n",
    "plt.show()"
   ]
  },
  {
   "cell_type": "markdown",
   "metadata": {},
   "source": [
    "We've noticed that the dots are lesser than expectation. We group each data by states and see what happened."
   ]
  },
  {
   "cell_type": "code",
   "execution_count": 156,
   "metadata": {},
   "outputs": [
    {
     "data": {
      "text/plain": [
       "<matplotlib.axes._subplots.AxesSubplot at 0x1c545ab358>"
      ]
     },
     "execution_count": 156,
     "metadata": {},
     "output_type": "execute_result"
    },
    {
     "data": {
      "image/png": "[encoded data removed]",
      "text/plain": [
       "<Figure size 432x288 with 1 Axes>"
      ]
     },
     "metadata": {
      "needs_background": "light"
     },
     "output_type": "display_data"
    }
   ],
   "source": [
    "# Missing states in the data\n",
    "us_df_MD__rate[['state', 'stars']].groupby('state').sum().plot.bar()"
   ]
  },
  {
   "cell_type": "markdown",
   "metadata": {},
   "source": [
    "We realize that although our dataset is large enough, it was only collected in several states from America. Hence, it is not represented well enough. Also, we failed to find other dataset that reflects consumers' ratings. Therefore, we conclude that our dataset cannot help us to test our hypothesis."
   ]
  },
  {
   "cell_type": "markdown",
   "metadata": {},
   "source": [
    "# Ethics & Privacy"
   ]
  },
  {
   "cell_type": "markdown",
   "metadata": {},
   "source": [
    "* The data used for our observation and analysis was all found from online sources, most of them were open source while a couple we had to pay for ourselves. We have the authorizations for all of them\n",
    "* The data was publicly posted and or legally acquired via payment allowing us to analyze the dataset without putting us at risk of violating legal or privacy issues. \n",
    "* The data sets may reflect biased characteristics because of our lack of knowledge about the background of the change reflects in our data. We lack the strength of analyzing the causation of the change and relating it to a broader social context. Hence, our entire analysis emphasises that we get our results based on limited data, which might be not-representative.\n",
    "* The data used mainly focused on roughly the past 8 years which may limit our vision of analyzing the wholistic trend of McDonald’s business growth.\n",
    "* No individuals are involved in our data, so we don't have the privacy issues.\n"
   ]
  },
  {
   "cell_type": "markdown",
   "metadata": {},
   "source": [
    "# Conclusion & Discussion"
   ]
  },
  {
   "cell_type": "markdown",
   "metadata": {},
   "source": [
    "We structured a basic producer-saler model to analyze what influences McDonald's revenues and what strategies McDonald's is using. \n",
    "\n",
    "In producer side, we collect the data of beef price, potato price, stock price and trading volume in a given period of time and the corresponding McDonald's revenues. After data cleaning, we use machin learning to find the correlations between these factors and the revenues. We find that potato price and stock price are hightly negatively correlated with the revenue. On the other hand, beef price and trading volume are slightly correlated withthe revenue. Then we build a model from the training data so we can predict the future revenues. Also, we expand a inferior good theory to explain the positive correlation between beef price and revenue, and plot the data to have a sense.\n",
    "\n",
    "In saler side, we collect the data of US population by states, distribution of all McDonald's in US, and the yelp reviews for McDonald's. We want to test the hypothesis that McDonald's opens more restaurants in the area of which has higher population. In addition, we want to test the hypothesis that ratings are higher at the place that there are more McDonald's. For hypothesis one, we construct a linear regression model and statistically proof the alternative hypothesis. For hypothesis two, after cleaning and visualizing the data, we find that the data is not representative enough to establish the hypothesis. "
   ]
  },
  {
   "cell_type": "markdown",
   "metadata": {},
   "source": [
    "# Limitations"
   ]
  },
  {
   "cell_type": "markdown",
   "metadata": {},
   "source": [
    "The data found was each of adequate sizes and contained information important to hypothesis. Although the data individually is significant, as a whole, the data did not overlap as well as expected. Most of the data was acquired in monthly intervals which resulted in pretty large data sets, but because the comparison is intended to be between revenue, which is grouped quartley it shrunk our data set by three. \n",
    "\n",
    "Most of the websites we gathered data from were from credible sources. Some of the best data found was not able to be used because it was displayed as pdf and we were unable to convert it into a workable data set. \n",
    "\n",
    "We use only one varibale to do the linear regression, since the dataset we found are not representative. "
   ]
  },
  {
   "cell_type": "markdown",
   "metadata": {},
   "source": [
    "# Further directions"
   ]
  },
  {
   "cell_type": "markdown",
   "metadata": {},
   "source": [
    " It is shown in our supply model that the potato price is highly correlated with McDonald’s revenue. However, McDonald’s process potatoes mainly by fried that its potato products are cheap but really unhealthy. In the previous work, we know that McDonald’s has a strong promotion strategy and dollar menu is one of its successful business promotion strategy. However, McDonald’s dollar menu mainly consist of oily burgers combining with big amount of fried potatoes. It is reasonable to argue that the dollar menu is able to bring profit to McDonald’s largely due to the low price of potatoes. \n",
    "    In our second part of analysis, we can also see that McDonald’s is highly occupied in populated region. Based on our knowledge from previous work, we know that McDonald’s is able to expand successfully based on shared ownership with local business owners that the ensured profit allow them willingly open new shops in the expected region. However, it is also discussed that the local owners have to listen to the headquarter of McDonald’s for the decision of design, products, promotion strategy, etc. \n",
    "   Combining our two parts of research, we see that McDonald’s is a highly aggressive expanding business, yet its profitting strategy is not that based on the consideration of public health. In the future research and suggestions, we would like to see a more targeted regulation or limitation of McDonald’s products promotion. \n",
    "\n"
   ]
  }
 ],
 "metadata": {
  "kernelspec": {
   "display_name": "Python 3",
   "language": "python",
   "name": "python3"
  },
  "language_info": {
   "codemirror_mode": {
    "name": "ipython",
    "version": 3
   },
   "file_extension": ".py",
   "mimetype": "text/x-python",
   "name": "python",
   "nbconvert_exporter": "python",
   "pygments_lexer": "ipython3",
   "version": "3.7.3"
  }
 },
 "nbformat": 4,
 "nbformat_minor": 2
}
