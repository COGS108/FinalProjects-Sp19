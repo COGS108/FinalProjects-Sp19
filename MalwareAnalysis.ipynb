{
 "cells": [
  {
   "cell_type": "markdown",
   "metadata": {},
   "source": [
    "# COGS 108 - Final Project"
   ]
  },
  {
   "cell_type": "markdown",
   "metadata": {},
   "source": [
    "# Overview"
   ]
  },
  {
   "cell_type": "markdown",
   "metadata": {},
   "source": [
    "If anti-virus software is up to date, what are the factors that causes a computer to be infected with malware? We are trying to understand the relationship between malware infections and different device settings, such as firewall settings, OS platforms, browsers, locations, processors, etc. It’s usually pretty clear that devices without up to date anti-virus software are highly vulnerable. However, in the case of devices with up-to-date anti-virus software, the reasons for such a device to catch malware are much more ambiguous."
   ]
  },
  {
   "cell_type": "markdown",
   "metadata": {},
   "source": [
    "# Names"
   ]
  },
  {
   "cell_type": "markdown",
   "metadata": {},
   "source": [
    "TEAM NAME: VAXX_HAPPENED\n",
    "\n",
    "TEAM MEMBERS: Alvin Zhang, Kseniya Zelenaya, Yvonne Chen, Zhengzhou Huang\n"
   ]
  },
  {
   "cell_type": "markdown",
   "metadata": {},
   "source": [
    "# Group Members IDs"
   ]
  },
  {
   "cell_type": "markdown",
   "metadata": {},
   "source": [
    "Alvin Zhang: A15222835\n",
    "\n",
    "Kseniya Zelenaya: A13097139\n",
    "\n",
    "Yvonne Chen:A15533973\n",
    "\n",
    "Zhengzhou Huang: A92020217"
   ]
  },
  {
   "cell_type": "markdown",
   "metadata": {},
   "source": [
    "# Research Question"
   ]
  },
  {
   "cell_type": "markdown",
   "metadata": {},
   "source": [
    "If anti-virus software is up to date, what are the most important factors that lead to malware infection? Can we use the data collected about device settings to predict the possibilities of detections of malware? More specifically, we are using values associated with users' devices, such as anti_virus products, Tpm, platform, processor, firewall settings, physical RAM, primary disk, the location of the device, and the fact if the user is a gamer, in order to build a model that not only accuratly predicts whether a device is vulnerable to malware or not, but also be able to explain the most important factors for each computer. "
   ]
  },
  {
   "cell_type": "markdown",
   "metadata": {},
   "source": [
    "## Background and Prior Work"
   ]
  },
  {
   "cell_type": "markdown",
   "metadata": {},
   "source": [
    "People using current day tech such as laptops might wonder, “With today’s antivirius software, how is it still possible that my laptop might still be susceptible with malware?” In an article about anti-virus software, an expert pointed out that ranti-virus software is only a line of defense, but it will not protect one’s device from everything. In another research dayarticle, ”Malware Investigation by Analyzing Computer Memory,”  the analysts evaluated that anti-virus software only work partially as they address known viruses but not other vulnerabilities and malware as they are not known as much to the anti-virus software. \n",
    "\n",
    "\n",
    "In “Collecting and Analyzing Malware Data”, the authors argued that the vulnerability of anti-virus software comes from its reliance on “positive identification” of malware applications, such as a particular file name and certain executables. These identifications of malware processed by technicians are often influenced by  insufficient reports from users and the inability to analyze the malware in its complete from virtual environments. It is arguably hard to identify the reasons and origins of malware applications. An article by Rob Verger, “Your anti-virus Software is not Enough”, pointed out some reasons for a machine to catch malware, including the version of the operating system, different types of systems (Windows vs. IOS), and email providers. \n",
    "\n",
    "\n",
    "Not only that, but recently, processors have been shown to also display vulnerabilities, defying 20 years of previous security assumptions that hardware was immune to malware vulnerabilities. In the New York Times article, it showcases how these security vulnerabilities affect nearly all microprocessors from the past 20 years. These hardware vulnerabilities would allow a sort of ‘back door’ for malware to infect a computer, and bypass the usual anti-virus software.\n",
    "\n",
    "\n",
    "Thus, given all these factors that can potentially bypass anti-virus software, we are interested in how these different factors and choices influence the chance of computer infection.\n",
    "\n",
    "\n",
    "References:\n",
    "\n",
    "https://patents.google.com/patent/US8667583B2/en\n",
    "\n",
    "https://patents.google.com/patent/US8566944B2/en\n",
    "\n",
    "https://www.popsci.com/antivirus-software-protect-your-computer\n",
    "\n",
    "https://www.nytimes.com/2018/01/03/business/computer-flaws.html\n",
    "\n"
   ]
  },
  {
   "cell_type": "markdown",
   "metadata": {},
   "source": [
    "# Hypothesis"
   ]
  },
  {
   "cell_type": "markdown",
   "metadata": {},
   "source": [
    "Our hypothesis is that the leading factors of malware infection for computers with up-to-date antivirus software are the lack of several other security features, such as having a TPM Chip(a dedicated microcontroller designed to secure hardware), enabled firewall settings, and having secure boot enabled on the device.\n"
   ]
  },
  {
   "cell_type": "markdown",
   "metadata": {},
   "source": [
    "# Datasets"
   ]
  },
  {
   "cell_type": "markdown",
   "metadata": {},
   "source": [
    "The dataset we plan to use comes from a competition initiated by Microsoft, “Microsoft Malware Prediction”.  Link: https://www.kaggle.com/c/microsoft-malware-prediction/data. Since the data is collected by Microsoft, it is focused on Windows machines.\n",
    "\n",
    "\n",
    "While the dataset that contains malware detection itself is around 4GBs and over 8 million lines, for the purpose of this project, we will be analyzing the first 100,000 observations in the dataset. Attempting to load 4GBs of information into Python and pandas would not be a good idea to say the least. We are confident that 100,000 is more than enough to help us answer our question that we proposed.\n",
    "\n",
    "The dataset also contains over 80 variables. This is quite extensive, and while it would be nice to analyze all of them, it could prove to be tedious and difficult, as many of the variables seem unrelated or uninteresting for our analysis. Due to this, we have decided to narrow down the range of variables we are studying to 13 variables. These 13 variables are to us the most intriguing in terms of possible relation to malware infection. The variables, and what they mean are listed below:\n",
    "\n",
    "-AVProductsInstalled: Does the observed device have an Anti-Virus Product installed.\n",
    "\n",
    "-AVProductsEnabled: How many Anti-Virus Product(s) are turned on?\n",
    "\n",
    "-hasTpm: Does the  device have a TPM chip for hardware encryption? \n",
    "\n",
    "-CountryIdentifier: integer that denotes a country\n",
    "\n",
    "-Platform: Operating System(Windows 10, Windows 8.1, etc.)\n",
    "\n",
    "-Processor: Integer representing a processor (i.e. 5 could represent an Intel i7 )\n",
    "\n",
    "-SMode: Is Secure Mode turned on for Windows Machines\n",
    "\n",
    "-Firewall: Is Firewall enabled\n",
    "\n",
    "-Census_IsSecureBootEnabled: Is Secure boot enabled\n",
    "\n",
    "-Census_PrimaryDiskTypeNam: Type of disk(SDD, HDD)\n",
    "\n",
    "-Wdft_IsGamer: Is the device a gaming computer/desktop\n",
    "\n",
    "-HasDetections: Does the system have malware on it?\n"
   ]
  },
  {
   "cell_type": "markdown",
   "metadata": {},
   "source": [
    "# Necessary Imports"
   ]
  },
  {
   "cell_type": "code",
   "execution_count": 1,
   "metadata": {},
   "outputs": [],
   "source": [
    "import pandas as pd\n",
    "import numpy as np\n",
    "import matplotlib.pyplot as plt\n",
    "import seaborn as sns"
   ]
  },
  {
   "cell_type": "markdown",
   "metadata": {},
   "source": [
    "# Data Cleaning/Preprocessing"
   ]
  },
  {
   "cell_type": "markdown",
   "metadata": {},
   "source": [
    "Despite cutting the dataset down to the first 100,000 results, simpling calling in pd.read_csv can still result in numerous issues relating to not only space complexity, but also time complexity."
   ]
  },
  {
   "cell_type": "markdown",
   "metadata": {},
   "source": [
    "We can see the space complexity issue when we look at the the first 10 observations and their data types."
   ]
  },
  {
   "cell_type": "code",
   "execution_count": 2,
   "metadata": {},
   "outputs": [
    {
     "name": "stdout",
     "output_type": "stream",
     "text": [
      "<class 'pandas.core.frame.DataFrame'>\n",
      "RangeIndex: 10 entries, 0 to 9\n",
      "Data columns (total 83 columns):\n",
      "MachineIdentifier                                    10 non-null object\n",
      "ProductName                                          10 non-null object\n",
      "EngineVersion                                        10 non-null object\n",
      "AppVersion                                           10 non-null object\n",
      "AvSigVersion                                         10 non-null object\n",
      "IsBeta                                               10 non-null int64\n",
      "RtpStateBitfield                                     10 non-null int64\n",
      "IsSxsPassiveMode                                     10 non-null int64\n",
      "DefaultBrowsersIdentifier                            0 non-null float64\n",
      "AVProductStatesIdentifier                            10 non-null int64\n",
      "AVProductsInstalled                                  10 non-null int64\n",
      "AVProductsEnabled                                    10 non-null int64\n",
      "HasTpm                                               10 non-null int64\n",
      "CountryIdentifier                                    10 non-null int64\n",
      "CityIdentifier                                       10 non-null int64\n",
      "OrganizationIdentifier                               7 non-null float64\n",
      "GeoNameIdentifier                                    10 non-null int64\n",
      "LocaleEnglishNameIdentifier                          10 non-null int64\n",
      "Platform                                             10 non-null object\n",
      "Processor                                            10 non-null object\n",
      "OsVer                                                10 non-null object\n",
      "OsBuild                                              10 non-null int64\n",
      "OsSuite                                              10 non-null int64\n",
      "OsPlatformSubRelease                                 10 non-null object\n",
      "OsBuildLab                                           10 non-null object\n",
      "SkuEdition                                           10 non-null object\n",
      "IsProtected                                          10 non-null int64\n",
      "AutoSampleOptIn                                      10 non-null int64\n",
      "PuaMode                                              0 non-null float64\n",
      "SMode                                                10 non-null int64\n",
      "IeVerIdentifier                                      9 non-null float64\n",
      "SmartScreen                                          7 non-null object\n",
      "Firewall                                             10 non-null int64\n",
      "UacLuaenable                                         10 non-null int64\n",
      "Census_MDC2FormFactor                                10 non-null object\n",
      "Census_DeviceFamily                                  10 non-null object\n",
      "Census_OEMNameIdentifier                             10 non-null int64\n",
      "Census_OEMModelIdentifier                            10 non-null int64\n",
      "Census_ProcessorCoreCount                            10 non-null int64\n",
      "Census_ProcessorManufacturerIdentifier               10 non-null int64\n",
      "Census_ProcessorModelIdentifier                      10 non-null int64\n",
      "Census_ProcessorClass                                0 non-null float64\n",
      "Census_PrimaryDiskTotalCapacity                      10 non-null int64\n",
      "Census_PrimaryDiskTypeName                           10 non-null object\n",
      "Census_SystemVolumeTotalCapacity                     10 non-null int64\n",
      "Census_HasOpticalDiskDrive                           10 non-null int64\n",
      "Census_TotalPhysicalRAM                              10 non-null int64\n",
      "Census_ChassisTypeName                               10 non-null object\n",
      "Census_InternalPrimaryDiagonalDisplaySizeInInches    10 non-null float64\n",
      "Census_InternalPrimaryDisplayResolutionHorizontal    10 non-null int64\n",
      "Census_InternalPrimaryDisplayResolutionVertical      10 non-null int64\n",
      "Census_PowerPlatformRoleName                         10 non-null object\n",
      "Census_InternalBatteryType                           4 non-null object\n",
      "Census_InternalBatteryNumberOfCharges                10 non-null int64\n",
      "Census_OSVersion                                     10 non-null object\n",
      "Census_OSArchitecture                                10 non-null object\n",
      "Census_OSBranch                                      10 non-null object\n",
      "Census_OSBuildNumber                                 10 non-null int64\n",
      "Census_OSBuildRevision                               10 non-null int64\n",
      "Census_OSEdition                                     10 non-null object\n",
      "Census_OSSkuName                                     10 non-null object\n",
      "Census_OSInstallTypeName                             10 non-null object\n",
      "Census_OSInstallLanguageIdentifier                   10 non-null int64\n",
      "Census_OSUILocaleIdentifier                          10 non-null int64\n",
      "Census_OSWUAutoUpdateOptionsName                     10 non-null object\n",
      "Census_IsPortableOperatingSystem                     10 non-null int64\n",
      "Census_GenuineStateName                              10 non-null object\n",
      "Census_ActivationChannel                             10 non-null object\n",
      "Census_IsFlightingInternal                           3 non-null float64\n",
      "Census_IsFlightsDisabled                             10 non-null int64\n",
      "Census_FlightRing                                    10 non-null object\n",
      "Census_ThresholdOptIn                                5 non-null float64\n",
      "Census_FirmwareManufacturerIdentifier                10 non-null int64\n",
      "Census_FirmwareVersionIdentifier                     10 non-null int64\n",
      "Census_IsSecureBootEnabled                           10 non-null int64\n",
      "Census_IsWIMBootEnabled                              5 non-null float64\n",
      "Census_IsVirtualDevice                               10 non-null int64\n",
      "Census_IsTouchEnabled                                10 non-null int64\n",
      "Census_IsPenCapable                                  10 non-null int64\n",
      "Census_IsAlwaysOnAlwaysConnectedCapable              10 non-null int64\n",
      "Wdft_IsGamer                                         10 non-null int64\n",
      "Wdft_RegionIdentifier                                10 non-null int64\n",
      "HasDetections                                        10 non-null int64\n",
      "dtypes: float64(9), int64(46), object(28)\n",
      "memory usage: 6.6+ KB\n"
     ]
    }
   ],
   "source": [
    "data = pd.read_csv('./malwareData.csv',chunksize=10)\n",
    "\n",
    "sample_chunk = None\n",
    "for chunk in data:\n",
    "    sample_chunk = chunk\n",
    "    break\n",
    "\n",
    "sample_chunk.info()"
   ]
  },
  {
   "cell_type": "markdown",
   "metadata": {},
   "source": [
    "There can be many optimizations done; for example, we can set all of the variables that are binary (0, 1) to equal int8.\n",
    "\n",
    "We can also set 64 encoding to 32, or 16 if possible"
   ]
  },
  {
   "cell_type": "markdown",
   "metadata": {},
   "source": [
    "We can utilize these optimizations by utlizing the dtype parameter in read_csv(). Utilizing the dtype parameter allows us to manually predefine the datatypes for each variable."
   ]
  },
  {
   "cell_type": "code",
   "execution_count": 3,
   "metadata": {},
   "outputs": [],
   "source": [
    "dtypes = {\n",
    "        'MachineIdentifier':                                    'category',\n",
    "        'ProductName':                                          'category',\n",
    "        'EngineVersion':                                        'category',\n",
    "        'AppVersion':                                           'category',\n",
    "        'AvSigVersion':                                         'category',\n",
    "        'IsBeta':                                               'int8',\n",
    "        'RtpStateBitfield':                                     'float16',\n",
    "        'IsSxsPassiveMode':                                     'int8',\n",
    "        'DefaultBrowsersIdentifier':                            'float16',\n",
    "        'AVProductStatesIdentifier':                            'float32',\n",
    "        'AVProductsInstalled':                                  'float16',\n",
    "        'AVProductsEnabled':                                    'float16',\n",
    "        'HasTpm':                                               'int8',\n",
    "        'CountryIdentifier':                                    'int16',\n",
    "        'CityIdentifier':                                       'float32',\n",
    "        'OrganizationIdentifier':                               'float16',\n",
    "        'GeoNameIdentifier':                                    'float16',\n",
    "        'LocaleEnglishNameIdentifier':                          'int8',\n",
    "        'Platform':                                             'category',\n",
    "        'Processor':                                            'category',\n",
    "        'OsVer':                                                'category',\n",
    "        'OsBuild':                                              'int16',\n",
    "        'OsSuite':                                              'int16',\n",
    "        'OsPlatformSubRelease':                                 'category',\n",
    "        'OsBuildLab':                                           'category',\n",
    "        'SkuEdition':                                           'category',\n",
    "        'IsProtected':                                          'float16',\n",
    "        'AutoSampleOptIn':                                      'int8',\n",
    "        'PuaMode':                                              'category',\n",
    "        'SMode':                                                'float16',\n",
    "        'IeVerIdentifier':                                      'float16',\n",
    "        'SmartScreen':                                          'category',\n",
    "        'Firewall':                                             'float16',\n",
    "        'UacLuaenable':                                         'float32',\n",
    "        'Census_MDC2FormFactor':                                'category',\n",
    "        'Census_DeviceFamily':                                  'category',\n",
    "        'Census_OEMNameIdentifier':                             'float16',\n",
    "        'Census_OEMModelIdentifier':                            'float32',\n",
    "        'Census_ProcessorCoreCount':                            'float16',\n",
    "        'Census_ProcessorManufacturerIdentifier':               'float16',\n",
    "        'Census_ProcessorModelIdentifier':                      'float16',\n",
    "        'Census_ProcessorClass':                                'category',\n",
    "        'Census_PrimaryDiskTotalCapacity':                      'float32',\n",
    "        'Census_PrimaryDiskTypeName':                           'category',\n",
    "        'Census_SystemVolumeTotalCapacity':                     'float32',\n",
    "        'Census_HasOpticalDiskDrive':                           'int8',\n",
    "        'Census_TotalPhysicalRAM':                              'float32',\n",
    "        'Census_ChassisTypeName':                               'category',\n",
    "        'Census_InternalPrimaryDiagonalDisplaySizeInInches':    'float16',\n",
    "        'Census_InternalPrimaryDisplayResolutionHorizontal':    'float16',\n",
    "        'Census_InternalPrimaryDisplayResolutionVertical':      'float16',\n",
    "        'Census_PowerPlatformRoleName':                         'category',\n",
    "        'Census_InternalBatteryType':                           'category',\n",
    "        'Census_InternalBatteryNumberOfCharges':                'float32',\n",
    "        'Census_OSVersion':                                     'category',\n",
    "        'Census_OSArchitecture':                                'category',\n",
    "        'Census_OSBranch':                                      'category',\n",
    "        'Census_OSBuildNumber':                                 'int16',\n",
    "        'Census_OSBuildRevision':                               'int32',\n",
    "        'Census_OSEdition':                                     'category',\n",
    "        'Census_OSSkuName':                                     'category',\n",
    "        'Census_OSInstallTypeName':                             'category',\n",
    "        'Census_OSInstallLanguageIdentifier':                   'float16',\n",
    "        'Census_OSUILocaleIdentifier':                          'int16',\n",
    "        'Census_OSWUAutoUpdateOptionsName':                     'category',\n",
    "        'Census_IsPortableOperatingSystem':                     'int8',\n",
    "        'Census_GenuineStateName':                              'category',\n",
    "        'Census_ActivationChannel':                             'category',\n",
    "        'Census_IsFlightingInternal':                           'float16',\n",
    "        'Census_IsFlightsDisabled':                             'float16',\n",
    "        'Census_FlightRing':                                    'category',\n",
    "        'Census_ThresholdOptIn':                                'float16',\n",
    "        'Census_FirmwareManufacturerIdentifier':                'float16',\n",
    "        'Census_FirmwareVersionIdentifier':                     'float32',\n",
    "        'Census_IsSecureBootEnabled':                           'int8',\n",
    "        'Census_IsWIMBootEnabled':                              'float16',\n",
    "        'Census_IsVirtualDevice':                               'float16',\n",
    "        'Census_IsTouchEnabled':                                'int8',\n",
    "        'Census_IsPenCapable':                                  'int8',\n",
    "        'Census_IsAlwaysOnAlwaysConnectedCapable':              'float16',\n",
    "        'Wdft_IsGamer':                                         'float16',\n",
    "        'Wdft_RegionIdentifier':                                'float16',\n",
    "        'HasDetections':                                        'int8'\n",
    "        }"
   ]
  },
  {
   "cell_type": "code",
   "execution_count": 4,
   "metadata": {},
   "outputs": [],
   "source": [
    "fulldata = pd.read_csv('./malwareData.csv',dtype=dtypes)"
   ]
  },
  {
   "cell_type": "markdown",
   "metadata": {},
   "source": [
    "Now that we have our datset loaded, it's time to narrow it down to the variables we want to analyze"
   ]
  },
  {
   "cell_type": "markdown",
   "metadata": {},
   "source": [
    "Now we can narrow our dataset to computers that only have up to date anti-virus software. This means that we want to keep observations where IsProtected is 1."
   ]
  },
  {
   "cell_type": "code",
   "execution_count": 5,
   "metadata": {},
   "outputs": [],
   "source": [
    "data = fulldata[fulldata['IsProtected'] == 1.0]\n"
   ]
  },
  {
   "cell_type": "markdown",
   "metadata": {},
   "source": [
    "We then want to narrow our observations to computers that have up to date anti-virus software."
   ]
  },
  {
   "cell_type": "markdown",
   "metadata": {},
   "source": [
    "As stated above in the Dataset section, we want to analyze only the following variables:\n",
    "\n",
    "* AVProductStatesIdentifier\n",
    "* AVProductsInstalled\n",
    "* AVProductsEnabled\n",
    "* HasTpm\n",
    "* CountryIdentifier\n",
    "* Platform\n",
    "* Processor\n",
    "* SMode\n",
    "* Firewall\n",
    "* Census_IsSecureBootEnabled\n",
    "* Census_PrimaryDiskTypeName\n",
    "* Census_TotalPhysicalRAM\n",
    "* Wdft_IsGamer\n",
    "* HasDetections\n"
   ]
  },
  {
   "cell_type": "markdown",
   "metadata": {},
   "source": [
    "Why these variables? Some, such as AVProductsEnabled (anti-virus products enabled), or Firewall, clearly relate to the computer security. Others, such as primary disk type, could give hints about a computers age (typically HDD, or hard disk drive, are in older computers). This could be important as computers may not be getting the most up to date software."
   ]
  },
  {
   "cell_type": "markdown",
   "metadata": {},
   "source": [
    "Let us narrow down our dataset to contain only the variables we want to analyze:"
   ]
  },
  {
   "cell_type": "code",
   "execution_count": 6,
   "metadata": {},
   "outputs": [],
   "source": [
    "\n",
    "data = data[['AVProductStatesIdentifier','AVProductsInstalled','AVProductsEnabled', 'HasTpm', 'CountryIdentifier', 'Platform','Processor', 'SMode',\n",
    "             'Firewall','Census_IsSecureBootEnabled','Census_PrimaryDiskTypeName','Census_TotalPhysicalRAM','Wdft_IsGamer','HasDetections']]\n"
   ]
  },
  {
   "cell_type": "markdown",
   "metadata": {},
   "source": [
    "Check if there are any missing data in the data frame"
   ]
  },
  {
   "cell_type": "code",
   "execution_count": 7,
   "metadata": {},
   "outputs": [
    {
     "name": "stdout",
     "output_type": "stream",
     "text": [
      "AVProductStatesIdentifier        0\n",
      "AVProductsInstalled              0\n",
      "AVProductsEnabled                0\n",
      "HasTpm                           0\n",
      "CountryIdentifier                0\n",
      "Platform                         0\n",
      "Processor                        0\n",
      "SMode                         4585\n",
      "Firewall                      1016\n",
      "Census_IsSecureBootEnabled       0\n",
      "Census_PrimaryDiskTypeName     142\n",
      "Census_TotalPhysicalRAM        861\n",
      "Wdft_IsGamer                  3308\n",
      "HasDetections                    0\n",
      "dtype: int64\n",
      "\n",
      "(94116, 14)\n"
     ]
    }
   ],
   "source": [
    "print(data.isnull().sum())\n",
    "\n",
    "#check the shape of the dataset including null values\n",
    "print(\"\\n\" + str(data.shape))"
   ]
  },
  {
   "cell_type": "markdown",
   "metadata": {},
   "source": [
    "Because we do need all columns with meaningful values to build our predictive models, we need to get rid the code of null values:"
   ]
  },
  {
   "cell_type": "code",
   "execution_count": 8,
   "metadata": {},
   "outputs": [],
   "source": [
    "data = data.dropna()\n"
   ]
  },
  {
   "cell_type": "markdown",
   "metadata": {},
   "source": [
    "Quick look at the stripped data:"
   ]
  },
  {
   "cell_type": "code",
   "execution_count": 9,
   "metadata": {},
   "outputs": [
    {
     "data": {
      "text/html": [
       "<div>\n",
       "<style scoped>\n",
       "    .dataframe tbody tr th:only-of-type {\n",
       "        vertical-align: middle;\n",
       "    }\n",
       "\n",
       "    .dataframe tbody tr th {\n",
       "        vertical-align: top;\n",
       "    }\n",
       "\n",
       "    .dataframe thead th {\n",
       "        text-align: right;\n",
       "    }\n",
       "</style>\n",
       "<table border=\"1\" class=\"dataframe\">\n",
       "  <thead>\n",
       "    <tr style=\"text-align: right;\">\n",
       "      <th></th>\n",
       "      <th>AVProductStatesIdentifier</th>\n",
       "      <th>AVProductsInstalled</th>\n",
       "      <th>AVProductsEnabled</th>\n",
       "      <th>HasTpm</th>\n",
       "      <th>CountryIdentifier</th>\n",
       "      <th>Platform</th>\n",
       "      <th>Processor</th>\n",
       "      <th>SMode</th>\n",
       "      <th>Firewall</th>\n",
       "      <th>Census_IsSecureBootEnabled</th>\n",
       "      <th>Census_PrimaryDiskTypeName</th>\n",
       "      <th>Census_TotalPhysicalRAM</th>\n",
       "      <th>Wdft_IsGamer</th>\n",
       "      <th>HasDetections</th>\n",
       "    </tr>\n",
       "  </thead>\n",
       "  <tbody>\n",
       "    <tr>\n",
       "      <th>0</th>\n",
       "      <td>53447.0</td>\n",
       "      <td>1.0</td>\n",
       "      <td>1.0</td>\n",
       "      <td>1</td>\n",
       "      <td>29</td>\n",
       "      <td>windows10</td>\n",
       "      <td>x64</td>\n",
       "      <td>0.0</td>\n",
       "      <td>1.0</td>\n",
       "      <td>0</td>\n",
       "      <td>HDD</td>\n",
       "      <td>4096.0</td>\n",
       "      <td>0.0</td>\n",
       "      <td>0</td>\n",
       "    </tr>\n",
       "    <tr>\n",
       "      <th>1</th>\n",
       "      <td>53447.0</td>\n",
       "      <td>1.0</td>\n",
       "      <td>1.0</td>\n",
       "      <td>1</td>\n",
       "      <td>93</td>\n",
       "      <td>windows10</td>\n",
       "      <td>x64</td>\n",
       "      <td>0.0</td>\n",
       "      <td>1.0</td>\n",
       "      <td>0</td>\n",
       "      <td>HDD</td>\n",
       "      <td>4096.0</td>\n",
       "      <td>0.0</td>\n",
       "      <td>0</td>\n",
       "    </tr>\n",
       "    <tr>\n",
       "      <th>2</th>\n",
       "      <td>53447.0</td>\n",
       "      <td>1.0</td>\n",
       "      <td>1.0</td>\n",
       "      <td>1</td>\n",
       "      <td>86</td>\n",
       "      <td>windows10</td>\n",
       "      <td>x64</td>\n",
       "      <td>0.0</td>\n",
       "      <td>1.0</td>\n",
       "      <td>0</td>\n",
       "      <td>SSD</td>\n",
       "      <td>4096.0</td>\n",
       "      <td>0.0</td>\n",
       "      <td>0</td>\n",
       "    </tr>\n",
       "    <tr>\n",
       "      <th>3</th>\n",
       "      <td>53447.0</td>\n",
       "      <td>1.0</td>\n",
       "      <td>1.0</td>\n",
       "      <td>1</td>\n",
       "      <td>88</td>\n",
       "      <td>windows10</td>\n",
       "      <td>x64</td>\n",
       "      <td>0.0</td>\n",
       "      <td>1.0</td>\n",
       "      <td>0</td>\n",
       "      <td>UNKNOWN</td>\n",
       "      <td>4096.0</td>\n",
       "      <td>0.0</td>\n",
       "      <td>1</td>\n",
       "    </tr>\n",
       "    <tr>\n",
       "      <th>4</th>\n",
       "      <td>53447.0</td>\n",
       "      <td>1.0</td>\n",
       "      <td>1.0</td>\n",
       "      <td>1</td>\n",
       "      <td>18</td>\n",
       "      <td>windows10</td>\n",
       "      <td>x64</td>\n",
       "      <td>0.0</td>\n",
       "      <td>1.0</td>\n",
       "      <td>0</td>\n",
       "      <td>HDD</td>\n",
       "      <td>6144.0</td>\n",
       "      <td>0.0</td>\n",
       "      <td>1</td>\n",
       "    </tr>\n",
       "  </tbody>\n",
       "</table>\n",
       "</div>"
      ],
      "text/plain": [
       "   AVProductStatesIdentifier  AVProductsInstalled  AVProductsEnabled  HasTpm  \\\n",
       "0                    53447.0                  1.0                1.0       1   \n",
       "1                    53447.0                  1.0                1.0       1   \n",
       "2                    53447.0                  1.0                1.0       1   \n",
       "3                    53447.0                  1.0                1.0       1   \n",
       "4                    53447.0                  1.0                1.0       1   \n",
       "\n",
       "   CountryIdentifier   Platform Processor  SMode  Firewall  \\\n",
       "0                 29  windows10       x64    0.0       1.0   \n",
       "1                 93  windows10       x64    0.0       1.0   \n",
       "2                 86  windows10       x64    0.0       1.0   \n",
       "3                 88  windows10       x64    0.0       1.0   \n",
       "4                 18  windows10       x64    0.0       1.0   \n",
       "\n",
       "   Census_IsSecureBootEnabled Census_PrimaryDiskTypeName  \\\n",
       "0                           0                        HDD   \n",
       "1                           0                        HDD   \n",
       "2                           0                        SSD   \n",
       "3                           0                    UNKNOWN   \n",
       "4                           0                        HDD   \n",
       "\n",
       "   Census_TotalPhysicalRAM  Wdft_IsGamer  HasDetections  \n",
       "0                   4096.0           0.0              0  \n",
       "1                   4096.0           0.0              0  \n",
       "2                   4096.0           0.0              0  \n",
       "3                   4096.0           0.0              1  \n",
       "4                   6144.0           0.0              1  "
      ]
     },
     "execution_count": 9,
     "metadata": {},
     "output_type": "execute_result"
    }
   ],
   "source": [
    "data.head()"
   ]
  },
  {
   "cell_type": "code",
   "execution_count": 10,
   "metadata": {},
   "outputs": [
    {
     "data": {
      "text/plain": [
       "AVProductStatesIdentifier      float32\n",
       "AVProductsInstalled            float16\n",
       "AVProductsEnabled              float16\n",
       "HasTpm                            int8\n",
       "CountryIdentifier                int16\n",
       "Platform                      category\n",
       "Processor                     category\n",
       "SMode                          float16\n",
       "Firewall                       float16\n",
       "Census_IsSecureBootEnabled        int8\n",
       "Census_PrimaryDiskTypeName    category\n",
       "Census_TotalPhysicalRAM        float32\n",
       "Wdft_IsGamer                   float16\n",
       "HasDetections                     int8\n",
       "dtype: object"
      ]
     },
     "execution_count": 10,
     "metadata": {},
     "output_type": "execute_result"
    }
   ],
   "source": [
    "data.dtypes"
   ]
  },
  {
   "cell_type": "markdown",
   "metadata": {},
   "source": [
    "# Exploratory and Descriptive Data Analysis"
   ]
  },
  {
   "cell_type": "code",
   "execution_count": 11,
   "metadata": {},
   "outputs": [
    {
     "data": {
      "text/html": [
       "<div>\n",
       "<style scoped>\n",
       "    .dataframe tbody tr th:only-of-type {\n",
       "        vertical-align: middle;\n",
       "    }\n",
       "\n",
       "    .dataframe tbody tr th {\n",
       "        vertical-align: top;\n",
       "    }\n",
       "\n",
       "    .dataframe thead th {\n",
       "        text-align: right;\n",
       "    }\n",
       "</style>\n",
       "<table border=\"1\" class=\"dataframe\">\n",
       "  <thead>\n",
       "    <tr style=\"text-align: right;\">\n",
       "      <th></th>\n",
       "      <th>AVProductStatesIdentifier</th>\n",
       "      <th>AVProductsInstalled</th>\n",
       "      <th>AVProductsEnabled</th>\n",
       "      <th>HasTpm</th>\n",
       "      <th>CountryIdentifier</th>\n",
       "      <th>Platform</th>\n",
       "      <th>Processor</th>\n",
       "      <th>SMode</th>\n",
       "      <th>Firewall</th>\n",
       "      <th>Census_IsSecureBootEnabled</th>\n",
       "      <th>Census_PrimaryDiskTypeName</th>\n",
       "      <th>Census_TotalPhysicalRAM</th>\n",
       "      <th>Wdft_IsGamer</th>\n",
       "      <th>HasDetections</th>\n",
       "    </tr>\n",
       "  </thead>\n",
       "  <tbody>\n",
       "    <tr>\n",
       "      <th>0</th>\n",
       "      <td>53447.0</td>\n",
       "      <td>1.0</td>\n",
       "      <td>1.0</td>\n",
       "      <td>1</td>\n",
       "      <td>29</td>\n",
       "      <td>windows10</td>\n",
       "      <td>x64</td>\n",
       "      <td>0.0</td>\n",
       "      <td>1.0</td>\n",
       "      <td>0</td>\n",
       "      <td>HDD</td>\n",
       "      <td>4096.0</td>\n",
       "      <td>0.0</td>\n",
       "      <td>0</td>\n",
       "    </tr>\n",
       "    <tr>\n",
       "      <th>1</th>\n",
       "      <td>53447.0</td>\n",
       "      <td>1.0</td>\n",
       "      <td>1.0</td>\n",
       "      <td>1</td>\n",
       "      <td>93</td>\n",
       "      <td>windows10</td>\n",
       "      <td>x64</td>\n",
       "      <td>0.0</td>\n",
       "      <td>1.0</td>\n",
       "      <td>0</td>\n",
       "      <td>HDD</td>\n",
       "      <td>4096.0</td>\n",
       "      <td>0.0</td>\n",
       "      <td>0</td>\n",
       "    </tr>\n",
       "    <tr>\n",
       "      <th>2</th>\n",
       "      <td>53447.0</td>\n",
       "      <td>1.0</td>\n",
       "      <td>1.0</td>\n",
       "      <td>1</td>\n",
       "      <td>86</td>\n",
       "      <td>windows10</td>\n",
       "      <td>x64</td>\n",
       "      <td>0.0</td>\n",
       "      <td>1.0</td>\n",
       "      <td>0</td>\n",
       "      <td>SSD</td>\n",
       "      <td>4096.0</td>\n",
       "      <td>0.0</td>\n",
       "      <td>0</td>\n",
       "    </tr>\n",
       "    <tr>\n",
       "      <th>3</th>\n",
       "      <td>53447.0</td>\n",
       "      <td>1.0</td>\n",
       "      <td>1.0</td>\n",
       "      <td>1</td>\n",
       "      <td>88</td>\n",
       "      <td>windows10</td>\n",
       "      <td>x64</td>\n",
       "      <td>0.0</td>\n",
       "      <td>1.0</td>\n",
       "      <td>0</td>\n",
       "      <td>UNKNOWN</td>\n",
       "      <td>4096.0</td>\n",
       "      <td>0.0</td>\n",
       "      <td>1</td>\n",
       "    </tr>\n",
       "    <tr>\n",
       "      <th>4</th>\n",
       "      <td>53447.0</td>\n",
       "      <td>1.0</td>\n",
       "      <td>1.0</td>\n",
       "      <td>1</td>\n",
       "      <td>18</td>\n",
       "      <td>windows10</td>\n",
       "      <td>x64</td>\n",
       "      <td>0.0</td>\n",
       "      <td>1.0</td>\n",
       "      <td>0</td>\n",
       "      <td>HDD</td>\n",
       "      <td>6144.0</td>\n",
       "      <td>0.0</td>\n",
       "      <td>1</td>\n",
       "    </tr>\n",
       "  </tbody>\n",
       "</table>\n",
       "</div>"
      ],
      "text/plain": [
       "   AVProductStatesIdentifier  AVProductsInstalled  AVProductsEnabled  HasTpm  \\\n",
       "0                    53447.0                  1.0                1.0       1   \n",
       "1                    53447.0                  1.0                1.0       1   \n",
       "2                    53447.0                  1.0                1.0       1   \n",
       "3                    53447.0                  1.0                1.0       1   \n",
       "4                    53447.0                  1.0                1.0       1   \n",
       "\n",
       "   CountryIdentifier   Platform Processor  SMode  Firewall  \\\n",
       "0                 29  windows10       x64    0.0       1.0   \n",
       "1                 93  windows10       x64    0.0       1.0   \n",
       "2                 86  windows10       x64    0.0       1.0   \n",
       "3                 88  windows10       x64    0.0       1.0   \n",
       "4                 18  windows10       x64    0.0       1.0   \n",
       "\n",
       "   Census_IsSecureBootEnabled Census_PrimaryDiskTypeName  \\\n",
       "0                           0                        HDD   \n",
       "1                           0                        HDD   \n",
       "2                           0                        SSD   \n",
       "3                           0                    UNKNOWN   \n",
       "4                           0                        HDD   \n",
       "\n",
       "   Census_TotalPhysicalRAM  Wdft_IsGamer  HasDetections  \n",
       "0                   4096.0           0.0              0  \n",
       "1                   4096.0           0.0              0  \n",
       "2                   4096.0           0.0              0  \n",
       "3                   4096.0           0.0              1  \n",
       "4                   6144.0           0.0              1  "
      ]
     },
     "execution_count": 11,
     "metadata": {},
     "output_type": "execute_result"
    }
   ],
   "source": [
    "data.head()"
   ]
  },
  {
   "cell_type": "markdown",
   "metadata": {},
   "source": [
    " "
   ]
  },
  {
   "cell_type": "markdown",
   "metadata": {},
   "source": [
    "\n",
    "Get an idea of the number of rows and columns of the data (excluding the null values), and basic description of the dataset"
   ]
  },
  {
   "cell_type": "code",
   "execution_count": 12,
   "metadata": {
    "scrolled": true
   },
   "outputs": [
    {
     "name": "stdout",
     "output_type": "stream",
     "text": [
      "number of rows: 84702; number of columns: 14\n",
      "\n"
     ]
    },
    {
     "data": {
      "text/html": [
       "<div>\n",
       "<style scoped>\n",
       "    .dataframe tbody tr th:only-of-type {\n",
       "        vertical-align: middle;\n",
       "    }\n",
       "\n",
       "    .dataframe tbody tr th {\n",
       "        vertical-align: top;\n",
       "    }\n",
       "\n",
       "    .dataframe thead th {\n",
       "        text-align: right;\n",
       "    }\n",
       "</style>\n",
       "<table border=\"1\" class=\"dataframe\">\n",
       "  <thead>\n",
       "    <tr style=\"text-align: right;\">\n",
       "      <th></th>\n",
       "      <th>AVProductStatesIdentifier</th>\n",
       "      <th>AVProductsInstalled</th>\n",
       "      <th>AVProductsEnabled</th>\n",
       "      <th>HasTpm</th>\n",
       "      <th>CountryIdentifier</th>\n",
       "      <th>SMode</th>\n",
       "      <th>Firewall</th>\n",
       "      <th>Census_IsSecureBootEnabled</th>\n",
       "      <th>Census_TotalPhysicalRAM</th>\n",
       "      <th>Wdft_IsGamer</th>\n",
       "      <th>HasDetections</th>\n",
       "    </tr>\n",
       "  </thead>\n",
       "  <tbody>\n",
       "    <tr>\n",
       "      <th>count</th>\n",
       "      <td>84702.000000</td>\n",
       "      <td>84702.0</td>\n",
       "      <td>84702.0</td>\n",
       "      <td>84702.000000</td>\n",
       "      <td>84702.000000</td>\n",
       "      <td>84702.0</td>\n",
       "      <td>84702.0</td>\n",
       "      <td>84702.000000</td>\n",
       "      <td>84702.000000</td>\n",
       "      <td>84702.0</td>\n",
       "      <td>84702.000000</td>\n",
       "    </tr>\n",
       "    <tr>\n",
       "      <th>mean</th>\n",
       "      <td>47667.164062</td>\n",
       "      <td>NaN</td>\n",
       "      <td>NaN</td>\n",
       "      <td>0.997214</td>\n",
       "      <td>108.331905</td>\n",
       "      <td>0.0</td>\n",
       "      <td>NaN</td>\n",
       "      <td>0.487037</td>\n",
       "      <td>6143.645996</td>\n",
       "      <td>0.0</td>\n",
       "      <td>0.510012</td>\n",
       "    </tr>\n",
       "    <tr>\n",
       "      <th>std</th>\n",
       "      <td>13524.596680</td>\n",
       "      <td>0.0</td>\n",
       "      <td>0.0</td>\n",
       "      <td>0.052712</td>\n",
       "      <td>63.165487</td>\n",
       "      <td>0.0</td>\n",
       "      <td>0.0</td>\n",
       "      <td>0.499835</td>\n",
       "      <td>4715.184570</td>\n",
       "      <td>0.0</td>\n",
       "      <td>0.499903</td>\n",
       "    </tr>\n",
       "    <tr>\n",
       "      <th>min</th>\n",
       "      <td>39.000000</td>\n",
       "      <td>1.0</td>\n",
       "      <td>1.0</td>\n",
       "      <td>0.000000</td>\n",
       "      <td>1.000000</td>\n",
       "      <td>0.0</td>\n",
       "      <td>0.0</td>\n",
       "      <td>0.000000</td>\n",
       "      <td>512.000000</td>\n",
       "      <td>0.0</td>\n",
       "      <td>0.000000</td>\n",
       "    </tr>\n",
       "    <tr>\n",
       "      <th>25%</th>\n",
       "      <td>49480.000000</td>\n",
       "      <td>1.0</td>\n",
       "      <td>1.0</td>\n",
       "      <td>1.000000</td>\n",
       "      <td>51.000000</td>\n",
       "      <td>0.0</td>\n",
       "      <td>1.0</td>\n",
       "      <td>0.000000</td>\n",
       "      <td>4096.000000</td>\n",
       "      <td>0.0</td>\n",
       "      <td>0.000000</td>\n",
       "    </tr>\n",
       "    <tr>\n",
       "      <th>50%</th>\n",
       "      <td>53447.000000</td>\n",
       "      <td>1.0</td>\n",
       "      <td>1.0</td>\n",
       "      <td>1.000000</td>\n",
       "      <td>97.000000</td>\n",
       "      <td>0.0</td>\n",
       "      <td>1.0</td>\n",
       "      <td>0.000000</td>\n",
       "      <td>4096.000000</td>\n",
       "      <td>0.0</td>\n",
       "      <td>1.000000</td>\n",
       "    </tr>\n",
       "    <tr>\n",
       "      <th>75%</th>\n",
       "      <td>53447.000000</td>\n",
       "      <td>2.0</td>\n",
       "      <td>1.0</td>\n",
       "      <td>1.000000</td>\n",
       "      <td>164.000000</td>\n",
       "      <td>0.0</td>\n",
       "      <td>1.0</td>\n",
       "      <td>1.000000</td>\n",
       "      <td>8192.000000</td>\n",
       "      <td>1.0</td>\n",
       "      <td>1.000000</td>\n",
       "    </tr>\n",
       "    <tr>\n",
       "      <th>max</th>\n",
       "      <td>70459.000000</td>\n",
       "      <td>5.0</td>\n",
       "      <td>4.0</td>\n",
       "      <td>1.000000</td>\n",
       "      <td>222.000000</td>\n",
       "      <td>1.0</td>\n",
       "      <td>1.0</td>\n",
       "      <td>1.000000</td>\n",
       "      <td>262144.000000</td>\n",
       "      <td>1.0</td>\n",
       "      <td>1.000000</td>\n",
       "    </tr>\n",
       "  </tbody>\n",
       "</table>\n",
       "</div>"
      ],
      "text/plain": [
       "       AVProductStatesIdentifier  AVProductsInstalled  AVProductsEnabled  \\\n",
       "count               84702.000000              84702.0            84702.0   \n",
       "mean                47667.164062                  NaN                NaN   \n",
       "std                 13524.596680                  0.0                0.0   \n",
       "min                    39.000000                  1.0                1.0   \n",
       "25%                 49480.000000                  1.0                1.0   \n",
       "50%                 53447.000000                  1.0                1.0   \n",
       "75%                 53447.000000                  2.0                1.0   \n",
       "max                 70459.000000                  5.0                4.0   \n",
       "\n",
       "             HasTpm  CountryIdentifier    SMode  Firewall  \\\n",
       "count  84702.000000       84702.000000  84702.0   84702.0   \n",
       "mean       0.997214         108.331905      0.0       NaN   \n",
       "std        0.052712          63.165487      0.0       0.0   \n",
       "min        0.000000           1.000000      0.0       0.0   \n",
       "25%        1.000000          51.000000      0.0       1.0   \n",
       "50%        1.000000          97.000000      0.0       1.0   \n",
       "75%        1.000000         164.000000      0.0       1.0   \n",
       "max        1.000000         222.000000      1.0       1.0   \n",
       "\n",
       "       Census_IsSecureBootEnabled  Census_TotalPhysicalRAM  Wdft_IsGamer  \\\n",
       "count                84702.000000             84702.000000       84702.0   \n",
       "mean                     0.487037              6143.645996           0.0   \n",
       "std                      0.499835              4715.184570           0.0   \n",
       "min                      0.000000               512.000000           0.0   \n",
       "25%                      0.000000              4096.000000           0.0   \n",
       "50%                      0.000000              4096.000000           0.0   \n",
       "75%                      1.000000              8192.000000           1.0   \n",
       "max                      1.000000            262144.000000           1.0   \n",
       "\n",
       "       HasDetections  \n",
       "count   84702.000000  \n",
       "mean        0.510012  \n",
       "std         0.499903  \n",
       "min         0.000000  \n",
       "25%         0.000000  \n",
       "50%         1.000000  \n",
       "75%         1.000000  \n",
       "max         1.000000  "
      ]
     },
     "execution_count": 12,
     "metadata": {},
     "output_type": "execute_result"
    }
   ],
   "source": [
    "row_num, col_num = data.shape\n",
    "print(\"number of rows: \" + str(row_num) + \"; number of columns: \" + str(col_num), end = \"\\n\\n\")\n",
    "\n",
    "data.describe()"
   ]
  },
  {
   "cell_type": "markdown",
   "metadata": {},
   "source": [
    "We can see that many columns of the dataset are binary, meaning that it only contains 0 or 1. There are three that contains\n",
    "strings, processor, Census_PrimaryDiskTypeName, and Platform, and there are three that has non-binary float numers, \n",
    "Census_TotalPhysicalRAM, CountryIdentifier and AVProductStatesIdentifier"
   ]
  },
  {
   "cell_type": "markdown",
   "metadata": {},
   "source": [
    "Since many of the columns are binary and as we plan to use a logistic regression model later, it is useful to have an idea if\n",
    "any of the columns (excluding HasDetection and columns containing strings) are highly correlated with each other"
   ]
  },
  {
   "cell_type": "markdown",
   "metadata": {},
   "source": [
    "Below are the definitions of two functions that calculates the correlation between each column, store the values in a dict\n",
    "and print the correlation values:"
   ]
  },
  {
   "cell_type": "code",
   "execution_count": 13,
   "metadata": {},
   "outputs": [],
   "source": [
    "def populate_corr_dict(cols):\n",
    "    for col1 in cols:\n",
    "        if col1 not in corr_dict:\n",
    "            corr_dict[col1] = dict()\n",
    "        for col2 in cols:\n",
    "            if col2 != col1 and col2 not in corr_dict:\n",
    "                corr_dict[col1][col2] = data.corr()[col1][col2]\n",
    "\n",
    "def print_corr(count_total, count_small):\n",
    "    for k1 in corr_dict:\n",
    "        for k2 in corr_dict[k1]:\n",
    "            if abs(corr_dict[k1][k2]) >= 0.5:\n",
    "                print(\"\\n\\nColumn1: \" + k1 + \"; Column2: \" + k2 + \"; abs(corr) > 0.5: \" + str(corr_dict[k1][k2]), end=\"\\n\\n\")\n",
    "            elif abs(corr_dict[k1][k2]) <= 0.1:\n",
    "                count_small += 1;\n",
    "            else:\n",
    "                print(\"Column1: \" + k1 + \"; Column2: \" + k2 + \"; 0.1 < abs(corr) < 0.5: \" + str(corr_dict[k1][k2]))\n",
    "            count_total += 1;\n",
    "\n",
    "    print(\"\\n\\nTotal counts: \"+ str(count_total) + \"; counts of corr less than 0.1 : \" + str(count_small))"
   ]
  },
  {
   "cell_type": "code",
   "execution_count": 14,
   "metadata": {},
   "outputs": [
    {
     "name": "stdout",
     "output_type": "stream",
     "text": [
      "\n",
      "\n",
      "Column1: AVProductStatesIdentifier; Column2: AVProductsInstalled; abs(corr) > 0.5: -0.66159490241\n",
      "\n",
      "Column1: AVProductStatesIdentifier; Column2: AVProductsEnabled; 0.1 < abs(corr) < 0.5: -0.126306745829\n",
      "Column1: AVProductsInstalled; Column2: AVProductsEnabled; 0.1 < abs(corr) < 0.5: 0.294800598955\n",
      "Column1: AVProductsInstalled; Column2: Census_IsSecureBootEnabled; 0.1 < abs(corr) < 0.5: 0.214086605161\n",
      "Column1: Census_TotalPhysicalRAM; Column2: Wdft_IsGamer; 0.1 < abs(corr) < 0.5: 0.156777851528\n",
      "\n",
      "\n",
      "Total counts: 45; counts of corr less than 0.1 : 40\n"
     ]
    }
   ],
   "source": [
    "corr_dict = dict()\n",
    "cols = [col for col in data.columns if col not in ['HasDetections', 'Processor', 'Platform', 'Census_PrimaryDiskTypeName'] ]\n",
    "\n",
    "populate_corr_dict(cols)\n",
    "\n",
    "count_total, count_small = (0, 0)\n",
    "            \n",
    "print_corr(count_total, count_small)"
   ]
  },
  {
   "cell_type": "markdown",
   "metadata": {},
   "source": [
    "**Text Above:** only two columns have absolute value of correlation higher than 0.5. And majority of the columns have correlation less then 0.1. Those with correlation between 0.1 and 0.5 are around 0.1~0.2."
   ]
  },
  {
   "cell_type": "markdown",
   "metadata": {},
   "source": [
    "### Proportion of the AVG installed vs AVProducsEnabled\n",
    "Here we can see the porportion of AVProductsInstalled verses AVProductsEnabled."
   ]
  },
  {
   "cell_type": "code",
   "execution_count": 15,
   "metadata": {},
   "outputs": [
    {
     "name": "stdout",
     "output_type": "stream",
     "text": [
      "    AVProductsInstalled  AVProductsEnabled  proportion\n",
      "0                   1.0                1.0    1.000000\n",
      "1                   2.0                1.0    0.948387\n",
      "2                   2.0                2.0    0.051613\n",
      "3                   3.0                1.0    0.708535\n",
      "4                   3.0                2.0    0.273752\n",
      "5                   3.0                3.0    0.017713\n",
      "6                   4.0                1.0    0.500000\n",
      "7                   4.0                2.0    0.382353\n",
      "8                   4.0                3.0    0.102941\n",
      "9                   4.0                4.0    0.014706\n",
      "10                  5.0                4.0    0.666667\n",
      "11                  5.0                1.0    0.333333\n"
     ]
    },
    {
     "data": {
      "image/png": "[encoded data removed]",
      "text/plain": [
       "<Figure size 432x288 with 1 Axes>"
      ]
     },
     "metadata": {
      "needs_background": "light"
     },
     "output_type": "display_data"
    }
   ],
   "source": [
    "proportion_df = (data['AVProductsEnabled']\n",
    "           .groupby(data['AVProductsInstalled'])\n",
    "           .value_counts(normalize=True)\n",
    "           .rename('proportion',inplace=True)\n",
    "           .reset_index())\n",
    "print(proportion_df)\n",
    "sns.barplot(x='AVProductsInstalled', \n",
    "            y='proportion', \n",
    "            hue='AVProductsEnabled', \n",
    "            data=proportion_df);"
   ]
  },
  {
   "cell_type": "markdown",
   "metadata": {},
   "source": [
    "**Graph Above:** We can see whether or not the installed products were enabled. Or if the user \n",
    "decides to enable another product other than the one they installed.\n",
    "\n",
    "\n",
    "\n",
    "\n",
    "Let's use a scatterplot to see how the number of AVProductsEnabled changes as number of AVProductsInstalled changes"
   ]
  },
  {
   "cell_type": "code",
   "execution_count": 16,
   "metadata": {
    "scrolled": true
   },
   "outputs": [
    {
     "data": {
      "text/plain": [
       "Text(0.5, 1.0, 'Proportion of AVProductsEnabled compare to the number of AVProductsInstalled')"
      ]
     },
     "execution_count": 16,
     "metadata": {},
     "output_type": "execute_result"
    },
    {
     "data": {
      "image/png": "[encoded data removed]",
      "text/plain": [
       "<Figure size 465.625x360 with 1 Axes>"
      ]
     },
     "metadata": {
      "needs_background": "light"
     },
     "output_type": "display_data"
    }
   ],
   "source": [
    "sns.lmplot(x='AVProductsInstalled', y='proportion', hue='AVProductsEnabled', data=proportion_df, legend=True)\n",
    "ax = plt.gca()\n",
    "ax.set_title(\"Proportion of AVProductsEnabled compare to the number of AVProductsInstalled\")"
   ]
  },
  {
   "cell_type": "markdown",
   "metadata": {},
   "source": [
    "By looking at the graph above, most users only enabled 1 AV products. The more AVProducts installed, more tend to be enabled"
   ]
  },
  {
   "cell_type": "markdown",
   "metadata": {},
   "source": [
    "### Enabled vs Has Detection\n",
    "Now that we see how much AVProducts is enabled, we will see if the enabled AVProducts has detections of malware or not."
   ]
  },
  {
   "cell_type": "code",
   "execution_count": 17,
   "metadata": {},
   "outputs": [
    {
     "data": {
      "image/png": "[encoded data removed]",
      "text/plain": [
       "<Figure size 432x288 with 1 Axes>"
      ]
     },
     "metadata": {
      "needs_background": "light"
     },
     "output_type": "display_data"
    }
   ],
   "source": [
    "enabled_hasDet_proportion = (data['HasDetections']\n",
    "           .groupby(data['AVProductsEnabled'])\n",
    "           .value_counts(normalize=True)\n",
    "           .rename('proportion',inplace=True)\n",
    "           .reset_index())\n",
    "\n",
    "sns.barplot(x='AVProductsEnabled', \n",
    "            y='proportion', \n",
    "            hue='HasDetections', \n",
    "            data=enabled_hasDet_proportion);"
   ]
  },
  {
   "cell_type": "markdown",
   "metadata": {},
   "source": [
    "Here we can see that AVProductsEnabled 2.0, 3.0. 4.0 has less malware detection than 1.0. "
   ]
  },
  {
   "cell_type": "code",
   "execution_count": 18,
   "metadata": {},
   "outputs": [
    {
     "data": {
      "text/plain": [
       "Text(0.5, 1.0, 'Proportion of HasDetections compare to the number of AVProductsEnabled')"
      ]
     },
     "execution_count": 18,
     "metadata": {},
     "output_type": "execute_result"
    },
    {
     "data": {
      "image/png": "[encoded data removed]",
      "text/plain": [
       "<Figure size 440.625x360 with 1 Axes>"
      ]
     },
     "metadata": {
      "needs_background": "light"
     },
     "output_type": "display_data"
    }
   ],
   "source": [
    "sns.lmplot(x='AVProductsEnabled', y='proportion', hue='HasDetections', data=enabled_hasDet_proportion, legend=True)\n",
    "ax = plt.gca()\n",
    "ax.set_title(\"Proportion of HasDetections compare to the number of AVProductsEnabled\")"
   ]
  },
  {
   "cell_type": "markdown",
   "metadata": {},
   "source": [
    "From the plot above, it seems that the more AVproducts enabled, it is less likely to have a detection. \n",
    "It might be useful to also plot the relationship between AVProductsInstalled and HasDetection"
   ]
  },
  {
   "cell_type": "code",
   "execution_count": 19,
   "metadata": {},
   "outputs": [
    {
     "data": {
      "text/plain": [
       "Text(0.5, 1.0, 'Proportion of HasDetections compare to the number of AVProductsInstalled')"
      ]
     },
     "execution_count": 19,
     "metadata": {},
     "output_type": "execute_result"
    },
    {
     "data": {
      "image/png": "[encoded data removed]",
      "text/plain": [
       "<Figure size 440.625x360 with 1 Axes>"
      ]
     },
     "metadata": {
      "needs_background": "light"
     },
     "output_type": "display_data"
    }
   ],
   "source": [
    "install_hasDet_proportion = (data['HasDetections']\n",
    "           .groupby(data['AVProductsInstalled'])\n",
    "           .value_counts(normalize=True)\n",
    "           .rename('proportion',inplace=True)\n",
    "           .reset_index())\n",
    "\n",
    "sns.lmplot(x='AVProductsInstalled', y='proportion', hue='HasDetections', data=install_hasDet_proportion, legend=True)\n",
    "ax = plt.gca()\n",
    "ax.set_title(\"Proportion of HasDetections compare to the number of AVProductsInstalled\")"
   ]
  },
  {
   "cell_type": "markdown",
   "metadata": {},
   "source": [
    "It seems that more AVProducts installed and more AVProducts enabled, the less likely a virus would be detected.\n",
    "But since more AVProductsInstalled, more are likely to be enabled, we are not sure if AVProduct installation itself affects\n",
    "the virus detection. "
   ]
  },
  {
   "cell_type": "markdown",
   "metadata": {},
   "source": [
    "Below are 4 graphs of proportions of HasDetection compared to the number of AVProductsInstalled. Each graph are based on a \n",
    "sub-dataset from the original dataset, with a one specified number for AVProductsEnabled"
   ]
  },
  {
   "cell_type": "code",
   "execution_count": 20,
   "metadata": {},
   "outputs": [
    {
     "data": {
      "text/plain": [
       "Text(0.5, 1.0, 'Proportion of HasDetections compare to the number of AVProductsInstalled, \\n with AVProductsEnabled equals to 1')"
      ]
     },
     "execution_count": 20,
     "metadata": {},
     "output_type": "execute_result"
    },
    {
     "data": {
      "image/png": "[encoded data removed]",
      "text/plain": [
       "<Figure size 440.625x360 with 1 Axes>"
      ]
     },
     "metadata": {
      "needs_background": "light"
     },
     "output_type": "display_data"
    }
   ],
   "source": [
    "sub_data = data[data['AVProductsEnabled'] == 1]\n",
    "\n",
    "inst_proportion = (sub_data['HasDetections']\n",
    "           .groupby(sub_data['AVProductsInstalled'])\n",
    "           .value_counts(normalize=True)\n",
    "           .rename('proportion',inplace=True)\n",
    "           .reset_index())\n",
    "\n",
    "sns.lmplot(x='AVProductsInstalled', y='proportion', hue='HasDetections', data=inst_proportion, legend=True)\n",
    "ax = plt.gca()\n",
    "ax.set_title(\"Proportion of HasDetections compare to the number of AVProductsInstalled, \\n with AVProductsEnabled equals to 1\")"
   ]
  },
  {
   "cell_type": "code",
   "execution_count": 21,
   "metadata": {},
   "outputs": [
    {
     "data": {
      "text/plain": [
       "Text(0.5, 1.0, 'Proportion of HasDetections compare to the number of AVProductsInstalled, \\n with AVProductsEnabled equals to 2')"
      ]
     },
     "execution_count": 21,
     "metadata": {},
     "output_type": "execute_result"
    },
    {
     "data": {
      "image/png": "[encoded data removed]",
      "text/plain": [
       "<Figure size 440.625x360 with 1 Axes>"
      ]
     },
     "metadata": {
      "needs_background": "light"
     },
     "output_type": "display_data"
    }
   ],
   "source": [
    "sub_data = data[data['AVProductsEnabled'] == 2]\n",
    "\n",
    "inst_proportion = (sub_data['HasDetections']\n",
    "           .groupby(sub_data['AVProductsInstalled'])\n",
    "           .value_counts(normalize=True)\n",
    "           .rename('proportion',inplace=True)\n",
    "           .reset_index())\n",
    "\n",
    "sns.lmplot(x='AVProductsInstalled', y='proportion', hue='HasDetections', data=inst_proportion, legend=True)\n",
    "ax = plt.gca()\n",
    "ax.set_title(\"Proportion of HasDetections compare to the number of AVProductsInstalled, \\n with AVProductsEnabled equals to 2\")"
   ]
  },
  {
   "cell_type": "code",
   "execution_count": 22,
   "metadata": {},
   "outputs": [
    {
     "data": {
      "text/plain": [
       "Text(0.5, 1.0, 'Proportion of HasDetections compare to the number of AVProductsInstalled, \\n with AVProductsEnabled equals to 3')"
      ]
     },
     "execution_count": 22,
     "metadata": {},
     "output_type": "execute_result"
    },
    {
     "data": {
      "image/png": "[encoded data removed]",
      "text/plain": [
       "<Figure size 440.625x360 with 1 Axes>"
      ]
     },
     "metadata": {
      "needs_background": "light"
     },
     "output_type": "display_data"
    }
   ],
   "source": [
    "sub_data = data[data['AVProductsEnabled'] == 3]\n",
    "\n",
    "inst_proportion = (sub_data['HasDetections']\n",
    "           .groupby(sub_data['AVProductsInstalled'])\n",
    "           .value_counts(normalize=True)\n",
    "           .rename('proportion',inplace=True)\n",
    "           .reset_index())\n",
    "\n",
    "sns.lmplot(x='AVProductsInstalled', y='proportion', hue='HasDetections', data=inst_proportion, legend=True)\n",
    "ax = plt.gca()\n",
    "ax.set_title(\"Proportion of HasDetections compare to the number of AVProductsInstalled, \\n with AVProductsEnabled equals to 3\")"
   ]
  },
  {
   "cell_type": "code",
   "execution_count": 23,
   "metadata": {},
   "outputs": [
    {
     "data": {
      "text/plain": [
       "Text(0.5, 1.0, 'Proportion of HasDetections compare to the number of AVProductsInstalled, \\n with AVProductsEnabled equals to 4')"
      ]
     },
     "execution_count": 23,
     "metadata": {},
     "output_type": "execute_result"
    },
    {
     "data": {
      "image/png": "[encoded data removed]",
      "text/plain": [
       "<Figure size 432x288 with 1 Axes>"
      ]
     },
     "metadata": {
      "needs_background": "light"
     },
     "output_type": "display_data"
    }
   ],
   "source": [
    "sub_data = data[data['AVProductsEnabled'] == 4]\n",
    "\n",
    "inst_proportion = (sub_data['HasDetections']\n",
    "           .groupby(sub_data['AVProductsInstalled'])\n",
    "           .value_counts(normalize=True)\n",
    "           .rename('proportion',inplace=True)\n",
    "           .reset_index())\n",
    "\n",
    "sns.barplot(x='AVProductsInstalled', y='proportion', hue='HasDetections', data=inst_proportion)\n",
    "ax = plt.gca()\n",
    "ax.set_title(\"Proportion of HasDetections compare to the number of AVProductsInstalled, \\n with AVProductsEnabled equals to 4\")"
   ]
  },
  {
   "cell_type": "markdown",
   "metadata": {},
   "source": [
    "For the last graph, we used a barplot, because it is more clear this way than the scattered plot. There is too few data to make a clear and reasonable scatter plot.\n",
    "\n",
    "Except when (AVProductsEnabled == 4), that shows equal possibilities of having detection and having no detection, the other ones showed that, under the same number of AVProductsEnabled, the more AVProducts Installed, the less likely it is to detect virus."
   ]
  },
  {
   "cell_type": "markdown",
   "metadata": {},
   "source": [
    "#### Now we can see through the graphs that AVProductsEnabled and AVProductsInstalled are negatively correlated with HasDetection\n",
    "\n",
    "Let's now check if there is a relationship between the version of platforms and hasDetection\n",
    "\n",
    "First check how many unique platforms there are in the data set"
   ]
  },
  {
   "cell_type": "code",
   "execution_count": 24,
   "metadata": {},
   "outputs": [
    {
     "data": {
      "text/plain": [
       "[windows10, windows7, windows8]\n",
       "Categories (3, object): [windows10, windows7, windows8]"
      ]
     },
     "execution_count": 24,
     "metadata": {},
     "output_type": "execute_result"
    }
   ],
   "source": [
    "data['Platform'].unique()\n"
   ]
  },
  {
   "cell_type": "markdown",
   "metadata": {},
   "source": [
    "### Windows Platform vs Has Detections\n",
    "Here we want to see if Windows Platforms has any effect on malware detection."
   ]
  },
  {
   "cell_type": "code",
   "execution_count": 25,
   "metadata": {},
   "outputs": [
    {
     "data": {
      "text/plain": [
       "Text(0.5, 1.0, 'proportion of HasDetection - Platform')"
      ]
     },
     "execution_count": 25,
     "metadata": {},
     "output_type": "execute_result"
    },
    {
     "data": {
      "image/png": "[encoded data removed]",
      "text/plain": [
       "<Figure size 432x288 with 1 Axes>"
      ]
     },
     "metadata": {
      "needs_background": "light"
     },
     "output_type": "display_data"
    }
   ],
   "source": [
    "windowsPlat_vs_hasDetect = (data['Platform']\n",
    "           .groupby(data['HasDetections'])\n",
    "           .value_counts(normalize=True)\n",
    "           .rename('proportion',inplace=True)\n",
    "           .reset_index())\n",
    "\n",
    "sns.barplot(x='Platform', \n",
    "            y='proportion', \n",
    "            hue='HasDetections', \n",
    "            data=windowsPlat_vs_hasDetect);\n",
    "\n",
    "ax = plt.gca()\n",
    "ax.set_title('proportion of HasDetection - Platform')"
   ]
  },
  {
   "cell_type": "markdown",
   "metadata": {},
   "source": [
    "We can see that a majority of users in our data collection uses windows 10. \n",
    "Therefore we will isolate Windows 10 and view it closely since the other two platforms has less significance. \n",
    "\n",
    "However, if we look closely, we can see that in Windows 8, there are slightly more detections than none.\n",
    "\n",
    "For Windows 7, we can see that there are no detections of malware whatsoever."
   ]
  },
  {
   "cell_type": "markdown",
   "metadata": {},
   "source": [
    "### Now we will isolate Windows 10 and see if there is a difference in detection of malware"
   ]
  },
  {
   "cell_type": "code",
   "execution_count": 26,
   "metadata": {},
   "outputs": [],
   "source": [
    "windows10Data = data.loc[data['Platform'] == 'windows10']\n",
    "#windows10Data = windows10Data.groupby(['HasDetections'])"
   ]
  },
  {
   "cell_type": "code",
   "execution_count": 27,
   "metadata": {
    "scrolled": true
   },
   "outputs": [
    {
     "data": {
      "image/png": "[encoded data removed]",
      "text/plain": [
       "<Figure size 432x288 with 1 Axes>"
      ]
     },
     "metadata": {
      "needs_background": "light"
     },
     "output_type": "display_data"
    }
   ],
   "source": [
    "windowsPlat10_vs_hasDetect = (windows10Data['Platform']\n",
    "           .groupby(windows10Data['HasDetections'])\n",
    "           .value_counts(normalize=True)\n",
    "           .rename('proportion',inplace=True)\n",
    "           .reset_index())\n",
    "\n",
    "sns.barplot(x='Platform', \n",
    "            y='proportion', \n",
    "            hue='HasDetections', \n",
    "            data=windowsPlat10_vs_hasDetect);"
   ]
  },
  {
   "cell_type": "markdown",
   "metadata": {},
   "source": [
    "**Graph Above:** There is no significant difference between detections found and no detections in windows10 platform.\n",
    "\n",
    "\n",
    "### Quickly check Wdft_isGamer, Census_PrimaryDiskTypeName, Census_IsSecureBootEnabled, processor, HasTpm and their relationship with HasDetection"
   ]
  },
  {
   "cell_type": "markdown",
   "metadata": {},
   "source": [
    "### Census_PrimaryDiskTypeName vs HasDetection"
   ]
  },
  {
   "cell_type": "code",
   "execution_count": 28,
   "metadata": {},
   "outputs": [
    {
     "data": {
      "text/plain": [
       "Text(0.5, 1.0, 'Proportion of HasDetections - Census_PrimaryDiskTypeName')"
      ]
     },
     "execution_count": 28,
     "metadata": {},
     "output_type": "execute_result"
    },
    {
     "data": {
      "image/png": "[encoded data removed]",
      "text/plain": [
       "<Figure size 432x288 with 1 Axes>"
      ]
     },
     "metadata": {
      "needs_background": "light"
     },
     "output_type": "display_data"
    }
   ],
   "source": [
    "cen_vs_hasDetect = (data['Census_PrimaryDiskTypeName']\n",
    "           .groupby(data['HasDetections'])\n",
    "           .value_counts(normalize=True)\n",
    "           .rename('proportion',inplace=True)\n",
    "           .reset_index())\n",
    "\n",
    "sns.barplot(x='Census_PrimaryDiskTypeName', \n",
    "            y='proportion', \n",
    "            hue='HasDetections', \n",
    "            data=cen_vs_hasDetect);\n",
    "\n",
    "ax = plt.gca()\n",
    "ax.set_title(\"Proportion of HasDetections - Census_PrimaryDiskTypeName\")"
   ]
  },
  {
   "cell_type": "markdown",
   "metadata": {},
   "source": [
    "**Graph Above:** We can see if the disk types such as HDD or SDD display any detection based on the user. We also included Unknown and Unspecified disk types and see if there are detections of malware.\n",
    "\n",
    "We can see that computers with HDD are slightly more prone to having detections than none. \n",
    "\n",
    "Computers with SSD have slightly less detection of malware based on the data given."
   ]
  },
  {
   "cell_type": "markdown",
   "metadata": {},
   "source": [
    "### Census_IsSecureBootEnabled vs HasDetection\n",
    "**What is Secure Boot?:** Secure Boot is functionality that Microsoft uses to prevent malicious software application and \"unauthorized\" operating systems from loading during the system start-up process."
   ]
  },
  {
   "cell_type": "code",
   "execution_count": 29,
   "metadata": {},
   "outputs": [
    {
     "data": {
      "text/plain": [
       "Text(0.5, 1.0, 'Proportion of HasDetections - Census_IsSecureBootEnabled')"
      ]
     },
     "execution_count": 29,
     "metadata": {},
     "output_type": "execute_result"
    },
    {
     "data": {
      "image/png": "[encoded data removed]",
      "text/plain": [
       "<Figure size 432x288 with 1 Axes>"
      ]
     },
     "metadata": {
      "needs_background": "light"
     },
     "output_type": "display_data"
    }
   ],
   "source": [
    "sec_vs_hasDetect = (data['Census_IsSecureBootEnabled']\n",
    "           .groupby(data['HasDetections'])\n",
    "           .value_counts(normalize=True)\n",
    "           .rename('proportion',inplace=True)\n",
    "           .reset_index())\n",
    "\n",
    "sns.barplot(x='Census_IsSecureBootEnabled', \n",
    "            y='proportion', \n",
    "            hue='HasDetections', \n",
    "            data=sec_vs_hasDetect);\n",
    "\n",
    "ax = plt.gca()\n",
    "ax.set_title(\"Proportion of HasDetections - Census_IsSecureBootEnabled\")"
   ]
  },
  {
   "cell_type": "markdown",
   "metadata": {},
   "source": [
    "**Graph Above:** Per definition of the Secure Boot, it is supposed to prevent malicious software. \n",
    "\n",
    "However, we see that when Secure Boot is enabled, there are more detections of malware. \n",
    "\n",
    "On the other hand, ironically, when Secure Boot is not enabled, there are less detections of malware."
   ]
  },
  {
   "cell_type": "markdown",
   "metadata": {},
   "source": [
    "### Processor vs HasDetection\n",
    "**Processor or CPU:** They are the brains of the computer. It is the main chip that carries out tasks for the computer. x64 processors can handle 64-bit and 32-bit. x32 processors can only handle 32-bit. Arm64 processors only exists in androids for now."
   ]
  },
  {
   "cell_type": "code",
   "execution_count": 30,
   "metadata": {},
   "outputs": [
    {
     "data": {
      "text/plain": [
       "Text(0.5, 1.0, 'Proportion of HasDetections - Processor')"
      ]
     },
     "execution_count": 30,
     "metadata": {},
     "output_type": "execute_result"
    },
    {
     "data": {
      "image/png": "[encoded data removed]",
      "text/plain": [
       "<Figure size 432x288 with 1 Axes>"
      ]
     },
     "metadata": {
      "needs_background": "light"
     },
     "output_type": "display_data"
    }
   ],
   "source": [
    "processor_vs_hasDetect = (data['Processor']\n",
    "           .groupby(data['HasDetections'])\n",
    "           .value_counts(normalize=True)\n",
    "           .rename('proportion',inplace=True)\n",
    "           .reset_index())\n",
    "\n",
    "sns.barplot(x='Processor', \n",
    "            y='proportion', \n",
    "            hue='HasDetections', \n",
    "            data=processor_vs_hasDetect);\n",
    "\n",
    "ax = plt.gca()\n",
    "ax.set_title(\"Proportion of HasDetections - Processor\")"
   ]
  },
  {
   "cell_type": "markdown",
   "metadata": {},
   "source": [
    "**Graph Above:** A majority of computers from the data uses the 64-bit processors. There are no users with arm64 processors which would make sense as they are usually in tablets and phones. \n",
    "\n",
    "However, we see that 64-bit processors tend to have more malware detection.\n",
    "\n",
    "On the other hand 32-bit processors are prone to less detections of malware."
   ]
  },
  {
   "cell_type": "markdown",
   "metadata": {},
   "source": [
    "### Wdft_IsGamer vs HasDetection\n",
    "**This is to see if gamers are more prone to malware:** They can be exposed to malicious software from games they download from the web."
   ]
  },
  {
   "cell_type": "code",
   "execution_count": 31,
   "metadata": {},
   "outputs": [
    {
     "data": {
      "text/plain": [
       "Text(0.5, 1.0, 'Proportion of HasDetections - Wdft_IsGamer')"
      ]
     },
     "execution_count": 31,
     "metadata": {},
     "output_type": "execute_result"
    },
    {
     "data": {
      "image/png": "[encoded data removed]",
      "text/plain": [
       "<Figure size 432x288 with 1 Axes>"
      ]
     },
     "metadata": {
      "needs_background": "light"
     },
     "output_type": "display_data"
    }
   ],
   "source": [
    "gamer_vs_hasDetect = (data['Wdft_IsGamer']\n",
    "           .groupby(data['HasDetections'])\n",
    "           .value_counts(normalize=True)\n",
    "           .rename('proportion',inplace=True)\n",
    "           .reset_index())\n",
    "\n",
    "sns.barplot(x='Wdft_IsGamer', \n",
    "            y='proportion', \n",
    "            hue='HasDetections', \n",
    "            data=gamer_vs_hasDetect);\n",
    "\n",
    "ax = plt.gca()\n",
    "ax.set_title(\"Proportion of HasDetections - Wdft_IsGamer\")"
   ]
  },
  {
   "cell_type": "markdown",
   "metadata": {},
   "source": [
    "**Graph Above:** As we can see, users that are gamers have more detections of malware than those who don't game."
   ]
  },
  {
   "cell_type": "markdown",
   "metadata": {},
   "source": [
    "#### TPM on Windows 10 vs Detected or not\n",
    "**What is  TPM?:** A TPM(Trusted Platform Module) is a microchip that is often built into a computer to provide hardware-based security. They generate, store, and limit the use of cryptographic keys. They are most commonly used for used for system integrity measurements and for key creation and use. We will use this to compare to Windows10 Platform since the operating system are now automatically initializing and taking ownership of the TPM."
   ]
  },
  {
   "cell_type": "code",
   "execution_count": 32,
   "metadata": {},
   "outputs": [
    {
     "data": {
      "text/plain": [
       "Text(0.5, 1.0, 'Proportion of HasDetections - HasTpm')"
      ]
     },
     "execution_count": 32,
     "metadata": {},
     "output_type": "execute_result"
    },
    {
     "data": {
      "image/png": "[encoded data removed]",
      "text/plain": [
       "<Figure size 432x288 with 1 Axes>"
      ]
     },
     "metadata": {
      "needs_background": "light"
     },
     "output_type": "display_data"
    }
   ],
   "source": [
    "tpm_vs_hasDetect = (data['HasTpm']\n",
    "           .groupby(data['HasDetections'])\n",
    "           .value_counts(normalize=True)\n",
    "           .rename('proportion',inplace=True)\n",
    "           .reset_index())\n",
    "\n",
    "sns.barplot(x='HasTpm', \n",
    "            y='proportion', \n",
    "            hue='HasDetections', \n",
    "            data=tpm_vs_hasDetect);\n",
    "\n",
    "ax = plt.gca()\n",
    "ax.set_title(\"Proportion of HasDetections - HasTpm\")"
   ]
  },
  {
   "cell_type": "markdown",
   "metadata": {},
   "source": [
    "Unfortunately, this graph shows that every single computer has a TPM. The TPM also does not show much difference between detecting malware and not detecting malware."
   ]
  },
  {
   "cell_type": "markdown",
   "metadata": {},
   "source": [
    "### Above we only look at columns with binary values or strings / floats that have very limited unique values. Below, we look at columns with a larger range of values"
   ]
  },
  {
   "cell_type": "markdown",
   "metadata": {},
   "source": [
    "Let's look at the distribution of these variables."
   ]
  },
  {
   "cell_type": "code",
   "execution_count": 33,
   "metadata": {},
   "outputs": [
    {
     "data": {
      "text/plain": [
       "<matplotlib.axes._subplots.AxesSubplot at 0x1a1ac44f60>"
      ]
     },
     "execution_count": 33,
     "metadata": {},
     "output_type": "execute_result"
    },
    {
     "data": {
      "image/png": "[encoded data removed]",
      "text/plain": [
       "<Figure size 864x360 with 2 Axes>"
      ]
     },
     "metadata": {
      "needs_background": "light"
     },
     "output_type": "display_data"
    }
   ],
   "source": [
    "f, axes = plt.subplots(1, 2, figsize=(12, 5), sharex=True)\n",
    "\n",
    "sns.distplot(data['AVProductStatesIdentifier'], color = '#DE2D26', ax=axes[0])\n",
    "\n",
    "sns.distplot(data['Census_TotalPhysicalRAM'], color = '#0CBD18', ax=axes[1])"
   ]
  },
  {
   "cell_type": "code",
   "execution_count": 34,
   "metadata": {},
   "outputs": [
    {
     "data": {
      "text/plain": [
       "<matplotlib.axes._subplots.AxesSubplot at 0x1a1aca6080>"
      ]
     },
     "execution_count": 34,
     "metadata": {},
     "output_type": "execute_result"
    },
    {
     "data": {
      "image/png": "[encoded data removed]",
      "text/plain": [
       "<Figure size 432x288 with 1 Axes>"
      ]
     },
     "metadata": {
      "needs_background": "light"
     },
     "output_type": "display_data"
    }
   ],
   "source": [
    "sns.distplot(data['CountryIdentifier'], color = '#940CE8')"
   ]
  },
  {
   "cell_type": "markdown",
   "metadata": {},
   "source": [
    "AVProductStatesIdentifier and Census_TotalPhysicalRAM has a majority with the same/similar value, while countryIdentifier has 4 nodes/points, meaning that most countryIdenrifiers have or are close to one of the 4 values. Now let's see how these three factors are in relation with hasDetections: "
   ]
  },
  {
   "cell_type": "markdown",
   "metadata": {},
   "source": [
    "### AVProductStatesIdentifier v HasDetections"
   ]
  },
  {
   "cell_type": "markdown",
   "metadata": {},
   "source": [
    "below has two plots for hasDetections = 0 and hasDetections = 1"
   ]
  },
  {
   "cell_type": "code",
   "execution_count": 35,
   "metadata": {},
   "outputs": [
    {
     "data": {
      "text/plain": [
       "Text(0.5, 1.0, 'Proportion of HasDetections equal to 0 - AVProductStatesIdentifier')"
      ]
     },
     "execution_count": 35,
     "metadata": {},
     "output_type": "execute_result"
    },
    {
     "data": {
      "image/png": "[encoded data removed]",
      "text/plain": [
       "<Figure size 440.625x360 with 1 Axes>"
      ]
     },
     "metadata": {
      "needs_background": "light"
     },
     "output_type": "display_data"
    }
   ],
   "source": [
    "avp_vs_hasDetect = (data['AVProductStatesIdentifier']\n",
    "           .groupby(data['HasDetections'])\n",
    "           .value_counts(normalize=True)\n",
    "           .rename('proportion',inplace=True)\n",
    "           .reset_index())\n",
    "\n",
    "trim1 = avp_vs_hasDetect[avp_vs_hasDetect['HasDetections'] == 0]\n",
    "trim2 = avp_vs_hasDetect[avp_vs_hasDetect['HasDetections'] == 1]\n",
    "\n",
    "\n",
    "sns.lmplot(x='AVProductStatesIdentifier', \n",
    "            y='proportion', \n",
    "            hue='HasDetections', \n",
    "            data=trim1, x_jitter=0.05, y_jitter=0.05)\n",
    "\n",
    "ax = plt.gca()\n",
    "ax.set_title('Proportion of HasDetections equal to 0 - AVProductStatesIdentifier')"
   ]
  },
  {
   "cell_type": "code",
   "execution_count": 36,
   "metadata": {},
   "outputs": [
    {
     "data": {
      "text/plain": [
       "Text(0.5, 1.0, 'Proportion of HasDetections equal to 1 - AVProductStatesIdentifier')"
      ]
     },
     "execution_count": 36,
     "metadata": {},
     "output_type": "execute_result"
    },
    {
     "data": {
      "image/png": "[encoded data removed]",
      "text/plain": [
       "<Figure size 440.625x360 with 1 Axes>"
      ]
     },
     "metadata": {
      "needs_background": "light"
     },
     "output_type": "display_data"
    }
   ],
   "source": [
    "sns.lmplot(x='AVProductStatesIdentifier', \n",
    "            y='proportion', \n",
    "            hue='HasDetections', \n",
    "            data=trim2, x_jitter=0.05, y_jitter=0.05,\n",
    "            line_kws={'color':'orange'},\n",
    "            scatter_kws={'color':'orange'})\n",
    "\n",
    "ax = plt.gca()\n",
    "ax.set_title('Proportion of HasDetections equal to 1 - AVProductStatesIdentifier')"
   ]
  },
  {
   "cell_type": "markdown",
   "metadata": {},
   "source": [
    "#### It seems that it is equally likely to have a detection and to miss a detection. \n",
    "\n",
    "Note that there are two outliers around (x = 50000). It might be because majority in the dataset has a same/similar value at that point, so the proportion is higher. Let us check if it is the case:"
   ]
  },
  {
   "cell_type": "code",
   "execution_count": 37,
   "metadata": {},
   "outputs": [
    {
     "data": {
      "text/plain": [
       "59590"
      ]
     },
     "execution_count": 37,
     "metadata": {},
     "output_type": "execute_result"
    }
   ],
   "source": [
    "outlier = avp_vs_hasDetect.loc[avp_vs_hasDetect['proportion'] > 0.5].loc[0]['AVProductStatesIdentifier']\n",
    "sum(data['AVProductStatesIdentifier'] == outlier)"
   ]
  },
  {
   "cell_type": "markdown",
   "metadata": {},
   "source": [
    "There are 59590 rows with the same AVProductStatesIdentifier value, so it is true that the outliers represent a large amount of population having the same value for AVProductStatesIdentifier."
   ]
  },
  {
   "cell_type": "markdown",
   "metadata": {},
   "source": [
    "### Census_TotalPhysicalRAM v HasDetections"
   ]
  },
  {
   "cell_type": "markdown",
   "metadata": {},
   "source": [
    "Because Census_TotalPhysicalRAM is extremely skewed to left, and the \"outliers\" on the very right might affect the outcome of the plot. So we used a log10 arithmetic here"
   ]
  },
  {
   "cell_type": "code",
   "execution_count": 38,
   "metadata": {},
   "outputs": [
    {
     "data": {
      "text/plain": [
       "Text(0.5, 1.0, 'Proportion of HasDetections - Census_TotalPhysicalRAM')"
      ]
     },
     "execution_count": 38,
     "metadata": {},
     "output_type": "execute_result"
    },
    {
     "data": {
      "image/png": "[encoded data removed]",
      "text/plain": [
       "<Figure size 440.625x360 with 1 Axes>"
      ]
     },
     "metadata": {
      "needs_background": "light"
     },
     "output_type": "display_data"
    }
   ],
   "source": [
    "ram_vs_hasDetect = (data['Census_TotalPhysicalRAM']\n",
    "           .groupby(data['HasDetections'])\n",
    "           .value_counts(normalize=True)\n",
    "           .rename('proportion',inplace=True)\n",
    "           .reset_index())\n",
    "\n",
    "ram_vs_hasDetect['ramLog'] = np.log10(ram_vs_hasDetect['Census_TotalPhysicalRAM'])\n",
    "\n",
    "sns.lmplot(x='ramLog', \n",
    "            y='proportion', \n",
    "            hue='HasDetections', \n",
    "            data=ram_vs_hasDetect, x_jitter=0.05, y_jitter=0.05)\n",
    "\n",
    "ax = plt.gca()\n",
    "ax.set_title('Proportion of HasDetections - Census_TotalPhysicalRAM')\n",
    "\n"
   ]
  },
  {
   "cell_type": "markdown",
   "metadata": {},
   "source": [
    "Note that points that have higher proportion represents higher population having the same/similar Census_TotalPhysicalRAM value.\n",
    "\n",
    "#### By looking at the plot, there seems no obvious correlation between Census_TotalPhysicalRAM and HasDetections"
   ]
  },
  {
   "cell_type": "markdown",
   "metadata": {},
   "source": [
    "### CountryIdentifier v HasDetections"
   ]
  },
  {
   "cell_type": "code",
   "execution_count": 39,
   "metadata": {},
   "outputs": [
    {
     "data": {
      "text/plain": [
       "Text(0.5, 1.0, 'Proportion of HasDetections - CountryIdentifier')"
      ]
     },
     "execution_count": 39,
     "metadata": {},
     "output_type": "execute_result"
    },
    {
     "data": {
      "image/png": "[encoded data removed]",
      "text/plain": [
       "<Figure size 440.625x360 with 1 Axes>"
      ]
     },
     "metadata": {
      "needs_background": "light"
     },
     "output_type": "display_data"
    }
   ],
   "source": [
    "country_vs_hasDetect = (data['CountryIdentifier']\n",
    "           .groupby(data['HasDetections'])\n",
    "           .value_counts(normalize=True)\n",
    "           .rename('proportion',inplace=True)\n",
    "           .reset_index())\n",
    "\n",
    "sns.lmplot(x='CountryIdentifier', \n",
    "            y='proportion', \n",
    "            hue='HasDetections', \n",
    "            data=country_vs_hasDetect, x_jitter=0.05, y_jitter=0.05)\n",
    "\n",
    "ax = plt.gca()\n",
    "ax.set_title('Proportion of HasDetections - CountryIdentifier')"
   ]
  },
  {
   "cell_type": "markdown",
   "metadata": {},
   "source": [
    "#### By looking at the plot, there is no obvious relationship between HasDetections and CountryIdentifier"
   ]
  },
  {
   "cell_type": "markdown",
   "metadata": {},
   "source": [
    "### Just by looking at the plots above, we can only get two varaibles, AVProductsInstalled and AVProductsEnabled, that have a rather strong correlation with HasDetection. To be more precise and to make a predictive model, we need to use logistic regression, so that we can analysize the data thoroughly. "
   ]
  },
  {
   "cell_type": "markdown",
   "metadata": {},
   "source": [
    "# Data Analysis & Results"
   ]
  },
  {
   "cell_type": "markdown",
   "metadata": {},
   "source": [
    "### Correlation of variables:"
   ]
  },
  {
   "cell_type": "code",
   "execution_count": 40,
   "metadata": {
    "scrolled": true
   },
   "outputs": [
    {
     "data": {
      "text/plain": [
       "<matplotlib.axes._subplots.AxesSubplot at 0x7f6452da9d68>"
      ]
     },
     "execution_count": 40,
     "metadata": {},
     "output_type": "execute_result"
    },
    {
     "data": {
      "image/png": "[encoded data removed]",
      "text/plain": [
       "<Figure size 432x288 with 2 Axes>"
      ]
     },
     "metadata": {
      "needs_background": "light"
     },
     "output_type": "display_data"
    }
   ],
   "source": [
    "plt.subplots()\n",
    "df_corr_HasDetections = data.corr()['HasDetections'][:-1]\n",
    "sns.heatmap(df_corr_HasDetections.to_frame(),annot=True, annot_kws={'size':12},cmap=\"GnBu\")\n",
    "\n",
    "# sns.heatmap(data.corr(), annot = True)"
   ]
  },
  {
   "cell_type": "markdown",
   "metadata": {},
   "source": [
    "At first glance, it seems like the variables don't really affect whether or not an anti-virus is detected in the first place. However, keep in mind that correlation does not mean causation; which would certainly be true here."
   ]
  },
  {
   "cell_type": "markdown",
   "metadata": {},
   "source": [
    "We want to find the variables with that would explain the most variation for HasDetections. We can first start off by doing a logistic regression, since we want to classify whether or not a virus is detected on the computer"
   ]
  },
  {
   "cell_type": "markdown",
   "metadata": {},
   "source": [
    "Note that while we are doing a regression analysis, we are specifically trying to do a logistic regression (since we are classifying). Thus, we should not need to standardize our variables."
   ]
  },
  {
   "cell_type": "code",
   "execution_count": 41,
   "metadata": {},
   "outputs": [
    {
     "name": "stderr",
     "output_type": "stream",
     "text": [
      "/opt/conda/lib/python3.6/site-packages/statsmodels/compat/pandas.py:56: FutureWarning: The pandas.core.datetools module is deprecated and will be removed in a future version. Please use the pandas.tseries module instead.\n",
      "  from pandas.core import datetools\n"
     ]
    }
   ],
   "source": [
    "import statsmodels.api as sm"
   ]
  },
  {
   "cell_type": "markdown",
   "metadata": {},
   "source": [
    "We also need to encode certain variables that aren't numberic, which are 'Platform', 'Processor', and Census_PrimaryDiskTypeName.\n",
    "\n",
    "Lets first take a look at all the unique value for each 3 variables.\n",
    "\n",
    "First up: Platform."
   ]
  },
  {
   "cell_type": "code",
   "execution_count": 42,
   "metadata": {},
   "outputs": [
    {
     "data": {
      "text/plain": [
       "[windows10, windows7, windows8]\n",
       "Categories (3, object): [windows10, windows7, windows8]"
      ]
     },
     "execution_count": 42,
     "metadata": {},
     "output_type": "execute_result"
    }
   ],
   "source": [
    "data['Platform'].unique()"
   ]
  },
  {
   "cell_type": "markdown",
   "metadata": {},
   "source": [
    "Next is Processor:"
   ]
  },
  {
   "cell_type": "code",
   "execution_count": 43,
   "metadata": {},
   "outputs": [
    {
     "data": {
      "text/plain": [
       "[x64, arm64, x86]\n",
       "Categories (3, object): [x64, arm64, x86]"
      ]
     },
     "execution_count": 43,
     "metadata": {},
     "output_type": "execute_result"
    }
   ],
   "source": [
    "data['Processor'].unique()"
   ]
  },
  {
   "cell_type": "markdown",
   "metadata": {},
   "source": [
    "Lastly is 'Census_PrimaryDiskTypeName'"
   ]
  },
  {
   "cell_type": "code",
   "execution_count": 44,
   "metadata": {},
   "outputs": [
    {
     "data": {
      "text/plain": [
       "[HDD, SSD, UNKNOWN, Unspecified]\n",
       "Categories (4, object): [HDD, SSD, UNKNOWN, Unspecified]"
      ]
     },
     "execution_count": 44,
     "metadata": {},
     "output_type": "execute_result"
    }
   ],
   "source": [
    "data['Census_PrimaryDiskTypeName'].unique()"
   ]
  },
  {
   "cell_type": "markdown",
   "metadata": {},
   "source": [
    "Let us then look into the frequency of each unique data type for each variable, so we know whether or not we can do a simple binary encode."
   ]
  },
  {
   "cell_type": "code",
   "execution_count": 45,
   "metadata": {},
   "outputs": [
    {
     "data": {
      "text/plain": [
       "[Text(0, 0.5, 'Percent')]"
      ]
     },
     "execution_count": 45,
     "metadata": {},
     "output_type": "execute_result"
    },
    {
     "data": {
      "image/png": "[encoded data removed]",
      "text/plain": [
       "<Figure size 432x288 with 1 Axes>"
      ]
     },
     "metadata": {
      "needs_background": "light"
     },
     "output_type": "display_data"
    }
   ],
   "source": [
    "\n",
    "ax = sns.barplot(x=\"Platform\", y=\"Platform\", data=data, estimator=lambda x: len(x) / len(data) * 100, orient=\"v\")\n",
    "ax.set(ylabel=\"Percent\")"
   ]
  },
  {
   "cell_type": "code",
   "execution_count": 46,
   "metadata": {},
   "outputs": [
    {
     "data": {
      "text/plain": [
       "[Text(0, 0.5, 'Percent')]"
      ]
     },
     "execution_count": 46,
     "metadata": {},
     "output_type": "execute_result"
    },
    {
     "data": {
      "image/png": "[encoded data removed]",
      "text/plain": [
       "<Figure size 432x288 with 1 Axes>"
      ]
     },
     "metadata": {
      "needs_background": "light"
     },
     "output_type": "display_data"
    }
   ],
   "source": [
    "\n",
    "ax = sns.barplot(x=\"Processor\", y=\"Processor\", data=data, estimator=lambda x: len(x) / len(data) * 100, orient=\"v\")\n",
    "ax.set(ylabel=\"Percent\")"
   ]
  },
  {
   "cell_type": "code",
   "execution_count": 47,
   "metadata": {},
   "outputs": [
    {
     "data": {
      "text/plain": [
       "[Text(0, 0.5, 'Percent')]"
      ]
     },
     "execution_count": 47,
     "metadata": {},
     "output_type": "execute_result"
    },
    {
     "data": {
      "image/png": "[encoded data removed]",
      "text/plain": [
       "<Figure size 432x288 with 1 Axes>"
      ]
     },
     "metadata": {
      "needs_background": "light"
     },
     "output_type": "display_data"
    }
   ],
   "source": [
    "\n",
    "ax = sns.barplot(x=\"Census_PrimaryDiskTypeName\", y=\"Census_PrimaryDiskTypeName\", data=data, estimator=lambda x: len(x) / len(data) * 100, orient=\"v\")\n",
    "ax.set(ylabel=\"Percent\")"
   ]
  },
  {
   "cell_type": "markdown",
   "metadata": {},
   "source": [
    "Based off these charts, since 2 variables account for over 93% of all variables for all 3 categories, we can probably encode all three as binary encodings. The only category that could be questionable is 'Census_PrimaryDiskTypeName'.\n",
    "\n",
    "Because of this, we can simply save this column into another variable just in case.\n"
   ]
  },
  {
   "cell_type": "code",
   "execution_count": 48,
   "metadata": {},
   "outputs": [],
   "source": [
    "originalCensusDisk = data['Census_PrimaryDiskTypeName']"
   ]
  },
  {
   "cell_type": "markdown",
   "metadata": {},
   "source": [
    "Encoding:"
   ]
  },
  {
   "cell_type": "code",
   "execution_count": 49,
   "metadata": {},
   "outputs": [
    {
     "data": {
      "text/html": [
       "<div>\n",
       "<style scoped>\n",
       "    .dataframe tbody tr th:only-of-type {\n",
       "        vertical-align: middle;\n",
       "    }\n",
       "\n",
       "    .dataframe tbody tr th {\n",
       "        vertical-align: top;\n",
       "    }\n",
       "\n",
       "    .dataframe thead th {\n",
       "        text-align: right;\n",
       "    }\n",
       "</style>\n",
       "<table border=\"1\" class=\"dataframe\">\n",
       "  <thead>\n",
       "    <tr style=\"text-align: right;\">\n",
       "      <th></th>\n",
       "      <th>AVProductStatesIdentifier</th>\n",
       "      <th>AVProductsInstalled</th>\n",
       "      <th>AVProductsEnabled</th>\n",
       "      <th>HasTpm</th>\n",
       "      <th>CountryIdentifier</th>\n",
       "      <th>Platform</th>\n",
       "      <th>Processor</th>\n",
       "      <th>SMode</th>\n",
       "      <th>Firewall</th>\n",
       "      <th>Census_IsSecureBootEnabled</th>\n",
       "      <th>Census_PrimaryDiskTypeName</th>\n",
       "      <th>Census_TotalPhysicalRAM</th>\n",
       "      <th>Wdft_IsGamer</th>\n",
       "      <th>HasDetections</th>\n",
       "    </tr>\n",
       "  </thead>\n",
       "  <tbody>\n",
       "    <tr>\n",
       "      <th>0</th>\n",
       "      <td>53447.0</td>\n",
       "      <td>1.0</td>\n",
       "      <td>1.0</td>\n",
       "      <td>1</td>\n",
       "      <td>29</td>\n",
       "      <td>1</td>\n",
       "      <td>1</td>\n",
       "      <td>0.0</td>\n",
       "      <td>1.0</td>\n",
       "      <td>0</td>\n",
       "      <td>1</td>\n",
       "      <td>4096.0</td>\n",
       "      <td>0.0</td>\n",
       "      <td>0</td>\n",
       "    </tr>\n",
       "    <tr>\n",
       "      <th>1</th>\n",
       "      <td>53447.0</td>\n",
       "      <td>1.0</td>\n",
       "      <td>1.0</td>\n",
       "      <td>1</td>\n",
       "      <td>93</td>\n",
       "      <td>1</td>\n",
       "      <td>1</td>\n",
       "      <td>0.0</td>\n",
       "      <td>1.0</td>\n",
       "      <td>0</td>\n",
       "      <td>1</td>\n",
       "      <td>4096.0</td>\n",
       "      <td>0.0</td>\n",
       "      <td>0</td>\n",
       "    </tr>\n",
       "    <tr>\n",
       "      <th>2</th>\n",
       "      <td>53447.0</td>\n",
       "      <td>1.0</td>\n",
       "      <td>1.0</td>\n",
       "      <td>1</td>\n",
       "      <td>86</td>\n",
       "      <td>1</td>\n",
       "      <td>1</td>\n",
       "      <td>0.0</td>\n",
       "      <td>1.0</td>\n",
       "      <td>0</td>\n",
       "      <td>0</td>\n",
       "      <td>4096.0</td>\n",
       "      <td>0.0</td>\n",
       "      <td>0</td>\n",
       "    </tr>\n",
       "    <tr>\n",
       "      <th>3</th>\n",
       "      <td>53447.0</td>\n",
       "      <td>1.0</td>\n",
       "      <td>1.0</td>\n",
       "      <td>1</td>\n",
       "      <td>88</td>\n",
       "      <td>1</td>\n",
       "      <td>1</td>\n",
       "      <td>0.0</td>\n",
       "      <td>1.0</td>\n",
       "      <td>0</td>\n",
       "      <td>0</td>\n",
       "      <td>4096.0</td>\n",
       "      <td>0.0</td>\n",
       "      <td>1</td>\n",
       "    </tr>\n",
       "    <tr>\n",
       "      <th>4</th>\n",
       "      <td>53447.0</td>\n",
       "      <td>1.0</td>\n",
       "      <td>1.0</td>\n",
       "      <td>1</td>\n",
       "      <td>18</td>\n",
       "      <td>1</td>\n",
       "      <td>1</td>\n",
       "      <td>0.0</td>\n",
       "      <td>1.0</td>\n",
       "      <td>0</td>\n",
       "      <td>1</td>\n",
       "      <td>6144.0</td>\n",
       "      <td>0.0</td>\n",
       "      <td>1</td>\n",
       "    </tr>\n",
       "  </tbody>\n",
       "</table>\n",
       "</div>"
      ],
      "text/plain": [
       "   AVProductStatesIdentifier  AVProductsInstalled  AVProductsEnabled  HasTpm  \\\n",
       "0                    53447.0                  1.0                1.0       1   \n",
       "1                    53447.0                  1.0                1.0       1   \n",
       "2                    53447.0                  1.0                1.0       1   \n",
       "3                    53447.0                  1.0                1.0       1   \n",
       "4                    53447.0                  1.0                1.0       1   \n",
       "\n",
       "   CountryIdentifier  Platform  Processor  SMode  Firewall  \\\n",
       "0                 29         1          1    0.0       1.0   \n",
       "1                 93         1          1    0.0       1.0   \n",
       "2                 86         1          1    0.0       1.0   \n",
       "3                 88         1          1    0.0       1.0   \n",
       "4                 18         1          1    0.0       1.0   \n",
       "\n",
       "   Census_IsSecureBootEnabled  Census_PrimaryDiskTypeName  \\\n",
       "0                           0                           1   \n",
       "1                           0                           1   \n",
       "2                           0                           0   \n",
       "3                           0                           0   \n",
       "4                           0                           1   \n",
       "\n",
       "   Census_TotalPhysicalRAM  Wdft_IsGamer  HasDetections  \n",
       "0                   4096.0           0.0              0  \n",
       "1                   4096.0           0.0              0  \n",
       "2                   4096.0           0.0              0  \n",
       "3                   4096.0           0.0              1  \n",
       "4                   6144.0           0.0              1  "
      ]
     },
     "execution_count": 49,
     "metadata": {},
     "output_type": "execute_result"
    }
   ],
   "source": [
    "data['Platform']= data['Platform'].apply(lambda x: 1 if x == 'windows10' else 0)\n",
    "data['Census_PrimaryDiskTypeName']= data['Census_PrimaryDiskTypeName'].apply(lambda x: 1 if x == 'HDD' else 0)\n",
    "data['Processor']= data['Processor'].apply(lambda x: 1 if x == 'x64' else 0)\n",
    "data.head()"
   ]
  },
  {
   "cell_type": "markdown",
   "metadata": {},
   "source": [
    "Now that we've finshed the encoding, we just need to find a way to model the dataset and figure out which variables are important."
   ]
  },
  {
   "cell_type": "markdown",
   "metadata": {},
   "source": [
    "Before that, let's check the correlation between each variables again, because we formated the columns with string values into binary values. So it is possible to check correlation between every columns now"
   ]
  },
  {
   "cell_type": "code",
   "execution_count": 50,
   "metadata": {},
   "outputs": [
    {
     "name": "stdout",
     "output_type": "stream",
     "text": [
      "\n",
      "\n",
      "Column1: AVProductStatesIdentifier; Column2: AVProductsInstalled; abs(corr) > 0.5: -0.66159490241\n",
      "\n",
      "Column1: AVProductStatesIdentifier; Column2: AVProductsEnabled; 0.1 < abs(corr) < 0.5: -0.126306745829\n",
      "Column1: AVProductStatesIdentifier; Column2: Census_PrimaryDiskTypeName; 0.1 < abs(corr) < 0.5: -0.109286054246\n",
      "Column1: AVProductsInstalled; Column2: AVProductsEnabled; 0.1 < abs(corr) < 0.5: 0.294800598955\n",
      "Column1: AVProductsInstalled; Column2: Census_IsSecureBootEnabled; 0.1 < abs(corr) < 0.5: 0.214086605161\n",
      "Column1: AVProductsInstalled; Column2: Census_PrimaryDiskTypeName; 0.1 < abs(corr) < 0.5: 0.116140496928\n",
      "Column1: AVProductsEnabled; Column2: Platform; 0.1 < abs(corr) < 0.5: -0.185735715641\n",
      "Column1: HasTpm; Column2: Platform; 0.1 < abs(corr) < 0.5: 0.235749207675\n",
      "Column1: Census_IsSecureBootEnabled; Column2: Census_PrimaryDiskTypeName; 0.1 < abs(corr) < 0.5: 0.105898545744\n",
      "Column1: Census_TotalPhysicalRAM; Column2: Wdft_IsGamer; 0.1 < abs(corr) < 0.5: 0.156777851528\n",
      "Column1: Processor; Column2: Census_PrimaryDiskTypeName; 0.1 < abs(corr) < 0.5: 0.117330537212\n",
      "\n",
      "\n",
      "Total counts: 66; counts of corr less than 0.1 : 55\n"
     ]
    }
   ],
   "source": [
    "cols = [col for col in data.columns if col not in ['HasDetections'] ]\n",
    "\n",
    "populate_corr_dict(cols)\n",
    "\n",
    "count_total,count_small = (0, 0)\n",
    "print_corr(count_total, count_small)"
   ]
  },
  {
   "cell_type": "markdown",
   "metadata": {},
   "source": [
    "Similarly, only two columns have absolute value of correlation higher than 0.5. And majority of the columns have correlation less then 0.1. Those with correlation between 0.1 and 0.5 are around 0.1~0.2. \n",
    "#### Now let's dive into the prediction model."
   ]
  },
  {
   "cell_type": "markdown",
   "metadata": {},
   "source": [
    "One model that is typically accurate and readily gives out which variables are important is a RandomForestClassifier. Thus, we will use a RandomForestClassifier to model and figure out the variable importance."
   ]
  },
  {
   "cell_type": "markdown",
   "metadata": {},
   "source": [
    "We first need to divy up our cells into training and testing. This will be important, because if our model isn't totally accurate, than it could mean that our data is skewed (since we only chose the top 100000), or we narrowed out/excluded important variables. Both would impact our hypothesis."
   ]
  },
  {
   "cell_type": "code",
   "execution_count": 51,
   "metadata": {},
   "outputs": [],
   "source": [
    "cols = [col for col in data.columns if col not in ['HasDetections']]\n",
    "from sklearn.model_selection import train_test_split\n",
    "X_train, X_test, y_train, y_test = train_test_split(data[cols], data['HasDetections'], test_size=0.2)"
   ]
  },
  {
   "cell_type": "code",
   "execution_count": 52,
   "metadata": {},
   "outputs": [
    {
     "data": {
      "text/plain": [
       "RandomForestClassifier(bootstrap=True, class_weight=None, criterion='gini',\n",
       "            max_depth=None, max_features='auto', max_leaf_nodes=None,\n",
       "            min_impurity_decrease=0.0, min_impurity_split=None,\n",
       "            min_samples_leaf=1, min_samples_split=2,\n",
       "            min_weight_fraction_leaf=0.0, n_estimators=1000, n_jobs=None,\n",
       "            oob_score=False, random_state=42, verbose=0, warm_start=False)"
      ]
     },
     "execution_count": 52,
     "metadata": {},
     "output_type": "execute_result"
    }
   ],
   "source": [
    "from sklearn.ensemble import RandomForestClassifier\n",
    "clf=RandomForestClassifier(n_estimators=1000, random_state=42)\n",
    "clf.fit(X_train,y_train)"
   ]
  },
  {
   "cell_type": "markdown",
   "metadata": {},
   "source": [
    "Let us first look at each variable importance, ordered by most important to least."
   ]
  },
  {
   "cell_type": "code",
   "execution_count": 53,
   "metadata": {},
   "outputs": [
    {
     "data": {
      "text/plain": [
       "<matplotlib.axes._subplots.AxesSubplot at 0x1c2b10aa58>"
      ]
     },
     "execution_count": 53,
     "metadata": {},
     "output_type": "execute_result"
    },
    {
     "data": {
      "image/png": "[encoded data removed]",
      "text/plain": [
       "<Figure size 432x288 with 1 Axes>"
      ]
     },
     "metadata": {
      "needs_background": "light"
     },
     "output_type": "display_data"
    }
   ],
   "source": [
    "variableImportance = pd.Series(clf.feature_importances_,index=data.columns.difference(['HasDetections'])).sort_values(ascending=False)\n",
    "sns.barplot(variableImportance, variableImportance.index)"
   ]
  },
  {
   "cell_type": "markdown",
   "metadata": {},
   "source": [
    "Now we need to check look at how our model did in order to ensure the validity of these variable importances."
   ]
  },
  {
   "cell_type": "code",
   "execution_count": 54,
   "metadata": {},
   "outputs": [
    {
     "data": {
      "text/plain": [
       "0.5630128091612066"
      ]
     },
     "execution_count": 54,
     "metadata": {},
     "output_type": "execute_result"
    }
   ],
   "source": [
    "predictions = clf.predict(X_test)\n",
    "sum(predictions==y_test)/len(y_test)"
   ]
  },
  {
   "cell_type": "code",
   "execution_count": 55,
   "metadata": {},
   "outputs": [
    {
     "name": "stdout",
     "output_type": "stream",
     "text": [
      "train_data_accuracy:\n",
      "\n",
      "              precision    recall  f1-score   support\n",
      "\n",
      "           0       0.76      0.63      0.69     33216\n",
      "           1       0.70      0.81      0.75     34545\n",
      "\n",
      "   micro avg       0.72      0.72      0.72     67761\n",
      "   macro avg       0.73      0.72      0.72     67761\n",
      "weighted avg       0.73      0.72      0.72     67761\n",
      "\n",
      "test_date_accuracy:\n",
      "\n",
      "              precision    recall  f1-score   support\n",
      "\n",
      "           0       0.56      0.48      0.52      8287\n",
      "           1       0.56      0.65      0.60      8654\n",
      "\n",
      "   micro avg       0.56      0.56      0.56     16941\n",
      "   macro avg       0.56      0.56      0.56     16941\n",
      "weighted avg       0.56      0.56      0.56     16941\n",
      "\n"
     ]
    }
   ],
   "source": [
    "from sklearn.metrics import classification_report, precision_recall_fscore_support\n",
    "\n",
    "pred_tr_y = clf.predict(X_train)\n",
    "pred_te_y = clf.predict(X_test)\n",
    "\n",
    "print('train_data_accuracy:\\n')\n",
    "print(classification_report(y_train, pred_tr_y))\n",
    "print('test_date_accuracy:\\n')\n",
    "print(classification_report(y_test, pred_te_y))"
   ]
  },
  {
   "cell_type": "markdown",
   "metadata": {},
   "source": [
    "Let's drop the columns whose importance levels are not significantly different 0"
   ]
  },
  {
   "cell_type": "code",
   "execution_count": 56,
   "metadata": {},
   "outputs": [
    {
     "data": {
      "text/html": [
       "<div>\n",
       "<style scoped>\n",
       "    .dataframe tbody tr th:only-of-type {\n",
       "        vertical-align: middle;\n",
       "    }\n",
       "\n",
       "    .dataframe tbody tr th {\n",
       "        vertical-align: top;\n",
       "    }\n",
       "\n",
       "    .dataframe thead th {\n",
       "        text-align: right;\n",
       "    }\n",
       "</style>\n",
       "<table border=\"1\" class=\"dataframe\">\n",
       "  <thead>\n",
       "    <tr style=\"text-align: right;\">\n",
       "      <th></th>\n",
       "      <th>AVProductStatesIdentifier</th>\n",
       "      <th>AVProductsEnabled</th>\n",
       "      <th>Processor</th>\n",
       "      <th>SMode</th>\n",
       "      <th>Census_PrimaryDiskTypeName</th>\n",
       "      <th>HasDetections</th>\n",
       "    </tr>\n",
       "  </thead>\n",
       "  <tbody>\n",
       "    <tr>\n",
       "      <th>0</th>\n",
       "      <td>53447.0</td>\n",
       "      <td>1.0</td>\n",
       "      <td>1</td>\n",
       "      <td>0.0</td>\n",
       "      <td>1</td>\n",
       "      <td>0</td>\n",
       "    </tr>\n",
       "    <tr>\n",
       "      <th>1</th>\n",
       "      <td>53447.0</td>\n",
       "      <td>1.0</td>\n",
       "      <td>1</td>\n",
       "      <td>0.0</td>\n",
       "      <td>1</td>\n",
       "      <td>0</td>\n",
       "    </tr>\n",
       "    <tr>\n",
       "      <th>2</th>\n",
       "      <td>53447.0</td>\n",
       "      <td>1.0</td>\n",
       "      <td>1</td>\n",
       "      <td>0.0</td>\n",
       "      <td>0</td>\n",
       "      <td>0</td>\n",
       "    </tr>\n",
       "    <tr>\n",
       "      <th>3</th>\n",
       "      <td>53447.0</td>\n",
       "      <td>1.0</td>\n",
       "      <td>1</td>\n",
       "      <td>0.0</td>\n",
       "      <td>0</td>\n",
       "      <td>1</td>\n",
       "    </tr>\n",
       "    <tr>\n",
       "      <th>4</th>\n",
       "      <td>53447.0</td>\n",
       "      <td>1.0</td>\n",
       "      <td>1</td>\n",
       "      <td>0.0</td>\n",
       "      <td>1</td>\n",
       "      <td>1</td>\n",
       "    </tr>\n",
       "  </tbody>\n",
       "</table>\n",
       "</div>"
      ],
      "text/plain": [
       "   AVProductStatesIdentifier  AVProductsEnabled  Processor  SMode  \\\n",
       "0                    53447.0                1.0          1    0.0   \n",
       "1                    53447.0                1.0          1    0.0   \n",
       "2                    53447.0                1.0          1    0.0   \n",
       "3                    53447.0                1.0          1    0.0   \n",
       "4                    53447.0                1.0          1    0.0   \n",
       "\n",
       "   Census_PrimaryDiskTypeName  HasDetections  \n",
       "0                           1              0  \n",
       "1                           1              0  \n",
       "2                           0              0  \n",
       "3                           0              1  \n",
       "4                           1              1  "
      ]
     },
     "execution_count": 56,
     "metadata": {},
     "output_type": "execute_result"
    }
   ],
   "source": [
    "data_trim = data.drop(columns = ['Wdft_IsGamer','Platform', 'CountryIdentifier', 'HasTpm', 'AVProductsInstalled', 'Census_TotalPhysicalRAM', 'Census_IsSecureBootEnabled', 'Firewall'])\n",
    "data_trim.head()"
   ]
  },
  {
   "cell_type": "code",
   "execution_count": 57,
   "metadata": {},
   "outputs": [
    {
     "data": {
      "text/plain": [
       "0.5870373649725518"
      ]
     },
     "execution_count": 57,
     "metadata": {},
     "output_type": "execute_result"
    }
   ],
   "source": [
    "cols_trim = [col for col in data_trim.columns if col not in ['HasDetections']]\n",
    "X_train2, X_test2, y_train2, y_test2 = train_test_split(data_trim[cols_trim], data_trim['HasDetections'], test_size=0.2)\n",
    "\n",
    "clf2=RandomForestClassifier(n_estimators=1000, random_state=42)\n",
    "clf2.fit(X_train2,y_train2)\n",
    "\n",
    "clf2.score(X_test2, y_test2)"
   ]
  },
  {
   "cell_type": "markdown",
   "metadata": {},
   "source": [
    "As seen above, after dropping insignificant variables from the data, and predited results have better precision, \n",
    "(imporoved from 0.56 to around 0.59), but the improvement is relatively small."
   ]
  },
  {
   "cell_type": "markdown",
   "metadata": {},
   "source": [
    "This means that our variable importance given by the model isn't accurate. Thus, it would be best to take the model's variable importance with a grain of salt.\n",
    "\n",
    "Below, we shall do a extra trees classifier to see if we can get better accuracy and see if the variable importance is different for the extra trees classifier model. If the extra trees classifier is significantly more accurate, then we can consider the variable importance of the extra trees classifier over the random forest classifier."
   ]
  },
  {
   "cell_type": "code",
   "execution_count": 58,
   "metadata": {},
   "outputs": [
    {
     "data": {
      "text/plain": [
       "ExtraTreesClassifier(bootstrap=False, class_weight=None, criterion='gini',\n",
       "           max_depth=None, max_features='auto', max_leaf_nodes=None,\n",
       "           min_impurity_decrease=0.0, min_impurity_split=None,\n",
       "           min_samples_leaf=1, min_samples_split=2,\n",
       "           min_weight_fraction_leaf=0.0, n_estimators=1000, n_jobs=None,\n",
       "           oob_score=False, random_state=42, verbose=0, warm_start=False)"
      ]
     },
     "execution_count": 58,
     "metadata": {},
     "output_type": "execute_result"
    }
   ],
   "source": [
    "from sklearn.ensemble import ExtraTreesClassifier\n",
    "xtraTrees = ExtraTreesClassifier(n_estimators=1000, random_state=42)\n",
    "xtraTrees.fit(X_train,y_train)\n",
    "\n"
   ]
  },
  {
   "cell_type": "code",
   "execution_count": 59,
   "metadata": {},
   "outputs": [
    {
     "data": {
      "text/plain": [
       "<matplotlib.axes._subplots.AxesSubplot at 0x1cbf333048>"
      ]
     },
     "execution_count": 59,
     "metadata": {},
     "output_type": "execute_result"
    },
    {
     "data": {
      "image/png": "[encoded data removed]",
      "text/plain": [
       "<Figure size 432x288 with 1 Axes>"
      ]
     },
     "metadata": {
      "needs_background": "light"
     },
     "output_type": "display_data"
    }
   ],
   "source": [
    "variableImportanceXtraTrees = pd.Series(xtraTrees.feature_importances_,index=data.columns.difference(['HasDetections'])).sort_values(ascending=False)\n",
    "sns.barplot(variableImportanceXtraTrees, variableImportanceXtraTrees.index)\n"
   ]
  },
  {
   "cell_type": "markdown",
   "metadata": {},
   "source": [
    "While the variable importance is the same in general, we can see that the CountryIdentifier is more important than processor. Now let's see the accuracy:"
   ]
  },
  {
   "cell_type": "code",
   "execution_count": 60,
   "metadata": {},
   "outputs": [
    {
     "data": {
      "text/plain": [
       "0.5611829289888436"
      ]
     },
     "execution_count": 60,
     "metadata": {},
     "output_type": "execute_result"
    }
   ],
   "source": [
    "xtraTrees.score(X_test, y_test)"
   ]
  },
  {
   "cell_type": "markdown",
   "metadata": {},
   "source": [
    "We can now see that the accuracy of the model is around the same as the random forest. In fact, it is actually slightly less accurate (around 0.5%). Lets see if trimming the variables that are less important can help boost the accuracy of the model"
   ]
  },
  {
   "cell_type": "code",
   "execution_count": 61,
   "metadata": {},
   "outputs": [
    {
     "data": {
      "text/html": [
       "<div>\n",
       "<style scoped>\n",
       "    .dataframe tbody tr th:only-of-type {\n",
       "        vertical-align: middle;\n",
       "    }\n",
       "\n",
       "    .dataframe tbody tr th {\n",
       "        vertical-align: top;\n",
       "    }\n",
       "\n",
       "    .dataframe thead th {\n",
       "        text-align: right;\n",
       "    }\n",
       "</style>\n",
       "<table border=\"1\" class=\"dataframe\">\n",
       "  <thead>\n",
       "    <tr style=\"text-align: right;\">\n",
       "      <th></th>\n",
       "      <th>AVProductStatesIdentifier</th>\n",
       "      <th>AVProductsEnabled</th>\n",
       "      <th>CountryIdentifier</th>\n",
       "      <th>SMode</th>\n",
       "      <th>Census_PrimaryDiskTypeName</th>\n",
       "      <th>HasDetections</th>\n",
       "    </tr>\n",
       "  </thead>\n",
       "  <tbody>\n",
       "    <tr>\n",
       "      <th>0</th>\n",
       "      <td>53447.0</td>\n",
       "      <td>1.0</td>\n",
       "      <td>29</td>\n",
       "      <td>0.0</td>\n",
       "      <td>1</td>\n",
       "      <td>0</td>\n",
       "    </tr>\n",
       "    <tr>\n",
       "      <th>1</th>\n",
       "      <td>53447.0</td>\n",
       "      <td>1.0</td>\n",
       "      <td>93</td>\n",
       "      <td>0.0</td>\n",
       "      <td>1</td>\n",
       "      <td>0</td>\n",
       "    </tr>\n",
       "    <tr>\n",
       "      <th>2</th>\n",
       "      <td>53447.0</td>\n",
       "      <td>1.0</td>\n",
       "      <td>86</td>\n",
       "      <td>0.0</td>\n",
       "      <td>0</td>\n",
       "      <td>0</td>\n",
       "    </tr>\n",
       "    <tr>\n",
       "      <th>3</th>\n",
       "      <td>53447.0</td>\n",
       "      <td>1.0</td>\n",
       "      <td>88</td>\n",
       "      <td>0.0</td>\n",
       "      <td>0</td>\n",
       "      <td>1</td>\n",
       "    </tr>\n",
       "    <tr>\n",
       "      <th>4</th>\n",
       "      <td>53447.0</td>\n",
       "      <td>1.0</td>\n",
       "      <td>18</td>\n",
       "      <td>0.0</td>\n",
       "      <td>1</td>\n",
       "      <td>1</td>\n",
       "    </tr>\n",
       "  </tbody>\n",
       "</table>\n",
       "</div>"
      ],
      "text/plain": [
       "   AVProductStatesIdentifier  AVProductsEnabled  CountryIdentifier  SMode  \\\n",
       "0                    53447.0                1.0                 29    0.0   \n",
       "1                    53447.0                1.0                 93    0.0   \n",
       "2                    53447.0                1.0                 86    0.0   \n",
       "3                    53447.0                1.0                 88    0.0   \n",
       "4                    53447.0                1.0                 18    0.0   \n",
       "\n",
       "   Census_PrimaryDiskTypeName  HasDetections  \n",
       "0                           1              0  \n",
       "1                           1              0  \n",
       "2                           0              0  \n",
       "3                           0              1  \n",
       "4                           1              1  "
      ]
     },
     "execution_count": 61,
     "metadata": {},
     "output_type": "execute_result"
    }
   ],
   "source": [
    "data_trim_xtraTrees = data.drop(columns = ['Wdft_IsGamer','Platform', 'Processor', 'HasTpm', 'AVProductsInstalled', 'Census_TotalPhysicalRAM', 'Census_IsSecureBootEnabled', 'Firewall'])\n",
    "data_trim_xtraTrees.head()\n"
   ]
  },
  {
   "cell_type": "code",
   "execution_count": 62,
   "metadata": {},
   "outputs": [
    {
     "data": {
      "text/plain": [
       "0.566377427542648"
      ]
     },
     "execution_count": 62,
     "metadata": {},
     "output_type": "execute_result"
    }
   ],
   "source": [
    "cols_trim = [col for col in data_trim_xtraTrees.columns if col not in ['HasDetections']]\n",
    "X_trainXtra, X_testXtra, y_trainXtra, y_testXtra = train_test_split(data_trim_xtraTrees[cols_trim], data_trim_xtraTrees['HasDetections'], test_size=0.2)\n",
    "\n",
    "xtraTrees2=ExtraTreesClassifier(n_estimators=1000, random_state=42)\n",
    "xtraTrees2.fit(X_trainXtra,y_trainXtra)\n",
    "\n",
    "xtraTrees2.score(X_testXtra, y_testXtra)\n"
   ]
  },
  {
   "cell_type": "markdown",
   "metadata": {},
   "source": [
    "As we can see the accruacy barely improved. Thus, random forest is our best model."
   ]
  },
  {
   "cell_type": "markdown",
   "metadata": {},
   "source": [
    "However, since Random Forest is our best model, and it only has a 59% accuracy rate, we can't definitively say that the most important variables, based off of the Random Forest model, are the Disk type and the antivirus app one uses. Thus, any of the variable importance given by the model should be taken with a grain of salt."
   ]
  },
  {
   "cell_type": "markdown",
   "metadata": {},
   "source": [
    "What this means in the end is that our hypothesis is most likely incorrect. Both TPM and firewall are at the lower end of variable importance in the model, and while SMode is one of the higher ones, it is not the most significant. However, this should also be taken with a grain of salt since again the model is not very accurate."
   ]
  },
  {
   "cell_type": "markdown",
   "metadata": {},
   "source": [
    "# Ethics & Privacy"
   ]
  },
  {
   "cell_type": "markdown",
   "metadata": {},
   "source": [
    "Based on the current dataset about malware we found, the majority of users’ information, such as engine version, platform version, and machine type, is non-sensitive. Some of the privacy-sensitive data, such as geographic locations of users’ devices, are protected by using ID numbers. However, there are potential privacy-sensitive information, including the individual machine ID and users’ English ID names. The current dataset we found was collected by Microsoft, and it claims that the sampling methodology used to create this dataset meets certain business constraints, including user privacy. It is probably ethical to research with this data; however, we are aware that the process of malware detection often involves users’ private information and the data collected might have privacy issues. Since we are not using those variables containing possible private contents, we will not accidently disclose privacy-sensitive information."
   ]
  },
  {
   "cell_type": "markdown",
   "metadata": {},
   "source": [
    "# Conclusion & Discussion"
   ]
  },
  {
   "cell_type": "markdown",
   "metadata": {},
   "source": [
    "The project is based on the research on whether leading factors of malware infection for computers are relevant in the development of security features installed, with the implication that most programs search for known viruses with non-common going through the firewall. It was hypothesized that the lack of secuirty features besides the update ant-virus firewalls can result in the infection of malware in ones' computer. Current laptop models come with featured anti-virus program that insist that has the security to protect against viruses and malware. \n",
    "\n",
    "We started off by collecting datasets from Microsoft's, \"Malware Prediction\", which were primarily conducted by the Windows machines. With the reference that there was a lot of data to work with, we minimized to observing only 10,000 out of the 8 million lines in the dataset, as well as containing only 13 out of 80 variables in order for the analysis to be more adequate without effecting Pandas platform. Each variable has its own performance in relation to identifying the type of machine, what the purpose of usage is, if it contains an anti-virus program and whether the system is at risk for obtaining a virus. From the Exploratory Data Analysis, most devices are Windows 10, with x64 processor, HDD disk, and most of them have same or similar anti-virus products state and physical RAM. Based on the plots generated in the EDA section, only two variables AVProductsEnabled and AVProductsInstalled, seems to have a relatively strong correlation with HasDetections. However, because the plots only suggest correlations but not causations, we need to dive in and analysize the data with logistic regression.\n",
    "\n",
    "After we encode the data types for all columns and checked correlations between each column, we used a RandomForestClassifer to build our predictive model. The first run of our predictive model doesn't produce very precise results (precision 0.56). To see what the best predictors of virus detectors are, we checked the level of importance for all columns. Dropping insignificant variables from the data slightly increased the prediction rate of better precision (precision increased from 0.56 to 0.58), but it does not provide efficient evidence to see a difference. \n",
    "\n",
    "### Our hypothesis states that the leading factors of malware infection for computers with up-to-date antivirus software are the lack of several other security features, such as having a TPM Chip, enabled firewall settings, and having secure boot enabled on the device. However, even though the exploratory analysis shows a negative correlation between malware detection and the number of anti-virus products installed and enabled, the result of our analysis shows that these factors do not have enough significance on the ability of malware detection. "
   ]
  },
  {
   "cell_type": "markdown",
   "metadata": {},
   "source": [
    "# References"
   ]
  },
  {
   "cell_type": "markdown",
   "metadata": {},
   "source": [
    "For help regarding how to load in large sample sizes by defining data types using the dtype field in read_csv:\n",
    "\n",
    "https://www.kaggle.com/shrutimechlearn/large-data-loading-trick-with-ms-malware-data"
   ]
  }
 ],
 "metadata": {
  "kernelspec": {
   "display_name": "Python 3",
   "language": "python",
   "name": "python3"
  },
  "language_info": {
   "codemirror_mode": {
    "name": "ipython",
    "version": 3
   },
   "file_extension": ".py",
   "mimetype": "text/x-python",
   "name": "python",
   "nbconvert_exporter": "python",
   "pygments_lexer": "ipython3",
   "version": "3.7.3"
  }
 },
 "nbformat": 4,
 "nbformat_minor": 2
}
