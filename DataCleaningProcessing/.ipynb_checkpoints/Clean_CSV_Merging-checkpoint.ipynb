{
 "cells": [
  {
   "cell_type": "markdown",
   "metadata": {},
   "source": [
    "Merges the clean data files together for easier processing"
   ]
  },
  {
   "cell_type": "code",
   "execution_count": 1,
   "metadata": {},
   "outputs": [],
   "source": [
    "import pandas as pd\n",
    "import numpy as np"
   ]
  },
  {
   "cell_type": "code",
   "execution_count": 2,
   "metadata": {},
   "outputs": [],
   "source": [
    "c2011 = pd.read_csv(\"Cleaned_CSV/c2011.csv\")\n",
    "c2012 = pd.read_csv(\"Cleaned_CSV/c2012.csv\")\n",
    "c2013 = pd.read_csv(\"Cleaned_CSV/c2013.csv\")\n",
    "c2014 = pd.read_csv(\"Cleaned_CSV/c2014.csv\")\n",
    "c2015 = pd.read_csv(\"Cleaned_CSV/c2015.csv\")\n",
    "c2016 = pd.read_csv(\"Cleaned_CSV/c2016.csv\")\n",
    "c2017 = pd.read_csv(\"Cleaned_CSV/c2017.csv\")\n",
    "c2018 = pd.read_csv(\"Cleaned_CSV/c2018.csv\")"
   ]
  },
  {
   "cell_type": "code",
   "execution_count": 3,
   "metadata": {},
   "outputs": [],
   "source": [
    "c2011.drop(columns=['Unnamed: 0'], inplace=True)\n",
    "c2012.drop(columns=['Unnamed: 0'], inplace=True)\n",
    "c2013.drop(columns=['Unnamed: 0'], inplace=True)\n",
    "c2015.drop(columns=['Unnamed: 0'], inplace=True)\n",
    "c2016.drop(columns=['Unnamed: 0'], inplace=True)\n",
    "c2017.drop(columns=['Unnamed: 0'], inplace=True)\n",
    "c2018.drop(columns=['Unnamed: 0'], inplace=True)"
   ]
  },
  {
   "cell_type": "code",
   "execution_count": 4,
   "metadata": {},
   "outputs": [],
   "source": [
    "c = [c2011, c2012, c2013, c2014, c2015, c2016, c2017, c2018]"
   ]
  },
  {
   "cell_type": "code",
   "execution_count": 5,
   "metadata": {},
   "outputs": [],
   "source": [
    "df = pd.concat(c, ignore_index=True)\n",
    "df[\"Event\"] = df[\"Event\"].apply(lambda x: x.lower().strip() if pd.notnull(x) else x)\n",
    "df[\"Location\"] = df[\"Location\"].apply(lambda x: x.lower().strip() if pd.notnull(x) else x)\n",
    "df[\"Summary:\"] = df[\"Summary:\"].apply(lambda x: x.lower().strip() if pd.notnull(x) else x)\n",
    "df[\"Disposition:\"] = df[\"Disposition:\"].apply(lambda x: x.lower().strip() if pd.notnull(x) else x)"
   ]
  },
  {
   "cell_type": "code",
   "execution_count": 6,
   "metadata": {},
   "outputs": [],
   "source": [
    "df.to_csv(\"aggregate.csv\", index=False)"
   ]
  }
 ],
 "metadata": {
  "kernelspec": {
   "display_name": "Python 3",
   "language": "python",
   "name": "python3"
  },
  "language_info": {
   "codemirror_mode": {
    "name": "ipython",
    "version": 3
   },
   "file_extension": ".py",
   "mimetype": "text/x-python",
   "name": "python",
   "nbconvert_exporter": "python",
   "pygments_lexer": "ipython3",
   "version": "3.6.8"
  }
 },
 "nbformat": 4,
 "nbformat_minor": 2
}
