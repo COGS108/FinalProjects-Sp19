{
 "cells": [
  {
   "cell_type": "markdown",
   "metadata": {},
   "source": [
    "# COGS 108 - Final Project\n",
    "# TEAM GROUP: 50\n",
    "# TEAM NAME: Movie Stars"
   ]
  },
  {
   "cell_type": "markdown",
   "metadata": {},
   "source": [
    "# Names and PID\n",
    "- Anthony Ostia &emsp; A13903305\n",
    "- Ramin Atrian &emsp; A15691021\n",
    "- Chuyang Xiao &emsp; A13722916\n",
    "- Yifeng Zhang &emsp; A13820262\n",
    "- Ian Nelson &emsp; A15738482"
   ]
  },
  {
   "cell_type": "markdown",
   "metadata": {},
   "source": [
    "# Introduction\n",
    "In this final project of Data science, we are trying to generate a recommendation system of movies for IMDB users with the respect of their historical ratings. At first, after obtaining the datasets about both film's final ratings and individual users' ratings, we would try to combine them together with movieID as the key for further comparisons. Next, by visualizing the collected data, we would study the correlation between individual as well as final ratings of films and film genres. At last, we would use the model we generate to recommend films for each individual user. "
   ]
  },
  {
   "cell_type": "markdown",
   "metadata": {},
   "source": [
    "# Background \n",
    "Since the beginning of the 20th century, film has been an important recreation to human beings possessing both artistic and commercial significance. Moreover, in the Information Age, rather than being overwhelmed by the gigantic informative flow, film won unprecedented attention from the population with the aid of widespread accessibility to the Internet. Just like Hsu (2014) argued in his essay, in the era of Web 2.0, film critics are no longer privileges limited to professionals yet typical rights to common audiences as well, due to the introduction of film rating websites such as IMDB or Rotten Tomatoes: each audience could comment or grade films online and then share their evaluations and opinions to the public. Consequently, the data collected thereby is not only abundant in quantity, but also diverse in nature, including millions of users’ personal information as well as preference of films. Hence, considering it a perfect dataset to study users’ attributes to films, we would like to focus on the ratings on movie websites in this project.\n",
    "\n",
    "As increasing audiences begin to consider online ratings as critical criteria to decide whether or  not to see a film, a number of data scientists struggle to explore the rating data, which has provided us with the direction of further research. In the research accomplished by Hsu (2014) focusing on predicting the movies user rating based on the IMDB attributes, by analyzing the ratings and critics of 31506 movies, they generated a mathematical model mimicking the manners of the preference of general IMDB users, and hence predicted the final rating of a newly coming movie via entering related parameters to it. Regardingly, we found that instead of being purely independent, the IMDB ratings of new films could be roughly predicted by past data. Furthermore, in Breuss’s research (2012), the personal information on users’ social media, including gender, hobby, or regular activities, was taken into account and therefore, predicted the IMDB movie ratings they might give, which inspires that individuals’ statistics could also be of concern. \n",
    "\n",
    "All in all, in this data science project, we will combine these two studies and step forward: we will study what kind of movies will a user like based on the historical ratings and review texts of that user on movies he/she has seen previously. From our perspective, this study is not only interesting but also quite applicable, could possibly promote the recommendation system in movie rating websites.\n",
    "\n",
    "Reference:\n",
    "1. Hsu, P. Y., Shen, Y. H., & Xie, X. A. (2014, October). Predicting movies user ratings with imdb attributes. In International Conference on Rough Sets and Knowledge Technology (pp. 444-453). Springer, Cham.\n",
    "2. Oghina, A., Breuss, M., Tsagkias, M., & De Rijke, M. (2012, April). Predicting imdb movie ratings using social media. In European Conference on Information Retrieval (pp. 503-507). Springer, Berlin, Heidelberg."
   ]
  },
  {
   "cell_type": "markdown",
   "metadata": {},
   "source": [
    "# Research Question\n",
    "How to recommend films in their favorite genres to each individual IMDB user according to their historical ratings?"
   ]
  },
  {
   "cell_type": "markdown",
   "metadata": {},
   "source": [
    "# Hypothesis\n",
    "Within this data science group project, we would like to develope a recommendation systems for the movie rating websites which involves to predict the users' preference in movie according to their rating history and then provide them with certain genre of movies that they favour. Hence, we generated a couple of hypothesises with the respect of this topic:\n",
    "1. With the respect of the users, one would like to rate higher on the genres (higher than the average) he or she loves, which indicates his or her love. On the opposite, to the genres he or she dislikes, his or hers ratings would be much lower(lower than or equal to the average).\n",
    "2. Moreover, if a user loves a certain genre of film, he or she tends to watch more this genre of films.\n",
    "3. If a user loves a certain genre of film, this genre of film must exist among the films he or she rates the highest"
   ]
  },
  {
   "cell_type": "markdown",
   "metadata": {},
   "source": [
    "# Data Description\n",
    "\n",
    "In this group project, we would majorly use two datasets, the rating.csv and movie.csv\n",
    "\n",
    "Dataset name: rating.csv\n",
    "\n",
    "Reference: https://www.kaggle.com/rounakbanik/the-movies-dataset/version/7#\n",
    "\n",
    "Number of observations: 80001052\n",
    "\n",
    "We would only use the rating.csv in this data package. It includes 138493 IMDB users' ratings on films in the past 15 years, and each observation refers to one rating. This dataset would construct the rating history of these users that we are going to study and generate predictive model. The columns of this dataset are:\n",
    "\n",
    "1. userID: the IMDB ID of this user that made this rating\n",
    "2. movieID: the movieID of the film got rated in this rating\n",
    "3. rating: the rating the user gives to the film\n",
    "4. timestamp: the time this rating is made\n",
    "\n",
    "In further explorations, we would possibly focus on the information in userID, movieID and rating column.\n",
    "\n",
    "Dataset name: movie.csv\n",
    "\n",
    "Reference: https://www.kaggle.com/grouplens/movielens-20m-dataset#tag.csv\n",
    "\n",
    "Number of observations: 27277\n",
    "\n",
    "In this dataset, each observation refers to the information of one film in the IMDB collection. The columns of this dataset are:\n",
    "1. movieID: the movieID of the film, and the reference to the user's ratings\n",
    "2. title: the title of the film\n",
    "3. genres: the genres of the film\n",
    "\n",
    "In further explorations, we would utilize the information in all three columns.\n"
   ]
  },
  {
   "cell_type": "markdown",
   "metadata": {},
   "source": [
    "<br>\n",
    "<br>\n",
    "<br>\n",
    "<br>\n",
    "<br>\n",
    "<br>\n",
    "<br>\n",
    "<br>"
   ]
  },
  {
   "cell_type": "markdown",
   "metadata": {},
   "source": [
    "# Setup"
   ]
  },
  {
   "cell_type": "code",
   "execution_count": 1,
   "metadata": {},
   "outputs": [],
   "source": [
    "#import the useful modules and packages.\n",
    "import pandas as pd\n",
    "import numpy as np\n",
    "import seaborn as sns\n",
    "import math\n",
    "import matplotlib.pyplot as plt\n",
    "from collections import defaultdict\n",
    "from collections import Counter\n",
    "from sklearn.metrics import precision_recall_fscore_support"
   ]
  },
  {
   "cell_type": "code",
   "execution_count": 2,
   "metadata": {},
   "outputs": [],
   "source": [
    "# load in our datasets in csv with pandas method.\n",
    "df_rating = pd.read_csv('rating.csv') \n",
    "df_movie = pd.read_csv('movie.csv',dtype = {'title':str, 'genres':str, 'movieId':int})"
   ]
  },
  {
   "cell_type": "code",
   "execution_count": 3,
   "metadata": {},
   "outputs": [
    {
     "data": {
      "text/html": [
       "<div>\n",
       "<style scoped>\n",
       "    .dataframe tbody tr th:only-of-type {\n",
       "        vertical-align: middle;\n",
       "    }\n",
       "\n",
       "    .dataframe tbody tr th {\n",
       "        vertical-align: top;\n",
       "    }\n",
       "\n",
       "    .dataframe thead th {\n",
       "        text-align: right;\n",
       "    }\n",
       "</style>\n",
       "<table border=\"1\" class=\"dataframe\">\n",
       "  <thead>\n",
       "    <tr style=\"text-align: right;\">\n",
       "      <th></th>\n",
       "      <th>userId</th>\n",
       "      <th>movieId</th>\n",
       "      <th>rating</th>\n",
       "      <th>timestamp</th>\n",
       "    </tr>\n",
       "  </thead>\n",
       "  <tbody>\n",
       "    <tr>\n",
       "      <th>0</th>\n",
       "      <td>1</td>\n",
       "      <td>2</td>\n",
       "      <td>3.5</td>\n",
       "      <td>2005-04-02 23:53:47</td>\n",
       "    </tr>\n",
       "    <tr>\n",
       "      <th>1</th>\n",
       "      <td>1</td>\n",
       "      <td>29</td>\n",
       "      <td>3.5</td>\n",
       "      <td>2005-04-02 23:31:16</td>\n",
       "    </tr>\n",
       "    <tr>\n",
       "      <th>2</th>\n",
       "      <td>1</td>\n",
       "      <td>32</td>\n",
       "      <td>3.5</td>\n",
       "      <td>2005-04-02 23:33:39</td>\n",
       "    </tr>\n",
       "    <tr>\n",
       "      <th>3</th>\n",
       "      <td>1</td>\n",
       "      <td>47</td>\n",
       "      <td>3.5</td>\n",
       "      <td>2005-04-02 23:32:07</td>\n",
       "    </tr>\n",
       "    <tr>\n",
       "      <th>4</th>\n",
       "      <td>1</td>\n",
       "      <td>50</td>\n",
       "      <td>3.5</td>\n",
       "      <td>2005-04-02 23:29:40</td>\n",
       "    </tr>\n",
       "  </tbody>\n",
       "</table>\n",
       "</div>"
      ],
      "text/plain": [
       "   userId  movieId  rating            timestamp\n",
       "0       1        2     3.5  2005-04-02 23:53:47\n",
       "1       1       29     3.5  2005-04-02 23:31:16\n",
       "2       1       32     3.5  2005-04-02 23:33:39\n",
       "3       1       47     3.5  2005-04-02 23:32:07\n",
       "4       1       50     3.5  2005-04-02 23:29:40"
      ]
     },
     "execution_count": 3,
     "metadata": {},
     "output_type": "execute_result"
    }
   ],
   "source": [
    "df_rating.head()"
   ]
  },
  {
   "cell_type": "code",
   "execution_count": 4,
   "metadata": {},
   "outputs": [
    {
     "data": {
      "text/html": [
       "<div>\n",
       "<style scoped>\n",
       "    .dataframe tbody tr th:only-of-type {\n",
       "        vertical-align: middle;\n",
       "    }\n",
       "\n",
       "    .dataframe tbody tr th {\n",
       "        vertical-align: top;\n",
       "    }\n",
       "\n",
       "    .dataframe thead th {\n",
       "        text-align: right;\n",
       "    }\n",
       "</style>\n",
       "<table border=\"1\" class=\"dataframe\">\n",
       "  <thead>\n",
       "    <tr style=\"text-align: right;\">\n",
       "      <th></th>\n",
       "      <th>movieId</th>\n",
       "      <th>title</th>\n",
       "      <th>genres</th>\n",
       "    </tr>\n",
       "  </thead>\n",
       "  <tbody>\n",
       "    <tr>\n",
       "      <th>0</th>\n",
       "      <td>1</td>\n",
       "      <td>Toy Story (1995)</td>\n",
       "      <td>Adventure|Animation|Children|Comedy|Fantasy</td>\n",
       "    </tr>\n",
       "    <tr>\n",
       "      <th>1</th>\n",
       "      <td>2</td>\n",
       "      <td>Jumanji (1995)</td>\n",
       "      <td>Adventure|Children|Fantasy</td>\n",
       "    </tr>\n",
       "    <tr>\n",
       "      <th>2</th>\n",
       "      <td>3</td>\n",
       "      <td>Grumpier Old Men (1995)</td>\n",
       "      <td>Comedy|Romance</td>\n",
       "    </tr>\n",
       "    <tr>\n",
       "      <th>3</th>\n",
       "      <td>4</td>\n",
       "      <td>Waiting to Exhale (1995)</td>\n",
       "      <td>Comedy|Drama|Romance</td>\n",
       "    </tr>\n",
       "    <tr>\n",
       "      <th>4</th>\n",
       "      <td>5</td>\n",
       "      <td>Father of the Bride Part II (1995)</td>\n",
       "      <td>Comedy</td>\n",
       "    </tr>\n",
       "  </tbody>\n",
       "</table>\n",
       "</div>"
      ],
      "text/plain": [
       "   movieId                               title  \\\n",
       "0        1                    Toy Story (1995)   \n",
       "1        2                      Jumanji (1995)   \n",
       "2        3             Grumpier Old Men (1995)   \n",
       "3        4            Waiting to Exhale (1995)   \n",
       "4        5  Father of the Bride Part II (1995)   \n",
       "\n",
       "                                        genres  \n",
       "0  Adventure|Animation|Children|Comedy|Fantasy  \n",
       "1                   Adventure|Children|Fantasy  \n",
       "2                               Comedy|Romance  \n",
       "3                         Comedy|Drama|Romance  \n",
       "4                                       Comedy  "
      ]
     },
     "execution_count": 4,
     "metadata": {},
     "output_type": "execute_result"
    }
   ],
   "source": [
    "df_movie.head()"
   ]
  },
  {
   "cell_type": "markdown",
   "metadata": {},
   "source": [
    "# Data Cleaning / Pre-processing"
   ]
  },
  {
   "cell_type": "markdown",
   "metadata": {},
   "source": [
    "We drop the timestamp column from the df_rating dataframe. from since it is not beneficial for our project. Then, we drop any data with missing information from the df_rating and df_movie dataframes. Next, we change the scale of the ratings from the rating columns from five to ten by multiplying each rating by 2. Since the information is too large, we decided to create a new dataframe called train that will use the first 2000 users from the df_ratings dataframe. We will then remove any rows that do not have any ratings in the train dataframe. We then create a dataframe called test which takes the last five rows of the train dataframe and drops the index values.Then for both the train and test dataframe, we will create three columns called average score, genre, and variance. In the average score column, we add up all the values for the movie being rated and then divide it by the total amount of ratings for that movie. In the genre column, we put the genre corresponding to the proper movie. Lastly in the variance column, we put the difference between a rating of a movie and the average rating for that movie."
   ]
  },
  {
   "cell_type": "code",
   "execution_count": 5,
   "metadata": {},
   "outputs": [],
   "source": [
    "# drop the timestamp column\n",
    "df_rating = df_rating.drop(columns = ['timestamp'])"
   ]
  },
  {
   "cell_type": "code",
   "execution_count": 6,
   "metadata": {},
   "outputs": [],
   "source": [
    "# drop data with missing values\n",
    "df_rating.dropna(inplace=True)\n",
    "df_movie.dropna(inplace=True)"
   ]
  },
  {
   "cell_type": "code",
   "execution_count": 7,
   "metadata": {},
   "outputs": [],
   "source": [
    "# convert the original rating in the scale of 5 into the rating in the scale of 10.\n",
    "df_rating['rating'] *= 2"
   ]
  },
  {
   "cell_type": "code",
   "execution_count": 8,
   "metadata": {},
   "outputs": [],
   "source": [
    "# The original ratings dataset is too large\n",
    "# we would select the first 2000 users as our training set\n",
    "train = df_rating[df_rating['userId']<=2000]"
   ]
  },
  {
   "cell_type": "code",
   "execution_count": 9,
   "metadata": {},
   "outputs": [],
   "source": [
    "# remove rows without ratings\n",
    "rows_to_drop = []\n",
    "for n in range(len(train)):\n",
    "    if train['movieId'][n] not in df_movie['movieId']:\n",
    "        rows_to_drop.append(n)"
   ]
  },
  {
   "cell_type": "code",
   "execution_count": 10,
   "metadata": {},
   "outputs": [],
   "source": [
    "# split the train and test dataset\n",
    "train = train.drop(rows_to_drop)\n",
    "frames = [train[train['userId'] == i+1][-5:] for i in range(2000)]\n",
    "test = pd.concat(frames)\n",
    "todrop = test.index.values\n",
    "train = train.drop(todrop)"
   ]
  },
  {
   "cell_type": "code",
   "execution_count": 11,
   "metadata": {},
   "outputs": [],
   "source": [
    "# calculate the average ratings\n",
    "average_ratings = {}\n",
    "for index, row in train.iterrows():\n",
    "    if row[1] in average_ratings:\n",
    "        average_ratings[row[1]].append(row[2])\n",
    "    else:\n",
    "        average_ratings[row[1]] = [row[2]]\n",
    "        \n",
    "average_dict = {}\n",
    "for key,value in average_ratings.items():\n",
    "    average_dict[key] = sum(value)/len(value)\n",
    "    \n",
    "train['average_score'] = [average_dict[row[1]] for index,row in train.iterrows()]"
   ]
  },
  {
   "cell_type": "code",
   "execution_count": 12,
   "metadata": {},
   "outputs": [],
   "source": [
    "# append genres to train dataset\n",
    "genre = []\n",
    "for i in train['movieId']:\n",
    "    g = \"\"\n",
    "    for val in df_movie[df_movie['movieId'] == i]['genres']:\n",
    "        g = val\n",
    "    genre.append(g)\n",
    "train['genres'] = genre"
   ]
  },
  {
   "cell_type": "code",
   "execution_count": 13,
   "metadata": {},
   "outputs": [],
   "source": [
    "# calculate variance for each user on each movie\n",
    "train['variance'] = train.apply(lambda row: row.rating - row.average_score, axis=1)"
   ]
  },
  {
   "cell_type": "code",
   "execution_count": 14,
   "metadata": {},
   "outputs": [],
   "source": [
    "# calculate average score for the test set\n",
    "average_ratings = {}\n",
    "for index, row in test.iterrows():\n",
    "    if row[1] in average_ratings:\n",
    "        average_ratings[row[1]].append(row[2])\n",
    "    else:\n",
    "        average_ratings[row[1]] = [row[2]]\n",
    "\n",
    "average_dict = {}\n",
    "for key,value in average_ratings.items():\n",
    "    average_dict[key] = sum(value)/len(value)\n",
    "\n",
    "test['average_score'] = [average_dict[row[1]] for index,row in test.iterrows()]"
   ]
  },
  {
   "cell_type": "code",
   "execution_count": 15,
   "metadata": {},
   "outputs": [],
   "source": [
    "# append genres to the test set\n",
    "genre = []\n",
    "for i in test['movieId']:\n",
    "    g = \"\"\n",
    "    for val in df_movie[df_movie['movieId'] == i]['genres']:\n",
    "        g = val\n",
    "    genre.append(g)\n",
    "test['genres'] = genre"
   ]
  },
  {
   "cell_type": "code",
   "execution_count": 16,
   "metadata": {},
   "outputs": [],
   "source": [
    "test['variance'] = test.apply(lambda row: row.rating - row.average_score, axis=1)\n",
    "test['recommend'] = test.apply(lambda row: row.rating >= 6.0, axis=1)"
   ]
  },
  {
   "cell_type": "code",
   "execution_count": 17,
   "metadata": {},
   "outputs": [
    {
     "data": {
      "text/html": [
       "<div>\n",
       "<style scoped>\n",
       "    .dataframe tbody tr th:only-of-type {\n",
       "        vertical-align: middle;\n",
       "    }\n",
       "\n",
       "    .dataframe tbody tr th {\n",
       "        vertical-align: top;\n",
       "    }\n",
       "\n",
       "    .dataframe thead th {\n",
       "        text-align: right;\n",
       "    }\n",
       "</style>\n",
       "<table border=\"1\" class=\"dataframe\">\n",
       "  <thead>\n",
       "    <tr style=\"text-align: right;\">\n",
       "      <th></th>\n",
       "      <th>userId</th>\n",
       "      <th>movieId</th>\n",
       "      <th>rating</th>\n",
       "      <th>average_score</th>\n",
       "      <th>genres</th>\n",
       "      <th>variance</th>\n",
       "    </tr>\n",
       "  </thead>\n",
       "  <tbody>\n",
       "    <tr>\n",
       "      <th>0</th>\n",
       "      <td>1</td>\n",
       "      <td>2</td>\n",
       "      <td>7.0</td>\n",
       "      <td>6.484076</td>\n",
       "      <td>Adventure|Children|Fantasy</td>\n",
       "      <td>0.515924</td>\n",
       "    </tr>\n",
       "    <tr>\n",
       "      <th>1</th>\n",
       "      <td>1</td>\n",
       "      <td>29</td>\n",
       "      <td>7.0</td>\n",
       "      <td>7.825397</td>\n",
       "      <td>Adventure|Drama|Fantasy|Mystery|Sci-Fi</td>\n",
       "      <td>-0.825397</td>\n",
       "    </tr>\n",
       "    <tr>\n",
       "      <th>2</th>\n",
       "      <td>1</td>\n",
       "      <td>32</td>\n",
       "      <td>7.0</td>\n",
       "      <td>7.763955</td>\n",
       "      <td>Mystery|Sci-Fi|Thriller</td>\n",
       "      <td>-0.763955</td>\n",
       "    </tr>\n",
       "    <tr>\n",
       "      <th>3</th>\n",
       "      <td>1</td>\n",
       "      <td>47</td>\n",
       "      <td>7.0</td>\n",
       "      <td>8.200632</td>\n",
       "      <td>Mystery|Thriller</td>\n",
       "      <td>-1.200632</td>\n",
       "    </tr>\n",
       "    <tr>\n",
       "      <th>4</th>\n",
       "      <td>1</td>\n",
       "      <td>50</td>\n",
       "      <td>7.0</td>\n",
       "      <td>8.773723</td>\n",
       "      <td>Crime|Mystery|Thriller</td>\n",
       "      <td>-1.773723</td>\n",
       "    </tr>\n",
       "  </tbody>\n",
       "</table>\n",
       "</div>"
      ],
      "text/plain": [
       "   userId  movieId  rating  average_score  \\\n",
       "0       1        2     7.0       6.484076   \n",
       "1       1       29     7.0       7.825397   \n",
       "2       1       32     7.0       7.763955   \n",
       "3       1       47     7.0       8.200632   \n",
       "4       1       50     7.0       8.773723   \n",
       "\n",
       "                                   genres  variance  \n",
       "0              Adventure|Children|Fantasy  0.515924  \n",
       "1  Adventure|Drama|Fantasy|Mystery|Sci-Fi -0.825397  \n",
       "2                 Mystery|Sci-Fi|Thriller -0.763955  \n",
       "3                        Mystery|Thriller -1.200632  \n",
       "4                  Crime|Mystery|Thriller -1.773723  "
      ]
     },
     "execution_count": 17,
     "metadata": {},
     "output_type": "execute_result"
    }
   ],
   "source": [
    "train.head()"
   ]
  },
  {
   "cell_type": "code",
   "execution_count": 18,
   "metadata": {},
   "outputs": [
    {
     "data": {
      "text/html": [
       "<div>\n",
       "<style scoped>\n",
       "    .dataframe tbody tr th:only-of-type {\n",
       "        vertical-align: middle;\n",
       "    }\n",
       "\n",
       "    .dataframe tbody tr th {\n",
       "        vertical-align: top;\n",
       "    }\n",
       "\n",
       "    .dataframe thead th {\n",
       "        text-align: right;\n",
       "    }\n",
       "</style>\n",
       "<table border=\"1\" class=\"dataframe\">\n",
       "  <thead>\n",
       "    <tr style=\"text-align: right;\">\n",
       "      <th></th>\n",
       "      <th>userId</th>\n",
       "      <th>movieId</th>\n",
       "      <th>rating</th>\n",
       "      <th>average_score</th>\n",
       "      <th>genres</th>\n",
       "      <th>variance</th>\n",
       "      <th>recommend</th>\n",
       "    </tr>\n",
       "  </thead>\n",
       "  <tbody>\n",
       "    <tr>\n",
       "      <th>169</th>\n",
       "      <td>1</td>\n",
       "      <td>8482</td>\n",
       "      <td>7.0</td>\n",
       "      <td>8.000000</td>\n",
       "      <td>Drama|Fantasy|Horror</td>\n",
       "      <td>-1.000000</td>\n",
       "      <td>True</td>\n",
       "    </tr>\n",
       "    <tr>\n",
       "      <th>170</th>\n",
       "      <td>1</td>\n",
       "      <td>8507</td>\n",
       "      <td>10.0</td>\n",
       "      <td>8.500000</td>\n",
       "      <td>Crime|Drama|Horror</td>\n",
       "      <td>1.500000</td>\n",
       "      <td>True</td>\n",
       "    </tr>\n",
       "    <tr>\n",
       "      <th>171</th>\n",
       "      <td>1</td>\n",
       "      <td>8636</td>\n",
       "      <td>9.0</td>\n",
       "      <td>7.242105</td>\n",
       "      <td>Action|Adventure|Sci-Fi|IMAX</td>\n",
       "      <td>1.757895</td>\n",
       "      <td>True</td>\n",
       "    </tr>\n",
       "    <tr>\n",
       "      <th>172</th>\n",
       "      <td>1</td>\n",
       "      <td>8690</td>\n",
       "      <td>7.0</td>\n",
       "      <td>7.000000</td>\n",
       "      <td>Comedy|Drama|Sci-Fi|War</td>\n",
       "      <td>0.000000</td>\n",
       "      <td>True</td>\n",
       "    </tr>\n",
       "    <tr>\n",
       "      <th>173</th>\n",
       "      <td>1</td>\n",
       "      <td>8961</td>\n",
       "      <td>8.0</td>\n",
       "      <td>7.568889</td>\n",
       "      <td>Action|Adventure|Animation|Children|Comedy</td>\n",
       "      <td>0.431111</td>\n",
       "      <td>True</td>\n",
       "    </tr>\n",
       "  </tbody>\n",
       "</table>\n",
       "</div>"
      ],
      "text/plain": [
       "     userId  movieId  rating  average_score  \\\n",
       "169       1     8482     7.0       8.000000   \n",
       "170       1     8507    10.0       8.500000   \n",
       "171       1     8636     9.0       7.242105   \n",
       "172       1     8690     7.0       7.000000   \n",
       "173       1     8961     8.0       7.568889   \n",
       "\n",
       "                                         genres  variance  recommend  \n",
       "169                        Drama|Fantasy|Horror -1.000000       True  \n",
       "170                          Crime|Drama|Horror  1.500000       True  \n",
       "171                Action|Adventure|Sci-Fi|IMAX  1.757895       True  \n",
       "172                     Comedy|Drama|Sci-Fi|War  0.000000       True  \n",
       "173  Action|Adventure|Animation|Children|Comedy  0.431111       True  "
      ]
     },
     "execution_count": 18,
     "metadata": {},
     "output_type": "execute_result"
    }
   ],
   "source": [
    "test.head()"
   ]
  },
  {
   "cell_type": "code",
   "execution_count": 19,
   "metadata": {},
   "outputs": [],
   "source": [
    "# save the train and test dataframe for future use\n",
    "train.to_csv('train.csv')\n",
    "test.to_csv('test.csv')"
   ]
  },
  {
   "cell_type": "markdown",
   "metadata": {},
   "source": [
    "# Data Visualization"
   ]
  },
  {
   "cell_type": "markdown",
   "metadata": {},
   "source": [
    "##   Graph 1 Scatter matrix of the dataframe"
   ]
  },
  {
   "cell_type": "code",
   "execution_count": 20,
   "metadata": {},
   "outputs": [
    {
     "data": {
      "image/png": "[encoded data removed]",
      "text/plain": [
       "<Figure size 432x288 with 9 Axes>"
      ]
     },
     "metadata": {
      "needs_background": "light"
     },
     "output_type": "display_data"
    }
   ],
   "source": [
    "fig = pd.plotting.scatter_matrix(train[['rating','average_score','variance']])\n",
    "plt.suptitle('scatter-matrix of the dataframe')\n",
    "fig = plt.gcf()"
   ]
  },
  {
   "cell_type": "markdown",
   "metadata": {},
   "source": [
    "-The upper left cell of this scatter-matrix is a histogram of the rating given in each user review. Our 1-to-10 scoring system is a result of multiplying ratings on a five-star scale by two. A notable consequence of the original rating system which can be seen in this histogram is that odd ratings in our 1-to-10 system (which correspond to ratings with half-stars in the original system) are less common than even ratings (whole stare ratings). The histogram also shows that the distribution of ratings is skewed to the left. While the odd ratings are less common than the even ones, their shape follows the general shape of the even numbered ratings.\n",
    "-The middle left cell shows that films of a broad range of average scores are given a wide range of ratings, though high ratings are rarely given to films with very low average scores.\n",
    "-The center cell is a histogram of the number of ratings films with different ranges of average score have received. This indicates that films with higher average scores tend to be rated by more people.\n",
    "-The lower left cell shows a plot of film rating vs difference between that rating and the film’s average rating. It shows that the range of variance for lower ratings is greater than the range of variance for higher ratings. This makes sense considering the skewed distribution of ratings observed in the upper left cell.\n",
    "-The bottom middle cell shows that variance is simply the difference between average score and rating: it is simply a transformation of the top middle graph, which is just a transposition of the middle left graph.\n",
    "-The bottom right graph is a histogram of variance values. It is skewed to the left, which is to be expected given that the distribution of ratings is skewed to the left."
   ]
  },
  {
   "cell_type": "markdown",
   "metadata": {},
   "source": [
    "## Graph 2 Average rating of each genre"
   ]
  },
  {
   "cell_type": "code",
   "execution_count": 21,
   "metadata": {},
   "outputs": [],
   "source": [
    "score_dict = {}\n",
    "for index, row in train.iterrows():\n",
    "    genres = row[4].split('|')\n",
    "    for gen in genres:\n",
    "        if gen in score_dict:\n",
    "            score_dict[gen].append(row[3])\n",
    "        else:\n",
    "            score_dict[gen] = [row[3]]"
   ]
  },
  {
   "cell_type": "code",
   "execution_count": 22,
   "metadata": {},
   "outputs": [
    {
     "data": {
      "image/png": "[encoded data removed]",
      "text/plain": [
       "<Figure size 432x288 with 1 Axes>"
      ]
     },
     "metadata": {
      "needs_background": "light"
     },
     "output_type": "display_data"
    }
   ],
   "source": [
    "plt.boxplot(score_dict.values())\n",
    "plt.xticks(list(range(1,20)),score_dict.keys(), rotation=90)\n",
    "plt.title('Average rating of each genre')\n",
    "plt.xlabel('genres')\n",
    "plt.ylabel('average ratings')\n",
    "fig = plt.gcf()"
   ]
  },
  {
   "cell_type": "markdown",
   "metadata": {},
   "source": [
    "Consisting with this graph, we could obtain some information about the train dataset we are going to deal with in the coming sections. First and foremost, we could see in the train dataframe, there is no significant variance in the average ratings between the genres within the train dataset, with all their average ratings concentrating around 7 with few spreading in the range between 7 and 8.\n",
    "\n",
    "Moreover, if we focus on the average rating of each genre, we could see that among the 2000 users we selected, the film noir tends to have the highest average ratings (about 8.4). Moreover, the horror films tend to have the lowest average ratings (about 6.5).\n",
    "\n",
    "What we could learn from this graph is that the average rating of all film genres do not vary a lot, and the negligible differences in the average rating may not greatly affect further prediction that takes the rating as a predictive factor.\n"
   ]
  },
  {
   "cell_type": "markdown",
   "metadata": {},
   "source": [
    "##  Graph 3 Number of films in each genre"
   ]
  },
  {
   "cell_type": "code",
   "execution_count": 23,
   "metadata": {},
   "outputs": [],
   "source": [
    "count = defaultdict(int)\n",
    "for index, row in train.iterrows():\n",
    "    genres = row[4].split('|')\n",
    "    for gen in genres:\n",
    "        count[gen] += 1"
   ]
  },
  {
   "cell_type": "code",
   "execution_count": 24,
   "metadata": {},
   "outputs": [
    {
     "data": {
      "image/png": "[encoded data removed]",
      "text/plain": [
       "<Figure size 432x288 with 1 Axes>"
      ]
     },
     "metadata": {
      "needs_background": "light"
     },
     "output_type": "display_data"
    }
   ],
   "source": [
    "plt.bar(count.keys(), count.values(),color='g')\n",
    "plt.xticks(rotation=90)\n",
    "plt.title('Number of films in each genre')\n",
    "plt.xlabel('genres')\n",
    "plt.ylabel('number of films')\n",
    "fig = plt.gcf()"
   ]
  },
  {
   "cell_type": "markdown",
   "metadata": {},
   "source": [
    "According to the graph above, we can see that in our train dataset, the distribution of the number of each genre of film, far from a prefect equal distribution, is indeed an uneven one: The drama, Comedy, Action and Adventure have the greatest number, while the documentary, Film Noir, IMAX and Western are the most numerically modest ones, and the difference between the maximum and minimum are more than 100000.\n",
    "\n",
    "This graph provides us with a number of hints for further explorations: since we consider the amount of the film in each genre as one of the predictive factors, we would definitely put this excessively various distribution into consideration, and hence may not use the absolute number of each genre yet the relative proportion of each genre. (for instance, if a user only watch a modest amount of documentary films, it may not indicate that he or she dislikes this genre but it is short in general proportion).\n"
   ]
  },
  {
   "cell_type": "markdown",
   "metadata": {},
   "source": [
    "## Graph 4 Number of films each user rates"
   ]
  },
  {
   "cell_type": "code",
   "execution_count": 25,
   "metadata": {},
   "outputs": [],
   "source": [
    "count_rating = defaultdict(int)\n",
    "for index, row in train.iterrows():\n",
    "    count_rating[row[0]] += 1"
   ]
  },
  {
   "cell_type": "code",
   "execution_count": 26,
   "metadata": {},
   "outputs": [
    {
     "data": {
      "image/png": "[encoded data removed]",
      "text/plain": [
       "<Figure size 432x288 with 1 Axes>"
      ]
     },
     "metadata": {
      "needs_background": "light"
     },
     "output_type": "display_data"
    }
   ],
   "source": [
    "plt.hist(count_rating.values(),bins=500)\n",
    "plt.title('Number of films each user rates')\n",
    "plt.xlabel('number of films')\n",
    "plt.ylabel('number of users')\n",
    "fig = plt.gcf()"
   ]
  },
  {
   "cell_type": "markdown",
   "metadata": {},
   "source": [
    "Considering the histogram above, we could see that far from a normal distribution, the number of film users have rated is an extremely positive skewed curve: while most users have only rate around 100 films, the minority rates more than 500 films and an outlier even have rated 2500 films.\n",
    "\n",
    "Therefore, we could see that the number of films each user has rated varies a lot and outliers do exist, and therefore in the further data exploration, we may further consider the proportion of films in each genre rather than just focus on the absolute number.\n"
   ]
  },
  {
   "cell_type": "markdown",
   "metadata": {},
   "source": [
    "## Graph 5 Variance of ratings of each genre of films"
   ]
  },
  {
   "cell_type": "code",
   "execution_count": 27,
   "metadata": {},
   "outputs": [],
   "source": [
    "variance = defaultdict(float)\n",
    "for index, row in train.iterrows():\n",
    "    genres = row[4].split('|')\n",
    "    for gen in genres:\n",
    "        variance[gen] += row[5]"
   ]
  },
  {
   "cell_type": "code",
   "execution_count": 28,
   "metadata": {},
   "outputs": [
    {
     "data": {
      "image/png": "[encoded data removed]",
      "text/plain": [
       "<Figure size 432x288 with 1 Axes>"
      ]
     },
     "metadata": {
      "needs_background": "light"
     },
     "output_type": "display_data"
    }
   ],
   "source": [
    "plt.bar(variance.keys(), variance.values(),color='y')\n",
    "plt.xticks(rotation=90)\n",
    "plt.title('Variance of ratings of each genre of films')\n",
    "plt.xlabel('genres')\n",
    "plt.ylabel('variance of ratings')\n",
    "fig = plt.gcf()"
   ]
  },
  {
   "cell_type": "markdown",
   "metadata": {},
   "source": [
    "Regarding the graph above, we could see that the difference between the user's rating and average rating varies a lot between genres. For the action films and adventure films, most users in the train dataset tend to give much higher scores (1.25 and 0.50 higher than the average ratings). Moreover, for the drama and crime films, most users tend to give lower ratings (-0.50 to -0.10). And the rest would have relatively small differences between general ratings and user's ratings.\n",
    "\n",
    "Therefore, from this distribution we could learn that, in our further predictive model, we shall consider these factors, since sometimes a higher rating on a certain genre of film does not indicate a favour but just an overall phenomenon.\n"
   ]
  },
  {
   "cell_type": "markdown",
   "metadata": {},
   "source": [
    "# Data Analysis & Results"
   ]
  },
  {
   "cell_type": "markdown",
   "metadata": {},
   "source": [
    "In this part, we used three methods to suggest movies to users. The first is the cosine similarity of vectors of genres. We formed a vector of each user containing those genres that user loves most. When suggesting movie, we will compare the cosine similarity of the movie genre vector and the users' preferred genres vector and we will recommend the movie if the two vectors are very close. The second and third methods are classic methods. We find the average rating of each user on each genre and the number of movies each user watches on each genre and generated two dataframes reflecting the data. We predict whether we should recommend a movie based on each user's avarage rating on each genre of movie and how many movies in each genre they watched before, respectively."
   ]
  },
  {
   "cell_type": "markdown",
   "metadata": {},
   "source": [
    "### Cosine Similarity"
   ]
  },
  {
   "cell_type": "code",
   "execution_count": 29,
   "metadata": {},
   "outputs": [],
   "source": [
    "# we define a function to calculate the cosine similarity of two vectors\n",
    "def counter_cosine_similarity(c1, c2):\n",
    "    terms = set(c1).union(c2)\n",
    "    dotprod = sum(c1.get(k, 0) * c2.get(k, 0) for k in terms)\n",
    "    magA = math.sqrt(sum(c1.get(k, 0)**2 for k in terms))\n",
    "    magB = math.sqrt(sum(c2.get(k, 0)**2 for k in terms))\n",
    "    if magA * magB == 0:\n",
    "        return 0\n",
    "    return dotprod / (magA * magB)"
   ]
  },
  {
   "cell_type": "code",
   "execution_count": 30,
   "metadata": {},
   "outputs": [],
   "source": [
    "# collect the users preferred genres into vectors\n",
    "users = {}\n",
    "for index,row in train.iterrows():\n",
    "    if row[0] in users:\n",
    "        users[row[0]].extend(row[4].split('|'))\n",
    "    else:\n",
    "        users[row[0]] = row[4].split('|')"
   ]
  },
  {
   "cell_type": "code",
   "execution_count": 31,
   "metadata": {},
   "outputs": [],
   "source": [
    "# eliminate double collected genres\n",
    "for key in users:\n",
    "    users[key] = list(set(users[key]))"
   ]
  },
  {
   "cell_type": "code",
   "execution_count": 32,
   "metadata": {},
   "outputs": [],
   "source": [
    "# the true label\n",
    "answer = list(test.apply(lambda row: 1 if row.rating >= 6.0 else -1, axis=1))"
   ]
  },
  {
   "cell_type": "code",
   "execution_count": 33,
   "metadata": {},
   "outputs": [],
   "source": [
    "# the predicted label\n",
    "pred = []\n",
    "for index,row in test.iterrows():\n",
    "    if row[0] not in users:\n",
    "        pred.append(False)\n",
    "    else:\n",
    "        counterA = Counter(users[row[0]])\n",
    "        counterB = Counter(row[4].split('|'))\n",
    "        res = counter_cosine_similarity(counterA,counterB)\n",
    "        if res > 0.3:\n",
    "            pred.append(1)\n",
    "        else:\n",
    "            pred.append(-1)"
   ]
  },
  {
   "cell_type": "code",
   "execution_count": 34,
   "metadata": {},
   "outputs": [
    {
     "name": "stdout",
     "output_type": "stream",
     "text": [
      "0.7698619171502902\n"
     ]
    }
   ],
   "source": [
    "# accuracy of our model\n",
    "acc = sum(np.array(pred) == np.array(answer)) / len(answer)\n",
    "print(acc)"
   ]
  },
  {
   "cell_type": "code",
   "execution_count": 35,
   "metadata": {},
   "outputs": [],
   "source": [
    "# precision,recall and f1_score of our model\n",
    "precision,recall,f_score,support = precision_recall_fscore_support(answer,pred,warn_for=())\n",
    "pre = precision[2]\n",
    "rec = recall[2]\n",
    "f1 = f_score[2]"
   ]
  },
  {
   "cell_type": "code",
   "execution_count": 36,
   "metadata": {},
   "outputs": [
    {
     "data": {
      "image/png": "[encoded data removed]",
      "text/plain": [
       "<Figure size 432x288 with 1 Axes>"
      ]
     },
     "metadata": {
      "needs_background": "light"
     },
     "output_type": "display_data"
    }
   ],
   "source": [
    "# we use boxplot to plot the accuracy, precision, recall and f1_score\n",
    "plt.boxplot([[acc],[pre],[rec],[f1]])\n",
    "plt.xticks(list(range(1,5)),['accuracy','precision','recall','f1_score'])\n",
    "plt.xlabel('preformance')\n",
    "plt.ylabel('percentage')\n",
    "fig = plt.gcf()"
   ]
  },
  {
   "cell_type": "markdown",
   "metadata": {},
   "source": [
    "The cosine similarity method reaches a pretty high predicting accuracy around 78 percent. This indicates that considering the user's historical movies' genres is a very useful and strong way to recommend movies to them."
   ]
  },
  {
   "cell_type": "markdown",
   "metadata": {},
   "source": [
    "### Classic method"
   ]
  },
  {
   "cell_type": "markdown",
   "metadata": {},
   "source": [
    "### each user's average rating on each genre"
   ]
  },
  {
   "cell_type": "code",
   "execution_count": 37,
   "metadata": {},
   "outputs": [],
   "source": [
    "# We calculate each user's average rating for each genre of movie\n",
    "user_rating = defaultdict(list)\n",
    "genre_rating = defaultdict(list)\n",
    "last_user = 1\n",
    "for index, row in train.iterrows():\n",
    "    if row[0] != last_user:\n",
    "        user_rating[last_user] = genre_rating\n",
    "        genre_rating = defaultdict(list)\n",
    "        last_user = row[0]\n",
    "    genres = row[4].split('|')\n",
    "    for gen in genres:\n",
    "        genre_rating[gen].append(row[3])  "
   ]
  },
  {
   "cell_type": "code",
   "execution_count": 38,
   "metadata": {},
   "outputs": [],
   "source": [
    "for user,rating in user_rating.items():\n",
    "    for key,value in rating.items():\n",
    "        rating[key] = [sum(value)/len(value)]"
   ]
  },
  {
   "cell_type": "code",
   "execution_count": 39,
   "metadata": {},
   "outputs": [],
   "source": [
    "# integrate each row to form a dataframe\n",
    "frames = []\n",
    "for user,rating in user_rating.items():\n",
    "    data = pd.DataFrame.from_dict(rating)\n",
    "    frames.append(data)"
   ]
  },
  {
   "cell_type": "code",
   "execution_count": 40,
   "metadata": {},
   "outputs": [],
   "source": [
    "df_user = pd.concat(frames,sort=False)"
   ]
  },
  {
   "cell_type": "code",
   "execution_count": 41,
   "metadata": {},
   "outputs": [],
   "source": [
    "# set the index and name of the dataframe\n",
    "df_user.set_index(pd.Series(list(user_rating.keys())),inplace=True)\n",
    "df_user.index.name = 'userId'"
   ]
  },
  {
   "cell_type": "code",
   "execution_count": 42,
   "metadata": {},
   "outputs": [
    {
     "data": {
      "text/html": [
       "<div>\n",
       "<style scoped>\n",
       "    .dataframe tbody tr th:only-of-type {\n",
       "        vertical-align: middle;\n",
       "    }\n",
       "\n",
       "    .dataframe tbody tr th {\n",
       "        vertical-align: top;\n",
       "    }\n",
       "\n",
       "    .dataframe thead th {\n",
       "        text-align: right;\n",
       "    }\n",
       "</style>\n",
       "<table border=\"1\" class=\"dataframe\">\n",
       "  <thead>\n",
       "    <tr style=\"text-align: right;\">\n",
       "      <th></th>\n",
       "      <th>Adventure</th>\n",
       "      <th>Children</th>\n",
       "      <th>Fantasy</th>\n",
       "      <th>Drama</th>\n",
       "      <th>Mystery</th>\n",
       "      <th>Sci-Fi</th>\n",
       "      <th>Thriller</th>\n",
       "      <th>Crime</th>\n",
       "      <th>Action</th>\n",
       "      <th>Comedy</th>\n",
       "      <th>Romance</th>\n",
       "      <th>War</th>\n",
       "      <th>Horror</th>\n",
       "      <th>Musical</th>\n",
       "      <th>Western</th>\n",
       "      <th>Animation</th>\n",
       "      <th>IMAX</th>\n",
       "      <th>Film-Noir</th>\n",
       "      <th>Documentary</th>\n",
       "    </tr>\n",
       "    <tr>\n",
       "      <th>userId</th>\n",
       "      <th></th>\n",
       "      <th></th>\n",
       "      <th></th>\n",
       "      <th></th>\n",
       "      <th></th>\n",
       "      <th></th>\n",
       "      <th></th>\n",
       "      <th></th>\n",
       "      <th></th>\n",
       "      <th></th>\n",
       "      <th></th>\n",
       "      <th></th>\n",
       "      <th></th>\n",
       "      <th></th>\n",
       "      <th></th>\n",
       "      <th></th>\n",
       "      <th></th>\n",
       "      <th></th>\n",
       "      <th></th>\n",
       "    </tr>\n",
       "  </thead>\n",
       "  <tbody>\n",
       "    <tr>\n",
       "      <th>1</th>\n",
       "      <td>6.904455</td>\n",
       "      <td>6.599082</td>\n",
       "      <td>6.714009</td>\n",
       "      <td>7.756397</td>\n",
       "      <td>7.564128</td>\n",
       "      <td>7.117860</td>\n",
       "      <td>7.541193</td>\n",
       "      <td>7.891915</td>\n",
       "      <td>7.174452</td>\n",
       "      <td>7.107212</td>\n",
       "      <td>7.167975</td>\n",
       "      <td>7.627261</td>\n",
       "      <td>7.252730</td>\n",
       "      <td>7.413226</td>\n",
       "      <td>8.072794</td>\n",
       "      <td>6.883448</td>\n",
       "      <td>7.153846</td>\n",
       "      <td>NaN</td>\n",
       "      <td>NaN</td>\n",
       "    </tr>\n",
       "    <tr>\n",
       "      <th>2</th>\n",
       "      <td>7.583858</td>\n",
       "      <td>6.800000</td>\n",
       "      <td>7.405844</td>\n",
       "      <td>6.955556</td>\n",
       "      <td>6.645124</td>\n",
       "      <td>7.249075</td>\n",
       "      <td>6.721317</td>\n",
       "      <td>7.605442</td>\n",
       "      <td>7.511103</td>\n",
       "      <td>7.201896</td>\n",
       "      <td>7.140797</td>\n",
       "      <td>7.233164</td>\n",
       "      <td>5.746337</td>\n",
       "      <td>6.358333</td>\n",
       "      <td>7.438098</td>\n",
       "      <td>6.800000</td>\n",
       "      <td>6.800000</td>\n",
       "      <td>7.331361</td>\n",
       "      <td>NaN</td>\n",
       "    </tr>\n",
       "    <tr>\n",
       "      <th>3</th>\n",
       "      <td>6.950747</td>\n",
       "      <td>6.582382</td>\n",
       "      <td>7.217240</td>\n",
       "      <td>7.478415</td>\n",
       "      <td>7.198036</td>\n",
       "      <td>6.572171</td>\n",
       "      <td>7.057244</td>\n",
       "      <td>7.602656</td>\n",
       "      <td>6.775073</td>\n",
       "      <td>7.170722</td>\n",
       "      <td>7.461883</td>\n",
       "      <td>8.083648</td>\n",
       "      <td>6.567031</td>\n",
       "      <td>7.332899</td>\n",
       "      <td>7.488070</td>\n",
       "      <td>7.273578</td>\n",
       "      <td>NaN</td>\n",
       "      <td>7.082474</td>\n",
       "      <td>NaN</td>\n",
       "    </tr>\n",
       "    <tr>\n",
       "      <th>4</th>\n",
       "      <td>6.950745</td>\n",
       "      <td>7.039604</td>\n",
       "      <td>6.492986</td>\n",
       "      <td>6.828523</td>\n",
       "      <td>6.844158</td>\n",
       "      <td>6.571817</td>\n",
       "      <td>6.757774</td>\n",
       "      <td>6.464301</td>\n",
       "      <td>6.509078</td>\n",
       "      <td>6.391294</td>\n",
       "      <td>7.382287</td>\n",
       "      <td>8.158996</td>\n",
       "      <td>NaN</td>\n",
       "      <td>NaN</td>\n",
       "      <td>6.818533</td>\n",
       "      <td>NaN</td>\n",
       "      <td>NaN</td>\n",
       "      <td>NaN</td>\n",
       "      <td>NaN</td>\n",
       "    </tr>\n",
       "    <tr>\n",
       "      <th>5</th>\n",
       "      <td>7.081901</td>\n",
       "      <td>6.969567</td>\n",
       "      <td>6.786151</td>\n",
       "      <td>7.365239</td>\n",
       "      <td>6.899794</td>\n",
       "      <td>7.163044</td>\n",
       "      <td>7.216021</td>\n",
       "      <td>7.757410</td>\n",
       "      <td>7.086818</td>\n",
       "      <td>7.129127</td>\n",
       "      <td>6.915229</td>\n",
       "      <td>8.053777</td>\n",
       "      <td>8.268519</td>\n",
       "      <td>7.122426</td>\n",
       "      <td>7.083804</td>\n",
       "      <td>7.114327</td>\n",
       "      <td>7.546939</td>\n",
       "      <td>NaN</td>\n",
       "      <td>NaN</td>\n",
       "    </tr>\n",
       "  </tbody>\n",
       "</table>\n",
       "</div>"
      ],
      "text/plain": [
       "        Adventure  Children   Fantasy     Drama   Mystery    Sci-Fi  Thriller  \\\n",
       "userId                                                                          \n",
       "1        6.904455  6.599082  6.714009  7.756397  7.564128  7.117860  7.541193   \n",
       "2        7.583858  6.800000  7.405844  6.955556  6.645124  7.249075  6.721317   \n",
       "3        6.950747  6.582382  7.217240  7.478415  7.198036  6.572171  7.057244   \n",
       "4        6.950745  7.039604  6.492986  6.828523  6.844158  6.571817  6.757774   \n",
       "5        7.081901  6.969567  6.786151  7.365239  6.899794  7.163044  7.216021   \n",
       "\n",
       "           Crime    Action    Comedy   Romance       War    Horror   Musical  \\\n",
       "userId                                                                         \n",
       "1       7.891915  7.174452  7.107212  7.167975  7.627261  7.252730  7.413226   \n",
       "2       7.605442  7.511103  7.201896  7.140797  7.233164  5.746337  6.358333   \n",
       "3       7.602656  6.775073  7.170722  7.461883  8.083648  6.567031  7.332899   \n",
       "4       6.464301  6.509078  6.391294  7.382287  8.158996       NaN       NaN   \n",
       "5       7.757410  7.086818  7.129127  6.915229  8.053777  8.268519  7.122426   \n",
       "\n",
       "         Western  Animation      IMAX  Film-Noir  Documentary  \n",
       "userId                                                         \n",
       "1       8.072794   6.883448  7.153846        NaN          NaN  \n",
       "2       7.438098   6.800000  6.800000   7.331361          NaN  \n",
       "3       7.488070   7.273578       NaN   7.082474          NaN  \n",
       "4       6.818533        NaN       NaN        NaN          NaN  \n",
       "5       7.083804   7.114327  7.546939        NaN          NaN  "
      ]
     },
     "execution_count": 42,
     "metadata": {},
     "output_type": "execute_result"
    }
   ],
   "source": [
    "df_user.head()"
   ]
  },
  {
   "cell_type": "markdown",
   "metadata": {},
   "source": [
    "### the number of films each user watches in each genre"
   ]
  },
  {
   "cell_type": "code",
   "execution_count": 43,
   "metadata": {},
   "outputs": [],
   "source": [
    "# We calculate the number of each genre of movies each user watches\n",
    "user_count = defaultdict(list)\n",
    "genre_count = defaultdict(int)\n",
    "last_user = 1\n",
    "for index, row in train.iterrows():\n",
    "    if row[0] != last_user:\n",
    "        user_count[last_user] = genre_count\n",
    "        genre_count = defaultdict(int)\n",
    "        last_user = row[0]\n",
    "    genres = row[4].split('|')\n",
    "    for gen in genres:\n",
    "        genre_count[gen] += 1 "
   ]
  },
  {
   "cell_type": "code",
   "execution_count": 44,
   "metadata": {},
   "outputs": [],
   "source": [
    "# integrate each row to from a dataframe\n",
    "for user,count in user_count.items():\n",
    "    for key,value in count.items():\n",
    "        count[key] = [value]\n",
    "        \n",
    "frames = []\n",
    "for user,count in user_count.items():\n",
    "    data = pd.DataFrame.from_dict(count)\n",
    "    frames.append(data)\n",
    "\n",
    "df_count = pd.concat(frames,sort=False)\n",
    "df_count.set_index(pd.Series(list(user_count.keys())),inplace=True)\n",
    "df_count.index.name = 'userId'"
   ]
  },
  {
   "cell_type": "code",
   "execution_count": 45,
   "metadata": {},
   "outputs": [
    {
     "data": {
      "text/html": [
       "<div>\n",
       "<style scoped>\n",
       "    .dataframe tbody tr th:only-of-type {\n",
       "        vertical-align: middle;\n",
       "    }\n",
       "\n",
       "    .dataframe tbody tr th {\n",
       "        vertical-align: top;\n",
       "    }\n",
       "\n",
       "    .dataframe thead th {\n",
       "        text-align: right;\n",
       "    }\n",
       "</style>\n",
       "<table border=\"1\" class=\"dataframe\">\n",
       "  <thead>\n",
       "    <tr style=\"text-align: right;\">\n",
       "      <th></th>\n",
       "      <th>Adventure</th>\n",
       "      <th>Children</th>\n",
       "      <th>Fantasy</th>\n",
       "      <th>Drama</th>\n",
       "      <th>Mystery</th>\n",
       "      <th>Sci-Fi</th>\n",
       "      <th>Thriller</th>\n",
       "      <th>Crime</th>\n",
       "      <th>Action</th>\n",
       "      <th>Comedy</th>\n",
       "      <th>Romance</th>\n",
       "      <th>War</th>\n",
       "      <th>Horror</th>\n",
       "      <th>Musical</th>\n",
       "      <th>Western</th>\n",
       "      <th>Animation</th>\n",
       "      <th>IMAX</th>\n",
       "      <th>Film-Noir</th>\n",
       "      <th>Documentary</th>\n",
       "    </tr>\n",
       "    <tr>\n",
       "      <th>userId</th>\n",
       "      <th></th>\n",
       "      <th></th>\n",
       "      <th></th>\n",
       "      <th></th>\n",
       "      <th></th>\n",
       "      <th></th>\n",
       "      <th></th>\n",
       "      <th></th>\n",
       "      <th></th>\n",
       "      <th></th>\n",
       "      <th></th>\n",
       "      <th></th>\n",
       "      <th></th>\n",
       "      <th></th>\n",
       "      <th></th>\n",
       "      <th></th>\n",
       "      <th></th>\n",
       "      <th></th>\n",
       "      <th></th>\n",
       "    </tr>\n",
       "  </thead>\n",
       "  <tbody>\n",
       "    <tr>\n",
       "      <th>1</th>\n",
       "      <td>71.0</td>\n",
       "      <td>18.0</td>\n",
       "      <td>67.0</td>\n",
       "      <td>40.0</td>\n",
       "      <td>18.0</td>\n",
       "      <td>38.0</td>\n",
       "      <td>41.0</td>\n",
       "      <td>20.0</td>\n",
       "      <td>63.0</td>\n",
       "      <td>39.0</td>\n",
       "      <td>11.0</td>\n",
       "      <td>8.0</td>\n",
       "      <td>42.0</td>\n",
       "      <td>3.0</td>\n",
       "      <td>4.0</td>\n",
       "      <td>9.0</td>\n",
       "      <td>1.0</td>\n",
       "      <td>NaN</td>\n",
       "      <td>NaN</td>\n",
       "    </tr>\n",
       "    <tr>\n",
       "      <th>2</th>\n",
       "      <td>14.0</td>\n",
       "      <td>1.0</td>\n",
       "      <td>1.0</td>\n",
       "      <td>19.0</td>\n",
       "      <td>4.0</td>\n",
       "      <td>19.0</td>\n",
       "      <td>18.0</td>\n",
       "      <td>1.0</td>\n",
       "      <td>18.0</td>\n",
       "      <td>9.0</td>\n",
       "      <td>6.0</td>\n",
       "      <td>4.0</td>\n",
       "      <td>16.0</td>\n",
       "      <td>2.0</td>\n",
       "      <td>2.0</td>\n",
       "      <td>1.0</td>\n",
       "      <td>1.0</td>\n",
       "      <td>1.0</td>\n",
       "      <td>NaN</td>\n",
       "    </tr>\n",
       "    <tr>\n",
       "      <th>3</th>\n",
       "      <td>49.0</td>\n",
       "      <td>10.0</td>\n",
       "      <td>20.0</td>\n",
       "      <td>56.0</td>\n",
       "      <td>11.0</td>\n",
       "      <td>92.0</td>\n",
       "      <td>50.0</td>\n",
       "      <td>21.0</td>\n",
       "      <td>61.0</td>\n",
       "      <td>49.0</td>\n",
       "      <td>15.0</td>\n",
       "      <td>5.0</td>\n",
       "      <td>32.0</td>\n",
       "      <td>5.0</td>\n",
       "      <td>3.0</td>\n",
       "      <td>4.0</td>\n",
       "      <td>NaN</td>\n",
       "      <td>1.0</td>\n",
       "      <td>NaN</td>\n",
       "    </tr>\n",
       "    <tr>\n",
       "      <th>4</th>\n",
       "      <td>5.0</td>\n",
       "      <td>1.0</td>\n",
       "      <td>1.0</td>\n",
       "      <td>7.0</td>\n",
       "      <td>3.0</td>\n",
       "      <td>4.0</td>\n",
       "      <td>12.0</td>\n",
       "      <td>6.0</td>\n",
       "      <td>11.0</td>\n",
       "      <td>10.0</td>\n",
       "      <td>4.0</td>\n",
       "      <td>1.0</td>\n",
       "      <td>NaN</td>\n",
       "      <td>NaN</td>\n",
       "      <td>1.0</td>\n",
       "      <td>NaN</td>\n",
       "      <td>NaN</td>\n",
       "      <td>NaN</td>\n",
       "      <td>NaN</td>\n",
       "    </tr>\n",
       "    <tr>\n",
       "      <th>5</th>\n",
       "      <td>17.0</td>\n",
       "      <td>11.0</td>\n",
       "      <td>11.0</td>\n",
       "      <td>26.0</td>\n",
       "      <td>2.0</td>\n",
       "      <td>8.0</td>\n",
       "      <td>15.0</td>\n",
       "      <td>7.0</td>\n",
       "      <td>14.0</td>\n",
       "      <td>24.0</td>\n",
       "      <td>15.0</td>\n",
       "      <td>1.0</td>\n",
       "      <td>1.0</td>\n",
       "      <td>8.0</td>\n",
       "      <td>2.0</td>\n",
       "      <td>6.0</td>\n",
       "      <td>3.0</td>\n",
       "      <td>NaN</td>\n",
       "      <td>NaN</td>\n",
       "    </tr>\n",
       "  </tbody>\n",
       "</table>\n",
       "</div>"
      ],
      "text/plain": [
       "        Adventure  Children  Fantasy  Drama  Mystery  Sci-Fi  Thriller  Crime  \\\n",
       "userId                                                                          \n",
       "1            71.0      18.0     67.0   40.0     18.0    38.0      41.0   20.0   \n",
       "2            14.0       1.0      1.0   19.0      4.0    19.0      18.0    1.0   \n",
       "3            49.0      10.0     20.0   56.0     11.0    92.0      50.0   21.0   \n",
       "4             5.0       1.0      1.0    7.0      3.0     4.0      12.0    6.0   \n",
       "5            17.0      11.0     11.0   26.0      2.0     8.0      15.0    7.0   \n",
       "\n",
       "        Action  Comedy  Romance  War  Horror  Musical  Western  Animation  \\\n",
       "userId                                                                      \n",
       "1         63.0    39.0     11.0  8.0    42.0      3.0      4.0        9.0   \n",
       "2         18.0     9.0      6.0  4.0    16.0      2.0      2.0        1.0   \n",
       "3         61.0    49.0     15.0  5.0    32.0      5.0      3.0        4.0   \n",
       "4         11.0    10.0      4.0  1.0     NaN      NaN      1.0        NaN   \n",
       "5         14.0    24.0     15.0  1.0     1.0      8.0      2.0        6.0   \n",
       "\n",
       "        IMAX  Film-Noir  Documentary  \n",
       "userId                                \n",
       "1        1.0        NaN          NaN  \n",
       "2        1.0        1.0          NaN  \n",
       "3        NaN        1.0          NaN  \n",
       "4        NaN        NaN          NaN  \n",
       "5        3.0        NaN          NaN  "
      ]
     },
     "execution_count": 45,
     "metadata": {},
     "output_type": "execute_result"
    }
   ],
   "source": [
    "df_count.head()"
   ]
  },
  {
   "cell_type": "markdown",
   "metadata": {},
   "source": [
    "### We want to check whether user's highest rating genre matches genres that they watch most"
   ]
  },
  {
   "cell_type": "code",
   "execution_count": 46,
   "metadata": {},
   "outputs": [],
   "source": [
    "# count how many  user's highest rating genre matches genres that they watch most\n",
    "count_match = 0\n",
    "for index, row in df_user.iterrows():\n",
    "    if row.idxmax() == df_count.loc[index].idxmax():\n",
    "        count_match += 1"
   ]
  },
  {
   "cell_type": "code",
   "execution_count": 47,
   "metadata": {},
   "outputs": [
    {
     "data": {
      "text/plain": [
       "0.00501002004008016"
      ]
     },
     "execution_count": 47,
     "metadata": {},
     "output_type": "execute_result"
    }
   ],
   "source": [
    "count_match/len(df_user)"
   ]
  },
  {
   "cell_type": "code",
   "execution_count": 48,
   "metadata": {},
   "outputs": [
    {
     "data": {
      "image/png": "[encoded data removed]",
      "text/plain": [
       "<Figure size 432x288 with 1 Axes>"
      ]
     },
     "metadata": {},
     "output_type": "display_data"
    }
   ],
   "source": [
    "# show the percentage in a pie figure\n",
    "labels = 'watches most in their highest rating','watches most but does not rates highest'\n",
    "sizes = [count_match,len(df_user)-count_match]\n",
    "colors = ['gold', 'lightcoral']\n",
    "explode = (0.5, 0)\n",
    "\n",
    "# Plot\n",
    "plt.pie(sizes, explode=explode, labels=labels, colors=colors,\n",
    "autopct='%1.1f%%', shadow=True, startangle=140)\n",
    "fig = plt.gcf()"
   ]
  },
  {
   "cell_type": "markdown",
   "metadata": {},
   "source": [
    "From the above two dataframes we created and the analysis we made, we can find that if a user watches a large number of a certain kind of movie, it does not necessarily mean that they will rate that genre highest."
   ]
  },
  {
   "cell_type": "markdown",
   "metadata": {},
   "source": [
    "### Make movie recommendation based on user's highest average rating"
   ]
  },
  {
   "cell_type": "code",
   "execution_count": 49,
   "metadata": {},
   "outputs": [],
   "source": [
    "# we append those genres that user rates highest to their favorite genre vector\n",
    "# Here we choose a threshold 7 because after some experiments, we find out that 7 gives the highest accuracy\n",
    "user_prefer_score = defaultdict(list)\n",
    "for index,row in df_user.iterrows():\n",
    "    for i in range(len(row)):\n",
    "        if row[i] > 7:\n",
    "            user_prefer_score[index].append(df_user.columns[i])"
   ]
  },
  {
   "cell_type": "code",
   "execution_count": 50,
   "metadata": {},
   "outputs": [],
   "source": [
    "answer = list(test.apply(lambda row: 1 if row.rating >= 6.0 else -1, axis=1))"
   ]
  },
  {
   "cell_type": "code",
   "execution_count": 51,
   "metadata": {},
   "outputs": [],
   "source": [
    "# we make recommendation based on user's highest rated genres\n",
    "pred = []\n",
    "for index,row in test.iterrows():\n",
    "    if row[0] not in df_user.index:\n",
    "        pred.append(-1)\n",
    "    else:\n",
    "        if set(user_prefer_score[row[0]]) & set(row[4].split('|')):\n",
    "            pred.append(1)\n",
    "        else:\n",
    "            pred.append(-1)"
   ]
  },
  {
   "cell_type": "code",
   "execution_count": 52,
   "metadata": {},
   "outputs": [
    {
     "name": "stdout",
     "output_type": "stream",
     "text": [
      "0.7307384430658395\n"
     ]
    }
   ],
   "source": [
    "acc = sum(np.array(pred) == np.array(answer)) / len(answer)\n",
    "print(acc)"
   ]
  },
  {
   "cell_type": "code",
   "execution_count": 53,
   "metadata": {},
   "outputs": [],
   "source": [
    "# calculate the precision,recall and f1_score of our model\n",
    "precision,recall,f_score,support = precision_recall_fscore_support(answer,pred,warn_for=())\n",
    "pre = precision[1]\n",
    "rec = recall[1]\n",
    "f1 = f_score[1]"
   ]
  },
  {
   "cell_type": "code",
   "execution_count": 54,
   "metadata": {},
   "outputs": [
    {
     "data": {
      "image/png": "[encoded data removed]",
      "text/plain": [
       "<Figure size 432x288 with 1 Axes>"
      ]
     },
     "metadata": {
      "needs_background": "light"
     },
     "output_type": "display_data"
    }
   ],
   "source": [
    "# show the accuracy, precision, recall and f1_score in a pie figure\n",
    "plt.boxplot([[acc],[pre],[rec],[f1]])\n",
    "plt.xticks(list(range(1,5)),['accuracy','precision','recall','f1_score'])\n",
    "plt.xlabel('preformance')\n",
    "plt.ylabel('percentage')\n",
    "fig = plt.gcf()"
   ]
  },
  {
   "cell_type": "markdown",
   "metadata": {},
   "source": [
    "We can observe that making movie recommendation based on user's highest average rating also reaches a pretty high accuracy around 73 precent. That is to say, we have supported our hypothesis that if users love a certain genre of movies, they tend to rate highest among these movies."
   ]
  },
  {
   "cell_type": "markdown",
   "metadata": {},
   "source": [
    "### Make movie recommendation based on the genres that user watches most"
   ]
  },
  {
   "cell_type": "code",
   "execution_count": 55,
   "metadata": {},
   "outputs": [],
   "source": [
    "# We append 5 genres each user watches most to their favorite genre vector\n",
    "user_prefer_genre = defaultdict(list)\n",
    "for index,row in df_count.iterrows():\n",
    "    user_prefer_genre[index] = [df_count.columns[i] for i in sorted(range(len(row)), key=lambda i: row[i])[-5:]]"
   ]
  },
  {
   "cell_type": "code",
   "execution_count": 56,
   "metadata": {},
   "outputs": [],
   "source": [
    "# we make movie recommendation based on the 5 genres they watch most\n",
    "pred = []\n",
    "for index,row in test.iterrows():\n",
    "    if row[0] not in df_user.index:\n",
    "        pred.append(-1)\n",
    "    else:\n",
    "        if set(user_prefer_genre[row[0]]) & set(row[4].split('|')):\n",
    "            pred.append(1)\n",
    "        else:\n",
    "            pred.append(-1)"
   ]
  },
  {
   "cell_type": "code",
   "execution_count": 57,
   "metadata": {},
   "outputs": [
    {
     "name": "stdout",
     "output_type": "stream",
     "text": [
      "0.5986591955173104\n"
     ]
    }
   ],
   "source": [
    "acc = sum(np.array(pred) == np.array(answer)) / len(answer)\n",
    "print(acc)"
   ]
  },
  {
   "cell_type": "code",
   "execution_count": 58,
   "metadata": {},
   "outputs": [],
   "source": [
    "# calculate the precision,recall and f1_score of our model\n",
    "precision,recall,f_score,support = precision_recall_fscore_support(answer,pred,warn_for=())\n",
    "pre = precision[1]\n",
    "rec = recall[1]\n",
    "f1 = f_score[1]"
   ]
  },
  {
   "cell_type": "code",
   "execution_count": 59,
   "metadata": {},
   "outputs": [
    {
     "data": {
      "image/png": "[encoded data removed]",
      "text/plain": [
       "<Figure size 432x288 with 1 Axes>"
      ]
     },
     "metadata": {
      "needs_background": "light"
     },
     "output_type": "display_data"
    }
   ],
   "source": [
    "# show the accuracy, precision, recall and f1_score in a pie figure\n",
    "plt.boxplot([[acc],[pre],[rec],[f1]])\n",
    "plt.xticks(list(range(1,5)),['accuracy','precision','recall','f1_score'])\n",
    "plt.xlabel('preformance')\n",
    "plt.ylabel('percentage')\n",
    "fig = plt.gcf()"
   ]
  },
  {
   "cell_type": "markdown",
   "metadata": {},
   "source": [
    "We can find that making movie recommendation based on the genres that user watches most gives a relatively low accuracy. This is a very interesting finding. That is to say, users do not necessarily love those movies most that they watch most. If they watch a lot of a certain genre of movies, they not necessarily give high rates to them. That contradicts our hypothoesis that if users love a genre of movies, they would watch more of them. This phenomenon is understandable since it is kind of hard for users to always watch a movie among their favorites. Most of the time the movies they watch are not their favorites."
   ]
  },
  {
   "cell_type": "markdown",
   "metadata": {},
   "source": [
    "# Ethics and Privacy\n",
    "\n",
    "When it comes to privacy and ethical considerations, there are many factors that we have to consider in order for our project to meet these expectations. \n",
    " \n",
    "First and foremost, we insured that we are using information that is valid and not leaving out any information that would change the outcome. We want to make sure that we are not using any false information so that our project provides a more precise reflection. \n",
    " \n",
    "Secondly, since the datasets we employed in our project come from Kaggle, a public platform of free datasets, we are sure that we have permission from the websites that we are taking information from. We want the readers of our project to see that we had help from rating websites and to give them the credit that they deserve. This project goes through the necessary procedures to be fair to rating websites as well as have their trust. \n",
    "Thirdly, we need to make sure that we are upholding the privacy of the user’s information from the website. In order to do this, we took out any personal information such as name, age, gender, etc. and labeled them using an id system. This insures that we are only using the necessary information for the experiment without breaking the privacy of the website and its users. \n",
    "Lastly, we want to make sure that we are not breaking any laws as well as not hurt the users or website in any way. Overall, the project will provide information that will be beneficial towards people that want to see ratings correlate with their favorite type of film. If we are able to get approval from others, others may try to build up from our project.\n",
    "\n"
   ]
  },
  {
   "cell_type": "markdown",
   "metadata": {},
   "source": [
    "# Conclusion and Discussion"
   ]
  },
  {
   "cell_type": "markdown",
   "metadata": {},
   "source": [
    "With our information, we are able to determine that the users rated movies they liked would match their passion and rated the movies they did not like would not match their passion. \n",
    "\n",
    "In this project we posed and tested three hypotheses.\n",
    "The first hypothesis is that a user will rate their favorite genre higher than the average for that genre (their favorite genre being the genre they give the highest ratings compared to other genres), and rate genres lower than average in their least favorite genre (the genre they give the lowest ratings to) that the films belonging to the genre that a user rates most highly will  a user will tend to rate films higher than the average of all users. This hypothesis is supported by our analysis: we found this to be true for 65% of users.\n",
    "The second hypothesis is if a user loves a certain genre of film, he or she tends to rate this genre of movies more. Our analysis does not support this hypothesis: this is true for only 47% of users goes against this hypothesis as only a small percentage of people tend to watch a movie that is a genre that they love.\n",
    "\n",
    "\n",
    "\n",
    "In our analysis, we decided to do cosine similarity which allows us to *insert info about this* as well as using a classic method that calculates each user's average rating for each genre of movie and number of genres of movies each user rated.\n",
    " \n",
    "\n",
    "One limitation to our analysis lies in our choice of sample population from the user database. Rather than using a random sample of the users, we used the first 2000 users in the database - presumably the earliest adopters of the source movie rating website, who are more possibly more zealous movie fans. This bias in sampling may therefore leads to inaccuracy in the predictive model. As a result, our conclusions can only be generalized to the entire user base provided that one takes as given the assumption that user film rating behavior is independent from registration date on the website. Thus, next time when generating the train dataset, we would possibly try the random sampling that random selects users to construct the train model in order to minimize such bias. Besides, another limitation is that due to the absence of average ratings of each film in the dataset, we have to calculate the average rating from our sample. Therefore, as our calculation may differ from the algorithm of IMDB website, the actual movie average ratings may hence different. Consequently, we may try to find a more comprehensive dataset next time.\n",
    "\n",
    "An impact that this project will have is that it will help people understand that people will tend to rate movies higher if it falls under their passion. Furthermore, our findings, though still incomplete, is also helpful in real practices, and one of its applications is the movie recommendation system of the movie websites. They could consider the extent of significance of the predictive factors we studied and hence recommend films according to the users’ rating histroy.\n",
    "\n",
    "In the future, we can improve our project by taking more factors into consideration to create the movie recommendation system. For example, in this project, we only considered the genres in the method of cosine similarity. In fact, we can also take in the director of the movie, the original country of the movie as well as the plot of the movie into the vectors we compare. We can form bag of words based on these information and do natural language processing through tfidf feature to find the most important parts that determines user's favor."
   ]
  }
 ],
 "metadata": {
  "kernelspec": {
   "display_name": "Python 3",
   "language": "python",
   "name": "python3"
  },
  "language_info": {
   "codemirror_mode": {
    "name": "ipython",
    "version": 3
   },
   "file_extension": ".py",
   "mimetype": "text/x-python",
   "name": "python",
   "nbconvert_exporter": "python",
   "pygments_lexer": "ipython3",
   "version": "3.7.2"
  }
 },
 "nbformat": 4,
 "nbformat_minor": 2
}
