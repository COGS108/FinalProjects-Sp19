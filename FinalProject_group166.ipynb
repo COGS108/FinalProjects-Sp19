{
 "cells": [
  {
   "cell_type": "markdown",
   "metadata": {
    "colab_type": "text",
    "id": "HxC856Yj18Ih"
   },
   "source": [
    "# COGS 108 Group 166 - Final Project"
   ]
  },
  {
   "cell_type": "markdown",
   "metadata": {
    "colab_type": "text",
    "id": "uR7ghXfq18Ij"
   },
   "source": [
    "# Overview\n",
    "\n",
    "Our primary focus with this project centralizes around the analysis of song lyrics in order to predict popularity. We use data from the Billboard Top 100 ranging from the decade of 2009 - 2018 to determine whether words should be repeated for the sake of increasing popularity, as well as whether a song's popularity is linked to its genre, and how positive/negative popular song lyrics are. In doing this analysis, we hope to bring insightful knowledge to future artist's careers, in order to show them formulaically that their popularity may drastically alter for the better or worse, if they choose to pursue and focus on a specific genre or use particular diction in their lyrics."
   ]
  },
  {
   "cell_type": "markdown",
   "metadata": {
    "colab_type": "text",
    "id": "661qcQeP18Il"
   },
   "source": [
    "## Group Members/IDs\n",
    "\n",
    "- George Hong (XXXXXXXXX)\n",
    "- Bryce Chong (XXXXXXXXX)\n",
    "- Yi Le Chen (XXXXXXXXX)\n",
    "- Samruddhi Hande (XXXXXXXXX)\n",
    "- Jesse Huang (XXXXXXXXX)"
   ]
  },
  {
   "cell_type": "markdown",
   "metadata": {
    "colab_type": "text",
    "id": "5pirtGwQ-3Vy"
   },
   "source": [
    "## 1. Introduction and Background (Prior Work)\n",
    "\n",
    "In today's modern society, music is heavily prevalent in our daily lives in some form or another. Whether it be pop, rap, hip hop or even classical, we all have a specific genre that appeals to our particular interests and tastes. With that in mind, we decided to conduct our project on lyrics analysis because we think that analyzing the lyrics used in songs of a specific genre and seeing which words are most present could potentially show us the overall sentiment of the genre. We could then see how that genre's general sentiment compares to other generes' sentiments. This project could also be extremely beneficial to song artists because they can see a variety of factors that can increase their song's popularities amongst their audience. The appeal is justified because we are using the United States Billboard's Top 100 from 2009-2018 to gather data, so we know that the song data we are using is from songs that have performed well amongst the United States. For example, if our analysis were to show that in the rap genre, the general sentiment through 2009-2018 was negative, then artists' could use that data to guide their decision to write rap music that have a negative emotional appeal, such as topics that are typically elicit in terms of negative or sad feelings. Our analysis also performs to indicate how much of that emotion the song should have to reach optimal success amongst its audience. <br>\n",
    "<br>\n",
    "We were able to form our hypothesis based on several resources we came across while conducting our research. According to Psychology Today, anger and sadness are on the rise in the music of today, specifically pop music on Billboard's Hot 100 lists. Examples such as these show that a prevailing emotion in music can possibly be correlated with its popularity in Billboard charts. Using this knowledge, we decided to include emotion and its tie to a genre to explore this possible correlation using top 100 charts from Billboard and do a sentiment analysis. A previous sentiment analysis project on lyrics has been done by Kathleen Napier and Lior Shamir, in which they explored the changes in emotion in popular music over time. Their project differed from ours slightly in that they researched the effect of the tune of a song as well as the lyrics on the overall emotion, and how those two factors plus more determine emotion, and also how this emotion in the specific genre of popular music has changed over time. Due to our research ranging from data through 2009-2018, we provide a more recent and current analysis so that artists' today can see what particular emotion is most appealing today.  <br>"
   ]
  },
  {
   "cell_type": "markdown",
   "metadata": {},
   "source": [
    "References:\n",
    "- 1) https://www.usatoday.com/story/life/music/2018/01/03/rap-overtakes-rock-most-popular-genre-among-music-fans-heres-why/990873001/\n",
    "- 2) https://www.psychologytoday.com/intl/blog/the-athletes-way/201901/anger-and-sadness-are-the-rise-in-popular-music-lyrics\n",
    "- 3) https://jpms.ucpress.edu/content/30/4/161\n",
    "- 4) https://ipfs.io/ipfs/QmXoypizjW3WknFiJnKLwHCnL72vedxjQkDDP1mXWo6uco/wiki/Repetition_(music).html"
   ]
  },
  {
   "cell_type": "markdown",
   "metadata": {
    "colab_type": "text",
    "id": "TLOEcTjc18Io"
   },
   "source": [
    "# 2a. Research Question\n",
    "\n",
    "Based on the past decade of 2009 - 2018, how can we use the following questions and the data they pertain to predict future popularity in songs?\n",
    "\n",
    "\n",
    "\n",
    "> 1. What topic should you write your song about based on what words are most popular?\n",
    "2. How repetitive should your song be?\n",
    "3. What genre should you pick to write a song in?<br>\n",
    "4. How positive or negative should your song be? <br>\n",
    "\n",
    "To look into each subquestion, we will use the following metrics:\n",
    "> 1. Place the top 10 words per song into a list. Calcute frequency of these top 10 words to measure the topic of the song.\n",
    "2. Calculate the repetition percentage for each song. Average the percentages for each genre.\n",
    "3. Loop through the original dataset of Top 100 BillBoard Songs list and count percentages of each genre in each week. <br>\n",
    "4. Use new genre song lists to get the compound value (using VADER) per song. Average across each genre. <br>\n",
    "\n",
    "\n",
    "Therefore, we have 4 features: \n",
    "> 1. Word frequency\n",
    "2. Repetition\n",
    "3. Genre <br>\n",
    "4. Polarity <br>\n",
    "\n",
    "\n",
    "\n",
    "\n",
    "\n",
    "\n"
   ]
  },
  {
   "cell_type": "markdown",
   "metadata": {
    "colab_type": "text",
    "id": "4aszMb6U18Is"
   },
   "source": [
    "# 2b. Hypothesis\n",
    "\n",
    "With prior knowledge that popular songs found in this decade's Billboard Top 100 music charts are usually linked to the typical/avid teen and adult listeners, as well as finding references regarding the rise of negative music, we hypothesize that by utilizing the various metrics measured for our data, we will see that repetitive lyrics in songs and containing an overarching negative emotional message, regardless of genre, are highly likely to be popular in future songs.\n",
    "\n",
    "\n"
   ]
  },
  {
   "cell_type": "markdown",
   "metadata": {
    "colab_type": "text",
    "id": "b-vd9ncA18It"
   },
   "source": [
    "# 3a. Dataset(s)\n",
    "\n",
    "- Dataset Name: billboard_2000_2018_spotify_lyrics\n",
    "- Link to the dataset: https://docs.google.com/spreadsheets/d/1y0AzUAKQT0boOmGuruFXVD5L7oMjoT33ENKTDluwkhE/edit#gid=1751148220\n",
    "- Number of observations: 7573\n",
    "\n",
    "This dataset contains the data of the Billboard top 100 songs in the United States from the year 2000 to the year 2018. The data provided per song is date, year,\ttitle, artist,\tmain artist, peak position,\tlast position, weeks,\trank,\tchange,\tspotify link,\tspotify id,\tvideo link,\tgenre,\tbroad genre,\tanalysis url,\tenergy,\tliveness,\ttempo,\tspeechiness,\tacousticness,\tinstrumentalness,\ttime signature,\tdanceability,\tkey,\tduration in ms,\tloudness,\tvalence\tmode,\tand lyrics.\t\t"
   ]
  },
  {
   "cell_type": "markdown",
   "metadata": {
    "colab_type": "text",
    "id": "UgNmPwK818Iu"
   },
   "source": [
    "# 3b. Setup"
   ]
  },
  {
   "cell_type": "code",
   "execution_count": 105,
   "metadata": {
    "colab": {
     "base_uri": "https://localhost:8080/",
     "height": 122
    },
    "colab_type": "code",
    "executionInfo": {
     "elapsed": 42043,
     "status": "ok",
     "timestamp": 1560216941744,
     "user": {
      "displayName": "Bryce Chong",
      "photoUrl": "",
      "userId": "15863741709272866254"
     },
     "user_tz": 420
    },
    "id": "LzwkEEis18Iv",
    "outputId": "be9b696d-c749-40ab-956e-1e4965511896"
   },
   "outputs": [],
   "source": [
    "# Core imports\n",
    "import numpy as np\n",
    "import matplotlib.pyplot as plt\n",
    "import pandas as pd\n",
    "from scipy import stats\n",
    "\n",
    "# Imports for reading and writing out to files\n",
    "import csv\n",
    "import json\n",
    "import sys\n",
    "import re\n",
    "import string    \n",
    "\n",
    "# For word frequency\n",
    "import nltk\n",
    "\n",
    "# For stats models\n",
    "import patsy\n",
    "import statsmodels.api as sm"
   ]
  },
  {
   "cell_type": "markdown",
   "metadata": {
    "colab_type": "text",
    "id": "zRZ3WtcS18I0"
   },
   "source": [
    "# 4. Data Cleaning\n",
    "\n",
    "Our goal with cleaning the our dataset was to split the songs by their genre where each song would only be assigned one genre. The large dataset is split into six new dataframes separated by genre (pop, country, r&b, edm, rap, & rock) and songs that did not fit into one of these genres would be placed in an unknown category that would not be used in our analysis. The only columns that we would use from the original dataset include the song title, artist, lyrics, boad_genre, year & peak_position. The artist and song title would only be used to obtain missing song lyrics or broad_genres for a song by using the Spotify and Genius API. Our analysis would look at the lyrics, year, genre, & peak position for each song.\n"
   ]
  },
  {
   "cell_type": "code",
   "execution_count": 0,
   "metadata": {
    "colab": {},
    "colab_type": "code",
    "id": "KLNn8MV0dFah"
   },
   "outputs": [],
   "source": [
    "# Spotify API \n",
    "%pip install spotipy\n",
    "import spotipy\n",
    "import spotipy.util as util\n",
    "\n",
    "# Genius API \n",
    "%pip install lyricsgenius\n",
    "import lyricsgenius "
   ]
  },
  {
   "cell_type": "markdown",
   "metadata": {
    "colab_type": "text",
    "id": "eh9osgh7dJdv"
   },
   "source": [
    "We would use the Spotify API to get the missing broad_genres for a song by searching up the artist. The Genius API is used to get the missing lyrics by passing in the artists and song title."
   ]
  },
  {
   "cell_type": "code",
   "execution_count": 0,
   "metadata": {
    "colab": {},
    "colab_type": "code",
    "id": "Q40TcqhIdJ5M"
   },
   "outputs": [],
   "source": [
    "# Initialize Spotify API to get artist genre \n",
    "from spotipy.oauth2 import SpotifyClientCredentials\n",
    "client_credentials_manager = SpotifyClientCredentials(client_id='a8aaea3c455945\\\n",
    "0087a07be4c398f692', client_secret='ec005734a73849de915f02cfae843c5e')\n",
    "token = client_credentials_manager.get_access_token()\n",
    "spotify = spotipy.Spotify(auth=token)\n",
    "\n",
    "# Initialize Genius API to search for song lyrics\n",
    "genius = lyricsgenius.Genius(\"5k8IZo1Alrk_KsaxOpQOxayHRo5_GojdZtppTa44KJQQFuWu\\\n",
    "8HBzhoBFD4_L1mpi\")"
   ]
  },
  {
   "cell_type": "markdown",
   "metadata": {
    "colab_type": "text",
    "id": "wwp7RKxFdNsy"
   },
   "source": [
    "Get the csv file that we got online which includes information about all the songs from 2000-2018. We drop all the songs before 2008 because we are only analyzing songs from 2009-2018"
   ]
  },
  {
   "cell_type": "code",
   "execution_count": 5,
   "metadata": {
    "colab": {},
    "colab_type": "code",
    "id": "mKMClGqF18I1"
   },
   "outputs": [
    {
     "data": {
      "text/html": [
       "<div>\n",
       "<style scoped>\n",
       "    .dataframe tbody tr th:only-of-type {\n",
       "        vertical-align: middle;\n",
       "    }\n",
       "\n",
       "    .dataframe tbody tr th {\n",
       "        vertical-align: top;\n",
       "    }\n",
       "\n",
       "    .dataframe thead th {\n",
       "        text-align: right;\n",
       "    }\n",
       "</style>\n",
       "<table border=\"1\" class=\"dataframe\">\n",
       "  <thead>\n",
       "    <tr style=\"text-align: right;\">\n",
       "      <th></th>\n",
       "      <th>date</th>\n",
       "      <th>year</th>\n",
       "      <th>title</th>\n",
       "      <th>simple_title</th>\n",
       "      <th>artist</th>\n",
       "      <th>main_artist</th>\n",
       "      <th>peak_pos</th>\n",
       "      <th>last_pos</th>\n",
       "      <th>weeks</th>\n",
       "      <th>rank</th>\n",
       "      <th>...</th>\n",
       "      <th>acousticness</th>\n",
       "      <th>instrumentalness</th>\n",
       "      <th>time_signature</th>\n",
       "      <th>danceability</th>\n",
       "      <th>key</th>\n",
       "      <th>duration_ms</th>\n",
       "      <th>loudness</th>\n",
       "      <th>valence</th>\n",
       "      <th>mode</th>\n",
       "      <th>lyrics</th>\n",
       "    </tr>\n",
       "  </thead>\n",
       "  <tbody>\n",
       "    <tr>\n",
       "      <th>4502</th>\n",
       "      <td>9</td>\n",
       "      <td>2009.0</td>\n",
       "      <td>My Life</td>\n",
       "      <td>my life</td>\n",
       "      <td>the game</td>\n",
       "      <td>the game</td>\n",
       "      <td>21</td>\n",
       "      <td>64</td>\n",
       "      <td>20</td>\n",
       "      <td>74</td>\n",
       "      <td>...</td>\n",
       "      <td>0.0773</td>\n",
       "      <td>0</td>\n",
       "      <td>4</td>\n",
       "      <td>0.671</td>\n",
       "      <td>8</td>\n",
       "      <td>320893</td>\n",
       "      <td>-5.093</td>\n",
       "      <td>0.382</td>\n",
       "      <td>0</td>\n",
       "      <td>And I'm grindin' till I'm tired\\n'Cause they s...</td>\n",
       "    </tr>\n",
       "    <tr>\n",
       "      <th>4503</th>\n",
       "      <td>9</td>\n",
       "      <td>2009.0</td>\n",
       "      <td>What About Now</td>\n",
       "      <td>what about now</td>\n",
       "      <td>daughtry</td>\n",
       "      <td>daughtry</td>\n",
       "      <td>18</td>\n",
       "      <td>85</td>\n",
       "      <td>20</td>\n",
       "      <td>85</td>\n",
       "      <td>...</td>\n",
       "      <td>0.0629</td>\n",
       "      <td>0</td>\n",
       "      <td>4</td>\n",
       "      <td>0.363</td>\n",
       "      <td>9</td>\n",
       "      <td>250311</td>\n",
       "      <td>-2.826</td>\n",
       "      <td>0.275</td>\n",
       "      <td>0</td>\n",
       "      <td>Shadows fill an empty heart\\nAs love is fading...</td>\n",
       "    </tr>\n",
       "    <tr>\n",
       "      <th>4504</th>\n",
       "      <td>9</td>\n",
       "      <td>2009.0</td>\n",
       "      <td>Let It Go</td>\n",
       "      <td>let it go</td>\n",
       "      <td>tim mcgraw</td>\n",
       "      <td>tim mcgraw</td>\n",
       "      <td>47</td>\n",
       "      <td>68</td>\n",
       "      <td>15</td>\n",
       "      <td>82</td>\n",
       "      <td>...</td>\n",
       "      <td>0.0757</td>\n",
       "      <td>0</td>\n",
       "      <td>4</td>\n",
       "      <td>0.437</td>\n",
       "      <td>1</td>\n",
       "      <td>223947</td>\n",
       "      <td>-4.819</td>\n",
       "      <td>0.527</td>\n",
       "      <td>1</td>\n",
       "      <td>I been caught sideways out here on the crossro...</td>\n",
       "    </tr>\n",
       "    <tr>\n",
       "      <th>4505</th>\n",
       "      <td>9</td>\n",
       "      <td>2009.0</td>\n",
       "      <td>Anything Goes</td>\n",
       "      <td>anything goes</td>\n",
       "      <td>randy houser</td>\n",
       "      <td>randy houser</td>\n",
       "      <td>92</td>\n",
       "      <td>92</td>\n",
       "      <td>5</td>\n",
       "      <td>98</td>\n",
       "      <td>...</td>\n",
       "      <td>0.54</td>\n",
       "      <td>0.000115</td>\n",
       "      <td>4</td>\n",
       "      <td>0.477</td>\n",
       "      <td>0</td>\n",
       "      <td>184173</td>\n",
       "      <td>-4.77</td>\n",
       "      <td>0.28</td>\n",
       "      <td>1</td>\n",
       "      <td>Normally this time of night you wouldn't find ...</td>\n",
       "    </tr>\n",
       "    <tr>\n",
       "      <th>4506</th>\n",
       "      <td>9</td>\n",
       "      <td>2009.0</td>\n",
       "      <td>RUN</td>\n",
       "      <td>run</td>\n",
       "      <td>leona lewis</td>\n",
       "      <td>leona lewis</td>\n",
       "      <td>81</td>\n",
       "      <td>0</td>\n",
       "      <td>1</td>\n",
       "      <td>81</td>\n",
       "      <td>...</td>\n",
       "      <td>0.43</td>\n",
       "      <td>5.61E-06</td>\n",
       "      <td>4</td>\n",
       "      <td>0.302</td>\n",
       "      <td>5</td>\n",
       "      <td>314720</td>\n",
       "      <td>-6.166</td>\n",
       "      <td>0.0932</td>\n",
       "      <td>0</td>\n",
       "      <td>I'll sing it one last time for you\\nThen we re...</td>\n",
       "    </tr>\n",
       "  </tbody>\n",
       "</table>\n",
       "<p>5 rows × 31 columns</p>\n",
       "</div>"
      ],
      "text/plain": [
       "     date    year           title    simple_title        artist   main_artist  \\\n",
       "4502    9  2009.0         My Life         my life      the game      the game   \n",
       "4503    9  2009.0  What About Now  what about now      daughtry      daughtry   \n",
       "4504    9  2009.0       Let It Go       let it go    tim mcgraw    tim mcgraw   \n",
       "4505    9  2009.0   Anything Goes   anything goes  randy houser  randy houser   \n",
       "4506    9  2009.0             RUN             run   leona lewis   leona lewis   \n",
       "\n",
       "      peak_pos  last_pos  weeks  rank  \\\n",
       "4502        21        64     20    74   \n",
       "4503        18        85     20    85   \n",
       "4504        47        68     15    82   \n",
       "4505        92        92      5    98   \n",
       "4506        81         0      1    81   \n",
       "\n",
       "                            ...                         acousticness  \\\n",
       "4502                        ...                               0.0773   \n",
       "4503                        ...                               0.0629   \n",
       "4504                        ...                               0.0757   \n",
       "4505                        ...                                 0.54   \n",
       "4506                        ...                                 0.43   \n",
       "\n",
       "     instrumentalness time_signature danceability key duration_ms loudness  \\\n",
       "4502                0              4        0.671   8      320893   -5.093   \n",
       "4503                0              4        0.363   9      250311   -2.826   \n",
       "4504                0              4        0.437   1      223947   -4.819   \n",
       "4505         0.000115              4        0.477   0      184173    -4.77   \n",
       "4506         5.61E-06              4        0.302   5      314720   -6.166   \n",
       "\n",
       "     valence mode                                             lyrics  \n",
       "4502   0.382    0  And I'm grindin' till I'm tired\\n'Cause they s...  \n",
       "4503   0.275    0  Shadows fill an empty heart\\nAs love is fading...  \n",
       "4504   0.527    1  I been caught sideways out here on the crossro...  \n",
       "4505    0.28    1  Normally this time of night you wouldn't find ...  \n",
       "4506  0.0932    0  I'll sing it one last time for you\\nThen we re...  \n",
       "\n",
       "[5 rows x 31 columns]"
      ]
     },
     "execution_count": 5,
     "metadata": {},
     "output_type": "execute_result"
    }
   ],
   "source": [
    "# Load in the Billboard Lyrics Dataset\n",
    "dataset_path = 'billboard_2000_2018_spotify_lyrics.csv'\n",
    "dataset_master = pd.read_csv(dataset_path,encoding = 'latin-1')\n",
    "\n",
    "# Remove data from before 2008\n",
    "for i in range(len(dataset_master['title'])-1,-1,-1):\n",
    "  month,day,year = dataset_master['date'].loc[i].split('/')\n",
    "  dataset_master.at[i,'date'] = int(year)\n",
    "  if(int(year)<9):\n",
    "    dataset_master = dataset_master.drop([i])\n",
    "\n",
    "dataset_master.tail()"
   ]
  },
  {
   "cell_type": "markdown",
   "metadata": {
    "colab_type": "text",
    "id": "xtdVjP2gdUwe"
   },
   "source": [
    "This function is used to remove the duplicate songs from the csv file."
   ]
  },
  {
   "cell_type": "code",
   "execution_count": 0,
   "metadata": {
    "colab": {},
    "colab_type": "code",
    "id": "LaDfQSELde_C"
   },
   "outputs": [],
   "source": [
    "def remove_duplicates(data):\n",
    "  # Loop through each dataset and remove repeat occurrences of songs\n",
    "  dict_songs = {}\n",
    "  repeat_indices = []; \n",
    "  # Keeping this because removing as I go will change the index so I will remove\n",
    "  # the songs from the highest index first after iterating.\n",
    "  for i in range(0,data['broad_genre'].size-1):\n",
    "    dict_key = (str(data['title'][i]) + ' ' + str(data['artist'][i]).strip())\n",
    "    if dict_key in dict_songs:\n",
    "      repeat_indices.append(i)\n",
    "    elif (data['artist'][i] == 'glee cast'):\n",
    "      repeat_indices.append(i)\n",
    "    else:\n",
    "      dict_songs[dict_key] = dict_key\n",
    "  \n",
    "  # Remove the duplicates\n",
    "  for i in range(len(repeat_indices)-1,-1,-1):\n",
    "    data = data.drop(data.index[repeat_indices[i]])\n",
    "  return data"
   ]
  },
  {
   "cell_type": "markdown",
   "metadata": {
    "colab_type": "text",
    "id": "RGm9O9QcdjG8"
   },
   "source": [
    "There are missing broad_genres for some of the songs so we need to fill in these missing values by searching using the Spotify API."
   ]
  },
  {
   "cell_type": "code",
   "execution_count": 0,
   "metadata": {
    "colab": {},
    "colab_type": "code",
    "id": "UX07xh7RMYLO"
   },
   "outputs": [],
   "source": [
    "# Find genres that are missing \n",
    "null_genres = pd.isnull(dataset_master['broad_genre'])\n",
    "for i in range(len(null_genres)):\n",
    "  if(null_genres[i] == True or dataset_master['broad_genre'][i] == \"unknown\"):\n",
    "    artist = re.split('feat. | and | & |\\, |\\+ |ft. |featurnig |featruing |Featuring\\\n",
    "    |x | X', str(dataset_master[\"artist\"][i]))[0].strip()\n",
    "    # Use spotify to search the genre of the artist \n",
    "    try:\n",
    "      results = spotify.search(q='artist:' + artist, type='artist')\n",
    "      song_genres = results[\"artists\"][\"items\"][0][\"genres\"]\n",
    "    # If artist is not available there is no genre\n",
    "    except IndexError:\n",
    "      song_genres = []\n",
    "      dataset_master[\"broad_genre\"].at[i] = \"unknown\"\n",
    "      print(dataset_master[\"artist\"][i])\n",
    "           \n",
    "    for j in range(len(song_genres)):\n",
    "      \n",
    "      if(song_genres[j] == \"pop\"):\n",
    "        dataset_master[\"broad_genre\"].at[i] = \"pop\"\n",
    "        break\n",
    "      if(song_genres[j] == \"country\"):\n",
    "        dataset_master[\"broad_genre\"].at[i] = \"country\"\n",
    "        break\n",
    "      if(song_genres[j] == \"r&b\"):\n",
    "        dataset_master[\"broad_genre\"].at[i] = \"r&b\"\n",
    "        break\n",
    "      if(song_genres[j] == \"rap\"):\n",
    "        dataset_master[\"broad_genre\"].at[i] = \"rap\"\n",
    "        break\n",
    "      if(song_genres[j] == \"rock\"):\n",
    "        dataset_master[\"broad_genre\"].at[i] = \"rock\"\n",
    "        break\n",
    "      if(song_genres[j] == \"edm\"):\n",
    "        dataset_master[\"broad_genre\"].at[i] = \"edm\"\n",
    "        break  \n",
    "      else:\n",
    "        dataset_master[\"broad_genre\"].at[i] = \"unknown\""
   ]
  },
  {
   "cell_type": "markdown",
   "metadata": {
    "colab_type": "text",
    "id": "qmzXPZxRdp50"
   },
   "source": [
    "Separate the large dataset into six different genres and remove the duplicates. Reset the indices so we are able to iterate through the dataframes."
   ]
  },
  {
   "cell_type": "code",
   "execution_count": 0,
   "metadata": {
    "colab": {},
    "colab_type": "code",
    "id": "8nZ1BkPFdr3z"
   },
   "outputs": [],
   "source": [
    "# Separate Datasets into genres\n",
    "data_pop = dataset_master.loc[dataset_master['broad_genre'] == 'pop']\n",
    "data_country = dataset_master.loc[dataset_master['broad_genre'] == 'country']\n",
    "data_rb = dataset_master.loc[dataset_master['broad_genre'] == 'r&b']\n",
    "data_rap =  dataset_master.loc[dataset_master['broad_genre'] == 'rap']\n",
    "data_rock =  dataset_master.loc[dataset_master['broad_genre'] == 'rock']\n",
    "data_edm =  dataset_master.loc[dataset_master['broad_genre'] == 'edm']\n",
    "data_other =  dataset_master.loc[dataset_master['broad_genre'] == 'unknown']\n",
    "\n",
    "# Reset all the indices\n",
    "data_pop = data_pop.reset_index(drop=True)\n",
    "data_country = data_country.reset_index(drop=True)\n",
    "data_rb = data_rb.reset_index(drop=True)\n",
    "data_rap = data_rap.reset_index(drop=True)\n",
    "data_rock = data_rock.reset_index(drop=True)\n",
    "data_edm = data_edm.reset_index(drop=True)\n",
    "data_other = data_other.reset_index(drop=True)\n",
    "\n",
    "data_pop = remove_duplicates(data_pop)\n",
    "data_country = remove_duplicates(data_country)\n",
    "data_rb = remove_duplicates(data_rb)\n",
    "data_rap = remove_duplicates(data_rap)\n",
    "data_rock = remove_duplicates(data_rock)\n",
    "data_edm = remove_duplicates(data_edm)\n",
    "data_other = remove_duplicates(data_other)\n",
    "\n",
    "data_pop = data_pop.reset_index(drop =True)\n",
    "data_country = data_country.reset_index(drop =True)\n",
    "data_rb = data_rb.reset_index(drop =True)\n",
    "data_rap = data_rap.reset_index(drop =True)\n",
    "data_rock = data_rock.reset_index(drop =True)\n",
    "data_edm = data_edm.reset_index(drop =True)\n",
    "data_other = data_other.reset_index(drop =True)"
   ]
  },
  {
   "cell_type": "markdown",
   "metadata": {
    "colab_type": "text",
    "id": "qdLPnsXzdvAU"
   },
   "source": [
    "This function gets the missing lyrics for a song. If the lyrics are not available on Genius then the lyrics will remain blank. Need to get rid of featuring artists and other delimiters in order to search for the song using the Genius function. We remove brackets, parentheses, and other delimiters before save the lyrics to the song object. Each song object contains four attributes: title, artist, year, lyrics, & peak_position. These songs would be appended to a dataframe based on their genre."
   ]
  },
  {
   "cell_type": "code",
   "execution_count": 0,
   "metadata": {
    "colab": {},
    "colab_type": "code",
    "id": "0agn-lrmMdBT"
   },
   "outputs": [],
   "source": [
    "# Create function to append values to json object. Each song object will have\n",
    "# Song Title, Artist, Lyrics, Year and be placed in each genre\n",
    "def to_json(data, genres):\n",
    "  \n",
    "  for i in range(len(data)):\n",
    "    tmp_song = {}\n",
    "    # Remove Featuring Artists and other delimiters\n",
    "    data[\"artist\"][i] = re.split('feat. | and | & |\\, |\\+ |ft. |featurnig |featruing \\\n",
    "    |Featuring |x | X', str(data[\"artist\"][i]))[0].strip()\n",
    "    \n",
    "    # Initialize tmp_song object\n",
    "    # Remove the parentheses and  all the content within them\n",
    "    tmp_song[\"title\"] = re.sub(r'\\(.*\\)', '', str(data[\"title\"][i])).strip()\n",
    "    tmp_song[\"year\"] = data[\"date\"][i]\n",
    "    tmp_song[\"artist\"] = data[\"artist\"][i]\n",
    "    tmp_song[\"lyrics\"] = data[\"lyrics\"][i]\n",
    "    \n",
    "    # If peak position is null initialize it to 0\n",
    "    if(data[\"peak_pos\"][i]):\n",
    "      tmp_song[\"peak_position\"] = int(0)\n",
    "    else:\n",
    "      tmp_song[\"peak_position\"] = int(data[\"peak_pos\"][i])\n",
    "    \n",
    "    # If song is not available from original dataset get it on genius\n",
    "    if(tmp_song[\"lyrics\"] == \"NaN\" or tmp_song[\"lyrics\"] == \\\n",
    "       \"Error: Could not find lyrics.\"):\n",
    "      # Search the Song\n",
    "      song = genius.search_song(tmp_song[\"title\"], tmp_song[\"artist\"])\n",
    "      try:\n",
    "        tmp_song[\"lyrics\"] = song.lyrics\n",
    "      # If song is not available on genius get lyrics from different file\n",
    "      except AttributeError:\n",
    "        tmp_song[\"lyrics\"] = ''\n",
    "        print(\"Error\")\n",
    "  \n",
    "    # Remove the brackets all the content within the brackets\n",
    "    tmp_song[\"lyrics\"] = re.sub(r'\\[.*\\]', '', str(tmp_song[\"lyrics\"]))\n",
    "    # Remove parentheses\n",
    "    tmp_song[\"lyrics\"] = re.sub('[\\(\\)\\{\\}<>]', '', str(tmp_song[\"lyrics\"]))\n",
    "    # Remove new line \n",
    "    tmp_song[\"lyrics\"] = tmp_song[\"lyrics\"].replace('\\n', ' ')\n",
    "    # Remove extra spaces between words\n",
    "    tmp_song[\"lyrics\"] = re.sub(r'\\s+', ' ', str(tmp_song[\"lyrics\"]))\n",
    "    # Remove leading white spaces\n",
    "    tmp_song[\"lyrics\"] = tmp_song[\"lyrics\"].strip()\n",
    "\n",
    "    # Append each song to its specific genre\n",
    "    genres[data[\"broad_genre\"][i]].append(tmp_song)"
   ]
  },
  {
   "cell_type": "markdown",
   "metadata": {
    "colab_type": "text",
    "id": "LMvRG2YJd3Us"
   },
   "source": [
    "Call the above function to create json files that contain songs for each genre. We would be using this data throughout our analysis."
   ]
  },
  {
   "cell_type": "code",
   "execution_count": 0,
   "metadata": {
    "colab": {},
    "colab_type": "code",
    "id": "9k8-GGwbMjj-"
   },
   "outputs": [],
   "source": [
    "# JSON object that contains songs split by their genre\n",
    "genres = {\"pop\":[], \"country\":[], \"r&b\":[], \"rap\":[], \"rock\":[], \"edm\":[], \\\n",
    "          \"unknown\":[]}\n",
    "\n",
    "# Append all the songs for each genre to json file\n",
    "\n",
    "# Pop JSON\n",
    "to_json(data_pop, genres)\n",
    "with open('lyricsPop.json', 'a') as json_file:  \n",
    "  json.dump(genres[\"pop\"], json_file)\n",
    "\n",
    "# Country JSON\n",
    "to_json(data_country, genres)\n",
    "with open('lyricsCountry.json', 'a') as json_file:  \n",
    "  json.dump(genres[\"country\"], json_file)\n",
    "\n",
    "# Rock JSON\n",
    "to_json(data_rock, genres)\n",
    "with open('lyricsRock.json', 'a') as json_file:  \n",
    "  json.dump(genres[\"rock\"], json_file)\n",
    "\n",
    "# R&B JSON\n",
    "to_json(data_rb, genres)  \n",
    "with open('lyricsR&B.json', 'a') as json_file:  \n",
    "  json.dump(genres[\"r&b\"], json_file)\n",
    "\n",
    "# Rap JSON\n",
    "to_json(data_rap, genres)\n",
    "with open('lyricsRap.json', 'a') as json_file:  \n",
    "  json.dump(genres[\"rap\"], json_file)\n",
    "\n",
    "# EDM JSON\n",
    "to_json(data_edm, genres)\n",
    "with open('lyricsEdm.json', 'a') as json_file:  \n",
    "  json.dump(genres[\"edm\"], json_file)"
   ]
  },
  {
   "cell_type": "markdown",
   "metadata": {
    "colab_type": "text",
    "id": "oqGIvv0td9i3"
   },
   "source": [
    "Our new dataset contains songs for each genre where each song contains the artist, song title, lyrics, year, and peak_position. We are going to drop the artist and song title columns for privacy/ethical reasons and we only need the remaining data from the other columns to start our analysis"
   ]
  },
  {
   "cell_type": "code",
   "execution_count": 106,
   "metadata": {
    "colab": {},
    "colab_type": "code",
    "id": "tw7I2lUkd9_J"
   },
   "outputs": [],
   "source": [
    "# Get datapath for each genre\n",
    "df_path_rap = 'lyricsRap.json'\n",
    "df_path_country = 'lyricsCountry.json'\n",
    "df_path_edm = 'lyricsEdm.json'\n",
    "df_path_pop = 'lyricsPop.json'\n",
    "df_path_rb = 'lyricsR&B.json'\n",
    "df_path_rock = 'lyricsRock.json'\n",
    "\n",
    "# Create dataframe for each genre\n",
    "df_rap = pd.read_json(df_path_rap)\n",
    "df_country = pd.read_json(df_path_country)\n",
    "df_edm = pd.read_json(df_path_edm)\n",
    "df_pop = pd.read_json(df_path_pop)\n",
    "df_rb = pd.read_json(df_path_rb)\n",
    "df_rock = pd.read_json(df_path_rock)\n",
    "\n",
    "# Drop the artist and title for each genre\n",
    "df_rap = df_rap.drop(['artist', 'title'], axis = 1)\n",
    "df_country = df_country.drop(['artist', 'title'], axis = 1)\n",
    "df_edm = df_edm.drop(['artist', 'title'], axis = 1)\n",
    "df_pop = df_pop.drop(['artist', 'title'], axis = 1)\n",
    "df_rb = df_rb.drop(['artist', 'title'], axis = 1)\n",
    "df_rock = df_rock.drop(['artist', 'title'], axis = 1)"
   ]
  },
  {
   "cell_type": "code",
   "execution_count": 107,
   "metadata": {},
   "outputs": [
    {
     "data": {
      "text/html": [
       "<div>\n",
       "<style scoped>\n",
       "    .dataframe tbody tr th:only-of-type {\n",
       "        vertical-align: middle;\n",
       "    }\n",
       "\n",
       "    .dataframe tbody tr th {\n",
       "        vertical-align: top;\n",
       "    }\n",
       "\n",
       "    .dataframe thead th {\n",
       "        text-align: right;\n",
       "    }\n",
       "</style>\n",
       "<table border=\"1\" class=\"dataframe\">\n",
       "  <thead>\n",
       "    <tr style=\"text-align: right;\">\n",
       "      <th></th>\n",
       "      <th>lyrics</th>\n",
       "      <th>peak_position</th>\n",
       "      <th>year</th>\n",
       "    </tr>\n",
       "  </thead>\n",
       "  <tbody>\n",
       "    <tr>\n",
       "      <th>0</th>\n",
       "      <td>Down the chimney, he will come With his great ...</td>\n",
       "      <td>42</td>\n",
       "      <td>18</td>\n",
       "    </tr>\n",
       "    <tr>\n",
       "      <th>1</th>\n",
       "      <td>Yeah, you supermodel thick Damn, that ass bust...</td>\n",
       "      <td>11</td>\n",
       "      <td>18</td>\n",
       "    </tr>\n",
       "    <tr>\n",
       "      <th>2</th>\n",
       "      <td>Find my back in the cold Trapped in another so...</td>\n",
       "      <td>69</td>\n",
       "      <td>18</td>\n",
       "    </tr>\n",
       "    <tr>\n",
       "      <th>3</th>\n",
       "      <td>I can still feel the love I can still feel the...</td>\n",
       "      <td>47</td>\n",
       "      <td>18</td>\n",
       "    </tr>\n",
       "    <tr>\n",
       "      <th>4</th>\n",
       "      <td>I love all your shit talkin' I love all your s...</td>\n",
       "      <td>67</td>\n",
       "      <td>18</td>\n",
       "    </tr>\n",
       "    <tr>\n",
       "      <th>5</th>\n",
       "      <td>Lil Dicky, ooh Mustard on the beat, ho I woke ...</td>\n",
       "      <td>8</td>\n",
       "      <td>18</td>\n",
       "    </tr>\n",
       "    <tr>\n",
       "      <th>6</th>\n",
       "      <td>May I say something to you To give you a true ...</td>\n",
       "      <td>62</td>\n",
       "      <td>18</td>\n",
       "    </tr>\n",
       "    <tr>\n",
       "      <th>7</th>\n",
       "      <td>Some day, some day Some day I'll, I wanna wear...</td>\n",
       "      <td>16</td>\n",
       "      <td>18</td>\n",
       "    </tr>\n",
       "    <tr>\n",
       "      <th>8</th>\n",
       "      <td>Yeah, they wishin' and wishin' and wishin' and...</td>\n",
       "      <td>1</td>\n",
       "      <td>18</td>\n",
       "    </tr>\n",
       "    <tr>\n",
       "      <th>9</th>\n",
       "      <td>Yeah I'm workin' on dyin' I'm upset Fifty thou...</td>\n",
       "      <td>19</td>\n",
       "      <td>18</td>\n",
       "    </tr>\n",
       "  </tbody>\n",
       "</table>\n",
       "</div>"
      ],
      "text/plain": [
       "                                              lyrics  peak_position  year\n",
       "0  Down the chimney, he will come With his great ...             42    18\n",
       "1  Yeah, you supermodel thick Damn, that ass bust...             11    18\n",
       "2  Find my back in the cold Trapped in another so...             69    18\n",
       "3  I can still feel the love I can still feel the...             47    18\n",
       "4  I love all your shit talkin' I love all your s...             67    18\n",
       "5  Lil Dicky, ooh Mustard on the beat, ho I woke ...              8    18\n",
       "6  May I say something to you To give you a true ...             62    18\n",
       "7  Some day, some day Some day I'll, I wanna wear...             16    18\n",
       "8  Yeah, they wishin' and wishin' and wishin' and...              1    18\n",
       "9  Yeah I'm workin' on dyin' I'm upset Fifty thou...             19    18"
      ]
     },
     "execution_count": 107,
     "metadata": {},
     "output_type": "execute_result"
    }
   ],
   "source": [
    "# Dataframe format\n",
    "df_rap.head(10)"
   ]
  },
  {
   "cell_type": "markdown",
   "metadata": {
    "colab_type": "text",
    "id": "I1IK2mfG18I5"
   },
   "source": [
    "# 5. Data Analysis & Results"
   ]
  },
  {
   "cell_type": "markdown",
   "metadata": {
    "colab_type": "text",
    "id": "FBFc84cJ5H89"
   },
   "source": [
    "## Analysis Part 1: Most Frequent Words/Topics\n",
    "\n"
   ]
  },
  {
   "cell_type": "markdown",
   "metadata": {
    "colab_type": "text",
    "id": "XSGbf8HHeFcV"
   },
   "source": [
    "Import required libraries for analyzing the frequency of lyrics. Need to tokenize, stem, and remove stop words to clean the lyrics for analysis."
   ]
  },
  {
   "cell_type": "code",
   "execution_count": 134,
   "metadata": {
    "colab": {},
    "colab_type": "code",
    "id": "eq4nDP46JXw8"
   },
   "outputs": [],
   "source": [
    "#import natural language toolkit\n",
    "from nltk.probability import FreqDist\n",
    "\n",
    "# import Word Tokenizer\n",
    "from nltk.tokenize import TweetTokenizer\n",
    "tknzr = TweetTokenizer()\n",
    "\n",
    "# Get stop words\n",
    "from nltk.corpus import stopwords\n",
    "stop_words=set(stopwords.words(\"english\"))\n",
    "stop_words.add(\"i'm\")\n",
    "\n",
    "# Stemming\n",
    "from nltk.stem import PorterStemmer\n",
    "ps = PorterStemmer()"
   ]
  },
  {
   "cell_type": "markdown",
   "metadata": {
    "colab_type": "text",
    "id": "sRnEPqGNeLWK"
   },
   "source": [
    "Tokenize the lyrics for each song in all the dataframes."
   ]
  },
  {
   "cell_type": "code",
   "execution_count": 108,
   "metadata": {
    "colab": {},
    "colab_type": "code",
    "id": "V7KljyLuJgbv"
   },
   "outputs": [],
   "source": [
    "# Tokenize lyrics\n",
    "token_rap = []\n",
    "token_country = []\n",
    "token_edm = []\n",
    "token_pop = []\n",
    "token_rb = []\n",
    "token_rock = []\n",
    "\n",
    "for i in range(len(df_rap)):\n",
    "   token_rap.append(tknzr.tokenize(df_rap['lyrics'][i].lower()))\n",
    "df_rap['lyrics_token'] = token_rap\n",
    "\n",
    "for i in range(len(df_country)):\n",
    "   token_country.append(tknzr.tokenize(df_country['lyrics'][i].lower()))\n",
    "df_country['lyrics_token'] = token_country\n",
    "\n",
    "for i in range(len(df_edm)):\n",
    "   token_edm.append(tknzr.tokenize(df_edm['lyrics'][i].lower()))\n",
    "df_edm['lyrics_token'] = token_edm\n",
    "\n",
    "for i in range(len(df_pop)):\n",
    "   token_pop.append(tknzr.tokenize(df_pop['lyrics'][i].lower()))\n",
    "df_pop['lyrics_token'] = token_pop\n",
    "\n",
    "for i in range(len(df_rb)):\n",
    "   token_rb.append(tknzr.tokenize(df_rb['lyrics'][i].lower()))\n",
    "df_rb['lyrics_token'] = token_rb\n",
    "\n",
    "for i in range(len(df_rock)):\n",
    "   token_rock.append(tknzr.tokenize(df_rock['lyrics'][i].lower()))\n",
    "df_rock['lyrics_token'] = token_rock"
   ]
  },
  {
   "cell_type": "markdown",
   "metadata": {
    "colab_type": "text",
    "id": "R6P3Ue2beQ2I"
   },
   "source": [
    "Filter out the stop words for each song in each dataframe."
   ]
  },
  {
   "cell_type": "code",
   "execution_count": 109,
   "metadata": {
    "colab": {},
    "colab_type": "code",
    "id": "EZeZAHiteUlF"
   },
   "outputs": [],
   "source": [
    "# Get filtered lyrics without stop words\n",
    "df_rap['lyrics_stop'] = df_rap['lyrics_token'].apply(lambda x: \\\n",
    "                [item for item in x if item not in stop_words])\n",
    "df_country['lyrics_stop'] = df_country['lyrics_token'].apply(lambda x: \\\n",
    "                [item for item in x if item not in stop_words])\n",
    "df_edm['lyrics_stop'] = df_edm['lyrics_token'].apply(lambda x: \\\n",
    "               [item for item in x if item not in stop_words])\n",
    "df_pop['lyrics_stop'] = df_pop['lyrics_token'].apply(lambda x: \\\n",
    "               [item for item in x if item not in stop_words])\n",
    "df_rb['lyrics_stop'] = df_rb['lyrics_token'].apply(lambda x: \\\n",
    "             [item for item in x if item not in stop_words])\n",
    "df_rock['lyrics_stop'] = df_rock['lyrics_token'].apply(lambda x: \\\n",
    "             [item for item in x if item not in stop_words])"
   ]
  },
  {
   "cell_type": "markdown",
   "metadata": {
    "colab_type": "text",
    "id": "jjkHJxRieXrt"
   },
   "source": [
    "Stem all the lyrics for each song in all the dataframes."
   ]
  },
  {
   "cell_type": "code",
   "execution_count": 110,
   "metadata": {
    "colab": {},
    "colab_type": "code",
    "id": "XpulrPOmeZ5I"
   },
   "outputs": [],
   "source": [
    "# Get stemmed words from filtered lyrics\n",
    "df_rap['lyrics_stem'] = df_rap['lyrics_stop'].apply(lambda x: \\\n",
    "                       [ps.stem(y) for y in x])\n",
    "df_country['lyrics_stem'] = df_country['lyrics_stop'].apply(lambda x: \\\n",
    "                    [ps.stem(y) for y in x])\n",
    "df_edm['lyrics_stem'] = df_edm['lyrics_stop'].apply(lambda x: \\\n",
    "                    [ps.stem(y) for y in x])\n",
    "df_pop['lyrics_stem'] = df_pop['lyrics_stop'].apply(lambda x: \\\n",
    "                   [ps.stem(y) for y in x])\n",
    "df_rb['lyrics_stem'] = df_rb['lyrics_stop'].apply(lambda x: \\\n",
    "                    [ps.stem(y) for y in x])\n",
    "df_rock['lyrics_stem'] = df_rock['lyrics_stop'].apply(lambda x: \\\n",
    "                    [ps.stem(y) for y in x])"
   ]
  },
  {
   "cell_type": "markdown",
   "metadata": {
    "colab_type": "text",
    "id": "z7s-k2eHecZj"
   },
   "source": [
    "Combine all expletive words for each song in the dataframes."
   ]
  },
  {
   "cell_type": "code",
   "execution_count": 111,
   "metadata": {
    "colab": {},
    "colab_type": "code",
    "id": "yXbmDtzQeeYR"
   },
   "outputs": [],
   "source": [
    "expletives = ['nigga', 'bitch', 'shit', 'fuck', 'hoe']\n",
    "\n",
    "# Combine all expletives together\n",
    "for i in range(len(df_rap['lyrics_stem'])):\n",
    "  for j in range(len(df_rap['lyrics_stem'][i])):\n",
    "    if( df_rap['lyrics_stem'][i][j] in expletives):\n",
    "      df_rap['lyrics_stem'][i][j] = 'expletive'\n",
    "\n",
    "for i in range(len(df_country['lyrics_stem'])):\n",
    "  for j in range(len(df_country['lyrics_stem'][i])):\n",
    "    if( df_country['lyrics_stem'][i][j] in expletives):\n",
    "      df_country['lyrics_stem'][i][j] = 'expletive'\n",
    "\n",
    "for i in range(len(df_edm['lyrics_stem'])):\n",
    "  for j in range(len(df_edm['lyrics_stem'][i])):\n",
    "    if( df_edm['lyrics_stem'][i][j] in expletives):\n",
    "      df_edm['lyrics_stem'][i][j] = 'expletive'\n",
    "\n",
    "for i in range(len(df_pop['lyrics_stem'])):\n",
    "  for j in range(len(df_pop['lyrics_stem'][i])):\n",
    "    if( df_pop['lyrics_stem'][i][j] in expletives):\n",
    "      df_pop['lyrics_stem'][i][j] = 'expletive'\n",
    "      \n",
    "for i in range(len(df_rb['lyrics_stem'])):\n",
    "  for j in range(len(df_rb['lyrics_stem'][i])):\n",
    "    if( df_rb['lyrics_stem'][i][j] in expletives):\n",
    "      df_rb['lyrics_stem'][i][j] = 'expletive'\n",
    "\n",
    "for i in range(len(df_rock['lyrics_stem'])):\n",
    "  for j in range(len(df_rock['lyrics_stem'][i])):\n",
    "    if( df_rock['lyrics_stem'][i][j] in expletives):\n",
    "      df_rock['lyrics_stem'][i][j] = 'expletive'"
   ]
  },
  {
   "cell_type": "markdown",
   "metadata": {
    "colab_type": "text",
    "id": "hZjGaj6Feg49"
   },
   "source": [
    "Get the word frequency for stemmed words for each genre."
   ]
  },
  {
   "cell_type": "code",
   "execution_count": 112,
   "metadata": {
    "colab": {},
    "colab_type": "code",
    "id": "GtD7SURUekkN"
   },
   "outputs": [],
   "source": [
    "# Get freq of stemmed words for each song\n",
    "lyrics_rap = df_rap['lyrics_stem'].apply(pd.Series).stack()\n",
    "lyrics_country = df_country['lyrics_stem'].apply(pd.Series).stack()\n",
    "lyrics_edm = df_edm['lyrics_stem'].apply(pd.Series).stack()\n",
    "lyrics_pop = df_pop['lyrics_stem'].apply(pd.Series).stack()\n",
    "lyrics_rb = df_rb['lyrics_stem'].apply(pd.Series).stack()\n",
    "lyrics_rock = df_rock['lyrics_stem'].apply(pd.Series).stack()"
   ]
  },
  {
   "cell_type": "markdown",
   "metadata": {
    "colab_type": "text",
    "id": "FVg1AWTpenJ2"
   },
   "source": [
    "Get frequency distribution for each genre using the nltk library."
   ]
  },
  {
   "cell_type": "code",
   "execution_count": 113,
   "metadata": {
    "colab": {},
    "colab_type": "code",
    "id": "Fkzx2ly-Jlch"
   },
   "outputs": [],
   "source": [
    "# calculation word frequency\n",
    "freq_lyrics_rap = FreqDist(lyrics_rap)\n",
    "freq_lyrics_country = FreqDist(lyrics_country)\n",
    "freq_lyrics_edm = FreqDist(lyrics_edm)\n",
    "freq_lyrics_pop = FreqDist(lyrics_pop)\n",
    "freq_lyrics_rb = FreqDist(lyrics_rb)\n",
    "freq_lyrics_rock = FreqDist(lyrics_rock)\n",
    "\n",
    "# remove punctuation counts\n",
    "for punc in string.punctuation:\n",
    "    del freq_lyrics_rap[punc]\n",
    "    del freq_lyrics_country[punc]\n",
    "    del freq_lyrics_edm[punc]\n",
    "    del freq_lyrics_pop[punc]\n",
    "    del freq_lyrics_rb[punc]\n",
    "    del freq_lyrics_rock[punc]"
   ]
  },
  {
   "cell_type": "markdown",
   "metadata": {
    "colab_type": "text",
    "id": "cHuYgg8repxh"
   },
   "source": [
    "We will plot the top 10 words for each genre and also the top 10 topics/relevant words for each genre. The topics and relevant words are words that are nouns or verbs that have more meaning than words such as like, yeah, oh, expletives, etc. These words are chosen within the top 100 most common words for each genre."
   ]
  },
  {
   "cell_type": "code",
   "execution_count": 19,
   "metadata": {
    "colab": {
     "base_uri": "https://localhost:8080/",
     "height": 573
    },
    "colab_type": "code",
    "executionInfo": {
     "elapsed": 755,
     "status": "ok",
     "timestamp": 1560217022315,
     "user": {
      "displayName": "Bryce Chong",
      "photoUrl": "",
      "userId": "15863741709272866254"
     },
     "user_tz": 420
    },
    "id": "wu0iWUwAJogO",
    "outputId": "8dd39cca-cca7-46da-9593-6584cf7888b4"
   },
   "outputs": [
    {
     "data": {
      "image/png": "[encoded data removed]",
      "text/plain": [
       "<Figure size 432x288 with 1 Axes>"
      ]
     },
     "metadata": {
      "needs_background": "light"
     },
     "output_type": "display_data"
    },
    {
     "data": {
      "image/png": "[encoded data removed]",
      "text/plain": [
       "<Figure size 432x288 with 1 Axes>"
      ]
     },
     "metadata": {
      "needs_background": "light"
     },
     "output_type": "display_data"
    }
   ],
   "source": [
    "# Frequency Distribution Plot - top 10 words in rap lyrics\n",
    "\n",
    "top_rap = freq_lyrics_rap.most_common(100)\n",
    "rap_top = [top_rap[0][0], top_rap[1][0], top_rap[2][0], top_rap[3][0], top_rap[4][0], \n",
    "        top_rap[5][0], top_rap[6][0], top_rap[7][0], top_rap[8][0], top_rap[9][0]]\n",
    "rap_top_counts = [top_rap[0][1], top_rap[1][1], top_rap[2][1], top_rap[3][1],\\\n",
    "        top_rap[4][1], top_rap[5][1], top_rap[6][1], top_rap[7][1], \\\n",
    "        top_rap[8][1], top_rap[9][1]]\n",
    "plt.plot(rap_top, rap_top_counts, marker='o')\n",
    "plt.grid()\n",
    "plt.xlabel(\"Samples\")\n",
    "plt.ylabel(\"Counts\")\n",
    "plt.title(\"Top 10 Words In Rap Music\")\n",
    "plt.show()\n",
    "\n",
    "# Frequency Distribution Plot - top 10 most topics/relevant words\n",
    "\n",
    "rap_topics = [top_rap[10][0], top_rap[15][0], top_rap[27][0], top_rap[28][0], \\\n",
    "            top_rap[39][0], top_rap[44][0], top_rap[53][0], top_rap[70][0], \\\n",
    "            top_rap[83][0], top_rap[85][0]]\n",
    "rap_counts = [top_rap[10][1], top_rap[15][1], top_rap[27][1], top_rap[28][1],\\\n",
    "            top_rap[39][1], top_rap[44][1], top_rap[53][1], \\\n",
    "            top_rap[70][1], top_rap[83][1], top_rap[85][1]]\n",
    "plt.plot(rap_topics, rap_counts, marker='o')\n",
    "plt.grid()\n",
    "plt.xlabel(\"Samples\")\n",
    "plt.ylabel(\"Counts\")\n",
    "plt.title(\"Top 10 Topics/Relevant Words In Rap Music\")\n",
    "plt.show()"
   ]
  },
  {
   "cell_type": "markdown",
   "metadata": {
    "colab_type": "text",
    "id": "0uFJ3RM2J1Si"
   },
   "source": [
    "The most common lyrics in rap music over the past decade are mainly expletives and ad-libs(yeah, oh, etc) which are common within main stream rap music."
   ]
  },
  {
   "cell_type": "code",
   "execution_count": 20,
   "metadata": {
    "colab": {
     "base_uri": "https://localhost:8080/",
     "height": 573
    },
    "colab_type": "code",
    "executionInfo": {
     "elapsed": 729,
     "status": "ok",
     "timestamp": 1560217025459,
     "user": {
      "displayName": "Bryce Chong",
      "photoUrl": "",
      "userId": "15863741709272866254"
     },
     "user_tz": 420
    },
    "id": "MVwEiuolJ2Hr",
    "outputId": "23057bce-a28c-4cac-92b7-887e5e111a3d"
   },
   "outputs": [
    {
     "data": {
      "image/png": "[encoded data removed]",
      "text/plain": [
       "<Figure size 432x288 with 1 Axes>"
      ]
     },
     "metadata": {
      "needs_background": "light"
     },
     "output_type": "display_data"
    },
    {
     "data": {
      "image/png": "[encoded data removed]",
      "text/plain": [
       "<Figure size 432x288 with 1 Axes>"
      ]
     },
     "metadata": {
      "needs_background": "light"
     },
     "output_type": "display_data"
    }
   ],
   "source": [
    "# Frequency Distribution Plot - top 10 words in country lyrics\n",
    "\n",
    "top_country = freq_lyrics_country.most_common(100)\n",
    "country_top = [top_country[0][0], top_country[1][0], top_country[2][0],\\\n",
    "            top_country[3][0], top_country[4][0], top_country[5][0], \\\n",
    "            top_country[6][0], top_country[7][0], top_country[8][0], \\\n",
    "            top_country[9][0]]\n",
    "country_top_counts = [top_country[0][1], top_country[1][1], top_country[2][1], \\\n",
    "            top_country[3][1], top_country[4][1], top_country[5][1], \\\n",
    "        top_country[6][1], top_country[7][1], top_country[8][1], \\\n",
    "        top_country[9][1]]\n",
    "plt.plot(country_top, country_top_counts, marker='o')\n",
    "plt.grid()\n",
    "plt.xlabel(\"Samples\")\n",
    "plt.ylabel(\"Counts\")\n",
    "plt.title(\"Top 10 Words In Country Music\")\n",
    "plt.show()\n",
    "\n",
    "# Frequency Distribution Plot - top 10 most topics/relevant words\n",
    "\n",
    "country_topics = [top_country[2][0], top_country[6][0], top_country[15][0], \\\n",
    "            top_country[16][0], top_country[40][0], top_country[44][0], \\\n",
    "            top_country[45][0], top_country[54][0], top_country[57][0], \\\n",
    "          top_country[58][0]]\n",
    "country_counts = [top_country[2][1], top_country[6][1], top_country[15][1], \n",
    "        \\top_country[16][1], top_country[40][1], top_country[44][1], \\\n",
    "        top_country[45][1], top_country[54][1], top_country[57][1], \\\n",
    "        top_country[58][1]]\n",
    "plt.plot(country_topics, country_counts, marker='o')\n",
    "plt.grid()\n",
    "plt.xlabel(\"Samples\")\n",
    "plt.ylabel(\"Counts\")\n",
    "plt.title(\"Top 10 Topics/Relevant Words In Country Music\")\n",
    "plt.show()\n"
   ]
  },
  {
   "cell_type": "markdown",
   "metadata": {
    "colab_type": "text",
    "id": "XL2lUEmNJ9N0"
   },
   "source": [
    "The most common lyrics in country music are mostly positive and do not contain words that are usually popular among the younger generation."
   ]
  },
  {
   "cell_type": "code",
   "execution_count": 21,
   "metadata": {
    "colab": {
     "base_uri": "https://localhost:8080/",
     "height": 573
    },
    "colab_type": "code",
    "executionInfo": {
     "elapsed": 712,
     "status": "ok",
     "timestamp": 1560217028657,
     "user": {
      "displayName": "Bryce Chong",
      "photoUrl": "",
      "userId": "15863741709272866254"
     },
     "user_tz": 420
    },
    "id": "F92fsw4QKAUy",
    "outputId": "79a93a32-da64-4320-8e10-9ed5e3f2bb8c"
   },
   "outputs": [
    {
     "data": {
      "image/png": "[encoded data removed]",
      "text/plain": [
       "<Figure size 432x288 with 1 Axes>"
      ]
     },
     "metadata": {
      "needs_background": "light"
     },
     "output_type": "display_data"
    },
    {
     "data": {
      "image/png": "[encoded data removed]",
      "text/plain": [
       "<Figure size 432x288 with 1 Axes>"
      ]
     },
     "metadata": {
      "needs_background": "light"
     },
     "output_type": "display_data"
    }
   ],
   "source": [
    "# Frequency Distribution Plot - top 10 words in Edm lyrics\n",
    "\n",
    "top_edm = freq_lyrics_edm.most_common(100)\n",
    "edm_top = [top_edm[0][0], top_edm[1][0], top_edm[2][0], \\\n",
    "    top_edm[3][0], top_edm[4][0],  top_edm[5][0], \\\n",
    "    top_edm[6][0], top_edm[7][0], top_edm[8][0], \\\n",
    "    top_edm[9][0]]\n",
    "edm_top_counts = [top_edm[0][1], top_edm[1][1], top_edm[2][1], \\\n",
    "        top_edm[3][1], top_edm[4][1], top_edm[5][1], \\\n",
    "        top_edm[6][1], top_edm[7][1], top_edm[8][1], \\\n",
    "        top_edm[9][1]]\n",
    "plt.plot(edm_top, edm_top_counts, marker='o')\n",
    "plt.grid()\n",
    "plt.xlabel(\"Samples\")\n",
    "plt.ylabel(\"Counts\")\n",
    "plt.title(\"Top 10 Words In EDM Music\")\n",
    "plt.show()\n",
    "\n",
    "# Frequency Distribution Plot - top 10 most topics/relevant words\n",
    "\n",
    "edm_topics = [top_edm[7][0], top_edm[8][0], top_edm[11][0], top_edm[21][0], \\\n",
    "    top_edm[22][0], top_edm[38][0], top_edm[44][0], \\\n",
    "    top_edm[47][0], top_edm[62][0], top_edm[65][0]]\n",
    "edm_counts = [top_edm[2][1], top_edm[6][1], top_edm[15][1], top_edm[16][1], \\\n",
    "    top_edm[40][1], top_edm[44][1], top_edm[45][1], top_edm[54][1],\\\n",
    "    top_edm[57][1], top_edm[58][1]]\n",
    "plt.plot(edm_topics, edm_counts, marker='o')\n",
    "plt.grid()\n",
    "plt.xlabel(\"Samples\")\n",
    "plt.ylabel(\"Counts\")\n",
    "plt.title(\"Top 10 Topics/Relevant Words In EDM Music\")\n",
    "plt.show()\n"
   ]
  },
  {
   "cell_type": "markdown",
   "metadata": {
    "colab_type": "text",
    "id": "zwcWJ_cNKE-0"
   },
   "source": [
    "The most common lyrics in edm music relate to sensual feelings which is common since this genre is often listened by people at nightclubs, festivals, & raves."
   ]
  },
  {
   "cell_type": "code",
   "execution_count": 22,
   "metadata": {
    "colab": {
     "base_uri": "https://localhost:8080/",
     "height": 573
    },
    "colab_type": "code",
    "executionInfo": {
     "elapsed": 624,
     "status": "ok",
     "timestamp": 1560217031465,
     "user": {
      "displayName": "Bryce Chong",
      "photoUrl": "",
      "userId": "15863741709272866254"
     },
     "user_tz": 420
    },
    "id": "r6DuoG9aKHT6",
    "outputId": "29ff33bb-c8b9-40a7-ce61-4d61a4c4b809"
   },
   "outputs": [
    {
     "data": {
      "image/png": "[encoded data removed]",
      "text/plain": [
       "<Figure size 432x288 with 1 Axes>"
      ]
     },
     "metadata": {
      "needs_background": "light"
     },
     "output_type": "display_data"
    },
    {
     "data": {
      "image/png": "[encoded data removed]",
      "text/plain": [
       "<Figure size 432x288 with 1 Axes>"
      ]
     },
     "metadata": {
      "needs_background": "light"
     },
     "output_type": "display_data"
    }
   ],
   "source": [
    "# Frequency Distribution Plot - top 10 words in Pop lyrics\n",
    "\n",
    "top_pop = freq_lyrics_pop.most_common(100)\n",
    "pop_top = [top_pop[0][0], top_pop[1][0], top_pop[2][0], top_pop[3][0], \\\n",
    "    top_pop[4][0], top_pop[5][0], top_pop[6][0], top_pop[7][0], \\\n",
    "    top_pop[8][0], top_pop[9][0]]\n",
    "pop_top_counts = [top_pop[0][1], top_pop[1][1], top_pop[2][1], top_pop[3][1], \\\n",
    "    top_pop[4][1], top_pop[5][1], top_pop[6][1], top_pop[7][1], \\\n",
    "    top_pop[8][1], top_pop[9][1]]\n",
    "plt.plot(pop_top, pop_top_counts, marker='o')\n",
    "plt.grid()\n",
    "plt.xlabel(\"Samples\")\n",
    "plt.ylabel(\"Counts\")\n",
    "plt.title(\"Top 10 Words In Pop Music\")\n",
    "plt.show()\n",
    "\n",
    "# Frequency Distribution Plot - top 10 most topics/relevant words\n",
    "\n",
    "pop_topics = [top_pop[4][0], top_pop[21][0], top_pop[24][0], top_pop[26][0], \\\n",
    "    top_pop[33][0], top_pop[39][0], top_pop[52][0], top_pop[55][0], \\\n",
    "    top_pop[72][0], top_pop[78][0]]\n",
    "pop_counts = [top_pop[4][1], top_pop[21][1], top_pop[24][1], top_pop[26][1], \\\n",
    "    top_pop[33][1], top_pop[39][1], top_pop[52][1], top_pop[55][1], \\\n",
    "    top_pop[72][1], top_pop[78][1]]\n",
    "plt.plot(pop_topics, pop_counts, marker='o')\n",
    "plt.grid()\n",
    "plt.xlabel(\"Samples\")\n",
    "plt.ylabel(\"Counts\")\n",
    "plt.title(\"Top 10 Topics/Relevant Words In Pop Music\")\n",
    "plt.show()"
   ]
  },
  {
   "cell_type": "markdown",
   "metadata": {
    "colab_type": "text",
    "id": "s6eU_QMQKKRE"
   },
   "source": [
    "The most common lyrics in pop shows relate to the lyrics in most of the other genres since there are many sub-genres of pop."
   ]
  },
  {
   "cell_type": "code",
   "execution_count": 23,
   "metadata": {
    "colab": {
     "base_uri": "https://localhost:8080/",
     "height": 573
    },
    "colab_type": "code",
    "executionInfo": {
     "elapsed": 944,
     "status": "ok",
     "timestamp": 1560217034417,
     "user": {
      "displayName": "Bryce Chong",
      "photoUrl": "",
      "userId": "15863741709272866254"
     },
     "user_tz": 420
    },
    "id": "puCvMCGsKNIK",
    "outputId": "3a91e820-29b2-47bc-e0ac-cbd9234d4fa5"
   },
   "outputs": [
    {
     "data": {
      "image/png": "[encoded data removed]",
      "text/plain": [
       "<Figure size 432x288 with 1 Axes>"
      ]
     },
     "metadata": {
      "needs_background": "light"
     },
     "output_type": "display_data"
    },
    {
     "data": {
      "image/png": "[encoded data removed]",
      "text/plain": [
       "<Figure size 432x288 with 1 Axes>"
      ]
     },
     "metadata": {
      "needs_background": "light"
     },
     "output_type": "display_data"
    }
   ],
   "source": [
    "# Frequency Distribution Plot - top 10 words in R&B lyrics\n",
    "\n",
    "top_rb = freq_lyrics_rb.most_common(100)\n",
    "rb_top = [top_rb[0][0], top_rb[1][0], top_rb[2][0], top_rb[3][0], \\\n",
    "    top_rb[4][0], top_rb[5][0], top_rb[6][0], top_rb[7][0], \\\n",
    "    top_rb[8][0], top_rb[9][0]]\n",
    "rb_top_counts = [top_rb[0][1], top_rb[1][1], top_rb[2][1], top_rb[3][1],\\\n",
    "    top_rb[4][1], top_rb[5][1], top_rb[6][1], top_rb[7][1], \\\n",
    "    top_rb[8][1], top_rb[9][1]]\n",
    "plt.plot(rb_top, rb_top_counts, marker='o')\n",
    "plt.grid()\n",
    "plt.xlabel(\"Samples\")\n",
    "plt.ylabel(\"Counts\")\n",
    "plt.title(\"Top 10 Words In R&B Music\")\n",
    "plt.show()\n",
    "\n",
    "# Frequency Distribution Plot - top 10 most topics/relevant words\n",
    "\n",
    "rb_topics = [top_rb[0][0], top_rb[9][0], top_rb[29][0], top_rb[35][0], \\\n",
    "        top_rb[39][0], top_rb[47][0], top_rb[56][0], top_rb[71][0], \\\n",
    "    top_rb[74][0], top_rb[77][0]]\n",
    "rb_counts = [top_rb[0][1], top_rb[9][1], top_rb[29][1], top_rb[35][1],\\\n",
    "    top_rb[39][1],  top_rb[47][1], top_rb[56][1], top_rb[71][1], \\\n",
    "    top_rb[74][1], top_rb[77][1]]\n",
    "plt.plot(rb_topics, rb_counts, marker='o')\n",
    "plt.grid()\n",
    "plt.xlabel(\"Samples\")\n",
    "plt.ylabel(\"Counts\")\n",
    "plt.title(\"Top 10 Topics/Relevant Words In R&B Music\")\n",
    "plt.show()"
   ]
  },
  {
   "cell_type": "markdown",
   "metadata": {
    "colab_type": "text",
    "id": "g7K5W4yjKQjs"
   },
   "source": [
    "The most common lyrics in r&b are similar to the lyrics in rap music since these two genres are often mixed together in most mainstream music."
   ]
  },
  {
   "cell_type": "code",
   "execution_count": 24,
   "metadata": {
    "colab": {
     "base_uri": "https://localhost:8080/",
     "height": 573
    },
    "colab_type": "code",
    "executionInfo": {
     "elapsed": 638,
     "status": "ok",
     "timestamp": 1560217036531,
     "user": {
      "displayName": "Bryce Chong",
      "photoUrl": "",
      "userId": "15863741709272866254"
     },
     "user_tz": 420
    },
    "id": "RE0A_tD0KTIA",
    "outputId": "5e1fdd9f-b1e9-4e7c-839c-9aa40aa8a226"
   },
   "outputs": [
    {
     "data": {
      "image/png": "[encoded data removed]",
      "text/plain": [
       "<Figure size 432x288 with 1 Axes>"
      ]
     },
     "metadata": {
      "needs_background": "light"
     },
     "output_type": "display_data"
    },
    {
     "data": {
      "image/png": "[encoded data removed]",
      "text/plain": [
       "<Figure size 432x288 with 1 Axes>"
      ]
     },
     "metadata": {
      "needs_background": "light"
     },
     "output_type": "display_data"
    }
   ],
   "source": [
    "# Frequency Distribution Plot - top 10 words in Rock lyrics\n",
    "\n",
    "top_rock = freq_lyrics_rock.most_common(100)\n",
    "rock_top = [top_rock[0][0], top_rock[1][0], top_rock[2][0], top_rock[3][0], \\\n",
    "    top_rock[4][0], top_rock[5][0], top_rock[6][0], top_rock[7][0], \\\n",
    "    top_rock[8][0], top_rock[9][0]]\n",
    "rock_top_counts = [top_rock[0][1], top_rock[1][1], top_rock[2][1], top_rock[3][1], \\\n",
    "    top_rock[4][1], top_rock[5][1], top_rock[6][1], top_rock[7][1], \\\n",
    "    top_rock[8][1], top_rock[9][1]]\n",
    "plt.plot(rock_top, rock_top_counts, marker='o')\n",
    "plt.grid()\n",
    "plt.xlabel(\"Samples\")\n",
    "plt.ylabel(\"Counts\")\n",
    "plt.title(\"Top 10 Words In Rock Music\")\n",
    "plt.show()\n",
    "\n",
    "# Frequency Distribution Plot - top 10 most topics/relevant words\n",
    "\n",
    "rock_topics = [top_rock[1][0], top_rock[8][0], top_rock[11][0], top_rock[24][0], \\\n",
    "    top_rock[29][0], top_rock[36][0], top_rock[39][0], top_rock[43][0], \\\n",
    "    top_rock[54][0], top_rock[69][0]]\n",
    "rock_counts = [top_rock[1][1], top_rock[8][1], top_rock[11][1], top_rock[24][1], \\\n",
    "    top_rock[29][1], top_rock[36][1], top_rock[39][1], top_rock[43][1], \\\n",
    "    top_rock[54][1], top_rock[69][1]]\n",
    "plt.plot(rock_topics, rock_counts, marker='o')\n",
    "plt.grid()\n",
    "plt.xlabel(\"Samples\")\n",
    "plt.ylabel(\"Counts\")\n",
    "plt.title(\"Top 10 Topics/Relevant Words In Rock Music\")\n",
    "plt.show()"
   ]
  },
  {
   "cell_type": "markdown",
   "metadata": {
    "colab_type": "text",
    "id": "LQQdqJYWKYGF"
   },
   "source": [
    "The most common lyrics in rock music mostly consist of positive words like country music and often does not use words that are common within mainstream music."
   ]
  },
  {
   "cell_type": "markdown",
   "metadata": {
    "colab_type": "text",
    "id": "6bJPgbrWKYiZ"
   },
   "source": [
    "Pop music can be seen as the center of most of these genres because the lyrics used in pop music can be seen in all of the other genres. The two most related genres are R&B and Rap where the most common topics are love and money. The songs in these two genres often contain the most expletives so are more popular among the younger generation while Country & Rock do not contain that many expletives and have more positive lyrics. EDM music is usually upbeat or mellow so it is similar to Pop and R&B music. EDM music usually focuses on the beat/melody rather than the lyrics so there should be a lower frequency of distinct words. Overall, the most common topic throughout all of the genres is love."
   ]
  },
  {
   "cell_type": "markdown",
   "metadata": {
    "colab_type": "text",
    "id": "NAjZry_P5IJ-"
   },
   "source": [
    "## Analysis Part 2: Lyrics Repetition\n",
    "\n",
    "This part of the analysis focuses on how repetitive the lyrics in a song is. It is important to know not only which words to put in a song, but also how many times you should repeat the phrase/word. The amount of repetition can also depend on the genre. This analysis will find the averaged percentage of repetition across genre. "
   ]
  },
  {
   "cell_type": "markdown",
   "metadata": {
    "colab_type": "text",
    "id": "0eQPg3gbY081"
   },
   "source": [
    "Firstly, the lyrics are stripped of punctuation. This is because the .split() method categorizes words differently with punctuation. Example: \"**love,**\" would be different to \"**love**\". However, we do not need this distinction, so the punctuation of all words are taken out. The set() function gives us a set of all unique words in a particular song. Then, the percentage of unique words is calculated, so the percentage of repetition can be calculated.  We add up all the perecentages of every song in a genre, and then average it. \n",
    "This is done for each genre, which is stated in the comments (the code is the same for each genre)."
   ]
  },
  {
   "cell_type": "code",
   "execution_count": 25,
   "metadata": {
    "colab": {},
    "colab_type": "code",
    "id": "Uqj2K_WF4g-s"
   },
   "outputs": [],
   "source": [
    "############# COUNTRY #############\n",
    "country_lyrics= \"\"\n",
    "sum_value = 0\n",
    "\n",
    "for index,row in df_country.iterrows():\n",
    "  country_lyrics = (row['lyrics'])\n",
    "  \n",
    "  # Remove punctuation from lyrics\n",
    "  table = str.maketrans({key: None for key in string.punctuation})\n",
    "  cleaned_country_lyrics = country_lyrics.translate(table) \n",
    "  \n",
    "  # List of strings for each word\n",
    "  split_lyrics = cleaned_country_lyrics.split(' ')\n",
    "  \n",
    "  # Separate unique words\n",
    "  unique_words = set(split_lyrics)\n",
    "\n",
    "  # Number of words in original lyrics\n",
    "  num_original = len(split_lyrics)\n",
    "  \n",
    "  # Number of unique words\n",
    "  num_unique = len(unique_words)\n",
    "  \n",
    "  # Find percentage of repeated words\n",
    "  percentage_unique = (num_unique/num_original) * 100\n",
    "  percentage_repeated = 100 - percentage_unique\n",
    "  \n",
    "  # Add to running total\n",
    "  sum_value += percentage_repeated\n",
    "  \n",
    "# Average across all songs\n",
    "country_ave = sum_value/len(df_country.index)"
   ]
  },
  {
   "cell_type": "code",
   "execution_count": 26,
   "metadata": {
    "colab": {},
    "colab_type": "code",
    "id": "bS4V7-kh4g-0"
   },
   "outputs": [],
   "source": [
    "############# EDM #############\n",
    "EDM_lyrics= \"\"\n",
    "sum_value = 0\n",
    "\n",
    "for index,row in df_edm.iterrows():\n",
    "  EDM_lyrics = (row['lyrics'])\n",
    "  \n",
    "  # Remove punctuation from lyrics\n",
    "  table = str.maketrans({key: None for key in string.punctuation})\n",
    "  cleaned_EDM_lyrics = EDM_lyrics.translate(table) \n",
    "  \n",
    "  # List of strings for each word\n",
    "  split_lyrics = cleaned_EDM_lyrics.split(' ')\n",
    "  \n",
    "  # Separate unique words\n",
    "  unique_words = set(split_lyrics)\n",
    "\n",
    "  # Number of words in original lyrics\n",
    "  num_original = len(split_lyrics)\n",
    "  \n",
    "  # Number of unique words\n",
    "  num_unique = len(unique_words)\n",
    "  \n",
    "  # Find percentage of repeated words\n",
    "  percentage_unique = (num_unique/num_original) * 100\n",
    "  percentage_repeated = 100 - percentage_unique\n",
    "  \n",
    "  # Add to running total\n",
    "  sum_value += percentage_repeated\n",
    "  \n",
    "# Average across all songs\n",
    "EDM_ave = sum_value/len(df_edm.index)"
   ]
  },
  {
   "cell_type": "code",
   "execution_count": 27,
   "metadata": {
    "colab": {},
    "colab_type": "code",
    "id": "bsN8qvzK4g-9"
   },
   "outputs": [],
   "source": [
    "############# POP #############\n",
    "pop_lyrics= \"\"\n",
    "sum_value = 0\n",
    "\n",
    "for index,row in df_pop.iterrows():\n",
    "  pop_lyrics = (row['lyrics'])\n",
    "  \n",
    "  # Remove punctuation from lyrics\n",
    "  table = str.maketrans({key: None for key in string.punctuation})\n",
    "  cleaned_pop_lyrics = pop_lyrics.translate(table) \n",
    "  \n",
    "  # List of strings for each word\n",
    "  split_lyrics = cleaned_pop_lyrics.split(' ')\n",
    "  \n",
    "  # Separate unique words\n",
    "  unique_words = set(split_lyrics)\n",
    "\n",
    "  # Number of words in original lyrics\n",
    "  num_original = len(split_lyrics)\n",
    "  \n",
    "  # Number of unique words\n",
    "  num_unique = len(unique_words)\n",
    "  \n",
    "  # Find percentage of repeated words\n",
    "  percentage_unique = (num_unique/num_original) * 100\n",
    "  percentage_repeated = 100 - percentage_unique\n",
    "  \n",
    "  # Add to running total\n",
    "  sum_value += percentage_repeated\n",
    "  \n",
    "# Average across all songs\n",
    "pop_ave = sum_value/len(df_pop.index)"
   ]
  },
  {
   "cell_type": "code",
   "execution_count": 28,
   "metadata": {
    "colab": {},
    "colab_type": "code",
    "id": "kH0RDZeX4g_D"
   },
   "outputs": [],
   "source": [
    "############# R&B #############\n",
    "RB_lyrics= \"\"\n",
    "sum_value = 0\n",
    "\n",
    "for index,row in df_rb.iterrows():\n",
    "  RB_lyrics = (row['lyrics'])\n",
    "  \n",
    "  # Remove punctuation from lyrics\n",
    "  table = str.maketrans({key: None for key in string.punctuation})\n",
    "  cleaned_RB_lyrics = RB_lyrics.translate(table) \n",
    "  \n",
    "  # List of strings for each word\n",
    "  split_lyrics = cleaned_RB_lyrics.split(' ')\n",
    "  \n",
    "  # Separate unique words\n",
    "  unique_words = set(split_lyrics)\n",
    "\n",
    "  # Number of words in original lyrics\n",
    "  num_original = len(split_lyrics)\n",
    "  \n",
    "  # Number of unique words\n",
    "  num_unique = len(unique_words)\n",
    "  \n",
    "  # Find percentage of repeated words\n",
    "  percentage_unique = (num_unique/num_original) * 100\n",
    "  percentage_repeated = 100 - percentage_unique\n",
    "  \n",
    "  # Add to running total\n",
    "  sum_value += percentage_repeated\n",
    "  \n",
    "# Average across all songs\n",
    "RB_ave = sum_value/len(df_rb.index)"
   ]
  },
  {
   "cell_type": "code",
   "execution_count": 29,
   "metadata": {
    "colab": {},
    "colab_type": "code",
    "id": "sr4VbxuZ4g_O"
   },
   "outputs": [],
   "source": [
    "############# RAP #############\n",
    "rap_lyrics= \"\"\n",
    "sum_value = 0\n",
    "\n",
    "for index,row in df_rap.iterrows():\n",
    "  rap_lyrics = (row['lyrics'])\n",
    "  \n",
    "  # Remove punctuation from lyrics\n",
    "  table = str.maketrans({key: None for key in string.punctuation})\n",
    "  cleaned_rap_lyrics = rap_lyrics.translate(table) \n",
    "  \n",
    "  # List of strings for each word\n",
    "  split_lyrics = cleaned_rap_lyrics.split(' ')\n",
    "  \n",
    "  # Separate unique words\n",
    "  unique_words = set(split_lyrics)\n",
    "\n",
    "  # Number of words in original lyrics\n",
    "  num_original = len(split_lyrics)\n",
    "  \n",
    "  # Number of unique words\n",
    "  num_unique = len(unique_words)\n",
    "  \n",
    "  # Find percentage of repeated words\n",
    "  percentage_unique = (num_unique/num_original) * 100\n",
    "  percentage_repeated = 100 - percentage_unique\n",
    "  \n",
    "  # Add to running total\n",
    "  sum_value += percentage_repeated\n",
    "  \n",
    "# Average across all songs\n",
    "rap_ave = sum_value/len(df_rap.index)"
   ]
  },
  {
   "cell_type": "code",
   "execution_count": 30,
   "metadata": {
    "colab": {},
    "colab_type": "code",
    "id": "ambv6feB4g_V"
   },
   "outputs": [],
   "source": [
    "############# ROCK #############\n",
    "rock_lyrics= \"\"\n",
    "sum_value = 0\n",
    "\n",
    "for index,row in df_rock.iterrows():\n",
    "  rock_lyrics = (row['lyrics'])\n",
    "  \n",
    "  # Remove punctuation from lyrics\n",
    "  table = str.maketrans({key: None for key in string.punctuation})\n",
    "  cleaned_rock_lyrics = rock_lyrics.translate(table) \n",
    "  \n",
    "  # List of strings for each word\n",
    "  split_lyrics = cleaned_rock_lyrics.split(' ')\n",
    "  \n",
    "  # Separate unique words\n",
    "  unique_words = set(split_lyrics)\n",
    "\n",
    "  # Number of words in original lyrics\n",
    "  num_original = len(split_lyrics)\n",
    "  \n",
    "  # Number of unique words\n",
    "  num_unique = len(unique_words)\n",
    "  \n",
    "  # Find percentage of repeated words\n",
    "  percentage_unique = (num_unique/num_original) * 100\n",
    "  percentage_repeated = 100 - percentage_unique\n",
    "  \n",
    "  # Add to running total\n",
    "  sum_value += percentage_repeated\n",
    "  \n",
    "# Average across all songs\n",
    "rock_ave = sum_value/len(df_rock.index)"
   ]
  },
  {
   "cell_type": "markdown",
   "metadata": {
    "colab_type": "text",
    "id": "jcKm_XJMbTPB"
   },
   "source": [
    "Create a bar graph to show the different percentages of repetition for each genre. The specific values are shown for every bar. "
   ]
  },
  {
   "cell_type": "code",
   "execution_count": 31,
   "metadata": {
    "colab": {
     "base_uri": "https://localhost:8080/",
     "height": 403
    },
    "colab_type": "code",
    "executionInfo": {
     "elapsed": 610,
     "status": "ok",
     "timestamp": 1560199088525,
     "user": {
      "displayName": "Yi Le Chen",
      "photoUrl": "",
      "userId": "15860558679717722408"
     },
     "user_tz": 420
    },
    "id": "CwRGc-B04g_c",
    "outputId": "fd1c9345-9382-4c3d-b432-65412d77ea80"
   },
   "outputs": [
    {
     "name": "stderr",
     "output_type": "stream",
     "text": [
      "/opt/conda/lib/python3.6/site-packages/matplotlib/axes/_base.py:3604: MatplotlibDeprecationWarning: \n",
      "The `ymin` argument was deprecated in Matplotlib 3.0 and will be removed in 3.2. Use `bottom` instead.\n",
      "  alternative='`bottom`', obj_type='argument')\n",
      "/opt/conda/lib/python3.6/site-packages/matplotlib/axes/_base.py:3610: MatplotlibDeprecationWarning: \n",
      "The `ymax` argument was deprecated in Matplotlib 3.0 and will be removed in 3.2. Use `top` instead.\n",
      "  alternative='`top`', obj_type='argument')\n"
     ]
    },
    {
     "data": {
      "image/png": "[encoded data removed]",
      "text/plain": [
       "<Figure size 432x288 with 1 Axes>"
      ]
     },
     "metadata": {
      "needs_background": "light"
     },
     "output_type": "display_data"
    }
   ],
   "source": [
    "# Bar graph (x-axis: genre, y-axis: percentage of repetition)\n",
    "genres = ['Country', 'EDM', 'Pop', 'R&B', 'Rap', 'Rock']\n",
    "percentages = [country_ave, EDM_ave, pop_ave, RB_ave, rap_ave, rock_ave]\n",
    "\n",
    "fig, ax = plt.subplots()    \n",
    "index = np.arange(len(genres))\n",
    "plt.bar(index, percentages)\n",
    "plt.xlabel('Genre', fontsize=12)\n",
    "plt.ylabel('Average percentage of repetition (%)', fontsize=12)\n",
    "plt.ylim(ymin=0, ymax=100) \n",
    "plt.xticks(index, genres, fontsize=10)\n",
    "plt.bar(index, percentages, color=['#b3d9ff', '#3399ff', '#66b3ff', '#4da6ff',\\\n",
    "                            '#99ccff', '#80bfff'])\n",
    "plt.title('Average percentage of repetition in song lyrics by genre', fontsize=13)\n",
    "rounded_percentages = (round(country_ave, 1), round(EDM_ave, 1), round(pop_ave, 1)\\\n",
    "                , round(RB_ave, 1), round(rap_ave, 1), round(rock_ave, 1))\n",
    "for i, v in enumerate(rounded_percentages):\n",
    "    ax.text(i - 0.22, v + 1, str(v))\n",
    "plt.show()\n",
    "\n"
   ]
  },
  {
   "cell_type": "markdown",
   "metadata": {
    "colab_type": "text",
    "id": "BqdmAHKc4g_o"
   },
   "source": [
    "The graph above shows the average percentage of repetition across all song lyrics for each genre. From it, we can see that EDM has the highest percentage repetition, closely followed by R&B and Pop. Country has the lowest. However, the range is not very large (69.1 - 57.4 = 11.7%). This suggests that songs that reach Top 100 generally have more repeating words than non-repeating ones. \n",
    "\n",
    "One inference from the graph is that having a repeating phrase (or chorus) may be a reason why songs become popular. This is because repeated phrases tend to have a catchy tune associated to them, so listeners get the catchy tune stuck in their heads, making them listen to the song more. \n",
    "\n",
    "If a songwriter wanted their song to become mainstream popular, they may want to include the amount of repetition in their song shown in the graph, based on which genre they choose. "
   ]
  },
  {
   "cell_type": "markdown",
   "metadata": {},
   "source": [
    "Create a repetition function to get the repetition percentage for each song."
   ]
  },
  {
   "cell_type": "code",
   "execution_count": 114,
   "metadata": {},
   "outputs": [],
   "source": [
    "def repetition(df):\n",
    "  lyrics = \"\"\n",
    "  repetition = list()\n",
    "\n",
    "  for index,row in df.iterrows():\n",
    "    lyrics = (row['lyrics'])\n",
    "  \n",
    "    # Remove punctuation from lyrics\n",
    "    table = str.maketrans({key: None for key in string.punctuation})\n",
    "    cleaned_lyrics = lyrics.translate(table) \n",
    "  \n",
    "    # List of strings for each word\n",
    "    split_lyrics = cleaned_lyrics.split(' ')\n",
    "  \n",
    "    # Separate unique words\n",
    "    unique_words = set(split_lyrics)\n",
    "\n",
    "    # Number of words in original lyrics\n",
    "    num_original = len(split_lyrics)\n",
    "  \n",
    "    # Number of unique words\n",
    "    num_unique = len(unique_words)\n",
    "    \n",
    "    # Find percentage of repeated words\n",
    "    percentage_unique = (num_unique/num_original)\n",
    "    percentage_repeated = 1 - percentage_unique\n",
    "  \n",
    "    repetition.append(percentage_repeated)\n",
    "  \n",
    "  df['repetition'] = repetition"
   ]
  },
  {
   "cell_type": "markdown",
   "metadata": {},
   "source": [
    "Call repetition function to add the repetition values to each song"
   ]
  },
  {
   "cell_type": "code",
   "execution_count": 115,
   "metadata": {},
   "outputs": [],
   "source": [
    "repetition(df_pop)\n",
    "repetition(df_rock)\n",
    "repetition(df_country)\n",
    "repetition(df_edm)\n",
    "repetition(df_rb)\n",
    "repetition(df_rap)"
   ]
  },
  {
   "cell_type": "code",
   "execution_count": 116,
   "metadata": {},
   "outputs": [
    {
     "data": {
      "text/html": [
       "<div>\n",
       "<style scoped>\n",
       "    .dataframe tbody tr th:only-of-type {\n",
       "        vertical-align: middle;\n",
       "    }\n",
       "\n",
       "    .dataframe tbody tr th {\n",
       "        vertical-align: top;\n",
       "    }\n",
       "\n",
       "    .dataframe thead th {\n",
       "        text-align: right;\n",
       "    }\n",
       "</style>\n",
       "<table border=\"1\" class=\"dataframe\">\n",
       "  <thead>\n",
       "    <tr style=\"text-align: right;\">\n",
       "      <th></th>\n",
       "      <th>lyrics</th>\n",
       "      <th>peak_position</th>\n",
       "      <th>year</th>\n",
       "      <th>lyrics_token</th>\n",
       "      <th>lyrics_stop</th>\n",
       "      <th>lyrics_stem</th>\n",
       "      <th>repetition</th>\n",
       "    </tr>\n",
       "  </thead>\n",
       "  <tbody>\n",
       "    <tr>\n",
       "      <th>0</th>\n",
       "      <td>Down the chimney, he will come With his great ...</td>\n",
       "      <td>42</td>\n",
       "      <td>18</td>\n",
       "      <td>[down, the, chimney, ,, he, will, come, with, ...</td>\n",
       "      <td>[chimney, ,, come, great, big, smile, find, ev...</td>\n",
       "      <td>[chimney, ,, come, great, big, smile, find, ev...</td>\n",
       "      <td>0.454545</td>\n",
       "    </tr>\n",
       "    <tr>\n",
       "      <th>1</th>\n",
       "      <td>Yeah, you supermodel thick Damn, that ass bust...</td>\n",
       "      <td>11</td>\n",
       "      <td>18</td>\n",
       "      <td>[yeah, ,, you, supermodel, thick, damn, ,, tha...</td>\n",
       "      <td>[yeah, ,, supermodel, thick, damn, ,, ass, bus...</td>\n",
       "      <td>[yeah, ,, supermodel, thick, damn, ,, ass, bus...</td>\n",
       "      <td>0.536341</td>\n",
       "    </tr>\n",
       "    <tr>\n",
       "      <th>2</th>\n",
       "      <td>Find my back in the cold Trapped in another so...</td>\n",
       "      <td>69</td>\n",
       "      <td>18</td>\n",
       "      <td>[find, my, back, in, the, cold, trapped, in, a...</td>\n",
       "      <td>[find, back, cold, trapped, another, soul, ,, ...</td>\n",
       "      <td>[find, back, cold, trap, anoth, soul, ,, hear,...</td>\n",
       "      <td>0.642412</td>\n",
       "    </tr>\n",
       "    <tr>\n",
       "      <th>3</th>\n",
       "      <td>I can still feel the love I can still feel the...</td>\n",
       "      <td>47</td>\n",
       "      <td>18</td>\n",
       "      <td>[i, can, still, feel, the, love, i, can, still...</td>\n",
       "      <td>[still, feel, love, still, feel, love, still, ...</td>\n",
       "      <td>[still, feel, love, still, feel, love, still, ...</td>\n",
       "      <td>0.538153</td>\n",
       "    </tr>\n",
       "    <tr>\n",
       "      <th>4</th>\n",
       "      <td>I love all your shit talkin' I love all your s...</td>\n",
       "      <td>67</td>\n",
       "      <td>18</td>\n",
       "      <td>[i, love, all, your, shit, talkin, ', i, love,...</td>\n",
       "      <td>[love, shit, talkin, ', love, shit, talkin, ',...</td>\n",
       "      <td>[love, expletive, talkin, ', love, expletive, ...</td>\n",
       "      <td>0.447964</td>\n",
       "    </tr>\n",
       "    <tr>\n",
       "      <th>5</th>\n",
       "      <td>Lil Dicky, ooh Mustard on the beat, ho I woke ...</td>\n",
       "      <td>8</td>\n",
       "      <td>18</td>\n",
       "      <td>[lil, dicky, ,, ooh, mustard, on, the, beat, ,...</td>\n",
       "      <td>[lil, dicky, ,, ooh, mustard, beat, ,, ho, wok...</td>\n",
       "      <td>[lil, dicki, ,, ooh, mustard, beat, ,, ho, wok...</td>\n",
       "      <td>0.599034</td>\n",
       "    </tr>\n",
       "    <tr>\n",
       "      <th>6</th>\n",
       "      <td>May I say something to you To give you a true ...</td>\n",
       "      <td>62</td>\n",
       "      <td>18</td>\n",
       "      <td>[may, i, say, something, to, you, to, give, yo...</td>\n",
       "      <td>[may, say, something, give, true, knowledge, l...</td>\n",
       "      <td>[may, say, someth, give, true, knowledg, life,...</td>\n",
       "      <td>0.526570</td>\n",
       "    </tr>\n",
       "    <tr>\n",
       "      <th>7</th>\n",
       "      <td>Some day, some day Some day I'll, I wanna wear...</td>\n",
       "      <td>16</td>\n",
       "      <td>18</td>\n",
       "      <td>[some, day, ,, some, day, some, day, i'll, ,, ...</td>\n",
       "      <td>[day, ,, day, day, i'll, ,, wanna, wear, starr...</td>\n",
       "      <td>[day, ,, day, day, i'll, ,, wanna, wear, starr...</td>\n",
       "      <td>0.609375</td>\n",
       "    </tr>\n",
       "    <tr>\n",
       "      <th>8</th>\n",
       "      <td>Yeah, they wishin' and wishin' and wishin' and...</td>\n",
       "      <td>1</td>\n",
       "      <td>18</td>\n",
       "      <td>[yeah, ,, they, wishin, ', and, wishin, ', and...</td>\n",
       "      <td>[yeah, ,, wishin, ', wishin, ', wishin, ', wis...</td>\n",
       "      <td>[yeah, ,, wishin, ', wishin, ', wishin, ', wis...</td>\n",
       "      <td>0.582133</td>\n",
       "    </tr>\n",
       "    <tr>\n",
       "      <th>9</th>\n",
       "      <td>Yeah I'm workin' on dyin' I'm upset Fifty thou...</td>\n",
       "      <td>19</td>\n",
       "      <td>18</td>\n",
       "      <td>[yeah, i'm, workin, ', on, dyin, ', i'm, upset...</td>\n",
       "      <td>[yeah, workin, ', dyin, ', upset, fifty, thous...</td>\n",
       "      <td>[yeah, workin, ', dyin, ', upset, fifti, thous...</td>\n",
       "      <td>0.500000</td>\n",
       "    </tr>\n",
       "  </tbody>\n",
       "</table>\n",
       "</div>"
      ],
      "text/plain": [
       "                                              lyrics  peak_position  year  \\\n",
       "0  Down the chimney, he will come With his great ...             42    18   \n",
       "1  Yeah, you supermodel thick Damn, that ass bust...             11    18   \n",
       "2  Find my back in the cold Trapped in another so...             69    18   \n",
       "3  I can still feel the love I can still feel the...             47    18   \n",
       "4  I love all your shit talkin' I love all your s...             67    18   \n",
       "5  Lil Dicky, ooh Mustard on the beat, ho I woke ...              8    18   \n",
       "6  May I say something to you To give you a true ...             62    18   \n",
       "7  Some day, some day Some day I'll, I wanna wear...             16    18   \n",
       "8  Yeah, they wishin' and wishin' and wishin' and...              1    18   \n",
       "9  Yeah I'm workin' on dyin' I'm upset Fifty thou...             19    18   \n",
       "\n",
       "                                        lyrics_token  \\\n",
       "0  [down, the, chimney, ,, he, will, come, with, ...   \n",
       "1  [yeah, ,, you, supermodel, thick, damn, ,, tha...   \n",
       "2  [find, my, back, in, the, cold, trapped, in, a...   \n",
       "3  [i, can, still, feel, the, love, i, can, still...   \n",
       "4  [i, love, all, your, shit, talkin, ', i, love,...   \n",
       "5  [lil, dicky, ,, ooh, mustard, on, the, beat, ,...   \n",
       "6  [may, i, say, something, to, you, to, give, yo...   \n",
       "7  [some, day, ,, some, day, some, day, i'll, ,, ...   \n",
       "8  [yeah, ,, they, wishin, ', and, wishin, ', and...   \n",
       "9  [yeah, i'm, workin, ', on, dyin, ', i'm, upset...   \n",
       "\n",
       "                                         lyrics_stop  \\\n",
       "0  [chimney, ,, come, great, big, smile, find, ev...   \n",
       "1  [yeah, ,, supermodel, thick, damn, ,, ass, bus...   \n",
       "2  [find, back, cold, trapped, another, soul, ,, ...   \n",
       "3  [still, feel, love, still, feel, love, still, ...   \n",
       "4  [love, shit, talkin, ', love, shit, talkin, ',...   \n",
       "5  [lil, dicky, ,, ooh, mustard, beat, ,, ho, wok...   \n",
       "6  [may, say, something, give, true, knowledge, l...   \n",
       "7  [day, ,, day, day, i'll, ,, wanna, wear, starr...   \n",
       "8  [yeah, ,, wishin, ', wishin, ', wishin, ', wis...   \n",
       "9  [yeah, workin, ', dyin, ', upset, fifty, thous...   \n",
       "\n",
       "                                         lyrics_stem  repetition  \n",
       "0  [chimney, ,, come, great, big, smile, find, ev...    0.454545  \n",
       "1  [yeah, ,, supermodel, thick, damn, ,, ass, bus...    0.536341  \n",
       "2  [find, back, cold, trap, anoth, soul, ,, hear,...    0.642412  \n",
       "3  [still, feel, love, still, feel, love, still, ...    0.538153  \n",
       "4  [love, expletive, talkin, ', love, expletive, ...    0.447964  \n",
       "5  [lil, dicki, ,, ooh, mustard, beat, ,, ho, wok...    0.599034  \n",
       "6  [may, say, someth, give, true, knowledg, life,...    0.526570  \n",
       "7  [day, ,, day, day, i'll, ,, wanna, wear, starr...    0.609375  \n",
       "8  [yeah, ,, wishin, ', wishin, ', wishin, ', wis...    0.582133  \n",
       "9  [yeah, workin, ', dyin, ', upset, fifti, thous...    0.500000  "
      ]
     },
     "execution_count": 116,
     "metadata": {},
     "output_type": "execute_result"
    }
   ],
   "source": [
    "# New data format\n",
    "df_rap.head(10)"
   ]
  },
  {
   "cell_type": "markdown",
   "metadata": {},
   "source": [
    "We then see if the repetition values are normally distributed by using the stats.normaltest function. The code will print when a particular dataset, in this case EDM, is not normally distributed using a significance value of 0.001."
   ]
  },
  {
   "cell_type": "code",
   "execution_count": 117,
   "metadata": {},
   "outputs": [
    {
     "name": "stdout",
     "output_type": "stream",
     "text": [
      "EDM Repetition is not normally distributed!!!!\n"
     ]
    }
   ],
   "source": [
    "alpha = 1e-3\n",
    "\n",
    "k,p = stats.normaltest(df_pop['repetition'])\n",
    "if p > alpha:\n",
    "  print(\"Pop Repetition is not normally distributed!!!!\")\n",
    "k,p = stats.normaltest(df_rap['repetition'])\n",
    "if p > alpha:\n",
    "  print(\"Rap Repetition is not normally distributed!!!!\")\n",
    "k,p = stats.normaltest(df_edm['repetition'])\n",
    "if p > alpha:\n",
    "  print(\"EDM Repetition is not normally distributed!!!!\")\n",
    "k,p = stats.normaltest(df_rock['repetition'])\n",
    "if p > alpha:\n",
    "  print(\"Rock Repetition is not normally distributed!!!!\")\n",
    "k,p = stats.normaltest(df_country['repetition'])\n",
    "if p > alpha:\n",
    "  print(\"Country Repetition is not normally distributed!!!!\")\n",
    "k,p = stats.normaltest(df_rb['repetition'])\n",
    "if p > alpha:\n",
    "  print(\"R&B Repetition is not not normally distributed!!!!\")"
   ]
  },
  {
   "cell_type": "markdown",
   "metadata": {},
   "source": [
    "This code calculated the standard deviation of each genre's repetition value in order for us to verify that they are similar in order to use ANOVA."
   ]
  },
  {
   "cell_type": "code",
   "execution_count": 118,
   "metadata": {},
   "outputs": [
    {
     "name": "stdout",
     "output_type": "stream",
     "text": [
      "Pop standard deviation = 0.0955605782558\n",
      "Rap standard deviation = 0.10908971389\n",
      "EDM standard deviation = 0.0926869348137\n",
      "R&B standard deviation = 0.0946262528298\n",
      "Rock standard deviation = 0.142084883985\n",
      "Country standard deviation = 0.136031426538\n"
     ]
    }
   ],
   "source": [
    "pop_std = stats.tstd(df_pop['repetition'])\n",
    "rap_std = stats.tstd(df_rap['repetition'])\n",
    "edm_std = stats.tstd(df_edm['repetition'])\n",
    "rnb_std = stats.tstd(df_rb['repetition'])\n",
    "rock_std = stats.tstd(df_rock['repetition'])\n",
    "country_std = stats.tstd(df_country['repetition'])\n",
    "\n",
    "print(\"Pop standard deviation = \"+str(pop_std))\n",
    "print(\"Rap standard deviation = \"+str(rap_std))\n",
    "print(\"EDM standard deviation = \"+str(edm_std))\n",
    "print(\"R&B standard deviation = \"+str(rnb_std))\n",
    "print(\"Rock standard deviation = \"+str(rock_std))\n",
    "print(\"Country standard deviation = \"+str(country_std))"
   ]
  },
  {
   "cell_type": "markdown",
   "metadata": {},
   "source": [
    "This code calls stats' anova function and returns a p value that we then use to conclude that there is indeed significant difference between the genres for repetition."
   ]
  },
  {
   "cell_type": "code",
   "execution_count": 139,
   "metadata": {},
   "outputs": [
    {
     "name": "stdout",
     "output_type": "stream",
     "text": [
      "There is a significant difference between the groups.\n",
      "There is an effect on repetition of being in different genres.\n"
     ]
    }
   ],
   "source": [
    "f, p = stats.f_oneway(df_pop['repetition'],df_rap['repetition'],\\\n",
    "        df_rock['repetition'],df_country['repetition'],\\\n",
    "        df_rb['repetition'])\n",
    "\n",
    "alpha = 5e-3\n",
    "if p < alpha:\n",
    "    print(\"There is a significant difference between the groups.\")\n",
    "    print(\"There is an effect on repetition of being in different genres.\")"
   ]
  },
  {
   "cell_type": "markdown",
   "metadata": {
    "colab_type": "text",
    "id": "4Iw8GwNkkasl"
   },
   "source": [
    "## Analysis Part 3: Popular Genres\n",
    "\n",
    "We wanted to see how the trend of different genres in top charts changed over the past 10 years to get clarity on which genre is the most popular. Consequently, this information allows us to help aspiring artists decide on which genre they want to get into in order to be as successful as they can be, assuming they are flexible about the type of music they create.  "
   ]
  },
  {
   "cell_type": "code",
   "execution_count": 32,
   "metadata": {},
   "outputs": [],
   "source": [
    "def truncate(value):\n",
    "  return float('%.3f'%(value))\n",
    "\n",
    "def addCounts(total_counts,df,genre_count):\n",
    "  for i in range(0,len(df)):\n",
    "    song = df.loc[i]\n",
    "    year = song.year - 9 # changed to 0-9 for the list access\n",
    "    total_counts[year] = total_counts[year] + 1\n",
    "    genre_count[year] = genre_count[year] + 1\n",
    "  \n",
    "def calculatePercent(total_counts,genre_count,percent_list):\n",
    "  for i in range(0,len(genre_count)):\n",
    "    percent_list[i] = truncate(genre_count[i]/total_counts[i]*100)"
   ]
  },
  {
   "cell_type": "markdown",
   "metadata": {},
   "source": [
    "This code will initialize the count lists for each genre. Total_counts holds the number of total songs in each year. index 0 = 2009, index 9 = 2018. Count_genre will hold the counts of songs for that year. Percent_genre will hold the calculated percents of each genre for that years total songs."
   ]
  },
  {
   "cell_type": "code",
   "execution_count": 102,
   "metadata": {
    "colab": {
     "base_uri": "https://localhost:8080/",
     "height": 283
    },
    "colab_type": "code",
    "executionInfo": {
     "elapsed": 1930,
     "status": "ok",
     "timestamp": 1560144127132,
     "user": {
      "displayName": "George Hong",
      "photoUrl": "",
      "userId": "18142910383263799079"
     },
     "user_tz": 420
    },
    "id": "yuwXKdE3leUp",
    "outputId": "62fd85e2-8779-4a41-9e2d-03458e4dd993"
   },
   "outputs": [],
   "source": [
    "# Code for Graph 3\n",
    "\n",
    "# initialize count lists\n",
    "total_counts = [0]*10\n",
    "count_pop = [0]*10\n",
    "count_rap = [0]*10\n",
    "count_country = [0]*10\n",
    "count_rock = [0]*10\n",
    "count_edm = [0]*10\n",
    "count_rnb = [0]*10\n",
    "\n",
    "percent_pop = [0]*10\n",
    "percent_rap = [0]*10\n",
    "percent_rock = [0]*10\n",
    "percent_country = [0]*10\n",
    "percent_rnb = [0]*10\n",
    "percent_edm = [0]*10"
   ]
  },
  {
   "cell_type": "markdown",
   "metadata": {},
   "source": [
    "This code block calls two functions on each genre, addCounts and calculatePercent. AddCounts will loop through the dataset and increase the counter on total_counts and count_genre, in the index corresponding to the year. CalculatePercent will then use those counts to calculate the percentage of songs of a particular genre in that year, and then save it to the corresponding index in percent_genre."
   ]
  },
  {
   "cell_type": "code",
   "execution_count": 103,
   "metadata": {},
   "outputs": [],
   "source": [
    "# Count each genre each year\n",
    "addCounts(total_counts,df_pop,count_pop)\n",
    "addCounts(total_counts,df_rap,count_rap)\n",
    "addCounts(total_counts,df_rb,count_rnb)\n",
    "addCounts(total_counts,df_rock,count_rock)\n",
    "addCounts(total_counts,df_country,count_country)\n",
    "addCounts(total_counts,df_edm,count_edm)\n",
    "\n",
    "# Calculate Percentages\n",
    "calculatePercent(total_counts,count_pop,percent_pop)\n",
    "calculatePercent(total_counts,count_rap,percent_rap)\n",
    "calculatePercent(total_counts,count_country,percent_country)\n",
    "calculatePercent(total_counts,count_edm,percent_edm)\n",
    "calculatePercent(total_counts,count_rock,percent_rock)\n",
    "calculatePercent(total_counts,count_rnb,percent_rnb)"
   ]
  },
  {
   "cell_type": "code",
   "execution_count": 104,
   "metadata": {},
   "outputs": [
    {
     "data": {
      "text/plain": [
       "Text(0, 0.5, 'Percentage of Songs in Top 100')"
      ]
     },
     "execution_count": 104,
     "metadata": {},
     "output_type": "execute_result"
    },
    {
     "data": {
      "image/png": "[encoded data removed]",
      "text/plain": [
       "<Figure size 432x288 with 1 Axes>"
      ]
     },
     "metadata": {
      "needs_background": "light"
     },
     "output_type": "display_data"
    }
   ],
   "source": [
    "# Graph it\n",
    "x = [2009,2010,2011,2012,2013,2014,2015,2016,2017,2018]\n",
    "plt.plot(x,percent_pop,'bv-',label = \"Pop\")\n",
    "plt.plot(x,percent_rnb,'rv-',label =\"R&B\")\n",
    "plt.plot(x,percent_country,'go-',label =\"Country\")\n",
    "plt.plot(x,percent_rock,'yo-',label =\"Rock\")\n",
    "plt.plot(x,percent_rap,'co-',label =\"Rap\")\n",
    "plt.plot(x,percent_edm,'mo-',label =\"EDM\")\n",
    "plt.legend(loc='upper center', bbox_to_anchor=(0.5, 1.00), shadow=True, ncol=2)\n",
    "plt.xlabel(\"Year\", fontsize = 10)\n",
    "plt.ylabel(\"Percentage of Songs in Top 100\", fontsize = 10)"
   ]
  },
  {
   "cell_type": "markdown",
   "metadata": {
    "colab_type": "text",
    "id": "iYu3NEOll6kX"
   },
   "source": [
    "This graph shows each genre plotted as a line. The points indicate percentage of songs in top 100 for each year in a 10 year period from 2009-2018. The colorblindness colors(RG, BY) are separated into different shapes for markers. This can be seen as the triangle points for R&B(red) and Pop(blue). The x-axis shows the year and the y-axis shows the percentage of songs of that genre. \n",
    "\n",
    "\n",
    "Most of the genres have percentages between 10 and 50% excluding EDM which sports a measly 3-6%. Pop and Country are fairly stable over these last 10 years whereas R&B and Rock seem to have been losing popularity. This seems to fit our observations of songs nowadays as we don't hear R&B and Rock too often on the radio unless they are from hit singers/bands from many years back(Panic at the Disco comes to mind). EDM does seem to be steadily increasing in popularity which could be attributed to the gaining popularity of raves and its culture. \n",
    "\n",
    "Rap is the only genre that seems to be gaining more popularity as it is encompassing more and more of top 100 songs reaching 46% in 2017. This seems to correspond to the increasing popularity of \"Mumble Rap\" which has come into existence in the last some years. There are still many rap artists popping up everyday. Pop had a unbelievably drastic increase in 2018 which could be due to all types of genres adapting a more pop-focused composition resulting in a primary classification of pop(such as pop edm). \n",
    "\n",
    "This data is telling us that if you're looking to make it big in the music industry and you want to make music in rock or R&B, you might want to reconsider your genre."
   ]
  },
  {
   "cell_type": "markdown",
   "metadata": {
    "colab_type": "text",
    "id": "h34ZsfKc5TAg"
   },
   "source": [
    "## Analysis Part 4: Polarity\n",
    "\n",
    "Using VADER Sentiment Analysis, the compound score for each song can be calculated. The compound score provides a measure of polarity, ranging from -1 (very negative) to +1 (very positive). This gives us an understanding of how positive or negative the lyrics in a song are. We average this out per year per genre. "
   ]
  },
  {
   "cell_type": "code",
   "execution_count": 34,
   "metadata": {
    "colab": {
     "base_uri": "https://localhost:8080/",
     "height": 52
    },
    "colab_type": "code",
    "executionInfo": {
     "elapsed": 384,
     "status": "ok",
     "timestamp": 1560203118133,
     "user": {
      "displayName": "Yi Le Chen",
      "photoUrl": "",
      "userId": "15860558679717722408"
     },
     "user_tz": 420
    },
    "id": "vAgzwmFx7C42",
    "outputId": "0c41bb9b-c648-4ca2-b8b9-1e6dbe48e60d"
   },
   "outputs": [
    {
     "name": "stdout",
     "output_type": "stream",
     "text": [
      "[nltk_data] Downloading package vader_lexicon to\n",
      "[nltk_data]     /home/bcchong/nltk_data...\n",
      "[nltk_data]   Package vader_lexicon is already up-to-date!\n"
     ]
    }
   ],
   "source": [
    "nltk.download('vader_lexicon')\n",
    "from nltk.sentiment.vader import SentimentIntensityAnalyzer"
   ]
  },
  {
   "cell_type": "code",
   "execution_count": 35,
   "metadata": {
    "colab": {},
    "colab_type": "code",
    "id": "9DC-zGgC8NGi"
   },
   "outputs": [],
   "source": [
    "analyzer = SentimentIntensityAnalyzer()"
   ]
  },
  {
   "cell_type": "markdown",
   "metadata": {
    "colab_type": "text",
    "id": "4JKPNvyYUxT2"
   },
   "source": [
    "This function obtains sentiment information (compound, pos, neg, neu). We will only look at the compound score as a measure for polarity. "
   ]
  },
  {
   "cell_type": "code",
   "execution_count": 36,
   "metadata": {
    "colab": {},
    "colab_type": "code",
    "id": "nrRevkFIVzob"
   },
   "outputs": [],
   "source": [
    "# Function that outputs DataFrame that stores sentiment information\n",
    "sum_compound = 0\n",
    "def get_sentiments(input_list):\n",
    "  output = pd.DataFrame()\n",
    "  \n",
    "  for lyrics in input_list:\n",
    "    scores = analyzer.polarity_scores(lyrics)\n",
    "    output = output.append(scores, ignore_index=True)\n",
    "  \n",
    "  return output"
   ]
  },
  {
   "cell_type": "markdown",
   "metadata": {
    "colab_type": "text",
    "id": "C7BbAGm0VL1u"
   },
   "source": [
    "For each song, we analyze the lyrics through VADER. For all the songs in one year, the compound scores are added up. Then, the average is taken. This is done for each genre, which is stated in the comments (the code is the same for each genre). "
   ]
  },
  {
   "cell_type": "code",
   "execution_count": 37,
   "metadata": {
    "colab": {},
    "colab_type": "code",
    "id": "3TP-WeqQCTuG"
   },
   "outputs": [],
   "source": [
    "############# POP #############\n",
    "\n",
    "# Turn the lyrics for each year and into a list\n",
    "pop_lists = list()\n",
    "for i in range(9, 19):\n",
    "  pop_lists.append(list(df_pop[df_pop['year']==i].lyrics))\n",
    "  \n",
    "  \n",
    "# Get the sentiments and compound score for each year(2009-2018), then average\n",
    "pop_compound_per_year = list()\n",
    "\n",
    "for i in pop_lists:\n",
    "  sum_compound_per_year = 0\n",
    "  count = 0\n",
    "  pop_sentiments = get_sentiments(i)\n",
    "  for index, row in pop_sentiments.iterrows():\n",
    "    val = pop_sentiments.iloc[index]['compound']\n",
    "    sum_compound_per_year += val\n",
    "    count += 1\n",
    "  pop_ave_per_year = sum_compound_per_year/count\n",
    "  pop_compound_per_year.append(pop_ave_per_year)"
   ]
  },
  {
   "cell_type": "code",
   "execution_count": 38,
   "metadata": {
    "colab": {},
    "colab_type": "code",
    "id": "pRS0pcOCeyxc"
   },
   "outputs": [],
   "source": [
    "############# COUNTRY #############\n",
    "\n",
    "# Turn the lyrics for each year and into a list\n",
    "country_lists = list()\n",
    "for i in range(9, 19):\n",
    "  country_lists.append(list(df_country[df_country['year']==i].lyrics))\n",
    "  \n",
    "  \n",
    "# Get the sentiments and compound score for each year(2009-2018), then average\n",
    "country_compound_per_year = list()\n",
    "\n",
    "for i in country_lists:\n",
    "  sum_compound_per_year = 0\n",
    "  count = 0\n",
    "  country_sentiments = get_sentiments(i)\n",
    "  for index, row in country_sentiments.iterrows():\n",
    "    val = country_sentiments.iloc[index]['compound']\n",
    "    sum_compound_per_year += val\n",
    "    count += 1\n",
    "  country_ave_per_year = sum_compound_per_year/count\n",
    "  country_compound_per_year.append(country_ave_per_year)"
   ]
  },
  {
   "cell_type": "code",
   "execution_count": 39,
   "metadata": {
    "colab": {},
    "colab_type": "code",
    "id": "K15Mufrmflpc"
   },
   "outputs": [],
   "source": [
    "############# EDM #############\n",
    "\n",
    "# Turn the lyrics for each year and into a list\n",
    "EDM_lists = list()\n",
    "for i in range(9, 19):\n",
    "  EDM_lists.append(list(df_edm[df_edm['year']==i].lyrics))\n",
    "  \n",
    "  \n",
    "# Get the sentiments and compound score for each year(2009-2018), then average\n",
    "EDM_compound_per_year = list()\n",
    "\n",
    "for i in EDM_lists:\n",
    "  sum_compound_per_year = 0\n",
    "  count = 0\n",
    "  EDM_sentiments = get_sentiments(i)\n",
    "  for index, row in EDM_sentiments.iterrows():\n",
    "    val = EDM_sentiments.iloc[index]['compound']\n",
    "    sum_compound_per_year += val\n",
    "    count += 1\n",
    "  EDM_ave_per_year = sum_compound_per_year/count\n",
    "  EDM_compound_per_year.append(EDM_ave_per_year)"
   ]
  },
  {
   "cell_type": "code",
   "execution_count": 40,
   "metadata": {
    "colab": {},
    "colab_type": "code",
    "id": "6E7YzFUgf5Oq"
   },
   "outputs": [],
   "source": [
    "############# R&B #############\n",
    "\n",
    "# Turn the lyrics for each year and into a list\n",
    "RB_lists = list()\n",
    "for i in range(9, 19):\n",
    "  RB_lists.append(list(df_rb[df_rb['year']==i].lyrics))\n",
    "  \n",
    "  \n",
    "# Get the sentiments and compound score for each year(2009-2018), then average\n",
    "RB_compound_per_year = list()\n",
    "\n",
    "for i in RB_lists:\n",
    "  sum_compound_per_year = 0\n",
    "  count = 0\n",
    "  RB_sentiments = get_sentiments(i)\n",
    "  for index, row in RB_sentiments.iterrows():\n",
    "    val = RB_sentiments.iloc[index]['compound']\n",
    "    sum_compound_per_year += val\n",
    "    count += 1\n",
    "  RB_ave_per_year = sum_compound_per_year/count\n",
    "  RB_compound_per_year.append(RB_ave_per_year)"
   ]
  },
  {
   "cell_type": "code",
   "execution_count": 41,
   "metadata": {
    "colab": {},
    "colab_type": "code",
    "id": "Ju9ppXgHgSGR"
   },
   "outputs": [],
   "source": [
    "############# RAP #############\n",
    "\n",
    "# Turn the lyrics for each year and into a list\n",
    "rap_lists = list()\n",
    "for i in range(9, 19):\n",
    "  rap_lists.append(list(df_rap[df_rap['year']==i].lyrics))\n",
    "  \n",
    "  \n",
    "# Get the sentiments and compound score for each year(2009-2018), then average\n",
    "rap_compound_per_year = list()\n",
    "\n",
    "for i in rap_lists:\n",
    "  sum_compound_per_year = 0\n",
    "  count = 0\n",
    "  rap_sentiments = get_sentiments(i)\n",
    "  for index, row in rap_sentiments.iterrows():\n",
    "    val = rap_sentiments.iloc[index]['compound']\n",
    "    sum_compound_per_year += val\n",
    "    count += 1\n",
    "  rap_ave_per_year = sum_compound_per_year/count\n",
    "  rap_compound_per_year.append(rap_ave_per_year)"
   ]
  },
  {
   "cell_type": "code",
   "execution_count": 42,
   "metadata": {
    "colab": {},
    "colab_type": "code",
    "id": "wFnli-CPgfdc"
   },
   "outputs": [],
   "source": [
    "############# ROCK #############\n",
    "\n",
    "# Turn the lyrics for each year and into a list\n",
    "rock_lists = list()\n",
    "for i in range(9, 19):\n",
    "  rock_lists.append(list(df_rock[df_rock['year']==i].lyrics))\n",
    "  \n",
    "  \n",
    "# Get the sentiments and compound score for each year(2009-2018), then average\n",
    "rock_compound_per_year = list()\n",
    "\n",
    "for i in rock_lists:\n",
    "  sum_compound_per_year = 0\n",
    "  count = 0\n",
    "  rock_sentiments = get_sentiments(i)\n",
    "  for index, row in rock_sentiments.iterrows():\n",
    "    val = rock_sentiments.iloc[index]['compound']\n",
    "    sum_compound_per_year += val\n",
    "    count += 1\n",
    "  rock_ave_per_year = sum_compound_per_year/count\n",
    "  rock_compound_per_year.append(rock_ave_per_year)"
   ]
  },
  {
   "cell_type": "markdown",
   "metadata": {
    "colab_type": "text",
    "id": "wXpVee8AWTek"
   },
   "source": [
    "Create a line graph showing polarity vs. year. Each line represents one genre. There is a dotted line going through polarity=0, just for easier visualization of which area is positive/negative. "
   ]
  },
  {
   "cell_type": "code",
   "execution_count": 43,
   "metadata": {
    "colab": {
     "base_uri": "https://localhost:8080/",
     "height": 459
    },
    "colab_type": "code",
    "executionInfo": {
     "elapsed": 704,
     "status": "ok",
     "timestamp": 1560206519383,
     "user": {
      "displayName": "Yi Le Chen",
      "photoUrl": "",
      "userId": "15860558679717722408"
     },
     "user_tz": 420
    },
    "id": "9hijs4B8EW5S",
    "outputId": "250014e8-6655-4473-ad24-06e79d11d526"
   },
   "outputs": [
    {
     "name": "stderr",
     "output_type": "stream",
     "text": [
      "/opt/conda/lib/python3.6/site-packages/matplotlib/axes/_base.py:3604: MatplotlibDeprecationWarning: \n",
      "The `ymin` argument was deprecated in Matplotlib 3.0 and will be removed in 3.2. Use `bottom` instead.\n",
      "  alternative='`bottom`', obj_type='argument')\n",
      "/opt/conda/lib/python3.6/site-packages/matplotlib/axes/_base.py:3610: MatplotlibDeprecationWarning: \n",
      "The `ymax` argument was deprecated in Matplotlib 3.0 and will be removed in 3.2. Use `top` instead.\n",
      "  alternative='`top`', obj_type='argument')\n"
     ]
    },
    {
     "data": {
      "image/png": "[encoded data removed]",
      "text/plain": [
       "<Figure size 432x288 with 1 Axes>"
      ]
     },
     "metadata": {
      "needs_background": "light"
     },
     "output_type": "display_data"
    }
   ],
   "source": [
    "# Line graph (x-axis: year, y-axis: polarity value)\n",
    "# years = [2009, 2010, 2011, 2012, 2013, 2014, 2015, 2016, 2017, 2018]\n",
    "# compound_scores = pop_sentiments_2018['compound']\n",
    "\n",
    "x = [2009,2010,2011,2012,2013,2014,2015,2016,2017,2018]\n",
    "u = [2009,2010,2011,2012,2013,2014,2015,2016,2017,2018]\n",
    "v = [0, 0, 0, 0, 0, 0, 0, 0, 0, 0]\n",
    "plt.plot(u, v, ':k')\n",
    "plt.plot(x, pop_compound_per_year,'bv-',label = \"Pop\")\n",
    "plt.plot(x, RB_compound_per_year ,'rv-',label =\"R&B\")\n",
    "plt.plot(x, country_compound_per_year,'go-',label =\"Country\")\n",
    "plt.plot(x, rock_compound_per_year ,'yo-',label =\"Rock\")\n",
    "plt.plot(x, rap_compound_per_year ,'co-',label =\"Rap\")\n",
    "plt.plot(x, EDM_compound_per_year ,'mo-',label =\"EDM\")\n",
    "plt.ylim(ymin=-1, ymax=1) \n",
    "plt.legend(loc=8, bbox_to_anchor=(0.5, 1.00), shadow=True, ncol=2)\n",
    "plt.title('How positive/negative songs are in each genre by year', y=1.27)\n",
    "plt.xlabel(\"Year\", fontsize = 10)\n",
    "plt.ylabel(\"Polarity\", fontsize = 10)\n",
    "plt.show()"
   ]
  },
  {
   "cell_type": "markdown",
   "metadata": {
    "colab_type": "text",
    "id": "-AwVbBR_zWiA"
   },
   "source": [
    "The general trend across genres in this graph is that songs that become popular tend to be more positive than negative. The most obvious deviation from this trend is Rap. Rap has mostly been negative, with the exception of 2009 and 2016. This result is not surprising because Rap songs tend to discuss life issues as well as gang related violence. Another noticeable change in time is the trend for Rock. Rock has significantly decreased in positivity from 2017 to 2018, going from mostly positive, to more negative. EDM saw a sharp decrease from 2014 to 2015, but generally stays in the positive area. Country has been stable in being positive. R&B is at a decreasing trend across the years, with 2018 being the most negative compared to previous years. \n",
    "\n",
    "From this graph, we can infer that Rap songs have topics that are more negative compared to the rest of the genres. This could be because Rap song lyrics tend to have more words, allowing for heavier topics to be discussed in-depth. \n",
    "\n",
    "If a songwriter wanted to figure out how positive or negative they should write their songs, this graph is a good judgement of where to start. \n"
   ]
  },
  {
   "cell_type": "markdown",
   "metadata": {},
   "source": [
    "Create a polarity function to get the polarity percentage for each song."
   ]
  },
  {
   "cell_type": "code",
   "execution_count": 120,
   "metadata": {},
   "outputs": [],
   "source": [
    "def polarity(df):\n",
    "  lyrics = \"\"\n",
    "  compounds = list()\n",
    "\n",
    "  for index,row in df.iterrows():\n",
    "    lyrics = (row['lyrics'])\n",
    "    scores = analyzer.polarity_scores(lyrics)\n",
    "    compounds.append(scores['compound'])\n",
    "    \n",
    "  df['polarity'] = compounds"
   ]
  },
  {
   "cell_type": "markdown",
   "metadata": {},
   "source": [
    "Call the polarity function on the dataframes"
   ]
  },
  {
   "cell_type": "code",
   "execution_count": 121,
   "metadata": {},
   "outputs": [],
   "source": [
    "polarity(df_pop)\n",
    "polarity(df_rock)\n",
    "polarity(df_country)\n",
    "polarity(df_edm)\n",
    "polarity(df_rb)\n",
    "polarity(df_rap)"
   ]
  },
  {
   "cell_type": "markdown",
   "metadata": {},
   "source": [
    "This code block will use the stats.normaltest function to see whether the genre_df's polarity values are normally distributed. According to this they are all normally distributed with a significance alpha of 0.001"
   ]
  },
  {
   "cell_type": "code",
   "execution_count": 122,
   "metadata": {},
   "outputs": [
    {
     "name": "stdout",
     "output_type": "stream",
     "text": [
      "Rap Polarity is not normally distributed!!!!\n"
     ]
    }
   ],
   "source": [
    "alpha = 1e-3\n",
    "\n",
    "k,p = stats.normaltest(df_pop['polarity'])\n",
    "if p > alpha:\n",
    "  print(\"Pop Polarity is not normally distributed!!!!\")\n",
    "k,p = stats.normaltest(df_rap['polarity'])\n",
    "if p > alpha:\n",
    "  print(\"Rap Polarity is not normally distributed!!!!\")\n",
    "k,p = stats.normaltest(df_edm['polarity'])\n",
    "if p > alpha:\n",
    "  print(\"EDM Polarity is not normally distributed!!!!\")\n",
    "k,p = stats.normaltest(df_rock['polarity'])\n",
    "if p > alpha:\n",
    "  print(\"Rock Polarity is not normally distributed!!!!\")\n",
    "k,p = stats.normaltest(df_country['polarity'])\n",
    "if p > alpha:\n",
    "  print(\"Country Polarity is not normally distributed!!!!\")\n",
    "k,p = stats.normaltest(df_rb['polarity'])\n",
    "if p > alpha:\n",
    "  print(\"R&B Polarity is not not normally distributed!!!!\")"
   ]
  },
  {
   "cell_type": "markdown",
   "metadata": {},
   "source": [
    "This code block calls the tstd function to get the standard deviation of each genre's polarity to make sure they are similar before we put it into ANOVA."
   ]
  },
  {
   "cell_type": "code",
   "execution_count": 123,
   "metadata": {},
   "outputs": [
    {
     "name": "stdout",
     "output_type": "stream",
     "text": [
      "Pop standard deviation = 0.834423293529\n",
      "Rap standard deviation = 0.926146898341\n",
      "EDM standard deviation = 0.838342532034\n",
      "R&B standard deviation = 0.829298355656\n",
      "Rock standard deviation = 0.840001811247\n",
      "Country standard deviation = 0.702344813181\n"
     ]
    }
   ],
   "source": [
    "pop_std = stats.tstd(df_pop['polarity'])\n",
    "rap_std = stats.tstd(df_rap['polarity'])\n",
    "edm_std = stats.tstd(df_edm['polarity'])\n",
    "rnb_std = stats.tstd(df_rb['polarity'])\n",
    "rock_std = stats.tstd(df_rock['polarity'])\n",
    "country_std = stats.tstd(df_country['polarity'])\n",
    "\n",
    "print(\"Pop standard deviation = \"+str(pop_std))\n",
    "print(\"Rap standard deviation = \"+str(rap_std))\n",
    "print(\"EDM standard deviation = \"+str(edm_std))\n",
    "print(\"R&B standard deviation = \"+str(rnb_std))\n",
    "print(\"Rock standard deviation = \"+str(rock_std))\n",
    "print(\"Country standard deviation = \"+str(country_std))"
   ]
  },
  {
   "cell_type": "markdown",
   "metadata": {},
   "source": [
    "We call stats' ANOVA function and get a p value that we compare against a 0.005 significance alpha and conclude that there is a significant difference between the genres for polarity."
   ]
  },
  {
   "cell_type": "code",
   "execution_count": 136,
   "metadata": {},
   "outputs": [
    {
     "name": "stdout",
     "output_type": "stream",
     "text": [
      "There is a significant difference between the groups.\n",
      "There is an effect on polarity of being in different genres.\n"
     ]
    }
   ],
   "source": [
    "f, p = stats.f_oneway(df_edm['polarity'],df_pop['polarity'],df_rap['polarity'],\\\n",
    "                df_rock['polarity'],df_country['polarity'],df_rb['polarity'])\n",
    "\n",
    "alpha = 5e-3\n",
    "if p < alpha:\n",
    "    print(\"There is a significant difference between the groups.\") \n",
    "    print(\"There is an effect on polarity of being in different genres.\")"
   ]
  },
  {
   "cell_type": "markdown",
   "metadata": {},
   "source": [
    "## Analysis Part 5: Multiple Linear Regression\n",
    "We normalize the peak_position values for each song and compare this variable with the repetition and polarity values for the songs in each genre. We want to know whether there is a higher correlation between these values depending on the genre."
   ]
  },
  {
   "cell_type": "markdown",
   "metadata": {},
   "source": [
    "Create functions to normalize the peak_position values for each song so they can be used in the multi linear regression."
   ]
  },
  {
   "cell_type": "code",
   "execution_count": 125,
   "metadata": {},
   "outputs": [],
   "source": [
    "# Create function to normalize the peak position on the top 100 Billboard\n",
    "def normalizePop(num):\n",
    "    return 1 - num/df_pop['peak_position'].max()\n",
    "def normalizeCountry(num):\n",
    "    return 1- num/df_country['peak_position'].max()\n",
    "def normalizeEdm(num):\n",
    "    return 1 - num/df_edm['peak_position'].max()\n",
    "def normalizeRap(num):\n",
    "    return 1 - num/df_rap['peak_position'].max()\n",
    "def normalizeRB(num):\n",
    "    return 1 - num/df_rb['peak_position'].max()\n",
    "def normalizeRock(num):\n",
    "    return 1 - num/df_rock['peak_position'].max()\n",
    "  \n",
    "# Normalize peak position for each genre\n",
    "df_pop['peak_position'] = df_pop['peak_position'].apply(normalizePop)\n",
    "df_country['peak_position'] = df_country['peak_position'].apply(normalizeCountry)\n",
    "df_edm['peak_position'] = df_edm['peak_position'].apply(normalizeEdm)\n",
    "df_rap['peak_position'] = df_rap['peak_position'].apply(normalizeRap)\n",
    "df_rb['peak_position'] = df_rb['peak_position'].apply(normalizeRB)\n",
    "df_rock['peak_position'] = df_rock['peak_position'].apply(normalizeRock)"
   ]
  },
  {
   "cell_type": "code",
   "execution_count": 126,
   "metadata": {},
   "outputs": [
    {
     "data": {
      "text/html": [
       "<div>\n",
       "<style scoped>\n",
       "    .dataframe tbody tr th:only-of-type {\n",
       "        vertical-align: middle;\n",
       "    }\n",
       "\n",
       "    .dataframe tbody tr th {\n",
       "        vertical-align: top;\n",
       "    }\n",
       "\n",
       "    .dataframe thead th {\n",
       "        text-align: right;\n",
       "    }\n",
       "</style>\n",
       "<table border=\"1\" class=\"dataframe\">\n",
       "  <thead>\n",
       "    <tr style=\"text-align: right;\">\n",
       "      <th></th>\n",
       "      <th>lyrics</th>\n",
       "      <th>peak_position</th>\n",
       "      <th>year</th>\n",
       "      <th>lyrics_token</th>\n",
       "      <th>lyrics_stop</th>\n",
       "      <th>lyrics_stem</th>\n",
       "      <th>repetition</th>\n",
       "      <th>polarity</th>\n",
       "    </tr>\n",
       "  </thead>\n",
       "  <tbody>\n",
       "    <tr>\n",
       "      <th>0</th>\n",
       "      <td>Down the chimney, he will come With his great ...</td>\n",
       "      <td>0.58</td>\n",
       "      <td>18</td>\n",
       "      <td>[down, the, chimney, ,, he, will, come, with, ...</td>\n",
       "      <td>[chimney, ,, come, great, big, smile, find, ev...</td>\n",
       "      <td>[chimney, ,, come, great, big, smile, find, ev...</td>\n",
       "      <td>0.454545</td>\n",
       "      <td>0.2563</td>\n",
       "    </tr>\n",
       "    <tr>\n",
       "      <th>1</th>\n",
       "      <td>Yeah, you supermodel thick Damn, that ass bust...</td>\n",
       "      <td>0.89</td>\n",
       "      <td>18</td>\n",
       "      <td>[yeah, ,, you, supermodel, thick, damn, ,, tha...</td>\n",
       "      <td>[yeah, ,, supermodel, thick, damn, ,, ass, bus...</td>\n",
       "      <td>[yeah, ,, supermodel, thick, damn, ,, ass, bus...</td>\n",
       "      <td>0.536341</td>\n",
       "      <td>-0.9954</td>\n",
       "    </tr>\n",
       "    <tr>\n",
       "      <th>2</th>\n",
       "      <td>Find my back in the cold Trapped in another so...</td>\n",
       "      <td>0.31</td>\n",
       "      <td>18</td>\n",
       "      <td>[find, my, back, in, the, cold, trapped, in, a...</td>\n",
       "      <td>[find, back, cold, trapped, another, soul, ,, ...</td>\n",
       "      <td>[find, back, cold, trap, anoth, soul, ,, hear,...</td>\n",
       "      <td>0.642412</td>\n",
       "      <td>0.9994</td>\n",
       "    </tr>\n",
       "    <tr>\n",
       "      <th>3</th>\n",
       "      <td>I can still feel the love I can still feel the...</td>\n",
       "      <td>0.53</td>\n",
       "      <td>18</td>\n",
       "      <td>[i, can, still, feel, the, love, i, can, still...</td>\n",
       "      <td>[still, feel, love, still, feel, love, still, ...</td>\n",
       "      <td>[still, feel, love, still, feel, love, still, ...</td>\n",
       "      <td>0.538153</td>\n",
       "      <td>0.9986</td>\n",
       "    </tr>\n",
       "    <tr>\n",
       "      <th>4</th>\n",
       "      <td>I love all your shit talkin' I love all your s...</td>\n",
       "      <td>0.33</td>\n",
       "      <td>18</td>\n",
       "      <td>[i, love, all, your, shit, talkin, ', i, love,...</td>\n",
       "      <td>[love, shit, talkin, ', love, shit, talkin, ',...</td>\n",
       "      <td>[love, expletive, talkin, ', love, expletive, ...</td>\n",
       "      <td>0.447964</td>\n",
       "      <td>-0.6080</td>\n",
       "    </tr>\n",
       "    <tr>\n",
       "      <th>5</th>\n",
       "      <td>Lil Dicky, ooh Mustard on the beat, ho I woke ...</td>\n",
       "      <td>0.92</td>\n",
       "      <td>18</td>\n",
       "      <td>[lil, dicky, ,, ooh, mustard, on, the, beat, ,...</td>\n",
       "      <td>[lil, dicky, ,, ooh, mustard, beat, ,, ho, wok...</td>\n",
       "      <td>[lil, dicki, ,, ooh, mustard, beat, ,, ho, wok...</td>\n",
       "      <td>0.599034</td>\n",
       "      <td>-0.9979</td>\n",
       "    </tr>\n",
       "    <tr>\n",
       "      <th>6</th>\n",
       "      <td>May I say something to you To give you a true ...</td>\n",
       "      <td>0.38</td>\n",
       "      <td>18</td>\n",
       "      <td>[may, i, say, something, to, you, to, give, yo...</td>\n",
       "      <td>[may, say, something, give, true, knowledge, l...</td>\n",
       "      <td>[may, say, someth, give, true, knowledg, life,...</td>\n",
       "      <td>0.526570</td>\n",
       "      <td>0.9979</td>\n",
       "    </tr>\n",
       "    <tr>\n",
       "      <th>7</th>\n",
       "      <td>Some day, some day Some day I'll, I wanna wear...</td>\n",
       "      <td>0.84</td>\n",
       "      <td>18</td>\n",
       "      <td>[some, day, ,, some, day, some, day, i'll, ,, ...</td>\n",
       "      <td>[day, ,, day, day, i'll, ,, wanna, wear, starr...</td>\n",
       "      <td>[day, ,, day, day, i'll, ,, wanna, wear, starr...</td>\n",
       "      <td>0.609375</td>\n",
       "      <td>0.9986</td>\n",
       "    </tr>\n",
       "    <tr>\n",
       "      <th>8</th>\n",
       "      <td>Yeah, they wishin' and wishin' and wishin' and...</td>\n",
       "      <td>0.99</td>\n",
       "      <td>18</td>\n",
       "      <td>[yeah, ,, they, wishin, ', and, wishin, ', and...</td>\n",
       "      <td>[yeah, ,, wishin, ', wishin, ', wishin, ', wis...</td>\n",
       "      <td>[yeah, ,, wishin, ', wishin, ', wishin, ', wis...</td>\n",
       "      <td>0.582133</td>\n",
       "      <td>0.7321</td>\n",
       "    </tr>\n",
       "    <tr>\n",
       "      <th>9</th>\n",
       "      <td>Yeah I'm workin' on dyin' I'm upset Fifty thou...</td>\n",
       "      <td>0.81</td>\n",
       "      <td>18</td>\n",
       "      <td>[yeah, i'm, workin, ', on, dyin, ', i'm, upset...</td>\n",
       "      <td>[yeah, workin, ', dyin, ', upset, fifty, thous...</td>\n",
       "      <td>[yeah, workin, ', dyin, ', upset, fifti, thous...</td>\n",
       "      <td>0.500000</td>\n",
       "      <td>0.2901</td>\n",
       "    </tr>\n",
       "  </tbody>\n",
       "</table>\n",
       "</div>"
      ],
      "text/plain": [
       "                                              lyrics  peak_position  year  \\\n",
       "0  Down the chimney, he will come With his great ...           0.58    18   \n",
       "1  Yeah, you supermodel thick Damn, that ass bust...           0.89    18   \n",
       "2  Find my back in the cold Trapped in another so...           0.31    18   \n",
       "3  I can still feel the love I can still feel the...           0.53    18   \n",
       "4  I love all your shit talkin' I love all your s...           0.33    18   \n",
       "5  Lil Dicky, ooh Mustard on the beat, ho I woke ...           0.92    18   \n",
       "6  May I say something to you To give you a true ...           0.38    18   \n",
       "7  Some day, some day Some day I'll, I wanna wear...           0.84    18   \n",
       "8  Yeah, they wishin' and wishin' and wishin' and...           0.99    18   \n",
       "9  Yeah I'm workin' on dyin' I'm upset Fifty thou...           0.81    18   \n",
       "\n",
       "                                        lyrics_token  \\\n",
       "0  [down, the, chimney, ,, he, will, come, with, ...   \n",
       "1  [yeah, ,, you, supermodel, thick, damn, ,, tha...   \n",
       "2  [find, my, back, in, the, cold, trapped, in, a...   \n",
       "3  [i, can, still, feel, the, love, i, can, still...   \n",
       "4  [i, love, all, your, shit, talkin, ', i, love,...   \n",
       "5  [lil, dicky, ,, ooh, mustard, on, the, beat, ,...   \n",
       "6  [may, i, say, something, to, you, to, give, yo...   \n",
       "7  [some, day, ,, some, day, some, day, i'll, ,, ...   \n",
       "8  [yeah, ,, they, wishin, ', and, wishin, ', and...   \n",
       "9  [yeah, i'm, workin, ', on, dyin, ', i'm, upset...   \n",
       "\n",
       "                                         lyrics_stop  \\\n",
       "0  [chimney, ,, come, great, big, smile, find, ev...   \n",
       "1  [yeah, ,, supermodel, thick, damn, ,, ass, bus...   \n",
       "2  [find, back, cold, trapped, another, soul, ,, ...   \n",
       "3  [still, feel, love, still, feel, love, still, ...   \n",
       "4  [love, shit, talkin, ', love, shit, talkin, ',...   \n",
       "5  [lil, dicky, ,, ooh, mustard, beat, ,, ho, wok...   \n",
       "6  [may, say, something, give, true, knowledge, l...   \n",
       "7  [day, ,, day, day, i'll, ,, wanna, wear, starr...   \n",
       "8  [yeah, ,, wishin, ', wishin, ', wishin, ', wis...   \n",
       "9  [yeah, workin, ', dyin, ', upset, fifty, thous...   \n",
       "\n",
       "                                         lyrics_stem  repetition  polarity  \n",
       "0  [chimney, ,, come, great, big, smile, find, ev...    0.454545    0.2563  \n",
       "1  [yeah, ,, supermodel, thick, damn, ,, ass, bus...    0.536341   -0.9954  \n",
       "2  [find, back, cold, trap, anoth, soul, ,, hear,...    0.642412    0.9994  \n",
       "3  [still, feel, love, still, feel, love, still, ...    0.538153    0.9986  \n",
       "4  [love, expletive, talkin, ', love, expletive, ...    0.447964   -0.6080  \n",
       "5  [lil, dicki, ,, ooh, mustard, beat, ,, ho, wok...    0.599034   -0.9979  \n",
       "6  [may, say, someth, give, true, knowledg, life,...    0.526570    0.9979  \n",
       "7  [day, ,, day, day, i'll, ,, wanna, wear, starr...    0.609375    0.9986  \n",
       "8  [yeah, ,, wishin, ', wishin, ', wishin, ', wis...    0.582133    0.7321  \n",
       "9  [yeah, workin, ', dyin, ', upset, fifti, thous...    0.500000    0.2901  "
      ]
     },
     "execution_count": 126,
     "metadata": {},
     "output_type": "execute_result"
    }
   ],
   "source": [
    "# Normalized values\n",
    "df_rap.head(10)"
   ]
  },
  {
   "cell_type": "markdown",
   "metadata": {},
   "source": [
    "Null Hypothesis: There is no correlation between these two variables <br>\n",
    "Alternative Hypothesis: There is correlation between these two variables <br>\n",
    "Significance level: 0.05"
   ]
  },
  {
   "cell_type": "code",
   "execution_count": 127,
   "metadata": {},
   "outputs": [
    {
     "name": "stdout",
     "output_type": "stream",
     "text": [
      "                            OLS Regression Results                            \n",
      "==============================================================================\n",
      "Dep. Variable:          peak_position   R-squared:                       0.010\n",
      "Model:                            OLS   Adj. R-squared:                  0.009\n",
      "Method:                 Least Squares   F-statistic:                     6.002\n",
      "Date:                Wed, 12 Jun 2019   Prob (F-statistic):            0.00255\n",
      "Time:                        16:48:21   Log-Likelihood:                -271.28\n",
      "No. Observations:                1160   AIC:                             548.6\n",
      "Df Residuals:                    1157   BIC:                             563.7\n",
      "Df Model:                           2                                         \n",
      "Covariance Type:            nonrobust                                         \n",
      "==============================================================================\n",
      "                 coef    std err          t      P>|t|      [0.025      0.975]\n",
      "------------------------------------------------------------------------------\n",
      "Intercept      0.3806      0.051      7.478      0.000       0.281       0.480\n",
      "repetition     0.1610      0.083      1.942      0.052      -0.002       0.324\n",
      "polarity       0.0258      0.010      2.643      0.008       0.007       0.045\n",
      "==============================================================================\n",
      "Omnibus:                     1687.592   Durbin-Watson:                   1.774\n",
      "Prob(Omnibus):                  0.000   Jarque-Bera (JB):               82.626\n",
      "Skew:                           0.161   Prob(JB):                     1.14e-18\n",
      "Kurtosis:                       1.733   Cond. No.                         12.7\n",
      "==============================================================================\n",
      "\n",
      "Warnings:\n",
      "[1] Standard Errors assume that the covariance matrix of the errors is correctly specified.\n"
     ]
    }
   ],
   "source": [
    "# Multiple Linear Regression for Rap\n",
    "outcome_rap, predictors_rap = patsy.dmatrices('peak_position ~ repetition \\\n",
    "+ polarity', df_rap)\n",
    "mod_rap = sm.OLS(outcome_rap, predictors_rap)\n",
    "res_rap = mod_rap.fit()\n",
    "print(res_rap.summary())"
   ]
  },
  {
   "cell_type": "markdown",
   "metadata": {},
   "source": [
    "Repetition p-value = 0.052 <br>\n",
    "Polarity p-value = 0.008 <br>\n",
    "Since 0.052 > 0.05 we accept the null hypothesis <br>\n",
    "Since 0.008 < 0.05 we accept the alternative hypothesis <br>\n",
    "There is more correlation between polarity and peak_position than repetition and peak_position in rap music."
   ]
  },
  {
   "cell_type": "code",
   "execution_count": 128,
   "metadata": {},
   "outputs": [
    {
     "name": "stdout",
     "output_type": "stream",
     "text": [
      "                            OLS Regression Results                            \n",
      "==============================================================================\n",
      "Dep. Variable:          peak_position   R-squared:                       0.014\n",
      "Model:                            OLS   Adj. R-squared:                  0.011\n",
      "Method:                 Least Squares   F-statistic:                     4.898\n",
      "Date:                Wed, 12 Jun 2019   Prob (F-statistic):            0.00772\n",
      "Time:                        16:48:32   Log-Likelihood:                 81.201\n",
      "No. Observations:                 701   AIC:                            -156.4\n",
      "Df Residuals:                     698   BIC:                            -142.7\n",
      "Df Model:                           2                                         \n",
      "Covariance Type:            nonrobust                                         \n",
      "==============================================================================\n",
      "                 coef    std err          t      P>|t|      [0.025      0.975]\n",
      "------------------------------------------------------------------------------\n",
      "Intercept      0.3985      0.036     11.219      0.000       0.329       0.468\n",
      "repetition     0.1018      0.060      1.689      0.092      -0.017       0.220\n",
      "polarity       0.0288      0.012      2.463      0.014       0.006       0.052\n",
      "==============================================================================\n",
      "Omnibus:                       22.173   Durbin-Watson:                   1.860\n",
      "Prob(Omnibus):                  0.000   Jarque-Bera (JB):               14.975\n",
      "Skew:                          -0.233   Prob(JB):                     0.000560\n",
      "Kurtosis:                       2.457   Cond. No.                         11.3\n",
      "==============================================================================\n",
      "\n",
      "Warnings:\n",
      "[1] Standard Errors assume that the covariance matrix of the errors is correctly specified.\n"
     ]
    }
   ],
   "source": [
    "# Multiple Linear Regression for Country\n",
    "outcome_country, predictors_country = patsy.dmatrices('peak_position ~ repetition \\\n",
    "+ polarity', df_country)\n",
    "mod_country = sm.OLS(outcome_country, predictors_country)\n",
    "res_country = mod_country.fit()\n",
    "print(res_country.summary())"
   ]
  },
  {
   "cell_type": "markdown",
   "metadata": {},
   "source": [
    "Repetition p-value = 0.092 <br>\n",
    "Polarity p-value = 0.014 <br>\n",
    "Since 0.092 > 0.05 we accept the null hypothesis <br>\n",
    "Since 0.014 < 0.05 we accept the alternative hypothesis <br>\n",
    "There is more correlation between polarity and peak_position than repetition and peak_position in country music."
   ]
  },
  {
   "cell_type": "code",
   "execution_count": 129,
   "metadata": {},
   "outputs": [
    {
     "name": "stdout",
     "output_type": "stream",
     "text": [
      "                            OLS Regression Results                            \n",
      "==============================================================================\n",
      "Dep. Variable:          peak_position   R-squared:                       0.008\n",
      "Model:                            OLS   Adj. R-squared:                 -0.002\n",
      "Method:                 Least Squares   F-statistic:                    0.7736\n",
      "Date:                Wed, 12 Jun 2019   Prob (F-statistic):              0.463\n",
      "Time:                        16:48:34   Log-Likelihood:                -56.842\n",
      "No. Observations:                 187   AIC:                             119.7\n",
      "Df Residuals:                     184   BIC:                             129.4\n",
      "Df Model:                           2                                         \n",
      "Covariance Type:            nonrobust                                         \n",
      "==============================================================================\n",
      "                 coef    std err          t      P>|t|      [0.025      0.975]\n",
      "------------------------------------------------------------------------------\n",
      "Intercept      0.3251      0.186      1.749      0.082      -0.042       0.692\n",
      "repetition     0.3147      0.264      1.191      0.235      -0.206       0.836\n",
      "polarity      -0.0054      0.029     -0.186      0.853      -0.063       0.052\n",
      "==============================================================================\n",
      "Omnibus:                     1170.853   Durbin-Watson:                   2.057\n",
      "Prob(Omnibus):                  0.000   Jarque-Bera (JB):               17.105\n",
      "Skew:                          -0.114   Prob(JB):                     0.000193\n",
      "Kurtosis:                       1.536   Cond. No.                         17.4\n",
      "==============================================================================\n",
      "\n",
      "Warnings:\n",
      "[1] Standard Errors assume that the covariance matrix of the errors is correctly specified.\n"
     ]
    }
   ],
   "source": [
    "# Multiple Linear Regression for Edm\n",
    "outcome_edm, predictors_edm = patsy.dmatrices('peak_position ~ repetition \\\n",
    "+ polarity', df_edm)\n",
    "mod_edm = sm.OLS(outcome_edm, predictors_edm)\n",
    "res_edm = mod_edm.fit()\n",
    "print(res_edm.summary())"
   ]
  },
  {
   "cell_type": "markdown",
   "metadata": {},
   "source": [
    "Repetition p-value = 0.235 <br>\n",
    "Polarity p-value = 0.853 <br>\n",
    "Since 0.235 > 0.05 we accept the null hypothesis <br>\n",
    "Since 0.853 > 0.05 we accept the null hypothesis <br>\n",
    "There is more correlation between repetition and peak_position than polarity and peak_position in EDM music."
   ]
  },
  {
   "cell_type": "code",
   "execution_count": 130,
   "metadata": {},
   "outputs": [
    {
     "name": "stdout",
     "output_type": "stream",
     "text": [
      "                            OLS Regression Results                            \n",
      "==============================================================================\n",
      "Dep. Variable:          peak_position   R-squared:                       0.026\n",
      "Model:                            OLS   Adj. R-squared:                  0.020\n",
      "Method:                 Least Squares   F-statistic:                     4.399\n",
      "Date:                Wed, 12 Jun 2019   Prob (F-statistic):             0.0130\n",
      "Time:                        16:48:35   Log-Likelihood:                -90.636\n",
      "No. Observations:                 337   AIC:                             187.3\n",
      "Df Residuals:                     334   BIC:                             198.7\n",
      "Df Model:                           2                                         \n",
      "Covariance Type:            nonrobust                                         \n",
      "==============================================================================\n",
      "                 coef    std err          t      P>|t|      [0.025      0.975]\n",
      "------------------------------------------------------------------------------\n",
      "Intercept      0.2608      0.076      3.414      0.001       0.111       0.411\n",
      "repetition     0.3361      0.122      2.748      0.006       0.096       0.577\n",
      "polarity       0.0202      0.021      0.976      0.330      -0.021       0.061\n",
      "==============================================================================\n",
      "Omnibus:                      955.966   Durbin-Watson:                   1.724\n",
      "Prob(Omnibus):                  0.000   Jarque-Bera (JB):               27.747\n",
      "Skew:                           0.163   Prob(JB):                     9.44e-07\n",
      "Kurtosis:                       1.633   Cond. No.                         10.2\n",
      "==============================================================================\n",
      "\n",
      "Warnings:\n",
      "[1] Standard Errors assume that the covariance matrix of the errors is correctly specified.\n"
     ]
    }
   ],
   "source": [
    "# Multiple Linear Regression for Rock\n",
    "outcome_rock, predictors_rock = patsy.dmatrices('peak_position ~ repetition \\\n",
    "+ polarity', df_rock)\n",
    "mod_rock = sm.OLS(outcome_rock, predictors_rock)\n",
    "res_rock = mod_rock.fit()\n",
    "print(res_rock.summary())"
   ]
  },
  {
   "cell_type": "markdown",
   "metadata": {},
   "source": [
    "Repetition p-value = 0.006 <br>\n",
    "Polarity p-value = 0.330 <br>\n",
    "Since 0.006 < 0.05 we accept the alternative hypothesis <br>\n",
    "Since 0.330 > 0.05 we accept the null hypothesis <br>\n",
    "There is more correlation between repetition and peak_position than polarity and peak_position in Rock music."
   ]
  },
  {
   "cell_type": "code",
   "execution_count": 131,
   "metadata": {},
   "outputs": [
    {
     "name": "stdout",
     "output_type": "stream",
     "text": [
      "                            OLS Regression Results                            \n",
      "==============================================================================\n",
      "Dep. Variable:          peak_position   R-squared:                       0.015\n",
      "Model:                            OLS   Adj. R-squared:                  0.012\n",
      "Method:                 Least Squares   F-statistic:                     4.467\n",
      "Date:                Wed, 12 Jun 2019   Prob (F-statistic):             0.0119\n",
      "Time:                        16:48:39   Log-Likelihood:                -137.26\n",
      "No. Observations:                 582   AIC:                             280.5\n",
      "Df Residuals:                     579   BIC:                             293.6\n",
      "Df Model:                           2                                         \n",
      "Covariance Type:            nonrobust                                         \n",
      "==============================================================================\n",
      "                 coef    std err          t      P>|t|      [0.025      0.975]\n",
      "------------------------------------------------------------------------------\n",
      "Intercept      0.2584      0.091      2.852      0.005       0.080       0.436\n",
      "repetition     0.4008      0.135      2.969      0.003       0.136       0.666\n",
      "polarity      -0.0086      0.015     -0.559      0.577      -0.039       0.022\n",
      "==============================================================================\n",
      "Omnibus:                     1267.245   Durbin-Watson:                   1.739\n",
      "Prob(Omnibus):                  0.000   Jarque-Bera (JB):               42.432\n",
      "Skew:                          -0.049   Prob(JB):                     6.11e-10\n",
      "Kurtosis:                       1.681   Cond. No.                         17.0\n",
      "==============================================================================\n",
      "\n",
      "Warnings:\n",
      "[1] Standard Errors assume that the covariance matrix of the errors is correctly specified.\n"
     ]
    }
   ],
   "source": [
    "# Multiple Linear Regression for R&B\n",
    "outcome_rb, predictors_rb = patsy.dmatrices('peak_position ~ repetition \\\n",
    "+ polarity', df_rb)\n",
    "mod_rb = sm.OLS(outcome_rb, predictors_rb)\n",
    "res_rb = mod_rb.fit()\n",
    "print(res_rb.summary())"
   ]
  },
  {
   "cell_type": "markdown",
   "metadata": {},
   "source": [
    "Repetition p-value = 0.003 <br>\n",
    "Polarity p-value = 0.577 <br>\n",
    "Since 0.003 < 0.05 we accept the alternative hypothesis <br>\n",
    "Since 0.577 > 0.05 we accept the null hypothesis <br>\n",
    "There is more correlation between repetition and peak_position than polarity and peak_position in R&B music."
   ]
  },
  {
   "cell_type": "code",
   "execution_count": 132,
   "metadata": {},
   "outputs": [
    {
     "data": {
      "text/html": [
       "<div>\n",
       "<style scoped>\n",
       "    .dataframe tbody tr th:only-of-type {\n",
       "        vertical-align: middle;\n",
       "    }\n",
       "\n",
       "    .dataframe tbody tr th {\n",
       "        vertical-align: top;\n",
       "    }\n",
       "\n",
       "    .dataframe thead th {\n",
       "        text-align: right;\n",
       "    }\n",
       "</style>\n",
       "<table border=\"1\" class=\"dataframe\">\n",
       "  <thead>\n",
       "    <tr style=\"text-align: right;\">\n",
       "      <th></th>\n",
       "      <th>lyrics</th>\n",
       "      <th>peak_position</th>\n",
       "      <th>year</th>\n",
       "      <th>lyrics_token</th>\n",
       "      <th>lyrics_stop</th>\n",
       "      <th>lyrics_stem</th>\n",
       "      <th>repetition</th>\n",
       "      <th>polarity</th>\n",
       "    </tr>\n",
       "  </thead>\n",
       "  <tbody>\n",
       "    <tr>\n",
       "      <th>0</th>\n",
       "      <td>If I If I Said he tried to phone me, but I nev...</td>\n",
       "      <td>NaN</td>\n",
       "      <td>18</td>\n",
       "      <td>[if, i, if, i, said, he, tried, to, phone, me,...</td>\n",
       "      <td>[said, tried, phone, ,, never, time, said, nev...</td>\n",
       "      <td>[said, tri, phone, ,, never, time, said, never...</td>\n",
       "      <td>0.680519</td>\n",
       "      <td>0.9361</td>\n",
       "    </tr>\n",
       "    <tr>\n",
       "      <th>1</th>\n",
       "      <td>Took you like a shot Thought that I could chas...</td>\n",
       "      <td>NaN</td>\n",
       "      <td>18</td>\n",
       "      <td>[took, you, like, a, shot, thought, that, i, c...</td>\n",
       "      <td>[took, like, shot, thought, could, chase, cold...</td>\n",
       "      <td>[took, like, shot, thought, could, chase, cold...</td>\n",
       "      <td>0.691566</td>\n",
       "      <td>-0.9798</td>\n",
       "    </tr>\n",
       "    <tr>\n",
       "      <th>2</th>\n",
       "      <td>Uh-uh-uh-uh-uh-uh, ball for me Baby, could you...</td>\n",
       "      <td>NaN</td>\n",
       "      <td>18</td>\n",
       "      <td>[uh-uh-uh-uh-uh-uh, ,, ball, for, me, baby, ,,...</td>\n",
       "      <td>[uh-uh-uh-uh-uh-uh, ,, ball, baby, ,, could, ?...</td>\n",
       "      <td>[uh-uh-uh-uh-uh-uh, ,, ball, babi, ,, could, ?...</td>\n",
       "      <td>0.663534</td>\n",
       "      <td>0.9978</td>\n",
       "    </tr>\n",
       "    <tr>\n",
       "      <th>3</th>\n",
       "      <td>Yeah Be careful, be careful, be careful with m...</td>\n",
       "      <td>NaN</td>\n",
       "      <td>18</td>\n",
       "      <td>[yeah, be, careful, ,, be, careful, ,, be, car...</td>\n",
       "      <td>[yeah, careful, ,, careful, ,, careful, yeah, ...</td>\n",
       "      <td>[yeah, care, ,, care, ,, care, yeah, ,, look, ...</td>\n",
       "      <td>0.581788</td>\n",
       "      <td>0.9380</td>\n",
       "    </tr>\n",
       "    <tr>\n",
       "      <th>4</th>\n",
       "      <td>You probably think that you are better now, be...</td>\n",
       "      <td>NaN</td>\n",
       "      <td>18</td>\n",
       "      <td>[you, probably, think, that, you, are, better,...</td>\n",
       "      <td>[probably, think, better, ,, better, say, ', c...</td>\n",
       "      <td>[probabl, think, better, ,, better, say, ', ca...</td>\n",
       "      <td>0.724070</td>\n",
       "      <td>0.9932</td>\n",
       "    </tr>\n",
       "    <tr>\n",
       "      <th>5</th>\n",
       "      <td>My bitch drive a all white Range Couldn't hit ...</td>\n",
       "      <td>NaN</td>\n",
       "      <td>18</td>\n",
       "      <td>[my, bitch, drive, a, all, white, range, could...</td>\n",
       "      <td>[bitch, drive, white, range, hit, niggas, aim,...</td>\n",
       "      <td>[expletive, drive, white, rang, hit, expletive...</td>\n",
       "      <td>0.601057</td>\n",
       "      <td>-0.9930</td>\n",
       "    </tr>\n",
       "    <tr>\n",
       "      <th>6</th>\n",
       "      <td>Yeah yeah, yeah yeah Feelings, so deep in my f...</td>\n",
       "      <td>NaN</td>\n",
       "      <td>18</td>\n",
       "      <td>[yeah, yeah, ,, yeah, yeah, feelings, ,, so, d...</td>\n",
       "      <td>[yeah, yeah, ,, yeah, yeah, feelings, ,, deep,...</td>\n",
       "      <td>[yeah, yeah, ,, yeah, yeah, feel, ,, deep, fee...</td>\n",
       "      <td>0.709459</td>\n",
       "      <td>0.1376</td>\n",
       "    </tr>\n",
       "    <tr>\n",
       "      <th>7</th>\n",
       "      <td>We found each other I helped you out of a brok...</td>\n",
       "      <td>NaN</td>\n",
       "      <td>18</td>\n",
       "      <td>[we, found, each, other, i, helped, you, out, ...</td>\n",
       "      <td>[found, helped, broken, place, gave, comfort, ...</td>\n",
       "      <td>[found, help, broken, place, gave, comfort, fa...</td>\n",
       "      <td>0.715543</td>\n",
       "      <td>0.9888</td>\n",
       "    </tr>\n",
       "    <tr>\n",
       "      <th>8</th>\n",
       "      <td>Ayo, look like I'm goin' for a swim Dunk on 'e...</td>\n",
       "      <td>NaN</td>\n",
       "      <td>18</td>\n",
       "      <td>[ayo, ,, look, like, i'm, goin, ', for, a, swi...</td>\n",
       "      <td>[ayo, ,, look, like, goin, ', swim, dunk, ', e...</td>\n",
       "      <td>[ayo, ,, look, like, goin, ', swim, dunk, ', e...</td>\n",
       "      <td>0.522624</td>\n",
       "      <td>-0.9576</td>\n",
       "    </tr>\n",
       "    <tr>\n",
       "      <th>9</th>\n",
       "      <td>This ain't for the best My reputation's never ...</td>\n",
       "      <td>NaN</td>\n",
       "      <td>18</td>\n",
       "      <td>[this, ain't, for, the, best, my, reputation's...</td>\n",
       "      <td>[ain't, best, reputation's, never, worse, ,, m...</td>\n",
       "      <td>[ain't, best, reputation', never, wors, ,, mus...</td>\n",
       "      <td>0.744376</td>\n",
       "      <td>0.9909</td>\n",
       "    </tr>\n",
       "  </tbody>\n",
       "</table>\n",
       "</div>"
      ],
      "text/plain": [
       "                                              lyrics  peak_position  year  \\\n",
       "0  If I If I Said he tried to phone me, but I nev...            NaN    18   \n",
       "1  Took you like a shot Thought that I could chas...            NaN    18   \n",
       "2  Uh-uh-uh-uh-uh-uh, ball for me Baby, could you...            NaN    18   \n",
       "3  Yeah Be careful, be careful, be careful with m...            NaN    18   \n",
       "4  You probably think that you are better now, be...            NaN    18   \n",
       "5  My bitch drive a all white Range Couldn't hit ...            NaN    18   \n",
       "6  Yeah yeah, yeah yeah Feelings, so deep in my f...            NaN    18   \n",
       "7  We found each other I helped you out of a brok...            NaN    18   \n",
       "8  Ayo, look like I'm goin' for a swim Dunk on 'e...            NaN    18   \n",
       "9  This ain't for the best My reputation's never ...            NaN    18   \n",
       "\n",
       "                                        lyrics_token  \\\n",
       "0  [if, i, if, i, said, he, tried, to, phone, me,...   \n",
       "1  [took, you, like, a, shot, thought, that, i, c...   \n",
       "2  [uh-uh-uh-uh-uh-uh, ,, ball, for, me, baby, ,,...   \n",
       "3  [yeah, be, careful, ,, be, careful, ,, be, car...   \n",
       "4  [you, probably, think, that, you, are, better,...   \n",
       "5  [my, bitch, drive, a, all, white, range, could...   \n",
       "6  [yeah, yeah, ,, yeah, yeah, feelings, ,, so, d...   \n",
       "7  [we, found, each, other, i, helped, you, out, ...   \n",
       "8  [ayo, ,, look, like, i'm, goin, ', for, a, swi...   \n",
       "9  [this, ain't, for, the, best, my, reputation's...   \n",
       "\n",
       "                                         lyrics_stop  \\\n",
       "0  [said, tried, phone, ,, never, time, said, nev...   \n",
       "1  [took, like, shot, thought, could, chase, cold...   \n",
       "2  [uh-uh-uh-uh-uh-uh, ,, ball, baby, ,, could, ?...   \n",
       "3  [yeah, careful, ,, careful, ,, careful, yeah, ...   \n",
       "4  [probably, think, better, ,, better, say, ', c...   \n",
       "5  [bitch, drive, white, range, hit, niggas, aim,...   \n",
       "6  [yeah, yeah, ,, yeah, yeah, feelings, ,, deep,...   \n",
       "7  [found, helped, broken, place, gave, comfort, ...   \n",
       "8  [ayo, ,, look, like, goin, ', swim, dunk, ', e...   \n",
       "9  [ain't, best, reputation's, never, worse, ,, m...   \n",
       "\n",
       "                                         lyrics_stem  repetition  polarity  \n",
       "0  [said, tri, phone, ,, never, time, said, never...    0.680519    0.9361  \n",
       "1  [took, like, shot, thought, could, chase, cold...    0.691566   -0.9798  \n",
       "2  [uh-uh-uh-uh-uh-uh, ,, ball, babi, ,, could, ?...    0.663534    0.9978  \n",
       "3  [yeah, care, ,, care, ,, care, yeah, ,, look, ...    0.581788    0.9380  \n",
       "4  [probabl, think, better, ,, better, say, ', ca...    0.724070    0.9932  \n",
       "5  [expletive, drive, white, rang, hit, expletive...    0.601057   -0.9930  \n",
       "6  [yeah, yeah, ,, yeah, yeah, feel, ,, deep, fee...    0.709459    0.1376  \n",
       "7  [found, help, broken, place, gave, comfort, fa...    0.715543    0.9888  \n",
       "8  [ayo, ,, look, like, goin, ', swim, dunk, ', e...    0.522624   -0.9576  \n",
       "9  [ain't, best, reputation', never, wors, ,, mus...    0.744376    0.9909  "
      ]
     },
     "execution_count": 132,
     "metadata": {},
     "output_type": "execute_result"
    }
   ],
   "source": [
    "# There is no peak_position for songs in the pop genre \n",
    "# so we are unable to find the multi linear regression.\n",
    "df_pop.head(10)"
   ]
  },
  {
   "cell_type": "markdown",
   "metadata": {
    "colab_type": "text",
    "id": "gGWQiOvw18I9"
   },
   "source": [
    "# 6. Ethics & Privacy"
   ]
  },
  {
   "cell_type": "markdown",
   "metadata": {
    "colab_type": "text",
    "id": "Vf-Y6Yx818I9"
   },
   "source": [
    "One ethical concern surrounding our question and analysis is that if a songmaker were to look at our results, they may be more inclined to make a song more mainstream and popular, hence expressing less of their true selves. The artist may choose a genre they do not genuinely enjoy, have phrases that pertain to its best amount of repetition, or be less inclined to talk about negative things (if the chosen genre is not rap). This potentially limits an artist's creativity by wanting to become mainstream popular. \n",
    "\n",
    "When taking into consideration the ethics and privacy concerns surrounding our collection of data for the  Billboard Top 100 songs, we decided to use a public dataset from a website called “data.world”, which is an open source database used by data scientists for collaboration and collection of various subjects/topics datasets. In this particular case, since we webscraped our data from a public database that enables the free use of their open datasets, we did not need to ask for consent from any particular company or person, nor did we need to be too wary about collection biases, since our data is based off of the rankings of the Billboard's websites Top 100 hot rated songs. \n",
    "  \n",
    "Although the complexities of the Billboard's methods for ranking songs for the Top 100 are anonymous to the public, which could lead to certain biases involving the concerns of overall accuracy/validity, the Billboard itself is renowned by the music community and other media platforms as being highly trustworthy and reliable, so we can proceed to analyze this particular dataset.\n",
    "\n",
    "An ethical concern with this dataset is that they include the artists' names, which may lead to a violation involving personal identifiable information exposure, so the song titles and artist names were taken out during the cleaning process. However, the songs lyrics may indirectly expose the artist. "
   ]
  },
  {
   "cell_type": "markdown",
   "metadata": {
    "colab_type": "text",
    "id": "VerhHvUR18JA"
   },
   "source": [
    "# 7. Conclusion & Discussion\n",
    "\n",
    "## 7a. Limitations of Analysis\n",
    "\n",
    "During our data cleaning, we were unable to filter out unicode formatted strings in Python to take out lyrics in different languages, so we kept that data. However, it did not affect our analysis that much, since those strings are in integer format. Additonally, the data had songs with multiple genres, and we categorized those only in one genre (the first one that appears). \n",
    "\n",
    "One limitation in Analysis Part 4: Polarity is that when the compound scores of every song in each year are averaged, because the score is on a scale of -1 to 1, the averaged score cancels out the extremes. For example, if you averaged 2 songs of compound scores 0.9 and -0.9, it would be equal to 0. However, an average of 0 does not give us much information, since this just tells us that the average polarity of the songs is neutral. \n",
    "On the other hand, for a big enough dataset, the average should be a good indication of how positive or negative the songs are in that year. \n",
    "\n",
    "Another limitation in Analysis Part 4: Polarity is that VADER is attuned to social media posts, meaning that it can classify the polarity of social media posts very well. So, using this sentiment analyzer to analyze song lyrics may not be as accurate. \n",
    "\n",
    "For the multiple linear regression, we couldn't analyze pop because in the data that we have, all the peak positions are 0's, so we could not compare peak position with polarity. \n",
    "\n",
    "For our ANOVA, the assumptions are that the distribution of values is normally distributed and that the standard deviations are equal and that the samples are independent. The different genres are independent because we coded it to be that way.\n",
    "EDM's repetition values are not normally distributed. Therefore, we had to take it out of our ANOVA because it would not produce accurate results. Also, the standard deviations for each genre are not exactly the same, so the results we have may not be completely accurate. Most of our standard deviations are 0.09 and 0.10 but 2 of them are 0.14 and 0.13.\n",
    "\n",
    "## 7b. What We Expected\n",
    "\n",
    "Relating back to our hypothesis, we expected to find the most common words/topics to be heavily dependent on the specific genre, such as Pop, EDM, and Country to contain positive affirmations like 'love' and 'girl', while genres like Rap or Rock would contain negative words like crude slang and gang related violence. Our expectations in regards to the utilization of reptition found in the Billboards Top 100 songs were fixated on the notions that regardless of genre, songs that encapsulate such a high percentage of repetitveness will be deemed popular by listeners. We as a group unanimously agreed that among the six genres we would be extracting from 2009 - 2018, that Pop or Rap will likely be the most popular genre, due to the many features and appeals the song has to this generation's youth. Finally, when combining all these details together, we expected that overall, music that portrays a violent and overarching negative behavior is likely to be the most popular, due to our preliminary background research in regards to the rising appeal to the popularity of violent and negative perceptions among teens / adults.\n",
    "\n",
    "## 7c. What We Found\n",
    "\n",
    "Most Frequent Words:\n",
    "* The resulting graphs in our analysis do show that specific topics and words are dependent on the given genre. For the majority of the genres(i.e Pop,Country,EDM,R&B, and even Rock), the most commonly discussed word relates to the themes of the word \"love\". The genre Rap on the other hand, appears to be the only one where the most frequently discussed themes and words have to do with explicit profanity.\n",
    "\n",
    "For repetition graph: \n",
    "\n",
    "* One would expect that pop and EDM would have more repetition than others such as rap or country because those generally have shorter verses and tend to be more catchy. This is reflected in the graph where EDM is 69% and pop is 65% compared to rap's 60% and country's 57%. We found that there is a significant difference between the repetition values in each genre.\n",
    "\n",
    "For the genre popularity graph:\n",
    "* EDM was not as popular as any of the other genres and this could be because although rave culture is gaining popularity in California, it is not as popular in the other states.\n",
    "* Rap and Pop were popular as expected due to Rap's popular background as well as Pop's catchy tunes and melodies. \n",
    "\n",
    "For the polarity graph:\n",
    "* We found that there is a significant difference in the polarity values for each genre. If you choose to pursue a career in rap, you want your songs to be more negative whereas if you choose to do pop, you will want your songs to be more positive. \n",
    "\n",
    "For the Multiple Linear Regression:\n",
    "* All of the polarities had positive correlations with respect to peak position except EDM which had a negative correlation.\n",
    "* For 2 of the genres (Rap, Country) we had results showing that polarity had more significant correlation with peak position where as for the other genres besides Pop(EDM,Rock,R&B), repetition is more significant in determining peak position.\n",
    "* This tells us that in order to increase your odds of success, for Rap and Country, you want to make sure you have a certain polarity whereas for EDM Rock and R&B you should be focused on making your songs more repetitive.\n",
    "\n",
    "With our suggestive findings from the data collected from the Billboard Top 100, ranging from 2009 - 2018, we would then proceed to use our current existing data as a predictor for future references in regards to song popularity for future artists to utilize if needed, so that they are able to tell what genre and emotional appeal is likely to bring them success. \n",
    "Since the rankings of the charts, based off our data, is primarily dominated by Pop and Rap as of 2018, we would advise music artist to primarily focus on these genres and be positive and repetitive if you're Pop, and negative and less repetitive if you're Rap.\n",
    "\n",
    "\n",
    "## 7d. What We Would Do Next\n",
    "\n",
    "Our dataset consisted of only songs that were from the top charts. This means that while we were able to find similarities between the top songs in each genre and overall, we were not able to find the difference between top songs and unpopular songs. This would be useful because it will give more insight into the things you should and should not do when trying to be popular as an artist. We can do this by comparing the polarity and repetition of songs in an ANOVA with two groups being top songs and unpopular songs. We would also try to clean more of the data as some of it could not be used either due to uninterpretability or missing lyrics. This includes adding songs with foreign languages as they are becoming more and more prevalent in our culture. "
   ]
  }
 ],
 "metadata": {
  "colab": {
   "collapsed_sections": [],
   "name": "FinalProject.ipynb",
   "provenance": [],
   "toc_visible": true,
   "version": "0.3.2"
  },
  "kernelspec": {
   "display_name": "Python 3",
   "language": "python",
   "name": "python3"
  },
  "language_info": {
   "codemirror_mode": {
    "name": "ipython",
    "version": 3
   },
   "file_extension": ".py",
   "mimetype": "text/x-python",
   "name": "python",
   "nbconvert_exporter": "python",
   "pygments_lexer": "ipython3",
   "version": "3.6.8"
  }
 },
 "nbformat": 4,
 "nbformat_minor": 1
}
