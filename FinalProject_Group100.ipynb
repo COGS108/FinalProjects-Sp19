{
 "cells": [
  {
   "cell_type": "markdown",
   "metadata": {},
   "source": [
    "# COGS 108 - Final Project "
   ]
  },
  {
   "cell_type": "markdown",
   "metadata": {},
   "source": [
    "# How High Is the U.S.?"
   ]
  },
  {
   "cell_type": "markdown",
   "metadata": {},
   "source": [
    "# Overview"
   ]
  },
  {
   "cell_type": "markdown",
   "metadata": {},
   "source": [
    "Nowadays, medical marijuana and recreational marijuana have been legalized in many states of the United States. With its popularity in the life and culture, we want to explore the relationship between marijuana usage and people's living conditions. The major factors of people's living conditions we consider in our exploration are demographic, education levels, and socioeconomic status. We hope that through our exploration, we will have a better vision of who is prone or susceptible to use and understand further how the usage of marijuana affects to people's overall living experiences."
   ]
  },
  {
   "cell_type": "markdown",
   "metadata": {},
   "source": [
    "# Names\n",
    "\n",
    "- Gregory Thein\n",
    "- Queen Tran\n",
    "- Shiva Upadhye\n",
    "- Diana Thai\n",
    "- Osvaldo Vazquez\n",
    "- Sophie Concordel "
   ]
  },
  {
   "cell_type": "markdown",
   "metadata": {},
   "source": [
    "# Group Members IDs\n",
    "\n",
    "- Gregory - A14369060\n",
    "- Queen - A15729093\n",
    "- Shiva - A15693318\n",
    "- Diana - A12855877\n",
    "- Osvaldo - A14418440\n",
    "- Sophie - A14052758"
   ]
  },
  {
   "cell_type": "markdown",
   "metadata": {},
   "source": [
    "# Research Question"
   ]
  },
  {
   "cell_type": "markdown",
   "metadata": {},
   "source": [
    "Below is our research question for this exploration:\n",
    "\n",
    "“What is the relationship between marijuana usage, age, and socioeconomic status throughout the United States?”\n"
   ]
  },
  {
   "cell_type": "markdown",
   "metadata": {},
   "source": [
    "## Background and Prior Work"
   ]
  },
  {
   "cell_type": "markdown",
   "metadata": {},
   "source": [
    "The War on Drugs taught us that poorer demographics are prone to drug exposure and higher usage rates. However, with recent legalization of marijuana across multiple states, we’re curious to see if the validity of poverty and drug use still correlate. Every year the CDC (Center for Disease Control and Prevention) gives out a National Health and Nutrition Examination Survey. From these surveys, we will be able to gather information (our desired dataset) on drug use, age, and socioeconomic status of individuals across the country. What we currently know about the topic of marijuana use in the United States is that popularity has grown over the years. Medical use for marijuana has become more and more popularized, and recreational use as well, especially with the recent legalization. We also know that the media has an influence as well, especially to younger users. As popular artists and actors and influencers display the use of marijuana younger adults are more likely to follow. From the Substance Abuse and Mental Health Services Administration were learned that there were 26 million marijuana users in 2017, two million more than the previous year. \n",
    "\n",
    "For older adults, it was found by the NCBI that marijuana is the most commonly used illicit drug by 50+ adults. The usage has increased by 71.4 percent in three years alone from 2013 to 2016. This large jump was found to be due to the more widespread use of medical marijuana. In younger populations, SAMHSA reported marijuana usage for three young age groups. The results show that 6.5 percent of 12-17 years olds, 22.1 percent of 18-26 years olds, and 7.9 percent of the 26+ group are current marijuana users. The NCBI also found that with the legalization of marijuana in Oregon, the usage among adolescents has raised from 2.9 in 2006 to 18.3 in 2015 in their sample. Interestingly a study by the NCBI found results for marijuana use in relation in neighborhood income that the neighborhood with the highest median income and Gini coefficient (inequality among income) had the highest prevalence of marijuana smoking. These results helped us hypothesize for three different use groups.\n",
    "\n",
    "We were unable to find any previous student projects that asked similar questions, but we looked at the methods and results of a project on if income does indeed hold a significant impact on the spread of communicable diseases, specifically the flu. They specifically looked at the San Diego area and were able to  compress the flu rate, median income and other values into regions with various hospitals using the pandas library. They then used the t-test where discharge/hospitalization rate is dependent on income/poverty and other possible confounds. They learned that there was a negative correlation between hospital discharge rates and household income. We plan to reference these methods as we conduct analysis on our own dataset, seeing there is parallelism in the prompts.\n",
    "\n",
    "References:\n",
    "COGS 108 Previous Project\n",
    "https://github.com/COGS108/FinalProjects-Sp17/blob/master/052-FinalProject.ipynb\n",
    "\n",
    "Key Substance Use and Mental Health Indicators in the United States:Results from the 2017 National Survey on Drug Use and Health\n",
    "https://www.samhsa.gov/data/sites/default/files/cbhsq-reports/NSDUHFFR2017/NSDUHFFR2017.htm\n",
    "\n",
    "Association of State Recreational Marijuana Laws With Adolescent Marijuana Use\n",
    "https://www.ncbi.nlm.nih.gov/pmc/articles/PMC5365078/\n",
    "\n",
    "Medical Marijuana Legalization and Marijuana Use Among Youth in Oregon\n",
    "https://www.ncbi.nlm.nih.gov/pmc/articles/PMC5474164/\n",
    "\n",
    "Neighborhood Income and Income Distribution and the Use of Cigarettes, Alcohol, and Marijuana\n",
    "https://www.ncbi.nlm.nih.gov/pmc/articles/PMC1974881/\n",
    "\n",
    "Marijuana Use Among Adults 50 Years or Older in the 21st Century\n",
    "https://www.ncbi.nlm.nih.gov/pmc/articles/PMC6024284/\n"
   ]
  },
  {
   "cell_type": "markdown",
   "metadata": {},
   "source": [
    "# Hypothesis\n"
   ]
  },
  {
   "cell_type": "markdown",
   "metadata": {},
   "source": [
    "We believe that there would be three groups that would have increased marijuana usage from the various factors that we decide to study on. \n",
    "\n",
    "First, younger people (anyone younger than 26) will have a higher rate of marijuana usage because of the social popularity and culture behind this drug amongst the youth. \n",
    "\n",
    "Second, we predict that as the income and education level increase (higher socioeconomic status), there should be a negative relationship with drug use, meaning that the higher the income and education level, the lower the marijuana use. \n",
    "\n",
    "Finally, we also believe that there could be a high usage of medical marijuana in elderly and sick people as the popularity of medical marijuana increases throughout the country. "
   ]
  },
  {
   "cell_type": "markdown",
   "metadata": {},
   "source": [
    "# Dataset(s)"
   ]
  },
  {
   "cell_type": "markdown",
   "metadata": {},
   "source": [
    "After scouring through all the amazing resources Professor Shannon Ellis offered us, we were extremely fortunate to find the NHANES (National Health and Nutrition Examination Survey), a national survey that included data on all aspects of our research question and hypothesis. This dataset is very large and comprehensive and is broken up into many different files, including a Demographic Dataset and Questionnaires Datasets that have information about drug usage (including marijuana) and living conditions like income and occupation. Every dataset is stored in a sas file, which we plan to use the pandas.read_sas method to help open our files. Each dataset has a comprehensive documentation that describes columns and possible values for the data. For example, the column “RIAGENDR” in the documentation gives us information of the participant’s gender with values 1 for Male, 2 for Female, and . for Missing. Since the 2017-2018 data is incomplete at the time we collect data for this research, we use the 2015-2016 survey data as the latest data for this project.\n",
    "\n",
    "Below are two datasets that we used in our research:\n",
    "\n",
    "Demographic Variables and Sample Weights (DEMO I):\n",
    "This dataset consists more than 9000 rows and 40 columns was released by the National Health and Nutrition Examination Survey 2015 with each row containing demographic information for an individual and each column representing a variable.  For the purpose of this project, we will be considering age, gender, education status, marital status, pregnancy status, household size, property ownership status, and a multivariable income component that encompasses individual, household, family, and social-security income.\n",
    "\n",
    "Links to this dataset:\n",
    "Description of the dataset: https://wwwn.cdc.gov/Nchs/Nhanes/2015-2016/DEMO_I.htm\n",
    "Dataset: https://wwwn.cdc.gov/nchs/nhanes/search/datapage.aspx?Component=Demographics&CycleBeginYear=2015\n",
    "\n",
    "\n",
    "National Health and Nutrition Examination Survey: Drug Use (DUQ I)\n",
    "This dataset consists more than 4000 rows and 40 columns was released by the National Health and Nutrition Examination Survey 2015 with each row representing an individual's responses to The Drug Use Questionnaire and each column corresponding to a variable encoded by the questionnaire. Since the questionnaire focuses on the intravenous and non-intravenous consumption of a variety of drugs such as marijuana, heroin, cocaine, and methamphetamine, we will only consider ten columns that correspond specifically to marijuana usage for the purpose of this project.\n",
    "\n",
    "Links to this dataset:\n",
    "Description of the dataset: https://wwwn.cdc.gov/Nchs/Nhanes/2015-2016/DUQ_I.htm\n",
    "Dataset: https://wwwn.cdc.gov/nchs/nhanes/search/datapage.aspx?Component=Questionnaire&CycleBeginYear=2015     \n",
    "\n",
    "For more convenient in working with data and keeping data consistency, We combine these two datasets, do data cleaning and make one final dataset for our analysis in group. The final data file is \"cleaned_marijuana_data.csv\". This file has 4843 rows x 21 columns where each row represents an individual in the research and each column represents a variable needed for the research."
   ]
  },
  {
   "cell_type": "markdown",
   "metadata": {},
   "source": [
    "Dataset filename: cleaned_marijuana_data.csv\n",
    "This file has the following columns:\n",
    "    * ID: Sequence number \n",
    "    * GENDER: Gender \n",
    "    * AGE: Age in years at the time of screening \n",
    "    * EDUCATION_KID: Education Level (6-19) - Highest greade or level of school completed \n",
    "    * EDUCATION_ADULT: Education Level (20+) - Highest greade or level of school completed \n",
    "    * MARRIAGE: Marital Status \n",
    "    * PREGNANCY: Pregnancy status for females between 20 and 44 years of age at the time of MEC exam \n",
    "    * INCOME: Annual household income \n",
    "    * INCOME_RATIO: Ratio of family income to poverty \n",
    "    * HOUSEHOLD_NUM: Total number of people in the Household \n",
    "    * CHILDREN_NUM: Number of children less than 18 years old \n",
    "    * OVER_60_NUM: Number of adults aged 60 years or older in the household \n",
    "    * EVER_USE: Ever used marijuana or hashish \n",
    "    * FIRST_USAGE: Age when first tried marijuana \n",
    "    * FREQUENCY: How often would the user used marijuana \n",
    "    * PER_MOUNTH: How often the user would use marijuana every month \n",
    "    * AGE_REGULAR_USE: Age started using marijuana reguarly\n",
    "    * LAST_ONCE_MONTH: Time since last used marijuana regularly \n",
    "    * AMOUNT: How many joints or pipes smoke in a day. \n",
    "    * LAST_USAGE: Last time used marijuana or hashish \n",
    "    * PAST_MONTH_USAGE: # days used marijuana or hashish/month "
   ]
  },
  {
   "cell_type": "markdown",
   "metadata": {},
   "source": [
    "# Setup"
   ]
  },
  {
   "cell_type": "code",
   "execution_count": 1,
   "metadata": {},
   "outputs": [],
   "source": [
    "%matplotlib inline\n",
    "\n",
    "import pandas as pd\n",
    "import numpy as np\n",
    "\n",
    "import matplotlib.pyplot as plt\n",
    "import seaborn as sns\n",
    "import os\n",
    "import patsy\n",
    "import scipy.stats as stats\n",
    "from scipy.stats import ttest_ind, chisquare, normaltest\n",
    "import statsmodels.api as sm\n",
    "\n",
    "import warnings\n",
    "warnings.filterwarnings(\"ignore\")\n",
    "\n",
    "# set defaults\n",
    "plt.style.use('seaborn-white')   # seaborn custom plot style\n",
    "plt.rc('figure', dpi=100, figsize=(7, 5))   # set default size/resolution\n",
    "plt.rc('font', size=12)   # font size"
   ]
  },
  {
   "cell_type": "markdown",
   "metadata": {},
   "source": [
    "# Data Cleaning"
   ]
  },
  {
   "cell_type": "markdown",
   "metadata": {},
   "source": [
    "Demographics Dataset"
   ]
  },
  {
   "cell_type": "code",
   "execution_count": 2,
   "metadata": {},
   "outputs": [
    {
     "data": {
      "text/html": [
       "<div>\n",
       "<style scoped>\n",
       "    .dataframe tbody tr th:only-of-type {\n",
       "        vertical-align: middle;\n",
       "    }\n",
       "\n",
       "    .dataframe tbody tr th {\n",
       "        vertical-align: top;\n",
       "    }\n",
       "\n",
       "    .dataframe thead th {\n",
       "        text-align: right;\n",
       "    }\n",
       "</style>\n",
       "<table border=\"1\" class=\"dataframe\">\n",
       "  <thead>\n",
       "    <tr style=\"text-align: right;\">\n",
       "      <th></th>\n",
       "      <th>SEQN</th>\n",
       "      <th>SDDSRVYR</th>\n",
       "      <th>RIDSTATR</th>\n",
       "      <th>RIAGENDR</th>\n",
       "      <th>RIDAGEYR</th>\n",
       "      <th>RIDAGEMN</th>\n",
       "      <th>RIDRETH1</th>\n",
       "      <th>RIDRETH3</th>\n",
       "      <th>RIDEXMON</th>\n",
       "      <th>RIDEXAGM</th>\n",
       "      <th>...</th>\n",
       "      <th>DMDHREDU</th>\n",
       "      <th>DMDHRMAR</th>\n",
       "      <th>DMDHSEDU</th>\n",
       "      <th>WTINT2YR</th>\n",
       "      <th>WTMEC2YR</th>\n",
       "      <th>SDMVPSU</th>\n",
       "      <th>SDMVSTRA</th>\n",
       "      <th>INDHHIN2</th>\n",
       "      <th>INDFMIN2</th>\n",
       "      <th>INDFMPIR</th>\n",
       "    </tr>\n",
       "  </thead>\n",
       "  <tbody>\n",
       "    <tr>\n",
       "      <th>0</th>\n",
       "      <td>83732.0</td>\n",
       "      <td>9.0</td>\n",
       "      <td>2.0</td>\n",
       "      <td>1.0</td>\n",
       "      <td>62.0</td>\n",
       "      <td>NaN</td>\n",
       "      <td>3.0</td>\n",
       "      <td>3.0</td>\n",
       "      <td>1.0</td>\n",
       "      <td>NaN</td>\n",
       "      <td>...</td>\n",
       "      <td>5.0</td>\n",
       "      <td>1.0</td>\n",
       "      <td>3.0</td>\n",
       "      <td>134671.370419</td>\n",
       "      <td>135629.507405</td>\n",
       "      <td>1.0</td>\n",
       "      <td>125.0</td>\n",
       "      <td>10.0</td>\n",
       "      <td>10.0</td>\n",
       "      <td>4.39</td>\n",
       "    </tr>\n",
       "    <tr>\n",
       "      <th>1</th>\n",
       "      <td>83733.0</td>\n",
       "      <td>9.0</td>\n",
       "      <td>2.0</td>\n",
       "      <td>1.0</td>\n",
       "      <td>53.0</td>\n",
       "      <td>NaN</td>\n",
       "      <td>3.0</td>\n",
       "      <td>3.0</td>\n",
       "      <td>1.0</td>\n",
       "      <td>NaN</td>\n",
       "      <td>...</td>\n",
       "      <td>3.0</td>\n",
       "      <td>3.0</td>\n",
       "      <td>NaN</td>\n",
       "      <td>24328.560239</td>\n",
       "      <td>25282.425927</td>\n",
       "      <td>1.0</td>\n",
       "      <td>125.0</td>\n",
       "      <td>4.0</td>\n",
       "      <td>4.0</td>\n",
       "      <td>1.32</td>\n",
       "    </tr>\n",
       "    <tr>\n",
       "      <th>2</th>\n",
       "      <td>83734.0</td>\n",
       "      <td>9.0</td>\n",
       "      <td>2.0</td>\n",
       "      <td>1.0</td>\n",
       "      <td>78.0</td>\n",
       "      <td>NaN</td>\n",
       "      <td>3.0</td>\n",
       "      <td>3.0</td>\n",
       "      <td>2.0</td>\n",
       "      <td>NaN</td>\n",
       "      <td>...</td>\n",
       "      <td>3.0</td>\n",
       "      <td>1.0</td>\n",
       "      <td>3.0</td>\n",
       "      <td>12400.008522</td>\n",
       "      <td>12575.838818</td>\n",
       "      <td>1.0</td>\n",
       "      <td>131.0</td>\n",
       "      <td>5.0</td>\n",
       "      <td>5.0</td>\n",
       "      <td>1.51</td>\n",
       "    </tr>\n",
       "    <tr>\n",
       "      <th>3</th>\n",
       "      <td>83735.0</td>\n",
       "      <td>9.0</td>\n",
       "      <td>2.0</td>\n",
       "      <td>2.0</td>\n",
       "      <td>56.0</td>\n",
       "      <td>NaN</td>\n",
       "      <td>3.0</td>\n",
       "      <td>3.0</td>\n",
       "      <td>2.0</td>\n",
       "      <td>NaN</td>\n",
       "      <td>...</td>\n",
       "      <td>5.0</td>\n",
       "      <td>6.0</td>\n",
       "      <td>NaN</td>\n",
       "      <td>102717.995647</td>\n",
       "      <td>102078.634508</td>\n",
       "      <td>1.0</td>\n",
       "      <td>131.0</td>\n",
       "      <td>10.0</td>\n",
       "      <td>10.0</td>\n",
       "      <td>5.00</td>\n",
       "    </tr>\n",
       "    <tr>\n",
       "      <th>4</th>\n",
       "      <td>83736.0</td>\n",
       "      <td>9.0</td>\n",
       "      <td>2.0</td>\n",
       "      <td>2.0</td>\n",
       "      <td>42.0</td>\n",
       "      <td>NaN</td>\n",
       "      <td>4.0</td>\n",
       "      <td>4.0</td>\n",
       "      <td>2.0</td>\n",
       "      <td>NaN</td>\n",
       "      <td>...</td>\n",
       "      <td>4.0</td>\n",
       "      <td>3.0</td>\n",
       "      <td>NaN</td>\n",
       "      <td>17627.674984</td>\n",
       "      <td>18234.736219</td>\n",
       "      <td>2.0</td>\n",
       "      <td>126.0</td>\n",
       "      <td>7.0</td>\n",
       "      <td>7.0</td>\n",
       "      <td>1.23</td>\n",
       "    </tr>\n",
       "  </tbody>\n",
       "</table>\n",
       "<p>5 rows × 47 columns</p>\n",
       "</div>"
      ],
      "text/plain": [
       "      SEQN  SDDSRVYR  RIDSTATR  RIAGENDR  RIDAGEYR  RIDAGEMN  RIDRETH1  \\\n",
       "0  83732.0       9.0       2.0       1.0      62.0       NaN       3.0   \n",
       "1  83733.0       9.0       2.0       1.0      53.0       NaN       3.0   \n",
       "2  83734.0       9.0       2.0       1.0      78.0       NaN       3.0   \n",
       "3  83735.0       9.0       2.0       2.0      56.0       NaN       3.0   \n",
       "4  83736.0       9.0       2.0       2.0      42.0       NaN       4.0   \n",
       "\n",
       "   RIDRETH3  RIDEXMON  RIDEXAGM    ...     DMDHREDU  DMDHRMAR  DMDHSEDU  \\\n",
       "0       3.0       1.0       NaN    ...          5.0       1.0       3.0   \n",
       "1       3.0       1.0       NaN    ...          3.0       3.0       NaN   \n",
       "2       3.0       2.0       NaN    ...          3.0       1.0       3.0   \n",
       "3       3.0       2.0       NaN    ...          5.0       6.0       NaN   \n",
       "4       4.0       2.0       NaN    ...          4.0       3.0       NaN   \n",
       "\n",
       "        WTINT2YR       WTMEC2YR  SDMVPSU  SDMVSTRA  INDHHIN2  INDFMIN2  \\\n",
       "0  134671.370419  135629.507405      1.0     125.0      10.0      10.0   \n",
       "1   24328.560239   25282.425927      1.0     125.0       4.0       4.0   \n",
       "2   12400.008522   12575.838818      1.0     131.0       5.0       5.0   \n",
       "3  102717.995647  102078.634508      1.0     131.0      10.0      10.0   \n",
       "4   17627.674984   18234.736219      2.0     126.0       7.0       7.0   \n",
       "\n",
       "   INDFMPIR  \n",
       "0      4.39  \n",
       "1      1.32  \n",
       "2      1.51  \n",
       "3      5.00  \n",
       "4      1.23  \n",
       "\n",
       "[5 rows x 47 columns]"
      ]
     },
     "execution_count": 2,
     "metadata": {},
     "output_type": "execute_result"
    }
   ],
   "source": [
    "demographics = pd.read_sas('data/DEMO_I.XPT')\n",
    "demographics.head()"
   ]
  },
  {
   "cell_type": "markdown",
   "metadata": {},
   "source": [
    "Drug Use Dataset"
   ]
  },
  {
   "cell_type": "code",
   "execution_count": 3,
   "metadata": {},
   "outputs": [
    {
     "data": {
      "text/html": [
       "<div>\n",
       "<style scoped>\n",
       "    .dataframe tbody tr th:only-of-type {\n",
       "        vertical-align: middle;\n",
       "    }\n",
       "\n",
       "    .dataframe tbody tr th {\n",
       "        vertical-align: top;\n",
       "    }\n",
       "\n",
       "    .dataframe thead th {\n",
       "        text-align: right;\n",
       "    }\n",
       "</style>\n",
       "<table border=\"1\" class=\"dataframe\">\n",
       "  <thead>\n",
       "    <tr style=\"text-align: right;\">\n",
       "      <th></th>\n",
       "      <th>SEQN</th>\n",
       "      <th>DUQ200</th>\n",
       "      <th>DUQ210</th>\n",
       "      <th>DUQ211</th>\n",
       "      <th>DUQ213</th>\n",
       "      <th>DUQ215Q</th>\n",
       "      <th>DUQ215U</th>\n",
       "      <th>DUQ217</th>\n",
       "      <th>DUQ219</th>\n",
       "      <th>DUQ220Q</th>\n",
       "      <th>...</th>\n",
       "      <th>DUQ380B</th>\n",
       "      <th>DUQ380C</th>\n",
       "      <th>DUQ380D</th>\n",
       "      <th>DUQ380E</th>\n",
       "      <th>DUQ390</th>\n",
       "      <th>DUQ400Q</th>\n",
       "      <th>DUQ400U</th>\n",
       "      <th>DUQ410</th>\n",
       "      <th>DUQ420</th>\n",
       "      <th>DUQ430</th>\n",
       "    </tr>\n",
       "  </thead>\n",
       "  <tbody>\n",
       "    <tr>\n",
       "      <th>0</th>\n",
       "      <td>83732.0</td>\n",
       "      <td>NaN</td>\n",
       "      <td>NaN</td>\n",
       "      <td>NaN</td>\n",
       "      <td>NaN</td>\n",
       "      <td>NaN</td>\n",
       "      <td>NaN</td>\n",
       "      <td>NaN</td>\n",
       "      <td>NaN</td>\n",
       "      <td>NaN</td>\n",
       "      <td>...</td>\n",
       "      <td>NaN</td>\n",
       "      <td>NaN</td>\n",
       "      <td>NaN</td>\n",
       "      <td>NaN</td>\n",
       "      <td>NaN</td>\n",
       "      <td>NaN</td>\n",
       "      <td>NaN</td>\n",
       "      <td>NaN</td>\n",
       "      <td>NaN</td>\n",
       "      <td>NaN</td>\n",
       "    </tr>\n",
       "    <tr>\n",
       "      <th>1</th>\n",
       "      <td>83733.0</td>\n",
       "      <td>2.0</td>\n",
       "      <td>NaN</td>\n",
       "      <td>NaN</td>\n",
       "      <td>NaN</td>\n",
       "      <td>NaN</td>\n",
       "      <td>NaN</td>\n",
       "      <td>NaN</td>\n",
       "      <td>NaN</td>\n",
       "      <td>NaN</td>\n",
       "      <td>...</td>\n",
       "      <td>NaN</td>\n",
       "      <td>NaN</td>\n",
       "      <td>NaN</td>\n",
       "      <td>NaN</td>\n",
       "      <td>NaN</td>\n",
       "      <td>NaN</td>\n",
       "      <td>NaN</td>\n",
       "      <td>NaN</td>\n",
       "      <td>NaN</td>\n",
       "      <td>NaN</td>\n",
       "    </tr>\n",
       "    <tr>\n",
       "      <th>2</th>\n",
       "      <td>83735.0</td>\n",
       "      <td>2.0</td>\n",
       "      <td>NaN</td>\n",
       "      <td>NaN</td>\n",
       "      <td>NaN</td>\n",
       "      <td>NaN</td>\n",
       "      <td>NaN</td>\n",
       "      <td>NaN</td>\n",
       "      <td>NaN</td>\n",
       "      <td>NaN</td>\n",
       "      <td>...</td>\n",
       "      <td>NaN</td>\n",
       "      <td>NaN</td>\n",
       "      <td>NaN</td>\n",
       "      <td>NaN</td>\n",
       "      <td>NaN</td>\n",
       "      <td>NaN</td>\n",
       "      <td>NaN</td>\n",
       "      <td>NaN</td>\n",
       "      <td>NaN</td>\n",
       "      <td>NaN</td>\n",
       "    </tr>\n",
       "    <tr>\n",
       "      <th>3</th>\n",
       "      <td>83736.0</td>\n",
       "      <td>1.0</td>\n",
       "      <td>25.0</td>\n",
       "      <td>1.0</td>\n",
       "      <td>25.0</td>\n",
       "      <td>5.397605e-79</td>\n",
       "      <td>1.0</td>\n",
       "      <td>5.0</td>\n",
       "      <td>4.0</td>\n",
       "      <td>1.0</td>\n",
       "      <td>...</td>\n",
       "      <td>NaN</td>\n",
       "      <td>NaN</td>\n",
       "      <td>NaN</td>\n",
       "      <td>NaN</td>\n",
       "      <td>NaN</td>\n",
       "      <td>NaN</td>\n",
       "      <td>NaN</td>\n",
       "      <td>NaN</td>\n",
       "      <td>NaN</td>\n",
       "      <td>2.0</td>\n",
       "    </tr>\n",
       "    <tr>\n",
       "      <th>4</th>\n",
       "      <td>83741.0</td>\n",
       "      <td>1.0</td>\n",
       "      <td>15.0</td>\n",
       "      <td>1.0</td>\n",
       "      <td>16.0</td>\n",
       "      <td>1.000000e+00</td>\n",
       "      <td>4.0</td>\n",
       "      <td>4.0</td>\n",
       "      <td>2.0</td>\n",
       "      <td>1.0</td>\n",
       "      <td>...</td>\n",
       "      <td>NaN</td>\n",
       "      <td>NaN</td>\n",
       "      <td>NaN</td>\n",
       "      <td>NaN</td>\n",
       "      <td>NaN</td>\n",
       "      <td>NaN</td>\n",
       "      <td>NaN</td>\n",
       "      <td>NaN</td>\n",
       "      <td>NaN</td>\n",
       "      <td>1.0</td>\n",
       "    </tr>\n",
       "  </tbody>\n",
       "</table>\n",
       "<p>5 rows × 42 columns</p>\n",
       "</div>"
      ],
      "text/plain": [
       "      SEQN  DUQ200  DUQ210  DUQ211  DUQ213       DUQ215Q  DUQ215U  DUQ217  \\\n",
       "0  83732.0     NaN     NaN     NaN     NaN           NaN      NaN     NaN   \n",
       "1  83733.0     2.0     NaN     NaN     NaN           NaN      NaN     NaN   \n",
       "2  83735.0     2.0     NaN     NaN     NaN           NaN      NaN     NaN   \n",
       "3  83736.0     1.0    25.0     1.0    25.0  5.397605e-79      1.0     5.0   \n",
       "4  83741.0     1.0    15.0     1.0    16.0  1.000000e+00      4.0     4.0   \n",
       "\n",
       "   DUQ219  DUQ220Q   ...    DUQ380B  DUQ380C  DUQ380D  DUQ380E  DUQ390  \\\n",
       "0     NaN      NaN   ...        NaN      NaN      NaN      NaN     NaN   \n",
       "1     NaN      NaN   ...        NaN      NaN      NaN      NaN     NaN   \n",
       "2     NaN      NaN   ...        NaN      NaN      NaN      NaN     NaN   \n",
       "3     4.0      1.0   ...        NaN      NaN      NaN      NaN     NaN   \n",
       "4     2.0      1.0   ...        NaN      NaN      NaN      NaN     NaN   \n",
       "\n",
       "   DUQ400Q  DUQ400U  DUQ410  DUQ420  DUQ430  \n",
       "0      NaN      NaN     NaN     NaN     NaN  \n",
       "1      NaN      NaN     NaN     NaN     NaN  \n",
       "2      NaN      NaN     NaN     NaN     NaN  \n",
       "3      NaN      NaN     NaN     NaN     2.0  \n",
       "4      NaN      NaN     NaN     NaN     1.0  \n",
       "\n",
       "[5 rows x 42 columns]"
      ]
     },
     "execution_count": 3,
     "metadata": {},
     "output_type": "execute_result"
    }
   ],
   "source": [
    "questionaire = pd.read_sas('data/DUQ_I.XPT')\n",
    "questionaire.head()"
   ]
  },
  {
   "cell_type": "markdown",
   "metadata": {},
   "source": [
    "We merged the two dataframes based on the sequence number."
   ]
  },
  {
   "cell_type": "code",
   "execution_count": 4,
   "metadata": {},
   "outputs": [
    {
     "data": {
      "text/html": [
       "<div>\n",
       "<style scoped>\n",
       "    .dataframe tbody tr th:only-of-type {\n",
       "        vertical-align: middle;\n",
       "    }\n",
       "\n",
       "    .dataframe tbody tr th {\n",
       "        vertical-align: top;\n",
       "    }\n",
       "\n",
       "    .dataframe thead th {\n",
       "        text-align: right;\n",
       "    }\n",
       "</style>\n",
       "<table border=\"1\" class=\"dataframe\">\n",
       "  <thead>\n",
       "    <tr style=\"text-align: right;\">\n",
       "      <th></th>\n",
       "      <th>SEQN</th>\n",
       "      <th>SDDSRVYR</th>\n",
       "      <th>RIDSTATR</th>\n",
       "      <th>RIAGENDR</th>\n",
       "      <th>RIDAGEYR</th>\n",
       "      <th>RIDAGEMN</th>\n",
       "      <th>RIDRETH1</th>\n",
       "      <th>RIDRETH3</th>\n",
       "      <th>RIDEXMON</th>\n",
       "      <th>RIDEXAGM</th>\n",
       "      <th>...</th>\n",
       "      <th>DUQ380B</th>\n",
       "      <th>DUQ380C</th>\n",
       "      <th>DUQ380D</th>\n",
       "      <th>DUQ380E</th>\n",
       "      <th>DUQ390</th>\n",
       "      <th>DUQ400Q</th>\n",
       "      <th>DUQ400U</th>\n",
       "      <th>DUQ410</th>\n",
       "      <th>DUQ420</th>\n",
       "      <th>DUQ430</th>\n",
       "    </tr>\n",
       "  </thead>\n",
       "  <tbody>\n",
       "    <tr>\n",
       "      <th>0</th>\n",
       "      <td>83732.0</td>\n",
       "      <td>9.0</td>\n",
       "      <td>2.0</td>\n",
       "      <td>1.0</td>\n",
       "      <td>62.0</td>\n",
       "      <td>NaN</td>\n",
       "      <td>3.0</td>\n",
       "      <td>3.0</td>\n",
       "      <td>1.0</td>\n",
       "      <td>NaN</td>\n",
       "      <td>...</td>\n",
       "      <td>NaN</td>\n",
       "      <td>NaN</td>\n",
       "      <td>NaN</td>\n",
       "      <td>NaN</td>\n",
       "      <td>NaN</td>\n",
       "      <td>NaN</td>\n",
       "      <td>NaN</td>\n",
       "      <td>NaN</td>\n",
       "      <td>NaN</td>\n",
       "      <td>NaN</td>\n",
       "    </tr>\n",
       "    <tr>\n",
       "      <th>1</th>\n",
       "      <td>83733.0</td>\n",
       "      <td>9.0</td>\n",
       "      <td>2.0</td>\n",
       "      <td>1.0</td>\n",
       "      <td>53.0</td>\n",
       "      <td>NaN</td>\n",
       "      <td>3.0</td>\n",
       "      <td>3.0</td>\n",
       "      <td>1.0</td>\n",
       "      <td>NaN</td>\n",
       "      <td>...</td>\n",
       "      <td>NaN</td>\n",
       "      <td>NaN</td>\n",
       "      <td>NaN</td>\n",
       "      <td>NaN</td>\n",
       "      <td>NaN</td>\n",
       "      <td>NaN</td>\n",
       "      <td>NaN</td>\n",
       "      <td>NaN</td>\n",
       "      <td>NaN</td>\n",
       "      <td>NaN</td>\n",
       "    </tr>\n",
       "    <tr>\n",
       "      <th>2</th>\n",
       "      <td>83735.0</td>\n",
       "      <td>9.0</td>\n",
       "      <td>2.0</td>\n",
       "      <td>2.0</td>\n",
       "      <td>56.0</td>\n",
       "      <td>NaN</td>\n",
       "      <td>3.0</td>\n",
       "      <td>3.0</td>\n",
       "      <td>2.0</td>\n",
       "      <td>NaN</td>\n",
       "      <td>...</td>\n",
       "      <td>NaN</td>\n",
       "      <td>NaN</td>\n",
       "      <td>NaN</td>\n",
       "      <td>NaN</td>\n",
       "      <td>NaN</td>\n",
       "      <td>NaN</td>\n",
       "      <td>NaN</td>\n",
       "      <td>NaN</td>\n",
       "      <td>NaN</td>\n",
       "      <td>NaN</td>\n",
       "    </tr>\n",
       "    <tr>\n",
       "      <th>3</th>\n",
       "      <td>83736.0</td>\n",
       "      <td>9.0</td>\n",
       "      <td>2.0</td>\n",
       "      <td>2.0</td>\n",
       "      <td>42.0</td>\n",
       "      <td>NaN</td>\n",
       "      <td>4.0</td>\n",
       "      <td>4.0</td>\n",
       "      <td>2.0</td>\n",
       "      <td>NaN</td>\n",
       "      <td>...</td>\n",
       "      <td>NaN</td>\n",
       "      <td>NaN</td>\n",
       "      <td>NaN</td>\n",
       "      <td>NaN</td>\n",
       "      <td>NaN</td>\n",
       "      <td>NaN</td>\n",
       "      <td>NaN</td>\n",
       "      <td>NaN</td>\n",
       "      <td>NaN</td>\n",
       "      <td>2.0</td>\n",
       "    </tr>\n",
       "    <tr>\n",
       "      <th>4</th>\n",
       "      <td>83741.0</td>\n",
       "      <td>9.0</td>\n",
       "      <td>2.0</td>\n",
       "      <td>1.0</td>\n",
       "      <td>22.0</td>\n",
       "      <td>NaN</td>\n",
       "      <td>4.0</td>\n",
       "      <td>4.0</td>\n",
       "      <td>1.0</td>\n",
       "      <td>NaN</td>\n",
       "      <td>...</td>\n",
       "      <td>NaN</td>\n",
       "      <td>NaN</td>\n",
       "      <td>NaN</td>\n",
       "      <td>NaN</td>\n",
       "      <td>NaN</td>\n",
       "      <td>NaN</td>\n",
       "      <td>NaN</td>\n",
       "      <td>NaN</td>\n",
       "      <td>NaN</td>\n",
       "      <td>1.0</td>\n",
       "    </tr>\n",
       "  </tbody>\n",
       "</table>\n",
       "<p>5 rows × 88 columns</p>\n",
       "</div>"
      ],
      "text/plain": [
       "      SEQN  SDDSRVYR  RIDSTATR  RIAGENDR  RIDAGEYR  RIDAGEMN  RIDRETH1  \\\n",
       "0  83732.0       9.0       2.0       1.0      62.0       NaN       3.0   \n",
       "1  83733.0       9.0       2.0       1.0      53.0       NaN       3.0   \n",
       "2  83735.0       9.0       2.0       2.0      56.0       NaN       3.0   \n",
       "3  83736.0       9.0       2.0       2.0      42.0       NaN       4.0   \n",
       "4  83741.0       9.0       2.0       1.0      22.0       NaN       4.0   \n",
       "\n",
       "   RIDRETH3  RIDEXMON  RIDEXAGM   ...    DUQ380B  DUQ380C  DUQ380D  DUQ380E  \\\n",
       "0       3.0       1.0       NaN   ...        NaN      NaN      NaN      NaN   \n",
       "1       3.0       1.0       NaN   ...        NaN      NaN      NaN      NaN   \n",
       "2       3.0       2.0       NaN   ...        NaN      NaN      NaN      NaN   \n",
       "3       4.0       2.0       NaN   ...        NaN      NaN      NaN      NaN   \n",
       "4       4.0       1.0       NaN   ...        NaN      NaN      NaN      NaN   \n",
       "\n",
       "   DUQ390  DUQ400Q  DUQ400U  DUQ410  DUQ420  DUQ430  \n",
       "0     NaN      NaN      NaN     NaN     NaN     NaN  \n",
       "1     NaN      NaN      NaN     NaN     NaN     NaN  \n",
       "2     NaN      NaN      NaN     NaN     NaN     NaN  \n",
       "3     NaN      NaN      NaN     NaN     NaN     2.0  \n",
       "4     NaN      NaN      NaN     NaN     NaN     1.0  \n",
       "\n",
       "[5 rows x 88 columns]"
      ]
     },
     "execution_count": 4,
     "metadata": {},
     "output_type": "execute_result"
    }
   ],
   "source": [
    "merged = pd.merge(demographics, questionaire, on = 'SEQN')\n",
    "merged.head()"
   ]
  },
  {
   "cell_type": "markdown",
   "metadata": {},
   "source": [
    "We then went through the columns and decided on which column we wanted to utilize for our analysis. "
   ]
  },
  {
   "cell_type": "code",
   "execution_count": 5,
   "metadata": {},
   "outputs": [],
   "source": [
    "cols = ['SEQN', 'RIAGENDR', 'RIDAGEYR', 'DMDEDUC3', 'DMDEDUC2', 'DMDMARTL', 'RIDEXPRG', 'INDHHIN2', \n",
    "        'INDFMPIR', 'DMDHHSIZ', 'DMDHHSZA', 'DMDHHSZB', 'DMDHHSZE', 'DUQ200', 'DUQ210', 'DUQ217', 'DUQ211', \n",
    "        'DUQ213', 'DUQ215Q', 'DUQ219', 'DUQ220Q', 'DUQ230']\n",
    "df = merged[cols]\n",
    "df['CHILDREN_NUM'] = df['DMDHHSZA'] + df['DMDHHSZB']\n",
    "df = df.drop(columns = ['DMDHHSZA', 'DMDHHSZB'])"
   ]
  },
  {
   "cell_type": "markdown",
   "metadata": {},
   "source": [
    "We then standardized our refused and don't know data (all 7's were refused and 9's were unknown). "
   ]
  },
  {
   "cell_type": "code",
   "execution_count": 6,
   "metadata": {},
   "outputs": [],
   "source": [
    "lst_7 = ['DMDEDUC2', 'DUQ200', 'DUQ217', 'DUQ211', 'DUQ219']\n",
    "lst_77 = ['DMDMARTL', 'DMDEDUC3', 'INDHHIN2']\n",
    "lst_777 = ['DUQ210', 'DUQ213', 'DUQ230']\n",
    "\n",
    "for i in lst_7:\n",
    "    df[i] = df[i].replace({7: 7777, 9: 9999})\n",
    "for i in lst_77:\n",
    "    df[i] = df[i].replace({77: 7777, 99: 9999})\n",
    "for i in lst_777:\n",
    "    df[i] = df[i].replace({777: 7777, 999: 9999})"
   ]
  },
  {
   "cell_type": "markdown",
   "metadata": {},
   "source": [
    "To make our dataframe's columns more readable, we used a translation dictionary to make the column names easier to understand."
   ]
  },
  {
   "cell_type": "code",
   "execution_count": 7,
   "metadata": {},
   "outputs": [
    {
     "data": {
      "text/html": [
       "<div>\n",
       "<style scoped>\n",
       "    .dataframe tbody tr th:only-of-type {\n",
       "        vertical-align: middle;\n",
       "    }\n",
       "\n",
       "    .dataframe tbody tr th {\n",
       "        vertical-align: top;\n",
       "    }\n",
       "\n",
       "    .dataframe thead th {\n",
       "        text-align: right;\n",
       "    }\n",
       "</style>\n",
       "<table border=\"1\" class=\"dataframe\">\n",
       "  <thead>\n",
       "    <tr style=\"text-align: right;\">\n",
       "      <th></th>\n",
       "      <th>ID</th>\n",
       "      <th>GENDER</th>\n",
       "      <th>AGE</th>\n",
       "      <th>EDUCATION_KID</th>\n",
       "      <th>EDUCATION_ADULT</th>\n",
       "      <th>MARRIAGE</th>\n",
       "      <th>PREGNANCY</th>\n",
       "      <th>INCOME</th>\n",
       "      <th>INCOME_RATIO</th>\n",
       "      <th>HOUSEHOLD_NUM</th>\n",
       "      <th>...</th>\n",
       "      <th>EVER_USE</th>\n",
       "      <th>FIRST_USAGE</th>\n",
       "      <th>FREQUENCY</th>\n",
       "      <th>PER_MONTH</th>\n",
       "      <th>AGE_REGULAR_USE</th>\n",
       "      <th>LAST_ONCE_MONTH</th>\n",
       "      <th>AMOUNT</th>\n",
       "      <th>LAST_USAGE</th>\n",
       "      <th>PAST_MONTH_USAGE</th>\n",
       "      <th>CHILDREN_NUM</th>\n",
       "    </tr>\n",
       "  </thead>\n",
       "  <tbody>\n",
       "    <tr>\n",
       "      <th>0</th>\n",
       "      <td>83732.0</td>\n",
       "      <td>1.0</td>\n",
       "      <td>62.0</td>\n",
       "      <td>NaN</td>\n",
       "      <td>5.0</td>\n",
       "      <td>1.0</td>\n",
       "      <td>NaN</td>\n",
       "      <td>10.0</td>\n",
       "      <td>4.39</td>\n",
       "      <td>2.0</td>\n",
       "      <td>...</td>\n",
       "      <td>NaN</td>\n",
       "      <td>NaN</td>\n",
       "      <td>NaN</td>\n",
       "      <td>NaN</td>\n",
       "      <td>NaN</td>\n",
       "      <td>NaN</td>\n",
       "      <td>NaN</td>\n",
       "      <td>NaN</td>\n",
       "      <td>NaN</td>\n",
       "      <td>1.079521e-78</td>\n",
       "    </tr>\n",
       "    <tr>\n",
       "      <th>1</th>\n",
       "      <td>83733.0</td>\n",
       "      <td>1.0</td>\n",
       "      <td>53.0</td>\n",
       "      <td>NaN</td>\n",
       "      <td>3.0</td>\n",
       "      <td>3.0</td>\n",
       "      <td>NaN</td>\n",
       "      <td>4.0</td>\n",
       "      <td>1.32</td>\n",
       "      <td>1.0</td>\n",
       "      <td>...</td>\n",
       "      <td>2.0</td>\n",
       "      <td>NaN</td>\n",
       "      <td>NaN</td>\n",
       "      <td>NaN</td>\n",
       "      <td>NaN</td>\n",
       "      <td>NaN</td>\n",
       "      <td>NaN</td>\n",
       "      <td>NaN</td>\n",
       "      <td>NaN</td>\n",
       "      <td>1.079521e-78</td>\n",
       "    </tr>\n",
       "    <tr>\n",
       "      <th>2</th>\n",
       "      <td>83735.0</td>\n",
       "      <td>2.0</td>\n",
       "      <td>56.0</td>\n",
       "      <td>NaN</td>\n",
       "      <td>5.0</td>\n",
       "      <td>6.0</td>\n",
       "      <td>NaN</td>\n",
       "      <td>10.0</td>\n",
       "      <td>5.00</td>\n",
       "      <td>1.0</td>\n",
       "      <td>...</td>\n",
       "      <td>2.0</td>\n",
       "      <td>NaN</td>\n",
       "      <td>NaN</td>\n",
       "      <td>NaN</td>\n",
       "      <td>NaN</td>\n",
       "      <td>NaN</td>\n",
       "      <td>NaN</td>\n",
       "      <td>NaN</td>\n",
       "      <td>NaN</td>\n",
       "      <td>1.079521e-78</td>\n",
       "    </tr>\n",
       "    <tr>\n",
       "      <th>3</th>\n",
       "      <td>83736.0</td>\n",
       "      <td>2.0</td>\n",
       "      <td>42.0</td>\n",
       "      <td>NaN</td>\n",
       "      <td>4.0</td>\n",
       "      <td>3.0</td>\n",
       "      <td>1.0</td>\n",
       "      <td>7.0</td>\n",
       "      <td>1.23</td>\n",
       "      <td>5.0</td>\n",
       "      <td>...</td>\n",
       "      <td>1.0</td>\n",
       "      <td>25.0</td>\n",
       "      <td>5.0</td>\n",
       "      <td>1.0</td>\n",
       "      <td>25.0</td>\n",
       "      <td>5.397605e-79</td>\n",
       "      <td>4.0</td>\n",
       "      <td>1.0</td>\n",
       "      <td>30.0</td>\n",
       "      <td>2.000000e+00</td>\n",
       "    </tr>\n",
       "    <tr>\n",
       "      <th>4</th>\n",
       "      <td>83741.0</td>\n",
       "      <td>1.0</td>\n",
       "      <td>22.0</td>\n",
       "      <td>NaN</td>\n",
       "      <td>4.0</td>\n",
       "      <td>5.0</td>\n",
       "      <td>NaN</td>\n",
       "      <td>7.0</td>\n",
       "      <td>2.08</td>\n",
       "      <td>3.0</td>\n",
       "      <td>...</td>\n",
       "      <td>1.0</td>\n",
       "      <td>15.0</td>\n",
       "      <td>4.0</td>\n",
       "      <td>1.0</td>\n",
       "      <td>16.0</td>\n",
       "      <td>1.000000e+00</td>\n",
       "      <td>2.0</td>\n",
       "      <td>1.0</td>\n",
       "      <td>25.0</td>\n",
       "      <td>1.079521e-78</td>\n",
       "    </tr>\n",
       "    <tr>\n",
       "      <th>5</th>\n",
       "      <td>83742.0</td>\n",
       "      <td>2.0</td>\n",
       "      <td>32.0</td>\n",
       "      <td>NaN</td>\n",
       "      <td>4.0</td>\n",
       "      <td>1.0</td>\n",
       "      <td>2.0</td>\n",
       "      <td>6.0</td>\n",
       "      <td>1.03</td>\n",
       "      <td>4.0</td>\n",
       "      <td>...</td>\n",
       "      <td>1.0</td>\n",
       "      <td>18.0</td>\n",
       "      <td>NaN</td>\n",
       "      <td>2.0</td>\n",
       "      <td>NaN</td>\n",
       "      <td>NaN</td>\n",
       "      <td>NaN</td>\n",
       "      <td>13.0</td>\n",
       "      <td>NaN</td>\n",
       "      <td>2.000000e+00</td>\n",
       "    </tr>\n",
       "    <tr>\n",
       "      <th>6</th>\n",
       "      <td>83743.0</td>\n",
       "      <td>1.0</td>\n",
       "      <td>18.0</td>\n",
       "      <td>11.0</td>\n",
       "      <td>NaN</td>\n",
       "      <td>NaN</td>\n",
       "      <td>NaN</td>\n",
       "      <td>15.0</td>\n",
       "      <td>5.00</td>\n",
       "      <td>3.0</td>\n",
       "      <td>...</td>\n",
       "      <td>2.0</td>\n",
       "      <td>NaN</td>\n",
       "      <td>NaN</td>\n",
       "      <td>NaN</td>\n",
       "      <td>NaN</td>\n",
       "      <td>NaN</td>\n",
       "      <td>NaN</td>\n",
       "      <td>NaN</td>\n",
       "      <td>NaN</td>\n",
       "      <td>1.079521e-78</td>\n",
       "    </tr>\n",
       "    <tr>\n",
       "      <th>7</th>\n",
       "      <td>83744.0</td>\n",
       "      <td>1.0</td>\n",
       "      <td>56.0</td>\n",
       "      <td>NaN</td>\n",
       "      <td>3.0</td>\n",
       "      <td>3.0</td>\n",
       "      <td>NaN</td>\n",
       "      <td>3.0</td>\n",
       "      <td>1.19</td>\n",
       "      <td>1.0</td>\n",
       "      <td>...</td>\n",
       "      <td>1.0</td>\n",
       "      <td>18.0</td>\n",
       "      <td>NaN</td>\n",
       "      <td>2.0</td>\n",
       "      <td>NaN</td>\n",
       "      <td>NaN</td>\n",
       "      <td>NaN</td>\n",
       "      <td>20.0</td>\n",
       "      <td>NaN</td>\n",
       "      <td>1.079521e-78</td>\n",
       "    </tr>\n",
       "    <tr>\n",
       "      <th>8</th>\n",
       "      <td>83747.0</td>\n",
       "      <td>1.0</td>\n",
       "      <td>46.0</td>\n",
       "      <td>NaN</td>\n",
       "      <td>5.0</td>\n",
       "      <td>6.0</td>\n",
       "      <td>NaN</td>\n",
       "      <td>3.0</td>\n",
       "      <td>0.75</td>\n",
       "      <td>2.0</td>\n",
       "      <td>...</td>\n",
       "      <td>2.0</td>\n",
       "      <td>NaN</td>\n",
       "      <td>NaN</td>\n",
       "      <td>NaN</td>\n",
       "      <td>NaN</td>\n",
       "      <td>NaN</td>\n",
       "      <td>NaN</td>\n",
       "      <td>NaN</td>\n",
       "      <td>NaN</td>\n",
       "      <td>1.079521e-78</td>\n",
       "    </tr>\n",
       "    <tr>\n",
       "      <th>9</th>\n",
       "      <td>83750.0</td>\n",
       "      <td>1.0</td>\n",
       "      <td>45.0</td>\n",
       "      <td>NaN</td>\n",
       "      <td>2.0</td>\n",
       "      <td>5.0</td>\n",
       "      <td>NaN</td>\n",
       "      <td>10.0</td>\n",
       "      <td>1.36</td>\n",
       "      <td>5.0</td>\n",
       "      <td>...</td>\n",
       "      <td>1.0</td>\n",
       "      <td>21.0</td>\n",
       "      <td>NaN</td>\n",
       "      <td>2.0</td>\n",
       "      <td>NaN</td>\n",
       "      <td>NaN</td>\n",
       "      <td>NaN</td>\n",
       "      <td>20.0</td>\n",
       "      <td>1.0</td>\n",
       "      <td>2.000000e+00</td>\n",
       "    </tr>\n",
       "  </tbody>\n",
       "</table>\n",
       "<p>10 rows × 21 columns</p>\n",
       "</div>"
      ],
      "text/plain": [
       "        ID  GENDER   AGE  EDUCATION_KID  EDUCATION_ADULT  MARRIAGE  PREGNANCY  \\\n",
       "0  83732.0     1.0  62.0            NaN              5.0       1.0        NaN   \n",
       "1  83733.0     1.0  53.0            NaN              3.0       3.0        NaN   \n",
       "2  83735.0     2.0  56.0            NaN              5.0       6.0        NaN   \n",
       "3  83736.0     2.0  42.0            NaN              4.0       3.0        1.0   \n",
       "4  83741.0     1.0  22.0            NaN              4.0       5.0        NaN   \n",
       "5  83742.0     2.0  32.0            NaN              4.0       1.0        2.0   \n",
       "6  83743.0     1.0  18.0           11.0              NaN       NaN        NaN   \n",
       "7  83744.0     1.0  56.0            NaN              3.0       3.0        NaN   \n",
       "8  83747.0     1.0  46.0            NaN              5.0       6.0        NaN   \n",
       "9  83750.0     1.0  45.0            NaN              2.0       5.0        NaN   \n",
       "\n",
       "   INCOME  INCOME_RATIO  HOUSEHOLD_NUM      ...       EVER_USE  FIRST_USAGE  \\\n",
       "0    10.0          4.39            2.0      ...            NaN          NaN   \n",
       "1     4.0          1.32            1.0      ...            2.0          NaN   \n",
       "2    10.0          5.00            1.0      ...            2.0          NaN   \n",
       "3     7.0          1.23            5.0      ...            1.0         25.0   \n",
       "4     7.0          2.08            3.0      ...            1.0         15.0   \n",
       "5     6.0          1.03            4.0      ...            1.0         18.0   \n",
       "6    15.0          5.00            3.0      ...            2.0          NaN   \n",
       "7     3.0          1.19            1.0      ...            1.0         18.0   \n",
       "8     3.0          0.75            2.0      ...            2.0          NaN   \n",
       "9    10.0          1.36            5.0      ...            1.0         21.0   \n",
       "\n",
       "   FREQUENCY  PER_MONTH  AGE_REGULAR_USE  LAST_ONCE_MONTH  AMOUNT  LAST_USAGE  \\\n",
       "0        NaN        NaN              NaN              NaN     NaN         NaN   \n",
       "1        NaN        NaN              NaN              NaN     NaN         NaN   \n",
       "2        NaN        NaN              NaN              NaN     NaN         NaN   \n",
       "3        5.0        1.0             25.0     5.397605e-79     4.0         1.0   \n",
       "4        4.0        1.0             16.0     1.000000e+00     2.0         1.0   \n",
       "5        NaN        2.0              NaN              NaN     NaN        13.0   \n",
       "6        NaN        NaN              NaN              NaN     NaN         NaN   \n",
       "7        NaN        2.0              NaN              NaN     NaN        20.0   \n",
       "8        NaN        NaN              NaN              NaN     NaN         NaN   \n",
       "9        NaN        2.0              NaN              NaN     NaN        20.0   \n",
       "\n",
       "   PAST_MONTH_USAGE  CHILDREN_NUM  \n",
       "0               NaN  1.079521e-78  \n",
       "1               NaN  1.079521e-78  \n",
       "2               NaN  1.079521e-78  \n",
       "3              30.0  2.000000e+00  \n",
       "4              25.0  1.079521e-78  \n",
       "5               NaN  2.000000e+00  \n",
       "6               NaN  1.079521e-78  \n",
       "7               NaN  1.079521e-78  \n",
       "8               NaN  1.079521e-78  \n",
       "9               1.0  2.000000e+00  \n",
       "\n",
       "[10 rows x 21 columns]"
      ]
     },
     "execution_count": 7,
     "metadata": {},
     "output_type": "execute_result"
    }
   ],
   "source": [
    "translation_dict = {'SEQN': 'ID', 'RIAGENDR': 'GENDER', 'RIDAGEYR': 'AGE', 'DMDMARTL': 'MARRIAGE', \n",
    "                    'RIDEXPRG': 'PREGNANCY', 'INDHHIN2': 'INCOME', 'INDFMPIR': 'INCOME_RATIO', \n",
    "                    'DMDHHSIZ': 'HOUSEHOLD_NUM', 'DMDHHSZE': 'OVER_60_NUM', 'DUQ200': 'EVER_USE', \n",
    "                    'DUQ210': 'FIRST_USAGE', 'DUQ217': 'FREQUENCY', 'DUQ211': 'PER_MONTH', \n",
    "                    'DUQ213': 'AGE_REGULAR_USE', 'DUQ215Q': 'LAST_ONCE_MONTH', 'DUQ219': 'AMOUNT', 'DUQ220Q': 'LAST_USAGE', \n",
    "                    'DUQ230': 'PAST_MONTH_USAGE', 'DMDEDUC2': 'EDUCATION_ADULT', 'DMDEDUC3': 'EDUCATION_KID'}\n",
    "df = df.rename(index = str, columns = translation_dict)\n",
    "df.head(10)"
   ]
  },
  {
   "cell_type": "markdown",
   "metadata": {},
   "source": [
    "After looking through the data, we saw that there were some numbers that were trailing (we're assuming it is because when we merged the tables together, something happened to it). We decided to then round those numbers and to replace 5.39770e-79 to 0 because we realized that when we combined the datasets together, that number was suppose to be zero. "
   ]
  },
  {
   "cell_type": "code",
   "execution_count": 8,
   "metadata": {},
   "outputs": [
    {
     "data": {
      "text/html": [
       "<div>\n",
       "<style scoped>\n",
       "    .dataframe tbody tr th:only-of-type {\n",
       "        vertical-align: middle;\n",
       "    }\n",
       "\n",
       "    .dataframe tbody tr th {\n",
       "        vertical-align: top;\n",
       "    }\n",
       "\n",
       "    .dataframe thead th {\n",
       "        text-align: right;\n",
       "    }\n",
       "</style>\n",
       "<table border=\"1\" class=\"dataframe\">\n",
       "  <thead>\n",
       "    <tr style=\"text-align: right;\">\n",
       "      <th></th>\n",
       "      <th>ID</th>\n",
       "      <th>GENDER</th>\n",
       "      <th>AGE</th>\n",
       "      <th>EDUCATION_KID</th>\n",
       "      <th>EDUCATION_ADULT</th>\n",
       "      <th>MARRIAGE</th>\n",
       "      <th>PREGNANCY</th>\n",
       "      <th>INCOME</th>\n",
       "      <th>INCOME_RATIO</th>\n",
       "      <th>HOUSEHOLD_NUM</th>\n",
       "      <th>...</th>\n",
       "      <th>EVER_USE</th>\n",
       "      <th>FIRST_USAGE</th>\n",
       "      <th>FREQUENCY</th>\n",
       "      <th>PER_MONTH</th>\n",
       "      <th>AGE_REGULAR_USE</th>\n",
       "      <th>LAST_ONCE_MONTH</th>\n",
       "      <th>AMOUNT</th>\n",
       "      <th>LAST_USAGE</th>\n",
       "      <th>PAST_MONTH_USAGE</th>\n",
       "      <th>CHILDREN_NUM</th>\n",
       "    </tr>\n",
       "  </thead>\n",
       "  <tbody>\n",
       "    <tr>\n",
       "      <th>0</th>\n",
       "      <td>83732.0</td>\n",
       "      <td>1.0</td>\n",
       "      <td>62.0</td>\n",
       "      <td>NaN</td>\n",
       "      <td>5.0</td>\n",
       "      <td>1.0</td>\n",
       "      <td>NaN</td>\n",
       "      <td>10.0</td>\n",
       "      <td>4.39</td>\n",
       "      <td>2.0</td>\n",
       "      <td>...</td>\n",
       "      <td>NaN</td>\n",
       "      <td>NaN</td>\n",
       "      <td>NaN</td>\n",
       "      <td>NaN</td>\n",
       "      <td>NaN</td>\n",
       "      <td>NaN</td>\n",
       "      <td>NaN</td>\n",
       "      <td>NaN</td>\n",
       "      <td>NaN</td>\n",
       "      <td>0.0</td>\n",
       "    </tr>\n",
       "    <tr>\n",
       "      <th>1</th>\n",
       "      <td>83733.0</td>\n",
       "      <td>1.0</td>\n",
       "      <td>53.0</td>\n",
       "      <td>NaN</td>\n",
       "      <td>3.0</td>\n",
       "      <td>3.0</td>\n",
       "      <td>NaN</td>\n",
       "      <td>4.0</td>\n",
       "      <td>1.32</td>\n",
       "      <td>1.0</td>\n",
       "      <td>...</td>\n",
       "      <td>2.0</td>\n",
       "      <td>NaN</td>\n",
       "      <td>NaN</td>\n",
       "      <td>NaN</td>\n",
       "      <td>NaN</td>\n",
       "      <td>NaN</td>\n",
       "      <td>NaN</td>\n",
       "      <td>NaN</td>\n",
       "      <td>NaN</td>\n",
       "      <td>0.0</td>\n",
       "    </tr>\n",
       "    <tr>\n",
       "      <th>2</th>\n",
       "      <td>83735.0</td>\n",
       "      <td>2.0</td>\n",
       "      <td>56.0</td>\n",
       "      <td>NaN</td>\n",
       "      <td>5.0</td>\n",
       "      <td>6.0</td>\n",
       "      <td>NaN</td>\n",
       "      <td>10.0</td>\n",
       "      <td>5.00</td>\n",
       "      <td>1.0</td>\n",
       "      <td>...</td>\n",
       "      <td>2.0</td>\n",
       "      <td>NaN</td>\n",
       "      <td>NaN</td>\n",
       "      <td>NaN</td>\n",
       "      <td>NaN</td>\n",
       "      <td>NaN</td>\n",
       "      <td>NaN</td>\n",
       "      <td>NaN</td>\n",
       "      <td>NaN</td>\n",
       "      <td>0.0</td>\n",
       "    </tr>\n",
       "    <tr>\n",
       "      <th>3</th>\n",
       "      <td>83736.0</td>\n",
       "      <td>2.0</td>\n",
       "      <td>42.0</td>\n",
       "      <td>NaN</td>\n",
       "      <td>4.0</td>\n",
       "      <td>3.0</td>\n",
       "      <td>1.0</td>\n",
       "      <td>7.0</td>\n",
       "      <td>1.23</td>\n",
       "      <td>5.0</td>\n",
       "      <td>...</td>\n",
       "      <td>1.0</td>\n",
       "      <td>25.0</td>\n",
       "      <td>5.0</td>\n",
       "      <td>1.0</td>\n",
       "      <td>25.0</td>\n",
       "      <td>0.0</td>\n",
       "      <td>4.0</td>\n",
       "      <td>1.0</td>\n",
       "      <td>30.0</td>\n",
       "      <td>2.0</td>\n",
       "    </tr>\n",
       "    <tr>\n",
       "      <th>4</th>\n",
       "      <td>83741.0</td>\n",
       "      <td>1.0</td>\n",
       "      <td>22.0</td>\n",
       "      <td>NaN</td>\n",
       "      <td>4.0</td>\n",
       "      <td>5.0</td>\n",
       "      <td>NaN</td>\n",
       "      <td>7.0</td>\n",
       "      <td>2.08</td>\n",
       "      <td>3.0</td>\n",
       "      <td>...</td>\n",
       "      <td>1.0</td>\n",
       "      <td>15.0</td>\n",
       "      <td>4.0</td>\n",
       "      <td>1.0</td>\n",
       "      <td>16.0</td>\n",
       "      <td>1.0</td>\n",
       "      <td>2.0</td>\n",
       "      <td>1.0</td>\n",
       "      <td>25.0</td>\n",
       "      <td>0.0</td>\n",
       "    </tr>\n",
       "  </tbody>\n",
       "</table>\n",
       "<p>5 rows × 21 columns</p>\n",
       "</div>"
      ],
      "text/plain": [
       "        ID  GENDER   AGE  EDUCATION_KID  EDUCATION_ADULT  MARRIAGE  PREGNANCY  \\\n",
       "0  83732.0     1.0  62.0            NaN              5.0       1.0        NaN   \n",
       "1  83733.0     1.0  53.0            NaN              3.0       3.0        NaN   \n",
       "2  83735.0     2.0  56.0            NaN              5.0       6.0        NaN   \n",
       "3  83736.0     2.0  42.0            NaN              4.0       3.0        1.0   \n",
       "4  83741.0     1.0  22.0            NaN              4.0       5.0        NaN   \n",
       "\n",
       "   INCOME  INCOME_RATIO  HOUSEHOLD_NUM      ...       EVER_USE  FIRST_USAGE  \\\n",
       "0    10.0          4.39            2.0      ...            NaN          NaN   \n",
       "1     4.0          1.32            1.0      ...            2.0          NaN   \n",
       "2    10.0          5.00            1.0      ...            2.0          NaN   \n",
       "3     7.0          1.23            5.0      ...            1.0         25.0   \n",
       "4     7.0          2.08            3.0      ...            1.0         15.0   \n",
       "\n",
       "   FREQUENCY  PER_MONTH  AGE_REGULAR_USE  LAST_ONCE_MONTH  AMOUNT  LAST_USAGE  \\\n",
       "0        NaN        NaN              NaN              NaN     NaN         NaN   \n",
       "1        NaN        NaN              NaN              NaN     NaN         NaN   \n",
       "2        NaN        NaN              NaN              NaN     NaN         NaN   \n",
       "3        5.0        1.0             25.0              0.0     4.0         1.0   \n",
       "4        4.0        1.0             16.0              1.0     2.0         1.0   \n",
       "\n",
       "   PAST_MONTH_USAGE  CHILDREN_NUM  \n",
       "0               NaN           0.0  \n",
       "1               NaN           0.0  \n",
       "2               NaN           0.0  \n",
       "3              30.0           2.0  \n",
       "4              25.0           0.0  \n",
       "\n",
       "[5 rows x 21 columns]"
      ]
     },
     "execution_count": 8,
     "metadata": {},
     "output_type": "execute_result"
    }
   ],
   "source": [
    "#OVER_60_NUM\n",
    "#LAST_ONCE_MONTH\n",
    "#CHILDREN_NUM\n",
    "df['OVER_60_NUM'] = df['OVER_60_NUM'].round(0)\n",
    "df['LAST_ONCE_MONTH'] = df['LAST_ONCE_MONTH'].round(0)\n",
    "df['CHILDREN_NUM'] = df['CHILDREN_NUM'].round(0)\n",
    "df['INCOME_RATIO'] = df['INCOME_RATIO'].replace({5.397605e-79: 0}).round(2)\n",
    "df.head()"
   ]
  },
  {
   "cell_type": "markdown",
   "metadata": {},
   "source": [
    "We then saved our data then into a csv file, in which we used throughout our analysis."
   ]
  },
  {
   "cell_type": "code",
   "execution_count": 9,
   "metadata": {},
   "outputs": [],
   "source": [
    "#write dataframe to csv file\n",
    "df.to_csv(\"cleaned_marijuana_data.csv\")"
   ]
  },
  {
   "cell_type": "markdown",
   "metadata": {},
   "source": [
    "# Data Analysis & Results"
   ]
  },
  {
   "cell_type": "markdown",
   "metadata": {},
   "source": [
    "#### Missing Values\n",
    "\n",
    "Just from looking at the heads of many of the datasets, we noticed a lot of missing values. WE will define various types of missing values as the following: \n",
    "\n",
    "-MD: In this situation, we would expect the missing values as part of the design. There are instances of this as if someone did not ever use marijuana, the survey skips certain columns, in which those columns would be missing by design. <br>\n",
    "-MCAR: In this situation, the columns missing values are not dependent on anything else. We do not believe that there is any MCAR values within our dataset. <br>\n",
    "-MAR: In this situation, the columnns' missing values are dependent on another column. For example, if education was missing based on gender (this did not happen in our dataset, but just an example) <br>\n",
    "-NMAR: In this situation, the missing values are based on an external factor. For example, people with less incomes are more likely to not report their income.  <br>\n",
    "\n",
    "From our data, we believe that most of our missingness is not missing at random since the participant may not feel comfortable revealing certain aspects of their life. With this consideration, we did not feel like we should remove or impute any of the missing data, as there could have beem many factors that contributed to the missing data. But, we do want to acknowledge that we are aware of this missing data and that we should take that into consideration during our analysis. "
   ]
  },
  {
   "cell_type": "markdown",
   "metadata": {},
   "source": [
    "### For the sake of convenience, we don't separate data exploration and data visualization but include them into the section of data analysis & results. "
   ]
  },
  {
   "cell_type": "markdown",
   "metadata": {},
   "source": [
    "### Demographics\n",
    "\n",
    "The demographic data was obtain from the Center of Disease Control and Prevention website (https://wwwn.cdc.gov/nchs/nhanes/search/datapage.aspx?Component=Demographics&CycleBeginYear=2015) The demographics file provides individual, family, and household-level information on the following topics, which the columns of our dataset:\n",
    "    * Sequence number (ID)\n",
    "    * Gender (GENDER)\n",
    "    * Age in years AGE: Age at the time of screening, two catagories below 80 and above 80\n",
    "    * Education Level (6-19) (EDUCATION_KID): Highest greade or level of school completed \n",
    "    * Education Level (20+) (EDUCATION_ADULT): Highest greade or level of school completed \n",
    "    * Marital Status (MARRIAGE)\n",
    "    * Pregnancy Status (PREGNANCY): Pregnancy status for females between 20 and 44 years of age at the time of MEC exam\n",
    "    * Annual household income (INCOME)\n",
    "    * Ratio of family income to poverty (INCOME_RATIO)\n",
    "    * Total number of people in the Household (HOUSEHOLD_NUM)\n",
    "    * Number of children less than 18 years old (CHILDREN_NUM)\n",
    "    * Number of adults aged 60 years or older in the household (OVER_60_NUM)\n",
    "\n",
    "\n",
    "### Questionnaires:\n",
    "\n",
    "The Questionnaires data was obtain from the Center of Disease Control and Prevention website (https://wwwn.cdc.gov/nchs/nhanes/search/datapage.aspx?Component=Questionnaire&CycleBeginYear=2015). Categories of questionnaires data includes:\n",
    "\n",
    "    * Respondent sequence number (ID)   \n",
    "    * EVER_USE: Ever used marijuana or hashish\n",
    "    * FIRST_USAGE: Age when first tried marijuana\n",
    "    * FREQUENCY: How often would the user used marijuana\n",
    "    * PER_MOUNTH: How often the user would use marijuana every month\n",
    "    * AGE_REGULAR_USE: Age started using marijuana regularly\n",
    "    * LAST_ONCE_MONTH: Time since last used marijuana regularly\n",
    "    * AMOUNT: How many joints or pipes smoke in a day.\n",
    "    * LAST_USAGE: Last time used marijuana or hashish\n",
    "    * PAST_MONTH_USAGE: # days used marijuana or hashish/month"
   ]
  },
  {
   "cell_type": "code",
   "execution_count": 10,
   "metadata": {},
   "outputs": [
    {
     "data": {
      "text/html": [
       "<div>\n",
       "<style scoped>\n",
       "    .dataframe tbody tr th:only-of-type {\n",
       "        vertical-align: middle;\n",
       "    }\n",
       "\n",
       "    .dataframe tbody tr th {\n",
       "        vertical-align: top;\n",
       "    }\n",
       "\n",
       "    .dataframe thead th {\n",
       "        text-align: right;\n",
       "    }\n",
       "</style>\n",
       "<table border=\"1\" class=\"dataframe\">\n",
       "  <thead>\n",
       "    <tr style=\"text-align: right;\">\n",
       "      <th></th>\n",
       "      <th>SEQN</th>\n",
       "      <th>SDDSRVYR</th>\n",
       "      <th>RIDSTATR</th>\n",
       "      <th>RIAGENDR</th>\n",
       "      <th>RIDAGEYR</th>\n",
       "      <th>RIDAGEMN</th>\n",
       "      <th>RIDRETH1</th>\n",
       "      <th>RIDRETH3</th>\n",
       "      <th>RIDEXMON</th>\n",
       "      <th>RIDEXAGM</th>\n",
       "      <th>...</th>\n",
       "      <th>DMDHREDU</th>\n",
       "      <th>DMDHRMAR</th>\n",
       "      <th>DMDHSEDU</th>\n",
       "      <th>WTINT2YR</th>\n",
       "      <th>WTMEC2YR</th>\n",
       "      <th>SDMVPSU</th>\n",
       "      <th>SDMVSTRA</th>\n",
       "      <th>INDHHIN2</th>\n",
       "      <th>INDFMIN2</th>\n",
       "      <th>INDFMPIR</th>\n",
       "    </tr>\n",
       "  </thead>\n",
       "  <tbody>\n",
       "    <tr>\n",
       "      <th>0</th>\n",
       "      <td>83732.0</td>\n",
       "      <td>9.0</td>\n",
       "      <td>2.0</td>\n",
       "      <td>1.0</td>\n",
       "      <td>62.0</td>\n",
       "      <td>NaN</td>\n",
       "      <td>3.0</td>\n",
       "      <td>3.0</td>\n",
       "      <td>1.0</td>\n",
       "      <td>NaN</td>\n",
       "      <td>...</td>\n",
       "      <td>5.0</td>\n",
       "      <td>1.0</td>\n",
       "      <td>3.0</td>\n",
       "      <td>134671.370419</td>\n",
       "      <td>135629.507405</td>\n",
       "      <td>1.0</td>\n",
       "      <td>125.0</td>\n",
       "      <td>10.0</td>\n",
       "      <td>10.0</td>\n",
       "      <td>4.39</td>\n",
       "    </tr>\n",
       "    <tr>\n",
       "      <th>1</th>\n",
       "      <td>83733.0</td>\n",
       "      <td>9.0</td>\n",
       "      <td>2.0</td>\n",
       "      <td>1.0</td>\n",
       "      <td>53.0</td>\n",
       "      <td>NaN</td>\n",
       "      <td>3.0</td>\n",
       "      <td>3.0</td>\n",
       "      <td>1.0</td>\n",
       "      <td>NaN</td>\n",
       "      <td>...</td>\n",
       "      <td>3.0</td>\n",
       "      <td>3.0</td>\n",
       "      <td>NaN</td>\n",
       "      <td>24328.560239</td>\n",
       "      <td>25282.425927</td>\n",
       "      <td>1.0</td>\n",
       "      <td>125.0</td>\n",
       "      <td>4.0</td>\n",
       "      <td>4.0</td>\n",
       "      <td>1.32</td>\n",
       "    </tr>\n",
       "    <tr>\n",
       "      <th>2</th>\n",
       "      <td>83734.0</td>\n",
       "      <td>9.0</td>\n",
       "      <td>2.0</td>\n",
       "      <td>1.0</td>\n",
       "      <td>78.0</td>\n",
       "      <td>NaN</td>\n",
       "      <td>3.0</td>\n",
       "      <td>3.0</td>\n",
       "      <td>2.0</td>\n",
       "      <td>NaN</td>\n",
       "      <td>...</td>\n",
       "      <td>3.0</td>\n",
       "      <td>1.0</td>\n",
       "      <td>3.0</td>\n",
       "      <td>12400.008522</td>\n",
       "      <td>12575.838818</td>\n",
       "      <td>1.0</td>\n",
       "      <td>131.0</td>\n",
       "      <td>5.0</td>\n",
       "      <td>5.0</td>\n",
       "      <td>1.51</td>\n",
       "    </tr>\n",
       "    <tr>\n",
       "      <th>3</th>\n",
       "      <td>83735.0</td>\n",
       "      <td>9.0</td>\n",
       "      <td>2.0</td>\n",
       "      <td>2.0</td>\n",
       "      <td>56.0</td>\n",
       "      <td>NaN</td>\n",
       "      <td>3.0</td>\n",
       "      <td>3.0</td>\n",
       "      <td>2.0</td>\n",
       "      <td>NaN</td>\n",
       "      <td>...</td>\n",
       "      <td>5.0</td>\n",
       "      <td>6.0</td>\n",
       "      <td>NaN</td>\n",
       "      <td>102717.995647</td>\n",
       "      <td>102078.634508</td>\n",
       "      <td>1.0</td>\n",
       "      <td>131.0</td>\n",
       "      <td>10.0</td>\n",
       "      <td>10.0</td>\n",
       "      <td>5.00</td>\n",
       "    </tr>\n",
       "    <tr>\n",
       "      <th>4</th>\n",
       "      <td>83736.0</td>\n",
       "      <td>9.0</td>\n",
       "      <td>2.0</td>\n",
       "      <td>2.0</td>\n",
       "      <td>42.0</td>\n",
       "      <td>NaN</td>\n",
       "      <td>4.0</td>\n",
       "      <td>4.0</td>\n",
       "      <td>2.0</td>\n",
       "      <td>NaN</td>\n",
       "      <td>...</td>\n",
       "      <td>4.0</td>\n",
       "      <td>3.0</td>\n",
       "      <td>NaN</td>\n",
       "      <td>17627.674984</td>\n",
       "      <td>18234.736219</td>\n",
       "      <td>2.0</td>\n",
       "      <td>126.0</td>\n",
       "      <td>7.0</td>\n",
       "      <td>7.0</td>\n",
       "      <td>1.23</td>\n",
       "    </tr>\n",
       "  </tbody>\n",
       "</table>\n",
       "<p>5 rows × 47 columns</p>\n",
       "</div>"
      ],
      "text/plain": [
       "      SEQN  SDDSRVYR  RIDSTATR  RIAGENDR  RIDAGEYR  RIDAGEMN  RIDRETH1  \\\n",
       "0  83732.0       9.0       2.0       1.0      62.0       NaN       3.0   \n",
       "1  83733.0       9.0       2.0       1.0      53.0       NaN       3.0   \n",
       "2  83734.0       9.0       2.0       1.0      78.0       NaN       3.0   \n",
       "3  83735.0       9.0       2.0       2.0      56.0       NaN       3.0   \n",
       "4  83736.0       9.0       2.0       2.0      42.0       NaN       4.0   \n",
       "\n",
       "   RIDRETH3  RIDEXMON  RIDEXAGM    ...     DMDHREDU  DMDHRMAR  DMDHSEDU  \\\n",
       "0       3.0       1.0       NaN    ...          5.0       1.0       3.0   \n",
       "1       3.0       1.0       NaN    ...          3.0       3.0       NaN   \n",
       "2       3.0       2.0       NaN    ...          3.0       1.0       3.0   \n",
       "3       3.0       2.0       NaN    ...          5.0       6.0       NaN   \n",
       "4       4.0       2.0       NaN    ...          4.0       3.0       NaN   \n",
       "\n",
       "        WTINT2YR       WTMEC2YR  SDMVPSU  SDMVSTRA  INDHHIN2  INDFMIN2  \\\n",
       "0  134671.370419  135629.507405      1.0     125.0      10.0      10.0   \n",
       "1   24328.560239   25282.425927      1.0     125.0       4.0       4.0   \n",
       "2   12400.008522   12575.838818      1.0     131.0       5.0       5.0   \n",
       "3  102717.995647  102078.634508      1.0     131.0      10.0      10.0   \n",
       "4   17627.674984   18234.736219      2.0     126.0       7.0       7.0   \n",
       "\n",
       "   INDFMPIR  \n",
       "0      4.39  \n",
       "1      1.32  \n",
       "2      1.51  \n",
       "3      5.00  \n",
       "4      1.23  \n",
       "\n",
       "[5 rows x 47 columns]"
      ]
     },
     "execution_count": 10,
     "metadata": {},
     "output_type": "execute_result"
    }
   ],
   "source": [
    "demographics = pd.read_sas('data/DEMO_I.XPT')\n",
    "demographics.head()"
   ]
  },
  {
   "cell_type": "markdown",
   "metadata": {},
   "source": [
    "Drug Use Dataset"
   ]
  },
  {
   "cell_type": "code",
   "execution_count": 11,
   "metadata": {},
   "outputs": [
    {
     "data": {
      "text/html": [
       "<div>\n",
       "<style scoped>\n",
       "    .dataframe tbody tr th:only-of-type {\n",
       "        vertical-align: middle;\n",
       "    }\n",
       "\n",
       "    .dataframe tbody tr th {\n",
       "        vertical-align: top;\n",
       "    }\n",
       "\n",
       "    .dataframe thead th {\n",
       "        text-align: right;\n",
       "    }\n",
       "</style>\n",
       "<table border=\"1\" class=\"dataframe\">\n",
       "  <thead>\n",
       "    <tr style=\"text-align: right;\">\n",
       "      <th></th>\n",
       "      <th>SEQN</th>\n",
       "      <th>DUQ200</th>\n",
       "      <th>DUQ210</th>\n",
       "      <th>DUQ211</th>\n",
       "      <th>DUQ213</th>\n",
       "      <th>DUQ215Q</th>\n",
       "      <th>DUQ215U</th>\n",
       "      <th>DUQ217</th>\n",
       "      <th>DUQ219</th>\n",
       "      <th>DUQ220Q</th>\n",
       "      <th>...</th>\n",
       "      <th>DUQ380B</th>\n",
       "      <th>DUQ380C</th>\n",
       "      <th>DUQ380D</th>\n",
       "      <th>DUQ380E</th>\n",
       "      <th>DUQ390</th>\n",
       "      <th>DUQ400Q</th>\n",
       "      <th>DUQ400U</th>\n",
       "      <th>DUQ410</th>\n",
       "      <th>DUQ420</th>\n",
       "      <th>DUQ430</th>\n",
       "    </tr>\n",
       "  </thead>\n",
       "  <tbody>\n",
       "    <tr>\n",
       "      <th>0</th>\n",
       "      <td>83732.0</td>\n",
       "      <td>NaN</td>\n",
       "      <td>NaN</td>\n",
       "      <td>NaN</td>\n",
       "      <td>NaN</td>\n",
       "      <td>NaN</td>\n",
       "      <td>NaN</td>\n",
       "      <td>NaN</td>\n",
       "      <td>NaN</td>\n",
       "      <td>NaN</td>\n",
       "      <td>...</td>\n",
       "      <td>NaN</td>\n",
       "      <td>NaN</td>\n",
       "      <td>NaN</td>\n",
       "      <td>NaN</td>\n",
       "      <td>NaN</td>\n",
       "      <td>NaN</td>\n",
       "      <td>NaN</td>\n",
       "      <td>NaN</td>\n",
       "      <td>NaN</td>\n",
       "      <td>NaN</td>\n",
       "    </tr>\n",
       "    <tr>\n",
       "      <th>1</th>\n",
       "      <td>83733.0</td>\n",
       "      <td>2.0</td>\n",
       "      <td>NaN</td>\n",
       "      <td>NaN</td>\n",
       "      <td>NaN</td>\n",
       "      <td>NaN</td>\n",
       "      <td>NaN</td>\n",
       "      <td>NaN</td>\n",
       "      <td>NaN</td>\n",
       "      <td>NaN</td>\n",
       "      <td>...</td>\n",
       "      <td>NaN</td>\n",
       "      <td>NaN</td>\n",
       "      <td>NaN</td>\n",
       "      <td>NaN</td>\n",
       "      <td>NaN</td>\n",
       "      <td>NaN</td>\n",
       "      <td>NaN</td>\n",
       "      <td>NaN</td>\n",
       "      <td>NaN</td>\n",
       "      <td>NaN</td>\n",
       "    </tr>\n",
       "    <tr>\n",
       "      <th>2</th>\n",
       "      <td>83735.0</td>\n",
       "      <td>2.0</td>\n",
       "      <td>NaN</td>\n",
       "      <td>NaN</td>\n",
       "      <td>NaN</td>\n",
       "      <td>NaN</td>\n",
       "      <td>NaN</td>\n",
       "      <td>NaN</td>\n",
       "      <td>NaN</td>\n",
       "      <td>NaN</td>\n",
       "      <td>...</td>\n",
       "      <td>NaN</td>\n",
       "      <td>NaN</td>\n",
       "      <td>NaN</td>\n",
       "      <td>NaN</td>\n",
       "      <td>NaN</td>\n",
       "      <td>NaN</td>\n",
       "      <td>NaN</td>\n",
       "      <td>NaN</td>\n",
       "      <td>NaN</td>\n",
       "      <td>NaN</td>\n",
       "    </tr>\n",
       "    <tr>\n",
       "      <th>3</th>\n",
       "      <td>83736.0</td>\n",
       "      <td>1.0</td>\n",
       "      <td>25.0</td>\n",
       "      <td>1.0</td>\n",
       "      <td>25.0</td>\n",
       "      <td>5.397605e-79</td>\n",
       "      <td>1.0</td>\n",
       "      <td>5.0</td>\n",
       "      <td>4.0</td>\n",
       "      <td>1.0</td>\n",
       "      <td>...</td>\n",
       "      <td>NaN</td>\n",
       "      <td>NaN</td>\n",
       "      <td>NaN</td>\n",
       "      <td>NaN</td>\n",
       "      <td>NaN</td>\n",
       "      <td>NaN</td>\n",
       "      <td>NaN</td>\n",
       "      <td>NaN</td>\n",
       "      <td>NaN</td>\n",
       "      <td>2.0</td>\n",
       "    </tr>\n",
       "    <tr>\n",
       "      <th>4</th>\n",
       "      <td>83741.0</td>\n",
       "      <td>1.0</td>\n",
       "      <td>15.0</td>\n",
       "      <td>1.0</td>\n",
       "      <td>16.0</td>\n",
       "      <td>1.000000e+00</td>\n",
       "      <td>4.0</td>\n",
       "      <td>4.0</td>\n",
       "      <td>2.0</td>\n",
       "      <td>1.0</td>\n",
       "      <td>...</td>\n",
       "      <td>NaN</td>\n",
       "      <td>NaN</td>\n",
       "      <td>NaN</td>\n",
       "      <td>NaN</td>\n",
       "      <td>NaN</td>\n",
       "      <td>NaN</td>\n",
       "      <td>NaN</td>\n",
       "      <td>NaN</td>\n",
       "      <td>NaN</td>\n",
       "      <td>1.0</td>\n",
       "    </tr>\n",
       "  </tbody>\n",
       "</table>\n",
       "<p>5 rows × 42 columns</p>\n",
       "</div>"
      ],
      "text/plain": [
       "      SEQN  DUQ200  DUQ210  DUQ211  DUQ213       DUQ215Q  DUQ215U  DUQ217  \\\n",
       "0  83732.0     NaN     NaN     NaN     NaN           NaN      NaN     NaN   \n",
       "1  83733.0     2.0     NaN     NaN     NaN           NaN      NaN     NaN   \n",
       "2  83735.0     2.0     NaN     NaN     NaN           NaN      NaN     NaN   \n",
       "3  83736.0     1.0    25.0     1.0    25.0  5.397605e-79      1.0     5.0   \n",
       "4  83741.0     1.0    15.0     1.0    16.0  1.000000e+00      4.0     4.0   \n",
       "\n",
       "   DUQ219  DUQ220Q   ...    DUQ380B  DUQ380C  DUQ380D  DUQ380E  DUQ390  \\\n",
       "0     NaN      NaN   ...        NaN      NaN      NaN      NaN     NaN   \n",
       "1     NaN      NaN   ...        NaN      NaN      NaN      NaN     NaN   \n",
       "2     NaN      NaN   ...        NaN      NaN      NaN      NaN     NaN   \n",
       "3     4.0      1.0   ...        NaN      NaN      NaN      NaN     NaN   \n",
       "4     2.0      1.0   ...        NaN      NaN      NaN      NaN     NaN   \n",
       "\n",
       "   DUQ400Q  DUQ400U  DUQ410  DUQ420  DUQ430  \n",
       "0      NaN      NaN     NaN     NaN     NaN  \n",
       "1      NaN      NaN     NaN     NaN     NaN  \n",
       "2      NaN      NaN     NaN     NaN     NaN  \n",
       "3      NaN      NaN     NaN     NaN     2.0  \n",
       "4      NaN      NaN     NaN     NaN     1.0  \n",
       "\n",
       "[5 rows x 42 columns]"
      ]
     },
     "execution_count": 11,
     "metadata": {},
     "output_type": "execute_result"
    }
   ],
   "source": [
    "questionaire = pd.read_sas('data/DUQ_I.XPT')\n",
    "questionaire.head()"
   ]
  },
  {
   "cell_type": "markdown",
   "metadata": {},
   "source": [
    "We merged the two dataframes based on the sequence number."
   ]
  },
  {
   "cell_type": "code",
   "execution_count": 12,
   "metadata": {},
   "outputs": [
    {
     "data": {
      "text/html": [
       "<div>\n",
       "<style scoped>\n",
       "    .dataframe tbody tr th:only-of-type {\n",
       "        vertical-align: middle;\n",
       "    }\n",
       "\n",
       "    .dataframe tbody tr th {\n",
       "        vertical-align: top;\n",
       "    }\n",
       "\n",
       "    .dataframe thead th {\n",
       "        text-align: right;\n",
       "    }\n",
       "</style>\n",
       "<table border=\"1\" class=\"dataframe\">\n",
       "  <thead>\n",
       "    <tr style=\"text-align: right;\">\n",
       "      <th></th>\n",
       "      <th>SEQN</th>\n",
       "      <th>SDDSRVYR</th>\n",
       "      <th>RIDSTATR</th>\n",
       "      <th>RIAGENDR</th>\n",
       "      <th>RIDAGEYR</th>\n",
       "      <th>RIDAGEMN</th>\n",
       "      <th>RIDRETH1</th>\n",
       "      <th>RIDRETH3</th>\n",
       "      <th>RIDEXMON</th>\n",
       "      <th>RIDEXAGM</th>\n",
       "      <th>...</th>\n",
       "      <th>DUQ380B</th>\n",
       "      <th>DUQ380C</th>\n",
       "      <th>DUQ380D</th>\n",
       "      <th>DUQ380E</th>\n",
       "      <th>DUQ390</th>\n",
       "      <th>DUQ400Q</th>\n",
       "      <th>DUQ400U</th>\n",
       "      <th>DUQ410</th>\n",
       "      <th>DUQ420</th>\n",
       "      <th>DUQ430</th>\n",
       "    </tr>\n",
       "  </thead>\n",
       "  <tbody>\n",
       "    <tr>\n",
       "      <th>0</th>\n",
       "      <td>83732.0</td>\n",
       "      <td>9.0</td>\n",
       "      <td>2.0</td>\n",
       "      <td>1.0</td>\n",
       "      <td>62.0</td>\n",
       "      <td>NaN</td>\n",
       "      <td>3.0</td>\n",
       "      <td>3.0</td>\n",
       "      <td>1.0</td>\n",
       "      <td>NaN</td>\n",
       "      <td>...</td>\n",
       "      <td>NaN</td>\n",
       "      <td>NaN</td>\n",
       "      <td>NaN</td>\n",
       "      <td>NaN</td>\n",
       "      <td>NaN</td>\n",
       "      <td>NaN</td>\n",
       "      <td>NaN</td>\n",
       "      <td>NaN</td>\n",
       "      <td>NaN</td>\n",
       "      <td>NaN</td>\n",
       "    </tr>\n",
       "    <tr>\n",
       "      <th>1</th>\n",
       "      <td>83733.0</td>\n",
       "      <td>9.0</td>\n",
       "      <td>2.0</td>\n",
       "      <td>1.0</td>\n",
       "      <td>53.0</td>\n",
       "      <td>NaN</td>\n",
       "      <td>3.0</td>\n",
       "      <td>3.0</td>\n",
       "      <td>1.0</td>\n",
       "      <td>NaN</td>\n",
       "      <td>...</td>\n",
       "      <td>NaN</td>\n",
       "      <td>NaN</td>\n",
       "      <td>NaN</td>\n",
       "      <td>NaN</td>\n",
       "      <td>NaN</td>\n",
       "      <td>NaN</td>\n",
       "      <td>NaN</td>\n",
       "      <td>NaN</td>\n",
       "      <td>NaN</td>\n",
       "      <td>NaN</td>\n",
       "    </tr>\n",
       "    <tr>\n",
       "      <th>2</th>\n",
       "      <td>83735.0</td>\n",
       "      <td>9.0</td>\n",
       "      <td>2.0</td>\n",
       "      <td>2.0</td>\n",
       "      <td>56.0</td>\n",
       "      <td>NaN</td>\n",
       "      <td>3.0</td>\n",
       "      <td>3.0</td>\n",
       "      <td>2.0</td>\n",
       "      <td>NaN</td>\n",
       "      <td>...</td>\n",
       "      <td>NaN</td>\n",
       "      <td>NaN</td>\n",
       "      <td>NaN</td>\n",
       "      <td>NaN</td>\n",
       "      <td>NaN</td>\n",
       "      <td>NaN</td>\n",
       "      <td>NaN</td>\n",
       "      <td>NaN</td>\n",
       "      <td>NaN</td>\n",
       "      <td>NaN</td>\n",
       "    </tr>\n",
       "    <tr>\n",
       "      <th>3</th>\n",
       "      <td>83736.0</td>\n",
       "      <td>9.0</td>\n",
       "      <td>2.0</td>\n",
       "      <td>2.0</td>\n",
       "      <td>42.0</td>\n",
       "      <td>NaN</td>\n",
       "      <td>4.0</td>\n",
       "      <td>4.0</td>\n",
       "      <td>2.0</td>\n",
       "      <td>NaN</td>\n",
       "      <td>...</td>\n",
       "      <td>NaN</td>\n",
       "      <td>NaN</td>\n",
       "      <td>NaN</td>\n",
       "      <td>NaN</td>\n",
       "      <td>NaN</td>\n",
       "      <td>NaN</td>\n",
       "      <td>NaN</td>\n",
       "      <td>NaN</td>\n",
       "      <td>NaN</td>\n",
       "      <td>2.0</td>\n",
       "    </tr>\n",
       "    <tr>\n",
       "      <th>4</th>\n",
       "      <td>83741.0</td>\n",
       "      <td>9.0</td>\n",
       "      <td>2.0</td>\n",
       "      <td>1.0</td>\n",
       "      <td>22.0</td>\n",
       "      <td>NaN</td>\n",
       "      <td>4.0</td>\n",
       "      <td>4.0</td>\n",
       "      <td>1.0</td>\n",
       "      <td>NaN</td>\n",
       "      <td>...</td>\n",
       "      <td>NaN</td>\n",
       "      <td>NaN</td>\n",
       "      <td>NaN</td>\n",
       "      <td>NaN</td>\n",
       "      <td>NaN</td>\n",
       "      <td>NaN</td>\n",
       "      <td>NaN</td>\n",
       "      <td>NaN</td>\n",
       "      <td>NaN</td>\n",
       "      <td>1.0</td>\n",
       "    </tr>\n",
       "  </tbody>\n",
       "</table>\n",
       "<p>5 rows × 88 columns</p>\n",
       "</div>"
      ],
      "text/plain": [
       "      SEQN  SDDSRVYR  RIDSTATR  RIAGENDR  RIDAGEYR  RIDAGEMN  RIDRETH1  \\\n",
       "0  83732.0       9.0       2.0       1.0      62.0       NaN       3.0   \n",
       "1  83733.0       9.0       2.0       1.0      53.0       NaN       3.0   \n",
       "2  83735.0       9.0       2.0       2.0      56.0       NaN       3.0   \n",
       "3  83736.0       9.0       2.0       2.0      42.0       NaN       4.0   \n",
       "4  83741.0       9.0       2.0       1.0      22.0       NaN       4.0   \n",
       "\n",
       "   RIDRETH3  RIDEXMON  RIDEXAGM   ...    DUQ380B  DUQ380C  DUQ380D  DUQ380E  \\\n",
       "0       3.0       1.0       NaN   ...        NaN      NaN      NaN      NaN   \n",
       "1       3.0       1.0       NaN   ...        NaN      NaN      NaN      NaN   \n",
       "2       3.0       2.0       NaN   ...        NaN      NaN      NaN      NaN   \n",
       "3       4.0       2.0       NaN   ...        NaN      NaN      NaN      NaN   \n",
       "4       4.0       1.0       NaN   ...        NaN      NaN      NaN      NaN   \n",
       "\n",
       "   DUQ390  DUQ400Q  DUQ400U  DUQ410  DUQ420  DUQ430  \n",
       "0     NaN      NaN      NaN     NaN     NaN     NaN  \n",
       "1     NaN      NaN      NaN     NaN     NaN     NaN  \n",
       "2     NaN      NaN      NaN     NaN     NaN     NaN  \n",
       "3     NaN      NaN      NaN     NaN     NaN     2.0  \n",
       "4     NaN      NaN      NaN     NaN     NaN     1.0  \n",
       "\n",
       "[5 rows x 88 columns]"
      ]
     },
     "execution_count": 12,
     "metadata": {},
     "output_type": "execute_result"
    }
   ],
   "source": [
    "merged = pd.merge(demographics, questionaire, on = 'SEQN')\n",
    "merged.head()"
   ]
  },
  {
   "cell_type": "markdown",
   "metadata": {},
   "source": [
    "We then went through the columns and decided on which column we wanted to utilize for our analysis. "
   ]
  },
  {
   "cell_type": "code",
   "execution_count": 13,
   "metadata": {},
   "outputs": [],
   "source": [
    "cols = ['SEQN', 'RIAGENDR', 'RIDAGEYR', 'DMDEDUC3', 'DMDEDUC2', 'DMDMARTL', 'RIDEXPRG', 'INDHHIN2', \n",
    "        'INDFMPIR', 'DMDHHSIZ', 'DMDHHSZA', 'DMDHHSZB', 'DMDHHSZE', 'DUQ200', 'DUQ210', 'DUQ217', 'DUQ211', \n",
    "        'DUQ213', 'DUQ215Q', 'DUQ219', 'DUQ220Q', 'DUQ230']\n",
    "df = merged[cols]\n",
    "df['CHILDREN_NUM'] = df['DMDHHSZA'] + df['DMDHHSZB']\n",
    "df = df.drop(columns = ['DMDHHSZA', 'DMDHHSZB'])"
   ]
  },
  {
   "cell_type": "markdown",
   "metadata": {},
   "source": [
    "We then standardized our refused and don't know data (all 7's were refused and 9's were unknown). "
   ]
  },
  {
   "cell_type": "code",
   "execution_count": 14,
   "metadata": {},
   "outputs": [],
   "source": [
    "lst_7 = ['DMDEDUC2', 'DUQ200', 'DUQ217', 'DUQ211', 'DUQ219']\n",
    "lst_77 = ['DMDMARTL', 'DMDEDUC3', 'INDHHIN2']\n",
    "lst_777 = ['DUQ210', 'DUQ213', 'DUQ230']\n",
    "\n",
    "for i in lst_7:\n",
    "    df[i] = df[i].replace({7: 7777, 9: 9999})\n",
    "for i in lst_77:\n",
    "    df[i] = df[i].replace({77: 7777, 99: 9999})\n",
    "for i in lst_777:\n",
    "    df[i] = df[i].replace({777: 7777, 999: 9999})"
   ]
  },
  {
   "cell_type": "markdown",
   "metadata": {},
   "source": [
    "To make our dataframe's columns more readable, we used a translation dictionary to make the column names easier to understand."
   ]
  },
  {
   "cell_type": "code",
   "execution_count": 15,
   "metadata": {},
   "outputs": [
    {
     "data": {
      "text/html": [
       "<div>\n",
       "<style scoped>\n",
       "    .dataframe tbody tr th:only-of-type {\n",
       "        vertical-align: middle;\n",
       "    }\n",
       "\n",
       "    .dataframe tbody tr th {\n",
       "        vertical-align: top;\n",
       "    }\n",
       "\n",
       "    .dataframe thead th {\n",
       "        text-align: right;\n",
       "    }\n",
       "</style>\n",
       "<table border=\"1\" class=\"dataframe\">\n",
       "  <thead>\n",
       "    <tr style=\"text-align: right;\">\n",
       "      <th></th>\n",
       "      <th>ID</th>\n",
       "      <th>GENDER</th>\n",
       "      <th>AGE</th>\n",
       "      <th>EDUCATION_KID</th>\n",
       "      <th>EDUCATION_ADULT</th>\n",
       "      <th>MARRIAGE</th>\n",
       "      <th>PREGNANCY</th>\n",
       "      <th>INCOME</th>\n",
       "      <th>INCOME_RATIO</th>\n",
       "      <th>HOUSEHOLD_NUM</th>\n",
       "      <th>...</th>\n",
       "      <th>EVER_USE</th>\n",
       "      <th>FIRST_USAGE</th>\n",
       "      <th>FREQUENCY</th>\n",
       "      <th>PER_MONTH</th>\n",
       "      <th>AGE_REGULAR_USE</th>\n",
       "      <th>LAST_ONCE_MONTH</th>\n",
       "      <th>AMOUNT</th>\n",
       "      <th>LAST_USAGE</th>\n",
       "      <th>PAST_MONTH_USAGE</th>\n",
       "      <th>CHILDREN_NUM</th>\n",
       "    </tr>\n",
       "  </thead>\n",
       "  <tbody>\n",
       "    <tr>\n",
       "      <th>0</th>\n",
       "      <td>83732.0</td>\n",
       "      <td>1.0</td>\n",
       "      <td>62.0</td>\n",
       "      <td>NaN</td>\n",
       "      <td>5.0</td>\n",
       "      <td>1.0</td>\n",
       "      <td>NaN</td>\n",
       "      <td>10.0</td>\n",
       "      <td>4.39</td>\n",
       "      <td>2.0</td>\n",
       "      <td>...</td>\n",
       "      <td>NaN</td>\n",
       "      <td>NaN</td>\n",
       "      <td>NaN</td>\n",
       "      <td>NaN</td>\n",
       "      <td>NaN</td>\n",
       "      <td>NaN</td>\n",
       "      <td>NaN</td>\n",
       "      <td>NaN</td>\n",
       "      <td>NaN</td>\n",
       "      <td>1.079521e-78</td>\n",
       "    </tr>\n",
       "    <tr>\n",
       "      <th>1</th>\n",
       "      <td>83733.0</td>\n",
       "      <td>1.0</td>\n",
       "      <td>53.0</td>\n",
       "      <td>NaN</td>\n",
       "      <td>3.0</td>\n",
       "      <td>3.0</td>\n",
       "      <td>NaN</td>\n",
       "      <td>4.0</td>\n",
       "      <td>1.32</td>\n",
       "      <td>1.0</td>\n",
       "      <td>...</td>\n",
       "      <td>2.0</td>\n",
       "      <td>NaN</td>\n",
       "      <td>NaN</td>\n",
       "      <td>NaN</td>\n",
       "      <td>NaN</td>\n",
       "      <td>NaN</td>\n",
       "      <td>NaN</td>\n",
       "      <td>NaN</td>\n",
       "      <td>NaN</td>\n",
       "      <td>1.079521e-78</td>\n",
       "    </tr>\n",
       "    <tr>\n",
       "      <th>2</th>\n",
       "      <td>83735.0</td>\n",
       "      <td>2.0</td>\n",
       "      <td>56.0</td>\n",
       "      <td>NaN</td>\n",
       "      <td>5.0</td>\n",
       "      <td>6.0</td>\n",
       "      <td>NaN</td>\n",
       "      <td>10.0</td>\n",
       "      <td>5.00</td>\n",
       "      <td>1.0</td>\n",
       "      <td>...</td>\n",
       "      <td>2.0</td>\n",
       "      <td>NaN</td>\n",
       "      <td>NaN</td>\n",
       "      <td>NaN</td>\n",
       "      <td>NaN</td>\n",
       "      <td>NaN</td>\n",
       "      <td>NaN</td>\n",
       "      <td>NaN</td>\n",
       "      <td>NaN</td>\n",
       "      <td>1.079521e-78</td>\n",
       "    </tr>\n",
       "    <tr>\n",
       "      <th>3</th>\n",
       "      <td>83736.0</td>\n",
       "      <td>2.0</td>\n",
       "      <td>42.0</td>\n",
       "      <td>NaN</td>\n",
       "      <td>4.0</td>\n",
       "      <td>3.0</td>\n",
       "      <td>1.0</td>\n",
       "      <td>7.0</td>\n",
       "      <td>1.23</td>\n",
       "      <td>5.0</td>\n",
       "      <td>...</td>\n",
       "      <td>1.0</td>\n",
       "      <td>25.0</td>\n",
       "      <td>5.0</td>\n",
       "      <td>1.0</td>\n",
       "      <td>25.0</td>\n",
       "      <td>5.397605e-79</td>\n",
       "      <td>4.0</td>\n",
       "      <td>1.0</td>\n",
       "      <td>30.0</td>\n",
       "      <td>2.000000e+00</td>\n",
       "    </tr>\n",
       "    <tr>\n",
       "      <th>4</th>\n",
       "      <td>83741.0</td>\n",
       "      <td>1.0</td>\n",
       "      <td>22.0</td>\n",
       "      <td>NaN</td>\n",
       "      <td>4.0</td>\n",
       "      <td>5.0</td>\n",
       "      <td>NaN</td>\n",
       "      <td>7.0</td>\n",
       "      <td>2.08</td>\n",
       "      <td>3.0</td>\n",
       "      <td>...</td>\n",
       "      <td>1.0</td>\n",
       "      <td>15.0</td>\n",
       "      <td>4.0</td>\n",
       "      <td>1.0</td>\n",
       "      <td>16.0</td>\n",
       "      <td>1.000000e+00</td>\n",
       "      <td>2.0</td>\n",
       "      <td>1.0</td>\n",
       "      <td>25.0</td>\n",
       "      <td>1.079521e-78</td>\n",
       "    </tr>\n",
       "    <tr>\n",
       "      <th>5</th>\n",
       "      <td>83742.0</td>\n",
       "      <td>2.0</td>\n",
       "      <td>32.0</td>\n",
       "      <td>NaN</td>\n",
       "      <td>4.0</td>\n",
       "      <td>1.0</td>\n",
       "      <td>2.0</td>\n",
       "      <td>6.0</td>\n",
       "      <td>1.03</td>\n",
       "      <td>4.0</td>\n",
       "      <td>...</td>\n",
       "      <td>1.0</td>\n",
       "      <td>18.0</td>\n",
       "      <td>NaN</td>\n",
       "      <td>2.0</td>\n",
       "      <td>NaN</td>\n",
       "      <td>NaN</td>\n",
       "      <td>NaN</td>\n",
       "      <td>13.0</td>\n",
       "      <td>NaN</td>\n",
       "      <td>2.000000e+00</td>\n",
       "    </tr>\n",
       "    <tr>\n",
       "      <th>6</th>\n",
       "      <td>83743.0</td>\n",
       "      <td>1.0</td>\n",
       "      <td>18.0</td>\n",
       "      <td>11.0</td>\n",
       "      <td>NaN</td>\n",
       "      <td>NaN</td>\n",
       "      <td>NaN</td>\n",
       "      <td>15.0</td>\n",
       "      <td>5.00</td>\n",
       "      <td>3.0</td>\n",
       "      <td>...</td>\n",
       "      <td>2.0</td>\n",
       "      <td>NaN</td>\n",
       "      <td>NaN</td>\n",
       "      <td>NaN</td>\n",
       "      <td>NaN</td>\n",
       "      <td>NaN</td>\n",
       "      <td>NaN</td>\n",
       "      <td>NaN</td>\n",
       "      <td>NaN</td>\n",
       "      <td>1.079521e-78</td>\n",
       "    </tr>\n",
       "    <tr>\n",
       "      <th>7</th>\n",
       "      <td>83744.0</td>\n",
       "      <td>1.0</td>\n",
       "      <td>56.0</td>\n",
       "      <td>NaN</td>\n",
       "      <td>3.0</td>\n",
       "      <td>3.0</td>\n",
       "      <td>NaN</td>\n",
       "      <td>3.0</td>\n",
       "      <td>1.19</td>\n",
       "      <td>1.0</td>\n",
       "      <td>...</td>\n",
       "      <td>1.0</td>\n",
       "      <td>18.0</td>\n",
       "      <td>NaN</td>\n",
       "      <td>2.0</td>\n",
       "      <td>NaN</td>\n",
       "      <td>NaN</td>\n",
       "      <td>NaN</td>\n",
       "      <td>20.0</td>\n",
       "      <td>NaN</td>\n",
       "      <td>1.079521e-78</td>\n",
       "    </tr>\n",
       "    <tr>\n",
       "      <th>8</th>\n",
       "      <td>83747.0</td>\n",
       "      <td>1.0</td>\n",
       "      <td>46.0</td>\n",
       "      <td>NaN</td>\n",
       "      <td>5.0</td>\n",
       "      <td>6.0</td>\n",
       "      <td>NaN</td>\n",
       "      <td>3.0</td>\n",
       "      <td>0.75</td>\n",
       "      <td>2.0</td>\n",
       "      <td>...</td>\n",
       "      <td>2.0</td>\n",
       "      <td>NaN</td>\n",
       "      <td>NaN</td>\n",
       "      <td>NaN</td>\n",
       "      <td>NaN</td>\n",
       "      <td>NaN</td>\n",
       "      <td>NaN</td>\n",
       "      <td>NaN</td>\n",
       "      <td>NaN</td>\n",
       "      <td>1.079521e-78</td>\n",
       "    </tr>\n",
       "    <tr>\n",
       "      <th>9</th>\n",
       "      <td>83750.0</td>\n",
       "      <td>1.0</td>\n",
       "      <td>45.0</td>\n",
       "      <td>NaN</td>\n",
       "      <td>2.0</td>\n",
       "      <td>5.0</td>\n",
       "      <td>NaN</td>\n",
       "      <td>10.0</td>\n",
       "      <td>1.36</td>\n",
       "      <td>5.0</td>\n",
       "      <td>...</td>\n",
       "      <td>1.0</td>\n",
       "      <td>21.0</td>\n",
       "      <td>NaN</td>\n",
       "      <td>2.0</td>\n",
       "      <td>NaN</td>\n",
       "      <td>NaN</td>\n",
       "      <td>NaN</td>\n",
       "      <td>20.0</td>\n",
       "      <td>1.0</td>\n",
       "      <td>2.000000e+00</td>\n",
       "    </tr>\n",
       "  </tbody>\n",
       "</table>\n",
       "<p>10 rows × 21 columns</p>\n",
       "</div>"
      ],
      "text/plain": [
       "        ID  GENDER   AGE  EDUCATION_KID  EDUCATION_ADULT  MARRIAGE  PREGNANCY  \\\n",
       "0  83732.0     1.0  62.0            NaN              5.0       1.0        NaN   \n",
       "1  83733.0     1.0  53.0            NaN              3.0       3.0        NaN   \n",
       "2  83735.0     2.0  56.0            NaN              5.0       6.0        NaN   \n",
       "3  83736.0     2.0  42.0            NaN              4.0       3.0        1.0   \n",
       "4  83741.0     1.0  22.0            NaN              4.0       5.0        NaN   \n",
       "5  83742.0     2.0  32.0            NaN              4.0       1.0        2.0   \n",
       "6  83743.0     1.0  18.0           11.0              NaN       NaN        NaN   \n",
       "7  83744.0     1.0  56.0            NaN              3.0       3.0        NaN   \n",
       "8  83747.0     1.0  46.0            NaN              5.0       6.0        NaN   \n",
       "9  83750.0     1.0  45.0            NaN              2.0       5.0        NaN   \n",
       "\n",
       "   INCOME  INCOME_RATIO  HOUSEHOLD_NUM      ...       EVER_USE  FIRST_USAGE  \\\n",
       "0    10.0          4.39            2.0      ...            NaN          NaN   \n",
       "1     4.0          1.32            1.0      ...            2.0          NaN   \n",
       "2    10.0          5.00            1.0      ...            2.0          NaN   \n",
       "3     7.0          1.23            5.0      ...            1.0         25.0   \n",
       "4     7.0          2.08            3.0      ...            1.0         15.0   \n",
       "5     6.0          1.03            4.0      ...            1.0         18.0   \n",
       "6    15.0          5.00            3.0      ...            2.0          NaN   \n",
       "7     3.0          1.19            1.0      ...            1.0         18.0   \n",
       "8     3.0          0.75            2.0      ...            2.0          NaN   \n",
       "9    10.0          1.36            5.0      ...            1.0         21.0   \n",
       "\n",
       "   FREQUENCY  PER_MONTH  AGE_REGULAR_USE  LAST_ONCE_MONTH  AMOUNT  LAST_USAGE  \\\n",
       "0        NaN        NaN              NaN              NaN     NaN         NaN   \n",
       "1        NaN        NaN              NaN              NaN     NaN         NaN   \n",
       "2        NaN        NaN              NaN              NaN     NaN         NaN   \n",
       "3        5.0        1.0             25.0     5.397605e-79     4.0         1.0   \n",
       "4        4.0        1.0             16.0     1.000000e+00     2.0         1.0   \n",
       "5        NaN        2.0              NaN              NaN     NaN        13.0   \n",
       "6        NaN        NaN              NaN              NaN     NaN         NaN   \n",
       "7        NaN        2.0              NaN              NaN     NaN        20.0   \n",
       "8        NaN        NaN              NaN              NaN     NaN         NaN   \n",
       "9        NaN        2.0              NaN              NaN     NaN        20.0   \n",
       "\n",
       "   PAST_MONTH_USAGE  CHILDREN_NUM  \n",
       "0               NaN  1.079521e-78  \n",
       "1               NaN  1.079521e-78  \n",
       "2               NaN  1.079521e-78  \n",
       "3              30.0  2.000000e+00  \n",
       "4              25.0  1.079521e-78  \n",
       "5               NaN  2.000000e+00  \n",
       "6               NaN  1.079521e-78  \n",
       "7               NaN  1.079521e-78  \n",
       "8               NaN  1.079521e-78  \n",
       "9               1.0  2.000000e+00  \n",
       "\n",
       "[10 rows x 21 columns]"
      ]
     },
     "execution_count": 15,
     "metadata": {},
     "output_type": "execute_result"
    }
   ],
   "source": [
    "translation_dict = {'SEQN': 'ID', 'RIAGENDR': 'GENDER', 'RIDAGEYR': 'AGE', 'DMDMARTL': 'MARRIAGE', \n",
    "                    'RIDEXPRG': 'PREGNANCY', 'INDHHIN2': 'INCOME', 'INDFMPIR': 'INCOME_RATIO', \n",
    "                    'DMDHHSIZ': 'HOUSEHOLD_NUM', 'DMDHHSZE': 'OVER_60_NUM', 'DUQ200': 'EVER_USE', \n",
    "                    'DUQ210': 'FIRST_USAGE', 'DUQ217': 'FREQUENCY', 'DUQ211': 'PER_MONTH', \n",
    "                    'DUQ213': 'AGE_REGULAR_USE', 'DUQ215Q': 'LAST_ONCE_MONTH', 'DUQ219': 'AMOUNT', 'DUQ220Q': 'LAST_USAGE', \n",
    "                    'DUQ230': 'PAST_MONTH_USAGE', 'DMDEDUC2': 'EDUCATION_ADULT', 'DMDEDUC3': 'EDUCATION_KID'}\n",
    "df = df.rename(index = str, columns = translation_dict)\n",
    "df.head(10)"
   ]
  },
  {
   "cell_type": "markdown",
   "metadata": {},
   "source": [
    "After looking through the data, we saw that there were some numbers that were trailing (we're assuming it is because when we merged the tables together, something happened to it). We decided to then round those numbers and to replace 5.39770e-79 to 0 because we realized that when we combined the datasets together, that number was suppose to be zero. "
   ]
  },
  {
   "cell_type": "code",
   "execution_count": 16,
   "metadata": {},
   "outputs": [
    {
     "data": {
      "text/html": [
       "<div>\n",
       "<style scoped>\n",
       "    .dataframe tbody tr th:only-of-type {\n",
       "        vertical-align: middle;\n",
       "    }\n",
       "\n",
       "    .dataframe tbody tr th {\n",
       "        vertical-align: top;\n",
       "    }\n",
       "\n",
       "    .dataframe thead th {\n",
       "        text-align: right;\n",
       "    }\n",
       "</style>\n",
       "<table border=\"1\" class=\"dataframe\">\n",
       "  <thead>\n",
       "    <tr style=\"text-align: right;\">\n",
       "      <th></th>\n",
       "      <th>ID</th>\n",
       "      <th>GENDER</th>\n",
       "      <th>AGE</th>\n",
       "      <th>EDUCATION_KID</th>\n",
       "      <th>EDUCATION_ADULT</th>\n",
       "      <th>MARRIAGE</th>\n",
       "      <th>PREGNANCY</th>\n",
       "      <th>INCOME</th>\n",
       "      <th>INCOME_RATIO</th>\n",
       "      <th>HOUSEHOLD_NUM</th>\n",
       "      <th>...</th>\n",
       "      <th>EVER_USE</th>\n",
       "      <th>FIRST_USAGE</th>\n",
       "      <th>FREQUENCY</th>\n",
       "      <th>PER_MONTH</th>\n",
       "      <th>AGE_REGULAR_USE</th>\n",
       "      <th>LAST_ONCE_MONTH</th>\n",
       "      <th>AMOUNT</th>\n",
       "      <th>LAST_USAGE</th>\n",
       "      <th>PAST_MONTH_USAGE</th>\n",
       "      <th>CHILDREN_NUM</th>\n",
       "    </tr>\n",
       "  </thead>\n",
       "  <tbody>\n",
       "    <tr>\n",
       "      <th>0</th>\n",
       "      <td>83732.0</td>\n",
       "      <td>1.0</td>\n",
       "      <td>62.0</td>\n",
       "      <td>NaN</td>\n",
       "      <td>5.0</td>\n",
       "      <td>1.0</td>\n",
       "      <td>NaN</td>\n",
       "      <td>10.0</td>\n",
       "      <td>4.39</td>\n",
       "      <td>2.0</td>\n",
       "      <td>...</td>\n",
       "      <td>NaN</td>\n",
       "      <td>NaN</td>\n",
       "      <td>NaN</td>\n",
       "      <td>NaN</td>\n",
       "      <td>NaN</td>\n",
       "      <td>NaN</td>\n",
       "      <td>NaN</td>\n",
       "      <td>NaN</td>\n",
       "      <td>NaN</td>\n",
       "      <td>0.0</td>\n",
       "    </tr>\n",
       "    <tr>\n",
       "      <th>1</th>\n",
       "      <td>83733.0</td>\n",
       "      <td>1.0</td>\n",
       "      <td>53.0</td>\n",
       "      <td>NaN</td>\n",
       "      <td>3.0</td>\n",
       "      <td>3.0</td>\n",
       "      <td>NaN</td>\n",
       "      <td>4.0</td>\n",
       "      <td>1.32</td>\n",
       "      <td>1.0</td>\n",
       "      <td>...</td>\n",
       "      <td>2.0</td>\n",
       "      <td>NaN</td>\n",
       "      <td>NaN</td>\n",
       "      <td>NaN</td>\n",
       "      <td>NaN</td>\n",
       "      <td>NaN</td>\n",
       "      <td>NaN</td>\n",
       "      <td>NaN</td>\n",
       "      <td>NaN</td>\n",
       "      <td>0.0</td>\n",
       "    </tr>\n",
       "    <tr>\n",
       "      <th>2</th>\n",
       "      <td>83735.0</td>\n",
       "      <td>2.0</td>\n",
       "      <td>56.0</td>\n",
       "      <td>NaN</td>\n",
       "      <td>5.0</td>\n",
       "      <td>6.0</td>\n",
       "      <td>NaN</td>\n",
       "      <td>10.0</td>\n",
       "      <td>5.00</td>\n",
       "      <td>1.0</td>\n",
       "      <td>...</td>\n",
       "      <td>2.0</td>\n",
       "      <td>NaN</td>\n",
       "      <td>NaN</td>\n",
       "      <td>NaN</td>\n",
       "      <td>NaN</td>\n",
       "      <td>NaN</td>\n",
       "      <td>NaN</td>\n",
       "      <td>NaN</td>\n",
       "      <td>NaN</td>\n",
       "      <td>0.0</td>\n",
       "    </tr>\n",
       "    <tr>\n",
       "      <th>3</th>\n",
       "      <td>83736.0</td>\n",
       "      <td>2.0</td>\n",
       "      <td>42.0</td>\n",
       "      <td>NaN</td>\n",
       "      <td>4.0</td>\n",
       "      <td>3.0</td>\n",
       "      <td>1.0</td>\n",
       "      <td>7.0</td>\n",
       "      <td>1.23</td>\n",
       "      <td>5.0</td>\n",
       "      <td>...</td>\n",
       "      <td>1.0</td>\n",
       "      <td>25.0</td>\n",
       "      <td>5.0</td>\n",
       "      <td>1.0</td>\n",
       "      <td>25.0</td>\n",
       "      <td>0.0</td>\n",
       "      <td>4.0</td>\n",
       "      <td>1.0</td>\n",
       "      <td>30.0</td>\n",
       "      <td>2.0</td>\n",
       "    </tr>\n",
       "    <tr>\n",
       "      <th>4</th>\n",
       "      <td>83741.0</td>\n",
       "      <td>1.0</td>\n",
       "      <td>22.0</td>\n",
       "      <td>NaN</td>\n",
       "      <td>4.0</td>\n",
       "      <td>5.0</td>\n",
       "      <td>NaN</td>\n",
       "      <td>7.0</td>\n",
       "      <td>2.08</td>\n",
       "      <td>3.0</td>\n",
       "      <td>...</td>\n",
       "      <td>1.0</td>\n",
       "      <td>15.0</td>\n",
       "      <td>4.0</td>\n",
       "      <td>1.0</td>\n",
       "      <td>16.0</td>\n",
       "      <td>1.0</td>\n",
       "      <td>2.0</td>\n",
       "      <td>1.0</td>\n",
       "      <td>25.0</td>\n",
       "      <td>0.0</td>\n",
       "    </tr>\n",
       "  </tbody>\n",
       "</table>\n",
       "<p>5 rows × 21 columns</p>\n",
       "</div>"
      ],
      "text/plain": [
       "        ID  GENDER   AGE  EDUCATION_KID  EDUCATION_ADULT  MARRIAGE  PREGNANCY  \\\n",
       "0  83732.0     1.0  62.0            NaN              5.0       1.0        NaN   \n",
       "1  83733.0     1.0  53.0            NaN              3.0       3.0        NaN   \n",
       "2  83735.0     2.0  56.0            NaN              5.0       6.0        NaN   \n",
       "3  83736.0     2.0  42.0            NaN              4.0       3.0        1.0   \n",
       "4  83741.0     1.0  22.0            NaN              4.0       5.0        NaN   \n",
       "\n",
       "   INCOME  INCOME_RATIO  HOUSEHOLD_NUM      ...       EVER_USE  FIRST_USAGE  \\\n",
       "0    10.0          4.39            2.0      ...            NaN          NaN   \n",
       "1     4.0          1.32            1.0      ...            2.0          NaN   \n",
       "2    10.0          5.00            1.0      ...            2.0          NaN   \n",
       "3     7.0          1.23            5.0      ...            1.0         25.0   \n",
       "4     7.0          2.08            3.0      ...            1.0         15.0   \n",
       "\n",
       "   FREQUENCY  PER_MONTH  AGE_REGULAR_USE  LAST_ONCE_MONTH  AMOUNT  LAST_USAGE  \\\n",
       "0        NaN        NaN              NaN              NaN     NaN         NaN   \n",
       "1        NaN        NaN              NaN              NaN     NaN         NaN   \n",
       "2        NaN        NaN              NaN              NaN     NaN         NaN   \n",
       "3        5.0        1.0             25.0              0.0     4.0         1.0   \n",
       "4        4.0        1.0             16.0              1.0     2.0         1.0   \n",
       "\n",
       "   PAST_MONTH_USAGE  CHILDREN_NUM  \n",
       "0               NaN           0.0  \n",
       "1               NaN           0.0  \n",
       "2               NaN           0.0  \n",
       "3              30.0           2.0  \n",
       "4              25.0           0.0  \n",
       "\n",
       "[5 rows x 21 columns]"
      ]
     },
     "execution_count": 16,
     "metadata": {},
     "output_type": "execute_result"
    }
   ],
   "source": [
    "#OVER_60_NUM\n",
    "#LAST_ONCE_MONTH\n",
    "#CHILDREN_NUM\n",
    "df['OVER_60_NUM'] = df['OVER_60_NUM'].round(0)\n",
    "df['LAST_ONCE_MONTH'] = df['LAST_ONCE_MONTH'].round(0)\n",
    "df['CHILDREN_NUM'] = df['CHILDREN_NUM'].round(0)\n",
    "df['INCOME_RATIO'] = df['INCOME_RATIO'].replace({5.397605e-79: 0}).round(2)\n",
    "df.head()"
   ]
  },
  {
   "cell_type": "markdown",
   "metadata": {},
   "source": [
    "We then saved our data then into a csv file, in which we used throughout our analysis."
   ]
  },
  {
   "cell_type": "code",
   "execution_count": 17,
   "metadata": {},
   "outputs": [],
   "source": [
    "#write dataframe to csv file\n",
    "df.to_csv(\"cleaned_marijuana_data.csv\")"
   ]
  },
  {
   "cell_type": "markdown",
   "metadata": {},
   "source": [
    "# Data Analysis & Results"
   ]
  },
  {
   "cell_type": "markdown",
   "metadata": {},
   "source": [
    "### For more convenient, we don't separate data exploration, data visualization, and data analysis but include them together into the section of data analysis & results. "
   ]
  },
  {
   "cell_type": "code",
   "execution_count": 18,
   "metadata": {},
   "outputs": [
    {
     "data": {
      "text/html": [
       "<div>\n",
       "<style scoped>\n",
       "    .dataframe tbody tr th:only-of-type {\n",
       "        vertical-align: middle;\n",
       "    }\n",
       "\n",
       "    .dataframe tbody tr th {\n",
       "        vertical-align: top;\n",
       "    }\n",
       "\n",
       "    .dataframe thead th {\n",
       "        text-align: right;\n",
       "    }\n",
       "</style>\n",
       "<table border=\"1\" class=\"dataframe\">\n",
       "  <thead>\n",
       "    <tr style=\"text-align: right;\">\n",
       "      <th></th>\n",
       "      <th>ID</th>\n",
       "      <th>GENDER</th>\n",
       "      <th>AGE</th>\n",
       "      <th>EDUCATION_KID</th>\n",
       "      <th>EDUCATION_ADULT</th>\n",
       "      <th>MARRIAGE</th>\n",
       "      <th>PREGNANCY</th>\n",
       "      <th>INCOME</th>\n",
       "      <th>INCOME_RATIO</th>\n",
       "      <th>HOUSEHOLD_NUM</th>\n",
       "      <th>...</th>\n",
       "      <th>EVER_USE</th>\n",
       "      <th>FIRST_USAGE</th>\n",
       "      <th>FREQUENCY</th>\n",
       "      <th>PER_MONTH</th>\n",
       "      <th>AGE_REGULAR_USE</th>\n",
       "      <th>LAST_ONCE_MONTH</th>\n",
       "      <th>AMOUNT</th>\n",
       "      <th>LAST_USAGE</th>\n",
       "      <th>PAST_MONTH_USAGE</th>\n",
       "      <th>CHILDREN_NUM</th>\n",
       "    </tr>\n",
       "  </thead>\n",
       "  <tbody>\n",
       "    <tr>\n",
       "      <th>count</th>\n",
       "      <td>4843.000000</td>\n",
       "      <td>4843.000000</td>\n",
       "      <td>4843.000000</td>\n",
       "      <td>261.000000</td>\n",
       "      <td>4582.000000</td>\n",
       "      <td>4582.000000</td>\n",
       "      <td>1240.000000</td>\n",
       "      <td>4675.000000</td>\n",
       "      <td>4377.000000</td>\n",
       "      <td>4843.000000</td>\n",
       "      <td>...</td>\n",
       "      <td>3428.000000</td>\n",
       "      <td>1715.000000</td>\n",
       "      <td>870.000000</td>\n",
       "      <td>1715.000000</td>\n",
       "      <td>870.000000</td>\n",
       "      <td>864.000000</td>\n",
       "      <td>870.000000</td>\n",
       "      <td>1.713000e+03</td>\n",
       "      <td>546.000000</td>\n",
       "      <td>4843.000000</td>\n",
       "    </tr>\n",
       "    <tr>\n",
       "      <th>mean</th>\n",
       "      <td>88672.875077</td>\n",
       "      <td>1.522816</td>\n",
       "      <td>42.860211</td>\n",
       "      <td>13.639847</td>\n",
       "      <td>3.492580</td>\n",
       "      <td>6.130292</td>\n",
       "      <td>1.979839</td>\n",
       "      <td>300.427166</td>\n",
       "      <td>2.425833</td>\n",
       "      <td>3.517654</td>\n",
       "      <td>...</td>\n",
       "      <td>17.052800</td>\n",
       "      <td>17.289796</td>\n",
       "      <td>33.031034</td>\n",
       "      <td>6.026239</td>\n",
       "      <td>18.013793</td>\n",
       "      <td>26.756944</td>\n",
       "      <td>22.404598</td>\n",
       "      <td>3.572796e+01</td>\n",
       "      <td>49.080586</td>\n",
       "      <td>1.062358</td>\n",
       "    </tr>\n",
       "    <tr>\n",
       "      <th>std</th>\n",
       "      <td>2873.134105</td>\n",
       "      <td>0.499531</td>\n",
       "      <td>15.046097</td>\n",
       "      <td>6.711685</td>\n",
       "      <td>1.277588</td>\n",
       "      <td>162.416967</td>\n",
       "      <td>0.303990</td>\n",
       "      <td>1582.121412</td>\n",
       "      <td>1.616415</td>\n",
       "      <td>1.698411</td>\n",
       "      <td>...</td>\n",
       "      <td>374.406203</td>\n",
       "      <td>4.558000</td>\n",
       "      <td>503.162908</td>\n",
       "      <td>187.757903</td>\n",
       "      <td>5.129602</td>\n",
       "      <td>373.884673</td>\n",
       "      <td>429.130785</td>\n",
       "      <td>4.710994e+02</td>\n",
       "      <td>603.969539</td>\n",
       "      <td>1.332804</td>\n",
       "    </tr>\n",
       "    <tr>\n",
       "      <th>min</th>\n",
       "      <td>83732.000000</td>\n",
       "      <td>1.000000</td>\n",
       "      <td>18.000000</td>\n",
       "      <td>9.000000</td>\n",
       "      <td>1.000000</td>\n",
       "      <td>1.000000</td>\n",
       "      <td>1.000000</td>\n",
       "      <td>1.000000</td>\n",
       "      <td>0.000000</td>\n",
       "      <td>1.000000</td>\n",
       "      <td>...</td>\n",
       "      <td>1.000000</td>\n",
       "      <td>6.000000</td>\n",
       "      <td>1.000000</td>\n",
       "      <td>1.000000</td>\n",
       "      <td>6.000000</td>\n",
       "      <td>0.000000</td>\n",
       "      <td>1.000000</td>\n",
       "      <td>5.397605e-79</td>\n",
       "      <td>1.000000</td>\n",
       "      <td>0.000000</td>\n",
       "    </tr>\n",
       "    <tr>\n",
       "      <th>25%</th>\n",
       "      <td>86174.000000</td>\n",
       "      <td>1.000000</td>\n",
       "      <td>30.000000</td>\n",
       "      <td>12.000000</td>\n",
       "      <td>3.000000</td>\n",
       "      <td>1.000000</td>\n",
       "      <td>2.000000</td>\n",
       "      <td>6.000000</td>\n",
       "      <td>1.050000</td>\n",
       "      <td>2.000000</td>\n",
       "      <td>...</td>\n",
       "      <td>1.000000</td>\n",
       "      <td>15.000000</td>\n",
       "      <td>3.000000</td>\n",
       "      <td>1.000000</td>\n",
       "      <td>15.000000</td>\n",
       "      <td>1.000000</td>\n",
       "      <td>1.000000</td>\n",
       "      <td>2.000000e+00</td>\n",
       "      <td>2.000000</td>\n",
       "      <td>0.000000</td>\n",
       "    </tr>\n",
       "    <tr>\n",
       "      <th>50%</th>\n",
       "      <td>88677.000000</td>\n",
       "      <td>2.000000</td>\n",
       "      <td>43.000000</td>\n",
       "      <td>13.000000</td>\n",
       "      <td>4.000000</td>\n",
       "      <td>1.000000</td>\n",
       "      <td>2.000000</td>\n",
       "      <td>8.000000</td>\n",
       "      <td>2.040000</td>\n",
       "      <td>3.000000</td>\n",
       "      <td>...</td>\n",
       "      <td>1.000000</td>\n",
       "      <td>17.000000</td>\n",
       "      <td>4.000000</td>\n",
       "      <td>1.000000</td>\n",
       "      <td>17.000000</td>\n",
       "      <td>3.000000</td>\n",
       "      <td>2.000000</td>\n",
       "      <td>5.000000e+00</td>\n",
       "      <td>6.000000</td>\n",
       "      <td>1.000000</td>\n",
       "    </tr>\n",
       "    <tr>\n",
       "      <th>75%</th>\n",
       "      <td>91164.000000</td>\n",
       "      <td>2.000000</td>\n",
       "      <td>56.000000</td>\n",
       "      <td>14.000000</td>\n",
       "      <td>5.000000</td>\n",
       "      <td>5.000000</td>\n",
       "      <td>2.000000</td>\n",
       "      <td>14.000000</td>\n",
       "      <td>3.790000</td>\n",
       "      <td>5.000000</td>\n",
       "      <td>...</td>\n",
       "      <td>2.000000</td>\n",
       "      <td>19.000000</td>\n",
       "      <td>5.000000</td>\n",
       "      <td>2.000000</td>\n",
       "      <td>20.000000</td>\n",
       "      <td>12.000000</td>\n",
       "      <td>3.000000</td>\n",
       "      <td>1.500000e+01</td>\n",
       "      <td>25.000000</td>\n",
       "      <td>2.000000</td>\n",
       "    </tr>\n",
       "    <tr>\n",
       "      <th>max</th>\n",
       "      <td>93702.000000</td>\n",
       "      <td>2.000000</td>\n",
       "      <td>69.000000</td>\n",
       "      <td>66.000000</td>\n",
       "      <td>5.000000</td>\n",
       "      <td>7777.000000</td>\n",
       "      <td>3.000000</td>\n",
       "      <td>9999.000000</td>\n",
       "      <td>5.000000</td>\n",
       "      <td>7.000000</td>\n",
       "      <td>...</td>\n",
       "      <td>9999.000000</td>\n",
       "      <td>50.000000</td>\n",
       "      <td>9999.000000</td>\n",
       "      <td>7777.000000</td>\n",
       "      <td>50.000000</td>\n",
       "      <td>7777.000000</td>\n",
       "      <td>9999.000000</td>\n",
       "      <td>9.999000e+03</td>\n",
       "      <td>9999.000000</td>\n",
       "      <td>7.000000</td>\n",
       "    </tr>\n",
       "  </tbody>\n",
       "</table>\n",
       "<p>8 rows × 21 columns</p>\n",
       "</div>"
      ],
      "text/plain": [
       "                 ID       GENDER          AGE  EDUCATION_KID  EDUCATION_ADULT  \\\n",
       "count   4843.000000  4843.000000  4843.000000     261.000000      4582.000000   \n",
       "mean   88672.875077     1.522816    42.860211      13.639847         3.492580   \n",
       "std     2873.134105     0.499531    15.046097       6.711685         1.277588   \n",
       "min    83732.000000     1.000000    18.000000       9.000000         1.000000   \n",
       "25%    86174.000000     1.000000    30.000000      12.000000         3.000000   \n",
       "50%    88677.000000     2.000000    43.000000      13.000000         4.000000   \n",
       "75%    91164.000000     2.000000    56.000000      14.000000         5.000000   \n",
       "max    93702.000000     2.000000    69.000000      66.000000         5.000000   \n",
       "\n",
       "          MARRIAGE    PREGNANCY       INCOME  INCOME_RATIO  HOUSEHOLD_NUM  \\\n",
       "count  4582.000000  1240.000000  4675.000000   4377.000000    4843.000000   \n",
       "mean      6.130292     1.979839   300.427166      2.425833       3.517654   \n",
       "std     162.416967     0.303990  1582.121412      1.616415       1.698411   \n",
       "min       1.000000     1.000000     1.000000      0.000000       1.000000   \n",
       "25%       1.000000     2.000000     6.000000      1.050000       2.000000   \n",
       "50%       1.000000     2.000000     8.000000      2.040000       3.000000   \n",
       "75%       5.000000     2.000000    14.000000      3.790000       5.000000   \n",
       "max    7777.000000     3.000000  9999.000000      5.000000       7.000000   \n",
       "\n",
       "           ...          EVER_USE  FIRST_USAGE    FREQUENCY    PER_MONTH  \\\n",
       "count      ...       3428.000000  1715.000000   870.000000  1715.000000   \n",
       "mean       ...         17.052800    17.289796    33.031034     6.026239   \n",
       "std        ...        374.406203     4.558000   503.162908   187.757903   \n",
       "min        ...          1.000000     6.000000     1.000000     1.000000   \n",
       "25%        ...          1.000000    15.000000     3.000000     1.000000   \n",
       "50%        ...          1.000000    17.000000     4.000000     1.000000   \n",
       "75%        ...          2.000000    19.000000     5.000000     2.000000   \n",
       "max        ...       9999.000000    50.000000  9999.000000  7777.000000   \n",
       "\n",
       "       AGE_REGULAR_USE  LAST_ONCE_MONTH       AMOUNT    LAST_USAGE  \\\n",
       "count       870.000000       864.000000   870.000000  1.713000e+03   \n",
       "mean         18.013793        26.756944    22.404598  3.572796e+01   \n",
       "std           5.129602       373.884673   429.130785  4.710994e+02   \n",
       "min           6.000000         0.000000     1.000000  5.397605e-79   \n",
       "25%          15.000000         1.000000     1.000000  2.000000e+00   \n",
       "50%          17.000000         3.000000     2.000000  5.000000e+00   \n",
       "75%          20.000000        12.000000     3.000000  1.500000e+01   \n",
       "max          50.000000      7777.000000  9999.000000  9.999000e+03   \n",
       "\n",
       "       PAST_MONTH_USAGE  CHILDREN_NUM  \n",
       "count        546.000000   4843.000000  \n",
       "mean          49.080586      1.062358  \n",
       "std          603.969539      1.332804  \n",
       "min            1.000000      0.000000  \n",
       "25%            2.000000      0.000000  \n",
       "50%            6.000000      1.000000  \n",
       "75%           25.000000      2.000000  \n",
       "max         9999.000000      7.000000  \n",
       "\n",
       "[8 rows x 21 columns]"
      ]
     },
     "execution_count": 18,
     "metadata": {},
     "output_type": "execute_result"
    }
   ],
   "source": [
    "# Describe dataset\n",
    "df.describe(include='all')"
   ]
  },
  {
   "cell_type": "code",
   "execution_count": 19,
   "metadata": {},
   "outputs": [
    {
     "name": "stdout",
     "output_type": "stream",
     "text": [
      "(4843, 21)\n",
      "*****************\n",
      "ID                  4843\n",
      "GENDER                 2\n",
      "AGE                   52\n",
      "EDUCATION_KID          8\n",
      "EDUCATION_ADULT        5\n",
      "MARRIAGE               7\n",
      "PREGNANCY              3\n",
      "INCOME                16\n",
      "INCOME_RATIO         427\n",
      "HOUSEHOLD_NUM          7\n",
      "OVER_60_NUM            4\n",
      "EVER_USE               4\n",
      "FIRST_USAGE           38\n",
      "FREQUENCY              7\n",
      "PER_MONTH              3\n",
      "AGE_REGULAR_USE       38\n",
      "LAST_ONCE_MONTH       45\n",
      "AMOUNT                 6\n",
      "LAST_USAGE            51\n",
      "PAST_MONTH_USAGE      30\n",
      "CHILDREN_NUM           8\n",
      "dtype: int64\n",
      "*****************\n",
      "ID                     0\n",
      "GENDER                 0\n",
      "AGE                    0\n",
      "EDUCATION_KID       4582\n",
      "EDUCATION_ADULT      261\n",
      "MARRIAGE             261\n",
      "PREGNANCY           3603\n",
      "INCOME               168\n",
      "INCOME_RATIO         466\n",
      "HOUSEHOLD_NUM          0\n",
      "OVER_60_NUM            0\n",
      "EVER_USE            1415\n",
      "FIRST_USAGE         3128\n",
      "FREQUENCY           3973\n",
      "PER_MONTH           3128\n",
      "AGE_REGULAR_USE     3973\n",
      "LAST_ONCE_MONTH     3979\n",
      "AMOUNT              3973\n",
      "LAST_USAGE          3130\n",
      "PAST_MONTH_USAGE    4297\n",
      "CHILDREN_NUM           0\n",
      "dtype: int64\n"
     ]
    }
   ],
   "source": [
    "# Basic questions about the dataset\n",
    "\n",
    "# 1. The number of entries in the dataset\n",
    "print(df.shape)\n",
    "# We have 4843 rows and 21 columns \n",
    "\n",
    "# 2. Total number of areas that contribute to marijuana usage and their unique values of the columns \n",
    "print(\"*****************\")\n",
    "print(df.nunique())\n",
    "\n",
    "# Confirm the number of missing values in each column.\n",
    "print(\"*****************\")\n",
    "print(df.isnull().sum())"
   ]
  },
  {
   "cell_type": "markdown",
   "metadata": {},
   "source": [
    "In the first graph, the column is Gender, where the x-axis represents either male(1.0) or female(2.0), and y-axis the total count in the thousands. The x and y axis variables will change for each graphs but they will contain the same format."
   ]
  },
  {
   "cell_type": "markdown",
   "metadata": {},
   "source": [
    "The boxplot graph is used to show the error margine, the outlier data is not necessarly relevent. "
   ]
  },
  {
   "cell_type": "markdown",
   "metadata": {},
   "source": [
    "The following graphs show the difference of the data values. The x-axis represents the different catagories taken for each column and the y-axis represents the number of the data."
   ]
  },
  {
   "cell_type": "code",
   "execution_count": 20,
   "metadata": {},
   "outputs": [
    {
     "data": {
      "image/png": "[encoded data removed]",
      "text/plain": [
       "<Figure size 504x2160 with 7 Axes>"
      ]
     },
     "metadata": {
      "needs_background": "light"
     },
     "output_type": "display_data"
    }
   ],
   "source": [
    "#We will use an outlier to detect any margin of error that the data might have \n",
    "\n",
    "col_names = ['GENDER','INCOME','FIRST_USAGE','EDUCATION_KID','EDUCATION_ADULT','MARRIAGE','PREGNANCY']\n",
    "\n",
    "fig, ax = plt.subplots(len(col_names), figsize=(7,30))\n",
    "\n",
    "for i, col_val in enumerate(col_names):\n",
    "\n",
    "    sns.boxplot(y=df[col_val], ax=ax[i])\n",
    "    ax[i].set_title('Box plot - {}'.format(col_val), fontsize=10)\n",
    "    ax[i].set_xlabel(col_val, fontsize=8)\n",
    "\n",
    "plt.show()"
   ]
  },
  {
   "cell_type": "markdown",
   "metadata": {},
   "source": [
    "The following graph takes the correlation of each column and comapres it with the other columns, to show the relation that all the columns share. This will help us focus on the specific columns. "
   ]
  },
  {
   "cell_type": "code",
   "execution_count": 21,
   "metadata": {},
   "outputs": [
    {
     "data": {
      "text/plain": [
       "<matplotlib.axes._subplots.AxesSubplot at 0x1166f5dd8>"
      ]
     },
     "execution_count": 21,
     "metadata": {},
     "output_type": "execute_result"
    },
    {
     "data": {
      "image/png": "[encoded data removed]",
      "text/plain": [
       "<Figure size 360x360 with 2 Axes>"
      ]
     },
     "metadata": {
      "needs_background": "light"
     },
     "output_type": "display_data"
    }
   ],
   "source": [
    "#Check if values have a correlation which each other , and if they do we can compare those values. \n",
    "f, ax = plt.subplots(figsize=(5, 5))\n",
    "corr = df.corr()\n",
    "sns.heatmap(corr,\n",
    "            xticklabels=corr.columns.values,\n",
    "            yticklabels=corr.columns.values)"
   ]
  },
  {
   "cell_type": "markdown",
   "metadata": {},
   "source": [
    "## Visualizing the Demographics (DEMO) data"
   ]
  },
  {
   "cell_type": "markdown",
   "metadata": {},
   "source": [
    "Since our research attempts to explore the relationship between socioeconomic status and marijuana consumption, we focus on the following variables as measures of an individual's socioeconomic status: <br>\n",
    "1. Annual Household Income <br>\n",
    "2. Ratio of Family Income to Poverty <br>\n",
    "3. Education level - Adults 20+ <br>\n",
    "4. Education level - Children/Youth 6-19"
   ]
  },
  {
   "cell_type": "markdown",
   "metadata": {},
   "source": [
    "Since the coding scheme in the dataset uses numerical values for categorizing response, we convert them into verbal labels for better interpretation."
   ]
  },
  {
   "cell_type": "code",
   "execution_count": 22,
   "metadata": {},
   "outputs": [],
   "source": [
    "# Creating labels for interpreting visualizations\n",
    "income_labels = ['0-4.9', '5-9.9', '10-14.9','15-19.9', '20-24.9', '25-34.9', '35-44.9', '45-54.9','55-64.9','65-74.9','75-99', '100+']\n",
    "education_kid_labels = ['9th grade','10th grade','11th grade','12th grade, no diploma','High school graduate','GED or equivalent','More than high school','Less than 9th grade']\n",
    "education_adult_labels = ['less than 9th grade', '9-11th grade', 'high school graduate / GED', 'AA degree', 'college graduate']\n",
    "amount_labels = ['1/day', '2/day', '3-5/day', '>6/day']\n",
    "frequency_labels = ['once', '2-3 times', '4-8 times', '9-24 times', '25-30 times']"
   ]
  },
  {
   "cell_type": "markdown",
   "metadata": {},
   "source": [
    "### INCOME: Annual Household Income"
   ]
  },
  {
   "cell_type": "code",
   "execution_count": 23,
   "metadata": {},
   "outputs": [],
   "source": [
    "# remove unknown, missing, and cummulative values (12 for < $20,000 and 13 for > $20,000)\n",
    "df.drop(df[(df['INCOME']==7777) | (df['INCOME']==9999) | (df['INCOME']==12) | (df['INCOME']==13)].index, inplace=True)"
   ]
  },
  {
   "cell_type": "code",
   "execution_count": 24,
   "metadata": {
    "scrolled": true
   },
   "outputs": [
    {
     "data": {
      "text/plain": [
       "Text(0.5, 1.0, 'Distribution of household income')"
      ]
     },
     "execution_count": 24,
     "metadata": {},
     "output_type": "execute_result"
    },
    {
     "data": {
      "image/png": "[encoded data removed]",
      "text/plain": [
       "<Figure size 432x288 with 1 Axes>"
      ]
     },
     "metadata": {
      "needs_background": "light"
     },
     "output_type": "display_data"
    }
   ],
   "source": [
    "df['INCOME'].value_counts().sort_index().plot(kind='bar')\n",
    "plt.xticks(np.arange(12),income_labels)\n",
    "plt.xlabel(\"Household Income (in thousands of dollars)\")\n",
    "plt.ylabel(\"Count\")\n",
    "plt.title(\"Distribution of household income\")"
   ]
  },
  {
   "cell_type": "markdown",
   "metadata": {},
   "source": [
    "The above visualization provides an important insight into the distribution of income in this dataset: a majority of the individuals surveyed belong to the 100k+ income bracket."
   ]
  },
  {
   "cell_type": "markdown",
   "metadata": {},
   "source": [
    "### INCOME_RATIO: Ratio of family income to poverty\n",
    "\n",
    "The poverty threshold is calculated according to the Department of Health and Human Services and adjusted to account for differences that arise from geographical location and family / household sizes. \n",
    "\n",
    "The ratio of family income to poverty is thus defined as: <br>\n",
    "\n",
    "$$\\text{Ratio of family income to poverty} = \\frac{\\text{family income}}{\\text{poverty threshold}}$$\n",
    "\n",
    "The values in INCOME_RATIO range from $0$ to $4.99$ with all values $\\ge 5$ denoted by $5$. For instance, an income to poverty ratio value of $0.5$ indicates that the income is $0.5$ times or $50$% below the poverty threshold, an income to poverty ratio of $1$ indicates that income is equal to poverty threshold, and an income to poverty ratio of $5$ indicates that the income is $5$ times the poverty threshold."
   ]
  },
  {
   "cell_type": "code",
   "execution_count": 25,
   "metadata": {
    "scrolled": true
   },
   "outputs": [
    {
     "data": {
      "text/plain": [
       "Text(0, 0.5, 'Count')"
      ]
     },
     "execution_count": 25,
     "metadata": {},
     "output_type": "execute_result"
    },
    {
     "data": {
      "image/png": "[encoded data removed]",
      "text/plain": [
       "<Figure size 432x288 with 1 Axes>"
      ]
     },
     "metadata": {
      "needs_background": "light"
     },
     "output_type": "display_data"
    }
   ],
   "source": [
    "df['INCOME_RATIO'].hist()\n",
    "plt.title(\"Distribution of Income Ratio\")\n",
    "plt.xlabel(\"Ratio of family income to poverty\")\n",
    "plt.ylabel(\"Count\")"
   ]
  },
  {
   "cell_type": "code",
   "execution_count": 26,
   "metadata": {},
   "outputs": [
    {
     "data": {
      "text/html": [
       "<div>\n",
       "<style scoped>\n",
       "    .dataframe tbody tr th:only-of-type {\n",
       "        vertical-align: middle;\n",
       "    }\n",
       "\n",
       "    .dataframe tbody tr th {\n",
       "        vertical-align: top;\n",
       "    }\n",
       "\n",
       "    .dataframe thead th {\n",
       "        text-align: right;\n",
       "    }\n",
       "</style>\n",
       "<table border=\"1\" class=\"dataframe\">\n",
       "  <thead>\n",
       "    <tr style=\"text-align: right;\">\n",
       "      <th></th>\n",
       "      <th>INCOME</th>\n",
       "      <th>INCOME_RATIO</th>\n",
       "    </tr>\n",
       "  </thead>\n",
       "  <tbody>\n",
       "    <tr>\n",
       "      <th>INCOME</th>\n",
       "      <td>1.000000</td>\n",
       "      <td>0.876722</td>\n",
       "    </tr>\n",
       "    <tr>\n",
       "      <th>INCOME_RATIO</th>\n",
       "      <td>0.876722</td>\n",
       "      <td>1.000000</td>\n",
       "    </tr>\n",
       "  </tbody>\n",
       "</table>\n",
       "</div>"
      ],
      "text/plain": [
       "                INCOME  INCOME_RATIO\n",
       "INCOME        1.000000      0.876722\n",
       "INCOME_RATIO  0.876722      1.000000"
      ]
     },
     "execution_count": 26,
     "metadata": {},
     "output_type": "execute_result"
    }
   ],
   "source": [
    "df[['INCOME','INCOME_RATIO']].corr()"
   ]
  },
  {
   "cell_type": "markdown",
   "metadata": {},
   "source": [
    "We see that INCOME and INCOME_RATIO are strongly correlated with an $r^{2}$ value of 0.877, making INCOME_RATIO, a continous variable, a good proxy for INCOME"
   ]
  },
  {
   "cell_type": "markdown",
   "metadata": {},
   "source": [
    "### EDUCATION_ADULT"
   ]
  },
  {
   "cell_type": "code",
   "execution_count": 27,
   "metadata": {
    "scrolled": true
   },
   "outputs": [
    {
     "data": {
      "text/plain": [
       "(4235, 21)"
      ]
     },
     "execution_count": 27,
     "metadata": {},
     "output_type": "execute_result"
    }
   ],
   "source": [
    "df_adult = df[df.AGE >= 20]\n",
    "df_adult.shape"
   ]
  },
  {
   "cell_type": "code",
   "execution_count": 28,
   "metadata": {},
   "outputs": [
    {
     "data": {
      "image/png": "[encoded data removed]",
      "text/plain": [
       "<Figure size 432x288 with 1 Axes>"
      ]
     },
     "metadata": {
      "needs_background": "light"
     },
     "output_type": "display_data"
    }
   ],
   "source": [
    "sns.countplot(x='EDUCATION_ADULT', data=df_adult)\n",
    "ax = plt.gca()\n",
    "\n",
    "# add title and axis labels (modify x-axis label)\n",
    "ax.set_title('Distribution of Education level - Adults 20+')\n",
    "ax.set_ylabel('Total kids')\n",
    "ax.set_xlabel('Education level')\n",
    "ax.set_xticklabels(education_adult_labels,rotation='vertical');"
   ]
  },
  {
   "cell_type": "code",
   "execution_count": 29,
   "metadata": {
    "scrolled": true
   },
   "outputs": [
    {
     "data": {
      "text/plain": [
       "1.0     424\n",
       "2.0     496\n",
       "3.0     915\n",
       "4.0    1294\n",
       "5.0    1106\n",
       "Name: EDUCATION_ADULT, dtype: int64"
      ]
     },
     "execution_count": 29,
     "metadata": {},
     "output_type": "execute_result"
    }
   ],
   "source": [
    "df_adult['EDUCATION_ADULT'].value_counts().sort_index()"
   ]
  },
  {
   "cell_type": "markdown",
   "metadata": {},
   "source": [
    "We see that about $56$% of the individuals in the dataset had some college degree. This breaks down into $30.5$% of AA degree holders and $25.5$% of college graduates."
   ]
  },
  {
   "cell_type": "markdown",
   "metadata": {},
   "source": [
    "### EDUCATION_KID"
   ]
  },
  {
   "cell_type": "code",
   "execution_count": 30,
   "metadata": {
    "scrolled": true
   },
   "outputs": [
    {
     "data": {
      "text/plain": [
       "(244, 21)"
      ]
     },
     "execution_count": 30,
     "metadata": {},
     "output_type": "execute_result"
    }
   ],
   "source": [
    "df_kid = df[df.AGE < 20]\n",
    "df_kid.shape"
   ]
  },
  {
   "cell_type": "code",
   "execution_count": 31,
   "metadata": {},
   "outputs": [
    {
     "data": {
      "text/plain": [
       "18.0    124\n",
       "19.0    120\n",
       "Name: AGE, dtype: int64"
      ]
     },
     "execution_count": 31,
     "metadata": {},
     "output_type": "execute_result"
    }
   ],
   "source": [
    "df_kid['AGE'].value_counts()"
   ]
  },
  {
   "cell_type": "markdown",
   "metadata": {},
   "source": [
    "We see only two unique ages - 18 and 19 - appear in this subset of data."
   ]
  },
  {
   "cell_type": "code",
   "execution_count": 32,
   "metadata": {},
   "outputs": [
    {
     "data": {
      "image/png": "[encoded data removed]",
      "text/plain": [
       "<Figure size 432x288 with 1 Axes>"
      ]
     },
     "metadata": {
      "needs_background": "light"
     },
     "output_type": "display_data"
    }
   ],
   "source": [
    "sns.countplot(x='EDUCATION_KID', data=df_kid)\n",
    "ax = plt.gca()\n",
    "\n",
    "# add title and axis labels (modify x-axis label)\n",
    "ax.set_title('Education level - Children/Youth 6-19')\n",
    "ax.set_ylabel('Total kids')\n",
    "ax.set_xlabel('Education level')\n",
    "ax.set_xticklabels(education_kid_labels,rotation='vertical');"
   ]
  },
  {
   "cell_type": "code",
   "execution_count": 33,
   "metadata": {
    "scrolled": true
   },
   "outputs": [
    {
     "data": {
      "text/plain": [
       "9.0       2\n",
       "10.0      9\n",
       "11.0     49\n",
       "12.0     18\n",
       "13.0    104\n",
       "14.0      4\n",
       "15.0     54\n",
       "66.0      4\n",
       "Name: EDUCATION_KID, dtype: int64"
      ]
     },
     "execution_count": 33,
     "metadata": {},
     "output_type": "execute_result"
    }
   ],
   "source": [
    "df_kid['EDUCATION_KID'].value_counts().sort_index()"
   ]
  },
  {
   "cell_type": "markdown",
   "metadata": {},
   "source": [
    "We see that 42% of all children (aged 18 and 19) were high school graduates."
   ]
  },
  {
   "cell_type": "markdown",
   "metadata": {},
   "source": [
    "## ## Visualizing the Drug-Use (DUQ) data"
   ]
  },
  {
   "cell_type": "markdown",
   "metadata": {},
   "source": [
    "To better understand marijuana usage, we will explore the following components that provide insight into consumption patterns: <br>\n",
    "\n",
    "1. AGE_REGULAR_USE: Age started regularly using marijuana\n",
    "2. AMOUNT: Number of joints/pipes per day\n",
    "3. FREQUENCY: Number of times / month"
   ]
  },
  {
   "cell_type": "markdown",
   "metadata": {},
   "source": [
    "### AGE_REGULAR_USE: Age started regularly using marijuana"
   ]
  },
  {
   "cell_type": "code",
   "execution_count": 34,
   "metadata": {
    "scrolled": true
   },
   "outputs": [
    {
     "data": {
      "image/png": "[encoded data removed]",
      "text/plain": [
       "<Figure size 1080x360 with 1 Axes>"
      ]
     },
     "metadata": {
      "needs_background": "light"
     },
     "output_type": "display_data"
    }
   ],
   "source": [
    "sns.countplot(x='AGE_REGULAR_USE', data=df)\n",
    "ax = plt.gca()\n",
    "\n",
    "# add title and axis labels (modify x-axis label)\n",
    "ax.set_title('Distribution of ages when started regularly using marijuana')\n",
    "ax.set_ylabel('Adult Count')\n",
    "ax.set_xlabel('Age')\n",
    "\n",
    "fig = plt.gcf()\n",
    "fig.set_size_inches(15,5)\n"
   ]
  },
  {
   "cell_type": "markdown",
   "metadata": {},
   "source": [
    "This graph shows how the age participants begin to used regularly sits around 15-19 years old. "
   ]
  },
  {
   "cell_type": "markdown",
   "metadata": {},
   "source": [
    "Taking all the columns we need and then also replacing the values of gender to Male and Female and ever use with True and False."
   ]
  },
  {
   "cell_type": "code",
   "execution_count": 35,
   "metadata": {},
   "outputs": [
    {
     "data": {
      "image/png": "[encoded data removed]",
      "text/plain": [
       "<Figure size 432x288 with 1 Axes>"
      ]
     },
     "metadata": {
      "needs_background": "light"
     },
     "output_type": "display_data"
    }
   ],
   "source": [
    "# remove unknown, missing, and cummulative values\n",
    "df.drop(df[(df['AMOUNT']==7777) | (df['AMOUNT']==9999)].index, inplace=True)\n",
    "df['AMOUNT'].value_counts().sort_index().plot(kind='bar')\n",
    "plt.xticks(np.arange(4),amount_labels, rotation='horizontal')\n",
    "plt.xlabel(\"Amount (# of joints / pipes per day)\")\n",
    "plt.ylabel(\"Number of individuals\")\n",
    "plt.title(\"Distribution of Marijuana consumption amount\")\n",
    "plt.show()\n"
   ]
  },
  {
   "cell_type": "markdown",
   "metadata": {},
   "source": [
    "### FREQUENCY:  Number of times marijuana  is consumption / month"
   ]
  },
  {
   "cell_type": "code",
   "execution_count": 36,
   "metadata": {},
   "outputs": [
    {
     "data": {
      "image/png": "[encoded data removed]",
      "text/plain": [
       "<Figure size 432x288 with 1 Axes>"
      ]
     },
     "metadata": {
      "needs_background": "light"
     },
     "output_type": "display_data"
    }
   ],
   "source": [
    "df.drop(df[(df['FREQUENCY']==7777) | (df['FREQUENCY']==9999)].index, inplace=True)\n",
    "df['FREQUENCY'].value_counts().sort_index().plot(kind='bar')\n",
    "plt.xticks(np.arange(5),frequency_labels, rotation='vertical')\n",
    "plt.xlabel(\"frequency (Number of times marijuana is consumed / month)\")\n",
    "plt.ylabel(\"Count\")\n",
    "plt.title(\"Distribution of frequency of marjiuana consumption\")\n",
    "plt.show()"
   ]
  },
  {
   "cell_type": "code",
   "execution_count": 37,
   "metadata": {},
   "outputs": [
    {
     "data": {
      "text/plain": [
       "<matplotlib.legend.Legend at 0x1198ab7f0>"
      ]
     },
     "execution_count": 37,
     "metadata": {},
     "output_type": "execute_result"
    },
    {
     "data": {
      "image/png": "[encoded data removed]",
      "text/plain": [
       "<Figure size 432x288 with 1 Axes>"
      ]
     },
     "metadata": {
      "needs_background": "light"
     },
     "output_type": "display_data"
    }
   ],
   "source": [
    "df_adult = df[df.AGE > 19]\n",
    "sns.countplot(x='EDUCATION_ADULT', hue = 'AMOUNT', \n",
    "              data=df_adult)\n",
    "ax = plt.gca()\n",
    "\n",
    "# add title and axis labels (modify x-axis label)\n",
    "ax.set_title('Adult Education vs. Number of joints/pipes used')\n",
    "ax.set_ylabel('Total Adults')\n",
    "ax.set_xlabel('Education Level')\n",
    "ax.legend(amount_labels, title='Number of joints/pipes used', loc='best')"
   ]
  },
  {
   "cell_type": "code",
   "execution_count": 38,
   "metadata": {},
   "outputs": [
    {
     "data": {
      "text/plain": [
       "<matplotlib.legend.Legend at 0x119587400>"
      ]
     },
     "execution_count": 38,
     "metadata": {},
     "output_type": "execute_result"
    },
    {
     "data": {
      "image/png": "[encoded data removed]",
      "text/plain": [
       "<Figure size 432x288 with 1 Axes>"
      ]
     },
     "metadata": {
      "needs_background": "light"
     },
     "output_type": "display_data"
    }
   ],
   "source": [
    "sns.countplot(x='EDUCATION_ADULT', hue = 'FREQUENCY', \n",
    "              data=df_adult)\n",
    "ax = plt.gca()\n",
    "\n",
    "# add title and axis labels (modify x-axis label)\n",
    "ax.set_title('Adult Education vs. Frequency')\n",
    "ax.set_ylabel('Total Adults')\n",
    "ax.set_xlabel('Education Level')\n",
    "ax.legend(amount_labels, title='Frequency', loc='best')"
   ]
  },
  {
   "cell_type": "markdown",
   "metadata": {},
   "source": [
    "## Digging Deeper"
   ]
  },
  {
   "cell_type": "markdown",
   "metadata": {},
   "source": [
    "### Subsetting data\n",
    "\n",
    "Since we hypothesize that younger people (defined here as below the age of 26) would exhibit higher consumption of marijuana, we will now analyze this subset of data."
   ]
  },
  {
   "cell_type": "code",
   "execution_count": 39,
   "metadata": {},
   "outputs": [
    {
     "data": {
      "text/plain": [
       "(18.0, 69.0)"
      ]
     },
     "execution_count": 39,
     "metadata": {},
     "output_type": "execute_result"
    }
   ],
   "source": [
    "min_age = df['AGE'].min()\n",
    "max_age = df['AGE'].max()\n",
    "min_age, max_age"
   ]
  },
  {
   "cell_type": "code",
   "execution_count": 40,
   "metadata": {
    "scrolled": true
   },
   "outputs": [
    {
     "data": {
      "text/html": [
       "<div>\n",
       "<style scoped>\n",
       "    .dataframe tbody tr th:only-of-type {\n",
       "        vertical-align: middle;\n",
       "    }\n",
       "\n",
       "    .dataframe tbody tr th {\n",
       "        vertical-align: top;\n",
       "    }\n",
       "\n",
       "    .dataframe thead th {\n",
       "        text-align: right;\n",
       "    }\n",
       "</style>\n",
       "<table border=\"1\" class=\"dataframe\">\n",
       "  <thead>\n",
       "    <tr style=\"text-align: right;\">\n",
       "      <th></th>\n",
       "      <th>ID</th>\n",
       "      <th>GENDER</th>\n",
       "      <th>AGE</th>\n",
       "      <th>EDUCATION_KID</th>\n",
       "      <th>EDUCATION_ADULT</th>\n",
       "      <th>MARRIAGE</th>\n",
       "      <th>PREGNANCY</th>\n",
       "      <th>INCOME</th>\n",
       "      <th>INCOME_RATIO</th>\n",
       "      <th>HOUSEHOLD_NUM</th>\n",
       "      <th>...</th>\n",
       "      <th>EVER_USE</th>\n",
       "      <th>FIRST_USAGE</th>\n",
       "      <th>FREQUENCY</th>\n",
       "      <th>PER_MONTH</th>\n",
       "      <th>AGE_REGULAR_USE</th>\n",
       "      <th>LAST_ONCE_MONTH</th>\n",
       "      <th>AMOUNT</th>\n",
       "      <th>LAST_USAGE</th>\n",
       "      <th>PAST_MONTH_USAGE</th>\n",
       "      <th>CHILDREN_NUM</th>\n",
       "    </tr>\n",
       "  </thead>\n",
       "  <tbody>\n",
       "    <tr>\n",
       "      <th>4</th>\n",
       "      <td>83741.0</td>\n",
       "      <td>1.0</td>\n",
       "      <td>22.0</td>\n",
       "      <td>NaN</td>\n",
       "      <td>4.0</td>\n",
       "      <td>5.0</td>\n",
       "      <td>NaN</td>\n",
       "      <td>7.0</td>\n",
       "      <td>2.08</td>\n",
       "      <td>3.0</td>\n",
       "      <td>...</td>\n",
       "      <td>1.0</td>\n",
       "      <td>15.0</td>\n",
       "      <td>4.0</td>\n",
       "      <td>1.0</td>\n",
       "      <td>16.0</td>\n",
       "      <td>1.0</td>\n",
       "      <td>2.0</td>\n",
       "      <td>1.0</td>\n",
       "      <td>25.0</td>\n",
       "      <td>0.0</td>\n",
       "    </tr>\n",
       "    <tr>\n",
       "      <th>6</th>\n",
       "      <td>83743.0</td>\n",
       "      <td>1.0</td>\n",
       "      <td>18.0</td>\n",
       "      <td>11.0</td>\n",
       "      <td>NaN</td>\n",
       "      <td>NaN</td>\n",
       "      <td>NaN</td>\n",
       "      <td>15.0</td>\n",
       "      <td>5.00</td>\n",
       "      <td>3.0</td>\n",
       "      <td>...</td>\n",
       "      <td>2.0</td>\n",
       "      <td>NaN</td>\n",
       "      <td>NaN</td>\n",
       "      <td>NaN</td>\n",
       "      <td>NaN</td>\n",
       "      <td>NaN</td>\n",
       "      <td>NaN</td>\n",
       "      <td>NaN</td>\n",
       "      <td>NaN</td>\n",
       "      <td>0.0</td>\n",
       "    </tr>\n",
       "    <tr>\n",
       "      <th>14</th>\n",
       "      <td>83759.0</td>\n",
       "      <td>2.0</td>\n",
       "      <td>19.0</td>\n",
       "      <td>15.0</td>\n",
       "      <td>NaN</td>\n",
       "      <td>NaN</td>\n",
       "      <td>NaN</td>\n",
       "      <td>7.0</td>\n",
       "      <td>1.74</td>\n",
       "      <td>3.0</td>\n",
       "      <td>...</td>\n",
       "      <td>2.0</td>\n",
       "      <td>NaN</td>\n",
       "      <td>NaN</td>\n",
       "      <td>NaN</td>\n",
       "      <td>NaN</td>\n",
       "      <td>NaN</td>\n",
       "      <td>NaN</td>\n",
       "      <td>NaN</td>\n",
       "      <td>NaN</td>\n",
       "      <td>0.0</td>\n",
       "    </tr>\n",
       "    <tr>\n",
       "      <th>15</th>\n",
       "      <td>83761.0</td>\n",
       "      <td>2.0</td>\n",
       "      <td>24.0</td>\n",
       "      <td>NaN</td>\n",
       "      <td>5.0</td>\n",
       "      <td>5.0</td>\n",
       "      <td>2.0</td>\n",
       "      <td>1.0</td>\n",
       "      <td>0.00</td>\n",
       "      <td>1.0</td>\n",
       "      <td>...</td>\n",
       "      <td>2.0</td>\n",
       "      <td>NaN</td>\n",
       "      <td>NaN</td>\n",
       "      <td>NaN</td>\n",
       "      <td>NaN</td>\n",
       "      <td>NaN</td>\n",
       "      <td>NaN</td>\n",
       "      <td>NaN</td>\n",
       "      <td>NaN</td>\n",
       "      <td>0.0</td>\n",
       "    </tr>\n",
       "    <tr>\n",
       "      <th>23</th>\n",
       "      <td>83784.0</td>\n",
       "      <td>1.0</td>\n",
       "      <td>22.0</td>\n",
       "      <td>NaN</td>\n",
       "      <td>4.0</td>\n",
       "      <td>5.0</td>\n",
       "      <td>NaN</td>\n",
       "      <td>NaN</td>\n",
       "      <td>NaN</td>\n",
       "      <td>4.0</td>\n",
       "      <td>...</td>\n",
       "      <td>1.0</td>\n",
       "      <td>12.0</td>\n",
       "      <td>5.0</td>\n",
       "      <td>1.0</td>\n",
       "      <td>13.0</td>\n",
       "      <td>0.0</td>\n",
       "      <td>4.0</td>\n",
       "      <td>1.0</td>\n",
       "      <td>27.0</td>\n",
       "      <td>0.0</td>\n",
       "    </tr>\n",
       "  </tbody>\n",
       "</table>\n",
       "<p>5 rows × 21 columns</p>\n",
       "</div>"
      ],
      "text/plain": [
       "         ID  GENDER   AGE  EDUCATION_KID  EDUCATION_ADULT  MARRIAGE  \\\n",
       "4   83741.0     1.0  22.0            NaN              4.0       5.0   \n",
       "6   83743.0     1.0  18.0           11.0              NaN       NaN   \n",
       "14  83759.0     2.0  19.0           15.0              NaN       NaN   \n",
       "15  83761.0     2.0  24.0            NaN              5.0       5.0   \n",
       "23  83784.0     1.0  22.0            NaN              4.0       5.0   \n",
       "\n",
       "    PREGNANCY  INCOME  INCOME_RATIO  HOUSEHOLD_NUM      ...       EVER_USE  \\\n",
       "4         NaN     7.0          2.08            3.0      ...            1.0   \n",
       "6         NaN    15.0          5.00            3.0      ...            2.0   \n",
       "14        NaN     7.0          1.74            3.0      ...            2.0   \n",
       "15        2.0     1.0          0.00            1.0      ...            2.0   \n",
       "23        NaN     NaN           NaN            4.0      ...            1.0   \n",
       "\n",
       "    FIRST_USAGE  FREQUENCY  PER_MONTH  AGE_REGULAR_USE  LAST_ONCE_MONTH  \\\n",
       "4          15.0        4.0        1.0             16.0              1.0   \n",
       "6           NaN        NaN        NaN              NaN              NaN   \n",
       "14          NaN        NaN        NaN              NaN              NaN   \n",
       "15          NaN        NaN        NaN              NaN              NaN   \n",
       "23         12.0        5.0        1.0             13.0              0.0   \n",
       "\n",
       "    AMOUNT  LAST_USAGE  PAST_MONTH_USAGE  CHILDREN_NUM  \n",
       "4      2.0         1.0              25.0           0.0  \n",
       "6      NaN         NaN               NaN           0.0  \n",
       "14     NaN         NaN               NaN           0.0  \n",
       "15     NaN         NaN               NaN           0.0  \n",
       "23     4.0         1.0              27.0           0.0  \n",
       "\n",
       "[5 rows x 21 columns]"
      ]
     },
     "execution_count": 40,
     "metadata": {},
     "output_type": "execute_result"
    }
   ],
   "source": [
    "under_26 = df[df['AGE'] <= 26]\n",
    "under_26.head()"
   ]
  },
  {
   "cell_type": "markdown",
   "metadata": {},
   "source": [
    "We will also standardize the gender labels to help tease out differences in gender."
   ]
  },
  {
   "cell_type": "code",
   "execution_count": 41,
   "metadata": {
    "scrolled": true
   },
   "outputs": [
    {
     "data": {
      "text/html": [
       "<div>\n",
       "<style scoped>\n",
       "    .dataframe tbody tr th:only-of-type {\n",
       "        vertical-align: middle;\n",
       "    }\n",
       "\n",
       "    .dataframe tbody tr th {\n",
       "        vertical-align: top;\n",
       "    }\n",
       "\n",
       "    .dataframe thead th {\n",
       "        text-align: right;\n",
       "    }\n",
       "</style>\n",
       "<table border=\"1\" class=\"dataframe\">\n",
       "  <thead>\n",
       "    <tr style=\"text-align: right;\">\n",
       "      <th></th>\n",
       "      <th>ID</th>\n",
       "      <th>GENDER</th>\n",
       "      <th>AGE</th>\n",
       "      <th>EDUCATION_KID</th>\n",
       "      <th>EDUCATION_ADULT</th>\n",
       "      <th>MARRIAGE</th>\n",
       "      <th>PREGNANCY</th>\n",
       "      <th>INCOME</th>\n",
       "      <th>INCOME_RATIO</th>\n",
       "      <th>HOUSEHOLD_NUM</th>\n",
       "      <th>...</th>\n",
       "      <th>EVER_USE</th>\n",
       "      <th>FIRST_USAGE</th>\n",
       "      <th>FREQUENCY</th>\n",
       "      <th>PER_MONTH</th>\n",
       "      <th>AGE_REGULAR_USE</th>\n",
       "      <th>LAST_ONCE_MONTH</th>\n",
       "      <th>AMOUNT</th>\n",
       "      <th>LAST_USAGE</th>\n",
       "      <th>PAST_MONTH_USAGE</th>\n",
       "      <th>CHILDREN_NUM</th>\n",
       "    </tr>\n",
       "  </thead>\n",
       "  <tbody>\n",
       "    <tr>\n",
       "      <th>4</th>\n",
       "      <td>83741.0</td>\n",
       "      <td>MALE</td>\n",
       "      <td>22.0</td>\n",
       "      <td>NaN</td>\n",
       "      <td>4.0</td>\n",
       "      <td>5.0</td>\n",
       "      <td>NaN</td>\n",
       "      <td>7.0</td>\n",
       "      <td>2.08</td>\n",
       "      <td>3.0</td>\n",
       "      <td>...</td>\n",
       "      <td>1.0</td>\n",
       "      <td>15.0</td>\n",
       "      <td>4.0</td>\n",
       "      <td>1.0</td>\n",
       "      <td>16.0</td>\n",
       "      <td>1.0</td>\n",
       "      <td>2.0</td>\n",
       "      <td>1.0</td>\n",
       "      <td>25.0</td>\n",
       "      <td>0.0</td>\n",
       "    </tr>\n",
       "    <tr>\n",
       "      <th>6</th>\n",
       "      <td>83743.0</td>\n",
       "      <td>MALE</td>\n",
       "      <td>18.0</td>\n",
       "      <td>11.0</td>\n",
       "      <td>NaN</td>\n",
       "      <td>NaN</td>\n",
       "      <td>NaN</td>\n",
       "      <td>15.0</td>\n",
       "      <td>5.00</td>\n",
       "      <td>3.0</td>\n",
       "      <td>...</td>\n",
       "      <td>2.0</td>\n",
       "      <td>NaN</td>\n",
       "      <td>NaN</td>\n",
       "      <td>NaN</td>\n",
       "      <td>NaN</td>\n",
       "      <td>NaN</td>\n",
       "      <td>NaN</td>\n",
       "      <td>NaN</td>\n",
       "      <td>NaN</td>\n",
       "      <td>0.0</td>\n",
       "    </tr>\n",
       "    <tr>\n",
       "      <th>14</th>\n",
       "      <td>83759.0</td>\n",
       "      <td>FEMALE</td>\n",
       "      <td>19.0</td>\n",
       "      <td>15.0</td>\n",
       "      <td>NaN</td>\n",
       "      <td>NaN</td>\n",
       "      <td>NaN</td>\n",
       "      <td>7.0</td>\n",
       "      <td>1.74</td>\n",
       "      <td>3.0</td>\n",
       "      <td>...</td>\n",
       "      <td>2.0</td>\n",
       "      <td>NaN</td>\n",
       "      <td>NaN</td>\n",
       "      <td>NaN</td>\n",
       "      <td>NaN</td>\n",
       "      <td>NaN</td>\n",
       "      <td>NaN</td>\n",
       "      <td>NaN</td>\n",
       "      <td>NaN</td>\n",
       "      <td>0.0</td>\n",
       "    </tr>\n",
       "    <tr>\n",
       "      <th>15</th>\n",
       "      <td>83761.0</td>\n",
       "      <td>FEMALE</td>\n",
       "      <td>24.0</td>\n",
       "      <td>NaN</td>\n",
       "      <td>5.0</td>\n",
       "      <td>5.0</td>\n",
       "      <td>2.0</td>\n",
       "      <td>1.0</td>\n",
       "      <td>0.00</td>\n",
       "      <td>1.0</td>\n",
       "      <td>...</td>\n",
       "      <td>2.0</td>\n",
       "      <td>NaN</td>\n",
       "      <td>NaN</td>\n",
       "      <td>NaN</td>\n",
       "      <td>NaN</td>\n",
       "      <td>NaN</td>\n",
       "      <td>NaN</td>\n",
       "      <td>NaN</td>\n",
       "      <td>NaN</td>\n",
       "      <td>0.0</td>\n",
       "    </tr>\n",
       "    <tr>\n",
       "      <th>23</th>\n",
       "      <td>83784.0</td>\n",
       "      <td>MALE</td>\n",
       "      <td>22.0</td>\n",
       "      <td>NaN</td>\n",
       "      <td>4.0</td>\n",
       "      <td>5.0</td>\n",
       "      <td>NaN</td>\n",
       "      <td>NaN</td>\n",
       "      <td>NaN</td>\n",
       "      <td>4.0</td>\n",
       "      <td>...</td>\n",
       "      <td>1.0</td>\n",
       "      <td>12.0</td>\n",
       "      <td>5.0</td>\n",
       "      <td>1.0</td>\n",
       "      <td>13.0</td>\n",
       "      <td>0.0</td>\n",
       "      <td>4.0</td>\n",
       "      <td>1.0</td>\n",
       "      <td>27.0</td>\n",
       "      <td>0.0</td>\n",
       "    </tr>\n",
       "  </tbody>\n",
       "</table>\n",
       "<p>5 rows × 21 columns</p>\n",
       "</div>"
      ],
      "text/plain": [
       "         ID  GENDER   AGE  EDUCATION_KID  EDUCATION_ADULT  MARRIAGE  \\\n",
       "4   83741.0    MALE  22.0            NaN              4.0       5.0   \n",
       "6   83743.0    MALE  18.0           11.0              NaN       NaN   \n",
       "14  83759.0  FEMALE  19.0           15.0              NaN       NaN   \n",
       "15  83761.0  FEMALE  24.0            NaN              5.0       5.0   \n",
       "23  83784.0    MALE  22.0            NaN              4.0       5.0   \n",
       "\n",
       "    PREGNANCY  INCOME  INCOME_RATIO  HOUSEHOLD_NUM      ...       EVER_USE  \\\n",
       "4         NaN     7.0          2.08            3.0      ...            1.0   \n",
       "6         NaN    15.0          5.00            3.0      ...            2.0   \n",
       "14        NaN     7.0          1.74            3.0      ...            2.0   \n",
       "15        2.0     1.0          0.00            1.0      ...            2.0   \n",
       "23        NaN     NaN           NaN            4.0      ...            1.0   \n",
       "\n",
       "    FIRST_USAGE  FREQUENCY  PER_MONTH  AGE_REGULAR_USE  LAST_ONCE_MONTH  \\\n",
       "4          15.0        4.0        1.0             16.0              1.0   \n",
       "6           NaN        NaN        NaN              NaN              NaN   \n",
       "14          NaN        NaN        NaN              NaN              NaN   \n",
       "15          NaN        NaN        NaN              NaN              NaN   \n",
       "23         12.0        5.0        1.0             13.0              0.0   \n",
       "\n",
       "    AMOUNT  LAST_USAGE  PAST_MONTH_USAGE  CHILDREN_NUM  \n",
       "4      2.0         1.0              25.0           0.0  \n",
       "6      NaN         NaN               NaN           0.0  \n",
       "14     NaN         NaN               NaN           0.0  \n",
       "15     NaN         NaN               NaN           0.0  \n",
       "23     4.0         1.0              27.0           0.0  \n",
       "\n",
       "[5 rows x 21 columns]"
      ]
     },
     "execution_count": 41,
     "metadata": {},
     "output_type": "execute_result"
    }
   ],
   "source": [
    "#functions for converting from numerical to categorical data\n",
    "def num_to_category(num_val, data_dict):\n",
    "    if num_val in data_dict.keys():\n",
    "        return data_dict[num_val]\n",
    "    else:\n",
    "        return np.nan\n",
    "    \n",
    "# GENDER\n",
    "df['GENDER']\n",
    "gender_dict = {1:'MALE',2:'FEMALE'}\n",
    "df['GENDER']=df['GENDER'].apply(num_to_category, data_dict=gender_dict)\n",
    "under_26['GENDER']=under_26['GENDER'].apply(num_to_category, data_dict=gender_dict)\n",
    "under_26.head()"
   ]
  },
  {
   "cell_type": "markdown",
   "metadata": {},
   "source": [
    "###  Exploring relationships between indicators of socioeconomic status and marijuana consumption patterns"
   ]
  },
  {
   "cell_type": "markdown",
   "metadata": {},
   "source": [
    "#### Adult eduation and Age of regular use"
   ]
  },
  {
   "cell_type": "code",
   "execution_count": 42,
   "metadata": {
    "scrolled": true
   },
   "outputs": [
    {
     "data": {
      "image/png": "[encoded data removed]",
      "text/plain": [
       "<Figure size 432x288 with 1 Axes>"
      ]
     },
     "metadata": {
      "needs_background": "light"
     },
     "output_type": "display_data"
    }
   ],
   "source": [
    "sns.stripplot(under_26['EDUCATION_ADULT'], under_26['AGE_REGULAR_USE'])\n",
    "plt.xlabel('Education Levels')\n",
    "plt.ylabel('Age Regular Use')\n",
    "plt.xticks(np.arange(5), education_adult_labels, rotation='vertical')\n",
    "plt.title('Adult Education and Age Regular Use')\n",
    "plt.show()"
   ]
  },
  {
   "cell_type": "markdown",
   "metadata": {},
   "source": [
    "The stripplot shows that different ages that participants began using marijuana regularly grouped with their education. This helps us visualize whether education plays a role in when they begin using regularly. The graph shows that the range of ages for college graduates and above seem to be a some years old later than the other groups. Running significance tests can confirm or reject this observation. "
   ]
  },
  {
   "cell_type": "code",
   "execution_count": 43,
   "metadata": {},
   "outputs": [],
   "source": [
    "nonull_edu = under_26.dropna(subset=['AGE_REGULAR_USE'], how='all')\n",
    "lower = nonull_edu[nonull_edu['EDUCATION_ADULT'] == 1]['AGE_REGULAR_USE'].values\n",
    "nodip = nonull_edu[nonull_edu['EDUCATION_ADULT'] == 2]['AGE_REGULAR_USE'].values\n",
    "dip = nonull_edu[nonull_edu['EDUCATION_ADULT'] == 3]['AGE_REGULAR_USE'].values\n",
    "aa = nonull_edu[nonull_edu['EDUCATION_ADULT'] == 4]['AGE_REGULAR_USE'].values\n",
    "grad = nonull_edu[nonull_edu['EDUCATION_ADULT'] == 5]['AGE_REGULAR_USE'].values\n",
    "#print(lower, nodip, dip, aa, grad)"
   ]
  },
  {
   "cell_type": "markdown",
   "metadata": {},
   "source": [
    "We're extracting ages of regular use from each education level in order to run the ttests."
   ]
  },
  {
   "cell_type": "markdown",
   "metadata": {},
   "source": [
    "#### Adult eduation and Amount consumed / day"
   ]
  },
  {
   "cell_type": "code",
   "execution_count": 44,
   "metadata": {},
   "outputs": [
    {
     "data": {
      "image/png": "[encoded data removed]",
      "text/plain": [
       "<Figure size 504x504 with 1 Axes>"
      ]
     },
     "metadata": {
      "needs_background": "light"
     },
     "output_type": "display_data"
    }
   ],
   "source": [
    "plt.figure(figsize=(7,7))\n",
    "sns.swarmplot(under_26['EDUCATION_ADULT'], under_26['AMOUNT'], data=under_26, hue='GENDER')\n",
    "plt.xlabel(\"Education levels (adults 20+)\")\n",
    "plt.ylabel(\"Number of pipes/joints consumed in a day\")\n",
    "plt.xticks(np.arange(5), education_adult_labels,rotation='vertical');\n",
    "plt.yticks(np.arange(1, 5, step=1), amount_labels)\n",
    "plt.title(\"Adult Education and Amount consumed/day\")\n",
    "plt.show()"
   ]
  },
  {
   "cell_type": "markdown",
   "metadata": {},
   "source": [
    "#### Adult eduation and Frequency of consumption "
   ]
  },
  {
   "cell_type": "code",
   "execution_count": 45,
   "metadata": {},
   "outputs": [
    {
     "data": {
      "image/png": "[encoded data removed]",
      "text/plain": [
       "<Figure size 432x288 with 1 Axes>"
      ]
     },
     "metadata": {
      "needs_background": "light"
     },
     "output_type": "display_data"
    }
   ],
   "source": [
    "sns.swarmplot(x='EDUCATION_ADULT', y='FREQUENCY', data=under_26, hue='GENDER')\n",
    "plt.xticks(np.arange(5), education_adult_labels,rotation='vertical');\n",
    "plt.yticks(np.arange(1,6,step=1),frequency_labels, rotation='horizontal')\n",
    "plt.xlabel(\"Household income (in thousands of dollars)\")\n",
    "plt.ylabel(\"Number of times / month\")\n",
    "plt.title(\"Adult Education and Frequency of consumption / month\")\n",
    "plt.show()"
   ]
  },
  {
   "cell_type": "markdown",
   "metadata": {},
   "source": [
    "####  Income and Age of regular use"
   ]
  },
  {
   "cell_type": "code",
   "execution_count": 46,
   "metadata": {
    "scrolled": true
   },
   "outputs": [
    {
     "name": "stderr",
     "output_type": "stream",
     "text": [
      "No handles with labels found to put in legend.\n"
     ]
    },
    {
     "data": {
      "image/png": "[encoded data removed]",
      "text/plain": [
       "<Figure size 432x288 with 1 Axes>"
      ]
     },
     "metadata": {
      "needs_background": "light"
     },
     "output_type": "display_data"
    }
   ],
   "source": [
    "sns.stripplot(x='INCOME', y='AGE_REGULAR_USE', data=under_26)\n",
    "plt.xlabel(\"Household income (in thousands of dollars)\")\n",
    "plt.ylabel(\"Age started using marijuana regularly\")\n",
    "plt.legend().set_visible(False)\n",
    "plt.title(\"Income and Age started using marijuana regularly (aged 26 or younger)\")\n",
    "plt.xticks(np.arange(12),income_labels, rotation='vertical')\n",
    "plt.show()"
   ]
  },
  {
   "cell_type": "code",
   "execution_count": 47,
   "metadata": {},
   "outputs": [
    {
     "name": "stdout",
     "output_type": "stream",
     "text": [
      "                            OLS Regression Results                            \n",
      "==============================================================================\n",
      "Dep. Variable:        AGE_REGULAR_USE   R-squared:                       0.004\n",
      "Model:                            OLS   Adj. R-squared:                 -0.001\n",
      "Method:                 Least Squares   F-statistic:                    0.8696\n",
      "Date:                Wed, 12 Jun 2019   Prob (F-statistic):              0.352\n",
      "Time:                        22:08:06   Log-Likelihood:                -506.83\n",
      "No. Observations:                 212   AIC:                             1018.\n",
      "Df Residuals:                     210   BIC:                             1024.\n",
      "Df Model:                           1                                         \n",
      "Covariance Type:            nonrobust                                         \n",
      "==============================================================================\n",
      "                 coef    std err          t      P>|t|      [0.025      0.975]\n",
      "------------------------------------------------------------------------------\n",
      "Intercept     16.4066      0.384     42.734      0.000      15.650      17.163\n",
      "INCOME         0.0421      0.045      0.933      0.352      -0.047       0.131\n",
      "==============================================================================\n",
      "Omnibus:                        7.648   Durbin-Watson:                   1.709\n",
      "Prob(Omnibus):                  0.022   Jarque-Bera (JB):                9.110\n",
      "Skew:                           0.292   Prob(JB):                       0.0105\n",
      "Kurtosis:                       3.830   Cond. No.                         18.1\n",
      "==============================================================================\n",
      "\n",
      "Warnings:\n",
      "[1] Standard Errors assume that the covariance matrix of the errors is correctly specified.\n"
     ]
    }
   ],
   "source": [
    "outcome, predictors = patsy.dmatrices('AGE_REGULAR_USE~INCOME', under_26)\n",
    "mod = sm.OLS(outcome, predictors)\n",
    "res = mod.fit() \n",
    "print(res.summary())"
   ]
  },
  {
   "cell_type": "markdown",
   "metadata": {},
   "source": [
    "P-value 0.352 shows so far that AGE_REGULAR_USE and INCOME have no significance."
   ]
  },
  {
   "cell_type": "markdown",
   "metadata": {},
   "source": [
    "#### Income and Amount consumed / day"
   ]
  },
  {
   "cell_type": "code",
   "execution_count": 48,
   "metadata": {
    "scrolled": false
   },
   "outputs": [
    {
     "data": {
      "image/png": "[encoded data removed]",
      "text/plain": [
       "<Figure size 432x288 with 1 Axes>"
      ]
     },
     "metadata": {
      "needs_background": "light"
     },
     "output_type": "display_data"
    }
   ],
   "source": [
    "sns.swarmplot(under_26['INCOME'], under_26['AMOUNT'], data=under_26, hue='GENDER')\n",
    "plt.xlabel(\"Household income\")\n",
    "plt.ylabel(\"Number of pipes/joints consumed in a day\")\n",
    "plt.xticks(np.arange(12), income_labels, rotation='vertical')\n",
    "plt.yticks(np.arange(1, 5, step=1), amount_labels)\n",
    "plt.title(\"Income and Amount consumed / day\")\n",
    "plt.show()"
   ]
  },
  {
   "cell_type": "code",
   "execution_count": 49,
   "metadata": {},
   "outputs": [
    {
     "name": "stdout",
     "output_type": "stream",
     "text": [
      "                            OLS Regression Results                            \n",
      "==============================================================================\n",
      "Dep. Variable:                 AMOUNT   R-squared:                       0.025\n",
      "Model:                            OLS   Adj. R-squared:                  0.021\n",
      "Method:                 Least Squares   F-statistic:                     5.422\n",
      "Date:                Wed, 12 Jun 2019   Prob (F-statistic):             0.0208\n",
      "Time:                        22:08:07   Log-Likelihood:                -273.41\n",
      "No. Observations:                 212   AIC:                             550.8\n",
      "Df Residuals:                     210   BIC:                             557.5\n",
      "Df Model:                           1                                         \n",
      "Covariance Type:            nonrobust                                         \n",
      "==============================================================================\n",
      "                 coef    std err          t      P>|t|      [0.025      0.975]\n",
      "------------------------------------------------------------------------------\n",
      "Intercept      2.2805      0.128     17.863      0.000       2.029       2.532\n",
      "INCOME        -0.0349      0.015     -2.328      0.021      -0.065      -0.005\n",
      "==============================================================================\n",
      "Omnibus:                       22.796   Durbin-Watson:                   2.002\n",
      "Prob(Omnibus):                  0.000   Jarque-Bera (JB):               10.843\n",
      "Skew:                           0.357   Prob(JB):                      0.00442\n",
      "Kurtosis:                       2.153   Cond. No.                         18.1\n",
      "==============================================================================\n",
      "\n",
      "Warnings:\n",
      "[1] Standard Errors assume that the covariance matrix of the errors is correctly specified.\n"
     ]
    }
   ],
   "source": [
    "outcome, predictors = patsy.dmatrices('AMOUNT~INCOME', under_26)\n",
    "mod = sm.OLS(outcome, predictors)\n",
    "res = mod.fit() \n",
    "print(res.summary())"
   ]
  },
  {
   "cell_type": "markdown",
   "metadata": {},
   "source": [
    "As we take a look at AMOUNT and INCOME, the p-value is smaller, sitting at 0.2 but still shows no significance. "
   ]
  },
  {
   "cell_type": "markdown",
   "metadata": {},
   "source": [
    "#### Income and Frequency of consumption / month"
   ]
  },
  {
   "cell_type": "code",
   "execution_count": 50,
   "metadata": {},
   "outputs": [
    {
     "data": {
      "image/png": "[encoded data removed]",
      "text/plain": [
       "<Figure size 432x288 with 1 Axes>"
      ]
     },
     "metadata": {
      "needs_background": "light"
     },
     "output_type": "display_data"
    }
   ],
   "source": [
    "sns.swarmplot(x='INCOME', y='FREQUENCY', data=under_26, hue='GENDER')\n",
    "plt.xticks(np.arange(12),income_labels, rotation='vertical')\n",
    "plt.yticks(np.arange(1,6,step=1),frequency_labels, rotation='horizontal')\n",
    "plt.xlabel(\"Household income (in thousands of dollars)\")\n",
    "plt.ylabel(\"Number of times / month\")\n",
    "plt.title(\"Income and Frequency of consumption/month\")\n",
    "plt.show()"
   ]
  },
  {
   "cell_type": "code",
   "execution_count": 51,
   "metadata": {},
   "outputs": [
    {
     "name": "stdout",
     "output_type": "stream",
     "text": [
      "                            OLS Regression Results                            \n",
      "==============================================================================\n",
      "Dep. Variable:              FREQUENCY   R-squared:                       0.000\n",
      "Model:                            OLS   Adj. R-squared:                 -0.005\n",
      "Method:                 Least Squares   F-statistic:                   0.02552\n",
      "Date:                Wed, 12 Jun 2019   Prob (F-statistic):              0.873\n",
      "Time:                        22:08:07   Log-Likelihood:                -351.97\n",
      "No. Observations:                 212   AIC:                             707.9\n",
      "Df Residuals:                     210   BIC:                             714.7\n",
      "Df Model:                           1                                         \n",
      "Covariance Type:            nonrobust                                         \n",
      "==============================================================================\n",
      "                 coef    std err          t      P>|t|      [0.025      0.975]\n",
      "------------------------------------------------------------------------------\n",
      "Intercept      3.6864      0.185     19.933      0.000       3.322       4.051\n",
      "INCOME        -0.0035      0.022     -0.160      0.873      -0.046       0.039\n",
      "==============================================================================\n",
      "Omnibus:                       25.972   Durbin-Watson:                   1.955\n",
      "Prob(Omnibus):                  0.000   Jarque-Bera (JB):               16.764\n",
      "Skew:                          -0.556   Prob(JB):                     0.000229\n",
      "Kurtosis:                       2.187   Cond. No.                         18.1\n",
      "==============================================================================\n",
      "\n",
      "Warnings:\n",
      "[1] Standard Errors assume that the covariance matrix of the errors is correctly specified.\n"
     ]
    }
   ],
   "source": [
    "outcome, predictors = patsy.dmatrices('FREQUENCY~INCOME', under_26)\n",
    "mod = sm.OLS(outcome, predictors)\n",
    "res = mod.fit() \n",
    "print(res.summary())"
   ]
  },
  {
   "cell_type": "markdown",
   "metadata": {},
   "source": [
    "We will now perform a multivariate OLS regression to explore how marijuana consumption trends correlate with income and education levels"
   ]
  },
  {
   "cell_type": "markdown",
   "metadata": {},
   "source": [
    "## How do income and education correlate with Marijuana consumption patterns?"
   ]
  },
  {
   "cell_type": "markdown",
   "metadata": {},
   "source": [
    "### Multivariate Regression: Household income and adult education vs. age when started using regularly"
   ]
  },
  {
   "cell_type": "code",
   "execution_count": 52,
   "metadata": {},
   "outputs": [
    {
     "name": "stdout",
     "output_type": "stream",
     "text": [
      "                            OLS Regression Results                            \n",
      "==============================================================================\n",
      "Dep. Variable:        AGE_REGULAR_USE   R-squared:                       0.199\n",
      "Model:                            OLS   Adj. R-squared:                  0.189\n",
      "Method:                 Least Squares   F-statistic:                     19.37\n",
      "Date:                Wed, 12 Jun 2019   Prob (F-statistic):           3.07e-08\n",
      "Time:                        22:08:07   Log-Likelihood:                -364.00\n",
      "No. Observations:                 159   AIC:                             734.0\n",
      "Df Residuals:                     156   BIC:                             743.2\n",
      "Df Model:                           2                                         \n",
      "Covariance Type:            nonrobust                                         \n",
      "===================================================================================\n",
      "                      coef    std err          t      P>|t|      [0.025      0.975]\n",
      "-----------------------------------------------------------------------------------\n",
      "Intercept          13.3346      0.753     17.697      0.000      11.846      14.823\n",
      "INCOME             -0.0937      0.052     -1.812      0.072      -0.196       0.008\n",
      "EDUCATION_ADULT     1.2921      0.208      6.223      0.000       0.882       1.702\n",
      "==============================================================================\n",
      "Omnibus:                        3.762   Durbin-Watson:                   1.851\n",
      "Prob(Omnibus):                  0.152   Jarque-Bera (JB):                3.811\n",
      "Skew:                           0.367   Prob(JB):                        0.149\n",
      "Kurtosis:                       2.810   Cond. No.                         37.6\n",
      "==============================================================================\n",
      "\n",
      "Warnings:\n",
      "[1] Standard Errors assume that the covariance matrix of the errors is correctly specified.\n"
     ]
    }
   ],
   "source": [
    "outcome, predictors = patsy.dmatrices('AGE_REGULAR_USE~INCOME+EDUCATION_ADULT', under_26)\n",
    "mod = sm.OLS(outcome, predictors)\n",
    "res = mod.fit() \n",
    "print(res.summary())"
   ]
  },
  {
   "cell_type": "markdown",
   "metadata": {},
   "source": [
    "We decide to look into multiple variables that could affect usage, and found that AGE_REGULAR_USE, INCOME, and EDUCATION_ADULT reveals a p-value of 0.00, which shows significance."
   ]
  },
  {
   "cell_type": "markdown",
   "metadata": {},
   "source": [
    "We decide to look into multiple variables that could affect usage, and found that AGE_REGULAR_USE, INCOME, and EDUCATION_ADULT reveals a p-value of 0.00, which shows significance."
   ]
  },
  {
   "cell_type": "markdown",
   "metadata": {},
   "source": [
    "### Multivariate Regression: Household income and adult education vs. frequency of consumption"
   ]
  },
  {
   "cell_type": "code",
   "execution_count": 53,
   "metadata": {},
   "outputs": [
    {
     "name": "stdout",
     "output_type": "stream",
     "text": [
      "                            OLS Regression Results                            \n",
      "==============================================================================\n",
      "Dep. Variable:              FREQUENCY   R-squared:                       0.004\n",
      "Model:                            OLS   Adj. R-squared:                 -0.009\n",
      "Method:                 Least Squares   F-statistic:                    0.2935\n",
      "Date:                Wed, 12 Jun 2019   Prob (F-statistic):              0.746\n",
      "Time:                        22:08:07   Log-Likelihood:                -258.50\n",
      "No. Observations:                 159   AIC:                             523.0\n",
      "Df Residuals:                     156   BIC:                             532.2\n",
      "Df Model:                           2                                         \n",
      "Covariance Type:            nonrobust                                         \n",
      "===================================================================================\n",
      "                      coef    std err          t      P>|t|      [0.025      0.975]\n",
      "-----------------------------------------------------------------------------------\n",
      "Intercept           3.9230      0.388     10.109      0.000       3.156       4.690\n",
      "INCOME             -0.0183      0.027     -0.687      0.493      -0.071       0.034\n",
      "EDUCATION_ADULT    -0.0148      0.107     -0.139      0.890      -0.226       0.196\n",
      "==============================================================================\n",
      "Omnibus:                       14.518   Durbin-Watson:                   1.812\n",
      "Prob(Omnibus):                  0.001   Jarque-Bera (JB):               14.556\n",
      "Skew:                          -0.688   Prob(JB):                     0.000691\n",
      "Kurtosis:                       2.449   Cond. No.                         37.6\n",
      "==============================================================================\n",
      "\n",
      "Warnings:\n",
      "[1] Standard Errors assume that the covariance matrix of the errors is correctly specified.\n"
     ]
    }
   ],
   "source": [
    "outcome, predictors = patsy.dmatrices('FREQUENCY~INCOME+EDUCATION_ADULT', under_26)\n",
    "mod = sm.OLS(outcome, predictors)\n",
    "res = mod.fit() \n",
    "print(res.summary())"
   ]
  },
  {
   "cell_type": "markdown",
   "metadata": {},
   "source": [
    "## Digging Deeper: How do age and gender correlate with marijuana consumption?"
   ]
  },
  {
   "cell_type": "markdown",
   "metadata": {},
   "source": [
    "### Multivariate Regression:  age and gender vs. age when started using regularly"
   ]
  },
  {
   "cell_type": "code",
   "execution_count": 54,
   "metadata": {},
   "outputs": [
    {
     "name": "stdout",
     "output_type": "stream",
     "text": [
      "                            OLS Regression Results                            \n",
      "==============================================================================\n",
      "Dep. Variable:        AGE_REGULAR_USE   R-squared:                       0.066\n",
      "Model:                            OLS   Adj. R-squared:                  0.064\n",
      "Method:                 Least Squares   F-statistic:                     29.26\n",
      "Date:                Wed, 12 Jun 2019   Prob (F-statistic):           5.32e-13\n",
      "Time:                        22:08:07   Log-Likelihood:                -2494.9\n",
      "No. Observations:                 825   AIC:                             4996.\n",
      "Df Residuals:                     822   BIC:                             5010.\n",
      "Df Model:                           2                                         \n",
      "Covariance Type:            nonrobust                                         \n",
      "==================================================================================\n",
      "                     coef    std err          t      P>|t|      [0.025      0.975]\n",
      "----------------------------------------------------------------------------------\n",
      "Intercept         16.0272      0.565     28.364      0.000      14.918      17.136\n",
      "GENDER[T.MALE]    -1.7402      0.355     -4.897      0.000      -2.438      -1.043\n",
      "AGE                0.0825      0.014      6.071      0.000       0.056       0.109\n",
      "==============================================================================\n",
      "Omnibus:                      353.257   Durbin-Watson:                   1.970\n",
      "Prob(Omnibus):                  0.000   Jarque-Bera (JB):             1915.522\n",
      "Skew:                           1.894   Prob(JB):                         0.00\n",
      "Kurtosis:                       9.432   Cond. No.                         132.\n",
      "==============================================================================\n",
      "\n",
      "Warnings:\n",
      "[1] Standard Errors assume that the covariance matrix of the errors is correctly specified.\n"
     ]
    }
   ],
   "source": [
    "outcome, predictors = patsy.dmatrices('AGE_REGULAR_USE~AGE+GENDER', df)\n",
    "mod = sm.OLS(outcome, predictors)\n",
    "res = mod.fit() \n",
    "print(res.summary())"
   ]
  },
  {
   "cell_type": "markdown",
   "metadata": {},
   "source": [
    "AGE_REGULAR_USE, AGE, and GENDER show a p-value of 0.00 which indicates significance."
   ]
  },
  {
   "cell_type": "markdown",
   "metadata": {},
   "source": [
    "### Multivariate Regression:  age and gender vs. amount consumed in a day"
   ]
  },
  {
   "cell_type": "code",
   "execution_count": 55,
   "metadata": {
    "scrolled": true
   },
   "outputs": [
    {
     "name": "stdout",
     "output_type": "stream",
     "text": [
      "                            OLS Regression Results                            \n",
      "==============================================================================\n",
      "Dep. Variable:              FREQUENCY   R-squared:                       0.015\n",
      "Model:                            OLS   Adj. R-squared:                  0.013\n",
      "Method:                 Least Squares   F-statistic:                     6.444\n",
      "Date:                Wed, 12 Jun 2019   Prob (F-statistic):            0.00167\n",
      "Time:                        22:08:07   Log-Likelihood:                -1342.0\n",
      "No. Observations:                 825   AIC:                             2690.\n",
      "Df Residuals:                     822   BIC:                             2704.\n",
      "Df Model:                           2                                         \n",
      "Covariance Type:            nonrobust                                         \n",
      "==================================================================================\n",
      "                     coef    std err          t      P>|t|      [0.025      0.975]\n",
      "----------------------------------------------------------------------------------\n",
      "Intercept          3.8950      0.140     27.882      0.000       3.621       4.169\n",
      "GENDER[T.MALE]     0.1989      0.088      2.264      0.024       0.026       0.371\n",
      "AGE               -0.0097      0.003     -2.876      0.004      -0.016      -0.003\n",
      "==============================================================================\n",
      "Omnibus:                       77.154   Durbin-Watson:                   2.088\n",
      "Prob(Omnibus):                  0.000   Jarque-Bera (JB):               59.526\n",
      "Skew:                          -0.562   Prob(JB):                     1.19e-13\n",
      "Kurtosis:                       2.315   Cond. No.                         132.\n",
      "==============================================================================\n",
      "\n",
      "Warnings:\n",
      "[1] Standard Errors assume that the covariance matrix of the errors is correctly specified.\n"
     ]
    }
   ],
   "source": [
    "outcome, predictors = patsy.dmatrices('FREQUENCY~AGE+GENDER', df)\n",
    "mod = sm.OLS(outcome, predictors)\n",
    "res = mod.fit() \n",
    "print(res.summary())"
   ]
  },
  {
   "cell_type": "markdown",
   "metadata": {},
   "source": [
    "FREQUENCY, AGE, and GENDER have a p-value of 0.004, which is significant."
   ]
  },
  {
   "cell_type": "markdown",
   "metadata": {},
   "source": [
    "### Multivariate Regression:  age and gender vs. frequency of consumption"
   ]
  },
  {
   "cell_type": "code",
   "execution_count": 56,
   "metadata": {
    "scrolled": true
   },
   "outputs": [
    {
     "name": "stdout",
     "output_type": "stream",
     "text": [
      "                            OLS Regression Results                            \n",
      "==============================================================================\n",
      "Dep. Variable:              FREQUENCY   R-squared:                       0.015\n",
      "Model:                            OLS   Adj. R-squared:                  0.013\n",
      "Method:                 Least Squares   F-statistic:                     6.444\n",
      "Date:                Wed, 12 Jun 2019   Prob (F-statistic):            0.00167\n",
      "Time:                        22:08:07   Log-Likelihood:                -1342.0\n",
      "No. Observations:                 825   AIC:                             2690.\n",
      "Df Residuals:                     822   BIC:                             2704.\n",
      "Df Model:                           2                                         \n",
      "Covariance Type:            nonrobust                                         \n",
      "==================================================================================\n",
      "                     coef    std err          t      P>|t|      [0.025      0.975]\n",
      "----------------------------------------------------------------------------------\n",
      "Intercept          3.8950      0.140     27.882      0.000       3.621       4.169\n",
      "GENDER[T.MALE]     0.1989      0.088      2.264      0.024       0.026       0.371\n",
      "AGE               -0.0097      0.003     -2.876      0.004      -0.016      -0.003\n",
      "==============================================================================\n",
      "Omnibus:                       77.154   Durbin-Watson:                   2.088\n",
      "Prob(Omnibus):                  0.000   Jarque-Bera (JB):               59.526\n",
      "Skew:                          -0.562   Prob(JB):                     1.19e-13\n",
      "Kurtosis:                       2.315   Cond. No.                         132.\n",
      "==============================================================================\n",
      "\n",
      "Warnings:\n",
      "[1] Standard Errors assume that the covariance matrix of the errors is correctly specified.\n"
     ]
    }
   ],
   "source": [
    "outcome, predictors = patsy.dmatrices('FREQUENCY~AGE+GENDER', df)\n",
    "mod = sm.OLS(outcome, predictors)\n",
    "res = mod.fit() \n",
    "print(res.summary())"
   ]
  },
  {
   "cell_type": "markdown",
   "metadata": {},
   "source": [
    "We decided to do two permutation tests: 1. Income and if they ever used marijuana for younger people and 2. Is there a significant difference between genders of adults that ever used marijuana"
   ]
  },
  {
   "cell_type": "markdown",
   "metadata": {},
   "source": [
    "Null and Alternative Hypothesis for Permutation Test 1 \n",
    "\n",
    "$H_0$: There is no correlation between income and marijuana usage for younger people <br>\n",
    "$H_1$: There is a correlation between income and marijuana usage for younger people <br> \n",
    "Significance Level: 0.05"
   ]
  },
  {
   "cell_type": "markdown",
   "metadata": {},
   "source": [
    "Taking just to columns we need and then dropping the null values (just because it is makes it simpler for our hypothesis testing) and we decided to drop the refused and unknown because of the test statistic we decided to use. We used a difference of means, so if we included these values, the numbers would be skewed. "
   ]
  },
  {
   "cell_type": "code",
   "execution_count": 57,
   "metadata": {},
   "outputs": [
    {
     "data": {
      "text/html": [
       "<div>\n",
       "<style scoped>\n",
       "    .dataframe tbody tr th:only-of-type {\n",
       "        vertical-align: middle;\n",
       "    }\n",
       "\n",
       "    .dataframe tbody tr th {\n",
       "        vertical-align: top;\n",
       "    }\n",
       "\n",
       "    .dataframe thead th {\n",
       "        text-align: right;\n",
       "    }\n",
       "</style>\n",
       "<table border=\"1\" class=\"dataframe\">\n",
       "  <thead>\n",
       "    <tr style=\"text-align: right;\">\n",
       "      <th></th>\n",
       "      <th>INCOME</th>\n",
       "      <th>EVER_USE</th>\n",
       "    </tr>\n",
       "  </thead>\n",
       "  <tbody>\n",
       "    <tr>\n",
       "      <th>4</th>\n",
       "      <td>7.0</td>\n",
       "      <td>True</td>\n",
       "    </tr>\n",
       "    <tr>\n",
       "      <th>6</th>\n",
       "      <td>15.0</td>\n",
       "      <td>False</td>\n",
       "    </tr>\n",
       "    <tr>\n",
       "      <th>14</th>\n",
       "      <td>7.0</td>\n",
       "      <td>False</td>\n",
       "    </tr>\n",
       "    <tr>\n",
       "      <th>15</th>\n",
       "      <td>1.0</td>\n",
       "      <td>False</td>\n",
       "    </tr>\n",
       "    <tr>\n",
       "      <th>33</th>\n",
       "      <td>14.0</td>\n",
       "      <td>True</td>\n",
       "    </tr>\n",
       "  </tbody>\n",
       "</table>\n",
       "</div>"
      ],
      "text/plain": [
       "    INCOME  EVER_USE\n",
       "4      7.0      True\n",
       "6     15.0     False\n",
       "14     7.0     False\n",
       "15     1.0     False\n",
       "33    14.0      True"
      ]
     },
     "execution_count": 57,
     "metadata": {},
     "output_type": "execute_result"
    }
   ],
   "source": [
    "df = pd.read_csv('cleaned_marijuana_data.csv', index_col = 0)\n",
    "under_26 = df[df['AGE'] <= 26]\n",
    "income_ever_use = under_26[['INCOME', 'EVER_USE']]\n",
    "income_ever_use = income_ever_use[income_ever_use['INCOME'].isnull() == False]\n",
    "income_ever_use = income_ever_use[income_ever_use['INCOME'] != 7777.0]\n",
    "income_ever_use = income_ever_use[income_ever_use['INCOME'] != 9999.0]\n",
    "income_ever_use = income_ever_use[income_ever_use['EVER_USE'].isnull() == False] #NA means that they have never used marijuana\n",
    "income_ever_use['EVER_USE'] = income_ever_use['EVER_USE'].replace({1: True, 2: False})\n",
    "income_ever_use.head()"
   ]
  },
  {
   "cell_type": "markdown",
   "metadata": {},
   "source": [
    "Observed Difference"
   ]
  },
  {
   "cell_type": "code",
   "execution_count": 58,
   "metadata": {},
   "outputs": [
    {
     "data": {
      "text/plain": [
       "-0.519763940573247"
      ]
     },
     "execution_count": 58,
     "metadata": {},
     "output_type": "execute_result"
    }
   ],
   "source": [
    "df1 = income_ever_use.groupby('EVER_USE').mean()\n",
    "observed_difference = df1.diff().iloc[-1, 0]\n",
    "observed_difference"
   ]
  },
  {
   "cell_type": "markdown",
   "metadata": {},
   "source": [
    "Running 1000 simulations"
   ]
  },
  {
   "cell_type": "code",
   "execution_count": 59,
   "metadata": {},
   "outputs": [],
   "source": [
    "n_repetitions = 1000\n",
    "\n",
    "differences = []\n",
    "for _ in range(n_repetitions):\n",
    "    \n",
    "    # shuffle the income\n",
    "    shuffled_income = (\n",
    "        income_ever_use['INCOME']\n",
    "        .sample(replace=False, frac=1)\n",
    "        .reset_index(drop=True)\n",
    "    )\n",
    "    \n",
    "    # put them in a table\n",
    "    shuffled = (\n",
    "        income_ever_use\n",
    "        .assign(**{'Shuffled Income': shuffled_income})\n",
    "    )\n",
    "    \n",
    "    # compute the group differences (test statistic!)\n",
    "    group_means = (\n",
    "        shuffled\n",
    "        .groupby('EVER_USE')\n",
    "        .mean()\n",
    "        .loc[:, 'Shuffled Income']\n",
    "    )\n",
    "    difference = group_means.diff().iloc[-1]\n",
    "    \n",
    "    # add it to the list of results\n",
    "    differences.append(difference)"
   ]
  },
  {
   "cell_type": "markdown",
   "metadata": {},
   "source": [
    "Graph displaying the average differences in income"
   ]
  },
  {
   "cell_type": "code",
   "execution_count": 60,
   "metadata": {},
   "outputs": [
    {
     "data": {
      "image/png": "[encoded data removed]",
      "text/plain": [
       "<Figure size 432x288 with 1 Axes>"
      ]
     },
     "metadata": {
      "needs_background": "light"
     },
     "output_type": "display_data"
    }
   ],
   "source": [
    "title = 'Average differences in Income'\n",
    "pd.Series(differences).plot(kind='hist', density=True, title=title)\n",
    "plt.scatter(observed_difference, 0, color='red', s=40);"
   ]
  },
  {
   "cell_type": "markdown",
   "metadata": {},
   "source": [
    "P-Value"
   ]
  },
  {
   "cell_type": "code",
   "execution_count": 61,
   "metadata": {},
   "outputs": [
    {
     "data": {
      "text/plain": [
       "0.246"
      ]
     },
     "execution_count": 61,
     "metadata": {},
     "output_type": "execute_result"
    }
   ],
   "source": [
    "p_val = np.count_nonzero(differences <= observed_difference) / n_repetitions\n",
    "p_val"
   ]
  },
  {
   "cell_type": "markdown",
   "metadata": {},
   "source": [
    "With this p-value, we fail to reject the null hypothesis and cannot accept the alternate hypothesis"
   ]
  },
  {
   "cell_type": "markdown",
   "metadata": {},
   "source": [
    "Null and Alternative Hypothesis for Permutation Test 2\n",
    "\n",
    "$H_0$: There is no correlation between gender, education, and marijuana usage for younger people <br> \n",
    "$H_1$: There is a correlation between gender, education, and marijuana usage for younger people <br> \n",
    "Significance Level: 0.05"
   ]
  },
  {
   "cell_type": "markdown",
   "metadata": {},
   "source": [
    "Taking all the columns we need and then also replacing the values of gender to Male and Female and ever use with True and False."
   ]
  },
  {
   "cell_type": "code",
   "execution_count": 62,
   "metadata": {},
   "outputs": [
    {
     "data": {
      "text/html": [
       "<div>\n",
       "<style scoped>\n",
       "    .dataframe tbody tr th:only-of-type {\n",
       "        vertical-align: middle;\n",
       "    }\n",
       "\n",
       "    .dataframe tbody tr th {\n",
       "        vertical-align: top;\n",
       "    }\n",
       "\n",
       "    .dataframe thead th {\n",
       "        text-align: right;\n",
       "    }\n",
       "</style>\n",
       "<table border=\"1\" class=\"dataframe\">\n",
       "  <thead>\n",
       "    <tr style=\"text-align: right;\">\n",
       "      <th></th>\n",
       "      <th>GENDER</th>\n",
       "      <th>EDUCATION_ADULT</th>\n",
       "      <th>EVER_USE</th>\n",
       "    </tr>\n",
       "  </thead>\n",
       "  <tbody>\n",
       "    <tr>\n",
       "      <th>1</th>\n",
       "      <td>Male</td>\n",
       "      <td>3.0</td>\n",
       "      <td>False</td>\n",
       "    </tr>\n",
       "    <tr>\n",
       "      <th>2</th>\n",
       "      <td>Female</td>\n",
       "      <td>5.0</td>\n",
       "      <td>False</td>\n",
       "    </tr>\n",
       "    <tr>\n",
       "      <th>3</th>\n",
       "      <td>Female</td>\n",
       "      <td>4.0</td>\n",
       "      <td>True</td>\n",
       "    </tr>\n",
       "    <tr>\n",
       "      <th>4</th>\n",
       "      <td>Male</td>\n",
       "      <td>4.0</td>\n",
       "      <td>True</td>\n",
       "    </tr>\n",
       "    <tr>\n",
       "      <th>5</th>\n",
       "      <td>Female</td>\n",
       "      <td>4.0</td>\n",
       "      <td>True</td>\n",
       "    </tr>\n",
       "  </tbody>\n",
       "</table>\n",
       "</div>"
      ],
      "text/plain": [
       "   GENDER  EDUCATION_ADULT EVER_USE\n",
       "1    Male              3.0    False\n",
       "2  Female              5.0    False\n",
       "3  Female              4.0     True\n",
       "4    Male              4.0     True\n",
       "5  Female              4.0     True"
      ]
     },
     "execution_count": 62,
     "metadata": {},
     "output_type": "execute_result"
    }
   ],
   "source": [
    "df = pd.read_csv('cleaned_marijuana_data.csv', index_col = 0)\n",
    "adults = df[df['EDUCATION_ADULT'].isnull() == False]\n",
    "adult_gender_edu_usage = adults[['GENDER', 'EDUCATION_ADULT', 'EVER_USE']]\n",
    "adult_gender_edu_usage['GENDER'] = adult_gender_edu_usage['GENDER'].replace({1: 'Male', 2: 'Female'})\n",
    "adult_gender_edu_usage['EVER_USE'] = adult_gender_edu_usage['EVER_USE'].replace({1: True, 2: False})\n",
    "adult_gender_edu_usage = adult_gender_edu_usage[adult_gender_edu_usage['EVER_USE'].isnull() == False]\n",
    "adult_gender_edu_usage.head()"
   ]
  },
  {
   "cell_type": "markdown",
   "metadata": {},
   "source": [
    "Education Counts Table"
   ]
  },
  {
   "cell_type": "code",
   "execution_count": 63,
   "metadata": {},
   "outputs": [
    {
     "data": {
      "text/html": [
       "<div>\n",
       "<style scoped>\n",
       "    .dataframe tbody tr th:only-of-type {\n",
       "        vertical-align: middle;\n",
       "    }\n",
       "\n",
       "    .dataframe tbody tr th {\n",
       "        vertical-align: top;\n",
       "    }\n",
       "\n",
       "    .dataframe thead th {\n",
       "        text-align: right;\n",
       "    }\n",
       "</style>\n",
       "<table border=\"1\" class=\"dataframe\">\n",
       "  <thead>\n",
       "    <tr style=\"text-align: right;\">\n",
       "      <th>GENDER</th>\n",
       "      <th>Female</th>\n",
       "      <th>Male</th>\n",
       "    </tr>\n",
       "    <tr>\n",
       "      <th>EDUCATION_ADULT</th>\n",
       "      <th></th>\n",
       "      <th></th>\n",
       "    </tr>\n",
       "  </thead>\n",
       "  <tbody>\n",
       "    <tr>\n",
       "      <th>1.0</th>\n",
       "      <td>128</td>\n",
       "      <td>124</td>\n",
       "    </tr>\n",
       "    <tr>\n",
       "      <th>2.0</th>\n",
       "      <td>159</td>\n",
       "      <td>210</td>\n",
       "    </tr>\n",
       "    <tr>\n",
       "      <th>3.0</th>\n",
       "      <td>327</td>\n",
       "      <td>363</td>\n",
       "    </tr>\n",
       "    <tr>\n",
       "      <th>4.0</th>\n",
       "      <td>563</td>\n",
       "      <td>440</td>\n",
       "    </tr>\n",
       "    <tr>\n",
       "      <th>5.0</th>\n",
       "      <td>474</td>\n",
       "      <td>394</td>\n",
       "    </tr>\n",
       "  </tbody>\n",
       "</table>\n",
       "</div>"
      ],
      "text/plain": [
       "GENDER           Female  Male\n",
       "EDUCATION_ADULT              \n",
       "1.0                 128   124\n",
       "2.0                 159   210\n",
       "3.0                 327   363\n",
       "4.0                 563   440\n",
       "5.0                 474   394"
      ]
     },
     "execution_count": 63,
     "metadata": {},
     "output_type": "execute_result"
    }
   ],
   "source": [
    "edu_cnts = adult_gender_edu_usage.pivot_table(index='EDUCATION_ADULT', columns='GENDER', values = 'EVER_USE', \n",
    "                                               aggfunc='size')\n",
    "edu_cnts"
   ]
  },
  {
   "cell_type": "markdown",
   "metadata": {},
   "source": [
    "Conditional Distribution "
   ]
  },
  {
   "cell_type": "code",
   "execution_count": 64,
   "metadata": {},
   "outputs": [
    {
     "data": {
      "text/html": [
       "<div>\n",
       "<style scoped>\n",
       "    .dataframe tbody tr th:only-of-type {\n",
       "        vertical-align: middle;\n",
       "    }\n",
       "\n",
       "    .dataframe tbody tr th {\n",
       "        vertical-align: top;\n",
       "    }\n",
       "\n",
       "    .dataframe thead th {\n",
       "        text-align: right;\n",
       "    }\n",
       "</style>\n",
       "<table border=\"1\" class=\"dataframe\">\n",
       "  <thead>\n",
       "    <tr style=\"text-align: right;\">\n",
       "      <th>GENDER</th>\n",
       "      <th>Female</th>\n",
       "      <th>Male</th>\n",
       "    </tr>\n",
       "    <tr>\n",
       "      <th>EDUCATION_ADULT</th>\n",
       "      <th></th>\n",
       "      <th></th>\n",
       "    </tr>\n",
       "  </thead>\n",
       "  <tbody>\n",
       "    <tr>\n",
       "      <th>1.0</th>\n",
       "      <td>0.077529</td>\n",
       "      <td>0.080993</td>\n",
       "    </tr>\n",
       "    <tr>\n",
       "      <th>2.0</th>\n",
       "      <td>0.096305</td>\n",
       "      <td>0.137165</td>\n",
       "    </tr>\n",
       "    <tr>\n",
       "      <th>3.0</th>\n",
       "      <td>0.198062</td>\n",
       "      <td>0.237100</td>\n",
       "    </tr>\n",
       "    <tr>\n",
       "      <th>4.0</th>\n",
       "      <td>0.341005</td>\n",
       "      <td>0.287394</td>\n",
       "    </tr>\n",
       "    <tr>\n",
       "      <th>5.0</th>\n",
       "      <td>0.287099</td>\n",
       "      <td>0.257348</td>\n",
       "    </tr>\n",
       "  </tbody>\n",
       "</table>\n",
       "</div>"
      ],
      "text/plain": [
       "GENDER             Female      Male\n",
       "EDUCATION_ADULT                    \n",
       "1.0              0.077529  0.080993\n",
       "2.0              0.096305  0.137165\n",
       "3.0              0.198062  0.237100\n",
       "4.0              0.341005  0.287394\n",
       "5.0              0.287099  0.257348"
      ]
     },
     "execution_count": 64,
     "metadata": {},
     "output_type": "execute_result"
    }
   ],
   "source": [
    "cond_distr = edu_cnts.apply(lambda x: x / x.sum())\n",
    "cond_distr"
   ]
  },
  {
   "cell_type": "markdown",
   "metadata": {},
   "source": [
    "Graph displaying the education level and gender based on ever use."
   ]
  },
  {
   "cell_type": "code",
   "execution_count": 65,
   "metadata": {},
   "outputs": [
    {
     "data": {
      "image/png": "[encoded data removed]",
      "text/plain": [
       "<Figure size 432x288 with 1 Axes>"
      ]
     },
     "metadata": {
      "needs_background": "light"
     },
     "output_type": "display_data"
    }
   ],
   "source": [
    "title='distribution of adult education on gender'\n",
    "cond_distr.plot(kind='barh', title=title);"
   ]
  },
  {
   "cell_type": "markdown",
   "metadata": {},
   "source": [
    "We decided to use a TVD test statistic for our hypothesis test. "
   ]
  },
  {
   "cell_type": "code",
   "execution_count": 66,
   "metadata": {},
   "outputs": [],
   "source": [
    "# test stat\n",
    "def tvd_of_groups(df):\n",
    "    cnts = df.pivot_table(index='EDUCATION_ADULT', columns='GENDER', aggfunc='size')\n",
    "    distr = cnts.apply(lambda x: x / x.sum())\n",
    "    return distr.diff(axis=1).iloc[-1].abs().sum()"
   ]
  },
  {
   "cell_type": "markdown",
   "metadata": {},
   "source": [
    "Observed Value"
   ]
  },
  {
   "cell_type": "code",
   "execution_count": 67,
   "metadata": {},
   "outputs": [
    {
     "data": {
      "text/plain": [
       "0.0297505895720227"
      ]
     },
     "execution_count": 67,
     "metadata": {},
     "output_type": "execute_result"
    }
   ],
   "source": [
    "obs = tvd_of_groups(adult_gender_edu_usage)\n",
    "obs"
   ]
  },
  {
   "cell_type": "markdown",
   "metadata": {},
   "source": [
    "Running 1000 Simulations "
   ]
  },
  {
   "cell_type": "code",
   "execution_count": 68,
   "metadata": {},
   "outputs": [],
   "source": [
    "N = 1000\n",
    "tvds = []\n",
    "for _ in range(N):\n",
    "    \n",
    "    s = adult_gender_edu_usage['GENDER'].sample(frac=1, replace=False).reset_index(drop=True)\n",
    "    shuffled = adult_gender_edu_usage.loc[:, ['EDUCATION_ADULT', 'EVER_USE']].assign(GENDER=s)\n",
    "    tvds.append(tvd_of_groups(shuffled))\n",
    "\n",
    "tvds = pd.Series(tvds)"
   ]
  },
  {
   "cell_type": "markdown",
   "metadata": {},
   "source": [
    "P-Value"
   ]
  },
  {
   "cell_type": "code",
   "execution_count": 69,
   "metadata": {},
   "outputs": [
    {
     "data": {
      "text/plain": [
       "0.121"
      ]
     },
     "execution_count": 69,
     "metadata": {},
     "output_type": "execute_result"
    }
   ],
   "source": [
    "pval = (tvds >= obs).sum() / N\n",
    "pval"
   ]
  },
  {
   "cell_type": "markdown",
   "metadata": {},
   "source": [
    "With this, we fail again fail to reject the null hypothesis and cannot accept the alternate hypothesis. "
   ]
  },
  {
   "cell_type": "markdown",
   "metadata": {},
   "source": [
    "# Ethics & Privacy"
   ]
  },
  {
   "cell_type": "markdown",
   "metadata": {},
   "source": [
    "Since our research question explores the trends in marijuana usage -- a sensitive topic that is deeply intertwined with the socioeconomic fabric and political discourse of the United States, we have decided to restrict our sources to academic, peer-reviewed, and government-funded research in order to ensure that our questions and hypotheses are rooted in empirical research and motivated by accurate facts. \n",
    "\n",
    "For the purpose of this project, we will only use datasets released by the National Center for Health Statistics (NHANES) to ensure that we have reliable and comprehensive documentation about the components, sampling and measurement methodologies, and processing and review procedures. Given the data is government-funded research, and made accessible to the public, we believe to have permission to use this data in order to find correlations as long as there is no breach in privacy. \n",
    "\n",
    "Our project also involves analysis of demographic information, and therefore it is imperative to ensure the privacy of the individuals involved. The publically accessible NHANES datasets that we will be using for the purpose of this project use a sequence number for every participant and omit critical demographic information such as names, addresses, and other geographical location details that could be used to trace or identify the participants. \n",
    "\n",
    "We are aware of the privacy issues concerning data, and we will definitely take that into consideration while working with this dataset, but we do want to thank the CDC for taking many preliminary actions so that we have to work less on the aspect of privacy within our data. \n",
    "\n",
    "In regards to our data having potential biases, the data was collected to represent a varied demographic shown by the codebook of our data source given by NHANES. Interviews were held in-home as to not exclude those that may not have computer access. The only issue may be that responses from participants younger than 16 had a proxy who provided information for them and for participants who could not answer the questions themselves. This could lead to misrepresentation of information if the proxy did not fully know the truth and/or younger children withholding information as to not \"get in trouble\", especially in regards to marijuana usage. Our topic specifically did hold an issue of having missing data or omitted responses towards marijuana use, most likely due to the not-yet legalization in most states of the drug. We handled this issue by cleaning the data and dropping the responses missing data. Luckily we were still left with a significant amount of responses to work with. We also did find that a majority of our income data did were in the $100,00> income bracket. But we did not know if they survey considered income inflation, depending on where in the United States a survey participant lives, the cost of living is much different (e.g. Silicon Valley cost of living is much higher than smaller town in Texas)."
   ]
  },
  {
   "cell_type": "markdown",
   "metadata": {},
   "source": [
    "# Conclusion & Discussion"
   ]
  },
  {
   "cell_type": "markdown",
   "metadata": {},
   "source": [
    "Our project asked and investigated if there is a relationship between marijuana usage and people's living conditions. The major factors we specifically looked at included of people's demographic, education levels, and socioeconomic status.  We predicted that younger people (anyone younger than 26) will have a higher rate of marijuana usage due to social popularity, that as income and education level increases there will be a negative relationship with drug use, and that there will be a high usage of medical marijuana in elderly and sick people with the increasing popularity of medical marijuana. To obtain this information we used the 2015-2016 NHANES (National Health and Nutrition Examination Survey) data, a national survey that included data on all aspects of our research question and hypothesis. Every dataset is stored in a sas file, which we then used the pandas.read_sas method to help open our files. We then combined both the demographic and drug use datasets, and did data cleaning and made one final dataset for our analysis in group.\n",
    "In order to find a relationship for the questions we were looking for we conducted multiple hypothesis t-tests and found the p-values with an alpha of 0.05. We found that there was a statistically significant relationship for regular marijuana use and the income and education level for that same individual, the amount of use of marijuana per person in relation to their income and education level, and the frequency of use by their age and gender as well. Unfortunately, we did not find a statistically significant relationship between regular users and their income, the amount consumed per individual and their income, if income affected younger people ever using marijuana, nor a relationship between gender and usage of an individual. The results we found in our analysis allowed us to conclude that there was a negative correlation between income and education level with marijuana usage and income and education level and the amount of marijuana usage even with the recent legalizations of marijuana. We also were able to conclude that marijuana usage was more popular with younger adults. However, for our other hypotheses and questions we did not find enough of relation or correlation between regular users and their income, income of younger individuals and their usage, nor gender affecting usage as well.\n",
    "Some limitations we had for this project is that our dataset did have a lot of missing values for marijuana usage. We also learned from the CDC websites and the NHANES survey that people younger than 16 had people fill out the survey for them if they were unable to answer questions leading to possible false reporting of marijuana usage. If we were to expand on this project it would be interesting to obtain our own data using a survey, or finding a dataset with the information specifically in the San Diego area. Having a smaller population would allow for less variability across the country with income value, states that may have more relaxed laws on marijuana, and overall hopefully less missing data.The impact this work could have on society is that with this information, more education of the impacts, dangers, but also benefits of marijuana could be given to younger users especially. This would allow a better understanding of how legalization has made an impact on the use of marijuana in the U.S. along with adding to and furthering research on previous findings."
   ]
  }
 ],
 "metadata": {
  "kernelspec": {
   "display_name": "Python 3",
   "language": "python",
   "name": "python3"
  },
  "language_info": {
   "codemirror_mode": {
    "name": "ipython",
    "version": 3
   },
   "file_extension": ".py",
   "mimetype": "text/x-python",
   "name": "python",
   "nbconvert_exporter": "python",
   "pygments_lexer": "ipython3",
   "version": "3.6.3"
  }
 },
 "nbformat": 4,
 "nbformat_minor": 2
}
