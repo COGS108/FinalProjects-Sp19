{
 "cells": [
  {
   "cell_type": "markdown",
   "metadata": {},
   "source": [
    "# Ben's"
   ]
  },
  {
   "cell_type": "code",
   "execution_count": null,
   "metadata": {},
   "outputs": [],
   "source": [
    "world = gpd.read_file(gpd.datasets.get_path('naturalearth_lowres'))\n",
    "world = world[(world.pop_est>0) & (world.name!=\"Antarctica\")]\n",
    "world['gdp_per_cap'] = world.gdp_md_est / world.pop_est\n",
    "fig, ax = plt.subplots(nrows=1, ncols=1,figsize = (25,12))\n",
    "df_starbucks=gpd.GeoDataFrame(df_starbucks)\n",
    "base=world.plot(ax=ax,column='gdp_per_cap', cmap='OrRd',legend='on');\n",
    "df_starbucks.plot(ax=base,marker='o',color='r',markersize=3)\n",
    "plt.axis('off')\n",
    "plt.title(\"Starbucks distribution under population density\")\n",
    "plt.show()\n",
    "\n",
    "# above uses gdp per cap, which does not make sense. I suggest we change to this:\n",
    "world = gpd.read_file(gpd.datasets.get_path('naturalearth_lowres'))\n",
    "world = world[(world.pop_est>0) & (world.name!=\"Antarctica\")]\n",
    "fig, ax = plt.subplots(nrows=1, ncols=1,figsize = (25,12))\n",
    "df_starbucks=gpd.GeoDataFrame(df_starbucks)\n",
    "base=world.plot(ax=ax,column='pop_est', cmap='OrRd',legend='on');\n",
    "df_starbucks.plot(ax=base,marker='o',color='b',markersize=3)\n",
    "plt.axis('off')\n",
    "plt.title(\"Starbucks distribution under population density\")\n",
    "plt.show()"
   ]
  },
  {
   "cell_type": "code",
   "execution_count": null,
   "metadata": {},
   "outputs": [],
   "source": [
    "pd.options.display.max_columns=100"
   ]
  },
  {
   "cell_type": "code",
   "execution_count": null,
   "metadata": {},
   "outputs": [],
   "source": [
    "ax=sns.boxplot(x='has_starbucks',y='percent_bachelor',hue='has_starbucks',data=df_census,palette='Set3')"
   ]
  },
  {
   "cell_type": "code",
   "execution_count": null,
   "metadata": {},
   "outputs": [],
   "source": [
    "https://github.com/jordanbean/Starbucks-Location-Mapping/blob/master/starbucks_r_script_upd.Rmd\n",
    "\n",
    "http://darribas.org/notebooks/dynamics/giddy/Rank_based_Methods#Regional-exchange-mobility-pattern-in-US-1929-2009\n",
    "\n",
    "https://github.com/pysal/libpysal/blob/master/libpysal/examples/us_income/usjoin.csv"
   ]
  },
  {
   "cell_type": "markdown",
   "metadata": {},
   "source": [
    "June 10"
   ]
  },
  {
   "cell_type": "code",
   "execution_count": null,
   "metadata": {},
   "outputs": [],
   "source": [
    "#Calculating relative numbers\n",
    "# 'age < 18'  are seen as outliers since they are less likely to sit in a Starbucks\n",
    "df_census['male_18_24']=np.sum(df_census.iloc[:,1:5],axis=1)\n",
    "df_census['male_25_29']=np.sum(df_census.iloc[:,5:6],axis=1)\n",
    "df_census['male_30_39']=np.sum(df_census.iloc[:,6:8],axis=1)\n",
    "df_census['male_40_49']=np.sum(df_census.iloc[:,8:10],axis=1)\n",
    "df_census['male_50_plus']=np.sum(df_census.iloc[:,10:20],axis=1)\n",
    "df_census['female_18_24']=np.sum(df_census.iloc[:,21:25],axis=1)\n",
    "df_census['female_25_29']=np.sum(df_census.iloc[:,25:26],axis=1)\n",
    "df_census['female_30_39']=np.sum(df_census.iloc[:,26:28],axis=1)\n",
    "df_census['female_40_49']=np.sum(df_census.iloc[:,28:30],axis=1)\n",
    "df_census['female_50_plus']=np.sum(df_census.iloc[:,30:40],axis=1)\n",
    "\n",
    "#The original format of total_population was str, which cannot be used to calculate\n",
    "df_census['total_population']=df_census['total_population'].apply(float)\n",
    "df_census['percent_18_24']=(df_census['male_18_24']+df_census['female_18_24'])/df_census['total_population']\n",
    "df_census['percent_25_29']=(df_census['male_25_29']+df_census['female_25_29'])/df_census['total_population']\n",
    "df_census['percent_30_39']=(df_census['male_30_39']+df_census['female_30_39'])/df_census['total_population']\n",
    "df_census['percent_40_49']=(df_census['male_40_49']+df_census['female_40_49'])/df_census['total_population']\n",
    "df_census['percent_50_plus']=(df_census['male_50_plus']+df_census['female_50_plus'])/df_census['total_population']\n",
    "\n",
    "#Here we want to see whether there is a significant diference between genders,\n",
    "#so we make three seperate percentages\n",
    "df_census['total_workers']=df_census['male_workers']+df_census['female_workers']\n",
    "df_census['percent_male_workers']=df_census['male_workers']/df_census['total_population']\n",
    "df_census['percent_female_workers']=df_census['female_workers']/df_census['total_population']\n",
    "df_census['percent_workers']=df_census['total_workers']/df_census['total_population']\n",
    "\n",
    "#The following is used to calculate the propotion of high school/bachelor's/master's degree among different age groups\n",
    "df_census['total_18_plus']=(np.sum(df_census.iloc[:,1:20],axis=1)+np.sum(df_census.iloc[:,21:40],axis=1))\n",
    "df_census['total_22_plus']=(np.sum(df_census.iloc[:,4:20],axis=1)+np.sum(df_census.iloc[:,24:40],axis=1))\n",
    "df_census['total_25_plus']=(np.sum(df_census.iloc[:,5:20],axis=1)+np.sum(df_census.iloc[:,25:40],axis=1))\n",
    "df_census['percent_highschool']=df_census['high_school_diploma']/df_census['total_18_plus']\n",
    "df_census['percent_bachelor']=df_census['bachelors_degree']/df_census['total_22_plus']\n",
    "df_census['percent_master']=df_census['masters_degree']/df_census['total_25_plus']"
   ]
  },
  {
   "cell_type": "code",
   "execution_count": null,
   "metadata": {},
   "outputs": [],
   "source": [
    "df_census=df_census[['zip','total_population','median_age',\n",
    "                     'median_hh_income','median_rent','median_home_value',\n",
    "                     'percent_18_24','percent_25_29','percent_30_39','percent_40_49',\n",
    "                     'percent_50_plus','total_workers','percent_male_workers',\n",
    "                     'percent_female_workers','percent_workers',\n",
    "                     'percent_highschool','percent_bachelor','percent_master']]\n",
    "df_census"
   ]
  },
  {
   "cell_type": "markdown",
   "metadata": {},
   "source": [
    "June 11\n",
    "\n",
    "https://github.com/jordanbean/Starbucks-Location-Mapping/blob/master/starbucks_r_script_upd.Rmd\n",
    "\n",
    "http://darribas.org/notebooks/dynamics/giddy/Rank_based_Methods#Regional-exchange-mobility-pattern-in-US-1929-2009\n",
    "\n",
    "https://github.com/pysal/libpysal/blob/master/libpysal/examples/us_income/usjoin.csv"
   ]
  },
  {
   "cell_type": "code",
   "execution_count": null,
   "metadata": {},
   "outputs": [],
   "source": []
  }
 ],
 "metadata": {
  "kernelspec": {
   "display_name": "Python 3",
   "language": "python",
   "name": "python3"
  },
  "language_info": {
   "codemirror_mode": {
    "name": "ipython",
    "version": 3
   },
   "file_extension": ".py",
   "mimetype": "text/x-python",
   "name": "python",
   "nbconvert_exporter": "python",
   "pygments_lexer": "ipython3",
   "version": "3.7.3"
  }
 },
 "nbformat": 4,
 "nbformat_minor": 2
}
