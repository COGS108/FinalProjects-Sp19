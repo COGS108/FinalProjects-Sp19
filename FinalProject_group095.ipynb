{
 "cells": [
  {
   "cell_type": "markdown",
   "metadata": {},
   "source": [
    "# COGS 108 - Final Project "
   ]
  },
  {
   "cell_type": "markdown",
   "metadata": {},
   "source": [
    "# Names\n",
    "\n",
    "- Sierra Stump\n",
    "- Yisha Zhang\n",
    "- Katie Chen\n",
    "- Austin Labador\n",
    "- Hao Luo"
   ]
  },
  {
   "cell_type": "markdown",
   "metadata": {},
   "source": [
    "# Overview"
   ]
  },
  {
   "cell_type": "markdown",
   "metadata": {},
   "source": [
    "In this report, we explore the possible relations between tags (a tool/feature supported by Youtube) and the popularity (measured by number of views) of Youtube videos, in order to find out some possible ways to increase video views by using proper tags. More specifically, we trained two linear regressions models to prove that there is a positive correlation between number of tags and number of views, as well as number of TOP tags (more details below) and number of views. On the other hand, we performed a sentiment analysis to analyze the connotation of the tag words with the highest count. "
   ]
  },
  {
   "cell_type": "markdown",
   "metadata": {},
   "source": [
    "# Research Question"
   ]
  },
  {
   "cell_type": "markdown",
   "metadata": {},
   "source": [
    "How do tags of Youtube videos affect their number of views? \n",
    "- Will the number of tags affect the number of views? \n",
    "- Will the existence of certain popular tags affect the number of views? \n",
    "- Will the connotation of tags affect the number of views?"
   ]
  },
  {
   "cell_type": "markdown",
   "metadata": {},
   "source": [
    "## Background and Prior Work"
   ]
  },
  {
   "cell_type": "markdown",
   "metadata": {},
   "source": [
    "Just like any other content distribution network such as Facebook, Youtube has its own recommendation system which selects the \"best\" content to feed to users. Youtubers from all around the world has been trying to figure out how the system works in order to make videos that is liked by both the users and the system (which will eventually attract more users). Some common techniques to increase view are using visually-appealing thumbnails and having click-bait titles. However, these tools that appeal directly to users' eyes might not be able to fool the recommender system, since everything becomes data in the system.\n",
    "\n",
    "Nevertheless, there is one useful tool that a lot of Youtubers often ignore, which is the tags under each video. These tags are editable by the author when uploading the video, and in fact serve as a better source of information (at least to the computer) than things like title and descriptions.\n",
    "\n",
    "We all know that when users search for videos with keywords, they usually search for single words or phrases instead of complete sentences. However, titles and descriptions usually consist of meaningful sentences, which means it's very unlikely that multiple words with similar meanings would appear in the same title or description. For example, people would use either \"Why is smoking harmful\" or \"Why are cigarettes bad for you\" as a title, but no one would use \"Why is/are smoking/cigarettes harmful/bad\". This cause potential audience loss because there are going to be people who search for \"smoking\" and others searching for \"cigarettes\".\n",
    "\n",
    "This wouldn't be a problem for tags because tags are very similar to keywords. You can have multiple tags that has similar meanings for the same video, which will help avoid the problem mentioned above.\n",
    "\n",
    "The potential advantage of using tags is far more than what we mention here, and there are tons of non-acedemic posts online that teach people how to use tags to increase views. \n",
    "\n",
    "Non-acedemic sources:\n",
    "- 1) https://whyvideoisgreat.com/optimize-youtube-tags\n",
    "- 2) https://longtailpro.com/best-tags-for-youtube/\n",
    "\n",
    "In the acedemic field, there are also lots of papers trying to utilize the information provided by tags. For example, the paper \"Enriching and localizing semantic tags in internet videos\" [1] by Lamberto Ballan and others talks about how tags are used to retrieve multimedia content and ease browsing and searching.\n",
    "\n",
    "Another paper titled \"Finding meaning on YouTube: Tag recommendation and category discovery\" [2] by George Toderici and others presents a way to automatically generate tags for Youtube videos.\n",
    "\n",
    "References:\n",
    "- 1) https://dl.acm.org/citation.cfm?id=2072060\n",
    "- 2) https://ieeexplore.ieee.org/abstract/document/4438859\n",
    "\n",
    "Therefore, in this report, we will be exploring the relation between the tags of Youtube videos and their number of views (as a measurement of the popularity of the video)"
   ]
  },
  {
   "cell_type": "markdown",
   "metadata": {},
   "source": [
    "# Hypothesis"
   ]
  },
  {
   "cell_type": "markdown",
   "metadata": {},
   "source": [
    "Based on our background research:\n",
    "\n",
    "We hypothesize that videos that use more tags will have more views than those with less tags, because more tags means more information for the system to analyze and thus means higher chance to be recommended to users.\n",
    "\n",
    "Similarly, we predict that videos with certain popular tags will have more views than those with none. For example, after the release of a new iPhone, the tag \"iPhone\" might become very popular because of the large number of videos reporting it. At the same time, people are going to be interested in the new iPhone because of its popularity, which might indirectly results in the videos with the tag \"iPhone\" having more views than those that don't.\n",
    "\n",
    "Last but not least, we hypothesize that videos with more positive tag words will have more views than those with negative tag words, because positive content are generally more appealing to people than negative ones."
   ]
  },
  {
   "cell_type": "markdown",
   "metadata": {},
   "source": [
    "# Dataset(s)"
   ]
  },
  {
   "cell_type": "markdown",
   "metadata": {},
   "source": [
    "The dataset we use contains daily information concerning top trending videos on YouTube:\n",
    "\n",
    "- Dataset Name: Trending YouTube Video Statistics\n",
    "- Link to the dataset: https://www.kaggle.com/datasnaek/youtube-new\n",
    "- Number of observations: 40949\n",
    "\n",
    "This dataset includes data from several countries, but we are only focusing on the data collected from the United States. Each data row contains the following information: Video ID, Trending Date, Title, Channel Title, Category ID, Publish Time, Tags, Views, Likes, Dislikes, Comment Count, Thumbnail Link, Comments Disabled, Ratings Disabled, Video Error or Removed, and Description."
   ]
  },
  {
   "cell_type": "markdown",
   "metadata": {},
   "source": [
    "# Setup\n",
    "## Import libraries & tools"
   ]
  },
  {
   "cell_type": "code",
   "execution_count": 3,
   "metadata": {
    "scrolled": true
   },
   "outputs": [
    {
     "name": "stdout",
     "output_type": "stream",
     "text": [
      "[nltk_data] Downloading package stopwords to /home/sstump/nltk_data...\n",
      "[nltk_data]   Package stopwords is already up-to-date!\n",
      "[nltk_data] Downloading package vader_lexicon to\n",
      "[nltk_data]     /home/sstump/nltk_data...\n",
      "[nltk_data]   Package vader_lexicon is already up-to-date!\n"
     ]
    }
   ],
   "source": [
    "import numpy as np\n",
    "import pandas as pd\n",
    "pd.set_option('display.max_rows', 200) # always display 200 rows\n",
    "import matplotlib.pyplot as plt\n",
    "plt.rcParams['figure.figsize'] = (17,7) # increase figure size\n",
    "import seaborn as sns\n",
    "sns.set(style ='white', font_scale=2) #set style\n",
    "from scipy.stats import uniform, norm, bernoulli, poisson\n",
    "import re\n",
    "from nltk.tokenize import WhitespaceTokenizer\n",
    "from nltk.corpus import stopwords\n",
    "import nltk\n",
    "nltk.download('stopwords')\n",
    "from nltk.stem import PorterStemmer\n",
    "from nltk.probability import FreqDist\n",
    "from nltk.sentiment.vader import SentimentIntensityAnalyzer\n",
    "nltk.download('vader_lexicon')\n",
    "import string\n",
    "import seaborn as sns"
   ]
  },
  {
   "cell_type": "markdown",
   "metadata": {},
   "source": [
    "## Loading Data"
   ]
  },
  {
   "cell_type": "code",
   "execution_count": 4,
   "metadata": {},
   "outputs": [
    {
     "data": {
      "text/html": [
       "<div>\n",
       "<style scoped>\n",
       "    .dataframe tbody tr th:only-of-type {\n",
       "        vertical-align: middle;\n",
       "    }\n",
       "\n",
       "    .dataframe tbody tr th {\n",
       "        vertical-align: top;\n",
       "    }\n",
       "\n",
       "    .dataframe thead th {\n",
       "        text-align: right;\n",
       "    }\n",
       "</style>\n",
       "<table border=\"1\" class=\"dataframe\">\n",
       "  <thead>\n",
       "    <tr style=\"text-align: right;\">\n",
       "      <th></th>\n",
       "      <th>video_id</th>\n",
       "      <th>trending_date</th>\n",
       "      <th>title</th>\n",
       "      <th>channel_title</th>\n",
       "      <th>category_id</th>\n",
       "      <th>publish_time</th>\n",
       "      <th>tags</th>\n",
       "      <th>views</th>\n",
       "      <th>likes</th>\n",
       "      <th>dislikes</th>\n",
       "      <th>comment_count</th>\n",
       "      <th>thumbnail_link</th>\n",
       "      <th>comments_disabled</th>\n",
       "      <th>ratings_disabled</th>\n",
       "      <th>video_error_or_removed</th>\n",
       "      <th>description</th>\n",
       "    </tr>\n",
       "  </thead>\n",
       "  <tbody>\n",
       "    <tr>\n",
       "      <th>0</th>\n",
       "      <td>2kyS6SvSYSE</td>\n",
       "      <td>17.14.11</td>\n",
       "      <td>WE WANT TO TALK ABOUT OUR MARRIAGE</td>\n",
       "      <td>CaseyNeistat</td>\n",
       "      <td>22</td>\n",
       "      <td>2017-11-13T17:13:01.000Z</td>\n",
       "      <td>SHANtell martin</td>\n",
       "      <td>748374</td>\n",
       "      <td>57527</td>\n",
       "      <td>2966</td>\n",
       "      <td>15954</td>\n",
       "      <td>https://i.ytimg.com/vi/2kyS6SvSYSE/default.jpg</td>\n",
       "      <td>False</td>\n",
       "      <td>False</td>\n",
       "      <td>False</td>\n",
       "      <td>SHANTELL'S CHANNEL - https://www.youtube.com/s...</td>\n",
       "    </tr>\n",
       "    <tr>\n",
       "      <th>1</th>\n",
       "      <td>1ZAPwfrtAFY</td>\n",
       "      <td>17.14.11</td>\n",
       "      <td>The Trump Presidency: Last Week Tonight with J...</td>\n",
       "      <td>LastWeekTonight</td>\n",
       "      <td>24</td>\n",
       "      <td>2017-11-13T07:30:00.000Z</td>\n",
       "      <td>last week tonight trump presidency|\"last week ...</td>\n",
       "      <td>2418783</td>\n",
       "      <td>97185</td>\n",
       "      <td>6146</td>\n",
       "      <td>12703</td>\n",
       "      <td>https://i.ytimg.com/vi/1ZAPwfrtAFY/default.jpg</td>\n",
       "      <td>False</td>\n",
       "      <td>False</td>\n",
       "      <td>False</td>\n",
       "      <td>One year after the presidential election, John...</td>\n",
       "    </tr>\n",
       "    <tr>\n",
       "      <th>2</th>\n",
       "      <td>5qpjK5DgCt4</td>\n",
       "      <td>17.14.11</td>\n",
       "      <td>Racist Superman | Rudy Mancuso, King Bach &amp; Le...</td>\n",
       "      <td>Rudy Mancuso</td>\n",
       "      <td>23</td>\n",
       "      <td>2017-11-12T19:05:24.000Z</td>\n",
       "      <td>racist superman|\"rudy\"|\"mancuso\"|\"king\"|\"bach\"...</td>\n",
       "      <td>3191434</td>\n",
       "      <td>146033</td>\n",
       "      <td>5339</td>\n",
       "      <td>8181</td>\n",
       "      <td>https://i.ytimg.com/vi/5qpjK5DgCt4/default.jpg</td>\n",
       "      <td>False</td>\n",
       "      <td>False</td>\n",
       "      <td>False</td>\n",
       "      <td>WATCH MY PREVIOUS VIDEO ▶ \\n\\nSUBSCRIBE ► http...</td>\n",
       "    </tr>\n",
       "    <tr>\n",
       "      <th>3</th>\n",
       "      <td>puqaWrEC7tY</td>\n",
       "      <td>17.14.11</td>\n",
       "      <td>Nickelback Lyrics: Real or Fake?</td>\n",
       "      <td>Good Mythical Morning</td>\n",
       "      <td>24</td>\n",
       "      <td>2017-11-13T11:00:04.000Z</td>\n",
       "      <td>rhett and link|\"gmm\"|\"good mythical morning\"|\"...</td>\n",
       "      <td>343168</td>\n",
       "      <td>10172</td>\n",
       "      <td>666</td>\n",
       "      <td>2146</td>\n",
       "      <td>https://i.ytimg.com/vi/puqaWrEC7tY/default.jpg</td>\n",
       "      <td>False</td>\n",
       "      <td>False</td>\n",
       "      <td>False</td>\n",
       "      <td>Today we find out if Link is a Nickelback amat...</td>\n",
       "    </tr>\n",
       "    <tr>\n",
       "      <th>4</th>\n",
       "      <td>d380meD0W0M</td>\n",
       "      <td>17.14.11</td>\n",
       "      <td>I Dare You: GOING BALD!?</td>\n",
       "      <td>nigahiga</td>\n",
       "      <td>24</td>\n",
       "      <td>2017-11-12T18:01:41.000Z</td>\n",
       "      <td>ryan|\"higa\"|\"higatv\"|\"nigahiga\"|\"i dare you\"|\"...</td>\n",
       "      <td>2095731</td>\n",
       "      <td>132235</td>\n",
       "      <td>1989</td>\n",
       "      <td>17518</td>\n",
       "      <td>https://i.ytimg.com/vi/d380meD0W0M/default.jpg</td>\n",
       "      <td>False</td>\n",
       "      <td>False</td>\n",
       "      <td>False</td>\n",
       "      <td>I know it's been a while since we did this sho...</td>\n",
       "    </tr>\n",
       "  </tbody>\n",
       "</table>\n",
       "</div>"
      ],
      "text/plain": [
       "      video_id trending_date  \\\n",
       "0  2kyS6SvSYSE      17.14.11   \n",
       "1  1ZAPwfrtAFY      17.14.11   \n",
       "2  5qpjK5DgCt4      17.14.11   \n",
       "3  puqaWrEC7tY      17.14.11   \n",
       "4  d380meD0W0M      17.14.11   \n",
       "\n",
       "                                               title          channel_title  \\\n",
       "0                 WE WANT TO TALK ABOUT OUR MARRIAGE           CaseyNeistat   \n",
       "1  The Trump Presidency: Last Week Tonight with J...        LastWeekTonight   \n",
       "2  Racist Superman | Rudy Mancuso, King Bach & Le...           Rudy Mancuso   \n",
       "3                   Nickelback Lyrics: Real or Fake?  Good Mythical Morning   \n",
       "4                           I Dare You: GOING BALD!?               nigahiga   \n",
       "\n",
       "   category_id              publish_time  \\\n",
       "0           22  2017-11-13T17:13:01.000Z   \n",
       "1           24  2017-11-13T07:30:00.000Z   \n",
       "2           23  2017-11-12T19:05:24.000Z   \n",
       "3           24  2017-11-13T11:00:04.000Z   \n",
       "4           24  2017-11-12T18:01:41.000Z   \n",
       "\n",
       "                                                tags    views   likes  \\\n",
       "0                                    SHANtell martin   748374   57527   \n",
       "1  last week tonight trump presidency|\"last week ...  2418783   97185   \n",
       "2  racist superman|\"rudy\"|\"mancuso\"|\"king\"|\"bach\"...  3191434  146033   \n",
       "3  rhett and link|\"gmm\"|\"good mythical morning\"|\"...   343168   10172   \n",
       "4  ryan|\"higa\"|\"higatv\"|\"nigahiga\"|\"i dare you\"|\"...  2095731  132235   \n",
       "\n",
       "   dislikes  comment_count                                  thumbnail_link  \\\n",
       "0      2966          15954  https://i.ytimg.com/vi/2kyS6SvSYSE/default.jpg   \n",
       "1      6146          12703  https://i.ytimg.com/vi/1ZAPwfrtAFY/default.jpg   \n",
       "2      5339           8181  https://i.ytimg.com/vi/5qpjK5DgCt4/default.jpg   \n",
       "3       666           2146  https://i.ytimg.com/vi/puqaWrEC7tY/default.jpg   \n",
       "4      1989          17518  https://i.ytimg.com/vi/d380meD0W0M/default.jpg   \n",
       "\n",
       "   comments_disabled  ratings_disabled  video_error_or_removed  \\\n",
       "0              False             False                   False   \n",
       "1              False             False                   False   \n",
       "2              False             False                   False   \n",
       "3              False             False                   False   \n",
       "4              False             False                   False   \n",
       "\n",
       "                                         description  \n",
       "0  SHANTELL'S CHANNEL - https://www.youtube.com/s...  \n",
       "1  One year after the presidential election, John...  \n",
       "2  WATCH MY PREVIOUS VIDEO ▶ \\n\\nSUBSCRIBE ► http...  \n",
       "3  Today we find out if Link is a Nickelback amat...  \n",
       "4  I know it's been a while since we did this sho...  "
      ]
     },
     "execution_count": 4,
     "metadata": {},
     "output_type": "execute_result"
    }
   ],
   "source": [
    "df = pd.read_csv(\"USvideos.csv\")\n",
    "df.head()"
   ]
  },
  {
   "cell_type": "code",
   "execution_count": 5,
   "metadata": {},
   "outputs": [
    {
     "data": {
      "text/plain": [
       "(40949, 16)"
      ]
     },
     "execution_count": 5,
     "metadata": {},
     "output_type": "execute_result"
    }
   ],
   "source": [
    "# Size of data set: used to verify that all of the data was read in correctly\n",
    "df.shape"
   ]
  },
  {
   "cell_type": "markdown",
   "metadata": {},
   "source": [
    "# Date Wraggling and Cleaning\n",
    "## 1. Date reformatting\n",
    "Changing date format of both \"trending_date\" and \"publish_time\" to yyyy-mm-dd so that it's easier to read and order"
   ]
  },
  {
   "cell_type": "code",
   "execution_count": 6,
   "metadata": {},
   "outputs": [],
   "source": [
    "df['trending_date'] = pd.to_datetime(df['trending_date'], format='%y.%d.%m').dt.date\n",
    "df['publish_time'] = pd.to_datetime(df['publish_time'], format='%Y-%m-%dT%H:%M:%S.%fZ').dt.date"
   ]
  },
  {
   "cell_type": "markdown",
   "metadata": {},
   "source": [
    "## 2. Drop irrelevant columns\n",
    "Since we are only curious about the relation between tags and views, a lot of information in the dataframe are actually irrelevant. Therefore, we decide to remove them from the data frame so that we don't need to worry about tham again when handling missing values.\n",
    "\n",
    "However, we are keeping the likes, dislikes, and comment_count columns because they can also be measurement of \"popularity\" of a video, so they are potentially useful if the data of views is undermined."
   ]
  },
  {
   "cell_type": "code",
   "execution_count": 7,
   "metadata": {},
   "outputs": [],
   "source": [
    "df.drop(labels = ['video_id', 'thumbnail_link', 'channel_title', 'category_id', \n",
    "                  'description', 'comments_disabled', 'ratings_disabled'], axis = 1, inplace = True)"
   ]
  },
  {
   "cell_type": "markdown",
   "metadata": {},
   "source": [
    "## 3. Drop error or removed videos\n",
    "Delete videos that are removed or have errors because these rows might contain invalid/wrong data, which may falsify our analysis later."
   ]
  },
  {
   "cell_type": "code",
   "execution_count": 8,
   "metadata": {},
   "outputs": [],
   "source": [
    "df = df[df['video_error_or_removed'] == False]\n",
    "df.drop('video_error_or_removed',axis=1,inplace=True)"
   ]
  },
  {
   "cell_type": "markdown",
   "metadata": {},
   "source": [
    "## 4. Missing values\n",
    "After an initial observation it seems like there is no NaN values in the tags column."
   ]
  },
  {
   "cell_type": "code",
   "execution_count": 9,
   "metadata": {},
   "outputs": [
    {
     "name": "stdout",
     "output_type": "stream",
     "text": [
      "0\n"
     ]
    }
   ],
   "source": [
    "n_nan_tags =  sum(df['tags'].isnull())\n",
    "print(n_nan_tags)"
   ]
  },
  {
   "cell_type": "markdown",
   "metadata": {},
   "source": [
    "However, if we look more closely, there are actually lots of videos that have no tags. These videos have \"none\" as the value for the tags column. Since it's very difficult for us to verify whether these videos actually don't have tags or the author of this dataset fail to retrieve this information, it would be better to not use this part of the data. Therefore, we decide to remove it from the data frame."
   ]
  },
  {
   "cell_type": "code",
   "execution_count": 10,
   "metadata": {},
   "outputs": [
    {
     "data": {
      "text/html": [
       "<div>\n",
       "<style scoped>\n",
       "    .dataframe tbody tr th:only-of-type {\n",
       "        vertical-align: middle;\n",
       "    }\n",
       "\n",
       "    .dataframe tbody tr th {\n",
       "        vertical-align: top;\n",
       "    }\n",
       "\n",
       "    .dataframe thead th {\n",
       "        text-align: right;\n",
       "    }\n",
       "</style>\n",
       "<table border=\"1\" class=\"dataframe\">\n",
       "  <thead>\n",
       "    <tr style=\"text-align: right;\">\n",
       "      <th></th>\n",
       "      <th>trending_date</th>\n",
       "      <th>title</th>\n",
       "      <th>publish_time</th>\n",
       "      <th>tags</th>\n",
       "      <th>views</th>\n",
       "      <th>likes</th>\n",
       "      <th>dislikes</th>\n",
       "      <th>comment_count</th>\n",
       "    </tr>\n",
       "  </thead>\n",
       "  <tbody>\n",
       "    <tr>\n",
       "      <th>42</th>\n",
       "      <td>2017-11-14</td>\n",
       "      <td>Dennis Smith Jr. and LeBron James go back and ...</td>\n",
       "      <td>2017-11-13</td>\n",
       "      <td>[none]</td>\n",
       "      <td>945</td>\n",
       "      <td>7</td>\n",
       "      <td>5</td>\n",
       "      <td>8</td>\n",
       "    </tr>\n",
       "    <tr>\n",
       "      <th>97</th>\n",
       "      <td>2017-11-14</td>\n",
       "      <td>Edna's registered owner thought she was dead f...</td>\n",
       "      <td>2017-11-10</td>\n",
       "      <td>[none]</td>\n",
       "      <td>284666</td>\n",
       "      <td>16396</td>\n",
       "      <td>81</td>\n",
       "      <td>949</td>\n",
       "    </tr>\n",
       "    <tr>\n",
       "      <th>133</th>\n",
       "      <td>2017-11-14</td>\n",
       "      <td>President Bill Clinton On Dictators, Democracy...</td>\n",
       "      <td>2017-11-09</td>\n",
       "      <td>[none]</td>\n",
       "      <td>366180</td>\n",
       "      <td>4364</td>\n",
       "      <td>4448</td>\n",
       "      <td>1997</td>\n",
       "    </tr>\n",
       "    <tr>\n",
       "      <th>136</th>\n",
       "      <td>2017-11-14</td>\n",
       "      <td>Alicia Keys - When You Were Gone</td>\n",
       "      <td>2017-11-09</td>\n",
       "      <td>[none]</td>\n",
       "      <td>95944</td>\n",
       "      <td>1354</td>\n",
       "      <td>181</td>\n",
       "      <td>117</td>\n",
       "    </tr>\n",
       "    <tr>\n",
       "      <th>175</th>\n",
       "      <td>2017-11-14</td>\n",
       "      <td>Sphaera - demonstrating interaction</td>\n",
       "      <td>2017-11-04</td>\n",
       "      <td>[none]</td>\n",
       "      <td>1827</td>\n",
       "      <td>3</td>\n",
       "      <td>0</td>\n",
       "      <td>2</td>\n",
       "    </tr>\n",
       "  </tbody>\n",
       "</table>\n",
       "</div>"
      ],
      "text/plain": [
       "    trending_date                                              title  \\\n",
       "42     2017-11-14  Dennis Smith Jr. and LeBron James go back and ...   \n",
       "97     2017-11-14  Edna's registered owner thought she was dead f...   \n",
       "133    2017-11-14  President Bill Clinton On Dictators, Democracy...   \n",
       "136    2017-11-14                   Alicia Keys - When You Were Gone   \n",
       "175    2017-11-14                Sphaera - demonstrating interaction   \n",
       "\n",
       "    publish_time    tags   views  likes  dislikes  comment_count  \n",
       "42    2017-11-13  [none]     945      7         5              8  \n",
       "97    2017-11-10  [none]  284666  16396        81            949  \n",
       "133   2017-11-09  [none]  366180   4364      4448           1997  \n",
       "136   2017-11-09  [none]   95944   1354       181            117  \n",
       "175   2017-11-04  [none]    1827      3         0              2  "
      ]
     },
     "execution_count": 10,
     "metadata": {},
     "output_type": "execute_result"
    }
   ],
   "source": [
    "df[df['tags'] == \"[none]\"].head()"
   ]
  },
  {
   "cell_type": "code",
   "execution_count": 11,
   "metadata": {},
   "outputs": [
    {
     "data": {
      "text/plain": [
       "1521"
      ]
     },
     "execution_count": 11,
     "metadata": {},
     "output_type": "execute_result"
    }
   ],
   "source": [
    "len(df[df['tags'] == \"[none]\"])"
   ]
  },
  {
   "cell_type": "code",
   "execution_count": 12,
   "metadata": {},
   "outputs": [],
   "source": [
    "# Just in case we want to use it for comparison later, we will also make a copy of the \n",
    "# data set with the \"none\" values first, and save it in 'df_withNoTags'\n",
    "df_withNoTags = df.copy()\n",
    "df = df[df['tags'] != \"[none]\"]"
   ]
  },
  {
   "cell_type": "markdown",
   "metadata": {},
   "source": [
    "## 4. Tags and Title format clean up"
   ]
  },
  {
   "cell_type": "markdown",
   "metadata": {},
   "source": [
    "Convert all string data to lowercase and strip all the extra/useless spaces so that they are easier to handle"
   ]
  },
  {
   "cell_type": "code",
   "execution_count": 13,
   "metadata": {},
   "outputs": [],
   "source": [
    "# function that strip the white space of the string\n",
    "def strip(name) :\n",
    "    return str(name).strip()\n",
    "\n",
    "# function that turn string to lower case\n",
    "def lower_case(name):\n",
    "    return str(name).lower()\n",
    "\n",
    "# strip the leading and ending white space in tags column\n",
    "df['tags'] = df['tags'].apply(strip)\n",
    "df['title'] = df['title'].apply(strip)\n",
    "\n",
    "# change the tags column to all lower case lettering\n",
    "df[\"tags\"] = df[\"tags\"].apply(lower_case)\n",
    "df[\"title\"] = df[\"title\"].apply(lower_case)"
   ]
  },
  {
   "cell_type": "markdown",
   "metadata": {},
   "source": [
    "## 5. Dropping rows where number of views is too large\n"
   ]
  },
  {
   "cell_type": "code",
   "execution_count": 19,
   "metadata": {},
   "outputs": [],
   "source": [
    "df = df[df['views'] <= 20000000]"
   ]
  },
  {
   "cell_type": "markdown",
   "metadata": {},
   "source": [
    "In order to make the graph easier to visualize, we dropped the videos that have over 20 million views. We consider these videos outliers because the majority of the other videos have views around 7 million or less. When examining the videos with 20 million views, we observed that most of them are music videos. It makes sense why music videos would have a significantly larger amount of views when compared to videos posted by ordinary YouTubers. We decided to drop this data because it doesn’t significantly change the shape of the graph, therefore the resulting analysis should not change. "
   ]
  },
  {
   "cell_type": "markdown",
   "metadata": {},
   "source": [
    "Take a look at what the data looks like after cleaning"
   ]
  },
  {
   "cell_type": "code",
   "execution_count": 20,
   "metadata": {},
   "outputs": [
    {
     "data": {
      "text/html": [
       "<div>\n",
       "<style scoped>\n",
       "    .dataframe tbody tr th:only-of-type {\n",
       "        vertical-align: middle;\n",
       "    }\n",
       "\n",
       "    .dataframe tbody tr th {\n",
       "        vertical-align: top;\n",
       "    }\n",
       "\n",
       "    .dataframe thead th {\n",
       "        text-align: right;\n",
       "    }\n",
       "</style>\n",
       "<table border=\"1\" class=\"dataframe\">\n",
       "  <thead>\n",
       "    <tr style=\"text-align: right;\">\n",
       "      <th></th>\n",
       "      <th>trending_date</th>\n",
       "      <th>title</th>\n",
       "      <th>publish_time</th>\n",
       "      <th>tags</th>\n",
       "      <th>views</th>\n",
       "      <th>likes</th>\n",
       "      <th>dislikes</th>\n",
       "      <th>comment_count</th>\n",
       "    </tr>\n",
       "  </thead>\n",
       "  <tbody>\n",
       "    <tr>\n",
       "      <th>0</th>\n",
       "      <td>2017-11-14</td>\n",
       "      <td>we want to talk about our marriage</td>\n",
       "      <td>2017-11-13</td>\n",
       "      <td>shantell martin</td>\n",
       "      <td>748374</td>\n",
       "      <td>57527</td>\n",
       "      <td>2966</td>\n",
       "      <td>15954</td>\n",
       "    </tr>\n",
       "    <tr>\n",
       "      <th>1</th>\n",
       "      <td>2017-11-14</td>\n",
       "      <td>the trump presidency: last week tonight with j...</td>\n",
       "      <td>2017-11-13</td>\n",
       "      <td>last week tonight trump presidency|\"last week ...</td>\n",
       "      <td>2418783</td>\n",
       "      <td>97185</td>\n",
       "      <td>6146</td>\n",
       "      <td>12703</td>\n",
       "    </tr>\n",
       "    <tr>\n",
       "      <th>2</th>\n",
       "      <td>2017-11-14</td>\n",
       "      <td>racist superman | rudy mancuso, king bach &amp; le...</td>\n",
       "      <td>2017-11-12</td>\n",
       "      <td>racist superman|\"rudy\"|\"mancuso\"|\"king\"|\"bach\"...</td>\n",
       "      <td>3191434</td>\n",
       "      <td>146033</td>\n",
       "      <td>5339</td>\n",
       "      <td>8181</td>\n",
       "    </tr>\n",
       "    <tr>\n",
       "      <th>3</th>\n",
       "      <td>2017-11-14</td>\n",
       "      <td>nickelback lyrics: real or fake?</td>\n",
       "      <td>2017-11-13</td>\n",
       "      <td>rhett and link|\"gmm\"|\"good mythical morning\"|\"...</td>\n",
       "      <td>343168</td>\n",
       "      <td>10172</td>\n",
       "      <td>666</td>\n",
       "      <td>2146</td>\n",
       "    </tr>\n",
       "    <tr>\n",
       "      <th>4</th>\n",
       "      <td>2017-11-14</td>\n",
       "      <td>i dare you: going bald!?</td>\n",
       "      <td>2017-11-12</td>\n",
       "      <td>ryan|\"higa\"|\"higatv\"|\"nigahiga\"|\"i dare you\"|\"...</td>\n",
       "      <td>2095731</td>\n",
       "      <td>132235</td>\n",
       "      <td>1989</td>\n",
       "      <td>17518</td>\n",
       "    </tr>\n",
       "  </tbody>\n",
       "</table>\n",
       "</div>"
      ],
      "text/plain": [
       "  trending_date                                              title  \\\n",
       "0    2017-11-14                 we want to talk about our marriage   \n",
       "1    2017-11-14  the trump presidency: last week tonight with j...   \n",
       "2    2017-11-14  racist superman | rudy mancuso, king bach & le...   \n",
       "3    2017-11-14                   nickelback lyrics: real or fake?   \n",
       "4    2017-11-14                           i dare you: going bald!?   \n",
       "\n",
       "  publish_time                                               tags    views  \\\n",
       "0   2017-11-13                                    shantell martin   748374   \n",
       "1   2017-11-13  last week tonight trump presidency|\"last week ...  2418783   \n",
       "2   2017-11-12  racist superman|\"rudy\"|\"mancuso\"|\"king\"|\"bach\"...  3191434   \n",
       "3   2017-11-13  rhett and link|\"gmm\"|\"good mythical morning\"|\"...   343168   \n",
       "4   2017-11-12  ryan|\"higa\"|\"higatv\"|\"nigahiga\"|\"i dare you\"|\"...  2095731   \n",
       "\n",
       "    likes  dislikes  comment_count  \n",
       "0   57527      2966          15954  \n",
       "1   97185      6146          12703  \n",
       "2  146033      5339           8181  \n",
       "3   10172       666           2146  \n",
       "4  132235      1989          17518  "
      ]
     },
     "execution_count": 20,
     "metadata": {},
     "output_type": "execute_result"
    }
   ],
   "source": [
    "df.head()"
   ]
  },
  {
   "cell_type": "markdown",
   "metadata": {},
   "source": [
    "# Data Visualization\n",
    "## 1. Histograms of numerical data\n",
    "First let's take a look at the distribution of the number of views of all the videos."
   ]
  },
  {
   "cell_type": "code",
   "execution_count": 21,
   "metadata": {},
   "outputs": [
    {
     "data": {
      "image/png": "[encoded data removed]",
      "text/plain": [
       "<Figure size 1080x720 with 1 Axes>"
      ]
     },
     "metadata": {},
     "output_type": "display_data"
    }
   ],
   "source": [
    "plt.figure(figsize=(15,10))\n",
    "hist_views = plt.hist(df['views'],300)\n",
    "fig_views = plt.gcf()"
   ]
  },
  {
   "cell_type": "markdown",
   "metadata": {},
   "source": [
    "As we can see, the distribution is definitely skewed right, with a smooth (but not linear) decreasing trend. Most videos has a small number of views and very few videos have a view over 10,000,000 times."
   ]
  },
  {
   "cell_type": "markdown",
   "metadata": {},
   "source": [
    "### Shape & Central Tendency & Variability"
   ]
  },
  {
   "cell_type": "markdown",
   "metadata": {},
   "source": [
    "To get a more precise (numerical) idea of the distribution of the view data, we can look at some statistics of the data."
   ]
  },
  {
   "cell_type": "code",
   "execution_count": 22,
   "metadata": {},
   "outputs": [
    {
     "data": {
      "text/plain": [
       "count    3.871500e+04\n",
       "mean     1.647253e+06\n",
       "std      2.763398e+06\n",
       "min      5.490000e+02\n",
       "25%      2.417205e+05\n",
       "50%      6.626880e+05\n",
       "75%      1.718966e+06\n",
       "max      1.999988e+07\n",
       "Name: views, dtype: float64"
      ]
     },
     "execution_count": 22,
     "metadata": {},
     "output_type": "execute_result"
    }
   ],
   "source": [
    "df['views'].describe()"
   ]
  },
  {
   "cell_type": "code",
   "execution_count": 23,
   "metadata": {},
   "outputs": [
    {
     "name": "stdout",
     "output_type": "stream",
     "text": [
      "7.63636671232e+12\n"
     ]
    }
   ],
   "source": [
    "# Variance for views\n",
    "var_views = df['views'].var()\n",
    "print(var_views)"
   ]
  },
  {
   "cell_type": "markdown",
   "metadata": {},
   "source": [
    "As the statictics shows, the video with the least view has 549 views, and the video with the most view has about 200,000,000 views. The range of the data is huge, and the standard error is even larger than the mean. This confirms that the distribution of the data is skewed, and shows that the data are sparsely distributed."
   ]
  },
  {
   "cell_type": "markdown",
   "metadata": {},
   "source": [
    "## 2. Correlation Heatmap"
   ]
  },
  {
   "cell_type": "markdown",
   "metadata": {},
   "source": [
    "Next, we can use a heatmap to show the correlation between different columns in the dataframe (but only numerical data)"
   ]
  },
  {
   "cell_type": "code",
   "execution_count": 17,
   "metadata": {},
   "outputs": [
    {
     "data": {
      "text/plain": [
       "<matplotlib.axes._subplots.AxesSubplot at 0x1d6e7752eb8>"
      ]
     },
     "execution_count": 17,
     "metadata": {},
     "output_type": "execute_result"
    },
    {
     "data": {
      "image/png": "[encoded data removed]",
      "text/plain": [
       "<Figure size 432x288 with 2 Axes>"
      ]
     },
     "metadata": {},
     "output_type": "display_data"
    }
   ],
   "source": [
    "corr = df.corr()\n",
    "sns.heatmap(corr)"
   ]
  },
  {
   "cell_type": "markdown",
   "metadata": {},
   "source": [
    "From the heatmap we can see that comment_count and likes are strongly correlated, as well as views and likes. This could be explained by the fact that when people like a video, they are more likely to leave a comment. Also, due to the nature of the recommendation algorithm of Youtube, usually people only click on and watch the videos that they are more likely to enjoy. This is further supported by the fact that the relation between views and dislikes are not as strong, because Youtube wouldn't want to recommend videos that people don't like"
   ]
  },
  {
   "cell_type": "markdown",
   "metadata": {},
   "source": [
    "# Analysis I: Linear Regression on Number of Tags"
   ]
  },
  {
   "cell_type": "markdown",
   "metadata": {},
   "source": [
    "Does more tags means more views? To prove that there is a positive correlation between number of tags and number of views, we chose to do a linear regression. But first we need to retreive the number of tags for each video.\n",
    "\n",
    "## Counting the number of tags per Video\n",
    "Since tags in the dataframe are 'string' data types, we first thought about comparing the lengths of the strings and use the idea that longer string means a higher number of tags. However, we then discovered that there are separations signs ('|') between the tags. Therefore, we can actually just find out how many of these separations there are and add two to it, to determine the amount of tags of each video. Videos without tags are already removed so we don't need to worry about them"
   ]
  },
  {
   "cell_type": "code",
   "execution_count": 18,
   "metadata": {},
   "outputs": [],
   "source": [
    "number_of_tags = df['tags'].str.find('|') + 2"
   ]
  },
  {
   "cell_type": "markdown",
   "metadata": {},
   "source": [
    "Add this information to our main dataframe and draw a histogram to look at the distribution"
   ]
  },
  {
   "cell_type": "code",
   "execution_count": 19,
   "metadata": {},
   "outputs": [
    {
     "data": {
      "text/html": [
       "<div>\n",
       "<style scoped>\n",
       "    .dataframe tbody tr th:only-of-type {\n",
       "        vertical-align: middle;\n",
       "    }\n",
       "\n",
       "    .dataframe tbody tr th {\n",
       "        vertical-align: top;\n",
       "    }\n",
       "\n",
       "    .dataframe thead th {\n",
       "        text-align: right;\n",
       "    }\n",
       "</style>\n",
       "<table border=\"1\" class=\"dataframe\">\n",
       "  <thead>\n",
       "    <tr style=\"text-align: right;\">\n",
       "      <th></th>\n",
       "      <th>trending_date</th>\n",
       "      <th>title</th>\n",
       "      <th>publish_time</th>\n",
       "      <th>tags</th>\n",
       "      <th>views</th>\n",
       "      <th>likes</th>\n",
       "      <th>dislikes</th>\n",
       "      <th>comment_count</th>\n",
       "      <th>number_of_tags</th>\n",
       "    </tr>\n",
       "  </thead>\n",
       "  <tbody>\n",
       "    <tr>\n",
       "      <th>0</th>\n",
       "      <td>2017-11-14</td>\n",
       "      <td>we want to talk about our marriage</td>\n",
       "      <td>2017-11-13</td>\n",
       "      <td>shantell martin</td>\n",
       "      <td>748374</td>\n",
       "      <td>57527</td>\n",
       "      <td>2966</td>\n",
       "      <td>15954</td>\n",
       "      <td>1</td>\n",
       "    </tr>\n",
       "    <tr>\n",
       "      <th>1</th>\n",
       "      <td>2017-11-14</td>\n",
       "      <td>the trump presidency: last week tonight with j...</td>\n",
       "      <td>2017-11-13</td>\n",
       "      <td>last week tonight trump presidency|\"last week ...</td>\n",
       "      <td>2418783</td>\n",
       "      <td>97185</td>\n",
       "      <td>6146</td>\n",
       "      <td>12703</td>\n",
       "      <td>36</td>\n",
       "    </tr>\n",
       "    <tr>\n",
       "      <th>2</th>\n",
       "      <td>2017-11-14</td>\n",
       "      <td>racist superman | rudy mancuso, king bach &amp; le...</td>\n",
       "      <td>2017-11-12</td>\n",
       "      <td>racist superman|\"rudy\"|\"mancuso\"|\"king\"|\"bach\"...</td>\n",
       "      <td>3191434</td>\n",
       "      <td>146033</td>\n",
       "      <td>5339</td>\n",
       "      <td>8181</td>\n",
       "      <td>17</td>\n",
       "    </tr>\n",
       "    <tr>\n",
       "      <th>3</th>\n",
       "      <td>2017-11-14</td>\n",
       "      <td>nickelback lyrics: real or fake?</td>\n",
       "      <td>2017-11-13</td>\n",
       "      <td>rhett and link|\"gmm\"|\"good mythical morning\"|\"...</td>\n",
       "      <td>343168</td>\n",
       "      <td>10172</td>\n",
       "      <td>666</td>\n",
       "      <td>2146</td>\n",
       "      <td>16</td>\n",
       "    </tr>\n",
       "    <tr>\n",
       "      <th>4</th>\n",
       "      <td>2017-11-14</td>\n",
       "      <td>i dare you: going bald!?</td>\n",
       "      <td>2017-11-12</td>\n",
       "      <td>ryan|\"higa\"|\"higatv\"|\"nigahiga\"|\"i dare you\"|\"...</td>\n",
       "      <td>2095731</td>\n",
       "      <td>132235</td>\n",
       "      <td>1989</td>\n",
       "      <td>17518</td>\n",
       "      <td>6</td>\n",
       "    </tr>\n",
       "  </tbody>\n",
       "</table>\n",
       "</div>"
      ],
      "text/plain": [
       "  trending_date                                              title  \\\n",
       "0    2017-11-14                 we want to talk about our marriage   \n",
       "1    2017-11-14  the trump presidency: last week tonight with j...   \n",
       "2    2017-11-14  racist superman | rudy mancuso, king bach & le...   \n",
       "3    2017-11-14                   nickelback lyrics: real or fake?   \n",
       "4    2017-11-14                           i dare you: going bald!?   \n",
       "\n",
       "  publish_time                                               tags    views  \\\n",
       "0   2017-11-13                                    shantell martin   748374   \n",
       "1   2017-11-13  last week tonight trump presidency|\"last week ...  2418783   \n",
       "2   2017-11-12  racist superman|\"rudy\"|\"mancuso\"|\"king\"|\"bach\"...  3191434   \n",
       "3   2017-11-13  rhett and link|\"gmm\"|\"good mythical morning\"|\"...   343168   \n",
       "4   2017-11-12  ryan|\"higa\"|\"higatv\"|\"nigahiga\"|\"i dare you\"|\"...  2095731   \n",
       "\n",
       "    likes  dislikes  comment_count  number_of_tags  \n",
       "0   57527      2966          15954               1  \n",
       "1   97185      6146          12703              36  \n",
       "2  146033      5339           8181              17  \n",
       "3   10172       666           2146              16  \n",
       "4  132235      1989          17518               6  "
      ]
     },
     "execution_count": 19,
     "metadata": {},
     "output_type": "execute_result"
    }
   ],
   "source": [
    "trending_date_test = df['trending_date']\n",
    "df['number_of_tags'] = number_of_tags\n",
    "df.head()"
   ]
  },
  {
   "cell_type": "code",
   "execution_count": 20,
   "metadata": {},
   "outputs": [
    {
     "data": {
      "image/png": "[encoded data removed]",
      "text/plain": [
       "<Figure size 1080x720 with 1 Axes>"
      ]
     },
     "metadata": {},
     "output_type": "display_data"
    }
   ],
   "source": [
    "plt.figure(figsize=(15,10))\n",
    "hist_numOfTags = plt.hist(df['number_of_tags'],100)\n",
    "fig_views = plt.gcf()"
   ]
  },
  {
   "cell_type": "markdown",
   "metadata": {},
   "source": [
    "From the graph we can see that the distribution is also skewed right. Most of the videos has about 5 to 15 tags, but there are also videos with 80+ tags."
   ]
  },
  {
   "cell_type": "markdown",
   "metadata": {},
   "source": [
    "## Training a regression model\n",
    "With the number of tags, we can then use it as the explanatory variable in a linear regression model and use the number of views as the dependent variable. But first, we will split the whole data set into training and testing sets with a 2:1 ratio, so that we can determine the accuracy of our model later."
   ]
  },
  {
   "cell_type": "code",
   "execution_count": 21,
   "metadata": {},
   "outputs": [],
   "source": [
    "views = np.array(df['views'])\n",
    "numOfTags = np.array(df['number_of_tags'])"
   ]
  },
  {
   "cell_type": "code",
   "execution_count": 22,
   "metadata": {},
   "outputs": [
    {
     "name": "stdout",
     "output_type": "stream",
     "text": [
      "Coefficients:  [2562.2153975]\n",
      "Mean squared error: 7571400777867.14\n",
      "Variance score: 0.00\n"
     ]
    },
    {
     "data": {
      "image/png": "[encoded data removed]",
      "text/plain": [
       "<Figure size 1080x720 with 1 Axes>"
      ]
     },
     "metadata": {},
     "output_type": "display_data"
    }
   ],
   "source": [
    "from sklearn.model_selection import train_test_split\n",
    "from sklearn import datasets, linear_model\n",
    "from sklearn.metrics import mean_squared_error, r2_score\n",
    "\n",
    "# split into train and test sets\n",
    "X_train_tags, X_test_tags, y_train_views, y_test_views = train_test_split(numOfTags, views, test_size=0.33, random_state=42)\n",
    "\n",
    "X_train_tags = X_train_tags.reshape(-1, 1)\n",
    "X_test_tags = X_test_tags.reshape(-1, 1)\n",
    "y_train_views = y_train_views.reshape(-1, 1)\n",
    "y_test_views = y_test_views.reshape(-1, 1)\n",
    "\n",
    "regr = linear_model.LinearRegression()\n",
    "regr.fit(X_train_tags, y_train_views)\n",
    "\n",
    "y_test_views_prediction = regr.predict(X_test_tags)\n",
    "\n",
    "# The coefficients\n",
    "print('Coefficients: ', regr.coef_[0])\n",
    "# The mean squared error\n",
    "print(\"Mean squared error: %.2f\"\n",
    "      % mean_squared_error(y_test_views, y_test_views_prediction))\n",
    "# Explained variance score: 1 is perfect prediction\n",
    "print('Variance score: %.2f' % r2_score(y_test_views, y_test_views_prediction))\n",
    "\n",
    "# Plot outputs\n",
    "plt.figure(figsize=(15,10))\n",
    "plt.scatter(X_test_tags, y_test_views, s= 5, color='red')\n",
    "plt.plot(X_test_tags, y_test_views_prediction, color='blue', linewidth=2)\n",
    "plt.xlabel('Number of tags')\n",
    "plt.ylabel('Number of views')\n",
    "plt.show()"
   ]
  },
  {
   "cell_type": "markdown",
   "metadata": {},
   "source": [
    "The result of the regression is not very satisfying. Although the coefficent is indeed positive, we can see that the model's accuracy is extremely low. The red dots in the graph represents the actual (number of tags, number of views) points, while the blue line is the regression line we fit. Looking at the scatter plot, we observe that videos with the same number of tags can have extremely different number of views. This is not surprising because we are not taking the \"quality\" of tags into account here. In other words, some tags might be better than others, and although the number of tags is the same, the effect produced by these tags might differ greatly. Therefore, there is no enough evidence to support our hypothesis for the first question."
   ]
  },
  {
   "cell_type": "markdown",
   "metadata": {},
   "source": [
    "# Analysis II: Linear Regression on Top Tags"
   ]
  },
  {
   "cell_type": "markdown",
   "metadata": {},
   "source": [
    "Since the number of tags itself doesn't tell the whole story, how about the number of \"useful\" tags? In this report, we decide to measure the \"usefulness\" of a tag by looking at its count (how frequently a tag word is used). We choose this method based on this post: https://whyvideoisgreat.com/optimize-youtube-tags. In the post, the author mentions that we can \"spy on our competitors\" and see what tags they are using. This inspires us that tags that are commonly used might be a sign of popular videos, because the underlying message is that a lot of people are interested in this content. Therefore, we decided to do another regression on the number of TOP tags. But first we need to find out which tags are used more often than others."
   ]
  },
  {
   "cell_type": "markdown",
   "metadata": {},
   "source": [
    "### Format and clean up tags data"
   ]
  },
  {
   "cell_type": "code",
   "execution_count": 25,
   "metadata": {},
   "outputs": [],
   "source": [
    "# Function to remove stop words using the stop_words list\n",
    "def remove_stop_words(list):\n",
    "    filtered_sent = []\n",
    "    for w in list:\n",
    "        if w not in stop_words:\n",
    "             filtered_sent.append(w)\n",
    "    return filtered_sent"
   ]
  },
  {
   "cell_type": "code",
   "execution_count": 26,
   "metadata": {},
   "outputs": [],
   "source": [
    "stop_words = stopwords.words('english')\n",
    "tags_words = df['tags'].str.lower().str.cat(sep=' ')\n",
    "tags_words = re.sub('[^A-Za-z]+', ' ', tags_words)\n",
    "tags_words_list = WhitespaceTokenizer().tokenize(tags_words)\n",
    "\n",
    "# Remove stop words\n",
    "filtered = remove_stop_words(tags_words_list)\n",
    "tags_words_series = pd.Series(filtered)\n",
    "\n",
    "# Remove these stop words manually because they were not in the nltk stop words library\n",
    "tags_words_series = tags_words_series.replace(to_replace = 'x', value = '')\n",
    "tags_words_series = tags_words_series.replace(to_replace = 'sp', value = '')\n",
    "tags_words_series = tags_words_series.replace(to_replace = 'b', value = '')"
   ]
  },
  {
   "cell_type": "markdown",
   "metadata": {},
   "source": [
    "### Determine what the most common tag words are"
   ]
  },
  {
   "cell_type": "code",
   "execution_count": 27,
   "metadata": {},
   "outputs": [],
   "source": [
    "# use FreqDist to determine the most common tag words\n",
    "tags_count = FreqDist(tags_words_series)\n",
    "tags_count.columns = ['tag','count']"
   ]
  },
  {
   "cell_type": "markdown",
   "metadata": {},
   "source": [
    "### Create a line graph to display the most frequently used tag words"
   ]
  },
  {
   "cell_type": "code",
   "execution_count": 26,
   "metadata": {},
   "outputs": [
    {
     "data": {
      "image/png": "[encoded data removed]",
      "text/plain": [
       "<Figure size 2880x1440 with 1 Axes>"
      ]
     },
     "metadata": {},
     "output_type": "display_data"
    }
   ],
   "source": [
    "# Plot the 100 most frequently used tag words\n",
    "plt.figure(figsize=(40, 20))  \n",
    "tags_count.plot(100, title = 'Most Frequently Used Tag Words', cumulative = False)"
   ]
  },
  {
   "cell_type": "markdown",
   "metadata": {},
   "source": [
    "The graph above provides information about the most freqeuntly used tag words. We decided to observe the 100 words with the highest count. It is interesting to note that the graph begins to normalize and flatten around words that have a count of 2000. From the graph we can see that the top 100 tag words were used at least 1000 times. Thus, we can create a smaller subset of our data that only focuses on tag words that had a count value of 1000 or more. This will make running functions on our data quicker. "
   ]
  },
  {
   "cell_type": "markdown",
   "metadata": {},
   "source": [
    "The tag word that was used the most frequently is “makeup”. The words “new” and “tutorial” also have a high tag word count. This indicates that making YouTube makeup tutorial videos is a popular right now. We also found that there are a lot of names in our extracted tag words, which also indicates people’s interests in following up celebrities. Additionally, it is interesting that “christmas” is one of the most frequently used tag words. Since Christmas is a seasonal holiday, we expected that it would not be in the top 100 tag words. "
   ]
  },
  {
   "cell_type": "code",
   "execution_count": 28,
   "metadata": {},
   "outputs": [],
   "source": [
    "# create a series with the number of occurrences of each tag\n",
    "series_count = tags_words_series.value_counts()\n",
    "# convert the series into a dataframe\n",
    "df_word_count = pd.DataFrame({'word':series_count.index, 'count':series_count.values})\n",
    "# make a smaller dataframe of only the relevant tag words\n",
    "df_word_count = df_word_count[df_word_count['count'] >= 1000]\n",
    "df_word_count.columns = ['word', 'count']\n",
    "# create a new dataframe with only a column for the most common tag words\n",
    "df_dropped = df_word_count.drop(['count'], axis=1)\n",
    "# convert the df to a list \n",
    "list_100 = df_dropped.values.tolist()"
   ]
  },
  {
   "cell_type": "code",
   "execution_count": 29,
   "metadata": {},
   "outputs": [],
   "source": [
    "numOfTopTags = [0 for x in range(len(df.index))]\n",
    "\n",
    "for i in range(len(df.index)):\n",
    "    if i not in df.index:\n",
    "        i += 1\n",
    "        continue\n",
    "    tags_entry = df['tags'][i]\n",
    "    for top_tags in list_100:\n",
    "        if top_tags[0] in tags_entry:\n",
    "            numOfTopTags[i] += 1\n",
    "\n",
    "df.insert(5 , \"number_of_top_tags\" , numOfTopTags)"
   ]
  },
  {
   "cell_type": "markdown",
   "metadata": {},
   "source": [
    "Now, with the number of top tags of each video, we can train the regression model just like we did in last section."
   ]
  },
  {
   "cell_type": "code",
   "execution_count": 29,
   "metadata": {},
   "outputs": [
    {
     "name": "stdout",
     "output_type": "stream",
     "text": [
      "Coefficients:  [11538.09911106]\n",
      "Mean squared error: 7566257585382.10\n",
      "Variance score: 0.00\n"
     ]
    },
    {
     "data": {
      "image/png": "[encoded data removed]",
      "text/plain": [
       "<Figure size 1080x576 with 1 Axes>"
      ]
     },
     "metadata": {},
     "output_type": "display_data"
    }
   ],
   "source": [
    "array_numOfTopTags = np.array(numOfTopTags)\n",
    "\n",
    "X_train_top_tags, X_test_top_tags, y_train_views, y_test_views = train_test_split(array_numOfTopTags, views, test_size=0.33, random_state=42)\n",
    "\n",
    "X_train_top_tags = X_train_top_tags.reshape(-1, 1)\n",
    "X_test_top_tags = X_test_top_tags.reshape(-1, 1)\n",
    "y_train_views = y_train_views.reshape(-1, 1)\n",
    "y_test_views = y_test_views.reshape(-1, 1)\n",
    "\n",
    "regr = linear_model.LinearRegression()\n",
    "regr.fit(X_train_top_tags, y_train_views)\n",
    "\n",
    "y_test_views_prediction = regr.predict(X_test_top_tags)\n",
    "\n",
    "# The coefficients\n",
    "print('Coefficients: ', regr.coef_[0])\n",
    "# The mean squared error\n",
    "print(\"Mean squared error: %.2f\"\n",
    "      % mean_squared_error(y_test_views, y_test_views_prediction))\n",
    "# Explained variance score: 1 is perfect prediction\n",
    "print('Variance score: %.2f' % r2_score(y_test_views, y_test_views_prediction))\n",
    "\n",
    "# Plot outputs\n",
    "plt.figure(figsize=(15,8))\n",
    "plt.scatter(X_test_top_tags, y_test_views, s = 5, color='red')\n",
    "plt.plot(X_test_top_tags, y_test_views_prediction, color='blue', linewidth=2)\n",
    "plt.xlabel('Number of TOP tags')\n",
    "plt.ylabel('Number of views')\n",
    "plt.show()"
   ]
  },
  {
   "cell_type": "markdown",
   "metadata": {},
   "source": [
    "Again, the result did not come out as what we expected. Seems like most of the videos have 0 \"most popular\" (top) tags. Similar to the last regression, the accuracy is low. This also suggests that number of top tags is not a good way to measure the quality of tags. One possible explanation is that we are treating all the popular tags the same way, but in fact their level of popularity is not the same. So we should probably take the acutal count of each tags into account as its weight in the number of top tags. But again, there is no enough evidence to support our second hypothesis."
   ]
  },
  {
   "cell_type": "markdown",
   "metadata": {},
   "source": [
    "# Analysis III: Sentiment Analysis\n",
    "We chose to preform Sentiment Analysis on our data. Specifically, we looked at the most frequently utilized tag words. \n",
    "\n",
    "We wrote one function to remove irrelevant stop words from our data and another function to preform stemming on the tag words. \n",
    "\n",
    "## Lexicon Analysis\n",
    "\n",
    "compound score - metric that calculates the sum of all the lexicon ratings and normalizes between -1 (most extreme negative) and 1 (most extreme positive).\n",
    "\n",
    "- positive: compound >= 0.05\n",
    "- netural: -0.05 < compound <0.05\n",
    "- negative: <= -0.05"
   ]
  },
  {
   "cell_type": "code",
   "execution_count": 30,
   "metadata": {},
   "outputs": [],
   "source": [
    "# Create a function that will output the dataframe that stores sentiment information\n",
    "\n",
    "def get_sentiments(list_in):\n",
    "    list_result = []\n",
    "    for smallList in list_in:\n",
    "        list_result.append(smallList[0])\n",
    "    \n",
    "    analyser = SentimentIntensityAnalyzer()\n",
    "    output = pd.DataFrame()\n",
    "    \n",
    "    for i in range(0, len(list_in)):\n",
    "        word = list_result[i]\n",
    "        ss = analyser.polarity_scores(word)\n",
    "        ss['word'] = word\n",
    "        output = output.append(ss, ignore_index=True)\n",
    "        i = i + 1\n",
    "    return output"
   ]
  },
  {
   "cell_type": "markdown",
   "metadata": {},
   "source": [
    "We can then use the get_sentiments() function to get the sentiment of the most common tag words."
   ]
  },
  {
   "cell_type": "code",
   "execution_count": 34,
   "metadata": {},
   "outputs": [
    {
     "data": {
      "text/html": [
       "<div>\n",
       "<style scoped>\n",
       "    .dataframe tbody tr th:only-of-type {\n",
       "        vertical-align: middle;\n",
       "    }\n",
       "\n",
       "    .dataframe tbody tr th {\n",
       "        vertical-align: top;\n",
       "    }\n",
       "\n",
       "    .dataframe thead th {\n",
       "        text-align: right;\n",
       "    }\n",
       "</style>\n",
       "<table border=\"1\" class=\"dataframe\">\n",
       "  <thead>\n",
       "    <tr style=\"text-align: right;\">\n",
       "      <th></th>\n",
       "      <th>compound</th>\n",
       "      <th>neg</th>\n",
       "      <th>neu</th>\n",
       "      <th>pos</th>\n",
       "      <th>word</th>\n",
       "    </tr>\n",
       "  </thead>\n",
       "  <tbody>\n",
       "    <tr>\n",
       "      <th>0</th>\n",
       "      <td>0.0000</td>\n",
       "      <td>0.0</td>\n",
       "      <td>1.0</td>\n",
       "      <td>0.0</td>\n",
       "      <td>makeup</td>\n",
       "    </tr>\n",
       "    <tr>\n",
       "      <th>1</th>\n",
       "      <td>0.0000</td>\n",
       "      <td>0.0</td>\n",
       "      <td>1.0</td>\n",
       "      <td>0.0</td>\n",
       "      <td>video</td>\n",
       "    </tr>\n",
       "    <tr>\n",
       "      <th>2</th>\n",
       "      <td>0.4404</td>\n",
       "      <td>0.0</td>\n",
       "      <td>0.0</td>\n",
       "      <td>1.0</td>\n",
       "      <td>funny</td>\n",
       "    </tr>\n",
       "    <tr>\n",
       "      <th>3</th>\n",
       "      <td>0.0000</td>\n",
       "      <td>0.0</td>\n",
       "      <td>1.0</td>\n",
       "      <td>0.0</td>\n",
       "      <td>new</td>\n",
       "    </tr>\n",
       "    <tr>\n",
       "      <th>4</th>\n",
       "      <td>0.0000</td>\n",
       "      <td>0.0</td>\n",
       "      <td>1.0</td>\n",
       "      <td>0.0</td>\n",
       "      <td>music</td>\n",
       "    </tr>\n",
       "  </tbody>\n",
       "</table>\n",
       "</div>"
      ],
      "text/plain": [
       "   compound  neg  neu  pos    word\n",
       "0    0.0000  0.0  1.0  0.0  makeup\n",
       "1    0.0000  0.0  1.0  0.0   video\n",
       "2    0.4404  0.0  0.0  1.0   funny\n",
       "3    0.0000  0.0  1.0  0.0     new\n",
       "4    0.0000  0.0  1.0  0.0   music"
      ]
     },
     "execution_count": 34,
     "metadata": {},
     "output_type": "execute_result"
    }
   ],
   "source": [
    "# get the sentiment measures\n",
    "sentiment = get_sentiments(list_100)\n",
    "sentiment.head()"
   ]
  },
  {
   "cell_type": "code",
   "execution_count": 32,
   "metadata": {},
   "outputs": [
    {
     "data": {
      "text/html": [
       "<div>\n",
       "<style scoped>\n",
       "    .dataframe tbody tr th:only-of-type {\n",
       "        vertical-align: middle;\n",
       "    }\n",
       "\n",
       "    .dataframe tbody tr th {\n",
       "        vertical-align: top;\n",
       "    }\n",
       "\n",
       "    .dataframe thead th {\n",
       "        text-align: right;\n",
       "    }\n",
       "</style>\n",
       "<table border=\"1\" class=\"dataframe\">\n",
       "  <thead>\n",
       "    <tr style=\"text-align: right;\">\n",
       "      <th></th>\n",
       "      <th>compound</th>\n",
       "      <th>neg</th>\n",
       "      <th>neu</th>\n",
       "      <th>pos</th>\n",
       "      <th>word</th>\n",
       "    </tr>\n",
       "  </thead>\n",
       "  <tbody>\n",
       "    <tr>\n",
       "      <th>69</th>\n",
       "      <td>-0.5574</td>\n",
       "      <td>1.0</td>\n",
       "      <td>0.0</td>\n",
       "      <td>0.0</td>\n",
       "      <td>wars</td>\n",
       "    </tr>\n",
       "    <tr>\n",
       "      <th>145</th>\n",
       "      <td>-0.5994</td>\n",
       "      <td>1.0</td>\n",
       "      <td>0.0</td>\n",
       "      <td>0.0</td>\n",
       "      <td>war</td>\n",
       "    </tr>\n",
       "    <tr>\n",
       "      <th>161</th>\n",
       "      <td>-0.3818</td>\n",
       "      <td>1.0</td>\n",
       "      <td>0.0</td>\n",
       "      <td>0.0</td>\n",
       "      <td>battle</td>\n",
       "    </tr>\n",
       "  </tbody>\n",
       "</table>\n",
       "</div>"
      ],
      "text/plain": [
       "     compound  neg  neu  pos    word\n",
       "69    -0.5574  1.0  0.0  0.0    wars\n",
       "145   -0.5994  1.0  0.0  0.0     war\n",
       "161   -0.3818  1.0  0.0  0.0  battle"
      ]
     },
     "execution_count": 32,
     "metadata": {},
     "output_type": "execute_result"
    }
   ],
   "source": [
    "# showing only negative words\n",
    "neg_df = sentiment[sentiment['neg'] == 1]\n",
    "neg_df"
   ]
  },
  {
   "cell_type": "code",
   "execution_count": 33,
   "metadata": {},
   "outputs": [
    {
     "data": {
      "text/html": [
       "<div>\n",
       "<style scoped>\n",
       "    .dataframe tbody tr th:only-of-type {\n",
       "        vertical-align: middle;\n",
       "    }\n",
       "\n",
       "    .dataframe tbody tr th {\n",
       "        vertical-align: top;\n",
       "    }\n",
       "\n",
       "    .dataframe thead th {\n",
       "        text-align: right;\n",
       "    }\n",
       "</style>\n",
       "<table border=\"1\" class=\"dataframe\">\n",
       "  <thead>\n",
       "    <tr style=\"text-align: right;\">\n",
       "      <th></th>\n",
       "      <th>compound</th>\n",
       "      <th>neg</th>\n",
       "      <th>neu</th>\n",
       "      <th>pos</th>\n",
       "    </tr>\n",
       "  </thead>\n",
       "  <tbody>\n",
       "    <tr>\n",
       "      <th>count</th>\n",
       "      <td>3.000000</td>\n",
       "      <td>3.0</td>\n",
       "      <td>3.0</td>\n",
       "      <td>3.0</td>\n",
       "    </tr>\n",
       "    <tr>\n",
       "      <th>mean</th>\n",
       "      <td>-0.512867</td>\n",
       "      <td>1.0</td>\n",
       "      <td>0.0</td>\n",
       "      <td>0.0</td>\n",
       "    </tr>\n",
       "    <tr>\n",
       "      <th>std</th>\n",
       "      <td>0.115433</td>\n",
       "      <td>0.0</td>\n",
       "      <td>0.0</td>\n",
       "      <td>0.0</td>\n",
       "    </tr>\n",
       "    <tr>\n",
       "      <th>min</th>\n",
       "      <td>-0.599400</td>\n",
       "      <td>1.0</td>\n",
       "      <td>0.0</td>\n",
       "      <td>0.0</td>\n",
       "    </tr>\n",
       "    <tr>\n",
       "      <th>25%</th>\n",
       "      <td>-0.578400</td>\n",
       "      <td>1.0</td>\n",
       "      <td>0.0</td>\n",
       "      <td>0.0</td>\n",
       "    </tr>\n",
       "    <tr>\n",
       "      <th>50%</th>\n",
       "      <td>-0.557400</td>\n",
       "      <td>1.0</td>\n",
       "      <td>0.0</td>\n",
       "      <td>0.0</td>\n",
       "    </tr>\n",
       "    <tr>\n",
       "      <th>75%</th>\n",
       "      <td>-0.469600</td>\n",
       "      <td>1.0</td>\n",
       "      <td>0.0</td>\n",
       "      <td>0.0</td>\n",
       "    </tr>\n",
       "    <tr>\n",
       "      <th>max</th>\n",
       "      <td>-0.381800</td>\n",
       "      <td>1.0</td>\n",
       "      <td>0.0</td>\n",
       "      <td>0.0</td>\n",
       "    </tr>\n",
       "  </tbody>\n",
       "</table>\n",
       "</div>"
      ],
      "text/plain": [
       "       compound  neg  neu  pos\n",
       "count  3.000000  3.0  3.0  3.0\n",
       "mean  -0.512867  1.0  0.0  0.0\n",
       "std    0.115433  0.0  0.0  0.0\n",
       "min   -0.599400  1.0  0.0  0.0\n",
       "25%   -0.578400  1.0  0.0  0.0\n",
       "50%   -0.557400  1.0  0.0  0.0\n",
       "75%   -0.469600  1.0  0.0  0.0\n",
       "max   -0.381800  1.0  0.0  0.0"
      ]
     },
     "execution_count": 33,
     "metadata": {},
     "output_type": "execute_result"
    }
   ],
   "source": [
    "neg_df.describe() "
   ]
  },
  {
   "cell_type": "markdown",
   "metadata": {},
   "source": [
    "Looking at our sentiment analysis data, we found that most of the tag words were marked as neutral. The two negative words we observed were \"war\" and \"battle\". This makes sense because a lot of gamers use YouTube to stream their content. The mean value for the negative sentiment words is a bit higher since there are only three negative words, thus we can't rely on the accuracy of this information as much as we can for the positive words since the sample size is so small."
   ]
  },
  {
   "cell_type": "code",
   "execution_count": 34,
   "metadata": {},
   "outputs": [
    {
     "data": {
      "text/html": [
       "<div>\n",
       "<style scoped>\n",
       "    .dataframe tbody tr th:only-of-type {\n",
       "        vertical-align: middle;\n",
       "    }\n",
       "\n",
       "    .dataframe tbody tr th {\n",
       "        vertical-align: top;\n",
       "    }\n",
       "\n",
       "    .dataframe thead th {\n",
       "        text-align: right;\n",
       "    }\n",
       "</style>\n",
       "<table border=\"1\" class=\"dataframe\">\n",
       "  <thead>\n",
       "    <tr style=\"text-align: right;\">\n",
       "      <th></th>\n",
       "      <th>compound</th>\n",
       "      <th>neg</th>\n",
       "      <th>neu</th>\n",
       "      <th>pos</th>\n",
       "      <th>word</th>\n",
       "    </tr>\n",
       "  </thead>\n",
       "  <tbody>\n",
       "    <tr>\n",
       "      <th>2</th>\n",
       "      <td>0.4404</td>\n",
       "      <td>0.0</td>\n",
       "      <td>0.0</td>\n",
       "      <td>1.0</td>\n",
       "      <td>funny</td>\n",
       "    </tr>\n",
       "    <tr>\n",
       "      <th>9</th>\n",
       "      <td>0.3612</td>\n",
       "      <td>0.0</td>\n",
       "      <td>0.0</td>\n",
       "      <td>1.0</td>\n",
       "      <td>comedy</td>\n",
       "    </tr>\n",
       "    <tr>\n",
       "      <th>13</th>\n",
       "      <td>0.6369</td>\n",
       "      <td>0.0</td>\n",
       "      <td>0.0</td>\n",
       "      <td>1.0</td>\n",
       "      <td>best</td>\n",
       "    </tr>\n",
       "    <tr>\n",
       "      <th>15</th>\n",
       "      <td>0.0772</td>\n",
       "      <td>0.0</td>\n",
       "      <td>0.0</td>\n",
       "      <td>1.0</td>\n",
       "      <td>challenge</td>\n",
       "    </tr>\n",
       "    <tr>\n",
       "      <th>33</th>\n",
       "      <td>0.5859</td>\n",
       "      <td>0.0</td>\n",
       "      <td>0.0</td>\n",
       "      <td>1.0</td>\n",
       "      <td>beauty</td>\n",
       "    </tr>\n",
       "    <tr>\n",
       "      <th>37</th>\n",
       "      <td>0.4215</td>\n",
       "      <td>0.0</td>\n",
       "      <td>0.0</td>\n",
       "      <td>1.0</td>\n",
       "      <td>entertainment</td>\n",
       "    </tr>\n",
       "    <tr>\n",
       "      <th>45</th>\n",
       "      <td>0.5994</td>\n",
       "      <td>0.0</td>\n",
       "      <td>0.0</td>\n",
       "      <td>1.0</td>\n",
       "      <td>super</td>\n",
       "    </tr>\n",
       "    <tr>\n",
       "      <th>66</th>\n",
       "      <td>0.2023</td>\n",
       "      <td>0.0</td>\n",
       "      <td>0.0</td>\n",
       "      <td>1.0</td>\n",
       "      <td>top</td>\n",
       "    </tr>\n",
       "    <tr>\n",
       "      <th>73</th>\n",
       "      <td>0.6369</td>\n",
       "      <td>0.0</td>\n",
       "      <td>0.0</td>\n",
       "      <td>1.0</td>\n",
       "      <td>love</td>\n",
       "    </tr>\n",
       "    <tr>\n",
       "      <th>83</th>\n",
       "      <td>0.5719</td>\n",
       "      <td>0.0</td>\n",
       "      <td>0.0</td>\n",
       "      <td>1.0</td>\n",
       "      <td>perfect</td>\n",
       "    </tr>\n",
       "    <tr>\n",
       "      <th>102</th>\n",
       "      <td>0.4588</td>\n",
       "      <td>0.0</td>\n",
       "      <td>0.0</td>\n",
       "      <td>1.0</td>\n",
       "      <td>cute</td>\n",
       "    </tr>\n",
       "    <tr>\n",
       "      <th>110</th>\n",
       "      <td>0.2732</td>\n",
       "      <td>0.0</td>\n",
       "      <td>0.0</td>\n",
       "      <td>1.0</td>\n",
       "      <td>humor</td>\n",
       "    </tr>\n",
       "    <tr>\n",
       "      <th>121</th>\n",
       "      <td>0.4215</td>\n",
       "      <td>0.0</td>\n",
       "      <td>0.0</td>\n",
       "      <td>1.0</td>\n",
       "      <td>marvel</td>\n",
       "    </tr>\n",
       "    <tr>\n",
       "      <th>123</th>\n",
       "      <td>0.4404</td>\n",
       "      <td>0.0</td>\n",
       "      <td>0.0</td>\n",
       "      <td>1.0</td>\n",
       "      <td>good</td>\n",
       "    </tr>\n",
       "    <tr>\n",
       "      <th>124</th>\n",
       "      <td>0.5106</td>\n",
       "      <td>0.0</td>\n",
       "      <td>0.0</td>\n",
       "      <td>1.0</td>\n",
       "      <td>fun</td>\n",
       "    </tr>\n",
       "    <tr>\n",
       "      <th>125</th>\n",
       "      <td>0.4939</td>\n",
       "      <td>0.0</td>\n",
       "      <td>0.0</td>\n",
       "      <td>1.0</td>\n",
       "      <td>friendly</td>\n",
       "    </tr>\n",
       "    <tr>\n",
       "      <th>141</th>\n",
       "      <td>0.4588</td>\n",
       "      <td>0.0</td>\n",
       "      <td>0.0</td>\n",
       "      <td>1.0</td>\n",
       "      <td>awards</td>\n",
       "    </tr>\n",
       "    <tr>\n",
       "      <th>151</th>\n",
       "      <td>0.4404</td>\n",
       "      <td>0.0</td>\n",
       "      <td>0.0</td>\n",
       "      <td>1.0</td>\n",
       "      <td>easy</td>\n",
       "    </tr>\n",
       "  </tbody>\n",
       "</table>\n",
       "</div>"
      ],
      "text/plain": [
       "     compound  neg  neu  pos           word\n",
       "2      0.4404  0.0  0.0  1.0          funny\n",
       "9      0.3612  0.0  0.0  1.0         comedy\n",
       "13     0.6369  0.0  0.0  1.0           best\n",
       "15     0.0772  0.0  0.0  1.0      challenge\n",
       "33     0.5859  0.0  0.0  1.0         beauty\n",
       "37     0.4215  0.0  0.0  1.0  entertainment\n",
       "45     0.5994  0.0  0.0  1.0          super\n",
       "66     0.2023  0.0  0.0  1.0            top\n",
       "73     0.6369  0.0  0.0  1.0           love\n",
       "83     0.5719  0.0  0.0  1.0        perfect\n",
       "102    0.4588  0.0  0.0  1.0           cute\n",
       "110    0.2732  0.0  0.0  1.0          humor\n",
       "121    0.4215  0.0  0.0  1.0         marvel\n",
       "123    0.4404  0.0  0.0  1.0           good\n",
       "124    0.5106  0.0  0.0  1.0            fun\n",
       "125    0.4939  0.0  0.0  1.0       friendly\n",
       "141    0.4588  0.0  0.0  1.0         awards\n",
       "151    0.4404  0.0  0.0  1.0           easy"
      ]
     },
     "execution_count": 34,
     "metadata": {},
     "output_type": "execute_result"
    }
   ],
   "source": [
    "# showing only positive words\n",
    "pos_df = sentiment[sentiment['pos'] == 1]\n",
    "pos_df"
   ]
  },
  {
   "cell_type": "code",
   "execution_count": 35,
   "metadata": {},
   "outputs": [
    {
     "data": {
      "text/html": [
       "<div>\n",
       "<style scoped>\n",
       "    .dataframe tbody tr th:only-of-type {\n",
       "        vertical-align: middle;\n",
       "    }\n",
       "\n",
       "    .dataframe tbody tr th {\n",
       "        vertical-align: top;\n",
       "    }\n",
       "\n",
       "    .dataframe thead th {\n",
       "        text-align: right;\n",
       "    }\n",
       "</style>\n",
       "<table border=\"1\" class=\"dataframe\">\n",
       "  <thead>\n",
       "    <tr style=\"text-align: right;\">\n",
       "      <th></th>\n",
       "      <th>compound</th>\n",
       "      <th>neg</th>\n",
       "      <th>neu</th>\n",
       "      <th>pos</th>\n",
       "    </tr>\n",
       "  </thead>\n",
       "  <tbody>\n",
       "    <tr>\n",
       "      <th>count</th>\n",
       "      <td>18.000000</td>\n",
       "      <td>18.0</td>\n",
       "      <td>18.0</td>\n",
       "      <td>18.0</td>\n",
       "    </tr>\n",
       "    <tr>\n",
       "      <th>mean</th>\n",
       "      <td>0.446178</td>\n",
       "      <td>0.0</td>\n",
       "      <td>0.0</td>\n",
       "      <td>1.0</td>\n",
       "    </tr>\n",
       "    <tr>\n",
       "      <th>std</th>\n",
       "      <td>0.148003</td>\n",
       "      <td>0.0</td>\n",
       "      <td>0.0</td>\n",
       "      <td>0.0</td>\n",
       "    </tr>\n",
       "    <tr>\n",
       "      <th>min</th>\n",
       "      <td>0.077200</td>\n",
       "      <td>0.0</td>\n",
       "      <td>0.0</td>\n",
       "      <td>1.0</td>\n",
       "    </tr>\n",
       "    <tr>\n",
       "      <th>25%</th>\n",
       "      <td>0.421500</td>\n",
       "      <td>0.0</td>\n",
       "      <td>0.0</td>\n",
       "      <td>1.0</td>\n",
       "    </tr>\n",
       "    <tr>\n",
       "      <th>50%</th>\n",
       "      <td>0.449600</td>\n",
       "      <td>0.0</td>\n",
       "      <td>0.0</td>\n",
       "      <td>1.0</td>\n",
       "    </tr>\n",
       "    <tr>\n",
       "      <th>75%</th>\n",
       "      <td>0.556575</td>\n",
       "      <td>0.0</td>\n",
       "      <td>0.0</td>\n",
       "      <td>1.0</td>\n",
       "    </tr>\n",
       "    <tr>\n",
       "      <th>max</th>\n",
       "      <td>0.636900</td>\n",
       "      <td>0.0</td>\n",
       "      <td>0.0</td>\n",
       "      <td>1.0</td>\n",
       "    </tr>\n",
       "  </tbody>\n",
       "</table>\n",
       "</div>"
      ],
      "text/plain": [
       "        compound   neg   neu   pos\n",
       "count  18.000000  18.0  18.0  18.0\n",
       "mean    0.446178   0.0   0.0   1.0\n",
       "std     0.148003   0.0   0.0   0.0\n",
       "min     0.077200   0.0   0.0   1.0\n",
       "25%     0.421500   0.0   0.0   1.0\n",
       "50%     0.449600   0.0   0.0   1.0\n",
       "75%     0.556575   0.0   0.0   1.0\n",
       "max     0.636900   0.0   0.0   1.0"
      ]
     },
     "execution_count": 35,
     "metadata": {},
     "output_type": "execute_result"
    }
   ],
   "source": [
    "pos_df.describe()"
   ]
  },
  {
   "cell_type": "markdown",
   "metadata": {},
   "source": [
    "Here we observe that there are a lot more positive sentiment words in comparison to negative words. This shows that YouTube viewers tend to watch videos for enjoyment. Specifically, the words \"funny\", \"comedy\", and \"humor\" indicate that viewers like watching videos that will make them laugh. The words \"best\", \"super\", \"top\", \"perfect\", and \"good\" are all generic adjectives that can be applicable to a variety of videos. "
   ]
  },
  {
   "cell_type": "code",
   "execution_count": 35,
   "metadata": {},
   "outputs": [
    {
     "data": {
      "text/html": [
       "<div>\n",
       "<style scoped>\n",
       "    .dataframe tbody tr th:only-of-type {\n",
       "        vertical-align: middle;\n",
       "    }\n",
       "\n",
       "    .dataframe tbody tr th {\n",
       "        vertical-align: top;\n",
       "    }\n",
       "\n",
       "    .dataframe thead th {\n",
       "        text-align: right;\n",
       "    }\n",
       "</style>\n",
       "<table border=\"1\" class=\"dataframe\">\n",
       "  <thead>\n",
       "    <tr style=\"text-align: right;\">\n",
       "      <th></th>\n",
       "      <th>compound</th>\n",
       "      <th>neg</th>\n",
       "      <th>neu</th>\n",
       "      <th>pos</th>\n",
       "      <th>word</th>\n",
       "    </tr>\n",
       "  </thead>\n",
       "  <tbody>\n",
       "    <tr>\n",
       "      <th>0</th>\n",
       "      <td>0.0</td>\n",
       "      <td>0.0</td>\n",
       "      <td>1.0</td>\n",
       "      <td>0.0</td>\n",
       "      <td>makeup</td>\n",
       "    </tr>\n",
       "    <tr>\n",
       "      <th>1</th>\n",
       "      <td>0.0</td>\n",
       "      <td>0.0</td>\n",
       "      <td>1.0</td>\n",
       "      <td>0.0</td>\n",
       "      <td>video</td>\n",
       "    </tr>\n",
       "    <tr>\n",
       "      <th>3</th>\n",
       "      <td>0.0</td>\n",
       "      <td>0.0</td>\n",
       "      <td>1.0</td>\n",
       "      <td>0.0</td>\n",
       "      <td>new</td>\n",
       "    </tr>\n",
       "    <tr>\n",
       "      <th>4</th>\n",
       "      <td>0.0</td>\n",
       "      <td>0.0</td>\n",
       "      <td>1.0</td>\n",
       "      <td>0.0</td>\n",
       "      <td>music</td>\n",
       "    </tr>\n",
       "    <tr>\n",
       "      <th>5</th>\n",
       "      <td>0.0</td>\n",
       "      <td>0.0</td>\n",
       "      <td>1.0</td>\n",
       "      <td>0.0</td>\n",
       "      <td>show</td>\n",
       "    </tr>\n",
       "  </tbody>\n",
       "</table>\n",
       "</div>"
      ],
      "text/plain": [
       "   compound  neg  neu  pos    word\n",
       "0       0.0  0.0  1.0  0.0  makeup\n",
       "1       0.0  0.0  1.0  0.0   video\n",
       "3       0.0  0.0  1.0  0.0     new\n",
       "4       0.0  0.0  1.0  0.0   music\n",
       "5       0.0  0.0  1.0  0.0    show"
      ]
     },
     "execution_count": 35,
     "metadata": {},
     "output_type": "execute_result"
    }
   ],
   "source": [
    "#showing only neutral words\n",
    "neu_df = sentiment[sentiment['neu'] == 1]\n",
    "# this dataframe is very long so just print the head\n",
    "neu_df.head()"
   ]
  },
  {
   "cell_type": "code",
   "execution_count": 36,
   "metadata": {},
   "outputs": [
    {
     "data": {
      "text/html": [
       "<div>\n",
       "<style scoped>\n",
       "    .dataframe tbody tr th:only-of-type {\n",
       "        vertical-align: middle;\n",
       "    }\n",
       "\n",
       "    .dataframe tbody tr th {\n",
       "        vertical-align: top;\n",
       "    }\n",
       "\n",
       "    .dataframe thead th {\n",
       "        text-align: right;\n",
       "    }\n",
       "</style>\n",
       "<table border=\"1\" class=\"dataframe\">\n",
       "  <thead>\n",
       "    <tr style=\"text-align: right;\">\n",
       "      <th></th>\n",
       "      <th>compound</th>\n",
       "      <th>neg</th>\n",
       "      <th>neu</th>\n",
       "      <th>pos</th>\n",
       "    </tr>\n",
       "  </thead>\n",
       "  <tbody>\n",
       "    <tr>\n",
       "      <th>count</th>\n",
       "      <td>140.0</td>\n",
       "      <td>140.0</td>\n",
       "      <td>140.0</td>\n",
       "      <td>140.0</td>\n",
       "    </tr>\n",
       "    <tr>\n",
       "      <th>mean</th>\n",
       "      <td>0.0</td>\n",
       "      <td>0.0</td>\n",
       "      <td>1.0</td>\n",
       "      <td>0.0</td>\n",
       "    </tr>\n",
       "    <tr>\n",
       "      <th>std</th>\n",
       "      <td>0.0</td>\n",
       "      <td>0.0</td>\n",
       "      <td>0.0</td>\n",
       "      <td>0.0</td>\n",
       "    </tr>\n",
       "    <tr>\n",
       "      <th>min</th>\n",
       "      <td>0.0</td>\n",
       "      <td>0.0</td>\n",
       "      <td>1.0</td>\n",
       "      <td>0.0</td>\n",
       "    </tr>\n",
       "    <tr>\n",
       "      <th>25%</th>\n",
       "      <td>0.0</td>\n",
       "      <td>0.0</td>\n",
       "      <td>1.0</td>\n",
       "      <td>0.0</td>\n",
       "    </tr>\n",
       "    <tr>\n",
       "      <th>50%</th>\n",
       "      <td>0.0</td>\n",
       "      <td>0.0</td>\n",
       "      <td>1.0</td>\n",
       "      <td>0.0</td>\n",
       "    </tr>\n",
       "    <tr>\n",
       "      <th>75%</th>\n",
       "      <td>0.0</td>\n",
       "      <td>0.0</td>\n",
       "      <td>1.0</td>\n",
       "      <td>0.0</td>\n",
       "    </tr>\n",
       "    <tr>\n",
       "      <th>max</th>\n",
       "      <td>0.0</td>\n",
       "      <td>0.0</td>\n",
       "      <td>1.0</td>\n",
       "      <td>0.0</td>\n",
       "    </tr>\n",
       "  </tbody>\n",
       "</table>\n",
       "</div>"
      ],
      "text/plain": [
       "       compound    neg    neu    pos\n",
       "count     140.0  140.0  140.0  140.0\n",
       "mean        0.0    0.0    1.0    0.0\n",
       "std         0.0    0.0    0.0    0.0\n",
       "min         0.0    0.0    1.0    0.0\n",
       "25%         0.0    0.0    1.0    0.0\n",
       "50%         0.0    0.0    1.0    0.0\n",
       "75%         0.0    0.0    1.0    0.0\n",
       "max         0.0    0.0    1.0    0.0"
      ]
     },
     "execution_count": 36,
     "metadata": {},
     "output_type": "execute_result"
    }
   ],
   "source": [
    "neu_df.describe()"
   ]
  },
  {
   "cell_type": "code",
   "execution_count": 38,
   "metadata": {},
   "outputs": [
    {
     "data": {
      "image/png": "[encoded data removed]",
      "text/plain": [
       "<Figure size 1080x720 with 1 Axes>"
      ]
     },
     "metadata": {},
     "output_type": "display_data"
    }
   ],
   "source": [
    "plt.figure(figsize=(15,10))\n",
    "\n",
    "neg_df['compound'].plot.density(label = 'negative')\n",
    "pos_df['compound'].plot.density(label = 'positive')\n",
    "plt.legend()\n",
    "plt.xlabel('Compound Sentiment Scores')\n",
    "plt.xlim(-1,1);"
   ]
  },
  {
   "cell_type": "markdown",
   "metadata": {},
   "source": [
    "The positive and negative graphs both have normal distribution with the mean at -0.5 and 0.5 respectively. Since there were more positive words it makes sense that it spans a greater range of compount sentiment words. "
   ]
  },
  {
   "cell_type": "markdown",
   "metadata": {},
   "source": [
    "Based on our sentiment analysis there are more positive words in the tags in comparison to negative words in which people may assume that people watch videos for entertainment. However, in reality, it is too early to make the conclusion that positive tags will give more views because most of the tag words were actually neutral.\n",
    "\n",
    "Since we used a predetermined list to determine the sentiment of each tag word, we are unsure of how the assignment of each sentiment was given. Therefore, people from different socio-cultural backgrounds may interpret the sentiment of words differently. For instance, the word “family” was assigned a neutral sentiment, but it could also be perceived as having a positive sentiment by some people. Also, because we are separating the tag words from the whole phrase or sentence, this could remove the meaning or the intended sentiment out of the word.\n",
    "\n",
    "In the future, if we could conduct a survey and ask people how they view certain words, as either positive or negative, we can use their opinions to determine the sentiment of the tag words.\n"
   ]
  },
  {
   "cell_type": "markdown",
   "metadata": {},
   "source": [
    "# Ethics & Privacy\n",
    "### Ethics:\n",
    "Our goal is to see the potential of video tags to influence the views of the videos. Since the data has no underlying assumptions about users, there should be no bias based on different populations. Also, we are only using data of trending Youtube videos in the US within the past few years, and not data from any other other countries. This will prevent us from making generalizations of other countries and places. Last but not least, we can assure that the data we use is approved by Youtube because all information can be accessed on Youtube, except that the dataset collects and integrates into one easy to read file.\n",
    "### Privacy:\n",
    "The data that we used is from a public source and the information that is provided does not have any identifying information so it is ethical for us to use for our analysis. There are names of Youtube channels and authors in the original dataset but this information is public and does not relate to our research question, so we chose to remove it. Also, the topic and hypothesis itself is not related to anything that is personal (tied to any individuals) or potentially vulnerable. Therefore, we don't have any particular concerns regarding privacy. "
   ]
  },
  {
   "cell_type": "markdown",
   "metadata": {},
   "source": [
    "# Conclusion & Discussion"
   ]
  },
  {
   "cell_type": "markdown",
   "metadata": {},
   "source": [
    "We hypothesized that more tags in the video will lead to a larger number of views. We also predicted that videos that contain popular tag words will have more views than those videos that don’t have popular tag word. In addition, we predicted that the tags with more positive connotation will have more views than the others. \n",
    "\n",
    "We found while there is a small positive correlation between tags and views, the accuracy of the model is extremely low. Therefore, there is not enough evidence to support the first part of our hypothesis. When determining the “usefulness” of tags, we discovered that using the frequency of top tags is not a good way to measure the quality of tags. In addition to the accuracy of our regression model being low, there is not enough evidence to support our hypothesis. Through sentiment analysis on our dataset, we discovered that most of the tag words were considered ‘neutral’. However, when comparing ‘positive’ and ‘negative’ tag words, there seemed to be more ‘positive’ tag words than ‘negative’ tag words. \n",
    "\n",
    "### Limitation & Posible improvements\n",
    "One of the limitations of our analysis is that our dataset is only based only on trending videos. Thus, any analysis done can only be applied to trending videos and can not be concluded about all of the videos that get posted on YouTube. Additionally, our dataset only includes videos over a short duration of time (several months). If we had data for a longer duration of time this would have given us a more accurate representation. Last, we chose to only utilize the videos that were from the United States. This is a limitation because it is not representative of the entire population, but rather of a subset. Thus, it doesn’t make a good representation of all youtube videos. For improvements in our studies, in the future we could have datasets from a greater time span. Moreover, instead of analyzing only trending videos, we could examine a dataset of all types of YouTube videos."
   ]
  }
 ],
 "metadata": {
  "kernelspec": {
   "display_name": "Python 3",
   "language": "python",
   "name": "python3"
  },
  "language_info": {
   "codemirror_mode": {
    "name": "ipython",
    "version": 3
   },
   "file_extension": ".py",
   "mimetype": "text/x-python",
   "name": "python",
   "nbconvert_exporter": "python",
   "pygments_lexer": "ipython3",
   "version": "3.6.8"
  }
 },
 "nbformat": 4,
 "nbformat_minor": 2
}
