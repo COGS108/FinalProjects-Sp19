{
 "cells": [
  {
   "cell_type": "markdown",
   "metadata": {},
   "source": [
    "# COGS 108 Final Project"
   ]
  },
  {
   "cell_type": "markdown",
   "metadata": {},
   "source": [
    "### Overview"
   ]
  },
  {
   "cell_type": "markdown",
   "metadata": {},
   "source": [
    "Our team studied the relationship between soccer players and how injuries affected their performance. We looked at eighty players across the four major professional leagues and analyzed their injury history, comparing their respective statistics/performance pre-injury and post-injury. We then categorized these players into which positions they played, and studied the differences in injury frequency across these aforementioned positions."
   ]
  },
  {
   "cell_type": "markdown",
   "metadata": {},
   "source": [
    "### Names and group member IDs\n",
    "\n"
   ]
  },
  {
   "cell_type": "markdown",
   "metadata": {},
   "source": [
    "Christian Atsin (A91107173) <br>\n",
    "Neel Srejan (A12973643) <br>\n",
    "Elaf Elkadi (A12197684) <br>\n",
    "Zhen Xu (A15753359)"
   ]
  },
  {
   "cell_type": "markdown",
   "metadata": {},
   "source": [
    "## Research Question"
   ]
  },
  {
   "cell_type": "markdown",
   "metadata": {},
   "source": [
    "What’s the relationship between injuries and consistency of player performance? Does the player’s position determine the frequency at which they suffer injuries?"
   ]
  },
  {
   "cell_type": "markdown",
   "metadata": {},
   "source": [
    "## Background and Prior Work"
   ]
  },
  {
   "cell_type": "markdown",
   "metadata": {},
   "source": [
    "There are two characteristics that any great soccer player possesses; consistency and longevity. These two attributes are influenced by many traits of the player. Some are under their control: their professionalism and their ambition. Other traits are natural and the player seems to be born with such a natural talent for soccer. However, there is one aspect of a footballer’ success that is somewhat out of their control: the injuries that they will suffer over the course of their career. \n",
    "\n",
    "While some players seem to be particularly prone to injury and a careful training regime or sport science department can reduce the likelihood of injury, many of the injuries that happen on the field cannot be avoided and are often the result of bad luck. All of the attributes mentioned above will collectively determine a player’s consistency and longevity in soccer. Because injuries are such an important part in the development of these players, it undeniably affects the height and time of a player’s peak. On the other end, injuries also tend to herald the decline of a player’s career. In our project, we will analyse the relationship between injuries and consistency of soccer player performance and how the player’s position could determine the frequency at which they suffer injuries.\n",
    "\n",
    "References: <br>\n",
    "https://www.ncbi.nlm.nih.gov/pmc/articles/PMC4495432/ <br>\n",
    "https://bjsm.bmj.com/content/bjsports/24/4/265.full.pdf <br>\n",
    "http://www.scielo.br/scielo.php?script=sci_arttext&pid=S0103-51502017000500249"
   ]
  },
  {
   "cell_type": "markdown",
   "metadata": {},
   "source": [
    "## Hypothesis"
   ]
  },
  {
   "cell_type": "markdown",
   "metadata": {},
   "source": [
    "We hypothesize that an accumulation of injuries throughout a season negatively affects a player’s performance during that season. We also hypothesize that more physical positions, such as defender, accrue more injuries throughout their footballing career as opposed to midfielders and forwards. \n",
    "\n",
    "We believe that due to lack of match fitness, low chemistry with fellow teammates, and insufficient recovery time, a player struggles to return from injury and provide peak performances. This leads to a lack of self-confidence, which in turn also negatively impacts the player’s ability to perform at the highest level. We conjecture that defenders are more susceptible to injury because of the physicality of the position coupled with their involvement in every phase of play."
   ]
  },
  {
   "cell_type": "markdown",
   "metadata": {},
   "source": [
    "## Dataset(s)"
   ]
  },
  {
   "cell_type": "markdown",
   "metadata": {},
   "source": [
    "Dataset Name: Transfermarkt <br>\n",
    "Link to the dataset: https://www.transfermarkt.com  <br>\n",
    "Number of observations: 80 <br>\n",
    "This website contains in-depth information on a player’s injury history, including the dates they were injured, the type of injury, and how many matches they missed due to the injury. <br> <br>\n",
    "Dataset Name: WhoScored.com <br>\n",
    "Link to the dataset: https://www.whoscored.com <br>\n",
    "Number of observations: 80 <br>\n",
    "This website compiles different performance statistics of individual players on a season-to-season basis, compounded into an overall player rating for that season. <br> <br>\n",
    "We plan to analyze the amount of injuries a player has accumulated within a season using the data from TransferMarkt, then using that information to analyze the player’s rating for that season gathered from WhoScored’s website. \n"
   ]
  },
  {
   "cell_type": "markdown",
   "metadata": {},
   "source": [
    "## Setup and Data Cleaning"
   ]
  },
  {
   "cell_type": "markdown",
   "metadata": {},
   "source": [
    "The next cell imports all the packages needed for the project.\n",
    "We use Selenium for Webscraping transfermarkt and whoscored.\n",
    "We use joblib to speed up the process by allowing parralelization.\n",
    "We also use json to write and read files."
   ]
  },
  {
   "cell_type": "code",
   "execution_count": null,
   "metadata": {},
   "outputs": [],
   "source": [
    "from selenium import webdriver\n",
    "from selenium.webdriver.common.by import By\n",
    "from selenium.webdriver.support.ui import WebDriverWait, Select\n",
    "from selenium.webdriver.support import expected_conditions as EC\n",
    "from selenium.common.exceptions import TimeoutException, StaleElementReferenceException\n",
    "from joblib import Parallel, delayed\n",
    "import json\n",
    "import numpy as np"
   ]
  },
  {
   "cell_type": "markdown",
   "metadata": {},
   "source": [
    "While we were able to get the IDs of all the players involved, some players had multiple pages\n",
    "of injuries therefore we had to get the links to all those pages to get the parallel code \n",
    "running smoothly. The following function took care of that"
   ]
  },
  {
   "cell_type": "code",
   "execution_count": null,
   "metadata": {},
   "outputs": [],
   "source": [
    "def get_links(link):\n",
    "    option = webdriver.ChromeOptions()\n",
    "    option.add_argument('--incognito')\n",
    "    option.add_argument('--disable-extensions')\n",
    "\n",
    "    try:\n",
    "        browser = webdriver.Chrome(executable_path='C:/Users/chris/ChromeDriver/chromedriver',\n",
    "                                   chrome_options=option)\n",
    "        timeout = 5\n",
    "        browser.get(link)\n",
    "\n",
    "        try:\n",
    "            WebDriverWait(browser, timeout).until(EC.presence_of_element_located((By.XPATH, '//table[@class=\"items\"]')))\n",
    "        except TimeoutException:\n",
    "            browser.quit()\n",
    "            return [link]\n",
    "\n",
    "        pages = browser.find_elements_by_xpath('//li[@class=\"page\"]/a')\n",
    "        i_links = [link]\n",
    "        if len(pages) > 0:\n",
    "            for page in pages:\n",
    "                i_links.append(page.get_attribute('href'))\n",
    "        browser.quit()\n",
    "        return i_links\n",
    "\n",
    "    except Exception as e:\n",
    "        browser.quit()\n",
    "        return [link]"
   ]
  },
  {
   "cell_type": "markdown",
   "metadata": {},
   "source": [
    "The following cell calls the function above and saves the links in a textfile"
   ]
  },
  {
   "cell_type": "code",
   "execution_count": null,
   "metadata": {},
   "outputs": [],
   "source": [
    "indices = ['4380', '3332', '26399', '47082', '63200', '28003', '8198', '18922', '65278', '227961',\n",
    "               '80351', '64793', '28936', '29605', '35743', '38253', '58358', '39106', '48298', '21175',\n",
    "\n",
    "               '50362', '44068', '3333', '35518', '35664', '31909', '65230', '34601', '39381', '32467',\n",
    "               '44017', '57995', '30059', '35207', '38410', '26105', '44162', '38593', '41982', '44716',\n",
    "\n",
    "               '20007', '102258', '15773', '69751', '85258', '44501', '33648', '96718','57500', '34691',\n",
    "               '33947', '35208', '25727', '40605', '49723', '16631', '55769', '85605', '11', '21763',\n",
    "\n",
    "               '67355', '42412', '47713', '9594', '76277', '67080', '18944', '25557', '54928', '184767',\n",
    "               '26485', '39728', '43512', '51676', '52348', '29260', '39983', '111347', '34198', '102745']\n",
    "links = []\n",
    "for index in indices:\n",
    "    links.append('https://www.transfermarkt.us/lionel-messi/verletzungen/spieler/{}'.format(index))\n",
    "\n",
    "results = Parallel(n_jobs=-1)(delayed(get_links)(link) for link in links)\n",
    "\n",
    "open('injurylinks.txt', 'w').close()\n",
    "f = open('injurylinks.txt', 'a+')\n",
    "for lists in results:\n",
    "    for entry in lists:\n",
    "        f.write(entry)\n",
    "        f.write('\\n')\n",
    "f.close()"
   ]
  },
  {
   "cell_type": "markdown",
   "metadata": {},
   "source": [
    "Now that we have all the links required for our dataset, we can finally start getting the\n",
    "injury data from transfermarkt. The following function takes care of that"
   ]
  },
  {
   "cell_type": "code",
   "execution_count": null,
   "metadata": {},
   "outputs": [],
   "source": [
    "def get_injury_data(link):\n",
    "    option = webdriver.ChromeOptions()\n",
    "    option.add_argument('--incognito')\n",
    "    option.add_argument('--disable-extensions')\n",
    "\n",
    "    try:\n",
    "        browser = webdriver.Chrome(executable_path='C:/Users/chris/ChromeDriver/chromedriver',\n",
    "                                   chrome_options=option)\n",
    "        timeout=10\n",
    "        browser.get(link)\n",
    "\n",
    "        try:\n",
    "            WebDriverWait(browser, timeout).until(EC.presence_of_element_located((By.XPATH, '//table[@class=\"items\"]')))\n",
    "        except TimeoutException:\n",
    "            browser.close()\n",
    "            return 'Timed Out with link {}'.format(link)\n",
    "\n",
    "        name = browser.find_element_by_xpath('//h1[@itemprop=\"name\"]').text\n",
    "        injuries = browser.find_elements_by_xpath('//tbody/tr')\n",
    "        injury_data = {'name': name}\n",
    "        for injury in injuries:\n",
    "            cells = injury.find_elements_by_tag_name('td')\n",
    "            cell_data = [x.text for x in cells]\n",
    "            if cell_data[0] in injury_data.keys():\n",
    "                injury_data[cell_data[0]].append(cell_data[1:])\n",
    "            else:\n",
    "                injury_data[cell_data[0]] = [cell_data[1:]]\n",
    "\n",
    "        browser.close()\n",
    "        return injury_data\n",
    "\n",
    "\n",
    "    except Exception as e:\n",
    "        browser.close()\n",
    "        return 'Error {} has happened with link {}'.format(str(e), link)"
   ]
  },
  {
   "cell_type": "markdown",
   "metadata": {},
   "source": [
    "The next cell calls the function above and saves the injury data in a json file."
   ]
  },
  {
   "cell_type": "code",
   "execution_count": null,
   "metadata": {},
   "outputs": [],
   "source": [
    "g = open('injurylinks.txt', 'r')\n",
    "links = g.read().splitlines()\n",
    "\n",
    "data_players = Parallel(n_jobs=-1)(delayed(get_injury_data)(link) for link in links)\n",
    "open('injurydata.json', 'w').close()\n",
    "f = open('injurydata.json', 'a+')\n",
    "for entry in data_players:\n",
    "    json.dump(entry, f)\n",
    "    f.write('\\n')\n",
    "f.close()"
   ]
  },
  {
   "cell_type": "markdown",
   "metadata": {},
   "source": [
    "Some of the data scraped from transfermarkt was either not in a format that we liked or\n",
    "unnecessary for our project. So we did the following things to clean the data:\n",
    "Since there were multiple entries of the same player throughout the injury data file, we\n",
    "aggregated all the data for every player in a dictionary\n",
    "The year was only represented by the last two digits so we added 2000 to every year. All of our \n",
    "years were greater than 2000\n",
    "We then grabbed the relevant datapoints needed for our analysis. They were the total number of\n",
    "injuries in the season, the number of major injuries (injuries lasting more than 28 days),\n",
    "the number of games missed in the season, and the number of times a player was rested in the\n",
    "season\n",
    "Finally, we wrote all of the injury data to a csv file to make it easily compatible"
   ]
  },
  {
   "cell_type": "code",
   "execution_count": null,
   "metadata": {},
   "outputs": [],
   "source": [
    "g = open('injurydata.json', 'r')\n",
    "players = g.read().splitlines()\n",
    "player_table = []\n",
    "player_dict = {}\n",
    "for player_string in players:\n",
    "    player = json.loads(player_string)\n",
    "    print(player)\n",
    "    if not player['name'] in player_dict.keys():\n",
    "        player_dict[player['name']] = {}\n",
    "    player_data = player_dict[player['name']]\n",
    "    player_keys = player.keys()\n",
    "    for player_key in player_keys:\n",
    "        if not (player_key == 'name'):\n",
    "            year = int(player_key.split('/')[0]) + 2000\n",
    "            if year >= 2009:\n",
    "                injuries = player[player_key]\n",
    "                if year not in player_data.keys():\n",
    "                    player_data[year] = {}\n",
    "                    player_data[year]['n_injuries'] = len(injuries)\n",
    "                    player_data[year]['n_major_injuries'] = 0\n",
    "                    player_data[year]['n_games_missed'] = 0\n",
    "                    player_data[year]['n_rested'] = 0\n",
    "                else:\n",
    "                    player_data[year]['n_injuries'] += len(injuries)\n",
    "                for injury in injuries:\n",
    "                    if injury[0] == 'Rest':\n",
    "                        player_data[year]['n_injuries'] -= 1\n",
    "                        player_data[year]['n_rested'] += 1\n",
    "                    if int(injury[-2].split(' ')[0]) > 28:\n",
    "                        player_data[year]['n_major_injuries'] += 1\n",
    "                        player_data[year]['n_games_missed'] += int(injury[-1].replace('-', '0').replace('?', '-1'))\n",
    "\n",
    "all_players = player_dict.keys()\n",
    "\n",
    "for k in all_players:\n",
    "    all_years = player_dict[k].keys()\n",
    "    for y in all_years:\n",
    "        p = player_dict[k][y]\n",
    "        player_table.append([k, str(y), str(p['n_injuries']), str(p['n_major_injuries']),\n",
    "                             str(p['n_games_missed']), str(p['n_rested'])])\n",
    "\n",
    "h = open('player_injuries.csv', 'w')\n",
    "for entry in player_table:\n",
    "    h.write(','.join(entry))\n",
    "    h.write('\\n')\n",
    "h.close()"
   ]
  },
  {
   "cell_type": "markdown",
   "metadata": {},
   "source": [
    "Next we needed to get the seasonal ratings for every player so we could put it against their\n",
    "injury record. The following function scrapes whoscored for player ratings"
   ]
  },
  {
   "cell_type": "code",
   "execution_count": null,
   "metadata": {},
   "outputs": [],
   "source": [
    "def get_whoscored_data(link):\n",
    "    option = webdriver.ChromeOptions()\n",
    "    option.add_argument('--incognito')\n",
    "    option.add_argument('--disable-extensions')\n",
    "    browser = webdriver.Chrome(executable_path='C:/Users/chris/ChromeDriver/chromedriver',\n",
    "                               chrome_options=option)\n",
    "\n",
    "    try:\n",
    "        timeout=30\n",
    "        browser.get(link)\n",
    "\n",
    "        try:\n",
    "            WebDriverWait(browser, timeout).until(EC.presence_of_element_located((\n",
    "                By.ID, 'player-table-statistics-body')))\n",
    "        except TimeoutException:\n",
    "            browser.close()\n",
    "            return None\n",
    "\n",
    "        name = browser.find_element_by_xpath('//tr[@class=\" selected\"]/td/a[@class=\"player-link \"]').text\n",
    "        positions = browser.find_element_by_xpath('//tr[@class=\" selected\"]/td[@class=\"pos\"]').text\n",
    "        player_stats = {'name': name, 'positions': positions.split(',')}\n",
    "        rows = browser.find_elements_by_xpath('//tbody[@id=\"player-table-statistics-body\"]/tr')\n",
    "        for row in rows[0:-1]:\n",
    "            competition = row.find_element_by_xpath('.//td[@class=\"tournament\"]/a').text.strip()\n",
    "            if competition in ['SLL', 'EPL', 'GB', 'ISA']:\n",
    "                cells = row.find_elements_by_tag_name('td')\n",
    "                cells_data = [x.text for x in cells]\n",
    "                player_stats[cells_data[0]] = [cells_data[1:]]\n",
    "        browser.close()\n",
    "        return player_stats\n",
    "\n",
    "\n",
    "\n",
    "\n",
    "\n",
    "    except Exception as e:\n",
    "        browser.close()\n",
    "        return e"
   ]
  },
  {
   "cell_type": "markdown",
   "metadata": {},
   "source": [
    "The next cell calls the function above and stores the data in a json file"
   ]
  },
  {
   "cell_type": "code",
   "execution_count": null,
   "metadata": {},
   "outputs": [],
   "source": [
    "indices = ['4564', '3859', '14260', '23736', '33386', '11119', '5583', '14296', '44055', '140771',\n",
    "               '29400', '37099', '21488', '30110', '10103', '43194', '95822', '25820', '19792', '15438',\n",
    "\n",
    "               '27213', '25363', '4511', '14102', '13756', '31772', '44721', '11386', '13812', '22732',\n",
    "               '14091','44142', '29940', '41330', '82362', '12032', '30226', '13475', '52380', '20211',\n",
    "\n",
    "               '25931', '15764', '14244', '80067', '18181', '44288', '44739', '20241', '20592', '78500',\n",
    "               '106590', '43364', '11090', '136753', '69467', '23206', '64271', '33870', '15302', '18723',\n",
    "\n",
    "               '8408', '22079', '29575', '10136', '30051', '79708', '12712', '9909', '26059', '100881',\n",
    "               '23589', '21541', '43589', '80418', '133346', '9991', '20664', '128740', '14157', '93211']\n",
    "\n",
    "links = []\n",
    "for index in indices:\n",
    "    links.append('https://www.whoscored.com/Players/{}/History/Lionel-Messi'.format(index))\n",
    "\n",
    "results = Parallel(n_jobs=-1)(delayed(get_whoscored_data)(link) for link in links)\n",
    "\n",
    "open('players_whoscored.json', 'w').close()\n",
    "f = open('players_whoscored.json', 'a+')\n",
    "for entry in results:\n",
    "    json.dump(entry, f)\n",
    "    f.write('\\n')\n",
    "f.close()"
   ]
  },
  {
   "cell_type": "markdown",
   "metadata": {},
   "source": [
    "The upcoming cells discards all of the injury data scraped, groups players into their general \n",
    "positions (CF and RW/LW as forwards, AMC/DMC and MC as midfielders, CB as Center Backs and DR/DL\n",
    "as full backs). We also grab the rating for every year and write the cleaned up data to a csv\n",
    "file"
   ]
  },
  {
   "cell_type": "code",
   "execution_count": null,
   "metadata": {},
   "outputs": [],
   "source": [
    "g = open('players_whoscored.json', 'r')\n",
    "players = g.read().splitlines()\n",
    "player_table = []\n",
    "for player_string in players:\n",
    "    player = json.loads(player_string)\n",
    "    player_data = [player['name']]\n",
    "    pos = player['positions']\n",
    "    if 'FW' in pos:\n",
    "        player_data.append('Forward')\n",
    "    elif '(' not in pos[0]:\n",
    "        player_data.append(\"Midfielder\")\n",
    "    else:\n",
    "        pos_1 = pos[0].split('(')[0]\n",
    "        pos_2 = pos[0].split('(')[1].split(')')[0][0]\n",
    "        if pos_1 == 'D':\n",
    "            if pos_2 == 'R' or pos_2 == 'L':\n",
    "                player_data.append('Full Back')\n",
    "            else:\n",
    "                player_data.append('Center Back')\n",
    "        else:\n",
    "            player_data.append('Midfielder')\n",
    "    player_keys = player.keys()\n",
    "    for key in player_keys:\n",
    "        if key not in ['name', 'positions']:\n",
    "            year_data = [key.split('/')[0], player[key][0][-1]]\n",
    "            player_table.append(player_data + year_data)\n",
    "\n",
    "h = open('player_ratings.csv', 'w')\n",
    "for entry in player_table:\n",
    "    h.write(','.join(entry))\n",
    "    h.write('\\n')\n",
    "h.close()"
   ]
  },
  {
   "cell_type": "markdown",
   "metadata": {},
   "source": [
    "   Finally we merge our two datasets and write the merged result into a csv file for EDA"
   ]
  },
  {
   "cell_type": "code",
   "execution_count": null,
   "metadata": {},
   "outputs": [],
   "source": [
    "df_ratings = pd.read_csv('C:/Users/chris/Documents/Python36/COGS108/player_ratings.csv')\n",
    "df_injuries = pd.read_csv('C:/Users/chris/Documents/Python36/COGS108/player_injuries.csv')\n",
    "total_df = df_ratings.merge(df_injuries, on=['name', 'year'])\n",
    "total_df.to_csv('total_df.csv')"
   ]
  },
  {
   "cell_type": "markdown",
   "metadata": {},
   "source": [
    "## Data Analysis & Results"
   ]
  },
  {
   "cell_type": "code",
   "execution_count": 3,
   "metadata": {},
   "outputs": [],
   "source": [
    "# Importing libraries that are relevant to create plots from csv data\n",
    "# Display plots directly in the notebook instead of in a new window\n",
    "%matplotlib inline\n",
    "\n",
    "# Import libraries\n",
    "import numpy as np\n",
    "import pandas as pd\n",
    "import seaborn as sns\n",
    "import seaborn as sns\n",
    "import statistics"
   ]
  },
  {
   "cell_type": "code",
   "execution_count": 2,
   "metadata": {},
   "outputs": [],
   "source": [
    "# Configure libraries\n",
    "# The seaborn library makes plots look nicer\n",
    "sns.set()\n",
    "sns.set_context('talk')\n",
    "\n",
    "# Displaying a set amout of rows when printing dataframe at a time\n",
    "pd.options.display.max_rows = 7\n",
    "pd.options.display.max_columns = 8\n",
    "\n",
    "# Round decimals when displaying DataFrames\n",
    "pd.set_option('precision', 2)"
   ]
  },
  {
   "cell_type": "markdown",
   "metadata": {},
   "source": [
    "Read csv data into dataframe and use the first column as indicies"
   ]
  },
  {
   "cell_type": "code",
   "execution_count": 3,
   "metadata": {},
   "outputs": [],
   "source": [
    "df_soccer = pd.read_csv('total_df.csv', index_col = 0)"
   ]
  },
  {
   "cell_type": "markdown",
   "metadata": {},
   "source": [
    "For the plots we only need to look at position, number of injures, and number of games missed. We drop all other columns."
   ]
  },
  {
   "cell_type": "code",
   "execution_count": 4,
   "metadata": {},
   "outputs": [],
   "source": [
    "df_soccer.drop(labels = ['name','year', 'rating', 'n_major_injuries', 'n_rested'], axis = 1, inplace = True)"
   ]
  },
  {
   "cell_type": "markdown",
   "metadata": {},
   "source": [
    "Display cleaned dataframe"
   ]
  },
  {
   "cell_type": "code",
   "execution_count": 5,
   "metadata": {},
   "outputs": [
    {
     "name": "stdout",
     "output_type": "stream",
     "text": [
      "             pos  n_injuries  n_games_missed\n",
      "0        Forward           2               7\n",
      "1        Forward           3              18\n",
      "2        Forward           2              14\n",
      "..           ...         ...             ...\n",
      "445  Center Back           2               0\n",
      "446  Center Back           2              13\n",
      "447  Center Back           3               0\n",
      "\n",
      "[448 rows x 3 columns]\n"
     ]
    }
   ],
   "source": [
    "print(df_soccer)"
   ]
  },
  {
   "cell_type": "markdown",
   "metadata": {},
   "source": [
    "Iterate through the column of position and based on position find the average number of injuries per position."
   ]
  },
  {
   "cell_type": "code",
   "execution_count": 6,
   "metadata": {},
   "outputs": [],
   "source": [
    "tot_injuries_forward = 0\n",
    "tot_injuries_mid = 0\n",
    "tot_injuries_cb = 0\n",
    "tot_injuries_fb = 0\n",
    "tot_forward = 0\n",
    "tot_mid = 0\n",
    "tot_cb = 0\n",
    "tot_fb = 0\n",
    "for i in range(0, len(df_soccer)):\n",
    "    x = df_soccer['pos'][i]\n",
    "    if x == 'Forward':\n",
    "        tot_injuries_forward = tot_injuries_forward + df_soccer['n_injuries'][i]\n",
    "        tot_forward = tot_forward + 1\n",
    "    elif x == 'Midfielder':\n",
    "        tot_injuries_mid = tot_injuries_mid + df_soccer['n_injuries'][i]\n",
    "        tot_mid = tot_mid + 1\n",
    "    elif x == 'Center Back':\n",
    "        tot_injuries_cb = tot_injuries_cb + df_soccer['n_injuries'][i]\n",
    "        tot_cb = tot_cb + 1\n",
    "    elif x == 'Full Back':\n",
    "        tot_injuries_fb = tot_injuries_fb + df_soccer['n_injuries'][i]\n",
    "        tot_fb = tot_fb + 1\n",
    "        \n",
    "avg_injuries_forward = tot_injuries_forward/tot_forward\n",
    "avg_injuries_mid = tot_injuries_mid/tot_mid\n",
    "avg_injuries_cb = tot_injuries_cb/tot_cb\n",
    "avg_injuries_fb = tot_injuries_fb/tot_fb"
   ]
  },
  {
   "cell_type": "markdown",
   "metadata": {},
   "source": [
    "Create a bar graph showing position vs average number of injuries"
   ]
  },
  {
   "cell_type": "code",
   "execution_count": 7,
   "metadata": {},
   "outputs": [
    {
     "data": {
      "text/plain": [
       "Text(0, 0.5, 'Average Injuries')"
      ]
     },
     "execution_count": 7,
     "metadata": {},
     "output_type": "execute_result"
    },
    {
     "data": {
      "image/png": "[encoded data removed]",
      "text/plain": [
       "<Figure size 720x360 with 1 Axes>"
      ]
     },
     "metadata": {},
     "output_type": "display_data"
    }
   ],
   "source": [
    "position = ['Forward', 'Midfielder', 'Center Back', 'Full Back']\n",
    "avg_injured_byPosition = [avg_injuries_forward, avg_injuries_mid, avg_injuries_cb, avg_injuries_fb]\n",
    "df_injuries = pd.DataFrame({'Position': position, 'average injuries':avg_injured_byPosition})\n",
    "plot = df_injuries.plot.bar(x='Position', y='average injuries', rot=0, figsize = (10,5))\n",
    "plot.set_ylabel('Average Injuries')"
   ]
  },
  {
   "cell_type": "markdown",
   "metadata": {},
   "source": [
    "Fig 1. The above bar graph shows a the player position versus the average injuries incurred. <br>"
   ]
  },
  {
   "cell_type": "markdown",
   "metadata": {},
   "source": [
    "Iterate through the column of position and based on position find the average number of missed games per position."
   ]
  },
  {
   "cell_type": "code",
   "execution_count": 8,
   "metadata": {},
   "outputs": [],
   "source": [
    "tot_missed_forward = 0\n",
    "tot_missed_mid = 0\n",
    "tot_missed_cb = 0\n",
    "tot_missed_fb = 0\n",
    "tot_forward = 0\n",
    "tot_mid = 0\n",
    "tot_cb = 0\n",
    "tot_fb = 0\n",
    "for i in range(0, len(df_soccer)):\n",
    "    x = df_soccer['pos'][i]\n",
    "    if x == 'Forward':\n",
    "        tot_missed_forward = tot_missed_forward + df_soccer['n_games_missed'][i]\n",
    "        tot_forward = tot_forward + 1\n",
    "    elif x == 'Midfielder':\n",
    "        tot_missed_mid = tot_missed_mid + df_soccer['n_games_missed'][i]\n",
    "        tot_mid = tot_mid + 1\n",
    "    elif x == 'Center Back':\n",
    "        tot_missed_cb = tot_missed_cb + df_soccer['n_games_missed'][i]\n",
    "        tot_cb = tot_cb + 1\n",
    "    elif x == 'Full Back':\n",
    "        tot_missed_fb = tot_missed_fb + df_soccer['n_games_missed'][i]\n",
    "        tot_fb = tot_fb + 1\n",
    "        \n",
    "avg_missed_forward = tot_missed_forward/tot_forward\n",
    "avg_missed_mid = tot_missed_mid/tot_mid\n",
    "avg_missed_cb = tot_missed_cb/tot_cb\n",
    "avg_missed_fb = tot_missed_fb/tot_fb"
   ]
  },
  {
   "cell_type": "markdown",
   "metadata": {},
   "source": [
    "Create a bar graph showing position vs average number of games missed"
   ]
  },
  {
   "cell_type": "code",
   "execution_count": 9,
   "metadata": {},
   "outputs": [
    {
     "data": {
      "text/plain": [
       "Text(0, 0.5, 'Average Games Missed')"
      ]
     },
     "execution_count": 9,
     "metadata": {},
     "output_type": "execute_result"
    },
    {
     "data": {
      "image/png": "[encoded data removed]",
      "text/plain": [
       "<Figure size 720x360 with 1 Axes>"
      ]
     },
     "metadata": {},
     "output_type": "display_data"
    }
   ],
   "source": [
    "position = ['Forward', 'Midfielder', 'Center Back', 'Full Back']\n",
    "avg_missed_byPosition = [avg_missed_forward, avg_missed_mid, avg_missed_cb, avg_missed_fb]\n",
    "df_injuries = pd.DataFrame({'Position': position, 'average missed':avg_missed_byPosition})\n",
    "plot = df_injuries.plot.bar(x='Position', y='average missed', rot=0, figsize = (10,5))\n",
    "plot.set_ylabel('Average Games Missed')"
   ]
  },
  {
   "cell_type": "markdown",
   "metadata": {},
   "source": [
    "Fig 2. The above bar graph shows a the player position versus the average games missed."
   ]
  },
  {
   "cell_type": "markdown",
   "metadata": {},
   "source": [
    "Read in new copy of the csv file into a dataframe"
   ]
  },
  {
   "cell_type": "code",
   "execution_count": 9,
   "metadata": {},
   "outputs": [],
   "source": [
    "df = pd.read_csv('total_df.csv')"
   ]
  },
  {
   "cell_type": "markdown",
   "metadata": {},
   "source": [
    "For the plots we only need to look at ratings, number of injures, and number of games missed. We drop all other columns."
   ]
  },
  {
   "cell_type": "code",
   "execution_count": 10,
   "metadata": {},
   "outputs": [],
   "source": [
    "df = df.drop(['Unnamed: 0','name', 'pos', 'year', 'n_major_injuries', 'n_rested'], axis=1)"
   ]
  },
  {
   "cell_type": "markdown",
   "metadata": {},
   "source": [
    "Subset values in n_injuries column into less than or equal to 1, 2, 3, 4, 5, or greater than 6 <br>\n",
    "Subset values in n_games_missed into less than 10, 10-19, 20-29, 30-38 as the max games in a season is 38."
   ]
  },
  {
   "cell_type": "code",
   "execution_count": 11,
   "metadata": {},
   "outputs": [],
   "source": [
    "df_one = df[df['n_injuries'] <= 1]\n",
    "df_two = df[df['n_injuries'] == 2]\n",
    "df_three = df[df['n_injuries'] == 3]\n",
    "df_four = df[df['n_injuries'] == 4]\n",
    "df_five = df[df['n_injuries'] == 5]\n",
    "df_sixPlus = df[df['n_injuries'] >= 6]\n",
    "\n",
    "df_lessThanTen = df.loc[(df['n_games_missed'] < 10)]\n",
    "df_tenToTwenty = df.loc[(df['n_games_missed'] >= 10) & (df['n_games_missed'] < 20)]\n",
    "df_twentyToThirty = df.loc[(df['n_games_missed'] >= 20) & (df['n_games_missed'] < 30)]\n",
    "df_thirtyToFourty = df.loc[(df['n_games_missed'] >= 30) & (df['n_games_missed'] < 39)]"
   ]
  },
  {
   "cell_type": "markdown",
   "metadata": {},
   "source": [
    "Get the means of ratings of the players in each of the 6 subsets of n_injuries <br>\n",
    "Get the means of ratings of the players in each of the 4 subsets of n_games_missed"
   ]
  },
  {
   "cell_type": "code",
   "execution_count": 12,
   "metadata": {},
   "outputs": [],
   "source": [
    "mean_one = statistics.mean(df_one['rating'])\n",
    "mean_two = statistics.mean(df_two['rating'])\n",
    "mean_three = statistics.mean(df_three['rating'])\n",
    "mean_four = statistics.mean(df_four['rating'])\n",
    "mean_five = statistics.mean(df_five['rating'])\n",
    "mean_sixPlus = statistics.mean(df_sixPlus['rating'])\n",
    "\n",
    "mean_o = statistics.mean(df_lessThanTen['rating'])\n",
    "mean_t = statistics.mean(df_tenToTwenty['rating'])\n",
    "mean_th = statistics.mean(df_twentyToThirty['rating'])\n",
    "mean_f = statistics.mean(df_thirtyToFourty['rating'])"
   ]
  },
  {
   "cell_type": "markdown",
   "metadata": {},
   "source": [
    "Create a dataframe for the n_injuries subset and avg player rating   <br>\n",
    "Create a dataframe for the n_games_missed subset and avg player rating"
   ]
  },
  {
   "cell_type": "code",
   "execution_count": 13,
   "metadata": {},
   "outputs": [],
   "source": [
    "final_df = pd.DataFrame({'Number of Injuries':['>=1', '2', '3', '4', '5', '<=6'], 'Average Rating':[mean_one, mean_two, mean_three, mean_four, mean_five, mean_sixPlus]})\n",
    "final_df2 = pd.DataFrame({'Number of Games Missed':['>10', '10 to 20','20 to 30', '30 to 40'], 'Average Rating':[mean_o, mean_t, mean_th, mean_f]})"
   ]
  },
  {
   "cell_type": "markdown",
   "metadata": {},
   "source": [
    "Create a line plot of Number of Injuries vs Average Rating <br>\n",
    "Create a line plot of Number of Games Missed vs Average Rating"
   ]
  },
  {
   "cell_type": "code",
   "execution_count": 14,
   "metadata": {},
   "outputs": [
    {
     "data": {
      "text/plain": [
       "Text(0, 0.5, 'Average Rating')"
      ]
     },
     "execution_count": 14,
     "metadata": {},
     "output_type": "execute_result"
    },
    {
     "data": {
      "image/png": "[encoded data removed]",
      "text/plain": [
       "<Figure size 432x288 with 1 Axes>"
      ]
     },
     "metadata": {
      "needs_background": "light"
     },
     "output_type": "display_data"
    },
    {
     "data": {
      "image/png": "[encoded data removed]",
      "text/plain": [
       "<Figure size 432x288 with 1 Axes>"
      ]
     },
     "metadata": {
      "needs_background": "light"
     },
     "output_type": "display_data"
    }
   ],
   "source": [
    "ax = final_df.plot(x='Number of Injuries', y='Average Rating', rot=0, xticks=final_df.index)\n",
    "ax.set_ylabel(\"Average Rating\")\n",
    "\n",
    "ax2 = final_df2.plot(x='Number of Games Missed', y='Average Rating', rot=0, xticks=final_df2.index)\n",
    "ax2.set_ylabel(\"Average Rating\")"
   ]
  },
  {
   "cell_type": "markdown",
   "metadata": {},
   "source": [
    "Fig 3 (top): The line graph above shows the change in average rating with respect to number of injuries. <br>\n",
    "Fig 4 (bottom): The line graph above shows the change in average rating with respect to number of games missed."
   ]
  },
  {
   "cell_type": "markdown",
   "metadata": {},
   "source": [
    "### Statistics of results"
   ]
  },
  {
   "cell_type": "markdown",
   "metadata": {},
   "source": [
    "A one way anova test was used along with a Tukey HSD Post-hoc Test to give a p value between the various categories that were being compared against eachother in the anova test. We use an alpha value of 0.05 to compare the p value.\n",
    "H0: There is no statistical significance between said y values of given x categories. \n",
    "Ha: There is a statistical significance between said y values of given x categories. \n",
    "\n",
    "Fig 1:<br>\n",
    "forward vs midfield: Diff=-0.2100, 95%CI=-0.8170 to 0.3970, p=0.8091<br>\n",
    "forward vs center back: Diff=0.6300, 95%CI=0.1403 to 1.1197, **p=0.0054**<br>\n",
    "forward vs full back: Diff=0.0500, 95%CI=-0.5387 to 0.6387, p=0.9962<br>\n",
    "midfield vs center back: Diff=0.8400, 95%CI=0.2350 to 1.4450, **p=0.0021**<br>\n",
    "midfield vs full back: Diff=0.2600, 95%CI=-0.4275 to 0.9475, p=0.7638<br>\n",
    "center back  vs fullback: Diff=-0.5800, 95%CI=-1.1666 to 0.0066, p=0.0539<br>\n",
    "<br>\n",
    "Fig 2:<br>\n",
    "forward vs midfield: Diff=-3.1600, 95%CI=-6.2553 to -0.0647, **p=0.0433**<br>\n",
    "forward vs center back: Diff=0.4200, 95%CI=-2.0773 to 2.9173, p=0.9727<br>\n",
    "forward vs full back: Diff=0.5700, 95%CI=-2.4318 to 3.5718, p=0.9614<br>\n",
    "midfield vs center bac: Diff=3.5800, 95%CI=0.4949 to 6.6651, **p=0.0154**<br>\n",
    "midfield vs full back: Diff=3.7300, 95%CI=0.2240 to 7.2360, **p=0.0320**<br>\n",
    "center back  vs fullback: Diff=0.1500, 95%CI=-2.8413 to 3.1413, p=0.9992<br>\n",
    "<br>\n",
    "Fig 3:<br>\n",
    "<=1 vs 2: Diff=0.0000, 95%CI=-0.1509 to 0.1509, p=1.0000<br>\n",
    "<=1 vs 3: Diff=0.0600, 95%CI=-0.1117 to 0.2317, p=0.9179<br>\n",
    "<=1 vs 4: Diff=0.0500, 95%CI=-0.1873 to 0.2873, p=0.9908<br>\n",
    "<=1 vs 5: Diff=0.0900, 95%CI=-0.1928 to 0.3728, p=0.9437<br>\n",
    "<=1 vs 6: Diff=0.0800, 95%CI=-0.1706 to 0.3306, p=0.9430<br>\n",
    "2 vs 3: Diff=0.0600, 95%CI=-0.1255 to 0.2455, p=0.9398<br>\n",
    "2 vs 4: Diff=0.0500, 95%CI=-0.1974 to 0.2974, p=0.9924<br>\n",
    "2 vs 5: Diff=0.0900, 95%CI=-0.2013 to 0.3813, p=0.9502<br>\n",
    "2 vs >=6: Diff=0.0800, 95%CI=-0.1802 to 0.3402, p=0.9512<br>\n",
    "3 vs 4: Diff=-0.0100, 95%CI=-0.2706 to 0.2506, p=0.9999<br>\n",
    "3 vs 5: Diff=0.0300, 95%CI=-0.2727 to 0.3327, p=0.9997<br>\n",
    "3 vs >=6: Diff=0.0200, 95%CI=-0.2529 to 0.2929, p=0.9999<br>\n",
    "4 vs 5: Diff=0.0400, 95%CI=-0.3041 to 0.3841, p=0.9995<br>\n",
    "4 vs >=6: Diff=0.0300, 95%CI=-0.2882 to 0.3482, p=0.9998<br>\n",
    "5 vs >=6: Diff=-0.0100, 95%CI=-0.3635 to 0.3435, p=1.0000<br>\n",
    "<br>\n",
    "Fig 4:<br>\n",
    "<10 vs 10-20: Diff=-0.3500, 95%CI=-0.6410 to -0.0590, **p=0.0110**<br>\n",
    "<10 vs 20-30: Diff=-0.1200, 95%CI=-0.2920 to 0.0520, p=0.2750<br>\n",
    "<10 vs 30-38: Diff=0.0400, 95%CI=-0.3947 to 0.4747, p=0.9952<br>\n",
    "10-20 vs 20-30: Diff=0.2300, 95%CI=-0.0971 to 0.5571, p=0.2686<br>\n",
    "10-20 vs 30-38: Diff=0.3900, 95%CI=-0.1261 to 0.9061, p=0.2095<br>\n",
    "20-30 vs 30-38: Diff=0.1600, 95%CI=-0.2996 to 0.6196, p=0.8061<br>"
   ]
  },
  {
   "cell_type": "markdown",
   "metadata": {},
   "source": [
    "#### Statistically significant"
   ]
  },
  {
   "cell_type": "markdown",
   "metadata": {},
   "source": [
    "Fig 1 shows that there is a statistically significant difference in number of injuries and position in the positions between a forward and a center back as well as between a midfielder and a center back. <br>\n",
    "<br>\n",
    "Fig 2 shows that there is a statistically significant difference in the number of games missed and position from the positions between a forward and a midfielder, center back and a midfielder and a fullback and a midfielder.<br>\n",
    "<br>\n",
    "Fig 3 shows that there are no relavent differences in any number of injuries a player may endure and the rating of their performance through the seasons. <br>\n",
    "<br>\n",
    "Fig 4 shows that there is a statistically significant difference in the number of games missed in a season and overall rating of of their performances through the season."
   ]
  },
  {
   "cell_type": "markdown",
   "metadata": {},
   "source": [
    "## Ethics and Privacy Considerations"
   ]
  },
  {
   "cell_type": "markdown",
   "metadata": {},
   "source": [
    "### Who will be affected by our work?  \n",
    "Our team needs to take into consideration the possible ramifications of what our project analysis and data could mean for those persons/entities whose data we manipulate and derive a conclusion from.  Could this possibly destroy organizations/careers, cause irreversible damage or harm, influence politics or the economy etc. Need to be conscious of the effects of our work every step of the way.  It’s possible that in some scenarios we’ll have to weigh the possible negatives and positives that could result in publishing our analysis and make a judgement based on that on whether to continue.\n",
    "\n",
    "### Is our group introducing any bias? \n",
    "The variables taken into consideration are subject to selection bias.  As we analyze and pick our data our team needs to be aware that it’s possible we are incorporating our personal biases.  These biases will then inevitably be reflected in our algorithms and results.  Therefore we should consider that, check each other, to try and reduce potential bias and work to stay as objective as we can. \n",
    "\n",
    "### Protecting the privacy and identity of individuals/groups/entities.  \n",
    "Any data in which we use to showcase an analysis, observation, or conclusion that could potentially be viewed by the public must have been gathered from legitimate sources in which the source of that data was obtained and made available through legal procedures.  Sources of data obtained illegally and/or without permission or are questionable at best are better off avoided to ensure that we are not breaching an individuals or entities privacy and data.\n",
    "\n",
    "### Recognizing we aren’t experts.\n",
    "An experiment is limited by our own knowledge, therefore it is important that we recognize the limitations of our background and do our due diligence in finding out more information as necessary and becoming familiar with a topic.  In order to deliver an insightful and well thought out conclusion or analysis, we must also have a reasonable amount of knowledge in a topic.  For example when we analyze data we should probably have a foundation of knowledge and research into the subject at hand, so as to use that data as effectively as possible.\n"
   ]
  },
  {
   "cell_type": "markdown",
   "metadata": {},
   "source": [
    "## Conclusion & Discussion\n"
   ]
  },
  {
   "cell_type": "markdown",
   "metadata": {},
   "source": [
    "Our team hypothesized that an accumulation of injuries throughout a season would negatively affect a soccer player's performance during that season. After scraping the data related to player ratings throgh multiple seasons and the amount of injuries they accrued in those seasons, we've come to see (Fig 1) that injuries are fewer for midfielders as when midfielders are compared to all other positions they have a statistically significant difference. We consider fullbacks to be insignificant as it is minimally not significant as 0.0539 is quite close to the threshold of 0.05.\n",
    "With this consideration in mind, Fig 2 shows the result of that being that midfielders all have a significant difference with all other positions in regards to the number of games missed. Considering that they are statistically more likely to not get injured, there is no reason for the midfielder to miss a game due to injury. <br>\n",
    "<br>\n",
    "Along with our hypothesis, we must not just took at games missed but their performance and ability to play at a high level at all times. Fig 3's results of no significant differences between injuries and ratings shocked us. We believed that if one was injured, it would take a rather long time to get back into their prime performances. Rather through looking at Fig 4, we see that missing 0-9 games doesn't really affect performance, only if one misses 10-20 games through an injury is when we see a statistically significant difference in rating. <br>\n",
    "<br>\n",
    "\n",
    "After discussion within our team we believe that there is a lot more things that go into injuries and performances that we seem to overlook. With injuries players are allowed rest and recovery through sports science and calculated steps to recover and come back stronger than before. Such is the case that the body and mind are more rested than the players who fatigue themselves through constant play. In addition to the interesting relationship midfielders posess, looking at thier position seems to show the rather glaring reason why this relationship is seen. Forwards are usually running at full pace and if they are tackled they get injured, likewise the forwards getting tackled by fullbacks who try to prevent crosses. More than that the goal is in the center of the field and thus all attention and power as the last line of defense seems to be that of the center back. Through this view of the game, we see that the midfielder is usually further back passing the ball and do not have the upmost responsiblity and risk of being hurt in tackling or other aspects of the game. <br>\n",
    "<br> \n",
    "Our analysis is limited to average ratings across seasons, rather than on a game by game basis pre and post injury. This gives us a broad view of how injuries affect players throughout an entire season, rather than how injuries affect them in the individual games immediately after returning from injury. We are also limited by our lack of information on team performance throughout a season, a variable that also affects player performance, regardless of injury. These factors needed to be kept in mind when discussing our analysis and looking forward to seeing how one can potentially reduce injuries and bolster ratings from games. \n"
   ]
  }
 ],
 "metadata": {
  "kernelspec": {
   "display_name": "Python 3",
   "language": "python",
   "name": "python3"
  },
  "language_info": {
   "codemirror_mode": {
    "name": "ipython",
    "version": 3
   },
   "file_extension": ".py",
   "mimetype": "text/x-python",
   "name": "python",
   "nbconvert_exporter": "python",
   "pygments_lexer": "ipython3",
   "version": "3.6.7"
  }
 },
 "nbformat": 4,
 "nbformat_minor": 2
}
