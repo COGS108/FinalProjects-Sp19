{
 "cells": [
  {
   "cell_type": "markdown",
   "metadata": {
    "colab_type": "text",
    "id": "yr9yoY2GZmuR"
   },
   "source": [
    "# COGS 108 - Final Project "
   ]
  },
  {
   "cell_type": "markdown",
   "metadata": {
    "colab_type": "text",
    "id": "7QJkBlICZmuU"
   },
   "source": [
    "# Names\n",
    "\n",
    "- Shinuo Xu: Data cleaning, Data visualization, Statistical analysis, Data processing, Ethics and privacy\n",
    "\n",
    "- Liza Megally: Conclusion & Discussion, Proof Read, Research, Data Visualization\n",
    "- Kriti Jain: Ethics & Privacy, Background and Prior Work\n",
    "- Maisha Maliha: Data Gathering, Web Scraping, Hypothesis, Data Visualization, Data Analysis, Regression Models, Predictive Models"
   ]
  },
  {
   "cell_type": "markdown",
   "metadata": {
    "colab_type": "text",
    "id": "jtWJuEweZmuV"
   },
   "source": [
    "# Group Members IDs\n",
    "\n",
    "- A15445385\n",
    "- A15753912\n",
    "- A12965134\n",
    "- A15102441"
   ]
  },
  {
   "cell_type": "markdown",
   "metadata": {
    "colab_type": "text",
    "id": "eDkvx2coZmuV"
   },
   "source": [
    "# Research Question\n"
   ]
  },
  {
   "cell_type": "markdown",
   "metadata": {
    "colab_type": "text",
    "id": "k_3pL4vvZmuW"
   },
   "source": [
    "\n",
    "\n",
    "\n",
    "\n",
    "Is there a relationship between the valence,tempo, danceability, and energy of Spotify’s most popular songs and depression rates in California in the last five years?\n"
   ]
  },
  {
   "cell_type": "markdown",
   "metadata": {
    "colab_type": "text",
    "id": "0U6PkFmvZmuX"
   },
   "source": [
    "# Background and Prior Work"
   ]
  },
  {
   "cell_type": "markdown",
   "metadata": {
    "colab_type": "text",
    "id": "IBEkgS1kZmuX"
   },
   "source": [
    "Whether it is used for celebrations, form of expression or emotional outlets, music is embedded in many parts of out culture. There are factors that influence the type of music we listen to. By looking at prior research, we found that there is a relationship between what kind of music people listen to, and how they are feeling. Eric Lacourse states in his research article, “Heavy Metal Music and Adolescent Suicidal Risk,” [link](https://pdfs.semanticscholar.org/3b35/07371a5750934b135e538f783094bdc85ae2.pdf)that there was a big correlation between girls who listened to heavy metal music and sucidal risks, so we want to see if that could somehow translate over to depression rates and the type of music being heard. Moreover Peter J. Rentfrow in his article, “The Do Re Mi’s of Everyday life: The Structure and Personality Correlated of Music Preferences,” [link](https://pdfs.semanticscholar.org/1364/53addebb04b046e06a524c19fa4e891ea7ae.pdf)found out that there is a relationship between people's personality traits and the kind of music that they listen to. This relates to our topic where we see how people's behaviors and thought process affects the type of music they listen to. \n",
    "\n",
    "If they are a more depressed and sad emotional person, do they listen low tempo music or upbeat music? This article will help support our findings and gives a light into the correlation between personalities/their emotions and the kind of music they listen to, which will help prove the correlation between tempo and depression rates.\n",
    "\n"
   ]
  },
  {
   "cell_type": "markdown",
   "metadata": {
    "colab_type": "text",
    "id": "irmW9-4wZmuY"
   },
   "source": [
    "# Hypothesis\n"
   ]
  },
  {
   "cell_type": "markdown",
   "metadata": {
    "colab_type": "text",
    "id": "KW-XtlCCZmuZ"
   },
   "source": [
    "\n",
    "We hypothesize that there is an inversely positive correlation between the two datasets whereas depression rates increase, the tempo, valence, energy and dance-ability of the top 100 songs listened to on Spotify should decrease. \n",
    "\n",
    "Mental health is important to one’s behavioral patterns and how they cope with life challenges and depression rates in the States is on the rise as more people are prioritizing their mental health and being more vocal about it. With that in mind we expect that depression to affect one’s mood and in return affect the type of music they listen to where they would be listening to low energy and slow songs. We expect that as there is an increase in depression rates, more people would be listening to more mellow and sad-like songs and hence these songs would be part of the most streamed songs on spotify. \n",
    "\n",
    "\n"
   ]
  },
  {
   "cell_type": "markdown",
   "metadata": {
    "colab_type": "text",
    "id": "IZNV3yDxZmua"
   },
   "source": [
    "# Setup"
   ]
  },
  {
   "cell_type": "code",
   "execution_count": 1,
   "metadata": {
    "colab": {},
    "colab_type": "code",
    "id": "aLQEtVvLsERd"
   },
   "outputs": [
    {
     "name": "stderr",
     "output_type": "stream",
     "text": [
      "/opt/conda/lib/python3.6/site-packages/statsmodels/compat/pandas.py:56: FutureWarning: The pandas.core.datetools module is deprecated and will be removed in a future version. Please use the pandas.tseries module instead.\n",
      "  from pandas.core import datetools\n"
     ]
    }
   ],
   "source": [
    "# Import necessary libraries\n",
    "\n",
    "import seaborn as sns\n",
    "import pandas as pd\n",
    "import numpy as np\n",
    "import matplotlib.pyplot as plt\n",
    "\n",
    "from matplotlib.pyplot import figure\n",
    "\n",
    "import patsy\n",
    "import statsmodels.api as sm\n",
    "from scipy.stats import pearsonr, norm, ttest_ind\n",
    "\n",
    "from sklearn.model_selection import train_test_split\n",
    "from sklearn.metrics import mean_squared_error\n",
    "from sklearn.linear_model import LinearRegression\n",
    "\n",
    "\n"
   ]
  },
  {
   "cell_type": "markdown",
   "metadata": {
    "colab_type": "text",
    "id": "ueFxG_zPZmue"
   },
   "source": [
    "# Data: Gathering "
   ]
  },
  {
   "cell_type": "code",
   "execution_count": 0,
   "metadata": {
    "colab": {
     "base_uri": "https://localhost:8080/",
     "height": 130
    },
    "colab_type": "code",
    "id": "95jg6mU1no-L",
    "outputId": "8f03c78e-7cd3-4d19-e1b6-ea05cfae3fbf"
   },
   "outputs": [
    {
     "ename": "SyntaxError",
     "evalue": "ignored",
     "output_type": "error",
     "traceback": [
      "\u001b[0;36m  File \u001b[0;32m\"<ipython-input-13-5d6f4d88cca6>\"\u001b[0;36m, line \u001b[0;32m4\u001b[0m\n\u001b[0;31m    >> artists=[]\u001b[0m\n\u001b[0m     ^\u001b[0m\n\u001b[0;31mSyntaxError\u001b[0m\u001b[0;31m:\u001b[0m invalid syntax\n"
     ]
    }
   ],
   "source": [
    "#Code to get spotify data using spotify's api\n",
    "\n",
    "#Personalized token for each user \n",
    "token=util.prompt_for_user_token(username='xxxx',scope=scope,client_id=id,client_secret=secret,redirect_uri=uri)\n",
    "\n",
    "#Creating empty lists\n",
    ">> artists=[]\n",
    ">>> tracks=[]\n",
    ">>> track_ids=[]\n",
    ">>> popularity=[]\n",
    "\n",
    "#Searching the year with query '2014'\n",
    ">>> track_results_2014=sp.search(q='year:2014', type='track',limit=50, offset=50)\n",
    "\n",
    "#Looping through the search result varaible and adding to our empty lists\n",
    ">>> for i, t in enumerate(track_results_2014['tracks']['items']):\n",
    "\tartists.append(t['artists'][0]['name'])\n",
    "\ttracks.append(t['name'])\n",
    "\ttrack_ids.append(t['id'])\n",
    "\tpopularity.append(t['popularity'])\n",
    "\n",
    "  \n",
    "#Creating a data set with our lists \n",
    ">>> df_2014=pd.DataFrame({'Artist':artists,'Track Name':tracks,'Track Id':track_ids,'Popularity':popularity})\n",
    ">>> df_2014.head()\n",
    "                Artist  ... Popularity\n",
    "0        Bobby Shmurda  ...         71\n",
    "1         Taylor Swift  ...         67\n",
    "2        Ariana Grande  ...         75\n",
    "3  5 Seconds of Summer  ...         67\n",
    "4         Andy Grammer  ...         70\n",
    "\n",
    "[5 rows x 4 columns]\n",
    "\n",
    "#Creating new empty lists for our audio features \n",
    ">>> energy=[]\n",
    ">>> tempo=[]\n",
    ">>> danceability=[]\n",
    ">>> valence=[]\n",
    ">>> batch=df_2014['Track Id']\n",
    "\n",
    "#Getting the audio features \n",
    ">>> results_2015=sp.audio_features(batch)\n",
    "\n",
    "#Looping through the audio features and updating our list\n",
    ">>> for i,t in enumerate(results_2015):\n",
    "\tenergy.append(t['energy'])\n",
    "\ttempo.append(t['tempo'])\n",
    "\tdanceability.append(t['danceability'])\n",
    "\tvalence.append(t['valence'])\n",
    "\n",
    "#Adding the audio features lists to our existing data frame\n",
    ">>> df_2014=pd.DataFrame({'Artist':artists,'Track Name':tracks,'Track Id':track_ids,'Popularity':popularity, 'Energy':energy, 'Tempo':tempo, 'Danceability':danceability, 'Valence':valence})\n",
    ">>> df_2014.head()\n",
    "                Artist            Track Name  ... Danceability  Valence\n",
    "0        Bobby Shmurda             Hot N*gga  ...        0.794    0.180\n",
    "1         Taylor Swift          Shake It Off  ...        0.648    0.943\n",
    "2        Ariana Grande            Break Free  ...        0.687    0.284\n",
    "3  5 Seconds of Summer  She Looks So Perfect  ...        0.493    0.470\n",
    "4         Andy Grammer      Honey, I'm Good.  ...        0.752    0.595\n",
    "\n",
    "[5 rows x 8 columns]\n",
    "\n",
    "#Finally exporting dataframe as a csv file\n",
    ">>> df_2014.to_csv('ugh2014_2.csv')"
   ]
  },
  {
   "cell_type": "markdown",
   "metadata": {
    "colab_type": "text",
    "id": "0_7BzZO48NqE"
   },
   "source": [
    "The same process was repeated extensively for all the other years. As spotify only limits us to 50 songs at each search, we did the whole process twice to get top 100 songs from each year in two separate dataframes. Then, we used the concat function to merge the two dataframes and get one csv file of all the 100 song in each year. We did this for the year 2012 up to 2017. The code for all the years was not put in because it is exhaustive and repetitive. "
   ]
  },
  {
   "cell_type": "markdown",
   "metadata": {
    "colab_type": "text",
    "id": "rk3R5_XC-ChD"
   },
   "source": [
    "# **Data: Description**"
   ]
  },
  {
   "cell_type": "markdown",
   "metadata": {
    "colab_type": "text",
    "id": "PFg0igmB-JYi"
   },
   "source": [
    "We got our [depression data](https://healthdata.gov/dataset/adult-depression-lghc-indicator/resource/57174298-f044-4534-ad8c-d039bc6d4837#%7B%7D) set from the official healthdata.gov website. It was a csv file with depression rates from the year 2012 to 2017. The data was divided into many criterias like depression rates among different genders, various race and ethnicity groups, different age groups, income levels, or education levels. Since, our question doesn’t look into the divided strata inside the depression rates, we only focused on the total depression rate for each year. \n"
   ]
  },
  {
   "cell_type": "markdown",
   "metadata": {
    "colab_type": "text",
    "id": "szq-p6UG-UUU"
   },
   "source": [
    "Our **song data** came from the spotify api through web-scraping. We described the whole process above. The spotify data has song names, artists names, track-ID (which is the song code spotify uses to give us track analysis data), tempo, energy, and valence. Below is the description of each of these features taken from the official spotify api website. \n",
    "\n",
    "**Tempo: a float type variable, The overall estimated tempo of the section in beats per minute (BPM). In musical terminology, tempo is the speed or pace of a given piece and derives directly from the average beat duration.**\n",
    "\n",
    "**Danceability: type-float, Danceability describes how suitable a track is for dancing based on a combination of musical elements including tempo, rhythm stability, beat strength, and overall regularity. A value of 0.0 is least danceable and 1.**0 is most danceable. The distribution of values for this feature look like this: \n",
    "[danceability distribution](https://https://developer.spotify.com/assets/audio/danceability.png)\n",
    "\n",
    "**Energy: type- float variable, Energy is a measure from 0.0 to 1.0 and represents a perceptual measure of intensity and activity. Typically, energetic tracks feel fast, loud, and noisy. For example, death metal has high energy, while a Bach prelude scores low on the scale. Perceptual features contributing to this attribute include dynamic range, perceived loudness, timbre, onset rate, and general entropy. The distribution of values for this feature look like this:**[energy distribution](https://developer.spotify.com/assets/audio/energy.png) \n",
    "\n",
    "**Valence: type-float, A measure from 0.0 to 1.0 describing the musical positiveness conveyed by a track. Tracks with high valence sound more positive (e.g. happy, cheerful, euphoric), while tracks with low valence sound more negative (e.g. sad, depressed, angry). The distribution of values for this feature look like this:**[valence distribtuion](https://developer.spotify.com/assets/audio/valence.png)\n",
    "\n",
    "\n"
   ]
  },
  {
   "cell_type": "markdown",
   "metadata": {
    "colab_type": "text",
    "id": "DJz5PtrJoOwN"
   },
   "source": [
    "# **Data: Cleaning**"
   ]
  },
  {
   "cell_type": "markdown",
   "metadata": {
    "colab_type": "text",
    "id": "5-OMoZYIohZG"
   },
   "source": [
    "When cleaning **adult-depression-lghc-indicator-24.csv**, we first put all of the data into a dataframe. Then, we narrow our dataframe into a three column dataframe by dropping five columns: \"Strata\",\"Strata Name\", \"Weighted Frequency\",\"Lower 95% CL\" , \"Upper 95% CL\". \n",
    "\n",
    "* The reason we drop the \"Strata\",\"Strata Name\" is because that we do only care overall  percent of American who get depressed, but do not care about how they get depressed. \n",
    "* The reason we drop the \"Lower 95% CL\" , \"Upper 95% CL” is because that we do not need these two types of data to doing our data analysis. \n",
    "* The reason we drop the weighted frequency is because … \n",
    "\n",
    "\n",
    "\n"
   ]
  },
  {
   "cell_type": "markdown",
   "metadata": {
    "colab_type": "text",
    "id": "ibaonuu7bV74"
   },
   "source": [
    "\n",
    "When cleaning **music data from 2013 to 2018** (whose name is data2013.csv, data2014.csv, …, data2018.csv), we drop four column from the original dataframe:   'Unnamed: 0','Unnamed: 0.1','Track Id' , 'Artist' .\n",
    "* The reason we drop them is because these information is useless for us to analyze the data . \n",
    "\n",
    "But we maintain the column “Track Name” due to the reason that, once we have a name, we can track our numeric data more easily. \n",
    "\n"
   ]
  },
  {
   "cell_type": "markdown",
   "metadata": {
    "colab_type": "text",
    "id": "zTEXtF0xblCd"
   },
   "source": [
    "What's more, we rearrange all the column in our dataframes for better readability after gaining the cleaned data\n",
    "\n"
   ]
  },
  {
   "cell_type": "markdown",
   "metadata": {
    "colab_type": "text",
    "id": "T4vfFsKhb1TY"
   },
   "source": [
    "\n",
    "---\n",
    "\n",
    "\n",
    "We begin with reading the data of depression rate (adult-depression-lghc-indicator-24.csv). \n",
    "\n",
    "We named the origional dataframe that read from csv file as **df**\n"
   ]
  },
  {
   "cell_type": "code",
   "execution_count": 2,
   "metadata": {
    "colab": {
     "base_uri": "https://localhost:8080/",
     "height": 204
    },
    "colab_type": "code",
    "id": "FvYSVBbisiiL",
    "outputId": "293c8bd7-8722-4711-a3a7-be7cdec7c0ce"
   },
   "outputs": [
    {
     "data": {
      "text/html": [
       "<div>\n",
       "<style scoped>\n",
       "    .dataframe tbody tr th:only-of-type {\n",
       "        vertical-align: middle;\n",
       "    }\n",
       "\n",
       "    .dataframe tbody tr th {\n",
       "        vertical-align: top;\n",
       "    }\n",
       "\n",
       "    .dataframe thead th {\n",
       "        text-align: right;\n",
       "    }\n",
       "</style>\n",
       "<table border=\"1\" class=\"dataframe\">\n",
       "  <thead>\n",
       "    <tr style=\"text-align: right;\">\n",
       "      <th></th>\n",
       "      <th>Year</th>\n",
       "      <th>Strata</th>\n",
       "      <th>Strata Name</th>\n",
       "      <th>Frequency</th>\n",
       "      <th>Weighted Frequency</th>\n",
       "      <th>Percent</th>\n",
       "      <th>Lower 95% CL</th>\n",
       "      <th>Upper 95% CL</th>\n",
       "    </tr>\n",
       "  </thead>\n",
       "  <tbody>\n",
       "    <tr>\n",
       "      <th>0</th>\n",
       "      <td>2012</td>\n",
       "      <td>Total</td>\n",
       "      <td>Total</td>\n",
       "      <td>1920</td>\n",
       "      <td>NaN</td>\n",
       "      <td>11.74</td>\n",
       "      <td>11.11</td>\n",
       "      <td>12.37</td>\n",
       "    </tr>\n",
       "    <tr>\n",
       "      <th>1</th>\n",
       "      <td>2012</td>\n",
       "      <td>Sex</td>\n",
       "      <td>Male</td>\n",
       "      <td>561</td>\n",
       "      <td>1116664.0</td>\n",
       "      <td>8.12</td>\n",
       "      <td>7.32</td>\n",
       "      <td>8.92</td>\n",
       "    </tr>\n",
       "    <tr>\n",
       "      <th>2</th>\n",
       "      <td>2012</td>\n",
       "      <td>Sex</td>\n",
       "      <td>Female</td>\n",
       "      <td>1359</td>\n",
       "      <td>2163108.0</td>\n",
       "      <td>15.25</td>\n",
       "      <td>14.30</td>\n",
       "      <td>16.20</td>\n",
       "    </tr>\n",
       "    <tr>\n",
       "      <th>3</th>\n",
       "      <td>2012</td>\n",
       "      <td>Race-Ethnicity</td>\n",
       "      <td>White</td>\n",
       "      <td>1314</td>\n",
       "      <td>1806371.0</td>\n",
       "      <td>14.57</td>\n",
       "      <td>13.67</td>\n",
       "      <td>15.46</td>\n",
       "    </tr>\n",
       "    <tr>\n",
       "      <th>4</th>\n",
       "      <td>2012</td>\n",
       "      <td>Race-Ethnicity</td>\n",
       "      <td>Black</td>\n",
       "      <td>97</td>\n",
       "      <td>222022.0</td>\n",
       "      <td>13.54</td>\n",
       "      <td>10.44</td>\n",
       "      <td>16.65</td>\n",
       "    </tr>\n",
       "  </tbody>\n",
       "</table>\n",
       "</div>"
      ],
      "text/plain": [
       "   Year          Strata Strata Name  Frequency  Weighted Frequency  Percent  \\\n",
       "0  2012           Total       Total       1920                 NaN    11.74   \n",
       "1  2012             Sex        Male        561           1116664.0     8.12   \n",
       "2  2012             Sex      Female       1359           2163108.0    15.25   \n",
       "3  2012  Race-Ethnicity       White       1314           1806371.0    14.57   \n",
       "4  2012  Race-Ethnicity       Black         97            222022.0    13.54   \n",
       "\n",
       "   Lower 95% CL  Upper 95% CL  \n",
       "0         11.11         12.37  \n",
       "1          7.32          8.92  \n",
       "2         14.30         16.20  \n",
       "3         13.67         15.46  \n",
       "4         10.44         16.65  "
      ]
     },
     "execution_count": 2,
     "metadata": {},
     "output_type": "execute_result"
    }
   ],
   "source": [
    "#Reading in data for depression rates\n",
    "df = pd.read_csv(\"adult-depression-lghc-indicator-24.csv\")\n",
    "df.head()"
   ]
  },
  {
   "cell_type": "markdown",
   "metadata": {
    "colab_type": "text",
    "id": "JR2YU0wLV_wW"
   },
   "source": [
    "After printing the head of the dataframe, we find that there are five column that need to be drop: \n",
    "*  Strata\n",
    "*  Strata Name\n",
    "*  Weighted Frequency\n",
    "*  Lower 95% CL\n",
    "*  Upper 95% CL\n",
    "\n",
    "We named this new dataframe as **df1**\n",
    "\n"
   ]
  },
  {
   "cell_type": "code",
   "execution_count": 3,
   "metadata": {
    "colab": {
     "base_uri": "https://localhost:8080/",
     "height": 235
    },
    "colab_type": "code",
    "id": "99Ro-HHNfuDc",
    "outputId": "f327ca10-f4c9-4d2f-a902-6967e1781740"
   },
   "outputs": [
    {
     "data": {
      "text/html": [
       "<div>\n",
       "<style scoped>\n",
       "    .dataframe tbody tr th:only-of-type {\n",
       "        vertical-align: middle;\n",
       "    }\n",
       "\n",
       "    .dataframe tbody tr th {\n",
       "        vertical-align: top;\n",
       "    }\n",
       "\n",
       "    .dataframe thead th {\n",
       "        text-align: right;\n",
       "    }\n",
       "</style>\n",
       "<table border=\"1\" class=\"dataframe\">\n",
       "  <thead>\n",
       "    <tr style=\"text-align: right;\">\n",
       "      <th></th>\n",
       "      <th>Year</th>\n",
       "      <th>Frequency</th>\n",
       "      <th>Percent</th>\n",
       "    </tr>\n",
       "  </thead>\n",
       "  <tbody>\n",
       "    <tr>\n",
       "      <th>0</th>\n",
       "      <td>2012</td>\n",
       "      <td>1920</td>\n",
       "      <td>11.74</td>\n",
       "    </tr>\n",
       "    <tr>\n",
       "      <th>23</th>\n",
       "      <td>2013</td>\n",
       "      <td>1689</td>\n",
       "      <td>13.08</td>\n",
       "    </tr>\n",
       "    <tr>\n",
       "      <th>46</th>\n",
       "      <td>2014</td>\n",
       "      <td>1309</td>\n",
       "      <td>13.30</td>\n",
       "    </tr>\n",
       "    <tr>\n",
       "      <th>69</th>\n",
       "      <td>2015</td>\n",
       "      <td>1848</td>\n",
       "      <td>12.92</td>\n",
       "    </tr>\n",
       "    <tr>\n",
       "      <th>92</th>\n",
       "      <td>2016</td>\n",
       "      <td>1645</td>\n",
       "      <td>13.77</td>\n",
       "    </tr>\n",
       "    <tr>\n",
       "      <th>115</th>\n",
       "      <td>2017</td>\n",
       "      <td>1550</td>\n",
       "      <td>19.04</td>\n",
       "    </tr>\n",
       "  </tbody>\n",
       "</table>\n",
       "</div>"
      ],
      "text/plain": [
       "     Year  Frequency  Percent\n",
       "0    2012       1920    11.74\n",
       "23   2013       1689    13.08\n",
       "46   2014       1309    13.30\n",
       "69   2015       1848    12.92\n",
       "92   2016       1645    13.77\n",
       "115  2017       1550    19.04"
      ]
     },
     "execution_count": 3,
     "metadata": {},
     "output_type": "execute_result"
    }
   ],
   "source": [
    "#Creating smaller dataframe with just total values\n",
    "df1 = df.loc[df['Strata'] == \"Total\"]\n",
    "df1 = df1.drop(columns=[\"Strata\",\"Strata Name\", \"Weighted Frequency\",\"Lower 95% CL\" , \"Upper 95% CL\"])\n",
    "df1"
   ]
  },
  {
   "cell_type": "markdown",
   "metadata": {
    "colab_type": "text",
    "id": "JoXeTozhWPn7"
   },
   "source": [
    "Now, we have already got the df1 as the perfect dataframe on the depression rate.\n",
    "\n",
    "So we begin to read in the data from 2013-2018 about the popular music. We named each dataframe using the year that the data in.(data2013, data2014 ... data2018)\n",
    "\n",
    "Different from reading the depression rate file, we directly clean the data after reading data from each year to prevent the redundancy of code \n",
    "\n",
    "We have four columns that need to be dropped:\n",
    "* Unnamed: 0\n",
    "* Unnamed: 0.1\n",
    "* Track Id\n",
    "* Artist\n"
   ]
  },
  {
   "cell_type": "code",
   "execution_count": 4,
   "metadata": {
    "colab": {
     "base_uri": "https://localhost:8080/",
     "height": 204
    },
    "colab_type": "code",
    "id": "N9MGRABdtAlh",
    "outputId": "dd91da7e-7f9a-4dc1-becf-482c42eda4a1"
   },
   "outputs": [
    {
     "data": {
      "text/html": [
       "<div>\n",
       "<style scoped>\n",
       "    .dataframe tbody tr th:only-of-type {\n",
       "        vertical-align: middle;\n",
       "    }\n",
       "\n",
       "    .dataframe tbody tr th {\n",
       "        vertical-align: top;\n",
       "    }\n",
       "\n",
       "    .dataframe thead th {\n",
       "        text-align: right;\n",
       "    }\n",
       "</style>\n",
       "<table border=\"1\" class=\"dataframe\">\n",
       "  <thead>\n",
       "    <tr style=\"text-align: right;\">\n",
       "      <th></th>\n",
       "      <th>Track Name</th>\n",
       "      <th>Popularity</th>\n",
       "      <th>Danceability</th>\n",
       "      <th>Energy</th>\n",
       "      <th>Valence</th>\n",
       "      <th>Tempo</th>\n",
       "    </tr>\n",
       "  </thead>\n",
       "  <tbody>\n",
       "    <tr>\n",
       "      <th>0</th>\n",
       "      <td>All of Me</td>\n",
       "      <td>84</td>\n",
       "      <td>0.422</td>\n",
       "      <td>0.264</td>\n",
       "      <td>0.331</td>\n",
       "      <td>119.930</td>\n",
       "    </tr>\n",
       "    <tr>\n",
       "      <th>1</th>\n",
       "      <td>Play It Again</td>\n",
       "      <td>74</td>\n",
       "      <td>0.510</td>\n",
       "      <td>0.898</td>\n",
       "      <td>0.596</td>\n",
       "      <td>144.056</td>\n",
       "    </tr>\n",
       "    <tr>\n",
       "      <th>2</th>\n",
       "      <td>Wagon Wheel</td>\n",
       "      <td>75</td>\n",
       "      <td>0.529</td>\n",
       "      <td>0.663</td>\n",
       "      <td>0.592</td>\n",
       "      <td>148.102</td>\n",
       "    </tr>\n",
       "    <tr>\n",
       "      <th>3</th>\n",
       "      <td>Wake Me Up</td>\n",
       "      <td>83</td>\n",
       "      <td>0.518</td>\n",
       "      <td>0.784</td>\n",
       "      <td>0.588</td>\n",
       "      <td>124.102</td>\n",
       "    </tr>\n",
       "    <tr>\n",
       "      <th>4</th>\n",
       "      <td>3005</td>\n",
       "      <td>74</td>\n",
       "      <td>0.472</td>\n",
       "      <td>0.448</td>\n",
       "      <td>0.636</td>\n",
       "      <td>166.077</td>\n",
       "    </tr>\n",
       "  </tbody>\n",
       "</table>\n",
       "</div>"
      ],
      "text/plain": [
       "      Track Name  Popularity  Danceability  Energy  Valence    Tempo\n",
       "0      All of Me          84         0.422   0.264    0.331  119.930\n",
       "1  Play It Again          74         0.510   0.898    0.596  144.056\n",
       "2    Wagon Wheel          75         0.529   0.663    0.592  148.102\n",
       "3     Wake Me Up          83         0.518   0.784    0.588  124.102\n",
       "4           3005          74         0.472   0.448    0.636  166.077"
      ]
     },
     "execution_count": 4,
     "metadata": {},
     "output_type": "execute_result"
    }
   ],
   "source": [
    "#Reading in data for 2013\n",
    "df_2013=pd.read_csv('data2013.csv')\n",
    "\n",
    "#Getting Read of the columns we don't need\n",
    "df_2013=df_2013.drop(columns=['Unnamed: 0','Unnamed: 0.1','Track Id' , 'Artist'])\n",
    "df_2013 = df_2013[['Track Name' ,  'Popularity' ,'Danceability' , 'Energy' , 'Valence','Tempo' ]]\n",
    "df_2013.head()"
   ]
  },
  {
   "cell_type": "code",
   "execution_count": 5,
   "metadata": {
    "colab": {
     "base_uri": "https://localhost:8080/",
     "height": 204
    },
    "colab_type": "code",
    "id": "5oBP3Yc585Pc",
    "outputId": "82e8e058-52be-4107-aa66-e152b34943a0"
   },
   "outputs": [
    {
     "data": {
      "text/html": [
       "<div>\n",
       "<style scoped>\n",
       "    .dataframe tbody tr th:only-of-type {\n",
       "        vertical-align: middle;\n",
       "    }\n",
       "\n",
       "    .dataframe tbody tr th {\n",
       "        vertical-align: top;\n",
       "    }\n",
       "\n",
       "    .dataframe thead th {\n",
       "        text-align: right;\n",
       "    }\n",
       "</style>\n",
       "<table border=\"1\" class=\"dataframe\">\n",
       "  <thead>\n",
       "    <tr style=\"text-align: right;\">\n",
       "      <th></th>\n",
       "      <th>Track Name</th>\n",
       "      <th>Popularity</th>\n",
       "      <th>Danceability</th>\n",
       "      <th>Energy</th>\n",
       "      <th>Valence</th>\n",
       "      <th>Tempo</th>\n",
       "    </tr>\n",
       "  </thead>\n",
       "  <tbody>\n",
       "    <tr>\n",
       "      <th>0</th>\n",
       "      <td>No Role Modelz</td>\n",
       "      <td>82</td>\n",
       "      <td>0.696</td>\n",
       "      <td>0.521</td>\n",
       "      <td>0.458</td>\n",
       "      <td>100.000</td>\n",
       "    </tr>\n",
       "    <tr>\n",
       "      <th>1</th>\n",
       "      <td>Wet Dreamz</td>\n",
       "      <td>78</td>\n",
       "      <td>0.504</td>\n",
       "      <td>0.705</td>\n",
       "      <td>0.584</td>\n",
       "      <td>175.483</td>\n",
       "    </tr>\n",
       "    <tr>\n",
       "      <th>2</th>\n",
       "      <td>Riptide</td>\n",
       "      <td>77</td>\n",
       "      <td>0.484</td>\n",
       "      <td>0.731</td>\n",
       "      <td>0.510</td>\n",
       "      <td>101.654</td>\n",
       "    </tr>\n",
       "    <tr>\n",
       "      <th>3</th>\n",
       "      <td>Stay With Me</td>\n",
       "      <td>83</td>\n",
       "      <td>0.418</td>\n",
       "      <td>0.420</td>\n",
       "      <td>0.184</td>\n",
       "      <td>84.094</td>\n",
       "    </tr>\n",
       "    <tr>\n",
       "      <th>4</th>\n",
       "      <td>Take Me to Church</td>\n",
       "      <td>75</td>\n",
       "      <td>0.566</td>\n",
       "      <td>0.664</td>\n",
       "      <td>0.437</td>\n",
       "      <td>128.945</td>\n",
       "    </tr>\n",
       "  </tbody>\n",
       "</table>\n",
       "</div>"
      ],
      "text/plain": [
       "          Track Name  Popularity  Danceability  Energy  Valence    Tempo\n",
       "0     No Role Modelz          82         0.696   0.521    0.458  100.000\n",
       "1         Wet Dreamz          78         0.504   0.705    0.584  175.483\n",
       "2            Riptide          77         0.484   0.731    0.510  101.654\n",
       "3       Stay With Me          83         0.418   0.420    0.184   84.094\n",
       "4  Take Me to Church          75         0.566   0.664    0.437  128.945"
      ]
     },
     "execution_count": 5,
     "metadata": {},
     "output_type": "execute_result"
    }
   ],
   "source": [
    "#Reading in data for 2014\n",
    "df_2014=pd.read_csv('data2014.csv')\n",
    "\n",
    "#Getting Read of the columns we don't need\n",
    "df_2014=df_2014.drop(columns=['Unnamed: 0','Unnamed: 0.1','Track Id' , 'Artist'])\n",
    "df_2014 = df_2014[['Track Name' ,  'Popularity' ,'Danceability' , 'Energy' , 'Valence','Tempo' ]]\n",
    "df_2014.head()"
   ]
  },
  {
   "cell_type": "code",
   "execution_count": 6,
   "metadata": {
    "colab": {
     "base_uri": "https://localhost:8080/",
     "height": 204
    },
    "colab_type": "code",
    "id": "yE7IT8OYsuoL",
    "outputId": "7492dc34-cfce-43f6-c3a0-7cdff415951b"
   },
   "outputs": [
    {
     "data": {
      "text/html": [
       "<div>\n",
       "<style scoped>\n",
       "    .dataframe tbody tr th:only-of-type {\n",
       "        vertical-align: middle;\n",
       "    }\n",
       "\n",
       "    .dataframe tbody tr th {\n",
       "        vertical-align: top;\n",
       "    }\n",
       "\n",
       "    .dataframe thead th {\n",
       "        text-align: right;\n",
       "    }\n",
       "</style>\n",
       "<table border=\"1\" class=\"dataframe\">\n",
       "  <thead>\n",
       "    <tr style=\"text-align: right;\">\n",
       "      <th></th>\n",
       "      <th>Track Name</th>\n",
       "      <th>Popularity</th>\n",
       "      <th>Danceability</th>\n",
       "      <th>Energy</th>\n",
       "      <th>Valence</th>\n",
       "      <th>Tempo</th>\n",
       "    </tr>\n",
       "  </thead>\n",
       "  <tbody>\n",
       "    <tr>\n",
       "      <th>0</th>\n",
       "      <td>The Less I Know The Better</td>\n",
       "      <td>82</td>\n",
       "      <td>0.640</td>\n",
       "      <td>0.74000</td>\n",
       "      <td>0.785</td>\n",
       "      <td>116.879</td>\n",
       "    </tr>\n",
       "    <tr>\n",
       "      <th>1</th>\n",
       "      <td>Exchange</td>\n",
       "      <td>78</td>\n",
       "      <td>0.530</td>\n",
       "      <td>0.43300</td>\n",
       "      <td>0.274</td>\n",
       "      <td>160.140</td>\n",
       "    </tr>\n",
       "    <tr>\n",
       "      <th>2</th>\n",
       "      <td>Brown Noise - Loopable with No Fade</td>\n",
       "      <td>76</td>\n",
       "      <td>0.000</td>\n",
       "      <td>0.00002</td>\n",
       "      <td>0.000</td>\n",
       "      <td>0.000</td>\n",
       "    </tr>\n",
       "    <tr>\n",
       "      <th>3</th>\n",
       "      <td>Die A Happy Man</td>\n",
       "      <td>75</td>\n",
       "      <td>0.660</td>\n",
       "      <td>0.38300</td>\n",
       "      <td>0.381</td>\n",
       "      <td>83.096</td>\n",
       "    </tr>\n",
       "    <tr>\n",
       "      <th>4</th>\n",
       "      <td>Tennessee Whiskey</td>\n",
       "      <td>76</td>\n",
       "      <td>0.392</td>\n",
       "      <td>0.37000</td>\n",
       "      <td>0.512</td>\n",
       "      <td>48.718</td>\n",
       "    </tr>\n",
       "  </tbody>\n",
       "</table>\n",
       "</div>"
      ],
      "text/plain": [
       "                            Track Name  Popularity  Danceability   Energy  \\\n",
       "0           The Less I Know The Better          82         0.640  0.74000   \n",
       "1                             Exchange          78         0.530  0.43300   \n",
       "2  Brown Noise - Loopable with No Fade          76         0.000  0.00002   \n",
       "3                      Die A Happy Man          75         0.660  0.38300   \n",
       "4                    Tennessee Whiskey          76         0.392  0.37000   \n",
       "\n",
       "   Valence    Tempo  \n",
       "0    0.785  116.879  \n",
       "1    0.274  160.140  \n",
       "2    0.000    0.000  \n",
       "3    0.381   83.096  \n",
       "4    0.512   48.718  "
      ]
     },
     "execution_count": 6,
     "metadata": {},
     "output_type": "execute_result"
    }
   ],
   "source": [
    "#Reading in data for 2015\n",
    "df_2015=pd.read_csv('data2015.csv')\n",
    "\n",
    "#Getting Read of the columns we don't need\n",
    "df_2015=df_2015.drop(columns=['Unnamed: 0','Unnamed: 0.1','Track Id' , 'Artist'])\n",
    "df_2015 = df_2015[['Track Name' ,  'Popularity' ,'Danceability' , 'Energy' , 'Valence','Tempo' ]]\n",
    "df_2015.head()"
   ]
  },
  {
   "cell_type": "code",
   "execution_count": 7,
   "metadata": {
    "colab": {
     "base_uri": "https://localhost:8080/",
     "height": 204
    },
    "colab_type": "code",
    "id": "1QM2pUMes6nI",
    "outputId": "b8181fe7-ee97-466a-d1ac-9ee6e8eed472"
   },
   "outputs": [
    {
     "data": {
      "text/html": [
       "<div>\n",
       "<style scoped>\n",
       "    .dataframe tbody tr th:only-of-type {\n",
       "        vertical-align: middle;\n",
       "    }\n",
       "\n",
       "    .dataframe tbody tr th {\n",
       "        vertical-align: top;\n",
       "    }\n",
       "\n",
       "    .dataframe thead th {\n",
       "        text-align: right;\n",
       "    }\n",
       "</style>\n",
       "<table border=\"1\" class=\"dataframe\">\n",
       "  <thead>\n",
       "    <tr style=\"text-align: right;\">\n",
       "      <th></th>\n",
       "      <th>Track Name</th>\n",
       "      <th>Popularity</th>\n",
       "      <th>Danceability</th>\n",
       "      <th>Energy</th>\n",
       "      <th>Valence</th>\n",
       "      <th>Tempo</th>\n",
       "    </tr>\n",
       "  </thead>\n",
       "  <tbody>\n",
       "    <tr>\n",
       "      <th>0</th>\n",
       "      <td>I Fall Apart</td>\n",
       "      <td>85</td>\n",
       "      <td>0.556</td>\n",
       "      <td>0.538</td>\n",
       "      <td>0.291</td>\n",
       "      <td>143.950</td>\n",
       "    </tr>\n",
       "    <tr>\n",
       "      <th>1</th>\n",
       "      <td>Congratulations</td>\n",
       "      <td>85</td>\n",
       "      <td>0.630</td>\n",
       "      <td>0.804</td>\n",
       "      <td>0.492</td>\n",
       "      <td>123.146</td>\n",
       "    </tr>\n",
       "    <tr>\n",
       "      <th>2</th>\n",
       "      <td>goosebumps</td>\n",
       "      <td>83</td>\n",
       "      <td>0.841</td>\n",
       "      <td>0.728</td>\n",
       "      <td>0.430</td>\n",
       "      <td>130.049</td>\n",
       "    </tr>\n",
       "    <tr>\n",
       "      <th>3</th>\n",
       "      <td>Closer</td>\n",
       "      <td>84</td>\n",
       "      <td>0.748</td>\n",
       "      <td>0.524</td>\n",
       "      <td>0.661</td>\n",
       "      <td>95.010</td>\n",
       "    </tr>\n",
       "    <tr>\n",
       "      <th>4</th>\n",
       "      <td>What Ifs</td>\n",
       "      <td>77</td>\n",
       "      <td>0.612</td>\n",
       "      <td>0.799</td>\n",
       "      <td>0.687</td>\n",
       "      <td>125.976</td>\n",
       "    </tr>\n",
       "  </tbody>\n",
       "</table>\n",
       "</div>"
      ],
      "text/plain": [
       "        Track Name  Popularity  Danceability  Energy  Valence    Tempo\n",
       "0     I Fall Apart          85         0.556   0.538    0.291  143.950\n",
       "1  Congratulations          85         0.630   0.804    0.492  123.146\n",
       "2       goosebumps          83         0.841   0.728    0.430  130.049\n",
       "3           Closer          84         0.748   0.524    0.661   95.010\n",
       "4         What Ifs          77         0.612   0.799    0.687  125.976"
      ]
     },
     "execution_count": 7,
     "metadata": {},
     "output_type": "execute_result"
    }
   ],
   "source": [
    "#Reading in data for 2016\n",
    "df_2016=pd.read_csv('data2016.csv')\n",
    "df_2016.columns\n",
    "\n",
    "#Getting Read of the columns we don't need\n",
    "df_2016=df_2016.drop(columns=['Unnamed: 0','Unnamed: 0.1','Track Id' , 'Artist'])\n",
    "df_2016 = df_2016[['Track Name' ,  'Popularity' ,'Danceability' , 'Energy' , 'Valence','Tempo' ]]\n",
    "df_2016.head()"
   ]
  },
  {
   "cell_type": "code",
   "execution_count": 8,
   "metadata": {
    "colab": {
     "base_uri": "https://localhost:8080/",
     "height": 204
    },
    "colab_type": "code",
    "id": "JL05vqIksutG",
    "outputId": "fcba8af2-30f0-42f8-ca69-d4eb699c2555"
   },
   "outputs": [
    {
     "data": {
      "text/html": [
       "<div>\n",
       "<style scoped>\n",
       "    .dataframe tbody tr th:only-of-type {\n",
       "        vertical-align: middle;\n",
       "    }\n",
       "\n",
       "    .dataframe tbody tr th {\n",
       "        vertical-align: top;\n",
       "    }\n",
       "\n",
       "    .dataframe thead th {\n",
       "        text-align: right;\n",
       "    }\n",
       "</style>\n",
       "<table border=\"1\" class=\"dataframe\">\n",
       "  <thead>\n",
       "    <tr style=\"text-align: right;\">\n",
       "      <th></th>\n",
       "      <th>Track Name</th>\n",
       "      <th>Popularity</th>\n",
       "      <th>Danceability</th>\n",
       "      <th>Energy</th>\n",
       "      <th>Valence</th>\n",
       "      <th>Tempo</th>\n",
       "    </tr>\n",
       "  </thead>\n",
       "  <tbody>\n",
       "    <tr>\n",
       "      <th>0</th>\n",
       "      <td>Jocelyn Flores</td>\n",
       "      <td>86</td>\n",
       "      <td>0.872</td>\n",
       "      <td>0.391</td>\n",
       "      <td>0.437</td>\n",
       "      <td>134.021</td>\n",
       "    </tr>\n",
       "    <tr>\n",
       "      <th>1</th>\n",
       "      <td>idontwannabeyouanymore</td>\n",
       "      <td>86</td>\n",
       "      <td>0.483</td>\n",
       "      <td>0.412</td>\n",
       "      <td>0.247</td>\n",
       "      <td>170.163</td>\n",
       "    </tr>\n",
       "    <tr>\n",
       "      <th>2</th>\n",
       "      <td>Ric Flair Drip (&amp; Metro Boomin)</td>\n",
       "      <td>83</td>\n",
       "      <td>0.880</td>\n",
       "      <td>0.428</td>\n",
       "      <td>0.333</td>\n",
       "      <td>100.007</td>\n",
       "    </tr>\n",
       "    <tr>\n",
       "      <th>3</th>\n",
       "      <td>Fuck Love (feat. Trippie Redd)</td>\n",
       "      <td>84</td>\n",
       "      <td>0.797</td>\n",
       "      <td>0.533</td>\n",
       "      <td>0.329</td>\n",
       "      <td>131.036</td>\n",
       "    </tr>\n",
       "    <tr>\n",
       "      <th>4</th>\n",
       "      <td>Young Dumb &amp; Broke</td>\n",
       "      <td>84</td>\n",
       "      <td>0.798</td>\n",
       "      <td>0.539</td>\n",
       "      <td>0.394</td>\n",
       "      <td>136.949</td>\n",
       "    </tr>\n",
       "  </tbody>\n",
       "</table>\n",
       "</div>"
      ],
      "text/plain": [
       "                        Track Name  Popularity  Danceability  Energy  Valence  \\\n",
       "0                   Jocelyn Flores          86         0.872   0.391    0.437   \n",
       "1           idontwannabeyouanymore          86         0.483   0.412    0.247   \n",
       "2  Ric Flair Drip (& Metro Boomin)          83         0.880   0.428    0.333   \n",
       "3   Fuck Love (feat. Trippie Redd)          84         0.797   0.533    0.329   \n",
       "4               Young Dumb & Broke          84         0.798   0.539    0.394   \n",
       "\n",
       "     Tempo  \n",
       "0  134.021  \n",
       "1  170.163  \n",
       "2  100.007  \n",
       "3  131.036  \n",
       "4  136.949  "
      ]
     },
     "execution_count": 8,
     "metadata": {},
     "output_type": "execute_result"
    }
   ],
   "source": [
    "#Reading in data for 2017\n",
    "df_2017=pd.read_csv('data2017.csv')\n",
    "\n",
    "#Getting Read of the columns we don't need\n",
    "df_2017=df_2017.drop(columns=['Unnamed: 0','Unnamed: 0.1','Track Id' , 'Artist'])\n",
    "df_2017 = df_2017[['Track Name' ,  'Popularity' ,'Danceability' , 'Energy' , 'Valence','Tempo' ]]\n",
    "df_2017.head()"
   ]
  },
  {
   "cell_type": "code",
   "execution_count": 9,
   "metadata": {
    "colab": {
     "base_uri": "https://localhost:8080/",
     "height": 204
    },
    "colab_type": "code",
    "id": "vIDQEGZftFV4",
    "outputId": "c5c4c142-9e6d-462c-b20a-5fa6c3a550fb"
   },
   "outputs": [
    {
     "data": {
      "text/html": [
       "<div>\n",
       "<style scoped>\n",
       "    .dataframe tbody tr th:only-of-type {\n",
       "        vertical-align: middle;\n",
       "    }\n",
       "\n",
       "    .dataframe tbody tr th {\n",
       "        vertical-align: top;\n",
       "    }\n",
       "\n",
       "    .dataframe thead th {\n",
       "        text-align: right;\n",
       "    }\n",
       "</style>\n",
       "<table border=\"1\" class=\"dataframe\">\n",
       "  <thead>\n",
       "    <tr style=\"text-align: right;\">\n",
       "      <th></th>\n",
       "      <th>Track Name</th>\n",
       "      <th>Popularity</th>\n",
       "      <th>Danceability</th>\n",
       "      <th>Energy</th>\n",
       "      <th>Valence</th>\n",
       "      <th>Tempo</th>\n",
       "    </tr>\n",
       "  </thead>\n",
       "  <tbody>\n",
       "    <tr>\n",
       "      <th>0</th>\n",
       "      <td>Sunflower - Spider-Man: Into the Spider-Verse</td>\n",
       "      <td>95</td>\n",
       "      <td>0.760</td>\n",
       "      <td>0.479</td>\n",
       "      <td>0.913</td>\n",
       "      <td>89.911</td>\n",
       "    </tr>\n",
       "    <tr>\n",
       "      <th>1</th>\n",
       "      <td>Swervin (feat. 6ix9ine)</td>\n",
       "      <td>92</td>\n",
       "      <td>0.581</td>\n",
       "      <td>0.662</td>\n",
       "      <td>0.434</td>\n",
       "      <td>93.023</td>\n",
       "    </tr>\n",
       "    <tr>\n",
       "      <th>2</th>\n",
       "      <td>Wow.</td>\n",
       "      <td>94</td>\n",
       "      <td>0.833</td>\n",
       "      <td>0.539</td>\n",
       "      <td>0.385</td>\n",
       "      <td>99.947</td>\n",
       "    </tr>\n",
       "    <tr>\n",
       "      <th>3</th>\n",
       "      <td>Going Bad (feat. Drake)</td>\n",
       "      <td>90</td>\n",
       "      <td>0.889</td>\n",
       "      <td>0.496</td>\n",
       "      <td>0.544</td>\n",
       "      <td>86.003</td>\n",
       "    </tr>\n",
       "    <tr>\n",
       "      <th>4</th>\n",
       "      <td>Murder On My Mind</td>\n",
       "      <td>90</td>\n",
       "      <td>0.759</td>\n",
       "      <td>0.730</td>\n",
       "      <td>0.740</td>\n",
       "      <td>115.007</td>\n",
       "    </tr>\n",
       "  </tbody>\n",
       "</table>\n",
       "</div>"
      ],
      "text/plain": [
       "                                      Track Name  Popularity  Danceability  \\\n",
       "0  Sunflower - Spider-Man: Into the Spider-Verse          95         0.760   \n",
       "1                        Swervin (feat. 6ix9ine)          92         0.581   \n",
       "2                                           Wow.          94         0.833   \n",
       "3                        Going Bad (feat. Drake)          90         0.889   \n",
       "4                              Murder On My Mind          90         0.759   \n",
       "\n",
       "   Energy  Valence    Tempo  \n",
       "0   0.479    0.913   89.911  \n",
       "1   0.662    0.434   93.023  \n",
       "2   0.539    0.385   99.947  \n",
       "3   0.496    0.544   86.003  \n",
       "4   0.730    0.740  115.007  "
      ]
     },
     "execution_count": 9,
     "metadata": {},
     "output_type": "execute_result"
    }
   ],
   "source": [
    "#Reading in data for 2018\n",
    "df_2018=pd.read_csv('data2018.csv')\n",
    "\n",
    "#Getting Read of the columns we don't need\n",
    "df_2018=df_2018.drop(columns=['Unnamed: 0','Unnamed: 0.1','Track Id' , 'Artist'])\n",
    "df_2018 = df_2018[['Track Name' ,  'Popularity' ,'Danceability' , 'Energy' , 'Valence','Tempo' ]]\n",
    "df_2018.head()"
   ]
  },
  {
   "cell_type": "markdown",
   "metadata": {
    "colab_type": "text",
    "id": "1pahNcg0WheG"
   },
   "source": [
    "Now, we have clean all of our data successfully. \n"
   ]
  },
  {
   "cell_type": "markdown",
   "metadata": {
    "colab_type": "text",
    "id": "1QJWpTD7Zmui"
   },
   "source": [
    "# Data: Visualizations"
   ]
  },
  {
   "cell_type": "markdown",
   "metadata": {
    "colab_type": "text",
    "id": "wOJavkBcZmui"
   },
   "source": [
    "Now, all the data has been settled down. We begin to doing data visualizaton to understand the relationship between our two variables: the characteristic of popular music and the depression rate\n",
    "\n",
    "We plot several different kinds of plots and partition them into four parts.\n",
    "\n",
    "Firstly, we want to get the general sense about our data. Thus, we just explore our existed data in depth by ploting the following plot:\n",
    "* Part One: The change of depression rate between male and female in 2013-2018\n",
    "* Part Two: The trend of change in music in 2013-2018\n",
    "\n",
    "Then, in Part Three and Four, we begin to find the relationship between music and depression rate by ploting the average of them and see whether there is any relationship. \n",
    "\n",
    "\n",
    "---\n",
    "\n"
   ]
  },
  {
   "cell_type": "markdown",
   "metadata": {
    "colab_type": "text",
    "id": "V8K1JTL3p-wg"
   },
   "source": [
    "## Part One: Change of Depression Rate in 2013-2018"
   ]
  },
  {
   "cell_type": "markdown",
   "metadata": {
    "colab_type": "text",
    "id": "Z9-dUoLYXTtL"
   },
   "source": [
    "We first create a bar plot to see the change of depression rate between 2013-2017. "
   ]
  },
  {
   "cell_type": "code",
   "execution_count": 10,
   "metadata": {
    "colab": {
     "base_uri": "https://localhost:8080/",
     "height": 575
    },
    "colab_type": "code",
    "id": "N7_NyWntZmuj",
    "outputId": "2e4ff80c-8bd5-48c3-e1d0-7125481f0980"
   },
   "outputs": [
    {
     "data": {
      "image/png": "[encoded data removed]",
      "text/plain": [
       "<Figure size 640x640 with 1 Axes>"
      ]
     },
     "metadata": {},
     "output_type": "display_data"
    }
   ],
   "source": [
    "#Bar plot for the depression rates over the years \n",
    "depression_rate_list=[]\n",
    "\n",
    "#Years which will be our x axis\n",
    "years=[2012,2013,2014,2015,2016,2017]\n",
    "\n",
    "#Getting the depression rates to list\n",
    "depression_rate_list=df1['Percent'].tolist()\n",
    "\n",
    "#Increasing our figure size\n",
    "figure(num=None, figsize=(8, 8), dpi=80, facecolor='w', edgecolor='k')\n",
    "\n",
    "#Adding labels\n",
    "plt.ylabel('Depression Rates',fontsize=14) \n",
    "plt.xlabel('Years',fontsize=14)\n",
    "plt.title('Depression Rates over 2013-2018',fontsize=18)\n",
    "\n",
    "#Plots of male and female depression rates in a stacked bar plot\n",
    "p2=plt.bar(years ,depression_rate_list,align='center', alpha = 0.25)\n",
    "plt.show()"
   ]
  },
  {
   "cell_type": "markdown",
   "metadata": {
    "colab_type": "text",
    "id": "s3oTuNOoEGCS"
   },
   "source": [
    "From the histogram above, we can find the depression rate in California is \n",
    "* slightly increase from 2012 to 2014\n",
    "* goes down a little from 2014 to 2015\n",
    "* goes up extremely from 2016 to 2017"
   ]
  },
  {
   "cell_type": "markdown",
   "metadata": {
    "colab_type": "text",
    "id": "TFpRHdSUpujp"
   },
   "source": [
    "## Part Two: Trend of Change in Music in 2013-2018"
   ]
  },
  {
   "cell_type": "markdown",
   "metadata": {
    "colab_type": "text",
    "id": "svc67WWsVmD_"
   },
   "source": [
    "We first sort each characteristic of music in every year seperately, and then try to plot them in one graph to compare them. In this way, we can know more about our music data"
   ]
  },
  {
   "cell_type": "markdown",
   "metadata": {
    "colab_type": "text",
    "id": "iF34adH4TQwk"
   },
   "source": [
    "### The Valence of Top 100 Songs in Every Year"
   ]
  },
  {
   "cell_type": "code",
   "execution_count": 11,
   "metadata": {
    "colab": {
     "base_uri": "https://localhost:8080/",
     "height": 730
    },
    "colab_type": "code",
    "id": "7crLeA7qSWoZ",
    "outputId": "2733d036-f260-47ab-9dd8-ff6f7446efe1"
   },
   "outputs": [
    {
     "data": {
      "image/png": "[encoded data removed]",
      "text/plain": [
       "<Figure size 864x864 with 1 Axes>"
      ]
     },
     "metadata": {
      "needs_background": "light"
     },
     "output_type": "display_data"
    }
   ],
   "source": [
    "#We try to plot the valence of the top 100 songs in every year \n",
    "\n",
    "\n",
    "# --------------- set up x axis ------------#\n",
    "\n",
    "# x-axis is the index of song in every year(we sort it in order by the valence ) \n",
    "x = []\n",
    "for i in range(1,101):\n",
    "  x.append(i)\n",
    "\n",
    "# ------------- zoom in the plot ----------# \n",
    "\n",
    "figure(num=None , figsize = (12,12))\n",
    "\n",
    "  \n",
    "# ------------- doing 2013 ----------------#\n",
    "\n",
    "# y-axis is the valence of the song in 2013\n",
    "a1 = df_2013['Valence'].tolist()\n",
    "a1.sort()\n",
    "\n",
    "# start plotting \n",
    "plt.plot(x, a1, label = \"2013\") \n",
    "\n",
    "\n",
    "# ------------- doing 2014 ----------------#\n",
    "\n",
    "# y-axis is the valence of the song in 2014\n",
    "b = df_2014['Valence'].tolist()\n",
    "b.sort()\n",
    "\n",
    "# start plotting \n",
    "plt.plot(x, b , label = \"2014\") \n",
    "\n",
    "# ------------- doing 2015 ----------------#\n",
    "\n",
    "# y-axis is the valence of the song in 2015 \n",
    "c = df_2015['Valence'].tolist()\n",
    "c.sort()\n",
    "\n",
    "# start plotting \n",
    "plt.plot(x, c , label = \"2015\") \n",
    "\n",
    "# ------------- doing 2016 ----------------#\n",
    "\n",
    "# y-axis is the valence of the song in 2016 \n",
    "d = df_2016['Valence'].tolist()\n",
    "d.sort()\n",
    "\n",
    "# start plotting \n",
    "plt.plot(x, d , label = \"2016\") \n",
    "\n",
    "# ------------- doing 2017 ----------------#\n",
    "\n",
    "# y-axis is the valence of the song in 2017 \n",
    "e = df_2017['Valence'].tolist()\n",
    "e.sort()\n",
    "\n",
    "# start plotting \n",
    "plt.plot(x, e , label = \"2017\") \n",
    "\n",
    "# ------------- doing 2018 ----------------#\n",
    "\n",
    "# y-axis is the valence of the song in 2018 \n",
    "f = df_2018['Valence'].tolist()\n",
    "f.sort()\n",
    "plt.plot(x, f , label = \"2018\") \n",
    "\n",
    "\n",
    "\n",
    "# --------- show the plot ------------#\n",
    "\n",
    "plt.xlabel('Index of Song') \n",
    "plt.ylabel('Valence') \n",
    "plt.title('Change of Valence of popular song in the past years ') \n",
    "plt.legend() \n",
    "plt.show() \n",
    "\n",
    "  \n"
   ]
  },
  {
   "cell_type": "markdown",
   "metadata": {
    "colab_type": "text",
    "id": "nDWDlbOKTeX8"
   },
   "source": [
    "### The Tempo of Top 100 Songs in Every Year"
   ]
  },
  {
   "cell_type": "code",
   "execution_count": 12,
   "metadata": {
    "colab": {
     "base_uri": "https://localhost:8080/",
     "height": 730
    },
    "colab_type": "code",
    "id": "u7KjSwv7TfI1",
    "outputId": "d929c657-6277-49da-93a3-f9f5f0450111"
   },
   "outputs": [
    {
     "data": {
      "image/png": "[encoded data removed]",
      "text/plain": [
       "<Figure size 864x864 with 1 Axes>"
      ]
     },
     "metadata": {
      "needs_background": "light"
     },
     "output_type": "display_data"
    }
   ],
   "source": [
    "#We try to plot the tempo of the top 100 songs in every year \n",
    "\n",
    "\n",
    "# --------------- set up x axis ------------#\n",
    "\n",
    "# x-axis is the index of song in every year(we sort it in order by the valence ) \n",
    "x = []\n",
    "for i in range(1,101):\n",
    "  x.append(i)\n",
    "\n",
    "# ------------- zoom in the plot ----------# \n",
    "\n",
    "figure(num=None , figsize = (12,12))\n",
    "\n",
    "  \n",
    "# ------------- doing 2013 ----------------#\n",
    "\n",
    "# y-axis is the Tempo of the song in 2013\n",
    "a1 = df_2013['Tempo'].tolist()\n",
    "a1.sort()\n",
    "\n",
    "# start plotting \n",
    "plt.plot(x, a1, label = \"2013\") \n",
    "\n",
    "\n",
    "# ------------- doing 2014 ----------------#\n",
    "\n",
    "# y-axis is the Tempo of the song in 2014\n",
    "b = df_2014['Tempo'].tolist()\n",
    "b.sort()\n",
    "\n",
    "# start plotting \n",
    "plt.plot(x, b , label = \"2014\") \n",
    "\n",
    "# ------------- doing 2015 ----------------#\n",
    "\n",
    "# y-axis is the Tempo of the song in 2015 \n",
    "c = df_2015['Tempo'].tolist()\n",
    "c.sort()\n",
    "\n",
    "# start plotting \n",
    "plt.plot(x, c , label = \"2015\") \n",
    "\n",
    "# ------------- doing 2016 ----------------#\n",
    "\n",
    "# y-axis is the Tempo of the song in 2016 \n",
    "d = df_2016['Tempo'].tolist()\n",
    "d.sort()\n",
    "\n",
    "# start plotting \n",
    "plt.plot(x, d , label = \"2016\") \n",
    "\n",
    "# ------------- doing 2017 ----------------#\n",
    "\n",
    "# y-axis is the Tempo of the song in 2017 \n",
    "e = df_2017['Tempo'].tolist()\n",
    "e.sort()\n",
    "\n",
    "# start plotting \n",
    "plt.plot(x, e , label = \"2017\") \n",
    "\n",
    "# ------------- doing 2018 ----------------#\n",
    "\n",
    "# y-axis is the Tempo of the song in 2018 \n",
    "f = df_2018['Tempo'].tolist()\n",
    "f.sort()\n",
    "plt.plot(x, f , label = \"2018\") \n",
    "\n",
    "\n",
    "\n",
    "# --------- show the plot ------------#\n",
    "\n",
    "plt.xlabel('Index of Song') \n",
    "plt.ylabel('Tempo') \n",
    "plt.title('Change of Tempo of popular song in the past years ') \n",
    "plt.legend() \n",
    "plt.show() \n",
    "\n",
    "  \n"
   ]
  },
  {
   "cell_type": "markdown",
   "metadata": {
    "colab_type": "text",
    "id": "HAclrILVT3pf"
   },
   "source": [
    "### The Danceability of Top 100 Songs in Every Year"
   ]
  },
  {
   "cell_type": "code",
   "execution_count": 13,
   "metadata": {
    "colab": {
     "base_uri": "https://localhost:8080/",
     "height": 730
    },
    "colab_type": "code",
    "id": "MbKGh8LDT3fr",
    "outputId": "be6269b6-54e1-4dff-8fa3-b979b90870d2"
   },
   "outputs": [
    {
     "data": {
      "image/png": "[encoded data removed]",
      "text/plain": [
       "<Figure size 864x864 with 1 Axes>"
      ]
     },
     "metadata": {
      "needs_background": "light"
     },
     "output_type": "display_data"
    }
   ],
   "source": [
    "#We try to plot the Danceability of the top 100 songs in every year \n",
    "\n",
    "\n",
    "# --------------- set up x axis ------------#\n",
    "\n",
    "# x-axis is the index of song in every year(we sort it in order by the valence ) \n",
    "x = []\n",
    "for i in range(1,101):\n",
    "  x.append(i)\n",
    "\n",
    "# ------------- zoom in the plot ----------# \n",
    "\n",
    "figure(num=None , figsize = (12,12))\n",
    "\n",
    "  \n",
    "# ------------- doing 2013 ----------------#\n",
    "\n",
    "# y-axis is the Danceability of the song in 2013\n",
    "a1 = df_2013['Danceability'].tolist()\n",
    "a1.sort()\n",
    "\n",
    "# start plotting \n",
    "plt.plot(x, a1, label = \"2013\") \n",
    "\n",
    "\n",
    "# ------------- doing 2014 ----------------#\n",
    "\n",
    "# y-axis is the Danceability of the song in 2014\n",
    "b = df_2014['Danceability'].tolist()\n",
    "b.sort()\n",
    "\n",
    "# start plotting \n",
    "plt.plot(x, b , label = \"2014\") \n",
    "\n",
    "# ------------- doing 2015 ----------------#\n",
    "\n",
    "# y-axis is the Danceability of the song in 2015 \n",
    "c = df_2015['Danceability'].tolist()\n",
    "c.sort()\n",
    "\n",
    "# start plotting \n",
    "plt.plot(x, c , label = \"2015\") \n",
    "\n",
    "# ------------- doing 2016 ----------------#\n",
    "\n",
    "# y-axis is the Danceability of the song in 2016 \n",
    "d = df_2016['Danceability'].tolist()\n",
    "d.sort()\n",
    "\n",
    "# start plotting \n",
    "plt.plot(x, d , label = \"2016\") \n",
    "\n",
    "# ------------- doing 2017 ----------------#\n",
    "\n",
    "# y-axis is the Danceability of the song in 2017 \n",
    "e = df_2017['Danceability'].tolist()\n",
    "e.sort()\n",
    "\n",
    "# start plotting \n",
    "plt.plot(x, e , label = \"2017\") \n",
    "\n",
    "# ------------- doing 2018 ----------------#\n",
    "\n",
    "# y-axis is the Danceability of the song in 2018 \n",
    "f = df_2018['Danceability'].tolist()\n",
    "f.sort()\n",
    "plt.plot(x, f , label = \"2018\") \n",
    "\n",
    "\n",
    "\n",
    "# --------- show the plot ------------#\n",
    "\n",
    "plt.xlabel('Index of Song') \n",
    "plt.ylabel('Danceability') \n",
    "plt.title('Change of Danceability of popular song in the past years ') \n",
    "plt.legend() \n",
    "plt.show() \n",
    "\n",
    "  \n"
   ]
  },
  {
   "cell_type": "markdown",
   "metadata": {
    "colab_type": "text",
    "id": "cApRfQlcUKqo"
   },
   "source": [
    "### The Energy of Top 100 Songs in Every Year"
   ]
  },
  {
   "cell_type": "code",
   "execution_count": 14,
   "metadata": {
    "colab": {
     "base_uri": "https://localhost:8080/",
     "height": 730
    },
    "colab_type": "code",
    "id": "WpXjEO2kUK4t",
    "outputId": "a284dc80-6a6d-46e5-b9a4-5eb466f8c50a"
   },
   "outputs": [
    {
     "data": {
      "image/png": "[encoded data removed]",
      "text/plain": [
       "<Figure size 864x864 with 1 Axes>"
      ]
     },
     "metadata": {
      "needs_background": "light"
     },
     "output_type": "display_data"
    }
   ],
   "source": [
    "#We try to plot the Energy of the top 100 songs in every year \n",
    "\n",
    "\n",
    "# --------------- set up x axis ------------#\n",
    "\n",
    "# x-axis is the index of song in every year(we sort it in order by the valence ) \n",
    "x = []\n",
    "for i in range(1,101):\n",
    "  x.append(i)\n",
    "\n",
    "# ------------- zoom in the plot ----------# \n",
    "\n",
    "figure(num=None , figsize = (12,12))\n",
    "\n",
    "  \n",
    "# ------------- doing 2013 ----------------#\n",
    "\n",
    "# y-axis is the Energy of the song in 2013\n",
    "a1 = df_2013['Energy'].tolist()\n",
    "a1.sort()\n",
    "\n",
    "# start plotting \n",
    "plt.plot(x, a1, label = \"2013\") \n",
    "\n",
    "\n",
    "# ------------- doing 2014 ----------------#\n",
    "\n",
    "# y-axis is the Energy of the song in 2014\n",
    "b = df_2014['Energy'].tolist()\n",
    "b.sort()\n",
    "\n",
    "# start plotting \n",
    "plt.plot(x, b , label = \"2014\") \n",
    "\n",
    "# ------------- doing 2015 ----------------#\n",
    "\n",
    "# y-axis is the Energy of the song in 2015 \n",
    "c = df_2015['Energy'].tolist()\n",
    "c.sort()\n",
    "\n",
    "# start plotting \n",
    "plt.plot(x, c , label = \"2015\") \n",
    "\n",
    "# ------------- doing 2016 ----------------#\n",
    "\n",
    "# y-axis is the Energy of the song in 2016 \n",
    "d = df_2016['Energy'].tolist()\n",
    "d.sort()\n",
    "\n",
    "# start plotting \n",
    "plt.plot(x, d , label = \"2016\") \n",
    "\n",
    "# ------------- doing 2017 ----------------#\n",
    "\n",
    "# y-axis is the Energy of the song in 2017 \n",
    "e = df_2017['Energy'].tolist()\n",
    "e.sort()\n",
    "\n",
    "# start plotting \n",
    "plt.plot(x, e , label = \"2017\") \n",
    "\n",
    "# ------------- doing 2018 ----------------#\n",
    "\n",
    "# y-axis is the Energy of the song in 2018 \n",
    "f = df_2018['Energy'].tolist()\n",
    "f.sort()\n",
    "plt.plot(x, f , label = \"2018\") \n",
    "\n",
    "\n",
    "\n",
    "# --------- show the plot ------------#\n",
    "\n",
    "plt.xlabel('Index of Song') \n",
    "plt.ylabel('Energy') \n",
    "plt.title('Change of Energy of popular song in the past years ') \n",
    "plt.legend() \n",
    "plt.show() \n",
    "\n",
    "  \n"
   ]
  },
  {
   "cell_type": "markdown",
   "metadata": {
    "colab_type": "text",
    "id": "m6DtpC6jWM5S"
   },
   "source": [
    "### General Conclusion\n",
    "\n",
    "From the four plot above, we can concludes that, from a general looking\n",
    "\n",
    "* Valence is greatest in 2013 and smallest in 2015\n",
    "* The plot of Tempo is somewhat dense and complex\n",
    "* Danceability plot is really clear to see the difference between years: 2018 and 2017 is the greatest two year, while 2013 is the smallest\n",
    "* Energy is kind of clear as well, the 2013, 2014, 2015 is the greatest three year, but the 2016, 2017, 2018 is relatively small\n"
   ]
  },
  {
   "cell_type": "markdown",
   "metadata": {
    "colab_type": "text",
    "id": "HJwVEsF3UsF4"
   },
   "source": [
    "## Part Three: Finding the Relation between Songs and Depression Rate"
   ]
  },
  {
   "cell_type": "markdown",
   "metadata": {
    "colab_type": "text",
    "id": "o3hxaNjPm1GQ"
   },
   "source": [
    "Now we integrate the data of music and depression rate together to form a new dataframe(**df4**). This dataframe include the following information \n",
    "\n",
    "* the depression_rate in each year\n",
    "* the mean of the music's valence / danceability / enegry / tempo in each year (calculated above)\n"
   ]
  },
  {
   "cell_type": "markdown",
   "metadata": {
    "colab_type": "text",
    "id": "eu1i5bIfn0XJ"
   },
   "source": [
    "We first try to calculate the \"list of mean value\" that used to form the new dataframe, it include the mean value of the following data \n",
    "\n",
    "  *   valence\n",
    "  *   danceability\n",
    "  *   energy\n",
    "  *  tempo"
   ]
  },
  {
   "cell_type": "code",
   "execution_count": 15,
   "metadata": {
    "colab": {
     "base_uri": "https://localhost:8080/",
     "height": 85
    },
    "colab_type": "code",
    "id": "i8S-0t_pn_ib",
    "outputId": "be1d4cd6-8c59-4011-dc9d-2044cdf18b3b"
   },
   "outputs": [
    {
     "name": "stdout",
     "output_type": "stream",
     "text": [
      "[0.48210100000000006, 0.47144399999999997, 0.41156599999999999, 0.43679099999999998, 0.46046400000000004]\n",
      "[0.61293999999999993, 0.63692999999999989, 0.63743000000000005, 0.64446999999999988, 0.67929000000000017]\n",
      "[0.66362920299999995, 0.63178000000000001, 0.58759520099999996, 0.58316999999999997, 0.57788070100000011]\n",
      "[116.91646999999999, 126.24982, 119.59464, 119.58673999999999, 114.50700999999999]\n"
     ]
    }
   ],
   "source": [
    "#Getting the mean of valence in each year\n",
    "valence_list = [ df_2013['Valence'].mean(),df_2014['Valence'].mean(),df_2015['Valence'].mean(),df_2016['Valence'].mean(),df_2017['Valence'].mean()]\n",
    "print(valence_list)\n",
    "\n",
    "\n",
    "#Getting the mean of danceability in each years\n",
    "dance_list=[ df_2013['Danceability'].mean(),df_2014['Danceability'].mean(),df_2015['Danceability'].mean(),df_2016['Danceability'].mean(),df_2017['Danceability'].mean()]\n",
    "print(dance_list)\n",
    "\n",
    "\n",
    "#Getting the mean of energy in each years\n",
    "energy_list=[ df_2013['Energy'].mean(),df_2014['Energy'].mean(),df_2015['Energy'].mean(),df_2016['Energy'].mean(),df_2017['Energy'].mean()]\n",
    "print(energy_list)\n",
    "\n",
    "\n",
    "#Getting the mean of tempo in each years\n",
    "tempo_list=[ df_2013['Tempo'].mean(),df_2014['Tempo'].mean(),df_2015['Tempo'].mean(),df_2016['Tempo'].mean(),df_2017['Tempo'].mean()]\n",
    "print(tempo_list)\n"
   ]
  },
  {
   "cell_type": "markdown",
   "metadata": {
    "colab_type": "text",
    "id": "-1yGMIBXoT0A"
   },
   "source": [
    "Then we try to get the list of depression rate in each year"
   ]
  },
  {
   "cell_type": "code",
   "execution_count": 16,
   "metadata": {
    "colab": {
     "base_uri": "https://localhost:8080/",
     "height": 204
    },
    "colab_type": "code",
    "id": "woegma7H5l7E",
    "outputId": "e2f3824f-91b9-4019-9a37-6bcaec6f2d60",
    "scrolled": true
   },
   "outputs": [
    {
     "data": {
      "text/html": [
       "<div>\n",
       "<style scoped>\n",
       "    .dataframe tbody tr th:only-of-type {\n",
       "        vertical-align: middle;\n",
       "    }\n",
       "\n",
       "    .dataframe tbody tr th {\n",
       "        vertical-align: top;\n",
       "    }\n",
       "\n",
       "    .dataframe thead th {\n",
       "        text-align: right;\n",
       "    }\n",
       "</style>\n",
       "<table border=\"1\" class=\"dataframe\">\n",
       "  <thead>\n",
       "    <tr style=\"text-align: right;\">\n",
       "      <th></th>\n",
       "      <th>Year</th>\n",
       "      <th>Frequency</th>\n",
       "      <th>Percent</th>\n",
       "    </tr>\n",
       "  </thead>\n",
       "  <tbody>\n",
       "    <tr>\n",
       "      <th>0</th>\n",
       "      <td>2012</td>\n",
       "      <td>1920</td>\n",
       "      <td>11.74</td>\n",
       "    </tr>\n",
       "    <tr>\n",
       "      <th>23</th>\n",
       "      <td>2013</td>\n",
       "      <td>1689</td>\n",
       "      <td>13.08</td>\n",
       "    </tr>\n",
       "    <tr>\n",
       "      <th>46</th>\n",
       "      <td>2014</td>\n",
       "      <td>1309</td>\n",
       "      <td>13.30</td>\n",
       "    </tr>\n",
       "    <tr>\n",
       "      <th>69</th>\n",
       "      <td>2015</td>\n",
       "      <td>1848</td>\n",
       "      <td>12.92</td>\n",
       "    </tr>\n",
       "    <tr>\n",
       "      <th>92</th>\n",
       "      <td>2016</td>\n",
       "      <td>1645</td>\n",
       "      <td>13.77</td>\n",
       "    </tr>\n",
       "  </tbody>\n",
       "</table>\n",
       "</div>"
      ],
      "text/plain": [
       "    Year  Frequency  Percent\n",
       "0   2012       1920    11.74\n",
       "23  2013       1689    13.08\n",
       "46  2014       1309    13.30\n",
       "69  2015       1848    12.92\n",
       "92  2016       1645    13.77"
      ]
     },
     "execution_count": 16,
     "metadata": {},
     "output_type": "execute_result"
    }
   ],
   "source": [
    "df1.head()"
   ]
  },
  {
   "cell_type": "code",
   "execution_count": 17,
   "metadata": {
    "colab": {},
    "colab_type": "code",
    "id": "rSelA3KBofOM"
   },
   "outputs": [],
   "source": [
    "#make a list standing for the index of year \n",
    "year = ['2013','2014','2015','2016','2017']\n",
    "\n",
    "#making a list of the total percentages over the years\n",
    "depression_rate=df1['Percent'].tolist()\n"
   ]
  },
  {
   "cell_type": "markdown",
   "metadata": {
    "colab_type": "text",
    "id": "VXt0f5W7XMaW"
   },
   "source": [
    "Now, we begin to create the new dataframe df4 \n"
   ]
  },
  {
   "cell_type": "code",
   "execution_count": 18,
   "metadata": {
    "colab": {
     "base_uri": "https://localhost:8080/",
     "height": 204
    },
    "colab_type": "code",
    "id": "Y0x2tM4-no_P",
    "outputId": "7056918f-a35e-4766-d969-4aea4707d46d"
   },
   "outputs": [
    {
     "data": {
      "text/html": [
       "<div>\n",
       "<style scoped>\n",
       "    .dataframe tbody tr th:only-of-type {\n",
       "        vertical-align: middle;\n",
       "    }\n",
       "\n",
       "    .dataframe tbody tr th {\n",
       "        vertical-align: top;\n",
       "    }\n",
       "\n",
       "    .dataframe thead th {\n",
       "        text-align: right;\n",
       "    }\n",
       "</style>\n",
       "<table border=\"1\" class=\"dataframe\">\n",
       "  <thead>\n",
       "    <tr style=\"text-align: right;\">\n",
       "      <th></th>\n",
       "      <th>Years</th>\n",
       "      <th>Depression_Rate</th>\n",
       "      <th>Valence</th>\n",
       "      <th>Danceability</th>\n",
       "      <th>Energy</th>\n",
       "      <th>Tempo</th>\n",
       "    </tr>\n",
       "  </thead>\n",
       "  <tbody>\n",
       "    <tr>\n",
       "      <th>0</th>\n",
       "      <td>2013</td>\n",
       "      <td>13.08</td>\n",
       "      <td>0.482101</td>\n",
       "      <td>0.61294</td>\n",
       "      <td>0.663629</td>\n",
       "      <td>116.91647</td>\n",
       "    </tr>\n",
       "    <tr>\n",
       "      <th>1</th>\n",
       "      <td>2014</td>\n",
       "      <td>13.30</td>\n",
       "      <td>0.471444</td>\n",
       "      <td>0.63693</td>\n",
       "      <td>0.631780</td>\n",
       "      <td>126.24982</td>\n",
       "    </tr>\n",
       "    <tr>\n",
       "      <th>2</th>\n",
       "      <td>2015</td>\n",
       "      <td>12.92</td>\n",
       "      <td>0.411566</td>\n",
       "      <td>0.63743</td>\n",
       "      <td>0.587595</td>\n",
       "      <td>119.59464</td>\n",
       "    </tr>\n",
       "    <tr>\n",
       "      <th>3</th>\n",
       "      <td>2016</td>\n",
       "      <td>13.77</td>\n",
       "      <td>0.436791</td>\n",
       "      <td>0.64447</td>\n",
       "      <td>0.583170</td>\n",
       "      <td>119.58674</td>\n",
       "    </tr>\n",
       "    <tr>\n",
       "      <th>4</th>\n",
       "      <td>2017</td>\n",
       "      <td>19.04</td>\n",
       "      <td>0.460464</td>\n",
       "      <td>0.67929</td>\n",
       "      <td>0.577881</td>\n",
       "      <td>114.50701</td>\n",
       "    </tr>\n",
       "  </tbody>\n",
       "</table>\n",
       "</div>"
      ],
      "text/plain": [
       "  Years  Depression_Rate   Valence  Danceability    Energy      Tempo\n",
       "0  2013            13.08  0.482101       0.61294  0.663629  116.91647\n",
       "1  2014            13.30  0.471444       0.63693  0.631780  126.24982\n",
       "2  2015            12.92  0.411566       0.63743  0.587595  119.59464\n",
       "3  2016            13.77  0.436791       0.64447  0.583170  119.58674\n",
       "4  2017            19.04  0.460464       0.67929  0.577881  114.50701"
      ]
     },
     "execution_count": 18,
     "metadata": {},
     "output_type": "execute_result"
    }
   ],
   "source": [
    "\n",
    "#Getting rid of the year 2012\n",
    "modified_depression_rate=depression_rate[1:]\n",
    "\n",
    "#creating a dataset with mean valence and depression rates\n",
    "df4=pd.DataFrame({'Years':year,'Depression_Rate':modified_depression_rate, 'Valence': valence_list,'Danceability':dance_list , 'Energy':energy_list , 'Tempo':tempo_list})\n",
    "df4"
   ]
  },
  {
   "cell_type": "markdown",
   "metadata": {
    "colab_type": "text",
    "id": "QP5BsUzBrBcp"
   },
   "source": [
    "## Part Four: Ploting the Relationship We Find"
   ]
  },
  {
   "cell_type": "markdown",
   "metadata": {
    "colab_type": "text",
    "id": "x6A2SIBIXhKd"
   },
   "source": [
    "After getting all data in every year in part one, we try to plot the change of depression rate and valence / energy / tempo / danceability as line plots here. In this way, we can find whether there are some relationships between them.\n",
    "\n",
    "After finding which characteric is most relevant to the depression rate, we can look through it more deeply to analyze the relationship between them.\n",
    "\n",
    "\n",
    "\n",
    "---\n",
    "\n"
   ]
  },
  {
   "cell_type": "markdown",
   "metadata": {
    "colab_type": "text",
    "id": "kPmryquLm_aq"
   },
   "source": [
    "However, we find our Valence, Energy, and Danceability is too small comparing to the Tempo and depression rate. \n",
    "\n",
    "In order to see the relationship between these variable, we change our Valence, Energy and Danceability column to a percentage values so we can get better graphs."
   ]
  },
  {
   "cell_type": "code",
   "execution_count": 19,
   "metadata": {
    "colab": {
     "base_uri": "https://localhost:8080/",
     "height": 204
    },
    "colab_type": "code",
    "id": "7of-z2sxjL6T",
    "outputId": "fc997061-386f-434a-edff-acb4c72c929c"
   },
   "outputs": [
    {
     "data": {
      "text/html": [
       "<div>\n",
       "<style scoped>\n",
       "    .dataframe tbody tr th:only-of-type {\n",
       "        vertical-align: middle;\n",
       "    }\n",
       "\n",
       "    .dataframe tbody tr th {\n",
       "        vertical-align: top;\n",
       "    }\n",
       "\n",
       "    .dataframe thead th {\n",
       "        text-align: right;\n",
       "    }\n",
       "</style>\n",
       "<table border=\"1\" class=\"dataframe\">\n",
       "  <thead>\n",
       "    <tr style=\"text-align: right;\">\n",
       "      <th></th>\n",
       "      <th>Years</th>\n",
       "      <th>Depression_Rate</th>\n",
       "      <th>Valence</th>\n",
       "      <th>Danceability</th>\n",
       "      <th>Energy</th>\n",
       "      <th>Tempo</th>\n",
       "    </tr>\n",
       "  </thead>\n",
       "  <tbody>\n",
       "    <tr>\n",
       "      <th>0</th>\n",
       "      <td>2013</td>\n",
       "      <td>13.08</td>\n",
       "      <td>48.2101</td>\n",
       "      <td>61.294</td>\n",
       "      <td>66.36292</td>\n",
       "      <td>116.91647</td>\n",
       "    </tr>\n",
       "    <tr>\n",
       "      <th>1</th>\n",
       "      <td>2014</td>\n",
       "      <td>13.30</td>\n",
       "      <td>47.1444</td>\n",
       "      <td>63.693</td>\n",
       "      <td>63.17800</td>\n",
       "      <td>126.24982</td>\n",
       "    </tr>\n",
       "    <tr>\n",
       "      <th>2</th>\n",
       "      <td>2015</td>\n",
       "      <td>12.92</td>\n",
       "      <td>41.1566</td>\n",
       "      <td>63.743</td>\n",
       "      <td>58.75952</td>\n",
       "      <td>119.59464</td>\n",
       "    </tr>\n",
       "    <tr>\n",
       "      <th>3</th>\n",
       "      <td>2016</td>\n",
       "      <td>13.77</td>\n",
       "      <td>43.6791</td>\n",
       "      <td>64.447</td>\n",
       "      <td>58.31700</td>\n",
       "      <td>119.58674</td>\n",
       "    </tr>\n",
       "    <tr>\n",
       "      <th>4</th>\n",
       "      <td>2017</td>\n",
       "      <td>19.04</td>\n",
       "      <td>46.0464</td>\n",
       "      <td>67.929</td>\n",
       "      <td>57.78807</td>\n",
       "      <td>114.50701</td>\n",
       "    </tr>\n",
       "  </tbody>\n",
       "</table>\n",
       "</div>"
      ],
      "text/plain": [
       "  Years  Depression_Rate  Valence  Danceability    Energy      Tempo\n",
       "0  2013            13.08  48.2101        61.294  66.36292  116.91647\n",
       "1  2014            13.30  47.1444        63.693  63.17800  126.24982\n",
       "2  2015            12.92  41.1566        63.743  58.75952  119.59464\n",
       "3  2016            13.77  43.6791        64.447  58.31700  119.58674\n",
       "4  2017            19.04  46.0464        67.929  57.78807  114.50701"
      ]
     },
     "execution_count": 19,
     "metadata": {},
     "output_type": "execute_result"
    }
   ],
   "source": [
    "#changing values like valence and danceability to percentage values for better graph\n",
    "def standardize_values(val):\n",
    "  out=val\n",
    "  out=out*100.00\n",
    "  return out\n",
    "\n",
    "df4['Valence'] = df4['Valence'].apply(standardize_values)\n",
    "df4['Danceability'] = df4['Danceability'].apply(standardize_values)\n",
    "df4['Energy'] = df4['Energy'].apply(standardize_values)\n",
    "df4"
   ]
  },
  {
   "cell_type": "markdown",
   "metadata": {
    "colab_type": "text",
    "id": "K_WoGFrwNdfS"
   },
   "source": [
    "Now, we begin to plot the relationship between our variables.\n",
    "\n",
    "### Relation between Valence and Depression Rate"
   ]
  },
  {
   "cell_type": "code",
   "execution_count": 20,
   "metadata": {
    "colab": {
     "base_uri": "https://localhost:8080/",
     "height": 592
    },
    "colab_type": "code",
    "id": "UZMxNe6gFB80",
    "outputId": "c0025174-f234-4c6d-f145-ade898467d0c"
   },
   "outputs": [
    {
     "data": {
      "text/plain": [
       "<matplotlib.legend.Legend at 0x7f8cabad5e10>"
      ]
     },
     "execution_count": 20,
     "metadata": {},
     "output_type": "execute_result"
    },
    {
     "data": {
      "image/png": "[encoded data removed]",
      "text/plain": [
       "<Figure size 648x648 with 1 Axes>"
      ]
     },
     "metadata": {
      "needs_background": "light"
     },
     "output_type": "display_data"
    }
   ],
   "source": [
    "#Line plot for the average Valence of year\n",
    "\n",
    "#years which will be our x-axis\n",
    "x = ['2013','2014','2015','2016','2017']\n",
    "\n",
    "#increasing figure size\n",
    "figure(num=None, figsize=(9, 9))\n",
    "\n",
    "#adding labels\n",
    "plt.xlabel('Years',fontsize=14);\n",
    "plt.ylabel('Valence',fontsize=14);\n",
    "\n",
    "plt.title('Average Valence of each year',fontsize=18);\n",
    "\n",
    "#plotting\n",
    "plt.plot(x,df4['Valence'])\n",
    "plt.plot(df4['Years'], df4['Depression_Rate'], '--k', linewidth=4, label='Depression Rates');\n",
    "plt.legend()"
   ]
  },
  {
   "cell_type": "markdown",
   "metadata": {
    "colab_type": "text",
    "id": "63aXk8YPNwLG"
   },
   "source": [
    "### Relation between Energy and Depression Rate"
   ]
  },
  {
   "cell_type": "code",
   "execution_count": 21,
   "metadata": {
    "colab": {
     "base_uri": "https://localhost:8080/",
     "height": 592
    },
    "colab_type": "code",
    "id": "9p5zi8OSuQ-U",
    "outputId": "2d3be4fd-8413-4d83-fcf0-bac16206ed1d"
   },
   "outputs": [
    {
     "data": {
      "text/plain": [
       "<matplotlib.legend.Legend at 0x7f8ca9a0c860>"
      ]
     },
     "execution_count": 21,
     "metadata": {},
     "output_type": "execute_result"
    },
    {
     "data": {
      "image/png": "[encoded data removed]",
      "text/plain": [
       "<Figure size 648x648 with 1 Axes>"
      ]
     },
     "metadata": {
      "needs_background": "light"
     },
     "output_type": "display_data"
    }
   ],
   "source": [
    "#Line plot for the average energy of year\n",
    "\n",
    "#years which will be our x-axis\n",
    "x = ['2013','2014','2015','2016','2017']\n",
    "\n",
    "#increasing figure size\n",
    "figure(num=None, figsize=(9, 9))\n",
    "\n",
    "#adding labels\n",
    "plt.xlabel('Years',fontsize=14);\n",
    "plt.ylabel('Energy',fontsize=14);\n",
    "plt.title('Average Energy of each year',fontsize=18);\n",
    "\n",
    "#plotting\n",
    "plt.plot(x,df4['Energy'])\n",
    "plt.plot(df4['Years'], df4['Depression_Rate'], '--k', linewidth=4, label='Depression Rates');\n",
    "plt.legend()"
   ]
  },
  {
   "cell_type": "markdown",
   "metadata": {
    "colab_type": "text",
    "id": "DXWhaJFENz-E"
   },
   "source": [
    "### Relation between Tempo and Depression Rate"
   ]
  },
  {
   "cell_type": "code",
   "execution_count": 22,
   "metadata": {
    "colab": {
     "base_uri": "https://localhost:8080/",
     "height": 592
    },
    "colab_type": "code",
    "id": "0ayxlUL-u0R_",
    "outputId": "45ef1889-3e5f-47da-a333-e05906ceb836"
   },
   "outputs": [
    {
     "data": {
      "text/plain": [
       "<matplotlib.legend.Legend at 0x7f8ca996e358>"
      ]
     },
     "execution_count": 22,
     "metadata": {},
     "output_type": "execute_result"
    },
    {
     "data": {
      "image/png": "[encoded data removed]",
      "text/plain": [
       "<Figure size 648x648 with 1 Axes>"
      ]
     },
     "metadata": {
      "needs_background": "light"
     },
     "output_type": "display_data"
    }
   ],
   "source": [
    "#Line plot for the average tempo of year\n",
    "\n",
    "#years which will be our x-axis\n",
    "x = ['2013','2014','2015','2016','2017']\n",
    "\n",
    "#increasing figure size\n",
    "figure(num=None, figsize=(9, 9))\n",
    "\n",
    "#adding labels\n",
    "plt.xlabel('Years',fontsize=14);\n",
    "plt.ylabel('Tempo',fontsize=14);\n",
    "plt.title('Average Tempo of each year',fontsize=18);\n",
    "\n",
    "#plotting\n",
    "plt.plot(x,df4['Tempo'])\n",
    "plt.plot(df4['Years'], df4['Depression_Rate'], '--k', linewidth=4, label='Depression Rates');\n",
    "plt.legend()"
   ]
  },
  {
   "cell_type": "markdown",
   "metadata": {
    "colab_type": "text",
    "id": "2L_NOgANN2Bm"
   },
   "source": [
    "### Relation between Danceability and Depression Rate"
   ]
  },
  {
   "cell_type": "code",
   "execution_count": 23,
   "metadata": {
    "colab": {
     "base_uri": "https://localhost:8080/",
     "height": 592
    },
    "colab_type": "code",
    "id": "gYBObKvDu7Xm",
    "outputId": "cd6cbfb9-d588-479b-fa4e-c781512860cc"
   },
   "outputs": [
    {
     "data": {
      "text/plain": [
       "<matplotlib.legend.Legend at 0x7f8ca99788d0>"
      ]
     },
     "execution_count": 23,
     "metadata": {},
     "output_type": "execute_result"
    },
    {
     "data": {
      "image/png": "[encoded data removed]",
      "text/plain": [
       "<Figure size 648x648 with 1 Axes>"
      ]
     },
     "metadata": {
      "needs_background": "light"
     },
     "output_type": "display_data"
    }
   ],
   "source": [
    "#Line plot for the average danceability of year\n",
    "\n",
    "#years which will be our x-axis\n",
    "x = ['2013','2014','2015','2016','2017']\n",
    "\n",
    "#increasing figure size\n",
    "figure(num=None, figsize=(9, 9))\n",
    "\n",
    "#adding labels\n",
    "plt.xlabel('Years',fontsize=14);\n",
    "plt.ylabel('Danceability',fontsize=14);\n",
    "plt.title('Average Danceability of each year',fontsize=18);\n",
    "\n",
    "#plotting\n",
    "plt.plot(x,df4['Danceability'])\n",
    "plt.plot(df4['Years'], df4['Depression_Rate'], '--k', linewidth=4, label='Depression Rates');\n",
    "plt.legend()"
   ]
  },
  {
   "cell_type": "markdown",
   "metadata": {
    "colab_type": "text",
    "id": "mRlHqv9wN49q"
   },
   "source": [
    "### General Conclusion for Data Visualization"
   ]
  },
  {
   "cell_type": "markdown",
   "metadata": {
    "colab_type": "text",
    "id": "qVniySk7v0LQ"
   },
   "source": [
    "As the graph shows, we can make a general conclusion: the average depression rate are \n",
    "*  relatively proportion to the **danceability** \n",
    "*  relatively inversely proportion to the **energy** \n",
    "\n",
    "For the relationship between depression rate and tempo / valence, it is a little complex. \n",
    "\n",
    "In the following data analysis part, we will deal with the relationship in depth "
   ]
  },
  {
   "cell_type": "markdown",
   "metadata": {
    "colab_type": "text",
    "id": "uENfwt5KzSEz"
   },
   "source": [
    "# Data: Linear Regression and Analysis "
   ]
  },
  {
   "cell_type": "markdown",
   "metadata": {
    "colab_type": "text",
    "id": "dJ2Qd8X2Rdz2"
   },
   "source": [
    "## Linear Regression"
   ]
  },
  {
   "cell_type": "markdown",
   "metadata": {
    "colab_type": "text",
    "id": "-4YxnVDP19bB"
   },
   "source": [
    "In this section we use the corr function of data to see the correalation of depression rates with danceability and valence at a glance. Then we use patsy's OLS function to do linear regression on our data. We later plot these results for better analysis. "
   ]
  },
  {
   "cell_type": "code",
   "execution_count": 93,
   "metadata": {
    "colab": {
     "base_uri": "https://localhost:8080/",
     "height": 204
    },
    "colab_type": "code",
    "id": "nvOzdh7f3OdU",
    "outputId": "9e6a9f57-0204-4467-d000-c74ccc08915a"
   },
   "outputs": [
    {
     "data": {
      "text/html": [
       "<div>\n",
       "<style scoped>\n",
       "    .dataframe tbody tr th:only-of-type {\n",
       "        vertical-align: middle;\n",
       "    }\n",
       "\n",
       "    .dataframe tbody tr th {\n",
       "        vertical-align: top;\n",
       "    }\n",
       "\n",
       "    .dataframe thead th {\n",
       "        text-align: right;\n",
       "    }\n",
       "</style>\n",
       "<table border=\"1\" class=\"dataframe\">\n",
       "  <thead>\n",
       "    <tr style=\"text-align: right;\">\n",
       "      <th></th>\n",
       "      <th>Depression_Rate</th>\n",
       "      <th>Valence</th>\n",
       "      <th>Danceability</th>\n",
       "      <th>Energy</th>\n",
       "      <th>Tempo</th>\n",
       "    </tr>\n",
       "  </thead>\n",
       "  <tbody>\n",
       "    <tr>\n",
       "      <th>Depression_Rate</th>\n",
       "      <td>1.000000</td>\n",
       "      <td>0.160953</td>\n",
       "      <td>0.892770</td>\n",
       "      <td>-0.497382</td>\n",
       "      <td>-0.598985</td>\n",
       "    </tr>\n",
       "    <tr>\n",
       "      <th>Valence</th>\n",
       "      <td>0.160953</td>\n",
       "      <td>1.000000</td>\n",
       "      <td>-0.188250</td>\n",
       "      <td>0.726061</td>\n",
       "      <td>0.012794</td>\n",
       "    </tr>\n",
       "    <tr>\n",
       "      <th>Danceability</th>\n",
       "      <td>0.892770</td>\n",
       "      <td>-0.188250</td>\n",
       "      <td>1.000000</td>\n",
       "      <td>-0.790710</td>\n",
       "      <td>-0.346263</td>\n",
       "    </tr>\n",
       "    <tr>\n",
       "      <th>Energy</th>\n",
       "      <td>-0.497382</td>\n",
       "      <td>0.726061</td>\n",
       "      <td>-0.790710</td>\n",
       "      <td>1.000000</td>\n",
       "      <td>0.249074</td>\n",
       "    </tr>\n",
       "    <tr>\n",
       "      <th>Tempo</th>\n",
       "      <td>-0.598985</td>\n",
       "      <td>0.012794</td>\n",
       "      <td>-0.346263</td>\n",
       "      <td>0.249074</td>\n",
       "      <td>1.000000</td>\n",
       "    </tr>\n",
       "  </tbody>\n",
       "</table>\n",
       "</div>"
      ],
      "text/plain": [
       "                 Depression_Rate   Valence  Danceability    Energy     Tempo\n",
       "Depression_Rate         1.000000  0.160953      0.892770 -0.497382 -0.598985\n",
       "Valence                 0.160953  1.000000     -0.188250  0.726061  0.012794\n",
       "Danceability            0.892770 -0.188250      1.000000 -0.790710 -0.346263\n",
       "Energy                 -0.497382  0.726061     -0.790710  1.000000  0.249074\n",
       "Tempo                  -0.598985  0.012794     -0.346263  0.249074  1.000000"
      ]
     },
     "execution_count": 93,
     "metadata": {},
     "output_type": "execute_result"
    }
   ],
   "source": [
    "df4.corr()"
   ]
  },
  {
   "cell_type": "markdown",
   "metadata": {
    "colab_type": "text",
    "id": "iykbnOam34JG"
   },
   "source": [
    "We notice that depression rates have a very low corelation with valence but a greater coorelation with danceability. Energy and Tempo have negative correlation with depression rates so we will go ahead with our regression with these two characterstics. Since, we are looking for a negative correlation. "
   ]
  },
  {
   "cell_type": "code",
   "execution_count": 25,
   "metadata": {
    "colab": {},
    "colab_type": "code",
    "id": "6AXz0vSpXgaQ"
   },
   "outputs": [],
   "source": [
    "#To install statsmodel manually from git\n",
    "#UNCOMMENT ONLY WHILE RUNNING IN COLLABORATORY\n",
    "#!pip install --upgrade Cython\n",
    "#!pip install --upgrade git+https://github.com/statsmodels/statsmodels"
   ]
  },
  {
   "cell_type": "code",
   "execution_count": 94,
   "metadata": {
    "colab": {
     "base_uri": "https://localhost:8080/",
     "height": 215
    },
    "colab_type": "code",
    "id": "T-P1vOwBWwSH",
    "outputId": "ae357a03-bc54-4d4a-9942-7f9770b6129c"
   },
   "outputs": [
    {
     "name": "stdout",
     "output_type": "stream",
     "text": [
      "                            OLS Regression Results                            \n",
      "==============================================================================\n",
      "Dep. Variable:        Depression_Rate   R-squared:                       0.247\n",
      "Model:                            OLS   Adj. R-squared:                 -0.003\n",
      "Method:                 Least Squares   F-statistic:                    0.9861\n",
      "Date:                Wed, 12 Jun 2019   Prob (F-statistic):              0.394\n",
      "Time:                        18:40:51   Log-Likelihood:                -10.606\n",
      "No. Observations:                   5   AIC:                             25.21\n",
      "Df Residuals:                       3   BIC:                             24.43\n",
      "Df Model:                           1                                         \n",
      "Covariance Type:            nonrobust                                         \n",
      "==============================================================================\n",
      "                 coef    std err          t      P>|t|      [0.025      0.975]\n",
      "------------------------------------------------------------------------------\n",
      "Intercept     35.4801     21.238      1.671      0.193     -32.108     103.068\n",
      "Energy        -0.3459      0.348     -0.993      0.394      -1.454       0.763\n",
      "==============================================================================\n",
      "Omnibus:                          nan   Durbin-Watson:                   1.511\n",
      "Prob(Omnibus):                    nan   Jarque-Bera (JB):                0.551\n",
      "Skew:                           0.729   Prob(JB):                        0.759\n",
      "Kurtosis:                       2.280   Cond. No.                     1.11e+03\n",
      "==============================================================================\n",
      "\n",
      "Warnings:\n",
      "[1] Standard Errors assume that the covariance matrix of the errors is correctly specified.\n",
      "[2] The condition number is large, 1.11e+03. This might indicate that there are\n",
      "strong multicollinearity or other numerical problems.\n"
     ]
    },
    {
     "name": "stderr",
     "output_type": "stream",
     "text": [
      "/opt/conda/lib/python3.6/site-packages/statsmodels/stats/stattools.py:72: ValueWarning: omni_normtest is not valid with less than 8 observations; 5 samples were given.\n",
      "  \"samples were given.\" % int(n), ValueWarning)\n"
     ]
    }
   ],
   "source": [
    "#Running the model of Depression Rates and Energy\n",
    "outcome, predictors = patsy.dmatrices('Depression_Rate~ Energy', df4)\n",
    "mod = sm.OLS(outcome, predictors)\n",
    "res = mod.fit()\n",
    "print(res.summary())"
   ]
  },
  {
   "cell_type": "code",
   "execution_count": 95,
   "metadata": {
    "colab": {
     "base_uri": "https://localhost:8080/",
     "height": 701
    },
    "colab_type": "code",
    "id": "17prILifYVE4",
    "outputId": "2a54ab8e-14eb-4de0-9f33-03c7c1e9f681"
   },
   "outputs": [
    {
     "data": {
      "image/png": "[encoded data removed]",
      "text/plain": [
       "<Figure size 576x576 with 1 Axes>"
      ]
     },
     "metadata": {
      "needs_background": "light"
     },
     "output_type": "display_data"
    }
   ],
   "source": [
    "## Plot the model fit line\n",
    "x=df4['Energy']\n",
    "y=df4['Depression_Rate']\n",
    "figure(num=None , figsize = (8,8))\n",
    "\n",
    "plt.scatter(x,y, s=100)\n",
    "plt.plot(figsize=(14,10))\n",
    "\n",
    "# Generate and plot the model fit line\n",
    "xs = np.arange(df4['Energy'].min(), df4['Energy'].max())\n",
    "ys = res.params[1] * xs + res.params[0]\n",
    "plt.plot(xs, ys, '--k', linewidth=4, label='Model');\n",
    "plt.xlabel('Energy')\n",
    "plt.ylabel('Depression Rate')\n",
    "plt.legend();"
   ]
  },
  {
   "cell_type": "markdown",
   "metadata": {
    "colab_type": "text",
    "id": "_xHs0qJdnWqc"
   },
   "source": [
    "This simple scatter plot with our model line drawn shows us a more accurate representation of our correlation between Energy and Depression Rate. From our summary we can see our R-value is negative (as expected) but very small."
   ]
  },
  {
   "cell_type": "code",
   "execution_count": 96,
   "metadata": {
    "colab": {},
    "colab_type": "code",
    "id": "5ZygDD6SmKGa",
    "outputId": "60f3a5f8-5749-4ac4-bf1f-80a04d69793a"
   },
   "outputs": [
    {
     "name": "stdout",
     "output_type": "stream",
     "text": [
      "                            OLS Regression Results                            \n",
      "==============================================================================\n",
      "Dep. Variable:        Depression_Rate   R-squared:                       0.359\n",
      "Model:                            OLS   Adj. R-squared:                  0.145\n",
      "Method:                 Least Squares   F-statistic:                     1.679\n",
      "Date:                Wed, 12 Jun 2019   Prob (F-statistic):              0.286\n",
      "Time:                        18:41:13   Log-Likelihood:                -10.206\n",
      "No. Observations:                   5   AIC:                             24.41\n",
      "Df Residuals:                       3   BIC:                             23.63\n",
      "Df Model:                           1                                         \n",
      "Covariance Type:            nonrobust                                         \n",
      "==============================================================================\n",
      "                 coef    std err          t      P>|t|      [0.025      0.975]\n",
      "------------------------------------------------------------------------------\n",
      "Intercept     56.7875     32.717      1.736      0.181     -47.333     160.908\n",
      "Tempo         -0.3549      0.274     -1.296      0.286      -1.227       0.517\n",
      "==============================================================================\n",
      "Omnibus:                          nan   Durbin-Watson:                   1.886\n",
      "Prob(Omnibus):                    nan   Jarque-Bera (JB):                0.489\n",
      "Skew:                           0.389   Prob(JB):                        0.783\n",
      "Kurtosis:                       1.679   Cond. No.                     3.63e+03\n",
      "==============================================================================\n",
      "\n",
      "Warnings:\n",
      "[1] Standard Errors assume that the covariance matrix of the errors is correctly specified.\n",
      "[2] The condition number is large, 3.63e+03. This might indicate that there are\n",
      "strong multicollinearity or other numerical problems.\n"
     ]
    },
    {
     "name": "stderr",
     "output_type": "stream",
     "text": [
      "/opt/conda/lib/python3.6/site-packages/statsmodels/stats/stattools.py:72: ValueWarning: omni_normtest is not valid with less than 8 observations; 5 samples were given.\n",
      "  \"samples were given.\" % int(n), ValueWarning)\n"
     ]
    }
   ],
   "source": [
    "# run model for Depression rate and Tempo\n",
    "outcome, predictors = patsy.dmatrices('Depression_Rate~ Tempo', df4)\n",
    "mod1 = sm.OLS(outcome, predictors)\n",
    "res1 = mod1.fit()\n",
    "print(res1.summary())"
   ]
  },
  {
   "cell_type": "code",
   "execution_count": 97,
   "metadata": {
    "colab": {},
    "colab_type": "code",
    "id": "i7nLuQTImKGe",
    "outputId": "b4e7b0b3-8927-4b61-c7d5-1d844d1d7889"
   },
   "outputs": [
    {
     "data": {
      "image/png": "[encoded data removed]",
      "text/plain": [
       "<Figure size 576x576 with 1 Axes>"
      ]
     },
     "metadata": {
      "needs_background": "light"
     },
     "output_type": "display_data"
    }
   ],
   "source": [
    "#Finding correlation with Tempo and depression rate\n",
    "## Plot the model fit line\n",
    "x1=df4['Tempo']\n",
    "y1=df4['Depression_Rate']\n",
    "figure(num=None , figsize = (8,8))\n",
    "\n",
    "plt.scatter(x1,y1, s=100)\n",
    "plt.plot(figsize=(14,10))\n",
    "\n",
    "# Generate and plot the model fit line\n",
    "xs = np.arange(df4['Tempo'].min(), df4['Tempo'].max())\n",
    "ys = res1.params[1] * xs + res1.params[0]\n",
    "plt.plot(xs, ys, '--k', linewidth=4, label='Model');\n",
    "plt.xlabel('Tempo')\n",
    "plt.ylabel('Depression Rate')\n",
    "plt.legend();\n",
    "\n"
   ]
  },
  {
   "cell_type": "markdown",
   "metadata": {
    "colab_type": "text",
    "id": "U8bCfwATnhK6"
   },
   "source": [
    "As it is clear from the plot and our r values,Tempo also has an inverse correlation with depression rates. Both our correlation models show negative correlation."
   ]
  },
  {
   "cell_type": "markdown",
   "metadata": {
    "colab_type": "text",
    "id": "Jet3Nm2ZnzVT"
   },
   "source": [
    "Now, we will do linear regression on our data. We do it twice, once for predicting depression rates from energy and another time to predict depression rates from energy. This will be our last analysis step to see which feature from our music analysis can do a better job at predicting depression rates. Thus, having a better correlation with depression rates in California "
   ]
  },
  {
   "cell_type": "code",
   "execution_count": 98,
   "metadata": {
    "colab": {},
    "colab_type": "code",
    "id": "6iE_UB0jvSTe"
   },
   "outputs": [],
   "source": [
    "#Training data using Energy and depression rates \n",
    "X = df4[['Energy']]\n",
    "y = df4[['Depression_Rate']]\n"
   ]
  },
  {
   "cell_type": "code",
   "execution_count": 99,
   "metadata": {
    "colab": {
     "base_uri": "https://localhost:8080/",
     "height": 51
    },
    "colab_type": "code",
    "id": "JKB1IACmnpAJ",
    "outputId": "74070163-2af4-49c6-83f1-8a092070d680"
   },
   "outputs": [
    {
     "name": "stdout",
     "output_type": "stream",
     "text": [
      "[[ 14.08144197]\n",
      " [ 16.13319607]]\n"
     ]
    }
   ],
   "source": [
    "\n",
    "#Split into training and test sets\n",
    "X_train,X_test,y_train,y_test=train_test_split(X,y,test_size=0.23333)\n",
    "model=LinearRegression()\n",
    "model.fit(X_train,y_train)\n",
    "predictions=model.predict(X_test)\n",
    "print(predictions)"
   ]
  },
  {
   "cell_type": "code",
   "execution_count": 100,
   "metadata": {
    "colab": {
     "base_uri": "https://localhost:8080/",
     "height": 85
    },
    "colab_type": "code",
    "id": "1EIBW28xnpAN",
    "outputId": "55bbcf1c-b58b-4304-8f5f-6fcf7e77f0d4"
   },
   "outputs": [
    {
     "name": "stdout",
     "output_type": "stream",
     "text": [
      "Regression Score of our model -55.0918717014\n",
      "Coefficient of our model -0.422084777436\n",
      "Intercept of our model 40.7479140384\n",
      "The mean squared error of our model: 3.09767361471\n"
     ]
    }
   ],
   "source": [
    "#Printing the summary of our model \n",
    "regression_score = model.score(X_test, y_test)\n",
    "intercept = model.intercept_[0]\n",
    "coef = model.coef_[0][0]\n",
    "regression_model_mse = mean_squared_error(predictions, y_test)\n",
    "print(\"Regression Score of our model\",regression_score)\n",
    "print(\"Coefficient of our model\",coef)\n",
    "print(\"Intercept of our model\",intercept)\n",
    "print(\"The mean squared error of our model:\",regression_model_mse)"
   ]
  },
  {
   "cell_type": "markdown",
   "metadata": {
    "colab_type": "text",
    "id": "ylVvpuSUPC82"
   },
   "source": [
    "We get a negative correlation coefficient for our model like we expected "
   ]
  },
  {
   "cell_type": "code",
   "execution_count": 101,
   "metadata": {
    "colab": {
     "base_uri": "https://localhost:8080/",
     "height": 412
    },
    "colab_type": "code",
    "id": "XUfah5yFrrUL",
    "outputId": "98df2b5d-449f-4958-dceb-3fbe5085be4c",
    "scrolled": true
   },
   "outputs": [
    {
     "data": {
      "text/html": [
       "<div>\n",
       "<style scoped>\n",
       "    .dataframe tbody tr th:only-of-type {\n",
       "        vertical-align: middle;\n",
       "    }\n",
       "\n",
       "    .dataframe tbody tr th {\n",
       "        vertical-align: top;\n",
       "    }\n",
       "\n",
       "    .dataframe thead th {\n",
       "        text-align: right;\n",
       "    }\n",
       "</style>\n",
       "<table border=\"1\" class=\"dataframe\">\n",
       "  <thead>\n",
       "    <tr style=\"text-align: right;\">\n",
       "      <th></th>\n",
       "      <th>Years</th>\n",
       "      <th>Depression_Rate</th>\n",
       "      <th>Valence</th>\n",
       "      <th>Danceability</th>\n",
       "      <th>Energy</th>\n",
       "      <th>Tempo</th>\n",
       "      <th>Predicted Depression Rates With Energy</th>\n",
       "      <th>Predicted Depression Rates With Tempo</th>\n",
       "    </tr>\n",
       "  </thead>\n",
       "  <tbody>\n",
       "    <tr>\n",
       "      <th>0</th>\n",
       "      <td>2013</td>\n",
       "      <td>13.08</td>\n",
       "      <td>48.2101</td>\n",
       "      <td>61.294</td>\n",
       "      <td>66.36292</td>\n",
       "      <td>116.91647</td>\n",
       "      <td>[[12.7371355935]]</td>\n",
       "      <td>[[13.363627194]]</td>\n",
       "    </tr>\n",
       "    <tr>\n",
       "      <th>1</th>\n",
       "      <td>2014</td>\n",
       "      <td>13.30</td>\n",
       "      <td>47.1444</td>\n",
       "      <td>63.693</td>\n",
       "      <td>63.17800</td>\n",
       "      <td>126.24982</td>\n",
       "      <td>[[14.0814419695]]</td>\n",
       "      <td>[[13.2994958372]]</td>\n",
       "    </tr>\n",
       "    <tr>\n",
       "      <th>2</th>\n",
       "      <td>2015</td>\n",
       "      <td>12.92</td>\n",
       "      <td>41.1566</td>\n",
       "      <td>63.743</td>\n",
       "      <td>58.75952</td>\n",
       "      <td>119.59464</td>\n",
       "      <td>[[15.9464150747]]</td>\n",
       "      <td>[[13.3452249401]]</td>\n",
       "    </tr>\n",
       "    <tr>\n",
       "      <th>3</th>\n",
       "      <td>2016</td>\n",
       "      <td>13.77</td>\n",
       "      <td>43.6791</td>\n",
       "      <td>64.447</td>\n",
       "      <td>58.31700</td>\n",
       "      <td>119.58674</td>\n",
       "      <td>[[16.1331960726]]</td>\n",
       "      <td>[[13.3452792227]]</td>\n",
       "    </tr>\n",
       "    <tr>\n",
       "      <th>4</th>\n",
       "      <td>2017</td>\n",
       "      <td>19.04</td>\n",
       "      <td>46.0464</td>\n",
       "      <td>67.929</td>\n",
       "      <td>57.78807</td>\n",
       "      <td>114.50701</td>\n",
       "      <td>[[16.3564493318]]</td>\n",
       "      <td>[[13.3801830864]]</td>\n",
       "    </tr>\n",
       "  </tbody>\n",
       "</table>\n",
       "</div>"
      ],
      "text/plain": [
       "  Years  Depression_Rate  Valence  Danceability    Energy      Tempo  \\\n",
       "0  2013            13.08  48.2101        61.294  66.36292  116.91647   \n",
       "1  2014            13.30  47.1444        63.693  63.17800  126.24982   \n",
       "2  2015            12.92  41.1566        63.743  58.75952  119.59464   \n",
       "3  2016            13.77  43.6791        64.447  58.31700  119.58674   \n",
       "4  2017            19.04  46.0464        67.929  57.78807  114.50701   \n",
       "\n",
       "  Predicted Depression Rates With Energy Predicted Depression Rates With Tempo  \n",
       "0                      [[12.7371355935]]                      [[13.363627194]]  \n",
       "1                      [[14.0814419695]]                     [[13.2994958372]]  \n",
       "2                      [[15.9464150747]]                     [[13.3452249401]]  \n",
       "3                      [[16.1331960726]]                     [[13.3452792227]]  \n",
       "4                      [[16.3564493318]]                     [[13.3801830864]]  "
      ]
     },
     "execution_count": 101,
     "metadata": {},
     "output_type": "execute_result"
    }
   ],
   "source": [
    "#Applying the prediction model and adding a new column to our dataset for comparison\n",
    "df4['Predicted Depression Rates With Energy']=df4['Energy'].apply(model.predict)\n",
    "df4.head()\n"
   ]
  },
  {
   "cell_type": "code",
   "execution_count": 102,
   "metadata": {
    "colab": {},
    "colab_type": "code",
    "id": "WKZ7Q8OKnpAU",
    "outputId": "1ca06d9c-7daa-4153-8122-15b0a55247a6"
   },
   "outputs": [
    {
     "data": {
      "text/plain": [
       "Text(0.5, 1.0, 'Linear Regression Model')"
      ]
     },
     "execution_count": 102,
     "metadata": {},
     "output_type": "execute_result"
    },
    {
     "data": {
      "image/png": "[encoded data removed]",
      "text/plain": [
       "<Figure size 720x720 with 1 Axes>"
      ]
     },
     "metadata": {
      "needs_background": "light"
     },
     "output_type": "display_data"
    }
   ],
   "source": [
    "sns.set_palette(sns.hls_palette(8, l=.3, s=.8))\n",
    "x1=df4['Energy']\n",
    "y1=df4['Predicted Depression Rates With Energy']\n",
    "figure(num=None , figsize = (10,10))\n",
    "\n",
    "#Plot to show the regression model\n",
    "plt.scatter(x1,y1)\n",
    "plt.plot(x1, coef* x1 + intercept,color='pink', lw=1)\n",
    "plt.xlabel('Energy',fontsize=12)\n",
    "plt.ylabel('Predicted Depression Rates',fontsize=12)\n",
    "plt.title('Linear Regression Model', fontsize=16)"
   ]
  },
  {
   "cell_type": "markdown",
   "metadata": {},
   "source": [
    "Our predictive analysis model is shown through this simple line plot after doing linear regression."
   ]
  },
  {
   "cell_type": "code",
   "execution_count": 109,
   "metadata": {
    "colab": {},
    "colab_type": "code",
    "id": "T6QfsCRkmKGv"
   },
   "outputs": [],
   "source": [
    "#Training regrssion model for test with tempo\n",
    "X1=df4[['Tempo']]\n",
    "y1=df4[['Depression_Rate']]"
   ]
  },
  {
   "cell_type": "code",
   "execution_count": 110,
   "metadata": {
    "colab": {},
    "colab_type": "code",
    "id": "SCgOg2o8mKGx",
    "outputId": "51a1bacd-03a7-4ca7-b471-7ca91a87271f"
   },
   "outputs": [
    {
     "name": "stdout",
     "output_type": "stream",
     "text": [
      "[[ 13.38018309]\n",
      " [ 13.36362719]]\n"
     ]
    }
   ],
   "source": [
    "#Now we will do the same linear regression with tempo and see if that gives us a better model \n",
    "\n",
    "#Training regrssion model for test with tempo\n",
    "X_train,X_test,y_train,y_test=train_test_split(X1,y1,test_size=0.23333)\n",
    "model_tempo=LinearRegression()\n",
    "model_tempo.fit(X_train,y_train)\n",
    "predictions=model_tempo.predict(X_test)\n",
    "print(predictions)"
   ]
  },
  {
   "cell_type": "code",
   "execution_count": 111,
   "metadata": {
    "colab": {},
    "colab_type": "code",
    "id": "VPctawVLmKG0",
    "outputId": "1052ebcb-3558-4e4e-fb76-ac3bb1ca658f"
   },
   "outputs": [
    {
     "name": "stdout",
     "output_type": "stream",
     "text": [
      "Regression Score of our model -0.808137689768\n",
      "Coefficient of our model -0.00687120452529\n",
      "Intercept of our model 14.1669841717\n",
      "The mean squared error of our model: 16.0569859402\n"
     ]
    }
   ],
   "source": [
    "#Printing the summary for our tempo model\n",
    "regression_score = model_tempo.score(X_test, y_test)\n",
    "intercept = model_tempo.intercept_[0]\n",
    "coef = model_tempo.coef_[0][0]\n",
    "regression_model_mse = mean_squared_error(predictions, y_test)\n",
    "print(\"Regression Score of our model\",regression_score)\n",
    "print(\"Coefficient of our model\",coef)\n",
    "print(\"Intercept of our model\",intercept)\n",
    "print(\"The mean squared error of our model:\",regression_model_mse)"
   ]
  },
  {
   "cell_type": "markdown",
   "metadata": {
    "colab_type": "text",
    "id": "YRWJCHIUPI7x"
   },
   "source": [
    "The coefficient of our model also gives negative regression score and a pretty low mean square error."
   ]
  },
  {
   "cell_type": "code",
   "execution_count": 112,
   "metadata": {
    "colab": {},
    "colab_type": "code",
    "id": "4BFlbvGmmKG3",
    "outputId": "7fb9f349-3be5-4f9e-d1ec-77164c0bbe6a"
   },
   "outputs": [
    {
     "data": {
      "text/html": [
       "<div>\n",
       "<style scoped>\n",
       "    .dataframe tbody tr th:only-of-type {\n",
       "        vertical-align: middle;\n",
       "    }\n",
       "\n",
       "    .dataframe tbody tr th {\n",
       "        vertical-align: top;\n",
       "    }\n",
       "\n",
       "    .dataframe thead th {\n",
       "        text-align: right;\n",
       "    }\n",
       "</style>\n",
       "<table border=\"1\" class=\"dataframe\">\n",
       "  <thead>\n",
       "    <tr style=\"text-align: right;\">\n",
       "      <th></th>\n",
       "      <th>Years</th>\n",
       "      <th>Depression_Rate</th>\n",
       "      <th>Valence</th>\n",
       "      <th>Danceability</th>\n",
       "      <th>Energy</th>\n",
       "      <th>Tempo</th>\n",
       "      <th>Predicted Depression Rates With Energy</th>\n",
       "      <th>Predicted Depression Rates With Tempo</th>\n",
       "    </tr>\n",
       "  </thead>\n",
       "  <tbody>\n",
       "    <tr>\n",
       "      <th>0</th>\n",
       "      <td>2013</td>\n",
       "      <td>13.08</td>\n",
       "      <td>48.2101</td>\n",
       "      <td>61.294</td>\n",
       "      <td>66.36292</td>\n",
       "      <td>116.91647</td>\n",
       "      <td>[[12.7371355935]]</td>\n",
       "      <td>[[13.363627194]]</td>\n",
       "    </tr>\n",
       "    <tr>\n",
       "      <th>1</th>\n",
       "      <td>2014</td>\n",
       "      <td>13.30</td>\n",
       "      <td>47.1444</td>\n",
       "      <td>63.693</td>\n",
       "      <td>63.17800</td>\n",
       "      <td>126.24982</td>\n",
       "      <td>[[14.0814419695]]</td>\n",
       "      <td>[[13.2994958372]]</td>\n",
       "    </tr>\n",
       "    <tr>\n",
       "      <th>2</th>\n",
       "      <td>2015</td>\n",
       "      <td>12.92</td>\n",
       "      <td>41.1566</td>\n",
       "      <td>63.743</td>\n",
       "      <td>58.75952</td>\n",
       "      <td>119.59464</td>\n",
       "      <td>[[15.9464150747]]</td>\n",
       "      <td>[[13.3452249401]]</td>\n",
       "    </tr>\n",
       "    <tr>\n",
       "      <th>3</th>\n",
       "      <td>2016</td>\n",
       "      <td>13.77</td>\n",
       "      <td>43.6791</td>\n",
       "      <td>64.447</td>\n",
       "      <td>58.31700</td>\n",
       "      <td>119.58674</td>\n",
       "      <td>[[16.1331960726]]</td>\n",
       "      <td>[[13.3452792227]]</td>\n",
       "    </tr>\n",
       "    <tr>\n",
       "      <th>4</th>\n",
       "      <td>2017</td>\n",
       "      <td>19.04</td>\n",
       "      <td>46.0464</td>\n",
       "      <td>67.929</td>\n",
       "      <td>57.78807</td>\n",
       "      <td>114.50701</td>\n",
       "      <td>[[16.3564493318]]</td>\n",
       "      <td>[[13.3801830864]]</td>\n",
       "    </tr>\n",
       "  </tbody>\n",
       "</table>\n",
       "</div>"
      ],
      "text/plain": [
       "  Years  Depression_Rate  Valence  Danceability    Energy      Tempo  \\\n",
       "0  2013            13.08  48.2101        61.294  66.36292  116.91647   \n",
       "1  2014            13.30  47.1444        63.693  63.17800  126.24982   \n",
       "2  2015            12.92  41.1566        63.743  58.75952  119.59464   \n",
       "3  2016            13.77  43.6791        64.447  58.31700  119.58674   \n",
       "4  2017            19.04  46.0464        67.929  57.78807  114.50701   \n",
       "\n",
       "  Predicted Depression Rates With Energy Predicted Depression Rates With Tempo  \n",
       "0                      [[12.7371355935]]                      [[13.363627194]]  \n",
       "1                      [[14.0814419695]]                     [[13.2994958372]]  \n",
       "2                      [[15.9464150747]]                     [[13.3452249401]]  \n",
       "3                      [[16.1331960726]]                     [[13.3452792227]]  \n",
       "4                      [[16.3564493318]]                     [[13.3801830864]]  "
      ]
     },
     "execution_count": 112,
     "metadata": {},
     "output_type": "execute_result"
    }
   ],
   "source": [
    "#Applying the prediction model and adding a new column to our dataset for comparison\n",
    "df4['Predicted Depression Rates With Tempo']=df4['Tempo'].apply(model_dance.predict)\n",
    "df4.head()"
   ]
  },
  {
   "cell_type": "code",
   "execution_count": 113,
   "metadata": {
    "colab": {},
    "colab_type": "code",
    "id": "xOC68wOsmKG5",
    "outputId": "12860938-fe08-4b48-af6e-0752f7dfe2e3"
   },
   "outputs": [
    {
     "data": {
      "text/plain": [
       "Text(0.5, 1.0, 'Linear Regression Model')"
      ]
     },
     "execution_count": 113,
     "metadata": {},
     "output_type": "execute_result"
    },
    {
     "data": {
      "image/png": "[encoded data removed]",
      "text/plain": [
       "<Figure size 720x720 with 1 Axes>"
      ]
     },
     "metadata": {
      "needs_background": "light"
     },
     "output_type": "display_data"
    }
   ],
   "source": [
    "sns.set_palette(sns.hls_palette(8, l=.3, s=.8))\n",
    "x1=df4['Tempo']\n",
    "y1=df4['Predicted Depression Rates With Tempo']\n",
    "figure(num=None , figsize = (10,10))\n",
    "\n",
    "#Plot to show the regression model\n",
    "plt.scatter(x1,y1)\n",
    "plt.plot(x1, coef* x1 + intercept,color='pink', lw=1)\n",
    "plt.xlabel('Tempo',fontsize=12)\n",
    "plt.ylabel('Predicted Depression Rates',fontsize=12)\n",
    "plt.title('Linear Regression Model', fontsize=16)"
   ]
  },
  {
   "cell_type": "markdown",
   "metadata": {
    "colab_type": "text",
    "id": "k8bNYyGrpifK"
   },
   "source": [
    "## Data Analysis Results\n"
   ]
  },
  {
   "cell_type": "markdown",
   "metadata": {
    "colab_type": "text",
    "id": "U22dLxOR8qoI"
   },
   "source": [
    "To test how accurate our prediction model is, we will use it to predict depression rate for the year 2018. We already have the webscraped data of 2018 to work on."
   ]
  },
  {
   "cell_type": "code",
   "execution_count": 114,
   "metadata": {
    "colab": {},
    "colab_type": "code",
    "id": "NRykBsx58ror",
    "outputId": "479b3785-4a1f-4ef2-9b3b-17f03d67ba99"
   },
   "outputs": [
    {
     "name": "stdout",
     "output_type": "stream",
     "text": [
      "The predicted depression rate for 2018 from energy data is:  [[ 15.80945705]]\n",
      "The predicted depression rate for 2018 from tempo data is:  [[ 13.33309225]]\n"
     ]
    }
   ],
   "source": [
    "#Model prediction for the year 2018\n",
    "mean_energy_2018=df_2018['Energy'].mean()\n",
    "mean_tempo_2018=df_2018['Tempo'].mean()\n",
    "mean_energy_2018=standardize_values(mean_energy_2018)\n",
    "depression_2018_tempo=model_dance.predict(mean_tempo_2018)\n",
    "depression_2018_energy=model.predict(mean_energy_2018)\n",
    "print(\"The predicted depression rate for 2018 from energy data is: \",depression_2018_energy)\n",
    "print(\"The predicted depression rate for 2018 from tempo data is: \",depression_2018_tempo)"
   ]
  },
  {
   "cell_type": "markdown",
   "metadata": {
    "colab_type": "text",
    "id": "iUz8WUbe8tND"
   },
   "source": [
    "As we can see from our predictive model, the energy model gives us a good estimate of depression rates as it shows a definite increase. This fits our hypothesis. But, the tempo model does not really show much difference in depression rates."
   ]
  },
  {
   "cell_type": "markdown",
   "metadata": {
    "colab": {},
    "colab_type": "code",
    "id": "L5hOIyztDmv5"
   },
   "source": [
    "From our analysis, the regression models show that there is indeed an inverse correlation between depression rates with energy, and tempo.\n",
    "Our predictive model helps us predict depression rates of each year from the mean tempo or energy of that year. We can also see in our model that the year with the highest depression rate is the year which has lower average tempo and energy. \n",
    "Having said that, the year 2017 also seems like an outlier in out data as it has a rate which increases a lot from the other years."
   ]
  },
  {
   "cell_type": "markdown",
   "metadata": {
    "colab_type": "text",
    "id": "xodY6oV6Zmul"
   },
   "source": [
    "# Ethics & Privacy"
   ]
  },
  {
   "cell_type": "markdown",
   "metadata": {
    "colab_type": "text",
    "id": "_vgD2CxsZmum"
   },
   "source": [
    "We obtained the songs datasets for each year from Spotify’s own API, which is accessible to the public so we had permission to use it; we just had to agree to their terms and conditions. For our mental health data, we got the data from healthdata.gov which was a public database so it was also accessible for public use and it was okay for us to use it.There were no privacy concerns we had to deal with in specific, but we made sure to be credible and not alter the data at all. This ensured that the data we were using was authentic and credible, and did not invade anyone's privacy. \n",
    "\n",
    "There are some potential biases from the actual databases however. For one, we are unware of how healthdata.gov obtained their data. We do not know if there were any biases involved in their data since we do not have adequate information on how they did their interviews and gathered their data, which could influence any biases in our analysis and results. Since we do not have enought information on their dataset and study, we are not completely confident in the ethical grounds behind it because mental health is a private topic and we are not sure if they were given permission by the people they interviewed for it to be made part of a dataset visible to the public. The dataset did not reveal any personal information however, and everything was kept anonymous. We also were concerned about confidnetiality issues when it comes to mental health illnesses and the fact that not everyone is open to talk about their mental health and so not many people even know that they have mental health issues, so the numbers could be not truly reflective of the community’s mental health as a whole. \n",
    "\n",
    "We created some biasedness in our data when we cleaned our data and only took the total percentage of depression from each year. The whole dataset had more criterias and we only focused on the one we needed.\n",
    "\n",
    "We can claim that we tried to follow all ethics and privacy rules but we are also aware that no data is bias free and we create that biasedness in our data when we clean it. \n",
    "\n",
    "\n",
    "\n"
   ]
  },
  {
   "cell_type": "markdown",
   "metadata": {
    "colab_type": "text",
    "id": "eZlTwBjaZmun"
   },
   "source": [
    "# Conclusion & Discussion"
   ]
  },
  {
   "cell_type": "markdown",
   "metadata": {
    "colab_type": "text",
    "id": "VZ5XqJEsZmuo"
   },
   "source": [
    "This project focused on analyzing the relationship between the top 100 Spotify songs and depression rates in California over the past five years. In order to assess the songs in quantifiable measures, we analyzed the change in valence, energy and dance-ability of the top songs in each year. We then compared the general trend of each of the three mechanical audio features to the change in depression rates over the past 5 years. We hypothesized that there is an negative correlation between the two datasets whereas depression rates increase, the tempo, valence, energy and dance-ability of the top 100 songs listened to on Spotify should decrease. However based on our data analysis, energy has a relatively negative correlation with depression rates and so does tempo. But valence has a postive but low correlation with depression rates, while dance-ability has a high positive correlation with depression rates over the analyzed 5 years in California. \n",
    "\n",
    "The varying correlations can be due to the fact that each audio feature plays a different role in a song and that depression abnormally affects the individual’s behavioral response to stimuli such as music. For example, study shows that depression “flattens the emotional landscape” and depressed individuals exhibit little reactivity to emotion and emotional context  ([link](http://psychology.usf.edu/faculty/data/jrottenberg/cd.pdf)) and since valence refers to the emotion/mood of a song, this can possibly help explain the low positve correlation between valence and depression rates. . However, a dance-ability’s positive correlation with depression rates can imply that songs with high dance-ability might play a role in the type of music being listened to since dancing and physical exercise releases endorphins (feel-good chemicals) that reduce stress and boost mood. Energy and tempo have a negative correlation with depression rates which agrees with our hypothesis implying that there is some type of a relationship whereas depression rates increase, the energy and tempo of the top songs listened to decreases. To see why only tempo and energy had the correlation which we were expecting we did some research on what song tempo means. From one article, we found that \"The tempo of a song generally correlates with the kind of mood a song will set in a video or any project that utilizes music to invoke a specific feeling in the audience. The higher the BPM, the faster the song, which is great for scenes that are joyful, exciting, or need to move quickly or intensely. Meanwhile, a lower BPM means the song is slower, which is fitting scenes that are sad, dramatic or romantic.\" This explains why lower tempo years saw an increase in depression rates.  \n",
    "\n",
    "Limitations to our work include limited availability of depression data in California where we were only able to find data for the past five which affected the accuracy of our data analysis since we did not have adequate data to rely on. This can tie back with the confidentiality issue revolving mental illness. Another Limitation was that the music data sets available were for Spotify which might not have been a big enough scope like billboard’s so not necessarily all of the individuals reported in the depression dataset listened to Spotify music. Due to time constraints we could only work on data from last 5 years, if we had more time we could have done the analysis on the last 15/20 years. Another factor is that we only used 100 songs from each year as scraping data from spotify is a time consuming process.\n",
    "\n",
    "Our work can hopefully encourage future research and analysis on the relationship between music and depression at a much bigger scale and possible non-drug treatments for mental health illnesses such as music and dance therapy. "
   ]
  }
 ],
 "metadata": {
  "colab": {
   "collapsed_sections": [
    "HAclrILVT3pf",
    "cApRfQlcUKqo",
    "HJwVEsF3UsF4",
    "QP5BsUzBrBcp"
   ],
   "name": "FinalProject_5-3-2.ipynb",
   "provenance": [],
   "version": "0.3.2"
  },
  "kernelspec": {
   "display_name": "Python 3",
   "language": "python",
   "name": "python3"
  },
  "language_info": {
   "codemirror_mode": {
    "name": "ipython",
    "version": 3
   },
   "file_extension": ".py",
   "mimetype": "text/x-python",
   "name": "python",
   "nbconvert_exporter": "python",
   "pygments_lexer": "ipython3",
   "version": "3.6.7"
  }
 },
 "nbformat": 4,
 "nbformat_minor": 1
}
