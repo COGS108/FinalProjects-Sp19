{
 "cells": [
  {
   "cell_type": "markdown",
   "metadata": {},
   "source": [
    "# COGS 108 - Final Project"
   ]
  },
  {
   "cell_type": "markdown",
   "metadata": {},
   "source": [
    "## Overview\n",
    "We have analyzed the return on investment of graduating from a private or public university and how your choice affects financial stability. Our initial hypothesis was that private schools have a measurable increase in financial stability that justifies their typically higher cost. We found that financial stability had a high positive correlation with cost of attendance and that low income families were the most significantly affected. We also found that loan debt and cost had no correlation. After this analysis, we concluded that our hypothesis is correct with an underlying cause that the more a student pays to go to college, the more likely they will be financially stable. "
   ]
  },
  {
   "cell_type": "markdown",
   "metadata": {},
   "source": [
    "### Group Members\n",
    "* Race Hunter\n",
    "* Camdyn Rasque\n",
    "* Lawrence Shiu\n",
    "* Anthony Garcia"
   ]
  },
  {
   "cell_type": "markdown",
   "metadata": {},
   "source": [
    "### Group Members' IDs\n",
    "* A11715904 (Race)\n",
    "* A14043144 (Camdyn)\n",
    "* A13549986 (Lawrence)\n",
    "* A12911435 (Anthony)"
   ]
  },
  {
   "cell_type": "markdown",
   "metadata": {},
   "source": [
    "## Introduction and Background"
   ]
  },
  {
   "cell_type": "markdown",
   "metadata": {},
   "source": [
    "### Research Question\n",
    "In the United States, does attending a private or public university, coupled with the cost of tuition, have any correlation with your job opportunities (measured by average starting salary) after graduation?"
   ]
  },
  {
   "cell_type": "markdown",
   "metadata": {},
   "source": [
    "### Background and Prior Work\n",
    "Our group was interested in this question since all members are currently enrolled in a public, 4-year research university. Consequently, the group has a partial vested interest in determining how their return on investment (ROI) will compare to their peers who attended a private, 4-year research university. Also, with loan debt on the rise, the cost of going into higher education is one of the major concerns for many future students. By answering this research question, we hope to better inform these individuals about the ROI when choosing between attending a public or a private university. Potentially, these findings could ease the financial burden affecting families across the nation and thus lower the country's average student loan debt.\n",
    "\n",
    "After performing a web search on the topic, we found that several research articles have already been published relating to the question of interest. One post in a blog (1) examined whether the increase in earnings with a degree from a private university would outweigh any additional debt the students incur versus the earnings with a degree from a public university. To answer this question, researchers analyzed data from America's top 20 public and private universities. They compared average mid-career salaries, factoring in the cost of living expenses by subtracting these amounts from the accumulated earnings. The report concluded graduates from a private university earn approximately 10% more income than their public university peers. However, the report also recognized that private university graduates have more debt on average. From these findings, we wanted to focus more on the actual price students paid for their degrees &ndash; considering grants and other types of non-repayable funding offers. \n",
    "\n",
    "The inspiration began with a previous final project (2) where the group asked the questions, “Are universities worth the opportunity cost? Is going to college better than just having a high school degree?” From the analysis, that group was unable to definitively conclude if going to college was worth the cost. However, they did find that the earnings of individuals with their highest level of education being high school, have been steadily declining over the years. The group also uses two OLS regression tests to compare the determining factor between the earnings of the two groups.\n",
    "\n",
    "References:\n",
    "1. https://www.lexingtonlaw.com/blog/loans/public-vs-private-college-roi.html\n",
    "2. https://github.com/COGS108/FinalProjects-Sp17/blob/master/081-FinalProject.ipynb"
   ]
  },
  {
   "cell_type": "markdown",
   "metadata": {},
   "source": [
    "### Hypothesis\n",
    "We expect to find that students who graduate from a private university will have a higher average starting salary than graduates from a public university. We also expect that for both private and public, there will be a positive correlation between cost of tuition and starting salary.\n",
    "\n",
    "We came to this conclusion because of the market value of private universities. The education market has decided that the return on investment justified the increased cost."
   ]
  },
  {
   "cell_type": "markdown",
   "metadata": {},
   "source": [
    "## Data Description\n",
    "The dataset comes from the college scorecard data compiled by the U.S. Department of Education (3). The files include data from 1996 through 2017 for all undergraduate degree-granting institutions. This data was last updated May 21, 2019.\n",
    "\n",
    "The group was primarily interested in the following metrics: cost (which was separated into average cost of attendance, tuition/fees, and average net price by income level), aid, repayment using standard amorization, and earnings. The dataset also includes documentation reporting how the data was gathered and missing data for each category, as well as a dictionary that describes all the variables used.\n",
    "\n",
    "The Department of Education claims to have taken extra precautions to limit the variability in the figures that are seen from a year-over-year basis (i.e. earnings and repayment). For privacy, data for any schools with fewer than 30 students have been supressed. In addition, all information relating to student loan debt that has not been reported is identified as PrivacySuppressed. This dataset is partially limited becuase starting salaries are only available for recipients of federal aid. Nevertheless, with 85% of university students receiving aid (4) and our target audience being potential recipients of aid, we concluded that this dataset was sufficient.\n",
    "\n",
    "Overall, the data appears to be valid, current, ethical, and avoids all sources of bias. At over 7500 observations, there is sufficient data for analysis.\n",
    "\n",
    "Reference:\n",
    "3. https://collegescorecard.ed.gov/data/\n",
    "4. https://nces.ed.gov/fastfacts/display.asp?id=31"
   ]
  },
  {
   "cell_type": "markdown",
   "metadata": {},
   "source": [
    "#### Setup"
   ]
  },
  {
   "cell_type": "code",
   "execution_count": 1,
   "metadata": {},
   "outputs": [],
   "source": [
    "# Display plots directly in the notebook instead of in a new window\n",
    "%matplotlib inline\n",
    "\n",
    "# Import libraries\n",
    "import numpy as np\n",
    "import pandas as pd\n",
    "import matplotlib.pyplot as plt\n",
    "import seaborn as sns\n",
    "import patsy\n",
    "import statsmodels.api as sm\n",
    "import scipy.stats as stats\n",
    "from astropy.table import Table, Column\n",
    "from scipy.stats import ttest_ind, chisquare, normaltest"
   ]
  },
  {
   "cell_type": "markdown",
   "metadata": {},
   "source": [
    "## Data Analysis"
   ]
  },
  {
   "cell_type": "markdown",
   "metadata": {},
   "source": [
    "### Data Cleaning\n",
    "2012 has the most recent set containing starting salaries. Here is a sample for an idea of how this dataset behaves."
   ]
  },
  {
   "cell_type": "code",
   "execution_count": 2,
   "metadata": {
    "scrolled": false
   },
   "outputs": [
    {
     "data": {
      "text/html": [
       "<div>\n",
       "<style scoped>\n",
       "    .dataframe tbody tr th:only-of-type {\n",
       "        vertical-align: middle;\n",
       "    }\n",
       "\n",
       "    .dataframe tbody tr th {\n",
       "        vertical-align: top;\n",
       "    }\n",
       "\n",
       "    .dataframe thead th {\n",
       "        text-align: right;\n",
       "    }\n",
       "</style>\n",
       "<table border=\"1\" class=\"dataframe\">\n",
       "  <thead>\n",
       "    <tr style=\"text-align: right;\">\n",
       "      <th></th>\n",
       "      <th>UNITID</th>\n",
       "      <th>OPEID</th>\n",
       "      <th>OPEID6</th>\n",
       "      <th>INSTNM</th>\n",
       "      <th>CITY</th>\n",
       "      <th>STABBR</th>\n",
       "      <th>ZIP</th>\n",
       "      <th>ACCREDAGENCY</th>\n",
       "      <th>INSTURL</th>\n",
       "      <th>NPCURL</th>\n",
       "      <th>...</th>\n",
       "      <th>OMAWDP6_FTNFT_POOLED_SUPP</th>\n",
       "      <th>OMAWDP8_FTNFT_POOLED_SUPP</th>\n",
       "      <th>OMENRYP8_FTNFT_POOLED_SUPP</th>\n",
       "      <th>OMENRAP8_FTNFT_POOLED_SUPP</th>\n",
       "      <th>OMENRUP8_FTNFT_POOLED_SUPP</th>\n",
       "      <th>OMAWDP6_PTNFT_POOLED_SUPP</th>\n",
       "      <th>OMAWDP8_PTNFT_POOLED_SUPP</th>\n",
       "      <th>OMENRYP8_PTNFT_POOLED_SUPP</th>\n",
       "      <th>OMENRAP8_PTNFT_POOLED_SUPP</th>\n",
       "      <th>OMENRUP8_PTNFT_POOLED_SUPP</th>\n",
       "    </tr>\n",
       "  </thead>\n",
       "  <tbody>\n",
       "    <tr>\n",
       "      <th>0</th>\n",
       "      <td>100654</td>\n",
       "      <td>100200</td>\n",
       "      <td>1002</td>\n",
       "      <td>Alabama A &amp; M University</td>\n",
       "      <td>Normal</td>\n",
       "      <td>AL</td>\n",
       "      <td>35762</td>\n",
       "      <td>NaN</td>\n",
       "      <td>NaN</td>\n",
       "      <td>NaN</td>\n",
       "      <td>...</td>\n",
       "      <td>NaN</td>\n",
       "      <td>NaN</td>\n",
       "      <td>NaN</td>\n",
       "      <td>NaN</td>\n",
       "      <td>NaN</td>\n",
       "      <td>NaN</td>\n",
       "      <td>NaN</td>\n",
       "      <td>NaN</td>\n",
       "      <td>NaN</td>\n",
       "      <td>NaN</td>\n",
       "    </tr>\n",
       "    <tr>\n",
       "      <th>1</th>\n",
       "      <td>100663</td>\n",
       "      <td>105200</td>\n",
       "      <td>1052</td>\n",
       "      <td>University of Alabama at Birmingham</td>\n",
       "      <td>Birmingham</td>\n",
       "      <td>AL</td>\n",
       "      <td>35294-0110</td>\n",
       "      <td>NaN</td>\n",
       "      <td>NaN</td>\n",
       "      <td>NaN</td>\n",
       "      <td>...</td>\n",
       "      <td>NaN</td>\n",
       "      <td>NaN</td>\n",
       "      <td>NaN</td>\n",
       "      <td>NaN</td>\n",
       "      <td>NaN</td>\n",
       "      <td>NaN</td>\n",
       "      <td>NaN</td>\n",
       "      <td>NaN</td>\n",
       "      <td>NaN</td>\n",
       "      <td>NaN</td>\n",
       "    </tr>\n",
       "    <tr>\n",
       "      <th>2</th>\n",
       "      <td>100690</td>\n",
       "      <td>2503400</td>\n",
       "      <td>25034</td>\n",
       "      <td>Amridge University</td>\n",
       "      <td>Montgomery</td>\n",
       "      <td>AL</td>\n",
       "      <td>36117-3553</td>\n",
       "      <td>NaN</td>\n",
       "      <td>NaN</td>\n",
       "      <td>NaN</td>\n",
       "      <td>...</td>\n",
       "      <td>NaN</td>\n",
       "      <td>NaN</td>\n",
       "      <td>NaN</td>\n",
       "      <td>NaN</td>\n",
       "      <td>NaN</td>\n",
       "      <td>NaN</td>\n",
       "      <td>NaN</td>\n",
       "      <td>NaN</td>\n",
       "      <td>NaN</td>\n",
       "      <td>NaN</td>\n",
       "    </tr>\n",
       "    <tr>\n",
       "      <th>3</th>\n",
       "      <td>100706</td>\n",
       "      <td>105500</td>\n",
       "      <td>1055</td>\n",
       "      <td>University of Alabama in Huntsville</td>\n",
       "      <td>Huntsville</td>\n",
       "      <td>AL</td>\n",
       "      <td>35899</td>\n",
       "      <td>NaN</td>\n",
       "      <td>NaN</td>\n",
       "      <td>NaN</td>\n",
       "      <td>...</td>\n",
       "      <td>NaN</td>\n",
       "      <td>NaN</td>\n",
       "      <td>NaN</td>\n",
       "      <td>NaN</td>\n",
       "      <td>NaN</td>\n",
       "      <td>NaN</td>\n",
       "      <td>NaN</td>\n",
       "      <td>NaN</td>\n",
       "      <td>NaN</td>\n",
       "      <td>NaN</td>\n",
       "    </tr>\n",
       "    <tr>\n",
       "      <th>4</th>\n",
       "      <td>100724</td>\n",
       "      <td>100500</td>\n",
       "      <td>1005</td>\n",
       "      <td>Alabama State University</td>\n",
       "      <td>Montgomery</td>\n",
       "      <td>AL</td>\n",
       "      <td>36104-0271</td>\n",
       "      <td>NaN</td>\n",
       "      <td>NaN</td>\n",
       "      <td>NaN</td>\n",
       "      <td>...</td>\n",
       "      <td>NaN</td>\n",
       "      <td>NaN</td>\n",
       "      <td>NaN</td>\n",
       "      <td>NaN</td>\n",
       "      <td>NaN</td>\n",
       "      <td>NaN</td>\n",
       "      <td>NaN</td>\n",
       "      <td>NaN</td>\n",
       "      <td>NaN</td>\n",
       "      <td>NaN</td>\n",
       "    </tr>\n",
       "  </tbody>\n",
       "</table>\n",
       "<p>5 rows × 1899 columns</p>\n",
       "</div>"
      ],
      "text/plain": [
       "   UNITID    OPEID  OPEID6                               INSTNM        CITY  \\\n",
       "0  100654   100200    1002             Alabama A & M University      Normal   \n",
       "1  100663   105200    1052  University of Alabama at Birmingham  Birmingham   \n",
       "2  100690  2503400   25034                   Amridge University  Montgomery   \n",
       "3  100706   105500    1055  University of Alabama in Huntsville  Huntsville   \n",
       "4  100724   100500    1005             Alabama State University  Montgomery   \n",
       "\n",
       "  STABBR         ZIP  ACCREDAGENCY  INSTURL  NPCURL  ...  \\\n",
       "0     AL       35762           NaN      NaN     NaN  ...   \n",
       "1     AL  35294-0110           NaN      NaN     NaN  ...   \n",
       "2     AL  36117-3553           NaN      NaN     NaN  ...   \n",
       "3     AL       35899           NaN      NaN     NaN  ...   \n",
       "4     AL  36104-0271           NaN      NaN     NaN  ...   \n",
       "\n",
       "   OMAWDP6_FTNFT_POOLED_SUPP  OMAWDP8_FTNFT_POOLED_SUPP  \\\n",
       "0                        NaN                        NaN   \n",
       "1                        NaN                        NaN   \n",
       "2                        NaN                        NaN   \n",
       "3                        NaN                        NaN   \n",
       "4                        NaN                        NaN   \n",
       "\n",
       "   OMENRYP8_FTNFT_POOLED_SUPP  OMENRAP8_FTNFT_POOLED_SUPP  \\\n",
       "0                         NaN                         NaN   \n",
       "1                         NaN                         NaN   \n",
       "2                         NaN                         NaN   \n",
       "3                         NaN                         NaN   \n",
       "4                         NaN                         NaN   \n",
       "\n",
       "   OMENRUP8_FTNFT_POOLED_SUPP  OMAWDP6_PTNFT_POOLED_SUPP  \\\n",
       "0                         NaN                        NaN   \n",
       "1                         NaN                        NaN   \n",
       "2                         NaN                        NaN   \n",
       "3                         NaN                        NaN   \n",
       "4                         NaN                        NaN   \n",
       "\n",
       "   OMAWDP8_PTNFT_POOLED_SUPP  OMENRYP8_PTNFT_POOLED_SUPP  \\\n",
       "0                        NaN                         NaN   \n",
       "1                        NaN                         NaN   \n",
       "2                        NaN                         NaN   \n",
       "3                        NaN                         NaN   \n",
       "4                        NaN                         NaN   \n",
       "\n",
       "   OMENRAP8_PTNFT_POOLED_SUPP  OMENRUP8_PTNFT_POOLED_SUPP  \n",
       "0                         NaN                         NaN  \n",
       "1                         NaN                         NaN  \n",
       "2                         NaN                         NaN  \n",
       "3                         NaN                         NaN  \n",
       "4                         NaN                         NaN  \n",
       "\n",
       "[5 rows x 1899 columns]"
      ]
     },
     "execution_count": 2,
     "metadata": {},
     "output_type": "execute_result"
    }
   ],
   "source": [
    "df = pd.read_csv(\"Datasets/College Scorecard/MERGED2011_12_PP.csv\")\n",
    "df[0:5]"
   ]
  },
  {
   "cell_type": "code",
   "execution_count": 3,
   "metadata": {},
   "outputs": [
    {
     "data": {
      "text/plain": [
       "(7675, 1899)"
      ]
     },
     "execution_count": 3,
     "metadata": {},
     "output_type": "execute_result"
    }
   ],
   "source": [
    "df.shape"
   ]
  },
  {
   "cell_type": "code",
   "execution_count": 4,
   "metadata": {},
   "outputs": [
    {
     "data": {
      "text/plain": [
       "(7675, 1613)"
      ]
     },
     "execution_count": 4,
     "metadata": {},
     "output_type": "execute_result"
    }
   ],
   "source": [
    "# remove all columns that have only NaN values\n",
    "df = df.dropna(axis=1, how='all')\n",
    "df.shape"
   ]
  },
  {
   "cell_type": "markdown",
   "metadata": {},
   "source": [
    "### Documentation from the dataset\n",
    "\n",
    "1. **INSTN** = Name of college\n",
    "2. **CONTROL** = Public, private, nonprofit, or private for-profit.\n",
    "3. **HIGHDEG** = Type of max degree given\n",
    "4. **TUITFTE** = Average revenue minus discounts and allowances\n",
    "5. **AVGFACSAL** = Average faculty income monthly\n",
    "6. **NPT4_PUB** = Average net yearly price for public university - grant aid\n",
    "7. **NPT4_PRIV** = Average net yearly price for private university - grant aid\n",
    "8. **PCTFLOAN** = Percentage of students who receive financial aid\n",
    "9. **RET_FT4** = Retention rate of students\n",
    "10. **MN_EARN_WNE_P6** = Average earn wages of graduates\n",
    "11. **MN_EARN_WNE_INC1_P6** = Average wages of graduates who are from low income families 30,000 or less\n",
    "12. **MN_EARN_WNE_INC2_P6** = Average wages of graduates who are from middle income families 30,001-75,000\n",
    "13. **MN_EARN_WNE_INC3_P6** = Average wages of graduates who are from high income families 75,001+\n",
    "14. **GT_25K_P6** = Percent of students who earn above 25k\n",
    "15. **GRAD_DEBT_MDN** = Median loan debt accumulated by all graduates of that year\n",
    "16. **COSTT4_A** = Average yearly cost of attendance"
   ]
  },
  {
   "cell_type": "markdown",
   "metadata": {},
   "source": [
    "##### Here, we drop all the columns except for the ones we want to track. These are outlined above."
   ]
  },
  {
   "cell_type": "code",
   "execution_count": 5,
   "metadata": {},
   "outputs": [
    {
     "data": {
      "text/plain": [
       "(7675, 16)"
      ]
     },
     "execution_count": 5,
     "metadata": {},
     "output_type": "execute_result"
    }
   ],
   "source": [
    "# gather only necessary data\n",
    "df = df[['INSTNM', 'CONTROL','HIGHDEG', 'TUITFTE', 'AVGFACSAL', 'COSTT4_A', 'NPT4_PUB', 'NPT4_PRIV', 'PCTFLOAN', 'RET_FT4', 'MN_EARN_WNE_P6', 'MN_EARN_WNE_INC1_P6', 'MN_EARN_WNE_INC2_P6', 'MN_EARN_WNE_INC3_P6', 'GT_25K_P6', 'GRAD_DEBT_MDN']]\n",
    "df.shape"
   ]
  },
  {
   "cell_type": "code",
   "execution_count": 6,
   "metadata": {
    "scrolled": true
   },
   "outputs": [
    {
     "data": {
      "text/html": [
       "<div>\n",
       "<style scoped>\n",
       "    .dataframe tbody tr th:only-of-type {\n",
       "        vertical-align: middle;\n",
       "    }\n",
       "\n",
       "    .dataframe tbody tr th {\n",
       "        vertical-align: top;\n",
       "    }\n",
       "\n",
       "    .dataframe thead th {\n",
       "        text-align: right;\n",
       "    }\n",
       "</style>\n",
       "<table border=\"1\" class=\"dataframe\">\n",
       "  <thead>\n",
       "    <tr style=\"text-align: right;\">\n",
       "      <th></th>\n",
       "      <th>INSTNM</th>\n",
       "      <th>CONTROL</th>\n",
       "      <th>HIGHDEG</th>\n",
       "      <th>TUITFTE</th>\n",
       "      <th>AVGFACSAL</th>\n",
       "      <th>COSTT4_A</th>\n",
       "      <th>NPT4_PUB</th>\n",
       "      <th>NPT4_PRIV</th>\n",
       "      <th>PCTFLOAN</th>\n",
       "      <th>RET_FT4</th>\n",
       "      <th>MN_EARN_WNE_P6</th>\n",
       "      <th>MN_EARN_WNE_INC1_P6</th>\n",
       "      <th>MN_EARN_WNE_INC2_P6</th>\n",
       "      <th>MN_EARN_WNE_INC3_P6</th>\n",
       "      <th>GT_25K_P6</th>\n",
       "      <th>GRAD_DEBT_MDN</th>\n",
       "    </tr>\n",
       "  </thead>\n",
       "  <tbody>\n",
       "    <tr>\n",
       "      <th>0</th>\n",
       "      <td>Alabama A &amp; M University</td>\n",
       "      <td>1</td>\n",
       "      <td>4</td>\n",
       "      <td>4626.0</td>\n",
       "      <td>6460.0</td>\n",
       "      <td>14965.0</td>\n",
       "      <td>8734.0</td>\n",
       "      <td>NaN</td>\n",
       "      <td>0.7903</td>\n",
       "      <td>0.6441</td>\n",
       "      <td>26100</td>\n",
       "      <td>24700</td>\n",
       "      <td>25800</td>\n",
       "      <td>30500</td>\n",
       "      <td>0.46229803562164</td>\n",
       "      <td>26499</td>\n",
       "    </tr>\n",
       "    <tr>\n",
       "      <th>1</th>\n",
       "      <td>University of Alabama at Birmingham</td>\n",
       "      <td>1</td>\n",
       "      <td>4</td>\n",
       "      <td>7289.0</td>\n",
       "      <td>9420.0</td>\n",
       "      <td>19547.0</td>\n",
       "      <td>15013.0</td>\n",
       "      <td>NaN</td>\n",
       "      <td>0.5355</td>\n",
       "      <td>0.7873</td>\n",
       "      <td>37400</td>\n",
       "      <td>37800</td>\n",
       "      <td>37800</td>\n",
       "      <td>36300</td>\n",
       "      <td>0.66048449277877</td>\n",
       "      <td>17000</td>\n",
       "    </tr>\n",
       "    <tr>\n",
       "      <th>2</th>\n",
       "      <td>Amridge University</td>\n",
       "      <td>2</td>\n",
       "      <td>4</td>\n",
       "      <td>11969.0</td>\n",
       "      <td>3500.0</td>\n",
       "      <td>11540.0</td>\n",
       "      <td>NaN</td>\n",
       "      <td>4422.0</td>\n",
       "      <td>0.7415</td>\n",
       "      <td>0.7500</td>\n",
       "      <td>38500</td>\n",
       "      <td>PrivacySuppressed</td>\n",
       "      <td>PrivacySuppressed</td>\n",
       "      <td>PrivacySuppressed</td>\n",
       "      <td>0.64666664600372</td>\n",
       "      <td>17740.5</td>\n",
       "    </tr>\n",
       "    <tr>\n",
       "      <th>3</th>\n",
       "      <td>University of Alabama in Huntsville</td>\n",
       "      <td>1</td>\n",
       "      <td>4</td>\n",
       "      <td>7264.0</td>\n",
       "      <td>8482.0</td>\n",
       "      <td>19072.0</td>\n",
       "      <td>9677.0</td>\n",
       "      <td>NaN</td>\n",
       "      <td>0.4779</td>\n",
       "      <td>0.7883</td>\n",
       "      <td>39300</td>\n",
       "      <td>36100</td>\n",
       "      <td>41800</td>\n",
       "      <td>41100</td>\n",
       "      <td>0.6605657339096</td>\n",
       "      <td>20000</td>\n",
       "    </tr>\n",
       "    <tr>\n",
       "      <th>4</th>\n",
       "      <td>Alabama State University</td>\n",
       "      <td>1</td>\n",
       "      <td>4</td>\n",
       "      <td>7220.0</td>\n",
       "      <td>6794.0</td>\n",
       "      <td>15986.0</td>\n",
       "      <td>5514.0</td>\n",
       "      <td>NaN</td>\n",
       "      <td>0.7694</td>\n",
       "      <td>0.5450</td>\n",
       "      <td>21200</td>\n",
       "      <td>20200</td>\n",
       "      <td>23400</td>\n",
       "      <td>21700</td>\n",
       "      <td>0.34222561120986</td>\n",
       "      <td>29002</td>\n",
       "    </tr>\n",
       "  </tbody>\n",
       "</table>\n",
       "</div>"
      ],
      "text/plain": [
       "                                INSTNM  CONTROL  HIGHDEG  TUITFTE  AVGFACSAL  \\\n",
       "0             Alabama A & M University        1        4   4626.0     6460.0   \n",
       "1  University of Alabama at Birmingham        1        4   7289.0     9420.0   \n",
       "2                   Amridge University        2        4  11969.0     3500.0   \n",
       "3  University of Alabama in Huntsville        1        4   7264.0     8482.0   \n",
       "4             Alabama State University        1        4   7220.0     6794.0   \n",
       "\n",
       "   COSTT4_A  NPT4_PUB  NPT4_PRIV  PCTFLOAN  RET_FT4 MN_EARN_WNE_P6  \\\n",
       "0   14965.0    8734.0        NaN    0.7903   0.6441          26100   \n",
       "1   19547.0   15013.0        NaN    0.5355   0.7873          37400   \n",
       "2   11540.0       NaN     4422.0    0.7415   0.7500          38500   \n",
       "3   19072.0    9677.0        NaN    0.4779   0.7883          39300   \n",
       "4   15986.0    5514.0        NaN    0.7694   0.5450          21200   \n",
       "\n",
       "  MN_EARN_WNE_INC1_P6 MN_EARN_WNE_INC2_P6 MN_EARN_WNE_INC3_P6  \\\n",
       "0               24700               25800               30500   \n",
       "1               37800               37800               36300   \n",
       "2   PrivacySuppressed   PrivacySuppressed   PrivacySuppressed   \n",
       "3               36100               41800               41100   \n",
       "4               20200               23400               21700   \n",
       "\n",
       "          GT_25K_P6 GRAD_DEBT_MDN  \n",
       "0  0.46229803562164         26499  \n",
       "1  0.66048449277877         17000  \n",
       "2  0.64666664600372       17740.5  \n",
       "3   0.6605657339096         20000  \n",
       "4  0.34222561120986         29002  "
      ]
     },
     "execution_count": 6,
     "metadata": {},
     "output_type": "execute_result"
    }
   ],
   "source": [
    "df.head()"
   ]
  },
  {
   "cell_type": "markdown",
   "metadata": {},
   "source": [
    "##### Due to school size, some data is suppressed. We're going to remove those schools because they don't fit the comparison we're looking for. Some schools will also be dropped because they aren't four year universities."
   ]
  },
  {
   "cell_type": "code",
   "execution_count": 7,
   "metadata": {},
   "outputs": [
    {
     "data": {
      "text/plain": [
       "(3839, 16)"
      ]
     },
     "execution_count": 7,
     "metadata": {},
     "output_type": "execute_result"
    }
   ],
   "source": [
    "# remove all schools that don't display income of graduates\n",
    "df = df[df.MN_EARN_WNE_INC1_P6 != 'PrivacySuppressed']\n",
    "df = df[df.MN_EARN_WNE_INC2_P6 != 'PrivacySuppressed']\n",
    "df = df[df.MN_EARN_WNE_INC3_P6 != 'PrivacySuppressed']\n",
    "df = df[df.GRAD_DEBT_MDN != 'PrivacySuppressed']\n",
    "df.shape"
   ]
  },
  {
   "cell_type": "code",
   "execution_count": 8,
   "metadata": {},
   "outputs": [
    {
     "data": {
      "text/plain": [
       "(1408, 16)"
      ]
     },
     "execution_count": 8,
     "metadata": {},
     "output_type": "execute_result"
    }
   ],
   "source": [
    "# make sure we're looking at only 4 year universities\n",
    "df = df[df['HIGHDEG'] >= 4]\n",
    "df.shape"
   ]
  },
  {
   "cell_type": "code",
   "execution_count": 9,
   "metadata": {},
   "outputs": [],
   "source": [
    "# change earning's data from string to float\n",
    "df['MN_EARN_WNE_P6'] = pd.to_numeric(df['MN_EARN_WNE_P6'])\n",
    "df['MN_EARN_WNE_INC1_P6'] = pd.to_numeric(df['MN_EARN_WNE_INC1_P6'])\n",
    "df['MN_EARN_WNE_INC2_P6'] = pd.to_numeric(df['MN_EARN_WNE_INC2_P6'])\n",
    "df['MN_EARN_WNE_INC3_P6'] = pd.to_numeric(df['MN_EARN_WNE_INC3_P6'])\n",
    "df['GRAD_DEBT_MDN'] = pd.to_numeric(df['GRAD_DEBT_MDN'])"
   ]
  },
  {
   "cell_type": "code",
   "execution_count": 10,
   "metadata": {},
   "outputs": [
    {
     "data": {
      "text/plain": [
       "(1396, 16)"
      ]
     },
     "execution_count": 10,
     "metadata": {},
     "output_type": "execute_result"
    }
   ],
   "source": [
    "# make sure all data is valid\n",
    "df = df[np.isfinite(df['MN_EARN_WNE_P6'])]\n",
    "df = df[np.isfinite(df['MN_EARN_WNE_INC1_P6'])]\n",
    "df = df[np.isfinite(df['MN_EARN_WNE_INC2_P6'])]\n",
    "df = df[np.isfinite(df['MN_EARN_WNE_INC3_P6'])]\n",
    "df = df[np.isfinite(df['GRAD_DEBT_MDN'])]\n",
    "df.shape"
   ]
  },
  {
   "cell_type": "markdown",
   "metadata": {},
   "source": [
    "##### Finally, we organize the remaining schools, separating them into public and private schools."
   ]
  },
  {
   "cell_type": "code",
   "execution_count": 11,
   "metadata": {},
   "outputs": [
    {
     "name": "stdout",
     "output_type": "stream",
     "text": [
      "(706, 16)\n",
      "(504, 16)\n"
     ]
    }
   ],
   "source": [
    "# split data into private and public\n",
    "df_private = df[df['CONTROL'] == 2]\n",
    "df_public = df[df['CONTROL'] == 1]\n",
    "print(df_private.shape)\n",
    "print(df_public.shape)"
   ]
  },
  {
   "cell_type": "markdown",
   "metadata": {},
   "source": [
    "### Data Visualization"
   ]
  },
  {
   "cell_type": "markdown",
   "metadata": {},
   "source": [
    "##### Explore the average earnings"
   ]
  },
  {
   "cell_type": "code",
   "execution_count": 12,
   "metadata": {},
   "outputs": [
    {
     "data": {
      "text/plain": [
       "<function matplotlib.pyplot.show(*args, **kw)>"
      ]
     },
     "execution_count": 12,
     "metadata": {},
     "output_type": "execute_result"
    },
    {
     "data": {
      "image/png": "[encoded data removed]",
      "text/plain": [
       "<Figure size 432x288 with 1 Axes>"
      ]
     },
     "metadata": {
      "needs_background": "light"
     },
     "output_type": "display_data"
    }
   ],
   "source": [
    "# Plot the aggregate data\n",
    "plt.hist(df['MN_EARN_WNE_P6'], bins = 25)\n",
    "plt.title(\"Annual Earnings Across Private and Public Students\")\n",
    "plt.xlabel(\"Annual Wage (USD)\")\n",
    "plt.ylabel('Number of Colleges')\n",
    "plt.show"
   ]
  },
  {
   "cell_type": "code",
   "execution_count": 13,
   "metadata": {},
   "outputs": [
    {
     "data": {
      "text/plain": [
       "<function matplotlib.pyplot.show(*args, **kw)>"
      ]
     },
     "execution_count": 13,
     "metadata": {},
     "output_type": "execute_result"
    },
    {
     "data": {
      "image/png": "[encoded data removed]",
      "text/plain": [
       "<Figure size 432x288 with 1 Axes>"
      ]
     },
     "metadata": {
      "needs_background": "light"
     },
     "output_type": "display_data"
    }
   ],
   "source": [
    "# Plot just the public schools\n",
    "plt.hist(df_public['MN_EARN_WNE_P6'], bins = 25)\n",
    "plt.xlim(left=15000, right=110000)\n",
    "plt.ylim(bottom=0, top=160)\n",
    "plt.title(\"Annual Earnings Across Public Students\")\n",
    "plt.xlabel(\"Annual Wage (USD)\")\n",
    "plt.ylabel('Number of Colleges')\n",
    "plt.show"
   ]
  },
  {
   "cell_type": "code",
   "execution_count": 14,
   "metadata": {},
   "outputs": [
    {
     "data": {
      "text/plain": [
       "<function matplotlib.pyplot.show(*args, **kw)>"
      ]
     },
     "execution_count": 14,
     "metadata": {},
     "output_type": "execute_result"
    },
    {
     "data": {
      "image/png": "[encoded data removed]",
      "text/plain": [
       "<Figure size 432x288 with 1 Axes>"
      ]
     },
     "metadata": {
      "needs_background": "light"
     },
     "output_type": "display_data"
    }
   ],
   "source": [
    "# Plot just the private schools\n",
    "plt.hist(df_private['MN_EARN_WNE_P6'], bins = 25)\n",
    "plt.xlim(left=15000, right=110000)\n",
    "plt.ylim(bottom=0, top=160)\n",
    "plt.title(\"Annual Earnings Across Private Students\")\n",
    "plt.xlabel(\"Annual Wage (USD)\")\n",
    "plt.ylabel(\"Number of Colleges\")\n",
    "plt.show"
   ]
  },
  {
   "cell_type": "markdown",
   "metadata": {},
   "source": [
    "##### Look at averages"
   ]
  },
  {
   "cell_type": "code",
   "execution_count": 26,
   "metadata": {},
   "outputs": [
    {
     "name": "stdout",
     "output_type": "stream",
     "text": [
      "Total mean: $38196 per year\n",
      "Public mean: $36452 per year\n",
      "Private mean: $39233 per year\n"
     ]
    }
   ],
   "source": [
    "avgPrivateEarnings = np.mean(df_private['MN_EARN_WNE_P6'])\n",
    "avgPublicEarnings = np.mean(df_public['MN_EARN_WNE_P6'])\n",
    "print(\"Total mean: $%d per year\" %np.mean(df['MN_EARN_WNE_P6']))\n",
    "print(\"Public mean: $%d per year\" %avgPublicEarnings)\n",
    "print(\"Private mean: $%d per year\" %avgPrivateEarnings)"
   ]
  },
  {
   "cell_type": "markdown",
   "metadata": {},
   "source": [
    "## Data Analysis & Results"
   ]
  },
  {
   "cell_type": "markdown",
   "metadata": {},
   "source": [
    "### Metric 1 - Job Opportunities After College"
   ]
  },
  {
   "cell_type": "markdown",
   "metadata": {},
   "source": [
    "In this section we investigate if the type of university affects job opportunities afterwards. We compared the wages of graduates of a public and those of a private university. We used t-tests with an alpha value of 5% to test if there was a significant difference. We showed the mean and median below the graph to highlight the spread and skew of the values.\n",
    "\n",
    "Next, we conducted a t-test for the percentage of students who were hired with a starting salary of more than $25k per year to compare the ease of getting a job between public and private graduates."
   ]
  },
  {
   "cell_type": "code",
   "execution_count": 23,
   "metadata": {},
   "outputs": [
    {
     "name": "stdout",
     "output_type": "stream",
     "text": [
      "\n",
      "T-Test for the Lowest Income (<$30k/year) families\n"
     ]
    },
    {
     "data": {
      "image/png": "[encoded data removed]",
      "text/plain": [
       "<Figure size 432x288 with 1 Axes>"
      ]
     },
     "metadata": {
      "needs_background": "light"
     },
     "output_type": "display_data"
    },
    {
     "name": "stdout",
     "output_type": "stream",
     "text": [
      "P-Value (4-Decimals): 0.0119\n",
      "Reject the Null Hypothesis (Alpha=5%): True\n",
      "\n",
      "Public salaries mean: $34,875.79\n",
      "Private salaries mean: $36,618.41\n",
      "Difference: +5.00%\n",
      "\n",
      "Public salaries median: $33,200.00\n",
      "Private salaries median: $32,800.00\n",
      "Difference: -1.20%\n"
     ]
    }
   ],
   "source": [
    "# T-Test for the Lowest Income Families\n",
    "\n",
    "Priv_Wage = df_private['MN_EARN_WNE_INC1_P6']\n",
    "Pub_Wage = df_public['MN_EARN_WNE_INC1_P6']\n",
    "\n",
    "t_val, p_val = ttest_ind(Pub_Wage, Priv_Wage)\n",
    "print()\n",
    "print(\"T-Test for the Lowest Income (<$30k/year) families\")\n",
    "plt.hist(Priv_Wage, alpha=0.5, label='Private')\n",
    "plt.hist(Pub_Wage, alpha=0.5, label='Public')\n",
    "plt.title('Public v. Private - Starting Salaries')\n",
    "plt.xlabel('Starting Salary (USD)')\n",
    "plt.ylabel('Number of Colleges')\n",
    "plt.legend(loc='upper right')\n",
    "plt.show()\n",
    "print(\"P-Value (4-Decimals): \", round(p_val, 4), sep='')\n",
    "print(\"Reject the Null Hypothesis (Alpha=5%):\", p_val < 0.05)\n",
    "print()\n",
    "print(\"Public salaries mean: ${:,.2f}\".format(Pub_Wage.mean()), sep='')\n",
    "print(\"Private salaries mean: ${:,.2f}\".format(Priv_Wage.mean()), sep='')\n",
    "print(\"Difference: +{:,.2f}\".format(((Priv_Wage.mean()-Pub_Wage.mean()) / Pub_Wage.mean()) * 100), \"%\", sep='')\n",
    "print()\n",
    "print(\"Public salaries median: ${:,.2f}\".format(Pub_Wage.median()), sep='')\n",
    "print(\"Private salaries median: ${:,.2f}\".format(Priv_Wage.median()), sep='')\n",
    "print(\"Difference: {:,.2f}\".format(((Priv_Wage.median()-Pub_Wage.median()) / Pub_Wage.median()) * 100), \"%\", sep='')"
   ]
  },
  {
   "cell_type": "code",
   "execution_count": 17,
   "metadata": {},
   "outputs": [
    {
     "name": "stdout",
     "output_type": "stream",
     "text": [
      "\n",
      "T-Test for the Middle Income ($30-70k/year) families\n"
     ]
    },
    {
     "data": {
      "image/png": "[encoded data removed]",
      "text/plain": [
       "<Figure size 432x288 with 1 Axes>"
      ]
     },
     "metadata": {
      "needs_background": "light"
     },
     "output_type": "display_data"
    },
    {
     "name": "stdout",
     "output_type": "stream",
     "text": [
      "P-Value (4-Decimals): 0.0\n",
      "Reject the Null Hypothesis (Alpha=5%): True\n",
      "\n",
      "Public salaries mean: $36,744.05\n",
      "Private salaries mean: $39,474.36\n",
      "Difference: +7.43%\n",
      "\n",
      "Public salaries median: $35,500.00\n",
      "Private salaries median: $37,700.00\n",
      "Difference: +6.20%\n"
     ]
    }
   ],
   "source": [
    "# T-Test for the Middle Income People\n",
    "\n",
    "Priv_Wage = df_private['MN_EARN_WNE_INC2_P6']\n",
    "Pub_Wage = df_public['MN_EARN_WNE_INC2_P6']\n",
    "\n",
    "t_val, p_val = ttest_ind(Pub_Wage, Priv_Wage)\n",
    "print()\n",
    "print(\"T-Test for the Middle Income ($30-70k/year) families\")\n",
    "plt.hist(Priv_Wage, alpha=0.5, label='Private')\n",
    "plt.hist(Pub_Wage, alpha=0.5, label='Public')\n",
    "plt.title('Public v. Private - Starting Salaries')\n",
    "plt.xlabel('Starting Salary (USD)')\n",
    "plt.ylabel('Number of Colleges')\n",
    "plt.legend(loc='upper right')\n",
    "plt.show()\n",
    "print(\"P-Value (4-Decimals): \", round(p_val, 4), sep='')\n",
    "print(\"Reject the Null Hypothesis (Alpha=5%):\", p_val < 0.05)\n",
    "print()\n",
    "print(\"Public salaries mean: ${:,.2f}\".format(Pub_Wage.mean()), sep='')\n",
    "print(\"Private salaries mean: ${:,.2f}\".format(Priv_Wage.mean()), sep='')\n",
    "print(\"Difference: +{:,.2f}\".format(((Priv_Wage.mean()-Pub_Wage.mean()) / Pub_Wage.mean()) * 100), \"%\", sep='')\n",
    "print()\n",
    "print(\"Public salaries median: ${:,.2f}\".format(Pub_Wage.median()), sep='')\n",
    "print(\"Private salaries median: ${:,.2f}\".format(Priv_Wage.median()), sep='')\n",
    "print(\"Difference: +{:,.2f}\".format(((Priv_Wage.median()-Pub_Wage.median()) / Pub_Wage.median()) * 100), \"%\", sep='')"
   ]
  },
  {
   "cell_type": "code",
   "execution_count": 18,
   "metadata": {},
   "outputs": [
    {
     "name": "stdout",
     "output_type": "stream",
     "text": [
      "\n",
      "T-Test for the High Income (>$70k/year) families\n"
     ]
    },
    {
     "data": {
      "image/png": "[encoded data removed]",
      "text/plain": [
       "<Figure size 432x288 with 1 Axes>"
      ]
     },
     "metadata": {
      "needs_background": "light"
     },
     "output_type": "display_data"
    },
    {
     "name": "stdout",
     "output_type": "stream",
     "text": [
      "P-Value (4-Decimals): 0.0\n",
      "Reject the Null Hypothesis (Alpha=5%): True\n",
      "\n",
      "Public salaries mean: $38,096.83\n",
      "Private salaries mean: $41,203.68\n",
      "Difference: +8.16%\n",
      "\n",
      "Public salaries median: $36,650.00\n",
      "Private salaries median: $39,600.00\n",
      "Difference: +8.05%\n"
     ]
    }
   ],
   "source": [
    "# T-Test for the High Income People\n",
    "\n",
    "Priv_Wage = df_private['MN_EARN_WNE_INC3_P6']\n",
    "Pub_Wage = df_public['MN_EARN_WNE_INC3_P6']\n",
    "\n",
    "t_val, p_val = ttest_ind(Pub_Wage, Priv_Wage)\n",
    "print()\n",
    "print(\"T-Test for the High Income (>$70k/year) families\")\n",
    "plt.hist(Priv_Wage, alpha=0.5, label='Private')\n",
    "plt.hist(Pub_Wage, alpha=0.5, label='Public')\n",
    "plt.title('Public v. Private - Starting Salaries')\n",
    "plt.xlabel('Starting Salaries')\n",
    "plt.ylabel('Number of Colleges')\n",
    "plt.legend(loc='upper right')\n",
    "plt.show()\n",
    "print(\"P-Value (4-Decimals): \", round(p_val, 4), sep='')\n",
    "print(\"Reject the Null Hypothesis (Alpha=5%):\", p_val < 0.05)\n",
    "print()\n",
    "print(\"Public salaries mean: ${:,.2f}\".format(Pub_Wage.mean()), sep='')\n",
    "print(\"Private salaries mean: ${:,.2f}\".format(Priv_Wage.mean()), sep='')\n",
    "print(\"Difference: +{:,.2f}\".format(((Priv_Wage.mean()-Pub_Wage.mean()) / Pub_Wage.mean()) * 100), \"%\", sep='')\n",
    "print()\n",
    "print(\"Public salaries median: ${:,.2f}\".format(Pub_Wage.median()), sep='')\n",
    "print(\"Private salaries median: ${:,.2f}\".format(Priv_Wage.median()), sep='')\n",
    "print(\"Difference: +{:,.2f}\".format(((Priv_Wage.median()-Pub_Wage.median()) / Pub_Wage.median()) * 100), \"%\", sep='')"
   ]
  },
  {
   "cell_type": "markdown",
   "metadata": {},
   "source": [
    "#### The Percent of Alumni Making More Than $25,000/Year"
   ]
  },
  {
   "cell_type": "code",
   "execution_count": 19,
   "metadata": {
    "scrolled": false
   },
   "outputs": [
    {
     "name": "stdout",
     "output_type": "stream",
     "text": [
      "\n",
      "Percent of Recent Graduates Making More than $25k/year\n"
     ]
    },
    {
     "data": {
      "image/png": "[encoded data removed]",
      "text/plain": [
       "<Figure size 432x288 with 1 Axes>"
      ]
     },
     "metadata": {
      "needs_background": "light"
     },
     "output_type": "display_data"
    },
    {
     "name": "stdout",
     "output_type": "stream",
     "text": [
      "P-Value (4-Decimals): 0.0003\n",
      "Reject the Null Hypothesis (Alpha=5%): True\n",
      "\n",
      "Public Employed mean: 64.64%\n",
      "Private  Employed mean: 66.99%\n",
      "Difference: +3.64\n",
      "\n",
      "Public Employed median: 65.38%\n",
      "Private  Employed median: 67.69%\n",
      "Difference: +3.53\n"
     ]
    }
   ],
   "source": [
    "pub_employed = df_public['GT_25K_P6'].astype(float)\n",
    "priv_employed = df_private['GT_25K_P6'].astype(float)\n",
    "pub_employed *= 100\n",
    "priv_employed *= 100\n",
    "\n",
    "t_val, p_val = ttest_ind(pub_employed, priv_employed)\n",
    "print()\n",
    "print(\"Percent of Recent Graduates Making More than $25k/year\")\n",
    "plt.hist(priv_employed, alpha=0.5, label='Private')\n",
    "plt.hist(pub_employed, alpha=0.5, label='Public')\n",
    "plt.title('Public v. Private - % Making more than $25k/year')\n",
    "plt.xlabel('Percent Graduates Employed')\n",
    "plt.ylabel('Number of Colleges')\n",
    "plt.legend(loc='upper right')\n",
    "plt.show()\n",
    "print(\"P-Value (4-Decimals): \", round(p_val, 4), sep='')\n",
    "print(\"Reject the Null Hypothesis (Alpha=5%):\", p_val < 0.05)\n",
    "print()\n",
    "print(\"Public Employed mean: {:,.2f}\".format(pub_employed.mean()), \"%\", sep='')\n",
    "print(\"Private  Employed mean: {:,.2f}\".format(priv_employed.mean()), \"%\", sep='')\n",
    "print(\"Difference: +{:,.2f}\".format(((priv_employed.mean()-pub_employed.mean()) / pub_employed.mean()) * 100), sep='')\n",
    "print()\n",
    "print(\"Public Employed median: {:,.2f}\".format(pub_employed.median()), \"%\", sep='')\n",
    "print(\"Private  Employed median: {:,.2f}\".format(priv_employed.median()), \"%\", sep='')\n",
    "print(\"Difference: +{:,.2f}\".format(((priv_employed.median()-pub_employed.median()) / pub_employed.median()) * 100), sep='')"
   ]
  },
  {
   "cell_type": "markdown",
   "metadata": {},
   "source": [
    "### Job Opportunity Analysis\n",
    "\n"
   ]
  },
  {
   "cell_type": "markdown",
   "metadata": {},
   "source": [
    "The results we found aligned with our hypothesis. We found that there was a significant difference between the starting salaries of public and private university graduates through all family income levels before graduation. Starting from the lowest income level, there was on average a 5% difference in mean starting salary and a -1% difference in median starting salary, showing a wide spread. The middle-class income level had a 7% mean and 6% median increase for private, and the high level had 8% increase for both respectively.\n",
    "\n",
    "We also found that there was a statistically significant difference in the percent of graduates who had a starting salary of more than $25k per year. The mean and the median difference between public and private university graduates was about a 3.5\\% increase in students who achieved that income level."
   ]
  },
  {
   "cell_type": "markdown",
   "metadata": {},
   "source": [
    "## Metric 2 - Collegiate Value"
   ]
  },
  {
   "cell_type": "markdown",
   "metadata": {},
   "source": [
    "### Defining Collegiate Value\n",
    "We define collegiate value as the return on the investment in the cost of attendance. We compare the average starting salaries for each of the three family income categories versus the average cost of tuition. Afterwards, we test the correlation between cost of tuition and the median loan debt."
   ]
  },
  {
   "cell_type": "markdown",
   "metadata": {},
   "source": [
    "### College Value Analysis"
   ]
  },
  {
   "cell_type": "code",
   "execution_count": 25,
   "metadata": {},
   "outputs": [
    {
     "name": "stdout",
     "output_type": "stream",
     "text": [
      "\n",
      "Correlation between tuition cost and starting salaries\n",
      "separated by family income levels\n",
      "\n",
      " Family Income   Public   Private\n",
      "-------------- -------- ---------\n",
      "  (<$30k)  Low    0.441     0.591\n",
      "($30-70k)  Mid    0.329     0.473\n",
      "  (>$70k) High    0.277     0.357\n",
      "\n",
      "\n",
      "\n",
      "Correlation b/w cost of tuition and median loan debt\n",
      "\n",
      " Public Universities:  0.294\n",
      "Private Universities:  0.082\n",
      "          Difference: -0.212\n"
     ]
    }
   ],
   "source": [
    "pub_cost = df_public['COSTT4_A']\n",
    "priv_cost = df_private['COSTT4_A']\n",
    "\n",
    "pub_lowinc = df_public['MN_EARN_WNE_INC1_P6']\n",
    "pub_midinc = df_public['MN_EARN_WNE_INC2_P6']\n",
    "pub_highinc = df_public['MN_EARN_WNE_INC3_P6']\n",
    "\n",
    "priv_lowinc = df_private['MN_EARN_WNE_INC1_P6']\n",
    "priv_midinc = df_private['MN_EARN_WNE_INC2_P6']\n",
    "priv_highinc = df_private['MN_EARN_WNE_INC3_P6']\n",
    "\n",
    "pub_corr_low = round(pub_cost.corr(pub_lowinc), 3)\n",
    "pub_corr_mid = round(pub_cost.corr(pub_midinc), 3)\n",
    "pub_corr_high = round(pub_cost.corr(pub_highinc), 3)\n",
    "\n",
    "priv_corr_low = round(priv_cost.corr(priv_lowinc), 3)\n",
    "priv_corr_mid = round(priv_cost.corr(priv_midinc), 3)\n",
    "priv_corr_high = round(priv_cost.corr(priv_highinc), 3)\n",
    "\n",
    "print()\n",
    "print('Correlation between tuition cost and starting salaries')\n",
    "print('separated by family income levels')\n",
    "print()\n",
    "\n",
    "a = ['(<$30k)  Low', '($30-70k)  Mid', '(>$70k) High']\n",
    "b = [pub_corr_low, pub_corr_mid, pub_corr_high]\n",
    "c = [priv_corr_low, priv_corr_mid, priv_corr_high]\n",
    "t = Table([a, b, c], names=(' Family Income', '  Public', '  Private'))\n",
    "print(t)\n",
    "\n",
    "pub_loan = df_public['GRAD_DEBT_MDN']\n",
    "priv_loan = df_private['GRAD_DEBT_MDN']\n",
    "\n",
    "pub_corr_loan = round(pub_cost.corr(pub_loan), 3)\n",
    "priv_corr_loan = round(priv_cost.corr(priv_loan), 3)\n",
    "\n",
    "print()\n",
    "print()\n",
    "print()\n",
    "print(\"Correlation b/w cost of tuition and median loan debt\")\n",
    "print()\n",
    "print(\" Public Universities:  \", pub_corr_loan, sep='')\n",
    "print(\"Private Universities:  \", priv_corr_loan, sep='')\n",
    "print(\"          Difference: \", round(priv_corr_loan-pub_corr_loan, 3), sep='') "
   ]
  },
  {
   "cell_type": "markdown",
   "metadata": {},
   "source": [
    "### Collegiate Value Data Interpretation"
   ]
  },
  {
   "cell_type": "markdown",
   "metadata": {},
   "source": [
    "The results we found aligned with our hypothesis. We found that the correlation between the starting salaries of recent college graduates and tuition cost was stronger for private university students &ndash; no matter which family income level they came from. The strongest correlation is between private college tuition cost and starting salaries for graduates from a low income family.\n",
    "\n",
    "After finding this, we test the correlation between private universities' cost of tuition and the loan debt of graduates, since they have a higher average expense. Surprisingly, private universities had no correlation whatsoever. Conversely, public universities had a mild correlation between the cost of tuition and median loan debt."
   ]
  },
  {
   "cell_type": "markdown",
   "metadata": {},
   "source": [
    "## Ethics and Privacy"
   ]
  },
  {
   "cell_type": "markdown",
   "metadata": {},
   "source": [
    "### Data Collection\n",
    "The dataset contains sensitive data that would be illegal and unethical to disclose without the consent of the participants. Fortunately, the dataset has been gathered with the consent of those surveyed. According to the documentation for the College Scorecard, these data are provided through federal reporting from institutions, data on federal financial aid, and tax information. "
   ]
  },
  {
   "cell_type": "markdown",
   "metadata": {},
   "source": [
    "### Data Storage\n",
    "There is no easily apparent method for one to request their information to be removed from the data set, nor does the source say how long they plan on keeping the data. Since these data were collected from federal sources they adhere to the Safe Harbor Method guidelines on data privacy."
   ]
  },
  {
   "cell_type": "markdown",
   "metadata": {},
   "source": [
    "### Analysis\n",
    "When doing our analysis, the largest source of possible bias is the economic background of students' families and their choice of university, as students from higher income families are more likely to attend private universities. Our dataset controls this by splitting up students into three categories based on their family's yearly income: families who make less than \\\\$30k, families who make between \\\\$30k and \\\\$75k, and families who make \\\\$75K+."
   ]
  },
  {
   "cell_type": "markdown",
   "metadata": {},
   "source": [
    "### Bias\n",
    "As all of the group members currently attend a public university, there is a valid concern regarding the potential bias we might have when calculating the statistics and presenting our data. We aim to maintain the highest level of objectivity when examining the data."
   ]
  },
  {
   "cell_type": "markdown",
   "metadata": {},
   "source": [
    "### Potential for Harm\n",
    "Our conclusion that low income families gain the most from going to an expensive private college may lead students to lean towards the more expensive option. This can put financial strain on or even bankrupt some families. \n",
    "\n",
    "Additionally, private colleges could use this research to justify increasing tuition."
   ]
  },
  {
   "cell_type": "markdown",
   "metadata": {},
   "source": [
    "## Conclusion and Discussion"
   ]
  },
  {
   "cell_type": "markdown",
   "metadata": {},
   "source": [
    "We expected to find that students who graduate from a private university will have a higher average starting salary than graduates from a public university. We also expected that for both private and public, there will be a positive correlation between cost of tuition and starting salary. After cleaning the dataset, we decided on two metrics for testing our hypothesis.\n",
    "\n",
    "The first metric looked into the job opportunities for students after college. By partitioning the students into three income brackets (low, middle, high), a t-test found that the differences were significant at each income level, and private university graduates do earn more than their public university peers.\n",
    "\n",
    "From these results, we considered two seemingly independent variables: average cost of tuition and median loan debt. Our second metric aimed to determine if return on investment was greater for private graduates compared to public graduates. This “collegiate value” indicated a stronger correlation between the tuition cost and starting salaries of private university graduates compared to public graduates. We then determined that for private universities the cost of tuition and median loan debt are not correlated while public universities showed a minor correlation.\n",
    "\n",
    "In the end, these two metrics supported our original hypothesis that attending a more expensive private university over a less expensive public university is worth the extra cost. There is a correlation between job opportunities and college type. However, this study does have certain limitations: the starting salary data is only provided for students who received federal financial aid. Therefore, this study is not factoring in students who paid completely out-of-pocket for their college education, or those who have switched college types during their 4-year degree.  "
   ]
  }
 ],
 "metadata": {
  "kernelspec": {
   "display_name": "Python 3",
   "language": "python",
   "name": "python3"
  },
  "language_info": {
   "codemirror_mode": {
    "name": "ipython",
    "version": 3
   },
   "file_extension": ".py",
   "mimetype": "text/x-python",
   "name": "python",
   "nbconvert_exporter": "python",
   "pygments_lexer": "ipython3",
   "version": "3.7.3"
  }
 },
 "nbformat": 4,
 "nbformat_minor": 2
}
