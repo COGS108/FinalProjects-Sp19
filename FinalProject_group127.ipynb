{
 "cells": [
  {
   "cell_type": "markdown",
   "metadata": {
    "colab_type": "text",
    "id": "J3X7zg2pGFvL"
   },
   "source": [
    "# COGS 108 - Final Project: Exploring Happiness in the United States"
   ]
  },
  {
   "cell_type": "markdown",
   "metadata": {
    "colab_type": "text",
    "id": "QJI87sV0GImD"
   },
   "source": [
    "# Overview"
   ]
  },
  {
   "cell_type": "markdown",
   "metadata": {
    "colab_type": "text",
    "id": "6AbC--UQGItW"
   },
   "source": [
    "For this project we were aiming to analyze the different factors that affect happiness in the US. We wanted to determine if happiness can be measured reasonably well using just 5 parameters: \n",
    "\n",
    "1) GDP per capita\n",
    "2) Life expectancy\n",
    "3) Employment\n",
    "4) Social progress\n",
    "5) Gini coefficient (income distribution)\n",
    "\n",
    "We obtained data for each parameter using web scraping and data wrangling. Next, we used simple linear regression to compare each parameters with the WalletHub happiness index, which was used as a reference point. Using the correlation coefficient (R^2) for each parameter, we were able to find a weighted formula A * GDP + B * Life_Expectancy + C * Employment + D * Social_Progress + E * Gini_Coefficient, where the weights A,B,C,D,E are the r^2 values for each parameter. Finally, we tested the model against the Happy State Index (HSI), in order to determine how close/far our model was from the HSI. In the end, we got a result of r^2 = 0.65, which indicates a relatively well fitting model, with some discrepancies. "
   ]
  },
  {
   "cell_type": "markdown",
   "metadata": {
    "colab_type": "text",
    "id": "xm__DwcoGI1E"
   },
   "source": [
    "# Names\n",
    "\n",
    "- Max Kazakov\n",
    "- Shrimant Singh\n",
    "- Egbert Doan\n",
    "- Eric Salguero"
   ]
  },
  {
   "cell_type": "markdown",
   "metadata": {
    "colab_type": "text",
    "id": "SEA15QFLGF7o"
   },
   "source": [
    "# Group Members IDs\n",
    "\n",
    "- AXXXXXXXX\n",
    "- AXXXXXXXX\n",
    "- AXXXXXXXX\n",
    "- AXXXXXXXX\n",
    "\n",
    "(respectively)"
   ]
  },
  {
   "cell_type": "markdown",
   "metadata": {
    "colab_type": "text",
    "id": "XxiR5aNiGGGV"
   },
   "source": [
    "# Research Question"
   ]
  },
  {
   "cell_type": "markdown",
   "metadata": {
    "colab_type": "text",
    "id": "Qkhyn66rGE_I"
   },
   "source": [
    "Our research question can be summarized as follows: \n",
    "\n",
    "### \"Are 5 parameters (GDP per capita, life expectancy, employment, social progress, and Gini coefficient (income distribution)) sufficient enough to produce a *reasonable* model of happiness across the 50 United States of America?\" \n",
    "\n",
    "Please note that in our view a *reasonable* model is one that has an r^2 value >= 75. One may argue that this cut-off level is too low, however, for the purpose of the present analysis, we deemed it adequate, since we are looking to find a compromise between the model's simplicity and predictive capacity. "
   ]
  },
  {
   "cell_type": "markdown",
   "metadata": {
    "colab_type": "text",
    "id": "ULVI9kGZGySF"
   },
   "source": [
    "## Background and Prior Work"
   ]
  },
  {
   "cell_type": "markdown",
   "metadata": {
    "colab_type": "text",
    "id": "Xu5idVUrGyei"
   },
   "source": [
    "For background work we started out looking at the [World Happiness Index](https://worldhappiness.report/), however we realized that for the purpose of narrowing down our research project it would be better to limit ourselves to the US. Essentially, we attempted to recreate a country-by-country comparison but on a state-by-state level. However, we explored the methodology of the world happiness report, which inspired us to use some of the parameters, e.g. GDP per capita. \n",
    "\n",
    "In terms of existing work on the subject matter, we were able to find this [report](https://wallethub.com/edu/happiest-states/6959/) by WalletHub. Below is an excerpt from their methodology.  \n",
    "\n",
    "\"In this study, WalletHub drew upon the findings of “happiness” research to determine which environmental factors are linked to a person’s overall well-being and satisfaction with life. Previous studies have found that good economic, emotional, physical and social health are all key to a well-balanced and fulfilled life.\n",
    "\n",
    "To determine where Americans exhibit the best combination of these factors, we examined the 50 states across 31 key metrics, ranging from depression rate to sports participation rate to income growth. Read on for our findings, additional insight from a panel of experts and a full description of our methodology.\"\n",
    "\n",
    "What is key here is that WalletHub used 31 metrics across three main dimensions:\n",
    "\n",
    "1) Emotional & Physical Well-Being\n",
    "2) Work Environment \n",
    "3) Community & Environment\n",
    "\n",
    "Our goal was to come up with a Happiness Index that would only use 5 metrics, roughly 6 times simpler than WalletHub's. However, we cross-referenced WalletHub's index along the way in order to determine the coefficients for our model, as well as in the very end when verifying our end result.  "
   ]
  },
  {
   "cell_type": "markdown",
   "metadata": {
    "colab_type": "text",
    "id": "GQozI7_DGys0"
   },
   "source": [
    "# Hypothesis"
   ]
  },
  {
   "cell_type": "markdown",
   "metadata": {
    "colab_type": "text",
    "id": "39CtTqY2G-Ac"
   },
   "source": [
    "Our hypothesis was that *a model consisting of 5 metrics can produce an r^2 value of 0.75 or higher*. Therefore we expect a positive answer to the research question. Namely, that the five selected metrics (GDP per capita, life expectancy, employment, social progress, and Gini coefficient (income distribution)) are enough to produce a model that yields an r^2>=75, when a simple linear regression is performed, with the Happy State Index as the dependent variable.\n",
    "\n",
    "The reason why we believe that our model can perform this well is due to the fact that the selected parameters cover a wide range of factors affecting one's perception of happiness. Moreover, the 5 parameters were not selected at random, instead they were generated through both, our common-sense intuition, and background research of other happiness indices (of global and national scale). \n",
    "\n",
    "The opposite outcome would be if the model fails to reach the 0.75 threshold. That would mean that either 5 parameters do not sufficiently explain the state of happiness in the US, or that our model is overly simple. The latter would merit a reevaluation of the model and better fine-tuning of the coefficients in possible future iterations of the research project. "
   ]
  },
  {
   "cell_type": "markdown",
   "metadata": {
    "colab_type": "text",
    "id": "VWtDQoPiG-Jf"
   },
   "source": [
    "# Datasets"
   ]
  },
  {
   "cell_type": "markdown",
   "metadata": {
    "colab_type": "text",
    "id": "tN-fL6NqG-PI"
   },
   "source": [
    "- Dataset Name: List of U.S. states by GDP per capita\n",
    "- Link to the dataset: https://en.wikipedia.org/wiki/List_of_U.S._states_by_GDP_per_capita\n",
    "- Number of observations: 51\n",
    "\n",
    "This dataset shows the GDP per capita of the 50 U.S. states and also includes the District of Columbia. For our observations we have omitted the District of Columbia to only observe the 50 U.S. states.\n",
    "\n",
    "This dataset will be used along side four other datasets to create a weighted formula for linear regression. This will allow us to see what is affecting happiness in the US. GDP per capita should come to affect happiness in a state as this represents the states economic growth."
   ]
  },
  {
   "cell_type": "markdown",
   "metadata": {
    "colab_type": "text",
    "id": "5uTsiwFLG-TU"
   },
   "source": [
    "- Dataset Name: Happiest States in the U.S.\n",
    "- Link to the dataset: https://wallethub.com/edu/happiest-states/6959/\n",
    "- Number of observations: 50\n",
    "\n",
    "This dataset shows the Happines Index used by wallethub of the 50 U.S. states. Using this metric we will define our own index and compare.\n",
    "\n",
    "This dataset will be compared to our linear regression model to see how accurate our model is with the factors and weights we have calculates."
   ]
  },
  {
   "cell_type": "markdown",
   "metadata": {
    "colab_type": "text",
    "id": "Zvm4I-xZG-a8"
   },
   "source": [
    "- Dataset Name: List of U.S. states and territories by life expectancy\n",
    "- Link to the dataset: https://en.wikipedia.org/wiki/List_of_U.S._states_and_territories_by_life_expectancy\n",
    "- Number of observations: 56\n",
    "\n",
    "This dataset shows the  life expectancy of the 50 U.S. states and also includes U.S. territories. For our observations we have omitted the U.S. terrritores to only observe the 50 U.S. states.\n",
    "\n",
    "This dataset will be used along side four other datasets to create a weighted formula for linear regression. We believe that Life expectancy will be a factor in happiness as having a longer life can be said improve happiness."
   ]
  },
  {
   "cell_type": "markdown",
   "metadata": {
    "colab_type": "text",
    "id": "vt2movYHHZSf"
   },
   "source": [
    "- Dataset Name: Unemployment Rates for States, 2018 Annual Averages\n",
    "- Link to the dataset: https://www.bls.gov/lau/lastrk18.htm\n",
    "- Number of observations: 50\n",
    "\n",
    "This dataset shows the Unemployment Rates of the 50 U.S. states. We will use the 100 - unemployment from this dataset to get values for the employment rate in the U.S.\n",
    "\n",
    "This dataset will be used along side four other datasets to create a weighted formula for linear regression. Using 100 - unemployment will give us a look at employment rates as a factor in our linear regression model. Both unemployment rates and employment rates are similarly correlated but unemployment is negatively correlated rather than employment which is positive correlation for our model, since it is a sum."
   ]
  },
  {
   "cell_type": "markdown",
   "metadata": {
    "colab_type": "text",
    "id": "aiZPvrAfHZXz"
   },
   "source": [
    "- Dataset Name: US Social Progress Index Results Public\n",
    "- Link to the dataset: https://socialprogress.blog/2018-social-progress-index-us-states/\n",
    "- Number of observations: 52\n",
    "\n",
    "This dataset shows another index that takes into account social aspects like crime rates, medical care and other quality of life factors.\n",
    "\n",
    "This dataset will be used along side four other datasets to create a weighted formula for linear regression. This index takes into account a variety of social aspects that can weigh on happiness. Aspects like clean water and broadband connection availablity are included in this index."
   ]
  },
  {
   "cell_type": "markdown",
   "metadata": {
    "colab_type": "text",
    "id": "Zy1ePXf-HZiU"
   },
   "source": [
    "- Dataset Name: List of U.S. states by Gini coefficient\n",
    "- Link to the dataset: https://en.wikipedia.org/wiki/List_of_U.S._states_by_Gini_coefficient\n",
    "- Number of observations: 52\n",
    "\n",
    "The gini coefficient measures the income gap in a state comparing the low income class with the high income class. This dataset shows the Gini coefficient of the 50 U.S. states and also includes the District of Columbia and the U.S. of America. For our observations we have omitted the District of Columbia and and the U.S. of America to only observe the 50 U.S. states.\n",
    "\n",
    "This dataset will be used along side four other datasets to create a weighted formula for linear regression. This data set looks at the income gap which can affect happiness for low income class negatively and high income class positively."
   ]
  },
  {
   "cell_type": "markdown",
   "metadata": {
    "colab_type": "text",
    "id": "-WIbCIp5D-eW"
   },
   "source": [
    "# Data Analysis"
   ]
  },
  {
   "cell_type": "markdown",
   "metadata": {
    "colab_type": "text",
    "id": "OaromlMkEuta"
   },
   "source": [
    "### Data Cleaning & Pre-processing"
   ]
  },
  {
   "cell_type": "markdown",
   "metadata": {},
   "source": [
    "Apart from the standard data science toolkit, sklearn was used for Linear Regression models, and seaborn was used for better visualizations. Plotly was used in offline mode for choropleth plots of geospatial data. Patsy and the statsmodels API was used in order to carry out the final OLS testing and determine the r^2 value between our model and the Happy State Index. Scipy was used for descriptive statistics."
   ]
  },
  {
   "cell_type": "code",
   "execution_count": 1,
   "metadata": {
    "colab": {},
    "colab_type": "code",
    "id": "_wKROch2D-eX"
   },
   "outputs": [],
   "source": [
    "import pandas as pd\n",
    "import numpy as np\n",
    "import requests\n",
    "import bs4\n",
    "from bs4 import BeautifulSoup\n",
    "import matplotlib.pyplot as plt\n",
    "import sklearn\n",
    "from sklearn import preprocessing\n",
    "from sklearn.linear_model import LinearRegression\n",
    "import seaborn as sns\n",
    "import plotly.plotly as py\n",
    "import plotly.graph_objs as go\n",
    "from plotly.offline import download_plotlyjs, init_notebook_mode, plot, iplot\n",
    "import patsy\n",
    "import statsmodels.api as sm\n",
    "from scipy import stats"
   ]
  },
  {
   "cell_type": "markdown",
   "metadata": {
    "colab_type": "text",
    "id": "Av9H16isD-ea"
   },
   "source": [
    "Initiating Plotly notebook mode for offline Plotly plots (used for Data Visualization with Choropleth plots)."
   ]
  },
  {
   "cell_type": "code",
   "execution_count": 2,
   "metadata": {
    "colab": {
     "base_uri": "https://localhost:8080/",
     "height": 17
    },
    "colab_type": "code",
    "id": "tsnZqkw6D-ea",
    "outputId": "9c733aa6-1075-41e7-9bd1-63df1a877e37"
   },
   "outputs": [
    {
     "data": {
      "text/html": [
       "        <script type=\"text/javascript\">\n",
       "        window.PlotlyConfig = {MathJaxConfig: 'local'};\n",
       "        if (window.MathJax) {MathJax.Hub.Config({SVG: {font: \"STIX-Web\"}});}\n",
       "        if (typeof require !== 'undefined') {\n",
       "        require.undef(\"plotly\");\n",
       "        requirejs.config({\n",
       "            paths: {\n",
       "                'plotly': ['https://cdn.plot.ly/plotly-latest.min']\n",
       "            }\n",
       "        });\n",
       "        require(['plotly'], function(Plotly) {\n",
       "            window._Plotly = Plotly;\n",
       "        });\n",
       "        }\n",
       "        </script>\n",
       "        "
      ]
     },
     "metadata": {},
     "output_type": "display_data"
    }
   ],
   "source": [
    "init_notebook_mode(connected=True)"
   ]
  },
  {
   "cell_type": "markdown",
   "metadata": {
    "colab_type": "text",
    "id": "G04FyTlaD-ee"
   },
   "source": [
    "Set seaborn aesthetic parameters for notebook."
   ]
  },
  {
   "cell_type": "code",
   "execution_count": 3,
   "metadata": {
    "colab": {},
    "colab_type": "code",
    "id": "zymKaEspD-ef"
   },
   "outputs": [],
   "source": [
    "sns.set()"
   ]
  },
  {
   "cell_type": "markdown",
   "metadata": {
    "colab_type": "text",
    "id": "hfaMjdfND-eg"
   },
   "source": [
    "## Web scrapping and data wrangling "
   ]
  },
  {
   "cell_type": "markdown",
   "metadata": {
    "colab_type": "text",
    "id": "7LtBqISBD-eh"
   },
   "source": [
    "### 1. GDP per capita 2018\n",
    "\n",
    "For GDP, the wikipedia page was scraped without much data cleaning being required, since wikipedia data is usually fairly clean as-is."
   ]
  },
  {
   "cell_type": "code",
   "execution_count": 4,
   "metadata": {
    "colab": {},
    "colab_type": "code",
    "id": "iSYPNNbuD-eh"
   },
   "outputs": [],
   "source": [
    "wiki = 'https://en.wikipedia.org/wiki/List_of_U.S._states_by_GDP_per_capita'\n",
    "page = requests.get(wiki)\n",
    "soup = BeautifulSoup(page.content, 'html.parser')"
   ]
  },
  {
   "cell_type": "code",
   "execution_count": 5,
   "metadata": {
    "colab": {},
    "colab_type": "code",
    "id": "aSvRBUJkD-ej"
   },
   "outputs": [],
   "source": [
    "title_page = soup.title.string\n",
    "assert 'GDP' in title_page"
   ]
  },
  {
   "cell_type": "code",
   "execution_count": 6,
   "metadata": {
    "colab": {},
    "colab_type": "code",
    "id": "xDM1L7lzD-el"
   },
   "outputs": [],
   "source": [
    "right_table = soup.find(\"table\", class_='wikitable sortable')\n",
    "assert isinstance(right_table, bs4.element.Tag)"
   ]
  },
  {
   "cell_type": "code",
   "execution_count": 7,
   "metadata": {
    "colab": {},
    "colab_type": "code",
    "id": "eBKU4445D-em"
   },
   "outputs": [],
   "source": [
    "states, GDP = [], []\n",
    "\n",
    "for row in right_table.findAll('tr'):\n",
    "    \n",
    "    cells = row.findAll('td')\n",
    "    \n",
    "\n",
    "    if len(cells) == 0 or '—' in cells[0]:\n",
    "        continue\n",
    "\n",
    "    states.append(cells[1].find('a').text)\n",
    "    GDP.append(cells[2].find(text=True).replace('\\n', ''))\n",
    "    \n",
    "assert len(states) == 50\n",
    "assert len(GDP) == 50"
   ]
  },
  {
   "cell_type": "code",
   "execution_count": 8,
   "metadata": {
    "colab": {},
    "colab_type": "code",
    "id": "qRuvPIL3D-ep"
   },
   "outputs": [],
   "source": [
    "GDP_df = pd.DataFrame(list(zip(states, GDP)), \n",
    "            columns = ['State', 'GDP 2018'])\n",
    "\n",
    "GDP_df.set_index('State', inplace=True)"
   ]
  },
  {
   "cell_type": "markdown",
   "metadata": {
    "colab_type": "text",
    "id": "hY9aJg7XD-er"
   },
   "source": [
    "### Happy State Index\n",
    "\n",
    "Similarly to the Wikipedia web scraping, the Happy State Index was fairly clean. However, a small problem was encountered along the way, namely the website would block our IP after multiple requests. We had to use a VPN in order to circumvent this problem (the same is recommended for anyone interested in replicating our results). "
   ]
  },
  {
   "cell_type": "code",
   "execution_count": 9,
   "metadata": {
    "colab": {},
    "colab_type": "code",
    "id": "ZhiXC6ofD-er"
   },
   "outputs": [],
   "source": [
    "whub = 'https://wallethub.com/edu/happiest-states/6959/'\n",
    "page = requests.get(whub)\n",
    "soup = BeautifulSoup(page.content, 'html.parser')"
   ]
  },
  {
   "cell_type": "code",
   "execution_count": 10,
   "metadata": {
    "colab": {
     "base_uri": "https://localhost:8080/",
     "height": 34
    },
    "colab_type": "code",
    "id": "PVuT_4nyD-eu",
    "outputId": "a29a320b-b882-4281-e073-3b6194ae9f01"
   },
   "outputs": [
    {
     "data": {
      "text/plain": [
       "'Happiest States in America'"
      ]
     },
     "execution_count": 10,
     "metadata": {},
     "output_type": "execute_result"
    }
   ],
   "source": [
    "title_page = soup.title.string\n",
    "title_page"
   ]
  },
  {
   "cell_type": "code",
   "execution_count": 11,
   "metadata": {
    "colab": {},
    "colab_type": "code",
    "id": "6kMlTA9TD-ew"
   },
   "outputs": [],
   "source": [
    "right_table = soup.find(\"table\", class_='cardhub-edu-table center-aligned sortable')"
   ]
  },
  {
   "cell_type": "code",
   "execution_count": 12,
   "metadata": {
    "colab": {},
    "colab_type": "code",
    "id": "5yjtn5oeD-ey"
   },
   "outputs": [],
   "source": [
    "states, HSI = [], []\n",
    "\n",
    "for row in right_table.findAll('tr'):\n",
    "    \n",
    "    cells = row.findAll('td')\n",
    "    \n",
    "\n",
    "    if len(cells) == 0:\n",
    "        continue\n",
    "    \n",
    "\n",
    "    states.append(cells[1].find(text=True))\n",
    "    HSI.append(cells[2].find(text=True))\n",
    "    \n",
    "assert len(states) == 50\n",
    "assert len(HSI) == 50"
   ]
  },
  {
   "cell_type": "code",
   "execution_count": 13,
   "metadata": {
    "colab": {},
    "colab_type": "code",
    "id": "9u2FHUi8D-ez"
   },
   "outputs": [],
   "source": [
    "HSI_df = pd.DataFrame(list(zip(states, HSI)), \n",
    "            columns = ['State', 'Happy State Index'])\n",
    "\n",
    "HSI_df.set_index('State', inplace=True)"
   ]
  },
  {
   "cell_type": "code",
   "execution_count": 14,
   "metadata": {
    "colab": {},
    "colab_type": "code",
    "id": "34vfjmiFD-e1"
   },
   "outputs": [],
   "source": [
    "df = pd.merge(HSI_df, GDP_df, on='State', how='inner')"
   ]
  },
  {
   "cell_type": "code",
   "execution_count": 15,
   "metadata": {
    "colab": {},
    "colab_type": "code",
    "id": "NiwCyYAZD-e2"
   },
   "outputs": [],
   "source": [
    "df['GDP 2018'] = df['GDP 2018'].str.replace(',', '')"
   ]
  },
  {
   "cell_type": "markdown",
   "metadata": {},
   "source": [
    "The data needs to be converted to float. Additionally, GDP was devided by 1000 and rounded to 2 decimal places using an anonymous function."
   ]
  },
  {
   "cell_type": "code",
   "execution_count": 16,
   "metadata": {
    "colab": {},
    "colab_type": "code",
    "id": "aiuJ-NUoD-e4"
   },
   "outputs": [],
   "source": [
    "df['Happy State Index'] = df['Happy State Index'].astype(float)\n",
    "df['GDP 2018'] = df['GDP 2018'].apply(lambda x : round(int(x) / 1000, 2)) "
   ]
  },
  {
   "cell_type": "markdown",
   "metadata": {
    "colab_type": "text",
    "id": "d0uZQa6VD-e6"
   },
   "source": [
    "### 2. Life Expectancy\n",
    "\n",
    "The procedure for life expectancy was slightly more complicated than the rest of the Wikipedia web scraping due to some of the hyperlinks containing \"(state)\" and other unnecessary substrings. This was basically the only data cleaning that was carried out. "
   ]
  },
  {
   "cell_type": "code",
   "execution_count": 17,
   "metadata": {
    "colab": {},
    "colab_type": "code",
    "id": "_EFUwfHcD-e6"
   },
   "outputs": [],
   "source": [
    "wiki = 'https://en.wikipedia.org/wiki/List_of_U.S._states_and_territories_by_life_expectancy'\n",
    "page = requests.get(wiki)\n",
    "soup = BeautifulSoup(page.content, 'html.parser')"
   ]
  },
  {
   "cell_type": "code",
   "execution_count": 18,
   "metadata": {
    "colab": {},
    "colab_type": "code",
    "id": "FY1GwqZjD-e9"
   },
   "outputs": [],
   "source": [
    "title_page = soup.title.string\n",
    "assert 'life' in title_page"
   ]
  },
  {
   "cell_type": "code",
   "execution_count": 19,
   "metadata": {
    "colab": {},
    "colab_type": "code",
    "id": "8kV38PWBD-fA"
   },
   "outputs": [],
   "source": [
    "right_table = soup.find(\"table\", class_='wikitable sortable')\n",
    "assert isinstance(right_table, bs4.element.Tag)"
   ]
  },
  {
   "cell_type": "code",
   "execution_count": 20,
   "metadata": {
    "colab": {},
    "colab_type": "code",
    "id": "_BT3dCBgD-fC"
   },
   "outputs": [],
   "source": [
    "states, LE = [], []\n",
    "\n",
    "for row in right_table.findAll('tr'):\n",
    "    \n",
    "    cells = row.findAll('td')\n",
    "    \n",
    "    if len(cells) == 0:\n",
    "        continue\n",
    "        \n",
    "    # Special handling for Georgia \n",
    "    if cells[1].find('a') != None:\n",
    "        st = cells[1].find('a')['title']\n",
    "        states.append(st)\n",
    "        LE.append(cells[2].find(text=True).replace('\\n', ''))\n",
    "   "
   ]
  },
  {
   "cell_type": "code",
   "execution_count": 21,
   "metadata": {
    "colab": {},
    "colab_type": "code",
    "id": "U6fY7VSmD-fE"
   },
   "outputs": [],
   "source": [
    "LE_df = pd.DataFrame(list(zip(states, LE)), \n",
    "            columns = ['State', 'Life Expectancy'])"
   ]
  },
  {
   "cell_type": "markdown",
   "metadata": {},
   "source": [
    "Anonymous functions were used to clean the entries that contained redundant substrings."
   ]
  },
  {
   "cell_type": "code",
   "execution_count": 22,
   "metadata": {
    "colab": {},
    "colab_type": "code",
    "id": "hc0cJ3CMD-fG"
   },
   "outputs": [],
   "source": [
    "LE_df['State'] = LE_df['State'].apply(lambda x: x.replace(' (state)', ''))\n",
    "LE_df['State'] = LE_df['State'].apply(lambda x: x.replace(' (U.S. state)', ''))\n",
    "LE_df.set_index('State', inplace=True)"
   ]
  },
  {
   "cell_type": "markdown",
   "metadata": {},
   "source": [
    "The wikipedia dataset contained U.S. territories as well, which had to be filtered out."
   ]
  },
  {
   "cell_type": "code",
   "execution_count": 23,
   "metadata": {
    "colab": {},
    "colab_type": "code",
    "id": "cnR6n08KD-fI"
   },
   "outputs": [],
   "source": [
    "LE_df = LE_df[LE_df.index.isin(df.index.tolist())]"
   ]
  },
  {
   "cell_type": "code",
   "execution_count": 24,
   "metadata": {
    "colab": {},
    "colab_type": "code",
    "id": "EeZRttZID-fJ"
   },
   "outputs": [],
   "source": [
    "df = pd.merge(df, LE_df, on='State', how='inner')"
   ]
  },
  {
   "cell_type": "code",
   "execution_count": 25,
   "metadata": {
    "colab": {},
    "colab_type": "code",
    "id": "kESrRiMLD-fL"
   },
   "outputs": [],
   "source": [
    "df['Life Expectancy'] = df['Life Expectancy'].astype(float)"
   ]
  },
  {
   "cell_type": "code",
   "execution_count": 26,
   "metadata": {
    "colab": {
     "base_uri": "https://localhost:8080/",
     "height": 235
    },
    "colab_type": "code",
    "id": "pbnF26QkD-fN",
    "outputId": "e62847a9-f71c-44b5-b23d-7491de9f530c"
   },
   "outputs": [
    {
     "data": {
      "text/html": [
       "<div>\n",
       "<style scoped>\n",
       "    .dataframe tbody tr th:only-of-type {\n",
       "        vertical-align: middle;\n",
       "    }\n",
       "\n",
       "    .dataframe tbody tr th {\n",
       "        vertical-align: top;\n",
       "    }\n",
       "\n",
       "    .dataframe thead th {\n",
       "        text-align: right;\n",
       "    }\n",
       "</style>\n",
       "<table border=\"1\" class=\"dataframe\">\n",
       "  <thead>\n",
       "    <tr style=\"text-align: right;\">\n",
       "      <th></th>\n",
       "      <th>Happy State Index</th>\n",
       "      <th>GDP 2018</th>\n",
       "      <th>Life Expectancy</th>\n",
       "    </tr>\n",
       "    <tr>\n",
       "      <th>State</th>\n",
       "      <th></th>\n",
       "      <th></th>\n",
       "      <th></th>\n",
       "    </tr>\n",
       "  </thead>\n",
       "  <tbody>\n",
       "    <tr>\n",
       "      <th>Hawaii</th>\n",
       "      <td>68.27</td>\n",
       "      <td>51.28</td>\n",
       "      <td>81.3</td>\n",
       "    </tr>\n",
       "    <tr>\n",
       "      <th>Utah</th>\n",
       "      <td>67.84</td>\n",
       "      <td>44.64</td>\n",
       "      <td>80.2</td>\n",
       "    </tr>\n",
       "    <tr>\n",
       "      <th>Minnesota</th>\n",
       "      <td>67.26</td>\n",
       "      <td>53.70</td>\n",
       "      <td>81.1</td>\n",
       "    </tr>\n",
       "    <tr>\n",
       "      <th>North Dakota</th>\n",
       "      <td>65.62</td>\n",
       "      <td>62.84</td>\n",
       "      <td>79.5</td>\n",
       "    </tr>\n",
       "    <tr>\n",
       "      <th>California</th>\n",
       "      <td>63.14</td>\n",
       "      <td>53.99</td>\n",
       "      <td>80.8</td>\n",
       "    </tr>\n",
       "  </tbody>\n",
       "</table>\n",
       "</div>"
      ],
      "text/plain": [
       "              Happy State Index  GDP 2018  Life Expectancy\n",
       "State                                                     \n",
       "Hawaii                    68.27     51.28             81.3\n",
       "Utah                      67.84     44.64             80.2\n",
       "Minnesota                 67.26     53.70             81.1\n",
       "North Dakota              65.62     62.84             79.5\n",
       "California                63.14     53.99             80.8"
      ]
     },
     "execution_count": 26,
     "metadata": {},
     "output_type": "execute_result"
    }
   ],
   "source": [
    "df.head()"
   ]
  },
  {
   "cell_type": "markdown",
   "metadata": {
    "colab_type": "text",
    "id": "IvDhkKXmD-fP"
   },
   "source": [
    "### 3. Employment Rate\n",
    "\n",
    "For employment rate we had to use data from the Bureau of Labor Statistics, web scraping was used."
   ]
  },
  {
   "cell_type": "code",
   "execution_count": 27,
   "metadata": {
    "colab": {},
    "colab_type": "code",
    "id": "s83HCxnQD-fP"
   },
   "outputs": [],
   "source": [
    "url = 'https://www.bls.gov/lau/lastrk18.htm'\n",
    "page = requests.get(url)\n",
    "soup = BeautifulSoup(page.content, 'html.parser')"
   ]
  },
  {
   "cell_type": "code",
   "execution_count": 28,
   "metadata": {
    "colab": {},
    "colab_type": "code",
    "id": "f188Hup2D-fR"
   },
   "outputs": [],
   "source": [
    "right_table = soup.find(id='lastrk18')\n",
    "assert isinstance(right_table, bs4.element.Tag)"
   ]
  },
  {
   "cell_type": "code",
   "execution_count": 29,
   "metadata": {
    "colab": {},
    "colab_type": "code",
    "id": "xPaR5wcnD-fS"
   },
   "outputs": [],
   "source": [
    "states, EMP = [], []\n",
    "\n",
    "for row in right_table.findAll('tr'):\n",
    "\n",
    "    th = row.findAll('th')\n",
    "    td = row.findAll('td')\n",
    "    \n",
    "    if len(th) == 0 or len(td) == 0:\n",
    "        continue\n",
    "        \n",
    "    states.append(th[0].find(text=True))\n",
    "    EMP.append(td[0].find(text=True))\n",
    "    \n",
    "assert len(states) == 52"
   ]
  },
  {
   "cell_type": "code",
   "execution_count": 30,
   "metadata": {
    "colab": {},
    "colab_type": "code",
    "id": "zoL4nkVzD-fU"
   },
   "outputs": [],
   "source": [
    "EMP_df = pd.DataFrame(list(zip(states, EMP)), \n",
    "            columns = ['State', 'Employment'])"
   ]
  },
  {
   "cell_type": "code",
   "execution_count": 31,
   "metadata": {
    "colab": {},
    "colab_type": "code",
    "id": "PaXP6CI2D-fW"
   },
   "outputs": [],
   "source": [
    "EMP_df.set_index('State', inplace=True)\n"
   ]
  },
  {
   "cell_type": "markdown",
   "metadata": {},
   "source": [
    "\"District of Columbia\" had to be filtered out."
   ]
  },
  {
   "cell_type": "code",
   "execution_count": 32,
   "metadata": {
    "colab": {},
    "colab_type": "code",
    "id": "THkVGmeCD-fY"
   },
   "outputs": [],
   "source": [
    "EMP_df = EMP_df[EMP_df.index.isin(df.index.tolist())]"
   ]
  },
  {
   "cell_type": "code",
   "execution_count": 33,
   "metadata": {
    "colab": {},
    "colab_type": "code",
    "id": "GNrt0vxND-fZ"
   },
   "outputs": [],
   "source": [
    "df = pd.merge(df, EMP_df, on='State', how='inner')"
   ]
  },
  {
   "cell_type": "markdown",
   "metadata": {},
   "source": [
    "A simple arithmetic conversion was used to get from employment % to unemployment %."
   ]
  },
  {
   "cell_type": "code",
   "execution_count": 34,
   "metadata": {
    "colab": {
     "base_uri": "https://localhost:8080/",
     "height": 235
    },
    "colab_type": "code",
    "id": "yUw-Tu7iD-fb",
    "outputId": "764a51a5-b26f-42d7-c1e2-f21ab3ea08b1"
   },
   "outputs": [
    {
     "data": {
      "text/html": [
       "<div>\n",
       "<style scoped>\n",
       "    .dataframe tbody tr th:only-of-type {\n",
       "        vertical-align: middle;\n",
       "    }\n",
       "\n",
       "    .dataframe tbody tr th {\n",
       "        vertical-align: top;\n",
       "    }\n",
       "\n",
       "    .dataframe thead th {\n",
       "        text-align: right;\n",
       "    }\n",
       "</style>\n",
       "<table border=\"1\" class=\"dataframe\">\n",
       "  <thead>\n",
       "    <tr style=\"text-align: right;\">\n",
       "      <th></th>\n",
       "      <th>Happy State Index</th>\n",
       "      <th>GDP 2018</th>\n",
       "      <th>Life Expectancy</th>\n",
       "      <th>Employment</th>\n",
       "    </tr>\n",
       "    <tr>\n",
       "      <th>State</th>\n",
       "      <th></th>\n",
       "      <th></th>\n",
       "      <th></th>\n",
       "      <th></th>\n",
       "    </tr>\n",
       "  </thead>\n",
       "  <tbody>\n",
       "    <tr>\n",
       "      <th>Hawaii</th>\n",
       "      <td>68.27</td>\n",
       "      <td>51.28</td>\n",
       "      <td>81.3</td>\n",
       "      <td>97.6</td>\n",
       "    </tr>\n",
       "    <tr>\n",
       "      <th>Utah</th>\n",
       "      <td>67.84</td>\n",
       "      <td>44.64</td>\n",
       "      <td>80.2</td>\n",
       "      <td>96.9</td>\n",
       "    </tr>\n",
       "    <tr>\n",
       "      <th>Minnesota</th>\n",
       "      <td>67.26</td>\n",
       "      <td>53.70</td>\n",
       "      <td>81.1</td>\n",
       "      <td>97.1</td>\n",
       "    </tr>\n",
       "    <tr>\n",
       "      <th>North Dakota</th>\n",
       "      <td>65.62</td>\n",
       "      <td>62.84</td>\n",
       "      <td>79.5</td>\n",
       "      <td>97.4</td>\n",
       "    </tr>\n",
       "    <tr>\n",
       "      <th>California</th>\n",
       "      <td>63.14</td>\n",
       "      <td>53.99</td>\n",
       "      <td>80.8</td>\n",
       "      <td>95.8</td>\n",
       "    </tr>\n",
       "  </tbody>\n",
       "</table>\n",
       "</div>"
      ],
      "text/plain": [
       "              Happy State Index  GDP 2018  Life Expectancy  Employment\n",
       "State                                                                 \n",
       "Hawaii                    68.27     51.28             81.3        97.6\n",
       "Utah                      67.84     44.64             80.2        96.9\n",
       "Minnesota                 67.26     53.70             81.1        97.1\n",
       "North Dakota              65.62     62.84             79.5        97.4\n",
       "California                63.14     53.99             80.8        95.8"
      ]
     },
     "execution_count": 34,
     "metadata": {},
     "output_type": "execute_result"
    }
   ],
   "source": [
    "df['Employment'] = 100 - df['Employment'].astype(float)\n",
    "df.head()"
   ]
  },
  {
   "cell_type": "markdown",
   "metadata": {
    "colab_type": "text",
    "id": "UiuKhKGTD-ff"
   },
   "source": [
    "### 4. Social Progress\n",
    "\n",
    "For the social progress score we only used the column which contained the Index itself. The remaining columns were dropped since they are essentially the different componenets of the social progress index. In future iterations and improvements of the project, other parameters can be added from this list e.g. Water and Sanitation."
   ]
  },
  {
   "cell_type": "code",
   "execution_count": 35,
   "metadata": {
    "colab": {
     "base_uri": "https://localhost:8080/",
     "height": 344
    },
    "colab_type": "code",
    "id": "T1GQwqV9D-fg",
    "outputId": "c2bdd307-4baf-4a28-83d2-f3b2ec1d122b",
    "scrolled": true
   },
   "outputs": [
    {
     "data": {
      "text/html": [
       "<div>\n",
       "<style scoped>\n",
       "    .dataframe tbody tr th:only-of-type {\n",
       "        vertical-align: middle;\n",
       "    }\n",
       "\n",
       "    .dataframe tbody tr th {\n",
       "        vertical-align: top;\n",
       "    }\n",
       "\n",
       "    .dataframe thead th {\n",
       "        text-align: right;\n",
       "    }\n",
       "</style>\n",
       "<table border=\"1\" class=\"dataframe\">\n",
       "  <thead>\n",
       "    <tr style=\"text-align: right;\">\n",
       "      <th></th>\n",
       "      <th>State</th>\n",
       "      <th>Code</th>\n",
       "      <th>Social Progress Index</th>\n",
       "      <th>Basic Human Needs</th>\n",
       "      <th>Foundations of Wellbeing</th>\n",
       "      <th>Opportunity</th>\n",
       "      <th>Nutrition and Basic Medical Care</th>\n",
       "      <th>Water and Sanitation</th>\n",
       "      <th>Shelter</th>\n",
       "      <th>Personal Safety</th>\n",
       "      <th>...</th>\n",
       "      <th>Drinking water violations - BUCKETED (0=high percent; 6=low percent)</th>\n",
       "      <th>Water fluoridation - CAPPED</th>\n",
       "      <th>Homelessness - CAPPED</th>\n",
       "      <th>Violent crime rate - CAPPED</th>\n",
       "      <th>Murder rate - CAPPED</th>\n",
       "      <th>Property crime - CAPPED</th>\n",
       "      <th>Carbon dioxide emissions - CAPPED</th>\n",
       "      <th>Quality of public transportation - CAPPED</th>\n",
       "      <th>Employment discrimination - CAPPED</th>\n",
       "      <th>Hate group concentration - CAPPED</th>\n",
       "    </tr>\n",
       "  </thead>\n",
       "  <tbody>\n",
       "    <tr>\n",
       "      <th>0</th>\n",
       "      <td>Massachusetts</td>\n",
       "      <td>MA</td>\n",
       "      <td>64.82</td>\n",
       "      <td>67.94</td>\n",
       "      <td>62.33</td>\n",
       "      <td>64.32</td>\n",
       "      <td>77.74</td>\n",
       "      <td>65.32</td>\n",
       "      <td>57.01</td>\n",
       "      <td>73.60</td>\n",
       "      <td>...</td>\n",
       "      <td>3</td>\n",
       "      <td>70.4</td>\n",
       "      <td>0.257862</td>\n",
       "      <td>374.9</td>\n",
       "      <td>2.0</td>\n",
       "      <td>1561.1</td>\n",
       "      <td>9.669469</td>\n",
       "      <td>4.38</td>\n",
       "      <td>7.384268</td>\n",
       "      <td>0.176165</td>\n",
       "    </tr>\n",
       "    <tr>\n",
       "      <th>1</th>\n",
       "      <td>Minnesota</td>\n",
       "      <td>MN</td>\n",
       "      <td>62.30</td>\n",
       "      <td>74.82</td>\n",
       "      <td>53.56</td>\n",
       "      <td>60.35</td>\n",
       "      <td>62.61</td>\n",
       "      <td>93.10</td>\n",
       "      <td>71.50</td>\n",
       "      <td>75.19</td>\n",
       "      <td>...</td>\n",
       "      <td>6</td>\n",
       "      <td>79.6</td>\n",
       "      <td>0.138914</td>\n",
       "      <td>240.8</td>\n",
       "      <td>1.8</td>\n",
       "      <td>2133.3</td>\n",
       "      <td>15.996542</td>\n",
       "      <td>2.77</td>\n",
       "      <td>16.159561</td>\n",
       "      <td>0.181161</td>\n",
       "    </tr>\n",
       "    <tr>\n",
       "      <th>2</th>\n",
       "      <td>Vermont</td>\n",
       "      <td>VT</td>\n",
       "      <td>61.90</td>\n",
       "      <td>67.47</td>\n",
       "      <td>59.19</td>\n",
       "      <td>59.39</td>\n",
       "      <td>76.06</td>\n",
       "      <td>62.50</td>\n",
       "      <td>58.50</td>\n",
       "      <td>74.51</td>\n",
       "      <td>...</td>\n",
       "      <td>3</td>\n",
       "      <td>56.3</td>\n",
       "      <td>0.196127</td>\n",
       "      <td>156.1</td>\n",
       "      <td>2.2</td>\n",
       "      <td>1697.4</td>\n",
       "      <td>9.743039</td>\n",
       "      <td>1.52</td>\n",
       "      <td>4.643016</td>\n",
       "      <td>0.160104</td>\n",
       "    </tr>\n",
       "    <tr>\n",
       "      <th>3</th>\n",
       "      <td>New Hampshire</td>\n",
       "      <td>NH</td>\n",
       "      <td>61.76</td>\n",
       "      <td>73.30</td>\n",
       "      <td>59.01</td>\n",
       "      <td>54.45</td>\n",
       "      <td>75.91</td>\n",
       "      <td>69.82</td>\n",
       "      <td>67.18</td>\n",
       "      <td>81.08</td>\n",
       "      <td>...</td>\n",
       "      <td>5</td>\n",
       "      <td>46.6</td>\n",
       "      <td>0.109080</td>\n",
       "      <td>196.3</td>\n",
       "      <td>1.3</td>\n",
       "      <td>1512.9</td>\n",
       "      <td>11.352436</td>\n",
       "      <td>1.05</td>\n",
       "      <td>4.195401</td>\n",
       "      <td>0.449507</td>\n",
       "    </tr>\n",
       "    <tr>\n",
       "      <th>4</th>\n",
       "      <td>Connecticut</td>\n",
       "      <td>CT</td>\n",
       "      <td>61.09</td>\n",
       "      <td>68.25</td>\n",
       "      <td>57.81</td>\n",
       "      <td>57.78</td>\n",
       "      <td>65.64</td>\n",
       "      <td>74.04</td>\n",
       "      <td>62.39</td>\n",
       "      <td>71.53</td>\n",
       "      <td>...</td>\n",
       "      <td>4</td>\n",
       "      <td>79.6</td>\n",
       "      <td>0.094731</td>\n",
       "      <td>224.9</td>\n",
       "      <td>2.2</td>\n",
       "      <td>1808.0</td>\n",
       "      <td>10.182078</td>\n",
       "      <td>3.55</td>\n",
       "      <td>7.074050</td>\n",
       "      <td>0.139803</td>\n",
       "    </tr>\n",
       "  </tbody>\n",
       "</table>\n",
       "<p>5 rows × 81 columns</p>\n",
       "</div>"
      ],
      "text/plain": [
       "           State Code  Social Progress Index  Basic Human Needs  \\\n",
       "0  Massachusetts   MA                  64.82              67.94   \n",
       "1      Minnesota   MN                  62.30              74.82   \n",
       "2        Vermont   VT                  61.90              67.47   \n",
       "3  New Hampshire   NH                  61.76              73.30   \n",
       "4    Connecticut   CT                  61.09              68.25   \n",
       "\n",
       "   Foundations of Wellbeing  Opportunity  Nutrition and Basic Medical Care  \\\n",
       "0                     62.33        64.32                             77.74   \n",
       "1                     53.56        60.35                             62.61   \n",
       "2                     59.19        59.39                             76.06   \n",
       "3                     59.01        54.45                             75.91   \n",
       "4                     57.81        57.78                             65.64   \n",
       "\n",
       "   Water and Sanitation  Shelter  Personal Safety  ...  \\\n",
       "0                 65.32    57.01            73.60  ...   \n",
       "1                 93.10    71.50            75.19  ...   \n",
       "2                 62.50    58.50            74.51  ...   \n",
       "3                 69.82    67.18            81.08  ...   \n",
       "4                 74.04    62.39            71.53  ...   \n",
       "\n",
       "   Drinking water violations - BUCKETED (0=high percent; 6=low percent)  \\\n",
       "0                                                  3                      \n",
       "1                                                  6                      \n",
       "2                                                  3                      \n",
       "3                                                  5                      \n",
       "4                                                  4                      \n",
       "\n",
       "   Water fluoridation - CAPPED  Homelessness - CAPPED  \\\n",
       "0                         70.4               0.257862   \n",
       "1                         79.6               0.138914   \n",
       "2                         56.3               0.196127   \n",
       "3                         46.6               0.109080   \n",
       "4                         79.6               0.094731   \n",
       "\n",
       "   Violent crime rate - CAPPED  Murder rate - CAPPED  Property crime - CAPPED  \\\n",
       "0                        374.9                   2.0                   1561.1   \n",
       "1                        240.8                   1.8                   2133.3   \n",
       "2                        156.1                   2.2                   1697.4   \n",
       "3                        196.3                   1.3                   1512.9   \n",
       "4                        224.9                   2.2                   1808.0   \n",
       "\n",
       "   Carbon dioxide emissions - CAPPED  \\\n",
       "0                           9.669469   \n",
       "1                          15.996542   \n",
       "2                           9.743039   \n",
       "3                          11.352436   \n",
       "4                          10.182078   \n",
       "\n",
       "   Quality of public transportation - CAPPED  \\\n",
       "0                                       4.38   \n",
       "1                                       2.77   \n",
       "2                                       1.52   \n",
       "3                                       1.05   \n",
       "4                                       3.55   \n",
       "\n",
       "   Employment discrimination - CAPPED  Hate group concentration - CAPPED  \n",
       "0                            7.384268                           0.176165  \n",
       "1                           16.159561                           0.181161  \n",
       "2                            4.643016                           0.160104  \n",
       "3                            4.195401                           0.449507  \n",
       "4                            7.074050                           0.139803  \n",
       "\n",
       "[5 rows x 81 columns]"
      ]
     },
     "execution_count": 35,
     "metadata": {},
     "output_type": "execute_result"
    }
   ],
   "source": [
    "social_scores_df = pd.read_excel('us-social-progress-index-results-public-4.xlsx')\n",
    "social_scores_df.head()"
   ]
  },
  {
   "cell_type": "markdown",
   "metadata": {},
   "source": [
    "Only State, Code, and Social Progress Index columns were used. Code will come in handy at a later stage, when plotting the choropleths. "
   ]
  },
  {
   "cell_type": "code",
   "execution_count": 36,
   "metadata": {
    "colab": {},
    "colab_type": "code",
    "id": "nfMxuDAKD-fi",
    "outputId": "64f50ebc-0f4b-4f11-f318-25e46c17fa5a"
   },
   "outputs": [
    {
     "data": {
      "text/html": [
       "<div>\n",
       "<style scoped>\n",
       "    .dataframe tbody tr th:only-of-type {\n",
       "        vertical-align: middle;\n",
       "    }\n",
       "\n",
       "    .dataframe tbody tr th {\n",
       "        vertical-align: top;\n",
       "    }\n",
       "\n",
       "    .dataframe thead th {\n",
       "        text-align: right;\n",
       "    }\n",
       "</style>\n",
       "<table border=\"1\" class=\"dataframe\">\n",
       "  <thead>\n",
       "    <tr style=\"text-align: right;\">\n",
       "      <th></th>\n",
       "      <th>State</th>\n",
       "      <th>Code</th>\n",
       "      <th>Social Progress Index</th>\n",
       "    </tr>\n",
       "  </thead>\n",
       "  <tbody>\n",
       "    <tr>\n",
       "      <th>0</th>\n",
       "      <td>Massachusetts</td>\n",
       "      <td>MA</td>\n",
       "      <td>64.82</td>\n",
       "    </tr>\n",
       "    <tr>\n",
       "      <th>1</th>\n",
       "      <td>Minnesota</td>\n",
       "      <td>MN</td>\n",
       "      <td>62.30</td>\n",
       "    </tr>\n",
       "    <tr>\n",
       "      <th>2</th>\n",
       "      <td>Vermont</td>\n",
       "      <td>VT</td>\n",
       "      <td>61.90</td>\n",
       "    </tr>\n",
       "    <tr>\n",
       "      <th>3</th>\n",
       "      <td>New Hampshire</td>\n",
       "      <td>NH</td>\n",
       "      <td>61.76</td>\n",
       "    </tr>\n",
       "    <tr>\n",
       "      <th>4</th>\n",
       "      <td>Connecticut</td>\n",
       "      <td>CT</td>\n",
       "      <td>61.09</td>\n",
       "    </tr>\n",
       "  </tbody>\n",
       "</table>\n",
       "</div>"
      ],
      "text/plain": [
       "           State Code  Social Progress Index\n",
       "0  Massachusetts   MA                  64.82\n",
       "1      Minnesota   MN                  62.30\n",
       "2        Vermont   VT                  61.90\n",
       "3  New Hampshire   NH                  61.76\n",
       "4    Connecticut   CT                  61.09"
      ]
     },
     "execution_count": 36,
     "metadata": {},
     "output_type": "execute_result"
    }
   ],
   "source": [
    "df_social_progress_code = social_scores_df.iloc[:, [0, 1, 2]]\n",
    "df_social_progress_code.head()"
   ]
  },
  {
   "cell_type": "code",
   "execution_count": 37,
   "metadata": {
    "colab": {},
    "colab_type": "code",
    "id": "ViKuxaP1D-fj"
   },
   "outputs": [],
   "source": [
    "df = pd.merge(df, df_social_progress_code, on='State', how='inner')"
   ]
  },
  {
   "cell_type": "markdown",
   "metadata": {},
   "source": [
    "The cell below re-orders the columns for convenience."
   ]
  },
  {
   "cell_type": "code",
   "execution_count": 38,
   "metadata": {
    "colab": {},
    "colab_type": "code",
    "id": "GCSydQsdD-fl"
   },
   "outputs": [],
   "source": [
    "df = df[['State', 'Code', 'Happy State Index', 'GDP 2018', 'Life Expectancy', 'Employment', 'Social Progress Index']]"
   ]
  },
  {
   "cell_type": "code",
   "execution_count": 39,
   "metadata": {
    "colab": {},
    "colab_type": "code",
    "id": "fvqHueLCD-fm",
    "outputId": "d8e5cc78-dd77-4e9c-8beb-b2952c601faf"
   },
   "outputs": [
    {
     "data": {
      "text/html": [
       "<div>\n",
       "<style scoped>\n",
       "    .dataframe tbody tr th:only-of-type {\n",
       "        vertical-align: middle;\n",
       "    }\n",
       "\n",
       "    .dataframe tbody tr th {\n",
       "        vertical-align: top;\n",
       "    }\n",
       "\n",
       "    .dataframe thead th {\n",
       "        text-align: right;\n",
       "    }\n",
       "</style>\n",
       "<table border=\"1\" class=\"dataframe\">\n",
       "  <thead>\n",
       "    <tr style=\"text-align: right;\">\n",
       "      <th></th>\n",
       "      <th>State</th>\n",
       "      <th>Code</th>\n",
       "      <th>Happy State Index</th>\n",
       "      <th>GDP 2018</th>\n",
       "      <th>Life Expectancy</th>\n",
       "      <th>Employment</th>\n",
       "      <th>Social Progress Index</th>\n",
       "    </tr>\n",
       "  </thead>\n",
       "  <tbody>\n",
       "    <tr>\n",
       "      <th>0</th>\n",
       "      <td>Hawaii</td>\n",
       "      <td>HI</td>\n",
       "      <td>68.27</td>\n",
       "      <td>51.28</td>\n",
       "      <td>81.3</td>\n",
       "      <td>97.6</td>\n",
       "      <td>49.82</td>\n",
       "    </tr>\n",
       "    <tr>\n",
       "      <th>1</th>\n",
       "      <td>Utah</td>\n",
       "      <td>UT</td>\n",
       "      <td>67.84</td>\n",
       "      <td>44.64</td>\n",
       "      <td>80.2</td>\n",
       "      <td>96.9</td>\n",
       "      <td>50.58</td>\n",
       "    </tr>\n",
       "    <tr>\n",
       "      <th>2</th>\n",
       "      <td>Minnesota</td>\n",
       "      <td>MN</td>\n",
       "      <td>67.26</td>\n",
       "      <td>53.70</td>\n",
       "      <td>81.1</td>\n",
       "      <td>97.1</td>\n",
       "      <td>62.30</td>\n",
       "    </tr>\n",
       "    <tr>\n",
       "      <th>3</th>\n",
       "      <td>North Dakota</td>\n",
       "      <td>ND</td>\n",
       "      <td>65.62</td>\n",
       "      <td>62.84</td>\n",
       "      <td>79.5</td>\n",
       "      <td>97.4</td>\n",
       "      <td>53.14</td>\n",
       "    </tr>\n",
       "    <tr>\n",
       "      <th>4</th>\n",
       "      <td>California</td>\n",
       "      <td>CA</td>\n",
       "      <td>63.14</td>\n",
       "      <td>53.99</td>\n",
       "      <td>80.8</td>\n",
       "      <td>95.8</td>\n",
       "      <td>45.53</td>\n",
       "    </tr>\n",
       "  </tbody>\n",
       "</table>\n",
       "</div>"
      ],
      "text/plain": [
       "          State Code  Happy State Index  GDP 2018  Life Expectancy  \\\n",
       "0        Hawaii   HI              68.27     51.28             81.3   \n",
       "1          Utah   UT              67.84     44.64             80.2   \n",
       "2     Minnesota   MN              67.26     53.70             81.1   \n",
       "3  North Dakota   ND              65.62     62.84             79.5   \n",
       "4    California   CA              63.14     53.99             80.8   \n",
       "\n",
       "   Employment  Social Progress Index  \n",
       "0        97.6                  49.82  \n",
       "1        96.9                  50.58  \n",
       "2        97.1                  62.30  \n",
       "3        97.4                  53.14  \n",
       "4        95.8                  45.53  "
      ]
     },
     "execution_count": 39,
     "metadata": {},
     "output_type": "execute_result"
    }
   ],
   "source": [
    "df.head()"
   ]
  },
  {
   "cell_type": "markdown",
   "metadata": {
    "colab_type": "text",
    "id": "d06785_2D-fo"
   },
   "source": [
    "### 5. GINI coefficient (statistical income distribution)\n",
    "\n",
    "Gini data was also web scrapped from wikipidea without issue."
   ]
  },
  {
   "cell_type": "code",
   "execution_count": 40,
   "metadata": {
    "colab": {},
    "colab_type": "code",
    "id": "KngvoZXRD-fo"
   },
   "outputs": [],
   "source": [
    "wiki = 'https://en.wikipedia.org/wiki/List_of_U.S._states_by_Gini_coefficient'\n",
    "page = requests.get(wiki)\n",
    "soup = BeautifulSoup(page.content, 'html.parser')"
   ]
  },
  {
   "cell_type": "code",
   "execution_count": 41,
   "metadata": {
    "colab": {},
    "colab_type": "code",
    "id": "3gNOJ5xJD-fq"
   },
   "outputs": [],
   "source": [
    "title_page = soup.title.string\n",
    "assert 'Gini' in title_page"
   ]
  },
  {
   "cell_type": "code",
   "execution_count": 42,
   "metadata": {
    "colab": {},
    "colab_type": "code",
    "id": "-rmiRZ5XD-ft"
   },
   "outputs": [],
   "source": [
    "right_table = soup.find(\"table\", class_='wikitable sortable')"
   ]
  },
  {
   "cell_type": "code",
   "execution_count": 43,
   "metadata": {
    "colab": {},
    "colab_type": "code",
    "id": "ld9hsyOuD-fv"
   },
   "outputs": [],
   "source": [
    "states, GINI = [], []\n",
    "\n",
    "for row in right_table.findAll('tr'):\n",
    "    \n",
    "    cells = row.findAll('td')\n",
    "    \n",
    "\n",
    "    if len(cells) == 0:\n",
    "        continue\n",
    "    \n",
    "    states.append(cells[1].find(text=True))\n",
    "    GINI.append(cells[2].find(text=True))\n",
    "\n",
    "assert len(states) == 52\n",
    "assert len(GINI) == 52"
   ]
  },
  {
   "cell_type": "markdown",
   "metadata": {},
   "source": [
    "Data entries for the US overall and the District of Columbia had to be dropped."
   ]
  },
  {
   "cell_type": "code",
   "execution_count": 44,
   "metadata": {
    "colab": {},
    "colab_type": "code",
    "id": "TBLUTNzsD-fx",
    "outputId": "651b2210-3206-4cd7-b146-97b42190bee7"
   },
   "outputs": [
    {
     "data": {
      "text/html": [
       "<div>\n",
       "<style scoped>\n",
       "    .dataframe tbody tr th:only-of-type {\n",
       "        vertical-align: middle;\n",
       "    }\n",
       "\n",
       "    .dataframe tbody tr th {\n",
       "        vertical-align: top;\n",
       "    }\n",
       "\n",
       "    .dataframe thead th {\n",
       "        text-align: right;\n",
       "    }\n",
       "</style>\n",
       "<table border=\"1\" class=\"dataframe\">\n",
       "  <thead>\n",
       "    <tr style=\"text-align: right;\">\n",
       "      <th></th>\n",
       "      <th>GINI</th>\n",
       "    </tr>\n",
       "    <tr>\n",
       "      <th>State</th>\n",
       "      <th></th>\n",
       "    </tr>\n",
       "  </thead>\n",
       "  <tbody>\n",
       "    <tr>\n",
       "      <th>Utah</th>\n",
       "      <td>0.4063</td>\n",
       "    </tr>\n",
       "    <tr>\n",
       "      <th>Alaska</th>\n",
       "      <td>0.4081</td>\n",
       "    </tr>\n",
       "    <tr>\n",
       "      <th>New Hampshire</th>\n",
       "      <td>0.4304</td>\n",
       "    </tr>\n",
       "    <tr>\n",
       "      <th>Wyoming</th>\n",
       "      <td>0.4360</td>\n",
       "    </tr>\n",
       "    <tr>\n",
       "      <th>Hawaii</th>\n",
       "      <td>0.4420</td>\n",
       "    </tr>\n",
       "  </tbody>\n",
       "</table>\n",
       "</div>"
      ],
      "text/plain": [
       "                  GINI\n",
       "State                 \n",
       "Utah           0.4063\n",
       "\n",
       "Alaska         0.4081\n",
       "\n",
       "New Hampshire  0.4304\n",
       "\n",
       "Wyoming        0.4360\n",
       "\n",
       "Hawaii         0.4420"
      ]
     },
     "execution_count": 44,
     "metadata": {},
     "output_type": "execute_result"
    }
   ],
   "source": [
    "GINI_df = pd.DataFrame(list(zip(states, GINI)), \n",
    "            columns = ['State', 'GINI'])\n",
    "\n",
    "GINI_df.set_index('State', inplace=True)\n",
    "GINI_df = GINI_df.drop(['The United States Of America', 'District of Columbia'])\n",
    "\n",
    "assert GINI_df.size == 50\n",
    "GINI_df.head()"
   ]
  },
  {
   "cell_type": "markdown",
   "metadata": {},
   "source": [
    "1 - GINI was used since GINI is between 0 and 1, with 0 being perfectly equal income and 1 being unequal. This way we can simply add the result without worrying about the sign."
   ]
  },
  {
   "cell_type": "code",
   "execution_count": 45,
   "metadata": {
    "colab": {},
    "colab_type": "code",
    "id": "hwZ1KfLZD-f3",
    "outputId": "ec63cba8-2c18-43ba-e4f5-2516cb2a70a1",
    "scrolled": true
   },
   "outputs": [
    {
     "data": {
      "text/html": [
       "<div>\n",
       "<style scoped>\n",
       "    .dataframe tbody tr th:only-of-type {\n",
       "        vertical-align: middle;\n",
       "    }\n",
       "\n",
       "    .dataframe tbody tr th {\n",
       "        vertical-align: top;\n",
       "    }\n",
       "\n",
       "    .dataframe thead th {\n",
       "        text-align: right;\n",
       "    }\n",
       "</style>\n",
       "<table border=\"1\" class=\"dataframe\">\n",
       "  <thead>\n",
       "    <tr style=\"text-align: right;\">\n",
       "      <th></th>\n",
       "      <th>State</th>\n",
       "      <th>Code</th>\n",
       "      <th>Happy State Index</th>\n",
       "      <th>GDP 2018</th>\n",
       "      <th>Life Expectancy</th>\n",
       "      <th>Employment</th>\n",
       "      <th>Social Progress Index</th>\n",
       "      <th>GINI</th>\n",
       "    </tr>\n",
       "  </thead>\n",
       "  <tbody>\n",
       "    <tr>\n",
       "      <th>0</th>\n",
       "      <td>Hawaii</td>\n",
       "      <td>HI</td>\n",
       "      <td>68.27</td>\n",
       "      <td>51.28</td>\n",
       "      <td>81.3</td>\n",
       "      <td>97.6</td>\n",
       "      <td>49.82</td>\n",
       "      <td>0.5580</td>\n",
       "    </tr>\n",
       "    <tr>\n",
       "      <th>1</th>\n",
       "      <td>Utah</td>\n",
       "      <td>UT</td>\n",
       "      <td>67.84</td>\n",
       "      <td>44.64</td>\n",
       "      <td>80.2</td>\n",
       "      <td>96.9</td>\n",
       "      <td>50.58</td>\n",
       "      <td>0.5937</td>\n",
       "    </tr>\n",
       "    <tr>\n",
       "      <th>2</th>\n",
       "      <td>Minnesota</td>\n",
       "      <td>MN</td>\n",
       "      <td>67.26</td>\n",
       "      <td>53.70</td>\n",
       "      <td>81.1</td>\n",
       "      <td>97.1</td>\n",
       "      <td>62.30</td>\n",
       "      <td>0.5504</td>\n",
       "    </tr>\n",
       "    <tr>\n",
       "      <th>3</th>\n",
       "      <td>North Dakota</td>\n",
       "      <td>ND</td>\n",
       "      <td>65.62</td>\n",
       "      <td>62.84</td>\n",
       "      <td>79.5</td>\n",
       "      <td>97.4</td>\n",
       "      <td>53.14</td>\n",
       "      <td>0.5467</td>\n",
       "    </tr>\n",
       "    <tr>\n",
       "      <th>4</th>\n",
       "      <td>California</td>\n",
       "      <td>CA</td>\n",
       "      <td>63.14</td>\n",
       "      <td>53.99</td>\n",
       "      <td>80.8</td>\n",
       "      <td>95.8</td>\n",
       "      <td>45.53</td>\n",
       "      <td>0.5101</td>\n",
       "    </tr>\n",
       "  </tbody>\n",
       "</table>\n",
       "</div>"
      ],
      "text/plain": [
       "          State Code  Happy State Index  GDP 2018  Life Expectancy  \\\n",
       "0        Hawaii   HI              68.27     51.28             81.3   \n",
       "1          Utah   UT              67.84     44.64             80.2   \n",
       "2     Minnesota   MN              67.26     53.70             81.1   \n",
       "3  North Dakota   ND              65.62     62.84             79.5   \n",
       "4    California   CA              63.14     53.99             80.8   \n",
       "\n",
       "   Employment  Social Progress Index    GINI  \n",
       "0        97.6                  49.82  0.5580  \n",
       "1        96.9                  50.58  0.5937  \n",
       "2        97.1                  62.30  0.5504  \n",
       "3        97.4                  53.14  0.5467  \n",
       "4        95.8                  45.53  0.5101  "
      ]
     },
     "execution_count": 45,
     "metadata": {},
     "output_type": "execute_result"
    }
   ],
   "source": [
    "df = pd.merge(df, GINI_df, on='State', how='inner')\n",
    "df['GINI'] = 1 - df['GINI'].astype(float)\n",
    "df.head()"
   ]
  },
  {
   "cell_type": "markdown",
   "metadata": {
    "colab_type": "text",
    "id": "fwH7Nd8GD-f6"
   },
   "source": [
    "End of Web Scraping and Data Collection."
   ]
  },
  {
   "cell_type": "markdown",
   "metadata": {
    "colab_type": "text",
    "id": "U9I14r_oD-f6"
   },
   "source": [
    "## Data Visualization and Exploratory Data Analysis (EDA)"
   ]
  },
  {
   "cell_type": "markdown",
   "metadata": {
    "colab_type": "text",
    "id": "L_fXT4YTD-f6"
   },
   "source": [
    "### Histograms to study the near-normality of the distribution of variables\n",
    "\n",
    "Scipy's \"describe\" was used for a summary of main statistical measurements."
   ]
  },
  {
   "cell_type": "markdown",
   "metadata": {},
   "source": [
    "The Happy states Index is essentially unimodal and near-normally distributed."
   ]
  },
  {
   "cell_type": "code",
   "execution_count": 46,
   "metadata": {
    "colab": {},
    "colab_type": "code",
    "id": "AHdAq7YLD-f6",
    "outputId": "82962560-62c7-4ac9-8afb-28e56b460634"
   },
   "outputs": [
    {
     "data": {
      "image/png": "[encoded data removed]",
      "text/plain": [
       "<Figure size 432x288 with 1 Axes>"
      ]
     },
     "metadata": {},
     "output_type": "display_data"
    },
    {
     "data": {
      "text/plain": [
       "DescribeResult(nobs=50, minmax=(33.42, 68.27), mean=52.0518, variance=73.68615383673468, skewness=-0.1507820964197043, kurtosis=-0.4976419174116433)"
      ]
     },
     "execution_count": 46,
     "metadata": {},
     "output_type": "execute_result"
    }
   ],
   "source": [
    "sns.distplot(df['Happy State Index'])\n",
    "plt.show()\n",
    "stats.describe(df['Happy State Index'])"
   ]
  },
  {
   "cell_type": "markdown",
   "metadata": {},
   "source": [
    "GDP is also near-normal, with "
   ]
  },
  {
   "cell_type": "code",
   "execution_count": 47,
   "metadata": {
    "colab": {},
    "colab_type": "code",
    "id": "PWHyIpI1D-f8",
    "outputId": "88831479-72da-4f78-a012-ce0de66c6fb5"
   },
   "outputs": [
    {
     "data": {
      "text/plain": [
       "DescribeResult(nobs=50, minmax=(31.88, 65.55), mean=48.306799999999996, variance=75.32091608163265, skewness=0.3212730591057801, kurtosis=-0.6737867753447708)"
      ]
     },
     "execution_count": 47,
     "metadata": {},
     "output_type": "execute_result"
    },
    {
     "data": {
      "image/png": "[encoded data removed]",
      "text/plain": [
       "<Figure size 432x288 with 1 Axes>"
      ]
     },
     "metadata": {},
     "output_type": "display_data"
    }
   ],
   "source": [
    "sns.distplot(df['GDP 2018'])\n",
    "stats.describe(df['GDP 2018'])"
   ]
  },
  {
   "cell_type": "code",
   "execution_count": 48,
   "metadata": {
    "colab": {},
    "colab_type": "code",
    "id": "hJWxsbYlD-f-",
    "outputId": "2cd7c478-a8e7-4d1e-9792-7a1cb94df236"
   },
   "outputs": [
    {
     "data": {
      "text/plain": [
       "DescribeResult(nobs=50, minmax=(75.0, 81.3), mean=78.662, variance=2.7432204081632623, skewness=-0.5908895235688668, kurtosis=-0.5468653514039543)"
      ]
     },
     "execution_count": 48,
     "metadata": {},
     "output_type": "execute_result"
    },
    {
     "data": {
      "image/png": "[encoded data removed]",
      "text/plain": [
       "<Figure size 432x288 with 1 Axes>"
      ]
     },
     "metadata": {},
     "output_type": "display_data"
    }
   ],
   "source": [
    "sns.distplot(df['Life Expectancy'])\n",
    "stats.describe(df['Life Expectancy'])"
   ]
  },
  {
   "cell_type": "code",
   "execution_count": 49,
   "metadata": {
    "colab": {},
    "colab_type": "code",
    "id": "y6pxn5HFD-f_",
    "outputId": "438db62b-186e-489d-afc9-2e30b60db19e",
    "scrolled": true
   },
   "outputs": [
    {
     "data": {
      "text/plain": [
       "DescribeResult(nobs=50, minmax=(93.4, 97.6), mean=96.22400000000002, variance=0.6720653061224473, skewness=-0.7023148778828004, kurtosis=1.2463591989385812)"
      ]
     },
     "execution_count": 49,
     "metadata": {},
     "output_type": "execute_result"
    },
    {
     "data": {
      "image/png": "[encoded data removed]",
      "text/plain": [
       "<Figure size 432x288 with 1 Axes>"
      ]
     },
     "metadata": {},
     "output_type": "display_data"
    }
   ],
   "source": [
    "sns.distplot(df['Employment'])\n",
    "stats.describe(df['Employment'])"
   ]
  },
  {
   "cell_type": "code",
   "execution_count": 50,
   "metadata": {
    "colab": {},
    "colab_type": "code",
    "id": "Aj4RCASjD-gA",
    "outputId": "d6f9b59a-e415-4fb3-ee9b-272ee62372b2",
    "scrolled": true
   },
   "outputs": [
    {
     "data": {
      "text/plain": [
       "DescribeResult(nobs=50, minmax=(27.18, 64.82), mean=48.2122, variance=84.84994404081631, skewness=-0.43789314568478344, kurtosis=-0.41574833378638676)"
      ]
     },
     "execution_count": 50,
     "metadata": {},
     "output_type": "execute_result"
    },
    {
     "data": {
      "image/png": "[encoded data removed]",
      "text/plain": [
       "<Figure size 432x288 with 1 Axes>"
      ]
     },
     "metadata": {},
     "output_type": "display_data"
    }
   ],
   "source": [
    "sns.distplot(df['Social Progress Index'])\n",
    "stats.describe(df['Social Progress Index'])"
   ]
  },
  {
   "cell_type": "code",
   "execution_count": 51,
   "metadata": {
    "colab": {},
    "colab_type": "code",
    "id": "b8eR5PuxD-gC",
    "outputId": "af97bafe-f710-4a2a-a17d-800dc7997759"
   },
   "outputs": [
    {
     "data": {
      "text/plain": [
       "DescribeResult(nobs=50, minmax=(0.47709999999999997, 0.5937), mean=0.5353519999999999, variance=0.00044164417959183705, skewness=0.34169543910818007, kurtosis=1.2504327547735983)"
      ]
     },
     "execution_count": 51,
     "metadata": {},
     "output_type": "execute_result"
    },
    {
     "data": {
      "image/png": "[encoded data removed]",
      "text/plain": [
       "<Figure size 432x288 with 1 Axes>"
      ]
     },
     "metadata": {},
     "output_type": "display_data"
    }
   ],
   "source": [
    "sns.distplot(df['GINI'])\n",
    "stats.describe(df['GINI'])"
   ]
  },
  {
   "cell_type": "markdown",
   "metadata": {
    "colab_type": "text",
    "id": "TUknQuGsD-gE"
   },
   "source": [
    "### Barplot for the Happy State Index\n",
    "\n",
    "This shows the gradual near-linear decrease oh happiness in the US (as per the Happy State Index)."
   ]
  },
  {
   "cell_type": "code",
   "execution_count": 52,
   "metadata": {
    "colab": {},
    "colab_type": "code",
    "id": "ZUP2vALqD-gE",
    "outputId": "877e1bb4-72dc-4711-e214-0d074a9f00bf",
    "scrolled": false
   },
   "outputs": [
    {
     "data": {
      "image/png": "[encoded data removed]",
      "text/plain": [
       "<Figure size 1152x432 with 1 Axes>"
      ]
     },
     "metadata": {},
     "output_type": "display_data"
    }
   ],
   "source": [
    "plt.figure(figsize=(16, 6))\n",
    "plt.bar(x=df['State'], height=df['Happy State Index'], width=0.8)\n",
    "plt.title('Happy State Index')\n",
    "plt.xticks(df['State'], rotation=90)\n",
    "\n",
    "plt.show()"
   ]
  },
  {
   "cell_type": "markdown",
   "metadata": {
    "colab_type": "text",
    "id": "41Dp6hWoD-gI"
   },
   "source": [
    "### Choropleth plots to capture the geospatial relationships between variables\n",
    "\n",
    "Choropleth maps were appropriate this the data is predominantely geospatial. The colors were used to represent high intensity in red and low in blue, as for a basic heatmap. Plotly was chosen due to their friendly UI and ability to interact with the plots."
   ]
  },
  {
   "cell_type": "markdown",
   "metadata": {
    "colab_type": "text",
    "id": "4pB28Y7sD-gI"
   },
   "source": [
    "Choropleth map tutorial from https://plot.ly/python/choropleth-maps/?utm_source=mailchimp-jan-2015&utm_medium=email&utm_campaign=generalemail-jan2015&utm_term=chloropleth-maps"
   ]
  },
  {
   "cell_type": "code",
   "execution_count": 53,
   "metadata": {
    "colab": {},
    "colab_type": "code",
    "id": "okvw3V7sD-gI",
    "outputId": "7586f304-af88-4b95-9561-af96b01a4a08"
   },
   "outputs": [
    {
     "data": {
      "application/vnd.plotly.v1+json": {
       "config": {
        "linkText": "Export to plot.ly",
        "plotlyServerURL": "https://plot.ly",
        "showLink": false
       },
       "data": [
        {
         "colorbar": {
          "title": {
           "text": "0-100"
          }
         },
         "colorscale": "RdBu",
         "locationmode": "USA-states",
         "locations": [
          "HI",
          "UT",
          "MN",
          "ND",
          "CA",
          "ID",
          "MD",
          "IA",
          "SD",
          "NE",
          "WI",
          "CT",
          "NJ",
          "NY",
          "VA",
          "MA",
          "WA",
          "CO",
          "GA",
          "NC",
          "AZ",
          "TX",
          "IL",
          "NH",
          "KS",
          "NV",
          "DE",
          "MT",
          "FL",
          "PA",
          "RI",
          "IN",
          "ME",
          "MI",
          "WY",
          "SC",
          "OH",
          "VT",
          "OR",
          "TN",
          "NM",
          "MO",
          "MS",
          "KY",
          "AL",
          "OK",
          "AK",
          "LA",
          "AR",
          "WV"
         ],
         "marker": {
          "line": {
           "color": "rgb(255,255,255)",
           "width": 2
          }
         },
         "type": "choropleth",
         "uid": "6ab25945-80a6-4d52-a774-b855f7a6b218",
         "z": [
          68.27,
          67.84,
          67.26,
          65.62,
          63.14,
          63.09,
          61.78,
          61.07,
          60.8,
          59.11,
          58.87,
          58.24,
          58.1,
          57.35,
          57.35,
          56.85,
          56.44,
          55.38,
          55.15,
          53.69,
          52.92,
          52.56,
          52.47,
          52.37,
          52.3,
          51.8,
          51.67,
          51.08,
          51.01,
          50.54,
          50.44,
          50.2,
          49.81,
          49.52,
          48.9,
          48.26,
          48.19,
          48.18,
          48.05,
          46.13,
          43.35,
          42.76,
          41.63,
          39.42,
          39.35,
          38.89,
          38.21,
          37.15,
          36.61,
          33.42
         ]
        }
       ],
       "layout": {
        "geo": {
         "projection": {
          "type": "albers usa"
         },
         "scope": "usa",
         "showlakes": false
        },
        "title": {
         "text": "Happy State Index by State<br>(Hover for breakdown)"
        }
       }
      },
      "text/html": [
       "<div>\n",
       "        \n",
       "        \n",
       "            <div id=\"25c539d5-e36f-4f8b-bb2d-0ea8c6e3d7d3\" class=\"plotly-graph-div\" style=\"height:525px; width:100%;\"></div>\n",
       "            <script type=\"text/javascript\">\n",
       "                require([\"plotly\"], function(Plotly) {\n",
       "                    window.PLOTLYENV=window.PLOTLYENV || {};\n",
       "                    window.PLOTLYENV.BASE_URL='https://plot.ly';\n",
       "                    \n",
       "                if (document.getElementById(\"25c539d5-e36f-4f8b-bb2d-0ea8c6e3d7d3\")) {\n",
       "                    Plotly.newPlot(\n",
       "                        '25c539d5-e36f-4f8b-bb2d-0ea8c6e3d7d3',\n",
       "                        [{\"colorbar\": {\"title\": {\"text\": \"0-100\"}}, \"colorscale\": \"RdBu\", \"locationmode\": \"USA-states\", \"locations\": [\"HI\", \"UT\", \"MN\", \"ND\", \"CA\", \"ID\", \"MD\", \"IA\", \"SD\", \"NE\", \"WI\", \"CT\", \"NJ\", \"NY\", \"VA\", \"MA\", \"WA\", \"CO\", \"GA\", \"NC\", \"AZ\", \"TX\", \"IL\", \"NH\", \"KS\", \"NV\", \"DE\", \"MT\", \"FL\", \"PA\", \"RI\", \"IN\", \"ME\", \"MI\", \"WY\", \"SC\", \"OH\", \"VT\", \"OR\", \"TN\", \"NM\", \"MO\", \"MS\", \"KY\", \"AL\", \"OK\", \"AK\", \"LA\", \"AR\", \"WV\"], \"marker\": {\"line\": {\"color\": \"rgb(255,255,255)\", \"width\": 2}}, \"type\": \"choropleth\", \"uid\": \"6ab25945-80a6-4d52-a774-b855f7a6b218\", \"z\": [68.27, 67.84, 67.26, 65.62, 63.14, 63.09, 61.78, 61.07, 60.8, 59.11, 58.87, 58.24, 58.1, 57.35, 57.35, 56.85, 56.44, 55.38, 55.15, 53.69, 52.92, 52.56, 52.47, 52.37, 52.3, 51.8, 51.67, 51.08, 51.01, 50.54, 50.44, 50.2, 49.81, 49.52, 48.9, 48.26, 48.19, 48.18, 48.05, 46.13, 43.35, 42.76, 41.63, 39.42, 39.35, 38.89, 38.21, 37.15, 36.61, 33.42]}],\n",
       "                        {\"geo\": {\"projection\": {\"type\": \"albers usa\"}, \"scope\": \"usa\", \"showlakes\": false}, \"title\": {\"text\": \"Happy State Index by State<br>(Hover for breakdown)\"}},\n",
       "                        {\"showLink\": false, \"linkText\": \"Export to plot.ly\", \"plotlyServerURL\": \"https://plot.ly\", \"responsive\": true}\n",
       "                    ).then(function(){\n",
       "                            \n",
       "var gd = document.getElementById('25c539d5-e36f-4f8b-bb2d-0ea8c6e3d7d3');\n",
       "var x = new MutationObserver(function (mutations, observer) {{\n",
       "        var display = window.getComputedStyle(gd).display;\n",
       "        if (!display || display === 'none') {{\n",
       "            console.log([gd, 'removed!']);\n",
       "            Plotly.purge(gd);\n",
       "            observer.disconnect();\n",
       "        }}\n",
       "}});\n",
       "\n",
       "// Listen for the removal of the full notebook cells\n",
       "var notebookContainer = gd.closest('#notebook-container');\n",
       "if (notebookContainer) {{\n",
       "    x.observe(notebookContainer, {childList: true});\n",
       "}}\n",
       "\n",
       "// Listen for the clearing of the current output cell\n",
       "var outputEl = gd.closest('.output');\n",
       "if (outputEl) {{\n",
       "    x.observe(outputEl, {childList: true});\n",
       "}}\n",
       "\n",
       "                        })\n",
       "                };\n",
       "                });\n",
       "            </script>\n",
       "        </div>"
      ]
     },
     "metadata": {},
     "output_type": "display_data"
    }
   ],
   "source": [
    "data = [go.Choropleth(\n",
    "    colorscale = 'RdBu',\n",
    "    locations = df['Code'],\n",
    "    z = df['Happy State Index'].astype(float),\n",
    "    locationmode = 'USA-states',\n",
    "    marker = go.choropleth.Marker(\n",
    "        line = go.choropleth.marker.Line(\n",
    "            color = 'rgb(255,255,255)',\n",
    "            width = 2\n",
    "        )),\n",
    "    colorbar = go.choropleth.ColorBar(\n",
    "        title = \"0-100\")\n",
    ")]\n",
    "\n",
    "layout = go.Layout(\n",
    "    title = go.layout.Title(\n",
    "        text = 'Happy State Index by State<br>(Hover for breakdown)'\n",
    "    ),\n",
    "    geo = go.layout.Geo(\n",
    "        scope = 'usa',\n",
    "        projection = go.layout.geo.Projection(type = 'albers usa'),\n",
    "        showlakes = False),\n",
    ")\n",
    "\n",
    "fig = go.Figure(data=data, layout=layout)\n",
    "iplot(fig)"
   ]
  },
  {
   "cell_type": "code",
   "execution_count": 54,
   "metadata": {
    "colab": {},
    "colab_type": "code",
    "id": "jkPfUKx4D-gK",
    "outputId": "f8b62f28-a1a3-4488-cce2-6e4f1fc69305"
   },
   "outputs": [
    {
     "data": {
      "application/vnd.plotly.v1+json": {
       "config": {
        "linkText": "Export to plot.ly",
        "plotlyServerURL": "https://plot.ly",
        "showLink": false
       },
       "data": [
        {
         "colorbar": {
          "title": {
           "text": "Thousands USD"
          }
         },
         "colorscale": "RdBu",
         "locationmode": "USA-states",
         "locations": [
          "HI",
          "UT",
          "MN",
          "ND",
          "CA",
          "ID",
          "MD",
          "IA",
          "SD",
          "NE",
          "WI",
          "CT",
          "NJ",
          "NY",
          "VA",
          "MA",
          "WA",
          "CO",
          "GA",
          "NC",
          "AZ",
          "TX",
          "IL",
          "NH",
          "KS",
          "NV",
          "DE",
          "MT",
          "FL",
          "PA",
          "RI",
          "IN",
          "ME",
          "MI",
          "WY",
          "SC",
          "OH",
          "VT",
          "OR",
          "TN",
          "NM",
          "MO",
          "MS",
          "KY",
          "AL",
          "OK",
          "AK",
          "LA",
          "AR",
          "WV"
         ],
         "marker": {
          "line": {
           "color": "rgb(255,255,255)",
           "width": 2
          }
         },
         "type": "choropleth",
         "uid": "58d48859-6aef-4c6a-9ce7-69cae17ea84a",
         "z": [
          51.28,
          44.64,
          53.7,
          62.84,
          53.99,
          35.47,
          55.4,
          50.31,
          48.08,
          53.11,
          47.27,
          64.51,
          57.08,
          64.58,
          51.74,
          65.55,
          56.83,
          52.8,
          44.72,
          44.33,
          38.59,
          53.8,
          54.09,
          51.79,
          46.98,
          43.82,
          63.66,
          39.36,
          39.54,
          51,
          47.64,
          45.32,
          38.92,
          43.37,
          58.82,
          37.06,
          47.57,
          43.95,
          50.58,
          43.27,
          41.35,
          43.32,
          31.88,
          38.98,
          37.26,
          44.62,
          63.97,
          43.92,
          36.37,
          36.31
         ]
        }
       ],
       "layout": {
        "geo": {
         "projection": {
          "type": "albers usa"
         },
         "scope": "usa",
         "showlakes": false
        },
        "title": {
         "text": "GDP per capita 2018 by State<br>(Hover for breakdown)"
        }
       }
      },
      "text/html": [
       "<div>\n",
       "        \n",
       "        \n",
       "            <div id=\"7f00910e-93a5-4629-8178-79617a006058\" class=\"plotly-graph-div\" style=\"height:525px; width:100%;\"></div>\n",
       "            <script type=\"text/javascript\">\n",
       "                require([\"plotly\"], function(Plotly) {\n",
       "                    window.PLOTLYENV=window.PLOTLYENV || {};\n",
       "                    window.PLOTLYENV.BASE_URL='https://plot.ly';\n",
       "                    \n",
       "                if (document.getElementById(\"7f00910e-93a5-4629-8178-79617a006058\")) {\n",
       "                    Plotly.newPlot(\n",
       "                        '7f00910e-93a5-4629-8178-79617a006058',\n",
       "                        [{\"colorbar\": {\"title\": {\"text\": \"Thousands USD\"}}, \"colorscale\": \"RdBu\", \"locationmode\": \"USA-states\", \"locations\": [\"HI\", \"UT\", \"MN\", \"ND\", \"CA\", \"ID\", \"MD\", \"IA\", \"SD\", \"NE\", \"WI\", \"CT\", \"NJ\", \"NY\", \"VA\", \"MA\", \"WA\", \"CO\", \"GA\", \"NC\", \"AZ\", \"TX\", \"IL\", \"NH\", \"KS\", \"NV\", \"DE\", \"MT\", \"FL\", \"PA\", \"RI\", \"IN\", \"ME\", \"MI\", \"WY\", \"SC\", \"OH\", \"VT\", \"OR\", \"TN\", \"NM\", \"MO\", \"MS\", \"KY\", \"AL\", \"OK\", \"AK\", \"LA\", \"AR\", \"WV\"], \"marker\": {\"line\": {\"color\": \"rgb(255,255,255)\", \"width\": 2}}, \"type\": \"choropleth\", \"uid\": \"58d48859-6aef-4c6a-9ce7-69cae17ea84a\", \"z\": [51.28, 44.64, 53.7, 62.84, 53.99, 35.47, 55.4, 50.31, 48.08, 53.11, 47.27, 64.51, 57.08, 64.58, 51.74, 65.55, 56.83, 52.8, 44.72, 44.33, 38.59, 53.8, 54.09, 51.79, 46.98, 43.82, 63.66, 39.36, 39.54, 51.0, 47.64, 45.32, 38.92, 43.37, 58.82, 37.06, 47.57, 43.95, 50.58, 43.27, 41.35, 43.32, 31.88, 38.98, 37.26, 44.62, 63.97, 43.92, 36.37, 36.31]}],\n",
       "                        {\"geo\": {\"projection\": {\"type\": \"albers usa\"}, \"scope\": \"usa\", \"showlakes\": false}, \"title\": {\"text\": \"GDP per capita 2018 by State<br>(Hover for breakdown)\"}},\n",
       "                        {\"showLink\": false, \"linkText\": \"Export to plot.ly\", \"plotlyServerURL\": \"https://plot.ly\", \"responsive\": true}\n",
       "                    ).then(function(){\n",
       "                            \n",
       "var gd = document.getElementById('7f00910e-93a5-4629-8178-79617a006058');\n",
       "var x = new MutationObserver(function (mutations, observer) {{\n",
       "        var display = window.getComputedStyle(gd).display;\n",
       "        if (!display || display === 'none') {{\n",
       "            console.log([gd, 'removed!']);\n",
       "            Plotly.purge(gd);\n",
       "            observer.disconnect();\n",
       "        }}\n",
       "}});\n",
       "\n",
       "// Listen for the removal of the full notebook cells\n",
       "var notebookContainer = gd.closest('#notebook-container');\n",
       "if (notebookContainer) {{\n",
       "    x.observe(notebookContainer, {childList: true});\n",
       "}}\n",
       "\n",
       "// Listen for the clearing of the current output cell\n",
       "var outputEl = gd.closest('.output');\n",
       "if (outputEl) {{\n",
       "    x.observe(outputEl, {childList: true});\n",
       "}}\n",
       "\n",
       "                        })\n",
       "                };\n",
       "                });\n",
       "            </script>\n",
       "        </div>"
      ]
     },
     "metadata": {},
     "output_type": "display_data"
    }
   ],
   "source": [
    "data = [go.Choropleth(\n",
    "    colorscale = 'RdBu',\n",
    "    locations = df['Code'],\n",
    "    z = df['GDP 2018'].astype(float),\n",
    "    locationmode = 'USA-states',\n",
    "    marker = go.choropleth.Marker(\n",
    "        line = go.choropleth.marker.Line(\n",
    "            color = 'rgb(255,255,255)',\n",
    "            width = 2\n",
    "        )),\n",
    "    colorbar = go.choropleth.ColorBar(\n",
    "        title = \"Thousands USD\")\n",
    ")]\n",
    "\n",
    "layout = go.Layout(\n",
    "    title = go.layout.Title(\n",
    "        text = 'GDP per capita 2018 by State<br>(Hover for breakdown)'\n",
    "    ),\n",
    "    geo = go.layout.Geo(\n",
    "        scope = 'usa',\n",
    "        projection = go.layout.geo.Projection(type = 'albers usa'),\n",
    "        showlakes = False),\n",
    ")\n",
    "\n",
    "fig = go.Figure(data=data, layout=layout)\n",
    "iplot(fig)"
   ]
  },
  {
   "cell_type": "code",
   "execution_count": 55,
   "metadata": {
    "colab": {},
    "colab_type": "code",
    "id": "ZN-W_1fjD-gL",
    "outputId": "be122e6d-5531-4853-d6bd-275b98a87f25"
   },
   "outputs": [
    {
     "data": {
      "application/vnd.plotly.v1+json": {
       "config": {
        "linkText": "Export to plot.ly",
        "plotlyServerURL": "https://plot.ly",
        "showLink": false
       },
       "data": [
        {
         "colorbar": {
          "title": {
           "text": "Years"
          }
         },
         "colorscale": "RdBu",
         "locationmode": "USA-states",
         "locations": [
          "HI",
          "UT",
          "MN",
          "ND",
          "CA",
          "ID",
          "MD",
          "IA",
          "SD",
          "NE",
          "WI",
          "CT",
          "NJ",
          "NY",
          "VA",
          "MA",
          "WA",
          "CO",
          "GA",
          "NC",
          "AZ",
          "TX",
          "IL",
          "NH",
          "KS",
          "NV",
          "DE",
          "MT",
          "FL",
          "PA",
          "RI",
          "IN",
          "ME",
          "MI",
          "WY",
          "SC",
          "OH",
          "VT",
          "OR",
          "TN",
          "NM",
          "MO",
          "MS",
          "KY",
          "AL",
          "OK",
          "AK",
          "LA",
          "AR",
          "WV"
         ],
         "marker": {
          "line": {
           "color": "rgb(255,255,255)",
           "width": 2
          }
         },
         "type": "choropleth",
         "uid": "1d20d4b0-7965-45cf-a1fc-524fe81d879b",
         "z": [
          81.3,
          80.2,
          81.1,
          79.5,
          80.8,
          79.5,
          78.8,
          79.7,
          79.5,
          79.8,
          80,
          80.8,
          80.3,
          80.5,
          79,
          80.5,
          79.9,
          80,
          77.2,
          77.8,
          79.6,
          78.5,
          79,
          80.3,
          78.7,
          78.1,
          78.4,
          78.5,
          79.4,
          78.5,
          79.9,
          77.6,
          79.2,
          78.2,
          78.3,
          77,
          77.8,
          80.5,
          79.5,
          76.3,
          78.4,
          77.5,
          75,
          76,
          75.4,
          75.9,
          78.3,
          75.7,
          76,
          75.4
         ]
        }
       ],
       "layout": {
        "geo": {
         "projection": {
          "type": "albers usa"
         },
         "scope": "usa",
         "showlakes": false
        },
        "title": {
         "text": "Life Expectancy by State<br>(Hover for breakdown)"
        }
       }
      },
      "text/html": [
       "<div>\n",
       "        \n",
       "        \n",
       "            <div id=\"6694b038-b777-45ef-bd1f-98242108ab18\" class=\"plotly-graph-div\" style=\"height:525px; width:100%;\"></div>\n",
       "            <script type=\"text/javascript\">\n",
       "                require([\"plotly\"], function(Plotly) {\n",
       "                    window.PLOTLYENV=window.PLOTLYENV || {};\n",
       "                    window.PLOTLYENV.BASE_URL='https://plot.ly';\n",
       "                    \n",
       "                if (document.getElementById(\"6694b038-b777-45ef-bd1f-98242108ab18\")) {\n",
       "                    Plotly.newPlot(\n",
       "                        '6694b038-b777-45ef-bd1f-98242108ab18',\n",
       "                        [{\"colorbar\": {\"title\": {\"text\": \"Years\"}}, \"colorscale\": \"RdBu\", \"locationmode\": \"USA-states\", \"locations\": [\"HI\", \"UT\", \"MN\", \"ND\", \"CA\", \"ID\", \"MD\", \"IA\", \"SD\", \"NE\", \"WI\", \"CT\", \"NJ\", \"NY\", \"VA\", \"MA\", \"WA\", \"CO\", \"GA\", \"NC\", \"AZ\", \"TX\", \"IL\", \"NH\", \"KS\", \"NV\", \"DE\", \"MT\", \"FL\", \"PA\", \"RI\", \"IN\", \"ME\", \"MI\", \"WY\", \"SC\", \"OH\", \"VT\", \"OR\", \"TN\", \"NM\", \"MO\", \"MS\", \"KY\", \"AL\", \"OK\", \"AK\", \"LA\", \"AR\", \"WV\"], \"marker\": {\"line\": {\"color\": \"rgb(255,255,255)\", \"width\": 2}}, \"type\": \"choropleth\", \"uid\": \"1d20d4b0-7965-45cf-a1fc-524fe81d879b\", \"z\": [81.3, 80.2, 81.1, 79.5, 80.8, 79.5, 78.8, 79.7, 79.5, 79.8, 80.0, 80.8, 80.3, 80.5, 79.0, 80.5, 79.9, 80.0, 77.2, 77.8, 79.6, 78.5, 79.0, 80.3, 78.7, 78.1, 78.4, 78.5, 79.4, 78.5, 79.9, 77.6, 79.2, 78.2, 78.3, 77.0, 77.8, 80.5, 79.5, 76.3, 78.4, 77.5, 75.0, 76.0, 75.4, 75.9, 78.3, 75.7, 76.0, 75.4]}],\n",
       "                        {\"geo\": {\"projection\": {\"type\": \"albers usa\"}, \"scope\": \"usa\", \"showlakes\": false}, \"title\": {\"text\": \"Life Expectancy by State<br>(Hover for breakdown)\"}},\n",
       "                        {\"showLink\": false, \"linkText\": \"Export to plot.ly\", \"plotlyServerURL\": \"https://plot.ly\", \"responsive\": true}\n",
       "                    ).then(function(){\n",
       "                            \n",
       "var gd = document.getElementById('6694b038-b777-45ef-bd1f-98242108ab18');\n",
       "var x = new MutationObserver(function (mutations, observer) {{\n",
       "        var display = window.getComputedStyle(gd).display;\n",
       "        if (!display || display === 'none') {{\n",
       "            console.log([gd, 'removed!']);\n",
       "            Plotly.purge(gd);\n",
       "            observer.disconnect();\n",
       "        }}\n",
       "}});\n",
       "\n",
       "// Listen for the removal of the full notebook cells\n",
       "var notebookContainer = gd.closest('#notebook-container');\n",
       "if (notebookContainer) {{\n",
       "    x.observe(notebookContainer, {childList: true});\n",
       "}}\n",
       "\n",
       "// Listen for the clearing of the current output cell\n",
       "var outputEl = gd.closest('.output');\n",
       "if (outputEl) {{\n",
       "    x.observe(outputEl, {childList: true});\n",
       "}}\n",
       "\n",
       "                        })\n",
       "                };\n",
       "                });\n",
       "            </script>\n",
       "        </div>"
      ]
     },
     "metadata": {},
     "output_type": "display_data"
    }
   ],
   "source": [
    "data = [go.Choropleth(\n",
    "    colorscale = 'RdBu',\n",
    "    locations = df['Code'],\n",
    "    z = df['Life Expectancy'].astype(float),\n",
    "    locationmode = 'USA-states',\n",
    "    marker = go.choropleth.Marker(\n",
    "        line = go.choropleth.marker.Line(\n",
    "            color = 'rgb(255,255,255)',\n",
    "            width = 2\n",
    "        )),\n",
    "    colorbar = go.choropleth.ColorBar(\n",
    "        title = \"Years\")\n",
    ")]\n",
    "\n",
    "layout = go.Layout(\n",
    "    title = go.layout.Title(\n",
    "        text = 'Life Expectancy by State<br>(Hover for breakdown)'\n",
    "    ),\n",
    "    geo = go.layout.Geo(\n",
    "        scope = 'usa',\n",
    "        projection = go.layout.geo.Projection(type = 'albers usa'),\n",
    "        showlakes = False),\n",
    ")\n",
    "\n",
    "fig = go.Figure(data=data, layout=layout)\n",
    "iplot(fig)"
   ]
  },
  {
   "cell_type": "code",
   "execution_count": 56,
   "metadata": {
    "colab": {},
    "colab_type": "code",
    "id": "th6UBm8DD-gN",
    "outputId": "91c7c14b-cf28-4287-bb99-02882c86f311",
    "scrolled": false
   },
   "outputs": [
    {
     "data": {
      "application/vnd.plotly.v1+json": {
       "config": {
        "linkText": "Export to plot.ly",
        "plotlyServerURL": "https://plot.ly",
        "showLink": false
       },
       "data": [
        {
         "colorbar": {
          "title": {
           "text": "%"
          }
         },
         "colorscale": "RdBu",
         "locationmode": "USA-states",
         "locations": [
          "HI",
          "UT",
          "MN",
          "ND",
          "CA",
          "ID",
          "MD",
          "IA",
          "SD",
          "NE",
          "WI",
          "CT",
          "NJ",
          "NY",
          "VA",
          "MA",
          "WA",
          "CO",
          "GA",
          "NC",
          "AZ",
          "TX",
          "IL",
          "NH",
          "KS",
          "NV",
          "DE",
          "MT",
          "FL",
          "PA",
          "RI",
          "IN",
          "ME",
          "MI",
          "WY",
          "SC",
          "OH",
          "VT",
          "OR",
          "TN",
          "NM",
          "MO",
          "MS",
          "KY",
          "AL",
          "OK",
          "AK",
          "LA",
          "AR",
          "WV"
         ],
         "marker": {
          "line": {
           "color": "rgb(255,255,255)",
           "width": 2
          }
         },
         "type": "choropleth",
         "uid": "c07c72b1-b9ad-4c7b-98fe-f6b7dccb5c83",
         "z": [
          97.6,
          96.9,
          97.1,
          97.4,
          95.8,
          97.2,
          96.1,
          97.5,
          97,
          97.2,
          97,
          95.9,
          95.9,
          95.9,
          97,
          96.7,
          95.5,
          96.7,
          96.1,
          96.1,
          95.2,
          96.1,
          95.7,
          97.5,
          96.6,
          95.4,
          96.2,
          96.3,
          96.4,
          95.7,
          95.9,
          96.6,
          96.6,
          95.9,
          95.9,
          96.6,
          95.4,
          97.3,
          95.8,
          96.5,
          95.1,
          96.8,
          95.2,
          95.7,
          96.1,
          96.6,
          93.4,
          95.1,
          96.3,
          94.7
         ]
        }
       ],
       "layout": {
        "geo": {
         "projection": {
          "type": "albers usa"
         },
         "scope": "usa",
         "showlakes": false
        },
        "title": {
         "text": "Employment % by State<br>(Hover for breakdown)"
        }
       }
      },
      "text/html": [
       "<div>\n",
       "        \n",
       "        \n",
       "            <div id=\"d7989e18-fdbf-48cc-8866-0398a65caee2\" class=\"plotly-graph-div\" style=\"height:525px; width:100%;\"></div>\n",
       "            <script type=\"text/javascript\">\n",
       "                require([\"plotly\"], function(Plotly) {\n",
       "                    window.PLOTLYENV=window.PLOTLYENV || {};\n",
       "                    window.PLOTLYENV.BASE_URL='https://plot.ly';\n",
       "                    \n",
       "                if (document.getElementById(\"d7989e18-fdbf-48cc-8866-0398a65caee2\")) {\n",
       "                    Plotly.newPlot(\n",
       "                        'd7989e18-fdbf-48cc-8866-0398a65caee2',\n",
       "                        [{\"colorbar\": {\"title\": {\"text\": \"%\"}}, \"colorscale\": \"RdBu\", \"locationmode\": \"USA-states\", \"locations\": [\"HI\", \"UT\", \"MN\", \"ND\", \"CA\", \"ID\", \"MD\", \"IA\", \"SD\", \"NE\", \"WI\", \"CT\", \"NJ\", \"NY\", \"VA\", \"MA\", \"WA\", \"CO\", \"GA\", \"NC\", \"AZ\", \"TX\", \"IL\", \"NH\", \"KS\", \"NV\", \"DE\", \"MT\", \"FL\", \"PA\", \"RI\", \"IN\", \"ME\", \"MI\", \"WY\", \"SC\", \"OH\", \"VT\", \"OR\", \"TN\", \"NM\", \"MO\", \"MS\", \"KY\", \"AL\", \"OK\", \"AK\", \"LA\", \"AR\", \"WV\"], \"marker\": {\"line\": {\"color\": \"rgb(255,255,255)\", \"width\": 2}}, \"type\": \"choropleth\", \"uid\": \"c07c72b1-b9ad-4c7b-98fe-f6b7dccb5c83\", \"z\": [97.6, 96.9, 97.1, 97.4, 95.8, 97.2, 96.1, 97.5, 97.0, 97.2, 97.0, 95.9, 95.9, 95.9, 97.0, 96.7, 95.5, 96.7, 96.1, 96.1, 95.2, 96.1, 95.7, 97.5, 96.6, 95.4, 96.2, 96.3, 96.4, 95.7, 95.9, 96.6, 96.6, 95.9, 95.9, 96.6, 95.4, 97.3, 95.8, 96.5, 95.1, 96.8, 95.2, 95.7, 96.1, 96.6, 93.4, 95.1, 96.3, 94.7]}],\n",
       "                        {\"geo\": {\"projection\": {\"type\": \"albers usa\"}, \"scope\": \"usa\", \"showlakes\": false}, \"title\": {\"text\": \"Employment % by State<br>(Hover for breakdown)\"}},\n",
       "                        {\"showLink\": false, \"linkText\": \"Export to plot.ly\", \"plotlyServerURL\": \"https://plot.ly\", \"responsive\": true}\n",
       "                    ).then(function(){\n",
       "                            \n",
       "var gd = document.getElementById('d7989e18-fdbf-48cc-8866-0398a65caee2');\n",
       "var x = new MutationObserver(function (mutations, observer) {{\n",
       "        var display = window.getComputedStyle(gd).display;\n",
       "        if (!display || display === 'none') {{\n",
       "            console.log([gd, 'removed!']);\n",
       "            Plotly.purge(gd);\n",
       "            observer.disconnect();\n",
       "        }}\n",
       "}});\n",
       "\n",
       "// Listen for the removal of the full notebook cells\n",
       "var notebookContainer = gd.closest('#notebook-container');\n",
       "if (notebookContainer) {{\n",
       "    x.observe(notebookContainer, {childList: true});\n",
       "}}\n",
       "\n",
       "// Listen for the clearing of the current output cell\n",
       "var outputEl = gd.closest('.output');\n",
       "if (outputEl) {{\n",
       "    x.observe(outputEl, {childList: true});\n",
       "}}\n",
       "\n",
       "                        })\n",
       "                };\n",
       "                });\n",
       "            </script>\n",
       "        </div>"
      ]
     },
     "metadata": {},
     "output_type": "display_data"
    }
   ],
   "source": [
    "data = [go.Choropleth(\n",
    "    colorscale = 'RdBu',\n",
    "    locations = df['Code'],\n",
    "    z = df['Employment'].astype(float),\n",
    "    locationmode = 'USA-states',\n",
    "    marker = go.choropleth.Marker(\n",
    "        line = go.choropleth.marker.Line(\n",
    "            color = 'rgb(255,255,255)',\n",
    "            width = 2\n",
    "        )),\n",
    "    colorbar = go.choropleth.ColorBar(\n",
    "        title = \"%\")\n",
    ")]\n",
    "\n",
    "layout = go.Layout(\n",
    "    title = go.layout.Title(\n",
    "        text = 'Employment % by State<br>(Hover for breakdown)'\n",
    "    ),\n",
    "    geo = go.layout.Geo(\n",
    "        scope = 'usa',\n",
    "        projection = go.layout.geo.Projection(type = 'albers usa'),\n",
    "        showlakes = False),\n",
    ")\n",
    "\n",
    "fig = go.Figure(data=data, layout=layout)\n",
    "iplot(fig)"
   ]
  },
  {
   "cell_type": "code",
   "execution_count": 57,
   "metadata": {
    "colab": {},
    "colab_type": "code",
    "id": "rBx4JzazD-gO",
    "outputId": "c3cfeb37-fe0a-4c96-feb8-3488ed8bbc13"
   },
   "outputs": [
    {
     "data": {
      "application/vnd.plotly.v1+json": {
       "config": {
        "linkText": "Export to plot.ly",
        "plotlyServerURL": "https://plot.ly",
        "showLink": false
       },
       "data": [
        {
         "colorbar": {
          "title": {
           "text": "0-100"
          }
         },
         "colorscale": "RdBu",
         "locationmode": "USA-states",
         "locations": [
          "HI",
          "UT",
          "MN",
          "ND",
          "CA",
          "ID",
          "MD",
          "IA",
          "SD",
          "NE",
          "WI",
          "CT",
          "NJ",
          "NY",
          "VA",
          "MA",
          "WA",
          "CO",
          "GA",
          "NC",
          "AZ",
          "TX",
          "IL",
          "NH",
          "KS",
          "NV",
          "DE",
          "MT",
          "FL",
          "PA",
          "RI",
          "IN",
          "ME",
          "MI",
          "WY",
          "SC",
          "OH",
          "VT",
          "OR",
          "TN",
          "NM",
          "MO",
          "MS",
          "KY",
          "AL",
          "OK",
          "AK",
          "LA",
          "AR",
          "WV"
         ],
         "marker": {
          "line": {
           "color": "rgb(255,255,255)",
           "width": 2
          }
         },
         "type": "choropleth",
         "uid": "f39fb72d-12d1-43cb-9be2-2518f6f5f8dc",
         "z": [
          49.82,
          50.58,
          62.3,
          53.14,
          45.53,
          47.77,
          54.47,
          57.21,
          51.81,
          52.57,
          57.88,
          61.09,
          54.26,
          54.76,
          54.22,
          64.82,
          57.76,
          56.01,
          43.25,
          46.8,
          45.43,
          40.27,
          52.33,
          61.76,
          48.26,
          40.29,
          51.55,
          46.64,
          45.93,
          51.08,
          56.67,
          43.54,
          57.54,
          50.76,
          46.9,
          41.99,
          48.64,
          61.9,
          53.36,
          41.24,
          37.16,
          43.7,
          27.18,
          38.6,
          33.6,
          32.8,
          43.77,
          30.07,
          32.1,
          29.5
         ]
        }
       ],
       "layout": {
        "geo": {
         "projection": {
          "type": "albers usa"
         },
         "scope": "usa",
         "showlakes": false
        },
        "title": {
         "text": "Social Progress Index by State<br>(Hover for breakdown)"
        }
       }
      },
      "text/html": [
       "<div>\n",
       "        \n",
       "        \n",
       "            <div id=\"583fe4a1-43e1-4449-8a62-ac831a3c0945\" class=\"plotly-graph-div\" style=\"height:525px; width:100%;\"></div>\n",
       "            <script type=\"text/javascript\">\n",
       "                require([\"plotly\"], function(Plotly) {\n",
       "                    window.PLOTLYENV=window.PLOTLYENV || {};\n",
       "                    window.PLOTLYENV.BASE_URL='https://plot.ly';\n",
       "                    \n",
       "                if (document.getElementById(\"583fe4a1-43e1-4449-8a62-ac831a3c0945\")) {\n",
       "                    Plotly.newPlot(\n",
       "                        '583fe4a1-43e1-4449-8a62-ac831a3c0945',\n",
       "                        [{\"colorbar\": {\"title\": {\"text\": \"0-100\"}}, \"colorscale\": \"RdBu\", \"locationmode\": \"USA-states\", \"locations\": [\"HI\", \"UT\", \"MN\", \"ND\", \"CA\", \"ID\", \"MD\", \"IA\", \"SD\", \"NE\", \"WI\", \"CT\", \"NJ\", \"NY\", \"VA\", \"MA\", \"WA\", \"CO\", \"GA\", \"NC\", \"AZ\", \"TX\", \"IL\", \"NH\", \"KS\", \"NV\", \"DE\", \"MT\", \"FL\", \"PA\", \"RI\", \"IN\", \"ME\", \"MI\", \"WY\", \"SC\", \"OH\", \"VT\", \"OR\", \"TN\", \"NM\", \"MO\", \"MS\", \"KY\", \"AL\", \"OK\", \"AK\", \"LA\", \"AR\", \"WV\"], \"marker\": {\"line\": {\"color\": \"rgb(255,255,255)\", \"width\": 2}}, \"type\": \"choropleth\", \"uid\": \"f39fb72d-12d1-43cb-9be2-2518f6f5f8dc\", \"z\": [49.82, 50.58, 62.3, 53.14, 45.53, 47.77, 54.47, 57.21, 51.81, 52.57, 57.88, 61.09, 54.26, 54.76, 54.22, 64.82, 57.76, 56.01, 43.25, 46.8, 45.43, 40.27, 52.33, 61.76, 48.26, 40.29, 51.55, 46.64, 45.93, 51.08, 56.67, 43.54, 57.54, 50.76, 46.9, 41.99, 48.64, 61.9, 53.36, 41.24, 37.16, 43.7, 27.18, 38.6, 33.6, 32.8, 43.77, 30.07, 32.1, 29.5]}],\n",
       "                        {\"geo\": {\"projection\": {\"type\": \"albers usa\"}, \"scope\": \"usa\", \"showlakes\": false}, \"title\": {\"text\": \"Social Progress Index by State<br>(Hover for breakdown)\"}},\n",
       "                        {\"showLink\": false, \"linkText\": \"Export to plot.ly\", \"plotlyServerURL\": \"https://plot.ly\", \"responsive\": true}\n",
       "                    ).then(function(){\n",
       "                            \n",
       "var gd = document.getElementById('583fe4a1-43e1-4449-8a62-ac831a3c0945');\n",
       "var x = new MutationObserver(function (mutations, observer) {{\n",
       "        var display = window.getComputedStyle(gd).display;\n",
       "        if (!display || display === 'none') {{\n",
       "            console.log([gd, 'removed!']);\n",
       "            Plotly.purge(gd);\n",
       "            observer.disconnect();\n",
       "        }}\n",
       "}});\n",
       "\n",
       "// Listen for the removal of the full notebook cells\n",
       "var notebookContainer = gd.closest('#notebook-container');\n",
       "if (notebookContainer) {{\n",
       "    x.observe(notebookContainer, {childList: true});\n",
       "}}\n",
       "\n",
       "// Listen for the clearing of the current output cell\n",
       "var outputEl = gd.closest('.output');\n",
       "if (outputEl) {{\n",
       "    x.observe(outputEl, {childList: true});\n",
       "}}\n",
       "\n",
       "                        })\n",
       "                };\n",
       "                });\n",
       "            </script>\n",
       "        </div>"
      ]
     },
     "metadata": {},
     "output_type": "display_data"
    }
   ],
   "source": [
    "data = [go.Choropleth(\n",
    "    colorscale = 'RdBu',\n",
    "    locations = df['Code'],\n",
    "    z = df['Social Progress Index'].astype(float),\n",
    "    locationmode = 'USA-states',\n",
    "    marker = go.choropleth.Marker(\n",
    "        line = go.choropleth.marker.Line(\n",
    "            color = 'rgb(255,255,255)',\n",
    "            width = 2\n",
    "        )),\n",
    "    colorbar = go.choropleth.ColorBar(\n",
    "        title = \"0-100\")\n",
    ")]\n",
    "\n",
    "layout = go.Layout(\n",
    "    title = go.layout.Title(\n",
    "        text = 'Social Progress Index by State<br>(Hover for breakdown)'\n",
    "    ),\n",
    "    geo = go.layout.Geo(\n",
    "        scope = 'usa',\n",
    "        projection = go.layout.geo.Projection(type = 'albers usa'),\n",
    "        showlakes = False),\n",
    ")\n",
    "\n",
    "fig = go.Figure(data=data, layout=layout)\n",
    "iplot(fig)"
   ]
  },
  {
   "cell_type": "code",
   "execution_count": 58,
   "metadata": {
    "colab": {},
    "colab_type": "code",
    "id": "aB55gf5aD-gQ",
    "outputId": "de0386ab-def2-40f7-bd48-3c16e53b77c7"
   },
   "outputs": [
    {
     "data": {
      "application/vnd.plotly.v1+json": {
       "config": {
        "linkText": "Export to plot.ly",
        "plotlyServerURL": "https://plot.ly",
        "showLink": false
       },
       "data": [
        {
         "colorbar": {
          "title": {
           "text": "0-1"
          }
         },
         "colorscale": "RdBu",
         "locationmode": "USA-states",
         "locations": [
          "HI",
          "UT",
          "MN",
          "ND",
          "CA",
          "ID",
          "MD",
          "IA",
          "SD",
          "NE",
          "WI",
          "CT",
          "NJ",
          "NY",
          "VA",
          "MA",
          "WA",
          "CO",
          "GA",
          "NC",
          "AZ",
          "TX",
          "IL",
          "NH",
          "KS",
          "NV",
          "DE",
          "MT",
          "FL",
          "PA",
          "RI",
          "IN",
          "ME",
          "MI",
          "WY",
          "SC",
          "OH",
          "VT",
          "OR",
          "TN",
          "NM",
          "MO",
          "MS",
          "KY",
          "AL",
          "OK",
          "AK",
          "LA",
          "AR",
          "WV"
         ],
         "marker": {
          "line": {
           "color": "rgb(255,255,255)",
           "width": 2
          }
         },
         "type": "choropleth",
         "uid": "e82f3665-07f6-42de-bea6-6a09458b346b",
         "z": [
          0.558,
          0.5937,
          0.5504,
          0.5467,
          0.5101,
          0.5497000000000001,
          0.5501,
          0.5549,
          0.5505,
          0.5523,
          0.5502,
          0.5055000000000001,
          0.5186999999999999,
          0.47709999999999997,
          0.5295000000000001,
          0.5214,
          0.5408999999999999,
          0.5414,
          0.5186999999999999,
          0.522,
          0.5287,
          0.52,
          0.519,
          0.5696,
          0.5449999999999999,
          0.5423,
          0.5478000000000001,
          0.5333,
          0.5147999999999999,
          0.5311,
          0.5219,
          0.5473,
          0.5481,
          0.5305,
          0.5640000000000001,
          0.5265,
          0.532,
          0.5461,
          0.5417000000000001,
          0.521,
          0.5231,
          0.5354,
          0.5172,
          0.5186999999999999,
          0.5153,
          0.5355,
          0.5919,
          0.501,
          0.5281,
          0.5288999999999999
         ]
        }
       ],
       "layout": {
        "geo": {
         "projection": {
          "type": "albers usa"
         },
         "scope": "usa",
         "showlakes": false
        },
        "title": {
         "text": "GINI Coefficient by State<br>(Hover for breakdown)"
        }
       }
      },
      "text/html": [
       "<div>\n",
       "        \n",
       "        \n",
       "            <div id=\"9df9bcb3-e5f5-45ba-98ff-abc318b3825b\" class=\"plotly-graph-div\" style=\"height:525px; width:100%;\"></div>\n",
       "            <script type=\"text/javascript\">\n",
       "                require([\"plotly\"], function(Plotly) {\n",
       "                    window.PLOTLYENV=window.PLOTLYENV || {};\n",
       "                    window.PLOTLYENV.BASE_URL='https://plot.ly';\n",
       "                    \n",
       "                if (document.getElementById(\"9df9bcb3-e5f5-45ba-98ff-abc318b3825b\")) {\n",
       "                    Plotly.newPlot(\n",
       "                        '9df9bcb3-e5f5-45ba-98ff-abc318b3825b',\n",
       "                        [{\"colorbar\": {\"title\": {\"text\": \"0-1\"}}, \"colorscale\": \"RdBu\", \"locationmode\": \"USA-states\", \"locations\": [\"HI\", \"UT\", \"MN\", \"ND\", \"CA\", \"ID\", \"MD\", \"IA\", \"SD\", \"NE\", \"WI\", \"CT\", \"NJ\", \"NY\", \"VA\", \"MA\", \"WA\", \"CO\", \"GA\", \"NC\", \"AZ\", \"TX\", \"IL\", \"NH\", \"KS\", \"NV\", \"DE\", \"MT\", \"FL\", \"PA\", \"RI\", \"IN\", \"ME\", \"MI\", \"WY\", \"SC\", \"OH\", \"VT\", \"OR\", \"TN\", \"NM\", \"MO\", \"MS\", \"KY\", \"AL\", \"OK\", \"AK\", \"LA\", \"AR\", \"WV\"], \"marker\": {\"line\": {\"color\": \"rgb(255,255,255)\", \"width\": 2}}, \"type\": \"choropleth\", \"uid\": \"e82f3665-07f6-42de-bea6-6a09458b346b\", \"z\": [0.558, 0.5937, 0.5504, 0.5467, 0.5101, 0.5497000000000001, 0.5501, 0.5549, 0.5505, 0.5523, 0.5502, 0.5055000000000001, 0.5186999999999999, 0.47709999999999997, 0.5295000000000001, 0.5214, 0.5408999999999999, 0.5414, 0.5186999999999999, 0.522, 0.5287, 0.52, 0.519, 0.5696, 0.5449999999999999, 0.5423, 0.5478000000000001, 0.5333, 0.5147999999999999, 0.5311, 0.5219, 0.5473, 0.5481, 0.5305, 0.5640000000000001, 0.5265, 0.532, 0.5461, 0.5417000000000001, 0.521, 0.5231, 0.5354, 0.5172, 0.5186999999999999, 0.5153, 0.5355, 0.5919, 0.501, 0.5281, 0.5288999999999999]}],\n",
       "                        {\"geo\": {\"projection\": {\"type\": \"albers usa\"}, \"scope\": \"usa\", \"showlakes\": false}, \"title\": {\"text\": \"GINI Coefficient by State<br>(Hover for breakdown)\"}},\n",
       "                        {\"showLink\": false, \"linkText\": \"Export to plot.ly\", \"plotlyServerURL\": \"https://plot.ly\", \"responsive\": true}\n",
       "                    ).then(function(){\n",
       "                            \n",
       "var gd = document.getElementById('9df9bcb3-e5f5-45ba-98ff-abc318b3825b');\n",
       "var x = new MutationObserver(function (mutations, observer) {{\n",
       "        var display = window.getComputedStyle(gd).display;\n",
       "        if (!display || display === 'none') {{\n",
       "            console.log([gd, 'removed!']);\n",
       "            Plotly.purge(gd);\n",
       "            observer.disconnect();\n",
       "        }}\n",
       "}});\n",
       "\n",
       "// Listen for the removal of the full notebook cells\n",
       "var notebookContainer = gd.closest('#notebook-container');\n",
       "if (notebookContainer) {{\n",
       "    x.observe(notebookContainer, {childList: true});\n",
       "}}\n",
       "\n",
       "// Listen for the clearing of the current output cell\n",
       "var outputEl = gd.closest('.output');\n",
       "if (outputEl) {{\n",
       "    x.observe(outputEl, {childList: true});\n",
       "}}\n",
       "\n",
       "                        })\n",
       "                };\n",
       "                });\n",
       "            </script>\n",
       "        </div>"
      ]
     },
     "metadata": {},
     "output_type": "display_data"
    }
   ],
   "source": [
    "data = [go.Choropleth(\n",
    "    colorscale = 'RdBu',\n",
    "    locations = df['Code'],\n",
    "    z = df['GINI'].astype(float),\n",
    "    locationmode = 'USA-states',\n",
    "    marker = go.choropleth.Marker(\n",
    "        line = go.choropleth.marker.Line(\n",
    "            color = 'rgb(255,255,255)',\n",
    "            width = 2\n",
    "        )),\n",
    "    colorbar = go.choropleth.ColorBar(\n",
    "        title = \"0-1\")\n",
    ")]\n",
    "\n",
    "layout = go.Layout(\n",
    "    title = go.layout.Title(\n",
    "        text = 'GINI Coefficient by State<br>(Hover for breakdown)'\n",
    "    ),\n",
    "    geo = go.layout.Geo(\n",
    "        scope = 'usa',\n",
    "        projection = go.layout.geo.Projection(type = 'albers usa'),\n",
    "        showlakes = False),\n",
    ")\n",
    "\n",
    "fig = go.Figure(data=data, layout=layout)\n",
    "iplot(fig)"
   ]
  },
  {
   "cell_type": "markdown",
   "metadata": {
    "colab_type": "text",
    "id": "4GkAxwAQD-gS"
   },
   "source": [
    "## Linear Regression to determine coefficients for each variable\n",
    "\n",
    "Simple linear regression models were used in order to determine the r^2 value in each category. A summative interpretation will be offered in a later section."
   ]
  },
  {
   "cell_type": "code",
   "execution_count": 59,
   "metadata": {
    "colab": {},
    "colab_type": "code",
    "id": "6TTshFNND-gS",
    "outputId": "22e8f360-936e-4dac-9c2b-51dd8d0e06db",
    "scrolled": true
   },
   "outputs": [
    {
     "name": "stdout",
     "output_type": "stream",
     "text": [
      "0.196\n"
     ]
    },
    {
     "data": {
      "image/png": "[encoded data removed]",
      "text/plain": [
       "<Figure size 432x288 with 1 Axes>"
      ]
     },
     "metadata": {},
     "output_type": "display_data"
    }
   ],
   "source": [
    "plt.scatter(df['GDP 2018'], df['Happy State Index'])\n",
    "plt.title('GDP 2018 vs Happy State Index')\n",
    "plt.ylabel('Happy State Index (0-100)')\n",
    "plt.xlabel('GDP per capita in $1000 (2018)')\n",
    "\n",
    "X = np.array(df['GDP 2018']).reshape((-1, 1))\n",
    "y = df['Happy State Index']\n",
    "\n",
    "model = LinearRegression().fit(X, y)\n",
    "r_sq_gdp = model.score(X, y)\n",
    "print(round(r_sq_gdp, 3))\n",
    "\n",
    "y_pred = model.predict(X)\n",
    "plt.plot(X, y_pred, color='red', linewidth=0.5)\n",
    "\n",
    "plt.show()"
   ]
  },
  {
   "cell_type": "code",
   "execution_count": 60,
   "metadata": {
    "colab": {},
    "colab_type": "code",
    "id": "hQCyBmD3D-gV",
    "outputId": "10d899a2-7d1d-4f8a-c333-9c2a9a74753c",
    "scrolled": true
   },
   "outputs": [
    {
     "name": "stdout",
     "output_type": "stream",
     "text": [
      "0.647\n"
     ]
    },
    {
     "data": {
      "image/png": "[encoded data removed]",
      "text/plain": [
       "<Figure size 432x288 with 1 Axes>"
      ]
     },
     "metadata": {},
     "output_type": "display_data"
    }
   ],
   "source": [
    "plt.scatter(df['Life Expectancy'], df['Happy State Index'])\n",
    "plt.title('Life Expectancy vs Happy State Index')\n",
    "plt.ylabel('Happy State Index (0-100)')\n",
    "plt.xlabel('Life Expectancy (years)')\n",
    "\n",
    "\n",
    "X = np.array(df['Life Expectancy']).reshape((-1, 1))\n",
    "y = df['Happy State Index']\n",
    "\n",
    "model = LinearRegression().fit(X, y)\n",
    "\n",
    "r_sq_le = model.score(X, y)\n",
    "print(round(r_sq_le, 3))\n",
    "\n",
    "y_pred = model.predict(X)\n",
    "plt.plot(X, y_pred, color='red', linewidth=0.5)\n",
    "\n",
    "plt.show()"
   ]
  },
  {
   "cell_type": "code",
   "execution_count": 61,
   "metadata": {
    "colab": {},
    "colab_type": "code",
    "id": "nbgMdZqPD-gX",
    "outputId": "5a1c79d5-508f-4188-f6cd-8f8583ea83bc",
    "scrolled": true
   },
   "outputs": [
    {
     "name": "stdout",
     "output_type": "stream",
     "text": [
      "0.323\n"
     ]
    },
    {
     "data": {
      "image/png": "[encoded data removed]",
      "text/plain": [
       "<Figure size 432x288 with 1 Axes>"
      ]
     },
     "metadata": {},
     "output_type": "display_data"
    }
   ],
   "source": [
    "plt.scatter(df['Employment'], df['Happy State Index'])\n",
    "plt.title('Employment vs Happy State Index')\n",
    "plt.ylabel('Happy State Index (0-100)')\n",
    "plt.xlabel('Employment Rate (%)')\n",
    "\n",
    "X = np.array(df['Employment']).reshape((-1, 1))\n",
    "y = df['Happy State Index']\n",
    "\n",
    "model = LinearRegression().fit(X, y)\n",
    "r_sq_emp = model.score(X, y)\n",
    "print(round(r_sq_emp, 3))\n",
    "\n",
    "y_pred = model.predict(X)\n",
    "plt.plot(X, y_pred, color='red', linewidth=0.5)\n",
    "\n",
    "plt.show()"
   ]
  },
  {
   "cell_type": "code",
   "execution_count": 62,
   "metadata": {
    "colab": {},
    "colab_type": "code",
    "id": "Y9wbJvBWD-ga",
    "outputId": "2a56a9bc-10d5-4819-ffae-048e69ea5beb"
   },
   "outputs": [
    {
     "name": "stdout",
     "output_type": "stream",
     "text": [
      "0.468\n"
     ]
    },
    {
     "data": {
      "image/png": "[encoded data removed]",
      "text/plain": [
       "<Figure size 432x288 with 1 Axes>"
      ]
     },
     "metadata": {},
     "output_type": "display_data"
    }
   ],
   "source": [
    "plt.scatter(df['Social Progress Index'], df['Happy State Index'])\n",
    "plt.title('Social Progress Index vs Happy State Index')\n",
    "plt.ylabel('Happy State Index (0-100)')\n",
    "plt.xlabel('Social Progress Index (0-100)')\n",
    "\n",
    "X = np.array(df['Social Progress Index']).reshape((-1, 1))\n",
    "y = df['Happy State Index']\n",
    "\n",
    "model = LinearRegression().fit(X, y)\n",
    "r_sq_soc = model.score(X, y)\n",
    "print(round(r_sq_soc, 3))\n",
    "\n",
    "y_pred = model.predict(X)\n",
    "plt.plot(X, y_pred, color='red', linewidth=0.5)\n",
    "\n",
    "plt.show()"
   ]
  },
  {
   "cell_type": "code",
   "execution_count": 63,
   "metadata": {
    "colab": {},
    "colab_type": "code",
    "id": "FuORPXfoD-gc",
    "outputId": "820c36ad-8d76-44e5-c95e-84a613d960e6"
   },
   "outputs": [
    {
     "name": "stdout",
     "output_type": "stream",
     "text": [
      "0.062\n"
     ]
    },
    {
     "data": {
      "image/png": "[encoded data removed]",
      "text/plain": [
       "<Figure size 432x288 with 1 Axes>"
      ]
     },
     "metadata": {},
     "output_type": "display_data"
    }
   ],
   "source": [
    "plt.scatter(df['GINI'], df['Happy State Index'])\n",
    "plt.title('Gini Coefficient vs Happy State Index')\n",
    "plt.ylabel('Happy State Index (0-100)')\n",
    "plt.xlabel('Gini Coefficient (0-1)')\n",
    "\n",
    "X = np.array(df['GINI']).reshape((-1, 1))\n",
    "y = df['Happy State Index']\n",
    "\n",
    "model = LinearRegression().fit(X, y)\n",
    "r_sq_gini = model.score(X, y)\n",
    "print(round(r_sq_gini, 3))\n",
    "\n",
    "y_pred = model.predict(X)\n",
    "plt.plot(X, y_pred, color='red', linewidth=1.5)\n",
    "\n",
    "plt.show()"
   ]
  },
  {
   "cell_type": "code",
   "execution_count": 64,
   "metadata": {
    "colab": {},
    "colab_type": "code",
    "id": "zmMkrsswD-gd"
   },
   "outputs": [],
   "source": [
    "coef = [r_sq_gdp, r_sq_le, r_sq_emp, r_sq_soc, r_sq_gini]"
   ]
  },
  {
   "cell_type": "markdown",
   "metadata": {},
   "source": [
    "The most strongly correlated category was Life Expectancy, which makes sense intuitively, since it is often considered conventional wisdom that a happy life is a long life."
   ]
  },
  {
   "cell_type": "code",
   "execution_count": 65,
   "metadata": {
    "colab": {},
    "colab_type": "code",
    "id": "vJCEM-VuD-ge",
    "outputId": "6b563747-3acd-468a-bb31-7385fec07523"
   },
   "outputs": [
    {
     "data": {
      "text/plain": [
       "[0.19592026304861865,\n",
       " 0.6467985519986392,\n",
       " 0.3234383621873219,\n",
       " 0.46798557295804843,\n",
       " 0.06167995494622214]"
      ]
     },
     "execution_count": 65,
     "metadata": {},
     "output_type": "execute_result"
    }
   ],
   "source": [
    "coef"
   ]
  },
  {
   "cell_type": "markdown",
   "metadata": {},
   "source": [
    "The coefficients were normalized."
   ]
  },
  {
   "cell_type": "code",
   "execution_count": 66,
   "metadata": {
    "colab": {},
    "colab_type": "code",
    "id": "yjjgt1wxD-gf"
   },
   "outputs": [],
   "source": [
    "norm = [x / sum(coef) for x in coef]"
   ]
  },
  {
   "cell_type": "code",
   "execution_count": 67,
   "metadata": {
    "colab": {},
    "colab_type": "code",
    "id": "1FBWlpqFD-gg",
    "outputId": "108865c6-07e1-4ac7-d505-1c0f7550aec5"
   },
   "outputs": [
    {
     "data": {
      "text/plain": [
       "[0.11553110030601761,\n",
       " 0.38140694191594793,\n",
       " 0.19072651946881408,\n",
       " 0.2759637381548862,\n",
       " 0.036371700154334184]"
      ]
     },
     "execution_count": 67,
     "metadata": {},
     "output_type": "execute_result"
    }
   ],
   "source": [
    "norm"
   ]
  },
  {
   "cell_type": "markdown",
   "metadata": {},
   "source": [
    "A vertical barplot was used to look at the r^2 values of each parameter. Life expectancy was the most correlated, followed by social progress, then employment, GDP and GINI."
   ]
  },
  {
   "cell_type": "code",
   "execution_count": 68,
   "metadata": {
    "colab": {},
    "colab_type": "code",
    "id": "_LfCLdn4D-gk",
    "outputId": "8d72c876-c1f1-4952-a323-2bd7ac4d6e32"
   },
   "outputs": [
    {
     "data": {
      "image/png": "[encoded data removed]",
      "text/plain": [
       "<Figure size 720x360 with 1 Axes>"
      ]
     },
     "metadata": {},
     "output_type": "display_data"
    }
   ],
   "source": [
    "labels =['GDP 2018', 'Life Expectancy', 'Employment', 'Social Progress', 'Gini']\n",
    "plt.figure(figsize=(10, 5))\n",
    "plt.bar(x=labels, height=norm, width=0.8)\n",
    "plt.title('Weights of each Category')\n",
    "plt.xticks(labels, labels, rotation=30)\n",
    "\n",
    "plt.show()"
   ]
  },
  {
   "cell_type": "markdown",
   "metadata": {},
   "source": [
    "Below we see a correlation matrix, we can see that life expectancy correlates the most with HSI (the reasons were explained above)."
   ]
  },
  {
   "cell_type": "code",
   "execution_count": 69,
   "metadata": {
    "colab": {},
    "colab_type": "code",
    "id": "GaZqmHb2D-gm",
    "outputId": "43e0bfb4-55fc-439e-ace1-96d32079f607"
   },
   "outputs": [
    {
     "data": {
      "text/html": [
       "<div>\n",
       "<style scoped>\n",
       "    .dataframe tbody tr th:only-of-type {\n",
       "        vertical-align: middle;\n",
       "    }\n",
       "\n",
       "    .dataframe tbody tr th {\n",
       "        vertical-align: top;\n",
       "    }\n",
       "\n",
       "    .dataframe thead th {\n",
       "        text-align: right;\n",
       "    }\n",
       "</style>\n",
       "<table border=\"1\" class=\"dataframe\">\n",
       "  <thead>\n",
       "    <tr style=\"text-align: right;\">\n",
       "      <th></th>\n",
       "      <th>Happy State Index</th>\n",
       "      <th>GDP 2018</th>\n",
       "      <th>Life Expectancy</th>\n",
       "      <th>Employment</th>\n",
       "      <th>Social Progress Index</th>\n",
       "      <th>GINI</th>\n",
       "    </tr>\n",
       "  </thead>\n",
       "  <tbody>\n",
       "    <tr>\n",
       "      <th>Happy State Index</th>\n",
       "      <td>1.000000</td>\n",
       "      <td>0.442629</td>\n",
       "      <td>0.804238</td>\n",
       "      <td>0.568716</td>\n",
       "      <td>0.684095</td>\n",
       "      <td>0.248354</td>\n",
       "    </tr>\n",
       "    <tr>\n",
       "      <th>GDP 2018</th>\n",
       "      <td>0.442629</td>\n",
       "      <td>1.000000</td>\n",
       "      <td>0.569999</td>\n",
       "      <td>0.017127</td>\n",
       "      <td>0.596209</td>\n",
       "      <td>0.105938</td>\n",
       "    </tr>\n",
       "    <tr>\n",
       "      <th>Life Expectancy</th>\n",
       "      <td>0.804238</td>\n",
       "      <td>0.569999</td>\n",
       "      <td>1.000000</td>\n",
       "      <td>0.402746</td>\n",
       "      <td>0.861436</td>\n",
       "      <td>0.249386</td>\n",
       "    </tr>\n",
       "    <tr>\n",
       "      <th>Employment</th>\n",
       "      <td>0.568716</td>\n",
       "      <td>0.017127</td>\n",
       "      <td>0.402746</td>\n",
       "      <td>1.000000</td>\n",
       "      <td>0.465914</td>\n",
       "      <td>0.247928</td>\n",
       "    </tr>\n",
       "    <tr>\n",
       "      <th>Social Progress Index</th>\n",
       "      <td>0.684095</td>\n",
       "      <td>0.596209</td>\n",
       "      <td>0.861436</td>\n",
       "      <td>0.465914</td>\n",
       "      <td>1.000000</td>\n",
       "      <td>0.261912</td>\n",
       "    </tr>\n",
       "    <tr>\n",
       "      <th>GINI</th>\n",
       "      <td>0.248354</td>\n",
       "      <td>0.105938</td>\n",
       "      <td>0.249386</td>\n",
       "      <td>0.247928</td>\n",
       "      <td>0.261912</td>\n",
       "      <td>1.000000</td>\n",
       "    </tr>\n",
       "  </tbody>\n",
       "</table>\n",
       "</div>"
      ],
      "text/plain": [
       "                       Happy State Index  GDP 2018  Life Expectancy  \\\n",
       "Happy State Index               1.000000  0.442629         0.804238   \n",
       "GDP 2018                        0.442629  1.000000         0.569999   \n",
       "Life Expectancy                 0.804238  0.569999         1.000000   \n",
       "Employment                      0.568716  0.017127         0.402746   \n",
       "Social Progress Index           0.684095  0.596209         0.861436   \n",
       "GINI                            0.248354  0.105938         0.249386   \n",
       "\n",
       "                       Employment  Social Progress Index      GINI  \n",
       "Happy State Index        0.568716               0.684095  0.248354  \n",
       "GDP 2018                 0.017127               0.596209  0.105938  \n",
       "Life Expectancy          0.402746               0.861436  0.249386  \n",
       "Employment               1.000000               0.465914  0.247928  \n",
       "Social Progress Index    0.465914               1.000000  0.261912  \n",
       "GINI                     0.247928               0.261912  1.000000  "
      ]
     },
     "execution_count": 69,
     "metadata": {},
     "output_type": "execute_result"
    }
   ],
   "source": [
    "df.corr()"
   ]
  },
  {
   "cell_type": "code",
   "execution_count": 70,
   "metadata": {
    "colab": {},
    "colab_type": "code",
    "id": "bvT5qOKgD-go",
    "outputId": "e671e67f-14a1-469f-88cd-641f79d07f00"
   },
   "outputs": [
    {
     "data": {
      "text/html": [
       "<div>\n",
       "<style scoped>\n",
       "    .dataframe tbody tr th:only-of-type {\n",
       "        vertical-align: middle;\n",
       "    }\n",
       "\n",
       "    .dataframe tbody tr th {\n",
       "        vertical-align: top;\n",
       "    }\n",
       "\n",
       "    .dataframe thead th {\n",
       "        text-align: right;\n",
       "    }\n",
       "</style>\n",
       "<table border=\"1\" class=\"dataframe\">\n",
       "  <thead>\n",
       "    <tr style=\"text-align: right;\">\n",
       "      <th></th>\n",
       "      <th>State</th>\n",
       "      <th>Code</th>\n",
       "      <th>Happy State Index</th>\n",
       "      <th>GDP 2018</th>\n",
       "      <th>Life Expectancy</th>\n",
       "      <th>Employment</th>\n",
       "      <th>Social Progress Index</th>\n",
       "      <th>GINI</th>\n",
       "    </tr>\n",
       "  </thead>\n",
       "  <tbody>\n",
       "    <tr>\n",
       "      <th>0</th>\n",
       "      <td>Hawaii</td>\n",
       "      <td>HI</td>\n",
       "      <td>68.27</td>\n",
       "      <td>51.28</td>\n",
       "      <td>81.3</td>\n",
       "      <td>97.6</td>\n",
       "      <td>49.82</td>\n",
       "      <td>0.5580</td>\n",
       "    </tr>\n",
       "    <tr>\n",
       "      <th>1</th>\n",
       "      <td>Utah</td>\n",
       "      <td>UT</td>\n",
       "      <td>67.84</td>\n",
       "      <td>44.64</td>\n",
       "      <td>80.2</td>\n",
       "      <td>96.9</td>\n",
       "      <td>50.58</td>\n",
       "      <td>0.5937</td>\n",
       "    </tr>\n",
       "    <tr>\n",
       "      <th>2</th>\n",
       "      <td>Minnesota</td>\n",
       "      <td>MN</td>\n",
       "      <td>67.26</td>\n",
       "      <td>53.70</td>\n",
       "      <td>81.1</td>\n",
       "      <td>97.1</td>\n",
       "      <td>62.30</td>\n",
       "      <td>0.5504</td>\n",
       "    </tr>\n",
       "    <tr>\n",
       "      <th>3</th>\n",
       "      <td>North Dakota</td>\n",
       "      <td>ND</td>\n",
       "      <td>65.62</td>\n",
       "      <td>62.84</td>\n",
       "      <td>79.5</td>\n",
       "      <td>97.4</td>\n",
       "      <td>53.14</td>\n",
       "      <td>0.5467</td>\n",
       "    </tr>\n",
       "    <tr>\n",
       "      <th>4</th>\n",
       "      <td>California</td>\n",
       "      <td>CA</td>\n",
       "      <td>63.14</td>\n",
       "      <td>53.99</td>\n",
       "      <td>80.8</td>\n",
       "      <td>95.8</td>\n",
       "      <td>45.53</td>\n",
       "      <td>0.5101</td>\n",
       "    </tr>\n",
       "  </tbody>\n",
       "</table>\n",
       "</div>"
      ],
      "text/plain": [
       "          State Code  Happy State Index  GDP 2018  Life Expectancy  \\\n",
       "0        Hawaii   HI              68.27     51.28             81.3   \n",
       "1          Utah   UT              67.84     44.64             80.2   \n",
       "2     Minnesota   MN              67.26     53.70             81.1   \n",
       "3  North Dakota   ND              65.62     62.84             79.5   \n",
       "4    California   CA              63.14     53.99             80.8   \n",
       "\n",
       "   Employment  Social Progress Index    GINI  \n",
       "0        97.6                  49.82  0.5580  \n",
       "1        96.9                  50.58  0.5937  \n",
       "2        97.1                  62.30  0.5504  \n",
       "3        97.4                  53.14  0.5467  \n",
       "4        95.8                  45.53  0.5101  "
      ]
     },
     "execution_count": 70,
     "metadata": {},
     "output_type": "execute_result"
    }
   ],
   "source": [
    "df.head()"
   ]
  },
  {
   "cell_type": "markdown",
   "metadata": {},
   "source": [
    "Each parameter was normalize onto a scale 0-100 in order for the final index to be scaled appropriately."
   ]
  },
  {
   "cell_type": "code",
   "execution_count": 71,
   "metadata": {
    "colab": {},
    "colab_type": "code",
    "id": "OYWkLzrLD-gs"
   },
   "outputs": [],
   "source": [
    "for param in df.columns[3:8]:\n",
    "    col_name = param + ' Norm' # add \"Norm\" for normalized\n",
    "    df[col_name] = ( df[param] - min(df[param]) ) / ( max(df[param]) - min(df[param]) ) * 100\n",
    "    "
   ]
  },
  {
   "cell_type": "code",
   "execution_count": 72,
   "metadata": {
    "colab": {},
    "colab_type": "code",
    "id": "SCCPA7PND-gu",
    "outputId": "55124375-2b77-43e0-a8ea-6beb2d8070c3"
   },
   "outputs": [
    {
     "data": {
      "text/html": [
       "<div>\n",
       "<style scoped>\n",
       "    .dataframe tbody tr th:only-of-type {\n",
       "        vertical-align: middle;\n",
       "    }\n",
       "\n",
       "    .dataframe tbody tr th {\n",
       "        vertical-align: top;\n",
       "    }\n",
       "\n",
       "    .dataframe thead th {\n",
       "        text-align: right;\n",
       "    }\n",
       "</style>\n",
       "<table border=\"1\" class=\"dataframe\">\n",
       "  <thead>\n",
       "    <tr style=\"text-align: right;\">\n",
       "      <th></th>\n",
       "      <th>State</th>\n",
       "      <th>Code</th>\n",
       "      <th>Happy State Index</th>\n",
       "      <th>GDP 2018</th>\n",
       "      <th>Life Expectancy</th>\n",
       "      <th>Employment</th>\n",
       "      <th>Social Progress Index</th>\n",
       "      <th>GINI</th>\n",
       "      <th>GDP 2018 Norm</th>\n",
       "      <th>Life Expectancy Norm</th>\n",
       "      <th>Employment Norm</th>\n",
       "      <th>Social Progress Index Norm</th>\n",
       "      <th>GINI Norm</th>\n",
       "    </tr>\n",
       "  </thead>\n",
       "  <tbody>\n",
       "    <tr>\n",
       "      <th>0</th>\n",
       "      <td>Hawaii</td>\n",
       "      <td>HI</td>\n",
       "      <td>68.27</td>\n",
       "      <td>51.28</td>\n",
       "      <td>81.3</td>\n",
       "      <td>97.6</td>\n",
       "      <td>49.82</td>\n",
       "      <td>0.5580</td>\n",
       "      <td>57.618058</td>\n",
       "      <td>100.000000</td>\n",
       "      <td>100.000000</td>\n",
       "      <td>60.148778</td>\n",
       "      <td>69.382504</td>\n",
       "    </tr>\n",
       "    <tr>\n",
       "      <th>1</th>\n",
       "      <td>Utah</td>\n",
       "      <td>UT</td>\n",
       "      <td>67.84</td>\n",
       "      <td>44.64</td>\n",
       "      <td>80.2</td>\n",
       "      <td>96.9</td>\n",
       "      <td>50.58</td>\n",
       "      <td>0.5937</td>\n",
       "      <td>37.897238</td>\n",
       "      <td>82.539683</td>\n",
       "      <td>83.333333</td>\n",
       "      <td>62.167906</td>\n",
       "      <td>100.000000</td>\n",
       "    </tr>\n",
       "    <tr>\n",
       "      <th>2</th>\n",
       "      <td>Minnesota</td>\n",
       "      <td>MN</td>\n",
       "      <td>67.26</td>\n",
       "      <td>53.70</td>\n",
       "      <td>81.1</td>\n",
       "      <td>97.1</td>\n",
       "      <td>62.30</td>\n",
       "      <td>0.5504</td>\n",
       "      <td>64.805465</td>\n",
       "      <td>96.825397</td>\n",
       "      <td>88.095238</td>\n",
       "      <td>93.304995</td>\n",
       "      <td>62.864494</td>\n",
       "    </tr>\n",
       "    <tr>\n",
       "      <th>3</th>\n",
       "      <td>North Dakota</td>\n",
       "      <td>ND</td>\n",
       "      <td>65.62</td>\n",
       "      <td>62.84</td>\n",
       "      <td>79.5</td>\n",
       "      <td>97.4</td>\n",
       "      <td>53.14</td>\n",
       "      <td>0.5467</td>\n",
       "      <td>91.951292</td>\n",
       "      <td>71.428571</td>\n",
       "      <td>95.238095</td>\n",
       "      <td>68.969182</td>\n",
       "      <td>59.691252</td>\n",
       "    </tr>\n",
       "    <tr>\n",
       "      <th>4</th>\n",
       "      <td>California</td>\n",
       "      <td>CA</td>\n",
       "      <td>63.14</td>\n",
       "      <td>53.99</td>\n",
       "      <td>80.8</td>\n",
       "      <td>95.8</td>\n",
       "      <td>45.53</td>\n",
       "      <td>0.5101</td>\n",
       "      <td>65.666766</td>\n",
       "      <td>92.063492</td>\n",
       "      <td>57.142857</td>\n",
       "      <td>48.751328</td>\n",
       "      <td>28.301887</td>\n",
       "    </tr>\n",
       "  </tbody>\n",
       "</table>\n",
       "</div>"
      ],
      "text/plain": [
       "          State Code  Happy State Index  GDP 2018  Life Expectancy  \\\n",
       "0        Hawaii   HI              68.27     51.28             81.3   \n",
       "1          Utah   UT              67.84     44.64             80.2   \n",
       "2     Minnesota   MN              67.26     53.70             81.1   \n",
       "3  North Dakota   ND              65.62     62.84             79.5   \n",
       "4    California   CA              63.14     53.99             80.8   \n",
       "\n",
       "   Employment  Social Progress Index    GINI  GDP 2018 Norm  \\\n",
       "0        97.6                  49.82  0.5580      57.618058   \n",
       "1        96.9                  50.58  0.5937      37.897238   \n",
       "2        97.1                  62.30  0.5504      64.805465   \n",
       "3        97.4                  53.14  0.5467      91.951292   \n",
       "4        95.8                  45.53  0.5101      65.666766   \n",
       "\n",
       "   Life Expectancy Norm  Employment Norm  Social Progress Index Norm  \\\n",
       "0            100.000000       100.000000                   60.148778   \n",
       "1             82.539683        83.333333                   62.167906   \n",
       "2             96.825397        88.095238                   93.304995   \n",
       "3             71.428571        95.238095                   68.969182   \n",
       "4             92.063492        57.142857                   48.751328   \n",
       "\n",
       "    GINI Norm  \n",
       "0   69.382504  \n",
       "1  100.000000  \n",
       "2   62.864494  \n",
       "3   59.691252  \n",
       "4   28.301887  "
      ]
     },
     "execution_count": 72,
     "metadata": {},
     "output_type": "execute_result"
    }
   ],
   "source": [
    "df.head()"
   ]
  },
  {
   "cell_type": "markdown",
   "metadata": {},
   "source": [
    "### Our_Index = A * GDP + B * Life_Expectancy + C * Employment + D * Social_Progress + E * Gini_Coefficient"
   ]
  },
  {
   "cell_type": "code",
   "execution_count": 73,
   "metadata": {
    "colab": {},
    "colab_type": "code",
    "id": "mSfMtLV7D-gy"
   },
   "outputs": [],
   "source": [
    "df['Our Index'] = df['GDP 2018 Norm'] * norm[0] + df['Life Expectancy Norm'] * norm[1] + df['Employment Norm'] * norm[2] + \\\n",
    "              df['Social Progress Index Norm'] * norm[3] + df['GINI Norm'] * norm[4]"
   ]
  },
  {
   "cell_type": "code",
   "execution_count": 74,
   "metadata": {
    "colab": {},
    "colab_type": "code",
    "id": "qb0uHt4cD-gz",
    "outputId": "f408091b-d9b9-40ac-9464-03663110a2df"
   },
   "outputs": [
    {
     "data": {
      "text/html": [
       "<div>\n",
       "<style scoped>\n",
       "    .dataframe tbody tr th:only-of-type {\n",
       "        vertical-align: middle;\n",
       "    }\n",
       "\n",
       "    .dataframe tbody tr th {\n",
       "        vertical-align: top;\n",
       "    }\n",
       "\n",
       "    .dataframe thead th {\n",
       "        text-align: right;\n",
       "    }\n",
       "</style>\n",
       "<table border=\"1\" class=\"dataframe\">\n",
       "  <thead>\n",
       "    <tr style=\"text-align: right;\">\n",
       "      <th></th>\n",
       "      <th>State</th>\n",
       "      <th>Code</th>\n",
       "      <th>Happy State Index</th>\n",
       "      <th>GDP 2018</th>\n",
       "      <th>Life Expectancy</th>\n",
       "      <th>Employment</th>\n",
       "      <th>Social Progress Index</th>\n",
       "      <th>GINI</th>\n",
       "      <th>GDP 2018 Norm</th>\n",
       "      <th>Life Expectancy Norm</th>\n",
       "      <th>Employment Norm</th>\n",
       "      <th>Social Progress Index Norm</th>\n",
       "      <th>GINI Norm</th>\n",
       "      <th>Our Index</th>\n",
       "    </tr>\n",
       "  </thead>\n",
       "  <tbody>\n",
       "    <tr>\n",
       "      <th>0</th>\n",
       "      <td>Hawaii</td>\n",
       "      <td>HI</td>\n",
       "      <td>68.27</td>\n",
       "      <td>51.28</td>\n",
       "      <td>81.3</td>\n",
       "      <td>97.6</td>\n",
       "      <td>49.82</td>\n",
       "      <td>0.5580</td>\n",
       "      <td>57.618058</td>\n",
       "      <td>100.000000</td>\n",
       "      <td>100.000000</td>\n",
       "      <td>60.148778</td>\n",
       "      <td>69.382504</td>\n",
       "      <td>82.992465</td>\n",
       "    </tr>\n",
       "    <tr>\n",
       "      <th>1</th>\n",
       "      <td>Utah</td>\n",
       "      <td>UT</td>\n",
       "      <td>67.84</td>\n",
       "      <td>44.64</td>\n",
       "      <td>80.2</td>\n",
       "      <td>96.9</td>\n",
       "      <td>50.58</td>\n",
       "      <td>0.5937</td>\n",
       "      <td>37.897238</td>\n",
       "      <td>82.539683</td>\n",
       "      <td>83.333333</td>\n",
       "      <td>62.167906</td>\n",
       "      <td>100.000000</td>\n",
       "      <td>72.546652</td>\n",
       "    </tr>\n",
       "    <tr>\n",
       "      <th>2</th>\n",
       "      <td>Minnesota</td>\n",
       "      <td>MN</td>\n",
       "      <td>67.26</td>\n",
       "      <td>53.70</td>\n",
       "      <td>81.1</td>\n",
       "      <td>97.1</td>\n",
       "      <td>62.30</td>\n",
       "      <td>0.5504</td>\n",
       "      <td>64.805465</td>\n",
       "      <td>96.825397</td>\n",
       "      <td>88.095238</td>\n",
       "      <td>93.304995</td>\n",
       "      <td>62.864494</td>\n",
       "      <td>89.254307</td>\n",
       "    </tr>\n",
       "    <tr>\n",
       "      <th>3</th>\n",
       "      <td>North Dakota</td>\n",
       "      <td>ND</td>\n",
       "      <td>65.62</td>\n",
       "      <td>62.84</td>\n",
       "      <td>79.5</td>\n",
       "      <td>97.4</td>\n",
       "      <td>53.14</td>\n",
       "      <td>0.5467</td>\n",
       "      <td>91.951292</td>\n",
       "      <td>71.428571</td>\n",
       "      <td>95.238095</td>\n",
       "      <td>68.969182</td>\n",
       "      <td>59.691252</td>\n",
       "      <td>77.235083</td>\n",
       "    </tr>\n",
       "    <tr>\n",
       "      <th>4</th>\n",
       "      <td>California</td>\n",
       "      <td>CA</td>\n",
       "      <td>63.14</td>\n",
       "      <td>53.99</td>\n",
       "      <td>80.8</td>\n",
       "      <td>95.8</td>\n",
       "      <td>45.53</td>\n",
       "      <td>0.5101</td>\n",
       "      <td>65.666766</td>\n",
       "      <td>92.063492</td>\n",
       "      <td>57.142857</td>\n",
       "      <td>48.751328</td>\n",
       "      <td>28.301887</td>\n",
       "      <td>68.081853</td>\n",
       "    </tr>\n",
       "  </tbody>\n",
       "</table>\n",
       "</div>"
      ],
      "text/plain": [
       "          State Code  Happy State Index  GDP 2018  Life Expectancy  \\\n",
       "0        Hawaii   HI              68.27     51.28             81.3   \n",
       "1          Utah   UT              67.84     44.64             80.2   \n",
       "2     Minnesota   MN              67.26     53.70             81.1   \n",
       "3  North Dakota   ND              65.62     62.84             79.5   \n",
       "4    California   CA              63.14     53.99             80.8   \n",
       "\n",
       "   Employment  Social Progress Index    GINI  GDP 2018 Norm  \\\n",
       "0        97.6                  49.82  0.5580      57.618058   \n",
       "1        96.9                  50.58  0.5937      37.897238   \n",
       "2        97.1                  62.30  0.5504      64.805465   \n",
       "3        97.4                  53.14  0.5467      91.951292   \n",
       "4        95.8                  45.53  0.5101      65.666766   \n",
       "\n",
       "   Life Expectancy Norm  Employment Norm  Social Progress Index Norm  \\\n",
       "0            100.000000       100.000000                   60.148778   \n",
       "1             82.539683        83.333333                   62.167906   \n",
       "2             96.825397        88.095238                   93.304995   \n",
       "3             71.428571        95.238095                   68.969182   \n",
       "4             92.063492        57.142857                   48.751328   \n",
       "\n",
       "    GINI Norm  Our Index  \n",
       "0   69.382504  82.992465  \n",
       "1  100.000000  72.546652  \n",
       "2   62.864494  89.254307  \n",
       "3   59.691252  77.235083  \n",
       "4   28.301887  68.081853  "
      ]
     },
     "execution_count": 74,
     "metadata": {},
     "output_type": "execute_result"
    }
   ],
   "source": [
    "df.head()"
   ]
  },
  {
   "cell_type": "code",
   "execution_count": 75,
   "metadata": {
    "colab": {},
    "colab_type": "code",
    "id": "UqvUSzydD-g1",
    "outputId": "03daee01-8127-4696-abb2-51d18b20f20e"
   },
   "outputs": [
    {
     "name": "stdout",
     "output_type": "stream",
     "text": [
      "0.654\n"
     ]
    },
    {
     "data": {
      "image/png": "[encoded data removed]",
      "text/plain": [
       "<Figure size 432x288 with 1 Axes>"
      ]
     },
     "metadata": {},
     "output_type": "display_data"
    }
   ],
   "source": [
    "plt.scatter(df['Our Index'], df['Happy State Index'])\n",
    "plt.title('Our Index vs Happy State Index')\n",
    "plt.ylabel('Happy State Index (0-100)')\n",
    "plt.xlabel('Our Index (0-100)')\n",
    "\n",
    "X = np.array(df['Our Index']).reshape((-1, 1))\n",
    "y = df['Happy State Index']\n",
    "\n",
    "model = LinearRegression().fit(X, y)\n",
    "r_sq_gini = model.score(X, y)\n",
    "print(round(r_sq_gini, 3))\n",
    "\n",
    "y_pred = model.predict(X)\n",
    "plt.plot(X, y_pred, color='red', linewidth=1.5)\n",
    "\n",
    "plt.show()"
   ]
  },
  {
   "cell_type": "markdown",
   "metadata": {},
   "source": [
    "The result is r^2, this represents the correlation between Our Index and the Happy State Index which was used as a benchmark. 0.65 can be called \"moderately correlated\", although < 0.75."
   ]
  },
  {
   "cell_type": "code",
   "execution_count": 76,
   "metadata": {
    "colab": {},
    "colab_type": "code",
    "id": "yQBrbcQeD-g6",
    "outputId": "8b50acbc-2e58-44bc-8650-bc495909ab67"
   },
   "outputs": [
    {
     "name": "stdout",
     "output_type": "stream",
     "text": [
      "0.654\n"
     ]
    },
    {
     "data": {
      "image/png": "[encoded data removed]",
      "text/plain": [
       "<Figure size 432x288 with 1 Axes>"
      ]
     },
     "metadata": {},
     "output_type": "display_data"
    }
   ],
   "source": [
    "plt.scatter(df['Our Index'], df['Happy State Index'])\n",
    "plt.title('Our Index vs Happy State Index')\n",
    "plt.ylabel('Happy State Index (0-100)')\n",
    "plt.xlabel('Uniform Index (0-100)')\n",
    "\n",
    "X = np.array(df['Our Index']).reshape((-1, 1))\n",
    "y = df['Happy State Index']\n",
    "\n",
    "model = LinearRegression().fit(X, y)\n",
    "r_sq_gini = model.score(X, y)\n",
    "print(round(r_sq_gini, 3))\n",
    "\n",
    "y_pred = model.predict(X)\n",
    "plt.plot(X, y_pred, color='red', linewidth=1.5)\n",
    "\n",
    "plt.show()"
   ]
  },
  {
   "cell_type": "markdown",
   "metadata": {},
   "source": [
    "Columns had to be renamed without whitespaces for OLS model fitting."
   ]
  },
  {
   "cell_type": "code",
   "execution_count": 77,
   "metadata": {
    "colab": {},
    "colab_type": "code",
    "id": "BS1_zDWXD-g8"
   },
   "outputs": [],
   "source": [
    "df = df.rename(columns={'Happy State Index': 'HSI', 'Our Index': 'OI'})"
   ]
  },
  {
   "cell_type": "code",
   "execution_count": 78,
   "metadata": {
    "colab": {},
    "colab_type": "code",
    "id": "Eq-E4ssiD-g9",
    "outputId": "3d39164e-8f79-41bb-8596-a413ca056164"
   },
   "outputs": [
    {
     "data": {
      "text/html": [
       "<div>\n",
       "<style scoped>\n",
       "    .dataframe tbody tr th:only-of-type {\n",
       "        vertical-align: middle;\n",
       "    }\n",
       "\n",
       "    .dataframe tbody tr th {\n",
       "        vertical-align: top;\n",
       "    }\n",
       "\n",
       "    .dataframe thead th {\n",
       "        text-align: right;\n",
       "    }\n",
       "</style>\n",
       "<table border=\"1\" class=\"dataframe\">\n",
       "  <thead>\n",
       "    <tr style=\"text-align: right;\">\n",
       "      <th></th>\n",
       "      <th>State</th>\n",
       "      <th>Code</th>\n",
       "      <th>HSI</th>\n",
       "      <th>GDP 2018</th>\n",
       "      <th>Life Expectancy</th>\n",
       "      <th>Employment</th>\n",
       "      <th>Social Progress Index</th>\n",
       "      <th>GINI</th>\n",
       "      <th>GDP 2018 Norm</th>\n",
       "      <th>Life Expectancy Norm</th>\n",
       "      <th>Employment Norm</th>\n",
       "      <th>Social Progress Index Norm</th>\n",
       "      <th>GINI Norm</th>\n",
       "      <th>OI</th>\n",
       "    </tr>\n",
       "  </thead>\n",
       "  <tbody>\n",
       "    <tr>\n",
       "      <th>0</th>\n",
       "      <td>Hawaii</td>\n",
       "      <td>HI</td>\n",
       "      <td>68.27</td>\n",
       "      <td>51.28</td>\n",
       "      <td>81.3</td>\n",
       "      <td>97.6</td>\n",
       "      <td>49.82</td>\n",
       "      <td>0.5580</td>\n",
       "      <td>57.618058</td>\n",
       "      <td>100.000000</td>\n",
       "      <td>100.000000</td>\n",
       "      <td>60.148778</td>\n",
       "      <td>69.382504</td>\n",
       "      <td>82.992465</td>\n",
       "    </tr>\n",
       "    <tr>\n",
       "      <th>1</th>\n",
       "      <td>Utah</td>\n",
       "      <td>UT</td>\n",
       "      <td>67.84</td>\n",
       "      <td>44.64</td>\n",
       "      <td>80.2</td>\n",
       "      <td>96.9</td>\n",
       "      <td>50.58</td>\n",
       "      <td>0.5937</td>\n",
       "      <td>37.897238</td>\n",
       "      <td>82.539683</td>\n",
       "      <td>83.333333</td>\n",
       "      <td>62.167906</td>\n",
       "      <td>100.000000</td>\n",
       "      <td>72.546652</td>\n",
       "    </tr>\n",
       "    <tr>\n",
       "      <th>2</th>\n",
       "      <td>Minnesota</td>\n",
       "      <td>MN</td>\n",
       "      <td>67.26</td>\n",
       "      <td>53.70</td>\n",
       "      <td>81.1</td>\n",
       "      <td>97.1</td>\n",
       "      <td>62.30</td>\n",
       "      <td>0.5504</td>\n",
       "      <td>64.805465</td>\n",
       "      <td>96.825397</td>\n",
       "      <td>88.095238</td>\n",
       "      <td>93.304995</td>\n",
       "      <td>62.864494</td>\n",
       "      <td>89.254307</td>\n",
       "    </tr>\n",
       "    <tr>\n",
       "      <th>3</th>\n",
       "      <td>North Dakota</td>\n",
       "      <td>ND</td>\n",
       "      <td>65.62</td>\n",
       "      <td>62.84</td>\n",
       "      <td>79.5</td>\n",
       "      <td>97.4</td>\n",
       "      <td>53.14</td>\n",
       "      <td>0.5467</td>\n",
       "      <td>91.951292</td>\n",
       "      <td>71.428571</td>\n",
       "      <td>95.238095</td>\n",
       "      <td>68.969182</td>\n",
       "      <td>59.691252</td>\n",
       "      <td>77.235083</td>\n",
       "    </tr>\n",
       "    <tr>\n",
       "      <th>4</th>\n",
       "      <td>California</td>\n",
       "      <td>CA</td>\n",
       "      <td>63.14</td>\n",
       "      <td>53.99</td>\n",
       "      <td>80.8</td>\n",
       "      <td>95.8</td>\n",
       "      <td>45.53</td>\n",
       "      <td>0.5101</td>\n",
       "      <td>65.666766</td>\n",
       "      <td>92.063492</td>\n",
       "      <td>57.142857</td>\n",
       "      <td>48.751328</td>\n",
       "      <td>28.301887</td>\n",
       "      <td>68.081853</td>\n",
       "    </tr>\n",
       "  </tbody>\n",
       "</table>\n",
       "</div>"
      ],
      "text/plain": [
       "          State Code    HSI  GDP 2018  Life Expectancy  Employment  \\\n",
       "0        Hawaii   HI  68.27     51.28             81.3        97.6   \n",
       "1          Utah   UT  67.84     44.64             80.2        96.9   \n",
       "2     Minnesota   MN  67.26     53.70             81.1        97.1   \n",
       "3  North Dakota   ND  65.62     62.84             79.5        97.4   \n",
       "4    California   CA  63.14     53.99             80.8        95.8   \n",
       "\n",
       "   Social Progress Index    GINI  GDP 2018 Norm  Life Expectancy Norm  \\\n",
       "0                  49.82  0.5580      57.618058            100.000000   \n",
       "1                  50.58  0.5937      37.897238             82.539683   \n",
       "2                  62.30  0.5504      64.805465             96.825397   \n",
       "3                  53.14  0.5467      91.951292             71.428571   \n",
       "4                  45.53  0.5101      65.666766             92.063492   \n",
       "\n",
       "   Employment Norm  Social Progress Index Norm   GINI Norm         OI  \n",
       "0       100.000000                   60.148778   69.382504  82.992465  \n",
       "1        83.333333                   62.167906  100.000000  72.546652  \n",
       "2        88.095238                   93.304995   62.864494  89.254307  \n",
       "3        95.238095                   68.969182   59.691252  77.235083  \n",
       "4        57.142857                   48.751328   28.301887  68.081853  "
      ]
     },
     "execution_count": 78,
     "metadata": {},
     "output_type": "execute_result"
    }
   ],
   "source": [
    "df.head()"
   ]
  },
  {
   "cell_type": "code",
   "execution_count": 79,
   "metadata": {
    "colab": {},
    "colab_type": "code",
    "id": "6bo9mbYXD-g-"
   },
   "outputs": [],
   "source": [
    "outcome, predictors = patsy.dmatrices('HSI ~ OI', df)"
   ]
  },
  {
   "cell_type": "code",
   "execution_count": 80,
   "metadata": {
    "colab": {},
    "colab_type": "code",
    "id": "mCmrAcOfD-g_"
   },
   "outputs": [],
   "source": [
    "OLS_model = sm.OLS(outcome, predictors)"
   ]
  },
  {
   "cell_type": "markdown",
   "metadata": {},
   "source": [
    "Below is a summary of the Ordinary Least Squares model, the most useful statistic is the r^2 value in the upper right corner. \n",
    "\n",
    "### R^2 = 0.654"
   ]
  },
  {
   "cell_type": "code",
   "execution_count": 81,
   "metadata": {
    "colab": {},
    "colab_type": "code",
    "id": "hfZ_8qbXD-g_",
    "scrolled": true
   },
   "outputs": [
    {
     "name": "stdout",
     "output_type": "stream",
     "text": [
      "                            OLS Regression Results                            \n",
      "==============================================================================\n",
      "Dep. Variable:                    HSI   R-squared:                       0.654\n",
      "Model:                            OLS   Adj. R-squared:                  0.647\n",
      "Method:                 Least Squares   F-statistic:                     90.91\n",
      "Date:                Fri, 14 Jun 2019   Prob (F-statistic):           1.18e-12\n",
      "Time:                        10:48:42   Log-Likelihood:                -151.37\n",
      "No. Observations:                  50   AIC:                             306.7\n",
      "Df Residuals:                      48   BIC:                             310.6\n",
      "Df Model:                           1                                         \n",
      "Covariance Type:            nonrobust                                         \n",
      "==============================================================================\n",
      "                 coef    std err          t      P>|t|      [0.025      0.975]\n",
      "------------------------------------------------------------------------------\n",
      "Intercept     32.0860      2.215     14.488      0.000      27.633      36.539\n",
      "OI             0.3450      0.036      9.535      0.000       0.272       0.418\n",
      "==============================================================================\n",
      "Omnibus:                        0.048   Durbin-Watson:                   1.127\n",
      "Prob(Omnibus):                  0.976   Jarque-Bera (JB):                0.064\n",
      "Skew:                          -0.046   Prob(JB):                        0.969\n",
      "Kurtosis:                       2.851   Cond. No.                         188.\n",
      "==============================================================================\n",
      "\n",
      "Warnings:\n",
      "[1] Standard Errors assume that the covariance matrix of the errors is correctly specified.\n"
     ]
    }
   ],
   "source": [
    "res = OLS_model.fit()\n",
    "print(res.summary())"
   ]
  },
  {
   "cell_type": "markdown",
   "metadata": {},
   "source": [
    "This concludes the data analysis section. As seen above, we have to reject our hypothesis. A more thorough explanation of the implications of this will be provided in the conclusion section below. "
   ]
  },
  {
   "cell_type": "markdown",
   "metadata": {
    "colab_type": "text",
    "id": "nG7GuPYfIJ-X"
   },
   "source": [
    "# Ethics & Privacy"
   ]
  },
  {
   "cell_type": "markdown",
   "metadata": {
    "colab_type": "text",
    "id": "psoy1OXRIRxd"
   },
   "source": [
    "Ethical Considerations:\n",
    "-\tWhether any information that can identify a person is in our data, keep everything anonymous.\n",
    "-\tData, unless publicly available, will only be obtained with owners’ consent.\n",
    "-\tData collected will be analyzed for author biases.\n",
    "-\tThe research will be carried out in a manner that does not cause any undue harm to anyone.\n",
    "-\tThe process and/or findings of the present research will not sere to propagate bias against any individual, or group.\n",
    "-\tAnalysis will be conducted in a manner that symbolizes pure honesty and ensures data anonymity. \n",
    "-\tAnalysis will be documented well enough to be reproduceable in future events.\n",
    "-\tMetric Selection will be charged thoughtfully eliminating personal bias toward the selections.\n",
    "-\tExplanation of models features, and justifications will be understandable and clear.\n",
    "\n",
    "With these bullet points in mind; our team designed a way to minimize selection-bias from each of us by brainstorming dozens of ideas in regard to supporting our hypothesis, and placing them in a random-selection tool. Before picking the variables, we were to research on, each of our team mates had to agree that each variable was equally valid and weighted the same conceptual importance before searching for the datasets. \n",
    "\n",
    "After picking a few randomized variable concepts relating to our hypothesis; we began our search for datasets and found sets that did not include any personal information. Beyond this, we checked the sources of each dataset to make sure that the pieces of data could not reverse-engineer the location or personal information of any individual or group of individuals. \n",
    "With these data sets free of personal-information we then checked for author biases and tried to use data sets that were open-sourced and were being constantly monitored by the site-publishers artificial-intelligence. Although it is not a real AI, these AI sentries provide diligent and usually an un-bias security in regard to defending data-sets from malicious or false alterations. \n",
    "\n",
    "After cleaning up the data sets, we ambitiously tried to implement security measures to mitigate against unwanted users from altering the Jupyter Notebook. Unfortunately, it ended up not being as secured as we would have hoped, causing us to scrap our efforts in providing security for the code. With that said, the models generated have no personal data and the features are rendered from imported Python Modules. This means that, if a user were to alter the code; they would still be subject to using the public module-functions in order to hide un-desired alterations to our models. \n",
    "For the metric selection, since we had randomly chosen the data sets from equally weighted concepts, we already ensured that the metric selection did no contain biases from our team mates. Although we selected the columns to include, it was to ensure the relevancy to answering our hypothesis.\n",
    "\n",
    "Lastly, in our explanation of the models, we each re-read the explanations which provided multi-feedback loops to ensure that we weren’t targeting any individual or group with the features described in our models. By having a system of checks, we did our best to ensure the privacy of individuals was safe and that the models generated from our analysis were not to harm any individual nor group.\n",
    " \n",
    "After completion of this hypothesis, we discussed possible un-predictable harms that might arise from our models. The only one that came to our minds would be hurt feelings from the states that ranked lower on our “Happy State Index”.\n"
   ]
  },
  {
   "cell_type": "markdown",
   "metadata": {
    "colab_type": "text",
    "id": "atFTbeKpIR6c"
   },
   "source": [
    "# Conclusion & Discussion"
   ]
  },
  {
   "cell_type": "markdown",
   "metadata": {
    "colab_type": "text",
    "id": "UPbzl59lIZge"
   },
   "source": [
    "Our attempt to devise a Happiness Index of our own, produced by metrics such as GDP per capita, life expectancy, employment, social progress and Gini coefficient, reasonably encompasses a wide range of socio-economic that may ‘define’ happiness across the 50 states. \n",
    "\n",
    "By conducting a number of linear regressions on each metric with the Happy State Index data, we were able to ascertain the extent to which each metric affects the overall score. These R-squared values were taken as ‘weights’ that led to the creation of our own happiness index formula. Later, as per our hypothesis, we conducted a regression of the newly devised happiness index with the Happy State Index to see how closely their respective values matched for each state. \n",
    "\n",
    "Eventually, an R-squared value of 0.65 wasn’t too short of the hypothesized value of 0.75, and hence doesn’t really discredit the utility of our own index. This leads us to believe that our attempts to quantify happiness using our own metrics gave us a reasonably close value to the one used to calculate the Happy State Index yet leaving room for improvement to consider more variables that can lead to a more nuanced definition of happiness.   "
   ]
  }
 ],
 "metadata": {
  "colab": {
   "collapsed_sections": [
    "d06785_2D-fo",
    "U9I14r_oD-f6",
    "L_fXT4YTD-f6",
    "TUknQuGsD-gE",
    "41Dp6hWoD-gI",
    "4GkAxwAQD-gS"
   ],
   "name": "Final-Code.ipynb",
   "provenance": [],
   "version": "0.3.2"
  },
  "kernelspec": {
   "display_name": "Python 3",
   "language": "python",
   "name": "python3"
  },
  "language_info": {
   "codemirror_mode": {
    "name": "ipython",
    "version": 3
   },
   "file_extension": ".py",
   "mimetype": "text/x-python",
   "name": "python",
   "nbconvert_exporter": "python",
   "pygments_lexer": "ipython3",
   "version": "3.7.3"
  }
 },
 "nbformat": 4,
 "nbformat_minor": 1
}
