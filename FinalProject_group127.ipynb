{
 "cells": [
  {
   "cell_type": "markdown",
   "metadata": {
    "colab_type": "text",
    "id": "J3X7zg2pGFvL"
   },
   "source": [
    "# COGS 108 - Final Project: Exploring Happiness in the United States"
   ]
  },
  {
   "cell_type": "markdown",
   "metadata": {
    "colab_type": "text",
    "id": "QJI87sV0GImD"
   },
   "source": [
    "# Overview"
   ]
  },
  {
   "cell_type": "markdown",
   "metadata": {
    "colab_type": "text",
    "id": "6AbC--UQGItW"
   },
   "source": [
    "For this project we were aiming to analyze the different factors that affect happiness in the US. We wanted to determine if happiness can be measured reasonably well using just 5 parameters: \n",
    "\n",
    "1) GDP per capita\n",
    "2) Life expectancy\n",
    "3) Employment\n",
    "4) Social progress\n",
    "5) Gini coefficient (income distribution)\n",
    "\n",
    "We obtained data for each parameter using web scraping and data wrangling. Next, we used simple linear regression to compare each parameters with the WalletHub happiness index, which was used as a reference point. Using the correlation coefficient (R^2) for each parameter, we were able to find a weighted formula A * GDP + B * Life_Expectancy + C * Employment + D * Social_Progress + E * Gini_Coefficient, where the weights A,B,C,D,E are the r^2 values for each parameter. Finally, we tested the model against the Happy State Index (HSI), in order to determine how close/far our model was from the HSI. In the end, we got a result of r^2 = 0.65, which indicates a relatively well fitting model, with some discrepancies. "
   ]
  },
  {
   "cell_type": "markdown",
   "metadata": {
    "colab_type": "text",
    "id": "xm__DwcoGI1E"
   },
   "source": [
    "# Names\n",
    "\n",
    "- Max Kazakov\n",
    "- Shrimant Singh\n",
    "- Egbert Doan\n",
    "- Eric Salguero"
   ]
  },
  {
   "cell_type": "markdown",
   "metadata": {
    "colab_type": "text",
    "id": "SEA15QFLGF7o"
   },
   "source": [
    "# Group Members IDs\n",
    "\n",
    "- A14931159\n",
    "- A15312953\n",
    "- A14243004\n",
    "- A15316485\n",
    "\n",
    "(respectively)"
   ]
  },
  {
   "cell_type": "markdown",
   "metadata": {
    "colab_type": "text",
    "id": "XxiR5aNiGGGV"
   },
   "source": [
    "# Research Question"
   ]
  },
  {
   "cell_type": "markdown",
   "metadata": {
    "colab_type": "text",
    "id": "Qkhyn66rGE_I"
   },
   "source": [
    "Our research question can be summarized as follows: \n",
    "\n",
    "### \"Are 5 parameters (GDP per capita, life expectancy, employment, social progress, and Gini coefficient (income distribution)) sufficient enough to produce a *reasonable* model of happiness across the 50 United States of America?\" \n",
    "\n",
    "Please note that in our view a *reasonable* model is one that has an r^2 value >= 75. One may argue that this cut-off level is too low, however, for the purpose of the present analysis, we deemed it adequate, since we are looking to find a compromise between the model's simplicity and predictive capacity. "
   ]
  },
  {
   "cell_type": "markdown",
   "metadata": {
    "colab_type": "text",
    "id": "ULVI9kGZGySF"
   },
   "source": [
    "## Background and Prior Work"
   ]
  },
  {
   "cell_type": "markdown",
   "metadata": {
    "colab_type": "text",
    "id": "Xu5idVUrGyei"
   },
   "source": [
    "For background work we started out looking at the [World Happiness Index](https://worldhappiness.report/), however we realized that for the purpose of narrowing down our research project it would be better to limit ourselves to the US. Essentially, we attempted to recreate a country-by-country comparison but on a state-by-state level. However, we explored the methodology of the world happiness report, which inspired us to use some of the parameters, e.g. GDP per capita. \n",
    "\n",
    "In terms of existing work on the subject matter, we were able to find this [report](https://wallethub.com/edu/happiest-states/6959/) by WalletHub. Below is an excerpt from their methodology.  \n",
    "\n",
    "\"In this study, WalletHub drew upon the findings of “happiness” research to determine which environmental factors are linked to a person’s overall well-being and satisfaction with life. Previous studies have found that good economic, emotional, physical and social health are all key to a well-balanced and fulfilled life.\n",
    "\n",
    "To determine where Americans exhibit the best combination of these factors, we examined the 50 states across 31 key metrics, ranging from depression rate to sports participation rate to income growth. Read on for our findings, additional insight from a panel of experts and a full description of our methodology.\"\n",
    "\n",
    "What is key here is that WalletHub used 31 metrics across three main dimensions:\n",
    "\n",
    "1) Emotional & Physical Well-Being\n",
    "2) Work Environment \n",
    "3) Community & Environment\n",
    "\n",
    "Our goal was to come up with a Happiness Index that would only use 5 metrics, roughly 6 times simpler than WalletHub's. However, we cross-referenced WalletHub's index along the way in order to determine the coefficients for our model, as well as in the very end when verifying our end result.  "
   ]
  },
  {
   "cell_type": "markdown",
   "metadata": {
    "colab_type": "text",
    "id": "GQozI7_DGys0"
   },
   "source": [
    "# Hypothesis"
   ]
  },
  {
   "cell_type": "markdown",
   "metadata": {
    "colab_type": "text",
    "id": "39CtTqY2G-Ac"
   },
   "source": [
    "Our hypothesis was that *a model consisting of 5 metrics can produce an r^2 value of 0.75 or higher*. Therefore we expect a positive answer to the research question. Namely, that the five selected metrics (GDP per capita, life expectancy, employment, social progress, and Gini coefficient (income distribution)) are enough to produce a model that yields an r^2>=75, when a simple linear regression is performed, with the Happy State Index as the dependent variable.\n",
    "\n",
    "The reason why we believe that our model can perform this well is due to the fact that the selected parameters cover a wide range of factors affecting one's perception of happiness. Moreover, the 5 parameters were not selected at random, instead they were generated through both, our common-sense intuition, and background research of other happiness indices (of global and national scale). \n",
    "\n",
    "The opposite outcome would be if the model fails to reach the 0.75 threshold. That would mean that either 5 parameters do not sufficiently explain the state of happiness in the US, or that our model is overly simple. The latter would merit a reevaluation of the model and better fine-tuning of the coefficients in possible future iterations of the research project. "
   ]
  },
  {
   "cell_type": "markdown",
   "metadata": {
    "colab_type": "text",
    "id": "VWtDQoPiG-Jf"
   },
   "source": [
    "# Datasets"
   ]
  },
  {
   "cell_type": "markdown",
   "metadata": {
    "colab_type": "text",
    "id": "tN-fL6NqG-PI"
   },
   "source": [
    "- Dataset Name: List of U.S. states by GDP per capita\n",
    "- Link to the dataset: https://en.wikipedia.org/wiki/List_of_U.S._states_by_GDP_per_capita\n",
    "- Number of observations: 51\n",
    "\n",
    "This dataset shows the GDP per capita of the 50 U.S. states and also includes the District of Columbia. For our observations we have omitted the District of Columbia to only observe the 50 U.S. states.\n",
    "\n",
    "This dataset will be used along side four other datasets to create a weighted formula for linear regression. This will allow us to see what is affecting happiness in the US. GDP per capita should come to affect happiness in a state as this represents the states economic growth."
   ]
  },
  {
   "cell_type": "markdown",
   "metadata": {
    "colab_type": "text",
    "id": "5uTsiwFLG-TU"
   },
   "source": [
    "- Dataset Name: Happiest States in the U.S.\n",
    "- Link to the dataset: https://wallethub.com/edu/happiest-states/6959/\n",
    "- Number of observations: 50\n",
    "\n",
    "This dataset shows the Happines Index used by wallethub of the 50 U.S. states. Using this metric we will define our own index and compare.\n",
    "\n",
    "This dataset will be compared to our linear regression model to see how accurate our model is with the factors and weights we have calculates."
   ]
  },
  {
   "cell_type": "markdown",
   "metadata": {
    "colab_type": "text",
    "id": "Zvm4I-xZG-a8"
   },
   "source": [
    "- Dataset Name: List of U.S. states and territories by life expectancy\n",
    "- Link to the dataset: https://en.wikipedia.org/wiki/List_of_U.S._states_and_territories_by_life_expectancy\n",
    "- Number of observations: 56\n",
    "\n",
    "This dataset shows the  life expectancy of the 50 U.S. states and also includes U.S. territories. For our observations we have omitted the U.S. terrritores to only observe the 50 U.S. states.\n",
    "\n",
    "This dataset will be used along side four other datasets to create a weighted formula for linear regression. We believe that Life expectancy will be a factor in happiness as having a longer life can be said improve happiness."
   ]
  },
  {
   "cell_type": "markdown",
   "metadata": {
    "colab_type": "text",
    "id": "vt2movYHHZSf"
   },
   "source": [
    "- Dataset Name: Unemployment Rates for States, 2018 Annual Averages\n",
    "- Link to the dataset: https://www.bls.gov/lau/lastrk18.htm\n",
    "- Number of observations: 50\n",
    "\n",
    "This dataset shows the Unemployment Rates of the 50 U.S. states. We will use the 100 - unemployment from this dataset to get values for the employment rate in the U.S.\n",
    "\n",
    "This dataset will be used along side four other datasets to create a weighted formula for linear regression. Using 100 - unemployment will give us a look at employment rates as a factor in our linear regression model. Both unemployment rates and employment rates are similarly correlated but unemployment is negatively correlated rather than employment which is positive correlation for our model, since it is a sum."
   ]
  },
  {
   "cell_type": "markdown",
   "metadata": {
    "colab_type": "text",
    "id": "aiZPvrAfHZXz"
   },
   "source": [
    "- Dataset Name: US Social Progress Index Results Public\n",
    "- Link to the dataset: https://socialprogress.blog/2018-social-progress-index-us-states/\n",
    "- Number of observations: 52\n",
    "\n",
    "This dataset shows another index that takes into account social aspects like crime rates, medical care and other quality of life factors.\n",
    "\n",
    "This dataset will be used along side four other datasets to create a weighted formula for linear regression. This index takes into account a variety of social aspects that can weigh on happiness. Aspects like clean water and broadband connection availablity are included in this index."
   ]
  },
  {
   "cell_type": "markdown",
   "metadata": {
    "colab_type": "text",
    "id": "Zy1ePXf-HZiU"
   },
   "source": [
    "- Dataset Name: List of U.S. states by Gini coefficient\n",
    "- Link to the dataset: https://en.wikipedia.org/wiki/List_of_U.S._states_by_Gini_coefficient\n",
    "- Number of observations: 52\n",
    "\n",
    "The gini coefficient measures the income gap in a state comparing the low income class with the high income class. This dataset shows the Gini coefficient of the 50 U.S. states and also includes the District of Columbia and the U.S. of America. For our observations we have omitted the District of Columbia and and the U.S. of America to only observe the 50 U.S. states.\n",
    "\n",
    "This dataset will be used along side four other datasets to create a weighted formula for linear regression. This data set looks at the income gap which can affect happiness for low income class negatively and high income class positively."
   ]
  },
  {
   "cell_type": "markdown",
   "metadata": {
    "colab_type": "text",
    "id": "-WIbCIp5D-eW"
   },
   "source": [
    "# Data Analysis"
   ]
  },
  {
   "cell_type": "markdown",
   "metadata": {
    "colab_type": "text",
    "id": "OaromlMkEuta"
   },
   "source": [
    "### Data Cleaning & Pre-processing"
   ]
  },
  {
   "cell_type": "markdown",
   "metadata": {},
   "source": [
    "Apart from the standard data science toolkit, sklearn was used for Linear Regression models, and seaborn was used for better visualizations. Plotly was used in offline mode for choropleth plots of geospatial data. Patsy and the statsmodels API was used in order to carry out the final OLS testing and determine the r^2 value between our model and the Happy State Index. Scipy was used for descriptive statistics."
   ]
  },
  {
   "cell_type": "code",
   "execution_count": 1,
   "metadata": {
    "colab": {},
    "colab_type": "code",
    "id": "_wKROch2D-eX"
   },
   "outputs": [],
   "source": [
    "import pandas as pd\n",
    "import numpy as np\n",
    "import requests\n",
    "import bs4\n",
    "from bs4 import BeautifulSoup\n",
    "import matplotlib.pyplot as plt\n",
    "import sklearn\n",
    "from sklearn import preprocessing\n",
    "from sklearn.linear_model import LinearRegression\n",
    "import seaborn as sns\n",
    "import plotly.plotly as py\n",
    "import plotly.graph_objs as go\n",
    "from plotly.offline import download_plotlyjs, init_notebook_mode, plot, iplot\n",
    "import patsy\n",
    "import statsmodels.api as sm\n",
    "from scipy import stats"
   ]
  },
  {
   "cell_type": "markdown",
   "metadata": {
    "colab_type": "text",
    "id": "Av9H16isD-ea"
   },
   "source": [
    "Initiating Plotly notebook mode for offline Plotly plots (used for Data Visualization with Choropleth plots)."
   ]
  },
  {
   "cell_type": "code",
   "execution_count": 2,
   "metadata": {
    "colab": {
     "base_uri": "https://localhost:8080/",
     "height": 17
    },
    "colab_type": "code",
    "id": "tsnZqkw6D-ea",
    "outputId": "9c733aa6-1075-41e7-9bd1-63df1a877e37"
   },
   "outputs": [
    {
     "data": {
      "text/html": [
       "<script type=\"text/javascript\">window.PlotlyConfig = {MathJaxConfig: 'local'};</script><script type=\"text/javascript\">if (window.MathJax) {MathJax.Hub.Config({SVG: {font: \"STIX-Web\"}});}</script><script>requirejs.config({paths: { 'plotly': ['https://cdn.plot.ly/plotly-latest.min']},});if(!window._Plotly) {require(['plotly'],function(plotly) {window._Plotly=plotly;});}</script>"
      ],
      "text/vnd.plotly.v1+html": [
       "<script type=\"text/javascript\">window.PlotlyConfig = {MathJaxConfig: 'local'};</script><script type=\"text/javascript\">if (window.MathJax) {MathJax.Hub.Config({SVG: {font: \"STIX-Web\"}});}</script><script>requirejs.config({paths: { 'plotly': ['https://cdn.plot.ly/plotly-latest.min']},});if(!window._Plotly) {require(['plotly'],function(plotly) {window._Plotly=plotly;});}</script>"
      ]
     },
     "metadata": {},
     "output_type": "display_data"
    }
   ],
   "source": [
    "init_notebook_mode(connected=True)"
   ]
  },
  {
   "cell_type": "markdown",
   "metadata": {
    "colab_type": "text",
    "id": "G04FyTlaD-ee"
   },
   "source": [
    "Set seaborn aesthetic parameters for notebook."
   ]
  },
  {
   "cell_type": "code",
   "execution_count": 3,
   "metadata": {
    "colab": {},
    "colab_type": "code",
    "id": "zymKaEspD-ef"
   },
   "outputs": [],
   "source": [
    "sns.set()"
   ]
  },
  {
   "cell_type": "markdown",
   "metadata": {
    "colab_type": "text",
    "id": "hfaMjdfND-eg"
   },
   "source": [
    "## Web scrapping and data wrangling "
   ]
  },
  {
   "cell_type": "markdown",
   "metadata": {
    "colab_type": "text",
    "id": "7LtBqISBD-eh"
   },
   "source": [
    "### 1. GDP per capita 2018\n",
    "\n",
    "For GDP, the wikipedia page was scraped without much data cleaning being required, since wikipedia data is usually fairly clean as-is."
   ]
  },
  {
   "cell_type": "code",
   "execution_count": 4,
   "metadata": {
    "colab": {},
    "colab_type": "code",
    "id": "iSYPNNbuD-eh"
   },
   "outputs": [],
   "source": [
    "wiki = 'https://en.wikipedia.org/wiki/List_of_U.S._states_by_GDP_per_capita'\n",
    "page = requests.get(wiki)\n",
    "soup = BeautifulSoup(page.content, 'html.parser')"
   ]
  },
  {
   "cell_type": "code",
   "execution_count": 5,
   "metadata": {
    "colab": {},
    "colab_type": "code",
    "id": "aSvRBUJkD-ej"
   },
   "outputs": [],
   "source": [
    "title_page = soup.title.string\n",
    "assert 'GDP' in title_page"
   ]
  },
  {
   "cell_type": "code",
   "execution_count": 6,
   "metadata": {
    "colab": {},
    "colab_type": "code",
    "id": "xDM1L7lzD-el"
   },
   "outputs": [],
   "source": [
    "right_table = soup.find(\"table\", class_='wikitable sortable')\n",
    "assert isinstance(right_table, bs4.element.Tag)"
   ]
  },
  {
   "cell_type": "code",
   "execution_count": 7,
   "metadata": {
    "colab": {},
    "colab_type": "code",
    "id": "eBKU4445D-em"
   },
   "outputs": [],
   "source": [
    "states, GDP = [], []\n",
    "\n",
    "for row in right_table.findAll('tr'):\n",
    "    \n",
    "    cells = row.findAll('td')\n",
    "    \n",
    "\n",
    "    if len(cells) == 0 or '—' in cells[0]:\n",
    "        continue\n",
    "\n",
    "    states.append(cells[1].find('a').text)\n",
    "    GDP.append(cells[2].find(text=True).replace('\\n', ''))\n",
    "    \n",
    "assert len(states) == 50\n",
    "assert len(GDP) == 50"
   ]
  },
  {
   "cell_type": "code",
   "execution_count": 8,
   "metadata": {
    "colab": {},
    "colab_type": "code",
    "id": "qRuvPIL3D-ep"
   },
   "outputs": [],
   "source": [
    "GDP_df = pd.DataFrame(list(zip(states, GDP)), \n",
    "            columns = ['State', 'GDP 2018'])\n",
    "\n",
    "GDP_df.set_index('State', inplace=True)"
   ]
  },
  {
   "cell_type": "markdown",
   "metadata": {
    "colab_type": "text",
    "id": "hY9aJg7XD-er"
   },
   "source": [
    "### Happy State Index\n",
    "\n",
    "Similarly to the Wikipedia web scraping, the Happy State Index was fairly clean. However, a small problem was encountered along the way, namely the website would block our IP after multiple requests. We had to use a VPN in order to circumvent this problem (the same is recommended for anyone interested in replicating our results). "
   ]
  },
  {
   "cell_type": "code",
   "execution_count": 9,
   "metadata": {
    "colab": {},
    "colab_type": "code",
    "id": "ZhiXC6ofD-er"
   },
   "outputs": [],
   "source": [
    "whub = 'https://wallethub.com/edu/happiest-states/6959/'\n",
    "page = requests.get(whub)\n",
    "soup = BeautifulSoup(page.content, 'html.parser')"
   ]
  },
  {
   "cell_type": "code",
   "execution_count": 10,
   "metadata": {
    "colab": {
     "base_uri": "https://localhost:8080/",
     "height": 34
    },
    "colab_type": "code",
    "id": "PVuT_4nyD-eu",
    "outputId": "a29a320b-b882-4281-e073-3b6194ae9f01"
   },
   "outputs": [
    {
     "data": {
      "text/plain": [
       "'IP Block'"
      ]
     },
     "execution_count": 10,
     "metadata": {},
     "output_type": "execute_result"
    }
   ],
   "source": [
    "title_page = soup.title.string\n",
    "title_page"
   ]
  },
  {
   "cell_type": "code",
   "execution_count": 11,
   "metadata": {
    "colab": {},
    "colab_type": "code",
    "id": "6kMlTA9TD-ew"
   },
   "outputs": [],
   "source": [
    "right_table = soup.find(\"table\", class_='cardhub-edu-table center-aligned sortable')"
   ]
  },
  {
   "cell_type": "code",
   "execution_count": 12,
   "metadata": {
    "colab": {},
    "colab_type": "code",
    "id": "5yjtn5oeD-ey"
   },
   "outputs": [
    {
     "ename": "AttributeError",
     "evalue": "'NoneType' object has no attribute 'findAll'",
     "output_type": "error",
     "traceback": [
      "\u001b[0;31m---------------------------------------------------------------------------\u001b[0m",
      "\u001b[0;31mAttributeError\u001b[0m                            Traceback (most recent call last)",
      "\u001b[0;32m<ipython-input-12-8b50f784b6f5>\u001b[0m in \u001b[0;36m<module>\u001b[0;34m\u001b[0m\n\u001b[1;32m      1\u001b[0m \u001b[0mstates\u001b[0m\u001b[0;34m,\u001b[0m \u001b[0mHSI\u001b[0m \u001b[0;34m=\u001b[0m \u001b[0;34m[\u001b[0m\u001b[0;34m]\u001b[0m\u001b[0;34m,\u001b[0m \u001b[0;34m[\u001b[0m\u001b[0;34m]\u001b[0m\u001b[0;34m\u001b[0m\u001b[0;34m\u001b[0m\u001b[0m\n\u001b[1;32m      2\u001b[0m \u001b[0;34m\u001b[0m\u001b[0m\n\u001b[0;32m----> 3\u001b[0;31m \u001b[0;32mfor\u001b[0m \u001b[0mrow\u001b[0m \u001b[0;32min\u001b[0m \u001b[0mright_table\u001b[0m\u001b[0;34m.\u001b[0m\u001b[0mfindAll\u001b[0m\u001b[0;34m(\u001b[0m\u001b[0;34m'tr'\u001b[0m\u001b[0;34m)\u001b[0m\u001b[0;34m:\u001b[0m\u001b[0;34m\u001b[0m\u001b[0;34m\u001b[0m\u001b[0m\n\u001b[0m\u001b[1;32m      4\u001b[0m \u001b[0;34m\u001b[0m\u001b[0m\n\u001b[1;32m      5\u001b[0m     \u001b[0mcells\u001b[0m \u001b[0;34m=\u001b[0m \u001b[0mrow\u001b[0m\u001b[0;34m.\u001b[0m\u001b[0mfindAll\u001b[0m\u001b[0;34m(\u001b[0m\u001b[0;34m'td'\u001b[0m\u001b[0;34m)\u001b[0m\u001b[0;34m\u001b[0m\u001b[0;34m\u001b[0m\u001b[0m\n",
      "\u001b[0;31mAttributeError\u001b[0m: 'NoneType' object has no attribute 'findAll'"
     ]
    }
   ],
   "source": [
    "states, HSI = [], []\n",
    "\n",
    "for row in right_table.findAll('tr'):\n",
    "    \n",
    "    cells = row.findAll('td')\n",
    "    \n",
    "\n",
    "    if len(cells) == 0:\n",
    "        continue\n",
    "    \n",
    "\n",
    "    states.append(cells[1].find(text=True))\n",
    "    HSI.append(cells[2].find(text=True))\n",
    "    \n",
    "assert len(states) == 50\n",
    "assert len(HSI) == 50"
   ]
  },
  {
   "cell_type": "code",
   "execution_count": null,
   "metadata": {
    "colab": {},
    "colab_type": "code",
    "id": "9u2FHUi8D-ez"
   },
   "outputs": [],
   "source": [
    "HSI_df = pd.DataFrame(list(zip(states, HSI)), \n",
    "            columns = ['State', 'Happy State Index'])\n",
    "\n",
    "HSI_df.set_index('State', inplace=True)"
   ]
  },
  {
   "cell_type": "code",
   "execution_count": null,
   "metadata": {
    "colab": {},
    "colab_type": "code",
    "id": "34vfjmiFD-e1"
   },
   "outputs": [],
   "source": [
    "df = pd.merge(HSI_df, GDP_df, on='State', how='inner')"
   ]
  },
  {
   "cell_type": "code",
   "execution_count": null,
   "metadata": {
    "colab": {},
    "colab_type": "code",
    "id": "NiwCyYAZD-e2"
   },
   "outputs": [],
   "source": [
    "df['GDP 2018'] = df['GDP 2018'].str.replace(',', '')"
   ]
  },
  {
   "cell_type": "markdown",
   "metadata": {},
   "source": [
    "The data needs to be converted to float. Additionally, GDP was devided by 1000 and rounded to 2 decimal places using an anonymous function."
   ]
  },
  {
   "cell_type": "code",
   "execution_count": null,
   "metadata": {
    "colab": {},
    "colab_type": "code",
    "id": "aiuJ-NUoD-e4"
   },
   "outputs": [],
   "source": [
    "df['Happy State Index'] = df['Happy State Index'].astype(float)\n",
    "df['GDP 2018'] = df['GDP 2018'].apply(lambda x : round(int(x) / 1000, 2)) "
   ]
  },
  {
   "cell_type": "markdown",
   "metadata": {
    "colab_type": "text",
    "id": "d0uZQa6VD-e6"
   },
   "source": [
    "### 2. Life Expectancy\n",
    "\n",
    "The procedure for life expectancy was slightly more complicated than the rest of the Wikipedia web scraping due to some of the hyperlinks containing \"(state)\" and other unnecessary substrings. This was basically the only data cleaning that was carried out. "
   ]
  },
  {
   "cell_type": "code",
   "execution_count": null,
   "metadata": {
    "colab": {},
    "colab_type": "code",
    "id": "_EFUwfHcD-e6"
   },
   "outputs": [],
   "source": [
    "wiki = 'https://en.wikipedia.org/wiki/List_of_U.S._states_and_territories_by_life_expectancy'\n",
    "page = requests.get(wiki)\n",
    "soup = BeautifulSoup(page.content, 'html.parser')"
   ]
  },
  {
   "cell_type": "code",
   "execution_count": null,
   "metadata": {
    "colab": {},
    "colab_type": "code",
    "id": "FY1GwqZjD-e9"
   },
   "outputs": [],
   "source": [
    "title_page = soup.title.string\n",
    "assert 'life' in title_page"
   ]
  },
  {
   "cell_type": "code",
   "execution_count": null,
   "metadata": {
    "colab": {},
    "colab_type": "code",
    "id": "8kV38PWBD-fA"
   },
   "outputs": [],
   "source": [
    "right_table = soup.find(\"table\", class_='wikitable sortable')\n",
    "assert isinstance(right_table, bs4.element.Tag)"
   ]
  },
  {
   "cell_type": "code",
   "execution_count": null,
   "metadata": {
    "colab": {},
    "colab_type": "code",
    "id": "_BT3dCBgD-fC"
   },
   "outputs": [],
   "source": [
    "states, LE = [], []\n",
    "\n",
    "for row in right_table.findAll('tr'):\n",
    "    \n",
    "    cells = row.findAll('td')\n",
    "    \n",
    "    if len(cells) == 0:\n",
    "        continue\n",
    "        \n",
    "    # Special handling for Georgia \n",
    "    if cells[1].find('a') != None:\n",
    "        st = cells[1].find('a')['title']\n",
    "        states.append(st)\n",
    "        LE.append(cells[2].find(text=True).replace('\\n', ''))\n",
    "   "
   ]
  },
  {
   "cell_type": "code",
   "execution_count": null,
   "metadata": {
    "colab": {},
    "colab_type": "code",
    "id": "U6fY7VSmD-fE"
   },
   "outputs": [],
   "source": [
    "LE_df = pd.DataFrame(list(zip(states, LE)), \n",
    "            columns = ['State', 'Life Expectancy'])"
   ]
  },
  {
   "cell_type": "markdown",
   "metadata": {},
   "source": [
    "Anonymous functions were used to clean the entries that contained redundant substrings."
   ]
  },
  {
   "cell_type": "code",
   "execution_count": null,
   "metadata": {
    "colab": {},
    "colab_type": "code",
    "id": "hc0cJ3CMD-fG"
   },
   "outputs": [],
   "source": [
    "LE_df['State'] = LE_df['State'].apply(lambda x: x.replace(' (state)', ''))\n",
    "LE_df['State'] = LE_df['State'].apply(lambda x: x.replace(' (U.S. state)', ''))\n",
    "LE_df.set_index('State', inplace=True)"
   ]
  },
  {
   "cell_type": "markdown",
   "metadata": {},
   "source": [
    "The wikipedia dataset contained U.S. territories as well, which had to be filtered out."
   ]
  },
  {
   "cell_type": "code",
   "execution_count": null,
   "metadata": {
    "colab": {},
    "colab_type": "code",
    "id": "cnR6n08KD-fI"
   },
   "outputs": [],
   "source": [
    "LE_df = LE_df[LE_df.index.isin(df.index.tolist())]"
   ]
  },
  {
   "cell_type": "code",
   "execution_count": null,
   "metadata": {
    "colab": {},
    "colab_type": "code",
    "id": "EeZRttZID-fJ"
   },
   "outputs": [],
   "source": [
    "df = pd.merge(df, LE_df, on='State', how='inner')"
   ]
  },
  {
   "cell_type": "code",
   "execution_count": null,
   "metadata": {
    "colab": {},
    "colab_type": "code",
    "id": "kESrRiMLD-fL"
   },
   "outputs": [],
   "source": [
    "df['Life Expectancy'] = df['Life Expectancy'].astype(float)"
   ]
  },
  {
   "cell_type": "code",
   "execution_count": null,
   "metadata": {
    "colab": {
     "base_uri": "https://localhost:8080/",
     "height": 235
    },
    "colab_type": "code",
    "id": "pbnF26QkD-fN",
    "outputId": "e62847a9-f71c-44b5-b23d-7491de9f530c"
   },
   "outputs": [],
   "source": [
    "df.head()"
   ]
  },
  {
   "cell_type": "markdown",
   "metadata": {
    "colab_type": "text",
    "id": "IvDhkKXmD-fP"
   },
   "source": [
    "### 3. Employment Rate\n",
    "\n",
    "For employment rate we had to use data from the Bureau of Labor Statistics, web scraping was used."
   ]
  },
  {
   "cell_type": "code",
   "execution_count": null,
   "metadata": {
    "colab": {},
    "colab_type": "code",
    "id": "s83HCxnQD-fP"
   },
   "outputs": [],
   "source": [
    "url = 'https://www.bls.gov/lau/lastrk18.htm'\n",
    "page = requests.get(url)\n",
    "soup = BeautifulSoup(page.content, 'html.parser')"
   ]
  },
  {
   "cell_type": "code",
   "execution_count": null,
   "metadata": {
    "colab": {},
    "colab_type": "code",
    "id": "f188Hup2D-fR"
   },
   "outputs": [],
   "source": [
    "right_table = soup.find(id='lastrk18')\n",
    "assert isinstance(right_table, bs4.element.Tag)"
   ]
  },
  {
   "cell_type": "code",
   "execution_count": null,
   "metadata": {
    "colab": {},
    "colab_type": "code",
    "id": "xPaR5wcnD-fS"
   },
   "outputs": [],
   "source": [
    "states, EMP = [], []\n",
    "\n",
    "for row in right_table.findAll('tr'):\n",
    "\n",
    "    th = row.findAll('th')\n",
    "    td = row.findAll('td')\n",
    "    \n",
    "    if len(th) == 0 or len(td) == 0:\n",
    "        continue\n",
    "        \n",
    "    states.append(th[0].find(text=True))\n",
    "    EMP.append(td[0].find(text=True))\n",
    "    \n",
    "assert len(states) == 52"
   ]
  },
  {
   "cell_type": "code",
   "execution_count": null,
   "metadata": {
    "colab": {},
    "colab_type": "code",
    "id": "zoL4nkVzD-fU"
   },
   "outputs": [],
   "source": [
    "EMP_df = pd.DataFrame(list(zip(states, EMP)), \n",
    "            columns = ['State', 'Employment'])"
   ]
  },
  {
   "cell_type": "code",
   "execution_count": null,
   "metadata": {
    "colab": {},
    "colab_type": "code",
    "id": "PaXP6CI2D-fW"
   },
   "outputs": [],
   "source": [
    "EMP_df.set_index('State', inplace=True)\n"
   ]
  },
  {
   "cell_type": "markdown",
   "metadata": {},
   "source": [
    "\"District of Columbia\" had to be filtered out."
   ]
  },
  {
   "cell_type": "code",
   "execution_count": null,
   "metadata": {
    "colab": {},
    "colab_type": "code",
    "id": "THkVGmeCD-fY"
   },
   "outputs": [],
   "source": [
    "EMP_df = EMP_df[EMP_df.index.isin(df.index.tolist())]"
   ]
  },
  {
   "cell_type": "code",
   "execution_count": null,
   "metadata": {
    "colab": {},
    "colab_type": "code",
    "id": "GNrt0vxND-fZ"
   },
   "outputs": [],
   "source": [
    "df = pd.merge(df, EMP_df, on='State', how='inner')"
   ]
  },
  {
   "cell_type": "markdown",
   "metadata": {},
   "source": [
    "A simple arithmetic conversion was used to get from employment % to unemployment %."
   ]
  },
  {
   "cell_type": "code",
   "execution_count": null,
   "metadata": {
    "colab": {
     "base_uri": "https://localhost:8080/",
     "height": 235
    },
    "colab_type": "code",
    "id": "yUw-Tu7iD-fb",
    "outputId": "764a51a5-b26f-42d7-c1e2-f21ab3ea08b1"
   },
   "outputs": [],
   "source": [
    "df['Employment'] = 100 - df['Employment'].astype(float)\n",
    "df.head()"
   ]
  },
  {
   "cell_type": "markdown",
   "metadata": {
    "colab_type": "text",
    "id": "UiuKhKGTD-ff"
   },
   "source": [
    "### 4. Social Progress\n",
    "\n",
    "For the social progress score we only used the column which contained the Index itself. The remaining columns were dropped since they are essentially the different componenets of the social progress index. In future iterations and improvements of the project, other parameters can be added from this list e.g. Water and Sanitation."
   ]
  },
  {
   "cell_type": "code",
   "execution_count": null,
   "metadata": {
    "colab": {
     "base_uri": "https://localhost:8080/",
     "height": 344
    },
    "colab_type": "code",
    "id": "T1GQwqV9D-fg",
    "outputId": "c2bdd307-4baf-4a28-83d2-f3b2ec1d122b",
    "scrolled": true
   },
   "outputs": [],
   "source": [
    "social_scores_df = pd.read_excel('/Users/kazak/Downloads/us-social-progress-index-results-public-4.xlsx')\n",
    "social_scores_df.head()"
   ]
  },
  {
   "cell_type": "markdown",
   "metadata": {},
   "source": [
    "Only State, Code, and Social Progress Index columns were used. Code will come in handy at a later stage, when plotting the choropleths. "
   ]
  },
  {
   "cell_type": "code",
   "execution_count": null,
   "metadata": {
    "colab": {},
    "colab_type": "code",
    "id": "nfMxuDAKD-fi",
    "outputId": "64f50ebc-0f4b-4f11-f318-25e46c17fa5a"
   },
   "outputs": [],
   "source": [
    "df_social_progress_code = social_scores_df.iloc[:, [0, 1, 2]]\n",
    "df_social_progress_code.head()"
   ]
  },
  {
   "cell_type": "code",
   "execution_count": null,
   "metadata": {
    "colab": {},
    "colab_type": "code",
    "id": "ViKuxaP1D-fj"
   },
   "outputs": [],
   "source": [
    "df = pd.merge(df, df_social_progress_code, on='State', how='inner')"
   ]
  },
  {
   "cell_type": "markdown",
   "metadata": {},
   "source": [
    "The cell below re-orders the columns for convenience."
   ]
  },
  {
   "cell_type": "code",
   "execution_count": null,
   "metadata": {
    "colab": {},
    "colab_type": "code",
    "id": "GCSydQsdD-fl"
   },
   "outputs": [],
   "source": [
    "df = df[['State', 'Code', 'Happy State Index', 'GDP 2018', 'Life Expectancy', 'Employment', 'Social Progress Index']]"
   ]
  },
  {
   "cell_type": "code",
   "execution_count": null,
   "metadata": {
    "colab": {},
    "colab_type": "code",
    "id": "fvqHueLCD-fm",
    "outputId": "d8e5cc78-dd77-4e9c-8beb-b2952c601faf"
   },
   "outputs": [],
   "source": [
    "df.head()"
   ]
  },
  {
   "cell_type": "markdown",
   "metadata": {
    "colab_type": "text",
    "id": "d06785_2D-fo"
   },
   "source": [
    "### 5. GINI coefficient (statistical income distribution)\n",
    "\n",
    "Gini data was also web scrapped from wikipidea without issue."
   ]
  },
  {
   "cell_type": "code",
   "execution_count": null,
   "metadata": {
    "colab": {},
    "colab_type": "code",
    "id": "KngvoZXRD-fo"
   },
   "outputs": [],
   "source": [
    "wiki = 'https://en.wikipedia.org/wiki/List_of_U.S._states_by_Gini_coefficient'\n",
    "page = requests.get(wiki)\n",
    "soup = BeautifulSoup(page.content, 'html.parser')"
   ]
  },
  {
   "cell_type": "code",
   "execution_count": null,
   "metadata": {
    "colab": {},
    "colab_type": "code",
    "id": "3gNOJ5xJD-fq"
   },
   "outputs": [],
   "source": [
    "title_page = soup.title.string\n",
    "assert 'Gini' in title_page"
   ]
  },
  {
   "cell_type": "code",
   "execution_count": null,
   "metadata": {
    "colab": {},
    "colab_type": "code",
    "id": "-rmiRZ5XD-ft"
   },
   "outputs": [],
   "source": [
    "right_table = soup.find(\"table\", class_='wikitable sortable')"
   ]
  },
  {
   "cell_type": "code",
   "execution_count": null,
   "metadata": {
    "colab": {},
    "colab_type": "code",
    "id": "ld9hsyOuD-fv"
   },
   "outputs": [],
   "source": [
    "states, GINI = [], []\n",
    "\n",
    "for row in right_table.findAll('tr'):\n",
    "    \n",
    "    cells = row.findAll('td')\n",
    "    \n",
    "\n",
    "    if len(cells) == 0:\n",
    "        continue\n",
    "    \n",
    "    states.append(cells[1].find(text=True))\n",
    "    GINI.append(cells[2].find(text=True))\n",
    "\n",
    "assert len(states) == 52\n",
    "assert len(GINI) == 52"
   ]
  },
  {
   "cell_type": "markdown",
   "metadata": {},
   "source": [
    "Data entries for the US overall and the District of Columbia had to be dropped."
   ]
  },
  {
   "cell_type": "code",
   "execution_count": null,
   "metadata": {
    "colab": {},
    "colab_type": "code",
    "id": "TBLUTNzsD-fx",
    "outputId": "651b2210-3206-4cd7-b146-97b42190bee7"
   },
   "outputs": [],
   "source": [
    "GINI_df = pd.DataFrame(list(zip(states, GINI)), \n",
    "            columns = ['State', 'GINI'])\n",
    "\n",
    "GINI_df.set_index('State', inplace=True)\n",
    "GINI_df = GINI_df.drop(['The United States Of America', 'District of Columbia'])\n",
    "\n",
    "assert GINI_df.size == 50\n",
    "GINI_df.head()"
   ]
  },
  {
   "cell_type": "markdown",
   "metadata": {},
   "source": [
    "1 - GINI was used since GINI is between 0 and 1, with 0 being perfectly equal income and 1 being unequal. This way we can simply add the result without worrying about the sign."
   ]
  },
  {
   "cell_type": "code",
   "execution_count": null,
   "metadata": {
    "colab": {},
    "colab_type": "code",
    "id": "hwZ1KfLZD-f3",
    "outputId": "ec63cba8-2c18-43ba-e4f5-2516cb2a70a1",
    "scrolled": true
   },
   "outputs": [],
   "source": [
    "df = pd.merge(df, GINI_df, on='State', how='inner')\n",
    "df['GINI'] = 1 - df['GINI'].astype(float)\n",
    "df.head()"
   ]
  },
  {
   "cell_type": "markdown",
   "metadata": {
    "colab_type": "text",
    "id": "fwH7Nd8GD-f6"
   },
   "source": [
    "End of Web Scraping and Data Collection."
   ]
  },
  {
   "cell_type": "markdown",
   "metadata": {
    "colab_type": "text",
    "id": "U9I14r_oD-f6"
   },
   "source": [
    "## Data Visualization and Exploratory Data Analysis (EDA)"
   ]
  },
  {
   "cell_type": "markdown",
   "metadata": {
    "colab_type": "text",
    "id": "L_fXT4YTD-f6"
   },
   "source": [
    "### Histograms to study the near-normality of the distribution of variables\n",
    "\n",
    "Scipy's \"describe\" was used for a summary of main statistical measurements."
   ]
  },
  {
   "cell_type": "markdown",
   "metadata": {},
   "source": [
    "The Happy states Index is essentially unimodal and near-normally distributed."
   ]
  },
  {
   "cell_type": "code",
   "execution_count": null,
   "metadata": {
    "colab": {},
    "colab_type": "code",
    "id": "AHdAq7YLD-f6",
    "outputId": "82962560-62c7-4ac9-8afb-28e56b460634"
   },
   "outputs": [],
   "source": [
    "sns.distplot(df['Happy State Index'])\n",
    "plt.show()\n",
    "stats.describe(df['Happy State Index'])"
   ]
  },
  {
   "cell_type": "markdown",
   "metadata": {},
   "source": [
    "GDP is also near-normal, with "
   ]
  },
  {
   "cell_type": "code",
   "execution_count": null,
   "metadata": {
    "colab": {},
    "colab_type": "code",
    "id": "PWHyIpI1D-f8",
    "outputId": "88831479-72da-4f78-a012-ce0de66c6fb5"
   },
   "outputs": [],
   "source": [
    "sns.distplot(df['GDP 2018'])\n",
    "stats.describe(df['GDP 2018'])"
   ]
  },
  {
   "cell_type": "code",
   "execution_count": null,
   "metadata": {
    "colab": {},
    "colab_type": "code",
    "id": "hJWxsbYlD-f-",
    "outputId": "2cd7c478-a8e7-4d1e-9792-7a1cb94df236"
   },
   "outputs": [],
   "source": [
    "sns.distplot(df['Life Expectancy'])\n",
    "stats.describe(df['Life Expectancy'])"
   ]
  },
  {
   "cell_type": "code",
   "execution_count": null,
   "metadata": {
    "colab": {},
    "colab_type": "code",
    "id": "y6pxn5HFD-f_",
    "outputId": "438db62b-186e-489d-afc9-2e30b60db19e",
    "scrolled": true
   },
   "outputs": [],
   "source": [
    "sns.distplot(df['Employment'])\n",
    "stats.describe(df['Employment'])"
   ]
  },
  {
   "cell_type": "code",
   "execution_count": null,
   "metadata": {
    "colab": {},
    "colab_type": "code",
    "id": "Aj4RCASjD-gA",
    "outputId": "d6f9b59a-e415-4fb3-ee9b-272ee62372b2",
    "scrolled": true
   },
   "outputs": [],
   "source": [
    "sns.distplot(df['Social Progress Index'])\n",
    "stats.describe(df['Social Progress Index'])"
   ]
  },
  {
   "cell_type": "code",
   "execution_count": null,
   "metadata": {
    "colab": {},
    "colab_type": "code",
    "id": "b8eR5PuxD-gC",
    "outputId": "af97bafe-f710-4a2a-a17d-800dc7997759"
   },
   "outputs": [],
   "source": [
    "sns.distplot(df['GINI'])\n",
    "stats.describe(df['GINI'])"
   ]
  },
  {
   "cell_type": "markdown",
   "metadata": {
    "colab_type": "text",
    "id": "TUknQuGsD-gE"
   },
   "source": [
    "### Barplot for the Happy State Index\n",
    "\n",
    "This shows the gradual near-linear decrease oh happiness in the US (as per the Happy State Index)."
   ]
  },
  {
   "cell_type": "code",
   "execution_count": null,
   "metadata": {
    "colab": {},
    "colab_type": "code",
    "id": "ZUP2vALqD-gE",
    "outputId": "877e1bb4-72dc-4711-e214-0d074a9f00bf",
    "scrolled": false
   },
   "outputs": [],
   "source": [
    "plt.figure(figsize=(16, 6))\n",
    "plt.bar(x=df['State'], height=df['Happy State Index'], width=0.8)\n",
    "plt.title('Happy State Index')\n",
    "plt.xticks(df['State'], rotation=90)\n",
    "\n",
    "plt.show()"
   ]
  },
  {
   "cell_type": "markdown",
   "metadata": {
    "colab_type": "text",
    "id": "41Dp6hWoD-gI"
   },
   "source": [
    "### Choropleth plots to capture the geospatial relationships between variables\n",
    "\n",
    "Choropleth maps were appropriate this the data is predominantely geospatial. The colors were used to represent high intensity in red and low in blue, as for a basic heatmap. Plotly was chosen due to their friendly UI and ability to interact with the plots."
   ]
  },
  {
   "cell_type": "markdown",
   "metadata": {
    "colab_type": "text",
    "id": "4pB28Y7sD-gI"
   },
   "source": [
    "Choropleth map tutorial from https://plot.ly/python/choropleth-maps/?utm_source=mailchimp-jan-2015&utm_medium=email&utm_campaign=generalemail-jan2015&utm_term=chloropleth-maps"
   ]
  },
  {
   "cell_type": "code",
   "execution_count": null,
   "metadata": {
    "colab": {},
    "colab_type": "code",
    "id": "okvw3V7sD-gI",
    "outputId": "7586f304-af88-4b95-9561-af96b01a4a08"
   },
   "outputs": [],
   "source": [
    "data = [go.Choropleth(\n",
    "    colorscale = 'RdBu',\n",
    "    locations = df['Code'],\n",
    "    z = df['Happy State Index'].astype(float),\n",
    "    locationmode = 'USA-states',\n",
    "    marker = go.choropleth.Marker(\n",
    "        line = go.choropleth.marker.Line(\n",
    "            color = 'rgb(255,255,255)',\n",
    "            width = 2\n",
    "        )),\n",
    "    colorbar = go.choropleth.ColorBar(\n",
    "        title = \"0-100\")\n",
    ")]\n",
    "\n",
    "layout = go.Layout(\n",
    "    title = go.layout.Title(\n",
    "        text = 'Happy State Index by State<br>(Hover for breakdown)'\n",
    "    ),\n",
    "    geo = go.layout.Geo(\n",
    "        scope = 'usa',\n",
    "        projection = go.layout.geo.Projection(type = 'albers usa'),\n",
    "        showlakes = False),\n",
    ")\n",
    "\n",
    "fig = go.Figure(data=data, layout=layout)\n",
    "iplot(fig)"
   ]
  },
  {
   "cell_type": "code",
   "execution_count": null,
   "metadata": {
    "colab": {},
    "colab_type": "code",
    "id": "jkPfUKx4D-gK",
    "outputId": "f8b62f28-a1a3-4488-cce2-6e4f1fc69305"
   },
   "outputs": [],
   "source": [
    "data = [go.Choropleth(\n",
    "    colorscale = 'RdBu',\n",
    "    locations = df['Code'],\n",
    "    z = df['GDP 2018'].astype(float),\n",
    "    locationmode = 'USA-states',\n",
    "    marker = go.choropleth.Marker(\n",
    "        line = go.choropleth.marker.Line(\n",
    "            color = 'rgb(255,255,255)',\n",
    "            width = 2\n",
    "        )),\n",
    "    colorbar = go.choropleth.ColorBar(\n",
    "        title = \"Thousands USD\")\n",
    ")]\n",
    "\n",
    "layout = go.Layout(\n",
    "    title = go.layout.Title(\n",
    "        text = 'GDP per capita 2018 by State<br>(Hover for breakdown)'\n",
    "    ),\n",
    "    geo = go.layout.Geo(\n",
    "        scope = 'usa',\n",
    "        projection = go.layout.geo.Projection(type = 'albers usa'),\n",
    "        showlakes = False),\n",
    ")\n",
    "\n",
    "fig = go.Figure(data=data, layout=layout)\n",
    "iplot(fig)"
   ]
  },
  {
   "cell_type": "code",
   "execution_count": null,
   "metadata": {
    "colab": {},
    "colab_type": "code",
    "id": "ZN-W_1fjD-gL",
    "outputId": "be122e6d-5531-4853-d6bd-275b98a87f25"
   },
   "outputs": [],
   "source": [
    "data = [go.Choropleth(\n",
    "    colorscale = 'RdBu',\n",
    "    locations = df['Code'],\n",
    "    z = df['Life Expectancy'].astype(float),\n",
    "    locationmode = 'USA-states',\n",
    "    marker = go.choropleth.Marker(\n",
    "        line = go.choropleth.marker.Line(\n",
    "            color = 'rgb(255,255,255)',\n",
    "            width = 2\n",
    "        )),\n",
    "    colorbar = go.choropleth.ColorBar(\n",
    "        title = \"Years\")\n",
    ")]\n",
    "\n",
    "layout = go.Layout(\n",
    "    title = go.layout.Title(\n",
    "        text = 'Life Expectancy by State<br>(Hover for breakdown)'\n",
    "    ),\n",
    "    geo = go.layout.Geo(\n",
    "        scope = 'usa',\n",
    "        projection = go.layout.geo.Projection(type = 'albers usa'),\n",
    "        showlakes = False),\n",
    ")\n",
    "\n",
    "fig = go.Figure(data=data, layout=layout)\n",
    "iplot(fig)"
   ]
  },
  {
   "cell_type": "code",
   "execution_count": null,
   "metadata": {
    "colab": {},
    "colab_type": "code",
    "id": "th6UBm8DD-gN",
    "outputId": "91c7c14b-cf28-4287-bb99-02882c86f311",
    "scrolled": false
   },
   "outputs": [],
   "source": [
    "data = [go.Choropleth(\n",
    "    colorscale = 'RdBu',\n",
    "    locations = df['Code'],\n",
    "    z = df['Employment'].astype(float),\n",
    "    locationmode = 'USA-states',\n",
    "    marker = go.choropleth.Marker(\n",
    "        line = go.choropleth.marker.Line(\n",
    "            color = 'rgb(255,255,255)',\n",
    "            width = 2\n",
    "        )),\n",
    "    colorbar = go.choropleth.ColorBar(\n",
    "        title = \"%\")\n",
    ")]\n",
    "\n",
    "layout = go.Layout(\n",
    "    title = go.layout.Title(\n",
    "        text = 'Employment % by State<br>(Hover for breakdown)'\n",
    "    ),\n",
    "    geo = go.layout.Geo(\n",
    "        scope = 'usa',\n",
    "        projection = go.layout.geo.Projection(type = 'albers usa'),\n",
    "        showlakes = False),\n",
    ")\n",
    "\n",
    "fig = go.Figure(data=data, layout=layout)\n",
    "iplot(fig)"
   ]
  },
  {
   "cell_type": "code",
   "execution_count": null,
   "metadata": {
    "colab": {},
    "colab_type": "code",
    "id": "rBx4JzazD-gO",
    "outputId": "c3cfeb37-fe0a-4c96-feb8-3488ed8bbc13"
   },
   "outputs": [],
   "source": [
    "data = [go.Choropleth(\n",
    "    colorscale = 'RdBu',\n",
    "    locations = df['Code'],\n",
    "    z = df['Social Progress Index'].astype(float),\n",
    "    locationmode = 'USA-states',\n",
    "    marker = go.choropleth.Marker(\n",
    "        line = go.choropleth.marker.Line(\n",
    "            color = 'rgb(255,255,255)',\n",
    "            width = 2\n",
    "        )),\n",
    "    colorbar = go.choropleth.ColorBar(\n",
    "        title = \"0-100\")\n",
    ")]\n",
    "\n",
    "layout = go.Layout(\n",
    "    title = go.layout.Title(\n",
    "        text = 'Social Progress Index by State<br>(Hover for breakdown)'\n",
    "    ),\n",
    "    geo = go.layout.Geo(\n",
    "        scope = 'usa',\n",
    "        projection = go.layout.geo.Projection(type = 'albers usa'),\n",
    "        showlakes = False),\n",
    ")\n",
    "\n",
    "fig = go.Figure(data=data, layout=layout)\n",
    "iplot(fig)"
   ]
  },
  {
   "cell_type": "code",
   "execution_count": null,
   "metadata": {
    "colab": {},
    "colab_type": "code",
    "id": "aB55gf5aD-gQ",
    "outputId": "de0386ab-def2-40f7-bd48-3c16e53b77c7"
   },
   "outputs": [],
   "source": [
    "data = [go.Choropleth(\n",
    "    colorscale = 'RdBu',\n",
    "    locations = df['Code'],\n",
    "    z = df['GINI'].astype(float),\n",
    "    locationmode = 'USA-states',\n",
    "    marker = go.choropleth.Marker(\n",
    "        line = go.choropleth.marker.Line(\n",
    "            color = 'rgb(255,255,255)',\n",
    "            width = 2\n",
    "        )),\n",
    "    colorbar = go.choropleth.ColorBar(\n",
    "        title = \"0-1\")\n",
    ")]\n",
    "\n",
    "layout = go.Layout(\n",
    "    title = go.layout.Title(\n",
    "        text = 'GINI Coefficient by State<br>(Hover for breakdown)'\n",
    "    ),\n",
    "    geo = go.layout.Geo(\n",
    "        scope = 'usa',\n",
    "        projection = go.layout.geo.Projection(type = 'albers usa'),\n",
    "        showlakes = False),\n",
    ")\n",
    "\n",
    "fig = go.Figure(data=data, layout=layout)\n",
    "iplot(fig)"
   ]
  },
  {
   "cell_type": "markdown",
   "metadata": {
    "colab_type": "text",
    "id": "4GkAxwAQD-gS"
   },
   "source": [
    "## Linear Regression to determine coefficients for each variable\n",
    "\n",
    "Simple linear regression models were used in order to determine the r^2 value in each category. A summative interpretation will be offered in a later section."
   ]
  },
  {
   "cell_type": "code",
   "execution_count": null,
   "metadata": {
    "colab": {},
    "colab_type": "code",
    "id": "6TTshFNND-gS",
    "outputId": "22e8f360-936e-4dac-9c2b-51dd8d0e06db",
    "scrolled": true
   },
   "outputs": [],
   "source": [
    "plt.scatter(df['GDP 2018'], df['Happy State Index'])\n",
    "plt.title('GDP 2018 vs Happy State Index')\n",
    "plt.ylabel('Happy State Index (0-100)')\n",
    "plt.xlabel('GDP per capita in $1000 (2018)')\n",
    "\n",
    "X = np.array(df['GDP 2018']).reshape((-1, 1))\n",
    "y = df['Happy State Index']\n",
    "\n",
    "model = LinearRegression().fit(X, y)\n",
    "r_sq_gdp = model.score(X, y)\n",
    "print(round(r_sq_gdp, 3))\n",
    "\n",
    "y_pred = model.predict(X)\n",
    "plt.plot(X, y_pred, color='red', linewidth=0.5)\n",
    "\n",
    "plt.show()"
   ]
  },
  {
   "cell_type": "code",
   "execution_count": null,
   "metadata": {
    "colab": {},
    "colab_type": "code",
    "id": "hQCyBmD3D-gV",
    "outputId": "10d899a2-7d1d-4f8a-c333-9c2a9a74753c",
    "scrolled": true
   },
   "outputs": [],
   "source": [
    "plt.scatter(df['Life Expectancy'], df['Happy State Index'])\n",
    "plt.title('Life Expectancy vs Happy State Index')\n",
    "plt.ylabel('Happy State Index (0-100)')\n",
    "plt.xlabel('Life Expectancy (years)')\n",
    "\n",
    "\n",
    "X = np.array(df['Life Expectancy']).reshape((-1, 1))\n",
    "y = df['Happy State Index']\n",
    "\n",
    "model = LinearRegression().fit(X, y)\n",
    "\n",
    "r_sq_le = model.score(X, y)\n",
    "print(round(r_sq_le, 3))\n",
    "\n",
    "y_pred = model.predict(X)\n",
    "plt.plot(X, y_pred, color='red', linewidth=0.5)\n",
    "\n",
    "plt.show()"
   ]
  },
  {
   "cell_type": "code",
   "execution_count": null,
   "metadata": {
    "colab": {},
    "colab_type": "code",
    "id": "nbgMdZqPD-gX",
    "outputId": "5a1c79d5-508f-4188-f6cd-8f8583ea83bc",
    "scrolled": true
   },
   "outputs": [],
   "source": [
    "plt.scatter(df['Employment'], df['Happy State Index'])\n",
    "plt.title('Employment vs Happy State Index')\n",
    "plt.ylabel('Happy State Index (0-100)')\n",
    "plt.xlabel('Employment Rate (%)')\n",
    "\n",
    "X = np.array(df['Employment']).reshape((-1, 1))\n",
    "y = df['Happy State Index']\n",
    "\n",
    "model = LinearRegression().fit(X, y)\n",
    "r_sq_emp = model.score(X, y)\n",
    "print(round(r_sq_emp, 3))\n",
    "\n",
    "y_pred = model.predict(X)\n",
    "plt.plot(X, y_pred, color='red', linewidth=0.5)\n",
    "\n",
    "plt.show()"
   ]
  },
  {
   "cell_type": "code",
   "execution_count": null,
   "metadata": {
    "colab": {},
    "colab_type": "code",
    "id": "Y9wbJvBWD-ga",
    "outputId": "2a56a9bc-10d5-4819-ffae-048e69ea5beb"
   },
   "outputs": [],
   "source": [
    "plt.scatter(df['Social Progress Index'], df['Happy State Index'])\n",
    "plt.title('Social Progress Index vs Happy State Index')\n",
    "plt.ylabel('Happy State Index (0-100)')\n",
    "plt.xlabel('Social Progress Index (0-100)')\n",
    "\n",
    "X = np.array(df['Social Progress Index']).reshape((-1, 1))\n",
    "y = df['Happy State Index']\n",
    "\n",
    "model = LinearRegression().fit(X, y)\n",
    "r_sq_soc = model.score(X, y)\n",
    "print(round(r_sq_soc, 3))\n",
    "\n",
    "y_pred = model.predict(X)\n",
    "plt.plot(X, y_pred, color='red', linewidth=0.5)\n",
    "\n",
    "plt.show()"
   ]
  },
  {
   "cell_type": "code",
   "execution_count": null,
   "metadata": {
    "colab": {},
    "colab_type": "code",
    "id": "FuORPXfoD-gc",
    "outputId": "820c36ad-8d76-44e5-c95e-84a613d960e6"
   },
   "outputs": [],
   "source": [
    "plt.scatter(df['GINI'], df['Happy State Index'])\n",
    "plt.title('Gini Coefficient vs Happy State Index')\n",
    "plt.ylabel('Happy State Index (0-100)')\n",
    "plt.xlabel('Gini Coefficient (0-1)')\n",
    "\n",
    "X = np.array(df['GINI']).reshape((-1, 1))\n",
    "y = df['Happy State Index']\n",
    "\n",
    "model = LinearRegression().fit(X, y)\n",
    "r_sq_gini = model.score(X, y)\n",
    "print(round(r_sq_gini, 3))\n",
    "\n",
    "y_pred = model.predict(X)\n",
    "plt.plot(X, y_pred, color='red', linewidth=1.5)\n",
    "\n",
    "plt.show()"
   ]
  },
  {
   "cell_type": "code",
   "execution_count": null,
   "metadata": {
    "colab": {},
    "colab_type": "code",
    "id": "zmMkrsswD-gd"
   },
   "outputs": [],
   "source": [
    "coef = [r_sq_gdp, r_sq_le, r_sq_emp, r_sq_soc, r_sq_gini]"
   ]
  },
  {
   "cell_type": "markdown",
   "metadata": {},
   "source": [
    "The most strongly correlated category was Life Expectancy, which makes sense intuitively, since it is often considered conventional wisdom that a happy life is a long life."
   ]
  },
  {
   "cell_type": "code",
   "execution_count": null,
   "metadata": {
    "colab": {},
    "colab_type": "code",
    "id": "vJCEM-VuD-ge",
    "outputId": "6b563747-3acd-468a-bb31-7385fec07523"
   },
   "outputs": [],
   "source": [
    "coef"
   ]
  },
  {
   "cell_type": "markdown",
   "metadata": {},
   "source": [
    "The coefficients were normalized."
   ]
  },
  {
   "cell_type": "code",
   "execution_count": null,
   "metadata": {
    "colab": {},
    "colab_type": "code",
    "id": "yjjgt1wxD-gf"
   },
   "outputs": [],
   "source": [
    "norm = [x / sum(coef) for x in coef]"
   ]
  },
  {
   "cell_type": "code",
   "execution_count": null,
   "metadata": {
    "colab": {},
    "colab_type": "code",
    "id": "1FBWlpqFD-gg",
    "outputId": "108865c6-07e1-4ac7-d505-1c0f7550aec5"
   },
   "outputs": [],
   "source": [
    "norm"
   ]
  },
  {
   "cell_type": "markdown",
   "metadata": {},
   "source": [
    "A vertical barplot was used to look at the r^2 values of each parameter. Life expectancy was the most correlated, followed by social progress, then employment, GDP and GINI."
   ]
  },
  {
   "cell_type": "code",
   "execution_count": null,
   "metadata": {
    "colab": {},
    "colab_type": "code",
    "id": "_LfCLdn4D-gk",
    "outputId": "8d72c876-c1f1-4952-a323-2bd7ac4d6e32"
   },
   "outputs": [],
   "source": [
    "labels =['GDP 2018', 'Life Expectancy', 'Employment', 'Social Progress', 'Gini']\n",
    "plt.figure(figsize=(10, 5))\n",
    "plt.bar(x=labels, height=norm, width=0.8)\n",
    "plt.title('Weights of each Category')\n",
    "plt.xticks(labels, labels, rotation=30)\n",
    "\n",
    "plt.show()"
   ]
  },
  {
   "cell_type": "markdown",
   "metadata": {},
   "source": [
    "Below we see a correlation matrix, we can see that life expectancy correlates the most with HSI (the reasons were explained above)."
   ]
  },
  {
   "cell_type": "code",
   "execution_count": null,
   "metadata": {
    "colab": {},
    "colab_type": "code",
    "id": "GaZqmHb2D-gm",
    "outputId": "43e0bfb4-55fc-439e-ace1-96d32079f607"
   },
   "outputs": [],
   "source": [
    "df.corr()"
   ]
  },
  {
   "cell_type": "code",
   "execution_count": null,
   "metadata": {
    "colab": {},
    "colab_type": "code",
    "id": "bvT5qOKgD-go",
    "outputId": "e671e67f-14a1-469f-88cd-641f79d07f00"
   },
   "outputs": [],
   "source": [
    "df.head()"
   ]
  },
  {
   "cell_type": "markdown",
   "metadata": {},
   "source": [
    "Each parameter was normalize onto a scale 0-100 in order for the final index to be scaled appropriately."
   ]
  },
  {
   "cell_type": "code",
   "execution_count": null,
   "metadata": {
    "colab": {},
    "colab_type": "code",
    "id": "OYWkLzrLD-gs"
   },
   "outputs": [],
   "source": [
    "for param in df.columns[3:8]:\n",
    "    col_name = param + ' Norm' # add \"Norm\" for normalized\n",
    "    df[col_name] = ( df[param] - min(df[param]) ) / ( max(df[param]) - min(df[param]) ) * 100\n",
    "    "
   ]
  },
  {
   "cell_type": "code",
   "execution_count": null,
   "metadata": {
    "colab": {},
    "colab_type": "code",
    "id": "SCCPA7PND-gu",
    "outputId": "55124375-2b77-43e0-a8ea-6beb2d8070c3"
   },
   "outputs": [],
   "source": [
    "df.head()"
   ]
  },
  {
   "cell_type": "markdown",
   "metadata": {},
   "source": [
    "### Our_Index = A * GDP + B * Life_Expectancy + C * Employment + D * Social_Progress + E * Gini_Coefficient"
   ]
  },
  {
   "cell_type": "code",
   "execution_count": null,
   "metadata": {
    "colab": {},
    "colab_type": "code",
    "id": "mSfMtLV7D-gy"
   },
   "outputs": [],
   "source": [
    "df['Our Index'] = df['GDP 2018 Norm'] * norm[0] + df['Life Expectancy Norm'] * norm[1] + df['Employment Norm'] * norm[2] + \\\n",
    "              df['Social Progress Index Norm'] * norm[3] + df['GINI Norm'] * norm[4]"
   ]
  },
  {
   "cell_type": "code",
   "execution_count": null,
   "metadata": {
    "colab": {},
    "colab_type": "code",
    "id": "qb0uHt4cD-gz",
    "outputId": "f408091b-d9b9-40ac-9464-03663110a2df"
   },
   "outputs": [],
   "source": [
    "df.head()"
   ]
  },
  {
   "cell_type": "code",
   "execution_count": null,
   "metadata": {
    "colab": {},
    "colab_type": "code",
    "id": "UqvUSzydD-g1",
    "outputId": "03daee01-8127-4696-abb2-51d18b20f20e"
   },
   "outputs": [],
   "source": [
    "plt.scatter(df['Our Index'], df['Happy State Index'])\n",
    "plt.title('Our Index vs Happy State Index')\n",
    "plt.ylabel('Happy State Index (0-100)')\n",
    "plt.xlabel('Our Index (0-100)')\n",
    "\n",
    "X = np.array(df['Our Index']).reshape((-1, 1))\n",
    "y = df['Happy State Index']\n",
    "\n",
    "model = LinearRegression().fit(X, y)\n",
    "r_sq_gini = model.score(X, y)\n",
    "print(round(r_sq_gini, 3))\n",
    "\n",
    "y_pred = model.predict(X)\n",
    "plt.plot(X, y_pred, color='red', linewidth=1.5)\n",
    "\n",
    "plt.show()"
   ]
  },
  {
   "cell_type": "markdown",
   "metadata": {},
   "source": [
    "The result is r^2, this represents the correlation between Our Index and the Happy State Index which was used as a benchmark. 0.65 can be called \"moderately correlated\", although < 0.75."
   ]
  },
  {
   "cell_type": "code",
   "execution_count": null,
   "metadata": {
    "colab": {},
    "colab_type": "code",
    "id": "yQBrbcQeD-g6",
    "outputId": "8b50acbc-2e58-44bc-8650-bc495909ab67"
   },
   "outputs": [],
   "source": [
    "plt.scatter(df['Our Index'], df['Happy State Index'])\n",
    "plt.title('Our Index vs Happy State Index')\n",
    "plt.ylabel('Happy State Index (0-100)')\n",
    "plt.xlabel('Uniform Index (0-100)')\n",
    "\n",
    "X = np.array(df['Our Index']).reshape((-1, 1))\n",
    "y = df['Happy State Index']\n",
    "\n",
    "model = LinearRegression().fit(X, y)\n",
    "r_sq_gini = model.score(X, y)\n",
    "print(round(r_sq_gini, 3))\n",
    "\n",
    "y_pred = model.predict(X)\n",
    "plt.plot(X, y_pred, color='red', linewidth=1.5)\n",
    "\n",
    "plt.show()"
   ]
  },
  {
   "cell_type": "markdown",
   "metadata": {},
   "source": [
    "Columns had to be renamed without whitespaces for OLS model fitting."
   ]
  },
  {
   "cell_type": "code",
   "execution_count": null,
   "metadata": {
    "colab": {},
    "colab_type": "code",
    "id": "BS1_zDWXD-g8"
   },
   "outputs": [],
   "source": [
    "df = df.rename(columns={'Happy State Index': 'HSI', 'Our Index': 'OI'})"
   ]
  },
  {
   "cell_type": "code",
   "execution_count": null,
   "metadata": {
    "colab": {},
    "colab_type": "code",
    "id": "Eq-E4ssiD-g9",
    "outputId": "3d39164e-8f79-41bb-8596-a413ca056164"
   },
   "outputs": [],
   "source": [
    "df.head()"
   ]
  },
  {
   "cell_type": "code",
   "execution_count": null,
   "metadata": {
    "colab": {},
    "colab_type": "code",
    "id": "6bo9mbYXD-g-"
   },
   "outputs": [],
   "source": [
    "outcome, predictors = patsy.dmatrices('HSI ~ OI', df)"
   ]
  },
  {
   "cell_type": "code",
   "execution_count": null,
   "metadata": {
    "colab": {},
    "colab_type": "code",
    "id": "mCmrAcOfD-g_"
   },
   "outputs": [],
   "source": [
    "OLS_model = sm.OLS(outcome, predictors)"
   ]
  },
  {
   "cell_type": "markdown",
   "metadata": {},
   "source": [
    "Below is a summary of the Ordinary Least Squares model, the most useful statistic is the r^2 value in the upper right corner. \n",
    "\n",
    "### R^2 = 0.654"
   ]
  },
  {
   "cell_type": "code",
   "execution_count": null,
   "metadata": {
    "colab": {},
    "colab_type": "code",
    "id": "hfZ_8qbXD-g_",
    "scrolled": true
   },
   "outputs": [],
   "source": [
    "res = OLS_model.fit()\n",
    "print(res.summary())"
   ]
  },
  {
   "cell_type": "markdown",
   "metadata": {},
   "source": [
    "This concludes the data analysis section. As seen above, we have to reject our hypothesis. A more thorough explanation of the implications of this will be provided in the conclusion section below. "
   ]
  },
  {
   "cell_type": "markdown",
   "metadata": {
    "colab_type": "text",
    "id": "nG7GuPYfIJ-X"
   },
   "source": [
    "# Ethics & Privacy"
   ]
  },
  {
   "cell_type": "markdown",
   "metadata": {
    "colab_type": "text",
    "id": "psoy1OXRIRxd"
   },
   "source": [
    "Ethical Considerations:\n",
    "-\tWhether any information that can identify a person is in our data, keep everything anonymous.\n",
    "-\tData, unless publicly available, will only be obtained with owners’ consent.\n",
    "-\tData collected will be analyzed for author biases.\n",
    "-\tThe research will be carried out in a manner that does not cause any undue harm to anyone.\n",
    "-\tThe process and/or findings of the present research will not sere to propagate bias against any individual, or group.\n",
    "-\tAnalysis will be conducted in a manner that symbolizes pure honesty and ensures data anonymity. \n",
    "-\tAnalysis will be documented well enough to be reproduceable in future events.\n",
    "-\tMetric Selection will be charged thoughtfully eliminating personal bias toward the selections.\n",
    "-\tExplanation of models features, and justifications will be understandable and clear.\n",
    "\n",
    "With these bullet points in mind; our team designed a way to minimize selection-bias from each of us by brainstorming dozens of ideas in regard to supporting our hypothesis, and placing them in a random-selection tool. Before picking the variables, we were to research on, each of our team mates had to agree that each variable was equally valid and weighted the same conceptual importance before searching for the datasets. \n",
    "\n",
    "After picking a few randomized variable concepts relating to our hypothesis; we began our search for datasets and found sets that did not include any personal information. Beyond this, we checked the sources of each dataset to make sure that the pieces of data could not reverse-engineer the location or personal information of any individual or group of individuals. \n",
    "With these data sets free of personal-information we then checked for author biases and tried to use data sets that were open-sourced and were being constantly monitored by the site-publishers artificial-intelligence. Although it is not a real AI, these AI sentries provide diligent and usually an un-bias security in regard to defending data-sets from malicious or false alterations. \n",
    "\n",
    "After cleaning up the data sets, we ambitiously tried to implement security measures to mitigate against unwanted users from altering the Jupyter Notebook. Unfortunately, it ended up not being as secured as we would have hoped, causing us to scrap our efforts in providing security for the code. With that said, the models generated have no personal data and the features are rendered from imported Python Modules. This means that, if a user were to alter the code; they would still be subject to using the public module-functions in order to hide un-desired alterations to our models. \n",
    "For the metric selection, since we had randomly chosen the data sets from equally weighted concepts, we already ensured that the metric selection did no contain biases from our team mates. Although we selected the columns to include, it was to ensure the relevancy to answering our hypothesis.\n",
    "\n",
    "Lastly, in our explanation of the models, we each re-read the explanations which provided multi-feedback loops to ensure that we weren’t targeting any individual or group with the features described in our models. By having a system of checks, we did our best to ensure the privacy of individuals was safe and that the models generated from our analysis were not to harm any individual nor group.\n",
    " \n",
    "After completion of this hypothesis, we discussed possible un-predictable harms that might arise from our models. The only one that came to our minds would be hurt feelings from the states that ranked lower on our “Happy State Index”.\n"
   ]
  },
  {
   "cell_type": "markdown",
   "metadata": {
    "colab_type": "text",
    "id": "atFTbeKpIR6c"
   },
   "source": [
    "# Conclusion & Discussion"
   ]
  },
  {
   "cell_type": "markdown",
   "metadata": {
    "colab_type": "text",
    "id": "UPbzl59lIZge"
   },
   "source": [
    "Our attempt to devise a Happiness Index of our own, produced by metrics such as GDP per capita, life expectancy, employment, social progress and Gini coefficient, reasonably encompasses a wide range of socio-economic that may ‘define’ happiness across the 50 states. \n",
    "\n",
    "By conducting a number of linear regressions on each metric with the Happy State Index data, we were able to ascertain the extent to which each metric affects the overall score. These R-squared values were taken as ‘weights’ that led to the creation of our own happiness index formula. Later, as per our hypothesis, we conducted a regression of the newly devised happiness index with the Happy State Index to see how closely their respective values matched for each state. \n",
    "\n",
    "Eventually, an R-squared value of 0.65 wasn’t too short of the hypothesized value of 0.75, and hence doesn’t really discredit the utility of our own index. This leads us to believe that our attempts to quantify happiness using our own metrics gave us a reasonably close value to the one used to calculate the Happy State Index yet leaving room for improvement to consider more variables that can lead to a more nuanced definition of happiness.   "
   ]
  }
 ],
 "metadata": {
  "colab": {
   "collapsed_sections": [
    "d06785_2D-fo",
    "U9I14r_oD-f6",
    "L_fXT4YTD-f6",
    "TUknQuGsD-gE",
    "41Dp6hWoD-gI",
    "4GkAxwAQD-gS"
   ],
   "name": "Final-Code.ipynb",
   "provenance": [],
   "version": "0.3.2"
  },
  "kernelspec": {
   "display_name": "Python 3",
   "language": "python",
   "name": "python3"
  },
  "language_info": {
   "codemirror_mode": {
    "name": "ipython",
    "version": 3
   },
   "file_extension": ".py",
   "mimetype": "text/x-python",
   "name": "python",
   "nbconvert_exporter": "python",
   "pygments_lexer": "ipython3",
   "version": "3.7.3"
  }
 },
 "nbformat": 4,
 "nbformat_minor": 1
}
