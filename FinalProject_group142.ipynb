{
 "cells": [
  {
   "cell_type": "markdown",
   "metadata": {},
   "source": [
    "# Final Project\n",
    "\n",
    "### Jinchen Zou\n",
    "### Jonathan Ho\n",
    "### Nathan Chau\n",
    "### Shaival Divatia"
   ]
  },
  {
   "cell_type": "markdown",
   "metadata": {},
   "source": [
    "## Introduction and Background"
   ]
  },
  {
   "cell_type": "markdown",
   "metadata": {},
   "source": [
    "Basketball is one of the most popular sports in the United States and is filled with passionate fans who care about their teams. Paired together with a very well known social media platform Twitter, these fans can express how they feel about their favorite players and the players they wish to see lose. We wanted to find out what fans thought about cerain basketball players, but we also wanted to know how these people's general opinions changed as they won or lost their games.\n",
    "\n",
    "We will create our own dataset by pulling tweets from twitter. We found a previous project that asked if an NBA player’s performance in All Star voting could be predicted based on twitter sentiment. For each player they recorded, they counted the player’s number of tweets and the ratio of positive tweets. Results indicated that there was a positive correlation between a player’s number of related tweets and their number of All Star votes. Adding a sentiment value weight to the tweets increased prediction accuracy. (https://link.springer.com/content/pdf/10.1007%2F978-3-319-01796-9_20.pdf)\n",
    "\n",
    "\n",
    "We will be analyzing the sentinment of hundreds of tweets about Kevin Durant and Giannis Antetokounmpo. We will then compare the sentiment value of these tweets to their basketball game wins and losses. Fans generally have mixed feelings about Durant, and we expect this to be reflected in the sentiment value of his tweets. Many fans dislike Durant and the Warriors, so his sentiment value might be low even when they win. Antetokounmpo is generally liked by fans, and performs well in both wins and losses. We expect that his sentiment value will generally be high. \n"
   ]
  },
  {
   "cell_type": "markdown",
   "metadata": {},
   "source": [
    "## Question and Hypothesis\n",
    "\n",
    "What is twitter’s overall sentiment about Kevin Durant and Giannis Antetokounmpo on days where their team wins vs days where their team loses? \n",
    "\n",
    "Expected Answer: The trend that we would expect to observe is that on days where the player’s team wins, the sentiment should be high (positive) and on days where their team loses the sentiment should be lower (negative).\n"
   ]
  },
  {
   "cell_type": "code",
   "execution_count": 1,
   "metadata": {},
   "outputs": [
    {
     "name": "stdout",
     "output_type": "stream",
     "text": [
      "\u001b[33mThe directory '/home/jovyan/.cache/pip/http' or its parent directory is not owned by the current user and the cache has been disabled. Please check the permissions and owner of that directory. If executing pip with sudo, you may want sudo's -H flag.\u001b[0m\n",
      "\u001b[33mThe directory '/home/jovyan/.cache/pip' or its parent directory is not owned by the current user and caching wheels has been disabled. check the permissions and owner of that directory. If executing pip with sudo, you may want sudo's -H flag.\u001b[0m\n",
      "Requirement already satisfied: tweepy in /home/nychau/.local/lib/python3.6/site-packages (3.7.0)\n",
      "Requirement already satisfied: six>=1.10.0 in /opt/conda/lib/python3.6/site-packages (from tweepy) (1.12.0)\n",
      "Requirement already satisfied: PySocks>=1.5.7 in /opt/conda/lib/python3.6/site-packages (from tweepy) (1.6.8)\n",
      "Requirement already satisfied: requests>=2.11.1 in /opt/conda/lib/python3.6/site-packages (from tweepy) (2.12.4)\n",
      "Requirement already satisfied: requests-oauthlib>=0.7.0 in /opt/conda/lib/python3.6/site-packages (from tweepy) (1.2.0)\n",
      "Requirement already satisfied: oauthlib>=3.0.0 in /opt/conda/lib/python3.6/site-packages (from requests-oauthlib>=0.7.0->tweepy) (3.0.1)\n",
      "\u001b[33mThe directory '/home/jovyan/.cache/pip/http' or its parent directory is not owned by the current user and the cache has been disabled. Please check the permissions and owner of that directory. If executing pip with sudo, you may want sudo's -H flag.\u001b[0m\n",
      "\u001b[33mThe directory '/home/jovyan/.cache/pip' or its parent directory is not owned by the current user and caching wheels has been disabled. check the permissions and owner of that directory. If executing pip with sudo, you may want sudo's -H flag.\u001b[0m\n",
      "Requirement already up-to-date: textblob in /home/nychau/.local/lib/python3.6/site-packages (0.15.3)\n",
      "Requirement already satisfied, skipping upgrade: nltk>=3.1 in /opt/conda/lib/python3.6/site-packages (from textblob) (3.2.5)\n",
      "Requirement already satisfied, skipping upgrade: six in /opt/conda/lib/python3.6/site-packages (from nltk>=3.1->textblob) (1.12.0)\n",
      "[nltk_data] Downloading package brown to /home/nychau/nltk_data...\n",
      "[nltk_data]   Package brown is already up-to-date!\n",
      "[nltk_data] Downloading package punkt to /home/nychau/nltk_data...\n",
      "[nltk_data]   Package punkt is already up-to-date!\n",
      "[nltk_data] Downloading package wordnet to /home/nychau/nltk_data...\n",
      "[nltk_data]   Package wordnet is already up-to-date!\n",
      "[nltk_data] Downloading package averaged_perceptron_tagger to\n",
      "[nltk_data]     /home/nychau/nltk_data...\n",
      "[nltk_data]   Package averaged_perceptron_tagger is already up-to-\n",
      "[nltk_data]       date!\n",
      "[nltk_data] Downloading package conll2000 to /home/nychau/nltk_data...\n",
      "[nltk_data]   Package conll2000 is already up-to-date!\n",
      "[nltk_data] Downloading package movie_reviews to\n",
      "[nltk_data]     /home/nychau/nltk_data...\n",
      "[nltk_data]   Package movie_reviews is already up-to-date!\n",
      "Finished.\n"
     ]
    }
   ],
   "source": [
    "!python -m pip install tweepy --user\n",
    "!python -m pip install -U textblob --user\n",
    "!python -m textblob.download_corpora"
   ]
  },
  {
   "cell_type": "code",
   "execution_count": 45,
   "metadata": {},
   "outputs": [],
   "source": [
    "%matplotlib inline\n",
    "#Imports\n",
    "import tweepy\n",
    "import os.path\n",
    "import csv\n",
    "import re\n",
    "import matplotlib.pyplot as plt\n",
    "import matplotlib.lines as mlines\n",
    "import numpy as np\n",
    "from os import path\n",
    "from datetime import datetime\n",
    "from textblob import TextBlob\n",
    "from textblob.sentiments import NaiveBayesAnalyzer"
   ]
  },
  {
   "cell_type": "markdown",
   "metadata": {},
   "source": [
    "The following variables are unique keys / tokens given to the developers so that they may access Twitter API. Twitter restricts the number of tweets that you can pull from their website by using 15 minute windows (source - https://developer.twitter.com/en/docs/basics/rate-limiting.html). The amount of tweets that we are able to pull is 900 according to Twitter's rate limits talbe (source - https://developer.twitter.com/en/docs/basics/rate-limits). We take into account Twitter's limitations by running the program 2 or 3 times each in three hour intervals. We try to pull tweets just before a basketball game starts, during the basketball game, and after the basketball game so that we can get the tweets that are the most relevant to the player's performance in the game."
   ]
  },
  {
   "cell_type": "code",
   "execution_count": 3,
   "metadata": {},
   "outputs": [],
   "source": [
    "# Variables that contains the user credentials to access Twitter API \n",
    "ACCESS_TOKEN = '1121130610334912512-JDGgQVfZ0oFYpDEJiqK47sNNggbtVq'\n",
    "ACCESS_SECRET = 'f35YjmSmptgwX4GcQBthPwhCZQ7T8n1NLhJXzKrdlNDmL'\n",
    "CONSUMER_KEY = 'mfYU6xUdDVQxKc6Mh3g9Aete4'\n",
    "CONSUMER_SECRET = 'xkClZZPJYne6QS2JZLkEdZ6YztJjGdjIbZLjeY6pXqpNu66dUe'\n",
    "\n",
    "# Setup tweepy to authenticate with Twitter credentials:\n",
    "auth = tweepy.OAuthHandler(CONSUMER_KEY, CONSUMER_SECRET)\n",
    "auth.set_access_token(ACCESS_TOKEN, ACCESS_SECRET)\n",
    "\n",
    "# Create the api to connect to twitter with your creadentials\n",
    "api = tweepy.API(auth, wait_on_rate_limit=True, wait_on_rate_limit_notify=True, \n",
    "                 compression=True)\n",
    "# ---------------------------------------------------------------------------------------------------------------------\n",
    "# wait_on_rate_limit= True;  will make the api to automatically wait for rate limits\n",
    "# to replenish wait_on_rate_limit_notify= True;  will make the api print a notification\n",
    "# when Tweepy is waiting for\n",
    "# rate limits to replenish\n",
    "# ---------------------------------------------------------------------------------------------------------------------"
   ]
  },
  {
   "cell_type": "markdown",
   "metadata": {},
   "source": [
    "The arrays kdHashtags and gaHashtags contain keywords that we search for when looking through the tweets that are provided by Twitter. We used keywords that specifically mention the players to filter out any other tweets that may be irrelevant. We avoided using the player's team name because tweets about the team may involve other players' performance rather than the specific player we are targeting. We then store these tweets into two separate array, one for each player. The final variable we have is used specify how many tweets we would like to search for. This variable helps prevent us from exceeding our rate limit."
   ]
  },
  {
   "cell_type": "code",
   "execution_count": 4,
   "metadata": {},
   "outputs": [],
   "source": [
    "#initializes list of hashtags / words to search.\n",
    "kdHashtags = [\"#KevinDurant\", \"Kevin Durant\", \"Kevin Durant's\", \"@KDTrey5\",  \"Durant\", \n",
    "              \"KD\"]\n",
    "gaHashtags = [\"Giannis Antetokounmpo\", \"Giannis Antetokounmpo's\", \"@Giannis_An34\",\n",
    "              \"Giannis\", \"Antetokounmpo's\" ]\n",
    "\n",
    "#list containing tweets about KD\n",
    "kdTweets = []\n",
    "\n",
    "#list containing tweets about GA\n",
    "gaTweets = []\n",
    "\n",
    "#Number of tweets we want to search for per element inside of the hastag list\n",
    "numTweets = 20"
   ]
  },
  {
   "cell_type": "markdown",
   "metadata": {},
   "source": [
    "When running these API calls we are not actually searching through every tweet on Twitter! Twitter actually extracts about 1% of tweets by grabbing the ones that were published between the 657th and the 666th millisecond (source - http://blog.falcondai.com/2013/06/666-and-how-twitter-samples-tweets-in.html). Below we have some functions that take care of Twitter API calls as well as some the calls we make to TextBlob to determine the sentiment value of the tweet. The function \"SentimentOfTweet\" retrieves the sentiment value and the subjectivity of a the string that is passed to it. The function \"BayesSentiment\" also retrieves the sentiment but returns the how positive and how negative a tweet is. The positive and negative value it returns will add up to 1 when added together so TextBlob uses the greater value to classify the tweet passed in as either \"pos\" or \"neg\". The last two functions both search for tweets but use different keywords to search for a specific player. "
   ]
  },
  {
   "cell_type": "code",
   "execution_count": 5,
   "metadata": {},
   "outputs": [],
   "source": [
    "'''returns sentiment of a given string'''\n",
    "def SentimentOfTweet(string):\n",
    "    return TextBlob(string.lower()).sentiment\n",
    "\n",
    "'''returns sentiment of a given string'''\n",
    "def BayesSentiment(string):\n",
    "    return TextBlob(string.lower(), analyzer=NaiveBayesAnalyzer()).sentiment\n",
    "\n",
    "'''returns list of words from tweets that contain query'''\n",
    "def searchKDTweets(query, num):\n",
    "    results = api.search(query, count = num)\n",
    "    for s in results:\n",
    "        kdTweets.append( s.text.lower() )\n",
    "    return kdTweets\n",
    "\n",
    "'''returns list of words from tweets that contain query'''\n",
    "def searchGATweets(query, num):\n",
    "    results = api.search(query, count = num)\n",
    "    for s in results:\n",
    "        gaTweets.append( s.text.lower() )\n",
    "    return gaTweets"
   ]
  },
  {
   "cell_type": "markdown",
   "metadata": {},
   "source": [
    "This part of our code uses all the previous parts to create a database in the form of a csv file. First we query through our keywords array and store the search results into another array corresponding to the player. We then open a file csv file or create one if it does not already exist. The first line of the file will contain the columns Tweet, Polarity, Subjectivity, Positivity, Negativity, Classification, and Date. We keep track of when the data was pulled so that we can coordinate the days the the player's team won with when that tweet was published. Before adding the tweet to the csv file we filter out certain strings that may alter the sentiment value incorrectly. All of our data is then nicely placed into the csv file to be later cleaned up even more."
   ]
  },
  {
   "cell_type": "code",
   "execution_count": 6,
   "metadata": {},
   "outputs": [],
   "source": [
    "Query for tweets about KD\n",
    "for kdQuery in kdHashtags:\n",
    "    searchKDTweets( kdQuery, numTweets)\n",
    "\n",
    "'''Open or create csv file for KD data'''\n",
    "with open('KD_Data.csv', 'a') as kd_file:\n",
    "    kdwriter = csv.writer(kd_file, delimiter=',', quotechar='\"', \n",
    "                          quoting=csv.QUOTE_MINIMAL)\n",
    "\n",
    "    '''Create the names of each data column if this file is empty'''\n",
    "    if( os.stat('KD_Data.csv').st_size == 0 ):\n",
    "        kdwriter.writerow(['Tweet', 'Polarity', 'Subjectivity', 'Positivity',\n",
    "                           'Negativity', 'Classification', 'Date'])\n",
    "\n",
    "    '''For each tweet that is in kdTweets'''\n",
    "    for tweet in kdTweets:\n",
    "\n",
    "        '''Filter tweet'''\n",
    "        tweet = tweet.replace('\\n', ' ')\n",
    "        tweet = tweet.replace('rt', '')\n",
    "        tweet = re.sub(r\"http\\S+\", \"\", tweet)\n",
    "\n",
    "        '''Get sentiment data'''\n",
    "        sentiment = SentimentOfTweet(tweet)\n",
    "        bayes = BayesSentiment(tweet)\n",
    "\n",
    "        '''Write to csv file'''\n",
    "        kdwriter.writerow([tweet.encode('utf-8').strip(), sentiment.polarity,\n",
    "                           sentiment.subjectivity, bayes.p_pos, bayes.p_neg,\n",
    "                           bayes.classification, \n",
    "                           datetime.today().strftime('%Y-%m-%d')])"
   ]
  },
  {
   "cell_type": "markdown",
   "metadata": {},
   "source": [
    "This following code does the same as the code above except it searches for tweets of the player Giannis Antetokounmpo."
   ]
  },
  {
   "cell_type": "code",
   "execution_count": 7,
   "metadata": {},
   "outputs": [],
   "source": [
    "#Query for tweets about GA\n",
    "for gaQuery in gaHashtags:\n",
    "    searchGATweets(gaQuery, numTweets)\n",
    "    \n",
    "    '''Open or create csv file for GA data'''\n",
    "with open('GA_Data.csv', 'a') as ga_file:\n",
    "    gawriter = csv.writer(ga_file, delimiter=',', quotechar='\"',\n",
    "                          quoting=csv.QUOTE_MINIMAL)\n",
    "\n",
    "    '''Create the names of each data column if this file is empty'''\n",
    "    if (os.stat('GA_Data.csv').st_size == 0):\n",
    "        gawriter.writerow(['Tweet', 'Polarity', 'Subjectivity', 'Positivity',\n",
    "                           'Negativity', 'Classification', 'Date'])\n",
    "\n",
    "    '''For each tweet that is in gaTweets'''\n",
    "    for tweet in gaTweets:\n",
    "\n",
    "        '''Filter tweet'''\n",
    "        tweet = tweet.replace('\\n', ' ')\n",
    "        tweet = tweet.replace('rt', '')\n",
    "        tweet = re.sub(r\"http\\S+\", \"\", tweet)\n",
    "\n",
    "        '''Get sentiment data'''\n",
    "        sentiment = SentimentOfTweet(tweet)\n",
    "        bayes = BayesSentiment(tweet)\n",
    "\n",
    "        '''Write to csv file'''\n",
    "        gawriter.writerow([tweet.encode('utf-8').strip(), sentiment.polarity,\n",
    "                           sentiment.subjectivity,\n",
    "                           bayes.p_neg, bayes.classification,\n",
    "                           datetime.today().strftime('%Y-%m-%d')])"
   ]
  },
  {
   "cell_type": "markdown",
   "metadata": {},
   "source": [
    "## Dataset"
   ]
  },
  {
   "cell_type": "markdown",
   "metadata": {},
   "source": [
    "Example snippet of one of our data sets in its raw csv format. It is formatted using the columns Tweet, Polarity, Subjectivity, Positivity, Negativity, Classification, and Date as previously described. You may notice that some of the tweets in our dataset are repeated. Also some of the values for the \"Polarity\" variable is 0. This is handleded in our data cleaning and discussed further into the report. "
   ]
  },
  {
   "cell_type": "markdown",
   "metadata": {},
   "source": [
    "Tweet\tPolarity\tSubjectivity\tPositivity\tNegativity\tClassification\tDate\n",
    "i thought we were supposed to be on the same team! clearly king louis xvi doesn’t even care about his own people 🐍…\t0.233333333333333\t0.502777777777778\t0.848983903068137\t0.151016096931864\tpos\t\n",
    "tag a knicks fan!🔥🔥  #nba #basketball #ballislife #balldontlienation #basketballneverstops #basketballislife…\t0\t0\t0.0878774911358352\t0.912122508864163\tneg\t\n",
    "7 insane stats for the day-- april 26, 2019 -  #russellwestbrook #westbrick #nbaplayoffs2019…\t-1\t1\t0.862361377446975\t0.137638622553025\tpos\t\n",
    "@latineuro: the final game coming #gospursgo 120 #milehighbasketball 103   #derozan #denvernuggets #nbanaespn #durant #basketball  #clip…\t-0.2\t0.7\t0.297958821183979\t0.70204117881602\tneg\t\n",
    "you just goota make thos hoops #clippersnation  #durant  #louwilliams    #harrell  #lacvsgsw  #warriors…\t0\t0\t0.468675206022018\t0.531324793977982\tneg\t\n",
    "i do not know what to say about #denvernuggets #hoops   #clippers   #nba #nbaplayoffs   #nba  #kevindurant  #nba…\t0\t0\t0.38570549936685\t0.61429450063315\tneg\t\n",
    "the final game coming #gospursgo 120 #milehighbasketball 103   #derozan #denvernuggets #nbanaespn #durant…\t-0.2\t0.7\t0.438776835846889\t0.561223164153111\tneg\t\n",
    "good game demar  #denvernuggets #nbanaespn #durant #basketball  #clippersnation  #durant  #louwilliams    #harrell…\t0.15\t0.5\t0.405866317253938\t0.594133682746062\tneg\t\n",
    "despite the @warriors game 5 loss to @laclippers, #kevindurant finished the game with 45 points on 14 of 26 shootin…\t-0.4\t0.4\t0.598714412400062\t0.401285587599939\tpos\t\n",
    "anyone interested in #kevindurant's house in #malibu? #nba #nbatwitter #warriors #maliburealestate…\t0.25\t0.5\t0.351230857463683\t0.648769142536318\tneg\t\n",
    "kevin durant's (@kdtrey5) 2009-10 shot cha:  volume: extreme | p_100 (percentile) shot skill: good | p_79 efficie…\t0.2875\t0.8\t0.24831988576953\t0.75168011423047\tneg\t\n",
    "@netszn: caris leve said kevin durant “is like a big brother” to him 👀 #kevindurant #brooklynnets\t0\t0.1\t0.433507520159971\t0.566492479840029\tneg\t\n",
    "and then she said its time for . #clippersnation  #durant  #louwilliams    #harrell  #lacvsgsw  #warriors  #dame…\t0\t0\t0.444198303816138\t0.555801696183862\tneg\t\n",
    "@dchinellato d'accordo sul rendimento dell'uomo \"in missione\"! #kevindurant 💪🏀🔝  però.. leggendo \"qua e là\"...  dur…\t0\t0\t0.5\t0.5\tpos\t\n",
    "#espos #espn #ballislife #hoopmixtape #oveime #worldstar #worldstarhiphop #kevindurant #damianlillard #bball…\t0\t0\t0.25\t0.75\tneg\t\n",
    "@netszn: caris leve said kevin durant “is like a big brother” to him 👀 #kevindurant #brooklynnets\t0\t0.1\t0.433507520159971\t0.566492479840029\tneg\t"
   ]
  },
  {
   "cell_type": "markdown",
   "metadata": {},
   "source": [
    "## Data Cleaning / Pre-processing"
   ]
  },
  {
   "cell_type": "markdown",
   "metadata": {},
   "source": [
    "Following the collection of all the data, we processed it and cleaned it up to be able to easily visualize the data measurments \n",
    "that would be important to us. We did this by converting the csv file we had into a data frame and then grabbing the average values for the various columns of data we had based on the date of the tweet. The code to do this is below."
   ]
  },
  {
   "cell_type": "code",
   "execution_count": 8,
   "metadata": {},
   "outputs": [],
   "source": [
    "import pandas as pd\n",
    "\n",
    "# --------------- KD SECTION -----------------------\n",
    "\n",
    "df = pd.read_csv(\"KD_Data_DATE.csv\");\n",
    "df.columns = ['Tweet','Polarity','Subjectivity','Positivity','Negativity',\n",
    "              'Classification','Date']\n",
    "df.set_index('Date');\n",
    "\n",
    "# Recording the wins and losses for KD\n",
    "k = dict()\n",
    "k['2019-05-03'] = 'W'\n",
    "k['2019-05-05'] = 'L'\n",
    "k['2019-05-06'] = 'L'\n",
    "k['2019-05-07'] = 'L'\n",
    "k['2019-05-09'] = 'W'\n",
    "k['2019-05-10'] = 'W'\n",
    "k['2019-05-15'] = 'W'\n",
    "k['2019-05-16'] = 'W'\n",
    "k['2019-05-17'] = 'W'\n",
    "k['2019-05-19'] = 'W'\n",
    "k['2019-05-20'] = 'W'\n",
    "\n",
    "kd_pos = dict()\n",
    "kd_neg = dict()\n",
    "kd_pol = dict()\n",
    "kd_sub = dict()\n",
    "kd_numtweets = dict()\n",
    "\n",
    "# Totalling up info from each column into dictionary\n",
    "for i,row in df.iterrows():\n",
    "    date = row['Date']\n",
    "    if (date in kd_pos):\n",
    "        kd_pos[date] += float(row['Positivity'])\n",
    "        kd_neg[date] += float(row['Negativity'])\n",
    "        kd_pol[date] += float(row['Polarity'])\n",
    "        kd_sub[date] += float(row['Subjectivity'])\n",
    "        kd_numtweets[date] += 1\n",
    "    else:\n",
    "        kd_pos[date] = float(row['Positivity'])\n",
    "        kd_neg[date] = float(row['Negativity'])\n",
    "        kd_pol[date] = float(row['Polarity'])\n",
    "        kd_sub[date] = float(row['Subjectivity'])\n",
    "        kd_numtweets[date] = 1\n",
    "\n",
    "# Averaging the totalled info by dividing by number of tweets\n",
    "for date in sorted(kd_pos.keys()):\n",
    "    kd_pos[date] /= float(kd_numtweets[date])\n",
    "    kd_neg[date] /= float(kd_numtweets[date])\n",
    "    kd_pol[date] /= float(kd_numtweets[date])\n",
    "    kd_sub[date] /= float(kd_numtweets[date])\n",
    "\n",
    "# Writing data to csv file\n",
    "kd_sentiment = pd.DataFrame({'result': pd.Series(k), \n",
    "                             'pos_sentiment': pd.Series(kd_pos),\n",
    "                             'neg_sentiment': pd.Series(kd_neg),\n",
    "                             'polarity': pd.Series(kd_pol),\n",
    "                             'subjectivity': pd.Series(kd_sub),\n",
    "                             'num_tweets': pd.Series(kd_numtweets)})\n",
    "kd_sentiment.index.names = ['Date']\n",
    "kd_sentiment = kd_sentiment.sort_index()\n",
    "kd_sentiment.to_csv('kd_sentiment.csv')\n",
    "\n",
    "\n",
    "\n",
    "\n",
    "\n",
    "# -------------- GA SECTION ---------------------\n",
    "\n",
    "df = pd.read_csv(\"GA_Data_DATE.csv\");\n",
    "df.columns = ['Tweet','Polarity','Subjectivity','Positivity','Negativity',\n",
    "              'Classification','Date']\n",
    "df.set_index('Date');\n",
    "\n",
    "# Recording the wins and losses for GA\n",
    "g = dict()\n",
    "g['2019-05-03'] = 'W'\n",
    "g['2019-05-05'] = 'W'\n",
    "g['2019-05-06'] = 'W'\n",
    "g['2019-05-07'] = 'W'\n",
    "g['2019-05-08'] = 'W'\n",
    "g['2019-05-09'] = 'W'\n",
    "g['2019-05-16'] = 'W'\n",
    "g['2019-05-17'] = 'W'\n",
    "g['2019-05-19'] = 'L'\n",
    "g['2019-05-21'] = 'L'\n",
    "g['2019-05-22'] = 'L'\n",
    "g['2019-05-24'] = 'L'\n",
    "\n",
    "ga_pos = dict()\n",
    "ga_neg = dict()\n",
    "ga_pol = dict()\n",
    "ga_sub = dict()\n",
    "ga_numtweets = dict()\n",
    "\n",
    "for i,row in df.iterrows():\n",
    "    date = row['Date']\n",
    "    if (date in ga_pos):\n",
    "        ga_pos[date] += float(row['Positivity'])\n",
    "        ga_neg[date] += float(row['Negativity'])\n",
    "        ga_pol[date] += float(row['Polarity'])\n",
    "        ga_sub[date] += float(row['Subjectivity'])\n",
    "        ga_numtweets[date] += 1\n",
    "    else:\n",
    "        ga_pos[date] = float(row['Positivity'])\n",
    "        ga_neg[date] = float(row['Negativity'])\n",
    "        ga_pol[date] = float(row['Polarity'])\n",
    "        ga_sub[date] = float(row['Subjectivity'])\n",
    "        ga_numtweets[date] = 1\n",
    "\n",
    "for date in sorted(ga_pos.keys()):\n",
    "    ga_pos[date] /= float(ga_numtweets[date])\n",
    "    ga_neg[date] /= float(ga_numtweets[date])\n",
    "    ga_pol[date] /= float(ga_numtweets[date])\n",
    "    ga_sub[date] /= float(ga_numtweets[date])\n",
    "\n",
    "# Put data into csv file\n",
    "ga_sentiment = pd.DataFrame({'result': pd.Series(g),\n",
    "                             'pos_sentiment': pd.Series(ga_pos), \n",
    "                             'neg_sentiment': pd.Series(ga_neg), \n",
    "                             'polarity': pd.Series(ga_pol),\n",
    "                             'subjectivity': pd.Series(ga_sub), \n",
    "                             'num_tweets': pd.Series(ga_numtweets)})\n",
    "ga_sentiment.index.names = ['Date']\n",
    "ga_sentiment = ga_sentiment.sort_index()\n",
    "ga_sentiment.to_csv('ga_sentiment.csv')"
   ]
  },
  {
   "cell_type": "markdown",
   "metadata": {},
   "source": [
    "After processing all this dat and computing averages by the date of the tweet, the data outputted to the csv files we had was as follows:"
   ]
  },
  {
   "cell_type": "code",
   "execution_count": 9,
   "metadata": {},
   "outputs": [
    {
     "name": "stdout",
     "output_type": "stream",
     "text": [
      "\n",
      "Kevin Durant Data:\n"
     ]
    },
    {
     "data": {
      "text/html": [
       "<div>\n",
       "<style scoped>\n",
       "    .dataframe tbody tr th:only-of-type {\n",
       "        vertical-align: middle;\n",
       "    }\n",
       "\n",
       "    .dataframe tbody tr th {\n",
       "        vertical-align: top;\n",
       "    }\n",
       "\n",
       "    .dataframe thead th {\n",
       "        text-align: right;\n",
       "    }\n",
       "</style>\n",
       "<table border=\"1\" class=\"dataframe\">\n",
       "  <thead>\n",
       "    <tr style=\"text-align: right;\">\n",
       "      <th></th>\n",
       "      <th>Date</th>\n",
       "      <th>result</th>\n",
       "      <th>pos_sentiment</th>\n",
       "      <th>neg_sentiment</th>\n",
       "      <th>polarity</th>\n",
       "      <th>subjectivity</th>\n",
       "      <th>num_tweets</th>\n",
       "    </tr>\n",
       "  </thead>\n",
       "  <tbody>\n",
       "    <tr>\n",
       "      <th>0</th>\n",
       "      <td>2019-05-03</td>\n",
       "      <td>W</td>\n",
       "      <td>0.520157</td>\n",
       "      <td>0.479843</td>\n",
       "      <td>0.147699</td>\n",
       "      <td>0.291779</td>\n",
       "      <td>105</td>\n",
       "    </tr>\n",
       "    <tr>\n",
       "      <th>1</th>\n",
       "      <td>2019-05-05</td>\n",
       "      <td>L</td>\n",
       "      <td>0.517561</td>\n",
       "      <td>0.482439</td>\n",
       "      <td>0.276001</td>\n",
       "      <td>0.275149</td>\n",
       "      <td>209</td>\n",
       "    </tr>\n",
       "    <tr>\n",
       "      <th>2</th>\n",
       "      <td>2019-05-06</td>\n",
       "      <td>L</td>\n",
       "      <td>0.560188</td>\n",
       "      <td>0.439812</td>\n",
       "      <td>0.148034</td>\n",
       "      <td>0.256444</td>\n",
       "      <td>301</td>\n",
       "    </tr>\n",
       "    <tr>\n",
       "      <th>3</th>\n",
       "      <td>2019-05-07</td>\n",
       "      <td>L</td>\n",
       "      <td>0.575369</td>\n",
       "      <td>0.424631</td>\n",
       "      <td>0.123622</td>\n",
       "      <td>0.247961</td>\n",
       "      <td>435</td>\n",
       "    </tr>\n",
       "    <tr>\n",
       "      <th>4</th>\n",
       "      <td>2019-05-09</td>\n",
       "      <td>W</td>\n",
       "      <td>0.544909</td>\n",
       "      <td>0.455091</td>\n",
       "      <td>0.036402</td>\n",
       "      <td>0.244630</td>\n",
       "      <td>100</td>\n",
       "    </tr>\n",
       "    <tr>\n",
       "      <th>5</th>\n",
       "      <td>2019-05-10</td>\n",
       "      <td>W</td>\n",
       "      <td>0.562578</td>\n",
       "      <td>0.437422</td>\n",
       "      <td>0.094600</td>\n",
       "      <td>0.322173</td>\n",
       "      <td>106</td>\n",
       "    </tr>\n",
       "    <tr>\n",
       "      <th>6</th>\n",
       "      <td>2019-05-15</td>\n",
       "      <td>W</td>\n",
       "      <td>0.510379</td>\n",
       "      <td>0.489621</td>\n",
       "      <td>0.101036</td>\n",
       "      <td>0.284018</td>\n",
       "      <td>327</td>\n",
       "    </tr>\n",
       "    <tr>\n",
       "      <th>7</th>\n",
       "      <td>2019-05-16</td>\n",
       "      <td>W</td>\n",
       "      <td>0.558149</td>\n",
       "      <td>0.441851</td>\n",
       "      <td>0.055489</td>\n",
       "      <td>0.297198</td>\n",
       "      <td>415</td>\n",
       "    </tr>\n",
       "    <tr>\n",
       "      <th>8</th>\n",
       "      <td>2019-05-17</td>\n",
       "      <td>W</td>\n",
       "      <td>0.545390</td>\n",
       "      <td>0.454610</td>\n",
       "      <td>0.185790</td>\n",
       "      <td>0.357234</td>\n",
       "      <td>90</td>\n",
       "    </tr>\n",
       "    <tr>\n",
       "      <th>9</th>\n",
       "      <td>2019-05-19</td>\n",
       "      <td>W</td>\n",
       "      <td>0.538693</td>\n",
       "      <td>0.461307</td>\n",
       "      <td>0.092249</td>\n",
       "      <td>0.295547</td>\n",
       "      <td>207</td>\n",
       "    </tr>\n",
       "    <tr>\n",
       "      <th>10</th>\n",
       "      <td>2019-05-20</td>\n",
       "      <td>W</td>\n",
       "      <td>0.505611</td>\n",
       "      <td>0.494389</td>\n",
       "      <td>0.109554</td>\n",
       "      <td>0.291792</td>\n",
       "      <td>201</td>\n",
       "    </tr>\n",
       "  </tbody>\n",
       "</table>\n",
       "</div>"
      ],
      "text/plain": [
       "          Date result  pos_sentiment  neg_sentiment  polarity  subjectivity  \\\n",
       "0   2019-05-03      W       0.520157       0.479843  0.147699      0.291779   \n",
       "1   2019-05-05      L       0.517561       0.482439  0.276001      0.275149   \n",
       "2   2019-05-06      L       0.560188       0.439812  0.148034      0.256444   \n",
       "3   2019-05-07      L       0.575369       0.424631  0.123622      0.247961   \n",
       "4   2019-05-09      W       0.544909       0.455091  0.036402      0.244630   \n",
       "5   2019-05-10      W       0.562578       0.437422  0.094600      0.322173   \n",
       "6   2019-05-15      W       0.510379       0.489621  0.101036      0.284018   \n",
       "7   2019-05-16      W       0.558149       0.441851  0.055489      0.297198   \n",
       "8   2019-05-17      W       0.545390       0.454610  0.185790      0.357234   \n",
       "9   2019-05-19      W       0.538693       0.461307  0.092249      0.295547   \n",
       "10  2019-05-20      W       0.505611       0.494389  0.109554      0.291792   \n",
       "\n",
       "    num_tweets  \n",
       "0          105  \n",
       "1          209  \n",
       "2          301  \n",
       "3          435  \n",
       "4          100  \n",
       "5          106  \n",
       "6          327  \n",
       "7          415  \n",
       "8           90  \n",
       "9          207  \n",
       "10         201  "
      ]
     },
     "metadata": {},
     "output_type": "display_data"
    },
    {
     "name": "stdout",
     "output_type": "stream",
     "text": [
      "\n",
      "Giannis Antetokounmpo Data:\n"
     ]
    },
    {
     "data": {
      "text/html": [
       "<div>\n",
       "<style scoped>\n",
       "    .dataframe tbody tr th:only-of-type {\n",
       "        vertical-align: middle;\n",
       "    }\n",
       "\n",
       "    .dataframe tbody tr th {\n",
       "        vertical-align: top;\n",
       "    }\n",
       "\n",
       "    .dataframe thead th {\n",
       "        text-align: right;\n",
       "    }\n",
       "</style>\n",
       "<table border=\"1\" class=\"dataframe\">\n",
       "  <thead>\n",
       "    <tr style=\"text-align: right;\">\n",
       "      <th></th>\n",
       "      <th>Date</th>\n",
       "      <th>result</th>\n",
       "      <th>pos_sentiment</th>\n",
       "      <th>neg_sentiment</th>\n",
       "      <th>polarity</th>\n",
       "      <th>subjectivity</th>\n",
       "      <th>num_tweets</th>\n",
       "    </tr>\n",
       "  </thead>\n",
       "  <tbody>\n",
       "    <tr>\n",
       "      <th>0</th>\n",
       "      <td>2019-05-03</td>\n",
       "      <td>W</td>\n",
       "      <td>0.566949</td>\n",
       "      <td>0.433051</td>\n",
       "      <td>0.101494</td>\n",
       "      <td>0.397101</td>\n",
       "      <td>183</td>\n",
       "    </tr>\n",
       "    <tr>\n",
       "      <th>1</th>\n",
       "      <td>2019-05-05</td>\n",
       "      <td>W</td>\n",
       "      <td>0.635173</td>\n",
       "      <td>0.364827</td>\n",
       "      <td>0.039614</td>\n",
       "      <td>0.211701</td>\n",
       "      <td>176</td>\n",
       "    </tr>\n",
       "    <tr>\n",
       "      <th>2</th>\n",
       "      <td>2019-05-06</td>\n",
       "      <td>W</td>\n",
       "      <td>0.564552</td>\n",
       "      <td>0.435448</td>\n",
       "      <td>0.090362</td>\n",
       "      <td>0.258995</td>\n",
       "      <td>258</td>\n",
       "    </tr>\n",
       "    <tr>\n",
       "      <th>3</th>\n",
       "      <td>2019-05-07</td>\n",
       "      <td>W</td>\n",
       "      <td>0.569206</td>\n",
       "      <td>0.430794</td>\n",
       "      <td>0.089376</td>\n",
       "      <td>0.320538</td>\n",
       "      <td>112</td>\n",
       "    </tr>\n",
       "    <tr>\n",
       "      <th>4</th>\n",
       "      <td>2019-05-08</td>\n",
       "      <td>W</td>\n",
       "      <td>0.525572</td>\n",
       "      <td>0.474428</td>\n",
       "      <td>0.199053</td>\n",
       "      <td>0.348364</td>\n",
       "      <td>97</td>\n",
       "    </tr>\n",
       "    <tr>\n",
       "      <th>5</th>\n",
       "      <td>2019-05-09</td>\n",
       "      <td>W</td>\n",
       "      <td>0.459539</td>\n",
       "      <td>0.540461</td>\n",
       "      <td>0.072311</td>\n",
       "      <td>0.287657</td>\n",
       "      <td>81</td>\n",
       "    </tr>\n",
       "    <tr>\n",
       "      <th>6</th>\n",
       "      <td>2019-05-16</td>\n",
       "      <td>W</td>\n",
       "      <td>0.533458</td>\n",
       "      <td>0.466542</td>\n",
       "      <td>0.000000</td>\n",
       "      <td>0.000000</td>\n",
       "      <td>2</td>\n",
       "    </tr>\n",
       "    <tr>\n",
       "      <th>7</th>\n",
       "      <td>2019-05-17</td>\n",
       "      <td>W</td>\n",
       "      <td>0.515288</td>\n",
       "      <td>0.484712</td>\n",
       "      <td>0.104772</td>\n",
       "      <td>0.255662</td>\n",
       "      <td>265</td>\n",
       "    </tr>\n",
       "    <tr>\n",
       "      <th>8</th>\n",
       "      <td>2019-05-19</td>\n",
       "      <td>L</td>\n",
       "      <td>0.485510</td>\n",
       "      <td>0.514490</td>\n",
       "      <td>-0.027956</td>\n",
       "      <td>0.350621</td>\n",
       "      <td>179</td>\n",
       "    </tr>\n",
       "    <tr>\n",
       "      <th>9</th>\n",
       "      <td>2019-05-21</td>\n",
       "      <td>L</td>\n",
       "      <td>0.546364</td>\n",
       "      <td>0.453636</td>\n",
       "      <td>-0.032573</td>\n",
       "      <td>0.361233</td>\n",
       "      <td>123</td>\n",
       "    </tr>\n",
       "    <tr>\n",
       "      <th>10</th>\n",
       "      <td>2019-05-22</td>\n",
       "      <td>L</td>\n",
       "      <td>0.504465</td>\n",
       "      <td>0.495535</td>\n",
       "      <td>0.068357</td>\n",
       "      <td>0.416064</td>\n",
       "      <td>38</td>\n",
       "    </tr>\n",
       "    <tr>\n",
       "      <th>11</th>\n",
       "      <td>2019-05-24</td>\n",
       "      <td>L</td>\n",
       "      <td>0.605885</td>\n",
       "      <td>0.394115</td>\n",
       "      <td>0.041665</td>\n",
       "      <td>0.213771</td>\n",
       "      <td>79</td>\n",
       "    </tr>\n",
       "  </tbody>\n",
       "</table>\n",
       "</div>"
      ],
      "text/plain": [
       "          Date result  pos_sentiment  neg_sentiment  polarity  subjectivity  \\\n",
       "0   2019-05-03      W       0.566949       0.433051  0.101494      0.397101   \n",
       "1   2019-05-05      W       0.635173       0.364827  0.039614      0.211701   \n",
       "2   2019-05-06      W       0.564552       0.435448  0.090362      0.258995   \n",
       "3   2019-05-07      W       0.569206       0.430794  0.089376      0.320538   \n",
       "4   2019-05-08      W       0.525572       0.474428  0.199053      0.348364   \n",
       "5   2019-05-09      W       0.459539       0.540461  0.072311      0.287657   \n",
       "6   2019-05-16      W       0.533458       0.466542  0.000000      0.000000   \n",
       "7   2019-05-17      W       0.515288       0.484712  0.104772      0.255662   \n",
       "8   2019-05-19      L       0.485510       0.514490 -0.027956      0.350621   \n",
       "9   2019-05-21      L       0.546364       0.453636 -0.032573      0.361233   \n",
       "10  2019-05-22      L       0.504465       0.495535  0.068357      0.416064   \n",
       "11  2019-05-24      L       0.605885       0.394115  0.041665      0.213771   \n",
       "\n",
       "    num_tweets  \n",
       "0          183  \n",
       "1          176  \n",
       "2          258  \n",
       "3          112  \n",
       "4           97  \n",
       "5           81  \n",
       "6            2  \n",
       "7          265  \n",
       "8          179  \n",
       "9          123  \n",
       "10          38  \n",
       "11          79  "
      ]
     },
     "metadata": {},
     "output_type": "display_data"
    }
   ],
   "source": [
    "kd_data = pd.read_csv('kd_sentiment.csv')\n",
    "ga_data = pd.read_csv('ga_sentiment.csv')\n",
    "\n",
    "print()\n",
    "print(\"Kevin Durant Data:\")\n",
    "display(kd_data)\n",
    "print()\n",
    "print(\"Giannis Antetokounmpo Data:\")\n",
    "display(ga_data)"
   ]
  },
  {
   "cell_type": "markdown",
   "metadata": {},
   "source": [
    "## Data Visualization"
   ]
  },
  {
   "cell_type": "markdown",
   "metadata": {},
   "source": [
    "After we finished cleaning the data, we used several different methods to visualize or data, in order to look for trends or relationships between variables. Since we wanted to observe how the outcome (win or loss) of a team's game would affect the twitter sentiment towards an individual player, we focused on graphing twitter sentiment over dates of, and between, games, and average twitter sentiment across wins and losses. We also graphed tweet subjectivity data to see if there was any relationship between subjectivity and win/loss outcome. "
   ]
  },
  {
   "cell_type": "markdown",
   "metadata": {},
   "source": [
    "First, we created a dataframe for each player using the csv files with cleaned twitter data from the previous section.  "
   ]
  },
  {
   "cell_type": "code",
   "execution_count": 29,
   "metadata": {},
   "outputs": [],
   "source": [
    "ga_df = pd.DataFrame(data = pd.read_csv('ga_sentiment.csv'))\n",
    "kd_df = pd.DataFrame(data = pd.read_csv('kd_sentiment.csv'))\n",
    "ga_df['Date'] = pd.to_datetime(ga_df['Date'])\n",
    "kd_df['Date'] = pd.to_datetime(kd_df['Date'])"
   ]
  },
  {
   "cell_type": "markdown",
   "metadata": {},
   "source": [
    "Next, we created line plots to look at twitter data over time. We graphed two line plots for each player, one for positive sentiment, and one for subjectivity. "
   ]
  },
  {
   "cell_type": "code",
   "execution_count": 57,
   "metadata": {
    "scrolled": true
   },
   "outputs": [
    {
     "data": {
      "text/plain": [
       "(0.2, 0.42)"
      ]
     },
     "execution_count": 57,
     "metadata": {},
     "output_type": "execute_result"
    },
    {
     "data": {
      "text/plain": [
       "<Figure size 720x360 with 0 Axes>"
      ]
     },
     "metadata": {},
     "output_type": "display_data"
    },
    {
     "data": {
      "image/png": "[encoded data removed]",
      "text/plain": [
       "<Figure size 720x360 with 1 Axes>"
      ]
     },
     "metadata": {
      "needs_background": "light"
     },
     "output_type": "display_data"
    },
    {
     "data": {
      "text/plain": [
       "<Figure size 720x360 with 0 Axes>"
      ]
     },
     "metadata": {},
     "output_type": "display_data"
    },
    {
     "data": {
      "image/png": "[encoded data removed]",
      "text/plain": [
       "<Figure size 720x360 with 1 Axes>"
      ]
     },
     "metadata": {
      "needs_background": "light"
     },
     "output_type": "display_data"
    },
    {
     "data": {
      "text/plain": [
       "<Figure size 720x360 with 0 Axes>"
      ]
     },
     "metadata": {},
     "output_type": "display_data"
    },
    {
     "data": {
      "image/png": "[encoded data removed]",
      "text/plain": [
       "<Figure size 720x360 with 1 Axes>"
      ]
     },
     "metadata": {
      "needs_background": "light"
     },
     "output_type": "display_data"
    },
    {
     "data": {
      "text/plain": [
       "<Figure size 720x360 with 0 Axes>"
      ]
     },
     "metadata": {},
     "output_type": "display_data"
    },
    {
     "data": {
      "image/png": "[encoded data removed]",
      "text/plain": [
       "<Figure size 720x360 with 1 Axes>"
      ]
     },
     "metadata": {
      "needs_background": "light"
     },
     "output_type": "display_data"
    }
   ],
   "source": [
    "#Line plots for sentiment over time\n",
    "\n",
    "#GA plot\n",
    "plt.rcParams['figure.figsize'] = [10, 5]\n",
    "f1 = plt.figure()\n",
    "ga_df.plot.line(x = 'Date', y = 'pos_sentiment')\n",
    "ga_sent_winsx = ga_df[ga_df['result']=='W'].Date\n",
    "ga_sent_winsy = ga_df[ga_df['result'] == 'W'].pos_sentiment\n",
    "ga_sent_lossx = ga_df[ga_df['result']=='L'].Date\n",
    "ga_sent_lossy = ga_df[ga_df['result'] == 'L'].pos_sentiment\n",
    "wins = plt.plot(ga_sent_winsx,ga_sent_winsy,'go')\n",
    "loss = plt.plot(ga_sent_lossx,ga_sent_lossy,'ro')\n",
    "green_circle = mlines.Line2D([], [], color='green', marker='o', linestyle='None',\n",
    "                          markersize=5, label='Wins')\n",
    "red_circle = mlines.Line2D([], [], color='red', marker='o', linestyle='None',\n",
    "                          markersize=5, label='Losses')\n",
    "plt.legend(handles=[green_circle, red_circle])\n",
    "plt.title('GA Positive Sentiment Over Time')\n",
    "plt.ylim(top = 0.65, bottom = 0.45)\n",
    "\n",
    "#KD plot\n",
    "f2 = plt.figure()\n",
    "kd_df.plot.line(x = 'Date', y = 'pos_sentiment')\n",
    "kd_sent_winsx = kd_df[kd_df['result']=='W'].Date\n",
    "kd_sent_winsy = kd_df[kd_df['result'] == 'W'].pos_sentiment\n",
    "kd_sent_lossx = kd_df[kd_df['result']=='L'].Date\n",
    "kd_sent_lossy = kd_df[kd_df['result'] == 'L'].pos_sentiment\n",
    "wins = plt.plot(kd_sent_winsx,kd_sent_winsy,'go')\n",
    "loss = plt.plot(kd_sent_lossx,kd_sent_lossy,'ro')\n",
    "green_circle = mlines.Line2D([], [], color='green', marker='o', linestyle='None',\n",
    "                          markersize=5, label='Wins')\n",
    "red_circle = mlines.Line2D([], [], color='red', marker='o', linestyle='None',\n",
    "                          markersize=5, label='Losses')\n",
    "plt.legend(handles=[green_circle, red_circle])\n",
    "plt.title('KD Positive Sentiment Over Time')\n",
    "plt.ylim(top = 0.65, bottom = 0.45)\n",
    "\n",
    "\n",
    "#Line plots for subjectivity over time\n",
    "\n",
    "#GA plot\n",
    "f3 = plt.figure()\n",
    "ga_df.plot.line(x = 'Date', y = 'subjectivity')\n",
    "ga_subj_winsx = ga_df[ga_df['result']=='W'].Date\n",
    "ga_subj_winsy = ga_df[ga_df['result'] == 'W'].subjectivity\n",
    "ga_subj_lossx = ga_df[ga_df['result']=='L'].Date\n",
    "ga_subj_lossy = ga_df[ga_df['result'] == 'L'].subjectivity\n",
    "wins = plt.plot(ga_subj_winsx,ga_subj_winsy,'go')\n",
    "loss = plt.plot(ga_subj_lossx,ga_subj_lossy,'ro')\n",
    "green_circle = mlines.Line2D([], [], color='green', marker='o', linestyle='None',\n",
    "                          markersize=5, label='Wins')\n",
    "red_circle = mlines.Line2D([], [], color='red', marker='o', linestyle='None',\n",
    "                          markersize=5, label='Losses')\n",
    "plt.legend(handles=[green_circle, red_circle])\n",
    "plt.title('GA Tweet Subjectivity Over Time')\n",
    "plt.ylim(top = 0.42, bottom = 0.2)\n",
    "\n",
    "#KD plot\n",
    "f4 = plt.figure()\n",
    "kd_df.plot.line(x = 'Date', y = 'subjectivity')\n",
    "kd_subj_winsx = kd_df[kd_df['result']=='W'].Date\n",
    "kd_subj_winsy = kd_df[kd_df['result'] == 'W'].subjectivity\n",
    "kd_subj_lossx = kd_df[kd_df['result']=='L'].Date\n",
    "kd_subj_lossy = kd_df[kd_df['result'] == 'L'].subjectivity\n",
    "wins = plt.plot(kd_subj_winsx,kd_subj_winsy,'go')\n",
    "loss = plt.plot(kd_subj_lossx,kd_subj_lossy,'ro')\n",
    "green_circle = mlines.Line2D([], [], color='green', marker='o', linestyle='None',\n",
    "                          markersize=5, label='Wins')\n",
    "red_circle = mlines.Line2D([], [], color='red', marker='o', linestyle='None',\n",
    "                          markersize=5, label='Losses')\n",
    "plt.legend(handles=[green_circle, red_circle])\n",
    "plt.title('KD Tweet Subjectivity Over Time')\n",
    "plt.ylim(top = 0.42, bottom = 0.2)\n",
    "\n"
   ]
  },
  {
   "cell_type": "markdown",
   "metadata": {},
   "source": [
    "For reference, these are the dates that the Warriors (KD) and the Bucks (GA) played games, and the outcomes of those games (These dates are also marked on the graph):\n",
    "\n",
    "Dates of warrior games:\n",
    "4/21 -- WIN,\n",
    "4/24 -- LOSS,\n",
    "4/26 -- WIN,\n",
    "4/28 -- WIN,\n",
    "4/30 -- WIN,\n",
    "5/4 -- LOSS,\n",
    "5/6 -- LOSS,\n",
    "5/8 -- WIN,\n",
    "5/10 -- WIN,\n",
    "5/14 -- WIN,\n",
    "5/16 -- WIN,\n",
    "5/18 -- WIN,\n",
    "5/20 -- WIN\n",
    "\n",
    "Dates of bucks games:\n",
    "4/20 -- WIN,\n",
    "4/22 -- WIN,\n",
    "4/28 -- LOSS,\n",
    "4/30 -- WIN,\n",
    "5/3 -- WIN,\n",
    "5/6 -- WIN,\n",
    "5/8 -- WIN,\n",
    "5/15 -- WIN,\n",
    "5/17 -- WIN,\n",
    "5/19 -- LOSS,\n",
    "5/21 -- LOSS\n",
    "\n",
    "The graphs don't seem to show that much information at first glance, but there are a few dates of interest that can be observed on the graphs. First Giannis had relatively low positive sentiment on 5/9, despite the Bucks winning against the Celtics the night before, and eliminating them from the playoffs. This may have been caused by angry Celtics fan, or it may have simply been because we did not gather enough tweets for those days. Second, Giannis had another night of low positive sentiment on 5/19, when the Bucks lost for the first time against the Raptors in the Eastern Conference Finals after starting 2-0. Giannis played particularly poor that night, being held to a playoff-low 12 points. The low sentiment could possibly have been attributed to both the loss and Giannis's performance that night. \n",
    "\n",
    "The most interesting night to take note of for KD would've been 5/8, when he was injured in the Warrior's win against the Rockets. However, we were unable to collect any tweets on that night. KD has not played in any games since his injury, and the graph shows a relatively stable trend in positive sentiment over time. \n"
   ]
  },
  {
   "cell_type": "markdown",
   "metadata": {},
   "source": [
    "The next method we used to visualize our data was to create boxplots of the positive sentiment of tweets for each player on a given day, depending on whether their team won or loss on that day (or in the days between games). \n",
    "\n",
    "To do this, we create a new dataframe containing all of the relevant data for the boxplots. First, we drop the neg_sentiment, polarity, subjectivity, and num_tweets columns from the dataframes for each player. Next, we add a new column to each dataframe to specify which player each row represents, and then we append the two dataframes into one dataframe containing data for both players. Finally, we graph the positive sentiment in boxplots, grouping the data by player and by game outcome. "
   ]
  },
  {
   "cell_type": "code",
   "execution_count": 54,
   "metadata": {},
   "outputs": [
    {
     "data": {
      "text/plain": [
       "Text(0.5, 1.0, 'Positive Sentiment Boxplot')"
      ]
     },
     "execution_count": 54,
     "metadata": {},
     "output_type": "execute_result"
    },
    {
     "data": {
      "image/png": "[encoded data removed]",
      "text/plain": [
       "<Figure size 720x360 with 1 Axes>"
      ]
     },
     "metadata": {
      "needs_background": "light"
     },
     "output_type": "display_data"
    }
   ],
   "source": [
    "#Drop irrelevant columns\n",
    "ga_boxdf = ga_df.drop(columns = ['neg_sentiment', 'polarity', 'subjectivity',\n",
    "                                 'num_tweets'])\n",
    "kd_boxdf = kd_df.drop(columns = ['neg_sentiment', 'polarity', 'subjectivity',\n",
    "                                 'num_tweets'])\n",
    "\n",
    "#Add Player column to indicate which rows correspond to which player\n",
    "ga_boxdf['Player']='GA'\n",
    "kd_boxdf['Player']='KD'\n",
    "\n",
    "#Combine dataframes\n",
    "boxplot_df = ga_boxdf.append(kd_boxdf)\n",
    "\n",
    "#Boxplot grouped by player and result\n",
    "f6 = boxplot_df.boxplot(by = ['Player', 'result'])\n",
    "f6.set_title('Positive Sentiment Boxplot')"
   ]
  },
  {
   "cell_type": "markdown",
   "metadata": {},
   "source": [
    "The boxplots show us that Giannis's tweets have a wider distribution of positive sentiment (in both wins and losses), while KD's tweets have a tighter distribution, regardless of win or loss. This difference may have been because we had much more tweets for KD than we did for Giannis, causing the quartiles for KD to close in towards the median. The median for Giannis's losses is lower than the median for his wins, while the opposite is true for KD. However, it is interesting to note that the median for KD's losses is actually the highest out of all medians. "
   ]
  },
  {
   "cell_type": "markdown",
   "metadata": {},
   "source": [
    "The final method we used to visualize our twitter sentiment data was to find the average positive sentiment on nights of wins and on nights of losses, as well as average positive sentiment across all games. These graphs would let us see if there were any easily noticable differences in average sentiment depending on whether each player's team won or loss. "
   ]
  },
  {
   "cell_type": "code",
   "execution_count": 31,
   "metadata": {},
   "outputs": [
    {
     "name": "stdout",
     "output_type": "stream",
     "text": [
      "GA average sentiment across all games:  0.5426634741636542\n",
      "GA average sentiment in wins:  0.546217186879\n",
      "GA average sentiment in losses:  0.535556048733\n",
      "KD average sentiment across all games:  0.539907526638455\n",
      "KD average sentiment in wins:  0.535733191708\n",
      "KD average sentiment in losses:  0.551039086452\n"
     ]
    }
   ],
   "source": [
    "#GA sentiment based on win/loss\n",
    "ga_win_sentiment = []\n",
    "ga_loss_sentiment = []\n",
    "for i in ga_df.index:\n",
    "    outcome = ga_df.loc[i, 'result']\n",
    "    if (outcome == 'W'):\n",
    "        ga_win_sentiment.append(ga_df.loc[i, 'pos_sentiment'])\n",
    "    if (outcome == 'L'):\n",
    "        ga_loss_sentiment.append(ga_df.loc[i, 'pos_sentiment'])\n",
    "\n",
    "ga_avg_win = sum(ga_win_sentiment)/len(ga_df[ga_df['result']=='W'])\n",
    "ga_avg_loss = sum(ga_loss_sentiment)/len(ga_df[ga_df['result']=='L'])\n",
    "\n",
    "\n",
    "#KD sentiment based on win/loss\n",
    "kd_win_sentiment = []\n",
    "kd_loss_sentiment = []\n",
    "for i in kd_df.index:\n",
    "    outcome = kd_df.loc[i, 'result']\n",
    "    if (outcome == 'W'):\n",
    "        kd_win_sentiment.append(kd_df.loc[i, 'pos_sentiment'])\n",
    "    if (outcome == 'L'):\n",
    "        kd_loss_sentiment.append(kd_df.loc[i, 'pos_sentiment'])\n",
    "\n",
    "kd_avg_win = sum(kd_win_sentiment)/len(kd_df[kd_df['result']=='W'])\n",
    "kd_avg_loss = sum(kd_loss_sentiment)/len(kd_df[kd_df['result']=='L'])\n",
    "\n",
    "\n",
    "#Average sentiment across all games \n",
    "ga_avg_sent = sum(ga_df['pos_sentiment'])/len(ga_df['pos_sentiment'])\n",
    "kd_avg_sent = sum(kd_df['pos_sentiment'])/len(kd_df['pos_sentiment'])\n",
    "\n",
    "\n",
    "\n",
    "print('GA average sentiment across all games: ', ga_avg_sent)\n",
    "print('GA average sentiment in wins: ', ga_avg_win)\n",
    "print('GA average sentiment in losses: ', ga_avg_loss)\n",
    "print('KD average sentiment across all games: ', kd_avg_sent)\n",
    "print('KD average sentiment in wins: ', kd_avg_win)\n",
    "print('KD average sentiment in losses: ', kd_avg_loss)"
   ]
  },
  {
   "cell_type": "markdown",
   "metadata": {},
   "source": [
    "The above codes shows average positive sentiment across all games, and then average sentiment across games where the player's team won or loss. "
   ]
  },
  {
   "cell_type": "markdown",
   "metadata": {},
   "source": [
    "After finding the average values, we graph them with a grouped bar plot. "
   ]
  },
  {
   "cell_type": "code",
   "execution_count": 32,
   "metadata": {},
   "outputs": [
    {
     "data": {
      "image/png": "[encoded data removed]",
      "text/plain": [
       "<Figure size 720x360 with 1 Axes>"
      ]
     },
     "metadata": {
      "needs_background": "light"
     },
     "output_type": "display_data"
    }
   ],
   "source": [
    "#Plot average sentiments\n",
    "f5 = plt.figure()\n",
    "barWidth = .3\n",
    "plt.ylim(top = .57)\n",
    "plt.ylim(bottom = .5)\n",
    "win_bars = [ga_avg_win, kd_avg_win]\n",
    "loss_bars = [ga_avg_loss, kd_avg_loss]\n",
    "all_bars = [ga_avg_sent, kd_avg_sent]\n",
    "\n",
    "r1 = np.arange(len(win_bars))\n",
    "r2 = [x + barWidth for x in r1]\n",
    "r3 = [x + barWidth for x in r2]\n",
    "\n",
    "plt.bar(r1, win_bars, width = barWidth, label = 'Win')\n",
    "plt.bar(r2, loss_bars, width = barWidth, label = 'Loss')\n",
    "plt.bar(r3, all_bars, width = barWidth, label = 'All Games')\n",
    "plt.xticks([r + barWidth for r in range(len(win_bars))], ['GA', 'KD'])\n",
    "\n",
    "\n",
    "plt.legend()\n",
    "plt.show()"
   ]
  },
  {
   "cell_type": "markdown",
   "metadata": {},
   "source": [
    "The bars for Giannis show what we would expect from our twitter data: positive sentiment being higher on nights of wins, and lower on nights of losses. However, the bars for KD are the opposite. His positive sentiment on nights of wins is much lower than on nights of losses. This may have to do with the highly polar attitude towards Kevin Durant in general. Many fans of teams besides the Warriors dislike him, and may still tweet negatively about him even when he wins. Also, KD performed well during the playoffs even in losses, so fans may have still praised him even on nights when the Warriors lost. \n",
    "\n",
    "Note: The difference in these averages are still quite small (around 0.1-0.2)"
   ]
  },
  {
   "cell_type": "markdown",
   "metadata": {},
   "source": [
    "## DATA Analysis and Results\n",
    "\n",
    "When our team made the plan, we noticed that winning or losing for an NBA team had an impact on the twitter's overall sentiment especially for the two basketball players Kevin Durant and Giannis Antetokounmpo. To test our hunch, we collected thousands of related data about those two basketball teams from twitter over the span of one month. Our hypothesis was that the trend we would expect to observe is that on days where the player's team wins, the sentiment should be positive and on days where their team loses the sentiment should be negative. Therefore, we collected data from twitter and did the data visualization to examine our hypothesis.\n",
    "    \n",
    "After data cleaning and data processing, we created a table to show the positive and negative sentiment percentage for each basketball game. Even though the table could show the relationship between sentiment and winning, we still made several graphs to describe the relationship. From the graph, we showed the relationship between each team winning and the sentiment value of tweets. From the GA positive sentiment over time graph, it doesn't show a clear reationship between positive sentiment and the game result. The relationship looks somewhat random. Both losing and winning results could cause the higher positive sentiment. Furthermore, winning a game may cause a lower precentage of positive sentiment. However, from the KD positive sentiment over time graph, it also doesn't show a clear relationship between positive sentiment and the game result. The graph shows that whenever KD wins a game or loses a game, the precentage of positive sentiment always seems high(more than 50%). And we keep tracking and analyzing the dataset by the boxplot. The boxplots show us that Giannis's tweets have a wider distribution of positive sentiment whenever winning or losing a game. KD's tweets have a tighter distribution, as there is no relationship of win or loss. This difference may have been because we had many more tweets for KD than we did for Giannis, causing the quartiles for KD to close in towards the median. The median for Giannis's losses is lower than the median for his wins, while the opposite to be true for KD. However, it is interesting to note that the median for KD's losses is actually the highest out of all medians. And then, we use the bar graph to do analysis, there is clear relationship between the sentiment and game result. For GA team, the winning game has the higher persentage then losing a game. Therefore, fans or poeple would be willing to see winning of GA, but both game results have a high percentage of positive sentiment. It seems evident that GA is a more popular player than KD. And for KD's team, the losing games have a higher sentiment than the winning games. And also both game results have a high percentage of positive sentiment. But it seems that when KD loses a game, most people have a positive sentiment on twitter. \n",
    "\n",
    "In conclusion, from the data analysising, our hypothesis is wrong which is that the trend we would expect to observe is that on days where the player's team wins, the sentiment should be positive and on days where their team loses the sentiment should be negative. Therefore, there is no relationship between game result and positive sentiment from the twitter users according to our data."
   ]
  },
  {
   "cell_type": "markdown",
   "metadata": {},
   "source": [
    "## Ethical Considerations\n",
    "\n",
    "One of the main ethical considerations involved with this project is that the data we have is biased towards people who have and use a twitter account. We are missing the sentiment of all people who don't have a twitter account, or even people who do, but don't tweet/include hashtags in their tweets. Including the sentiment of these groups might affect our final results. \n",
    "\n",
    "Another consideration is how the results of our analysis might affect the livelihood of these players. Since our analysis can be used to infer how popular a player is, our results could potentially be used by teams when offering one of these players a new contract. A player with higher sentiment might be able to demand more money, as a higher sentiment might suggest more fans. A player with a lower sentiment might potentially lose out on some money, as the team signing them could argue that less fans like them, and so they are therefore less valuable. \n",
    "\n",
    "Finally, we feel like the privacy of tweeters involved in this project is fairly well protected. Each of the tweets we collected is anonymous, with no label to identify the person who tweeted it. "
   ]
  },
  {
   "cell_type": "markdown",
   "metadata": {},
   "source": [
    "## Conclusions / Discussions"
   ]
  },
  {
   "cell_type": "markdown",
   "metadata": {},
   "source": [
    "As discussed in our data analysis, we saw a weak relationship between the sentiment value of tweet's about a basketball player and the results of their games. One of the factors that could have most likely skewed our results started at data collection. \n",
    "\n",
    "The tweets we pulled from twitter were limited to a couple thousand per player. We could have pulled more tweets if we each used a different access token. This way we would less quickly reach the maximum limit of tweets that Twitter allows us to search for. Another important step in data collection that we could improve on next time is to filter the data we are receving. TextBlob API and Twitter API gives us different methods that we could have used to get more significant data. We could have used Twiiter's API to search for only English tweets since TextBlob could only analyze english words. We could have also used TextBlob's API to filter out stopwords. After doing this we may have been able to see better results.  \n",
    "\n",
    "Another factor that we could not control is that Kevin Durant was injured during one of his games. After his injury he did not participate in any future games. That means that the results of certain games had nothing to do with his participation and the sentiment of his tweets would did not depend on his performance during the games. To further improve our results the next time we analyze the sentiment of tweets about a basketball player, we could prepare more data in advance in case a player gets injured and filter the data we reveive to get more sentimental value out of each string of words. "
   ]
  }
 ],
 "metadata": {
  "kernelspec": {
   "display_name": "Python 3",
   "language": "python",
   "name": "python3"
  },
  "language_info": {
   "codemirror_mode": {
    "name": "ipython",
    "version": 3
   },
   "file_extension": ".py",
   "mimetype": "text/x-python",
   "name": "python",
   "nbconvert_exporter": "python",
   "pygments_lexer": "ipython3",
   "version": "3.6.7"
  }
 },
 "nbformat": 4,
 "nbformat_minor": 2
}
