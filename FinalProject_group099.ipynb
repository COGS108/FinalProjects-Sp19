{
 "cells": [
  {
   "cell_type": "markdown",
   "metadata": {
    "colab_type": "text",
    "id": "zbUq2R31xiux"
   },
   "source": [
    "# COGS 108 - Final Project \n",
    "\n",
    "Group 99: Food Fairies"
   ]
  },
  {
   "cell_type": "markdown",
   "metadata": {
    "colab_type": "text",
    "id": "c5dhMKi_xiu0"
   },
   "source": [
    "# Overview"
   ]
  },
  {
   "cell_type": "markdown",
   "metadata": {
    "colab_type": "text",
    "id": "RsNQBAbmxiu2"
   },
   "source": [
    "In 2014 alone, 17.4 million households in the United States reported themselves as food insecure. Food access and security is a heavily discussed social issue in our nation due to its frequency and complexity. Risk factors such as economics, geography, politics, and culture all play a role in a group’s food security. Food is a basic human necessity, yet many groups, from impoverished families to disabled individuals, report problems fulfilling this need [1]. In this project, we aim to analyze a variety of factors that we hypothesize to influence food security across the counties in the United States. While the \"cause\" of food accessibility cannot be simplified to a select number of variables, we wanted to use this project as an opportunity to analyze the problem from a variety of approaches:\n",
    "- We looked at the topic from an economic standpoint by considering a county's median income and poverty percentage.\n",
    "- We looked at the topic from a geographic standpoint by considering the distance to food sources and the number of food sources in each county.\n",
    "- We looked at the topic from a political standpoint by considering the use of the Supplemental Nutrition Assistance Program (SNAP) and the Special Supplemental Nutrition Program for Women, Infants, and Children (WIC) across counties. \n",
    "- We looked at the topic from a cultural standpoint by considering demographics and the value of nutrition/health within a particular county (farmer's markets vs fast-food restaurants).\n",
    "\n",
    "Our project aims to look at the problem of food accessibility objectively and comprehensively. While we entered this project knowing that we would not be able to identify the cause(s) of food insecurity in the United States, we hope that by the end of this analysis it will be more apparent which variables are most predicitive of food insecurity levels in an area and are crucial to consider when developing programs/projects to improve food access in our nation. \n",
    "\n",
    "[1] Food Insecurity: https://www.healthypeople.gov/2020/topics-objectives/topic/social-determinants-health/interventions-resources/food-insecurity\n"
   ]
  },
  {
   "cell_type": "markdown",
   "metadata": {
    "colab_type": "text",
    "id": "FFSnIQX0xiu4"
   },
   "source": [
    "# Names\n",
    "\n",
    "- Julie Fung\n",
    "- Zaara Khan\n",
    "- Madeline Snyder\n",
    "- Kritin Karkare\n",
    "- Jocelyn Tran\n",
    "- Sai Annapragada"
   ]
  },
  {
   "cell_type": "markdown",
   "metadata": {
    "colab_type": "text",
    "id": "2XnmZMcTxiu7"
   },
   "source": [
    "# Research Questions"
   ]
  },
  {
   "cell_type": "markdown",
   "metadata": {
    "colab_type": "text",
    "id": "bNc2jFCLxiu9"
   },
   "source": [
    "(1) How does the availability and use of government meal-assistance programs and access to affordable food sources relate to food insecurity across counties in the United States? What other variables (county's median income, county's poverty percentage) are predictive of food insecurity in a county?\n",
    "\n",
    "(2) Which variable (county's median income, county's poverty percentage, county's demographics) is the most predictive of food access in counties across the United States? \n",
    "\n",
    "\n",
    "*According to USDA ERS, Food Security in this sense is defined as \"access by all people at all times to enough food for an active, healthy life.\"*"
   ]
  },
  {
   "cell_type": "markdown",
   "metadata": {
    "colab_type": "text",
    "id": "M5g2yod-xiu_"
   },
   "source": [
    "## Background and Prior Work"
   ]
  },
  {
   "cell_type": "markdown",
   "metadata": {
    "colab_type": "text",
    "id": "SFyeXlHgxivB"
   },
   "source": [
    "In this project, we want to explore the idea of food insecurity and see how it can vary across the United States. After researching different topics related to nutrition, education, and social justice, we came across the issue of food security and became curious about how we could analyze this topic. The United States Department of Agriculture defines food security as “access by all people at all times to enough food for an active, healthy life”. We chose to concretely operationalize this concept of food security as access to grocery stores, and food stores (including supercenters and club stores, convenience stores, specialized food stores, SNAP authorized stores). We also chose to observe distance from fast food restaurants as an example of a food source that is not conducive to a healthy lifestyle.\n",
    "\n",
    "As of now, there has been prior research on the direct link between poverty and food insecurity amongst children, and a link indicating that lower minority groups, such as African American communities and Latino communities, suffer a higher poverty rate. However, we felt that our project would be beneficial because it looks at a variety of factors that contribute to food access to provide a more comprehensive analysis of the issue. Rather than solely focusing on a single variable of percent food insecurity, we wanted to broaden our definition of food security and quantitatively analyze multiple factors that we believe are crucial to this issue, such as grocery stores, or government meal programs, and poverty rates. We did not see any previous projects related to identifying the most predictive factor of food insecurity, or any projects analyzing the importance of a county’s median income level, so we only have our own background knowledge and interest in the topic to work off of.  \n",
    "\n",
    "The nonprofit organization Feeding America provides a lot of information on food security in America on a county-wide level. They analyze the relationship between food insecurity and age, demographics, income, location, and other variables. However, we hope to take their data and look at the issue in an inventive way. We will use county variables in poverty percentage and demographics to identify the most predictive factor in food insecurity across counties in the United States. We will also be combining variables from Feeding America’s data, such as analyzing a population’s access to stores with food for purchase in general, rather than focusing on access to each individual store-type, and combining data from multiple meal-assistance programs. We believe that by combining data and looking at new relationships, our project will be able to provide a clearer analysis of food security across the United States. \n",
    "\n",
    "\n",
    "**References:**\n",
    "- 1) The definition of food security as stated by the Department of Agriculture:\n",
    "\thttps://www.ers.usda.gov/topics/food-nutrition-assistance/food-security-in-the-us.aspx \n",
    "- 2) Feeding America’s statistics on groups most vulnerable to food insecurity:\n",
    "\thttps://www.feedingamerica.org/hunger-in-america\n",
    "- 3) Feeding America’s analysis on San Diego County:\thttp://map.feedingamerica.org/county/2015/overall/california/county/san-diego\n",
    "- 4) Research paper on link between Poverty and Food Insecurity among Children: https://www.ncbi.nlm.nih.gov/pmc/articles/PMC4096937/\n",
    "-5) Information on SNAP: https://www.fns.usda.gov/snap/supplemental-nutrition-assistance-program\n",
    "-6) Information on WIC: https://www.fns.usda.gov/wic"
   ]
  },
  {
   "cell_type": "markdown",
   "metadata": {
    "colab_type": "text",
    "id": "PL4xPhQ4xivD"
   },
   "source": [
    "# Hypothesis\n"
   ]
  },
  {
   "cell_type": "markdown",
   "metadata": {
    "colab_type": "text",
    "id": "zB6aoIEjxivG"
   },
   "source": [
    "(1) We predict that the counties with the highest median incomes will have the greatest access to a variety of food sources, such as grocery stores, as well as have government-funded meal programs available for those in poverty. We believe that counties with higher incomes are more likely to place a greater value in healthy nutrition choices than counties with lower incomes and will have a greater number of food sources, such as stores or programs, and therefore more access to food overall. Additionally, we believe that higher income areas will have greater access to food because businesses are more likely to establish stores in areas where consumers have more money to spend on their products. Therefore, we predict:\n",
    "- A negative correlation between a county's median income and household food insecurity (%, three-year average), 2013-15*\n",
    "- A positive correlation between poverty percentage in county and food insecurity (% population food insecure)\n",
    "- A positive correlation between the population's access and proximity to grocery stores (count) and the county's median income\n",
    "- A positive correlation between the number of grocery stores in a county and the median income of that county\n",
    "- A positive correlation between the number of stores with food products available (count, including grocery stores, supercenters and club stores, convenience stores, specialized food stores, and SNAP authorized stores) and the county's median income\n",
    "- A positive correlation between the percentage of the population using SNAP and the food insecurity percentage in that county. SNAP is need-based meaning food insecurity would need to be high in order for citizens to qualify.\n",
    "\n",
    "We also predict that those who live in lower income counties will have greater access to unhealthy food, such as fast-food restaurants, and less access to nutritious food, such as fresh food found at farmers markets. We predict this because we believe that lower income populations are more likely to spend their money on cheaper food, such as the food found at fast food restaurants, so that they are able to meet their other basic needs (housing, clothes, etc.). Therefore, businesses that provide cheaper, typically more-unhealthy food are more likely to be successful in lower income counties than the more expensive, healthier food businesses. Therefore, we predict:\n",
    "- A negative correlation between county's median income and number of fast food restaurants (lower income counties will have a greater number of fast food restaurants) \n",
    "- A positive correlation between number of farmer's markets and median income across counties\n",
    "\n",
    "(2) We predict that the median income of a county will be most predictive of that county's food insecurity percentage. We believe that the median income will be the most predictive variable because it is the most objective measure when compared to racial disparities and poverty percentage. We believe that the concepts of \"racial disparities\" and \"poverty\" may vary across counties and also be influenced by extraneous variables when they are being measured. Therefore, we predict:\n",
    "- Multivariable Regression: Median income will be more predictive than racial disparities in food insecurity across counties \n",
    "- Multivariable Regression: Median income will be more predictive than poverty percentage for food insecurity across counties "
   ]
  },
  {
   "cell_type": "markdown",
   "metadata": {
    "colab_type": "text",
    "id": "FianW9CfxivJ"
   },
   "source": [
    "# Dataset(s)"
   ]
  },
  {
   "cell_type": "markdown",
   "metadata": {
    "colab_type": "text",
    "id": "P5jI3mIOxivL"
   },
   "source": [
    "- Dataset Name: Food Environment Atlas\n",
    "- Link to the dataset: https://www.ers.usda.gov/data-products/food-environment-atlas/data-access-and-documentation-downloads.aspx (link is named 'Data Download', last updated 3/27/2018)\n",
    "- Number of observations: There are 3142 observations (one for each county in the US) spread across 10 different spreadsheets. These will be compared to the 58 counties in California.\n",
    "\n",
    "The first 2 sheets in the Excel document describe the variables used in the rest of the document. The rest of the sheets breakdown access, stores, restaurants, assistance, insecurities, prices/taxes, local food outlets, health, socioeconomic status by counties in the US. \n",
    "\n",
    "The Food Environment Atlas datasheets being used is collected through a variety of sources such as the 2015 directory of supermarkets, Census data on population and subpopulation characteristics, and American Community Survey data on household vehicle access and family income. \n",
    "\n",
    "From the dataset, we have selected variables that we believe best fit our project. Additionally, each variable references data that is either a count (number) or percentage (percentage of total population in that county). For each variable, we determined what type (count or %) would be most appropriate for our comparisons and analysis. In this project, we used the following variables from the Food Environment Atlas:\n",
    "\n",
    "*   County Median Income (Count)\n",
    "*   Poverty Percentage (%)\n",
    "*   Household Food Insecurity (%, 3 year avg)\n",
    "*   Number of Grocery Stores (Count)\n",
    "*   Number of Food Stores (Count): Variable unique to our project. We combined count data from  the Food Environment Atlass on the number of grocery stores, supercenters and club stores, convenience stores, specialized food stores, and SNAP authorized stores to make a generic varibale that better assess food access overall. \n",
    "*  Percent of population using SNAP (%)\n",
    "*  Number of SNAP redemptions (Count)\n",
    "*  Fast food restaraunts in the area (Count)\n",
    "*  Farmers Markets in the area (Count)\n",
    "\n"
   ]
  },
  {
   "cell_type": "markdown",
   "metadata": {
    "colab_type": "text",
    "id": "YQcRX2hfxivM"
   },
   "source": [
    "# Setup"
   ]
  },
  {
   "cell_type": "markdown",
   "metadata": {
    "colab_type": "text",
    "id": "kMAo61TvskbX"
   },
   "source": [
    "First, we imported the datasheet titled food_environment_atlas.xls. After reading in the excel datasheet with pd.read_excel, we also renamed the column names. \n"
   ]
  },
  {
   "cell_type": "code",
   "execution_count": 0,
   "metadata": {
    "colab": {},
    "colab_type": "code",
    "id": "7V6Y8WCb9Xcc"
   },
   "outputs": [],
   "source": [
    "import numpy as np\n",
    "import pandas as pd\n",
    "import matplotlib.pyplot as plt\n",
    "import seaborn as sns\n",
    "from shapely.geometry import Point\n",
    "import patsy\n",
    "import statsmodels.regression.linear_model as sm\n",
    "\n",
    "%matplotlib inline"
   ]
  },
  {
   "cell_type": "code",
   "execution_count": 0,
   "metadata": {
    "colab": {},
    "colab_type": "code",
    "id": "3qWFZYOOxivS"
   },
   "outputs": [],
   "source": [
    "xls = pd.ExcelFile('food_environment_atlas.xls')\n",
    "\n",
    "population = pd.read_excel(xls, 'Supplemental Data - County')\n",
    "access = pd.read_excel(xls, 'ACCESS')\n",
    "stores = pd.read_excel(xls, 'STORES')\n",
    "restaurants = pd.read_excel(xls, 'RESTAURANTS')\n",
    "assistance = pd.read_excel(xls, 'ASSISTANCE')\n",
    "insecurity = pd.read_excel(xls, 'INSECURITY')\n",
    "prices = pd.read_excel(xls, 'PRICES_TAXES')\n",
    "local = pd.read_excel(xls, 'LOCAL')\n",
    "health = pd.read_excel(xls, 'HEALTH')\n",
    "socioeconomic = pd.read_excel(xls, 'SOCIOECONOMIC')"
   ]
  },
  {
   "cell_type": "markdown",
   "metadata": {
    "colab_type": "text",
    "id": "OyXgfe5txivb"
   },
   "source": [
    "# Data Cleaning"
   ]
  },
  {
   "cell_type": "markdown",
   "metadata": {
    "colab_type": "text",
    "id": "m2AKAbHxxivd"
   },
   "source": [
    "There are 277 variables split across the 10 spreadsheets. In our project, we want to look at the most recent data available. This is why for each category, we only looked at the variables that recorded most recently. For example for the ACCESS sheet, there were two variables, named \"Population, low access to store, 2010\" and \"Population, low access to store, 2015\". For this sheet we eliminated the former because we wanted to look at more recent data.\n",
    "\n",
    "In addition, the spreadsheets also contained the same data in different units. For example, the ACCESS sheet has both \"Population, low access to store, 2015\" and \"Population, low access to store (%), 2010\". Since we are comparing multiple counties to each other, we decided to use the latter variable (with the percentage) so that our results are normalized.\n",
    "\n",
    "Since we have limited time, we also focused on more general variables instead of more specific variables to get an overall view of the data.\n",
    "\n",
    "In our analysis later on, we will create visualizations that involve variables from different dataframes. Null values exist in some cells of the data. We want to minimize the number of rows that we drop due to these null values so we only drop the rows after combining the dataframes. We did not combine all the dataframs below into one dataframe and drop all the rows that have null values because that drops more rows than neccessary (since we are not visualizing all the data together)."
   ]
  },
  {
   "cell_type": "code",
   "execution_count": 0,
   "metadata": {
    "colab": {},
    "colab_type": "code",
    "id": "nqn_CRvLxive"
   },
   "outputs": [],
   "source": [
    "population = pd.read_excel(xls, 'Supplemental Data - County')\n",
    "population = population[['State', 'County', 'Population Estimate, 2016']]\n",
    "population.columns = ['State', 'County', 'Population_Est_2016']\n",
    "\n",
    "access = pd.read_excel(xls, 'ACCESS')\n",
    "access = access[['County', 'PCT_LACCESS_POP15']]\n",
    "#county, percentage of population with low access to store in 2015 \n",
    "\n",
    "stores = pd.read_excel(xls, 'STORES')\n",
    "stores = stores[['County', 'GROC14', 'SUPERC14', 'CONVS14', 'SPECS14', 'SNAPS16', 'WICS12']]\n",
    "stores.columns = ['County', 'Num_Grocery_Stores', 'Num_Supercenters', 'Num_Convenience_Stores', 'Num_Special_Stores', 'Num_SNAP_authorized_stores', 'Num_WIC_authorized_stores']\n",
    "\n",
    "restaurants = pd.read_excel(xls, 'RESTAURANTS')\n",
    "restaurants = restaurants[['County', 'FFR14']]\n",
    "restaurants.columns = ['County', 'num_fast_food_restuarants']\n",
    "\n",
    "assistance = pd.read_excel(xls, 'ASSISTANCE')\n",
    "assistance = assistance[['County', 'REDEMP_SNAPS16', 'PCT_SNAP16']]\n",
    "assistance.columns = ['County', 'num_SNAP_redemptions', 'SNAP_participants_per_pop)']\n",
    "\n",
    "insecurity = pd.read_excel(xls, 'INSECURITY')\n",
    "insecurity = insecurity[['County', 'FOODINSEC_13_15']]\n",
    "insecurity.columns = ['County', 'percent_pop_food_insecure']\n",
    "\n",
    "socioeconomic = pd.read_excel(xls, 'SOCIOECONOMIC')\n",
    "poverty = socioeconomic[['County', 'POVRATE15']]\n",
    "poverty.columns = ['County', 'percent_poverty_rate']\n",
    "\n",
    "income = socioeconomic[['County', 'MEDHHINC15']]\n",
    "income.columns = ['County', 'median_income']\n",
    "\n",
    "veryLowSec = pd.read_excel(xls, 'INSECURITY')\n",
    "veryLowSec = veryLowSec[['County', 'VLFOODSEC_13_15']]\n",
    "\n",
    "grocery = pd.read_excel(xls, 'STORES')\n",
    "grocery = grocery[['County', 'GROC14']]"
   ]
  },
  {
   "cell_type": "markdown",
   "metadata": {
    "colab_type": "text",
    "id": "TnI7fQCHlneJ"
   },
   "source": [
    "# Data Analysis and Results"
   ]
  },
  {
   "cell_type": "markdown",
   "metadata": {
    "colab_type": "text",
    "id": "uqIYA3we32R2"
   },
   "source": [
    "Let us visualize income, population, and food insecurity of the states. First, let's merge the food insecurity and income of the counties in a dataframe called incomeInsecurity."
   ]
  },
  {
   "cell_type": "markdown",
   "metadata": {
    "colab_type": "text",
    "id": "__bAZuUeUqH2"
   },
   "source": [
    "To compare the impact of the number of food stores, food insecurity, and income, we will be using distribution charts, and linear regression analysis.\n",
    "incomeInsecurity\n",
    "Let us visualize income, population, and food insecurity of the states by linear regression. To do this, let's merge the food insecurity and income of the counties into a dataframe called incomeInsecurity and plot it on a scatter plot. Next, let’s find the line of best fit.\n"
   ]
  },
  {
   "cell_type": "code",
   "execution_count": 0,
   "metadata": {
    "colab": {
     "base_uri": "https://localhost:8080/",
     "height": 204
    },
    "colab_type": "code",
    "id": "td87Gnso4Le8",
    "outputId": "a5399579-ee1e-4612-bff6-9794c90403fd"
   },
   "outputs": [
    {
     "data": {
      "text/html": [
       "<div>\n",
       "<style scoped>\n",
       "    .dataframe tbody tr th:only-of-type {\n",
       "        vertical-align: middle;\n",
       "    }\n",
       "\n",
       "    .dataframe tbody tr th {\n",
       "        vertical-align: top;\n",
       "    }\n",
       "\n",
       "    .dataframe thead th {\n",
       "        text-align: right;\n",
       "    }\n",
       "</style>\n",
       "<table border=\"1\" class=\"dataframe\">\n",
       "  <thead>\n",
       "    <tr style=\"text-align: right;\">\n",
       "      <th></th>\n",
       "      <th>County_x</th>\n",
       "      <th>percent_pop_food_insecure</th>\n",
       "      <th>County_y</th>\n",
       "      <th>median_income</th>\n",
       "    </tr>\n",
       "  </thead>\n",
       "  <tbody>\n",
       "    <tr>\n",
       "      <th>0</th>\n",
       "      <td>Autauga</td>\n",
       "      <td>17.6</td>\n",
       "      <td>Autauga</td>\n",
       "      <td>56580.0</td>\n",
       "    </tr>\n",
       "    <tr>\n",
       "      <th>1</th>\n",
       "      <td>Baldwin</td>\n",
       "      <td>17.6</td>\n",
       "      <td>Baldwin</td>\n",
       "      <td>52387.0</td>\n",
       "    </tr>\n",
       "    <tr>\n",
       "      <th>2</th>\n",
       "      <td>Barbour</td>\n",
       "      <td>17.6</td>\n",
       "      <td>Barbour</td>\n",
       "      <td>31433.0</td>\n",
       "    </tr>\n",
       "    <tr>\n",
       "      <th>3</th>\n",
       "      <td>Bibb</td>\n",
       "      <td>17.6</td>\n",
       "      <td>Bibb</td>\n",
       "      <td>40767.0</td>\n",
       "    </tr>\n",
       "    <tr>\n",
       "      <th>4</th>\n",
       "      <td>Blount</td>\n",
       "      <td>17.6</td>\n",
       "      <td>Blount</td>\n",
       "      <td>50487.0</td>\n",
       "    </tr>\n",
       "  </tbody>\n",
       "</table>\n",
       "</div>"
      ],
      "text/plain": [
       "  County_x  percent_pop_food_insecure County_y  median_income\n",
       "0  Autauga                       17.6  Autauga        56580.0\n",
       "1  Baldwin                       17.6  Baldwin        52387.0\n",
       "2  Barbour                       17.6  Barbour        31433.0\n",
       "3     Bibb                       17.6     Bibb        40767.0\n",
       "4   Blount                       17.6   Blount        50487.0"
      ]
     },
     "execution_count": 4,
     "metadata": {
      "tags": []
     },
     "output_type": "execute_result"
    }
   ],
   "source": [
    "incomeInsecurity = pd.merge(insecurity, income, left_index=True, right_index=True)\n",
    "incomeInsecurity = incomeInsecurity.dropna() # Drop all null values\n",
    "incomeInsecurity.head()"
   ]
  },
  {
   "cell_type": "markdown",
   "metadata": {
    "colab_type": "text",
    "id": "lt4HHQQSJPa0"
   },
   "source": [
    "Then, we will plot a scatterplot of incomeInsecurity to find the line of best fit using the median household income from 2015 and the population of food insecurity of each county."
   ]
  },
  {
   "cell_type": "code",
   "execution_count": 0,
   "metadata": {
    "colab": {
     "base_uri": "https://localhost:8080/",
     "height": 312
    },
    "colab_type": "code",
    "id": "Zi9xSRjD4OCy",
    "outputId": "7041d1b8-bc39-451c-e39d-d8e90ac2f5ad"
   },
   "outputs": [
    {
     "data": {
      "text/plain": [
       "Text(0.5, 1.0, 'Median Income vs Percent Food Insecure')"
      ]
     },
     "execution_count": 105,
     "metadata": {
      "tags": []
     },
     "output_type": "execute_result"
    },
    {
     "data": {
      "image/png": "[encoded data removed]",
      "text/plain": [
       "<Figure size 432x288 with 1 Axes>"
      ]
     },
     "metadata": {
      "tags": []
     },
     "output_type": "display_data"
    }
   ],
   "source": [
    "corrIncIns = incomeInsecurity.plot.scatter(x='median_income', y='percent_pop_food_insecure')\n",
    "\n",
    "# Use polyfit to create a line of best fit\n",
    "a1, b1 = np.polyfit(incomeInsecurity['median_income'], incomeInsecurity['percent_pop_food_insecure'], 1)\n",
    "xs = np.arange(0, 120000)\n",
    "ys = a1*xs + b1\n",
    "plt.plot(xs, ys, color='red')\n",
    "plt.xlabel(\"Median Income\")\n",
    "plt.ylabel(\"Percent Food Insecure\")\n",
    "plt.title(\"Median Income vs Percent Food Insecure\")"
   ]
  },
  {
   "cell_type": "markdown",
   "metadata": {
    "colab_type": "text",
    "id": "x3Z18pIy4Qmx"
   },
   "source": [
    "For this scatterplot, there is no meaningful correlation between the values of median income and percent of the population of food insecure. "
   ]
  },
  {
   "cell_type": "markdown",
   "metadata": {
    "colab_type": "text",
    "id": "KMARHgrrhmHq"
   },
   "source": [
    "Again, there is no meaningful or significant correlation between a county's median income a % of the population that reports being food insecure in that county."
   ]
  },
  {
   "cell_type": "code",
   "execution_count": 0,
   "metadata": {
    "colab": {
     "base_uri": "https://localhost:8080/",
     "height": 34
    },
    "colab_type": "code",
    "id": "QJGySRez4YXa",
    "outputId": "5ffc8e04-c297-452e-b762-6fb61b2260c4"
   },
   "outputs": [
    {
     "name": "stdout",
     "output_type": "stream",
     "text": [
      "-4.888033932105376e-05\n"
     ]
    }
   ],
   "source": [
    "print(a1)"
   ]
  },
  {
   "cell_type": "code",
   "execution_count": 0,
   "metadata": {
    "colab": {
     "base_uri": "https://localhost:8080/",
     "height": 111
    },
    "colab_type": "code",
    "id": "6pab4eRuJKSb",
    "outputId": "bb52bbfb-39f9-40a0-f2b7-1d45673e5c97"
   },
   "outputs": [
    {
     "data": {
      "text/html": [
       "<div>\n",
       "<style scoped>\n",
       "    .dataframe tbody tr th:only-of-type {\n",
       "        vertical-align: middle;\n",
       "    }\n",
       "\n",
       "    .dataframe tbody tr th {\n",
       "        vertical-align: top;\n",
       "    }\n",
       "\n",
       "    .dataframe thead th {\n",
       "        text-align: right;\n",
       "    }\n",
       "</style>\n",
       "<table border=\"1\" class=\"dataframe\">\n",
       "  <thead>\n",
       "    <tr style=\"text-align: right;\">\n",
       "      <th></th>\n",
       "      <th>percent_pop_food_insecure</th>\n",
       "      <th>median_income</th>\n",
       "    </tr>\n",
       "  </thead>\n",
       "  <tbody>\n",
       "    <tr>\n",
       "      <th>percent_pop_food_insecure</th>\n",
       "      <td>1.000000</td>\n",
       "      <td>-0.245654</td>\n",
       "    </tr>\n",
       "    <tr>\n",
       "      <th>median_income</th>\n",
       "      <td>-0.245654</td>\n",
       "      <td>1.000000</td>\n",
       "    </tr>\n",
       "  </tbody>\n",
       "</table>\n",
       "</div>"
      ],
      "text/plain": [
       "                           percent_pop_food_insecure  median_income\n",
       "percent_pop_food_insecure                   1.000000      -0.245654\n",
       "median_income                              -0.245654       1.000000"
      ]
     },
     "execution_count": 8,
     "metadata": {
      "tags": []
     },
     "output_type": "execute_result"
    }
   ],
   "source": [
    "# Find correlations using pearson method\n",
    "df = incomeInsecurity\n",
    "df.corr(method='pearson')"
   ]
  },
  {
   "cell_type": "markdown",
   "metadata": {
    "colab_type": "text",
    "id": "zjtKdGXa4dyh"
   },
   "source": [
    "We can see a negative correlation between the median income and the percent of the population in each county that is food insecure. In other words, as a county's median income increases the percent of that county's population that reports being food insecure decreases. However, this correlation is not as strong as we expected it to be."
   ]
  },
  {
   "cell_type": "markdown",
   "metadata": {
    "colab_type": "text",
    "id": "WdJ1-GtS4pcJ"
   },
   "source": [
    "**Poverty Percentage and Food Insecurity**\n",
    "\n",
    "We will now try to find a correlation between poverty percentage and food insecurity. We will first merge the poverty rate from 2015 and the percent population of food insecurity into a data frame called povertyFood."
   ]
  },
  {
   "cell_type": "code",
   "execution_count": 0,
   "metadata": {
    "colab": {
     "base_uri": "https://localhost:8080/",
     "height": 204
    },
    "colab_type": "code",
    "id": "jFAeXSeW4r4A",
    "outputId": "97bce798-7729-4790-f6b4-835c9a03acfc"
   },
   "outputs": [
    {
     "data": {
      "text/html": [
       "<div>\n",
       "<style scoped>\n",
       "    .dataframe tbody tr th:only-of-type {\n",
       "        vertical-align: middle;\n",
       "    }\n",
       "\n",
       "    .dataframe tbody tr th {\n",
       "        vertical-align: top;\n",
       "    }\n",
       "\n",
       "    .dataframe thead th {\n",
       "        text-align: right;\n",
       "    }\n",
       "</style>\n",
       "<table border=\"1\" class=\"dataframe\">\n",
       "  <thead>\n",
       "    <tr style=\"text-align: right;\">\n",
       "      <th></th>\n",
       "      <th>County_x</th>\n",
       "      <th>percent_poverty_rate</th>\n",
       "      <th>County_y</th>\n",
       "      <th>percent_pop_food_insecure</th>\n",
       "    </tr>\n",
       "  </thead>\n",
       "  <tbody>\n",
       "    <tr>\n",
       "      <th>0</th>\n",
       "      <td>Autauga</td>\n",
       "      <td>12.7</td>\n",
       "      <td>Autauga</td>\n",
       "      <td>17.6</td>\n",
       "    </tr>\n",
       "    <tr>\n",
       "      <th>1</th>\n",
       "      <td>Baldwin</td>\n",
       "      <td>12.9</td>\n",
       "      <td>Baldwin</td>\n",
       "      <td>17.6</td>\n",
       "    </tr>\n",
       "    <tr>\n",
       "      <th>2</th>\n",
       "      <td>Barbour</td>\n",
       "      <td>32.0</td>\n",
       "      <td>Barbour</td>\n",
       "      <td>17.6</td>\n",
       "    </tr>\n",
       "    <tr>\n",
       "      <th>3</th>\n",
       "      <td>Bibb</td>\n",
       "      <td>22.2</td>\n",
       "      <td>Bibb</td>\n",
       "      <td>17.6</td>\n",
       "    </tr>\n",
       "    <tr>\n",
       "      <th>4</th>\n",
       "      <td>Blount</td>\n",
       "      <td>14.7</td>\n",
       "      <td>Blount</td>\n",
       "      <td>17.6</td>\n",
       "    </tr>\n",
       "  </tbody>\n",
       "</table>\n",
       "</div>"
      ],
      "text/plain": [
       "  County_x  percent_poverty_rate County_y  percent_pop_food_insecure\n",
       "0  Autauga                  12.7  Autauga                       17.6\n",
       "1  Baldwin                  12.9  Baldwin                       17.6\n",
       "2  Barbour                  32.0  Barbour                       17.6\n",
       "3     Bibb                  22.2     Bibb                       17.6\n",
       "4   Blount                  14.7   Blount                       17.6"
      ]
     },
     "execution_count": 9,
     "metadata": {
      "tags": []
     },
     "output_type": "execute_result"
    }
   ],
   "source": [
    "povertyFood = pd.merge(poverty, insecurity, left_index=True, right_index=True)\n",
    "povertyFood = povertyFood.dropna() # Drop all null values \n",
    "povertyFood.head()"
   ]
  },
  {
   "cell_type": "markdown",
   "metadata": {
    "colab_type": "text",
    "id": "B7CmjkiltHal"
   },
   "source": [
    "Then, let’s create a scatter plot called corrPovFood. Using seaborn, we can visualize the line of regression between the poverty percentage and percent of population that is food insecure. Although there is a correlation, it seems to be a weak correlation because the slope is only 0.02.\n"
   ]
  },
  {
   "cell_type": "code",
   "execution_count": 0,
   "metadata": {
    "colab": {
     "base_uri": "https://localhost:8080/",
     "height": 312
    },
    "colab_type": "code",
    "id": "RXH6rP7W4uxJ",
    "outputId": "31d0d58b-eeef-47fb-83b6-2b0b98cef691"
   },
   "outputs": [
    {
     "data": {
      "text/plain": [
       "Text(0.5, 1.0, 'Poverty Rate vs Percent Food Insecure')"
      ]
     },
     "execution_count": 87,
     "metadata": {
      "tags": []
     },
     "output_type": "execute_result"
    },
    {
     "data": {
      "image/png": "[encoded data removed]",
      "text/plain": [
       "<Figure size 432x288 with 1 Axes>"
      ]
     },
     "metadata": {
      "tags": []
     },
     "output_type": "display_data"
    }
   ],
   "source": [
    "corrPovFood = povertyFood.plot.scatter(x='percent_poverty_rate', y='percent_pop_food_insecure')\n",
    "\n",
    "# Use polyfit to create line of best fit \n",
    "a1, b1 = np.polyfit(povertyFood['percent_poverty_rate'].fillna(0), povertyFood['percent_pop_food_insecure'].fillna(0), 1)\n",
    "xs = np.arange(0, 50)\n",
    "ys = a1*xs + b1\n",
    "plt.plot(xs, ys, color='red')\n",
    "plt.xlabel(\"Poverty Rate\")\n",
    "plt.ylabel(\"Percent Food Insecure\")\n",
    "plt.title(\"Poverty Rate vs Percent Food Insecure\")"
   ]
  },
  {
   "cell_type": "markdown",
   "metadata": {
    "colab_type": "text",
    "id": "H8WkDV4ftXFh"
   },
   "source": [
    "Next, we plotted a regression line for the povertyFood data frame in percent population of food insecurity and poverty rate. \n"
   ]
  },
  {
   "cell_type": "code",
   "execution_count": 0,
   "metadata": {
    "colab": {
     "base_uri": "https://localhost:8080/",
     "height": 34
    },
    "colab_type": "code",
    "id": "f-JXerfe4w0G",
    "outputId": "60e42fe6-a449-4edb-be32-564bfbde7cba"
   },
   "outputs": [
    {
     "name": "stdout",
     "output_type": "stream",
     "text": [
      "0.09201371199014563\n"
     ]
    }
   ],
   "source": [
    "print(a1)\n"
   ]
  },
  {
   "cell_type": "code",
   "execution_count": 0,
   "metadata": {
    "colab": {
     "base_uri": "https://localhost:8080/",
     "height": 111
    },
    "colab_type": "code",
    "id": "_rt5gmjVbwPs",
    "outputId": "480bff21-7022-4db5-f81b-16833d2a9bb0"
   },
   "outputs": [
    {
     "data": {
      "text/html": [
       "<div>\n",
       "<style scoped>\n",
       "    .dataframe tbody tr th:only-of-type {\n",
       "        vertical-align: middle;\n",
       "    }\n",
       "\n",
       "    .dataframe tbody tr th {\n",
       "        vertical-align: top;\n",
       "    }\n",
       "\n",
       "    .dataframe thead th {\n",
       "        text-align: right;\n",
       "    }\n",
       "</style>\n",
       "<table border=\"1\" class=\"dataframe\">\n",
       "  <thead>\n",
       "    <tr style=\"text-align: right;\">\n",
       "      <th></th>\n",
       "      <th>percent_poverty_rate</th>\n",
       "      <th>percent_pop_food_insecure</th>\n",
       "    </tr>\n",
       "  </thead>\n",
       "  <tbody>\n",
       "    <tr>\n",
       "      <th>percent_poverty_rate</th>\n",
       "      <td>1.000000</td>\n",
       "      <td>0.241183</td>\n",
       "    </tr>\n",
       "    <tr>\n",
       "      <th>percent_pop_food_insecure</th>\n",
       "      <td>0.241183</td>\n",
       "      <td>1.000000</td>\n",
       "    </tr>\n",
       "  </tbody>\n",
       "</table>\n",
       "</div>"
      ],
      "text/plain": [
       "                           percent_poverty_rate  percent_pop_food_insecure\n",
       "percent_poverty_rate                   1.000000                   0.241183\n",
       "percent_pop_food_insecure              0.241183                   1.000000"
      ]
     },
     "execution_count": 13,
     "metadata": {
      "tags": []
     },
     "output_type": "execute_result"
    }
   ],
   "source": [
    "df = povertyFood\n",
    "df.corr(method='pearson')"
   ]
  },
  {
   "cell_type": "markdown",
   "metadata": {
    "colab_type": "text",
    "id": "lEIG_rjP47iS"
   },
   "source": [
    "We can see a positive correlation between the poverty rate and the percent of population that is food insecure. In other words, as the reported poverty rate in a country increases, the reported percent of the population that is food insecure in that county increases as well. Once again, this correlation is not as strong as we expected.\n",
    "\n",
    "Next, let's plot a distributed chart and a bar graph for the povertyFood data frame in percent population of food insecurity and poverty rate."
   ]
  },
  {
   "cell_type": "code",
   "execution_count": 0,
   "metadata": {
    "colab": {
     "base_uri": "https://localhost:8080/",
     "height": 300
    },
    "colab_type": "code",
    "id": "MByitO3o5IcE",
    "outputId": "49ad92fa-cb98-4406-9550-e1c4e057920a"
   },
   "outputs": [
    {
     "data": {
      "text/plain": [
       "<matplotlib.axes._subplots.AxesSubplot at 0x7f1ce06398d0>"
      ]
     },
     "execution_count": 48,
     "metadata": {
      "tags": []
     },
     "output_type": "execute_result"
    },
    {
     "data": {
      "image/png": "[encoded data removed]",
      "text/plain": [
       "<Figure size 432x288 with 1 Axes>"
      ]
     },
     "metadata": {
      "tags": []
     },
     "output_type": "display_data"
    }
   ],
   "source": [
    "x = pd.Series(povertyFood['percent_pop_food_insecure'], name = \"Percent Food Insecure Distribution\")\n",
    "sns.distplot(x)"
   ]
  },
  {
   "cell_type": "code",
   "execution_count": 0,
   "metadata": {
    "colab": {
     "base_uri": "https://localhost:8080/",
     "height": 300
    },
    "colab_type": "code",
    "id": "3HwZfqFt5PD3",
    "outputId": "a452aeb5-f4d0-477a-c582-1fd6649bed4c"
   },
   "outputs": [
    {
     "data": {
      "text/plain": [
       "<matplotlib.axes._subplots.AxesSubplot at 0x7f1ce036b710>"
      ]
     },
     "execution_count": 50,
     "metadata": {
      "tags": []
     },
     "output_type": "execute_result"
    },
    {
     "data": {
      "image/png": "[encoded data removed]",
      "text/plain": [
       "<Figure size 432x288 with 1 Axes>"
      ]
     },
     "metadata": {
      "tags": []
     },
     "output_type": "display_data"
    }
   ],
   "source": [
    "x = pd.Series(povertyFood['percent_poverty_rate'].dropna(), name = \"Poverty Rate Distribution\")\n",
    "sns.distplot(x)"
   ]
  },
  {
   "cell_type": "markdown",
   "metadata": {
    "colab_type": "text",
    "id": "J_5fvYHS5VX9"
   },
   "source": [
    "Now we will test extreme food insecurity and correlation with poverty rate. We see that there will be a stronger correlation between extreme food insecurity and poverty percentage than non-exteme food insecurity. As expected, level of food insecurity appears to be predictive of poverty percentage, though we cannot assume causation. "
   ]
  },
  {
   "cell_type": "markdown",
   "metadata": {
    "colab_type": "text",
    "id": "K8TJfC0w8Sgr"
   },
   "source": [
    "We predict a positive correlation between county income and access (number) of grocery stores"
   ]
  },
  {
   "cell_type": "markdown",
   "metadata": {
    "colab_type": "text",
    "id": "2cA09CgncrYL"
   },
   "source": [
    "Correlation is weak. Perhaps population has more to do with number of grocery stores than median income?"
   ]
  },
  {
   "cell_type": "markdown",
   "metadata": {
    "colab_type": "text",
    "id": "94fKnPG9dI1P"
   },
   "source": [
    "We will now find a correlation between a population's access to stores and the county's median income. We predict a positive correlation between the population's access and proximity to grocery stores (reported by Feeding America) and the county's median income."
   ]
  },
  {
   "cell_type": "code",
   "execution_count": 0,
   "metadata": {
    "colab": {
     "base_uri": "https://localhost:8080/",
     "height": 204
    },
    "colab_type": "code",
    "id": "ogytZIebctkF",
    "outputId": "00cca612-845d-48d6-a562-e180e3c2518f"
   },
   "outputs": [
    {
     "data": {
      "text/html": [
       "<div>\n",
       "<style scoped>\n",
       "    .dataframe tbody tr th:only-of-type {\n",
       "        vertical-align: middle;\n",
       "    }\n",
       "\n",
       "    .dataframe tbody tr th {\n",
       "        vertical-align: top;\n",
       "    }\n",
       "\n",
       "    .dataframe thead th {\n",
       "        text-align: right;\n",
       "    }\n",
       "</style>\n",
       "<table border=\"1\" class=\"dataframe\">\n",
       "  <thead>\n",
       "    <tr style=\"text-align: right;\">\n",
       "      <th></th>\n",
       "      <th>County_x</th>\n",
       "      <th>median_income</th>\n",
       "      <th>County_y</th>\n",
       "      <th>PCT_LACCESS_POP15</th>\n",
       "    </tr>\n",
       "  </thead>\n",
       "  <tbody>\n",
       "    <tr>\n",
       "      <th>0</th>\n",
       "      <td>Autauga</td>\n",
       "      <td>56580.0</td>\n",
       "      <td>Autauga</td>\n",
       "      <td>32.062255</td>\n",
       "    </tr>\n",
       "    <tr>\n",
       "      <th>1</th>\n",
       "      <td>Baldwin</td>\n",
       "      <td>52387.0</td>\n",
       "      <td>Baldwin</td>\n",
       "      <td>16.767489</td>\n",
       "    </tr>\n",
       "    <tr>\n",
       "      <th>2</th>\n",
       "      <td>Barbour</td>\n",
       "      <td>31433.0</td>\n",
       "      <td>Barbour</td>\n",
       "      <td>22.105560</td>\n",
       "    </tr>\n",
       "    <tr>\n",
       "      <th>3</th>\n",
       "      <td>Bibb</td>\n",
       "      <td>40767.0</td>\n",
       "      <td>Bibb</td>\n",
       "      <td>4.230324</td>\n",
       "    </tr>\n",
       "    <tr>\n",
       "      <th>4</th>\n",
       "      <td>Blount</td>\n",
       "      <td>50487.0</td>\n",
       "      <td>Blount</td>\n",
       "      <td>6.497380</td>\n",
       "    </tr>\n",
       "  </tbody>\n",
       "</table>\n",
       "</div>"
      ],
      "text/plain": [
       "  County_x  median_income County_y  PCT_LACCESS_POP15\n",
       "0  Autauga        56580.0  Autauga          32.062255\n",
       "1  Baldwin        52387.0  Baldwin          16.767489\n",
       "2  Barbour        31433.0  Barbour          22.105560\n",
       "3     Bibb        40767.0     Bibb           4.230324\n",
       "4   Blount        50487.0   Blount           6.497380"
      ]
     },
     "execution_count": 16,
     "metadata": {
      "tags": []
     },
     "output_type": "execute_result"
    }
   ],
   "source": [
    "incomeAccess = pd.merge(income, access, left_index=True, right_index=True)\n",
    "incomeAccess = incomeAccess.dropna()\n",
    "incomeAccess.head()"
   ]
  },
  {
   "cell_type": "code",
   "execution_count": 0,
   "metadata": {
    "colab": {
     "base_uri": "https://localhost:8080/",
     "height": 300
    },
    "colab_type": "code",
    "id": "XDlYfJl8cYRY",
    "outputId": "c373d85d-7c57-4dea-ce17-f3eb2a635a7d"
   },
   "outputs": [
    {
     "data": {
      "text/plain": [
       "<matplotlib.axes._subplots.AxesSubplot at 0x7f1ce01e3668>"
      ]
     },
     "execution_count": 52,
     "metadata": {
      "tags": []
     },
     "output_type": "execute_result"
    },
    {
     "data": {
      "image/png": "[encoded data removed]",
      "text/plain": [
       "<Figure size 432x288 with 1 Axes>"
      ]
     },
     "metadata": {
      "tags": []
     },
     "output_type": "display_data"
    }
   ],
   "source": [
    "x = pd.Series(incomeAccess['PCT_LACCESS_POP15'], name = \"Percent Low Access to Grocery Stores\")\n",
    "sns.distplot(x)"
   ]
  },
  {
   "cell_type": "code",
   "execution_count": 0,
   "metadata": {
    "colab": {
     "base_uri": "https://localhost:8080/",
     "height": 312
    },
    "colab_type": "code",
    "id": "vVrlaR1WfO0T",
    "outputId": "6860afbc-4693-452e-a64e-daf616d2b5b0"
   },
   "outputs": [
    {
     "data": {
      "text/plain": [
       "Text(0.5, 1.0, 'Median Income vs Percent Low Access to Grocery Stores')"
      ]
     },
     "execution_count": 104,
     "metadata": {
      "tags": []
     },
     "output_type": "execute_result"
    },
    {
     "data": {
      "image/png": "[encoded data removed]",
      "text/plain": [
       "<Figure size 432x288 with 1 Axes>"
      ]
     },
     "metadata": {
      "tags": []
     },
     "output_type": "display_data"
    }
   ],
   "source": [
    "corrIncAcc = incomeAccess.plot.scatter(x='median_income', y='PCT_LACCESS_POP15')\n",
    "\n",
    "# Use polyfit to create line of best fit \n",
    "a1, b1 = np.polyfit(incomeAccess['median_income'], incomeAccess['PCT_LACCESS_POP15'], 1)\n",
    "xs = np.arange(0, 120000)\n",
    "ys = a1*xs + b1\n",
    "plt.plot(xs, ys, color='red')\n",
    "plt.xlabel(\"Median Income\")\n",
    "plt.ylabel(\"Percent Low Access to Grocery Stores\")\n",
    "plt.title(\"Median Income vs Percent Low Access to Grocery Stores\")"
   ]
  },
  {
   "cell_type": "code",
   "execution_count": 0,
   "metadata": {
    "colab": {
     "base_uri": "https://localhost:8080/",
     "height": 34
    },
    "colab_type": "code",
    "id": "oSEY9KgkgIJ8",
    "outputId": "4d49a511-5e9a-4a36-f9fc-d4b22238284c"
   },
   "outputs": [
    {
     "name": "stdout",
     "output_type": "stream",
     "text": [
      "0.24029428607553685\n"
     ]
    }
   ],
   "source": [
    "print(a1)"
   ]
  },
  {
   "cell_type": "code",
   "execution_count": 0,
   "metadata": {
    "colab": {
     "base_uri": "https://localhost:8080/",
     "height": 111
    },
    "colab_type": "code",
    "id": "PsXbp8M0f9dL",
    "outputId": "f9fca368-7f64-4d82-e5ee-a5751c85e91f"
   },
   "outputs": [
    {
     "data": {
      "text/html": [
       "<div>\n",
       "<style scoped>\n",
       "    .dataframe tbody tr th:only-of-type {\n",
       "        vertical-align: middle;\n",
       "    }\n",
       "\n",
       "    .dataframe tbody tr th {\n",
       "        vertical-align: top;\n",
       "    }\n",
       "\n",
       "    .dataframe thead th {\n",
       "        text-align: right;\n",
       "    }\n",
       "</style>\n",
       "<table border=\"1\" class=\"dataframe\">\n",
       "  <thead>\n",
       "    <tr style=\"text-align: right;\">\n",
       "      <th></th>\n",
       "      <th>median_income</th>\n",
       "      <th>PCT_LACCESS_POP15</th>\n",
       "    </tr>\n",
       "  </thead>\n",
       "  <tbody>\n",
       "    <tr>\n",
       "      <th>median_income</th>\n",
       "      <td>1.000000</td>\n",
       "      <td>0.061237</td>\n",
       "    </tr>\n",
       "    <tr>\n",
       "      <th>PCT_LACCESS_POP15</th>\n",
       "      <td>0.061237</td>\n",
       "      <td>1.000000</td>\n",
       "    </tr>\n",
       "  </tbody>\n",
       "</table>\n",
       "</div>"
      ],
      "text/plain": [
       "                   median_income  PCT_LACCESS_POP15\n",
       "median_income           1.000000           0.061237\n",
       "PCT_LACCESS_POP15       0.061237           1.000000"
      ]
     },
     "execution_count": 21,
     "metadata": {
      "tags": []
     },
     "output_type": "execute_result"
    }
   ],
   "source": [
    "# Find correlations between all the variables using pearson method \n",
    "df = incomeAccess\n",
    "df.corr(method='pearson')"
   ]
  },
  {
   "cell_type": "markdown",
   "metadata": {
    "colab_type": "text",
    "id": "tumRtvf3xivo"
   },
   "source": [
    "For all of these analyses, we dropped rows that contained any null values. The number of rows we dropped for these analysis are very small so the rows we drop are not statistically significant."
   ]
  },
  {
   "cell_type": "markdown",
   "metadata": {
    "colab_type": "text",
    "id": "RW7BFFGHQ771"
   },
   "source": [
    "To find a correlation between these variables, we merged the columns into a dataframe called income_groceries. Then, we plotted a scatter plot and found the line of best fit using polyfit. As you can see in the graph, there is a slight positive slope, indicating a positive correlation between the number of grocery stores and the county’s median income.\n"
   ]
  },
  {
   "cell_type": "code",
   "execution_count": 0,
   "metadata": {
    "colab": {
     "base_uri": "https://localhost:8080/",
     "height": 346
    },
    "colab_type": "code",
    "id": "qjW6J1buQ7Oy",
    "outputId": "cf17fe0d-7ed5-45b3-937b-51063374435a"
   },
   "outputs": [
    {
     "name": "stdout",
     "output_type": "stream",
     "text": [
      "3143 3143 3143\n",
      "3143 3143 3139\n"
     ]
    },
    {
     "data": {
      "text/plain": [
       "Text(0.5, 1.0, 'Median Income vs Number of Grocery Stores')"
      ]
     },
     "execution_count": 103,
     "metadata": {
      "tags": []
     },
     "output_type": "execute_result"
    },
    {
     "data": {
      "image/png": "[encoded data removed]",
      "text/plain": [
       "<Figure size 432x288 with 1 Axes>"
      ]
     },
     "metadata": {
      "tags": []
     },
     "output_type": "display_data"
    }
   ],
   "source": [
    "stores = pd.read_excel(xls, 'STORES')\n",
    "stores = stores[['County', 'GROC14', 'SUPERC14', 'CONVS14', 'SPECS14', 'SNAPS16', 'WICS12']]\n",
    "stores.columns = ['County', 'Num_Grocery_Stores', 'Num_Supercenters', 'Num_Convenience_Stores', 'Num_Special_Stores', 'Num_SNAP_authorized_stores', 'Num_WIC_authorized_stores']\n",
    "\n",
    "groceries = stores[['County', 'Num_Grocery_Stores']]\n",
    "income_groceries = pd.merge(income, groceries, left_index=True, right_index=True)\n",
    "\n",
    "print(len(groceries), len(income), len(income_groceries))\n",
    "income_groceries = income_groceries.dropna()\n",
    "print(len(groceries), len(income), len(income_groceries))\n",
    "\n",
    "plt.scatter(income_groceries['median_income'], income_groceries['Num_Grocery_Stores'])\n",
    "a1, b1 = np.polyfit(income_groceries['median_income'], income_groceries['Num_Grocery_Stores'], 1)\n",
    "\n",
    "# plot line\n",
    "xs = np.arange(20000, 140000)\n",
    "ys = a1*xs + b1\n",
    "plt.plot(xs, ys, color='red')\n",
    "\n",
    "# labels\n",
    "plt.xlabel('Median Income')\n",
    "plt.ylabel('Number of Grocery Stores')\n",
    "plt.title(\"Median Income vs Number of Grocery Stores\")"
   ]
  },
  {
   "cell_type": "code",
   "execution_count": 0,
   "metadata": {
    "colab": {
     "base_uri": "https://localhost:8080/",
     "height": 111
    },
    "colab_type": "code",
    "id": "MdnaK8j4cJJ1",
    "outputId": "04b5b945-2f98-4d76-840d-668e9c841073"
   },
   "outputs": [
    {
     "data": {
      "text/html": [
       "<div>\n",
       "<style scoped>\n",
       "    .dataframe tbody tr th:only-of-type {\n",
       "        vertical-align: middle;\n",
       "    }\n",
       "\n",
       "    .dataframe tbody tr th {\n",
       "        vertical-align: top;\n",
       "    }\n",
       "\n",
       "    .dataframe thead th {\n",
       "        text-align: right;\n",
       "    }\n",
       "</style>\n",
       "<table border=\"1\" class=\"dataframe\">\n",
       "  <thead>\n",
       "    <tr style=\"text-align: right;\">\n",
       "      <th></th>\n",
       "      <th>median_income</th>\n",
       "      <th>Num_Grocery_Stores</th>\n",
       "    </tr>\n",
       "  </thead>\n",
       "  <tbody>\n",
       "    <tr>\n",
       "      <th>median_income</th>\n",
       "      <td>1.000000</td>\n",
       "      <td>0.176663</td>\n",
       "    </tr>\n",
       "    <tr>\n",
       "      <th>Num_Grocery_Stores</th>\n",
       "      <td>0.176663</td>\n",
       "      <td>1.000000</td>\n",
       "    </tr>\n",
       "  </tbody>\n",
       "</table>\n",
       "</div>"
      ],
      "text/plain": [
       "                    median_income  Num_Grocery_Stores\n",
       "median_income            1.000000            0.176663\n",
       "Num_Grocery_Stores       0.176663            1.000000"
      ]
     },
     "execution_count": 23,
     "metadata": {
      "tags": []
     },
     "output_type": "execute_result"
    }
   ],
   "source": [
    "df = income_groceries \n",
    "df.corr(method='pearson')"
   ]
  },
  {
   "cell_type": "markdown",
   "metadata": {
    "colab_type": "text",
    "id": "rd6xKhLPRZo0"
   },
   "source": [
    "**Number of Stores with Food Products vs. Median Income** \n",
    "\n",
    "We will next be addressing the following question: \n",
    "Is there a correlation between the number of stores with food products available (including grocery stores, supercenters and club stores, convenience stores, specialized food stores, WIC and SNAP authorized stores) and median income?\n",
    "\n",
    "Additionally, we will be adding a column called ‘total stores’ combining the number of stores with food products available (including grocery stores, supercenters and club stores, convenience stores, specialized food stores, WIC and SNAP authorized stores). We will merge the income column with the stores into a dataframe called ‘income_stores’ to plot a scatter plot and find the line of best fit using polyfit. Again, there is a positive correlation between the number of stores with food products available and the median income. "
   ]
  },
  {
   "cell_type": "code",
   "execution_count": 0,
   "metadata": {
    "colab": {
     "base_uri": "https://localhost:8080/",
     "height": 346
    },
    "colab_type": "code",
    "id": "TreGI6XOxivq",
    "outputId": "5206a173-efbc-4fe1-c54c-a7e688934470"
   },
   "outputs": [
    {
     "name": "stdout",
     "output_type": "stream",
     "text": [
      "3143 3143 3143\n",
      "3143 3143 3114\n"
     ]
    },
    {
     "data": {
      "text/plain": [
       "Text(0.5, 1.0, 'Median Income vs Number of Stores')"
      ]
     },
     "execution_count": 102,
     "metadata": {
      "tags": []
     },
     "output_type": "execute_result"
    },
    {
     "data": {
      "image/png": "[encoded data removed]",
      "text/plain": [
       "<Figure size 432x288 with 1 Axes>"
      ]
     },
     "metadata": {
      "tags": []
     },
     "output_type": "display_data"
    }
   ],
   "source": [
    "stores = pd.read_excel(xls, 'STORES')\n",
    "stores = stores[['County', 'GROC14', 'SUPERC14', 'CONVS14', 'SPECS14', 'SNAPS16', 'WICS12']]\n",
    "stores.columns = ['County', 'Num_Grocery_Stores', 'Num_Supercenters', 'Num_Convenience_Stores', 'Num_Special_Stores', 'Num_SNAP_authorized_stores', 'Num_WIC_authorized_stores']\n",
    "\n",
    "stores['total_stores'] = stores['Num_Grocery_Stores']+stores['Num_Supercenters']+stores['Num_Convenience_Stores']+stores['Num_Special_Stores']+stores['Num_SNAP_authorized_stores']+stores['Num_WIC_authorized_stores']\n",
    "\n",
    "income_stores = pd.merge(income, stores, left_index=True, right_index=True)\n",
    "\n",
    "print(len(stores), len(income), len(income_stores))\n",
    "income_stores = income_stores.dropna()\n",
    "print(len(stores), len(income), len(income_stores))\n",
    "\n",
    "plt.scatter(income_stores['median_income'], income_stores['total_stores'])\n",
    "a1, b1 = np.polyfit(income_stores['median_income'], income_stores['total_stores'], 1)\n",
    "\n",
    "# plot line\n",
    "xs = np.arange(20000, 140000)\n",
    "ys = a1*xs + b1\n",
    "plt.plot(xs, ys, color='red')\n",
    "\n",
    "# labels\n",
    "plt.xlabel('Median Income')\n",
    "plt.ylabel('Number of Stores')\n",
    "plt.title(\"Median Income vs Number of Stores\")"
   ]
  },
  {
   "cell_type": "markdown",
   "metadata": {
    "colab_type": "text",
    "id": "iM5Fsu_-Rthc"
   },
   "source": [
    "**Percentage of the population using SNAP vs. Food Insecurity Percentage**\n",
    "\n",
    "We merged two dataframes that have the percentage of the population that uses SNAP and percentage of population that has food insecurity. We used a scatter plot to visualize the data and used polyfit to find the best fit line. Since the best fit line has a positive slope, there is a positive correlation between these two variables.\n"
   ]
  },
  {
   "cell_type": "code",
   "execution_count": 0,
   "metadata": {
    "colab": {
     "base_uri": "https://localhost:8080/",
     "height": 346
    },
    "colab_type": "code",
    "id": "gm1gPEkgRshr",
    "outputId": "5647be79-3341-410d-f1d4-8c499d50b7b3"
   },
   "outputs": [
    {
     "name": "stdout",
     "output_type": "stream",
     "text": [
      "3143 3143 3143\n",
      "3143 3143 2969\n"
     ]
    },
    {
     "data": {
      "text/plain": [
       "Text(0.5, 1.0, 'SNAP Participants (%population) vs Percent Food Insecure')"
      ]
     },
     "execution_count": 101,
     "metadata": {
      "tags": []
     },
     "output_type": "execute_result"
    },
    {
     "data": {
      "image/png": "[encoded data removed]",
      "text/plain": [
       "<Figure size 432x288 with 1 Axes>"
      ]
     },
     "metadata": {
      "tags": []
     },
     "output_type": "display_data"
    }
   ],
   "source": [
    "#As the percentage of the population using WIC or SNAP increases, \n",
    "#the food insecurity percentage in that county will decrease\n",
    "\n",
    "assistance = pd.read_excel(xls, 'ASSISTANCE')\n",
    "assistance = assistance[['County', 'REDEMP_SNAPS16', 'PCT_SNAP16']]\n",
    "assistance.columns = ['County', 'num_SNAP_redemptions', 'SNAP_participants_percent_pop']\n",
    "\n",
    "insecurity = pd.read_excel(xls, 'INSECURITY')\n",
    "insecurity = insecurity[['County', 'FOODINSEC_13_15']]\n",
    "insecurity.columns = ['County', 'percent_pop_food_insecure']\n",
    "\n",
    "assistance_insecurity = pd.merge(assistance, insecurity, left_index=True, right_index=True)\n",
    "\n",
    "print(len(assistance), len(insecurity), len(assistance_insecurity))\n",
    "assistance_insecurity = assistance_insecurity.dropna()\n",
    "print(len(assistance), len(insecurity), len(assistance_insecurity))\n",
    "\n",
    "plt.scatter(assistance_insecurity['SNAP_participants_percent_pop'], assistance_insecurity['percent_pop_food_insecure'])\n",
    "a1, b1 = np.polyfit(assistance_insecurity['SNAP_participants_percent_pop'], assistance_insecurity['percent_pop_food_insecure'], 1)\n",
    "\n",
    "# plot line\n",
    "xs = np.arange(0, 100)\n",
    "ys = a1*xs + b1\n",
    "plt.plot(xs, ys, color='red')\n",
    "\n",
    "# labels\n",
    "plt.xlabel('SNAP participants (%population)')\n",
    "plt.ylabel('Percent Food Insecure')\n",
    "plt.title('SNAP Participants (%population) vs Percent Food Insecure')"
   ]
  },
  {
   "cell_type": "markdown",
   "metadata": {
    "colab_type": "text",
    "id": "g-xe3pMJsSwI"
   },
   "source": [
    "**Assistance_insecurity using Pearson**\n",
    "\n",
    "In the table below, we can see the correlation between the number of SNAP redemptions, SNAP participants (percent population) and population of food insecurity (percent). There is a weak positive correlation between number of SNAP redemptions with SNAP participants, population of food insecurity (percent) and SNAP participants (percent population), and number of SNAP redemptions and population of food insecurity (percent). \n"
   ]
  },
  {
   "cell_type": "code",
   "execution_count": 0,
   "metadata": {
    "colab": {
     "base_uri": "https://localhost:8080/",
     "height": 142
    },
    "colab_type": "code",
    "id": "9qbUiJikcYtO",
    "outputId": "f7e261ac-4164-486c-dffe-7c66a6cd9a76"
   },
   "outputs": [
    {
     "data": {
      "text/html": [
       "<div>\n",
       "<style scoped>\n",
       "    .dataframe tbody tr th:only-of-type {\n",
       "        vertical-align: middle;\n",
       "    }\n",
       "\n",
       "    .dataframe tbody tr th {\n",
       "        vertical-align: top;\n",
       "    }\n",
       "\n",
       "    .dataframe thead th {\n",
       "        text-align: right;\n",
       "    }\n",
       "</style>\n",
       "<table border=\"1\" class=\"dataframe\">\n",
       "  <thead>\n",
       "    <tr style=\"text-align: right;\">\n",
       "      <th></th>\n",
       "      <th>num_SNAP_redemptions</th>\n",
       "      <th>SNAP_participants_percent_pop</th>\n",
       "      <th>percent_pop_food_insecure</th>\n",
       "    </tr>\n",
       "  </thead>\n",
       "  <tbody>\n",
       "    <tr>\n",
       "      <th>num_SNAP_redemptions</th>\n",
       "      <td>1.000000</td>\n",
       "      <td>0.299571</td>\n",
       "      <td>0.080285</td>\n",
       "    </tr>\n",
       "    <tr>\n",
       "      <th>SNAP_participants_percent_pop</th>\n",
       "      <td>0.299571</td>\n",
       "      <td>1.000000</td>\n",
       "      <td>0.304084</td>\n",
       "    </tr>\n",
       "    <tr>\n",
       "      <th>percent_pop_food_insecure</th>\n",
       "      <td>0.080285</td>\n",
       "      <td>0.304084</td>\n",
       "      <td>1.000000</td>\n",
       "    </tr>\n",
       "  </tbody>\n",
       "</table>\n",
       "</div>"
      ],
      "text/plain": [
       "                               num_SNAP_redemptions  ...  percent_pop_food_insecure\n",
       "num_SNAP_redemptions                       1.000000  ...                   0.080285\n",
       "SNAP_participants_percent_pop              0.299571  ...                   0.304084\n",
       "percent_pop_food_insecure                  0.080285  ...                   1.000000\n",
       "\n",
       "[3 rows x 3 columns]"
      ]
     },
     "execution_count": 58,
     "metadata": {
      "tags": []
     },
     "output_type": "execute_result"
    }
   ],
   "source": [
    "df = assistance_insecurity\n",
    "df.corr(method='pearson')"
   ]
  },
  {
   "cell_type": "code",
   "execution_count": 0,
   "metadata": {
    "colab": {
     "base_uri": "https://localhost:8080/",
     "height": 312
    },
    "colab_type": "code",
    "id": "093nzbnTWIvx",
    "outputId": "12833b74-65ae-4356-a8f5-531b369f080b"
   },
   "outputs": [
    {
     "data": {
      "text/plain": [
       "Text(0.5, 1.0, 'Median Income vs Number of SNAP and WIC Authorized Stores')"
      ]
     },
     "execution_count": 99,
     "metadata": {
      "tags": []
     },
     "output_type": "execute_result"
    },
    {
     "data": {
      "image/png": "[encoded data removed]",
      "text/plain": [
       "<Figure size 432x288 with 1 Axes>"
      ]
     },
     "metadata": {
      "tags": []
     },
     "output_type": "display_data"
    }
   ],
   "source": [
    "stores['sum'] = stores['Num_SNAP_authorized_stores'] + stores['Num_WIC_authorized_stores']\n",
    "ax = sns.regplot(income['median_income'], stores['sum'])\n",
    "ax.set(xlabel='Median Income', ylabel='Number of SNAP and WIC Authorized Stores')\n",
    "ax.axes.set_title(\"Median Income vs Number of SNAP and WIC Authorized Stores\")"
   ]
  },
  {
   "cell_type": "code",
   "execution_count": 0,
   "metadata": {
    "colab": {},
    "colab_type": "code",
    "id": "e1_5ITc7kfGy"
   },
   "outputs": [],
   "source": [
    "# Create dataframe with data on farmers market % and count in each county\n",
    "markets = pd.read_excel(xls, sheet_name = 'LOCAL')\n",
    "markets = markets[['State','County','FMRKT16','FMRKTPTH16']]\n",
    "markets.columns = ['State', 'County', 'farmer_market_percent', 'num_farmer_market']"
   ]
  },
  {
   "cell_type": "code",
   "execution_count": 0,
   "metadata": {
    "colab": {},
    "colab_type": "code",
    "id": "jxEOpVrj9ZCq"
   },
   "outputs": [],
   "source": [
    "# Create dataframe with data on median household income by county\n",
    "incomeSole = pd.read_excel(xls, sheet_name = 'SOCIOECONOMIC')\n",
    "incomeSole = incomeSole[['MEDHHINC15']]\n",
    "incomeSole.columns = ['median_income']"
   ]
  },
  {
   "cell_type": "code",
   "execution_count": 0,
   "metadata": {
    "colab": {
     "base_uri": "https://localhost:8080/",
     "height": 142
    },
    "colab_type": "code",
    "id": "B8jqUlPD9dnN",
    "outputId": "6054a004-1fe1-4716-cac2-19e14ac14237"
   },
   "outputs": [
    {
     "data": {
      "text/html": [
       "<div>\n",
       "<style scoped>\n",
       "    .dataframe tbody tr th:only-of-type {\n",
       "        vertical-align: middle;\n",
       "    }\n",
       "\n",
       "    .dataframe tbody tr th {\n",
       "        vertical-align: top;\n",
       "    }\n",
       "\n",
       "    .dataframe thead th {\n",
       "        text-align: right;\n",
       "    }\n",
       "</style>\n",
       "<table border=\"1\" class=\"dataframe\">\n",
       "  <thead>\n",
       "    <tr style=\"text-align: right;\">\n",
       "      <th></th>\n",
       "      <th>farmer_market_percent</th>\n",
       "      <th>num_farmer_market</th>\n",
       "      <th>median_income</th>\n",
       "    </tr>\n",
       "  </thead>\n",
       "  <tbody>\n",
       "    <tr>\n",
       "      <th>farmer_market_percent</th>\n",
       "      <td>1.000000</td>\n",
       "      <td>0.023726</td>\n",
       "      <td>0.308825</td>\n",
       "    </tr>\n",
       "    <tr>\n",
       "      <th>num_farmer_market</th>\n",
       "      <td>0.023726</td>\n",
       "      <td>1.000000</td>\n",
       "      <td>-0.010369</td>\n",
       "    </tr>\n",
       "    <tr>\n",
       "      <th>median_income</th>\n",
       "      <td>0.308825</td>\n",
       "      <td>-0.010369</td>\n",
       "      <td>1.000000</td>\n",
       "    </tr>\n",
       "  </tbody>\n",
       "</table>\n",
       "</div>"
      ],
      "text/plain": [
       "                       farmer_market_percent  num_farmer_market  median_income\n",
       "farmer_market_percent               1.000000           0.023726       0.308825\n",
       "num_farmer_market                   0.023726           1.000000      -0.010369\n",
       "median_income                       0.308825          -0.010369       1.000000"
      ]
     },
     "execution_count": 30,
     "metadata": {
      "tags": []
     },
     "output_type": "execute_result"
    }
   ],
   "source": [
    "# Converge data into one dataframe\n",
    "markets_v_income = pd.concat([markets, incomeSole], axis = 1)\n",
    "# Find which variable correlates most with median income\n",
    "markets_v_income.corr()"
   ]
  },
  {
   "cell_type": "code",
   "execution_count": 0,
   "metadata": {
    "colab": {
     "base_uri": "https://localhost:8080/",
     "height": 312
    },
    "colab_type": "code",
    "id": "IsqLI89G9iz1",
    "outputId": "ac38b5a3-2b91-4655-c633-1c71adfeb794"
   },
   "outputs": [
    {
     "data": {
      "text/plain": [
       "Text(0.5, 1.0, 'Median Income vs Number of Farmers Markets')"
      ]
     },
     "execution_count": 90,
     "metadata": {
      "tags": []
     },
     "output_type": "execute_result"
    },
    {
     "data": {
      "image/png": "[encoded data removed]",
      "text/plain": [
       "<Figure size 432x288 with 1 Axes>"
      ]
     },
     "metadata": {
      "tags": []
     },
     "output_type": "display_data"
    }
   ],
   "source": [
    "# Plot distribution of median income and farmers market count\n",
    "ax = sns.regplot(markets_v_income['median_income'], markets_v_income['num_farmer_market'])\n",
    "ax.set(xlabel='Median Income', ylabel='Number of Farmers Markets')\n",
    "ax.axes.set_title(\"Median Income vs Number of Farmers Markets\")"
   ]
  },
  {
   "cell_type": "code",
   "execution_count": 0,
   "metadata": {
    "colab": {},
    "colab_type": "code",
    "id": "vAEhUYyfIUNd"
   },
   "outputs": [],
   "source": [
    "# Create dataframe with data on fast food percentages and counts\n",
    "fast_food = pd.read_excel(xls, sheet_name='RESTAURANTS')\n",
    "fast_food = fast_food[['State', 'County', 'FFRPTH14', 'FFR14']]\n",
    "fast_food.columns = ['State', 'County', 'fast_food_percent', 'num_fast_food_restaurants']"
   ]
  },
  {
   "cell_type": "code",
   "execution_count": 0,
   "metadata": {
    "colab": {
     "base_uri": "https://localhost:8080/",
     "height": 204
    },
    "colab_type": "code",
    "id": "V7XwfU2LIdA0",
    "outputId": "c2856a15-ff8e-4bdb-c058-df03bf54f38b"
   },
   "outputs": [
    {
     "data": {
      "text/html": [
       "<div>\n",
       "<style scoped>\n",
       "    .dataframe tbody tr th:only-of-type {\n",
       "        vertical-align: middle;\n",
       "    }\n",
       "\n",
       "    .dataframe tbody tr th {\n",
       "        vertical-align: top;\n",
       "    }\n",
       "\n",
       "    .dataframe thead th {\n",
       "        text-align: right;\n",
       "    }\n",
       "</style>\n",
       "<table border=\"1\" class=\"dataframe\">\n",
       "  <thead>\n",
       "    <tr style=\"text-align: right;\">\n",
       "      <th></th>\n",
       "      <th>State</th>\n",
       "      <th>County</th>\n",
       "      <th>fast_food_percent</th>\n",
       "      <th>num_fast_food_restaurants</th>\n",
       "      <th>median_income</th>\n",
       "    </tr>\n",
       "  </thead>\n",
       "  <tbody>\n",
       "    <tr>\n",
       "      <th>0</th>\n",
       "      <td>AL</td>\n",
       "      <td>Autauga</td>\n",
       "      <td>0.649878</td>\n",
       "      <td>36</td>\n",
       "      <td>56580.0</td>\n",
       "    </tr>\n",
       "    <tr>\n",
       "      <th>1</th>\n",
       "      <td>AL</td>\n",
       "      <td>Baldwin</td>\n",
       "      <td>0.659634</td>\n",
       "      <td>132</td>\n",
       "      <td>52387.0</td>\n",
       "    </tr>\n",
       "    <tr>\n",
       "      <th>2</th>\n",
       "      <td>AL</td>\n",
       "      <td>Barbour</td>\n",
       "      <td>0.818239</td>\n",
       "      <td>22</td>\n",
       "      <td>31433.0</td>\n",
       "    </tr>\n",
       "    <tr>\n",
       "      <th>3</th>\n",
       "      <td>AL</td>\n",
       "      <td>Bibb</td>\n",
       "      <td>0.222163</td>\n",
       "      <td>5</td>\n",
       "      <td>40767.0</td>\n",
       "    </tr>\n",
       "    <tr>\n",
       "      <th>4</th>\n",
       "      <td>AL</td>\n",
       "      <td>Blount</td>\n",
       "      <td>0.363832</td>\n",
       "      <td>21</td>\n",
       "      <td>50487.0</td>\n",
       "    </tr>\n",
       "  </tbody>\n",
       "</table>\n",
       "</div>"
      ],
      "text/plain": [
       "  State   County  fast_food_percent  num_fast_food_restaurants  median_income\n",
       "0    AL  Autauga           0.649878                         36        56580.0\n",
       "1    AL  Baldwin           0.659634                        132        52387.0\n",
       "2    AL  Barbour           0.818239                         22        31433.0\n",
       "3    AL     Bibb           0.222163                          5        40767.0\n",
       "4    AL   Blount           0.363832                         21        50487.0"
      ]
     },
     "execution_count": 95,
     "metadata": {
      "tags": []
     },
     "output_type": "execute_result"
    }
   ],
   "source": [
    "# Combine with data on income\n",
    "fast_food = pd.concat([fast_food, incomeSole], axis = 1)\n",
    "fast_food.head()"
   ]
  },
  {
   "cell_type": "code",
   "execution_count": 0,
   "metadata": {
    "colab": {
     "base_uri": "https://localhost:8080/",
     "height": 142
    },
    "colab_type": "code",
    "id": "iAqCPzb8IgrE",
    "outputId": "5d4747b7-81d3-4c6a-cba5-77b64e3b1832"
   },
   "outputs": [
    {
     "data": {
      "text/html": [
       "<div>\n",
       "<style scoped>\n",
       "    .dataframe tbody tr th:only-of-type {\n",
       "        vertical-align: middle;\n",
       "    }\n",
       "\n",
       "    .dataframe tbody tr th {\n",
       "        vertical-align: top;\n",
       "    }\n",
       "\n",
       "    .dataframe thead th {\n",
       "        text-align: right;\n",
       "    }\n",
       "</style>\n",
       "<table border=\"1\" class=\"dataframe\">\n",
       "  <thead>\n",
       "    <tr style=\"text-align: right;\">\n",
       "      <th></th>\n",
       "      <th>fast_food_percent</th>\n",
       "      <th>num_fast_food_restaurants</th>\n",
       "      <th>median_income</th>\n",
       "    </tr>\n",
       "  </thead>\n",
       "  <tbody>\n",
       "    <tr>\n",
       "      <th>fast_food_percent</th>\n",
       "      <td>1.000000</td>\n",
       "      <td>0.170891</td>\n",
       "      <td>0.142926</td>\n",
       "    </tr>\n",
       "    <tr>\n",
       "      <th>num_fast_food_restaurants</th>\n",
       "      <td>0.170891</td>\n",
       "      <td>1.000000</td>\n",
       "      <td>0.240903</td>\n",
       "    </tr>\n",
       "    <tr>\n",
       "      <th>median_income</th>\n",
       "      <td>0.142926</td>\n",
       "      <td>0.240903</td>\n",
       "      <td>1.000000</td>\n",
       "    </tr>\n",
       "  </tbody>\n",
       "</table>\n",
       "</div>"
      ],
      "text/plain": [
       "                           fast_food_percent  ...  median_income\n",
       "fast_food_percent                   1.000000  ...       0.142926\n",
       "num_fast_food_restaurants           0.170891  ...       0.240903\n",
       "median_income                       0.142926  ...       1.000000\n",
       "\n",
       "[3 rows x 3 columns]"
      ]
     },
     "execution_count": 96,
     "metadata": {
      "tags": []
     },
     "output_type": "execute_result"
    }
   ],
   "source": [
    "# Find the correlations between variables and graph the strongest pairing\n",
    "fast_food.corr()"
   ]
  },
  {
   "cell_type": "code",
   "execution_count": 0,
   "metadata": {
    "colab": {
     "base_uri": "https://localhost:8080/",
     "height": 312
    },
    "colab_type": "code",
    "id": "xatA7whVIiwS",
    "outputId": "6ed85905-90f7-4ec9-8fb1-0df0115d3fcc"
   },
   "outputs": [
    {
     "data": {
      "text/plain": [
       "Text(0.5, 1.0, 'Median Income vs Number of Fast Food Restaurants')"
      ]
     },
     "execution_count": 98,
     "metadata": {
      "tags": []
     },
     "output_type": "execute_result"
    },
    {
     "data": {
      "image/png": "[encoded data removed]",
      "text/plain": [
       "<Figure size 432x288 with 1 Axes>"
      ]
     },
     "metadata": {
      "tags": []
     },
     "output_type": "display_data"
    }
   ],
   "source": [
    "ax = sns.regplot(fast_food['median_income'], fast_food['num_fast_food_restaurants'], 1)\n",
    "ax.set(xlabel='Median Income', ylabel='Number of Fast Food Restaurants')\n",
    "ax.axes.set_title(\"Median Income vs Number of Fast Food Restaurants\")"
   ]
  },
  {
   "cell_type": "markdown",
   "metadata": {
    "colab_type": "text",
    "id": "4JF8TvzaumvN"
   },
   "source": [
    "We hypothesized that there would be a negative correlation between the median income and the number of fast food restaurants, however the opposite is true."
   ]
  },
  {
   "cell_type": "markdown",
   "metadata": {
    "colab_type": "text",
    "id": "ewQNckvv12BV"
   },
   "source": [
    "The next part we will use multivariate regression to determine if median income or the percent poverty rate is more significant to determining the percentage of population that is food insecure\n",
    "We use Statsmodels's Regression Linear_Model's OLS function to fit the data. "
   ]
  },
  {
   "cell_type": "code",
   "execution_count": 0,
   "metadata": {
    "colab": {},
    "colab_type": "code",
    "id": "rNjXQKlhQe7P"
   },
   "outputs": [],
   "source": [
    "\n",
    "formula_Insecurity = \"percent_pop_food_insecure ~ median_income + percent_poverty_rate\"\n",
    "povertyMultiVariate = socioeconomic[['County','MEDHHINC15','POVRATE15']]\n",
    "povertyMultiVariate.columns = ['County', 'median_income','percent_poverty_rate']\n",
    "\n",
    "insecureSocioData = pd.merge(insecurity, povertyMultiVariate)\n"
   ]
  },
  {
   "cell_type": "code",
   "execution_count": 0,
   "metadata": {
    "colab": {
     "base_uri": "https://localhost:8080/",
     "height": 493
    },
    "colab_type": "code",
    "id": "wDQKb6wsmKTz",
    "outputId": "41d45075-5962-4371-9346-dc06b9dfa986"
   },
   "outputs": [
    {
     "name": "stdout",
     "output_type": "stream",
     "text": [
      "                                OLS Regression Results                               \n",
      "=====================================================================================\n",
      "Dep. Variable:     percent_pop_food_insecure   R-squared:                       0.005\n",
      "Model:                                   OLS   Adj. R-squared:                  0.005\n",
      "Method:                        Least Squares   F-statistic:                     35.97\n",
      "Date:                       Thu, 13 Jun 2019   Prob (F-statistic):           2.61e-16\n",
      "Time:                               02:01:28   Log-Likelihood:                -35351.\n",
      "No. Observations:                      15077   AIC:                         7.071e+04\n",
      "Df Residuals:                          15074   BIC:                         7.073e+04\n",
      "Df Model:                                  2                                         \n",
      "Covariance Type:                   nonrobust                                         \n",
      "========================================================================================\n",
      "                           coef    std err          t      P>|t|      [0.025      0.975]\n",
      "----------------------------------------------------------------------------------------\n",
      "Intercept               14.8658      0.224     66.240      0.000      14.426      15.306\n",
      "median_income        -1.143e-05   3.01e-06     -3.801      0.000   -1.73e-05   -5.54e-06\n",
      "percent_poverty_rate     0.0077      0.006      1.390      0.165      -0.003       0.019\n",
      "==============================================================================\n",
      "Omnibus:                      297.351   Durbin-Watson:                   0.228\n",
      "Prob(Omnibus):                  0.000   Jarque-Bera (JB):              319.585\n",
      "Skew:                           0.333   Prob(JB):                     4.01e-70\n",
      "Kurtosis:                       3.257   Cond. No.                     5.38e+05\n",
      "==============================================================================\n",
      "\n",
      "Warnings:\n",
      "[1] Standard Errors assume that the covariance matrix of the errors is correctly specified.\n",
      "[2] The condition number is large, 5.38e+05. This might indicate that there are\n",
      "strong multicollinearity or other numerical problems.\n"
     ]
    }
   ],
   "source": [
    "outcome_1, predictors_1 = patsy.dmatrices(formula_Insecurity, insecureSocioData, return_type='matrix')\n",
    "model =  sm.OLS(outcome_1, predictors_1)\n",
    "res_insecure_poverty = model.fit()\n",
    "print(res_insecure_poverty.summary())"
   ]
  },
  {
   "cell_type": "markdown",
   "metadata": {
    "colab_type": "text",
    "id": "OK7ZGFkSLqX7"
   },
   "source": [
    "**Summary of Results**\n",
    "\n",
    "From our data analysis, we have found that the majority of our hypotheses were correct:\n",
    "- We predicted a negative correlation between median county income and household food insecurity (%, three-year average), 2013-15*. These two variables had a pearson correlation of -0.245654.\n",
    "- We predicted a positive correlation between poverty percentage in county and food insecurity (% population food insecure). These two variables had a pearson correlation of 0.241183.\n",
    "- We predicted a positive correlation between the population's access and proximity to grocery stores (count) and the county's median income. These two variables has a pearson correlation of 0.061237. \n",
    "- We predicted a positive correlation between the number of grocery stores in a county and the median income of that county, These two variables had a pearson correlation of 0.176663.\n",
    "- We predicted a positive correlation between the number of stores with food products available (count, including grocery stores, supercenters and club stores, convenience stores, specialized food stores, WIC and SNAP authorized stores) and the county's median income. The scatterplot and best fit line of these two variables display a (weak) positive correlation,\n",
    "- We predicted that as the percentage of the population using WIC or SNAP increases, the food insecurity percentage in that county will increase. The % of the population using SNAP and the % of the population that is food insecure had a pearson correlation of 0.304084. \n",
    "- We predicted a negative correlation between county's median income and number of fast food restaurants (lower income counties will have a greater number of fast food restaurants). We found that the opposite was true. A county's median income and the number of fast food returaunts had a pearson correlation of 0.240903.\n",
    "- We predicted a positive correlation between number of farmer's markets and the county's median income. These two variables had a pearson correlation of 0.308825.\n",
    "\n",
    "Overall, our results show that most of the variables we hypothesized would be correlated did demonstrate a relationship with each other. However, we expected the correlations between variables to be stronger. In the discussion section we will discuss external factors that could have influenced these relationships and correlation values. Additionally, it is important to draw our attention to the hypotheses we made that were incorrect. The proximity and access to grocery stores variable and the county's median income variable had close to no relationship with a correlation of 0.061237. This was interesting considering other parts of the analysis that showed stronger relationships between median income and number of food stores in that area. The number of fast food resturaunts in a county variable and the median income in that county variable had a positive relationship of 0.240903. This was interesting as we had conjectured the opposite relationship, hypothesizing that these counties would place a greater emphasis in nutrious food options. However, with this analysis in mind, more affluent counties may just have greater access to all types of food overall. "
   ]
  },
  {
   "cell_type": "markdown",
   "metadata": {
    "colab_type": "text",
    "id": "zUQz-Ph9xivz"
   },
   "source": [
    "# Ethics & Privacy"
   ]
  },
  {
   "cell_type": "markdown",
   "metadata": {
    "colab_type": "text",
    "id": "l6PDhOroxiv1"
   },
   "source": [
    "Our proposal looks at the way government assistance programs/access to meal sources contribute to food insecurity in counties across the United States. We did not personally collect the data used in this project, so there may be concerns about the methodolgy of data collection, however Feeding Across America is a reputable source and there is no information on the website or within the dataset that elicit our concern about ethics or privacy. The dataset that we chose to analyze does not contain any personal information aside from demographics such as age and race, so there should not be any blatant privacy concerns. We chose not to anonimize the demographic data because we wanted to consider this data when analyzing different influences on food insecurity. However, we acknowledge that there may be unforeseen ethical issues that could arise from investigating the data with our choice of dataset and methods for analysis;  our internal biases may limit how we pick which data points and features are meaningful to us and thus the results may be skewed when drawing conclusions about food insecurity overall. Additionally, when using demographic data, there is always the concern about implicit biases when drawing conclusions, however we aimed to remain objective and analyze our data quantitatively to avoid subjectivity. Considering prexisting biases is especially important when analyzing social issues such as food insecurity in the United States due to the availability of research that indicates that food insecurity is largely determined by economic status and demographic circumstances [1]. We aim to be transparent about our methods and give our reasoning for them as well.   \n",
    "\n",
    "References: \n",
    "USDA Dataset analysis on Severity of Food Insecurity in United States\n",
    "https://www.ers.usda.gov/amber-waves/2017/september/understanding-the-prevalence-severity-and-distribution-of-food-insecurity-in-the-united-states/\n"
   ]
  },
  {
   "cell_type": "markdown",
   "metadata": {
    "colab_type": "text",
    "id": "y6giERn4xiv6"
   },
   "source": [
    "# Conclusion & Discussion"
   ]
  },
  {
   "cell_type": "markdown",
   "metadata": {
    "colab_type": "text",
    "id": "eHb19TBIxiv8"
   },
   "source": [
    "When we first confronted the food security problem in the United States, we asked two questions:  (1) How do government food-assistance programs affect food insecurity? (2) Which variables best predict food access across counties? For the first question, we found that WIC and SNAP usage is most common in counties with higher rates of food insecurity. This corroborates our hypothesis, but doesn’t fully satisfy our curiosity. In future studies, we would ask, what more can WIC and SNAP be doing to completely eradicate food insecurity? We may compare counties using WIC and SNAP to other counties in the United States with similar socioeconomic standing that do not use such programs and see if those counties are worse off, or if they are about the same. This would let us know how effective WIC and SNAP actually are.\n",
    "\n",
    "\n",
    "For the second question, our results were a bit less conclusive. We did see the correlations we predicted, but most of them were somewhat weak or even completely negligible. The most relevant variables to us were income, poverty rate, availability of food assistance programs, and access to grocery stores, fast food restaurants, and farmers markets. We expected these variables to have the most salient effect on household food insecurity ratings, but our actual results were a mixed bag. We expected the positive correlations (such as between grocery stores and median income) to be stronger, and in some cases our results directly contradicted our hypothesis (such as finding the positive correlation between fast food restaurants and median income). As mentioned in our results section, this may be because higher income areas have more access to all kinds of food, including cheaper, unhealthy food.\n",
    "\n",
    "\n",
    "These shortcomings lead to the limits of this study, as well as plans to make this study better in the future. For instance, we might use more data from various sources next time, instead of relying on one dataset for all our analysis. This would help to eliminate any confounds that may have occurred during data collection. We might also try to tackle more abstract risk factors. Simple percentages and counts cannot describe a county’s attitudes towards nutrition or the quality of its food education. Food insecurity in the United States is a pernicious issue, and conducting this study has only inspired all of us to learn more about possible solutions."
   ]
  }
 ],
 "metadata": {
  "colab": {
   "collapsed_sections": [
    "zbUq2R31xiux",
    "FFSnIQX0xiu4",
    "kMzrCEi7xiu6"
   ],
   "name": "FinalProject_group099.ipynb",
   "provenance": [],
   "toc_visible": true,
   "version": "0.3.2"
  },
  "kernelspec": {
   "display_name": "Python 3",
   "language": "python",
   "name": "python3"
  },
  "language_info": {
   "codemirror_mode": {
    "name": "ipython",
    "version": 3
   },
   "file_extension": ".py",
   "mimetype": "text/x-python",
   "name": "python",
   "nbconvert_exporter": "python",
   "pygments_lexer": "ipython3",
   "version": "3.6.8"
  }
 },
 "nbformat": 4,
 "nbformat_minor": 1
}
