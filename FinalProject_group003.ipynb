{
 "cells": [
  {
   "cell_type": "markdown",
   "metadata": {
    "colab_type": "text",
    "id": "TXUp1DgW4Wmb"
   },
   "source": [
    "# COGS 108 - Final Project "
   ]
  },
  {
   "cell_type": "markdown",
   "metadata": {
    "colab_type": "text",
    "id": "V21jCVnC4Wmc"
   },
   "source": [
    "# Overview"
   ]
  },
  {
   "cell_type": "markdown",
   "metadata": {
    "colab_type": "text",
    "id": "mhEy0wos4Wmd"
   },
   "source": [
    "Our project is looking at the correlation between movie genre popularity and GDP. To analyze this, we found datasets relating to our hypothesis, and manipulated them to answer our question. We had to clean the datasets to get data we can work with and visualize. We created graphs to see relationships that relate to our hypothesis, and analyzed them."
   ]
  },
  {
   "cell_type": "markdown",
   "metadata": {
    "colab_type": "text",
    "id": "6iJJ1g394Wmd"
   },
   "source": [
    "# Names\n",
    "\n",
    "- Jason Lee\n",
    "- Laurent Lee\n",
    "- Qingyang Xu\n",
    "- Tianze Zhang\n",
    "- Yue Jiao\n"
   ]
  },
  {
   "cell_type": "markdown",
   "metadata": {
    "colab_type": "text",
    "id": "hkw1gC4w4Wme"
   },
   "source": [
    "# Group Members IDs\n",
    "\n",
    "\n",
    "- XXXXXXXXX\n",
    "- XXXXXXXXX\n",
    "- XXXXXXXXX\n",
    "- XXXXXXXXX\n",
    "- XXXXXXXXX\n",
    "\n",
    "\n",
    "\n"
   ]
  },
  {
   "cell_type": "markdown",
   "metadata": {
    "colab_type": "text",
    "id": "StoCj5ou4Wme"
   },
   "source": [
    "# Research Question"
   ]
  },
  {
   "cell_type": "markdown",
   "metadata": {
    "colab_type": "text",
    "id": "V23d4pQL4Wmf"
   },
   "source": [
    "How does GDP per capita correlate to the popularity of certain movie genres in USA? \n"
   ]
  },
  {
   "cell_type": "markdown",
   "metadata": {
    "colab_type": "text",
    "id": "UvWlknst4Wmf"
   },
   "source": [
    "## Background and Prior Work"
   ]
  },
  {
   "cell_type": "markdown",
   "metadata": {
    "colab_type": "text",
    "id": "RzeFalvz4Wmg"
   },
   "source": [
    "Movies are not merely just entertainment. They can let us experience what we could not do in reality and rich emotions. Reports have shown that films could evoke emotions within us. It is evident that individuals have different movie genre preferences, and preferences could be affected by a lot of factors. For example, GDP per capita is a measure of economic strength, which is related to people’s personal income. In this project, we aim to investigate the correlation between change in GDP per capita and people’s movie genre preferences. We want unbiased data and visualizations to demonstrate this correlation. \n",
    "\n",
    "References (include links):\n",
    "- 1) https://www.scpr.org/news/2014/12/04/48457/what-watching-movies-can-tell-us-about-how-our-bra/ \n",
    "- 2) https://www.thebalance.com/gdp-per-capita-formula-u-s-compared-to-highest-and-lowest-3305848"
   ]
  },
  {
   "cell_type": "markdown",
   "metadata": {
    "colab_type": "text",
    "id": "T8OnOp984Wmg"
   },
   "source": [
    "# Hypothesis\n"
   ]
  },
  {
   "cell_type": "markdown",
   "metadata": {
    "colab_type": "text",
    "id": "QTnMgcef4Wmh"
   },
   "source": [
    "\n",
    "Since GDP per capita is directly related to people’s incomes and lower income could cause people to be depressed, we suspect that when the GDP per capita of a certain time period is lower, people prefer to watch more relaxing movies such as comedies, dramas, and romance, while when the GDP per capita of a certain time period is higher, people prefer to watch more thrilling movies such as horror, action, and adventure. \n"
   ]
  },
  {
   "cell_type": "markdown",
   "metadata": {
    "colab_type": "text",
    "id": "tWaEFmR84Wmh"
   },
   "source": [
    "# Dataset(s)"
   ]
  },
  {
   "cell_type": "markdown",
   "metadata": {
    "colab_type": "text",
    "id": "bbiysT1c4Wmi"
   },
   "source": [
    "### - Dataset Name: movies_metadata.csv\n",
    "- Link to the dataset: https://www.kaggle.com/rounakbanik/the-movies-dataset/home#movies_metadata.csv\n",
    "- Number of observations: 45,376\n",
    "- This dataset was a csv file containing many different movies from the past several decades. Each movie had their genre, a popularity score, and the year they came out.\n",
    "\n",
    "\n",
    "### - Dataset Name: gdp.csv\n",
    "- Link to the dataset: https://data.worldbank.org/indicator/NY.GDP.PCAP.KD.ZG?locations=US\n",
    "- Number of observations: 264\n",
    "- This data set was a csv file that contained the GDP per capita over the years.\n",
    "\n",
    "We will combine the data from these sources into a dataframe. We will then compare the data from these datasets to see how thrilling and relaxing genres perform vs GDP.\n"
   ]
  },
  {
   "cell_type": "markdown",
   "metadata": {
    "colab_type": "text",
    "id": "xwTJQjD04Wmi"
   },
   "source": [
    "# Setup"
   ]
  },
  {
   "cell_type": "markdown",
   "metadata": {
    "colab_type": "text",
    "id": "ofWHm6qCzNbk"
   },
   "source": [
    "Imports used in project:"
   ]
  },
  {
   "cell_type": "code",
   "execution_count": 1,
   "metadata": {
    "colab": {},
    "colab_type": "code",
    "id": "_tRY2XTA4Wmj"
   },
   "outputs": [
    {
     "name": "stderr",
     "output_type": "stream",
     "text": [
      "/opt/conda/lib/python3.6/site-packages/statsmodels/compat/pandas.py:56: FutureWarning: The pandas.core.datetools module is deprecated and will be removed in a future version. Please use the pandas.tseries module instead.\n",
      "  from pandas.core import datetools\n"
     ]
    }
   ],
   "source": [
    "import pandas as pd\n",
    "import numpy as np\n",
    "import requests\n",
    "import bs4\n",
    "from bs4 import BeautifulSoup\n",
    "import patsy\n",
    "import statsmodels.api as sm\n",
    "import scipy.stats as stats\n",
    "from scipy.stats import ttest_ind, chisquare, normaltest"
   ]
  },
  {
   "cell_type": "markdown",
   "metadata": {
    "colab_type": "text",
    "id": "y7Y8VUiv4Wml"
   },
   "source": [
    "# Data Cleaning"
   ]
  },
  {
   "cell_type": "markdown",
   "metadata": {
    "colab_type": "text",
    "id": "4UsnZd_d4Wmm"
   },
   "source": [
    "In order to clean our data from the dataset, we represent the data in a pandas dataframe for both our datasets: gdp.csv and movies_metadata.csv. We then drop irrelevant data from the dataframe and rename the columns."
   ]
  },
  {
   "cell_type": "code",
   "execution_count": 2,
   "metadata": {
    "colab": {
     "base_uri": "https://localhost:8080/",
     "height": 443
    },
    "colab_type": "code",
    "id": "LSfTklpr4Wmn",
    "outputId": "4077f52e-d2de-4614-8c19-5ace5c636a2f"
   },
   "outputs": [],
   "source": [
    "# add change in gdp data\n",
    "data = pd.read_csv('gdp.csv')\n",
    "data.set_index('Country Name', inplace = True)\n",
    "data = data.loc['United States', :]\n",
    "data = data.dropna()\n",
    "data = data.drop('Country Code')\n",
    "data = data.drop('Indicator Code')\n",
    "data = data.drop('Indicator Name')\n",
    "\n",
    "#rename the dataframe\n",
    "gdp = pd.DataFrame(data)\n",
    "gdp = gdp.reset_index()\n",
    "gdp.columns = ['date','GDP']\n",
    "# change the gdp to numeric \n",
    "gdp[\"date\"] = pd.to_numeric(gdp[\"date\"])"
   ]
  },
  {
   "cell_type": "code",
   "execution_count": 3,
   "metadata": {
    "colab": {},
    "colab_type": "code",
    "id": "EFSD5D8mWgov"
   },
   "outputs": [
    {
     "name": "stderr",
     "output_type": "stream",
     "text": [
      "/opt/conda/lib/python3.6/site-packages/IPython/core/interactiveshell.py:2728: DtypeWarning: Columns (10) have mixed types. Specify dtype option on import or set low_memory=False.\n",
      "  interactivity=interactivity, compiler=compiler, result=result)\n"
     ]
    }
   ],
   "source": [
    "#read in data from .csv\n",
    "df_movies = pd.read_csv('movies_metadata.csv')\n",
    "\n",
    "#drop irrelevant columns\n",
    "df_movies.drop(columns=['homepage', 'id', 'imdb_id', 'original_language', 'overview',\n",
    "                        'spoken_languages', 'status', 'tagline', 'poster_path',\n",
    "                        'production_countries', 'video', 'production_companies',\n",
    "                        'adult', 'belongs_to_collection', 'original_title', 'budget', \n",
    "                        'revenue', 'runtime', 'vote_average', 'vote_count'],\n",
    "                         inplace=True)\n",
    "\n",
    "#rename and move around columns\n",
    "df_movies.columns = ['genres', 'popularity', 'date', 'title']\n",
    "df_movies = df_movies[['title', 'date', 'genres', 'popularity']]\n",
    "#df_movies"
   ]
  },
  {
   "cell_type": "code",
   "execution_count": 4,
   "metadata": {
    "colab": {},
    "colab_type": "code",
    "id": "8rmd27gRWgo0"
   },
   "outputs": [],
   "source": [
    "#drop rows that do not have data for title or release date\n",
    "df_movies.dropna(subset=['date', 'title'], inplace=True)"
   ]
  },
  {
   "cell_type": "markdown",
   "metadata": {
    "colab_type": "text",
    "id": "8LwtuF_Pe9qF"
   },
   "source": [
    "The date column of the dataframe had dates in the format “year-month-date”, but we only needed the year for each movie. We created a method called standardize_date_movie to only get the year from each date and store it back into the dataframe. We also sort the dataframe by the date and drop movies that do not have data for the genre column."
   ]
  },
  {
   "cell_type": "code",
   "execution_count": 5,
   "metadata": {
    "colab": {},
    "colab_type": "code",
    "id": "qme-81IRWgo2"
   },
   "outputs": [],
   "source": [
    "# Convert all inputs to strings and normalize them\n",
    "def standardize_date_movie(long):\n",
    "    string = str(long)\n",
    "    string = string.strip()\n",
    "    string = string[0:4]\n",
    "    date = int(string)\n",
    "    return string"
   ]
  },
  {
   "cell_type": "code",
   "execution_count": 6,
   "metadata": {
    "colab": {},
    "colab_type": "code",
    "id": "qGlOPZSJWgo4"
   },
   "outputs": [
    {
     "data": {
      "text/html": [
       "<div>\n",
       "<style scoped>\n",
       "    .dataframe tbody tr th:only-of-type {\n",
       "        vertical-align: middle;\n",
       "    }\n",
       "\n",
       "    .dataframe tbody tr th {\n",
       "        vertical-align: top;\n",
       "    }\n",
       "\n",
       "    .dataframe thead th {\n",
       "        text-align: right;\n",
       "    }\n",
       "</style>\n",
       "<table border=\"1\" class=\"dataframe\">\n",
       "  <thead>\n",
       "    <tr style=\"text-align: right;\">\n",
       "      <th></th>\n",
       "      <th>title</th>\n",
       "      <th>date</th>\n",
       "      <th>genres</th>\n",
       "      <th>popularity</th>\n",
       "    </tr>\n",
       "  </thead>\n",
       "  <tbody>\n",
       "    <tr>\n",
       "      <th>19585</th>\n",
       "      <td>Creature from the Haunted Sea</td>\n",
       "      <td>1961</td>\n",
       "      <td>[{'id': 35, 'name': 'Comedy'}, {'id': 27, 'nam...</td>\n",
       "      <td>0.297889</td>\n",
       "    </tr>\n",
       "    <tr>\n",
       "      <th>17874</th>\n",
       "      <td>On the Double</td>\n",
       "      <td>1961</td>\n",
       "      <td>[{'id': 28, 'name': 'Action'}, {'id': 35, 'nam...</td>\n",
       "      <td>1.358690</td>\n",
       "    </tr>\n",
       "    <tr>\n",
       "      <th>3802</th>\n",
       "      <td>Voyage to the Bottom of the Sea</td>\n",
       "      <td>1961</td>\n",
       "      <td>[{'id': 12, 'name': 'Adventure'}, {'id': 18, '...</td>\n",
       "      <td>3.013584</td>\n",
       "    </tr>\n",
       "    <tr>\n",
       "      <th>37369</th>\n",
       "      <td>Nikki, Wild Dog of the North</td>\n",
       "      <td>1961</td>\n",
       "      <td>[{'id': 12, 'name': 'Adventure'}, {'id': 10751...</td>\n",
       "      <td>0.037374</td>\n",
       "    </tr>\n",
       "    <tr>\n",
       "      <th>25543</th>\n",
       "      <td>Fire in Castilla (Tactilvision from the Moor o...</td>\n",
       "      <td>1961</td>\n",
       "      <td>[{'id': 99, 'name': 'Documentary'}]</td>\n",
       "      <td>0.337238</td>\n",
       "    </tr>\n",
       "  </tbody>\n",
       "</table>\n",
       "</div>"
      ],
      "text/plain": [
       "                                                   title  date  \\\n",
       "19585                      Creature from the Haunted Sea  1961   \n",
       "17874                                      On the Double  1961   \n",
       "3802                     Voyage to the Bottom of the Sea  1961   \n",
       "37369                       Nikki, Wild Dog of the North  1961   \n",
       "25543  Fire in Castilla (Tactilvision from the Moor o...  1961   \n",
       "\n",
       "                                                  genres  popularity  \n",
       "19585  [{'id': 35, 'name': 'Comedy'}, {'id': 27, 'nam...    0.297889  \n",
       "17874  [{'id': 28, 'name': 'Action'}, {'id': 35, 'nam...    1.358690  \n",
       "3802   [{'id': 12, 'name': 'Adventure'}, {'id': 18, '...    3.013584  \n",
       "37369  [{'id': 12, 'name': 'Adventure'}, {'id': 10751...    0.037374  \n",
       "25543                [{'id': 99, 'name': 'Documentary'}]    0.337238  "
      ]
     },
     "execution_count": 6,
     "metadata": {},
     "output_type": "execute_result"
    }
   ],
   "source": [
    "# Apply standardization and drop any movies out of the date boundary\n",
    "df_movies[\"date\"] = df_movies[\"date\"].apply(standardize_date_movie)\n",
    "df_movies.dropna(inplace=True)\n",
    "\n",
    "#change it to numeric\n",
    "df_movies[\"date\"] = pd.to_numeric(df_movies[\"date\"])\n",
    "\n",
    "# change the popularity to numeric \n",
    "df_movies[\"popularity\"] = pd.to_numeric(df_movies[\"popularity\"])\n",
    "\n",
    "#sort the columns\n",
    "df_movies.sort_values(by=['date'], ascending=True, inplace = True)\n",
    "\n",
    "# take all movies from 1971 to 2017 and get rid of other ones\n",
    "df_movies = df_movies.loc[(df_movies[\"date\"] > 1960) & (df_movies[\"date\"] < 2017)]\n",
    "\n",
    "#drop empty genres\n",
    "df_movies = df_movies[~df_movies['genres'].isin(['[]'])]\n",
    "\n",
    "df_movies.head()\n"
   ]
  },
  {
   "cell_type": "markdown",
   "metadata": {
    "colab_type": "text",
    "id": "BkwUyCLufViB"
   },
   "source": [
    "The next step is to separate the movies by genre and store the movies into genre dataframes. The genres we classified at relaxing are Drama, Romance, and Comedy, and the genres we classified as thrilling are action, adventure, and thriller. We made a method called genre_df to separate the movies into their own genre dataframe."
   ]
  },
  {
   "cell_type": "code",
   "execution_count": 7,
   "metadata": {
    "colab": {},
    "colab_type": "code",
    "id": "Shw9cJe0Wgo-"
   },
   "outputs": [],
   "source": [
    "#funtion to generate new dataframe based on genre\n",
    "def genre_df(string):\n",
    "    df = pd.DataFrame(columns=['title', 'date','genres','popularity'])\n",
    "    for index, row in df_movies.iterrows():\n",
    "        if string in row['genres']:\n",
    "            df.loc[len(df.index)] = df_movies.loc[index]\n",
    "    \n",
    "    #clean up the new dataframe\n",
    "    df.drop('genres', axis=1, inplace=True)\n",
    "    df = df.reset_index()\n",
    "    df = df.drop(['title'], axis = 1)\n",
    "    df = df.groupby(['date']).mean()\n",
    "    df = df.drop('index', axis = 1)\n",
    "    return df"
   ]
  },
  {
   "cell_type": "code",
   "execution_count": 8,
   "metadata": {
    "colab": {},
    "colab_type": "code",
    "id": "U2o1bRBTWgpA"
   },
   "outputs": [],
   "source": [
    "#get the genres into separate genre dataframes\n",
    "drama = genre_df('Drama')\n",
    "romance = genre_df('Romance')\n",
    "comedy = genre_df('Comedy')\n",
    "action = genre_df('Action')\n",
    "thriller = genre_df('Thriller')\n",
    "adventure = genre_df('Adventure')"
   ]
  },
  {
   "cell_type": "markdown",
   "metadata": {
    "colab_type": "text",
    "id": "LjKKO_6LgLAt"
   },
   "source": [
    "We then create a merge method to reset the index for each genre dataframe and reformat the gdp in each dataframe."
   ]
  },
  {
   "cell_type": "code",
   "execution_count": 9,
   "metadata": {
    "colab": {},
    "colab_type": "code",
    "id": "nwSYP7oAjV5O"
   },
   "outputs": [],
   "source": [
    "def merge(df):\n",
    "    df = df.reset_index()\n",
    "    df = df.merge(gdp, how='inner')\n",
    "    return df\n",
    "#apply merge method to each genre \n",
    "drama = merge(drama)\n",
    "romance = merge(romance)\n",
    "comedy = merge(comedy)\n",
    "action = merge(action)\n",
    "thriller = merge(thriller)\n",
    "adventure = merge(adventure)\n"
   ]
  },
  {
   "cell_type": "code",
   "execution_count": 10,
   "metadata": {
    "colab": {},
    "colab_type": "code",
    "id": "vcNFa1-2UqTX"
   },
   "outputs": [
    {
     "data": {
      "text/html": [
       "<div>\n",
       "<style scoped>\n",
       "    .dataframe tbody tr th:only-of-type {\n",
       "        vertical-align: middle;\n",
       "    }\n",
       "\n",
       "    .dataframe tbody tr th {\n",
       "        vertical-align: top;\n",
       "    }\n",
       "\n",
       "    .dataframe thead th {\n",
       "        text-align: right;\n",
       "    }\n",
       "</style>\n",
       "<table border=\"1\" class=\"dataframe\">\n",
       "  <thead>\n",
       "    <tr style=\"text-align: right;\">\n",
       "      <th></th>\n",
       "      <th>date</th>\n",
       "      <th>popularity</th>\n",
       "      <th>GDP</th>\n",
       "    </tr>\n",
       "  </thead>\n",
       "  <tbody>\n",
       "    <tr>\n",
       "      <th>0</th>\n",
       "      <td>1961</td>\n",
       "      <td>2.044215</td>\n",
       "      <td>5.633e+11</td>\n",
       "    </tr>\n",
       "    <tr>\n",
       "      <th>1</th>\n",
       "      <td>1962</td>\n",
       "      <td>2.095774</td>\n",
       "      <td>6.051e+11</td>\n",
       "    </tr>\n",
       "    <tr>\n",
       "      <th>2</th>\n",
       "      <td>1963</td>\n",
       "      <td>2.227182</td>\n",
       "      <td>6.386e+11</td>\n",
       "    </tr>\n",
       "    <tr>\n",
       "      <th>3</th>\n",
       "      <td>1964</td>\n",
       "      <td>2.245378</td>\n",
       "      <td>6.858e+11</td>\n",
       "    </tr>\n",
       "    <tr>\n",
       "      <th>4</th>\n",
       "      <td>1965</td>\n",
       "      <td>1.803160</td>\n",
       "      <td>7.437e+11</td>\n",
       "    </tr>\n",
       "  </tbody>\n",
       "</table>\n",
       "</div>"
      ],
      "text/plain": [
       "   date  popularity        GDP\n",
       "0  1961    2.044215  5.633e+11\n",
       "1  1962    2.095774  6.051e+11\n",
       "2  1963    2.227182  6.386e+11\n",
       "3  1964    2.245378  6.858e+11\n",
       "4  1965    1.803160  7.437e+11"
      ]
     },
     "execution_count": 10,
     "metadata": {},
     "output_type": "execute_result"
    }
   ],
   "source": [
    "# example of one the genre drama's dataframe\n",
    "drama.head()"
   ]
  },
  {
   "cell_type": "code",
   "execution_count": 11,
   "metadata": {
    "colab": {},
    "colab_type": "code",
    "id": "wXfZWsEcjV5Q"
   },
   "outputs": [],
   "source": [
    "# convert gdp data to float\n",
    "drama['GDP'] = pd.to_numeric(gdp['GDP'])\n",
    "romance['GDP'] = pd.to_numeric(gdp['GDP'])\n",
    "comedy['GDP'] = pd.to_numeric(gdp['GDP'])\n",
    "action['GDP'] = pd.to_numeric(gdp['GDP'])\n",
    "thriller['GDP'] = pd.to_numeric(gdp['GDP'])\n",
    "adventure['GDP'] = pd.to_numeric(gdp['GDP'])"
   ]
  },
  {
   "cell_type": "markdown",
   "metadata": {
    "colab_type": "text",
    "id": "liMpnIF1g0Vq"
   },
   "source": [
    "## Data Visualization\n",
    "Now that we have clean data, we first see how the genre compares to the gdp of the year the movie was released. We do this for every genre by creating a scatterplot"
   ]
  },
  {
   "cell_type": "code",
   "execution_count": 12,
   "metadata": {
    "colab": {},
    "colab_type": "code",
    "id": "RFpoJk_ijV5S"
   },
   "outputs": [
    {
     "data": {
      "text/plain": [
       "<matplotlib.axes._subplots.AxesSubplot at 0x7f7fad033588>"
      ]
     },
     "execution_count": 12,
     "metadata": {},
     "output_type": "execute_result"
    }
   ],
   "source": [
    "#Graph all of them, and save to variable\n",
    "drama_graph = drama.plot.scatter('popularity', 'GDP')\n",
    "romance_graph = romance.plot.scatter('popularity', 'GDP')\n",
    "comedy_graph = comedy.plot.scatter('popularity', 'GDP')\n",
    "action_graph = drama.plot.scatter('popularity', 'GDP')\n",
    "thriller_graph = romance.plot.scatter('popularity', 'GDP')\n",
    "adventure_graph = comedy.plot.scatter('popularity', 'GDP')\n",
    "\n",
    "#Set titles\n",
    "drama_graph.set_title(\"Drama Graph\")\n",
    "romance_graph.set_title(\"Romance Graph\")\n",
    "comedy_graph.set_title(\"Comedy Graph\")\n",
    "action_graph.set_title(\"Action Graph\")\n",
    "thriller_graph.set_title(\"Thriller Graph\")\n",
    "adventure_graph.set_title(\"Adventure Graph\")\n",
    "drama_graph"
   ]
  },
  {
   "cell_type": "code",
   "execution_count": 13,
   "metadata": {
    "colab": {},
    "colab_type": "code",
    "id": "XKilveBcUqTl"
   },
   "outputs": [
    {
     "data": {
      "text/plain": [
       "Text(0.5, 1.0, 'Adventure Graph')"
      ]
     },
     "execution_count": 13,
     "metadata": {},
     "output_type": "execute_result"
    },
    {
     "data": {
      "image/png": "[encoded data removed]",
      "text/plain": [
       "<Figure size 432x288 with 1 Axes>"
      ]
     },
     "metadata": {
      "needs_background": "light"
     },
     "output_type": "display_data"
    },
    {
     "data": {
      "image/png": "[encoded data removed]",
      "text/plain": [
       "<Figure size 432x288 with 1 Axes>"
      ]
     },
     "metadata": {
      "needs_background": "light"
     },
     "output_type": "display_data"
    },
    {
     "data": {
      "image/png": "[encoded data removed]",
      "text/plain": [
       "<Figure size 432x288 with 1 Axes>"
      ]
     },
     "metadata": {
      "needs_background": "light"
     },
     "output_type": "display_data"
    },
    {
     "data": {
      "image/png": "[encoded data removed]",
      "text/plain": [
       "<Figure size 432x288 with 1 Axes>"
      ]
     },
     "metadata": {
      "needs_background": "light"
     },
     "output_type": "display_data"
    },
    {
     "data": {
      "image/png": "[encoded data removed]",
      "text/plain": [
       "<Figure size 432x288 with 1 Axes>"
      ]
     },
     "metadata": {
      "needs_background": "light"
     },
     "output_type": "display_data"
    },
    {
     "data": {
      "image/png": "[encoded data removed]",
      "text/plain": [
       "<Figure size 432x288 with 1 Axes>"
      ]
     },
     "metadata": {
      "needs_background": "light"
     },
     "output_type": "display_data"
    }
   ],
   "source": [
    "#Graphing each genre\n",
    "drama_graph = drama.plot(kind='scatter', y='popularity', x='GDP',\n",
    "                         color='red', title = '')\n",
    "romance_graph = romance.plot(kind='scatter', y='popularity', x='GDP',\n",
    "                             color='red')\n",
    "comedy_graph = comedy.plot(kind='scatter', y='popularity', x='GDP',\n",
    "                           color='red')\n",
    "action_graph = action.plot(kind='scatter', y='popularity', x='GDP',\n",
    "                           color='red')\n",
    "thriller_graph = thriller.plot(kind='scatter', y='popularity', x='GDP',\n",
    "                               color='red')\n",
    "adventure_graph = adventure.plot(kind='scatter', y='popularity', x='GDP',\n",
    "                                 color='red')\n",
    "#Setting titles for graphs\n",
    "drama_graph.set_title(\"Drama Graph\")\n",
    "romance_graph.set_title(\"Romance Graph\")\n",
    "comedy_graph.set_title(\"Comedy Graph\")\n",
    "action_graph.set_title(\"Action Graph\")\n",
    "thriller_graph.set_title(\"Thriller Graph\")\n",
    "adventure_graph.set_title(\"Adventure Graph\")"
   ]
  },
  {
   "cell_type": "markdown",
   "metadata": {
    "colab_type": "text",
    "id": "rSaAqDNEiWEP"
   },
   "source": [
    "Now that we have seen how each genre compares with gdp separately, we want to see how each genre compares against eachother side by side."
   ]
  },
  {
   "cell_type": "code",
   "execution_count": 28,
   "metadata": {
    "colab": {},
    "colab_type": "code",
    "id": "6YwkMUxAUqTZ"
   },
   "outputs": [
    {
     "data": {
      "text/plain": [
       "Text(0, 0.5, 'Popularity Score')"
      ]
     },
     "execution_count": 28,
     "metadata": {},
     "output_type": "execute_result"
    },
    {
     "data": {
      "image/png": "[encoded data removed]",
      "text/plain": [
       "<Figure size 432x288 with 1 Axes>"
      ]
     },
     "metadata": {
      "needs_background": "light"
     },
     "output_type": "display_data"
    }
   ],
   "source": [
    "#Remove drama date\n",
    "drama_df = drama\n",
    "drama_df = drama_df.drop(columns='date',axis = 1)\n",
    "drama_df.columns = ['dramaPop','GDP']\n",
    "\n",
    "#Remove romance date\n",
    "romance_df = romance\n",
    "romance_df = romance_df.drop(columns='date',axis = 1)\n",
    "romance_df.columns = ['romancePop','GDP']\n",
    "\n",
    "#Remove comedy date\n",
    "comedy_df = comedy\n",
    "comedy_df = comedy_df.drop(columns='date',axis = 1)\n",
    "comedy_df.columns = ['comedyPop','GDP']\n",
    "\n",
    "#Remove action date\n",
    "action_df = action\n",
    "action_df = action_df.drop(columns='date',axis = 1)\n",
    "action_df.columns = [ 'actionPop','GDP']\n",
    "\n",
    "#Remove thriller date\n",
    "thriller_df = thriller\n",
    "thriller_df = thriller_df.drop(columns='date',axis = 1)\n",
    "thriller_df.columns = ['thrillerPop','GDP']\n",
    "\n",
    "#Remove adventure date\n",
    "adventure_df = adventure\n",
    "adventure_df = adventure_df.drop(columns='date',axis = 1)\n",
    "adventure_df.columns = ['adventurePop','GDP']\n",
    "\n",
    "#Merge all genres into one dataframe\n",
    "df_merged_genres = pd.merge(drama_df,romance_df, how='inner')\n",
    "df_merged_genres = pd.merge(df_merged_genres ,comedy_df, how='inner')\n",
    "df_merged_genres = pd.merge(df_merged_genres ,action_df, how='inner')\n",
    "df_merged_genres = pd.merge(df_merged_genres ,thriller_df, how='inner')\n",
    "df_merged_genres = pd.merge(df_merged_genres ,adventure_df, how='inner')\n",
    "\n",
    "df_merged_genres.plot(x='GDP', y=['dramaPop','romancePop',\n",
    "                                  'comedyPop','actionPop','thrillerPop',\n",
    "                        'adventurePop']).set_ylabel(\"Popularity Score\")"
   ]
  },
  {
   "cell_type": "code",
   "execution_count": 29,
   "metadata": {
    "colab": {},
    "colab_type": "code",
    "id": "X3ximULcuoKf"
   },
   "outputs": [
    {
     "data": {
      "text/plain": [
       "Text(0, 0.5, 'Popularity Score')"
      ]
     },
     "execution_count": 29,
     "metadata": {},
     "output_type": "execute_result"
    },
    {
     "data": {
      "image/png": "[encoded data removed]",
      "text/plain": [
       "<Figure size 432x288 with 1 Axes>"
      ]
     },
     "metadata": {
      "needs_background": "light"
     },
     "output_type": "display_data"
    }
   ],
   "source": [
    "#merge relaxing genres and thrilling genres into their own dataframes\n",
    "df_relaxing_merge = pd.concat([drama, comedy, romance])\n",
    "df_thrilling_merge = pd.concat([action, adventure, thriller])\n",
    "\n",
    "#Find average of popularity of thrilling movies and relaxing movies for each year\n",
    "df_avg_thrill = df_thrilling_merge.groupby('date').mean()\n",
    "df_avg_relax = df_relaxing_merge.groupby('date').mean()\n",
    "\n",
    "df_avg_thrill.columns = ['Thrilling Movies Popularity', 'GDP']\n",
    "df_avg_relax.columns = ['Relaxing Movies Popularity', 'GDP']\n",
    "\n",
    "df_thrill_relax_merge = pd.merge(df_avg_thrill, df_avg_relax, how='inner')\n",
    "\n",
    "df_thrill_relax_merge.plot(x='GDP', y=['Thrilling Movies Popularity',\n",
    "                'Relaxing Movies Popularity']).set_ylabel('Popularity Score')\n"
   ]
  },
  {
   "cell_type": "markdown",
   "metadata": {
    "colab_type": "text",
    "id": "Wv4b4KN1vN3Q"
   },
   "source": [
    "To see if there is a correlation between relaxing movies and gdp, we create an OLS using the relaxing movie dataframe, comparing popularity with GDP. We can see from the OLS that there is correlation, with a p-value of 0.00."
   ]
  },
  {
   "cell_type": "code",
   "execution_count": 16,
   "metadata": {
    "colab": {},
    "colab_type": "code",
    "id": "efFmFBC8vBmt"
   },
   "outputs": [
    {
     "name": "stdout",
     "output_type": "stream",
     "text": [
      "                            OLS Regression Results                            \n",
      "==============================================================================\n",
      "Dep. Variable:             popularity   R-squared:                       0.471\n",
      "Model:                            OLS   Adj. R-squared:                  0.468\n",
      "Method:                 Least Squares   F-statistic:                     147.8\n",
      "Date:                Wed, 12 Jun 2019   Prob (F-statistic):           1.01e-24\n",
      "Time:                        21:59:41   Log-Likelihood:                -137.18\n",
      "No. Observations:                 168   AIC:                             278.4\n",
      "Df Residuals:                     166   BIC:                             284.6\n",
      "Df Model:                           1                                         \n",
      "Covariance Type:            nonrobust                                         \n",
      "==============================================================================\n",
      "                 coef    std err          t      P>|t|      [0.025      0.975]\n",
      "------------------------------------------------------------------------------\n",
      "Intercept      2.4114      0.067     36.241      0.000       2.280       2.543\n",
      "GDP         9.474e-14   7.79e-15     12.155      0.000    7.94e-14     1.1e-13\n",
      "==============================================================================\n",
      "Omnibus:                       10.811   Durbin-Watson:                   0.509\n",
      "Prob(Omnibus):                  0.004   Jarque-Bera (JB):                9.414\n",
      "Skew:                           0.500   Prob(JB):                      0.00903\n",
      "Kurtosis:                       2.414   Cond. No.                     1.34e+13\n",
      "==============================================================================\n",
      "\n",
      "Warnings:\n",
      "[1] Standard Errors assume that the covariance matrix of the errors is correctly specified.\n",
      "[2] The condition number is large, 1.34e+13. This might indicate that there are\n",
      "strong multicollinearity or other numerical problems.\n"
     ]
    }
   ],
   "source": [
    "#OLS for relaxing movies\n",
    "f0 = \"popularity ~ GDP\"\n",
    "outcome_1, predictors_1 = patsy.dmatrices(f0, df_relaxing_merge,\n",
    "                                          return_type = \"matrix\")\n",
    "mod_1 = sm.OLS(outcome_1, predictors_1)\n",
    "res_1 = mod_1.fit()\n",
    "print(res_1.summary())"
   ]
  },
  {
   "cell_type": "markdown",
   "metadata": {
    "colab_type": "text",
    "id": "wK7U_vVRvYNN"
   },
   "source": [
    "We then see if there is a correlation between thirlling movies and gdp, we create another OLS using the thrilling movie dataframe comparing popularity and GDP. We can see from the OLS that there is correlation, with a p-value of 0.00."
   ]
  },
  {
   "cell_type": "code",
   "execution_count": 17,
   "metadata": {
    "colab": {},
    "colab_type": "code",
    "id": "rX6IJzpBvB41"
   },
   "outputs": [
    {
     "name": "stdout",
     "output_type": "stream",
     "text": [
      "                            OLS Regression Results                            \n",
      "==============================================================================\n",
      "Dep. Variable:             popularity   R-squared:                       0.547\n",
      "Model:                            OLS   Adj. R-squared:                  0.544\n",
      "Method:                 Least Squares   F-statistic:                     200.4\n",
      "Date:                Wed, 12 Jun 2019   Prob (F-statistic):           2.41e-30\n",
      "Time:                        21:59:41   Log-Likelihood:                -272.38\n",
      "No. Observations:                 168   AIC:                             548.8\n",
      "Df Residuals:                     166   BIC:                             555.0\n",
      "Df Model:                           1                                         \n",
      "Covariance Type:            nonrobust                                         \n",
      "==============================================================================\n",
      "                 coef    std err          t      P>|t|      [0.025      0.975]\n",
      "------------------------------------------------------------------------------\n",
      "Intercept      2.8486      0.149     19.144      0.000       2.555       3.142\n",
      "GDP         2.467e-13   1.74e-14     14.156      0.000    2.12e-13    2.81e-13\n",
      "==============================================================================\n",
      "Omnibus:                       65.312   Durbin-Watson:                   0.853\n",
      "Prob(Omnibus):                  0.000   Jarque-Bera (JB):              270.243\n",
      "Skew:                           1.426   Prob(JB):                     2.08e-59\n",
      "Kurtosis:                       8.521   Cond. No.                     1.34e+13\n",
      "==============================================================================\n",
      "\n",
      "Warnings:\n",
      "[1] Standard Errors assume that the covariance matrix of the errors is correctly specified.\n",
      "[2] The condition number is large, 1.34e+13. This might indicate that there are\n",
      "strong multicollinearity or other numerical problems.\n"
     ]
    }
   ],
   "source": [
    "#OLS for thrilling movies\n",
    "f0 = \"popularity ~ GDP\"\n",
    "outcome_2, predictors_2 = patsy.dmatrices(f0, df_thrilling_merge,\n",
    "                                          return_type = \"matrix\")\n",
    "mod_2 = sm.OLS(outcome_2, predictors_2)\n",
    "res_2 = mod_2.fit()\n",
    "print(res_2.summary())"
   ]
  },
  {
   "cell_type": "markdown",
   "metadata": {
    "colab_type": "text",
    "id": "zRXcaCcFvgXt"
   },
   "source": [
    "As we can see, it seems that thrilling moves are always more popular than relaxing movies. Since we know this, we should compare the relative popularity of thrilling movies and relaxing movies depending on GDP. By relative popularity we mean we should look at the popularity of the genre at the current GDP relative to the average popularity of the genre in general. We calculate this by taking the popularity of the genre at the year divided by the average of the popularity of the genre in general."
   ]
  },
  {
   "cell_type": "code",
   "execution_count": 39,
   "metadata": {
    "colab": {},
    "colab_type": "code",
    "id": "rBtiqcMVuojQ"
   },
   "outputs": [
    {
     "data": {
      "text/plain": [
       "Text(0, 0.5, 'Popularity Score')"
      ]
     },
     "execution_count": 39,
     "metadata": {},
     "output_type": "execute_result"
    },
    {
     "data": {
      "image/png": "[encoded data removed]",
      "text/plain": [
       "<Figure size 432x288 with 1 Axes>"
      ]
     },
     "metadata": {
      "needs_background": "light"
     },
     "output_type": "display_data"
    }
   ],
   "source": [
    "#Find avg of popularity of thrilling movies and relaxing movies for each year\n",
    "df_avg_thrill = df_thrilling_merge.groupby('date').mean()\n",
    "df_avg_relax = df_relaxing_merge.groupby('date').mean()\n",
    "\n",
    "#Find how popular are the movie genres as a whole\n",
    "df_total_thrill_pop = df_thrilling_merge['popularity'].mean()\n",
    "df_total_relax_pop = df_relaxing_merge['popularity'].mean()\n",
    "\n",
    "# Find the relative popularity of the genres\n",
    "df_relative_thrill_pop = df_avg_thrill\n",
    "df_relative_thrill_pop['popularity'] = (df_avg_thrill['popularity']/\n",
    "                                        df_total_thrill_pop)\n",
    "df_relative_thrill_pop.columns = ['Relative Thrilling Movies Popularity',\n",
    "                                  'GDP']\n",
    "\n",
    "df_relative_relax_pop = df_avg_relax\n",
    "df_relative_relax_pop['popularity'] = (df_avg_relax['popularity']/\n",
    "                                       df_total_relax_pop)\n",
    "df_relative_relax_pop.columns = ['Relative Relaxing Movies Popularity',\n",
    "                                 'GDP']\n",
    "\n",
    "df_relative_thrill_relax = pd.merge(df_relative_thrill_pop, \n",
    "                                    df_relative_relax_pop,how='inner')\n",
    "df_relative_thrill_relax.plot(x='GDP',\n",
    "                              y=['Relative Thrilling Movies Popularity',\n",
    "         'Relative Relaxing Movies Popularity']).set_ylabel('Popularity Score')"
   ]
  },
  {
   "cell_type": "markdown",
   "metadata": {
    "colab_type": "text",
    "id": "SIZESXaSzjNK"
   },
   "source": [
    "Now that we have compared the relative popularities, we can look at the difference between the realtive popularites. By graphing GDP vs The difference between Thrilling and Relative movie popularites, we can see when relaxing movies become relatively more popular than thrilling movies. Whenever the line is below 0.0 popularity, it means that the relaxing movies are relatively more popular than thrilling movies. As we can see in the graph, this is occurence happens more frequently at low GDPs than in high GDPs."
   ]
  },
  {
   "cell_type": "code",
   "execution_count": 40,
   "metadata": {
    "colab": {},
    "colab_type": "code",
    "id": "akBx6v_cuo3I"
   },
   "outputs": [
    {
     "data": {
      "text/plain": [
       "Text(0, 0.5, 'Popularity Score Difference')"
      ]
     },
     "execution_count": 40,
     "metadata": {},
     "output_type": "execute_result"
    },
    {
     "data": {
      "image/png": "[encoded data removed]",
      "text/plain": [
       "<Figure size 432x288 with 1 Axes>"
      ]
     },
     "metadata": {
      "needs_background": "light"
     },
     "output_type": "display_data"
    }
   ],
   "source": [
    "df_compare_relatives = df_relative_thrill_pop\n",
    "\n",
    "df_compare_relatives['Relative Thrilling Movies Popularity'] = \\\n",
    "             (df_relative_thrill_pop['Relative Thrilling Movies Popularity'] - \n",
    "              df_relative_relax_pop['Relative Relaxing Movies Popularity'])\n",
    "\n",
    "df_compare_relatives.columns = \\\n",
    "['Relative difference between Thrilling and Relaxing Popularity', 'GDP']\n",
    "\n",
    "df_compare_relatives.plot(x='GDP', \n",
    "          y='Relative difference between Thrilling and Relaxing Popularity' \\\n",
    "                         ).set_ylabel('Popularity Score Difference')"
   ]
  },
  {
   "cell_type": "markdown",
   "metadata": {
    "colab_type": "text",
    "id": "SadaZrW81Xc0"
   },
   "source": [
    "Now use an OLS regression to test a linear relationship between the difference."
   ]
  },
  {
   "cell_type": "code",
   "execution_count": 20,
   "metadata": {
    "colab": {},
    "colab_type": "code",
    "id": "YR4C0kwx1eoO"
   },
   "outputs": [
    {
     "name": "stdout",
     "output_type": "stream",
     "text": [
      "                              OLS Regression Results                             \n",
      "=================================================================================\n",
      "Dep. Variable:     popularity_difference   R-squared:                       0.400\n",
      "Model:                               OLS   Adj. R-squared:                  0.389\n",
      "Method:                    Least Squares   F-statistic:                     36.06\n",
      "Date:                   Wed, 12 Jun 2019   Prob (F-statistic):           1.67e-07\n",
      "Time:                           21:59:42   Log-Likelihood:                 23.180\n",
      "No. Observations:                     56   AIC:                            -42.36\n",
      "Df Residuals:                         54   BIC:                            -38.31\n",
      "Df Model:                              1                                         \n",
      "Covariance Type:               nonrobust                                         \n",
      "==============================================================================\n",
      "                 coef    std err          t      P>|t|      [0.025      0.975]\n",
      "------------------------------------------------------------------------------\n",
      "Intercept     -0.1575      0.034     -4.621      0.000      -0.226      -0.089\n",
      "GDP         2.398e-14   3.99e-15      6.005      0.000     1.6e-14     3.2e-14\n",
      "==============================================================================\n",
      "Omnibus:                        7.742   Durbin-Watson:                   0.914\n",
      "Prob(Omnibus):                  0.021   Jarque-Bera (JB):                7.475\n",
      "Skew:                           0.638   Prob(JB):                       0.0238\n",
      "Kurtosis:                       4.256   Cond. No.                     1.34e+13\n",
      "==============================================================================\n",
      "\n",
      "Warnings:\n",
      "[1] Standard Errors assume that the covariance matrix of the errors is correctly specified.\n",
      "[2] The condition number is large, 1.34e+13. This might indicate that there are\n",
      "strong multicollinearity or other numerical problems.\n"
     ]
    }
   ],
   "source": [
    "df_compare_relatives.columns = ['popularity_difference', 'GDP']\n",
    "\n",
    "f0 = \"popularity_difference ~ GDP\"\n",
    "outcome_3, predictors_3 = patsy.dmatrices(f0, df_compare_relatives,\n",
    "                                          return_type = \"matrix\")\n",
    "mod_3 = sm.OLS(outcome_3, predictors_3)\n",
    "res_3 = mod_3.fit()\n",
    "print(res_3.summary())"
   ]
  },
  {
   "cell_type": "markdown",
   "metadata": {
    "colab_type": "text",
    "id": "eHykv1Gv4Wmp"
   },
   "source": [
    "# Data Analysis & Results"
   ]
  },
  {
   "cell_type": "markdown",
   "metadata": {
    "colab_type": "text",
    "id": "dI6U71xDBaCu"
   },
   "source": [
    "We found that there are trends between GDP per capita and popularity of movies. In general, when there is low GDP, the popularity of each genre is low. We noticed that for comedy, drama, and romance, the popularity would increase with GDP until a certain point where they stopped increasing. On average, these “relaxing” genres would grow rapidly until a popularity score of about 4 where they would stay. On the other hand, action and adventure would have a linear relationship with GDP and would keep growing past a popularity score of 4. Thriller, which we thought would act similar to action and adventure movies, turned out to be more similar to the relaxing genres and would cap out at a popularity score of 4.\n",
    "\n",
    "When we compared each genre together on the same graph, we can see that most of the genres have some sort of increase in popularity as gdp goes up. The thrilling movies, adventure, action, and thriller, have a more rapid growth as GDP increases. Adventure movies are an outlier with a sharp increase as gdp increases, but in general the thrilling movies have a higher growth than relaxing movies. The relaxing movies, drama, romance, and comedy, all have a small growth as GDP increases, and they are all relatively the same popularity as GDP increases. \n",
    "\t\n",
    "After grouping the genres into two dataframes, relaxing and thrilling, we were able to see a more direct relationship between relaxing movies and thrilling movies. We see that thrilling movies in general despite gdp, are more popular than relaxing movies. Thrilling movies however, have an increase in popularity as gdp increases, in a linear way. Relaxing movies have a very small increase in popularity as gdp increases, with the graph plateauing as gdp becomes 0.5 * 1e13. After running the test of significance, we found out that both relaxing movies and thrilling movies have a linear correlation with GDP. For both relaxing and thrilling movies, we saw a p-value of 0.00.\n",
    "\n",
    "However since we have seen that thrilling movies will be, in general, more popular than  relaxing movies, we decided to analyze the relative popularity of thrilling and relaxing movies at certain GDPs. We found this by looking at the average popularity of thrilling movies at a certain GDP and dividing this by the average of the popularity of thrilling movies at all GDPs. We did this for relaxing movies as well. This gave us a dataframe of the relative popularity of thrilling and relaxing movies.\n",
    "\n",
    "To further investigate the relative popularities, we graphed the difference between the popularity of thrilling and relaxing movies vs GDP. Whenever this value is below 0, it means that relaxing movies were relatively more popular than thrilling movies at that certain GDP. As we can see in the graph, the line is below 0 more often during low GDPs while the line is above 0 more often in high GDPs. This information is relevant to our hypothesis. While our hypothesis was not completely correct since thrilling movies are more popular in general, this information shows that at low GDPs comedies are relatively more popular than thrilling movies and at high GDPs thrilling movies are relatively more popular than relaxing movies.\n",
    "\n",
    "The OLS regression results showed that there was a linear relationship between the difference in popularity and GDP. The p value was 0.00 meaning it passes the test of significance. Furthermore the intercept was a negative number, meaning at low GDP values, relaxing movies are relatively more popular, but at higher GDP values, thrilling movies are relatively more popular.\n"
   ]
  },
  {
   "cell_type": "markdown",
   "metadata": {
    "colab_type": "text",
    "id": "M7MTHEos4Wmu"
   },
   "source": [
    "# Ethics & Privacy"
   ]
  },
  {
   "cell_type": "markdown",
   "metadata": {
    "colab_type": "text",
    "id": "ADw5tJ4p4Wmv"
   },
   "source": [
    "Our data relies on the GDP per capita and movies throughout the years. To get this data, we found datasets on the web with this information but we must also consider the ethics of these sources. For our movie data, there is not much ethical considerations to consider. The main ethical consideration is if there are any certain types of movies that were purposely left out of the dataset. However, this is most likely not the case as there were many movies that were included in our dataset and the website stated that the dataset was from GroupLens, which is a group that is fairly unbiased and has no reason to purposely exclude movies. This group is also where the popularity comes from, but since this group is fairly unbiased, there is no reason to doubt their popularity choices too much. \n",
    "\n",
    "The GDP per capita data has a lot of ethical considerations to think about. The GDP per capita contains information about the income of American citizens. It is important that the GDP is found without leaking any personal information. However, GDP is just a number that has no links back to personal information, so GDP will not have any personal information associated to it. Furthermore, it is important to make sure that no races are excluded from GDP, but since the government knows that they must be ethical, the GDP that they calculate must also be fair and unbiased. \n",
    "\n",
    "Our study is combining both of these ethical sources and finding the correlation between them so our study will also be ethical. Since our sources have no personally identifiable data, it is impossible for our study to have personally identifiable data. Our analysis is also unbiased since the sources we used were fair and unbiased. Finding a correlation between these two may cause movie producers to wait to release their movie when there is an increase or decrease in GDP per capita. This is not too big of an issue since releasing a movie slightly later will not adversely affect anyone.\n"
   ]
  },
  {
   "cell_type": "markdown",
   "metadata": {
    "colab_type": "text",
    "id": "vJWRsp7K4Wmv"
   },
   "source": [
    "# Conclusion & Discussion"
   ]
  },
  {
   "cell_type": "markdown",
   "metadata": {
    "colab_type": "text",
    "id": "CMKZrQ_2EACY"
   },
   "source": [
    "In this project, we begin with asking “what is the relationship between genre preference and economy performance”. We defined economy performance using  GDP, and we split the possible movie preferences into six different genres. However, we further grouped the movies into thrilling movies and relaxing movies. Thrilling movies included action, adventure, and thrillers, while relaxing movies included romance, dramas, and comedies. After data wrangling, cleaning, and visualization, we found out that thrilling movies are generally more popular than relaxing movies at all GDPs, so we had to analyze the relative popularity of each movie instead. We found the relative popularity by looking at the popularity of the movies at that GDP divided by the popularity of it at all GDPs. By looking at the relative popularities, we found that at lower GDPs relaxing movies are relatively more popular than thrilling movies while at higher GDPs thrilling movies are relatively more popular than relaxing movies.\n",
    "\n",
    "Although we did a lot in this project, there are still some limits. First, a major issue of this project is that correlation does not imply causation, so correlational study like this may not be useful to accurately predict the future. Furthermore, the correlation we found in our analysis is not very strong, and may be due to randomness or third variables: we think this project can be improved through utilizing better indicators for the economy and its effect on individual lives, since GDP per capita is too general and may be affected by other factors besides economy. By doing so, we believe the relation we found will be more robust. There are also confounding variables. A major confounding variable we saw was the fact that GDP always is increasing. This means that instead of only looking at GDP we are actually looking at how movie preferences change over the years. Another confounding variable is the fact that people could just prefer certain genres based on their culture instead of their economical status.\n",
    "\n",
    "Even if this may not be a very influential or mature project, it can still have a positive influence on society. Because our topic of research is relatively new, it may point a direction for future analysis and research. Also, this project may serve as a guidance for movie production, as we know movie preference is correlated with the economy, so movie companies can know what movie they should produce more. Also, since we found correlation even when it seemed like there shouldn't have been, this can inspire other data scientists to investigate anything that interests them, despite whether they believe there will be correlation.\n"
   ]
  }
 ],
 "metadata": {
  "colab": {
   "collapsed_sections": [],
   "name": "final_project.ipynb",
   "provenance": [],
   "version": "0.3.2"
  },
  "kernelspec": {
   "display_name": "Python 3",
   "language": "python",
   "name": "python3"
  },
  "language_info": {
   "codemirror_mode": {
    "name": "ipython",
    "version": 3
   },
   "file_extension": ".py",
   "mimetype": "text/x-python",
   "name": "python",
   "nbconvert_exporter": "python",
   "pygments_lexer": "ipython3",
   "version": "3.6.8"
  }
 },
 "nbformat": 4,
 "nbformat_minor": 1
}
