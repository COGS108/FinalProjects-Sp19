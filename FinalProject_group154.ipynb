{
 "cells": [
  {
   "cell_type": "markdown",
   "metadata": {},
   "source": [
    "# COGS 108 - Final Project"
   ]
  },
  {
   "cell_type": "markdown",
   "metadata": {},
   "source": [
    "## Overview"
   ]
  },
  {
   "cell_type": "markdown",
   "metadata": {},
   "source": [
    "In the social media site Reddit.com users can create posts for other Reddit users to view. On each of these posts, other users may leave comments and chat with their responses. Our group is interested in what these Redditors are saying over the months and what the most popular words of every month reveal about popular trend and contemporary events. We went through all the reddit posts in each month of 2008, and calculated the most and least used words that were unique to that month. "
   ]
  },
  {
   "cell_type": "markdown",
   "metadata": {},
   "source": [
    "## Names"
   ]
  },
  {
   "cell_type": "markdown",
   "metadata": {},
   "source": [
    "- Kevin Soloway\n",
    "- Timothy Bian \n",
    "- Aarushi Shah \n",
    "- San Kang\n",
    "- Dingmei Gu"
   ]
  },
  {
   "cell_type": "markdown",
   "metadata": {},
   "source": [
    "## Group Members IDs"
   ]
  },
  {
   "cell_type": "markdown",
   "metadata": {},
   "source": [
    "- A12409011 <br/>\n",
    "- A12750588 <br/>\n",
    "- A15495681 <br/>\n",
    "- A99139133 <br/>\n",
    "- A14729954<br/>"
   ]
  },
  {
   "cell_type": "markdown",
   "metadata": {},
   "source": [
    "## Research Question"
   ]
  },
  {
   "cell_type": "markdown",
   "metadata": {},
   "source": [
    "Our main data science questions are:\n",
    "##### Can the most commonly used words in top Reddit comments of 2008 reveal about major events and trends of the year?\n",
    "\n",
    "\n"
   ]
  },
  {
   "cell_type": "markdown",
   "metadata": {},
   "source": [
    "### Background and Prior Work"
   ]
  },
  {
   "cell_type": "markdown",
   "metadata": {},
   "source": [
    "We were inspired by various sources that asked similar questions of different data sets. For example, one article released by Mark Chopping performed research on Amazon reviews to find trending reviews and spot fake reviews. Some questions that Mark Chopping was able to answer include:"
   ]
  },
  {
   "cell_type": "markdown",
   "metadata": {},
   "source": [
    "* How Do Ratings Vary With Vine Membership?\n",
    "* How Do Ratings Vary With Marketplace (i.e. Region)?\n",
    "* How Have Ratings Altered Over Time?\n",
    "* Has Verification of Purchases Changed Over Time for Reviews?\n"
   ]
  },
  {
   "cell_type": "markdown",
   "metadata": {},
   "source": [
    "You may read more about Mark Chopping’s findings on his article here.\n",
    "\n",
    "Another source we used for inspiration are Word Clouds. Word Clouds are a visual way of analyzing the most popular words used in some data set. There is a website specifically made for generating word clouds, where the user inputs a website URL and it will output a word cloud of the most popular words used on that site. With our research, we are essentially creating an algorithm that would help create WordClouds for Reddit posts on a larger scale over a period of time. \n",
    "\n",
    "Explore Word Clouds here:\n",
    "https://www.wordclouds.com/\n",
    "\n",
    "Finally, we were inspired to find “trending” data by previous studies that explore such patterns over the years. For example, the Social Security Administration has a dedicated web-page of trending names in recent years. Trending names can be found by datasets of names of new-born babies or entire population. We wanted to translate that work into our project, and find trending words used on Reddit comments to explore how Reddit has changed over time. \n",
    "\n",
    "Explore Trending names here:\n",
    "https://www.ssa.gov/oact/babynames/#ht=0\n",
    "https://flowingdata.com/2013/07/29/the-most-trendy-names-in-us-history/\n"
   ]
  },
  {
   "cell_type": "markdown",
   "metadata": {},
   "source": [
    "## Hypothesis\n"
   ]
  },
  {
   "cell_type": "markdown",
   "metadata": {},
   "source": [
    "Our group predicts that the top words of a single month will be related to each other, either in sentiment or topic. For example, an example of a group of popular words during a month could be “Trump”, “election”, “twitter”, etc. We believe that this would be the case because usually every month there is a different trending topic that will result in several reddit posts. As a result, the most commonly used words unique to that specific month would be related to each other. "
   ]
  },
  {
   "cell_type": "markdown",
   "metadata": {},
   "source": [
    "## Dataset"
   ]
  },
  {
   "cell_type": "markdown",
   "metadata": {},
   "source": [
    "Here is the source of our datasets: http://files.pushshift.io/reddit/comments/\n",
    "\n",
    "In the data source, the comments are compressed and collected by month using the Reddit API. For each of these compressed files, there are hundreds of millions of observations that are comments made by Redditors. These files are compressed by month and individual comments are presented in JSON format such as the one below.  In these comments, a plethora of metadata is associated with the comment body that are very useful variables for analysis. For instance, the below comment contains information such as the score (by votes), the user name, the creation date, and the subreddit ID. There are files for comments ranging from December 2015 to February 2019. While we have access to millions of comments and data, we will only be looking at January 2008 - December 2008.\n",
    "\n",
    "Here is a data sample from the dataset:\n",
    "** Important tags to consider: “subreddit_id”, “body”, “author” **"
   ]
  },
  {
   "cell_type": "markdown",
   "metadata": {},
   "source": [
    "```JSON\n",
    "{\"created_utc\":1134365725,\"author_flair_css_class\":null,\"score\":1,\"ups\":1,\"subreddit\":\"reddit.com\",\"stickied\":false,\"link_id\":\"t3_17866\",\"subreddit_id\":\"t5_6\",\"controversiality\":0,\"body\":\"The site states \\\"What can I use it for? Meeting notes, Reports, technical specs Sign-up sheets, proposals and much more...\\\", just like any other new breeed of sites that want us to store everything we have on the web. And they even guarantee multiple levels of security and encryption etc. But what prevents these web site operators fom accessing and/or stealing Meeting notes, Reports, technical specs Sign-up sheets, proposals and much more, for competitive or personal gains...? I am pretty sure that most of them are honest, but what's there to prevent me from setting up a good useful site and stealing all your data? Call me paranoid - I am.\",\"retrieved_on\":1473738411,\"distinguished\":null,\"gilded\":0,\"id\":\"c14\",\"edited\":false,\"parent_id\":\"t3_17866\",\"author\":\"zse7zse\",\"author_flair_text\":null}\n",
    "```"
   ]
  },
  {
   "cell_type": "markdown",
   "metadata": {},
   "source": [
    "### Special focus on 2008 comments\n",
    "\n",
    "For the purpose of time and resource, we will only analyze 2008 comments. This is mostly due to the fact that Reddit have grown exponentially - even for 2008 the comments size are multile gbs (which require days to process!)."
   ]
  },
  {
   "cell_type": "markdown",
   "metadata": {},
   "source": [
    "## Setup"
   ]
  },
  {
   "cell_type": "markdown",
   "metadata": {},
   "source": [
    "Now we will begin processing our data set. We shall first import the appropriate libraries that we will use for data cleaning and plotting."
   ]
  },
  {
   "cell_type": "code",
   "execution_count": 1,
   "metadata": {
    "scrolled": true
   },
   "outputs": [
    {
     "name": "stderr",
     "output_type": "stream",
     "text": [
      "[nltk_data] Downloading package stopwords to /Users/san/nltk_data...\n",
      "[nltk_data]   Package stopwords is already up-to-date!\n",
      "[nltk_data] Downloading package wordnet to /Users/san/nltk_data...\n",
      "[nltk_data]   Package wordnet is already up-to-date!\n",
      "[nltk_data] Downloading package words to /Users/san/nltk_data...\n",
      "[nltk_data]   Unzipping corpora/words.zip.\n"
     ]
    }
   ],
   "source": [
    "import bz2\n",
    "import multiprocessing\n",
    "import numpy\n",
    "from collections import defaultdict\n",
    "from collections import Counter\n",
    "import nltk\n",
    "import string\n",
    "from nltk.stem.porter import *\n",
    "import operator\n",
    "import math\n",
    "from textblob import TextBlob as tb\n",
    "import pandas as pd\n",
    "import json\n",
    "from nltk.corpus import stopwords\n",
    "nltk.download('stopwords')\n",
    "nltk.download('wordnet')\n",
    "nltk.download('words')\n",
    "from nltk.stem.snowball import SnowballStemmer"
   ]
  },
  {
   "cell_type": "code",
   "execution_count": 5,
   "metadata": {},
   "outputs": [],
   "source": [
    "import numpy as np\n",
    "import pandas as pd\n",
    "import matplotlib.pyplot as plt"
   ]
  },
  {
   "cell_type": "markdown",
   "metadata": {},
   "source": [
    "## Data Cleaning"
   ]
  },
  {
   "cell_type": "markdown",
   "metadata": {},
   "source": [
    "We used Natural Language Toolkit to clean up our dataset. We first used SnowballStemmer for English to remove morphological affixes from words in each comment, leaving only the word stem. Next, we used nltk.wordpunct_tokenize() which takes corpus of text and splits it into tokens, then, we used stop words of English, nltk.corpus.words.words() to filter out the non-English words and stop words which are not helpful for our analysis."
   ]
  },
  {
   "cell_type": "code",
   "execution_count": 2,
   "metadata": {},
   "outputs": [],
   "source": [
    "def parseBzData(f):\n",
    "    source_file = bz2.BZ2File(f, \"r\")\n",
    "    comment_body = []\n",
    "    for line in source_file:\n",
    "        json_line = json.loads(line.decode())\n",
    "        # Drop user name of comment author\n",
    "        if \"author\" in json_line:\n",
    "            del json_line[\"author\"]\n",
    "        if \"body\" in json_line and json_line[\"score\"] >= 0:\n",
    "            comment_body.append(json_line[\"body\"])\n",
    "    return comment_body"
   ]
  },
  {
   "cell_type": "code",
   "execution_count": 3,
   "metadata": {},
   "outputs": [],
   "source": [
    "stemmer = SnowballStemmer(\"english\")\n",
    "stopwords_set = set(stopwords.words('english'))\n",
    "words = set(nltk.corpus.words.words())"
   ]
  },
  {
   "cell_type": "code",
   "execution_count": 4,
   "metadata": {},
   "outputs": [],
   "source": [
    "def clean_comments(comment_body):\n",
    "    comment_list = []\n",
    "    cache = ''\n",
    "    for comment in comment_body:\n",
    "        comment = stemmer.stem(comment)\n",
    "        comment_cleaned = \" \".join(w for w in nltk.wordpunct_tokenize(comment) if w.lower() in words and len(w) > 1 and w not in stopwords_set)\n",
    "        comment_list.append(stemmer.stem(comment_cleaned))\n",
    "        cache += (\" \" + stemmer.stem(comment_cleaned))\n",
    "    return cache"
   ]
  },
  {
   "cell_type": "code",
   "execution_count": 5,
   "metadata": {},
   "outputs": [
    {
     "name": "stdout",
     "output_type": "stream",
     "text": [
      "Start processing 12 months' files...\n",
      "loading data for month 01\n",
      "loading data for month 02\n",
      "loading data for month 03\n",
      "loading data for month 04\n",
      "loading data for month 05\n",
      "loading data for month 06\n",
      "loading data for month 07\n",
      "loading data for month 08\n",
      "loading data for month 09\n",
      "loading data for month 10\n",
      "loading data for month 11\n",
      "loading data for month 12\n",
      "Done processing data\n"
     ]
    }
   ],
   "source": [
    "print(\"Start processing 12 months' files...\")\n",
    "all_documents = []\n",
    "for i in [\"01\", \"02\", \"03\", \"04\", \"05\", \"06\", \"07\", \"08\", \"09\", \"10\", \"11\", \"12\"]:\n",
    "    print(\"loading data for month \" + str(i))\n",
    "    all_documents.append(clean_comments(parseBzData('RC_2008-' + i + '.bz2')))\n",
    "\n",
    "print(\"Done processing data\")"
   ]
  },
  {
   "cell_type": "markdown",
   "metadata": {},
   "source": [
    "## Extracting TFIDF For Positive Comments"
   ]
  },
  {
   "cell_type": "markdown",
   "metadata": {},
   "source": [
    "To extract TF/IDF, we need to calculate IDF for each word and create a dictionary which stores the word as key and its IDF result as the value. The IDF value will decrease the weight for commonly used words and increase the weight for words that are not used very much in the whole year of 2008. For each month, we calculated the TF/IDF by multiplying the frequency of each word in the month and the IDF value of the word."
   ]
  },
  {
   "cell_type": "code",
   "execution_count": 9,
   "metadata": {},
   "outputs": [],
   "source": [
    "def generateWordCount(data):\n",
    "    word_count = defaultdict(int)\n",
    "    counter = 0\n",
    "    for d in data:\n",
    "        counter += 1\n",
    "        print(\"loading data for month \" + str(counter))\n",
    "        c = set(list(tb(d).words))\n",
    "        for w in c:\n",
    "            word_count[w] += 1\n",
    "    return word_count"
   ]
  },
  {
   "cell_type": "code",
   "execution_count": 10,
   "metadata": {},
   "outputs": [
    {
     "name": "stdout",
     "output_type": "stream",
     "text": [
      "loading data for month 1\n",
      "loading data for month 2\n",
      "loading data for month 3\n",
      "loading data for month 4\n",
      "loading data for month 5\n",
      "loading data for month 6\n",
      "loading data for month 7\n",
      "loading data for month 8\n",
      "loading data for month 9\n",
      "loading data for month 10\n",
      "loading data for month 11\n",
      "loading data for month 12\n"
     ]
    }
   ],
   "source": [
    "word_count = generateWordCount(all_documents)"
   ]
  },
  {
   "cell_type": "code",
   "execution_count": 11,
   "metadata": {},
   "outputs": [
    {
     "data": {
      "text/plain": [
       "68469"
      ]
     },
     "execution_count": 11,
     "metadata": {},
     "output_type": "execute_result"
    }
   ],
   "source": [
    "len(word_count)"
   ]
  },
  {
   "cell_type": "code",
   "execution_count": 12,
   "metadata": {},
   "outputs": [],
   "source": [
    "all_words = [tb(d) for d in all_documents]"
   ]
  },
  {
   "cell_type": "code",
   "execution_count": 13,
   "metadata": {},
   "outputs": [],
   "source": [
    "def getIdf(term, words):\n",
    "    term_counter = word_count[term]\n",
    "    if term_counter == 0:\n",
    "        return 0\n",
    "    else:\n",
    "        return math.log10(len(words) / term_counter)\n",
    "\n",
    "def getTfidf(term, review, words):\n",
    "    tf = review.words.count(term)\n",
    "    tfidf = tf * word_idf[term]\n",
    "    return tfidf"
   ]
  },
  {
   "cell_type": "code",
   "execution_count": 14,
   "metadata": {},
   "outputs": [
    {
     "name": "stdout",
     "output_type": "stream",
     "text": [
      "working on idf: 5000\n",
      "working on idf: 10000\n",
      "working on idf: 15000\n",
      "working on idf: 20000\n",
      "working on idf: 25000\n",
      "working on idf: 30000\n",
      "working on idf: 35000\n",
      "working on idf: 40000\n",
      "working on idf: 45000\n",
      "working on idf: 50000\n",
      "working on idf: 55000\n",
      "working on idf: 60000\n",
      "working on idf: 65000\n"
     ]
    }
   ],
   "source": [
    "word_idf = defaultdict(int)\n",
    "counter = 0\n",
    "for w in word_count.keys():\n",
    "    counter += 1\n",
    "    if counter % 5000 == 0:\n",
    "        print(\"working on idf: \" + str(counter))\n",
    "    word_idf[w] = getIdf(w, all_words)"
   ]
  },
  {
   "cell_type": "code",
   "execution_count": 15,
   "metadata": {},
   "outputs": [],
   "source": [
    "def generateMonthlyTfidf(index):\n",
    "    print(\"generating tf-idf for index: \" + str(index))\n",
    "    words = all_words[index]\n",
    "    tfidf_dict = defaultdict(int)\n",
    "    counter = 0\n",
    "    for w in word_count.keys():\n",
    "        \n",
    "        tfidf_dict[w] = getTfidf(w, words, all_words)\n",
    "    print(\"finish generating tf-idf for index: \" + str(index))\n",
    "    return tfidf_dict"
   ]
  },
  {
   "cell_type": "code",
   "execution_count": 16,
   "metadata": {},
   "outputs": [],
   "source": [
    "def transform_apply_result(input_list):\n",
    "    result_list = []    \n",
    "    for i in range(len(input_list)):\n",
    "        result_list.append(input_list[i].get())\n",
    "    return result_list"
   ]
  },
  {
   "cell_type": "code",
   "execution_count": 17,
   "metadata": {},
   "outputs": [
    {
     "name": "stdout",
     "output_type": "stream",
     "text": [
      "generating tf-idf for index: 0\n",
      "generating tf-idf for index: 2\n",
      "generating tf-idf for index: 1\n",
      "generating tf-idf for index: 3\n",
      "generating tf-idf for index: 4\n",
      "finish generating tf-idf for index: 1\n",
      "generating tf-idf for index: 5\n",
      "finish generating tf-idf for index: 2\n",
      "generating tf-idf for index: 6\n",
      "finish generating tf-idf for index: 0\n",
      "generating tf-idf for index: 7\n",
      "finish generating tf-idf for index: 3\n",
      "generating tf-idf for index: 8\n",
      "finish generating tf-idf for index: 4\n",
      "generating tf-idf for index: 9\n",
      "finish generating tf-idf for index: 5\n",
      "generating tf-idf for index: 10\n",
      "finish generating tf-idf for index: 7\n",
      "generating tf-idf for index: 11\n",
      "finish generating tf-idf for index: 6\n",
      "finish generating tf-idf for index: 8\n",
      "finish generating tf-idf for index: 9\n",
      "finish generating tf-idf for index: 10\n",
      "finish generating tf-idf for index: 11\n"
     ]
    }
   ],
   "source": [
    "tf_idf_work_pool = multiprocessing.Pool(processes=multiprocessing.cpu_count()-7)\n",
    "tf_idf_work_result_temp = []\n",
    "\n",
    "for i in range(0,12):\n",
    "    sample_result = tf_idf_work_pool.apply_async(generateMonthlyTfidf, (i, ))\n",
    "    tf_idf_work_result_temp.append(sample_result)\n",
    "\n",
    "tf_idf_work_pool.close()\n",
    "tf_idf_work_pool.join()\n",
    "\n",
    "tf_idf_work_result = transform_apply_result(tf_idf_work_result_temp)"
   ]
  },
  {
   "cell_type": "code",
   "execution_count": 18,
   "metadata": {},
   "outputs": [],
   "source": [
    "word_tfidf_sorted_list = []\n",
    "for i in range(0,12):\n",
    "    word_tfidf_sorted_list.append(sorted(tf_idf_work_result[i].items(), key=lambda kv: -kv[1]))"
   ]
  },
  {
   "cell_type": "markdown",
   "metadata": {},
   "source": [
    "### Sorted top frequent words of each month"
   ]
  },
  {
   "cell_type": "markdown",
   "metadata": {},
   "source": [
    "Now that we have extracted all of our words following TFIDF method, we will sort the result and print out the top 50 for each month."
   ]
  },
  {
   "cell_type": "code",
   "execution_count": 19,
   "metadata": {},
   "outputs": [
    {
     "data": {
      "text/plain": [
       "[('lutetium', 11.672268755754654),\n",
       " ('netsuke', 10.837079843903323),\n",
       " ('cusec', 10.79181246047625),\n",
       " ('bogard', 9.712631214428624),\n",
       " ('inflector', 9.337815004603723),\n",
       " ('amoralist', 9.030899869919436),\n",
       " ('mensal', 8.633449968380999),\n",
       " ('attestation', 8.588182584953923),\n",
       " ('vardy', 8.55966375422008),\n",
       " ('triolet', 7.003361253452793),\n",
       " ('gur', 6.996569250064796),\n",
       " ('lecker', 6.475087476285749),\n",
       " ('tulle', 6.475087476285749),\n",
       " ('strick', 6.463591109097303),\n",
       " ('transvaal', 6.225210003069149),\n",
       " ('tusked', 6.225210003069149),\n",
       " ('bobbin', 5.987102807893162),\n",
       " ('carty', 5.395906230238125),\n",
       " ('herbalism', 5.383913738767463),\n",
       " ('rennet', 4.942746142250878),\n",
       " ('parasitosis', 4.915747326700727),\n",
       " ('antitax', 4.3167249841904995),\n",
       " ('paramagnet', 4.3167249841904995),\n",
       " ('overcount', 4.3167249841904995),\n",
       " ('japonica', 4.3167249841904995),\n",
       " ('quag', 4.214419939295737),\n",
       " ('milkweed', 4.214419939295737),\n",
       " ('varna', 4.182323658827666),\n",
       " ('repealer', 3.8907562519182184),\n",
       " ('borehole', 3.8907562519182184),\n",
       " ('rumney', 3.8907562519182184),\n",
       " ('abac', 3.8907562519182184),\n",
       " ('katydid', 3.8169700377572995),\n",
       " ('kik', 3.80211241711606),\n",
       " ('uncommit', 3.745331296533887),\n",
       " ('ontogeny', 3.612359947967774),\n",
       " ('junt', 3.612359947967774),\n",
       " ('rishi', 3.612359947967774),\n",
       " ('unsilenced', 3.612359947967774),\n",
       " ('miscount', 3.5112480905005192),\n",
       " ('kaffiyeh', 3.339848783037637),\n",
       " ('shipboard', 3.339848783037637),\n",
       " ('accommodative', 3.2375437381428744),\n",
       " ('earthquaking', 3.2375437381428744),\n",
       " ('unie', 3.2375437381428744),\n",
       " ('anticlerical', 3.2375437381428744),\n",
       " ('polyploid', 3.2375437381428744),\n",
       " ('hydatid', 3.2375437381428744),\n",
       " ('zoosperm', 3.2375437381428744),\n",
       " ('bota', 3.2375437381428744)]"
      ]
     },
     "execution_count": 19,
     "metadata": {},
     "output_type": "execute_result"
    }
   ],
   "source": [
    "word_tfidf_sorted_list[0][:50]"
   ]
  },
  {
   "cell_type": "code",
   "execution_count": 20,
   "metadata": {},
   "outputs": [
    {
     "data": {
      "text/plain": [
       "[('unfirm', 91.0436962948863),\n",
       " ('unpledged', 10.533744271501558),\n",
       " ('hydrazine', 10.23501985257536),\n",
       " ('anosmic', 8.633449968380999),\n",
       " ('alcalde', 8.633449968380999),\n",
       " ('ruga', 7.554268722333374),\n",
       " ('urticaria', 7.224719895935548),\n",
       " ('poesy', 7.224013592520515),\n",
       " ('ilex', 7.003361253452793),\n",
       " ('moksha', 6.679697566075274),\n",
       " ('bours', 6.622659904607587),\n",
       " ('nonfederal', 6.475087476285749),\n",
       " ('fidicinal', 6.475087476285749),\n",
       " ('micropsia', 6.475087476285749),\n",
       " ('streck', 6.475087476285749),\n",
       " ('superdelegate', 6.04616974230396),\n",
       " ('quadriplegia', 6.020599913279624),\n",
       " ('stereopsis', 5.7254550566359494),\n",
       " ('nudibranch', 5.322957383962485),\n",
       " ('grantee', 4.942746142250878),\n",
       " ('crossbill', 4.3167249841904995),\n",
       " ('bookless', 4.3167249841904995),\n",
       " ('scandent', 4.3167249841904995),\n",
       " ('decapitalize', 4.3167249841904995),\n",
       " ('eyetooth', 4.3167249841904995),\n",
       " ('whitesmith', 4.3167249841904995),\n",
       " ('mense', 4.3167249841904995),\n",
       " ('histidine', 4.214419939295737),\n",
       " ('rennet', 4.182323658827666),\n",
       " ('anosmia', 3.8169700377572995),\n",
       " ('superdeleg', 3.745331296533887),\n",
       " ('ethnocracy', 3.612359947967774),\n",
       " ('hydroscopic', 3.612359947967774),\n",
       " ('waterspout', 3.612359947967774),\n",
       " ('willey', 3.5218251811136247),\n",
       " ('xylitol', 3.373345888424098),\n",
       " ('untasty', 3.339848783037637),\n",
       " ('ubiety', 3.2375437381428744),\n",
       " ('alkene', 3.2375437381428744),\n",
       " ('ivybells', 3.2375437381428744),\n",
       " ('tearage', 3.2375437381428744),\n",
       " ('hyperborean', 3.2375437381428744),\n",
       " ('trioxide', 3.2375437381428744),\n",
       " ('innominate', 3.2375437381428744),\n",
       " ('untellable', 3.2375437381428744),\n",
       " ('sitosterol', 3.2375437381428744),\n",
       " ('elkhorn', 3.2375437381428744),\n",
       " ('clockface', 3.2375437381428744),\n",
       " ('seigneurial', 3.2375437381428744),\n",
       " ('carper', 3.1696426630022625)]"
      ]
     },
     "execution_count": 20,
     "metadata": {},
     "output_type": "execute_result"
    }
   ],
   "source": [
    "word_tfidf_sorted_list[1][:50]"
   ]
  },
  {
   "cell_type": "code",
   "execution_count": 21,
   "metadata": {},
   "outputs": [
    {
     "data": {
      "text/plain": [
       "[('heiau', 22.87827967046257),\n",
       " ('silane', 18.346081182809623),\n",
       " ('kayles', 12.450420006138298),\n",
       " ('tantrik', 11.870993706523874),\n",
       " ('outstretch', 10.115966254987367),\n",
       " ('bubo', 10.115966254987367),\n",
       " ('circumcenter', 9.712631214428624),\n",
       " ('phonautogram', 7.554268722333374),\n",
       " ('destructivity', 7.554268722333374),\n",
       " ('boatman', 7.003361253452793),\n",
       " ('pelorian', 6.475087476285749),\n",
       " ('anaphora', 6.020599913279624),\n",
       " ('collinear', 6.020599913279624),\n",
       " ('surah', 5.458829030726118),\n",
       " ('aluminothermic', 5.418539921951662),\n",
       " ('reductional', 5.395906230238125),\n",
       " ('croucher', 5.395906230238125),\n",
       " ('amusia', 5.395906230238125),\n",
       " ('divisionist', 4.668907502301861),\n",
       " ('diamondiferous', 4.3167249841904995),\n",
       " ('visitatorial', 4.3167249841904995),\n",
       " ('ocellated', 4.3167249841904995),\n",
       " ('precertification', 4.3167249841904995),\n",
       " ('dedifferentiate', 4.3167249841904995),\n",
       " ('sunniness', 4.3167249841904995),\n",
       " ('sawt', 4.3167249841904995),\n",
       " ('phonautograph', 4.3167249841904995),\n",
       " ('diuresis', 4.3167249841904995),\n",
       " ('causey', 4.294091292476962),\n",
       " ('colitis', 4.27578728657174),\n",
       " ('quatre', 4.214419939295737),\n",
       " ('charism', 3.8907562519182184),\n",
       " ('muscadine', 3.8907562519182184),\n",
       " ('unpledged', 3.745331296533887),\n",
       " ('spitz', 3.745331296533887),\n",
       " ('karyotype', 3.612359947967774),\n",
       " ('gratu', 3.612359947967774),\n",
       " ('sortition', 3.498284625032398),\n",
       " ('revote', 3.498284625032398),\n",
       " ('cretinism', 3.3113299523037933),\n",
       " ('macaw', 3.3113299523037933),\n",
       " ('lovelock', 3.248407151815798),\n",
       " ('organismal', 3.2375437381428744),\n",
       " ('perjurous', 3.2375437381428744),\n",
       " ('superavit', 3.2375437381428744),\n",
       " ('deerhound', 3.2375437381428744),\n",
       " ('tambor', 3.2375437381428744),\n",
       " ('tanh', 3.2375437381428744),\n",
       " ('tilter', 3.2375437381428744),\n",
       " ('spode', 3.2375437381428744)]"
      ]
     },
     "execution_count": 21,
     "metadata": {},
     "output_type": "execute_result"
    }
   ],
   "source": [
    "word_tfidf_sorted_list[2][:50]"
   ]
  },
  {
   "cell_type": "code",
   "execution_count": 22,
   "metadata": {},
   "outputs": [
    {
     "data": {
      "text/plain": [
       "[('mogo', 12.882273877430885),\n",
       " ('strucken', 7.554268722333374),\n",
       " ('spaid', 7.003361253452793),\n",
       " ('scops', 6.475087476285749),\n",
       " ('reflog', 6.020599913279624),\n",
       " ('unintimidated', 5.447058752685505),\n",
       " ('tiza', 5.395906230238125),\n",
       " ('subrogation', 5.248333801916287),\n",
       " ('redback', 4.942746142250878),\n",
       " ('charism', 4.668907502301861),\n",
       " ('kayles', 4.668907502301861),\n",
       " ('bolero', 4.515449934959718),\n",
       " ('crepuscule', 4.3167249841904995),\n",
       " ('fastidiousness', 4.3167249841904995),\n",
       " ('caranna', 4.3167249841904995),\n",
       " ('oxyacetylene', 4.3167249841904995),\n",
       " ('canty', 4.3167249841904995),\n",
       " ('corsage', 4.214419939295737),\n",
       " ('lave', 4.214419939295737),\n",
       " ('diffusely', 3.8907562519182184),\n",
       " ('realest', 3.8169700377572995),\n",
       " ('unpledged', 3.745331296533887),\n",
       " ('tania', 3.697916440169306),\n",
       " ('flagellum', 3.6232233616406977),\n",
       " ('acquirement', 3.612359947967774),\n",
       " ('schlieren', 3.612359947967774),\n",
       " ('alar', 3.339848783037637),\n",
       " ('shab', 3.2375437381428744),\n",
       " ('pedunculate', 3.2375437381428744),\n",
       " ('durbar', 3.2375437381428744),\n",
       " ('matureness', 3.2375437381428744),\n",
       " ('palaeological', 3.2375437381428744),\n",
       " ('photoimpression', 3.2375437381428744),\n",
       " ('virescence', 3.2375437381428744),\n",
       " ('asway', 3.2375437381428744),\n",
       " ('gleet', 3.2375437381428744),\n",
       " ('verjuice', 3.2375437381428744),\n",
       " ('contriteness', 3.2375437381428744),\n",
       " ('lipodystrophy', 3.2375437381428744),\n",
       " ('counterpane', 3.2375437381428744),\n",
       " ('raphides', 3.2375437381428744),\n",
       " ('salpa', 3.2375437381428744),\n",
       " ('enigmatically', 3.2375437381428744),\n",
       " ('horsy', 3.2375437381428744),\n",
       " ('blessedness', 3.2375437381428744),\n",
       " ('craniosacral', 3.2375437381428744),\n",
       " ('chummery', 3.2375437381428744),\n",
       " ('amylose', 3.2375437381428744),\n",
       " ('heptagon', 3.2375437381428744),\n",
       " ('toolmaking', 3.2375437381428744)]"
      ]
     },
     "execution_count": 22,
     "metadata": {},
     "output_type": "execute_result"
    }
   ],
   "source": [
    "word_tfidf_sorted_list[3][:50]"
   ]
  },
  {
   "cell_type": "code",
   "execution_count": 23,
   "metadata": {},
   "outputs": [
    {
     "data": {
      "text/plain": [
       "[('palfrey', 20.36523892490301),\n",
       " ('ingle', 15.05149978319906),\n",
       " ('plugboard', 9.712631214428624),\n",
       " ('yark', 9.712631214428624),\n",
       " ('percolation', 7.781512503836437),\n",
       " ('huddler', 7.224719895935548),\n",
       " ('gladiatrix', 6.475087476285749),\n",
       " ('glioma', 5.447058752685505),\n",
       " ('stereogram', 5.418539921951662),\n",
       " ('doubleton', 5.395906230238125),\n",
       " ('mnemonist', 5.395906230238125),\n",
       " ('tarpon', 4.942746142250878),\n",
       " ('filly', 4.816479930623699),\n",
       " ('melos', 4.3167249841904995),\n",
       " ('dactylic', 4.3167249841904995),\n",
       " ('unpartitioned', 4.3167249841904995),\n",
       " ('intussusception', 4.3167249841904995),\n",
       " ('dural', 4.3167249841904995),\n",
       " ('explanative', 4.3167249841904995),\n",
       " ('cicerone', 4.3167249841904995),\n",
       " ('laminitis', 4.3167249841904995),\n",
       " ('endocranial', 4.3167249841904995),\n",
       " ('rima', 4.294091292476962),\n",
       " ('mycologist', 4.214419939295737),\n",
       " ('tuath', 4.214419939295737),\n",
       " ('leaven', 4.213497708600623),\n",
       " ('semiannual', 3.8907562519182184),\n",
       " ('antinomy', 3.8907562519182184),\n",
       " ('sialic', 3.8907562519182184),\n",
       " ('dioxane', 3.8907562519182184),\n",
       " ('belton', 3.8907562519182184),\n",
       " ('krome', 3.8907562519182184),\n",
       " ('errorist', 3.8907562519182184),\n",
       " ('anharmonic', 3.8907562519182184),\n",
       " ('directivity', 3.8907562519182184),\n",
       " ('polythene', 3.80211241711606),\n",
       " ('atchison', 3.80211241711606),\n",
       " ('ladybird', 3.80211241711606),\n",
       " ('problematize', 3.612359947967774),\n",
       " ('congruential', 3.612359947967774),\n",
       " ('kob', 3.612359947967774),\n",
       " ('hemmer', 3.612359947967774),\n",
       " ('olecranon', 3.612359947967774),\n",
       " ('tatu', 3.612359947967774),\n",
       " ('merryman', 3.339848783037637),\n",
       " ('kago', 3.339848783037637),\n",
       " ('scrobble', 3.339848783037637),\n",
       " ('eluvium', 3.339848783037637),\n",
       " ('scaleless', 3.2375437381428744),\n",
       " ('dominium', 3.2375437381428744)]"
      ]
     },
     "execution_count": 23,
     "metadata": {},
     "output_type": "execute_result"
    }
   ],
   "source": [
    "word_tfidf_sorted_list[4][:50]"
   ]
  },
  {
   "cell_type": "code",
   "execution_count": 24,
   "metadata": {},
   "outputs": [
    {
     "data": {
      "text/plain": [
       "[('caban', 12.950174952571498),\n",
       " ('caryophyllene', 10.89411750537101),\n",
       " ('citrate', 10.03720176617383),\n",
       " ('brachialis', 9.712631214428624),\n",
       " ('oxyhydrogen', 9.632959861247398),\n",
       " ('callipygian', 9.50528104279015),\n",
       " ('squirrelfish', 9.156745470895425),\n",
       " ('borsch', 7.224719895935548),\n",
       " ('knighthood', 7.0224961810010385),\n",
       " ('misleader', 6.475087476285749),\n",
       " ('designable', 6.475087476285749),\n",
       " ('trunnion', 6.475087476285749),\n",
       " ('coker', 6.225210003069149),\n",
       " ('sloop', 6.0833798673856965),\n",
       " ('geoduck', 5.852080150834198),\n",
       " ('kinase', 5.447058752685505),\n",
       " ('nostic', 5.447058752685505),\n",
       " ('paraboloid', 5.447058752685505),\n",
       " ('peiser', 5.418539921951662),\n",
       " ('wealthiness', 5.395906230238125),\n",
       " ('lunes', 5.395906230238125),\n",
       " ('thujone', 5.322957383962485),\n",
       " ('arrestor', 5.248333801916287),\n",
       " ('banky', 5.248333801916287),\n",
       " ('lory', 5.248333801916287),\n",
       " ('boric', 4.771212547196624),\n",
       " ('hadrosaur', 4.668907502301861),\n",
       " ('haunter', 4.668907502301861),\n",
       " ('tillage', 4.562534900539273),\n",
       " ('phosphocreatine', 4.3167249841904995),\n",
       " ('switchel', 4.3167249841904995),\n",
       " ('tripos', 4.3167249841904995),\n",
       " ('callipygous', 4.3167249841904995),\n",
       " ('everydayness', 4.3167249841904995),\n",
       " ('unliftable', 4.3167249841904995),\n",
       " ('preambulatory', 4.214419939295737),\n",
       " ('hadden', 4.214419939295737),\n",
       " ('uracil', 4.214419939295737),\n",
       " ('chrysalis', 4.214419939295737),\n",
       " ('rennet', 4.182323658827666),\n",
       " ('wordle', 4.182323658827666),\n",
       " ('fortis', 4.182323658827666),\n",
       " ('tala', 3.9133899436317554),\n",
       " ('protuberance', 3.8907562519182184),\n",
       " ('alexandrite', 3.8907562519182184),\n",
       " ('minot', 3.697916440169306),\n",
       " ('trekk', 3.612359947967774),\n",
       " ('prefatory', 3.612359947967774),\n",
       " ('moissanite', 3.421901175404454),\n",
       " ('capybara', 3.339848783037637)]"
      ]
     },
     "execution_count": 24,
     "metadata": {},
     "output_type": "execute_result"
    }
   ],
   "source": [
    "word_tfidf_sorted_list[5][:50]"
   ]
  },
  {
   "cell_type": "code",
   "execution_count": 25,
   "metadata": {},
   "outputs": [
    {
     "data": {
      "text/plain": [
       "[('awning', 14.279075568035443),\n",
       " ('glub', 9.363328241334717),\n",
       " ('opalesque', 8.633449968380999),\n",
       " ('jazzer', 8.633449968380999),\n",
       " ('aspartate', 8.428839878591473),\n",
       " ('concentrator', 8.426995417201246),\n",
       " ('coprolalia', 7.633940075514599),\n",
       " ('monkish', 6.679697566075274),\n",
       " ('phosphorescence', 6.622659904607587),\n",
       " ('boxwood', 6.475087476285749),\n",
       " ('insole', 6.475087476285749),\n",
       " ('paramorphism', 6.475087476285749),\n",
       " ('bouldering', 6.321629908943605),\n",
       " ('blatter', 6.225210003069149),\n",
       " ('waterflood', 6.225210003069149),\n",
       " ('pectus', 6.202576311355612),\n",
       " ('endometrial', 6.020599913279624),\n",
       " ('plasmodium', 5.418539921951662),\n",
       " ('solvation', 5.395906230238125),\n",
       " ('jigginess', 5.395906230238125),\n",
       " ('implead', 5.395906230238125),\n",
       " ('selenide', 5.395906230238125),\n",
       " ('unbraced', 5.395906230238125),\n",
       " ('riddler', 5.328187085405365),\n",
       " ('eucharistic', 5.248333801916287),\n",
       " ('committeeman', 4.816479930623699),\n",
       " ('conceptus', 4.771212547196624),\n",
       " ('dendritic', 4.771212547196624),\n",
       " ('methylene', 4.771212547196624),\n",
       " ('epigenetic', 4.754463994503394),\n",
       " ('chined', 4.668907502301861),\n",
       " ('pilonidal', 4.562534900539273),\n",
       " ('hyperpigmentation', 4.3167249841904995),\n",
       " ('icebound', 4.3167249841904995),\n",
       " ('pitchstone', 4.3167249841904995),\n",
       " ('percher', 4.3167249841904995),\n",
       " ('syzygium', 4.3167249841904995),\n",
       " ('girdling', 4.3167249841904995),\n",
       " ('petrosa', 4.3167249841904995),\n",
       " ('killdeer', 4.3167249841904995),\n",
       " ('batfish', 4.3167249841904995),\n",
       " ('unmended', 4.3167249841904995),\n",
       " ('overspeculation', 4.294091292476962),\n",
       " ('skidder', 4.214419939295737),\n",
       " ('loach', 4.214419939295737),\n",
       " ('asherah', 4.214419939295737),\n",
       " ('croydon', 4.213497708600623),\n",
       " ('arginine', 4.182323658827666),\n",
       " ('grantee', 4.182323658827666),\n",
       " ('hedonics', 4.182323658827666)]"
      ]
     },
     "execution_count": 25,
     "metadata": {},
     "output_type": "execute_result"
    }
   ],
   "source": [
    "word_tfidf_sorted_list[6][:50]"
   ]
  },
  {
   "cell_type": "code",
   "execution_count": 26,
   "metadata": {},
   "outputs": [
    {
     "data": {
      "text/plain": [
       "[('perchlorate', 24.68445964444646),\n",
       " ('saddleback', 15.968872151887453),\n",
       " ('rakan', 15.108537444666748),\n",
       " ('associational', 15.108537444666748),\n",
       " ('baku', 10.64591476792497),\n",
       " ('antireligion', 10.536049848239342),\n",
       " ('spitz', 10.065577859434821),\n",
       " ('cockily', 9.712631214428624),\n",
       " ('leal', 7.826779887263511),\n",
       " ('perchlor', 7.781512503836437),\n",
       " ('bentonite', 7.633940075514599),\n",
       " ('anode', 7.60422483423212),\n",
       " ('beal', 7.60422483423212),\n",
       " ('wawah', 7.554268722333374),\n",
       " ('babby', 7.3687693734329525),\n",
       " ('nothingism', 7.224719895935548),\n",
       " ('easement', 6.5153765850602054),\n",
       " ('coatee', 6.475087476285749),\n",
       " ('pandan', 6.225210003069149),\n",
       " ('winglet', 6.225210003069149),\n",
       " ('mogo', 6.202576311355612),\n",
       " ('steerable', 6.020599913279624),\n",
       " ('awakener', 5.447058752685505),\n",
       " ('perfective', 5.447058752685505),\n",
       " ('doser', 5.395906230238125),\n",
       " ('nulliparous', 5.395906230238125),\n",
       " ('binaural', 5.122488200940297),\n",
       " ('vitiligo', 4.816479930623699),\n",
       " ('fagging', 4.816479930623699),\n",
       " ('northbound', 4.754463994503394),\n",
       " ('aerodrome', 4.668907502301861),\n",
       " ('slackness', 4.668907502301861),\n",
       " ('curlew', 4.668907502301861),\n",
       " ('plosive', 4.668907502301861),\n",
       " ('shuttlecock', 4.515449934959718),\n",
       " ('unbudging', 4.3167249841904995),\n",
       " ('adsorbent', 4.3167249841904995),\n",
       " ('vespertine', 4.3167249841904995),\n",
       " ('roentgen', 4.3167249841904995),\n",
       " ('haku', 4.3167249841904995),\n",
       " ('rebounder', 4.3167249841904995),\n",
       " ('unhittable', 4.3167249841904995),\n",
       " ('limbus', 4.3167249841904995),\n",
       " ('controllably', 4.3167249841904995),\n",
       " ('unstamped', 4.3167249841904995),\n",
       " ('unpretenti', 4.3167249841904995),\n",
       " ('voile', 4.3167249841904995),\n",
       " ('broomrape', 4.294091292476962),\n",
       " ('kukri', 4.294091292476962),\n",
       " ('gude', 4.214419939295737)]"
      ]
     },
     "execution_count": 26,
     "metadata": {},
     "output_type": "execute_result"
    }
   ],
   "source": [
    "word_tfidf_sorted_list[7][:50]"
   ]
  },
  {
   "cell_type": "code",
   "execution_count": 27,
   "metadata": {},
   "outputs": [
    {
     "data": {
      "text/plain": [
       "[('diverticulosis', 32.682352516113035),\n",
       " ('palisading', 16.341176258056517),\n",
       " ('actinic', 16.341176258056517),\n",
       " ('focally', 16.341176258056517),\n",
       " ('dermatopathology', 16.341176258056517),\n",
       " ('okapi', 15.968872151887453),\n",
       " ('borosilicate', 15.05149978319906),\n",
       " ('undelayed', 13.847379800543136),\n",
       " ('reviewable', 12.041199826559248),\n",
       " ('colley', 11.870993706523874),\n",
       " ('fortis', 11.026126009636576),\n",
       " ('adenomatous', 10.973788858552236),\n",
       " ('entopic', 10.79181246047625),\n",
       " ('chicane', 10.019546349112911),\n",
       " ('dorsum', 10.019546349112911),\n",
       " ('dermis', 9.831494653401453),\n",
       " ('chrom', 9.14483173523474),\n",
       " ('squirrelfish', 8.980654211839743),\n",
       " ('homopolar', 8.633449968380999),\n",
       " ('pinax', 8.588182584953923),\n",
       " ('squamous', 7.5719241393942935),\n",
       " ('detainable', 7.554268722333374),\n",
       " ('noncompli', 7.156818820794936),\n",
       " ('euphonious', 7.003361253452793),\n",
       " ('precancerous', 6.923689900271568),\n",
       " ('babby', 6.915306642760155),\n",
       " ('resection', 6.622659904607587),\n",
       " ('conservatorship', 6.622659904607587),\n",
       " ('melamine', 6.621753040239896),\n",
       " ('hemm', 6.475087476285749),\n",
       " ('thiocyanide', 6.475087476285749),\n",
       " ('coltsfoot', 6.475087476285749),\n",
       " ('steamship', 6.463591109097303),\n",
       " ('matsu', 6.463591109097303),\n",
       " ('neuroma', 6.321629908943605),\n",
       " ('carlie', 6.225210003069149),\n",
       " ('piratery', 6.020599913279624),\n",
       " ('escapement', 6.020599913279624),\n",
       " ('beshear', 5.70316862567409),\n",
       " ('zapatero', 5.7010497154289865),\n",
       " ('polyp', 5.61799694480083),\n",
       " ('centum', 5.418539921951662),\n",
       " ('scoter', 5.395906230238125),\n",
       " ('ontologic', 5.395906230238125),\n",
       " ('hoptoad', 5.395906230238125),\n",
       " ('oread', 5.395906230238125),\n",
       " ('unreadiness', 5.395906230238125),\n",
       " ('muslin', 5.384324731238488),\n",
       " ('dovecot', 5.322957383962485),\n",
       " ('dermal', 5.149830532734095)]"
      ]
     },
     "execution_count": 27,
     "metadata": {},
     "output_type": "execute_result"
    }
   ],
   "source": [
    "word_tfidf_sorted_list[8][:50]"
   ]
  },
  {
   "cell_type": "code",
   "execution_count": 28,
   "metadata": {},
   "outputs": [
    {
     "data": {
      "text/plain": [
       "[('diverticulosis', 65.36470503222607),\n",
       " ('palisading', 32.682352516113035),\n",
       " ('actinic', 32.682352516113035),\n",
       " ('focally', 32.682352516113035),\n",
       " ('dermatopathology', 32.682352516113035),\n",
       " ('jiff', 25.046903045570367),\n",
       " ('stingo', 20.47003970515072),\n",
       " ('adenomatous', 20.039092698225822),\n",
       " ('dorsum', 20.039092698225822),\n",
       " ('dermis', 19.662989306802906),\n",
       " ('squamous', 15.496030796899948),\n",
       " ('delusory', 14.029356198619123),\n",
       " ('resection', 13.847379800543136),\n",
       " ('melamine', 13.368444817088092),\n",
       " ('theriaca', 12.950174952571498),\n",
       " ('precancerous', 12.64325981788721),\n",
       " ('neuroma', 12.64325981788721),\n",
       " ('awee', 12.405152622711224),\n",
       " ('polyp', 9.831494653401453),\n",
       " ('dermal', 9.831494653401453),\n",
       " ('freath', 9.712631214428624),\n",
       " ('folksiness', 9.632959861247398),\n",
       " ('muslin', 9.185024541524479),\n",
       " ('epithelial', 7.924106657505655),\n",
       " ('misogynic', 7.826779887263511),\n",
       " ('coble', 7.826779887263511),\n",
       " ('malm', 7.554268722333374),\n",
       " ('coistril', 7.554268722333374),\n",
       " ('tuath', 7.224719895935548),\n",
       " ('nidal', 7.224719895935548),\n",
       " ('exteriorization', 7.156818820794936),\n",
       " ('krona', 7.1215079866730955),\n",
       " ('carcinoma', 7.047130898238609),\n",
       " ('folksi', 6.843802350808908),\n",
       " ('belvedere', 6.78841297496767),\n",
       " ('cyanuric', 6.622659904607587),\n",
       " ('parah', 6.622659904607587),\n",
       " ('interbank', 6.5153765850602054),\n",
       " ('harn', 6.475087476285749),\n",
       " ('saponin', 6.475087476285749),\n",
       " ('compossible', 6.475087476285749),\n",
       " ('babby', 6.386266790308558),\n",
       " ('airedale', 6.225210003069149),\n",
       " ('glazier', 6.0833798673856965),\n",
       " ('feticide', 6.020599913279624),\n",
       " ('kronur', 6.020599913279624),\n",
       " ('doggon', 5.7254550566359494),\n",
       " ('reformism', 5.719569917615643),\n",
       " ('internode', 5.70316862567409),\n",
       " ('overlying', 5.622243147373497)]"
      ]
     },
     "execution_count": 28,
     "metadata": {},
     "output_type": "execute_result"
    }
   ],
   "source": [
    "word_tfidf_sorted_list[9][:50]"
   ]
  },
  {
   "cell_type": "code",
   "execution_count": 29,
   "metadata": {},
   "outputs": [
    {
     "data": {
      "text/plain": [
       "[('awee', 128.34561751958918),\n",
       " ('keratinization', 28.627275283179745),\n",
       " ('melamine', 28.111215736867482),\n",
       " ('alanyl', 20.504443674904874),\n",
       " ('valyl', 16.187718690714373),\n",
       " ('leucyl', 15.108537444666748),\n",
       " ('telestial', 15.108537444666748),\n",
       " ('nonya', 12.950174952571498),\n",
       " ('narwhal', 12.243996187613392),\n",
       " ('syncope', 10.79181246047625),\n",
       " ('podesta', 10.115966254987367),\n",
       " ('circumciser', 10.019546349112911),\n",
       " ('aesthetical', 9.632959861247398),\n",
       " ('narwh', 9.50528104279015),\n",
       " ('undrained', 9.337815004603723),\n",
       " ('passageway', 9.030899869919436),\n",
       " ('prolyl', 8.633449968380999),\n",
       " ('glycolaldehyde', 8.633449968380999),\n",
       " ('melamin', 8.588182584953923),\n",
       " ('reformism', 8.428839878591473),\n",
       " ('monogamic', 7.781512503836437),\n",
       " ('mia', 7.781512503836437),\n",
       " ('hypospadias', 7.554268722333374),\n",
       " ('providentialism', 7.554268722333374),\n",
       " ('burao', 7.554268722333374),\n",
       " ('noddy', 7.224719895935548),\n",
       " ('gerontocracy', 7.003361253452793),\n",
       " ('bassoon', 6.843802350808908),\n",
       " ('madrasah', 6.78841297496767),\n",
       " ('babby', 6.612998155644957),\n",
       " ('tomogram', 6.475087476285749),\n",
       " ('chloroquine', 6.475087476285749),\n",
       " ('butyrate', 6.475087476285749),\n",
       " ('glycyl', 6.475087476285749),\n",
       " ('kiva', 6.2553184377623605),\n",
       " ('guttersnipe', 6.225210003069149),\n",
       " ('voidable', 6.225210003069149),\n",
       " ('standish', 6.225210003069149),\n",
       " ('flutist', 6.225210003069149),\n",
       " ('scena', 6.202576311355612),\n",
       " ('manticore', 6.202576311355612),\n",
       " ('callus', 6.086163356867567),\n",
       " ('eliminative', 6.0833798673856965),\n",
       " ('constitutor', 6.020599913279624),\n",
       " ('astigmatism', 5.61799694480083),\n",
       " ('vagus', 5.458829030726118),\n",
       " ('aspartyl', 5.447058752685505),\n",
       " ('carse', 5.447058752685505),\n",
       " ('tiddi', 5.447058752685505),\n",
       " ('tablespoonful', 5.418539921951662)]"
      ]
     },
     "execution_count": 29,
     "metadata": {},
     "output_type": "execute_result"
    }
   ],
   "source": [
    "word_tfidf_sorted_list[10][:50]"
   ]
  },
  {
   "cell_type": "code",
   "execution_count": 30,
   "metadata": {},
   "outputs": [
    {
     "data": {
      "text/plain": [
       "[('prorogue', 93.88876840614337),\n",
       " ('tharm', 19.42526242885725),\n",
       " ('narwhal', 17.11660691533709),\n",
       " ('saturnalia', 14.449439791871097),\n",
       " ('dartos', 13.847379800543136),\n",
       " ('eutectic', 13.847379800543136),\n",
       " ('rickey', 13.83651638687021),\n",
       " ('backwardation', 13.83651638687021),\n",
       " ('cummingtonite', 12.950174952571498),\n",
       " ('prorogation', 12.64325981788721),\n",
       " ('nonmoral', 11.870993706523874),\n",
       " ('parhelic', 11.870993706523874),\n",
       " ('fawny', 10.115966254987367),\n",
       " ('mulk', 9.712631214428624),\n",
       " ('graupel', 9.712631214428624),\n",
       " ('diaconate', 9.712631214428624),\n",
       " ('snozzle', 9.712631214428624),\n",
       " ('shaitan', 9.337815004603723),\n",
       " ('keratinization', 9.065303839673586),\n",
       " ('learnedness', 8.633449968380999),\n",
       " ('melamine', 8.620772825972695),\n",
       " ('scrapy', 8.55966375422008),\n",
       " ('buckie', 8.428839878591473),\n",
       " ('narwh', 7.9844360759437265),\n",
       " ('supernature', 7.633940075514599),\n",
       " ('greensand', 7.554268722333374),\n",
       " ('yair', 7.554268722333374),\n",
       " ('saturnalian', 7.554268722333374),\n",
       " ('superordinate', 7.554268722333374),\n",
       " ('conky', 7.52574989159953),\n",
       " ('eggnog', 7.395832880338612),\n",
       " ('noncontradiction', 7.003361253452793),\n",
       " ('glioma', 7.003361253452793),\n",
       " ('solstic', 6.867559103171568),\n",
       " ('underconsumption', 6.843802350808908),\n",
       " ('meddler', 6.679697566075274),\n",
       " ('metrification', 6.679697566075274),\n",
       " ('melamin', 6.679697566075274),\n",
       " ('gumma', 6.475087476285749),\n",
       " ('hypogeum', 6.475087476285749),\n",
       " ('alizarin', 6.475087476285749),\n",
       " ('mutism', 6.225210003069149),\n",
       " ('moissanite', 6.0833798673856965),\n",
       " ('cancan', 6.020599913279624),\n",
       " ('parlamento', 6.020599913279624),\n",
       " ('physicalism', 5.987102807893162),\n",
       " ('aborigine', 5.780230961476612),\n",
       " ('deceivingly', 5.7254550566359494),\n",
       " ('corpuscular', 5.447058752685505),\n",
       " ('thermography', 5.418539921951662)]"
      ]
     },
     "execution_count": 30,
     "metadata": {},
     "output_type": "execute_result"
    }
   ],
   "source": [
    "word_tfidf_sorted_list[11][:50]"
   ]
  },
  {
   "cell_type": "markdown",
   "metadata": {},
   "source": [
    "## Extracting TFIDF for Negative Comments "
   ]
  },
  {
   "cell_type": "markdown",
   "metadata": {},
   "source": [
    "We will repeat the process for negative comments.\n",
    "\n",
    "However, due to the size of the data set and the analysis required, the TFIDF method takes a really long time to rerun. Because we ran the method on a separate file to save time. We will manually save the results here instead of rerunning the program for negative comments."
   ]
  },
  {
   "cell_type": "markdown",
   "metadata": {},
   "source": [
    "The function below is the same as the one above except we have changed the scoring comparison to < 0 in order to only look at negative comments."
   ]
  },
  {
   "cell_type": "code",
   "execution_count": 2,
   "metadata": {},
   "outputs": [],
   "source": [
    "def parseBzData(f):\n",
    "    source_file = bz2.BZ2File(f, \"r\")\n",
    "    comment_body = []\n",
    "    for line in source_file:\n",
    "        json_line = json.loads(line.decode())\n",
    "        # Drop user name of comment author\n",
    "        if \"author\" in json_line:\n",
    "            del json_line[\"author\"]\n",
    "        if \"body\" in json_line and json_line[\"score\"] < 0:\n",
    "            comment_body.append(json_line[\"body\"])\n",
    "    return comment_body"
   ]
  },
  {
   "cell_type": "markdown",
   "metadata": {},
   "source": [
    "With the above change, we ran the same functions and retrieved the top 50 frequent words for negative comments."
   ]
  },
  {
   "cell_type": "markdown",
   "metadata": {},
   "source": [
    "## Visualizing and Analyzing the Results"
   ]
  },
  {
   "cell_type": "markdown",
   "metadata": {},
   "source": [
    "### Prepping the output data from each month\n",
    "\n",
    "First, let us quantify our outputs into variables for convenience. This is mostly done due to the size of our data set and the processing power required to run the given data. It will be too time (and resource!) intensive to rerun our data so we will simply save the output directly into variables for further analysis."
   ]
  },
  {
   "cell_type": "code",
   "execution_count": 2,
   "metadata": {},
   "outputs": [],
   "source": [
    "jan_pos_2008 = [('lutetium', 11.672268755754654), ('netsuke', 10.837079843903323), ('cusec', 10.79181246047625), ('bogard', 9.712631214428624), ('inflector', 9.337815004603723), ('amoralist', 9.030899869919436), ('mensal', 8.633449968380999), ('attestation', 8.588182584953923), ('vardy', 8.55966375422008), ('triolet', 7.003361253452793), ('gur', 6.996569250064796),\n",
    " ('lecker', 6.475087476285749), ('tulle', 6.475087476285749), ('strick', 6.463591109097303), ('transvaal', 6.225210003069149), ('tusked', 6.225210003069149), ('bobbin', 5.987102807893162), ('carty', 5.395906230238125), ('herbalism', 5.383913738767463), ('rennet', 4.942746142250878), ('parasitosis', 4.915747326700727), ('antitax', 4.3167249841904995), ('paramagnet', 4.3167249841904995), ('overcount', 4.3167249841904995), ('japonica', 4.3167249841904995), ('quag', 4.214419939295737), ('milkweed', 4.214419939295737), ('varna', 4.182323658827666), ('repealer', 3.8907562519182184), ('borehole', 3.8907562519182184), ('rumney', 3.8907562519182184), ('abac', 3.8907562519182184), ('katydid', 3.8169700377572995), ('kik', 3.80211241711606),\n",
    " ('uncommit', 3.745331296533887), ('ontogeny', 3.612359947967774), ('junt', 3.612359947967774), ('rishi', 3.612359947967774), ('unsilenced', 3.612359947967774), ('miscount', 3.5112480905005192), ('kaffiyeh', 3.339848783037637), ('shipboard', 3.339848783037637), ('accommodative', 3.2375437381428744), ('earthquaking', 3.2375437381428744), ('unie', 3.2375437381428744), ('anticlerical', 3.2375437381428744), ('polyploid', 3.2375437381428744), ('hydatid', 3.2375437381428744), ('zoosperm', 3.2375437381428744), ('bota', 3.2375437381428744)] \n",
    "\n",
    "feb_pos_2008 = [('unfirm', 91.0436962948863), ('unpledged', 10.533744271501558), ('hydrazine', 10.23501985257536), ('anosmic', 8.633449968380999), ('alcalde', 8.633449968380999), ('ruga', 7.554268722333374),\n",
    " ('urticaria', 7.224719895935548), ('poesy', 7.224013592520515), ('ilex', 7.003361253452793),\n",
    " ('moksha', 6.679697566075274), ('bours', 6.622659904607587), ('nonfederal', 6.475087476285749), ('fidicinal', 6.475087476285749), ('micropsia', 6.475087476285749), ('streck', 6.475087476285749), ('superdelegate', 6.04616974230396), ('quadriplegia', 6.020599913279624), ('stereopsis', 5.7254550566359494), ('nudibranch', 5.322957383962485), ('grantee', 4.942746142250878), ('crossbill', 4.3167249841904995), ('bookless', 4.3167249841904995), ('scandent', 4.3167249841904995), ('decapitalize', 4.3167249841904995), ('eyetooth', 4.3167249841904995), ('whitesmith', 4.3167249841904995), ('mense', 4.3167249841904995), ('histidine', 4.214419939295737), ('rennet', 4.182323658827666), ('anosmia', 3.8169700377572995), ('superdeleg', 3.745331296533887), ('ethnocracy', 3.612359947967774), ('hydroscopic', 3.612359947967774), ('waterspout', 3.612359947967774), ('willey', 3.5218251811136247), ('xylitol', 3.373345888424098), ('untasty', 3.339848783037637), ('ubiety', 3.2375437381428744), ('alkene', 3.2375437381428744), ('ivybells', 3.2375437381428744), ('tearage', 3.2375437381428744), ('hyperborean', 3.2375437381428744), ('trioxide', 3.2375437381428744), ('innominate', 3.2375437381428744), ('untellable', 3.2375437381428744), ('sitosterol', 3.2375437381428744), ('elkhorn', 3.2375437381428744), ('clockface', 3.2375437381428744), ('seigneurial', 3.2375437381428744), ('carper', 3.1696426630022625)] \n",
    "\n",
    "mar_pos_2008 = [('heiau', 22.87827967046257), ('silane', 18.346081182809623), ('kayles', 12.450420006138298), ('tantrik', 11.870993706523874), ('outstretch', 10.115966254987367), ('bubo', 10.115966254987367), ('circumcenter', 9.712631214428624), ('phonautogram', 7.554268722333374), ('destructivity', 7.554268722333374), ('boatman', 7.003361253452793), ('pelorian', 6.475087476285749), ('anaphora', 6.020599913279624), ('collinear', 6.020599913279624), ('surah', 5.458829030726118), ('aluminothermic', 5.418539921951662), ('reductional', 5.395906230238125), ('croucher', 5.395906230238125), ('amusia', 5.395906230238125), ('divisionist', 4.668907502301861), ('diamondiferous', 4.3167249841904995), ('visitatorial', 4.3167249841904995), ('ocellated', 4.3167249841904995), ('precertification', 4.3167249841904995), ('dedifferentiate', 4.3167249841904995), ('sunniness', 4.3167249841904995), ('sawt', 4.3167249841904995), ('phonautograph', 4.3167249841904995), ('diuresis', 4.3167249841904995), ('causey', 4.294091292476962), ('colitis', 4.27578728657174), ('quatre', 4.214419939295737), ('charism', 3.8907562519182184), ('muscadine', 3.8907562519182184), ('unpledged', 3.745331296533887), ('spitz', 3.745331296533887), ('karyotype', 3.612359947967774), ('gratu', 3.612359947967774), ('sortition', 3.498284625032398), ('revote', 3.498284625032398), ('cretinism', 3.3113299523037933), ('macaw', 3.3113299523037933), ('lovelock', 3.248407151815798), ('organismal', 3.2375437381428744), ('perjurous', 3.2375437381428744), ('superavit', 3.2375437381428744), ('deerhound', 3.2375437381428744), ('tambor', 3.2375437381428744), ('tanh', 3.2375437381428744), ('tilter', 3.2375437381428744), ('spode', 3.2375437381428744)] \n",
    "\n",
    "apr_pos_2008 = [('mogo', 12.882273877430885), ('strucken', 7.554268722333374), ('spaid', 7.003361253452793), ('scops', 6.475087476285749), ('reflog', 6.020599913279624), ('unintimidated', 5.447058752685505), ('tiza', 5.395906230238125),\n",
    " ('subrogation', 5.248333801916287), ('redback', 4.942746142250878), ('charism', 4.668907502301861), ('kayles', 4.668907502301861), ('bolero', 4.515449934959718), ('crepuscule', 4.3167249841904995), ('fastidiousness', 4.3167249841904995), ('caranna', 4.3167249841904995), ('oxyacetylene', 4.3167249841904995), ('canty', 4.3167249841904995), ('corsage', 4.214419939295737), ('lave', 4.214419939295737),\n",
    " ('diffusely', 3.8907562519182184), ('realest', 3.8169700377572995), ('unpledged', 3.745331296533887), ('tania', 3.697916440169306), ('flagellum', 3.6232233616406977), ('acquirement', 3.612359947967774), ('schlieren', 3.612359947967774), ('alar', 3.339848783037637),\n",
    " ('shab', 3.2375437381428744), ('pedunculate', 3.2375437381428744), ('durbar', 3.2375437381428744), ('matureness', 3.2375437381428744), ('palaeological', 3.2375437381428744), ('photoimpression', 3.2375437381428744), ('virescence', 3.2375437381428744), ('asway', 3.2375437381428744), ('gleet', 3.2375437381428744), ('verjuice', 3.2375437381428744), ('contriteness', 3.2375437381428744), ('lipodystrophy', 3.2375437381428744), ('counterpane', 3.2375437381428744), ('raphides', 3.2375437381428744), ('salpa', 3.2375437381428744), ('enigmatically', 3.2375437381428744), ('horsy', 3.2375437381428744), ('blessedness', 3.2375437381428744), ('craniosacral', 3.2375437381428744), ('chummery', 3.2375437381428744), ('amylose', 3.2375437381428744), ('heptagon', 3.2375437381428744), ('toolmaking', 3.2375437381428744)] \n",
    "\n",
    "may_pos_2008 = [('palfrey', 20.36523892490301), ('ingle', 15.05149978319906), ('plugboard', 9.712631214428624), ('yark', 9.712631214428624),\n",
    " ('percolation', 7.781512503836437), ('huddler', 7.224719895935548), ('gladiatrix', 6.475087476285749), ('glioma', 5.447058752685505), ('stereogram', 5.418539921951662), ('doubleton', 5.395906230238125), ('mnemonist', 5.395906230238125), ('tarpon', 4.942746142250878), ('filly', 4.816479930623699), ('melos', 4.3167249841904995), ('dactylic', 4.3167249841904995), ('unpartitioned', 4.3167249841904995), ('intussusception', 4.3167249841904995), ('dural', 4.3167249841904995), ('explanative', 4.3167249841904995), ('cicerone', 4.3167249841904995), ('laminitis', 4.3167249841904995), ('endocranial', 4.3167249841904995), ('rima', 4.294091292476962),\n",
    " ('mycologist', 4.214419939295737), ('tuath', 4.214419939295737), ('leaven', 4.213497708600623), ('semiannual', 3.8907562519182184), ('antinomy', 3.8907562519182184), ('sialic', 3.8907562519182184), ('dioxane', 3.8907562519182184), ('belton', 3.8907562519182184), ('krome', 3.8907562519182184), ('errorist', 3.8907562519182184), ('anharmonic', 3.8907562519182184), ('directivity', 3.8907562519182184), ('polythene', 3.80211241711606), ('atchison', 3.80211241711606), ('ladybird', 3.80211241711606), ('problematize', 3.612359947967774), ('congruential', 3.612359947967774), ('kob', 3.612359947967774),\n",
    " ('hemmer', 3.612359947967774), ('olecranon', 3.612359947967774), ('tatu', 3.612359947967774),\n",
    " ('merryman', 3.339848783037637), ('kago', 3.339848783037637),\n",
    " ('scrobble', 3.339848783037637), ('eluvium', 3.339848783037637), ('scaleless', 3.2375437381428744), ('dominium', 3.2375437381428744)] \n",
    "\n",
    "jun_pos_2008 = [('caban', 12.950174952571498), ('caryophyllene', 10.89411750537101), ('citrate', 10.03720176617383), ('brachialis', 9.712631214428624), ('oxyhydrogen', 9.632959861247398), ('callipygian', 9.50528104279015), ('squirrelfish', 9.156745470895425), ('borsch', 7.224719895935548), ('knighthood', 7.0224961810010385), ('misleader', 6.475087476285749), ('designable', 6.475087476285749), ('trunnion', 6.475087476285749), ('coker', 6.225210003069149), ('sloop', 6.0833798673856965), ('geoduck', 5.852080150834198), ('kinase', 5.447058752685505), ('nostic', 5.447058752685505), ('paraboloid', 5.447058752685505), ('peiser', 5.418539921951662), ('wealthiness', 5.395906230238125), ('lunes', 5.395906230238125), ('thujone', 5.322957383962485), ('arrestor', 5.248333801916287), ('banky', 5.248333801916287), ('lory', 5.248333801916287),\n",
    " ('boric', 4.771212547196624), ('hadrosaur', 4.668907502301861), ('haunter', 4.668907502301861), ('tillage', 4.562534900539273), ('phosphocreatine', 4.3167249841904995), ('switchel', 4.3167249841904995), ('tripos', 4.3167249841904995), ('callipygous', 4.3167249841904995), ('everydayness', 4.3167249841904995), ('unliftable', 4.3167249841904995), ('preambulatory', 4.214419939295737), ('hadden', 4.214419939295737), ('uracil', 4.214419939295737), ('chrysalis', 4.214419939295737), ('rennet', 4.182323658827666), ('wordle', 4.182323658827666), ('fortis', 4.182323658827666), ('tala', 3.9133899436317554), ('protuberance', 3.8907562519182184), ('alexandrite', 3.8907562519182184), ('minot', 3.697916440169306), ('trekk', 3.612359947967774), ('prefatory', 3.612359947967774), ('moissanite', 3.421901175404454), ('capybara', 3.339848783037637)] \n",
    "\n",
    "jul_pos_2008 = [('awning', 14.279075568035443), ('glub', 9.363328241334717),\n",
    " ('opalesque', 8.633449968380999), ('jazzer', 8.633449968380999), ('aspartate', 8.428839878591473), ('concentrator', 8.426995417201246), ('coprolalia', 7.633940075514599), ('monkish', 6.679697566075274), ('phosphorescence', 6.622659904607587), ('boxwood', 6.475087476285749), ('insole', 6.475087476285749), ('paramorphism', 6.475087476285749), ('bouldering', 6.321629908943605), ('blatter', 6.225210003069149), ('waterflood', 6.225210003069149), ('pectus', 6.202576311355612), ('endometrial', 6.020599913279624), ('plasmodium', 5.418539921951662), ('solvation', 5.395906230238125), ('jigginess', 5.395906230238125), ('implead', 5.395906230238125), ('selenide', 5.395906230238125), ('unbraced', 5.395906230238125), ('riddler', 5.328187085405365), ('eucharistic', 5.248333801916287), ('committeeman', 4.816479930623699), ('conceptus', 4.771212547196624), ('dendritic', 4.771212547196624), ('methylene', 4.771212547196624), ('epigenetic', 4.754463994503394), ('chined', 4.668907502301861), ('pilonidal', 4.562534900539273), ('hyperpigmentation', 4.3167249841904995), ('icebound', 4.3167249841904995), ('pitchstone', 4.3167249841904995), ('percher', 4.3167249841904995), ('syzygium', 4.3167249841904995), ('girdling', 4.3167249841904995), ('petrosa', 4.3167249841904995), ('killdeer', 4.3167249841904995), ('batfish', 4.3167249841904995), ('unmended', 4.3167249841904995), ('overspeculation', 4.294091292476962), ('skidder', 4.214419939295737), ('loach', 4.214419939295737), ('asherah', 4.214419939295737), ('croydon', 4.213497708600623), ('arginine', 4.182323658827666), ('grantee', 4.182323658827666), ('hedonics', 4.182323658827666)] \n",
    "\n",
    "aug_pos_2008 = [('perchlorate', 24.68445964444646), ('saddleback', 15.968872151887453), ('rakan', 15.108537444666748), ('associational', 15.108537444666748), ('baku', 10.64591476792497), ('antireligion', 10.536049848239342), ('spitz', 10.065577859434821), ('cockily', 9.712631214428624), ('leal', 7.826779887263511), ('perchlor', 7.781512503836437), ('bentonite', 7.633940075514599), ('anode', 7.60422483423212), ('beal', 7.60422483423212),\n",
    " ('wawah', 7.554268722333374), ('babby', 7.3687693734329525), ('nothingism', 7.224719895935548), ('easement', 6.5153765850602054), ('coatee', 6.475087476285749), ('pandan', 6.225210003069149), ('winglet', 6.225210003069149), ('mogo', 6.202576311355612), ('steerable', 6.020599913279624), ('awakener', 5.447058752685505), ('perfective', 5.447058752685505), ('doser', 5.395906230238125), ('nulliparous', 5.395906230238125), ('binaural', 5.122488200940297), ('vitiligo', 4.816479930623699), ('fagging', 4.816479930623699), ('northbound', 4.754463994503394), ('aerodrome', 4.668907502301861), ('slackness', 4.668907502301861), ('curlew', 4.668907502301861), ('plosive', 4.668907502301861), ('shuttlecock', 4.515449934959718), ('unbudging', 4.3167249841904995), ('adsorbent', 4.3167249841904995), ('vespertine', 4.3167249841904995), ('roentgen', 4.3167249841904995), ('haku', 4.3167249841904995), ('rebounder', 4.3167249841904995), ('unhittable', 4.3167249841904995), ('limbus', 4.3167249841904995), ('controllably', 4.3167249841904995), ('unstamped', 4.3167249841904995), ('unpretenti', 4.3167249841904995), ('voile', 4.3167249841904995), ('broomrape', 4.294091292476962), ('kukri', 4.294091292476962), ('gude', 4.214419939295737)] \n",
    "\n",
    "sep_pos_2008 = [('diverticulosis', 32.682352516113035), ('palisading', 16.341176258056517), ('actinic', 16.341176258056517), ('focally', 16.341176258056517), ('dermatopathology', 16.341176258056517), ('okapi', 15.968872151887453), ('borosilicate', 15.05149978319906), ('undelayed', 13.847379800543136), ('reviewable', 12.041199826559248), ('colley', 11.870993706523874), ('fortis', 11.026126009636576), ('adenomatous', 10.973788858552236), ('entopic', 10.79181246047625), ('chicane', 10.019546349112911), ('dorsum', 10.019546349112911), ('dermis', 9.831494653401453), ('chrom', 9.14483173523474),\n",
    " ('squirrelfish', 8.980654211839743), ('homopolar', 8.633449968380999), ('pinax', 8.588182584953923), ('squamous', 7.5719241393942935), ('detainable', 7.554268722333374), ('noncompli', 7.156818820794936), ('euphonious', 7.003361253452793), ('precancerous', 6.923689900271568), ('babby', 6.915306642760155), ('resection', 6.622659904607587), ('conservatorship', 6.622659904607587), ('melamine', 6.621753040239896), ('hemm', 6.475087476285749),\n",
    " ('thiocyanide', 6.475087476285749), ('coltsfoot', 6.475087476285749), ('steamship', 6.463591109097303), ('matsu', 6.463591109097303), ('neuroma', 6.321629908943605), ('carlie', 6.225210003069149), ('piratery', 6.020599913279624), ('escapement', 6.020599913279624), ('beshear', 5.70316862567409), ('zapatero', 5.7010497154289865), ('polyp', 5.61799694480083),\n",
    " ('centum', 5.418539921951662), ('scoter', 5.395906230238125), ('ontologic', 5.395906230238125), ('hoptoad', 5.395906230238125), ('oread', 5.395906230238125), ('unreadiness', 5.395906230238125), ('muslin', 5.384324731238488), ('dovecot', 5.322957383962485), ('dermal', 5.149830532734095)] \n",
    "\n",
    "oct_pos_2008 = [('diverticulosis', 65.36470503222607), ('palisading', 32.682352516113035), ('actinic', 32.682352516113035), ('focally', 32.682352516113035), ('dermatopathology', 32.682352516113035), ('jiff', 25.046903045570367), ('stingo', 20.47003970515072), ('adenomatous', 20.039092698225822), ('dorsum', 20.039092698225822), ('dermis', 19.662989306802906), ('squamous', 15.496030796899948), ('delusory', 14.029356198619123), ('resection', 13.847379800543136), ('melamine', 13.368444817088092), ('theriaca', 12.950174952571498), ('precancerous', 12.64325981788721), ('neuroma', 12.64325981788721), ('awee', 12.405152622711224), ('polyp', 9.831494653401453), ('dermal', 9.831494653401453), ('freath', 9.712631214428624), ('folksiness', 9.632959861247398), ('muslin', 9.185024541524479), ('epithelial', 7.924106657505655), ('misogynic', 7.826779887263511), ('coble', 7.826779887263511), ('malm', 7.554268722333374), ('coistril', 7.554268722333374), ('tuath', 7.224719895935548), ('nidal', 7.224719895935548), ('exteriorization', 7.156818820794936), ('krona', 7.1215079866730955), ('carcinoma', 7.047130898238609), ('folksi', 6.843802350808908), ('belvedere', 6.78841297496767), ('cyanuric', 6.622659904607587), ('parah', 6.622659904607587), ('interbank', 6.5153765850602054), ('harn', 6.475087476285749), ('saponin', 6.475087476285749), ('compossible', 6.475087476285749), ('babby', 6.386266790308558), ('airedale', 6.225210003069149), ('glazier', 6.0833798673856965), ('feticide', 6.020599913279624), ('kronur', 6.020599913279624), ('doggon', 5.7254550566359494), ('reformism', 5.719569917615643), ('internode', 5.70316862567409), ('overlying', 5.622243147373497)] \n",
    "\n",
    "nov_pos_2008 = [('awee', 128.34561751958918), ('keratinization', 28.627275283179745), ('melamine', 28.111215736867482), ('alanyl', 20.504443674904874), ('valyl', 16.187718690714373), ('leucyl', 15.108537444666748), ('telestial', 15.108537444666748), ('nonya', 12.950174952571498), ('narwhal', 12.243996187613392), ('syncope', 10.79181246047625), ('podesta', 10.115966254987367), ('circumciser', 10.019546349112911), ('aesthetical', 9.632959861247398), ('narwh', 9.50528104279015), ('undrained', 9.337815004603723), ('passageway', 9.030899869919436), ('prolyl', 8.633449968380999), ('glycolaldehyde', 8.633449968380999), ('melamin', 8.588182584953923), ('reformism', 8.428839878591473), ('monogamic', 7.781512503836437), ('mia', 7.781512503836437),\n",
    " ('hypospadias', 7.554268722333374), ('providentialism', 7.554268722333374), ('burao', 7.554268722333374), ('noddy', 7.224719895935548), ('gerontocracy', 7.003361253452793), ('bassoon', 6.843802350808908), ('madrasah', 6.78841297496767), ('babby', 6.612998155644957), ('tomogram', 6.475087476285749), ('chloroquine', 6.475087476285749), ('butyrate', 6.475087476285749), ('glycyl', 6.475087476285749), ('kiva', 6.2553184377623605), ('guttersnipe', 6.225210003069149), ('voidable', 6.225210003069149), ('standish', 6.225210003069149), ('flutist', 6.225210003069149), ('scena', 6.202576311355612), ('manticore', 6.202576311355612), ('callus', 6.086163356867567), ('eliminative', 6.0833798673856965), ('constitutor', 6.020599913279624), ('astigmatism', 5.61799694480083), ('vagus', 5.458829030726118), ('aspartyl', 5.447058752685505), ('carse', 5.447058752685505), ('tiddi', 5.447058752685505), ('tablespoonful', 5.418539921951662)] \n",
    "\n",
    "dec_pos_2008 = [('prorogue', 93.88876840614337), ('tharm', 19.42526242885725), ('narwhal', 17.11660691533709), ('saturnalia', 14.449439791871097), ('dartos', 13.847379800543136), ('eutectic', 13.847379800543136), ('rickey', 13.83651638687021), ('backwardation', 13.83651638687021), ('cummingtonite', 12.950174952571498), ('prorogation', 12.64325981788721), ('nonmoral', 11.870993706523874), ('parhelic', 11.870993706523874), ('fawny', 10.115966254987367), ('mulk', 9.712631214428624),\n",
    " ('graupel', 9.712631214428624), ('diaconate', 9.712631214428624), ('snozzle', 9.712631214428624), ('shaitan', 9.337815004603723), ('keratinization', 9.065303839673586), ('learnedness', 8.633449968380999), ('melamine', 8.620772825972695), ('scrapy', 8.55966375422008), ('buckie', 8.428839878591473), ('narwh', 7.9844360759437265), ('supernature', 7.633940075514599), ('greensand', 7.554268722333374), ('yair', 7.554268722333374),\n",
    " ('saturnalian', 7.554268722333374), ('superordinate', 7.554268722333374), ('conky', 7.52574989159953),\n",
    " ('eggnog', 7.395832880338612), ('noncontradiction', 7.003361253452793), ('glioma', 7.003361253452793), ('solstic', 6.867559103171568), ('underconsumption', 6.843802350808908), ('meddler', 6.679697566075274), ('metrification', 6.679697566075274), ('melamin', 6.679697566075274), ('gumma', 6.475087476285749), ('hypogeum', 6.475087476285749), ('alizarin', 6.475087476285749), ('mutism', 6.225210003069149), ('moissanite', 6.0833798673856965), ('cancan', 6.020599913279624), ('parlamento', 6.020599913279624), ('physicalism', 5.987102807893162), ('aborigine', 5.780230961476612), ('deceivingly', 5.7254550566359494), ('corpuscular', 5.447058752685505), ('thermography', 5.418539921951662)] \n"
   ]
  },
  {
   "cell_type": "markdown",
   "metadata": {},
   "source": [
    "Lets do the same thing for the negative comments in 2008. We will make variables for the top frequency words in the negative comments and save them for future use."
   ]
  },
  {
   "cell_type": "code",
   "execution_count": 3,
   "metadata": {},
   "outputs": [],
   "source": [
    "jan_neg_2008 = [('dudley', 42.7983187711004), ('wizened', 20.911618294138332), ('biddy', 12.450420006138298), ('didle', 8.633449968380999), ('squatter', 7.633940075514599), ('oxidation', 6.225210003069149), ('willey', 5.447058752685505), ('huck', 5.149830532734095), ('concussion', 4.816479930623699), ('kik', 4.771212547196624),\n",
    " ('recount', 4.6716935168098646), ('humidity', 4.562534900539273), ('dada', 4.3167249841904995), ('flax', 4.3167249841904995), ('ullage', 4.3167249841904995), ('corrie', 4.182323658827666), ('deceiv', 3.8169700377572995), ('bulldozer', 3.5218251811136247), ('tinker', 3.5218251811136247), ('rasping', 3.2375437381428744), ('spital', 3.2375437381428744), ('sledge', 3.2375437381428744), ('dietetic', 3.2375437381428744), ('untroubled', 3.2375437381428744), ('linn', 3.2375437381428744), ('dehumidifier', 3.2375437381428744), ('payor', 3.2375437381428744), ('unassigned', 3.2375437381428744), ('rax', 3.2375437381428744), ('suttee', 3.2375437381428744), ('fluorination', 3.2375437381428744), ('terrace', 3.2375437381428744), ('plenum', 3.2375437381428744), ('tusked', 3.2375437381428744), ('clearinghouse', 3.2375437381428744), ('minot', 3.1126050015345745), ('sherry', 3.1126050015345745), ('param', 3.1126050015345745), ('televise', 3.1126050015345745), ('strictness', 3.1126050015345745)]\n",
    "\n",
    "feb_neg_2008 = [('willey', 27.235293763427528), ('grantee', 7.554268722333374), ('idempot', 5.395906230238125), ('nonfederal', 5.395906230238125), ('marzipan', 4.3167249841904995), ('fizz', 4.214419939295737),\n",
    " ('dianetics', 3.9133899436317554), ('cordon', 3.8907562519182184), ('superdelegate', 3.8169700377572995), ('rancor', 3.8169700377572995), ('murmur', 3.80211241711606), ('rotor', 3.612359947967774), ('subcontractor', 3.2375437381428744), ('breathable', 3.010299956639812), ('ump', 3.010299956639812),\n",
    " ('naturalism', 2.8627275283179747), ('thence', 2.8627275283179747), ('demagogu', 2.6614786919812423), ('roi', 2.4987747321659985),\n",
    " ('atonement', 2.4082399653118496), ('attic', 2.4082399653118496), ('skater', 2.385606273598312), ('wynn', 2.3344537511509307), ('alms', 2.3344537511509307), ('notability', 2.3344537511509307), ('hydration', 2.3344537511509307), ('disrespectfully', 2.3344537511509307), ('hypothermia', 2.3344537511509307), ('kaiser', 2.289186367723856), ('deposition', 2.2812674502696364), ('valentine', 2.2812674502696364), ('decre', 2.1583624920952498), ('aspartic', 2.1583624920952498), ('reinsert', 2.1583624920952498), ('celeri', 2.1583624920952498), ('lactobacillus', 2.1583624920952498), ('paginate', 2.1583624920952498), ('trounce', 2.1583624920952498), ('parapleg', 2.1583624920952498), ('oner', 2.1583624920952498)] \n",
    "\n",
    "mar_neg_2008 = [('lina', 17.266899936761998), ('kayles', 14.449439791871097), ('asok', 9.712631214428624),\n",
    " ('homoeopathy', 5.447058752685505), ('silica', 5.418539921951662), ('lancet', 5.11750992628768), ('inhabitant', 4.771212547196624), ('colitis', 4.3167249841904995), ('integrative', 4.3167249841904995), ('presentational', 4.3167249841904995), ('donna', 4.213497708600623), ('causey', 3.612359947967774), ('hypercube', 3.2375437381428744), ('formaldehyd', 3.2375437381428744), ('nonresident', 3.2375437381428744), ('clop', 3.2375437381428744), ('cubicl', 3.2375437381428744), ('ulcerative', 3.2375437381428744), ('reductional', 3.2375437381428744), ('diuretic', 3.1126050015345745), ('mew', 3.1126050015345745),\n",
    " ('catheter', 3.1126050015345745), ('tantric', 3.1126050015345745), ('osteopathy', 3.1126050015345745), ('bungee', 3.1126050015345745), ('demagogu', 3.0416899336928482), ('vertigo', 3.010299956639812), ('superdelegate', 2.8627275283179747), ('unlivable', 2.8627275283179747), ('retry', 2.8627275283179747), ('hubble', 2.6614786919812423), ('normalization', 2.6614786919812423), ('recorder', 2.6413688858352184), ('streaker', 2.4082399653118496), ('ascending', 2.4082399653118496), ('wellness', 2.4082399653118496), ('lowy', 2.385606273598312),\n",
    " ('unpledged', 2.3344537511509307), ('denotative', 2.3344537511509307), ('repaint', 2.3344537511509307)] \n",
    "\n",
    "may_neg_2008 = [('topper', 83.09695594566712), ('mattress', 19.003499051429955), ('ingle', 15.108537444666748), ('serta', 12.950174952571498), ('foam', 12.356859410833719), ('palfrey', 11.870993706523874), ('rearm', 11.870993706523874), ('cutler', 8.55966375422008), ('coriander', 7.554268722333374), ('registrant', 7.156818820794936), ('patina', 6.622659904607587), ('bilk', 6.622659904607587), ('reassert', 6.622659904607587), ('federalize', 6.622659904607587), ('liang', 6.475087476285749), ('revival', 5.852080150834198), ('suid', 5.395906230238125), ('hark', 5.248333801916287), ('reinvestment', 5.149830532734095), ('austerity', 5.149830532734095), ('quadrillion', 4.562534900539273), ('updo', 4.3167249841904995), ('checkerboard', 4.3167249841904995), ('cutthroat', 3.9133899436317554), ('unappreciative', 3.8907562519182184), ('occupancy', 3.8169700377572995), ('kyle', 3.745331296533887), ('newcomer', 3.612359947967774), ('audition', 3.612359947967774), ('automaton', 3.339848783037637), ('barton', 3.339848783037637), ('swooning', 3.3113299523037933), ('topp', 3.2375437381428744), ('sycamore', 3.2375437381428744), ('amnesic', 3.2375437381428744), ('untraditional', 3.2375437381428744), ('decathlon', 3.2375437381428744), ('swirly', 3.2375437381428744), ('atchison', 3.2375437381428744), ('sunt', 3.2375437381428744)] \n",
    "\n",
    "jun_neg_2008 = [('cookbook', 10.533744271501558), ('austerity', 10.29966106546819), ('ectopic', 9.632959861247398), ('citrate', 8.55966375422008), ('speculator', 7.633940075514599), ('unmounted', 6.475087476285749), ('truc', 6.225210003069149), ('swarming', 5.497304410765197), ('pitfall', 5.447058752685505), ('oneism', 5.447058752685505), ('ingot', 4.668907502301861), ('iterable', 4.668907502301861), ('impairment', 4.562534900539273), ('electrolyzer', 4.3167249841904995), ('augment', 4.3167249841904995), ('ajar', 4.3167249841904995), ('starboard', 4.3167249841904995), ('intrastate', 4.3167249841904995), ('beget', 4.3167249841904995), ('keyhole', 4.3167249841904995), ('rupture', 4.294091292476962), ('escalator', 4.214419939295737), ('chatty', 3.8907562519182184), ('allopathic', 3.8169700377572995), ('antonym', 3.8169700377572995), ('selenium', 3.80211241711606), ('hearken', 3.800699810285991), ('prius', 3.703278967161176), ('showdown', 3.6423373181907417), ('teacup', 3.612359947967774), ('triton', 3.421901175404454), ('megalomaniac', 3.4047935800478673), ('bac', 3.3457339220579434), ('waka', 3.2375437381428744), ('aspirate', 3.2375437381428744), ('transmogrify', 3.2375437381428744), ('zucchini', 3.2375437381428744), ('tented', 3.2375437381428744), ('uncrowd', 3.2375437381428744), ('unshared', 3.2375437381428744)] \n",
    "\n",
    "jul_neg_2008 = [('clive', 42.08806859585737), ('ventriloquist', 32.31795554548651), ('eavesdropping', 13.83651638687021), ('austerity', 12.406409919768501), ('quis', 10.837079843903323), ('demagogic', 9.030899869919436), ('eros', 9.030899869919436),\n",
    " ('urna', 8.55966375422008),\n",
    " ('renegotiate', 8.428839878591473), ('aenean', 7.781512503836437), ('vestibulum', 7.781512503836437), ('bale', 7.724745799101142),\n",
    " ('pulvinar', 7.003361253452793), ('dictum', 6.622659904607587), ('barbarous', 6.554329768934302), ('tod', 6.475087476285749),\n",
    " ('undisput', 6.475087476285749), ('corruptly', 5.447058752685505), ('deindustrialize', 5.447058752685505), ('riddler', 5.447058752685505), ('necktie', 5.447058752685505), ('dolor', 5.418539921951662), ('botfly', 5.395906230238125), ('airway', 4.668907502301861), ('jiggy', 4.668907502301861), ('lacinia', 4.668907502301861), ('photosensitive', 4.3167249841904995), ('amortization', 4.3167249841904995), ('oceanology', 4.3167249841904995), ('hippocampus', 4.3167249841904995), ('adiabatic', 4.3167249841904995), ('hitless', 4.3167249841904995), ('injector', 4.3167249841904995), ('thither', 4.294091292476962), ('sware', 4.294091292476962), ('porta', 4.214419939295737), ('parallelization', 3.8907562519182184), ('cursus', 3.8907562519182184), ('carbide', 3.8907562519182184), ('freemasonry', 3.8169700377572995)] \n",
    "\n",
    "aug_neg_2008 = [('gog', 13.83651638687021), ('vestibulum', 9.337815004603723), ('berserker', 8.633449968380999), ('occultism', 7.781512503836437), ('babby', 7.490662593067774), ('snare', 7.224719895935548), ('separatist', 6.867559103171568), ('manta', 6.475087476285749), ('consular', 6.475087476285749), ('nestable', 6.475087476285749), ('vivisection', 6.225210003069149), ('gymnast', 6.202576311355612), ('toner', 5.7254550566359494), ('thrip', 5.447058752685505), ('justo', 5.447058752685505), ('perchlorate', 5.395906230238125), ('measles', 5.248333801916287), ('marrow', 5.248333801916287), ('cobalt', 4.816479930623699), ('lettuce', 4.754463994503394), ('polygynous', 4.668907502301861), ('cursus', 4.668907502301861), ('polygyny', 4.3167249841904995), ('gyroscope', 4.3167249841904995), ('transuranic', 4.3167249841904995), ('quis', 4.214419939295737), ('trig', 4.214419939295737), ('juror', 4.182323658827666), ('rewind', 4.182323658827666), ('kremlin', 3.9794145025672547), ('fermentum', 3.8907562519182184), ('coil', 3.8169700377572995), ('omnibus', 3.80211241711606), ('chester', 3.612359947967774), ('skinning', 3.612359947967774), ('subatomic', 3.612359947967774), ('dolor', 3.612359947967774), ('eros', 3.612359947967774), ('acme', 3.421901175404454), ('swimmer', 3.3113299523037933)] \n",
    "\n",
    "sep_neg_2008 = [('chrome', 29.58333152135445), ('ventriloquist', 15.968872151887453), ('custodial', 15.108537444666748), ('trig', 12.64325981788721), ('pyrex', 8.633449968380999), ('chrom', 8.588182584953923), ('fey', 7.5719241393942935), ('mambo', 7.554268722333374), ('austerity', 7.490662593067774), ('levee', 7.0224961810010385), ('headroom', 7.003361253452793), ('wearable', 7.003361253452793), ('babby', 6.78841297496767), ('mae', 6.339285326004525),\n",
    " ('collier', 6.225210003069149), ('refueling', 5.7254550566359494), ('pist', 5.418539921951662), ('bearskin', 5.395906230238125), ('lockbox', 5.395906230238125), ('demagogic', 4.816479930623699), ('beau', 4.816479930623699), ('tangling', 4.3167249841904995), ('dermis', 4.3167249841904995), ('diverticulosis', 4.3167249841904995), ('eccentricity', 4.3167249841904995), ('nonce', 4.3167249841904995), ('frontiersman', 4.3167249841904995), ('crevasse', 4.3167249841904995), ('unreleased', 4.214419939295737), ('swam', 4.213497708600623), ('acorn', 4.213497708600623), ('diddy', 4.182323658827666), ('wicket', 3.8907562519182184), ('enhancer', 3.8907562519182184), ('binder', 3.612359947967774), ('sambo', 3.612359947967774), ('fabled', 3.612359947967774), ('anchorage', 3.421901175404454), ('tetanus', 3.421901175404454), ('uninstalled', 3.421901175404454)] \n",
    "\n",
    "oct_neg_2008 = [('vaulted', 104.0124335288864), ('acorn', 44.24172594030654), ('apperception', 19.42526242885725), ('bark', 17.344949448234487), ('planetarium', 16.187718690714373), ('plumber', 13.559026947287455), ('ventriloquist', 10.265703526213363), ('licensure', 8.11106133023426), ('phenomenological', 7.224719895935548), ('mae', 5.811011548837481),\n",
    " ('doctrinaire', 5.7254550566359494), ('austerity', 5.61799694480083), ('redistributive', 5.447058752685505), ('ticky', 5.395906230238125), ('unexperienced', 5.395906230238125), ('acetate', 5.395906230238125), ('mitre', 5.395906230238125), ('leek', 5.395906230238125),\n",
    " ('gynecologist', 5.322957383962485), ('rejoin', 4.942746142250878), ('babby', 4.915747326700727), ('pollster', 4.816479930623699), ('edifice', 4.816479930623699), ('radon', 4.668907502301861), ('firestone', 4.668907502301861), ('fey', 4.578372735447712),\n",
    " ('pringle', 4.3167249841904995), ('overrepresentation', 4.3167249841904995), ('indubitable', 4.3167249841904995), ('plann', 4.294091292476962), ('secessionist', 4.294091292476962), ('calibration', 4.182323658827666), ('blanca', 3.8907562519182184), ('registrant', 3.8169700377572995), ('radium', 3.612359947967774), ('demagogic', 3.612359947967774), ('chrome', 3.5218251811136247), ('singh', 3.421901175404454), ('disallow', 3.3457339220579434), ('lowy', 3.339848783037637)]\n",
    "\n",
    "nov_neg_2008 = [('adroitly', 21.78823501074202), ('awee', 16.341176258056517), ('spanky', 16.341176258056517), ('vagus', 11.870993706523874), ('warrantee', 9.712631214428624), ('bark', 9.636083026796937), ('ventriloquist', 6.843802350808908), ('swayable', 6.475087476285749), ('metronome', 6.475087476285749), ('courtship', 6.321629908943605), ('keratinization', 6.225210003069149), ('ascension', 5.70316862567409), ('initiation', 5.6349202897818), ('dynamo', 5.447058752685505), ('tau', 5.418539921951662),\n",
    " ('alp', 5.418539921951662),\n",
    " ('paresis', 5.395906230238125), ('wasabi', 5.248333801916287), ('plumber', 4.930555253559074), ('bumpy', 4.915747326700727), ('acorn', 4.915747326700727), ('knockout', 4.816479930623699), ('glans', 4.681664120667358), ('grits', 4.668907502301861), ('rogan', 4.562534900539273), ('galactose', 4.3167249841904995), ('unidimensional', 4.3167249841904995), ('snoop', 4.232318819612773), ('garnett', 4.214419939295737), ('socialite', 4.214419939295737), ('begat', 4.214419939295737), ('narwh', 4.214419939295737), ('melamine', 4.182323658827666), ('chrome', 4.050098958280668), ('tapestry', 3.8907562519182184), ('collectible', 3.8907562519182184), ('acquiescence', 3.8169700377572995), ('adulation', 3.8169700377572995), ('sura', 3.8169700377572995), ('fanfare', 3.8169700377572995)] \n",
    "\n",
    "dec_neg_2008 = [('brig', 13.359395132150548), ('partridge', 12.950174952571498), ('nativity', 9.065303839673586), ('merri', 7.60422483423212),\n",
    " ('alpine', 7.156818820794936), ('subordination', 7.003361253452793), ('utilitarianism', 6.923689900271568), ('congestion', 6.554329768934302), ('isosceles', 6.475087476285749), ('shoeless', 6.475087476285749), ('chrome', 5.458829030726118), ('physicalism', 5.447058752685505), ('sunder', 5.395906230238125), ('storehouse', 5.395906230238125), ('bailiff', 4.771212547196624), ('bloc', 4.6716935168098646), ('manna', 4.668907502301861), ('tickler', 4.668907502301861), ('billiards', 4.668907502301861), ('niggard', 4.668907502301861), ('breastfeeding', 4.578372735447712), ('cauterization', 4.3167249841904995), ('sixfold', 4.3167249841904995), ('equilateral', 4.3167249841904995), ('pheasant', 4.3167249841904995), ('incontinently', 4.3167249841904995), ('thrower', 4.214419939295737), ('iodine', 4.214419939295737), ('separatist', 4.050098958280668), ('reorganization', 3.8907562519182184), ('alphabetic', 3.8907562519182184), ('searing', 3.8169700377572995), ('sultan', 3.80211241711606), ('narwhal', 3.80211241711606), ('babby', 3.745331296533887), ('relativist', 3.612359947967774), ('physicalist', 3.612359947967774), ('boa', 3.612359947967774),\n",
    " ('blackbird', 3.612359947967774), ('pounder', 3.612359947967774)] "
   ]
  },
  {
   "cell_type": "markdown",
   "metadata": {},
   "source": [
    "### Finding the most frequent words across 2008 comments\n",
    "\n",
    "To see if trends have impacted the most popular words across the months, we shall look at most frequently occuring words across the months."
   ]
  },
  {
   "cell_type": "markdown",
   "metadata": {},
   "source": [
    "To visualize the most frequent words of each month, we will add together the most frequent words of positive and negative comments into a combined DataFrame. From there, we can easily extract the top words of each month and visualize them with a bar graph."
   ]
  },
  {
   "cell_type": "code",
   "execution_count": 16,
   "metadata": {},
   "outputs": [],
   "source": [
    "jan_2008_pd = pd.DataFrame(jan_pos_2008 + jan_neg_2008, columns=[\"word\", \"frequency\"])\n",
    "feb_2008_pd = pd.DataFrame(feb_pos_2008 + feb_neg_2008, columns=[\"word\", \"frequency\"])\n",
    "mar_2008_pd = pd.DataFrame(mar_pos_2008 + mar_neg_2008, columns=[\"word\", \"frequency\"])\n",
    "apr_2008_pd = pd.DataFrame(apr_pos_2008, columns=[\"word\", \"frequency\"])\n",
    "may_2008_pd = pd.DataFrame(may_pos_2008 + may_neg_2008, columns=[\"word\", \"frequency\"])\n",
    "jun_2008_pd = pd.DataFrame(jun_pos_2008 + jun_neg_2008, columns=[\"word\", \"frequency\"])\n",
    "jul_2008_pd = pd.DataFrame(jul_pos_2008 + jul_neg_2008, columns=[\"word\", \"frequency\"])\n",
    "aug_2008_pd = pd.DataFrame(aug_pos_2008 + aug_neg_2008, columns=[\"word\", \"frequency\"])\n",
    "sep_2008_pd = pd.DataFrame(sep_pos_2008 + sep_neg_2008, columns=[\"word\", \"frequency\"])\n",
    "oct_2008_pd = pd.DataFrame(oct_pos_2008 + oct_neg_2008, columns=[\"word\", \"frequency\"])\n",
    "nov_2008_pd = pd.DataFrame(nov_pos_2008 + nov_neg_2008, columns=[\"word\", \"frequency\"])\n",
    "dec_2008_pd = pd.DataFrame(dec_pos_2008 + dec_neg_2008, columns=[\"word\", \"frequency\"])"
   ]
  },
  {
   "cell_type": "markdown",
   "metadata": {},
   "source": [
    "January most frequently used 20 words:"
   ]
  },
  {
   "cell_type": "code",
   "execution_count": 17,
   "metadata": {},
   "outputs": [
    {
     "data": {
      "text/plain": [
       "<matplotlib.axes._subplots.AxesSubplot at 0x17efd7387b8>"
      ]
     },
     "execution_count": 17,
     "metadata": {},
     "output_type": "execute_result"
    },
    {
     "data": {
      "image/png": "[encoded data removed]",
      "text/plain": [
       "<Figure size 432x288 with 1 Axes>"
      ]
     },
     "metadata": {
      "needs_background": "light"
     },
     "output_type": "display_data"
    }
   ],
   "source": [
    "jan_2008_sorted = jan_2008_pd.sort_values(by=[\"frequency\"], ascending=False)\n",
    "jan_2008_sorted[0:20].plot(x=\"word\", y=\"frequency\", kind=\"bar\", title=\"Most Frequent Words of January\", colormap=\"Accent\")"
   ]
  },
  {
   "cell_type": "markdown",
   "metadata": {},
   "source": [
    "February most frequently used 20 words:"
   ]
  },
  {
   "cell_type": "code",
   "execution_count": 18,
   "metadata": {},
   "outputs": [
    {
     "data": {
      "text/plain": [
       "<matplotlib.axes._subplots.AxesSubplot at 0x17efd8725c0>"
      ]
     },
     "execution_count": 18,
     "metadata": {},
     "output_type": "execute_result"
    },
    {
     "data": {
      "image/png": "[encoded data removed]",
      "text/plain": [
       "<Figure size 432x288 with 1 Axes>"
      ]
     },
     "metadata": {
      "needs_background": "light"
     },
     "output_type": "display_data"
    }
   ],
   "source": [
    "feb_2008_sorted = feb_2008_pd.sort_values(by=[\"frequency\"], ascending=False)\n",
    "feb_2008_sorted[0:20].plot(x=\"word\", y=\"frequency\", kind=\"bar\", title=\"Most Frequent Words of February\", colormap=\"Accent\")"
   ]
  },
  {
   "cell_type": "markdown",
   "metadata": {},
   "source": [
    "March most frequently used 20 words:"
   ]
  },
  {
   "cell_type": "code",
   "execution_count": 19,
   "metadata": {},
   "outputs": [
    {
     "data": {
      "text/plain": [
       "<matplotlib.axes._subplots.AxesSubplot at 0x17efdbd1320>"
      ]
     },
     "execution_count": 19,
     "metadata": {},
     "output_type": "execute_result"
    },
    {
     "data": {
      "image/png": "[encoded data removed]",
      "text/plain": [
       "<Figure size 432x288 with 1 Axes>"
      ]
     },
     "metadata": {
      "needs_background": "light"
     },
     "output_type": "display_data"
    }
   ],
   "source": [
    "mar_2008_sorted = mar_2008_pd.sort_values(by=[\"frequency\"], ascending=False)\n",
    "mar_2008_sorted[0:20].plot(x=\"word\", y=\"frequency\", kind=\"bar\", title=\"Most Frequent Words of March\", colormap=\"Accent\")"
   ]
  },
  {
   "cell_type": "markdown",
   "metadata": {},
   "source": [
    "April most frequently used 20 words:"
   ]
  },
  {
   "cell_type": "code",
   "execution_count": 20,
   "metadata": {},
   "outputs": [
    {
     "data": {
      "text/plain": [
       "<matplotlib.axes._subplots.AxesSubplot at 0x17efdc79c50>"
      ]
     },
     "execution_count": 20,
     "metadata": {},
     "output_type": "execute_result"
    },
    {
     "data": {
      "image/png": "[encoded data removed]",
      "text/plain": [
       "<Figure size 432x288 with 1 Axes>"
      ]
     },
     "metadata": {
      "needs_background": "light"
     },
     "output_type": "display_data"
    }
   ],
   "source": [
    "apr_2008_sorted = apr_2008_pd.sort_values(by=[\"frequency\"], ascending=False)\n",
    "apr_2008_sorted[0:20].plot(x=\"word\", y=\"frequency\", kind=\"bar\", title=\"Most Frequent Words of April\", colormap=\"Accent\")"
   ]
  },
  {
   "cell_type": "markdown",
   "metadata": {},
   "source": [
    "May most frequently used 20 words:"
   ]
  },
  {
   "cell_type": "code",
   "execution_count": 21,
   "metadata": {},
   "outputs": [
    {
     "data": {
      "text/plain": [
       "<matplotlib.axes._subplots.AxesSubplot at 0x17efdc120b8>"
      ]
     },
     "execution_count": 21,
     "metadata": {},
     "output_type": "execute_result"
    },
    {
     "data": {
      "image/png": "[encoded data removed]",
      "text/plain": [
       "<Figure size 432x288 with 1 Axes>"
      ]
     },
     "metadata": {
      "needs_background": "light"
     },
     "output_type": "display_data"
    }
   ],
   "source": [
    "may_2008_sorted = may_2008_pd.sort_values(by=[\"frequency\"], ascending=False)\n",
    "may_2008_sorted[0:20].plot(x=\"word\", y=\"frequency\", kind=\"bar\", title=\"Most Frequent Words of May\", colormap=\"Accent\")"
   ]
  },
  {
   "cell_type": "markdown",
   "metadata": {},
   "source": [
    "June most frequently used 20 words:"
   ]
  },
  {
   "cell_type": "code",
   "execution_count": 22,
   "metadata": {},
   "outputs": [
    {
     "data": {
      "text/plain": [
       "<matplotlib.axes._subplots.AxesSubplot at 0x17efddc2358>"
      ]
     },
     "execution_count": 22,
     "metadata": {},
     "output_type": "execute_result"
    },
    {
     "data": {
      "image/png": "[encoded data removed]",
      "text/plain": [
       "<Figure size 432x288 with 1 Axes>"
      ]
     },
     "metadata": {
      "needs_background": "light"
     },
     "output_type": "display_data"
    }
   ],
   "source": [
    "jun_2008_sorted = jun_2008_pd.sort_values(by=[\"frequency\"], ascending=False)\n",
    "jun_2008_sorted[0:20].plot(x=\"word\", y=\"frequency\", kind=\"bar\", title=\"Most Frequent Words of June\", colormap=\"Accent\")"
   ]
  },
  {
   "cell_type": "markdown",
   "metadata": {},
   "source": [
    "July most frequently used 20 words:"
   ]
  },
  {
   "cell_type": "code",
   "execution_count": 23,
   "metadata": {},
   "outputs": [
    {
     "data": {
      "text/plain": [
       "<matplotlib.axes._subplots.AxesSubplot at 0x17efee32710>"
      ]
     },
     "execution_count": 23,
     "metadata": {},
     "output_type": "execute_result"
    },
    {
     "data": {
      "image/png": "[encoded data removed]",
      "text/plain": [
       "<Figure size 432x288 with 1 Axes>"
      ]
     },
     "metadata": {
      "needs_background": "light"
     },
     "output_type": "display_data"
    }
   ],
   "source": [
    "jul_2008_sorted = jul_2008_pd.sort_values(by=[\"frequency\"], ascending=False)\n",
    "jul_2008_sorted[0:20].plot(x=\"word\", y=\"frequency\", kind=\"bar\", title=\"Most Frequent Words of July\", colormap=\"Accent\")"
   ]
  },
  {
   "cell_type": "markdown",
   "metadata": {},
   "source": [
    "August most frequently used 20 words:"
   ]
  },
  {
   "cell_type": "code",
   "execution_count": 24,
   "metadata": {},
   "outputs": [
    {
     "data": {
      "text/plain": [
       "<matplotlib.axes._subplots.AxesSubplot at 0x17efddc2940>"
      ]
     },
     "execution_count": 24,
     "metadata": {},
     "output_type": "execute_result"
    },
    {
     "data": {
      "image/png": "[encoded data removed]",
      "text/plain": [
       "<Figure size 432x288 with 1 Axes>"
      ]
     },
     "metadata": {
      "needs_background": "light"
     },
     "output_type": "display_data"
    }
   ],
   "source": [
    "aug_2008_sorted = aug_2008_pd.sort_values(by=[\"frequency\"], ascending=False)\n",
    "aug_2008_sorted[0:20].plot(x=\"word\", y=\"frequency\", kind=\"bar\", title=\"Most Frequent Words of August\", colormap=\"Accent\")"
   ]
  },
  {
   "cell_type": "markdown",
   "metadata": {},
   "source": [
    "September most frequently used 20 words:"
   ]
  },
  {
   "cell_type": "code",
   "execution_count": 25,
   "metadata": {},
   "outputs": [
    {
     "data": {
      "text/plain": [
       "<matplotlib.axes._subplots.AxesSubplot at 0x17efef88e80>"
      ]
     },
     "execution_count": 25,
     "metadata": {},
     "output_type": "execute_result"
    },
    {
     "data": {
      "image/png": "[encoded data removed]",
      "text/plain": [
       "<Figure size 432x288 with 1 Axes>"
      ]
     },
     "metadata": {
      "needs_background": "light"
     },
     "output_type": "display_data"
    }
   ],
   "source": [
    "sep_2008_sorted = sep_2008_pd.sort_values(by=[\"frequency\"], ascending=False)\n",
    "sep_2008_sorted[0:20].plot(x=\"word\", y=\"frequency\", kind=\"bar\", title=\"Most Frequent Words of September\", colormap=\"Accent\")"
   ]
  },
  {
   "cell_type": "markdown",
   "metadata": {},
   "source": [
    "October most frequently used 20 words:"
   ]
  },
  {
   "cell_type": "code",
   "execution_count": 26,
   "metadata": {},
   "outputs": [
    {
     "data": {
      "text/plain": [
       "<matplotlib.axes._subplots.AxesSubplot at 0x17eff03b198>"
      ]
     },
     "execution_count": 26,
     "metadata": {},
     "output_type": "execute_result"
    },
    {
     "data": {
      "image/png": "[encoded data removed]",
      "text/plain": [
       "<Figure size 432x288 with 1 Axes>"
      ]
     },
     "metadata": {
      "needs_background": "light"
     },
     "output_type": "display_data"
    }
   ],
   "source": [
    "oct_2008_sorted = oct_2008_pd.sort_values(by=[\"frequency\"], ascending=False)\n",
    "oct_2008_sorted[0:20].plot(x=\"word\", y=\"frequency\", kind=\"bar\", title=\"Most Frequent Words of October\", colormap=\"Accent\")"
   ]
  },
  {
   "cell_type": "markdown",
   "metadata": {},
   "source": [
    "November most frequently used 20 words:"
   ]
  },
  {
   "cell_type": "code",
   "execution_count": 27,
   "metadata": {},
   "outputs": [
    {
     "data": {
      "text/plain": [
       "<matplotlib.axes._subplots.AxesSubplot at 0x17eff0e5128>"
      ]
     },
     "execution_count": 27,
     "metadata": {},
     "output_type": "execute_result"
    },
    {
     "data": {
      "image/png": "[encoded data removed]",
      "text/plain": [
       "<Figure size 432x288 with 1 Axes>"
      ]
     },
     "metadata": {
      "needs_background": "light"
     },
     "output_type": "display_data"
    }
   ],
   "source": [
    "nov_2008_sorted = nov_2008_pd.sort_values(by=[\"frequency\"], ascending=False)\n",
    "nov_2008_sorted[0:20].plot(x=\"word\", y=\"frequency\", kind=\"bar\", title=\"Most Frequent Words of November\", colormap=\"Accent\")"
   ]
  },
  {
   "cell_type": "markdown",
   "metadata": {},
   "source": [
    "December most frequently used 20 words:"
   ]
  },
  {
   "cell_type": "code",
   "execution_count": 28,
   "metadata": {},
   "outputs": [
    {
     "data": {
      "text/plain": [
       "<matplotlib.axes._subplots.AxesSubplot at 0x17eff19a470>"
      ]
     },
     "execution_count": 28,
     "metadata": {},
     "output_type": "execute_result"
    },
    {
     "data": {
      "image/png": "[encoded data removed]",
      "text/plain": [
       "<Figure size 432x288 with 1 Axes>"
      ]
     },
     "metadata": {
      "needs_background": "light"
     },
     "output_type": "display_data"
    }
   ],
   "source": [
    "dec_2008_sorted = dec_2008_pd.sort_values(by=[\"frequency\"], ascending=False)\n",
    "dec_2008_sorted[0:20].plot(x=\"word\", y=\"frequency\", kind=\"bar\", title=\"Most Frequent Words of December\", colormap=\"Accent\")"
   ]
  },
  {
   "cell_type": "markdown",
   "metadata": {},
   "source": [
    "Now, combine all the postive comments into a positive Dataframe, then combine all the negative comments into a negative DataFrame. Finally, combine all comments together into a total DataFrame"
   ]
  },
  {
   "cell_type": "code",
   "execution_count": 29,
   "metadata": {},
   "outputs": [],
   "source": [
    "pos_words_2008_pd = pd.DataFrame(jan_pos_2008 + feb_pos_2008 + mar_pos_2008 + apr_pos_2008 + may_pos_2008 + jun_pos_2008 + jul_pos_2008 + aug_pos_2008 + sep_pos_2008 + oct_pos_2008 + nov_pos_2008 + dec_pos_2008, columns=[\"word\", \"frequency\"])\n",
    "\n",
    "neg_words_2008_pd = pd.DataFrame(jan_neg_2008 + feb_neg_2008 + mar_neg_2008 + may_neg_2008 + jun_neg_2008 + jul_neg_2008 + aug_neg_2008 + sep_neg_2008 + oct_neg_2008 + nov_neg_2008 + dec_neg_2008, columns=[\"word\", \"frequency\"])\n",
    "\n",
    "total_words_2008_pd = pd.concat([pos_words_2008_pd, neg_words_2008_pd])"
   ]
  },
  {
   "cell_type": "markdown",
   "metadata": {},
   "source": [
    "Let's extract the top 20 words from positive comments and plot them in a bar graph."
   ]
  },
  {
   "cell_type": "code",
   "execution_count": 30,
   "metadata": {},
   "outputs": [
    {
     "data": {
      "text/plain": [
       "<matplotlib.axes._subplots.AxesSubplot at 0x17eff237470>"
      ]
     },
     "execution_count": 30,
     "metadata": {},
     "output_type": "execute_result"
    },
    {
     "data": {
      "image/png": "[encoded data removed]",
      "text/plain": [
       "<Figure size 432x288 with 1 Axes>"
      ]
     },
     "metadata": {
      "needs_background": "light"
     },
     "output_type": "display_data"
    }
   ],
   "source": [
    "pos_words_2008_sorted = pos_words_2008_pd.sort_values(by=[\"frequency\"], ascending=False)\n",
    "pos_words_2008_sorted.iloc[0:20].plot(x=\"word\", y=\"frequency\", kind=\"bar\", title=\"Top 20 Words From Positive Comments\", colormap=\"Accent\")"
   ]
  },
  {
   "cell_type": "markdown",
   "metadata": {},
   "source": [
    "Let's extract the top 20 words from negative comments and plot them in a bar graph."
   ]
  },
  {
   "cell_type": "code",
   "execution_count": 31,
   "metadata": {},
   "outputs": [
    {
     "data": {
      "text/plain": [
       "<matplotlib.axes._subplots.AxesSubplot at 0x17eff2e83c8>"
      ]
     },
     "execution_count": 31,
     "metadata": {},
     "output_type": "execute_result"
    },
    {
     "data": {
      "image/png": "[encoded data removed]",
      "text/plain": [
       "<Figure size 432x288 with 1 Axes>"
      ]
     },
     "metadata": {
      "needs_background": "light"
     },
     "output_type": "display_data"
    }
   ],
   "source": [
    "neg_words_2008_sorted = neg_words_2008_pd.sort_values(by=[\"frequency\"], ascending=False)\n",
    "neg_words_2008_sorted.iloc[0:20].plot(x=\"word\", y=\"frequency\", kind=\"bar\", title=\"Top 20 Words From Negative Comments\", colormap=\"Accent\")"
   ]
  },
  {
   "cell_type": "markdown",
   "metadata": {},
   "source": [
    "Lastly, lets see what the top 20 words are from all comments in 2008. Then we will plot them in a bar graph."
   ]
  },
  {
   "cell_type": "code",
   "execution_count": 32,
   "metadata": {},
   "outputs": [
    {
     "data": {
      "text/plain": [
       "<matplotlib.axes._subplots.AxesSubplot at 0x17eff394b70>"
      ]
     },
     "execution_count": 32,
     "metadata": {},
     "output_type": "execute_result"
    },
    {
     "data": {
      "image/png": "[encoded data removed]",
      "text/plain": [
       "<Figure size 432x288 with 1 Axes>"
      ]
     },
     "metadata": {
      "needs_background": "light"
     },
     "output_type": "display_data"
    }
   ],
   "source": [
    "total_words_2008_sorted = total_words_2008_pd.sort_values(by=[\"frequency\"], ascending=False)\n",
    "total_words_2008_sorted.iloc[0:20].plot(x=\"word\", y=\"frequency\", kind=\"bar\", title=\"Most Frequent 20 Words From All Comments\", colormap=\"Accent\")"
   ]
  },
  {
   "cell_type": "markdown",
   "metadata": {},
   "source": [
    "Now, we will extract the most frequent word for positive and negative."
   ]
  },
  {
   "cell_type": "code",
   "execution_count": 33,
   "metadata": {},
   "outputs": [
    {
     "name": "stdout",
     "output_type": "stream",
     "text": [
      "word            awee\n",
      "frequency    128.346\n",
      "Name: 500, dtype: object\n",
      "word         vaulted\n",
      "frequency    104.012\n",
      "Name: 320, dtype: object\n"
     ]
    }
   ],
   "source": [
    "pos_most_freq = pos_words_2008_pd.loc[pos_words_2008_pd[\"frequency\"].idxmax()]\n",
    "\n",
    "neg_most_freq = neg_words_2008_pd.loc[neg_words_2008_pd[\"frequency\"].idxmax()]\n",
    "\n",
    "print(pos_most_freq)\n",
    "print(neg_most_freq)"
   ]
  },
  {
   "cell_type": "markdown",
   "metadata": {},
   "source": [
    "We will also quickly visualize this frequency in a final bar graph."
   ]
  },
  {
   "cell_type": "code",
   "execution_count": 34,
   "metadata": {},
   "outputs": [
    {
     "data": {
      "text/plain": [
       "<matplotlib.axes._subplots.AxesSubplot at 0x17eff4472e8>"
      ]
     },
     "execution_count": 34,
     "metadata": {},
     "output_type": "execute_result"
    },
    {
     "data": {
      "image/png": "[encoded data removed]",
      "text/plain": [
       "<Figure size 432x288 with 1 Axes>"
      ]
     },
     "metadata": {
      "needs_background": "light"
     },
     "output_type": "display_data"
    }
   ],
   "source": [
    "data = {\"word\": [pos_most_freq[0], neg_most_freq[0]], \"frequency\": [pos_most_freq[1], neg_most_freq[1]]}\n",
    "top_freq = pd.DataFrame(data)\n",
    "top_freq.plot(x=\"word\", y=\"frequency\", kind=\"bar\", title=\"Most Frequent Positive and Negative\", colormap=\"Accent\")"
   ]
  },
  {
   "cell_type": "markdown",
   "metadata": {},
   "source": [
    "## Finding frequency spread across 2008 comments"
   ]
  },
  {
   "cell_type": "markdown",
   "metadata": {},
   "source": [
    "To see if there is a spike in popularity of certain key words, we will take a look at the average difference in frequency of the top frequent words in each month.\n",
    "This way, we can essentially capture the spread of each month and see if there are any months with notably larger spread. Months with larger difference could indicate that they have certain words with much larger frequency that may result from trends or the internet topic of the month."
   ]
  },
  {
   "cell_type": "code",
   "execution_count": 35,
   "metadata": {},
   "outputs": [],
   "source": [
    "# This method calculates the average difference of the df up to count index\n",
    "def average_freq_diff(df, count):\n",
    "    prev_word_row = df.iloc[0]\n",
    "    avg_diff = 0\n",
    "    for i in range(1, count):\n",
    "        curr_row = df.iloc[i]\n",
    "        avg_diff += abs(prev_word_row.frequency - curr_row.frequency)\n",
    "        prev_word_row = curr_row\n",
    "    return (avg_diff / count)"
   ]
  },
  {
   "cell_type": "code",
   "execution_count": 36,
   "metadata": {},
   "outputs": [],
   "source": [
    "data = [average_freq_diff(jan_2008_sorted, 20),\n",
    "average_freq_diff(feb_2008_sorted, 20),\n",
    "average_freq_diff(mar_2008_sorted, 20),\n",
    "average_freq_diff(apr_2008_sorted, 20),\n",
    "average_freq_diff(may_2008_sorted, 20),\n",
    "average_freq_diff(jun_2008_sorted, 20),\n",
    "average_freq_diff(jul_2008_sorted, 20),\n",
    "average_freq_diff(aug_2008_sorted, 20),\n",
    "average_freq_diff(sep_2008_sorted, 20),\n",
    "average_freq_diff(oct_2008_sorted, 20),\n",
    "average_freq_diff(nov_2008_sorted, 20),\n",
    "average_freq_diff(dec_2008_sorted, 20)]"
   ]
  },
  {
   "cell_type": "markdown",
   "metadata": {},
   "source": [
    "We will put the average difference in a DataFrame and plot the results."
   ]
  },
  {
   "cell_type": "code",
   "execution_count": 39,
   "metadata": {},
   "outputs": [
    {
     "data": {
      "text/plain": [
       "<matplotlib.axes._subplots.AxesSubplot at 0x17eff5fe128>"
      ]
     },
     "execution_count": 39,
     "metadata": {},
     "output_type": "execute_result"
    },
    {
     "data": {
      "image/png": "[encoded data removed]",
      "text/plain": [
       "<Figure size 432x288 with 1 Axes>"
      ]
     },
     "metadata": {
      "needs_background": "light"
     },
     "output_type": "display_data"
    }
   ],
   "source": [
    "spread_2008_df = pd.DataFrame(data, columns=[\"Average Frequency Difference\"], index=[\"Jan\", \"Feb\", \"Mar\", \"Apr\", \"May\", \"Jun\", \"Jul\", \"Aug\", \"Sep\", \"Oct\", \"Nov\", \"Dec\"])\n",
    "spread_2008_df.plot(y=\"Average Frequency Difference\", kind=\"bar\", title=\"Average Difference in Word Frequency\", colormap=\"autumn\")"
   ]
  },
  {
   "cell_type": "markdown",
   "metadata": {},
   "source": [
    "## Comparing the overlaps between the positive and negative comments of each month"
   ]
  },
  {
   "cell_type": "markdown",
   "metadata": {},
   "source": [
    "First, we want to couple the positive and negative data of each month, so it will be easy to iterate through."
   ]
  },
  {
   "cell_type": "code",
   "execution_count": 10,
   "metadata": {},
   "outputs": [],
   "source": [
    "data_set_list = [(jan_pos_2008,jan_neg_2008),(feb_pos_2008,feb_neg_2008),(mar_pos_2008,mar_neg_2008),\n",
    "                (apr_pos_2008,None),(may_pos_2008,may_neg_2008),(jun_pos_2008,jun_neg_2008),\n",
    "                (jul_pos_2008,jul_neg_2008),(aug_pos_2008,aug_neg_2008),(sep_pos_2008,sep_neg_2008),\n",
    "                (oct_pos_2008,oct_neg_2008),(nov_pos_2008,nov_neg_2008),(dec_pos_2008,dec_neg_2008)]\n",
    "months = [\"January\",\"February\",\"March\",\"April\",\"May\",\"June\",\"July\",\"August\",\"September\",\"October\",\"November\",\"December\"]\n",
    "overlap_dictionary = {}\n",
    "for i in months:\n",
    "    overlap_dictionary[i] = set()\n",
    "    \n",
    "    "
   ]
  },
  {
   "cell_type": "markdown",
   "metadata": {},
   "source": [
    "We then compared the number of words that appeared in both the positive and negative lists for each month."
   ]
  },
  {
   "cell_type": "code",
   "execution_count": 13,
   "metadata": {},
   "outputs": [],
   "source": [
    "overlap_counts = []\n",
    "month_counter = -1\n",
    "for i in data_set_list:\n",
    "    month_counter += 1\n",
    "    count = 0\n",
    "    if i[1] == None:\n",
    "        overlap_counts.append(count)\n",
    "        continue\n",
    "    for j in range(40):\n",
    "        for k in range(40):\n",
    "            if i[0][j][0] == i[1][k][0]:\n",
    "                count += 1\n",
    "                overlap_dictionary[months[month_counter]].add(i[0][j][0])\n",
    "    overlap_counts.append(count)\n"
   ]
  },
  {
   "cell_type": "markdown",
   "metadata": {},
   "source": [
    "We decided that a bar graph was the best way to plot the data, as it easily shows which months had larger amounts of overlap than other months."
   ]
  },
  {
   "cell_type": "code",
   "execution_count": 16,
   "metadata": {},
   "outputs": [
    {
     "data": {
      "text/plain": [
       "<matplotlib.axes._subplots.AxesSubplot at 0x122e4a668>"
      ]
     },
     "execution_count": 16,
     "metadata": {},
     "output_type": "execute_result"
    },
    {
     "data": {
      "image/png": "[encoded data removed]",
      "text/plain": [
       "<Figure size 432x288 with 1 Axes>"
      ]
     },
     "metadata": {
      "needs_background": "light"
     },
     "output_type": "display_data"
    }
   ],
   "source": [
    "df = pd.DataFrame(overlap_counts, index=months)\n",
    "df.columns = [\"Overlap\"]\n",
    "df.plot.bar()"
   ]
  },
  {
   "cell_type": "markdown",
   "metadata": {},
   "source": [
    "We also wanted to create a dictionary showing the words that overlaped, to see if they have any significance"
   ]
  },
  {
   "cell_type": "code",
   "execution_count": 17,
   "metadata": {},
   "outputs": [
    {
     "data": {
      "text/plain": [
       "{'January': {'kik', 'tusked'},\n",
       " 'February': {'grantee', 'nonfederal', 'superdelegate', 'willey'},\n",
       " 'March': {'causey', 'colitis', 'kayles', 'reductional', 'unpledged'},\n",
       " 'April': set(),\n",
       " 'May': {'atchison', 'ingle', 'palfrey'},\n",
       " 'June': {'citrate'},\n",
       " 'July': {'riddler'},\n",
       " 'August': {'babby', 'perchlorate'},\n",
       " 'September': {'babby', 'chrom', 'dermis', 'diverticulosis'},\n",
       " 'October': set(),\n",
       " 'November': {'awee', 'keratinization', 'melamine', 'narwh'},\n",
       " 'December': {'narwhal'}}"
      ]
     },
     "execution_count": 17,
     "metadata": {},
     "output_type": "execute_result"
    }
   ],
   "source": [
    "overlap_dictionary"
   ]
  },
  {
   "cell_type": "markdown",
   "metadata": {},
   "source": [
    "## Data Analysis & Results "
   ]
  },
  {
   "cell_type": "markdown",
   "metadata": {},
   "source": [
    "#### Regarding months with large frequency spikes\n",
    "As presented in our graphs, most months have a consistent frequency amongst top 20 words with a few exceptions. In the graph for average difference, we can see a significant spike in average frequency for the months of February, May, October, November, and December. This is an indicator that perhaps there is a certain popular topic or keyword that motivated a greater frequency of usage in those months.\n",
    "For the month of December, the most popular word is “prorogue” with a frequency of 93 over the second most popular word “tharm” with a frequency of 19.  Research reveals that during December of 2008, the Canadian parliament underwent prorogation that ended parliamentary session without dissolving parliament in advance of new elections. This was a key event in Canadian political history and no doubt generated a ton of reporting and chatter all over the internet. For all the other months, the spiking frequency word revealed nonsensical results without a solid connection to current events. In October 2008, “krona” appeared one of the top fifty words. In late 2008, Iceland faced a financial crisis which resulting defaulting major banks in Iceland. \n",
    "\n",
    "#### Regarding words with most overlaps\n",
    "\n",
    "When analysing words that overlapped between positive and negative comments, we decided to see how many of the top 40 words overlapped for each month. We hypothesized that words that overlap are either for controversial topics, or topics that are large enough to span positive and negative comments. Therefore, months that have more overlap, in theory, could have more controversy, or more popular topics. Although this might be the case, we found it very hard to find conclusive results with the number of overlaps alone, therefore we decided to single out words that did overlap, and words that did not. For example, the word “prorogue” did not overlap despite being very popular in the positive data set for December. We can likely conclude that the event that corresponded with prorogue was generally seen as a positive event, as it was popular with the positive comments and not the negative. If we look at the words that overlap in February however, the words “superdelegate” and “nonfederal” show up. These topics both deal with elections and government. This might conclude that topics relating the government are controversial. Since we didn’t have any other data set to relate to, none of our analysis is conclusive, but the connotation of words can be inferred through the investigation of the overlap between the positive and negative comments."
   ]
  },
  {
   "cell_type": "markdown",
   "metadata": {},
   "source": [
    "## Privacy/Ethics Considerations"
   ]
  },
  {
   "cell_type": "markdown",
   "metadata": {},
   "source": [
    "We have considered privacy and ethics issues surrounding several parts of our data science process:\n",
    "\n",
    "#### Possible Data Concerns: \n",
    "The data was collected using Reddit’s public API, so we do have  permission to use this data. The data is stored on the website given above in zip files. This website has Reddit data since 2005. This may raise a privacy concern, because if a user deleted their account or a specific post after the data had been collected, their posts will still be found on the website. \n",
    "\n",
    "The dataset does not contain email, age, or gender of the user, but it does contain the reddit usernames, so there is not complete anonymity in this dataset. The usernames could possibly be used to track down the individual’s account and find out private information about them. To avoid this issue, we first removed the usernames from the dataset to ensure the privacy of the users. The resulting data has no link to a specific user that posted the comment.\n",
    "    \n",
    "#### Bias in Data:\n",
    "When analyzing text data to find the most frequently used words, it is possible that outliers may appear with stopwords such as “the”, “and”, “that”, etc. These are words that are very common and will appear in every single document, and therefore may skew our data. In order to mitigate this bias, we used an algorithm to remove the stopwords in the beginning, so that we are only left with the important words. Furthermore, our algorithm for finding the most/least commonly used words compares the frequency of each word in a specific month to the entire year worth of reddit posts. This way, we are able to find only the words that are frequent and unique to that specific month. This part of the algorithm helps us eliminate words that may not be stopwords but are still quite popular in reddit posts, such as common abbreviations “LOL”, “omg”, etc. However, a consequence of the TF-IDF algorithm was that words that appeared in more than one month usually were not able to score high enough, so words that were popular in a 2-3 months only did not show up as significant. This caused our data to be skewed towards words that only showed up in one month. These words are pretty obscure, as unique words in a dataset as large as ours, are rare. \n",
    "    \n",
    "#### Equitable Impact Concerns:\n",
    "In general, there shouldn't be any equiatable impact from our analysis. Our analysis takes in great consideration in protecting the authors and the data is acquired through public means. The resulting analysis cannot cause any harm by avoiding all traces of personal identification. Hence, it should be equitable.\n"
   ]
  },
  {
   "cell_type": "markdown",
   "metadata": {},
   "source": [
    "## Conclusion & Discussion"
   ]
  },
  {
   "cell_type": "markdown",
   "metadata": {},
   "source": [
    "Overall, some popular words that appear tend to concentrate around a certain field or discipline. For example, in the month of November, several chemistry terms dominate the top frequency of positive comments. Similarly, in other months, there will be increases in words related to interior decorating or horse riding. This is likely due to the nature and structure of Reddit where posts and comments are concentrated in Subreddits dedicated to certain topics. Hence, the conversations tend to be more specialized.\n",
    "\n",
    "While there are many words that reflect significant or contemporary events, most of the words, in fact, do not reflect them. Despite many cases of notable correlation to current events of 2008, such as the prorogation  of the Canadian parliament, most of the top words do not reveal a direct connection with other words of the month. Taken individually, the words reveal very little about the popular topic of conversation.\n",
    "\n",
    "Regrettably, we do not have another data set or metric to decisively conclude the correlation of current topic versus the words that were used. However, based on the frequency and the TFIDF method, the popular words that we gathered certainly define the conversation on Reddit at that time. Therefore, the most popular words in itself is not enough to consistently reveal the trend or significant milestones of that month.\n",
    "\n",
    "### Possible Improvements\n",
    "\n",
    "To come to a more rigorous conclusion in regarding this research topic, it will be beneficial to have more analytical resources. While the 2008 Reddit data is enormous, it is still a lot more skewed due to how the population of early Reddit is smaller and specialized. Modern data, such as the ones in 2016 and 2018, will likely have a stronger correlation between frequent words and current topic. To analyze such data, however, will require astronomical computing power. "
   ]
  }
 ],
 "metadata": {
  "kernelspec": {
   "display_name": "Python 3",
   "language": "python",
   "name": "python3"
  },
  "language_info": {
   "codemirror_mode": {
    "name": "ipython",
    "version": 3
   },
   "file_extension": ".py",
   "mimetype": "text/x-python",
   "name": "python",
   "nbconvert_exporter": "python",
   "pygments_lexer": "ipython3",
   "version": "3.7.1"
  }
 },
 "nbformat": 4,
 "nbformat_minor": 2
}
