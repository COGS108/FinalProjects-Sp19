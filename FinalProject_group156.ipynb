{
 "cells": [
  {
   "cell_type": "markdown",
   "metadata": {},
   "source": [
    "# Scientifically Differentiating Legendary Pokémon from the Rest"
   ]
  },
  {
   "cell_type": "markdown",
   "metadata": {},
   "source": [
    "**Group Number:** 156\n",
    "\n",
    "**Team Name:** Gotta Catch 'Em All\n",
    "\n",
    "**Team Members:**\n",
    "\n",
    "* Ryan Keng (A12956059)\n",
    "\n",
    "* Steven Khai (A14077103)\n",
    "\n",
    "* Bradley Tran (A14694034) \n",
    "\n",
    "* Elliot Yoon (A12977251)\n",
    "\n",
    "* Adam Yu (A13468697)\n",
    "\n",
    "* Ricky Zhao (A12037809)"
   ]
  },
  {
   "cell_type": "markdown",
   "metadata": {},
   "source": [
    "# Overview\n",
    "\n",
    "Our goal was to summarize the aspects that differentiate legendary Pokemon from the standard fare. We compared physical attributes such as size, height, and typing, as well as base combat stats and usage in the competitive scene. We compared the distribution for these aspects in legendary Pokemon versus all Pokemon and ascertained whether or not legendary Pokemon followed the same trends as the rest of the Pokemon. "
   ]
  },
  {
   "cell_type": "markdown",
   "metadata": {},
   "source": [
    "# Research Question\n",
    "\n",
    "Legendary Pokémon are some of the most revered Pokémon in the Pokémon universe. But what sets them apart from regular Pokémon? Is it their stats? Their types? Do players use legendary Pokémon more over other Pokémon due to these attributes? According to Bulbapedia, one of the most extensive Pokémon encyclopedias, the only thing that distinguishes legendaries from non-legendaries is a naming convention. If Nintendo decides a certain Pokémon should be legendary, then it is. However we believe there has to be more to it than that. For our project, we will examine various statistics regarding Pokémon and see if we can scientifically deduce what sets legendary Pokémon apart from the rest. "
   ]
  },
  {
   "cell_type": "markdown",
   "metadata": {},
   "source": [
    "# Background and Prior Work\n",
    "\n",
    "Over two decades old and a household icon worldwide, the world of Pokémon surpassed 800 unique characters over seven generations with another already announced for later this year. Each Pokémon has unique stats, types, moveset, and design - making every new Pokémon you encounter a brand new sight to behold. But not all Pokémon are created equal - within each generation, there are several designated “legendary Pokémon” that are set a tier above the average Pokémon you might encounter while playing the game. These special Pokémon are set apart through varying combinations of the aforementioned features, and are often the headliners for each generation of Pokémon released. \n",
    "\n",
    "But what defines a legendary is not always clear nor consistent. For example some legendaries do not show up on the cover of the game box, such as in the first generation. Starter Pokémon, which is the first Pokémon the player ever sees, are sometimes highlighted instead of Pokémon in the pool of legendaries. For statistics, certain Pokémon see incredibly high usage in the competitive scene while some legendaries are not even worth considering. \n",
    "\n",
    "Most of the research regarding legendary Pokémon focuses solely on the lore and the constraints of the legendary Pokémon themselves. However, not much research has been done analyzing the numbers that surround legendary Pokémon. There has been, however, many attempts of looking at Pokémon data as a whole, and analyzing the data that way. For example, the following two scatter plots closely mirror the type of analysis we will be performing in our project. \n",
    "\n",
    "https://www.reddit.com/r/dataisbeautiful/comments/780wfi/\n",
    "\n",
    "The first scatter plot, created by Reddit user jmerlinb, compares Pokémon in terms of their height and weight. This is a visualization we drew a lot of inspiration from, but we will make it easier to read, as well as distinguish legendary Pokémon from non-legendary Pokémon in order to prove our hypothesis. \n",
    "\n",
    "https://www.reddit.com/r/dataisbeautiful/comments/91u20t/"
   ]
  },
  {
   "cell_type": "markdown",
   "metadata": {},
   "source": [
    "# Hypothesis \n",
    "\n",
    "From our knowledge of the games and franchise, we can deduce possible aspects that categorizes these Pokémon apart. We know that Legendary Pokémon are considered special, and as such they probably have special features that set them apart from normal Pokémon. We decided to examine this question by looking at two main factors: their capabilities and physical composition. Their capabilities can be defined in two ways. One of these ways is their stats. Every Pokémon have base stats that are universal across all Pokémon of a particular species, we believe that Legendary Pokémon will have higher base stats than all of the other non-Legendary Pokemon. For their physical composition, we believe that Legendary Pokémon are predominantly of the Dragon-type. Also regarding their actual size, we believe that Legendary Pokémon exist in the extremes of the Pokémon world - meaning that they are either extremely large, or extremely small. We believe that these attributes will also mean that their competitive usage is notably higher than normal Pokémon. We came to this hypothesis because we believed that as the headliner Pokemon for every generation, Nintendo would want these Pokemon to stand out amongst the other 100+ Pokemon introduced with every new iteration."
   ]
  },
  {
   "cell_type": "markdown",
   "metadata": {},
   "source": [
    "# Datasets\n",
    "\n",
    "**PokéAPI https://pokeapi.co/**\n",
    "\n",
    "**Pokebase https://pypi.org/project/pokebase/**\n",
    "\n",
    "In this dataset, we plan to collect all legendary and non-legendary Pokémon stats, types, and physical attributes and analyze trends we observed that set the two categories apart. There are 6 stats (Hit Points, Attack, Defense, Special Attack, Special Defense, and Speed) and 18 types (Fire, Water, Grass, Electric, Psychic, Steel, Normal, Fairy, Dark, Flying, Ghost, Poison, Ice, Ground, Rock, Dragon, Fighting, and Bug). Physical attributes, i.e. height and weight, are measured in decimeters and hectograms respectively. This data is publicly available for everyone to access. We are using a package called Pokebase that is provided by the same creators to easily access the API. pokebase is licensed under the 3-Clause BSD License which is a fairly permissive license. We determined whether a Pokemon is legendary or not based on its classification on Bulbapedia, and only used the default forms for Pokemon with multiple in our analysis for consistency. \n",
    "\n",
    "\n",
    "**Bulbapedia https://bulbapedia.bulbagarden.net/wiki/Legendary_Pok%C3%A9mon**\n",
    "\n",
    "Bulbapedia is a community-driven resource about Pokémon and is one of the biggest Pokémon resources in the community. We use their page on legendary Pokémon to for a list of legendary Pokémon to classify our data.\n",
    "\n",
    "\n",
    "**Smogon University https://www.smogon.com/stats**\n",
    "\n",
    "Smogon University is a competitive Pokémon community. They are particularly known for running an online Pokémon battle simulator called Pokémon Showdown, where players can build teams and battle in various competitive rulesets. During peak times, the player count can go up to the twenty thousands (https://pokemonshowdown.com/userstats). Every month, Smogon publicly provides plaintext statistics about how Pokémon are used per competitive ruleset. This data is from March 2019, as that is when we began our analysis. We are specifically interested in the Uber ruleset, which allows the use of practically every Pokémon, including potentially powerful legendaries (\"Ubers is the most inclusive of Smogon's tiers, allowing the use of any Pokémon species\" per https://www.smogon.com/dex/sm/formats/uber/). Smogon's data also is separated by various skill level tiers. Since we want to look at usage data across all skill levels, we use the dataset that includes all results regardless of skill level. There are three usage statistics: usage, raw, and real. \"Usage\" is the amount a Pokemon is seen on a team, weighted by the player's skill level. \"Raw\" is the amount a Pokemon is seen on a team, unweighted by skill level. \"Real\" is the amount a Pokemon is actually \"sent out\" and battles. "
   ]
  },
  {
   "cell_type": "markdown",
   "metadata": {},
   "source": [
    "# Privacy and Ethics Considerations \n",
    "\n",
    "For the data from PokéAPI, there are no privacy concerns nor terms of use concerns that we will need to comply with. The data on PokéAPI is not personally identifiable whatsoever, as they are based on created data within the games. There are no other issues related to our data and analyses that could be problematic in terms of privacy. Since Pokémon data concerns objective data, there should not be any biases. The data the API provides has been collected from another open source project and a fan-run wiki; however, these have been vetted as they were scraped and should be free of errors. \n",
    "\n",
    "For the legendary list taken from Bulbapedia, there is a possibility that people may maliciously edit the page which would lead to incorrect data being used for analysis. However, Bulbapedia has many guidelines on editing and user interaction (https://bulbapedia.bulbagarden.net/wiki/Category:Bulbapedia_policies), and is one of the largest and longest standing community resources (https://bulbapedia.bulbagarden.net/wiki/Bulbapedia:About). This combined with the fact that the list of legendary Pokémon is a fairly static list gives us the confidence that this data is safe to use and free of bias.\n",
    "\n",
    "Competitive usage data was taken from Smogon’s Pokémon Showdown statistics. These statistics are collected by Smogon from their Pokémon Showdown server. There are no privacy concerns as the data available here is not personally identifiable. The only data that is recorded is how often a Pokémon shows up on a player’s team, and what moves they use. The data can be grouped by player ranking; however, these groups each contain many players and have no personally identifiable information.\n",
    "\n",
    "Since this usage data is sorted by month/year and optionally by player ranking, there is a potential for bias in both the date and rank. Pokémon usage may rise and/or fall over time, especially if a new game has been released or other rumors. However, since the data we analyzed was collected long after the current generation has been released, and long before a new generation will be released, this should not be too much of an issue. In addition, we used statistics for all players and not just the top players so that the popularity can be seen amongst all skill levels.\n",
    "\n",
    "We believe that there are no more ethical concerns to address. "
   ]
  },
  {
   "cell_type": "markdown",
   "metadata": {
    "colab_type": "text",
    "id": "F9bp1r-UK7gk"
   },
   "source": [
    "# Part 0: Import Packages"
   ]
  },
  {
   "cell_type": "code",
   "execution_count": 1,
   "metadata": {
    "colab": {
     "base_uri": "https://localhost:8080/",
     "height": 119
    },
    "colab_type": "code",
    "id": "n25zgJ5dJfe6",
    "outputId": "a0e4b113-0e3d-4986-b46c-590985033751",
    "scrolled": true
   },
   "outputs": [
    {
     "name": "stdout",
     "output_type": "stream",
     "text": [
      "Requirement already satisfied: pokebase in c:\\users\\ellio\\appdata\\local\\programs\\python\\python37\\lib\\site-packages (1.2.0)\n",
      "Requirement already satisfied: requests in c:\\users\\ellio\\appdata\\local\\programs\\python\\python37\\lib\\site-packages (from pokebase) (2.22.0)\n",
      "Requirement already satisfied: urllib3!=1.25.0,!=1.25.1,<1.26,>=1.21.1 in c:\\users\\ellio\\appdata\\local\\programs\\python\\python37\\lib\\site-packages (from requests->pokebase) (1.25.3)\n",
      "Requirement already satisfied: chardet<3.1.0,>=3.0.2 in c:\\users\\ellio\\appdata\\local\\programs\\python\\python37\\lib\\site-packages (from requests->pokebase) (3.0.4)\n",
      "Requirement already satisfied: idna<2.9,>=2.5 in c:\\users\\ellio\\appdata\\local\\programs\\python\\python37\\lib\\site-packages (from requests->pokebase) (2.8)\n",
      "Requirement already satisfied: certifi>=2017.4.17 in c:\\users\\ellio\\appdata\\local\\programs\\python\\python37\\lib\\site-packages (from requests->pokebase) (2019.3.9)\n"
     ]
    }
   ],
   "source": [
    "import sys\n",
    "import requests\n",
    "from bs4 import BeautifulSoup\n",
    "from urllib.request import urlopen\n",
    "import json\n",
    "import pandas as pd\n",
    "import math\n",
    "import matplotlib.pyplot as plt\n",
    "import numpy as np\n",
    "import seaborn as sns\n",
    "\n",
    "!{sys.executable} -m pip install pokebase\n",
    "import pokebase as pb "
   ]
  },
  {
   "cell_type": "markdown",
   "metadata": {},
   "source": [
    "# Part 1: Data Collection and Cleaning"
   ]
  },
  {
   "cell_type": "code",
   "execution_count": 2,
   "metadata": {},
   "outputs": [],
   "source": [
    "# Limit dataframe views to reduce page count\n",
    "pd.options.display.max_rows = 9"
   ]
  },
  {
   "cell_type": "markdown",
   "metadata": {
    "colab_type": "text",
    "id": "gWOOeW9qQ-aJ"
   },
   "source": [
    "## Fetch and Clean Smogon Usage Data"
   ]
  },
  {
   "cell_type": "code",
   "execution_count": 3,
   "metadata": {
    "colab": {},
    "colab_type": "code",
    "id": "UWfTpo7RNpcX"
   },
   "outputs": [
    {
     "data": {
      "text/html": [
       "<div>\n",
       "<style scoped>\n",
       "    .dataframe tbody tr th:only-of-type {\n",
       "        vertical-align: middle;\n",
       "    }\n",
       "\n",
       "    .dataframe tbody tr th {\n",
       "        vertical-align: top;\n",
       "    }\n",
       "\n",
       "    .dataframe thead th {\n",
       "        text-align: right;\n",
       "    }\n",
       "</style>\n",
       "<table border=\"1\" class=\"dataframe\">\n",
       "  <thead>\n",
       "    <tr style=\"text-align: right;\">\n",
       "      <th></th>\n",
       "      <th>Rank</th>\n",
       "      <th>Pokemon</th>\n",
       "      <th>Raw</th>\n",
       "      <th>%</th>\n",
       "    </tr>\n",
       "  </thead>\n",
       "  <tbody>\n",
       "    <tr>\n",
       "      <th>0</th>\n",
       "      <td>1</td>\n",
       "      <td>Groudon-Primal</td>\n",
       "      <td>274400</td>\n",
       "      <td>39.068%</td>\n",
       "    </tr>\n",
       "    <tr>\n",
       "      <th>1</th>\n",
       "      <td>2</td>\n",
       "      <td>Xerneas</td>\n",
       "      <td>198831</td>\n",
       "      <td>28.309%</td>\n",
       "    </tr>\n",
       "    <tr>\n",
       "      <th>2</th>\n",
       "      <td>3</td>\n",
       "      <td>Necrozma-Dusk-Mane</td>\n",
       "      <td>149044</td>\n",
       "      <td>21.220%</td>\n",
       "    </tr>\n",
       "    <tr>\n",
       "      <th>3</th>\n",
       "      <td>4</td>\n",
       "      <td>Yveltal</td>\n",
       "      <td>147205</td>\n",
       "      <td>20.959%</td>\n",
       "    </tr>\n",
       "    <tr>\n",
       "      <th>...</th>\n",
       "      <td>...</td>\n",
       "      <td>...</td>\n",
       "      <td>...</td>\n",
       "      <td>...</td>\n",
       "    </tr>\n",
       "    <tr>\n",
       "      <th>953</th>\n",
       "      <td>954</td>\n",
       "      <td>Karrablast</td>\n",
       "      <td>4</td>\n",
       "      <td>0.001%</td>\n",
       "    </tr>\n",
       "    <tr>\n",
       "      <th>954</th>\n",
       "      <td>955</td>\n",
       "      <td>Whismur</td>\n",
       "      <td>4</td>\n",
       "      <td>0.001%</td>\n",
       "    </tr>\n",
       "    <tr>\n",
       "      <th>955</th>\n",
       "      <td>956</td>\n",
       "      <td>Pumpkaboo-Large</td>\n",
       "      <td>2</td>\n",
       "      <td>0.000%</td>\n",
       "    </tr>\n",
       "    <tr>\n",
       "      <th>956</th>\n",
       "      <td>957</td>\n",
       "      <td>Lurantis-Totem</td>\n",
       "      <td>1</td>\n",
       "      <td>0.000%</td>\n",
       "    </tr>\n",
       "  </tbody>\n",
       "</table>\n",
       "<p>957 rows × 4 columns</p>\n",
       "</div>"
      ],
      "text/plain": [
       "    Rank             Pokemon     Raw        %\n",
       "0      1      Groudon-Primal  274400  39.068%\n",
       "1      2             Xerneas  198831  28.309%\n",
       "2      3  Necrozma-Dusk-Mane  149044  21.220%\n",
       "3      4             Yveltal  147205  20.959%\n",
       "..   ...                 ...     ...      ...\n",
       "953  954          Karrablast       4   0.001%\n",
       "954  955             Whismur       4   0.001%\n",
       "955  956     Pumpkaboo-Large       2   0.000%\n",
       "956  957      Lurantis-Totem       1   0.000%\n",
       "\n",
       "[957 rows x 4 columns]"
      ]
     },
     "execution_count": 3,
     "metadata": {},
     "output_type": "execute_result"
    }
   ],
   "source": [
    "data = urlopen(\"https://www.smogon.com/stats/2019-03/gen7ubers-0.txt\")\n",
    "usage = []\n",
    "for line in data:\n",
    "    decoded = line.decode('utf-8')\n",
    "    decoded = decoded.replace(\" \", \"\")\n",
    "    if decoded.startswith('|'):\n",
    "        # usage - weighted based on matchmaking rating\n",
    "        # raw - unweighted usage (on team)\n",
    "        # real - actually used in battle\n",
    "        decodedList = decoded.split('|')[1:-1]\n",
    "        decodedList.pop(2) # remove usage %\n",
    "        decodedList.pop() # remove real\n",
    "        decodedList.pop() # remove real %\n",
    "        usage.append(decodedList)\n",
    "smogon_df = pd.DataFrame(usage[1:], columns=usage[0])\n",
    "smogon_df"
   ]
  },
  {
   "cell_type": "markdown",
   "metadata": {},
   "source": [
    "The specific usage statistic we are interested is called \"raw [usage]\", as we do not want to weigh by a player's skill. In addition, a Pokémon merely appearing on a team means a player has made the decision to reserve a valuable team spot for a Pokémon. The \"usage\" and \"real\" columns have been dropped to make data manipulation easier.\n",
    "\n",
    "From now on, \"raw\" and \"usage\" both refer to the this raw statistic."
   ]
  },
  {
   "cell_type": "markdown",
   "metadata": {
    "colab_type": "text",
    "id": "MHxfVJQfJIkf"
   },
   "source": [
    "## Obtain List of Legendary and Mystical Pokémon from Bulbapedia"
   ]
  },
  {
   "cell_type": "code",
   "execution_count": 4,
   "metadata": {
    "colab": {
     "base_uri": "https://localhost:8080/",
     "height": 1207
    },
    "colab_type": "code",
    "id": "ZBpves8WAUAh",
    "outputId": "7500dcc4-5053-43e3-be23-1e6fad9d2283"
   },
   "outputs": [
    {
     "name": "stdout",
     "output_type": "stream",
     "text": [
      "['articuno', 'zapdos', 'moltres', 'mewtwo', 'mew', 'raikou', 'entei', 'suicune', 'lugia', 'ho-oh', 'celebi', 'regirock', 'regice', 'registeel', 'latias', 'latios', 'kyogre', 'groudon', 'rayquaza', 'jirachi', 'deoxys', 'uxie', 'mesprit', 'azelf', 'dialga', 'palkia', 'heatran', 'regigigas', 'giratina', 'cresselia', 'phione', 'manaphy', 'darkrai', 'shaymin', 'arceus', 'victini', 'cobalion', 'terrakion', 'virizion', 'tornadus', 'thundurus', 'reshiram', 'zekrom', 'landorus', 'kyurem', 'keldeo', 'meloetta', 'genesect', 'xerneas', 'yveltal', 'zygarde', 'diancie', 'hoopa', 'volcanion', 'type-null', 'silvally', 'tapu-koko', 'tapu-lele', 'tapu-bulu', 'tapu-fini', 'cosmog', 'cosmoem', 'solgaleo', 'lunala', 'necrozma', 'magearna', 'marshadow', 'zeraora', 'meltan', 'melmetal', 'zacian', 'zamazenta']\n"
     ]
    }
   ],
   "source": [
    "# scrape list of legendary and mystical pokemon from bulbapedia\n",
    "page = requests.get(\"https://bulbapedia.bulbagarden.net/wiki/Legendary_Pok%C3%A9mon\")\n",
    "soup = BeautifulSoup(page.content, 'html.parser')\n",
    "\n",
    "# list of <a> tags of legendary pokemon\n",
    "a_list = soup.select('td[style*=\"background: #e6e6ff\"] a')\n",
    "\n",
    "# extract text from <a> tags\n",
    "legend_list = [lp.get_text() for lp in a_list]\n",
    "\n",
    "# data cleaning: replace whitespace with hyphen, remove colon\n",
    "legend_list = [p.lower().replace(' ', '-').replace(':', '') for p in legend_list]\n",
    "legend_list_smogon = legend_list.copy()\n",
    "print(legend_list)"
   ]
  },
  {
   "cell_type": "markdown",
   "metadata": {},
   "source": [
    "Their page on legendary and mythical Pokémon has a convenient table at the end with a list of legendary Pokémon. We select this table and scrape it for a list of Pokémon names."
   ]
  },
  {
   "cell_type": "markdown",
   "metadata": {
    "colab_type": "text",
    "id": "JdrXsuZlKc26"
   },
   "source": [
    "## Test Legendary Name Validity by Searching Each Name in the API"
   ]
  },
  {
   "cell_type": "code",
   "execution_count": 5,
   "metadata": {
    "colab": {
     "base_uri": "https://localhost:8080/",
     "height": 187
    },
    "colab_type": "code",
    "id": "mMAUfppCG8v6",
    "outputId": "4e7dac0f-f86c-42e2-fddf-a1cf766653db"
   },
   "outputs": [
    {
     "name": "stdout",
     "output_type": "stream",
     "text": [
      "Cannot find deoxys\n",
      "Cannot find giratina\n",
      "Cannot find shaymin\n",
      "Cannot find tornadus\n",
      "Cannot find thundurus\n",
      "Cannot find landorus\n",
      "Cannot find keldeo\n",
      "Cannot find meloetta\n",
      "Cannot find meltan\n",
      "Cannot find melmetal\n",
      "Cannot find zacian\n",
      "Cannot find zamazenta\n"
     ]
    }
   ],
   "source": [
    "for p in legend_list:\n",
    "    try:\n",
    "        pb.pokemon(p)\n",
    "    except ValueError:\n",
    "        print(\"Cannot find\", p)"
   ]
  },
  {
   "cell_type": "markdown",
   "metadata": {
    "colab_type": "text",
    "id": "wcgNG2SGLcI_"
   },
   "source": [
    "## Handle Alternate Forms Manually\n",
    "\n",
    "In the Pokémon universe, each Pokémon species may have multiple forms. We want to make sure we properly classify each legendary species' form.\n",
    "\n",
    "P.S. Meltan and Melmetal, mythical Pokémon introduced in generation VII, haven't been added to the database at the moment. https://github.com/PokeAPI/pokeapi/issues/414\n",
    "\n",
    "P.S. Zacian and Zamazenta, new legendary Pokémon introduced in generation VIII, haven't been added to the database at the moment.  "
   ]
  },
  {
   "cell_type": "code",
   "execution_count": 6,
   "metadata": {
    "colab": {},
    "colab_type": "code",
    "id": "LQwJAJZ7J2Ah"
   },
   "outputs": [],
   "source": [
    "# deoxys: deoxys-normal, deoxys-attack, deoxys-defense, deoxys-speed\n",
    "try:\n",
    "    legend_list.remove('deoxys')\n",
    "    legend_list.extend(['deoxys-normal', 'deoxys-attack', 'deoxys-defense', 'deoxys-speed'])\n",
    "except ValueError:\n",
    "    print('Error')\n",
    "\n",
    "# giratina: giratina-altered, giratina-origin\n",
    "try:\n",
    "    legend_list.remove('giratina')\n",
    "    legend_list.extend(['giratina-altered', 'giratina-origin'])\n",
    "except ValueError:\n",
    "    print('Error')\n",
    "\n",
    "# shaymin: shaymin-land, shaymin-sky\n",
    "try:\n",
    "    legend_list.remove('shaymin')\n",
    "    legend_list.extend(['shaymin-land', 'shaymin-sky'])\n",
    "except ValueError:\n",
    "    print('Error')\n",
    "\n",
    "# tornadus: tornadus-incarnate, tornadus-therian\n",
    "try:\n",
    "    legend_list.remove('tornadus')\n",
    "    legend_list.extend(['tornadus-incarnate', 'tornadus-therian'])\n",
    "except ValueError:\n",
    "    print('Error')\n",
    "\n",
    "# thundurus: thundurus-incarnate, thundurus-therian\n",
    "try:\n",
    "    legend_list.remove('thundurus')\n",
    "    legend_list.extend(['thundurus-incarnate', 'thundurus-therian'])\n",
    "except ValueError:\n",
    "    print('Error')\n",
    "\n",
    "# landorus: landorus-incarnate, landorus-therian\n",
    "try:\n",
    "    legend_list.remove('landorus')\n",
    "    legend_list.extend(['landorus-incarnate', 'landorus-therian'])\n",
    "except ValueError:\n",
    "    print('Error')\n",
    "\n",
    "# keldeo: keldeo-ordinary, keldeo-resolute\n",
    "try:\n",
    "    legend_list.remove('keldeo')\n",
    "    legend_list.extend(['keldeo-ordinary', 'keldeo-resolute'])\n",
    "except ValueError:\n",
    "    print('Error')\n",
    "\n",
    "# meloetta: meloetta-aria, meloetta-pirouette\n",
    "try:\n",
    "    legend_list.remove('meloetta')\n",
    "    legend_list.extend(['meloetta-aria', 'meloetta-pirouette'])\n",
    "except ValueError:\n",
    "    print('Error')\n",
    "\n",
    "# meltan: remove for now\n",
    "try:\n",
    "    legend_list.remove('meltan')\n",
    "except ValueError:\n",
    "    print('Error')\n",
    "\n",
    "# melmetal: remove for now\n",
    "try:\n",
    "    legend_list.remove('melmetal')\n",
    "except ValueError:\n",
    "    print('Error')\n",
    "    \n",
    "# zacian: remove for now\n",
    "try:\n",
    "    legend_list.remove('zacian')\n",
    "except ValueError:\n",
    "    print('Error')\n",
    "\n",
    "# zamazenta: remove for now\n",
    "try:\n",
    "    legend_list.remove('zamazenta')\n",
    "except ValueError:\n",
    "    print('Error')"
   ]
  },
  {
   "cell_type": "markdown",
   "metadata": {
    "colab_type": "text",
    "id": "5BZbiJRxTzPm"
   },
   "source": [
    "## Test Again for Validity"
   ]
  },
  {
   "cell_type": "code",
   "execution_count": 7,
   "metadata": {
    "colab": {},
    "colab_type": "code",
    "id": "U9STW874Q1Hy"
   },
   "outputs": [],
   "source": [
    "for p in legend_list:\n",
    "    try:\n",
    "        pb.pokemon(p)\n",
    "    except ValueError:\n",
    "        print(\"Cannot find\", p)"
   ]
  },
  {
   "cell_type": "markdown",
   "metadata": {},
   "source": [
    "## Create CSV File for All Pokémon Info"
   ]
  },
  {
   "cell_type": "code",
   "execution_count": 8,
   "metadata": {},
   "outputs": [],
   "source": [
    "# #Only run if you need the DF in the code itself, the cell above should retrieve the file\n",
    "# import re\n",
    "# pokemonList = []\n",
    "# pokemonList.append(['ID', 'Pokemon', 'Legendary', 'Stat Total', 'ATK Sum', 'DEF Sum', 'Height', 'Weight', 'Type 1', 'Type 2'])\n",
    "\n",
    "# for pokemonID in range(1,808):\n",
    "#   pokemon_stats = []\n",
    "#   pokemon_info = pb.pokemon(pokemonID)\n",
    "  \n",
    "#   pokemon_stats.append(pokemonID) # Add ID\n",
    "#   pokemon_stats.append(pokemon_info.name) # Add Name\n",
    "#   pokemon_stats.append(pokemon_info.name in legend_list) # Add Legendary or Not\n",
    "#   pokemon_stats.extend([0,0,0]) # Add categories for stat totals\n",
    "#   pokemon_stats.append(pokemon_info.height) # Add Height\n",
    "#   pokemon_stats.append(pokemon_info.weight) # Add Weight\n",
    "\n",
    "#   print(pokemonID)\n",
    "#   j = 0 # Counter because I didnt want to change my code anymore\n",
    "#   for i in (pokemon_info.stats):\n",
    "#     stringStats = str(i)\n",
    "#     value = [int(s) for s in re.findall(r'\\b\\d+\\b', stringStats)[:1]]\n",
    "#     pokemon_stats[3] += value[0]\n",
    "#     pokemon_stats[4+(j%2)] += value[0]\n",
    "#     j += 1\n",
    "   \n",
    "#   for i in pokemon_info.types:\n",
    "#     stringType = str(i)\n",
    "#     typing = re.findall('\\'name\\': \\'(.+?)\\'', stringType)\n",
    "#     pokemon_stats.append(typing[0])\n",
    "    \n",
    "    \n",
    "#   if len(pokemon_info.types) == 1:\n",
    "#     pokemon_stats.append(\"N/A\")\n",
    "    \n",
    "#   pokemonList.append(pokemon_stats)\n",
    "\n",
    "# statsDF = pd.DataFrame(pokemonList[1:], columns=pokemonList[0])\n",
    "# statsDF.to_csv ('./statsDF.csv', index = None, header=True)\n",
    "\n",
    "# statsDF"
   ]
  },
  {
   "cell_type": "code",
   "execution_count": 9,
   "metadata": {},
   "outputs": [
    {
     "data": {
      "text/html": [
       "<div>\n",
       "<style scoped>\n",
       "    .dataframe tbody tr th:only-of-type {\n",
       "        vertical-align: middle;\n",
       "    }\n",
       "\n",
       "    .dataframe tbody tr th {\n",
       "        vertical-align: top;\n",
       "    }\n",
       "\n",
       "    .dataframe thead th {\n",
       "        text-align: right;\n",
       "    }\n",
       "</style>\n",
       "<table border=\"1\" class=\"dataframe\">\n",
       "  <thead>\n",
       "    <tr style=\"text-align: right;\">\n",
       "      <th></th>\n",
       "      <th>ID</th>\n",
       "      <th>Pokemon</th>\n",
       "      <th>Legendary</th>\n",
       "      <th>Stat Total</th>\n",
       "      <th>ATK Sum</th>\n",
       "      <th>DEF Sum</th>\n",
       "      <th>Height</th>\n",
       "      <th>Weight</th>\n",
       "      <th>Type 1</th>\n",
       "      <th>Type 2</th>\n",
       "    </tr>\n",
       "  </thead>\n",
       "  <tbody>\n",
       "    <tr>\n",
       "      <th>0</th>\n",
       "      <td>1</td>\n",
       "      <td>bulbasaur</td>\n",
       "      <td>False</td>\n",
       "      <td>318</td>\n",
       "      <td>159</td>\n",
       "      <td>159</td>\n",
       "      <td>7</td>\n",
       "      <td>69</td>\n",
       "      <td>poison</td>\n",
       "      <td>grass</td>\n",
       "    </tr>\n",
       "    <tr>\n",
       "      <th>1</th>\n",
       "      <td>2</td>\n",
       "      <td>ivysaur</td>\n",
       "      <td>False</td>\n",
       "      <td>405</td>\n",
       "      <td>202</td>\n",
       "      <td>203</td>\n",
       "      <td>10</td>\n",
       "      <td>130</td>\n",
       "      <td>poison</td>\n",
       "      <td>grass</td>\n",
       "    </tr>\n",
       "    <tr>\n",
       "      <th>2</th>\n",
       "      <td>3</td>\n",
       "      <td>venusaur</td>\n",
       "      <td>False</td>\n",
       "      <td>525</td>\n",
       "      <td>262</td>\n",
       "      <td>263</td>\n",
       "      <td>20</td>\n",
       "      <td>1000</td>\n",
       "      <td>poison</td>\n",
       "      <td>grass</td>\n",
       "    </tr>\n",
       "    <tr>\n",
       "      <th>3</th>\n",
       "      <td>4</td>\n",
       "      <td>charmander</td>\n",
       "      <td>False</td>\n",
       "      <td>309</td>\n",
       "      <td>177</td>\n",
       "      <td>132</td>\n",
       "      <td>6</td>\n",
       "      <td>85</td>\n",
       "      <td>fire</td>\n",
       "      <td>NaN</td>\n",
       "    </tr>\n",
       "    <tr>\n",
       "      <th>...</th>\n",
       "      <td>...</td>\n",
       "      <td>...</td>\n",
       "      <td>...</td>\n",
       "      <td>...</td>\n",
       "      <td>...</td>\n",
       "      <td>...</td>\n",
       "      <td>...</td>\n",
       "      <td>...</td>\n",
       "      <td>...</td>\n",
       "      <td>...</td>\n",
       "    </tr>\n",
       "    <tr>\n",
       "      <th>803</th>\n",
       "      <td>804</td>\n",
       "      <td>naganadel</td>\n",
       "      <td>False</td>\n",
       "      <td>540</td>\n",
       "      <td>321</td>\n",
       "      <td>219</td>\n",
       "      <td>36</td>\n",
       "      <td>1500</td>\n",
       "      <td>dragon</td>\n",
       "      <td>poison</td>\n",
       "    </tr>\n",
       "    <tr>\n",
       "      <th>804</th>\n",
       "      <td>805</td>\n",
       "      <td>stakataka</td>\n",
       "      <td>False</td>\n",
       "      <td>570</td>\n",
       "      <td>197</td>\n",
       "      <td>373</td>\n",
       "      <td>55</td>\n",
       "      <td>8200</td>\n",
       "      <td>steel</td>\n",
       "      <td>rock</td>\n",
       "    </tr>\n",
       "    <tr>\n",
       "      <th>805</th>\n",
       "      <td>806</td>\n",
       "      <td>blacephalon</td>\n",
       "      <td>False</td>\n",
       "      <td>570</td>\n",
       "      <td>385</td>\n",
       "      <td>185</td>\n",
       "      <td>18</td>\n",
       "      <td>130</td>\n",
       "      <td>ghost</td>\n",
       "      <td>fire</td>\n",
       "    </tr>\n",
       "    <tr>\n",
       "      <th>806</th>\n",
       "      <td>807</td>\n",
       "      <td>zeraora</td>\n",
       "      <td>True</td>\n",
       "      <td>600</td>\n",
       "      <td>357</td>\n",
       "      <td>243</td>\n",
       "      <td>15</td>\n",
       "      <td>445</td>\n",
       "      <td>electric</td>\n",
       "      <td>NaN</td>\n",
       "    </tr>\n",
       "  </tbody>\n",
       "</table>\n",
       "<p>807 rows × 10 columns</p>\n",
       "</div>"
      ],
      "text/plain": [
       "      ID      Pokemon  Legendary  Stat Total  ATK Sum  DEF Sum  Height  \\\n",
       "0      1    bulbasaur      False         318      159      159       7   \n",
       "1      2      ivysaur      False         405      202      203      10   \n",
       "2      3     venusaur      False         525      262      263      20   \n",
       "3      4   charmander      False         309      177      132       6   \n",
       "..   ...          ...        ...         ...      ...      ...     ...   \n",
       "803  804    naganadel      False         540      321      219      36   \n",
       "804  805    stakataka      False         570      197      373      55   \n",
       "805  806  blacephalon      False         570      385      185      18   \n",
       "806  807      zeraora       True         600      357      243      15   \n",
       "\n",
       "     Weight    Type 1  Type 2  \n",
       "0        69    poison   grass  \n",
       "1       130    poison   grass  \n",
       "2      1000    poison   grass  \n",
       "3        85      fire     NaN  \n",
       "..      ...       ...     ...  \n",
       "803    1500    dragon  poison  \n",
       "804    8200     steel    rock  \n",
       "805     130     ghost    fire  \n",
       "806     445  electric     NaN  \n",
       "\n",
       "[807 rows x 10 columns]"
      ]
     },
     "execution_count": 9,
     "metadata": {},
     "output_type": "execute_result"
    }
   ],
   "source": [
    "df = pd.read_csv('statsDF.csv')\n",
    "df"
   ]
  },
  {
   "cell_type": "markdown",
   "metadata": {
    "colab_type": "text",
    "id": "dTPd1pXcsIFJ"
   },
   "source": [
    "## Obtain List of Pokémon Types"
   ]
  },
  {
   "cell_type": "code",
   "execution_count": 10,
   "metadata": {
    "colab": {},
    "colab_type": "code",
    "id": "GdJIE2NLx5WS"
   },
   "outputs": [
    {
     "name": "stdout",
     "output_type": "stream",
     "text": [
      "['Normal', 'Fire', 'Fighting', 'Water', 'Flying', 'Grass', 'Poison', 'Electric', 'Ground', 'Psychic', 'Rock', 'Ice', 'Bug', 'Dragon', 'Ghost', 'Dark', 'Steel', 'Fairy']\n"
     ]
    }
   ],
   "source": [
    "# scrape list of pokemon types from bulbapedia\n",
    "page = requests.get(\"https://bulbapedia.bulbagarden.net/wiki/Type\")\n",
    "soup = BeautifulSoup(page.content, 'html.parser')\n",
    "\n",
    "# list of <a> tags of types\n",
    "a_list = soup.select('td a[title*=\"(type)\"]')\n",
    "\n",
    "# extract text from <a> tags\n",
    "type_list = [lp.get_text() for lp in a_list]\n",
    "\n",
    "# ignore ??? type\n",
    "type_list = type_list[:-1]\n",
    "print(type_list)"
   ]
  },
  {
   "cell_type": "markdown",
   "metadata": {},
   "source": [
    "## Match Legendary Names to Smogon Names"
   ]
  },
  {
   "cell_type": "code",
   "execution_count": 11,
   "metadata": {},
   "outputs": [
    {
     "name": "stdout",
     "output_type": "stream",
     "text": [
      "['Articuno', 'Zapdos', 'Moltres', 'Mewtwo', 'Mew', 'Raikou', 'Entei', 'Suicune', 'Lugia', 'Ho-Oh', 'Celebi', 'Regirock', 'Regice', 'Registeel', 'Latias', 'Latios', 'Kyogre', 'Groudon', 'Rayquaza', 'Jirachi', 'Deoxys', 'Uxie', 'Mesprit', 'Azelf', 'Dialga', 'Palkia', 'Heatran', 'Regigigas', 'Giratina', 'Cresselia', 'Phione', 'Manaphy', 'Darkrai', 'Shaymin', 'Arceus', 'Victini', 'Cobalion', 'Terrakion', 'Virizion', 'Tornadus', 'Thundurus', 'Reshiram', 'Zekrom', 'Landorus', 'Kyurem', 'Keldeo', 'Meloetta', 'Genesect', 'Xerneas', 'Yveltal', 'Zygarde', 'Diancie', 'Hoopa', 'Volcanion', 'Silvally', 'Cosmog', 'Cosmoem', 'Solgaleo', 'Lunala', 'Necrozma', 'Magearna', 'Marshadow', 'Zeraora', 'Zacian', 'Zamazenta', 'Deoxys-Attack', 'Deoxys-Defense', 'Deoxys-Speed', 'Giratina-Origin', 'Shaymin-Sky', 'Tornadus-Therian', 'Thundurus-Therian', 'Landorus-Therian', 'TapuKoko', 'TapuLele', 'TapuBulu', 'TapuFini', 'Type:Null']\n"
     ]
    }
   ],
   "source": [
    "legend_list_smogon.extend(['deoxys-attack', 'deoxys-defense', 'deoxys-speed'])\n",
    "legend_list_smogon.extend(['giratina-origin'])\n",
    "legend_list_smogon.extend(['shaymin-sky'])\n",
    "legend_list_smogon.extend(['tornadus-therian'])\n",
    "legend_list_smogon.extend(['thundurus-therian'])\n",
    "legend_list_smogon.extend(['landorus-therian'])\n",
    "\n",
    "try:\n",
    "    legend_list_smogon.remove('meltan')\n",
    "except ValueError:\n",
    "    print('Error')\n",
    "\n",
    "try:\n",
    "    legend_list_smogon.remove('melmetal')\n",
    "except ValueError:\n",
    "    print('Error')\n",
    "\n",
    "# smogon pokemon names are captialized\n",
    "legend_list_smogon = [str.title(name) for name in legend_list_smogon]\n",
    "\n",
    "try:\n",
    "    legend_list_smogon.remove('Tapu-Koko')\n",
    "    legend_list_smogon.extend(['TapuKoko'])\n",
    "except ValueError:\n",
    "    print('Error')\n",
    "\n",
    "try:\n",
    "    legend_list_smogon.remove('Tapu-Lele')\n",
    "    legend_list_smogon.extend(['TapuLele'])\n",
    "except ValueError:\n",
    "    print('Error')\n",
    "\n",
    "try:\n",
    "    legend_list_smogon.remove('Tapu-Bulu')\n",
    "    legend_list_smogon.extend(['TapuBulu'])\n",
    "except ValueError:\n",
    "    print('Error')\n",
    "\n",
    "try:\n",
    "    legend_list_smogon.remove('Tapu-Fini')\n",
    "    legend_list_smogon.extend(['TapuFini'])\n",
    "except ValueError:\n",
    "    print('Error')\n",
    "\n",
    "try:\n",
    "    legend_list_smogon.remove('Type-Null')\n",
    "    legend_list_smogon.extend(['Type:Null'])\n",
    "except ValueError:\n",
    "    print('Error')\n",
    "    \n",
    "print(legend_list_smogon)"
   ]
  },
  {
   "cell_type": "markdown",
   "metadata": {},
   "source": [
    "Smogon's name formatting is somewhat different than the format we use elsewhere in this notebook. We are doing some manual editing for entries that differ to match the naming used by Smogon."
   ]
  },
  {
   "cell_type": "markdown",
   "metadata": {},
   "source": [
    "# Part 2: Smogon Competitive Usage Data Analysis"
   ]
  },
  {
   "cell_type": "markdown",
   "metadata": {
    "colab_type": "text",
    "id": "APqKfds8MJyI"
   },
   "source": [
    "## Visualizing Smogon Usage Data"
   ]
  },
  {
   "cell_type": "code",
   "execution_count": 12,
   "metadata": {
    "colab": {
     "base_uri": "https://localhost:8080/",
     "height": 1969
    },
    "colab_type": "code",
    "id": "sojCmvSF_URY",
    "outputId": "f626337a-2a19-45e2-ee6c-075a5ae125fc"
   },
   "outputs": [
    {
     "data": {
      "image/png": "[encoded data removed]",
      "text/plain": [
       "<Figure size 432x288 with 1 Axes>"
      ]
     },
     "metadata": {
      "needs_background": "light"
     },
     "output_type": "display_data"
    },
    {
     "data": {
      "text/html": [
       "<div>\n",
       "<style scoped>\n",
       "    .dataframe tbody tr th:only-of-type {\n",
       "        vertical-align: middle;\n",
       "    }\n",
       "\n",
       "    .dataframe tbody tr th {\n",
       "        vertical-align: top;\n",
       "    }\n",
       "\n",
       "    .dataframe thead th {\n",
       "        text-align: right;\n",
       "    }\n",
       "</style>\n",
       "<table border=\"1\" class=\"dataframe\">\n",
       "  <thead>\n",
       "    <tr style=\"text-align: right;\">\n",
       "      <th></th>\n",
       "      <th>Type</th>\n",
       "      <th>Raw Usage</th>\n",
       "    </tr>\n",
       "  </thead>\n",
       "  <tbody>\n",
       "    <tr>\n",
       "      <th>0</th>\n",
       "      <td>Legendary</td>\n",
       "      <td>2319636</td>\n",
       "    </tr>\n",
       "    <tr>\n",
       "      <th>1</th>\n",
       "      <td>Normal</td>\n",
       "      <td>1848922</td>\n",
       "    </tr>\n",
       "  </tbody>\n",
       "</table>\n",
       "</div>"
      ],
      "text/plain": [
       "        Type  Raw Usage\n",
       "0  Legendary    2319636\n",
       "1     Normal    1848922"
      ]
     },
     "execution_count": 12,
     "metadata": {},
     "output_type": "execute_result"
    }
   ],
   "source": [
    "# convert string to number\n",
    "smogon_df['Raw'] = smogon_df['Raw'].astype(int)\n",
    "\n",
    "# using legend_list_smogon, split dataframe\n",
    "smogon_legend_df = smogon_df[smogon_df['Pokemon'].str.contains('|'.join(legend_list_smogon))].copy()\n",
    "smogon_legend_df['Rank'] = smogon_legend_df['Rank'].astype(int)\n",
    "smogon_normal_df = smogon_df[-smogon_df['Pokemon'].str.contains('|'.join(legend_list_smogon))].copy()\n",
    "smogon_normal_df['Rank'] = smogon_normal_df['Rank'].astype(int)\n",
    "\n",
    "# plot raw usage of legendaries vs normal\n",
    "smogon_usage_overall_graph_data = [\n",
    "  ['Legendary', smogon_legend_df['Raw'].sum()],\n",
    "  ['Normal', smogon_normal_df['Raw'].sum()]\n",
    "]\n",
    "smogon_usage_overall_graph_df = pd.DataFrame(smogon_usage_overall_graph_data, columns = ['Type', 'Raw Usage'])\n",
    "ax_smogon_usage_overall = smogon_usage_overall_graph_df.plot.bar(x = 'Type', y = 'Raw Usage', \n",
    "  title = 'Smogon Ubers Overall Combined Raw Usage', legend = False, color = ['orange', 'blue'])\n",
    "ax_smogon_usage_overall.set_xlabel('Type')\n",
    "ax_smogon_usage_overall.set_ylabel('Raw Usage')\n",
    "plt.show()\n",
    "smogon_usage_overall_graph_df"
   ]
  },
  {
   "cell_type": "markdown",
   "metadata": {},
   "source": [
    "Comparing the overall combined raw usage of legendary against normal Pokémon, we can see that legendary Pokémon are somewhat more popular in team compositions by a difference of 22.58%. "
   ]
  },
  {
   "cell_type": "code",
   "execution_count": 13,
   "metadata": {},
   "outputs": [
    {
     "data": {
      "image/png": "[encoded data removed]",
      "text/plain": [
       "<Figure size 432x288 with 1 Axes>"
      ]
     },
     "metadata": {
      "needs_background": "light"
     },
     "output_type": "display_data"
    },
    {
     "data": {
      "text/html": [
       "<div>\n",
       "<style scoped>\n",
       "    .dataframe tbody tr th:only-of-type {\n",
       "        vertical-align: middle;\n",
       "    }\n",
       "\n",
       "    .dataframe tbody tr th {\n",
       "        vertical-align: top;\n",
       "    }\n",
       "\n",
       "    .dataframe thead th {\n",
       "        text-align: right;\n",
       "    }\n",
       "</style>\n",
       "<table border=\"1\" class=\"dataframe\">\n",
       "  <thead>\n",
       "    <tr style=\"text-align: right;\">\n",
       "      <th></th>\n",
       "      <th>Type</th>\n",
       "      <th>Usage</th>\n",
       "    </tr>\n",
       "  </thead>\n",
       "  <tbody>\n",
       "    <tr>\n",
       "      <th>0</th>\n",
       "      <td>Legendary</td>\n",
       "      <td>2900.0</td>\n",
       "    </tr>\n",
       "    <tr>\n",
       "      <th>1</th>\n",
       "      <td>Normal</td>\n",
       "      <td>321.0</td>\n",
       "    </tr>\n",
       "  </tbody>\n",
       "</table>\n",
       "</div>"
      ],
      "text/plain": [
       "        Type   Usage\n",
       "0  Legendary  2900.0\n",
       "1     Normal   321.0"
      ]
     },
     "execution_count": 13,
     "metadata": {},
     "output_type": "execute_result"
    }
   ],
   "source": [
    "smogon_graph_data_usage = [\n",
    "  ['Legendary', smogon_legend_df['Raw'].median()],\n",
    "  ['Normal', smogon_normal_df['Raw'].median()]\n",
    "]\n",
    "smogon_usage_graph_df = pd.DataFrame(smogon_graph_data_usage, columns = ['Type', 'Usage'])\n",
    "ax_smogon_usage = smogon_usage_graph_df.plot.bar(x = 'Type', y = 'Usage', title = 'Smogon Ubers Median Raw Usage',\n",
    "  legend = False, color = ['orange', 'blue'])\n",
    "ax_smogon_usage.set_xlabel('Type')\n",
    "ax_smogon_usage.set_ylabel('Usage')\n",
    "plt.show()\n",
    "smogon_usage_graph_df"
   ]
  },
  {
   "cell_type": "markdown",
   "metadata": {},
   "source": [
    "Here, we graph the median usage. The median has been chosen over the mean as it is more robust to potential outliers. Comparing the two usage medians, legendary usage appears to be ahead by a staggering amount. We should graph each individual usage to see what is happening."
   ]
  },
  {
   "cell_type": "code",
   "execution_count": 14,
   "metadata": {},
   "outputs": [
    {
     "data": {
      "image/png": "[encoded data removed]",
      "text/plain": [
       "<Figure size 432x288 with 1 Axes>"
      ]
     },
     "metadata": {
      "needs_background": "light"
     },
     "output_type": "display_data"
    }
   ],
   "source": [
    "# plot raw usage against rank\n",
    "plt.scatter(smogon_legend_df['Rank'], smogon_legend_df['Raw'], color = 'orange')\n",
    "plt.scatter(smogon_normal_df['Rank'], smogon_normal_df['Raw'], color = 'blue')\n",
    "plt.title('Smogon Ubers Rank vs. Raw Usage')\n",
    "plt.xlabel('Rank')\n",
    "plt.ylabel('Raw Usage')\n",
    "plt.xticks([1, *range(100, len(smogon_df), 100)])\n",
    "plt.legend(['Legendary', 'Normal'])\n",
    "plt.show()"
   ]
  },
  {
   "cell_type": "markdown",
   "metadata": {},
   "source": [
    "Here, we plot the raw usage of each Pokémon against their rank. It is apparent that usage is exponential, meaning only a certain amount of Pokémon are widely used and the rest quickly fall off in usage. In addition, at first glance it would appear that legendary Pokémon seem to dominate the upper ranks. It is hard to tell for sure without a further breakdown since the dots overlap each other. "
   ]
  },
  {
   "cell_type": "code",
   "execution_count": 15,
   "metadata": {},
   "outputs": [
    {
     "name": "stdout",
     "output_type": "stream",
     "text": [
      "Legendary:\n",
      " count       123.000000\n",
      "mean      18858.829268\n",
      "std       40850.295869\n",
      "min          25.000000\n",
      "25%         818.000000\n",
      "50%        2900.000000\n",
      "75%       17505.500000\n",
      "max      274400.000000\n",
      "Name: Raw, dtype: float64 \n",
      "\n",
      "Normal:\n",
      " count      834.000000\n",
      "mean      2216.932854\n",
      "std       6011.370972\n",
      "min          1.000000\n",
      "25%         63.000000\n",
      "50%        321.000000\n",
      "75%       1701.750000\n",
      "max      68805.000000\n",
      "Name: Raw, dtype: float64\n"
     ]
    }
   ],
   "source": [
    "print('Legendary:\\n', smogon_legend_df['Raw'].describe(), '\\n\\nNormal:\\n', smogon_normal_df['Raw'].describe())"
   ]
  },
  {
   "cell_type": "markdown",
   "metadata": {},
   "source": [
    "Looking at the statistics and graph of all legendary and normal Pokémon, our data is subject to extreme skew due to the amount of Pokémon that remain relatively unused. Thus, we will visualize the most used Pokémon to make it easier to analyze. We decided on the top 10% usage of all Pokémon, which rounds up to 96."
   ]
  },
  {
   "cell_type": "markdown",
   "metadata": {},
   "source": [
    "### Visualizing Just the Top 10%"
   ]
  },
  {
   "cell_type": "code",
   "execution_count": 16,
   "metadata": {},
   "outputs": [
    {
     "data": {
      "image/png": "[encoded data removed]",
      "text/plain": [
       "<Figure size 432x288 with 1 Axes>"
      ]
     },
     "metadata": {},
     "output_type": "display_data"
    },
    {
     "data": {
      "text/html": [
       "<div>\n",
       "<style scoped>\n",
       "    .dataframe tbody tr th:only-of-type {\n",
       "        vertical-align: middle;\n",
       "    }\n",
       "\n",
       "    .dataframe tbody tr th {\n",
       "        vertical-align: top;\n",
       "    }\n",
       "\n",
       "    .dataframe thead th {\n",
       "        text-align: right;\n",
       "    }\n",
       "</style>\n",
       "<table border=\"1\" class=\"dataframe\">\n",
       "  <thead>\n",
       "    <tr style=\"text-align: right;\">\n",
       "      <th></th>\n",
       "      <th>Type</th>\n",
       "      <th>Count</th>\n",
       "    </tr>\n",
       "  </thead>\n",
       "  <tbody>\n",
       "    <tr>\n",
       "      <th>0</th>\n",
       "      <td>Legendary</td>\n",
       "      <td>45</td>\n",
       "    </tr>\n",
       "    <tr>\n",
       "      <th>1</th>\n",
       "      <td>Normal</td>\n",
       "      <td>51</td>\n",
       "    </tr>\n",
       "  </tbody>\n",
       "</table>\n",
       "</div>"
      ],
      "text/plain": [
       "        Type  Count\n",
       "0  Legendary     45\n",
       "1     Normal     51"
      ]
     },
     "execution_count": 16,
     "metadata": {},
     "output_type": "execute_result"
    }
   ],
   "source": [
    "# get top x% used\n",
    "smogon_top_count = math.ceil(len(smogon_df) * 0.1) # used for the cutoffs\n",
    "smogon_legend_top_df = (smogon_legend_df[smogon_legend_df['Rank'] <= smogon_top_count])\n",
    "smogon_normal_top_df = (smogon_normal_df[smogon_normal_df['Rank'] <= smogon_top_count])\n",
    "\n",
    "smogon_num_legend_top = smogon_legend_top_df['Rank'].size\n",
    "smogon_num_normal_top = smogon_normal_top_df['Rank'].size\n",
    "smogon_num_graph_data = [\n",
    "  ['Legendary', smogon_num_legend_top],\n",
    "  ['Normal', smogon_num_normal_top]\n",
    "]\n",
    "smogon_num_graph_top_df = pd.DataFrame(smogon_num_graph_data, columns = ['Type', 'Count'])\n",
    "ax_smogon_num_top = smogon_num_graph_top_df.plot.pie(x = 'Type', y = 'Count', title = 'Smogon Ubers Top 10% ({}) Used Composition'.format(smogon_top_count),\n",
    "  legend = False, colors = ['orange', 'blue'], labels = ['Legendary', 'Normal'])\n",
    "plt.show()\n",
    "smogon_num_graph_top_df"
   ]
  },
  {
   "cell_type": "code",
   "execution_count": 17,
   "metadata": {},
   "outputs": [
    {
     "name": "stdout",
     "output_type": "stream",
     "text": [
      "Legendary in Top 10%:\n",
      " count        45.000000\n",
      "mean      48429.933333\n",
      "std       56661.093534\n",
      "min        8907.000000\n",
      "25%       15831.000000\n",
      "50%       23644.000000\n",
      "75%       53916.000000\n",
      "max      274400.000000\n",
      "Name: Raw, dtype: float64 \n",
      "\n",
      "Normal in Top 10%:\n",
      " count       51.000000\n",
      "mean     20206.274510\n",
      "std      14432.625164\n",
      "min       8051.000000\n",
      "25%       9928.000000\n",
      "50%      15080.000000\n",
      "75%      24082.500000\n",
      "max      68805.000000\n",
      "Name: Raw, dtype: float64\n"
     ]
    }
   ],
   "source": [
    "print('Legendary in Top 10%:\\n', smogon_legend_top_df['Raw'].describe(), \\\n",
    "      '\\n\\nNormal in Top 10%:\\n', smogon_normal_top_df['Raw'].describe())"
   ]
  },
  {
   "cell_type": "markdown",
   "metadata": {},
   "source": [
    "Looking at the statistcs of the top 10%, we can see this is somewhat more reasonable than analyzing them all. In the top 10%, there are more normal Pokémon than legendary Pokémon by a difference of 12.50%. However, the difference in usage is still quite large."
   ]
  },
  {
   "cell_type": "code",
   "execution_count": 18,
   "metadata": {},
   "outputs": [
    {
     "data": {
      "image/png": "[encoded data removed]",
      "text/plain": [
       "<Figure size 432x288 with 1 Axes>"
      ]
     },
     "metadata": {
      "needs_background": "light"
     },
     "output_type": "display_data"
    },
    {
     "data": {
      "text/html": [
       "<div>\n",
       "<style scoped>\n",
       "    .dataframe tbody tr th:only-of-type {\n",
       "        vertical-align: middle;\n",
       "    }\n",
       "\n",
       "    .dataframe tbody tr th {\n",
       "        vertical-align: top;\n",
       "    }\n",
       "\n",
       "    .dataframe thead th {\n",
       "        text-align: right;\n",
       "    }\n",
       "</style>\n",
       "<table border=\"1\" class=\"dataframe\">\n",
       "  <thead>\n",
       "    <tr style=\"text-align: right;\">\n",
       "      <th></th>\n",
       "      <th>Type</th>\n",
       "      <th>Usage</th>\n",
       "    </tr>\n",
       "  </thead>\n",
       "  <tbody>\n",
       "    <tr>\n",
       "      <th>0</th>\n",
       "      <td>Legendary</td>\n",
       "      <td>23644.0</td>\n",
       "    </tr>\n",
       "    <tr>\n",
       "      <th>1</th>\n",
       "      <td>Normal</td>\n",
       "      <td>15080.0</td>\n",
       "    </tr>\n",
       "  </tbody>\n",
       "</table>\n",
       "</div>"
      ],
      "text/plain": [
       "        Type    Usage\n",
       "0  Legendary  23644.0\n",
       "1     Normal  15080.0"
      ]
     },
     "execution_count": 18,
     "metadata": {},
     "output_type": "execute_result"
    }
   ],
   "source": [
    "# get the makeup of the top x% used\n",
    "smogon_num_graph_data_usage = [\n",
    "  ['Legendary', smogon_legend_top_df['Raw'].median()],\n",
    "  ['Normal', smogon_normal_top_df['Raw'].median()]\n",
    "]\n",
    "smogon_usage_top_graph_df = pd.DataFrame(smogon_num_graph_data_usage, columns = ['Type', 'Usage'])\n",
    "ax_smogon_usage_top = smogon_usage_top_graph_df.plot.bar(x = 'Type', y = 'Usage', title = 'Smogon Ubers Top 10% ({}) Median Raw Usage'.format(smogon_top_count),\n",
    "  legend = False, color = ['orange', 'blue'])\n",
    "ax_smogon_usage_top.set_xlabel('Type')\n",
    "ax_smogon_usage_top.set_ylabel('Usage')\n",
    "plt.show()\n",
    "smogon_usage_top_graph_df"
   ]
  },
  {
   "cell_type": "markdown",
   "metadata": {},
   "source": [
    "Again, the medians have been graphed instead of the mean as the maximum legendary usage is quite large, and the median is more robust in this scenario. Looking at just the top 10% medians of raw usage, legendary Pokémon are still used far more than normal Pokémon by a difference of 50.84%."
   ]
  },
  {
   "cell_type": "markdown",
   "metadata": {},
   "source": [
    "## Analysis of Usage Results"
   ]
  },
  {
   "cell_type": "markdown",
   "metadata": {},
   "source": [
    "The usage of legendary Pokémon compared to normal Pokémon is undoubtedly larger. This is especially true at the very top - the difference between the most used legendary Pokémon far surpass the normal Pokémon. With this usage difference, the fact that there are ten more normal Pokémon than legendary in the top 10% may be surprising. However, it is important to note that there are vastly more normal Pokémon than legendary. Smogon has 838 entries that are classified as normal, compared to 119 that are classified as legendary. With that many more normal Pokémon, there are bound to be quite a few normal Pokémon that can be considered a valuable addition to the team. Regardless, this large difference in usage between legendary and normal Pokémon is significant and must be due to some kind of attribute differences legendary Pokémon possess. In the next part, we will look at the objective data of legendary Pokémon against normal Pokemon."
   ]
  },
  {
   "cell_type": "markdown",
   "metadata": {},
   "source": [
    "# Part 3: Physical Attributes Analysis"
   ]
  },
  {
   "cell_type": "markdown",
   "metadata": {},
   "source": [
    "## 3.1 Weight vs. Height\n",
    "\n",
    "Using a scatter plots, we can examine the relationship between the height and weight of all Pokémon. The plots below show how most Pokémon's measurements concentrate toward the bottom left corner, whereas there are only a few outliers."
   ]
  },
  {
   "cell_type": "markdown",
   "metadata": {},
   "source": [
    "### Non-legendaries"
   ]
  },
  {
   "cell_type": "code",
   "execution_count": 19,
   "metadata": {},
   "outputs": [
    {
     "data": {
      "text/plain": [
       "[Text(0, 0.5, 'Height (decimetres)'), Text(0.5, 0, 'Weight (hectograms)')]"
      ]
     },
     "execution_count": 19,
     "metadata": {},
     "output_type": "execute_result"
    },
    {
     "data": {
      "image/png": "[encoded data removed]",
      "text/plain": [
       "<Figure size 432x288 with 1 Axes>"
      ]
     },
     "metadata": {
      "needs_background": "light"
     },
     "output_type": "display_data"
    }
   ],
   "source": [
    "df[~df['Pokemon'].isin(legend_list)][['Height', 'Weight']].plot.scatter('Weight', 'Height').set(xlabel='Weight (hectograms)', ylabel='Height (decimetres)')"
   ]
  },
  {
   "cell_type": "markdown",
   "metadata": {},
   "source": [
    "At first glance, we can see in the scatter plot that the bulk of Non-Legendary Pokémons’ Height and Weight are concentrated in the bottom left. This indicates that Non-Legendaries tend to be smaller in size."
   ]
  },
  {
   "cell_type": "markdown",
   "metadata": {},
   "source": [
    "### Legendaries"
   ]
  },
  {
   "cell_type": "code",
   "execution_count": 20,
   "metadata": {},
   "outputs": [
    {
     "data": {
      "text/plain": [
       "[Text(0, 0.5, 'Height (decimetres)'), Text(0.5, 0, 'Weight (hectograms)')]"
      ]
     },
     "execution_count": 20,
     "metadata": {},
     "output_type": "execute_result"
    },
    {
     "data": {
      "image/png": "[encoded data removed]",
      "text/plain": [
       "<Figure size 432x288 with 1 Axes>"
      ]
     },
     "metadata": {
      "needs_background": "light"
     },
     "output_type": "display_data"
    }
   ],
   "source": [
    "df[df['Pokemon'].isin(legend_list)][['Height', 'Weight']].plot.scatter('Weight', 'Height', c='orange').set(xlabel='Weight (hectograms)', ylabel='Height (decimetres)')"
   ]
  },
  {
   "cell_type": "markdown",
   "metadata": {},
   "source": [
    "For this scatterplot, the first thing to note is that there is significantly less Legendary Pokémons than Non-Legendaries. Additionally, we can see that the Height and Weight for Legendaries vary extremely - with most being in the larger range."
   ]
  },
  {
   "cell_type": "markdown",
   "metadata": {},
   "source": [
    "### Combined"
   ]
  },
  {
   "cell_type": "code",
   "execution_count": 21,
   "metadata": {},
   "outputs": [
    {
     "data": {
      "text/plain": [
       "[Text(0, 0.5, 'Height (decimetres)'), Text(0.5, 0, 'Weight (hectograms)')]"
      ]
     },
     "execution_count": 21,
     "metadata": {},
     "output_type": "execute_result"
    },
    {
     "data": {
      "image/png": "[encoded data removed]",
      "text/plain": [
       "<Figure size 432x288 with 1 Axes>"
      ]
     },
     "metadata": {
      "needs_background": "light"
     },
     "output_type": "display_data"
    }
   ],
   "source": [
    "ax = df[~df['Pokemon'].isin(legend_list)][['Height', 'Weight']].plot('Weight', 'Height', kind='scatter')\n",
    "df[df['Pokemon'].isin(legend_list)][['Height', 'Weight']].plot('Weight', 'Height', kind='scatter', c='orange', ax=ax).set(xlabel='Weight (hectograms)', ylabel='Height (decimetres)')"
   ]
  },
  {
   "cell_type": "markdown",
   "metadata": {},
   "source": [
    "Combining both scatter plots shows that although Legendary Pokémons are larger in size, there are exceptions to this case. An outlier example being that there is a Non-Legendary that is the tallest out of all Pokémon. Another irrational outlier is that there is a Legendary that is short but is the heaviest Pokémon overall."
   ]
  },
  {
   "cell_type": "markdown",
   "metadata": {},
   "source": [
    "### Means of Weight and Height\n",
    "\n",
    "Legendary mean: maroon  \n",
    "Regular mean: cyan"
   ]
  },
  {
   "cell_type": "code",
   "execution_count": 22,
   "metadata": {},
   "outputs": [
    {
     "name": "stdout",
     "output_type": "stream",
     "text": [
      "Legendary Pokemon average weight:  1716.66 ; average height:  20.66\n",
      "Regular Pokemon average weight:  516.59 ; average height:  10.79\n"
     ]
    },
    {
     "data": {
      "text/plain": [
       "[Text(0, 0.5, 'Height (decimetres)'), Text(0.5, 0, 'Weight (hectograms)')]"
      ]
     },
     "execution_count": 22,
     "metadata": {},
     "output_type": "execute_result"
    },
    {
     "data": {
      "image/png": "[encoded data removed]",
      "text/plain": [
       "<Figure size 432x288 with 1 Axes>"
      ]
     },
     "metadata": {
      "needs_background": "light"
     },
     "output_type": "display_data"
    }
   ],
   "source": [
    "# legendary average height\n",
    "l_h_mean = df[df['Pokemon'].isin(legend_list)]['Height'].mean()\n",
    "\n",
    "# legendary average weight\n",
    "l_w_mean = df[df['Pokemon'].isin(legend_list)]['Weight'].mean()\n",
    "\n",
    "# regular average height\n",
    "r_h_mean = df[~df['Pokemon'].isin(legend_list)]['Height'].mean()\n",
    "\n",
    "# regular avaerage weight\n",
    "r_w_mean = df[~df['Pokemon'].isin(legend_list)]['Weight'].mean()\n",
    "\n",
    "# calculate means\n",
    "df_l_mean = pd.DataFrame({\"Weight\":[l_w_mean], \"Height\":[l_h_mean]})\n",
    "df_r_mean = pd.DataFrame({\"Weight\":[r_w_mean], \"Height\":[r_h_mean]})\n",
    "print('Legendary Pokemon average weight: ', round(df_l_mean.loc[0]['Weight'], 2), '; average height: ', round(df_l_mean.loc[0]['Height'], 2))\n",
    "print('Regular Pokemon average weight: ', round(df_r_mean.loc[0]['Weight'], 2), '; average height: ', round(df_r_mean.loc[0]['Height'], 2))\n",
    "\n",
    "# plot\n",
    "ax = df[~df['Pokemon'].isin(legend_list)][['Height', 'Weight']].plot('Weight', 'Height', kind='scatter')\n",
    "df[df['Pokemon'].isin(legend_list)][['Height', 'Weight']].plot('Weight', 'Height', kind='scatter', c='orange', ax=ax)\n",
    "df_l_mean.plot.scatter('Weight', 'Height', c=\"maroon\", s=140, ax = ax)\n",
    "df_r_mean.plot.scatter('Weight', 'Height', c=\"cyan\", s=140, ax = ax).set(xlabel='Weight (hectograms)', ylabel='Height (decimetres)')\n"
   ]
  },
  {
   "cell_type": "markdown",
   "metadata": {},
   "source": [
    "We plot the mean Height and Weight data to display the combined average Height & Weight of Legendary and Non-Legendary, individually, amongst all Pokémons. This data also includes outliers but they do not affect the data substantially, as there are many other data points we are analyzing."
   ]
  },
  {
   "cell_type": "markdown",
   "metadata": {},
   "source": [
    "Additionally from the plot above, we can conclude that the average legendary Pokémon is likely to be taller and heavier than the average non-legendary Pokémon."
   ]
  },
  {
   "cell_type": "markdown",
   "metadata": {},
   "source": [
    "## 3.2 Types"
   ]
  },
  {
   "cell_type": "markdown",
   "metadata": {},
   "source": [
    "Lets identify what typings legendary Pokemon typically are. First we need to separate the legendary data from the overall dataframe"
   ]
  },
  {
   "cell_type": "markdown",
   "metadata": {},
   "source": [
    "### Make a list of Pokémon Types"
   ]
  },
  {
   "cell_type": "code",
   "execution_count": 23,
   "metadata": {},
   "outputs": [],
   "source": [
    "legendsDf = df[df['Pokemon'].isin(legend_list)]\n",
    "\n",
    "legend_types = list(legendsDf['Type 1']) + list(legendsDf['Type 2'])\n",
    "types = list(df['Type 1']) + list(df['Type 2'])\n",
    "\n",
    "legendTypeCount = pd.Series(legend_types).value_counts().append(pd.Series([0],['poison']))\n",
    "regularTypeCount = pd.Series(types).value_counts()"
   ]
  },
  {
   "cell_type": "code",
   "execution_count": 24,
   "metadata": {},
   "outputs": [
    {
     "data": {
      "text/html": [
       "<div>\n",
       "<style scoped>\n",
       "    .dataframe tbody tr th:only-of-type {\n",
       "        vertical-align: middle;\n",
       "    }\n",
       "\n",
       "    .dataframe tbody tr th {\n",
       "        vertical-align: top;\n",
       "    }\n",
       "\n",
       "    .dataframe thead th {\n",
       "        text-align: right;\n",
       "    }\n",
       "</style>\n",
       "<table border=\"1\" class=\"dataframe\">\n",
       "  <thead>\n",
       "    <tr style=\"text-align: right;\">\n",
       "      <th></th>\n",
       "      <th>ID</th>\n",
       "      <th>Pokemon</th>\n",
       "      <th>Legendary</th>\n",
       "      <th>Stat Total</th>\n",
       "      <th>ATK Sum</th>\n",
       "      <th>DEF Sum</th>\n",
       "      <th>Height</th>\n",
       "      <th>Weight</th>\n",
       "      <th>Type 1</th>\n",
       "      <th>Type 2</th>\n",
       "    </tr>\n",
       "  </thead>\n",
       "  <tbody>\n",
       "    <tr>\n",
       "      <th>143</th>\n",
       "      <td>144</td>\n",
       "      <td>articuno</td>\n",
       "      <td>True</td>\n",
       "      <td>580</td>\n",
       "      <td>265</td>\n",
       "      <td>315</td>\n",
       "      <td>17</td>\n",
       "      <td>554</td>\n",
       "      <td>flying</td>\n",
       "      <td>ice</td>\n",
       "    </tr>\n",
       "    <tr>\n",
       "      <th>144</th>\n",
       "      <td>145</td>\n",
       "      <td>zapdos</td>\n",
       "      <td>True</td>\n",
       "      <td>580</td>\n",
       "      <td>315</td>\n",
       "      <td>265</td>\n",
       "      <td>16</td>\n",
       "      <td>526</td>\n",
       "      <td>flying</td>\n",
       "      <td>electric</td>\n",
       "    </tr>\n",
       "    <tr>\n",
       "      <th>145</th>\n",
       "      <td>146</td>\n",
       "      <td>moltres</td>\n",
       "      <td>True</td>\n",
       "      <td>580</td>\n",
       "      <td>315</td>\n",
       "      <td>265</td>\n",
       "      <td>20</td>\n",
       "      <td>600</td>\n",
       "      <td>flying</td>\n",
       "      <td>fire</td>\n",
       "    </tr>\n",
       "    <tr>\n",
       "      <th>149</th>\n",
       "      <td>150</td>\n",
       "      <td>mewtwo</td>\n",
       "      <td>True</td>\n",
       "      <td>680</td>\n",
       "      <td>394</td>\n",
       "      <td>286</td>\n",
       "      <td>20</td>\n",
       "      <td>1220</td>\n",
       "      <td>psychic</td>\n",
       "      <td>NaN</td>\n",
       "    </tr>\n",
       "    <tr>\n",
       "      <th>...</th>\n",
       "      <td>...</td>\n",
       "      <td>...</td>\n",
       "      <td>...</td>\n",
       "      <td>...</td>\n",
       "      <td>...</td>\n",
       "      <td>...</td>\n",
       "      <td>...</td>\n",
       "      <td>...</td>\n",
       "      <td>...</td>\n",
       "      <td>...</td>\n",
       "    </tr>\n",
       "    <tr>\n",
       "      <th>799</th>\n",
       "      <td>800</td>\n",
       "      <td>necrozma</td>\n",
       "      <td>True</td>\n",
       "      <td>600</td>\n",
       "      <td>313</td>\n",
       "      <td>287</td>\n",
       "      <td>24</td>\n",
       "      <td>2300</td>\n",
       "      <td>psychic</td>\n",
       "      <td>NaN</td>\n",
       "    </tr>\n",
       "    <tr>\n",
       "      <th>800</th>\n",
       "      <td>801</td>\n",
       "      <td>magearna</td>\n",
       "      <td>True</td>\n",
       "      <td>600</td>\n",
       "      <td>290</td>\n",
       "      <td>310</td>\n",
       "      <td>10</td>\n",
       "      <td>805</td>\n",
       "      <td>fairy</td>\n",
       "      <td>steel</td>\n",
       "    </tr>\n",
       "    <tr>\n",
       "      <th>801</th>\n",
       "      <td>802</td>\n",
       "      <td>marshadow</td>\n",
       "      <td>True</td>\n",
       "      <td>600</td>\n",
       "      <td>340</td>\n",
       "      <td>260</td>\n",
       "      <td>7</td>\n",
       "      <td>222</td>\n",
       "      <td>ghost</td>\n",
       "      <td>fighting</td>\n",
       "    </tr>\n",
       "    <tr>\n",
       "      <th>806</th>\n",
       "      <td>807</td>\n",
       "      <td>zeraora</td>\n",
       "      <td>True</td>\n",
       "      <td>600</td>\n",
       "      <td>357</td>\n",
       "      <td>243</td>\n",
       "      <td>15</td>\n",
       "      <td>445</td>\n",
       "      <td>electric</td>\n",
       "      <td>NaN</td>\n",
       "    </tr>\n",
       "  </tbody>\n",
       "</table>\n",
       "<p>68 rows × 10 columns</p>\n",
       "</div>"
      ],
      "text/plain": [
       "      ID    Pokemon  Legendary  Stat Total  ATK Sum  DEF Sum  Height  Weight  \\\n",
       "143  144   articuno       True         580      265      315      17     554   \n",
       "144  145     zapdos       True         580      315      265      16     526   \n",
       "145  146    moltres       True         580      315      265      20     600   \n",
       "149  150     mewtwo       True         680      394      286      20    1220   \n",
       "..   ...        ...        ...         ...      ...      ...     ...     ...   \n",
       "799  800   necrozma       True         600      313      287      24    2300   \n",
       "800  801   magearna       True         600      290      310      10     805   \n",
       "801  802  marshadow       True         600      340      260       7     222   \n",
       "806  807    zeraora       True         600      357      243      15     445   \n",
       "\n",
       "       Type 1    Type 2  \n",
       "143    flying       ice  \n",
       "144    flying  electric  \n",
       "145    flying      fire  \n",
       "149   psychic       NaN  \n",
       "..        ...       ...  \n",
       "799   psychic       NaN  \n",
       "800     fairy     steel  \n",
       "801     ghost  fighting  \n",
       "806  electric       NaN  \n",
       "\n",
       "[68 rows x 10 columns]"
      ]
     },
     "execution_count": 24,
     "metadata": {},
     "output_type": "execute_result"
    }
   ],
   "source": [
    "legendsDf"
   ]
  },
  {
   "cell_type": "markdown",
   "metadata": {},
   "source": [
    "Kind of hard to read, so lets just get the counts instead of individual pokemon."
   ]
  },
  {
   "cell_type": "code",
   "execution_count": 25,
   "metadata": {},
   "outputs": [
    {
     "data": {
      "text/plain": [
       "psychic    21\n",
       "flying     10\n",
       "dragon     10\n",
       "steel       8\n",
       "           ..\n",
       "ice         3\n",
       "dark        2\n",
       "bug         1\n",
       "poison      0\n",
       "Length: 18, dtype: int64"
      ]
     },
     "execution_count": 25,
     "metadata": {},
     "output_type": "execute_result"
    }
   ],
   "source": [
    "legendTypeCount"
   ]
  },
  {
   "cell_type": "code",
   "execution_count": 26,
   "metadata": {},
   "outputs": [
    {
     "data": {
      "image/png": "[encoded data removed]",
      "text/plain": [
       "<Figure size 432x288 with 1 Axes>"
      ]
     },
     "metadata": {
      "needs_background": "light"
     },
     "output_type": "display_data"
    }
   ],
   "source": [
    "legendPlot = legendTypeCount.plot(kind='bar', title='Legendary Pokemon Typing', yticks=range(0,25,5), color=\"orange\")\n",
    "xstuff = legendPlot.set_xlabel(\"Typing\")\n",
    "ystuff = legendPlot.set_ylabel(\"Count\")"
   ]
  },
  {
   "cell_type": "markdown",
   "metadata": {},
   "source": [
    "Here we can see that psychic dominate the typings for legendary Pokemon, doubling the counts for any other type. From there it slowly declines until we get to poison, where we can see 0 Pokemon have poison typing. Surprisingly, dragon isnt the most frequent typing, which somewhat subverted our expectations but is reasonable once we thought back onto what legendary Pokemon there were."
   ]
  },
  {
   "cell_type": "code",
   "execution_count": 27,
   "metadata": {},
   "outputs": [
    {
     "data": {
      "text/plain": [
       "water     131\n",
       "normal    109\n",
       "flying     98\n",
       "grass      97\n",
       "         ... \n",
       "dark       46\n",
       "dragon     45\n",
       "ghost      43\n",
       "ice        34\n",
       "Length: 18, dtype: int64"
      ]
     },
     "execution_count": 27,
     "metadata": {},
     "output_type": "execute_result"
    }
   ],
   "source": [
    "regularTypeCount"
   ]
  },
  {
   "cell_type": "code",
   "execution_count": 28,
   "metadata": {},
   "outputs": [
    {
     "data": {
      "image/png": "[encoded data removed]",
      "text/plain": [
       "<Figure size 432x288 with 1 Axes>"
      ]
     },
     "metadata": {
      "needs_background": "light"
     },
     "output_type": "display_data"
    }
   ],
   "source": [
    "normalPlot = regularTypeCount.plot(kind='bar', title='All Pokemon Typing', yticks=range(0,150,10),  color=\"blue\")\n",
    "xstuff = normalPlot.set_xlabel(\"Typing\")\n",
    "ystuff = normalPlot.set_ylabel(\"Count\")"
   ]
  },
  {
   "cell_type": "markdown",
   "metadata": {},
   "source": [
    "Now with regular pokemon, we can see that its a lot more evenly spread out. Water has a plurality of the typings but is not as dominant as psychic was for legendaries. Poison finds itself near the middle of the type distribution, suggesting that the lack of a legendary Pokemon being poison typed may be intentional rather than through sheer chance. "
   ]
  },
  {
   "cell_type": "code",
   "execution_count": 29,
   "metadata": {},
   "outputs": [],
   "source": [
    "typeCompDf = legendTypeCount.to_frame()\n",
    "typeCompDf = typeCompDf.merge(regularTypeCount.to_frame(), left_index=True, right_index=True)\n",
    "typeCompDf.columns = ['Legendary','Normal']\n",
    "typeCompDf=typeCompDf.reindex(columns=['Normal','Legendary'])\n",
    "normFirst = regularTypeCount.to_frame()\n",
    "normFirst = normFirst.merge(legendTypeCount.to_frame(), left_index = True, right_index = True)\n",
    "normFirst.columns = ['Normal','Legendary']"
   ]
  },
  {
   "cell_type": "markdown",
   "metadata": {},
   "source": [
    "Now lets compare the two side-by-side."
   ]
  },
  {
   "cell_type": "code",
   "execution_count": 30,
   "metadata": {},
   "outputs": [
    {
     "data": {
      "text/html": [
       "<div>\n",
       "<style scoped>\n",
       "    .dataframe tbody tr th:only-of-type {\n",
       "        vertical-align: middle;\n",
       "    }\n",
       "\n",
       "    .dataframe tbody tr th {\n",
       "        vertical-align: top;\n",
       "    }\n",
       "\n",
       "    .dataframe thead th {\n",
       "        text-align: right;\n",
       "    }\n",
       "</style>\n",
       "<table border=\"1\" class=\"dataframe\">\n",
       "  <thead>\n",
       "    <tr style=\"text-align: right;\">\n",
       "      <th></th>\n",
       "      <th>Normal</th>\n",
       "      <th>Legendary</th>\n",
       "    </tr>\n",
       "  </thead>\n",
       "  <tbody>\n",
       "    <tr>\n",
       "      <th>psychic</th>\n",
       "      <td>82</td>\n",
       "      <td>21</td>\n",
       "    </tr>\n",
       "    <tr>\n",
       "      <th>flying</th>\n",
       "      <td>98</td>\n",
       "      <td>10</td>\n",
       "    </tr>\n",
       "    <tr>\n",
       "      <th>dragon</th>\n",
       "      <td>45</td>\n",
       "      <td>10</td>\n",
       "    </tr>\n",
       "    <tr>\n",
       "      <th>steel</th>\n",
       "      <td>47</td>\n",
       "      <td>8</td>\n",
       "    </tr>\n",
       "    <tr>\n",
       "      <th>...</th>\n",
       "      <td>...</td>\n",
       "      <td>...</td>\n",
       "    </tr>\n",
       "    <tr>\n",
       "      <th>ice</th>\n",
       "      <td>34</td>\n",
       "      <td>3</td>\n",
       "    </tr>\n",
       "    <tr>\n",
       "      <th>dark</th>\n",
       "      <td>46</td>\n",
       "      <td>2</td>\n",
       "    </tr>\n",
       "    <tr>\n",
       "      <th>bug</th>\n",
       "      <td>77</td>\n",
       "      <td>1</td>\n",
       "    </tr>\n",
       "    <tr>\n",
       "      <th>poison</th>\n",
       "      <td>66</td>\n",
       "      <td>0</td>\n",
       "    </tr>\n",
       "  </tbody>\n",
       "</table>\n",
       "<p>18 rows × 2 columns</p>\n",
       "</div>"
      ],
      "text/plain": [
       "         Normal  Legendary\n",
       "psychic      82         21\n",
       "flying       98         10\n",
       "dragon       45         10\n",
       "steel        47          8\n",
       "...         ...        ...\n",
       "ice          34          3\n",
       "dark         46          2\n",
       "bug          77          1\n",
       "poison       66          0\n",
       "\n",
       "[18 rows x 2 columns]"
      ]
     },
     "execution_count": 30,
     "metadata": {},
     "output_type": "execute_result"
    }
   ],
   "source": [
    "typeCompDf"
   ]
  },
  {
   "cell_type": "code",
   "execution_count": 31,
   "metadata": {},
   "outputs": [
    {
     "data": {
      "text/html": [
       "<div>\n",
       "<style scoped>\n",
       "    .dataframe tbody tr th:only-of-type {\n",
       "        vertical-align: middle;\n",
       "    }\n",
       "\n",
       "    .dataframe tbody tr th {\n",
       "        vertical-align: top;\n",
       "    }\n",
       "\n",
       "    .dataframe thead th {\n",
       "        text-align: right;\n",
       "    }\n",
       "</style>\n",
       "<table border=\"1\" class=\"dataframe\">\n",
       "  <thead>\n",
       "    <tr style=\"text-align: right;\">\n",
       "      <th></th>\n",
       "      <th>Normal</th>\n",
       "      <th>Legendary</th>\n",
       "    </tr>\n",
       "  </thead>\n",
       "  <tbody>\n",
       "    <tr>\n",
       "      <th>water</th>\n",
       "      <td>131</td>\n",
       "      <td>8</td>\n",
       "    </tr>\n",
       "    <tr>\n",
       "      <th>normal</th>\n",
       "      <td>109</td>\n",
       "      <td>5</td>\n",
       "    </tr>\n",
       "    <tr>\n",
       "      <th>flying</th>\n",
       "      <td>98</td>\n",
       "      <td>10</td>\n",
       "    </tr>\n",
       "    <tr>\n",
       "      <th>grass</th>\n",
       "      <td>97</td>\n",
       "      <td>4</td>\n",
       "    </tr>\n",
       "    <tr>\n",
       "      <th>...</th>\n",
       "      <td>...</td>\n",
       "      <td>...</td>\n",
       "    </tr>\n",
       "    <tr>\n",
       "      <th>dark</th>\n",
       "      <td>46</td>\n",
       "      <td>2</td>\n",
       "    </tr>\n",
       "    <tr>\n",
       "      <th>dragon</th>\n",
       "      <td>45</td>\n",
       "      <td>10</td>\n",
       "    </tr>\n",
       "    <tr>\n",
       "      <th>ghost</th>\n",
       "      <td>43</td>\n",
       "      <td>4</td>\n",
       "    </tr>\n",
       "    <tr>\n",
       "      <th>ice</th>\n",
       "      <td>34</td>\n",
       "      <td>3</td>\n",
       "    </tr>\n",
       "  </tbody>\n",
       "</table>\n",
       "<p>18 rows × 2 columns</p>\n",
       "</div>"
      ],
      "text/plain": [
       "        Normal  Legendary\n",
       "water      131          8\n",
       "normal     109          5\n",
       "flying      98         10\n",
       "grass       97          4\n",
       "...        ...        ...\n",
       "dark        46          2\n",
       "dragon      45         10\n",
       "ghost       43          4\n",
       "ice         34          3\n",
       "\n",
       "[18 rows x 2 columns]"
      ]
     },
     "execution_count": 31,
     "metadata": {},
     "output_type": "execute_result"
    }
   ],
   "source": [
    "normFirst"
   ]
  },
  {
   "cell_type": "code",
   "execution_count": 32,
   "metadata": {},
   "outputs": [
    {
     "data": {
      "image/png": "[encoded data removed]",
      "text/plain": [
       "<Figure size 432x288 with 1 Axes>"
      ]
     },
     "metadata": {
      "needs_background": "light"
     },
     "output_type": "display_data"
    }
   ],
   "source": [
    "overallPlot = typeCompDf.plot(kind='bar', title =\"Type Distribution\")\n",
    "xstuff = overallPlot.set_xlabel(\"Typing\")\n",
    "ystuff = overallPlot.set_ylabel(\"Count\")"
   ]
  },
  {
   "cell_type": "code",
   "execution_count": 33,
   "metadata": {},
   "outputs": [
    {
     "data": {
      "image/png": "[encoded data removed]",
      "text/plain": [
       "<Figure size 432x288 with 1 Axes>"
      ]
     },
     "metadata": {
      "needs_background": "light"
     },
     "output_type": "display_data"
    }
   ],
   "source": [
    "normFirstPlot = normFirst.plot(kind='bar', title =\"Type Distribution\")\n",
    "xstuff = normFirstPlot.set_xlabel(\"Typing\")\n",
    "ystuff = normFirstPlot.set_ylabel(\"Count\")"
   ]
  },
  {
   "cell_type": "markdown",
   "metadata": {},
   "source": [
    "Through these two graphs, we can see that there only seems to be a small correlation between the typing for all Pokemon in general, and the typing for legendary Pokemon (seen in flying, water, and psychic for both graphs). This suggests that legendary Pokemon are made without this distribution in mind, and more made to appeal to the abstract idea of legendary that most people view as dragons or psychic beings."
   ]
  },
  {
   "cell_type": "markdown",
   "metadata": {},
   "source": [
    "# Part 4: Pokémon Stats Analysis"
   ]
  },
  {
   "cell_type": "code",
   "execution_count": 34,
   "metadata": {},
   "outputs": [],
   "source": [
    "# Display plots directly in the notebook instead of in a new window\n",
    "%matplotlib inline\n",
    "\n",
    "# Configure libraries\n",
    "# The seaborn library makes plots look nicer\n",
    "sns.set()\n",
    "sns.set_context('talk')\n",
    "\n",
    "# Don't display too many rows/cols of DataFrames\n",
    "pd.options.display.max_rows = 9\n",
    "pd.options.display.max_columns = 10\n",
    "\n",
    "# Round decimals when displaying DataFrames\n",
    "pd.set_option('precision', 2)"
   ]
  },
  {
   "cell_type": "markdown",
   "metadata": {},
   "source": [
    "Reading the CSV"
   ]
  },
  {
   "cell_type": "code",
   "execution_count": 35,
   "metadata": {},
   "outputs": [
    {
     "data": {
      "text/html": [
       "<div>\n",
       "<style scoped>\n",
       "    .dataframe tbody tr th:only-of-type {\n",
       "        vertical-align: middle;\n",
       "    }\n",
       "\n",
       "    .dataframe tbody tr th {\n",
       "        vertical-align: top;\n",
       "    }\n",
       "\n",
       "    .dataframe thead th {\n",
       "        text-align: right;\n",
       "    }\n",
       "</style>\n",
       "<table border=\"1\" class=\"dataframe\">\n",
       "  <thead>\n",
       "    <tr style=\"text-align: right;\">\n",
       "      <th></th>\n",
       "      <th>ID</th>\n",
       "      <th>Pokemon</th>\n",
       "      <th>Legendary</th>\n",
       "      <th>Stat Total</th>\n",
       "      <th>ATK Sum</th>\n",
       "      <th>DEF Sum</th>\n",
       "      <th>Height</th>\n",
       "      <th>Weight</th>\n",
       "      <th>Type 1</th>\n",
       "      <th>Type 2</th>\n",
       "    </tr>\n",
       "  </thead>\n",
       "  <tbody>\n",
       "    <tr>\n",
       "      <th>0</th>\n",
       "      <td>1</td>\n",
       "      <td>bulbasaur</td>\n",
       "      <td>False</td>\n",
       "      <td>318</td>\n",
       "      <td>159</td>\n",
       "      <td>159</td>\n",
       "      <td>7</td>\n",
       "      <td>69</td>\n",
       "      <td>poison</td>\n",
       "      <td>grass</td>\n",
       "    </tr>\n",
       "    <tr>\n",
       "      <th>1</th>\n",
       "      <td>2</td>\n",
       "      <td>ivysaur</td>\n",
       "      <td>False</td>\n",
       "      <td>405</td>\n",
       "      <td>202</td>\n",
       "      <td>203</td>\n",
       "      <td>10</td>\n",
       "      <td>130</td>\n",
       "      <td>poison</td>\n",
       "      <td>grass</td>\n",
       "    </tr>\n",
       "    <tr>\n",
       "      <th>2</th>\n",
       "      <td>3</td>\n",
       "      <td>venusaur</td>\n",
       "      <td>False</td>\n",
       "      <td>525</td>\n",
       "      <td>262</td>\n",
       "      <td>263</td>\n",
       "      <td>20</td>\n",
       "      <td>1000</td>\n",
       "      <td>poison</td>\n",
       "      <td>grass</td>\n",
       "    </tr>\n",
       "    <tr>\n",
       "      <th>3</th>\n",
       "      <td>4</td>\n",
       "      <td>charmander</td>\n",
       "      <td>False</td>\n",
       "      <td>309</td>\n",
       "      <td>177</td>\n",
       "      <td>132</td>\n",
       "      <td>6</td>\n",
       "      <td>85</td>\n",
       "      <td>fire</td>\n",
       "      <td>NaN</td>\n",
       "    </tr>\n",
       "    <tr>\n",
       "      <th>...</th>\n",
       "      <td>...</td>\n",
       "      <td>...</td>\n",
       "      <td>...</td>\n",
       "      <td>...</td>\n",
       "      <td>...</td>\n",
       "      <td>...</td>\n",
       "      <td>...</td>\n",
       "      <td>...</td>\n",
       "      <td>...</td>\n",
       "      <td>...</td>\n",
       "    </tr>\n",
       "    <tr>\n",
       "      <th>803</th>\n",
       "      <td>804</td>\n",
       "      <td>naganadel</td>\n",
       "      <td>False</td>\n",
       "      <td>540</td>\n",
       "      <td>321</td>\n",
       "      <td>219</td>\n",
       "      <td>36</td>\n",
       "      <td>1500</td>\n",
       "      <td>dragon</td>\n",
       "      <td>poison</td>\n",
       "    </tr>\n",
       "    <tr>\n",
       "      <th>804</th>\n",
       "      <td>805</td>\n",
       "      <td>stakataka</td>\n",
       "      <td>False</td>\n",
       "      <td>570</td>\n",
       "      <td>197</td>\n",
       "      <td>373</td>\n",
       "      <td>55</td>\n",
       "      <td>8200</td>\n",
       "      <td>steel</td>\n",
       "      <td>rock</td>\n",
       "    </tr>\n",
       "    <tr>\n",
       "      <th>805</th>\n",
       "      <td>806</td>\n",
       "      <td>blacephalon</td>\n",
       "      <td>False</td>\n",
       "      <td>570</td>\n",
       "      <td>385</td>\n",
       "      <td>185</td>\n",
       "      <td>18</td>\n",
       "      <td>130</td>\n",
       "      <td>ghost</td>\n",
       "      <td>fire</td>\n",
       "    </tr>\n",
       "    <tr>\n",
       "      <th>806</th>\n",
       "      <td>807</td>\n",
       "      <td>zeraora</td>\n",
       "      <td>True</td>\n",
       "      <td>600</td>\n",
       "      <td>357</td>\n",
       "      <td>243</td>\n",
       "      <td>15</td>\n",
       "      <td>445</td>\n",
       "      <td>electric</td>\n",
       "      <td>NaN</td>\n",
       "    </tr>\n",
       "  </tbody>\n",
       "</table>\n",
       "<p>807 rows × 10 columns</p>\n",
       "</div>"
      ],
      "text/plain": [
       "      ID      Pokemon  Legendary  Stat Total  ATK Sum  DEF Sum  Height  \\\n",
       "0      1    bulbasaur      False         318      159      159       7   \n",
       "1      2      ivysaur      False         405      202      203      10   \n",
       "2      3     venusaur      False         525      262      263      20   \n",
       "3      4   charmander      False         309      177      132       6   \n",
       "..   ...          ...        ...         ...      ...      ...     ...   \n",
       "803  804    naganadel      False         540      321      219      36   \n",
       "804  805    stakataka      False         570      197      373      55   \n",
       "805  806  blacephalon      False         570      385      185      18   \n",
       "806  807      zeraora       True         600      357      243      15   \n",
       "\n",
       "     Weight    Type 1  Type 2  \n",
       "0        69    poison   grass  \n",
       "1       130    poison   grass  \n",
       "2      1000    poison   grass  \n",
       "3        85      fire     NaN  \n",
       "..      ...       ...     ...  \n",
       "803    1500    dragon  poison  \n",
       "804    8200     steel    rock  \n",
       "805     130     ghost    fire  \n",
       "806     445  electric     NaN  \n",
       "\n",
       "[807 rows x 10 columns]"
      ]
     },
     "execution_count": 35,
     "metadata": {},
     "output_type": "execute_result"
    }
   ],
   "source": [
    "df_poke = pd.read_csv(\"statsDF.csv\")\n",
    "df_poke"
   ]
  },
  {
   "cell_type": "markdown",
   "metadata": {},
   "source": [
    "Dropping columns that are irrelevant to this section and splitting the dataframe into two dataframes for Legendary and NonLegendary Pokemon:"
   ]
  },
  {
   "cell_type": "code",
   "execution_count": 36,
   "metadata": {},
   "outputs": [
    {
     "data": {
      "text/html": [
       "<div>\n",
       "<style scoped>\n",
       "    .dataframe tbody tr th:only-of-type {\n",
       "        vertical-align: middle;\n",
       "    }\n",
       "\n",
       "    .dataframe tbody tr th {\n",
       "        vertical-align: top;\n",
       "    }\n",
       "\n",
       "    .dataframe thead th {\n",
       "        text-align: right;\n",
       "    }\n",
       "</style>\n",
       "<table border=\"1\" class=\"dataframe\">\n",
       "  <thead>\n",
       "    <tr style=\"text-align: right;\">\n",
       "      <th></th>\n",
       "      <th>ID</th>\n",
       "      <th>Pokemon</th>\n",
       "      <th>Legendary</th>\n",
       "      <th>ATK Sum</th>\n",
       "      <th>DEF Sum</th>\n",
       "    </tr>\n",
       "  </thead>\n",
       "  <tbody>\n",
       "    <tr>\n",
       "      <th>143</th>\n",
       "      <td>144</td>\n",
       "      <td>articuno</td>\n",
       "      <td>True</td>\n",
       "      <td>265</td>\n",
       "      <td>315</td>\n",
       "    </tr>\n",
       "    <tr>\n",
       "      <th>144</th>\n",
       "      <td>145</td>\n",
       "      <td>zapdos</td>\n",
       "      <td>True</td>\n",
       "      <td>315</td>\n",
       "      <td>265</td>\n",
       "    </tr>\n",
       "    <tr>\n",
       "      <th>145</th>\n",
       "      <td>146</td>\n",
       "      <td>moltres</td>\n",
       "      <td>True</td>\n",
       "      <td>315</td>\n",
       "      <td>265</td>\n",
       "    </tr>\n",
       "    <tr>\n",
       "      <th>149</th>\n",
       "      <td>150</td>\n",
       "      <td>mewtwo</td>\n",
       "      <td>True</td>\n",
       "      <td>394</td>\n",
       "      <td>286</td>\n",
       "    </tr>\n",
       "    <tr>\n",
       "      <th>...</th>\n",
       "      <td>...</td>\n",
       "      <td>...</td>\n",
       "      <td>...</td>\n",
       "      <td>...</td>\n",
       "      <td>...</td>\n",
       "    </tr>\n",
       "    <tr>\n",
       "      <th>799</th>\n",
       "      <td>800</td>\n",
       "      <td>necrozma</td>\n",
       "      <td>True</td>\n",
       "      <td>313</td>\n",
       "      <td>287</td>\n",
       "    </tr>\n",
       "    <tr>\n",
       "      <th>800</th>\n",
       "      <td>801</td>\n",
       "      <td>magearna</td>\n",
       "      <td>True</td>\n",
       "      <td>290</td>\n",
       "      <td>310</td>\n",
       "    </tr>\n",
       "    <tr>\n",
       "      <th>801</th>\n",
       "      <td>802</td>\n",
       "      <td>marshadow</td>\n",
       "      <td>True</td>\n",
       "      <td>340</td>\n",
       "      <td>260</td>\n",
       "    </tr>\n",
       "    <tr>\n",
       "      <th>806</th>\n",
       "      <td>807</td>\n",
       "      <td>zeraora</td>\n",
       "      <td>True</td>\n",
       "      <td>357</td>\n",
       "      <td>243</td>\n",
       "    </tr>\n",
       "  </tbody>\n",
       "</table>\n",
       "<p>68 rows × 5 columns</p>\n",
       "</div>"
      ],
      "text/plain": [
       "      ID    Pokemon  Legendary  ATK Sum  DEF Sum\n",
       "143  144   articuno       True      265      315\n",
       "144  145     zapdos       True      315      265\n",
       "145  146    moltres       True      315      265\n",
       "149  150     mewtwo       True      394      286\n",
       "..   ...        ...        ...      ...      ...\n",
       "799  800   necrozma       True      313      287\n",
       "800  801   magearna       True      290      310\n",
       "801  802  marshadow       True      340      260\n",
       "806  807    zeraora       True      357      243\n",
       "\n",
       "[68 rows x 5 columns]"
      ]
     },
     "execution_count": 36,
     "metadata": {},
     "output_type": "execute_result"
    }
   ],
   "source": [
    "df_AD = df_poke.drop(columns = [\"Height\",\"Weight\",\"Stat Total\",\"Type 1\",\"Type 2\"])\n",
    "df_LegsEnd = df_AD[df_AD[\"Legendary\"] == True]\n",
    "df_LegsDontEnd = df_AD[df_AD[\"Legendary\"] == False]\n",
    "df_LegsEnd"
   ]
  },
  {
   "cell_type": "markdown",
   "metadata": {},
   "source": [
    "### Visualizing Pokemon Distribution by Stats"
   ]
  },
  {
   "cell_type": "markdown",
   "metadata": {},
   "source": [
    "Now that the data is organized distinctly, let's visualize the pokemon in scatterplots with their offensive stat totals on the x-axis and their defensive stat totals on the y-axis."
   ]
  },
  {
   "cell_type": "code",
   "execution_count": 37,
   "metadata": {},
   "outputs": [
    {
     "data": {
      "image/png": "[encoded data removed]",
      "text/plain": [
       "<Figure size 432x288 with 1 Axes>"
      ]
     },
     "metadata": {},
     "output_type": "display_data"
    },
    {
     "data": {
      "image/png": "[encoded data removed]",
      "text/plain": [
       "<Figure size 432x288 with 1 Axes>"
      ]
     },
     "metadata": {},
     "output_type": "display_data"
    }
   ],
   "source": [
    "df_LegsEnd.plot.scatter(x=\"ATK Sum\", y=\"DEF Sum\", c=\"orange\")\n",
    "plt.title(\"Legendary Offensive vs. Defensive Stat Distribution\", pad=(25))\n",
    "df_LegsDontEnd.plot.scatter(x=\"ATK Sum\", y=\"DEF Sum\", c=\"b\")\n",
    "plt.title(\"NonLegendary Offensive vs. Defensive Stat Distribution\", pad=(25))\n",
    "plt.show()"
   ]
  },
  {
   "cell_type": "markdown",
   "metadata": {},
   "source": [
    "In the two scatterplots above, we can observe the distribution of offensive and defensive stats on the Legendary and NonLegendary Pokemon separately. In the first scatterplot, we can already see that Legendary Pokemon tend to lean in the upper range for both offsensive and defensive stats, with the exception of a couple of outliers. In the second scatterplot, we can observe that the majority of the NonLegendary Pokemon cluster in a lower range than the Legendary Pokemon. \n",
    "\n",
    "\n",
    "Now let's see how the two groups look in the same scatterplot:"
   ]
  },
  {
   "cell_type": "code",
   "execution_count": 38,
   "metadata": {},
   "outputs": [
    {
     "data": {
      "image/png": "[encoded data removed]",
      "text/plain": [
       "<Figure size 432x288 with 1 Axes>"
      ]
     },
     "metadata": {},
     "output_type": "display_data"
    }
   ],
   "source": [
    "a = df_LegsDontEnd.plot.scatter(x=\"ATK Sum\", y=\"DEF Sum\", c=\"b\")\n",
    "b = df_LegsEnd.plot.scatter(x=\"ATK Sum\", y=\"DEF Sum\", c=\"orange\", ax = a)\n",
    "plt.title(\"Offensive vs. Defensive Stat Distribution\", pad=(25))\n",
    "plt.show()"
   ]
  },
  {
   "cell_type": "markdown",
   "metadata": {},
   "source": [
    "After stacking the two scatterplots together we can observe that the majority of the Legendary Pokemon (yellow) tend to have greater stats all around. Except for a few exceptions, almost all of the Legendary Pokemon data points are in the upper right quadrant of the scatterplot such that they either have great defensive stats or greater offensive stats or even both. Only a handful of the NonLegendary Pokemon data points are in the same class as the Legendary Pokemon.\n",
    "\n",
    "However, despite that distinct difference between the two categories of Pokemon, they both seem to have populations that do not heavily skew towards either axis.\n",
    "\n",
    "\n",
    "Now, to visualize their stats as a whole and comparing their distributions, let's create another data frame to handle the \"Stat Total\" data and drop irrelevant columns."
   ]
  },
  {
   "cell_type": "code",
   "execution_count": 39,
   "metadata": {},
   "outputs": [
    {
     "data": {
      "text/html": [
       "<div>\n",
       "<style scoped>\n",
       "    .dataframe tbody tr th:only-of-type {\n",
       "        vertical-align: middle;\n",
       "    }\n",
       "\n",
       "    .dataframe tbody tr th {\n",
       "        vertical-align: top;\n",
       "    }\n",
       "\n",
       "    .dataframe thead th {\n",
       "        text-align: right;\n",
       "    }\n",
       "</style>\n",
       "<table border=\"1\" class=\"dataframe\">\n",
       "  <thead>\n",
       "    <tr style=\"text-align: right;\">\n",
       "      <th></th>\n",
       "      <th>ID</th>\n",
       "      <th>Pokemon</th>\n",
       "      <th>Legendary</th>\n",
       "      <th>Stat Total</th>\n",
       "    </tr>\n",
       "  </thead>\n",
       "  <tbody>\n",
       "    <tr>\n",
       "      <th>0</th>\n",
       "      <td>1</td>\n",
       "      <td>bulbasaur</td>\n",
       "      <td>False</td>\n",
       "      <td>318</td>\n",
       "    </tr>\n",
       "    <tr>\n",
       "      <th>1</th>\n",
       "      <td>2</td>\n",
       "      <td>ivysaur</td>\n",
       "      <td>False</td>\n",
       "      <td>405</td>\n",
       "    </tr>\n",
       "    <tr>\n",
       "      <th>2</th>\n",
       "      <td>3</td>\n",
       "      <td>venusaur</td>\n",
       "      <td>False</td>\n",
       "      <td>525</td>\n",
       "    </tr>\n",
       "    <tr>\n",
       "      <th>3</th>\n",
       "      <td>4</td>\n",
       "      <td>charmander</td>\n",
       "      <td>False</td>\n",
       "      <td>309</td>\n",
       "    </tr>\n",
       "    <tr>\n",
       "      <th>...</th>\n",
       "      <td>...</td>\n",
       "      <td>...</td>\n",
       "      <td>...</td>\n",
       "      <td>...</td>\n",
       "    </tr>\n",
       "    <tr>\n",
       "      <th>803</th>\n",
       "      <td>804</td>\n",
       "      <td>naganadel</td>\n",
       "      <td>False</td>\n",
       "      <td>540</td>\n",
       "    </tr>\n",
       "    <tr>\n",
       "      <th>804</th>\n",
       "      <td>805</td>\n",
       "      <td>stakataka</td>\n",
       "      <td>False</td>\n",
       "      <td>570</td>\n",
       "    </tr>\n",
       "    <tr>\n",
       "      <th>805</th>\n",
       "      <td>806</td>\n",
       "      <td>blacephalon</td>\n",
       "      <td>False</td>\n",
       "      <td>570</td>\n",
       "    </tr>\n",
       "    <tr>\n",
       "      <th>806</th>\n",
       "      <td>807</td>\n",
       "      <td>zeraora</td>\n",
       "      <td>True</td>\n",
       "      <td>600</td>\n",
       "    </tr>\n",
       "  </tbody>\n",
       "</table>\n",
       "<p>807 rows × 4 columns</p>\n",
       "</div>"
      ],
      "text/plain": [
       "      ID      Pokemon  Legendary  Stat Total\n",
       "0      1    bulbasaur      False         318\n",
       "1      2      ivysaur      False         405\n",
       "2      3     venusaur      False         525\n",
       "3      4   charmander      False         309\n",
       "..   ...          ...        ...         ...\n",
       "803  804    naganadel      False         540\n",
       "804  805    stakataka      False         570\n",
       "805  806  blacephalon      False         570\n",
       "806  807      zeraora       True         600\n",
       "\n",
       "[807 rows x 4 columns]"
      ]
     },
     "execution_count": 39,
     "metadata": {},
     "output_type": "execute_result"
    }
   ],
   "source": [
    "df_total = df_poke.drop(columns = [\"Height\",\"Weight\",\"DEF Sum\",\"ATK Sum\",\"Type 1\",\"Type 2\"])\n",
    "df_total"
   ]
  },
  {
   "cell_type": "markdown",
   "metadata": {},
   "source": [
    "Here we'll separate the data frame into two parts: Legendary and NonLegendary:"
   ]
  },
  {
   "cell_type": "code",
   "execution_count": 40,
   "metadata": {},
   "outputs": [
    {
     "data": {
      "text/html": [
       "<div>\n",
       "<style scoped>\n",
       "    .dataframe tbody tr th:only-of-type {\n",
       "        vertical-align: middle;\n",
       "    }\n",
       "\n",
       "    .dataframe tbody tr th {\n",
       "        vertical-align: top;\n",
       "    }\n",
       "\n",
       "    .dataframe thead th {\n",
       "        text-align: right;\n",
       "    }\n",
       "</style>\n",
       "<table border=\"1\" class=\"dataframe\">\n",
       "  <thead>\n",
       "    <tr style=\"text-align: right;\">\n",
       "      <th></th>\n",
       "      <th>ID</th>\n",
       "      <th>Pokemon</th>\n",
       "      <th>Legendary</th>\n",
       "      <th>Stat Total</th>\n",
       "    </tr>\n",
       "  </thead>\n",
       "  <tbody>\n",
       "    <tr>\n",
       "      <th>143</th>\n",
       "      <td>144</td>\n",
       "      <td>articuno</td>\n",
       "      <td>True</td>\n",
       "      <td>580</td>\n",
       "    </tr>\n",
       "    <tr>\n",
       "      <th>144</th>\n",
       "      <td>145</td>\n",
       "      <td>zapdos</td>\n",
       "      <td>True</td>\n",
       "      <td>580</td>\n",
       "    </tr>\n",
       "    <tr>\n",
       "      <th>145</th>\n",
       "      <td>146</td>\n",
       "      <td>moltres</td>\n",
       "      <td>True</td>\n",
       "      <td>580</td>\n",
       "    </tr>\n",
       "    <tr>\n",
       "      <th>149</th>\n",
       "      <td>150</td>\n",
       "      <td>mewtwo</td>\n",
       "      <td>True</td>\n",
       "      <td>680</td>\n",
       "    </tr>\n",
       "    <tr>\n",
       "      <th>...</th>\n",
       "      <td>...</td>\n",
       "      <td>...</td>\n",
       "      <td>...</td>\n",
       "      <td>...</td>\n",
       "    </tr>\n",
       "    <tr>\n",
       "      <th>799</th>\n",
       "      <td>800</td>\n",
       "      <td>necrozma</td>\n",
       "      <td>True</td>\n",
       "      <td>600</td>\n",
       "    </tr>\n",
       "    <tr>\n",
       "      <th>800</th>\n",
       "      <td>801</td>\n",
       "      <td>magearna</td>\n",
       "      <td>True</td>\n",
       "      <td>600</td>\n",
       "    </tr>\n",
       "    <tr>\n",
       "      <th>801</th>\n",
       "      <td>802</td>\n",
       "      <td>marshadow</td>\n",
       "      <td>True</td>\n",
       "      <td>600</td>\n",
       "    </tr>\n",
       "    <tr>\n",
       "      <th>806</th>\n",
       "      <td>807</td>\n",
       "      <td>zeraora</td>\n",
       "      <td>True</td>\n",
       "      <td>600</td>\n",
       "    </tr>\n",
       "  </tbody>\n",
       "</table>\n",
       "<p>68 rows × 4 columns</p>\n",
       "</div>"
      ],
      "text/plain": [
       "      ID    Pokemon  Legendary  Stat Total\n",
       "143  144   articuno       True         580\n",
       "144  145     zapdos       True         580\n",
       "145  146    moltres       True         580\n",
       "149  150     mewtwo       True         680\n",
       "..   ...        ...        ...         ...\n",
       "799  800   necrozma       True         600\n",
       "800  801   magearna       True         600\n",
       "801  802  marshadow       True         600\n",
       "806  807    zeraora       True         600\n",
       "\n",
       "[68 rows x 4 columns]"
      ]
     },
     "execution_count": 40,
     "metadata": {},
     "output_type": "execute_result"
    }
   ],
   "source": [
    "df_legtotal = df_total[df_AD[\"Legendary\"] == True]\n",
    "df_legtotal"
   ]
  },
  {
   "cell_type": "code",
   "execution_count": 41,
   "metadata": {},
   "outputs": [
    {
     "data": {
      "text/html": [
       "<div>\n",
       "<style scoped>\n",
       "    .dataframe tbody tr th:only-of-type {\n",
       "        vertical-align: middle;\n",
       "    }\n",
       "\n",
       "    .dataframe tbody tr th {\n",
       "        vertical-align: top;\n",
       "    }\n",
       "\n",
       "    .dataframe thead th {\n",
       "        text-align: right;\n",
       "    }\n",
       "</style>\n",
       "<table border=\"1\" class=\"dataframe\">\n",
       "  <thead>\n",
       "    <tr style=\"text-align: right;\">\n",
       "      <th></th>\n",
       "      <th>ID</th>\n",
       "      <th>Pokemon</th>\n",
       "      <th>Legendary</th>\n",
       "      <th>Stat Total</th>\n",
       "    </tr>\n",
       "  </thead>\n",
       "  <tbody>\n",
       "    <tr>\n",
       "      <th>0</th>\n",
       "      <td>1</td>\n",
       "      <td>bulbasaur</td>\n",
       "      <td>False</td>\n",
       "      <td>318</td>\n",
       "    </tr>\n",
       "    <tr>\n",
       "      <th>1</th>\n",
       "      <td>2</td>\n",
       "      <td>ivysaur</td>\n",
       "      <td>False</td>\n",
       "      <td>405</td>\n",
       "    </tr>\n",
       "    <tr>\n",
       "      <th>2</th>\n",
       "      <td>3</td>\n",
       "      <td>venusaur</td>\n",
       "      <td>False</td>\n",
       "      <td>525</td>\n",
       "    </tr>\n",
       "    <tr>\n",
       "      <th>3</th>\n",
       "      <td>4</td>\n",
       "      <td>charmander</td>\n",
       "      <td>False</td>\n",
       "      <td>309</td>\n",
       "    </tr>\n",
       "    <tr>\n",
       "      <th>...</th>\n",
       "      <td>...</td>\n",
       "      <td>...</td>\n",
       "      <td>...</td>\n",
       "      <td>...</td>\n",
       "    </tr>\n",
       "    <tr>\n",
       "      <th>802</th>\n",
       "      <td>803</td>\n",
       "      <td>poipole</td>\n",
       "      <td>False</td>\n",
       "      <td>420</td>\n",
       "    </tr>\n",
       "    <tr>\n",
       "      <th>803</th>\n",
       "      <td>804</td>\n",
       "      <td>naganadel</td>\n",
       "      <td>False</td>\n",
       "      <td>540</td>\n",
       "    </tr>\n",
       "    <tr>\n",
       "      <th>804</th>\n",
       "      <td>805</td>\n",
       "      <td>stakataka</td>\n",
       "      <td>False</td>\n",
       "      <td>570</td>\n",
       "    </tr>\n",
       "    <tr>\n",
       "      <th>805</th>\n",
       "      <td>806</td>\n",
       "      <td>blacephalon</td>\n",
       "      <td>False</td>\n",
       "      <td>570</td>\n",
       "    </tr>\n",
       "  </tbody>\n",
       "</table>\n",
       "<p>739 rows × 4 columns</p>\n",
       "</div>"
      ],
      "text/plain": [
       "      ID      Pokemon  Legendary  Stat Total\n",
       "0      1    bulbasaur      False         318\n",
       "1      2      ivysaur      False         405\n",
       "2      3     venusaur      False         525\n",
       "3      4   charmander      False         309\n",
       "..   ...          ...        ...         ...\n",
       "802  803      poipole      False         420\n",
       "803  804    naganadel      False         540\n",
       "804  805    stakataka      False         570\n",
       "805  806  blacephalon      False         570\n",
       "\n",
       "[739 rows x 4 columns]"
      ]
     },
     "execution_count": 41,
     "metadata": {},
     "output_type": "execute_result"
    }
   ],
   "source": [
    "df_nontotal = df_total[df_AD[\"Legendary\"] == False]\n",
    "df_nontotal"
   ]
  },
  {
   "cell_type": "markdown",
   "metadata": {},
   "source": [
    "Now with the data separated, let's visualize the distributions using histograms:"
   ]
  },
  {
   "cell_type": "code",
   "execution_count": 42,
   "metadata": {},
   "outputs": [
    {
     "data": {
      "image/png": "[encoded data removed]",
      "text/plain": [
       "<Figure size 432x288 with 1 Axes>"
      ]
     },
     "metadata": {},
     "output_type": "display_data"
    }
   ],
   "source": [
    "df_legtotal[\"Stat Total\"].hist(bins = 25)\n",
    "plt.xlabel(\"Stat Total\")\n",
    "plt.ylabel(\"Pokemon\")\n",
    "plt.title(\"Legendary Total Stat Distribution\", pad=(25))\n",
    "plt.show()"
   ]
  },
  {
   "cell_type": "markdown",
   "metadata": {},
   "source": [
    "In this first histogram, we plotted the distribution of Legendary Pokemon with respect to the total sum of all their core stats. Most notably, we observe that a large number of Legendary Pokemon have stat totals of around 600 and even a significant number around 700. Furthermore, we can observe that there is an outlier data point with a stat total of around 200. Altogether, the histogram shows that Legendary Pokemon have stat totals that skews to the right of the histogram, with notably high stats."
   ]
  },
  {
   "cell_type": "code",
   "execution_count": 43,
   "metadata": {},
   "outputs": [
    {
     "data": {
      "image/png": "[encoded data removed]",
      "text/plain": [
       "<Figure size 432x288 with 1 Axes>"
      ]
     },
     "metadata": {},
     "output_type": "display_data"
    }
   ],
   "source": [
    "df_nontotal[\"Stat Total\"].hist(bins = 25)\n",
    "plt.xlabel(\"Stat Total\")\n",
    "plt.ylabel(\"Pokemon\")\n",
    "plt.title(\"NonLegendary Total Stat Distribution\", pad=(25))\n",
    "plt.show()"
   ]
  },
  {
   "cell_type": "markdown",
   "metadata": {},
   "source": [
    "In this second histogram, we plotted the distribution of NonLegendary Pokemon with respect to the total sum of all their core stats. Here, we can observe that the distribution is not quite normal with its two peaks at roughly 300 and 500 and a fall-off on either end that do not have any extremeley explicit outliers. The distribution seems to be wide and does not skew in either direction in particular.\n",
    "\n",
    "Now let's see how they compare together on the same histogram:"
   ]
  },
  {
   "cell_type": "code",
   "execution_count": 44,
   "metadata": {},
   "outputs": [
    {
     "data": {
      "image/png": "[encoded data removed]",
      "text/plain": [
       "<Figure size 432x288 with 1 Axes>"
      ]
     },
     "metadata": {},
     "output_type": "display_data"
    }
   ],
   "source": [
    "a1 = df_nontotal[\"Stat Total\"].hist(bins = 25)\n",
    "b1 = df_legtotal[\"Stat Total\"].hist(bins = 25, ax = a1)\n",
    "plt.title(\"Total Stat Distribution\", pad=(25))\n",
    "plt.xlabel(\"Stat Total\")\n",
    "plt.ylabel(\"Pokemon\")\n",
    "plt.show()"
   ]
  },
  {
   "cell_type": "markdown",
   "metadata": {},
   "source": [
    "In this histogram, the two categories of Pokemon are plotted together with blue representing the NonLegendary Pokemon and orange representing the Legendary Pokemon. In this histogram, the data just barely overlaps and we chose to have the Legendary population at the front because it has a smaller population and infringes less in the overlap. Here we see that the vast majority of the Legendary Pokemon distribution is significantly right skewed are almost completely to the right of the NonLegendary Pokemon distribution.\n",
    "\n",
    "To further examine the magnitude of their difference let's get their averages amost the entire population and visualize the comparison:"
   ]
  },
  {
   "cell_type": "code",
   "execution_count": 45,
   "metadata": {},
   "outputs": [
    {
     "name": "stdout",
     "output_type": "stream",
     "text": [
      "405.32205683355886\n",
      "601.9705882352941\n"
     ]
    }
   ],
   "source": [
    "numNon = len(df_nontotal[\"Stat Total\"])\n",
    "numLeg = len(df_legtotal[\"Stat Total\"])\n",
    "sumNon = df_nontotal.sum(axis = 0)[3]\n",
    "sumLeg = df_legtotal.sum(axis = 0)[3]\n",
    "avgNon = sumNon / numNon\n",
    "avgLeg = sumLeg / numLeg\n",
    "print(avgNon)\n",
    "print(avgLeg)"
   ]
  },
  {
   "cell_type": "code",
   "execution_count": 46,
   "metadata": {},
   "outputs": [
    {
     "name": "stdout",
     "output_type": "stream",
     "text": [
      "202.68606224627877\n",
      "202.6359945872801\n",
      "306.1470588235294\n",
      "295.8235294117647\n"
     ]
    }
   ],
   "source": [
    "sumNonA = df_LegsDontEnd.sum(axis = 0)[3]\n",
    "sumNonD = df_LegsDontEnd.sum(axis = 0)[4]\n",
    "sumLegA = df_LegsEnd.sum(axis = 0)[3]\n",
    "sumLegD = df_LegsEnd.sum(axis = 0)[4]\n",
    "avgNonA = sumNonA / numNon\n",
    "avgNonD = sumNonD / numNon\n",
    "avgLegA = sumLegA / numLeg\n",
    "avgLegD = sumLegD / numLeg\n",
    "\n",
    "print(avgNonA)\n",
    "print(avgNonD)\n",
    "print(avgLegA)\n",
    "print(avgLegD)"
   ]
  },
  {
   "cell_type": "code",
   "execution_count": 47,
   "metadata": {},
   "outputs": [
    {
     "data": {
      "image/png": "[encoded data removed]",
      "text/plain": [
       "<Figure size 432x288 with 1 Axes>"
      ]
     },
     "metadata": {},
     "output_type": "display_data"
    }
   ],
   "source": [
    "df = pd.DataFrame({'stats':['NonLegendary', 'Legendary'], 'val':[avgNon, avgLeg]})\n",
    "ax = df.plot.bar(x='stats', y='val', rot=0)\n",
    "plt.title(\"Legendary vs NonLegendary Total Stats\", pad=(25))\n",
    "plt.show()"
   ]
  },
  {
   "cell_type": "markdown",
   "metadata": {},
   "source": [
    "We've calculated the average NonLegendary stat total to be 405 and the average Legendary stat total to be 602. For their offsensive and defensive breakdowns we have 203 and 203, and 306 and 296 respectively. As shown in the bar graph, Legendary Pokemon are found to have approximately 50% greater stats than NonLegendary Pokemon, truly earning them a \"legendary\" status.\n",
    "\n",
    "Now with their average offensive and defensive stats, let's revisit the scatterplot and add in points to show where their averages lie:"
   ]
  },
  {
   "cell_type": "code",
   "execution_count": 48,
   "metadata": {},
   "outputs": [
    {
     "data": {
      "image/png": "[encoded data removed]",
      "text/plain": [
       "<Figure size 432x288 with 1 Axes>"
      ]
     },
     "metadata": {},
     "output_type": "display_data"
    }
   ],
   "source": [
    "df_avgLeg = pd.DataFrame({\"ID\":[\"999\"], \"Pokemon\":[\"Average Legendary\"], \"Legendary\":[\"True\"], \"ATK Sum\":[avgLegA], \"DEF Sum\":[avgLegD]})\n",
    "df_avgNon = pd.DataFrame({\"ID\":[\"999\"], \"Pokemon\":[\"Average NonLegendary\"], \"Legendary\":[\"False\"], \"ATK Sum\":[avgNonA], \"DEF Sum\":[avgNonD]})\n",
    "\n",
    "aaa = df_LegsDontEnd.plot.scatter(x=\"ATK Sum\", y=\"DEF Sum\", c=\"b\")\n",
    "bbb = df_LegsEnd.plot.scatter(x=\"ATK Sum\", y=\"DEF Sum\", c=\"orange\", ax = aaa)\n",
    "ccc = df_avgNon.plot.scatter(x=\"ATK Sum\", y=\"DEF Sum\", c=\"cyan\", s=140, ax = aaa)\n",
    "ddd = df_avgLeg.plot.scatter(x=\"ATK Sum\", y=\"DEF Sum\", c=\"maroon\", s=140, ax = aaa)\n",
    "plt.title(\"Offensive vs. Defensive Stat Distribution With Average\", pad=(25))\n",
    "plt.show()"
   ]
  },
  {
   "cell_type": "markdown",
   "metadata": {},
   "source": [
    "After adding a big cyan data point to represent the average NonLegendary Pokemon and a big maroon data point to represent the average Legendary Pokemon, we can easily see how Legendary Pokemon tend to be roughly 50% further from the origin (0,0) point in the scatterplot.\n",
    "\n",
    "\n",
    "With such a well-defined difference in stats in favor of Legendary Pokemon, it's no surprise they are referred to as such and tend to be more limited and significant."
   ]
  },
  {
   "cell_type": "markdown",
   "metadata": {},
   "source": [
    "# Conclusion\n",
    "\n",
    "Usage-wise, legendary Pokémon are significantly more popular than other non-legendary Pokémon, despite being outnumbered in count. Overall, legendary Pokémon usage is significantly higher compared to the non-legendary counterparts, despite the fact that non-legendary Pokémon outnumber them in count. This can be seen due to their increased base stats that we analyzed next.\n",
    "\n",
    "A limitation of our usage analysis is that the only data we have readily available to us is the usage data of Pokémon used in online battles against other players. The Pokémon franchise spans multiple mediums: anime, movies, manga, video games, card games, and more. Gauging the popularity of the 800+ Pokémon species across the millions of fans of the various mediums would be a huge task that would involve a lengthy data collection process that would be beyond the scope of this project. Analyzing only the competitive usage allows us to compare popularity with the objective statistics of legendary and non-legendary Pokémon.\n",
    "\n",
    "In terms of height and weight, the average legendary Pokémon stands 2.1 metres tall and weighs 171.7 kilograms, while the average non-legendary Pokémon stands 1.1 metres tall and weighs 51.7 kilograms. We can conclude that the average legendary Pokémon is likely to be about 2 times taller and at least 3 times heavier than the average non-legendary Pokémon.\n",
    "\n",
    "Typingwise, we see that while legendary Pokémon do appear often in the most populated typing, there are some significant outliers (Psychic and Poison). An interesting tidbit is that Psychic Pokémon were extremely strong in the early generations, only to grow progressively weaker as typing with strong matchups were released; Psychic still maintains a subjectively strong moveset however. Dragon is also weighted highly, being only weak to Ice and other Dragon types, and deals at least full damage to all types except Steel (and the newly released Fairy type). This lead us to believe that the developers tried to make legendary Pokémon relatively strong or above average versus the majority of Pokémon, and improve their image of being “legendary”. \n",
    "\n",
    "As we predicted, legendary Pokémon have higher average attack and defense stats than non-legendary Pokémon. Looking at the Pokémon’s total stats, an amalgamation of all 6 of their stat distributions, we can see that legendary Pokémon are, on average, 50% stronger than non-legendary Pokémon. Another interesting observation is that across both non-legendary and legendary Pokémon, the total attack and defense are about equal. This indicates that both Pokémon categories are fairly evenly distributed among those that specialize in attack and those in defense. We are unsure if this is an intentional design choice by the creators, but it is an interesting result nonetheless. "
   ]
  }
 ],
 "metadata": {
  "colab": {
   "collapsed_sections": [],
   "name": "FinalProject.ipynb",
   "provenance": [],
   "version": "0.3.2"
  },
  "kernelspec": {
   "display_name": "Python 3",
   "language": "python",
   "name": "python3"
  },
  "language_info": {
   "codemirror_mode": {
    "name": "ipython",
    "version": 3
   },
   "file_extension": ".py",
   "mimetype": "text/x-python",
   "name": "python",
   "nbconvert_exporter": "python",
   "pygments_lexer": "ipython3",
   "version": "3.7.2"
  }
 },
 "nbformat": 4,
 "nbformat_minor": 1
}
